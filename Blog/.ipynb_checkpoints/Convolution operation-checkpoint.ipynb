{
 "cells": [
  {
   "cell_type": "code",
   "execution_count": null,
   "id": "340d515d",
   "metadata": {},
   "outputs": [],
   "source": []
  },
  {
   "cell_type": "code",
   "execution_count": null,
   "id": "89cc7346",
   "metadata": {},
   "outputs": [],
   "source": []
  },
  {
   "cell_type": "code",
   "execution_count": null,
   "id": "95454443",
   "metadata": {},
   "outputs": [],
   "source": []
  },
  {
   "cell_type": "code",
   "execution_count": null,
   "id": "cd8b5052",
   "metadata": {},
   "outputs": [],
   "source": []
  },
  {
   "cell_type": "code",
   "execution_count": 309,
   "id": "1fcc4e08",
   "metadata": {},
   "outputs": [
    {
     "data": {
      "text/plain": [
       "array([0, 0, 0, 0, 0, 0, 0, 0, 0, 0, 0, 0, 0, 0, 0, 0, 0, 0])"
      ]
     },
     "execution_count": 309,
     "metadata": {},
     "output_type": "execute_result"
    }
   ],
   "source": [
    "x[-1,:]"
   ]
  },
  {
   "cell_type": "code",
   "execution_count": null,
   "id": "2ed747df",
   "metadata": {},
   "outputs": [],
   "source": []
  },
  {
   "cell_type": "code",
   "execution_count": null,
   "id": "4635bbba",
   "metadata": {},
   "outputs": [],
   "source": []
  },
  {
   "cell_type": "code",
   "execution_count": 321,
   "id": "b30e973d",
   "metadata": {},
   "outputs": [
    {
     "data": {
      "text/plain": [
       "array([[1, 0, 1],\n",
       "       [1, 1, 1],\n",
       "       [1, 0, 1],\n",
       "       [1, 1, 1]])"
      ]
     },
     "execution_count": 321,
     "metadata": {},
     "output_type": "execute_result"
    }
   ],
   "source": [
    "np.tile([[1,0,1],[1,1,1]],(2,1))"
   ]
  },
  {
   "cell_type": "code",
   "execution_count": 483,
   "id": "2d683900",
   "metadata": {},
   "outputs": [
    {
     "name": "stdout",
     "output_type": "stream",
     "text": [
      "3 7\n"
     ]
    },
    {
     "data": {
      "image/png": "[encoded data removed]",
      "text/plain": [
       "<Figure size 432x288 with 1 Axes>"
      ]
     },
     "metadata": {
      "needs_background": "light"
     },
     "output_type": "display_data"
    }
   ],
   "source": [
    "import random\n",
    "import numpy as np\n",
    "import matplotlib.pyplot as plt\n",
    "\n",
    "def generate_random_lattice(gaps=0.1):\n",
    "    \n",
    "    #Generate random tile pattern\n",
    "    n,m = random.randrange(3,9,2), random.randrange(3,9,2)\n",
    "    tile = np.zeros((n,m)).astype(int)\n",
    "    tile[::tile.shape[0]-1, ::tile.shape[1]-1] = 1  #update corners\n",
    "    tile[tile.shape[0]//2, tile.shape[1]//2] = 1    #update center\n",
    "    tile = tile[:-1, :-1]                          #remove bottom edge\n",
    "    \n",
    "    print(n,m)\n",
    "    \n",
    "    #Create pure lattice\n",
    "    x,y = np.random.randint(4,10), np.random.randint(4,10)\n",
    "    lattice = np.tile(tile, (x,y))\n",
    "    \n",
    "    #Add impurities / gaps\n",
    "    ones_shape = lattice[lattice.nonzero()].shape\n",
    "    lattice[lattice.nonzero()] = np.random.binomial(n=1, p=1-gaps, size=ones_shape)\n",
    "    \n",
    "    #Fix edges\n",
    "    lattice = lattice[:-n+2,:-m+2]\n",
    "    \n",
    "    #Plot lattice\n",
    "    plt.imshow(lattice)\n",
    "    return lattice\n",
    "\n",
    "arr = generate_random_lattice()"
   ]
  },
  {
   "cell_type": "code",
   "execution_count": 563,
   "id": "6ea9a0be",
   "metadata": {},
   "outputs": [],
   "source": [
    "import numpy as np\n",
    "import matplotlib.pyplot as plt\n",
    "\n",
    "def find_gaps(x):\n",
    "    #Identifying the size and shape of the repeating pattern\n",
    "    xpattern = int(x.shape[0]//np.max(x.sum(axis=0))+2)\n",
    "    ypattern = int(x.shape[1]//np.max(x.sum(axis=1))+2)\n",
    "    pattern_shape = (xpattern, ypattern)\n",
    "    \n",
    "    print(x.shape)\n",
    "\n",
    "    #Calculating number of rolling windows that exist with that pattern\n",
    "    num_xpatterns = (x.shape[0]//pattern_shape[0])+1\n",
    "    num_ypatterns = (x.shape[1]//pattern_shape[1])+1\n",
    "    \n",
    "    #Calculating the stride and shape that needs to be taken with stride_tricks\n",
    "    shp = (num_xpatterns, num_ypatterns, xpattern, ypattern)\n",
    "    strd = (x.strides[0]*(xpattern-1), x.strides[1]*(ypattern-1), x.strides[0], x.strides[1])\n",
    "\n",
    "    #Generating rolling windows/convolutions over the image to separate the patterns.\n",
    "    convolve_pattern = np.lib.stride_tricks.as_strided(x, shape=shp, strides=strd)\n",
    "\n",
    "    print(convolve_pattern.shape)\n",
    "    \n",
    "    #Assuming at least 1 untouched pattern exists, finding that pure pattern\n",
    "    pattern_sums = convolve_pattern.sum(axis=(-1,-2))\n",
    "    idx = np.unravel_index(np.argmax(pattern_sums), pattern_sums.shape)\n",
    "    truth_pattern = convolve_pattern[idx]\n",
    "    \n",
    "    print(truth_pattern)\n",
    "    \n",
    "    #Identifying the gaps by subtracting the convolved image with the truth pattern\n",
    "    gaps = convolve_pattern - truth_pattern[None, None, :, :]\n",
    "\n",
    "    #Setting the gaps as -1 directly into the location of memory of the original image\n",
    "    for i in np.argwhere(gaps==-1):\n",
    "        convolve_pattern[tuple(i)]=-1\n",
    "    \n",
    "    plt.imshow(x)\n",
    "    \n",
    "    return x"
   ]
  },
  {
   "cell_type": "code",
   "execution_count": 564,
   "id": "1829d81e",
   "metadata": {},
   "outputs": [
    {
     "name": "stdout",
     "output_type": "stream",
     "text": [
      "5 7\n"
     ]
    },
    {
     "data": {
      "image/png": "[encoded data removed]",
      "text/plain": [
       "<Figure size 432x288 with 1 Axes>"
      ]
     },
     "metadata": {
      "needs_background": "light"
     },
     "output_type": "display_data"
    }
   ],
   "source": [
    "x = generate_random_lattice()"
   ]
  },
  {
   "cell_type": "code",
   "execution_count": 565,
   "id": "a3906e2d",
   "metadata": {},
   "outputs": [
    {
     "name": "stdout",
     "output_type": "stream",
     "text": [
      "(33, 19)\n",
      "(7, 4, 5, 6)\n",
      "[[1 0 0 0 0 0]\n",
      " [0 0 0 0 0 0]\n",
      " [0 0 0 1 0 0]\n",
      " [0 0 0 0 0 0]\n",
      " [1 0 0 0 0 0]]\n"
     ]
    },
    {
     "data": {
      "image/png": "[encoded data removed]",
      "text/plain": [
       "<Figure size 432x288 with 1 Axes>"
      ]
     },
     "metadata": {
      "needs_background": "light"
     },
     "output_type": "display_data"
    }
   ],
   "source": [
    "o = find_gaps(x)"
   ]
  },
  {
   "cell_type": "code",
   "execution_count": 547,
   "id": "82fa91a2",
   "metadata": {},
   "outputs": [
    {
     "name": "stdout",
     "output_type": "stream",
     "text": [
      "(3, 7)\n",
      "5 5\n"
     ]
    }
   ],
   "source": [
    "#Identifying the size and shape of the repeating pattern\n",
    "xpattern = int(x.shape[0]//np.max(x.sum(axis=0))+2)\n",
    "ypattern = int(x.shape[1]//np.max(x.sum(axis=1))+2)\n",
    "pattern_shape = (xpattern, ypattern)\n",
    "print(pattern_shape)\n",
    "\n",
    "#Calculating number of rolling windows that exist with that pattern\n",
    "num_xpatterns = (x.shape[0]//pattern_shape[0])+1\n",
    "num_ypatterns = (x.shape[1]//pattern_shape[1])+1\n",
    "\n",
    "print(num_xpatterns, num_ypatterns)"
   ]
  },
  {
   "cell_type": "code",
   "execution_count": 548,
   "id": "94de6df5",
   "metadata": {},
   "outputs": [
    {
     "data": {
      "text/plain": [
       "(5, 5, 3, 7)"
      ]
     },
     "execution_count": 548,
     "metadata": {},
     "output_type": "execute_result"
    }
   ],
   "source": [
    "#Calculating the stride and shape that needs to be taken with stride_tricks\n",
    "shp = (num_xpatterns, num_ypatterns, xpattern, ypattern)\n",
    "strd = (x.strides[0]*(xpattern-1), x.strides[1]*(ypattern-1), x.strides[0], x.strides[1])\n",
    "\n",
    "#Generating rolling windows/convolutions over the image to separate the patterns.\n",
    "convolve_pattern = np.lib.stride_tricks.as_strided(x, shape=shp, strides=strd)\n",
    "\n",
    "convolve_pattern.shape"
   ]
  },
  {
   "cell_type": "code",
   "execution_count": 549,
   "id": "9b9b9cf9",
   "metadata": {},
   "outputs": [
    {
     "data": {
      "text/plain": [
       "array([[4, 5, 5, 5, 5],\n",
       "       [4, 4, 5, 4, 5],\n",
       "       [4, 4, 5, 5, 5],\n",
       "       [5, 5, 5, 4, 5],\n",
       "       [5, 5, 5, 5, 5]])"
      ]
     },
     "execution_count": 549,
     "metadata": {},
     "output_type": "execute_result"
    }
   ],
   "source": [
    "convolve_pattern.sum((-1,-2))"
   ]
  },
  {
   "cell_type": "code",
   "execution_count": null,
   "id": "6665d92b",
   "metadata": {},
   "outputs": [],
   "source": []
  },
  {
   "cell_type": "code",
   "execution_count": null,
   "id": "1087f6fb",
   "metadata": {},
   "outputs": [],
   "source": []
  },
  {
   "cell_type": "code",
   "execution_count": null,
   "id": "9630b923",
   "metadata": {},
   "outputs": [],
   "source": []
  },
  {
   "cell_type": "code",
   "execution_count": null,
   "id": "6f55ea17",
   "metadata": {},
   "outputs": [],
   "source": []
  },
  {
   "cell_type": "code",
   "execution_count": 550,
   "id": "1e213fcd",
   "metadata": {},
   "outputs": [
    {
     "data": {
      "text/plain": [
       "array([[1, 0, 0, 0, 0, 0, 1],\n",
       "       [0, 0, 0, 1, 0, 0, 0],\n",
       "       [1, 0, 0, 0, 0, 0, 1]])"
      ]
     },
     "execution_count": 550,
     "metadata": {},
     "output_type": "execute_result"
    }
   ],
   "source": [
    "#Assuming at least 1 untouched pattern exists, finding that pure pattern\n",
    "pattern_sums = convolve_pattern.sum(axis=(-1,-2))\n",
    "idx = np.unravel_index(np.argmax(pattern_sums), pattern_sums.shape)\n",
    "truth_pattern = convolve_pattern[idx]\n",
    "truth_pattern"
   ]
  },
  {
   "cell_type": "code",
   "execution_count": 551,
   "id": "09df3418",
   "metadata": {},
   "outputs": [],
   "source": [
    "#Identifying the gaps by subtracting the convolved image with the truth pattern\n",
    "gaps = convolve_pattern - truth_pattern[None, None, :, :]\n",
    "\n",
    "#Setting the gaps as -1 directly into the location of memory of the original image\n",
    "for i in np.argwhere(gaps==-1):\n",
    "    convolve_pattern[tuple(i)]=-1"
   ]
  },
  {
   "cell_type": "code",
   "execution_count": 552,
   "id": "dc287c13",
   "metadata": {},
   "outputs": [
    {
     "data": {
      "text/plain": [
       "<matplotlib.image.AxesImage at 0x17acbafa0>"
      ]
     },
     "execution_count": 552,
     "metadata": {},
     "output_type": "execute_result"
    },
    {
     "data": {
      "image/png": "[encoded data removed]",
      "text/plain": [
       "<Figure size 432x288 with 1 Axes>"
      ]
     },
     "metadata": {
      "needs_background": "light"
     },
     "output_type": "display_data"
    }
   ],
   "source": [
    "plt.imshow(x)"
   ]
  },
  {
   "cell_type": "code",
   "execution_count": null,
   "id": "df4f082c",
   "metadata": {},
   "outputs": [],
   "source": []
  },
  {
   "cell_type": "code",
   "execution_count": null,
   "id": "6bbc1a44",
   "metadata": {},
   "outputs": [],
   "source": []
  },
  {
   "cell_type": "code",
   "execution_count": null,
   "id": "0515bc32",
   "metadata": {},
   "outputs": [],
   "source": []
  },
  {
   "cell_type": "code",
   "execution_count": null,
   "id": "8150d344",
   "metadata": {},
   "outputs": [],
   "source": []
  },
  {
   "cell_type": "code",
   "execution_count": null,
   "id": "e8a44ea2",
   "metadata": {},
   "outputs": [],
   "source": []
  },
  {
   "cell_type": "code",
   "execution_count": null,
   "id": "c97c9f8c",
   "metadata": {},
   "outputs": [],
   "source": []
  },
  {
   "cell_type": "code",
   "execution_count": 2,
   "id": "635cf611",
   "metadata": {},
   "outputs": [],
   "source": [
    "example1 = np.array([[1., 0., 0., 0., 1., 0., 0., 0., 0.],  #One gap here\n",
    "                     [0., 0., 1., 0., 0., 0., 1., 0., 0.],\n",
    "                     [1., 0., 0., 0., 1., 0., 0., 0., 1.],\n",
    "                     [0., 0., 1., 0., 0., 0., 0., 0., 0.],  #One gap here\n",
    "                     [1., 0., 0., 0., 1., 0., 0., 0., 1.]])\n",
    "\n",
    "example2 = np.array([[1., 0., 0., 0., 1., 0., 0., 0., 1., 0., 0., 0., 1., 0., 0., 0., 1.],\n",
    "                     [0., 0., 0., 0., 0., 0., 0., 0., 0., 0., 0., 0., 0., 0., 0., 0., 0.],\n",
    "                     [0., 0., 1., 0., 0., 0., 1., 0., 0., 0., 1., 0., 0., 0., 0., 0., 0.],  #One gap here\n",
    "                     [0., 0., 0., 0., 0., 0., 0., 0., 0., 0., 0., 0., 0., 0., 0., 0., 0.],\n",
    "                     [1., 0., 0., 0., 1., 0., 0., 0., 1., 0., 0., 0., 1., 0., 0., 0., 1.],\n",
    "                     [0., 0., 0., 0., 0., 0., 0., 0., 0., 0., 0., 0., 0., 0., 0., 0., 0.],\n",
    "                     [0., 0., 1., 0., 0., 0., 1., 0., 0., 0., 0., 0., 0., 0., 1., 0., 0.],  #One gap here\n",
    "                     [0., 0., 0., 0., 0., 0., 0., 0., 0., 0., 0., 0., 0., 0., 0., 0., 0.],\n",
    "                     [1., 0., 0., 0., 1., 0., 0., 0., 1., 0., 0., 0., 1., 0., 0., 0., 1.],\n",
    "                     [0., 0., 0., 0., 0., 0., 0., 0., 0., 0., 0., 0., 0., 0., 0., 0., 0.],\n",
    "                     [0., 0., 1., 0., 0., 0., 1., 0., 0., 0., 1., 0., 0., 0., 1., 0., 0.],\n",
    "                     [0., 0., 0., 0., 0., 0., 0., 0., 0., 0., 0., 0., 0., 0., 0., 0., 0.],\n",
    "                     [1., 0., 0., 0., 1., 0., 0., 0., 0., 0., 0., 0., 1., 0., 0., 0., 0.]]) #Two gaps here"
   ]
  },
  {
   "cell_type": "code",
   "execution_count": 20,
   "id": "b6d9677e",
   "metadata": {},
   "outputs": [],
   "source": []
  },
  {
   "cell_type": "code",
   "execution_count": 26,
   "id": "086dd156",
   "metadata": {},
   "outputs": [],
   "source": [
    "import numpy as np\n",
    "\n",
    "ex1 = np.array([[1, 0, 0, 0, 1, 0, 0, 0, 0], #one gap here \n",
    "                [0, 0, 1, 0, 0, 0, 1, 0, 0],\n",
    "                [1, 0, 0, 0, 1, 0, 0, 0, 1],\n",
    "                [0, 0, 1, 0, 0, 0, 0, 0, 0], #one gap here\n",
    "                [1, 0, 0, 0, 1, 0, 0, 0, 1]])"
   ]
  },
  {
   "cell_type": "code",
   "execution_count": 27,
   "id": "ce53e34a",
   "metadata": {},
   "outputs": [
    {
     "data": {
      "text/plain": [
       "array([[1, 0, 0, 0, 1, 0, 0, 0, 0],\n",
       "       [0, 0, 1, 0, 0, 0, 1, 0, 0],\n",
       "       [1, 0, 0, 0, 1, 0, 0, 0, 1],\n",
       "       [0, 0, 1, 0, 0, 0, 0, 0, 0],\n",
       "       [1, 0, 0, 0, 1, 0, 0, 0, 1]])"
      ]
     },
     "execution_count": 27,
     "metadata": {},
     "output_type": "execute_result"
    }
   ],
   "source": [
    "ex1"
   ]
  },
  {
   "cell_type": "code",
   "execution_count": 217,
   "id": "d81dc52d",
   "metadata": {},
   "outputs": [
    {
     "data": {
      "image/png": "[encoded data removed]",
      "text/plain": [
       "<Figure size 432x288 with 1 Axes>"
      ]
     },
     "metadata": {
      "needs_background": "light"
     },
     "output_type": "display_data"
    }
   ],
   "source": []
  },
  {
   "cell_type": "code",
   "execution_count": 23,
   "id": "649263c7",
   "metadata": {},
   "outputs": [],
   "source": [
    "example1 = np.array([[1., 0., 0., 0., 1., 0., 0., 0., 0.],  #One gap here\n",
    "                     [0., 0., 1., 0., 0., 0., 1., 0., 0.],\n",
    "                     [1., 0., 0., 0., 1., 0., 0., 0., 1.],\n",
    "                     [0., 0., 1., 0., 0., 0., 0., 0., 0.],  #One gap here\n",
    "                     [1., 0., 0., 0., 1., 0., 0., 0., 1.]])\n",
    "\n",
    "example2 = np.array([[1., 0., 0., 0., 1., 0., 0., 0., 1., 0., 0., 0., 1., 0., 0., 0., 1.],\n",
    "                     [0., 0., 0., 0., 0., 0., 0., 0., 0., 0., 0., 0., 0., 0., 0., 0., 0.],\n",
    "                     [0., 0., 1., 0., 0., 0., 1., 0., 0., 0., 1., 0., 0., 0., 0., 0., 0.],  #One gap here\n",
    "                     [0., 0., 0., 0., 0., 0., 0., 0., 0., 0., 0., 0., 0., 0., 0., 0., 0.],\n",
    "                     [1., 0., 0., 0., 1., 0., 0., 0., 1., 0., 0., 0., 1., 0., 0., 0., 1.],\n",
    "                     [0., 0., 0., 0., 0., 0., 0., 0., 0., 0., 0., 0., 0., 0., 0., 0., 0.],\n",
    "                     [0., 0., 1., 0., 0., 0., 1., 0., 0., 0., 0., 0., 0., 0., 1., 0., 0.],  #One gap here\n",
    "                     [0., 0., 0., 0., 0., 0., 0., 0., 0., 0., 0., 0., 0., 0., 0., 0., 0.],\n",
    "                     [1., 0., 0., 0., 1., 0., 0., 0., 1., 0., 0., 0., 1., 0., 0., 0., 1.],\n",
    "                     [0., 0., 0., 0., 0., 0., 0., 0., 0., 0., 0., 0., 0., 0., 0., 0., 0.],\n",
    "                     [0., 0., 1., 0., 0., 0., 1., 0., 0., 0., 1., 0., 0., 0., 1., 0., 0.],\n",
    "                     [0., 0., 0., 0., 0., 0., 0., 0., 0., 0., 0., 0., 0., 0., 0., 0., 0.],\n",
    "                     [1., 0., 0., 0., 1., 0., 0., 0., 0., 0., 0., 0., 1., 0., 0., 0., 0.]]) #Two gaps here"
   ]
  },
  {
   "cell_type": "code",
   "execution_count": null,
   "id": "210bc522",
   "metadata": {},
   "outputs": [],
   "source": []
  },
  {
   "cell_type": "code",
   "execution_count": null,
   "id": "38bd5aec",
   "metadata": {},
   "outputs": [],
   "source": []
  },
  {
   "cell_type": "code",
   "execution_count": null,
   "id": "47dd38af",
   "metadata": {},
   "outputs": [],
   "source": []
  },
  {
   "cell_type": "code",
   "execution_count": null,
   "id": "0ba7c97d",
   "metadata": {},
   "outputs": [],
   "source": []
  },
  {
   "cell_type": "code",
   "execution_count": null,
   "id": "e9c7d13d",
   "metadata": {},
   "outputs": [],
   "source": []
  },
  {
   "cell_type": "code",
   "execution_count": null,
   "id": "7ecd4e52",
   "metadata": {},
   "outputs": [],
   "source": []
  },
  {
   "cell_type": "code",
   "execution_count": null,
   "id": "27ba0186",
   "metadata": {},
   "outputs": [],
   "source": []
  },
  {
   "cell_type": "code",
   "execution_count": 21,
   "id": "00943f38",
   "metadata": {},
   "outputs": [],
   "source": [
    "import seaborn as sns\n",
    "import matplotlib.pyplot as plt\n",
    "\n"
   ]
  },
  {
   "cell_type": "code",
   "execution_count": 22,
   "id": "0d8c0d3c",
   "metadata": {},
   "outputs": [
    {
     "data": {
      "image/png": "[encoded data removed]",
      "text/plain": [
       "<Figure size 432x288 with 2 Axes>"
      ]
     },
     "metadata": {
      "needs_background": "light"
     },
     "output_type": "display_data"
    }
   ],
   "source": [
    "fig = plt.figure()\n",
    "ax = fig.add_subplot(111)\n",
    "\n",
    "_ = sns.heatmap(img, cmap='gray', vmin=-1, vmax=2)"
   ]
  },
  {
   "cell_type": "code",
   "execution_count": null,
   "id": "8263f72c",
   "metadata": {},
   "outputs": [],
   "source": []
  }
 ],
 "metadata": {
  "kernelspec": {
   "display_name": "Python 3.9",
   "language": "python",
   "name": "python3"
  },
  "language_info": {
   "codemirror_mode": {
    "name": "ipython",
    "version": 3
   },
   "file_extension": ".py",
   "mimetype": "text/x-python",
   "name": "python",
   "nbconvert_exporter": "python",
   "pygments_lexer": "ipython3",
   "version": "3.9.7"
  },
  "varInspector": {
   "cols": {
    "lenName": 16,
    "lenType": 16,
    "lenVar": 40
   },
   "kernels_config": {
    "python": {
     "delete_cmd_postfix": "",
     "delete_cmd_prefix": "del ",
     "library": "var_list.py",
     "varRefreshCmd": "print(var_dic_list())"
    },
    "r": {
     "delete_cmd_postfix": ") ",
     "delete_cmd_prefix": "rm(",
     "library": "var_list.r",
     "varRefreshCmd": "cat(var_dic_list()) "
    }
   },
   "types_to_exclude": [
    "module",
    "function",
    "builtin_function_or_method",
    "instance",
    "_Feature"
   ],
   "window_display": false
  }
 },
 "nbformat": 4,
 "nbformat_minor": 5
}
