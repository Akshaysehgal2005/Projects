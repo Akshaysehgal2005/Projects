{
 "cells": [
  {
   "cell_type": "markdown",
   "id": "cc998203",
   "metadata": {},
   "source": [
    "# Infinite Sequences"
   ]
  },
  {
   "cell_type": "markdown",
   "id": "ded03197",
   "metadata": {},
   "source": [
    "Let's say you need to continously generate a bunch of information and send it as a signal to another system, or you need to perform a harmonic analysis for your project, \"Infinite Sequences\" are not alien to the world of Data Science.\n",
    "\n",
    "Infact infinite sequences are natural to the programming langage Haskell (here is a [great video from Computerphile](https://www.youtube.com/watch?v=bnRNiE_OVWA&ab_channel=Computerphile) channel demonstrating thatin ) but did you know that you can work with infinite sequences quite efficiently in Python as well? Infact itertools has some very interesting out-of-the-box methods called \"infinite iterators\" for you to work with infinite sequences. There are 3 infinite iterators you can work with - "
   ]
  },
  {
   "cell_type": "markdown",
   "id": "050e36f9",
   "metadata": {},
   "source": [
    "Let's start with a simple example - \"Generate the prime factors for every multiple of 5 greater than 100\""
   ]
  },
  {
   "cell_type": "code",
   "execution_count": 57,
   "id": "779afb3c",
   "metadata": {},
   "outputs": [
    {
     "data": {
      "text/plain": [
       "[(100, [2, 5]),\n",
       " (105, [3, 5, 7]),\n",
       " (110, [2, 5, 11]),\n",
       " (115, [5, 23]),\n",
       " (120, [2, 3, 5]),\n",
       " (125, [5]),\n",
       " (130, [2, 5, 13]),\n",
       " (135, [3, 5]),\n",
       " (140, [2, 5, 7]),\n",
       " (145, [5, 29])]"
      ]
     },
     "execution_count": 57,
     "metadata": {},
     "output_type": "execute_result"
    }
   ],
   "source": [
    "#Infinite sequence of the prime factors for every multiple of 5 greater than 100\n",
    "\n",
    "from itertools import count, islice\n",
    "from sympy.ntheory import primefactors\n",
    "\n",
    "itr = count(start=100,step=5)      #<-- infinite sequence of integers\n",
    "f = lambda x: (x, primefactors(x)) #<-- fx for returning primefactors\n",
    "\n",
    "factors = map(f, itr)              #<-- infinite map of primefactors for given sequence\n",
    "\n",
    "list(islice(factors, 10))          #<-- get first 10 elements from this sequence"
   ]
  },
  {
   "cell_type": "markdown",
   "id": "c378de88",
   "metadata": {},
   "source": [
    "You can see the power of this. The map() + count() structure can get super complex super fast with more advanced operations and all of this, without defining a close set of inputs. Then during inference, you could use itertools.islice or just a simple for loop to infer them as per need with lazy execution.\n",
    "\n",
    "Here is another example of summing 2 infinite sequences."
   ]
  },
  {
   "cell_type": "code",
   "execution_count": 58,
   "id": "6b412391",
   "metadata": {},
   "outputs": [
    {
     "data": {
      "text/plain": [
       "[(10, 5, 15),\n",
       " (12, 8, 20),\n",
       " (14, 11, 25),\n",
       " (16, 14, 30),\n",
       " (18, 17, 35),\n",
       " (20, 20, 40),\n",
       " (22, 23, 45),\n",
       " (24, 26, 50),\n",
       " (26, 29, 55),\n",
       " (28, 32, 60)]"
      ]
     },
     "execution_count": 58,
     "metadata": {},
     "output_type": "execute_result"
    }
   ],
   "source": [
    "iter1 = count(10,2)\n",
    "iter2 = count(5,3)\n",
    "g = lambda x, y: (x,y,x+y)\n",
    "\n",
    "inf_sum = map(g, iter1, iter2)\n",
    "\n",
    "list(islice(inf_sum, 10))"
   ]
  },
  {
   "cell_type": "markdown",
   "id": "82401390",
   "metadata": {},
   "source": [
    "You have a few more options to build infinite sequences using itertools.cycle and itertools.repeat - "
   ]
  },
  {
   "cell_type": "code",
   "execution_count": 59,
   "id": "530412d5",
   "metadata": {},
   "outputs": [
    {
     "data": {
      "text/plain": [
       "['A', 'B', 'C', 'A', 'B', 'C', 'A', 'B', 'C', 'A']"
      ]
     },
     "execution_count": 59,
     "metadata": {},
     "output_type": "execute_result"
    }
   ],
   "source": [
    "from itertools import cycle\n",
    "\n",
    "iter3 = itertools.cycle(['A','B','C'])\n",
    "list(islice(iter3, 10))"
   ]
  },
  {
   "cell_type": "code",
   "execution_count": 60,
   "id": "f3e1e74f",
   "metadata": {},
   "outputs": [
    {
     "data": {
      "text/plain": [
       "['hello world', 'hello world', 'hello world', 'hello world', 'hello world']"
      ]
     },
     "execution_count": 60,
     "metadata": {},
     "output_type": "execute_result"
    }
   ],
   "source": [
    "from itertools import cycle, repeat\n",
    "\n",
    "iter4 = itertools.repeat('hello world') #<-- pass any object\n",
    "list(islice(iter4, 5))"
   ]
  },
  {
   "cell_type": "code",
   "execution_count": null,
   "id": "96de36ad",
   "metadata": {},
   "outputs": [],
   "source": []
  }
 ],
 "metadata": {
  "kernelspec": {
   "display_name": "Python 3.9",
   "language": "python",
   "name": "python3"
  },
  "language_info": {
   "codemirror_mode": {
    "name": "ipython",
    "version": 3
   },
   "file_extension": ".py",
   "mimetype": "text/x-python",
   "name": "python",
   "nbconvert_exporter": "python",
   "pygments_lexer": "ipython3",
   "version": "3.9.7"
  },
  "varInspector": {
   "cols": {
    "lenName": 16,
    "lenType": 16,
    "lenVar": 40
   },
   "kernels_config": {
    "python": {
     "delete_cmd_postfix": "",
     "delete_cmd_prefix": "del ",
     "library": "var_list.py",
     "varRefreshCmd": "print(var_dic_list())"
    },
    "r": {
     "delete_cmd_postfix": ") ",
     "delete_cmd_prefix": "rm(",
     "library": "var_list.r",
     "varRefreshCmd": "cat(var_dic_list()) "
    }
   },
   "types_to_exclude": [
    "module",
    "function",
    "builtin_function_or_method",
    "instance",
    "_Feature"
   ],
   "window_display": false
  }
 },
 "nbformat": 4,
 "nbformat_minor": 5
}
