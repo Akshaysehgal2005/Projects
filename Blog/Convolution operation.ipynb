{
 "cells": [
  {
   "cell_type": "markdown",
   "id": "3b46c006",
   "metadata": {},
   "source": [
    "# Finding \"Gaps\" in an imperfect 2D Lattice"
   ]
  },
  {
   "cell_type": "code",
   "execution_count": 840,
   "id": "18c89cca",
   "metadata": {},
   "outputs": [],
   "source": [
    "import numpy as np\n",
    "\n",
    "example1 = np.array([[1., 0., 0., 0., 1., 0., 0., 0., 0.],  #One gap here\n",
    "                     [0., 0., 1., 0., 0., 0., 1., 0., 0.],\n",
    "                     [1., 0., 0., 0., 1., 0., 0., 0., 1.],\n",
    "                     [0., 0., 1., 0., 0., 0., 0., 0., 0.],  #One gap here\n",
    "                     [1., 0., 0., 0., 1., 0., 0., 0., 1.]])\n",
    "\n",
    "example2 = np.array([[1., 0., 0., 0., 1., 0., 0., 0., 1., 0., 0., 0., 1., 0., 0., 0., 1.],\n",
    "                     [0., 0., 0., 0., 0., 0., 0., 0., 0., 0., 0., 0., 0., 0., 0., 0., 0.],\n",
    "                     [0., 0., 1., 0., 0., 0., 1., 0., 0., 0., 1., 0., 0., 0., 0., 0., 0.],  #One gap here\n",
    "                     [0., 0., 0., 0., 0., 0., 0., 0., 0., 0., 0., 0., 0., 0., 0., 0., 0.],\n",
    "                     [1., 0., 0., 0., 1., 0., 0., 0., 1., 0., 0., 0., 1., 0., 0., 0., 1.],\n",
    "                     [0., 0., 0., 0., 0., 0., 0., 0., 0., 0., 0., 0., 0., 0., 0., 0., 0.],\n",
    "                     [0., 0., 1., 0., 0., 0., 1., 0., 0., 0., 0., 0., 0., 0., 1., 0., 0.],  #One gap here\n",
    "                     [0., 0., 0., 0., 0., 0., 0., 0., 0., 0., 0., 0., 0., 0., 0., 0., 0.],\n",
    "                     [1., 0., 0., 0., 1., 0., 0., 0., 1., 0., 0., 0., 1., 0., 0., 0., 1.],\n",
    "                     [0., 0., 0., 0., 0., 0., 0., 0., 0., 0., 0., 0., 0., 0., 0., 0., 0.],\n",
    "                     [0., 0., 1., 0., 0., 0., 1., 0., 0., 0., 1., 0., 0., 0., 1., 0., 0.],\n",
    "                     [0., 0., 0., 0., 0., 0., 0., 0., 0., 0., 0., 0., 0., 0., 0., 0., 0.],\n",
    "                     [1., 0., 0., 0., 1., 0., 0., 0., 0., 0., 0., 0., 1., 0., 0., 0., 0.]]) #Two gaps here"
   ]
  },
  {
   "cell_type": "code",
   "execution_count": 568,
   "id": "eeebe9f7",
   "metadata": {},
   "outputs": [
    {
     "data": {
      "image/png": "[encoded data removed]",
      "text/plain": [
       "<Figure size 432x288 with 1 Axes>"
      ]
     },
     "metadata": {
      "needs_background": "light"
     },
     "output_type": "display_data"
    }
   ],
   "source": [
    "import random\n",
    "import numpy as np\n",
    "import matplotlib.pyplot as plt\n",
    "\n",
    "def generate_random_lattice(gaps=0.1):\n",
    "    \n",
    "    #Generate random tile pattern\n",
    "    n,m = random.randrange(3,9,2), random.randrange(3,9,2)\n",
    "    tile = np.zeros((n,m)).astype(int)\n",
    "    tile[::tile.shape[0]-1, ::tile.shape[1]-1] = 1  #update corners\n",
    "    tile[tile.shape[0]//2, tile.shape[1]//2] = 1    #update center\n",
    "    tile = tile[:-1, :-1]                           #remove bottom edge\n",
    "    \n",
    "    #Create pure lattice\n",
    "    x,y = np.random.randint(4,10), np.random.randint(4,10)\n",
    "    lattice = np.tile(tile, (x,y))\n",
    "    \n",
    "    #Add impurities / gaps\n",
    "    ones_shape = lattice[lattice.nonzero()].shape\n",
    "    lattice[lattice.nonzero()] = np.random.binomial(n=1, p=1-gaps, size=ones_shape)\n",
    "    \n",
    "    #Fix edges\n",
    "    lattice = lattice[:-n+2,:-m+2]\n",
    "    \n",
    "    #Plot lattice\n",
    "    plt.imshow(lattice)\n",
    "    return lattice\n",
    "\n",
    "arr = generate_random_lattice()"
   ]
  },
  {
   "cell_type": "code",
   "execution_count": 729,
   "id": "869e1eb7",
   "metadata": {},
   "outputs": [],
   "source": [
    "import numpy as np\n",
    "import matplotlib.pyplot as plt\n",
    "\n",
    "def find_gaps(x, verbose=False):\n",
    "    #Identifying the size and shape of the repeating pattern\n",
    "    xdims = np.unique((x.sum(1)!=0).cumsum(), return_counts=True)[1].max()*2+1\n",
    "    ydims = np.unique((x.sum(0)!=0).cumsum(), return_counts=True)[1].max()*2+1\n",
    "    pattern_shape = (xdims, ydims)\n",
    "\n",
    "    #Calculating number of rolling windows that exist with that pattern\n",
    "    num_xpatterns = int(x.shape[0]/(pattern_shape[0]-1))\n",
    "    num_ypatterns = int(x.shape[1]/(pattern_shape[1]-1))\n",
    "    \n",
    "    #Calculating the stride and shape that needs to be taken with stride_tricks\n",
    "    shp = (num_xpatterns, num_ypatterns, xdims, ydims)\n",
    "    strd = (x.strides[0]*(xdims-1), x.strides[1]*(ydims-1), x.strides[0], x.strides[1])\n",
    "\n",
    "    #Generating rolling windows/convolutions over the image to separate the patterns.\n",
    "    convolve_pattern = np.lib.stride_tricks.as_strided(x, shape=shp, strides=strd)\n",
    "\n",
    "    #Assuming at least 1 untouched pattern exists, finding that pure pattern\n",
    "    pattern_sums = convolve_pattern.sum(axis=(-1,-2))\n",
    "    idx = np.unravel_index(np.argmax(pattern_sums), pattern_sums.shape)\n",
    "    truth_pattern = convolve_pattern[idx]\n",
    "\n",
    "    #Printing Debugging info\n",
    "    if verbose==True:\n",
    "        print('x shape:',x.shape)\n",
    "        print('pattern shape:',pattern_shape)\n",
    "\n",
    "        print('convolved shape:',convolve_pattern.shape)\n",
    "\n",
    "        print('')\n",
    "        print('pattern sums')\n",
    "        print(pattern_sums)\n",
    "\n",
    "        print('')\n",
    "        print('true pattern')\n",
    "        print(truth_pattern)\n",
    "    \n",
    "    #Identifying the gaps by subtracting the convolved image with the truth pattern\n",
    "    gaps = convolve_pattern - truth_pattern[None, None, :, :]\n",
    "\n",
    "    #Setting the gaps as -1 directly into the location of memory of the original image\n",
    "    for i in np.argwhere(gaps==-1):\n",
    "        convolve_pattern[tuple(i)]=-1\n",
    "    \n",
    "    plt.imshow(x)\n",
    "    return x\n",
    "\n",
    "arr = generate_random_lattice()   #Generate lattice\n",
    "o = find_gaps(x, verbose=False)   #Find gaps in lattice"
   ]
  },
  {
   "cell_type": "code",
   "execution_count": 730,
   "id": "d8ef6efd",
   "metadata": {},
   "outputs": [
    {
     "data": {
      "image/png": "[encoded data removed]",
      "text/plain": [
       "<Figure size 432x288 with 1 Axes>"
      ]
     },
     "metadata": {
      "needs_background": "light"
     },
     "output_type": "display_data"
    }
   ],
   "source": [
    "x = generate_random_lattice()"
   ]
  },
  {
   "cell_type": "code",
   "execution_count": 731,
   "id": "f9b7b502",
   "metadata": {},
   "outputs": [
    {
     "data": {
      "image/png": "[encoded data removed]",
      "text/plain": [
       "<Figure size 432x288 with 1 Axes>"
      ]
     },
     "metadata": {
      "needs_background": "light"
     },
     "output_type": "display_data"
    }
   ],
   "source": [
    "o = find_gaps(x)"
   ]
  },
  {
   "cell_type": "markdown",
   "id": "8d2ef6b2",
   "metadata": {},
   "source": [
    "# Step by Step"
   ]
  },
  {
   "cell_type": "code",
   "execution_count": 828,
   "id": "7fa4c097",
   "metadata": {},
   "outputs": [
    {
     "data": {
      "text/plain": [
       "(17, 33)"
      ]
     },
     "execution_count": 828,
     "metadata": {},
     "output_type": "execute_result"
    },
    {
     "data": {
      "image/png": "[encoded data removed]",
      "text/plain": [
       "<Figure size 432x288 with 1 Axes>"
      ]
     },
     "metadata": {
      "needs_background": "light"
     },
     "output_type": "display_data"
    }
   ],
   "source": [
    "arr = generate_random_lattice()\n",
    "arr.shape"
   ]
  },
  {
   "cell_type": "code",
   "execution_count": 829,
   "id": "c953a0ec",
   "metadata": {},
   "outputs": [
    {
     "data": {
      "text/plain": [
       "(17, 33)"
      ]
     },
     "execution_count": 829,
     "metadata": {},
     "output_type": "execute_result"
    }
   ],
   "source": [
    "arr.shape"
   ]
  },
  {
   "cell_type": "code",
   "execution_count": 830,
   "id": "6a9eaa17",
   "metadata": {},
   "outputs": [
    {
     "name": "stdout",
     "output_type": "stream",
     "text": [
      "[8 0 7 0 9 0 8 0 8 0 8 0 6 0 8 0 9]\n",
      "[4 0 4 0 5 0 4 0 5 0 4 0 4 0 4 0 5 0 4 0 5 0 4 0 5 0 4 0 4 0 3 0 3]\n"
     ]
    }
   ],
   "source": [
    "print(arr.sum(1))\n",
    "print(arr.sum(0))"
   ]
  },
  {
   "cell_type": "code",
   "execution_count": 831,
   "id": "98e33dd8",
   "metadata": {},
   "outputs": [
    {
     "data": {
      "text/plain": [
       "(5, 5)"
      ]
     },
     "execution_count": 831,
     "metadata": {},
     "output_type": "execute_result"
    }
   ],
   "source": [
    "xdims = np.unique((arr.sum(1)!=0).cumsum(), return_counts=True)[1].max()*2+1\n",
    "ydims = np.unique((arr.sum(0)!=0).cumsum(), return_counts=True)[1].max()*2+1\n",
    "\n",
    "pattern_shape = (xdims, ydims)\n",
    "pattern_shape"
   ]
  },
  {
   "cell_type": "code",
   "execution_count": 832,
   "id": "a3200f59",
   "metadata": {},
   "outputs": [
    {
     "name": "stdout",
     "output_type": "stream",
     "text": [
      "(4, 8)\n"
     ]
    }
   ],
   "source": [
    "num_xpatterns = int(arr.shape[0]/(pattern_shape[0]-1))\n",
    "num_ypatterns = int(arr.shape[1]/(pattern_shape[1]-1))\n",
    "\n",
    "print((num_xpatterns, num_ypatterns))"
   ]
  },
  {
   "cell_type": "code",
   "execution_count": 833,
   "id": "f25f0f22",
   "metadata": {},
   "outputs": [
    {
     "data": {
      "text/plain": [
       "(4, 8, 5, 5)"
      ]
     },
     "execution_count": 833,
     "metadata": {},
     "output_type": "execute_result"
    }
   ],
   "source": [
    "#Calculating the stride and shape that needs to be taken with stride_tricks\n",
    "shp = (num_xpatterns, num_ypatterns, xdims, ydims)\n",
    "strd = (arr.strides[0]*(xdims-1), arr.strides[1]*(ydims-1), arr.strides[0], arr.strides[1])\n",
    "\n",
    "#Generating rolling windows/convolutions over the image to separate the patterns.\n",
    "convolve_pattern = np.lib.stride_tricks.as_strided(arr, shape=shp, strides=strd)\n",
    "convolve_pattern.shape"
   ]
  },
  {
   "cell_type": "code",
   "execution_count": 834,
   "id": "587fb1aa",
   "metadata": {},
   "outputs": [
    {
     "data": {
      "text/plain": [
       "array([[1, 0, 0, 0, 0],\n",
       "       [0, 0, 0, 0, 0],\n",
       "       [0, 0, 0, 0, 0],\n",
       "       [0, 0, 0, 0, 0],\n",
       "       [1, 0, 0, 0, 1]])"
      ]
     },
     "execution_count": 834,
     "metadata": {},
     "output_type": "execute_result"
    }
   ],
   "source": [
    "convolve_pattern[0,-1,:,:]"
   ]
  },
  {
   "cell_type": "code",
   "execution_count": 835,
   "id": "88f1a5b7",
   "metadata": {},
   "outputs": [
    {
     "data": {
      "text/plain": [
       "array([[5, 5, 5, 5, 5, 5, 5, 3],\n",
       "       [4, 5, 5, 5, 5, 5, 5, 5],\n",
       "       [4, 5, 4, 4, 5, 5, 4, 3],\n",
       "       [5, 5, 4, 4, 5, 5, 4, 3]])"
      ]
     },
     "execution_count": 835,
     "metadata": {},
     "output_type": "execute_result"
    }
   ],
   "source": [
    "pattern_sums = convolve_pattern.sum(axis=(-1,-2))\n",
    "pattern_sums"
   ]
  },
  {
   "cell_type": "code",
   "execution_count": 836,
   "id": "e49c4c33",
   "metadata": {},
   "outputs": [
    {
     "data": {
      "text/plain": [
       "array([[1, 0, 0, 0, 1],\n",
       "       [0, 0, 0, 0, 0],\n",
       "       [0, 0, 1, 0, 0],\n",
       "       [0, 0, 0, 0, 0],\n",
       "       [1, 0, 0, 0, 1]])"
      ]
     },
     "execution_count": 836,
     "metadata": {},
     "output_type": "execute_result"
    }
   ],
   "source": [
    "pattern_sums = convolve_pattern.sum(axis=(-1,-2))\n",
    "idx = np.unravel_index(np.argmax(pattern_sums), pattern_sums.shape)\n",
    "truth_pattern = convolve_pattern[idx]\n",
    "\n",
    "truth_pattern"
   ]
  },
  {
   "cell_type": "code",
   "execution_count": 837,
   "id": "856611d5",
   "metadata": {},
   "outputs": [
    {
     "data": {
      "text/plain": [
       "array([[ 0,  0,  0,  0, -1],\n",
       "       [ 0,  0,  0,  0,  0],\n",
       "       [ 0,  0, -1,  0,  0],\n",
       "       [ 0,  0,  0,  0,  0],\n",
       "       [ 0,  0,  0,  0,  0]])"
      ]
     },
     "execution_count": 837,
     "metadata": {},
     "output_type": "execute_result"
    }
   ],
   "source": [
    "gaps = convolve_pattern - truth_pattern[None, None, :, :]\n",
    "gaps[0,-1,:,:]"
   ]
  },
  {
   "cell_type": "code",
   "execution_count": 838,
   "id": "f20629ee",
   "metadata": {},
   "outputs": [],
   "source": [
    "#Setting the gaps as -1 directly into the location of memory of the original image\n",
    "for i in np.argwhere(gaps==-1):\n",
    "    convolve_pattern[tuple(i)]=-1"
   ]
  },
  {
   "cell_type": "code",
   "execution_count": 839,
   "id": "c4012f3c",
   "metadata": {},
   "outputs": [
    {
     "data": {
      "text/plain": [
       "<matplotlib.image.AxesImage at 0x17d506f10>"
      ]
     },
     "execution_count": 839,
     "metadata": {},
     "output_type": "execute_result"
    },
    {
     "data": {
      "image/png": "[encoded data removed]",
      "text/plain": [
       "<Figure size 432x288 with 1 Axes>"
      ]
     },
     "metadata": {
      "needs_background": "light"
     },
     "output_type": "display_data"
    }
   ],
   "source": [
    "plt.imshow(arr)"
   ]
  }
 ],
 "metadata": {
  "kernelspec": {
   "display_name": "Python 3.9",
   "language": "python",
   "name": "python3"
  },
  "language_info": {
   "codemirror_mode": {
    "name": "ipython",
    "version": 3
   },
   "file_extension": ".py",
   "mimetype": "text/x-python",
   "name": "python",
   "nbconvert_exporter": "python",
   "pygments_lexer": "ipython3",
   "version": "3.9.7"
  },
  "varInspector": {
   "cols": {
    "lenName": 16,
    "lenType": 16,
    "lenVar": 40
   },
   "kernels_config": {
    "python": {
     "delete_cmd_postfix": "",
     "delete_cmd_prefix": "del ",
     "library": "var_list.py",
     "varRefreshCmd": "print(var_dic_list())"
    },
    "r": {
     "delete_cmd_postfix": ") ",
     "delete_cmd_prefix": "rm(",
     "library": "var_list.r",
     "varRefreshCmd": "cat(var_dic_list()) "
    }
   },
   "types_to_exclude": [
    "module",
    "function",
    "builtin_function_or_method",
    "instance",
    "_Feature"
   ],
   "window_display": false
  }
 },
 "nbformat": 4,
 "nbformat_minor": 5
}
