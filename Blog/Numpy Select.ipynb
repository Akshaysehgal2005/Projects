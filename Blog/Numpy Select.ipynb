{
 "cells": [
  {
   "cell_type": "code",
   "execution_count": 7,
   "id": "59c48ca0",
   "metadata": {},
   "outputs": [
    {
     "name": "stdout",
     "output_type": "stream",
     "text": [
      "     name  age\n",
      "0    Rick   70\n",
      "1   Morty   14\n",
      "2    Beth   35\n",
      "3  Summer   17\n",
      "4   Jerry   35\n"
     ]
    }
   ],
   "source": [
    "import pandas as pd\n",
    "\n",
    "df = pd.DataFrame({\"name\": [\"Rick\",\"Morty\",\"Beth\",\"Summer\",\"Jerry\"], \n",
    "                   \"age\": [70, 14, 35, 17, 35]})\n",
    "print(df)"
   ]
  },
  {
   "cell_type": "code",
   "execution_count": 2,
   "id": "701858ee",
   "metadata": {},
   "outputs": [
    {
     "name": "stdout",
     "output_type": "stream",
     "text": [
      "     name  age    apply_age\n",
      "0    Rick   70      60+ yrs\n",
      "1   Morty   14   0 - 20 yrs\n",
      "2    Beth   35  20 - 40 yrs\n",
      "3  Summer   17   0 - 20 yrs\n",
      "4   Jerry   35  20 - 40 yrs\n"
     ]
    }
   ],
   "source": [
    "def age_group(row):\n",
    "    if row.age >= 0 and row.age < 20:\n",
    "        return '0 - 20 yrs'\n",
    "    elif row.age >= 20 and row.age < 40:\n",
    "        return '20 - 40 yrs'\n",
    "    elif row.age >= 40 and row.age < 60:\n",
    "        return '40 - 60 yrs'\n",
    "    elif row.age >= 60:\n",
    "        return '60+ yrs'\n",
    "    else:\n",
    "        return 'invalid age'\n",
    "    \n",
    "df['apply_age'] = df.apply(age_group,1)\n",
    "print(df)"
   ]
  },
  {
   "cell_type": "code",
   "execution_count": 3,
   "id": "46f83750",
   "metadata": {},
   "outputs": [
    {
     "name": "stdout",
     "output_type": "stream",
     "text": [
      "     name  age    apply_age   select_age\n",
      "0    Rick   70      60+ yrs      60+ yrs\n",
      "1   Morty   14   0 - 20 yrs   0 - 20 yrs\n",
      "2    Beth   35  20 - 40 yrs  20 - 40 yrs\n",
      "3  Summer   17   0 - 20 yrs   0 - 20 yrs\n",
      "4   Jerry   35  20 - 40 yrs  20 - 40 yrs\n"
     ]
    }
   ],
   "source": [
    "import numpy as np\n",
    "\n",
    "#Conditions\n",
    "c1 = (df.age >= 0) & (df.age < 20)\n",
    "c2 = (df.age >= 20) & (df.age < 40)\n",
    "c3 = (df.age >= 40) & (df.age < 60)\n",
    "c4 = (df.age >= 60)\n",
    "\n",
    "#Values\n",
    "values = ['0 - 20 yrs', '20 - 40 yrs', '40 - 60 yrs', '60+ yrs']\n",
    "default = 'invalid age'\n",
    "\n",
    "df['select_age'] = np.select([c1,c2,c3,c4], values, default=default)\n",
    "print(df)"
   ]
  },
  {
   "cell_type": "code",
   "execution_count": 8,
   "id": "ddd6c7b8",
   "metadata": {},
   "outputs": [],
   "source": [
    "df = pd.concat([df]*10000)"
   ]
  },
  {
   "cell_type": "code",
   "execution_count": 5,
   "id": "bd777d90",
   "metadata": {},
   "outputs": [
    {
     "name": "stdout",
     "output_type": "stream",
     "text": [
      "909 ms ± 6.88 ms per loop (mean ± std. dev. of 7 runs, 1 loop each)\n"
     ]
    }
   ],
   "source": [
    "%%timeit\n",
    "\n",
    "def age_group(row):\n",
    "    if row.age >= 0 and row.age < 20:\n",
    "        return '0 - 20 yrs'\n",
    "    elif row.age >= 20 and row.age < 40:\n",
    "        return '20 - 40 yrs'\n",
    "    elif row.age >= 40 and row.age < 60:\n",
    "        return '40 - 60 yrs'\n",
    "    elif row.age >= 60:\n",
    "        return '60+ yrs'\n",
    "    else:\n",
    "        return 'invalid age'\n",
    "    \n",
    "df['apply_age'] = df.apply(age_group,1)"
   ]
  },
  {
   "cell_type": "code",
   "execution_count": 9,
   "id": "6583530a",
   "metadata": {},
   "outputs": [
    {
     "name": "stdout",
     "output_type": "stream",
     "text": [
      "6.32 ms ± 241 µs per loop (mean ± std. dev. of 7 runs, 100 loops each)\n"
     ]
    }
   ],
   "source": [
    "%%timeit\n",
    "\n",
    "#Conditions\n",
    "c1 = (df.age >= 0) & (df.age < 20)\n",
    "c2 = (df.age >= 20) & (df.age < 40)\n",
    "c3 = (df.age >= 40) & (df.age < 60)\n",
    "c4 = (df.age >= 60)\n",
    "\n",
    "#Values\n",
    "values = ['0 - 20 yrs', '20 - 40 yrs', '40 - 60 yrs', '60+ yrs']\n",
    "default = 'invalid age'\n",
    "\n",
    "df['select_age'] = np.select([c1,c2,c3,c4], values, default=default)"
   ]
  },
  {
   "cell_type": "code",
   "execution_count": null,
   "id": "e136e376",
   "metadata": {},
   "outputs": [],
   "source": []
  }
 ],
 "metadata": {
  "kernelspec": {
   "display_name": "Python 3.9",
   "language": "python",
   "name": "python3"
  },
  "language_info": {
   "codemirror_mode": {
    "name": "ipython",
    "version": 3
   },
   "file_extension": ".py",
   "mimetype": "text/x-python",
   "name": "python",
   "nbconvert_exporter": "python",
   "pygments_lexer": "ipython3",
   "version": "3.9.7"
  },
  "varInspector": {
   "cols": {
    "lenName": 16,
    "lenType": 16,
    "lenVar": 40
   },
   "kernels_config": {
    "python": {
     "delete_cmd_postfix": "",
     "delete_cmd_prefix": "del ",
     "library": "var_list.py",
     "varRefreshCmd": "print(var_dic_list())"
    },
    "r": {
     "delete_cmd_postfix": ") ",
     "delete_cmd_prefix": "rm(",
     "library": "var_list.r",
     "varRefreshCmd": "cat(var_dic_list()) "
    }
   },
   "types_to_exclude": [
    "module",
    "function",
    "builtin_function_or_method",
    "instance",
    "_Feature"
   ],
   "window_display": false
  }
 },
 "nbformat": 4,
 "nbformat_minor": 5
}
