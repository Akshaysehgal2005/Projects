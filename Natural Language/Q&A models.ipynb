{
 "cells": [
  {
   "cell_type": "code",
   "execution_count": null,
   "id": "41346f63",
   "metadata": {},
   "outputs": [],
   "source": []
  },
  {
   "cell_type": "code",
   "execution_count": null,
   "id": "ef7a38a5",
   "metadata": {},
   "outputs": [],
   "source": []
  },
  {
   "cell_type": "code",
   "execution_count": 2,
   "id": "83255111",
   "metadata": {},
   "outputs": [],
   "source": [
    "txt = \"\"\"Whoever, by words either spoken or intended to be read, or by signs or by visible representations, makes or publishes any imputation concerning any person intending to harm, or knowing or having reason to believe that such imputation will harm, the reputation of such person, is said, except in the cases hereinafter excepted, to defame that person.\n",
    "Explanation 1.—It may amount to defamation to impute anything to a deceased person, if the imputation would harm the reputation of that person if living, and is intended to be hurtful to the fellings of his family or other near relatives.\n",
    "Explanation 2.—It may amount to defamation to make an imputation concerning a company or an association or collection of persons as such.\n",
    "Explanation 3.—An imputation in the form of an alternative or expressed ironically, may amount to defamation.\n",
    "Explanation 4.—No imputation is said to harm a person's reputation, unless that imputation directly or indirectly, in the estimation of others, lowers the moral or intellectual character of that person, or lowers the character of that person in respect of his caste or of his calling, or lowers the credit of that person, or causes it to be believed that the body of that person is in a lothsome state, or in a state generally considered as disgraceful.\n",
    "Illustrations\n",
    "(a) A says— \"Z is an honest man; he never stole B's watch\"; intending to cause it to be believed that Z did steal B's watch. This is defamation, unless it fall within one of the exceptions.\n",
    "(b) A is asked who stole B's watch. A points to Z, intending to cause it to be believed that Z stole B's watch. This is defamation, unless it fall within one of the exceptions.\n",
    "(c) A draws a picture of Z running away with B's watch, intending it to be believed that Z stole B's watch. This is defamation, unless it fall within one of the exceptions.c) A draws a picture of Z running away with B's watch, intending it to be believed that Z stole B's watch. This is defamation, unless it fall within one of the exceptions.\n",
    "First Exception.—Imputation of truth which public good requires to be made or published.—It is not defamation to impute anything which is true concerning any person, if it be for the public good that the imputation should be made or published. Whether or not it is for the public good is a question of fact.\n",
    "Second Exception.—Public conduct of public servants.—It is not defamation to express in good faith any opinion whatever respecting the conduct of a public servant in the discharge of his public functions, or respecting his character, so far as his character appears in that conduct, and no further.\n",
    "Third Exception.—Conduct of any person touching any public question.—It is not defamation to express in good faith any opinion whatever respecting the conduct of any person touching any public question, and respecting his character, so far as his character appears in that conduct, and no further.\n",
    "Illustration\n",
    "It is not defamation in A to express in good faith any opinion whatever resepting Z's conduct in petitioning Government on a public question, in signing a requisition for a meeting on a public question, in presiding or attending at such meeting, in forming or joining any society which invites the public support, in voting or canvassing for a particular candidate for any situation in the efficient discharge of the duties of which the public is interested.\n",
    "Fourth Exception.—Publication of reports of proceedings of courts.—It is not defamation to publish substantially true report of the proceedings of a Court of Justice, or of the result of any such proceedings.\n",
    "Explanation.—A Justice of the Peace or other officer holding an enquiry in open Court preliminary to a trial in a Court of Justice, is a Court within the meaning of the above section.\n",
    "Fifth Exception.—Merits of case decided in Court or conduct of witnesses and others concerned.—It is not defamation to express in good faith any opinion whatever respecting the merits of any case, civil or criminal, which has been decided by a Court of Justice, or respecting the conduct of any person as a party, witness or agent, in any such case, or respecting the character of such person, as far as his character appears in that conduct, and no further.\n",
    "Illustrations\n",
    "(a) A says—\"I think Z's evidence on that trial is so contradictory that he must be stupid or dishonest\". A is within this exception if he says this in good faith, inasmuch as the opinion which he expresses respects Z's character as it appears in Z's conduct as a witness, and no farther.\n",
    "(b) But if A says—\"I do not believe what Z asserted at that trial because I know him to be a man without veracity\"; A is not within this exception, inasmuch as the opinion which express of Z's character, is an opinion not founded on Z's conduct as a witness.\n",
    "Sixth Exception.—Merits of public performance.—It is not defamation to express in good faith any opinion respecting the merits of any performance which its author has submitted to the judgment of the public, or respecting the character of the author so far as his character appears in such performance, and no further.\n",
    "Explanation.—A performance may be submitted to the judgment of the public expressly or by acts on the part of the author which imply such submission to the judgment of the public.\n",
    "Illustrations\n",
    "(a) A person who publishes a book, submits that book to the judgment of the public.\n",
    "(b) A person who makes a speech in public, submits that speech to the judgment of the public.\n",
    "(c) An actor or singer who appears on a public stage, submits his acting or singing to the judgment of the public.\n",
    "(d) A says of a book published by Z—\"Zs book is foolish; Z must be a weak man. Z's book is indecent; Z must be a man of impure mind.\" A is within the exception, if he says this in good faith, inasmuch as the opinion which he expresses of Z respects Z's character only so far as it appears in Z's book, and no further.\n",
    "(e) But if A says \"I am not surprised that Z's book is foolish and indecent, for he is a weak man and a libertine.\" A is not within this exception, inasmuch as the opinion which he expresses of Z's character is an opinion not founded on Z's book.\n",
    "Seventh Exception.—Censure passed in good faith by person having lawful authority over another.—It is not defamation in a person having over another any authority, either conferred by law or arising out of a lawful contract made with that other, to pass in good faith any censure on the conduct of that other in matters to which such lawful authority relates.\n",
    "Illustration\n",
    "A Judge censuring in good faith the conduct of a witness, or of an officer of the Court; a head of a department censuring in good faith those who are under his orders, a parent censuring in good faith a child in the presence of other children; a schoolmaster, whose authority is derived from a parent, censuring in good faith a pupil in the presence of other pupils; a master censuring a servant in good faith for remissness in service; a banker censuring in good faith the cashier of his bank for the conduct of such cashier as such cashier- are within this exception.\n",
    "Eighth Exception.—Accusation preferred in good faith to authorised person.—It is not defamation to prefer in good faith an accusation against any person to any of those who have lawful authority over that person with respect to the subject-matter of accusation.\n",
    "Illustration\n",
    "If A in good faith accuses Z before a Magistrate; if A in good faith complains of the conduct of Z, a servant, to Z's master;if A in good faith complains of the conduct of Z, a child, to Z's father-A is within this exception.\n",
    "Ninth Exception.—Imputation made in good faith by person for protection of his or other's interests.—It is not defamation to make an imputation on the character of another provided that the imputation be made in good faith for the protection of the interests of the person making it, or of any other person, or for the public good.\n",
    "Illustrations\n",
    "(a) A, a shopkeeper, says to B, who manages his business—\"Sell nothing to Z unless he pays you ready money, for I have no opinion of his honesty.\" A is within the exception, if he has made this imputation on Z in good faith for the protection of his own interests.\n",
    "(b) A, a Magistrate, in making a report to his own superior officer, casts an imputation on the character of Z. Here, if the imputation is made in good faith, and for the public good, A is within the exception.\n",
    "Tenth Exception.—Caution intended for good of person to whom conveyed or for public good.—It is not defamation to convey a caution, in good faith, to one person against another, provided that such caution be intended for the good of the person to whom it is conveyed, or of some person in whom that person is interested, or for the public good.\"\"\""
   ]
  },
  {
   "cell_type": "code",
   "execution_count": 1,
   "id": "934f29d3",
   "metadata": {},
   "outputs": [
    {
     "name": "stderr",
     "output_type": "stream",
     "text": [
      "/opt/homebrew/Caskroom/miniforge/base/envs/nlp_env/lib/python3.10/site-packages/tqdm/auto.py:22: TqdmWarning: IProgress not found. Please update jupyter and ipywidgets. See https://ipywidgets.readthedocs.io/en/stable/user_install.html\n",
      "  from .autonotebook import tqdm as notebook_tqdm\n",
      "Downloading: 100%|██████████████████████████████| 557/557 [00:00<00:00, 190kB/s]\n",
      "Downloading: 100%|████████████████████████████| 217k/217k [00:01<00:00, 196kB/s]\n",
      "Downloading: 100%|████████████████████████████| 685k/685k [00:03<00:00, 190kB/s]\n",
      "Downloading: 100%|█████████████████████████████| 112/112 [00:00<00:00, 28.7kB/s]\n",
      "Downloading: 100%|██████████████████████████████| 718/718 [00:00<00:00, 202kB/s]\n",
      "Downloading: 100%|███████████████████████████| 415M/415M [00:32<00:00, 13.6MB/s]\n"
     ]
    }
   ],
   "source": [
    "from transformers import BertTokenizerFast, BertForQuestionAnswering, pipeline\n",
    "model_name = \"intogen/legal-bert-qa\"\n",
    "tokenizer = BertTokenizerFast.from_pretrained(model_name)\n",
    "model = BertForQuestionAnswering.from_pretrained(model_name)\n",
    "\n",
    "# a) Get predictions\n",
    "nlp = pipeline('question-answering', model=model, tokenizer=tokenizer)"
   ]
  },
  {
   "cell_type": "code",
   "execution_count": null,
   "id": "fd976224",
   "metadata": {},
   "outputs": [],
   "source": [
    "import fitz\n",
    "\n",
    "filepath = \"C:\\\\user\\\\docs\\\\aPDFfile.pdf\"\n",
    "\n",
    "text = ''\n",
    "with fitz.open(filepath ) as doc:\n",
    "    for page in doc:\n",
    "        text+= page.getText()\n",
    "print(text)"
   ]
  },
  {
   "cell_type": "code",
   "execution_count": null,
   "id": "dc7ffaf4",
   "metadata": {},
   "outputs": [],
   "source": []
  },
  {
   "cell_type": "code",
   "execution_count": 3,
   "id": "be528984",
   "metadata": {},
   "outputs": [],
   "source": [
    "QA_input = {\n",
    "    'question': \"can a public figure file for defamation?\",\n",
    "    'context':txt\n",
    "}\n",
    "\n",
    "res = nlp(QA_input)"
   ]
  },
  {
   "cell_type": "code",
   "execution_count": 4,
   "id": "1ce48c6f",
   "metadata": {},
   "outputs": [
    {
     "data": {
      "text/plain": [
       "{'score': 0.10361140966415405,\n",
       " 'start': 4806,\n",
       " 'end': 4851,\n",
       " 'answer': 'Sixth Exception.—Merits of public performance'}"
      ]
     },
     "execution_count": 4,
     "metadata": {},
     "output_type": "execute_result"
    }
   ],
   "source": [
    "res"
   ]
  },
  {
   "cell_type": "code",
   "execution_count": 5,
   "id": "9616ce75",
   "metadata": {},
   "outputs": [],
   "source": [
    "QA_input = {\n",
    "    'question': \"explain the sixth exception\",\n",
    "    'context':txt\n",
    "}\n",
    "\n",
    "res = nlp(QA_input)"
   ]
  },
  {
   "cell_type": "code",
   "execution_count": 6,
   "id": "f3c4d2ce",
   "metadata": {},
   "outputs": [
    {
     "data": {
      "text/plain": [
       "{'score': 0.2833058834075928, 'start': 2032, 'end': 2033, 'answer': '—'}"
      ]
     },
     "execution_count": 6,
     "metadata": {},
     "output_type": "execute_result"
    }
   ],
   "source": [
    "res"
   ]
  },
  {
   "cell_type": "code",
   "execution_count": null,
   "id": "08c8b9ea",
   "metadata": {},
   "outputs": [],
   "source": []
  }
 ],
 "metadata": {
  "kernelspec": {
   "display_name": "nlp_env",
   "language": "python",
   "name": "nlp_env"
  },
  "language_info": {
   "codemirror_mode": {
    "name": "ipython",
    "version": 3
   },
   "file_extension": ".py",
   "mimetype": "text/x-python",
   "name": "python",
   "nbconvert_exporter": "python",
   "pygments_lexer": "ipython3",
   "version": "3.10.5"
  },
  "varInspector": {
   "cols": {
    "lenName": 16,
    "lenType": 16,
    "lenVar": 40
   },
   "kernels_config": {
    "python": {
     "delete_cmd_postfix": "",
     "delete_cmd_prefix": "del ",
     "library": "var_list.py",
     "varRefreshCmd": "print(var_dic_list())"
    },
    "r": {
     "delete_cmd_postfix": ") ",
     "delete_cmd_prefix": "rm(",
     "library": "var_list.r",
     "varRefreshCmd": "cat(var_dic_list()) "
    }
   },
   "types_to_exclude": [
    "module",
    "function",
    "builtin_function_or_method",
    "instance",
    "_Feature"
   ],
   "window_display": false
  }
 },
 "nbformat": 4,
 "nbformat_minor": 5
}
