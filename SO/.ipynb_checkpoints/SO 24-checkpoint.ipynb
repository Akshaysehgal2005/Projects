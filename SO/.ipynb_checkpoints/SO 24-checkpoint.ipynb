{
 "cells": [
  {
   "cell_type": "code",
   "execution_count": 2,
   "id": "9c6cb90c",
   "metadata": {},
   "outputs": [
    {
     "name": "stdout",
     "output_type": "stream",
     "text": [
      "Python 3.9.7\r\n"
     ]
    }
   ],
   "source": [
    "!python --version"
   ]
  },
  {
   "cell_type": "code",
   "execution_count": 3,
   "id": "36e4dc38",
   "metadata": {},
   "outputs": [
    {
     "name": "stdout",
     "output_type": "stream",
     "text": [
      "/Users/akshay/opt/anaconda3/bin/python\r\n"
     ]
    }
   ],
   "source": [
    "!which python"
   ]
  },
  {
   "cell_type": "code",
   "execution_count": 16,
   "id": "ba26c161",
   "metadata": {},
   "outputs": [
    {
     "name": "stdout",
     "output_type": "stream",
     "text": [
      "Tensor Flow Version: 2.5.0\n",
      "Keras Version: 2.5.0\n",
      "\n",
      "Python 3.9.7 | packaged by conda-forge | (default, Sep 29 2021, 19:24:02) \n",
      "[Clang 11.1.0 ]\n",
      "Pandas 1.3.5\n",
      "Scikit-Learn 1.0.2\n",
      "GPU is available\n",
      "\n",
      "[PhysicalDevice(name='/physical_device:CPU:0', device_type='CPU'), PhysicalDevice(name='/physical_device:GPU:0', device_type='GPU')]\n"
     ]
    }
   ],
   "source": [
    "# What version of Python do you have?\n",
    "import sys\n",
    "\n",
    "import tensorflow.keras\n",
    "import pandas as pd\n",
    "import sklearn as sk\n",
    "import tensorflow as tf\n",
    "\n",
    "print(f\"Tensor Flow Version: {tf.__version__}\")\n",
    "print(f\"Keras Version: {tensorflow.keras.__version__}\")\n",
    "print()\n",
    "print(f\"Python {sys.version}\")\n",
    "print(f\"Pandas {pd.__version__}\")\n",
    "print(f\"Scikit-Learn {sk.__version__}\")\n",
    "gpu = len(tf.config.list_physical_devices('GPU'))>0\n",
    "print(\"GPU is\", \"available\" if gpu else \"NOT AVAILABLE\")\n",
    "print()\n",
    "print(tf.config.list_physical_devices())"
   ]
  },
  {
   "cell_type": "code",
   "execution_count": null,
   "id": "7757aa68",
   "metadata": {},
   "outputs": [],
   "source": [
    "from tensorflow.keras import layers, "
   ]
  },
  {
   "cell_type": "code",
   "execution_count": 17,
   "id": "eb502fe0",
   "metadata": {},
   "outputs": [],
   "source": [
    "with tf.device('/GPU'):\n",
    "    a = tf.random.normal(shape=(2,), dtype=tf.float32)\n",
    "    b = tf.nn.relu(a)"
   ]
  },
  {
   "cell_type": "code",
   "execution_count": 20,
   "id": "d7c64f33",
   "metadata": {
    "scrolled": false
   },
   "outputs": [
    {
     "name": "stdout",
     "output_type": "stream",
     "text": [
      "\n",
      "download mnist\n"
     ]
    },
    {
     "name": "stderr",
     "output_type": "stream",
     "text": [
      "2022-01-21 12:36:48.454931: W tensorflow/core/platform/cloud/google_auth_provider.cc:184] All attempts to get a Google authentication bearer token failed, returning an empty token. Retrieving token from files failed with \"Not found: Could not locate the credentials file.\". Retrieving token from GCE failed with \"Failed precondition: Error executing an HTTP request: libcurl code 6 meaning 'Couldn't resolve host name', error details: Could not resolve host: metadata\".\n"
     ]
    },
    {
     "name": "stdout",
     "output_type": "stream",
     "text": [
      "\u001b[1mDownloading and preparing dataset 11.06 MiB (download: 11.06 MiB, generated: 21.00 MiB, total: 32.06 MiB) to /Users/akshay/tensorflow_datasets/mnist/3.0.1...\u001b[0m\n"
     ]
    },
    {
     "data": {
      "application/vnd.jupyter.widget-view+json": {
       "model_id": "d321544518d04b0aad1c05a5e5d23f4d",
       "version_major": 2,
       "version_minor": 0
      },
      "text/plain": [
       "Dl Completed...:   0%|          | 0/4 [00:00<?, ? file/s]"
      ]
     },
     "metadata": {},
     "output_type": "display_data"
    },
    {
     "name": "stdout",
     "output_type": "stream",
     "text": [
      "\u001b[1mDataset mnist downloaded and prepared to /Users/akshay/tensorflow_datasets/mnist/3.0.1. Subsequent calls will reuse this data.\u001b[0m\n",
      "\n",
      "create and compile model\n",
      "Epoch 1/100\n"
     ]
    },
    {
     "name": "stderr",
     "output_type": "stream",
     "text": [
      "2022-01-21 12:36:59.347707: I tensorflow/compiler/mlir/mlir_graph_optimization_pass.cc:176] None of the MLIR Optimization Passes are enabled (registered 2)\n",
      "2022-01-21 12:36:59.350242: W tensorflow/core/platform/profile_utils/cpu_utils.cc:128] Failed to get CPU frequency: 0 Hz\n",
      "2022-01-21 12:36:59.350899: I tensorflow/core/grappler/optimizers/custom_graph_optimizer_registry.cc:112] Plugin optimizer for device_type GPU is enabled.\n"
     ]
    },
    {
     "name": "stdout",
     "output_type": "stream",
     "text": [
      "938/938 [==============================] - ETA: 0s - loss: 0.1973 - accuracy: 0.9371"
     ]
    },
    {
     "name": "stderr",
     "output_type": "stream",
     "text": [
      "2022-01-21 12:37:12.104347: I tensorflow/core/grappler/optimizers/custom_graph_optimizer_registry.cc:112] Plugin optimizer for device_type GPU is enabled.\n"
     ]
    },
    {
     "name": "stdout",
     "output_type": "stream",
     "text": [
      "938/938 [==============================] - 14s 11ms/step - loss: 0.1973 - accuracy: 0.9371 - val_loss: 0.0795 - val_accuracy: 0.9750\n",
      "Epoch 2/100\n",
      "938/938 [==============================] - 10s 10ms/step - loss: 0.0497 - accuracy: 0.9841 - val_loss: 0.0340 - val_accuracy: 0.9881\n",
      "Epoch 3/100\n",
      "938/938 [==============================] - 9s 9ms/step - loss: 0.0349 - accuracy: 0.9892 - val_loss: 0.0273 - val_accuracy: 0.9911\n",
      "Epoch 4/100\n",
      "938/938 [==============================] - 9s 9ms/step - loss: 0.0267 - accuracy: 0.9909 - val_loss: 0.0290 - val_accuracy: 0.9892\n",
      "Epoch 5/100\n",
      "938/938 [==============================] - 9s 9ms/step - loss: 0.0210 - accuracy: 0.9931 - val_loss: 0.0241 - val_accuracy: 0.9925\n",
      "Epoch 6/100\n",
      "938/938 [==============================] - 9s 9ms/step - loss: 0.0174 - accuracy: 0.9943 - val_loss: 0.0353 - val_accuracy: 0.9907\n",
      "Epoch 7/100\n",
      "938/938 [==============================] - 9s 9ms/step - loss: 0.0147 - accuracy: 0.9952 - val_loss: 0.0260 - val_accuracy: 0.9937\n",
      "Epoch 8/100\n",
      "938/938 [==============================] - 9s 9ms/step - loss: 0.0122 - accuracy: 0.9963 - val_loss: 0.0333 - val_accuracy: 0.9912\n",
      "Epoch 9/100\n",
      "938/938 [==============================] - 9s 9ms/step - loss: 0.0107 - accuracy: 0.9969 - val_loss: 0.0366 - val_accuracy: 0.9895\n",
      "Epoch 10/100\n",
      "938/938 [==============================] - 9s 9ms/step - loss: 0.0086 - accuracy: 0.9974 - val_loss: 0.0373 - val_accuracy: 0.9907\n",
      "Epoch 11/100\n",
      "938/938 [==============================] - 9s 9ms/step - loss: 0.0085 - accuracy: 0.9974 - val_loss: 0.0392 - val_accuracy: 0.9913\n",
      "Epoch 12/100\n",
      "938/938 [==============================] - 9s 9ms/step - loss: 0.0073 - accuracy: 0.9976 - val_loss: 0.0393 - val_accuracy: 0.9910\n",
      "Epoch 13/100\n",
      "938/938 [==============================] - 9s 9ms/step - loss: 0.0070 - accuracy: 0.9976 - val_loss: 0.0422 - val_accuracy: 0.9913\n",
      "Epoch 14/100\n",
      "938/938 [==============================] - 9s 9ms/step - loss: 0.0057 - accuracy: 0.9984 - val_loss: 0.0456 - val_accuracy: 0.9922\n",
      "Epoch 15/100\n",
      "938/938 [==============================] - 9s 10ms/step - loss: 0.0060 - accuracy: 0.9984 - val_loss: 0.0470 - val_accuracy: 0.9914\n",
      "Epoch 16/100\n",
      "938/938 [==============================] - 9s 10ms/step - loss: 0.0062 - accuracy: 0.9984 - val_loss: 0.0410 - val_accuracy: 0.9930\n",
      "Epoch 17/100\n",
      "938/938 [==============================] - 9s 10ms/step - loss: 0.0052 - accuracy: 0.9985 - val_loss: 0.0507 - val_accuracy: 0.9909\n",
      "Epoch 18/100\n",
      "938/938 [==============================] - 9s 10ms/step - loss: 0.0050 - accuracy: 0.9984 - val_loss: 0.0468 - val_accuracy: 0.9924\n",
      "Epoch 19/100\n",
      "938/938 [==============================] - 9s 10ms/step - loss: 0.0041 - accuracy: 0.9990 - val_loss: 0.0550 - val_accuracy: 0.9914\n",
      "Epoch 20/100\n",
      "938/938 [==============================] - 9s 9ms/step - loss: 0.0045 - accuracy: 0.9987 - val_loss: 0.0747 - val_accuracy: 0.9908\n",
      "Epoch 21/100\n",
      "938/938 [==============================] - 9s 9ms/step - loss: 0.0033 - accuracy: 0.9991 - val_loss: 0.0610 - val_accuracy: 0.9908\n",
      "Epoch 22/100\n",
      "938/938 [==============================] - 9s 9ms/step - loss: 0.0031 - accuracy: 0.9992 - val_loss: 0.0640 - val_accuracy: 0.9912\n",
      "Epoch 23/100\n",
      "938/938 [==============================] - 9s 9ms/step - loss: 0.0029 - accuracy: 0.9992 - val_loss: 0.0600 - val_accuracy: 0.9926\n",
      "Epoch 24/100\n",
      "938/938 [==============================] - 9s 9ms/step - loss: 0.0031 - accuracy: 0.9991 - val_loss: 0.0761 - val_accuracy: 0.9918\n",
      "Epoch 25/100\n",
      "938/938 [==============================] - 9s 10ms/step - loss: 0.0029 - accuracy: 0.9992 - val_loss: 0.0702 - val_accuracy: 0.9917\n",
      "Epoch 26/100\n",
      "938/938 [==============================] - 9s 9ms/step - loss: 0.0028 - accuracy: 0.9993 - val_loss: 0.0767 - val_accuracy: 0.9911\n",
      "Epoch 27/100\n",
      "938/938 [==============================] - 9s 10ms/step - loss: 0.0037 - accuracy: 0.9990 - val_loss: 0.0709 - val_accuracy: 0.9922\n",
      "Epoch 28/100\n",
      "938/938 [==============================] - 9s 9ms/step - loss: 0.0034 - accuracy: 0.9992 - val_loss: 0.0716 - val_accuracy: 0.9911\n",
      "Epoch 29/100\n",
      "938/938 [==============================] - 9s 9ms/step - loss: 0.0031 - accuracy: 0.9992 - val_loss: 0.0768 - val_accuracy: 0.9922\n",
      "Epoch 30/100\n",
      "938/938 [==============================] - 9s 9ms/step - loss: 0.0024 - accuracy: 0.9994 - val_loss: 0.0754 - val_accuracy: 0.9915\n",
      "Epoch 31/100\n",
      "938/938 [==============================] - 9s 9ms/step - loss: 0.0032 - accuracy: 0.9992 - val_loss: 0.0754 - val_accuracy: 0.9913\n",
      "Epoch 32/100\n",
      "938/938 [==============================] - 9s 9ms/step - loss: 0.0026 - accuracy: 0.9995 - val_loss: 0.0766 - val_accuracy: 0.9925\n",
      "Epoch 33/100\n",
      "938/938 [==============================] - 9s 9ms/step - loss: 0.0028 - accuracy: 0.9994 - val_loss: 0.0903 - val_accuracy: 0.9923\n",
      "Epoch 34/100\n",
      "938/938 [==============================] - 9s 9ms/step - loss: 0.0031 - accuracy: 0.9994 - val_loss: 0.0992 - val_accuracy: 0.9923\n",
      "Epoch 35/100\n",
      "938/938 [==============================] - 9s 9ms/step - loss: 0.0028 - accuracy: 0.9994 - val_loss: 0.1079 - val_accuracy: 0.9905\n",
      "Epoch 36/100\n",
      "938/938 [==============================] - 9s 9ms/step - loss: 0.0038 - accuracy: 0.9991 - val_loss: 0.0747 - val_accuracy: 0.9926\n",
      "Epoch 37/100\n",
      "938/938 [==============================] - 9s 9ms/step - loss: 0.0022 - accuracy: 0.9995 - val_loss: 0.0781 - val_accuracy: 0.9923\n",
      "Epoch 38/100\n",
      "938/938 [==============================] - 9s 9ms/step - loss: 0.0026 - accuracy: 0.9995 - val_loss: 0.0804 - val_accuracy: 0.9928\n",
      "Epoch 39/100\n",
      "938/938 [==============================] - 9s 9ms/step - loss: 0.0023 - accuracy: 0.9995 - val_loss: 0.0749 - val_accuracy: 0.9924\n",
      "Epoch 40/100\n",
      "938/938 [==============================] - 9s 10ms/step - loss: 0.0021 - accuracy: 0.9994 - val_loss: 0.1041 - val_accuracy: 0.9926\n",
      "Epoch 41/100\n",
      "938/938 [==============================] - 9s 10ms/step - loss: 0.0025 - accuracy: 0.9995 - val_loss: 0.0859 - val_accuracy: 0.9921\n",
      "Epoch 42/100\n",
      "938/938 [==============================] - 10s 11ms/step - loss: 0.0021 - accuracy: 0.9995 - val_loss: 0.0852 - val_accuracy: 0.9925\n",
      "Epoch 43/100\n",
      "938/938 [==============================] - 10s 10ms/step - loss: 0.0020 - accuracy: 0.9996 - val_loss: 0.1169 - val_accuracy: 0.9913\n",
      "Epoch 44/100\n",
      "938/938 [==============================] - 10s 10ms/step - loss: 0.0018 - accuracy: 0.9996 - val_loss: 0.0999 - val_accuracy: 0.9933\n",
      "Epoch 45/100\n",
      "938/938 [==============================] - 10s 10ms/step - loss: 0.0025 - accuracy: 0.9996 - val_loss: 0.0840 - val_accuracy: 0.9922\n",
      "Epoch 46/100\n",
      "938/938 [==============================] - 9s 10ms/step - loss: 0.0023 - accuracy: 0.9995 - val_loss: 0.1100 - val_accuracy: 0.9911\n",
      "Epoch 47/100\n",
      "938/938 [==============================] - 9s 10ms/step - loss: 0.0032 - accuracy: 0.9994 - val_loss: 0.1201 - val_accuracy: 0.9917\n",
      "Epoch 48/100\n",
      "938/938 [==============================] - 9s 10ms/step - loss: 0.0020 - accuracy: 0.9996 - val_loss: 0.1021 - val_accuracy: 0.9924\n",
      "Epoch 49/100\n",
      "938/938 [==============================] - 9s 10ms/step - loss: 0.0023 - accuracy: 0.9995 - val_loss: 0.0845 - val_accuracy: 0.9927\n",
      "Epoch 50/100\n",
      "938/938 [==============================] - 9s 10ms/step - loss: 9.3426e-04 - accuracy: 0.9998 - val_loss: 0.1154 - val_accuracy: 0.9919\n",
      "Epoch 51/100\n",
      "938/938 [==============================] - 9s 10ms/step - loss: 0.0013 - accuracy: 0.9997 - val_loss: 0.0922 - val_accuracy: 0.9930\n",
      "Epoch 52/100\n",
      "938/938 [==============================] - 9s 10ms/step - loss: 6.6084e-04 - accuracy: 0.9998 - val_loss: 0.1199 - val_accuracy: 0.9909\n",
      "Epoch 53/100\n",
      "938/938 [==============================] - 9s 10ms/step - loss: 0.0028 - accuracy: 0.9997 - val_loss: 0.1150 - val_accuracy: 0.9919\n",
      "Epoch 54/100\n",
      "938/938 [==============================] - 9s 10ms/step - loss: 0.0017 - accuracy: 0.9997 - val_loss: 0.0917 - val_accuracy: 0.9930\n",
      "Epoch 55/100\n",
      "938/938 [==============================] - 9s 10ms/step - loss: 0.0018 - accuracy: 0.9997 - val_loss: 0.1046 - val_accuracy: 0.9929\n",
      "Epoch 56/100\n",
      "938/938 [==============================] - 9s 10ms/step - loss: 0.0022 - accuracy: 0.9996 - val_loss: 0.1154 - val_accuracy: 0.9920\n",
      "Epoch 57/100\n",
      "938/938 [==============================] - 9s 10ms/step - loss: 0.0017 - accuracy: 0.9997 - val_loss: 0.1242 - val_accuracy: 0.9926\n"
     ]
    },
    {
     "name": "stdout",
     "output_type": "stream",
     "text": [
      "Epoch 58/100\n",
      "938/938 [==============================] - 9s 10ms/step - loss: 0.0027 - accuracy: 0.9995 - val_loss: 0.1356 - val_accuracy: 0.9914\n",
      "Epoch 59/100\n",
      "938/938 [==============================] - 9s 10ms/step - loss: 0.0017 - accuracy: 0.9997 - val_loss: 0.1131 - val_accuracy: 0.9923\n",
      "Epoch 60/100\n",
      "938/938 [==============================] - 9s 10ms/step - loss: 0.0011 - accuracy: 0.9998 - val_loss: 0.1260 - val_accuracy: 0.9927\n",
      "Epoch 61/100\n",
      "938/938 [==============================] - 9s 10ms/step - loss: 0.0027 - accuracy: 0.9997 - val_loss: 0.1225 - val_accuracy: 0.9914\n",
      "Epoch 62/100\n",
      "938/938 [==============================] - 9s 10ms/step - loss: 0.0021 - accuracy: 0.9996 - val_loss: 0.1217 - val_accuracy: 0.9928\n",
      "Epoch 63/100\n",
      "938/938 [==============================] - 9s 10ms/step - loss: 0.0024 - accuracy: 0.9995 - val_loss: 0.1239 - val_accuracy: 0.9926\n",
      "Epoch 64/100\n",
      "938/938 [==============================] - 9s 10ms/step - loss: 0.0023 - accuracy: 0.9996 - val_loss: 0.1591 - val_accuracy: 0.9922\n",
      "Epoch 65/100\n",
      "938/938 [==============================] - 9s 10ms/step - loss: 0.0011 - accuracy: 0.9997 - val_loss: 0.1197 - val_accuracy: 0.9915\n",
      "Epoch 66/100\n",
      "938/938 [==============================] - 9s 10ms/step - loss: 0.0018 - accuracy: 0.9997 - val_loss: 0.1140 - val_accuracy: 0.9926\n",
      "Epoch 67/100\n",
      "938/938 [==============================] - 10s 10ms/step - loss: 0.0018 - accuracy: 0.9997 - val_loss: 0.1153 - val_accuracy: 0.9932\n",
      "Epoch 68/100\n",
      "938/938 [==============================] - 10s 11ms/step - loss: 0.0015 - accuracy: 0.9999 - val_loss: 0.1376 - val_accuracy: 0.9926\n",
      "Epoch 69/100\n",
      "938/938 [==============================] - 10s 10ms/step - loss: 0.0015 - accuracy: 0.9998 - val_loss: 0.1480 - val_accuracy: 0.9921\n",
      "Epoch 70/100\n",
      "938/938 [==============================] - 10s 10ms/step - loss: 0.0027 - accuracy: 0.9995 - val_loss: 0.1091 - val_accuracy: 0.9926\n",
      "Epoch 71/100\n",
      "938/938 [==============================] - 9s 10ms/step - loss: 0.0011 - accuracy: 0.9998 - val_loss: 0.1401 - val_accuracy: 0.9923\n",
      "Epoch 72/100\n",
      "938/938 [==============================] - 9s 10ms/step - loss: 0.0021 - accuracy: 0.9997 - val_loss: 0.1497 - val_accuracy: 0.9930\n",
      "Epoch 73/100\n",
      "938/938 [==============================] - 9s 10ms/step - loss: 0.0038 - accuracy: 0.9996 - val_loss: 0.1187 - val_accuracy: 0.9924\n",
      "Epoch 74/100\n",
      "938/938 [==============================] - 9s 9ms/step - loss: 0.0017 - accuracy: 0.9997 - val_loss: 0.1311 - val_accuracy: 0.9934\n",
      "Epoch 75/100\n",
      "938/938 [==============================] - 9s 9ms/step - loss: 0.0010 - accuracy: 0.9999 - val_loss: 0.1099 - val_accuracy: 0.9935\n",
      "Epoch 76/100\n",
      "938/938 [==============================] - 10s 11ms/step - loss: 9.6193e-04 - accuracy: 0.9998 - val_loss: 0.1399 - val_accuracy: 0.9916\n",
      "Epoch 77/100\n",
      "938/938 [==============================] - 10s 10ms/step - loss: 0.0014 - accuracy: 0.9997 - val_loss: 0.1355 - val_accuracy: 0.9928\n",
      "Epoch 78/100\n",
      "938/938 [==============================] - 10s 10ms/step - loss: 0.0019 - accuracy: 0.9997 - val_loss: 0.1607 - val_accuracy: 0.9913\n",
      "Epoch 79/100\n",
      "938/938 [==============================] - 9s 10ms/step - loss: 9.3017e-04 - accuracy: 0.9998 - val_loss: 0.1406 - val_accuracy: 0.9927\n",
      "Epoch 80/100\n",
      "938/938 [==============================] - 9s 10ms/step - loss: 0.0018 - accuracy: 0.9997 - val_loss: 0.1244 - val_accuracy: 0.9933\n",
      "Epoch 81/100\n",
      "938/938 [==============================] - 9s 9ms/step - loss: 8.5512e-04 - accuracy: 0.9999 - val_loss: 0.1254 - val_accuracy: 0.9930\n",
      "Epoch 82/100\n",
      "938/938 [==============================] - 9s 10ms/step - loss: 8.8783e-04 - accuracy: 0.9999 - val_loss: 0.1840 - val_accuracy: 0.9921\n",
      "Epoch 83/100\n",
      "938/938 [==============================] - 9s 10ms/step - loss: 0.0013 - accuracy: 0.9998 - val_loss: 0.1659 - val_accuracy: 0.9914\n",
      "Epoch 84/100\n",
      "938/938 [==============================] - 9s 10ms/step - loss: 0.0011 - accuracy: 0.9998 - val_loss: 0.1829 - val_accuracy: 0.9905\n",
      "Epoch 85/100\n",
      "938/938 [==============================] - 9s 10ms/step - loss: 0.0014 - accuracy: 0.9998 - val_loss: 0.1624 - val_accuracy: 0.9916\n",
      "Epoch 86/100\n",
      "938/938 [==============================] - 9s 10ms/step - loss: 0.0016 - accuracy: 0.9998 - val_loss: 0.1494 - val_accuracy: 0.9929\n",
      "Epoch 87/100\n",
      "938/938 [==============================] - 9s 10ms/step - loss: 0.0024 - accuracy: 0.9997 - val_loss: 0.1661 - val_accuracy: 0.9918\n",
      "Epoch 88/100\n",
      "938/938 [==============================] - 9s 10ms/step - loss: 0.0018 - accuracy: 0.9997 - val_loss: 0.1519 - val_accuracy: 0.9911\n",
      "Epoch 89/100\n",
      "938/938 [==============================] - 9s 10ms/step - loss: 8.9500e-04 - accuracy: 0.9999 - val_loss: 0.1686 - val_accuracy: 0.9919\n",
      "Epoch 90/100\n",
      "938/938 [==============================] - 9s 10ms/step - loss: 0.0012 - accuracy: 0.9999 - val_loss: 0.1768 - val_accuracy: 0.9924\n",
      "Epoch 91/100\n",
      "938/938 [==============================] - 9s 10ms/step - loss: 0.0018 - accuracy: 0.9998 - val_loss: 0.1892 - val_accuracy: 0.9910\n",
      "Epoch 92/100\n",
      "938/938 [==============================] - 9s 10ms/step - loss: 0.0017 - accuracy: 0.9997 - val_loss: 0.1651 - val_accuracy: 0.9922\n",
      "Epoch 93/100\n",
      "938/938 [==============================] - 9s 10ms/step - loss: 9.9406e-04 - accuracy: 0.9999 - val_loss: 0.1886 - val_accuracy: 0.9921\n",
      "Epoch 94/100\n",
      "938/938 [==============================] - 9s 10ms/step - loss: 0.0023 - accuracy: 0.9998 - val_loss: 0.2091 - val_accuracy: 0.9911\n",
      "Epoch 95/100\n",
      "938/938 [==============================] - 9s 10ms/step - loss: 0.0017 - accuracy: 0.9997 - val_loss: 0.1900 - val_accuracy: 0.9919\n",
      "Epoch 96/100\n",
      "938/938 [==============================] - 9s 10ms/step - loss: 7.3794e-04 - accuracy: 0.9999 - val_loss: 0.1944 - val_accuracy: 0.9907\n",
      "Epoch 97/100\n",
      "938/938 [==============================] - 9s 10ms/step - loss: 0.0010 - accuracy: 0.9998 - val_loss: 0.1916 - val_accuracy: 0.9914\n",
      "Epoch 98/100\n",
      "938/938 [==============================] - 9s 10ms/step - loss: 0.0016 - accuracy: 0.9997 - val_loss: 0.1711 - val_accuracy: 0.9917\n",
      "Epoch 99/100\n",
      "938/938 [==============================] - 9s 10ms/step - loss: 0.0012 - accuracy: 0.9999 - val_loss: 0.2006 - val_accuracy: 0.9923\n",
      "Epoch 100/100\n",
      "938/938 [==============================] - 9s 10ms/step - loss: 7.2322e-04 - accuracy: 0.9999 - val_loss: 0.2028 - val_accuracy: 0.9908\n"
     ]
    },
    {
     "data": {
      "text/plain": [
       "<tensorflow.python.keras.callbacks.History at 0x2840d1490>"
      ]
     },
     "execution_count": 20,
     "metadata": {},
     "output_type": "execute_result"
    }
   ],
   "source": [
    "import tensorflow as tf\n",
    "import tensorflow_datasets as tfds\n",
    "\n",
    "BATCH_SIZE = 64\n",
    "EPOCHS = 100\n",
    "AUTOTUNE = tf.data.AUTOTUNE\n",
    "\n",
    "# load MNIST\n",
    "print('\\ndownload mnist')\n",
    "(ds_train, ds_test), ds_info = tfds.load(\n",
    "    'mnist',\n",
    "    split=['train', 'test'],\n",
    "    shuffle_files=True,\n",
    "    as_supervised=True,\n",
    "    with_info=True,\n",
    ")\n",
    "\n",
    "\n",
    "def normalize_img(image, label):\n",
    "  #\"Normalizes images: `uint8` -> `float32`.\"\n",
    "  return tf.cast(image, tf.float32) / 255., label\n",
    "\n",
    "\n",
    "ds_train = ds_train.map(normalize_img, num_parallel_calls=AUTOTUNE)\n",
    "ds_train = ds_train.cache()\n",
    "ds_train = ds_train.shuffle(ds_info.splits['train'].num_examples)\n",
    "ds_train = ds_train.batch(BATCH_SIZE)\n",
    "ds_train = ds_train.prefetch(AUTOTUNE)\n",
    "\n",
    "ds_test = ds_test.map(normalize_img, num_parallel_calls=AUTOTUNE)\n",
    "ds_test = ds_test.cache()\n",
    "ds_test = ds_test.batch(BATCH_SIZE)\n",
    "\n",
    "print('\\ncreate and compile model')\n",
    "model = tf.keras.Sequential([\n",
    "    tf.keras.layers.Conv2D(16, 3, padding='same', activation='relu'),\n",
    "    tf.keras.layers.MaxPooling2D(),\n",
    "    tf.keras.layers.Conv2D(32, 3, padding='same', activation='relu'),\n",
    "    tf.keras.layers.MaxPooling2D(),\n",
    "    tf.keras.layers.Conv2D(64, 3, padding='same', activation='relu'),\n",
    "    tf.keras.layers.MaxPooling2D(),\n",
    "    tf.keras.layers.Flatten(),\n",
    "    tf.keras.layers.Dense(128, activation='relu'),\n",
    "    tf.keras.layers.Dense(10)\n",
    "])\n",
    "\n",
    "model.compile(\n",
    "    optimizer='rmsprop',\n",
    "    loss=tf.keras.losses.SparseCategoricalCrossentropy(from_logits=True),\n",
    "    metrics=['accuracy'])\n",
    "\n",
    "model.fit(ds_train, epochs=EPOCHS, validation_data=ds_test)"
   ]
  },
  {
   "cell_type": "code",
   "execution_count": 78,
   "id": "930ef811",
   "metadata": {},
   "outputs": [
    {
     "data": {
      "text/plain": [
       "0    0.88\n",
       "1    0.45\n",
       "2     NaN\n",
       "3    0.65\n",
       "Name: column_name, dtype: float64"
      ]
     },
     "execution_count": 78,
     "metadata": {},
     "output_type": "execute_result"
    }
   ],
   "source": [
    "df = pd.DataFrame({'column_name':['88% positive marks',\n",
    "                                  'marks 33 are 45% total',\n",
    "                                  '20',\n",
    "                                  'total 65%']})\n",
    "\n",
    "df.column_name.str.findall('\\d+(?=%)').str[0].astype(float)/100"
   ]
  },
  {
   "cell_type": "code",
   "execution_count": 75,
   "id": "3485d2ce",
   "metadata": {},
   "outputs": [
    {
     "data": {
      "text/plain": [
       "0    0.88\n",
       "1    0.45\n",
       "2    0.00\n",
       "3    0.65\n",
       "Name: column_name, dtype: float64"
      ]
     },
     "execution_count": 75,
     "metadata": {},
     "output_type": "execute_result"
    }
   ],
   "source": [
    "import re\n"
   ]
  },
  {
   "cell_type": "code",
   "execution_count": null,
   "id": "61c52785",
   "metadata": {},
   "outputs": [],
   "source": []
  }
 ],
 "metadata": {
  "kernelspec": {
   "display_name": "Python 3.9",
   "language": "python",
   "name": "python3"
  },
  "language_info": {
   "codemirror_mode": {
    "name": "ipython",
    "version": 3
   },
   "file_extension": ".py",
   "mimetype": "text/x-python",
   "name": "python",
   "nbconvert_exporter": "python",
   "pygments_lexer": "ipython3",
   "version": "3.9.7"
  }
 },
 "nbformat": 4,
 "nbformat_minor": 5
}
