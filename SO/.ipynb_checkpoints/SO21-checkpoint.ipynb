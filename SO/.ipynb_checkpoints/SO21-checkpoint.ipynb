{
 "cells": [
  {
   "cell_type": "code",
   "execution_count": null,
   "metadata": {},
   "outputs": [],
   "source": [
    "import pandas as pd\n",
    "import numpy as np"
   ]
  },
  {
   "cell_type": "code",
   "execution_count": null,
   "metadata": {},
   "outputs": [],
   "source": [
    "data = [['Food industry', '936', '845', '901', '924', '943', '947', '990', '956', '928', '813', '699', '762', '843', '768', '608', '641', '562', '493', '490', '488', '484', '495', '460', '440', '390', '402', '339', '325'], ['Mineral industry', '3065', '2659', '2781', '2797', '3206', '3152', '2998', '3252', '3139', '3543', '3624', '3451', '3189', '3358', '3543', '3724', '3533', '3453', '2961', '3312', '3378', '3393', '3095', '3159', '3224', '3235', '3205', '3229'], ['Iron- and metal industry', '5584', '5434', '5821', '6065', '6511', '6652', '6528', '6612', '6611', '6639', '7255', '7375', '7483', '7605', '7303', '7148', '7433', '7061', '4290', '6762', '6303', '5583', '5715', '5648', '5774', '5869', '6253', '5693']] "
   ]
  },
  {
   "cell_type": "code",
   "execution_count": null,
   "metadata": {},
   "outputs": [],
   "source": [
    "print(data)"
   ]
  },
  {
   "cell_type": "code",
   "execution_count": null,
   "metadata": {},
   "outputs": [],
   "source": [
    "arr = [['0.55070000', '879.00000000'], ['0.55350000', '879.00000000'], ['0.55640000', '879.00000000'], ['0.56210000', '879.00000000'], ['0.56490000', '879.00000000'], ['0.56780000', '879.00000000'], ['0.57060000', '879.00000000'], ['0.54500000', '899.00000000'], ['0.56370000', '901.00000000'], ['0.53070000', '908.00000000'], ['0.57350000', '916.00000000'], ['0.55000000', '9172.00000000'], ['0.56300000', '939.00000000'], ['0.54490000', '94.00000000'], ['0.56040000', '96.00000000'], ['0.54960000', '999.00000000']]"
   ]
  },
  {
   "cell_type": "code",
   "execution_count": null,
   "metadata": {},
   "outputs": [],
   "source": [
    "arr2 = [[float(j) for j in i] for i in arr]\n",
    "sorted(arr2, key=lambda x: x[1])"
   ]
  },
  {
   "cell_type": "code",
   "execution_count": null,
   "metadata": {},
   "outputs": [],
   "source": [
    "sorted(arr, key=lambda x: float(x[1]))"
   ]
  },
  {
   "cell_type": "code",
   "execution_count": null,
   "metadata": {},
   "outputs": [],
   "source": []
  },
  {
   "cell_type": "code",
   "execution_count": null,
   "metadata": {},
   "outputs": [],
   "source": []
  },
  {
   "cell_type": "code",
   "execution_count": null,
   "metadata": {},
   "outputs": [],
   "source": []
  },
  {
   "cell_type": "code",
   "execution_count": null,
   "metadata": {},
   "outputs": [],
   "source": [
    "import numpy as np\n",
    "\n",
    "A = np.random.random((10000, 100))\n",
    "B = np.random.random((100, 1000))\n",
    "C = np.random.random((1000, 5))\n",
    "D = np.random.random((5, 333))\n",
    "\n",
    "list_of_arrays = [A, B, C, D]\n",
    "\n",
    "# the actual dot multiplication\n",
    "output = np.linalg.multi_dot(list_of_arrays)"
   ]
  },
  {
   "cell_type": "code",
   "execution_count": null,
   "metadata": {},
   "outputs": [],
   "source": []
  },
  {
   "cell_type": "code",
   "execution_count": null,
   "metadata": {},
   "outputs": [],
   "source": [
    "df = pd.DataFrame(np.random.randint(0,100,size=(10,10)))\n",
    "df"
   ]
  },
  {
   "cell_type": "code",
   "execution_count": null,
   "metadata": {},
   "outputs": [],
   "source": [
    "\n",
    "n"
   ]
  },
  {
   "cell_type": "code",
   "execution_count": null,
   "metadata": {},
   "outputs": [],
   "source": [
    "from itertools import product\n",
    "from random import sample\n",
    "\n",
    "p = 0.1\n",
    "n = int(df.shape[0]*df.shape[1]*p)          #Calculate count of nans\n",
    "\n",
    "#Sample exactly n indexes\n",
    "ids = sample(list(product(range(df.shape[0]), range(df.shape[1]))), n)\n",
    "idx, idy = list(zip(*ids))\n",
    "\n",
    "data = df.to_numpy().astype(float)            #Get data as numpy\n",
    "data[idx, idy]=np.nan                         #Update numpy view with np.nan\n",
    "\n",
    "#Assign to new dataframe\n",
    "new_df = pd.DataFrame(data, columns=df.columns, index=df.index)\n",
    "print(new_df)\n",
    "\n",
    "      0     1     2     3     4     5     6     7     8     9\n",
    "0  52.0  50.0  24.0  81.0  10.0   NaN   NaN  75.0  14.0  81.0\n",
    "1  45.0   3.0  61.0  67.0  93.0   NaN  90.0  34.0  39.0   4.0\n",
    "2   1.0   NaN   NaN  71.0  57.0  88.0   8.0   9.0  62.0  20.0\n",
    "3  78.0   3.0  82.0   1.0  75.0  50.0  33.0  66.0  52.0   8.0\n",
    "4  11.0  46.0  58.0  23.0   NaN  64.0  47.0  27.0   NaN  21.0\n",
    "5  70.0  35.0  54.0   NaN  70.0  82.0  69.0  94.0  20.0   NaN\n",
    "6  54.0  84.0  16.0  76.0  77.0  50.0  82.0  31.0   NaN  31.0\n",
    "7  71.0  79.0  93.0  11.0  46.0  27.0  19.0  84.0  67.0  30.0\n",
    "8  91.0  85.0  63.0   1.0  91.0  79.0  80.0  14.0  75.0   1.0\n",
    "9  50.0  34.0   8.0   8.0  10.0  56.0  49.0  45.0  39.0  13.0"
   ]
  },
  {
   "cell_type": "code",
   "execution_count": null,
   "metadata": {},
   "outputs": [],
   "source": [
    "np.random.random_sample()"
   ]
  },
  {
   "cell_type": "code",
   "execution_count": null,
   "metadata": {},
   "outputs": [],
   "source": []
  },
  {
   "cell_type": "code",
   "execution_count": null,
   "metadata": {},
   "outputs": [],
   "source": [
    "np.random.randint(0, df.shape[0], (n,))"
   ]
  },
  {
   "cell_type": "code",
   "execution_count": null,
   "metadata": {},
   "outputs": [],
   "source": []
  },
  {
   "cell_type": "code",
   "execution_count": null,
   "metadata": {},
   "outputs": [],
   "source": [
    "list(zip(idx, idy))"
   ]
  },
  {
   "cell_type": "code",
   "execution_count": null,
   "metadata": {},
   "outputs": [],
   "source": []
  },
  {
   "cell_type": "code",
   "execution_count": null,
   "metadata": {},
   "outputs": [],
   "source": [
    "df.ix[list(zip(idx,idy))]"
   ]
  },
  {
   "cell_type": "code",
   "execution_count": null,
   "metadata": {},
   "outputs": [],
   "source": []
  },
  {
   "cell_type": "code",
   "execution_count": null,
   "metadata": {},
   "outputs": [],
   "source": []
  },
  {
   "cell_type": "code",
   "execution_count": null,
   "metadata": {},
   "outputs": [],
   "source": []
  },
  {
   "cell_type": "code",
   "execution_count": null,
   "metadata": {},
   "outputs": [],
   "source": [
    "d = {'192.168.0.28': {'hostnames': [{'name': '', 'type': ''}], 'addresses': {'ipv4': '192.168.0.28'}, 'vendor': {}, 'status': {'state': 'up', 'reason': 'conn-refused'}, 'tcp': {22: {'state': 'open', 'reason': 'syn-ack', 'name': 'ssh', 'product': 'OpenSSH', 'version': '7.9p1 Raspbian 10+deb10u2', 'extrainfo': 'protocol 2.0', 'conf': '10', 'cpe': 'cpe:/o:linux:linux_kernel'}}}}\n",
    "d"
   ]
  },
  {
   "cell_type": "code",
   "execution_count": null,
   "metadata": {},
   "outputs": [],
   "source": [
    "import pandas as pd"
   ]
  },
  {
   "cell_type": "code",
   "execution_count": null,
   "metadata": {},
   "outputs": [],
   "source": [
    "pd.json_normalize(d)"
   ]
  },
  {
   "cell_type": "code",
   "execution_count": null,
   "metadata": {},
   "outputs": [],
   "source": []
  },
  {
   "cell_type": "code",
   "execution_count": null,
   "metadata": {},
   "outputs": [],
   "source": []
  },
  {
   "cell_type": "code",
   "execution_count": null,
   "metadata": {},
   "outputs": [],
   "source": [
    "import numpy as np\n",
    "\n",
    "\n",
    "a1 = [1,2,3,4]\n",
    "a2 = [11,22,33,44]\n",
    "a3 = [111,222,333,444]\n",
    "a4 = [1111,2222,3333,4444]\n",
    "\n",
    "a = []\n",
    "for x in a1:\n",
    "    for y in a2:\n",
    "        for k in a3:\n",
    "            for l in a4:\n",
    "                a.append((x, y, k, l))\n",
    "\n",
    "\n",
    "na = np.array(a)"
   ]
  },
  {
   "cell_type": "code",
   "execution_count": null,
   "metadata": {},
   "outputs": [],
   "source": [
    "na"
   ]
  },
  {
   "cell_type": "code",
   "execution_count": null,
   "metadata": {},
   "outputs": [],
   "source": []
  },
  {
   "cell_type": "code",
   "execution_count": null,
   "metadata": {},
   "outputs": [],
   "source": []
  },
  {
   "cell_type": "code",
   "execution_count": null,
   "metadata": {},
   "outputs": [],
   "source": [
    "df"
   ]
  },
  {
   "cell_type": "code",
   "execution_count": null,
   "metadata": {},
   "outputs": [],
   "source": []
  },
  {
   "cell_type": "code",
   "execution_count": null,
   "metadata": {},
   "outputs": [],
   "source": [
    "from sklearn.preprocessing import LabelEncoder\n",
    "from sklearn.impute import KNNImputer\n",
    "\n",
    "d = { 'year': [2019,2020,2019,2020,np.nan,np.nan], 'cat1': [1,2,3,4,np.nan,np.nan], 'cat2': ['c1','c1','c1','c2',np.nan,np.nan]}\n",
    "df = pd.DataFrame(data=d)\n",
    "df"
   ]
  },
  {
   "cell_type": "code",
   "execution_count": null,
   "metadata": {},
   "outputs": [],
   "source": [
    "\n",
    "knn = KNNImputer(n_neighbors=5)\n",
    "\n",
    "lb.fit(df['cat2'].dropna())\n",
    "mapping = {v:k for k,v in enumerate(lb.classes_)}\n",
    "df['cat2'] = df['cat2'].replace(mapping)"
   ]
  },
  {
   "cell_type": "code",
   "execution_count": null,
   "metadata": {},
   "outputs": [],
   "source": [
    "df"
   ]
  },
  {
   "cell_type": "code",
   "execution_count": null,
   "metadata": {},
   "outputs": [],
   "source": [
    "knn.fit_transform(df)"
   ]
  },
  {
   "cell_type": "code",
   "execution_count": null,
   "metadata": {},
   "outputs": [],
   "source": [
    "A\tB\tC\tD\tE\n",
    "2019\t1\t6\tC\tA\n",
    "2020\t2\t5\tD\tB\n",
    "2019\t3\t4\tE\tC\n",
    "2020\t4\t3\tF\tA\n",
    "2019\t5\t2\tG\tB\n",
    "2020\t6\t1\tH\tC"
   ]
  },
  {
   "cell_type": "code",
   "execution_count": null,
   "metadata": {},
   "outputs": [],
   "source": [
    "df = pd.read_clipboard()\n",
    "df"
   ]
  },
  {
   "cell_type": "code",
   "execution_count": null,
   "metadata": {},
   "outputs": [],
   "source": [
    "df.to_dict('list')"
   ]
  },
  {
   "cell_type": "code",
   "execution_count": null,
   "metadata": {},
   "outputs": [],
   "source": []
  },
  {
   "cell_type": "code",
   "execution_count": null,
   "metadata": {},
   "outputs": [],
   "source": [
    "data = {'A': [2019, 2020, 2019, 2020, 2019, 2020],\n",
    "        'B': [1, 2, 3, 4, 5, 6],\n",
    "        'C': [6, 5, 4, 3, 2, 1],\n",
    "        'D': ['C', 'D', 'E', 'F', 'G', 'H'],\n",
    "        'E': ['A', 'B', 'C', 'A', 'B', 'C'],\n",
    "        'F': [1,2,3,3,4,2]\n",
    "       }\n",
    "\n",
    "df = pd.DataFrame(data)\n",
    "empty = pd.DataFrame(columns=df.columns, index=df.index)[:4]\n",
    "df_new = df.append(empty).reset_index(drop=True)\n",
    "print(df_new)\n",
    "\n",
    "      A    B    C    D    E    F\n",
    "0  2019    1    6    C    A    1\n",
    "1  2020    2    5    D    B    2\n",
    "2  2019    3    4    E    C    3\n",
    "3  2020    4    3    F    A    3\n",
    "4  2019    5    2    G    B    4\n",
    "5  2020    6    1    H    C    2\n",
    "6   NaN  NaN  NaN  NaN  NaN  NaN\n",
    "7   NaN  NaN  NaN  NaN  NaN  NaN\n",
    "8   NaN  NaN  NaN  NaN  NaN  NaN\n",
    "9   NaN  NaN  NaN  NaN  NaN  NaN"
   ]
  },
  {
   "cell_type": "code",
   "execution_count": null,
   "metadata": {},
   "outputs": [],
   "source": [
    "import numpy as np\n",
    "import scipy as sp\n",
    "import pandas as pd\n",
    "\n",
    "\n",
    "#Curve fitting (linear)\n",
    "def f(x, m, c):\n",
    "    return m*x+c     #Modify to extrapolate for exponential sequences etc.\n",
    "\n",
    "#Interpolate continous linear\n",
    "def continous_interpolate(s):\n",
    "    clean = s.dropna()\n",
    "    popt, pcov = sp.optimize.curve_fit(f, clean.index, clean)\n",
    "    output = [round(i) for i in f(s.index, *popt)]  #Remove the round() for float values\n",
    "    return pd.Series(output)\n",
    "\n",
    "#Smallest Repeating sub-sequence\n",
    "def pattern(inputv):\n",
    "    '''\n",
    "    https://stackoverflow.com/questions/6021274/finding-shortest-repeating-cycle-in-word\n",
    "    '''\n",
    "    pattern_end =0\n",
    "    for j in range(pattern_end+1,len(inputv)):\n",
    "\n",
    "        pattern_dex = j%(pattern_end+1)\n",
    "        if(inputv[pattern_dex] != inputv[j]):\n",
    "\n",
    "            pattern_end = j;\n",
    "            continue\n",
    "\n",
    "        if(j == len(inputv)-1):\n",
    "            return inputv[0:pattern_end+1];\n",
    "    return inputv;\n",
    "\n",
    "#Categorical repeat imputation\n",
    "def categorical_repeat(s):\n",
    "    clean = s.dropna()\n",
    "    cycle = pattern(clean)\n",
    "    \n",
    "    repetitions = (len(s)//len(cycle))+1\n",
    "    output = np.tile(cycle, repetitions)[:len(s)]\n",
    "    return pd.Series(output)\n",
    "\n",
    "#continous sequence of alphabets\n",
    "def alphabet(s):\n",
    "    alp = 'abcdefghijklmnopqrstuvwxyz'\n",
    "    alp2 = alp*((len(s)//len(alp))+1)\n",
    "    \n",
    "    start = s[0]\n",
    "    idx = alp2.find(start.lower())\n",
    "    output = alp2[idx:idx+len(s)]\n",
    "\n",
    "    if start.isupper():\n",
    "        output = output.upper()\n",
    "    \n",
    "    return pd.Series(list(output))\n",
    "\n",
    "#If no pattern then just ffill\n",
    "def other(s):\n",
    "    return s.ffill()"
   ]
  },
  {
   "cell_type": "code",
   "execution_count": null,
   "metadata": {},
   "outputs": [],
   "source": [
    "config = {'A':categorical_repeat,\n",
    "          'B':continous_interpolate, \n",
    "          'C':continous_interpolate, \n",
    "          'D':alphabet,\n",
    "          'E':categorical_repeat, \n",
    "          'F':other}\n",
    "\n",
    "output_df = df_new.agg(config)\n",
    "print(output_df)\n",
    "\n",
    "      A   B  C  D  E  F\n",
    "0  2019   1  6  C  A  1\n",
    "1  2020   2  5  D  B  2\n",
    "2  2019   3  4  E  C  3\n",
    "3  2020   4  3  F  A  3\n",
    "4  2019   5  2  G  B  4\n",
    "5  2020   6  1  H  C  2\n",
    "6  2019   7  0  I  A  2\n",
    "7  2020   8 -1  J  B  2\n",
    "8  2019   9 -2  K  C  2\n",
    "9  2020  10 -3  L  A  2"
   ]
  },
  {
   "cell_type": "code",
   "execution_count": null,
   "metadata": {},
   "outputs": [],
   "source": []
  },
  {
   "cell_type": "code",
   "execution_count": null,
   "metadata": {},
   "outputs": [],
   "source": [
    "import pandas as pd\n",
    "d = { 'year': [2019,2020,2019,2020,np.nan,np.nan], 'cat1': [1,2,3,4,np.nan,np.nan], 'cat2': ['c1','c1','c1','c2',np.nan,np.nan]}\n",
    "df = pd.DataFrame(data=d)\n",
    "df"
   ]
  },
  {
   "cell_type": "code",
   "execution_count": null,
   "metadata": {},
   "outputs": [],
   "source": [
    "config = {'year':categorical_repeat, \n",
    "          'cat1':continous_interpolate, \n",
    "          'cat2':other}\n",
    "\n",
    "print(df.agg(config))\n",
    "\n",
    "     year  cat1 cat2\n",
    "0  2019.0     1   c1\n",
    "1  2020.0     2   c1\n",
    "2  2019.0     3   c1\n",
    "3  2020.0     4   c2\n",
    "4  2019.0     5   c2\n",
    "5  2020.0     6   c2"
   ]
  },
  {
   "cell_type": "code",
   "execution_count": null,
   "metadata": {},
   "outputs": [],
   "source": []
  },
  {
   "cell_type": "code",
   "execution_count": null,
   "metadata": {},
   "outputs": [],
   "source": [
    "categorical_repeat(df_new['A'])"
   ]
  },
  {
   "cell_type": "code",
   "execution_count": null,
   "metadata": {},
   "outputs": [],
   "source": []
  },
  {
   "cell_type": "code",
   "execution_count": null,
   "metadata": {},
   "outputs": [],
   "source": []
  },
  {
   "cell_type": "code",
   "execution_count": null,
   "metadata": {},
   "outputs": [],
   "source": []
  },
  {
   "cell_type": "code",
   "execution_count": null,
   "metadata": {},
   "outputs": [],
   "source": [
    "pattern([2019, 2020, 2019, 2020, 2019, 2020])"
   ]
  },
  {
   "cell_type": "code",
   "execution_count": null,
   "metadata": {},
   "outputs": [],
   "source": [
    "df_new['A'].dropna()"
   ]
  },
  {
   "cell_type": "code",
   "execution_count": null,
   "metadata": {},
   "outputs": [],
   "source": []
  },
  {
   "cell_type": "code",
   "execution_count": null,
   "metadata": {},
   "outputs": [],
   "source": []
  },
  {
   "cell_type": "code",
   "execution_count": 8,
   "metadata": {},
   "outputs": [],
   "source": [
    "from tensorflow.keras import Sequential\n",
    "from tensorflow.keras.layers import Dense"
   ]
  },
  {
   "cell_type": "code",
   "execution_count": 12,
   "metadata": {},
   "outputs": [
    {
     "name": "stdout",
     "output_type": "stream",
     "text": [
      "Model: \"sequential_3\"\n",
      "_________________________________________________________________\n",
      "Layer (type)                 Output Shape              Param #   \n",
      "=================================================================\n",
      "dense_3 (Dense)              (None, 1)                 2         \n",
      "=================================================================\n",
      "Total params: 2\n",
      "Trainable params: 2\n",
      "Non-trainable params: 0\n",
      "_________________________________________________________________\n"
     ]
    }
   ],
   "source": [
    "model = Sequential([\n",
    "    Dense(1, input_shape=(1,))\n",
    "])\n",
    "\n",
    "model.summary()"
   ]
  },
  {
   "cell_type": "code",
   "execution_count": null,
   "metadata": {},
   "outputs": [],
   "source": [
    "\n",
    "model.compile(optimizer='sgd',\n",
    "              loss='binary_crossentropy',\n",
    "              metrics=['accuracy'])\n",
    "\n",
    "# train\n",
    "hist = model.fit(t1_train, goal_train,\n",
    "          batch_size=32, epochs=25,\n",
    "          validation_data=(t1_val, goal_val))"
   ]
  },
  {
   "cell_type": "code",
   "execution_count": null,
   "metadata": {},
   "outputs": [],
   "source": []
  },
  {
   "cell_type": "code",
   "execution_count": null,
   "metadata": {},
   "outputs": [],
   "source": []
  },
  {
   "cell_type": "code",
   "execution_count": null,
   "metadata": {},
   "outputs": [],
   "source": []
  },
  {
   "cell_type": "code",
   "execution_count": 13,
   "metadata": {},
   "outputs": [],
   "source": [
    "mat1, mat2, mat3, mat4 = np.random.rand(3, 3), np.random.rand(3, 3), np.random.rand(3, 3), np.random.rand(3, 3)"
   ]
  },
  {
   "cell_type": "code",
   "execution_count": 18,
   "metadata": {},
   "outputs": [
    {
     "data": {
      "text/plain": [
       "[(3, 3), (3, 3), (3, 3), (3, 3)]"
      ]
     },
     "execution_count": 18,
     "metadata": {},
     "output_type": "execute_result"
    }
   ],
   "source": [
    "[i.shape for i in [mat1, mat2, mat3, mat4]]"
   ]
  },
  {
   "cell_type": "code",
   "execution_count": 15,
   "metadata": {},
   "outputs": [],
   "source": [
    "res = np.empty((8, 7, 6, 5))\n",
    "\n",
    "for i in range(8):\n",
    "    for j in range(7):\n",
    "        for p in range(6):\n",
    "            for q in range(5):\n",
    "                res[i, j, p, q] = np.linalg.norm(i * mat1 + j * mat2 + p * mat3 + q * mat4)"
   ]
  },
  {
   "cell_type": "code",
   "execution_count": 17,
   "metadata": {},
   "outputs": [
    {
     "data": {
      "text/plain": [
       "(8, 7, 6, 5)"
      ]
     },
     "execution_count": 17,
     "metadata": {},
     "output_type": "execute_result"
    }
   ],
   "source": [
    "res.shape"
   ]
  },
  {
   "cell_type": "code",
   "execution_count": 19,
   "metadata": {},
   "outputs": [
    {
     "data": {
      "text/plain": [
       "35.71236801413382"
      ]
     },
     "execution_count": 19,
     "metadata": {},
     "output_type": "execute_result"
    }
   ],
   "source": [
    "np.linalg.norm(i * mat1 + j * mat2 + p * mat3 + q * mat4)"
   ]
  },
  {
   "cell_type": "code",
   "execution_count": 21,
   "metadata": {},
   "outputs": [
    {
     "data": {
      "text/plain": [
       "(4, 3, 3)"
      ]
     },
     "execution_count": 21,
     "metadata": {},
     "output_type": "execute_result"
    }
   ],
   "source": []
  },
  {
   "cell_type": "code",
   "execution_count": 24,
   "metadata": {},
   "outputs": [
    {
     "name": "stdout",
     "output_type": "stream",
     "text": [
      "0 0 0 0\n",
      "0 0 0 1\n",
      "0 0 0 2\n",
      "0 0 0 3\n",
      "0 0 0 4\n",
      "0 0 1 0\n",
      "0 0 1 1\n",
      "0 0 1 2\n",
      "0 0 1 3\n",
      "0 0 1 4\n",
      "0 0 2 0\n",
      "0 0 2 1\n",
      "0 0 2 2\n",
      "0 0 2 3\n",
      "0 0 2 4\n",
      "0 0 3 0\n",
      "0 0 3 1\n",
      "0 0 3 2\n",
      "0 0 3 3\n",
      "0 0 3 4\n",
      "0 0 4 0\n",
      "0 0 4 1\n",
      "0 0 4 2\n",
      "0 0 4 3\n",
      "0 0 4 4\n",
      "0 0 5 0\n",
      "0 0 5 1\n",
      "0 0 5 2\n",
      "0 0 5 3\n",
      "0 0 5 4\n",
      "0 1 0 0\n",
      "0 1 0 1\n",
      "0 1 0 2\n",
      "0 1 0 3\n",
      "0 1 0 4\n",
      "0 1 1 0\n",
      "0 1 1 1\n",
      "0 1 1 2\n",
      "0 1 1 3\n",
      "0 1 1 4\n",
      "0 1 2 0\n",
      "0 1 2 1\n",
      "0 1 2 2\n",
      "0 1 2 3\n",
      "0 1 2 4\n",
      "0 1 3 0\n",
      "0 1 3 1\n",
      "0 1 3 2\n",
      "0 1 3 3\n",
      "0 1 3 4\n",
      "0 1 4 0\n",
      "0 1 4 1\n",
      "0 1 4 2\n",
      "0 1 4 3\n",
      "0 1 4 4\n",
      "0 1 5 0\n",
      "0 1 5 1\n",
      "0 1 5 2\n",
      "0 1 5 3\n",
      "0 1 5 4\n",
      "0 2 0 0\n",
      "0 2 0 1\n",
      "0 2 0 2\n",
      "0 2 0 3\n",
      "0 2 0 4\n",
      "0 2 1 0\n",
      "0 2 1 1\n",
      "0 2 1 2\n",
      "0 2 1 3\n",
      "0 2 1 4\n",
      "0 2 2 0\n",
      "0 2 2 1\n",
      "0 2 2 2\n",
      "0 2 2 3\n",
      "0 2 2 4\n",
      "0 2 3 0\n",
      "0 2 3 1\n",
      "0 2 3 2\n",
      "0 2 3 3\n",
      "0 2 3 4\n",
      "0 2 4 0\n",
      "0 2 4 1\n",
      "0 2 4 2\n",
      "0 2 4 3\n",
      "0 2 4 4\n",
      "0 2 5 0\n",
      "0 2 5 1\n",
      "0 2 5 2\n",
      "0 2 5 3\n",
      "0 2 5 4\n",
      "0 3 0 0\n",
      "0 3 0 1\n",
      "0 3 0 2\n",
      "0 3 0 3\n",
      "0 3 0 4\n",
      "0 3 1 0\n",
      "0 3 1 1\n",
      "0 3 1 2\n",
      "0 3 1 3\n",
      "0 3 1 4\n",
      "0 3 2 0\n",
      "0 3 2 1\n",
      "0 3 2 2\n",
      "0 3 2 3\n",
      "0 3 2 4\n",
      "0 3 3 0\n",
      "0 3 3 1\n",
      "0 3 3 2\n",
      "0 3 3 3\n",
      "0 3 3 4\n",
      "0 3 4 0\n",
      "0 3 4 1\n",
      "0 3 4 2\n",
      "0 3 4 3\n",
      "0 3 4 4\n",
      "0 3 5 0\n",
      "0 3 5 1\n",
      "0 3 5 2\n",
      "0 3 5 3\n",
      "0 3 5 4\n",
      "0 4 0 0\n",
      "0 4 0 1\n",
      "0 4 0 2\n",
      "0 4 0 3\n",
      "0 4 0 4\n",
      "0 4 1 0\n",
      "0 4 1 1\n",
      "0 4 1 2\n",
      "0 4 1 3\n",
      "0 4 1 4\n",
      "0 4 2 0\n",
      "0 4 2 1\n",
      "0 4 2 2\n",
      "0 4 2 3\n",
      "0 4 2 4\n",
      "0 4 3 0\n",
      "0 4 3 1\n",
      "0 4 3 2\n",
      "0 4 3 3\n",
      "0 4 3 4\n",
      "0 4 4 0\n",
      "0 4 4 1\n",
      "0 4 4 2\n",
      "0 4 4 3\n",
      "0 4 4 4\n",
      "0 4 5 0\n",
      "0 4 5 1\n",
      "0 4 5 2\n",
      "0 4 5 3\n",
      "0 4 5 4\n",
      "0 5 0 0\n",
      "0 5 0 1\n",
      "0 5 0 2\n",
      "0 5 0 3\n",
      "0 5 0 4\n",
      "0 5 1 0\n",
      "0 5 1 1\n",
      "0 5 1 2\n",
      "0 5 1 3\n",
      "0 5 1 4\n",
      "0 5 2 0\n",
      "0 5 2 1\n",
      "0 5 2 2\n",
      "0 5 2 3\n",
      "0 5 2 4\n",
      "0 5 3 0\n",
      "0 5 3 1\n",
      "0 5 3 2\n",
      "0 5 3 3\n",
      "0 5 3 4\n",
      "0 5 4 0\n",
      "0 5 4 1\n",
      "0 5 4 2\n",
      "0 5 4 3\n",
      "0 5 4 4\n",
      "0 5 5 0\n",
      "0 5 5 1\n",
      "0 5 5 2\n",
      "0 5 5 3\n",
      "0 5 5 4\n",
      "0 6 0 0\n",
      "0 6 0 1\n",
      "0 6 0 2\n",
      "0 6 0 3\n",
      "0 6 0 4\n",
      "0 6 1 0\n",
      "0 6 1 1\n",
      "0 6 1 2\n",
      "0 6 1 3\n",
      "0 6 1 4\n",
      "0 6 2 0\n",
      "0 6 2 1\n",
      "0 6 2 2\n",
      "0 6 2 3\n",
      "0 6 2 4\n",
      "0 6 3 0\n",
      "0 6 3 1\n",
      "0 6 3 2\n",
      "0 6 3 3\n",
      "0 6 3 4\n",
      "0 6 4 0\n",
      "0 6 4 1\n",
      "0 6 4 2\n",
      "0 6 4 3\n",
      "0 6 4 4\n",
      "0 6 5 0\n",
      "0 6 5 1\n",
      "0 6 5 2\n",
      "0 6 5 3\n",
      "0 6 5 4\n",
      "1 0 0 0\n",
      "1 0 0 1\n",
      "1 0 0 2\n",
      "1 0 0 3\n",
      "1 0 0 4\n",
      "1 0 1 0\n",
      "1 0 1 1\n",
      "1 0 1 2\n",
      "1 0 1 3\n",
      "1 0 1 4\n",
      "1 0 2 0\n",
      "1 0 2 1\n",
      "1 0 2 2\n",
      "1 0 2 3\n",
      "1 0 2 4\n",
      "1 0 3 0\n",
      "1 0 3 1\n",
      "1 0 3 2\n",
      "1 0 3 3\n",
      "1 0 3 4\n",
      "1 0 4 0\n",
      "1 0 4 1\n",
      "1 0 4 2\n",
      "1 0 4 3\n",
      "1 0 4 4\n",
      "1 0 5 0\n",
      "1 0 5 1\n",
      "1 0 5 2\n",
      "1 0 5 3\n",
      "1 0 5 4\n",
      "1 1 0 0\n",
      "1 1 0 1\n",
      "1 1 0 2\n",
      "1 1 0 3\n",
      "1 1 0 4\n",
      "1 1 1 0\n",
      "1 1 1 1\n",
      "1 1 1 2\n",
      "1 1 1 3\n",
      "1 1 1 4\n",
      "1 1 2 0\n",
      "1 1 2 1\n",
      "1 1 2 2\n",
      "1 1 2 3\n",
      "1 1 2 4\n",
      "1 1 3 0\n",
      "1 1 3 1\n",
      "1 1 3 2\n",
      "1 1 3 3\n",
      "1 1 3 4\n",
      "1 1 4 0\n",
      "1 1 4 1\n",
      "1 1 4 2\n",
      "1 1 4 3\n",
      "1 1 4 4\n",
      "1 1 5 0\n",
      "1 1 5 1\n",
      "1 1 5 2\n",
      "1 1 5 3\n",
      "1 1 5 4\n",
      "1 2 0 0\n",
      "1 2 0 1\n",
      "1 2 0 2\n",
      "1 2 0 3\n",
      "1 2 0 4\n",
      "1 2 1 0\n",
      "1 2 1 1\n",
      "1 2 1 2\n",
      "1 2 1 3\n",
      "1 2 1 4\n",
      "1 2 2 0\n",
      "1 2 2 1\n",
      "1 2 2 2\n",
      "1 2 2 3\n",
      "1 2 2 4\n",
      "1 2 3 0\n",
      "1 2 3 1\n",
      "1 2 3 2\n",
      "1 2 3 3\n",
      "1 2 3 4\n",
      "1 2 4 0\n",
      "1 2 4 1\n",
      "1 2 4 2\n",
      "1 2 4 3\n",
      "1 2 4 4\n",
      "1 2 5 0\n",
      "1 2 5 1\n",
      "1 2 5 2\n",
      "1 2 5 3\n",
      "1 2 5 4\n",
      "1 3 0 0\n",
      "1 3 0 1\n",
      "1 3 0 2\n",
      "1 3 0 3\n",
      "1 3 0 4\n",
      "1 3 1 0\n",
      "1 3 1 1\n",
      "1 3 1 2\n",
      "1 3 1 3\n",
      "1 3 1 4\n",
      "1 3 2 0\n",
      "1 3 2 1\n",
      "1 3 2 2\n",
      "1 3 2 3\n",
      "1 3 2 4\n",
      "1 3 3 0\n",
      "1 3 3 1\n",
      "1 3 3 2\n",
      "1 3 3 3\n",
      "1 3 3 4\n",
      "1 3 4 0\n",
      "1 3 4 1\n",
      "1 3 4 2\n",
      "1 3 4 3\n",
      "1 3 4 4\n",
      "1 3 5 0\n",
      "1 3 5 1\n",
      "1 3 5 2\n",
      "1 3 5 3\n",
      "1 3 5 4\n",
      "1 4 0 0\n",
      "1 4 0 1\n",
      "1 4 0 2\n",
      "1 4 0 3\n",
      "1 4 0 4\n",
      "1 4 1 0\n",
      "1 4 1 1\n",
      "1 4 1 2\n",
      "1 4 1 3\n",
      "1 4 1 4\n",
      "1 4 2 0\n",
      "1 4 2 1\n",
      "1 4 2 2\n",
      "1 4 2 3\n",
      "1 4 2 4\n",
      "1 4 3 0\n",
      "1 4 3 1\n",
      "1 4 3 2\n",
      "1 4 3 3\n",
      "1 4 3 4\n",
      "1 4 4 0\n",
      "1 4 4 1\n",
      "1 4 4 2\n",
      "1 4 4 3\n",
      "1 4 4 4\n",
      "1 4 5 0\n",
      "1 4 5 1\n",
      "1 4 5 2\n",
      "1 4 5 3\n",
      "1 4 5 4\n",
      "1 5 0 0\n",
      "1 5 0 1\n",
      "1 5 0 2\n",
      "1 5 0 3\n",
      "1 5 0 4\n",
      "1 5 1 0\n",
      "1 5 1 1\n",
      "1 5 1 2\n",
      "1 5 1 3\n",
      "1 5 1 4\n",
      "1 5 2 0\n",
      "1 5 2 1\n",
      "1 5 2 2\n",
      "1 5 2 3\n",
      "1 5 2 4\n",
      "1 5 3 0\n",
      "1 5 3 1\n",
      "1 5 3 2\n",
      "1 5 3 3\n",
      "1 5 3 4\n",
      "1 5 4 0\n",
      "1 5 4 1\n",
      "1 5 4 2\n",
      "1 5 4 3\n",
      "1 5 4 4\n",
      "1 5 5 0\n",
      "1 5 5 1\n",
      "1 5 5 2\n",
      "1 5 5 3\n",
      "1 5 5 4\n",
      "1 6 0 0\n",
      "1 6 0 1\n",
      "1 6 0 2\n",
      "1 6 0 3\n",
      "1 6 0 4\n",
      "1 6 1 0\n",
      "1 6 1 1\n",
      "1 6 1 2\n",
      "1 6 1 3\n",
      "1 6 1 4\n",
      "1 6 2 0\n",
      "1 6 2 1\n",
      "1 6 2 2\n",
      "1 6 2 3\n",
      "1 6 2 4\n",
      "1 6 3 0\n",
      "1 6 3 1\n",
      "1 6 3 2\n",
      "1 6 3 3\n",
      "1 6 3 4\n",
      "1 6 4 0\n",
      "1 6 4 1\n",
      "1 6 4 2\n",
      "1 6 4 3\n",
      "1 6 4 4\n",
      "1 6 5 0\n",
      "1 6 5 1\n",
      "1 6 5 2\n",
      "1 6 5 3\n",
      "1 6 5 4\n",
      "2 0 0 0\n",
      "2 0 0 1\n",
      "2 0 0 2\n",
      "2 0 0 3\n",
      "2 0 0 4\n",
      "2 0 1 0\n",
      "2 0 1 1\n",
      "2 0 1 2\n",
      "2 0 1 3\n",
      "2 0 1 4\n",
      "2 0 2 0\n",
      "2 0 2 1\n",
      "2 0 2 2\n",
      "2 0 2 3\n",
      "2 0 2 4\n",
      "2 0 3 0\n",
      "2 0 3 1\n",
      "2 0 3 2\n",
      "2 0 3 3\n",
      "2 0 3 4\n",
      "2 0 4 0\n",
      "2 0 4 1\n",
      "2 0 4 2\n",
      "2 0 4 3\n",
      "2 0 4 4\n",
      "2 0 5 0\n",
      "2 0 5 1\n",
      "2 0 5 2\n",
      "2 0 5 3\n",
      "2 0 5 4\n",
      "2 1 0 0\n",
      "2 1 0 1\n",
      "2 1 0 2\n",
      "2 1 0 3\n",
      "2 1 0 4\n",
      "2 1 1 0\n",
      "2 1 1 1\n",
      "2 1 1 2\n",
      "2 1 1 3\n",
      "2 1 1 4\n",
      "2 1 2 0\n",
      "2 1 2 1\n",
      "2 1 2 2\n",
      "2 1 2 3\n",
      "2 1 2 4\n",
      "2 1 3 0\n",
      "2 1 3 1\n",
      "2 1 3 2\n",
      "2 1 3 3\n",
      "2 1 3 4\n",
      "2 1 4 0\n",
      "2 1 4 1\n",
      "2 1 4 2\n",
      "2 1 4 3\n",
      "2 1 4 4\n",
      "2 1 5 0\n",
      "2 1 5 1\n",
      "2 1 5 2\n",
      "2 1 5 3\n",
      "2 1 5 4\n",
      "2 2 0 0\n",
      "2 2 0 1\n",
      "2 2 0 2\n",
      "2 2 0 3\n",
      "2 2 0 4\n",
      "2 2 1 0\n",
      "2 2 1 1\n",
      "2 2 1 2\n",
      "2 2 1 3\n",
      "2 2 1 4\n",
      "2 2 2 0\n",
      "2 2 2 1\n",
      "2 2 2 2\n",
      "2 2 2 3\n",
      "2 2 2 4\n",
      "2 2 3 0\n",
      "2 2 3 1\n",
      "2 2 3 2\n",
      "2 2 3 3\n",
      "2 2 3 4\n",
      "2 2 4 0\n",
      "2 2 4 1\n",
      "2 2 4 2\n",
      "2 2 4 3\n",
      "2 2 4 4\n",
      "2 2 5 0\n",
      "2 2 5 1\n",
      "2 2 5 2\n",
      "2 2 5 3\n",
      "2 2 5 4\n",
      "2 3 0 0\n",
      "2 3 0 1\n",
      "2 3 0 2\n",
      "2 3 0 3\n",
      "2 3 0 4\n",
      "2 3 1 0\n",
      "2 3 1 1\n",
      "2 3 1 2\n",
      "2 3 1 3\n",
      "2 3 1 4\n",
      "2 3 2 0\n",
      "2 3 2 1\n",
      "2 3 2 2\n",
      "2 3 2 3\n",
      "2 3 2 4\n",
      "2 3 3 0\n",
      "2 3 3 1\n",
      "2 3 3 2\n",
      "2 3 3 3\n",
      "2 3 3 4\n",
      "2 3 4 0\n",
      "2 3 4 1\n",
      "2 3 4 2\n",
      "2 3 4 3\n",
      "2 3 4 4\n",
      "2 3 5 0\n",
      "2 3 5 1\n",
      "2 3 5 2\n",
      "2 3 5 3\n",
      "2 3 5 4\n",
      "2 4 0 0\n",
      "2 4 0 1\n",
      "2 4 0 2\n",
      "2 4 0 3\n",
      "2 4 0 4\n",
      "2 4 1 0\n",
      "2 4 1 1\n",
      "2 4 1 2\n",
      "2 4 1 3\n",
      "2 4 1 4\n",
      "2 4 2 0\n",
      "2 4 2 1\n",
      "2 4 2 2\n",
      "2 4 2 3\n",
      "2 4 2 4\n",
      "2 4 3 0\n",
      "2 4 3 1\n",
      "2 4 3 2\n",
      "2 4 3 3\n",
      "2 4 3 4\n",
      "2 4 4 0\n",
      "2 4 4 1\n",
      "2 4 4 2\n",
      "2 4 4 3\n",
      "2 4 4 4\n",
      "2 4 5 0\n",
      "2 4 5 1\n",
      "2 4 5 2\n",
      "2 4 5 3\n",
      "2 4 5 4\n",
      "2 5 0 0\n",
      "2 5 0 1\n",
      "2 5 0 2\n",
      "2 5 0 3\n",
      "2 5 0 4\n",
      "2 5 1 0\n",
      "2 5 1 1\n",
      "2 5 1 2\n",
      "2 5 1 3\n",
      "2 5 1 4\n",
      "2 5 2 0\n",
      "2 5 2 1\n",
      "2 5 2 2\n",
      "2 5 2 3\n",
      "2 5 2 4\n",
      "2 5 3 0\n",
      "2 5 3 1\n",
      "2 5 3 2\n",
      "2 5 3 3\n",
      "2 5 3 4\n",
      "2 5 4 0\n",
      "2 5 4 1\n",
      "2 5 4 2\n",
      "2 5 4 3\n",
      "2 5 4 4\n",
      "2 5 5 0\n",
      "2 5 5 1\n",
      "2 5 5 2\n",
      "2 5 5 3\n",
      "2 5 5 4\n",
      "2 6 0 0\n",
      "2 6 0 1\n",
      "2 6 0 2\n",
      "2 6 0 3\n",
      "2 6 0 4\n",
      "2 6 1 0\n",
      "2 6 1 1\n",
      "2 6 1 2\n",
      "2 6 1 3\n",
      "2 6 1 4\n",
      "2 6 2 0\n",
      "2 6 2 1\n",
      "2 6 2 2\n",
      "2 6 2 3\n",
      "2 6 2 4\n",
      "2 6 3 0\n",
      "2 6 3 1\n",
      "2 6 3 2\n",
      "2 6 3 3\n",
      "2 6 3 4\n",
      "2 6 4 0\n",
      "2 6 4 1\n",
      "2 6 4 2\n",
      "2 6 4 3\n",
      "2 6 4 4\n",
      "2 6 5 0\n",
      "2 6 5 1\n",
      "2 6 5 2\n",
      "2 6 5 3\n",
      "2 6 5 4\n",
      "3 0 0 0\n",
      "3 0 0 1\n",
      "3 0 0 2\n",
      "3 0 0 3\n",
      "3 0 0 4\n",
      "3 0 1 0\n",
      "3 0 1 1\n",
      "3 0 1 2\n",
      "3 0 1 3\n",
      "3 0 1 4\n",
      "3 0 2 0\n",
      "3 0 2 1\n",
      "3 0 2 2\n",
      "3 0 2 3\n",
      "3 0 2 4\n",
      "3 0 3 0\n",
      "3 0 3 1\n",
      "3 0 3 2\n",
      "3 0 3 3\n",
      "3 0 3 4\n",
      "3 0 4 0\n",
      "3 0 4 1\n",
      "3 0 4 2\n",
      "3 0 4 3\n",
      "3 0 4 4\n",
      "3 0 5 0\n",
      "3 0 5 1\n",
      "3 0 5 2\n",
      "3 0 5 3\n",
      "3 0 5 4\n",
      "3 1 0 0\n",
      "3 1 0 1\n",
      "3 1 0 2\n",
      "3 1 0 3\n",
      "3 1 0 4\n",
      "3 1 1 0\n",
      "3 1 1 1\n",
      "3 1 1 2\n",
      "3 1 1 3\n",
      "3 1 1 4\n",
      "3 1 2 0\n",
      "3 1 2 1\n",
      "3 1 2 2\n",
      "3 1 2 3\n",
      "3 1 2 4\n",
      "3 1 3 0\n",
      "3 1 3 1\n",
      "3 1 3 2\n",
      "3 1 3 3\n",
      "3 1 3 4\n",
      "3 1 4 0\n",
      "3 1 4 1\n",
      "3 1 4 2\n",
      "3 1 4 3\n",
      "3 1 4 4\n",
      "3 1 5 0\n",
      "3 1 5 1\n",
      "3 1 5 2\n",
      "3 1 5 3\n",
      "3 1 5 4\n",
      "3 2 0 0\n",
      "3 2 0 1\n",
      "3 2 0 2\n",
      "3 2 0 3\n",
      "3 2 0 4\n",
      "3 2 1 0\n",
      "3 2 1 1\n",
      "3 2 1 2\n",
      "3 2 1 3\n",
      "3 2 1 4\n",
      "3 2 2 0\n",
      "3 2 2 1\n",
      "3 2 2 2\n",
      "3 2 2 3\n",
      "3 2 2 4\n",
      "3 2 3 0\n",
      "3 2 3 1\n",
      "3 2 3 2\n",
      "3 2 3 3\n",
      "3 2 3 4\n",
      "3 2 4 0\n",
      "3 2 4 1\n",
      "3 2 4 2\n",
      "3 2 4 3\n",
      "3 2 4 4\n",
      "3 2 5 0\n",
      "3 2 5 1\n",
      "3 2 5 2\n",
      "3 2 5 3\n",
      "3 2 5 4\n",
      "3 3 0 0\n",
      "3 3 0 1\n",
      "3 3 0 2\n",
      "3 3 0 3\n",
      "3 3 0 4\n",
      "3 3 1 0\n",
      "3 3 1 1\n",
      "3 3 1 2\n",
      "3 3 1 3\n",
      "3 3 1 4\n",
      "3 3 2 0\n",
      "3 3 2 1\n",
      "3 3 2 2\n",
      "3 3 2 3\n",
      "3 3 2 4\n",
      "3 3 3 0\n",
      "3 3 3 1\n",
      "3 3 3 2\n",
      "3 3 3 3\n",
      "3 3 3 4\n",
      "3 3 4 0\n",
      "3 3 4 1\n",
      "3 3 4 2\n",
      "3 3 4 3\n",
      "3 3 4 4\n",
      "3 3 5 0\n",
      "3 3 5 1\n",
      "3 3 5 2\n",
      "3 3 5 3\n",
      "3 3 5 4\n",
      "3 4 0 0\n",
      "3 4 0 1\n",
      "3 4 0 2\n",
      "3 4 0 3\n",
      "3 4 0 4\n",
      "3 4 1 0\n",
      "3 4 1 1\n",
      "3 4 1 2\n",
      "3 4 1 3\n",
      "3 4 1 4\n",
      "3 4 2 0\n",
      "3 4 2 1\n",
      "3 4 2 2\n",
      "3 4 2 3\n",
      "3 4 2 4\n",
      "3 4 3 0\n",
      "3 4 3 1\n",
      "3 4 3 2\n",
      "3 4 3 3\n",
      "3 4 3 4\n",
      "3 4 4 0\n",
      "3 4 4 1\n",
      "3 4 4 2\n",
      "3 4 4 3\n",
      "3 4 4 4\n",
      "3 4 5 0\n",
      "3 4 5 1\n",
      "3 4 5 2\n",
      "3 4 5 3\n",
      "3 4 5 4\n",
      "3 5 0 0\n",
      "3 5 0 1\n",
      "3 5 0 2\n",
      "3 5 0 3\n",
      "3 5 0 4\n",
      "3 5 1 0\n",
      "3 5 1 1\n",
      "3 5 1 2\n",
      "3 5 1 3\n",
      "3 5 1 4\n",
      "3 5 2 0\n",
      "3 5 2 1\n",
      "3 5 2 2\n",
      "3 5 2 3\n",
      "3 5 2 4\n",
      "3 5 3 0\n",
      "3 5 3 1\n",
      "3 5 3 2\n",
      "3 5 3 3\n",
      "3 5 3 4\n",
      "3 5 4 0\n",
      "3 5 4 1\n",
      "3 5 4 2\n",
      "3 5 4 3\n",
      "3 5 4 4\n",
      "3 5 5 0\n",
      "3 5 5 1\n",
      "3 5 5 2\n",
      "3 5 5 3\n",
      "3 5 5 4\n",
      "3 6 0 0\n",
      "3 6 0 1\n",
      "3 6 0 2\n",
      "3 6 0 3\n",
      "3 6 0 4\n",
      "3 6 1 0\n",
      "3 6 1 1\n",
      "3 6 1 2\n",
      "3 6 1 3\n",
      "3 6 1 4\n",
      "3 6 2 0\n",
      "3 6 2 1\n",
      "3 6 2 2\n",
      "3 6 2 3\n",
      "3 6 2 4\n",
      "3 6 3 0\n",
      "3 6 3 1\n",
      "3 6 3 2\n",
      "3 6 3 3\n",
      "3 6 3 4\n",
      "3 6 4 0\n",
      "3 6 4 1\n",
      "3 6 4 2\n",
      "3 6 4 3\n",
      "3 6 4 4\n",
      "3 6 5 0\n",
      "3 6 5 1\n",
      "3 6 5 2\n",
      "3 6 5 3\n",
      "3 6 5 4\n",
      "4 0 0 0\n",
      "4 0 0 1\n",
      "4 0 0 2\n",
      "4 0 0 3\n",
      "4 0 0 4\n",
      "4 0 1 0\n",
      "4 0 1 1\n",
      "4 0 1 2\n",
      "4 0 1 3\n",
      "4 0 1 4\n",
      "4 0 2 0\n",
      "4 0 2 1\n",
      "4 0 2 2\n",
      "4 0 2 3\n",
      "4 0 2 4\n",
      "4 0 3 0\n",
      "4 0 3 1\n",
      "4 0 3 2\n",
      "4 0 3 3\n",
      "4 0 3 4\n",
      "4 0 4 0\n",
      "4 0 4 1\n",
      "4 0 4 2\n",
      "4 0 4 3\n",
      "4 0 4 4\n",
      "4 0 5 0\n",
      "4 0 5 1\n",
      "4 0 5 2\n",
      "4 0 5 3\n",
      "4 0 5 4\n",
      "4 1 0 0\n",
      "4 1 0 1\n",
      "4 1 0 2\n",
      "4 1 0 3\n",
      "4 1 0 4\n",
      "4 1 1 0\n",
      "4 1 1 1\n",
      "4 1 1 2\n",
      "4 1 1 3\n",
      "4 1 1 4\n",
      "4 1 2 0\n",
      "4 1 2 1\n",
      "4 1 2 2\n",
      "4 1 2 3\n",
      "4 1 2 4\n",
      "4 1 3 0\n",
      "4 1 3 1\n",
      "4 1 3 2\n",
      "4 1 3 3\n",
      "4 1 3 4\n",
      "4 1 4 0\n",
      "4 1 4 1\n",
      "4 1 4 2\n",
      "4 1 4 3\n",
      "4 1 4 4\n",
      "4 1 5 0\n",
      "4 1 5 1\n",
      "4 1 5 2\n",
      "4 1 5 3\n",
      "4 1 5 4\n",
      "4 2 0 0\n",
      "4 2 0 1\n",
      "4 2 0 2\n",
      "4 2 0 3\n",
      "4 2 0 4\n",
      "4 2 1 0\n",
      "4 2 1 1\n",
      "4 2 1 2\n",
      "4 2 1 3\n",
      "4 2 1 4\n",
      "4 2 2 0\n",
      "4 2 2 1\n",
      "4 2 2 2\n",
      "4 2 2 3\n",
      "4 2 2 4\n",
      "4 2 3 0\n",
      "4 2 3 1\n",
      "4 2 3 2\n",
      "4 2 3 3\n",
      "4 2 3 4\n",
      "4 2 4 0\n",
      "4 2 4 1\n",
      "4 2 4 2\n",
      "4 2 4 3\n",
      "4 2 4 4\n",
      "4 2 5 0\n",
      "4 2 5 1\n",
      "4 2 5 2\n",
      "4 2 5 3\n",
      "4 2 5 4\n",
      "4 3 0 0\n",
      "4 3 0 1\n",
      "4 3 0 2\n",
      "4 3 0 3\n",
      "4 3 0 4\n",
      "4 3 1 0\n",
      "4 3 1 1\n",
      "4 3 1 2\n",
      "4 3 1 3\n",
      "4 3 1 4\n",
      "4 3 2 0\n",
      "4 3 2 1\n",
      "4 3 2 2\n",
      "4 3 2 3\n",
      "4 3 2 4\n",
      "4 3 3 0\n",
      "4 3 3 1\n",
      "4 3 3 2\n",
      "4 3 3 3\n",
      "4 3 3 4\n",
      "4 3 4 0\n",
      "4 3 4 1\n",
      "4 3 4 2\n",
      "4 3 4 3\n",
      "4 3 4 4\n",
      "4 3 5 0\n",
      "4 3 5 1\n",
      "4 3 5 2\n",
      "4 3 5 3\n",
      "4 3 5 4\n",
      "4 4 0 0\n",
      "4 4 0 1\n",
      "4 4 0 2\n",
      "4 4 0 3\n",
      "4 4 0 4\n",
      "4 4 1 0\n",
      "4 4 1 1\n",
      "4 4 1 2\n",
      "4 4 1 3\n",
      "4 4 1 4\n",
      "4 4 2 0\n",
      "4 4 2 1\n",
      "4 4 2 2\n",
      "4 4 2 3\n",
      "4 4 2 4\n",
      "4 4 3 0\n",
      "4 4 3 1\n",
      "4 4 3 2\n",
      "4 4 3 3\n",
      "4 4 3 4\n",
      "4 4 4 0\n",
      "4 4 4 1\n",
      "4 4 4 2\n",
      "4 4 4 3\n",
      "4 4 4 4\n",
      "4 4 5 0\n",
      "4 4 5 1\n",
      "4 4 5 2\n",
      "4 4 5 3\n",
      "4 4 5 4\n",
      "4 5 0 0\n",
      "4 5 0 1\n",
      "4 5 0 2\n",
      "4 5 0 3\n",
      "4 5 0 4\n",
      "4 5 1 0\n",
      "4 5 1 1\n",
      "4 5 1 2\n",
      "4 5 1 3\n",
      "4 5 1 4\n",
      "4 5 2 0\n",
      "4 5 2 1\n",
      "4 5 2 2\n",
      "4 5 2 3\n",
      "4 5 2 4\n",
      "4 5 3 0\n",
      "4 5 3 1\n",
      "4 5 3 2\n",
      "4 5 3 3\n",
      "4 5 3 4\n",
      "4 5 4 0\n",
      "4 5 4 1\n",
      "4 5 4 2\n",
      "4 5 4 3\n",
      "4 5 4 4\n",
      "4 5 5 0\n",
      "4 5 5 1\n",
      "4 5 5 2\n",
      "4 5 5 3\n",
      "4 5 5 4\n",
      "4 6 0 0\n",
      "4 6 0 1\n",
      "4 6 0 2\n",
      "4 6 0 3\n",
      "4 6 0 4\n",
      "4 6 1 0\n",
      "4 6 1 1\n",
      "4 6 1 2\n",
      "4 6 1 3\n",
      "4 6 1 4\n",
      "4 6 2 0\n",
      "4 6 2 1\n",
      "4 6 2 2\n",
      "4 6 2 3\n",
      "4 6 2 4\n",
      "4 6 3 0\n",
      "4 6 3 1\n",
      "4 6 3 2\n",
      "4 6 3 3\n",
      "4 6 3 4\n",
      "4 6 4 0\n",
      "4 6 4 1\n",
      "4 6 4 2\n",
      "4 6 4 3\n",
      "4 6 4 4\n",
      "4 6 5 0\n",
      "4 6 5 1\n",
      "4 6 5 2\n",
      "4 6 5 3\n",
      "4 6 5 4\n",
      "5 0 0 0\n",
      "5 0 0 1\n",
      "5 0 0 2\n",
      "5 0 0 3\n",
      "5 0 0 4\n",
      "5 0 1 0\n",
      "5 0 1 1\n",
      "5 0 1 2\n",
      "5 0 1 3\n",
      "5 0 1 4\n",
      "5 0 2 0\n",
      "5 0 2 1\n",
      "5 0 2 2\n",
      "5 0 2 3\n",
      "5 0 2 4\n",
      "5 0 3 0\n",
      "5 0 3 1\n",
      "5 0 3 2\n",
      "5 0 3 3\n",
      "5 0 3 4\n",
      "5 0 4 0\n",
      "5 0 4 1\n",
      "5 0 4 2\n",
      "5 0 4 3\n",
      "5 0 4 4\n",
      "5 0 5 0\n",
      "5 0 5 1\n",
      "5 0 5 2\n",
      "5 0 5 3\n",
      "5 0 5 4\n",
      "5 1 0 0\n",
      "5 1 0 1\n",
      "5 1 0 2\n",
      "5 1 0 3\n",
      "5 1 0 4\n",
      "5 1 1 0\n",
      "5 1 1 1\n",
      "5 1 1 2\n",
      "5 1 1 3\n",
      "5 1 1 4\n",
      "5 1 2 0\n",
      "5 1 2 1\n",
      "5 1 2 2\n",
      "5 1 2 3\n",
      "5 1 2 4\n",
      "5 1 3 0\n",
      "5 1 3 1\n",
      "5 1 3 2\n",
      "5 1 3 3\n",
      "5 1 3 4\n",
      "5 1 4 0\n",
      "5 1 4 1\n",
      "5 1 4 2\n",
      "5 1 4 3\n",
      "5 1 4 4\n",
      "5 1 5 0\n",
      "5 1 5 1\n",
      "5 1 5 2\n",
      "5 1 5 3\n",
      "5 1 5 4\n",
      "5 2 0 0\n",
      "5 2 0 1\n",
      "5 2 0 2\n",
      "5 2 0 3\n",
      "5 2 0 4\n",
      "5 2 1 0\n",
      "5 2 1 1\n",
      "5 2 1 2\n",
      "5 2 1 3\n",
      "5 2 1 4\n",
      "5 2 2 0\n",
      "5 2 2 1\n",
      "5 2 2 2\n",
      "5 2 2 3\n",
      "5 2 2 4\n",
      "5 2 3 0\n",
      "5 2 3 1\n",
      "5 2 3 2\n",
      "5 2 3 3\n",
      "5 2 3 4\n",
      "5 2 4 0\n",
      "5 2 4 1\n",
      "5 2 4 2\n",
      "5 2 4 3\n",
      "5 2 4 4\n",
      "5 2 5 0\n",
      "5 2 5 1\n",
      "5 2 5 2\n",
      "5 2 5 3\n",
      "5 2 5 4\n",
      "5 3 0 0\n",
      "5 3 0 1\n",
      "5 3 0 2\n",
      "5 3 0 3\n",
      "5 3 0 4\n",
      "5 3 1 0\n",
      "5 3 1 1\n",
      "5 3 1 2\n",
      "5 3 1 3\n",
      "5 3 1 4\n",
      "5 3 2 0\n",
      "5 3 2 1\n",
      "5 3 2 2\n",
      "5 3 2 3\n",
      "5 3 2 4\n",
      "5 3 3 0\n",
      "5 3 3 1\n",
      "5 3 3 2\n",
      "5 3 3 3\n",
      "5 3 3 4\n",
      "5 3 4 0\n",
      "5 3 4 1\n",
      "5 3 4 2\n",
      "5 3 4 3\n",
      "5 3 4 4\n",
      "5 3 5 0\n",
      "5 3 5 1\n",
      "5 3 5 2\n",
      "5 3 5 3\n",
      "5 3 5 4\n",
      "5 4 0 0\n",
      "5 4 0 1\n",
      "5 4 0 2\n",
      "5 4 0 3\n",
      "5 4 0 4\n",
      "5 4 1 0\n",
      "5 4 1 1\n",
      "5 4 1 2\n",
      "5 4 1 3\n",
      "5 4 1 4\n",
      "5 4 2 0\n",
      "5 4 2 1\n",
      "5 4 2 2\n",
      "5 4 2 3\n",
      "5 4 2 4\n",
      "5 4 3 0\n",
      "5 4 3 1\n",
      "5 4 3 2\n",
      "5 4 3 3\n",
      "5 4 3 4\n",
      "5 4 4 0\n",
      "5 4 4 1\n",
      "5 4 4 2\n",
      "5 4 4 3\n",
      "5 4 4 4\n",
      "5 4 5 0\n"
     ]
    },
    {
     "name": "stdout",
     "output_type": "stream",
     "text": [
      "5 4 5 1\n",
      "5 4 5 2\n",
      "5 4 5 3\n",
      "5 4 5 4\n",
      "5 5 0 0\n",
      "5 5 0 1\n",
      "5 5 0 2\n",
      "5 5 0 3\n",
      "5 5 0 4\n",
      "5 5 1 0\n",
      "5 5 1 1\n",
      "5 5 1 2\n",
      "5 5 1 3\n",
      "5 5 1 4\n",
      "5 5 2 0\n",
      "5 5 2 1\n",
      "5 5 2 2\n",
      "5 5 2 3\n",
      "5 5 2 4\n",
      "5 5 3 0\n",
      "5 5 3 1\n",
      "5 5 3 2\n",
      "5 5 3 3\n",
      "5 5 3 4\n",
      "5 5 4 0\n",
      "5 5 4 1\n",
      "5 5 4 2\n",
      "5 5 4 3\n",
      "5 5 4 4\n",
      "5 5 5 0\n",
      "5 5 5 1\n",
      "5 5 5 2\n",
      "5 5 5 3\n",
      "5 5 5 4\n",
      "5 6 0 0\n",
      "5 6 0 1\n",
      "5 6 0 2\n",
      "5 6 0 3\n",
      "5 6 0 4\n",
      "5 6 1 0\n",
      "5 6 1 1\n",
      "5 6 1 2\n",
      "5 6 1 3\n",
      "5 6 1 4\n",
      "5 6 2 0\n",
      "5 6 2 1\n",
      "5 6 2 2\n",
      "5 6 2 3\n",
      "5 6 2 4\n",
      "5 6 3 0\n",
      "5 6 3 1\n",
      "5 6 3 2\n",
      "5 6 3 3\n",
      "5 6 3 4\n",
      "5 6 4 0\n",
      "5 6 4 1\n",
      "5 6 4 2\n",
      "5 6 4 3\n",
      "5 6 4 4\n",
      "5 6 5 0\n",
      "5 6 5 1\n",
      "5 6 5 2\n",
      "5 6 5 3\n",
      "5 6 5 4\n",
      "6 0 0 0\n",
      "6 0 0 1\n",
      "6 0 0 2\n",
      "6 0 0 3\n",
      "6 0 0 4\n",
      "6 0 1 0\n",
      "6 0 1 1\n",
      "6 0 1 2\n",
      "6 0 1 3\n",
      "6 0 1 4\n",
      "6 0 2 0\n",
      "6 0 2 1\n",
      "6 0 2 2\n",
      "6 0 2 3\n",
      "6 0 2 4\n",
      "6 0 3 0\n",
      "6 0 3 1\n",
      "6 0 3 2\n",
      "6 0 3 3\n",
      "6 0 3 4\n",
      "6 0 4 0\n",
      "6 0 4 1\n",
      "6 0 4 2\n",
      "6 0 4 3\n",
      "6 0 4 4\n",
      "6 0 5 0\n",
      "6 0 5 1\n",
      "6 0 5 2\n",
      "6 0 5 3\n",
      "6 0 5 4\n",
      "6 1 0 0\n",
      "6 1 0 1\n",
      "6 1 0 2\n",
      "6 1 0 3\n",
      "6 1 0 4\n",
      "6 1 1 0\n",
      "6 1 1 1\n",
      "6 1 1 2\n",
      "6 1 1 3\n",
      "6 1 1 4\n",
      "6 1 2 0\n",
      "6 1 2 1\n",
      "6 1 2 2\n",
      "6 1 2 3\n",
      "6 1 2 4\n",
      "6 1 3 0\n",
      "6 1 3 1\n",
      "6 1 3 2\n",
      "6 1 3 3\n",
      "6 1 3 4\n",
      "6 1 4 0\n",
      "6 1 4 1\n",
      "6 1 4 2\n",
      "6 1 4 3\n",
      "6 1 4 4\n",
      "6 1 5 0\n",
      "6 1 5 1\n",
      "6 1 5 2\n",
      "6 1 5 3\n",
      "6 1 5 4\n",
      "6 2 0 0\n",
      "6 2 0 1\n",
      "6 2 0 2\n",
      "6 2 0 3\n",
      "6 2 0 4\n",
      "6 2 1 0\n",
      "6 2 1 1\n",
      "6 2 1 2\n",
      "6 2 1 3\n",
      "6 2 1 4\n",
      "6 2 2 0\n",
      "6 2 2 1\n",
      "6 2 2 2\n",
      "6 2 2 3\n",
      "6 2 2 4\n",
      "6 2 3 0\n",
      "6 2 3 1\n",
      "6 2 3 2\n",
      "6 2 3 3\n",
      "6 2 3 4\n",
      "6 2 4 0\n",
      "6 2 4 1\n",
      "6 2 4 2\n",
      "6 2 4 3\n",
      "6 2 4 4\n",
      "6 2 5 0\n",
      "6 2 5 1\n",
      "6 2 5 2\n",
      "6 2 5 3\n",
      "6 2 5 4\n",
      "6 3 0 0\n",
      "6 3 0 1\n",
      "6 3 0 2\n",
      "6 3 0 3\n",
      "6 3 0 4\n",
      "6 3 1 0\n",
      "6 3 1 1\n",
      "6 3 1 2\n",
      "6 3 1 3\n",
      "6 3 1 4\n",
      "6 3 2 0\n",
      "6 3 2 1\n",
      "6 3 2 2\n",
      "6 3 2 3\n",
      "6 3 2 4\n",
      "6 3 3 0\n",
      "6 3 3 1\n",
      "6 3 3 2\n",
      "6 3 3 3\n",
      "6 3 3 4\n",
      "6 3 4 0\n",
      "6 3 4 1\n",
      "6 3 4 2\n",
      "6 3 4 3\n",
      "6 3 4 4\n",
      "6 3 5 0\n",
      "6 3 5 1\n",
      "6 3 5 2\n",
      "6 3 5 3\n",
      "6 3 5 4\n",
      "6 4 0 0\n",
      "6 4 0 1\n",
      "6 4 0 2\n",
      "6 4 0 3\n",
      "6 4 0 4\n",
      "6 4 1 0\n",
      "6 4 1 1\n",
      "6 4 1 2\n",
      "6 4 1 3\n",
      "6 4 1 4\n",
      "6 4 2 0\n",
      "6 4 2 1\n",
      "6 4 2 2\n",
      "6 4 2 3\n",
      "6 4 2 4\n",
      "6 4 3 0\n",
      "6 4 3 1\n",
      "6 4 3 2\n",
      "6 4 3 3\n",
      "6 4 3 4\n",
      "6 4 4 0\n",
      "6 4 4 1\n",
      "6 4 4 2\n",
      "6 4 4 3\n",
      "6 4 4 4\n",
      "6 4 5 0\n",
      "6 4 5 1\n",
      "6 4 5 2\n",
      "6 4 5 3\n",
      "6 4 5 4\n",
      "6 5 0 0\n",
      "6 5 0 1\n",
      "6 5 0 2\n",
      "6 5 0 3\n",
      "6 5 0 4\n",
      "6 5 1 0\n",
      "6 5 1 1\n",
      "6 5 1 2\n",
      "6 5 1 3\n",
      "6 5 1 4\n",
      "6 5 2 0\n",
      "6 5 2 1\n",
      "6 5 2 2\n",
      "6 5 2 3\n",
      "6 5 2 4\n",
      "6 5 3 0\n",
      "6 5 3 1\n",
      "6 5 3 2\n",
      "6 5 3 3\n",
      "6 5 3 4\n",
      "6 5 4 0\n",
      "6 5 4 1\n",
      "6 5 4 2\n",
      "6 5 4 3\n",
      "6 5 4 4\n",
      "6 5 5 0\n",
      "6 5 5 1\n",
      "6 5 5 2\n",
      "6 5 5 3\n",
      "6 5 5 4\n",
      "6 6 0 0\n",
      "6 6 0 1\n",
      "6 6 0 2\n",
      "6 6 0 3\n",
      "6 6 0 4\n",
      "6 6 1 0\n",
      "6 6 1 1\n",
      "6 6 1 2\n",
      "6 6 1 3\n",
      "6 6 1 4\n",
      "6 6 2 0\n",
      "6 6 2 1\n",
      "6 6 2 2\n",
      "6 6 2 3\n",
      "6 6 2 4\n",
      "6 6 3 0\n",
      "6 6 3 1\n",
      "6 6 3 2\n",
      "6 6 3 3\n",
      "6 6 3 4\n",
      "6 6 4 0\n",
      "6 6 4 1\n",
      "6 6 4 2\n",
      "6 6 4 3\n",
      "6 6 4 4\n",
      "6 6 5 0\n",
      "6 6 5 1\n",
      "6 6 5 2\n",
      "6 6 5 3\n",
      "6 6 5 4\n",
      "7 0 0 0\n",
      "7 0 0 1\n",
      "7 0 0 2\n",
      "7 0 0 3\n",
      "7 0 0 4\n",
      "7 0 1 0\n",
      "7 0 1 1\n",
      "7 0 1 2\n",
      "7 0 1 3\n",
      "7 0 1 4\n",
      "7 0 2 0\n",
      "7 0 2 1\n",
      "7 0 2 2\n",
      "7 0 2 3\n",
      "7 0 2 4\n",
      "7 0 3 0\n",
      "7 0 3 1\n",
      "7 0 3 2\n",
      "7 0 3 3\n",
      "7 0 3 4\n",
      "7 0 4 0\n",
      "7 0 4 1\n",
      "7 0 4 2\n",
      "7 0 4 3\n",
      "7 0 4 4\n",
      "7 0 5 0\n",
      "7 0 5 1\n",
      "7 0 5 2\n",
      "7 0 5 3\n",
      "7 0 5 4\n",
      "7 1 0 0\n",
      "7 1 0 1\n",
      "7 1 0 2\n",
      "7 1 0 3\n",
      "7 1 0 4\n",
      "7 1 1 0\n",
      "7 1 1 1\n",
      "7 1 1 2\n",
      "7 1 1 3\n",
      "7 1 1 4\n",
      "7 1 2 0\n",
      "7 1 2 1\n",
      "7 1 2 2\n",
      "7 1 2 3\n",
      "7 1 2 4\n",
      "7 1 3 0\n",
      "7 1 3 1\n",
      "7 1 3 2\n",
      "7 1 3 3\n",
      "7 1 3 4\n",
      "7 1 4 0\n",
      "7 1 4 1\n",
      "7 1 4 2\n",
      "7 1 4 3\n",
      "7 1 4 4\n",
      "7 1 5 0\n",
      "7 1 5 1\n",
      "7 1 5 2\n",
      "7 1 5 3\n",
      "7 1 5 4\n",
      "7 2 0 0\n",
      "7 2 0 1\n",
      "7 2 0 2\n",
      "7 2 0 3\n",
      "7 2 0 4\n",
      "7 2 1 0\n",
      "7 2 1 1\n",
      "7 2 1 2\n",
      "7 2 1 3\n",
      "7 2 1 4\n",
      "7 2 2 0\n",
      "7 2 2 1\n",
      "7 2 2 2\n",
      "7 2 2 3\n",
      "7 2 2 4\n",
      "7 2 3 0\n",
      "7 2 3 1\n",
      "7 2 3 2\n",
      "7 2 3 3\n",
      "7 2 3 4\n",
      "7 2 4 0\n",
      "7 2 4 1\n",
      "7 2 4 2\n",
      "7 2 4 3\n",
      "7 2 4 4\n",
      "7 2 5 0\n",
      "7 2 5 1\n",
      "7 2 5 2\n",
      "7 2 5 3\n",
      "7 2 5 4\n",
      "7 3 0 0\n",
      "7 3 0 1\n",
      "7 3 0 2\n",
      "7 3 0 3\n",
      "7 3 0 4\n",
      "7 3 1 0\n",
      "7 3 1 1\n",
      "7 3 1 2\n",
      "7 3 1 3\n",
      "7 3 1 4\n",
      "7 3 2 0\n",
      "7 3 2 1\n",
      "7 3 2 2\n",
      "7 3 2 3\n",
      "7 3 2 4\n",
      "7 3 3 0\n",
      "7 3 3 1\n",
      "7 3 3 2\n",
      "7 3 3 3\n",
      "7 3 3 4\n",
      "7 3 4 0\n",
      "7 3 4 1\n",
      "7 3 4 2\n",
      "7 3 4 3\n",
      "7 3 4 4\n",
      "7 3 5 0\n",
      "7 3 5 1\n",
      "7 3 5 2\n",
      "7 3 5 3\n",
      "7 3 5 4\n",
      "7 4 0 0\n",
      "7 4 0 1\n",
      "7 4 0 2\n",
      "7 4 0 3\n",
      "7 4 0 4\n",
      "7 4 1 0\n",
      "7 4 1 1\n",
      "7 4 1 2\n",
      "7 4 1 3\n",
      "7 4 1 4\n",
      "7 4 2 0\n",
      "7 4 2 1\n",
      "7 4 2 2\n",
      "7 4 2 3\n",
      "7 4 2 4\n",
      "7 4 3 0\n",
      "7 4 3 1\n",
      "7 4 3 2\n",
      "7 4 3 3\n",
      "7 4 3 4\n",
      "7 4 4 0\n",
      "7 4 4 1\n",
      "7 4 4 2\n",
      "7 4 4 3\n",
      "7 4 4 4\n",
      "7 4 5 0\n",
      "7 4 5 1\n",
      "7 4 5 2\n",
      "7 4 5 3\n",
      "7 4 5 4\n",
      "7 5 0 0\n",
      "7 5 0 1\n",
      "7 5 0 2\n",
      "7 5 0 3\n",
      "7 5 0 4\n",
      "7 5 1 0\n",
      "7 5 1 1\n",
      "7 5 1 2\n",
      "7 5 1 3\n",
      "7 5 1 4\n",
      "7 5 2 0\n",
      "7 5 2 1\n",
      "7 5 2 2\n",
      "7 5 2 3\n",
      "7 5 2 4\n",
      "7 5 3 0\n",
      "7 5 3 1\n",
      "7 5 3 2\n",
      "7 5 3 3\n",
      "7 5 3 4\n",
      "7 5 4 0\n",
      "7 5 4 1\n",
      "7 5 4 2\n",
      "7 5 4 3\n",
      "7 5 4 4\n",
      "7 5 5 0\n",
      "7 5 5 1\n",
      "7 5 5 2\n",
      "7 5 5 3\n",
      "7 5 5 4\n",
      "7 6 0 0\n",
      "7 6 0 1\n",
      "7 6 0 2\n",
      "7 6 0 3\n",
      "7 6 0 4\n",
      "7 6 1 0\n",
      "7 6 1 1\n",
      "7 6 1 2\n",
      "7 6 1 3\n",
      "7 6 1 4\n",
      "7 6 2 0\n",
      "7 6 2 1\n",
      "7 6 2 2\n",
      "7 6 2 3\n",
      "7 6 2 4\n",
      "7 6 3 0\n",
      "7 6 3 1\n",
      "7 6 3 2\n",
      "7 6 3 3\n",
      "7 6 3 4\n",
      "7 6 4 0\n",
      "7 6 4 1\n",
      "7 6 4 2\n",
      "7 6 4 3\n",
      "7 6 4 4\n",
      "7 6 5 0\n",
      "7 6 5 1\n",
      "7 6 5 2\n",
      "7 6 5 3\n",
      "7 6 5 4\n"
     ]
    }
   ],
   "source": [
    "for i in range(8):\n",
    "    for j in range(7):\n",
    "        for p in range(6):\n",
    "            for q in range(5):\n",
    "                i * mat1 + j * mat2 + p * mat3 + q * mat4"
   ]
  },
  {
   "cell_type": "code",
   "execution_count": null,
   "metadata": {},
   "outputs": [],
   "source": []
  },
  {
   "cell_type": "code",
   "execution_count": 64,
   "metadata": {},
   "outputs": [],
   "source": [
    "res = np.empty((8, 7, 6, 5))\n",
    "\n",
    "for i in range(8):\n",
    "    for j in range(7):\n",
    "        for p in range(6):\n",
    "            for q in range(5):\n",
    "                res[i, j, p, q] = np.linalg.norm(i * mat1 + j * mat2 + p * mat3 + q * mat4)"
   ]
  },
  {
   "cell_type": "code",
   "execution_count": 66,
   "metadata": {},
   "outputs": [],
   "source": []
  },
  {
   "cell_type": "code",
   "execution_count": 67,
   "metadata": {},
   "outputs": [
    {
     "data": {
      "text/plain": [
       "True"
      ]
     },
     "execution_count": 67,
     "metadata": {},
     "output_type": "execute_result"
    }
   ],
   "source": []
  },
  {
   "cell_type": "code",
   "execution_count": null,
   "metadata": {},
   "outputs": [],
   "source": []
  },
  {
   "cell_type": "code",
   "execution_count": null,
   "metadata": {},
   "outputs": [],
   "source": []
  },
  {
   "cell_type": "code",
   "execution_count": 49,
   "metadata": {},
   "outputs": [
    {
     "data": {
      "text/plain": [
       "((1680, 4), (4, 3, 3))"
      ]
     },
     "execution_count": 49,
     "metadata": {},
     "output_type": "execute_result"
    }
   ],
   "source": [
    "res.shape, np.stack([mat1, mat2, mat3, mat4]).shape"
   ]
  },
  {
   "cell_type": "code",
   "execution_count": 84,
   "metadata": {},
   "outputs": [
    {
     "data": {
      "text/plain": [
       "[[0, 'x', 0, 'x', 0, 'x', 0, 'x'],\n",
       " [0, 'x', 0, 'x', 0, 'x', 0, 'x'],\n",
       " [0, 'x', 0, 'x', 0, 'x', 0, 'x'],\n",
       " [0, 'x', 0, 'x', 0, 'x', 0, 'x'],\n",
       " [0, 'x', 0, 'x', 0, 'x', 0, 'x'],\n",
       " [0, 'x', 0, 'x', 0, 'x', 0, 'x'],\n",
       " [0, 'x', 0, 'x', 0, 'x', 0, 'x'],\n",
       " [0, 'x', 0, 'x', 0, 'x', 0, 'x']]"
      ]
     },
     "execution_count": 84,
     "metadata": {},
     "output_type": "execute_result"
    }
   ],
   "source": [
    "from itertools import cycle\n",
    "\n",
    "n = 8\n",
    "values = cycle([0, 'x'])\n",
    "\n",
    "\n",
    "[[next(values) for i in range(n)] for j in range(n)]"
   ]
  },
  {
   "cell_type": "code",
   "execution_count": 99,
   "metadata": {},
   "outputs": [
    {
     "ename": "SyntaxError",
     "evalue": "unexpected EOF while parsing (<ipython-input-99-ec5c9d13b51b>, line 3)",
     "output_type": "error",
     "traceback": [
      "\u001b[0;36m  File \u001b[0;32m\"<ipython-input-99-ec5c9d13b51b>\"\u001b[0;36m, line \u001b[0;32m3\u001b[0m\n\u001b[0;31m    board[::2]=[r[1:]+r\u001b[0m\n\u001b[0m                       ^\u001b[0m\n\u001b[0;31mSyntaxError\u001b[0m\u001b[0;31m:\u001b[0m unexpected EOF while parsing\n"
     ]
    }
   ],
   "source": [
    "r = 'X '*9\n",
    "board = [r]*9\n",
    "board[::2]=[r[1:]+r"
   ]
  },
  {
   "cell_type": "code",
   "execution_count": 113,
   "metadata": {},
   "outputs": [
    {
     "data": {
      "text/plain": [
       "'X X X X X'"
      ]
     },
     "execution_count": 113,
     "metadata": {},
     "output_type": "execute_result"
    }
   ],
   "source": [
    "n = 5\n",
    "tile='X'\n",
    "fill=' '\n",
    "\n",
    "fill.join(tile*n), tile.join(fill*n)"
   ]
  },
  {
   "cell_type": "code",
   "execution_count": 149,
   "metadata": {},
   "outputs": [
    {
     "data": {
      "text/plain": [
       "' X X X X '"
      ]
     },
     "execution_count": 149,
     "metadata": {},
     "output_type": "execute_result"
    }
   ],
   "source": []
  },
  {
   "cell_type": "code",
   "execution_count": null,
   "metadata": {},
   "outputs": [],
   "source": [
    "list.pop(0)"
   ]
  },
  {
   "cell_type": "code",
   "execution_count": null,
   "metadata": {},
   "outputs": [],
   "source": []
  },
  {
   "cell_type": "code",
   "execution_count": null,
   "metadata": {},
   "outputs": [],
   "source": [
    "norm(3,)"
   ]
  },
  {
   "cell_type": "code",
   "execution_count": null,
   "metadata": {},
   "outputs": [],
   "source": [
    "4X4, 5X5, 3\n",
    "\n",
    "QXV, 1,2,3,4,5 X 1,2,3,4,5, 3"
   ]
  },
  {
   "cell_type": "code",
   "execution_count": null,
   "metadata": {},
   "outputs": [],
   "source": []
  },
  {
   "cell_type": "code",
   "execution_count": 183,
   "metadata": {},
   "outputs": [
    {
     "name": "stdout",
     "output_type": "stream",
     "text": [
      "(8, 4, 1, 5, 1, 3)\n",
      "(8, 1, 4, 1, 5, 3)\n",
      "(8, 4, 4, 5, 5, 3)\n"
     ]
    }
   ],
   "source": [
    "print(coords[:,:,None,:,None,:].shape)\n",
    "print(coords[:,None,:,None,:,:].shape)\n",
    "print(diff.shape)"
   ]
  },
  {
   "cell_type": "code",
   "execution_count": 220,
   "metadata": {},
   "outputs": [],
   "source": [
    "#Original list of 8 coordinate lists each with 20 (x,y,z) values\n",
    "coords = [np.random.random((20,3)) for i in range(8)]\n",
    "\n",
    "#Stack the coords to get a single tensor\n",
    "coords = np.stack(coords) #(8,20,3)\n",
    "\n",
    "#Chunk each tensor to break it into 4 parts\n",
    "coords = coords.reshape(8,4,5,3) #(8,4,5,3)\n",
    "\n",
    "#calculate broadcasted difference\n",
    "diff = (coords[:,:,None,:,None,:] - coords[:,None,:,None,:,:]) #(8, 4, 4, 5, 5, 3)\n",
    "\n",
    "#Calculate the distances\n",
    "distances = np.linalg.norm(diff, axis=-1) #(8, 4, 4, 5, 5)\n",
    "distances = distances.reshape(8,4,4,5*5)  #(8, 4, 4, 25) reshape for calling argmin\n",
    "\n",
    "#Calculate the min distance\n",
    "min_distances = distances.min(axis=-1) #(8, 4, 4)\n",
    "min_index = distances.argmin(axis=-1)"
   ]
  },
  {
   "cell_type": "code",
   "execution_count": 267,
   "metadata": {},
   "outputs": [
    {
     "ename": "ValueError",
     "evalue": "invalid entry in choice array",
     "output_type": "error",
     "traceback": [
      "\u001b[0;31m---------------------------------------------------------------------------\u001b[0m",
      "\u001b[0;31mValueError\u001b[0m                                Traceback (most recent call last)",
      "\u001b[0;32m<ipython-input-267-4d957ca6b060>\u001b[0m in \u001b[0;36m<module>\u001b[0;34m\u001b[0m\n\u001b[0;32m----> 1\u001b[0;31m \u001b[0mmin_index\u001b[0m\u001b[0;34m[\u001b[0m\u001b[0;34m...\u001b[0m\u001b[0;34m,\u001b[0m\u001b[0;32mNone\u001b[0m\u001b[0;34m,\u001b[0m\u001b[0;32mNone\u001b[0m\u001b[0;34m]\u001b[0m\u001b[0;34m.\u001b[0m\u001b[0mchoose\u001b[0m\u001b[0;34m(\u001b[0m\u001b[0mdiff\u001b[0m\u001b[0;34m.\u001b[0m\u001b[0mtranspose\u001b[0m\u001b[0;34m(\u001b[0m\u001b[0;36m0\u001b[0m\u001b[0;34m,\u001b[0m\u001b[0;36m1\u001b[0m\u001b[0;34m,\u001b[0m\u001b[0;36m2\u001b[0m\u001b[0;34m,\u001b[0m\u001b[0;36m5\u001b[0m\u001b[0;34m,\u001b[0m\u001b[0;36m3\u001b[0m\u001b[0;34m,\u001b[0m\u001b[0;36m4\u001b[0m\u001b[0;34m)\u001b[0m\u001b[0;34m.\u001b[0m\u001b[0mreshape\u001b[0m\u001b[0;34m(\u001b[0m\u001b[0;36m8\u001b[0m\u001b[0;34m,\u001b[0m\u001b[0;36m4\u001b[0m\u001b[0;34m,\u001b[0m\u001b[0;36m4\u001b[0m\u001b[0;34m,\u001b[0m\u001b[0;36m3\u001b[0m\u001b[0;34m,\u001b[0m\u001b[0;36m5\u001b[0m\u001b[0;34m*\u001b[0m\u001b[0;36m5\u001b[0m\u001b[0;34m)\u001b[0m\u001b[0;34m)\u001b[0m\u001b[0;34m\u001b[0m\u001b[0;34m\u001b[0m\u001b[0m\n\u001b[0m",
      "\u001b[0;31mValueError\u001b[0m: invalid entry in choice array"
     ]
    }
   ],
   "source": [
    "min_index[...,None,None].choose(diff.transpose(0,1,2,5,3,4).reshape(8,4,4,3,5*5))"
   ]
  },
  {
   "cell_type": "code",
   "execution_count": null,
   "metadata": {},
   "outputs": [],
   "source": []
  },
  {
   "cell_type": "code",
   "execution_count": null,
   "metadata": {},
   "outputs": [],
   "source": []
  },
  {
   "cell_type": "code",
   "execution_count": null,
   "metadata": {},
   "outputs": [],
   "source": []
  },
  {
   "cell_type": "code",
   "execution_count": null,
   "metadata": {},
   "outputs": [],
   "source": []
  },
  {
   "cell_type": "code",
   "execution_count": null,
   "metadata": {},
   "outputs": [],
   "source": []
  },
  {
   "cell_type": "code",
   "execution_count": 275,
   "metadata": {},
   "outputs": [],
   "source": [
    "a = np.array([[0.5, 0.5],\n",
    "              [0.6, 0.4]])\n",
    "\n",
    "b = np.array([[[1, 2, 1],\n",
    "            [1, 3, 1]],\n",
    "\n",
    "           [[2, 1, 2],\n",
    "            [3, 1, 3]]])\n",
    "\n",
    "c = np.array([[1. , 2.5, 1. ],\n",
    "              [2.4 , 1.2, 2.4 ]])\n",
    "\n",
    "np.einsum('ij,ijk->ik',a,b)\n",
    "\n",
    "array([[1. , 2.5, 1. ],\n",
    "       [2.4, 1. , 2.4]])"
   ]
  },
  {
   "cell_type": "code",
   "execution_count": 277,
   "metadata": {},
   "outputs": [
    {
     "data": {
      "text/plain": [
       "array([[1. , 2.5, 1. ],\n",
       "       [2.4, 1. , 2.4]])"
      ]
     },
     "execution_count": 277,
     "metadata": {},
     "output_type": "execute_result"
    }
   ],
   "source": [
    "np.einsum('ij,ijk->ik',a,b)"
   ]
  },
  {
   "cell_type": "code",
   "execution_count": 330,
   "metadata": {},
   "outputs": [
    {
     "data": {
      "text/plain": [
       "array([[1. , 2.5, 1. ],\n",
       "       [2.4, 1. , 2.4]])"
      ]
     },
     "execution_count": 330,
     "metadata": {},
     "output_type": "execute_result"
    }
   ],
   "source": [
    "np.tensordot(a,b, axes=[1,1]).diagonal().T"
   ]
  },
  {
   "cell_type": "code",
   "execution_count": 338,
   "metadata": {},
   "outputs": [
    {
     "data": {
      "text/plain": [
       "array([[1. , 2.5, 1. ],\n",
       "       [2.4, 1. , 2.4]])"
      ]
     },
     "execution_count": 338,
     "metadata": {},
     "output_type": "execute_result"
    }
   ],
   "source": [
    "(a[:,:,None]*b).sum(1)"
   ]
  },
  {
   "cell_type": "code",
   "execution_count": null,
   "metadata": {},
   "outputs": [],
   "source": []
  },
  {
   "cell_type": "code",
   "execution_count": null,
   "metadata": {},
   "outputs": [],
   "source": []
  },
  {
   "cell_type": "code",
   "execution_count": null,
   "metadata": {},
   "outputs": [],
   "source": []
  },
  {
   "cell_type": "code",
   "execution_count": null,
   "metadata": {},
   "outputs": [],
   "source": []
  },
  {
   "cell_type": "code",
   "execution_count": null,
   "metadata": {},
   "outputs": [],
   "source": []
  },
  {
   "cell_type": "code",
   "execution_count": null,
   "metadata": {},
   "outputs": [],
   "source": []
  },
  {
   "cell_type": "code",
   "execution_count": 341,
   "metadata": {},
   "outputs": [],
   "source": [
    "a = np.array([[1, 2, 3, 4, 5, 6],\n",
    "              [1, 2, 3, 4, 5, 6]])"
   ]
  },
  {
   "cell_type": "code",
   "execution_count": 342,
   "metadata": {},
   "outputs": [
    {
     "data": {
      "text/plain": [
       "array([[1, 2, 3, 4, 5, 6],\n",
       "       [1, 2, 3, 4, 5, 6]])"
      ]
     },
     "execution_count": 342,
     "metadata": {},
     "output_type": "execute_result"
    }
   ],
   "source": [
    "a"
   ]
  },
  {
   "cell_type": "code",
   "execution_count": 343,
   "metadata": {},
   "outputs": [],
   "source": []
  },
  {
   "cell_type": "code",
   "execution_count": 390,
   "metadata": {},
   "outputs": [],
   "source": [
    "import pandas as pd\n",
    "\n",
    "foo = pd.DataFrame({\n",
    "                    'wag' : [1, 1, 1, 1, 44, 44, 44, 56, 56, 56, 56],\n",
    "                     'A' :  [10, 8, 7, 3, 13, 22, 18, 43, 40, 38, 12],\n",
    "                     'B' : [55, 48, 37, 34, 15, 12, 5, 1, 2, 2, 1]\n",
    "                     })"
   ]
  },
  {
   "cell_type": "code",
   "execution_count": 391,
   "metadata": {},
   "outputs": [
    {
     "data": {
      "text/html": [
       "<div>\n",
       "<style scoped>\n",
       "    .dataframe tbody tr th:only-of-type {\n",
       "        vertical-align: middle;\n",
       "    }\n",
       "\n",
       "    .dataframe tbody tr th {\n",
       "        vertical-align: top;\n",
       "    }\n",
       "\n",
       "    .dataframe thead th {\n",
       "        text-align: right;\n",
       "    }\n",
       "</style>\n",
       "<table border=\"1\" class=\"dataframe\">\n",
       "  <thead>\n",
       "    <tr style=\"text-align: right;\">\n",
       "      <th></th>\n",
       "      <th>wag</th>\n",
       "      <th>A</th>\n",
       "      <th>B</th>\n",
       "    </tr>\n",
       "  </thead>\n",
       "  <tbody>\n",
       "    <tr>\n",
       "      <th>0</th>\n",
       "      <td>1</td>\n",
       "      <td>10</td>\n",
       "      <td>55</td>\n",
       "    </tr>\n",
       "    <tr>\n",
       "      <th>1</th>\n",
       "      <td>1</td>\n",
       "      <td>8</td>\n",
       "      <td>48</td>\n",
       "    </tr>\n",
       "    <tr>\n",
       "      <th>2</th>\n",
       "      <td>1</td>\n",
       "      <td>7</td>\n",
       "      <td>37</td>\n",
       "    </tr>\n",
       "    <tr>\n",
       "      <th>3</th>\n",
       "      <td>1</td>\n",
       "      <td>3</td>\n",
       "      <td>34</td>\n",
       "    </tr>\n",
       "    <tr>\n",
       "      <th>4</th>\n",
       "      <td>44</td>\n",
       "      <td>13</td>\n",
       "      <td>15</td>\n",
       "    </tr>\n",
       "    <tr>\n",
       "      <th>5</th>\n",
       "      <td>44</td>\n",
       "      <td>22</td>\n",
       "      <td>12</td>\n",
       "    </tr>\n",
       "    <tr>\n",
       "      <th>6</th>\n",
       "      <td>44</td>\n",
       "      <td>18</td>\n",
       "      <td>5</td>\n",
       "    </tr>\n",
       "    <tr>\n",
       "      <th>7</th>\n",
       "      <td>56</td>\n",
       "      <td>43</td>\n",
       "      <td>1</td>\n",
       "    </tr>\n",
       "    <tr>\n",
       "      <th>8</th>\n",
       "      <td>56</td>\n",
       "      <td>40</td>\n",
       "      <td>2</td>\n",
       "    </tr>\n",
       "    <tr>\n",
       "      <th>9</th>\n",
       "      <td>56</td>\n",
       "      <td>38</td>\n",
       "      <td>2</td>\n",
       "    </tr>\n",
       "    <tr>\n",
       "      <th>10</th>\n",
       "      <td>56</td>\n",
       "      <td>12</td>\n",
       "      <td>1</td>\n",
       "    </tr>\n",
       "  </tbody>\n",
       "</table>\n",
       "</div>"
      ],
      "text/plain": [
       "    wag   A   B\n",
       "0     1  10  55\n",
       "1     1   8  48\n",
       "2     1   7  37\n",
       "3     1   3  34\n",
       "4    44  13  15\n",
       "5    44  22  12\n",
       "6    44  18   5\n",
       "7    56  43   1\n",
       "8    56  40   2\n",
       "9    56  38   2\n",
       "10   56  12   1"
      ]
     },
     "execution_count": 391,
     "metadata": {},
     "output_type": "execute_result"
    }
   ],
   "source": [
    "foo"
   ]
  },
  {
   "cell_type": "code",
   "execution_count": 386,
   "metadata": {},
   "outputs": [
    {
     "data": {
      "text/plain": [
       "Int64Index([1, 44, 56], dtype='int64', name='wag')"
      ]
     },
     "execution_count": 386,
     "metadata": {},
     "output_type": "execute_result"
    }
   ],
   "source": [
    "foo.groupby('wag').last().index"
   ]
  },
  {
   "cell_type": "code",
   "execution_count": null,
   "metadata": {},
   "outputs": [],
   "source": []
  },
  {
   "cell_type": "code",
   "execution_count": null,
   "metadata": {},
   "outputs": [],
   "source": []
  },
  {
   "cell_type": "code",
   "execution_count": 423,
   "metadata": {},
   "outputs": [
    {
     "data": {
      "text/html": [
       "<div>\n",
       "<style scoped>\n",
       "    .dataframe tbody tr th:only-of-type {\n",
       "        vertical-align: middle;\n",
       "    }\n",
       "\n",
       "    .dataframe tbody tr th {\n",
       "        vertical-align: top;\n",
       "    }\n",
       "\n",
       "    .dataframe thead th {\n",
       "        text-align: right;\n",
       "    }\n",
       "</style>\n",
       "<table border=\"1\" class=\"dataframe\">\n",
       "  <thead>\n",
       "    <tr style=\"text-align: right;\">\n",
       "      <th></th>\n",
       "      <th>A</th>\n",
       "      <th>B</th>\n",
       "    </tr>\n",
       "  </thead>\n",
       "  <tbody>\n",
       "    <tr>\n",
       "      <th>0</th>\n",
       "      <td>10</td>\n",
       "      <td>55</td>\n",
       "    </tr>\n",
       "    <tr>\n",
       "      <th>1</th>\n",
       "      <td>8</td>\n",
       "      <td>48</td>\n",
       "    </tr>\n",
       "    <tr>\n",
       "      <th>2</th>\n",
       "      <td>7</td>\n",
       "      <td>37</td>\n",
       "    </tr>\n",
       "    <tr>\n",
       "      <th>3</th>\n",
       "      <td>3</td>\n",
       "      <td>34</td>\n",
       "    </tr>\n",
       "  </tbody>\n",
       "</table>\n",
       "</div>"
      ],
      "text/plain": [
       "    A   B\n",
       "0  10  55\n",
       "1   8  48\n",
       "2   7  37\n",
       "3   3  34"
      ]
     },
     "execution_count": 423,
     "metadata": {},
     "output_type": "execute_result"
    }
   ],
   "source": [
    "list(foo.groupby('wag'))[0][1][['A','B']].apply(lambda x: x)"
   ]
  },
  {
   "cell_type": "code",
   "execution_count": null,
   "metadata": {},
   "outputs": [],
   "source": []
  },
  {
   "cell_type": "code",
   "execution_count": null,
   "metadata": {},
   "outputs": [],
   "source": []
  },
  {
   "cell_type": "code",
   "execution_count": null,
   "metadata": {},
   "outputs": [],
   "source": []
  },
  {
   "cell_type": "code",
   "execution_count": null,
   "metadata": {},
   "outputs": [],
   "source": [
    "foo.min(axis=1).groupby(foo['wag'], sort=False).agg(list).tolist()"
   ]
  },
  {
   "cell_type": "code",
   "execution_count": null,
   "metadata": {},
   "outputs": [],
   "source": []
  },
  {
   "cell_type": "code",
   "execution_count": 252,
   "metadata": {},
   "outputs": [],
   "source": [
    "import numpy as np\n",
    "val_arr = np.arange(27).reshape(3,3,3)\n",
    "z_indices = np.array([[1,0,2],\n",
    "                      [0,0,1],\n",
    "                      [2,0,1]])"
   ]
  },
  {
   "cell_type": "code",
   "execution_count": 253,
   "metadata": {},
   "outputs": [
    {
     "data": {
      "text/plain": [
       "(3, 3)"
      ]
     },
     "execution_count": 253,
     "metadata": {},
     "output_type": "execute_result"
    }
   ],
   "source": [
    "z_indices.shape"
   ]
  },
  {
   "cell_type": "code",
   "execution_count": 256,
   "metadata": {},
   "outputs": [
    {
     "data": {
      "text/plain": [
       "array([[ 9,  1, 20],\n",
       "       [ 3,  4, 14],\n",
       "       [24,  7, 17]])"
      ]
     },
     "execution_count": 256,
     "metadata": {},
     "output_type": "execute_result"
    }
   ],
   "source": [
    "z_indices.choose(val_arr)"
   ]
  },
  {
   "cell_type": "code",
   "execution_count": null,
   "metadata": {},
   "outputs": [],
   "source": []
  },
  {
   "cell_type": "code",
   "execution_count": null,
   "metadata": {},
   "outputs": [],
   "source": [
    "8,4,4,3"
   ]
  },
  {
   "cell_type": "code",
   "execution_count": null,
   "metadata": {},
   "outputs": [],
   "source": [
    "8,4,4,1 <- (0,24)"
   ]
  },
  {
   "cell_type": "code",
   "execution_count": null,
   "metadata": {},
   "outputs": [],
   "source": [
    "8,4,4,1,3"
   ]
  },
  {
   "cell_type": "code",
   "execution_count": null,
   "metadata": {},
   "outputs": [],
   "source": []
  },
  {
   "cell_type": "code",
   "execution_count": 197,
   "metadata": {},
   "outputs": [
    {
     "data": {
      "text/plain": [
       "array([[[ True,  True,  True,  True],\n",
       "        [False,  True,  True,  True],\n",
       "        [False, False,  True,  True],\n",
       "        [False, False, False,  True]],\n",
       "\n",
       "       [[ True,  True,  True,  True],\n",
       "        [False,  True,  True,  True],\n",
       "        [False, False,  True,  True],\n",
       "        [False, False, False,  True]],\n",
       "\n",
       "       [[ True,  True,  True,  True],\n",
       "        [False,  True,  True,  True],\n",
       "        [False, False,  True,  True],\n",
       "        [False, False, False,  True]],\n",
       "\n",
       "       [[ True,  True,  True,  True],\n",
       "        [False,  True,  True,  True],\n",
       "        [False, False,  True,  True],\n",
       "        [False, False, False,  True]],\n",
       "\n",
       "       [[ True,  True,  True,  True],\n",
       "        [False,  True,  True,  True],\n",
       "        [False, False,  True,  True],\n",
       "        [False, False, False,  True]],\n",
       "\n",
       "       [[ True,  True,  True,  True],\n",
       "        [False,  True,  True,  True],\n",
       "        [False, False,  True,  True],\n",
       "        [False, False, False,  True]],\n",
       "\n",
       "       [[ True,  True,  True,  True],\n",
       "        [False,  True,  True,  True],\n",
       "        [False, False,  True,  True],\n",
       "        [False, False, False,  True]],\n",
       "\n",
       "       [[ True,  True,  True,  True],\n",
       "        [False,  True,  True,  True],\n",
       "        [False, False,  True,  True],\n",
       "        [False, False, False,  True]]])"
      ]
     },
     "execution_count": 197,
     "metadata": {},
     "output_type": "execute_result"
    }
   ],
   "source": []
  },
  {
   "cell_type": "code",
   "execution_count": 204,
   "metadata": {},
   "outputs": [
    {
     "data": {
      "text/plain": [
       "masked_array(\n",
       "  data=[[[--, --, --, --],\n",
       "         [0.136075965019958, --, --, --],\n",
       "         [0.28791733568765504, 0.18143277717651862, --, --],\n",
       "         [0.49111909087740274, 0.2893218913892311, 0.05540328738426811,\n",
       "          --]],\n",
       "\n",
       "        [[--, --, --, --],\n",
       "         [0.13109109176335634, --, --, --],\n",
       "         [0.28240261843378367, 0.3111310134401459, --, --],\n",
       "         [0.09477266737267864, 0.1368614290505418, 0.0903556352647111,\n",
       "          --]],\n",
       "\n",
       "        [[--, --, --, --],\n",
       "         [0.22457062179919635, --, --, --],\n",
       "         [0.10372725607999458, 0.1222528223930379, --, --],\n",
       "         [0.07562920689234078, 0.2127787811299136, 0.3186541011713909,\n",
       "          --]],\n",
       "\n",
       "        [[--, --, --, --],\n",
       "         [0.2991308729635199, --, --, --],\n",
       "         [0.23608284172770955, 0.3532582646905768, --, --],\n",
       "         [0.1264696293366745, 0.14136520285588908, 0.278020547354321,\n",
       "          --]],\n",
       "\n",
       "        [[--, --, --, --],\n",
       "         [0.32825792474510573, --, --, --],\n",
       "         [0.1881136523917278, 0.21493538608852172, --, --],\n",
       "         [0.1841155264477314, 0.19675145644955166, 0.19172107833094382,\n",
       "          --]],\n",
       "\n",
       "        [[--, --, --, --],\n",
       "         [0.17550920965131678, --, --, --],\n",
       "         [0.22194555606596375, 0.16110981470794877, --, --],\n",
       "         [0.18650008069470564, 0.3760614745874334, 0.38777706719847527,\n",
       "          --]],\n",
       "\n",
       "        [[--, --, --, --],\n",
       "         [0.21959418135747413, --, --, --],\n",
       "         [0.07462645432335298, 0.27707814913103873, --, --],\n",
       "         [0.2896369787855591, 0.18727092492018946, 0.2720048902959429,\n",
       "          --]],\n",
       "\n",
       "        [[--, --, --, --],\n",
       "         [0.22276674580608596, --, --, --],\n",
       "         [0.16619755604171005, 0.2170776726463485, --, --],\n",
       "         [0.09297485225533343, 0.3135478515859344, 0.17102776014464324,\n",
       "          --]]],\n",
       "  mask=[[[ True,  True,  True,  True],\n",
       "         [False,  True,  True,  True],\n",
       "         [False, False,  True,  True],\n",
       "         [False, False, False,  True]],\n",
       "\n",
       "        [[ True,  True,  True,  True],\n",
       "         [False,  True,  True,  True],\n",
       "         [False, False,  True,  True],\n",
       "         [False, False, False,  True]],\n",
       "\n",
       "        [[ True,  True,  True,  True],\n",
       "         [False,  True,  True,  True],\n",
       "         [False, False,  True,  True],\n",
       "         [False, False, False,  True]],\n",
       "\n",
       "        [[ True,  True,  True,  True],\n",
       "         [False,  True,  True,  True],\n",
       "         [False, False,  True,  True],\n",
       "         [False, False, False,  True]],\n",
       "\n",
       "        [[ True,  True,  True,  True],\n",
       "         [False,  True,  True,  True],\n",
       "         [False, False,  True,  True],\n",
       "         [False, False, False,  True]],\n",
       "\n",
       "        [[ True,  True,  True,  True],\n",
       "         [False,  True,  True,  True],\n",
       "         [False, False,  True,  True],\n",
       "         [False, False, False,  True]],\n",
       "\n",
       "        [[ True,  True,  True,  True],\n",
       "         [False,  True,  True,  True],\n",
       "         [False, False,  True,  True],\n",
       "         [False, False, False,  True]],\n",
       "\n",
       "        [[ True,  True,  True,  True],\n",
       "         [False,  True,  True,  True],\n",
       "         [False, False,  True,  True],\n",
       "         [False, False, False,  True]]],\n",
       "  fill_value=1e+20)"
      ]
     },
     "execution_count": 204,
     "metadata": {},
     "output_type": "execute_result"
    }
   ],
   "source": []
  },
  {
   "cell_type": "code",
   "execution_count": null,
   "metadata": {},
   "outputs": [],
   "source": []
  },
  {
   "cell_type": "code",
   "execution_count": null,
   "metadata": {},
   "outputs": [],
   "source": []
  },
  {
   "cell_type": "code",
   "execution_count": null,
   "metadata": {},
   "outputs": [],
   "source": []
  },
  {
   "cell_type": "code",
   "execution_count": null,
   "metadata": {},
   "outputs": [],
   "source": []
  },
  {
   "cell_type": "code",
   "execution_count": 176,
   "metadata": {},
   "outputs": [
    {
     "data": {
      "text/plain": [
       "0.0"
      ]
     },
     "execution_count": 176,
     "metadata": {},
     "output_type": "execute_result"
    }
   ],
   "source": [
    "np.tril(min_distances).min()"
   ]
  },
  {
   "cell_type": "code",
   "execution_count": null,
   "metadata": {},
   "outputs": [],
   "source": [
    "np.min(a[np.nonzero(a)])"
   ]
  },
  {
   "cell_type": "code",
   "execution_count": 173,
   "metadata": {},
   "outputs": [
    {
     "data": {
      "text/plain": [
       "array([[0.        , 0.22865803, 0.12158097, 0.36184721],\n",
       "       [0.22865803, 0.        , 0.18405683, 0.26578856],\n",
       "       [0.12158097, 0.18405683, 0.        , 0.27822988],\n",
       "       [0.36184721, 0.26578856, 0.27822988, 0.        ]])"
      ]
     },
     "execution_count": 173,
     "metadata": {},
     "output_type": "execute_result"
    }
   ],
   "source": [
    "min_distances[0]"
   ]
  },
  {
   "cell_type": "code",
   "execution_count": 166,
   "metadata": {},
   "outputs": [
    {
     "data": {
      "text/plain": [
       "(8, 4, 4, 5, 5)"
      ]
     },
     "execution_count": 166,
     "metadata": {},
     "output_type": "execute_result"
    }
   ],
   "source": [
    "distances.shape"
   ]
  },
  {
   "cell_type": "code",
   "execution_count": null,
   "metadata": {},
   "outputs": [],
   "source": []
  },
  {
   "cell_type": "code",
   "execution_count": null,
   "metadata": {},
   "outputs": [],
   "source": []
  },
  {
   "cell_type": "code",
   "execution_count": 480,
   "metadata": {},
   "outputs": [],
   "source": [
    "array1 = np.array([np.nan,np.nan,np.nan,np.nan,2,np.nan,1,np.nan,np.nan,5,np.nan,np.nan,6,np.nan,10,9,np.nan])\n",
    "array2 = np.array([np.nan,np.nan,np.nan,np.nan,45,np.nan,33,np.nan,np.nan,32,np.nan,np.nan,44,np.nan,10,53,np.nan])"
   ]
  },
  {
   "cell_type": "code",
   "execution_count": 448,
   "metadata": {},
   "outputs": [],
   "source": [
    "idx = np.ma.masked_array(array1, np.isnan(array1))\n",
    "vals = np.ma.masked_array(array2, np.isnan(array2))"
   ]
  },
  {
   "cell_type": "code",
   "execution_count": 455,
   "metadata": {},
   "outputs": [],
   "source": [
    "idx = np.ma.masked_array(array1.argsort(), np.isnan(array1))"
   ]
  },
  {
   "cell_type": "code",
   "execution_count": 458,
   "metadata": {},
   "outputs": [
    {
     "data": {
      "text/plain": [
       "masked_array(data=[--, --, --, --, 15, --, 0, --, --, 10, --, --, 3, --,\n",
       "                   1, 7, --],\n",
       "             mask=[ True,  True,  True,  True, False,  True, False,  True,\n",
       "                    True, False,  True,  True, False,  True, False, False,\n",
       "                    True],\n",
       "       fill_value=999999)"
      ]
     },
     "execution_count": 458,
     "metadata": {},
     "output_type": "execute_result"
    }
   ],
   "source": [
    "idx"
   ]
  },
  {
   "cell_type": "code",
   "execution_count": 470,
   "metadata": {},
   "outputs": [],
   "source": [
    "idx = array1[~np.isnan(array1)].argsort()\n",
    "\n",
    "array2[~np.isnan(array2)] = array2[~np.isnan(array2)][idx]\n",
    "\n",
    "array2\n",
    "\n",
    "array([nan, nan, nan, nan, 33., nan, 45., nan, nan, 32., nan, nan, 44.,\n",
    "       nan, 53., 10., nan])"
   ]
  },
  {
   "cell_type": "code",
   "execution_count": 471,
   "metadata": {},
   "outputs": [],
   "source": []
  },
  {
   "cell_type": "code",
   "execution_count": 474,
   "metadata": {},
   "outputs": [
    {
     "data": {
      "text/plain": [
       "array([nan, nan, nan, nan, 33., nan, 45., nan, nan, 32., nan, nan, 44.,\n",
       "       nan, 53., 10., nan])"
      ]
     },
     "execution_count": 474,
     "metadata": {},
     "output_type": "execute_result"
    }
   ],
   "source": [
    "idx = array1[~np.isnan(array1)].argsort()\n",
    "\n",
    "array2[~np.isnan(array2)] = array2[~np.isnan(array2)][idx]\n",
    "\n",
    "array2"
   ]
  },
  {
   "cell_type": "code",
   "execution_count": 482,
   "metadata": {},
   "outputs": [
    {
     "ename": "AttributeError",
     "evalue": "'numpy.ndarray' object has no attribute 'isna'",
     "output_type": "error",
     "traceback": [
      "\u001b[0;31m---------------------------------------------------------------------------\u001b[0m",
      "\u001b[0;31mAttributeError\u001b[0m                            Traceback (most recent call last)",
      "\u001b[0;32m<ipython-input-482-91890b48c9b9>\u001b[0m in \u001b[0;36m<module>\u001b[0;34m\u001b[0m\n\u001b[0;32m----> 1\u001b[0;31m \u001b[0mnp\u001b[0m\u001b[0;34m.\u001b[0m\u001b[0mwhere\u001b[0m\u001b[0;34m(\u001b[0m\u001b[0marray2\u001b[0m\u001b[0;34m.\u001b[0m\u001b[0misna\u001b[0m\u001b[0;34m(\u001b[0m\u001b[0;34m)\u001b[0m\u001b[0;34m)\u001b[0m\u001b[0;34m\u001b[0m\u001b[0;34m\u001b[0m\u001b[0m\n\u001b[0m",
      "\u001b[0;31mAttributeError\u001b[0m: 'numpy.ndarray' object has no attribute 'isna'"
     ]
    }
   ],
   "source": [
    "np.where(~np.isnan(array2), array2)"
   ]
  },
  {
   "cell_type": "code",
   "execution_count": 488,
   "metadata": {},
   "outputs": [],
   "source": [
    "ordered = array2[array1.argsort()]\n",
    "ordered = ordered[~np.isnan(ordered)]\n",
    "\n",
    "array2[~np.isnan(array2)] = ordered\n",
    "\n",
    "\n",
    "array2"
   ]
  },
  {
   "cell_type": "code",
   "execution_count": 489,
   "metadata": {},
   "outputs": [
    {
     "data": {
      "text/plain": [
       "array([nan, nan, nan, nan, 33., nan, 45., nan, nan, 32., nan, nan, 44.,\n",
       "       nan, 53., 10., nan])"
      ]
     },
     "execution_count": 489,
     "metadata": {},
     "output_type": "execute_result"
    }
   ],
   "source": []
  },
  {
   "cell_type": "code",
   "execution_count": null,
   "metadata": {},
   "outputs": [],
   "source": []
  },
  {
   "cell_type": "code",
   "execution_count": null,
   "metadata": {},
   "outputs": [],
   "source": []
  },
  {
   "cell_type": "code",
   "execution_count": null,
   "metadata": {},
   "outputs": [],
   "source": []
  },
  {
   "cell_type": "code",
   "execution_count": 456,
   "metadata": {},
   "outputs": [
    {
     "data": {
      "text/plain": [
       "masked_array(data=[33.0, 45.0, 32.0, 44.0, 53.0, 10.0, --, --, --, --, --,\n",
       "                   --, --, --, --, --, --],\n",
       "             mask=[False, False, False, False, False, False,  True,  True,\n",
       "                    True,  True,  True,  True,  True,  True,  True,  True,\n",
       "                    True],\n",
       "       fill_value=1e+20)"
      ]
     },
     "execution_count": 456,
     "metadata": {},
     "output_type": "execute_result"
    }
   ],
   "source": [
    "vals[idx]"
   ]
  },
  {
   "cell_type": "code",
   "execution_count": null,
   "metadata": {},
   "outputs": [],
   "source": []
  },
  {
   "cell_type": "code",
   "execution_count": null,
   "metadata": {},
   "outputs": [],
   "source": []
  },
  {
   "cell_type": "code",
   "execution_count": 450,
   "metadata": {},
   "outputs": [
    {
     "data": {
      "text/plain": [
       "masked_array(data=[--, --, --, --, 45.0, --, 33.0, --, --, 32.0, --, --,\n",
       "                   44.0, --, 10.0, 53.0, --],\n",
       "             mask=[ True,  True,  True,  True, False,  True, False,  True,\n",
       "                    True, False,  True,  True, False,  True, False, False,\n",
       "                    True],\n",
       "       fill_value=1e+20)"
      ]
     },
     "execution_count": 450,
     "metadata": {},
     "output_type": "execute_result"
    }
   ],
   "source": [
    "vals"
   ]
  },
  {
   "cell_type": "code",
   "execution_count": null,
   "metadata": {},
   "outputs": [],
   "source": []
  },
  {
   "cell_type": "code",
   "execution_count": null,
   "metadata": {},
   "outputs": [],
   "source": []
  },
  {
   "cell_type": "code",
   "execution_count": 442,
   "metadata": {},
   "outputs": [
    {
     "data": {
      "text/plain": [
       "array([33., 45., 32., 44., 53., 10., nan, nan, nan, nan, nan, nan, nan,\n",
       "       nan, nan, nan, nan])"
      ]
     },
     "execution_count": 442,
     "metadata": {},
     "output_type": "execute_result"
    }
   ],
   "source": [
    "array2[idx]"
   ]
  },
  {
   "cell_type": "code",
   "execution_count": null,
   "metadata": {},
   "outputs": [],
   "source": [
    "sorted()"
   ]
  },
  {
   "cell_type": "code",
   "execution_count": null,
   "metadata": {},
   "outputs": [],
   "source": [
    "Q V R\n",
    "\n",
    "1,2,3,4,5 vs 1,2,3,4,5"
   ]
  },
  {
   "cell_type": "code",
   "execution_count": null,
   "metadata": {},
   "outputs": [],
   "source": []
  },
  {
   "cell_type": "code",
   "execution_count": null,
   "metadata": {},
   "outputs": [],
   "source": []
  },
  {
   "cell_type": "code",
   "execution_count": 490,
   "metadata": {},
   "outputs": [],
   "source": [
    "df1 = pd.read_clipboard()"
   ]
  },
  {
   "cell_type": "code",
   "execution_count": 542,
   "metadata": {},
   "outputs": [
    {
     "data": {
      "text/html": [
       "<div>\n",
       "<style scoped>\n",
       "    .dataframe tbody tr th:only-of-type {\n",
       "        vertical-align: middle;\n",
       "    }\n",
       "\n",
       "    .dataframe tbody tr th {\n",
       "        vertical-align: top;\n",
       "    }\n",
       "\n",
       "    .dataframe thead th {\n",
       "        text-align: right;\n",
       "    }\n",
       "</style>\n",
       "<table border=\"1\" class=\"dataframe\">\n",
       "  <thead>\n",
       "    <tr style=\"text-align: right;\">\n",
       "      <th></th>\n",
       "      <th>name</th>\n",
       "      <th>Code</th>\n",
       "    </tr>\n",
       "  </thead>\n",
       "  <tbody>\n",
       "    <tr>\n",
       "      <th>0</th>\n",
       "      <td>1234567</td>\n",
       "      <td>H74</td>\n",
       "    </tr>\n",
       "  </tbody>\n",
       "</table>\n",
       "</div>"
      ],
      "text/plain": [
       "      name Code\n",
       "0  1234567  H74"
      ]
     },
     "execution_count": 542,
     "metadata": {},
     "output_type": "execute_result"
    }
   ],
   "source": [
    "df1"
   ]
  },
  {
   "cell_type": "code",
   "execution_count": null,
   "metadata": {},
   "outputs": [],
   "source": [
    "name\tCode\n",
    "1234567\tJ11\n",
    "1234321\tJ12"
   ]
  },
  {
   "cell_type": "code",
   "execution_count": 560,
   "metadata": {},
   "outputs": [],
   "source": [
    "df2 = pd.read_clipboard()"
   ]
  },
  {
   "cell_type": "code",
   "execution_count": 561,
   "metadata": {},
   "outputs": [
    {
     "data": {
      "text/html": [
       "<div>\n",
       "<style scoped>\n",
       "    .dataframe tbody tr th:only-of-type {\n",
       "        vertical-align: middle;\n",
       "    }\n",
       "\n",
       "    .dataframe tbody tr th {\n",
       "        vertical-align: top;\n",
       "    }\n",
       "\n",
       "    .dataframe thead th {\n",
       "        text-align: right;\n",
       "    }\n",
       "</style>\n",
       "<table border=\"1\" class=\"dataframe\">\n",
       "  <thead>\n",
       "    <tr style=\"text-align: right;\">\n",
       "      <th></th>\n",
       "      <th>name</th>\n",
       "      <th>Code</th>\n",
       "    </tr>\n",
       "  </thead>\n",
       "  <tbody>\n",
       "    <tr>\n",
       "      <th>0</th>\n",
       "      <td>1234567</td>\n",
       "      <td>J11</td>\n",
       "    </tr>\n",
       "    <tr>\n",
       "      <th>1</th>\n",
       "      <td>1234321</td>\n",
       "      <td>J12</td>\n",
       "    </tr>\n",
       "  </tbody>\n",
       "</table>\n",
       "</div>"
      ],
      "text/plain": [
       "      name Code\n",
       "0  1234567  J11\n",
       "1  1234321  J12"
      ]
     },
     "execution_count": 561,
     "metadata": {},
     "output_type": "execute_result"
    }
   ],
   "source": [
    "df2"
   ]
  },
  {
   "cell_type": "code",
   "execution_count": null,
   "metadata": {},
   "outputs": [],
   "source": []
  },
  {
   "cell_type": "code",
   "execution_count": 556,
   "metadata": {},
   "outputs": [
    {
     "data": {
      "text/html": [
       "<div>\n",
       "<style scoped>\n",
       "    .dataframe tbody tr th:only-of-type {\n",
       "        vertical-align: middle;\n",
       "    }\n",
       "\n",
       "    .dataframe tbody tr th {\n",
       "        vertical-align: top;\n",
       "    }\n",
       "\n",
       "    .dataframe thead th {\n",
       "        text-align: right;\n",
       "    }\n",
       "</style>\n",
       "<table border=\"1\" class=\"dataframe\">\n",
       "  <thead>\n",
       "    <tr style=\"text-align: right;\">\n",
       "      <th></th>\n",
       "      <th>name</th>\n",
       "      <th>Code</th>\n",
       "    </tr>\n",
       "  </thead>\n",
       "  <tbody>\n",
       "    <tr>\n",
       "      <th>0</th>\n",
       "      <td>1234567.0</td>\n",
       "      <td>H74</td>\n",
       "    </tr>\n",
       "    <tr>\n",
       "      <th>1</th>\n",
       "      <td>1234321.0</td>\n",
       "      <td>J12</td>\n",
       "    </tr>\n",
       "  </tbody>\n",
       "</table>\n",
       "</div>"
      ],
      "text/plain": [
       "        name Code\n",
       "0  1234567.0  H74\n",
       "1  1234321.0  J12"
      ]
     },
     "execution_count": 556,
     "metadata": {},
     "output_type": "execute_result"
    }
   ],
   "source": [
    "df2.set_index('name').join(df1.set_index('name'), lsuffix='_')\\\n",
    "                     .ffill(1)['Code']\\\n",
    "                     .reset_index()"
   ]
  },
  {
   "cell_type": "code",
   "execution_count": null,
   "metadata": {},
   "outputs": [],
   "source": []
  },
  {
   "cell_type": "code",
   "execution_count": 597,
   "metadata": {},
   "outputs": [
    {
     "data": {
      "text/html": [
       "<div>\n",
       "<style scoped>\n",
       "    .dataframe tbody tr th:only-of-type {\n",
       "        vertical-align: middle;\n",
       "    }\n",
       "\n",
       "    .dataframe tbody tr th {\n",
       "        vertical-align: top;\n",
       "    }\n",
       "\n",
       "    .dataframe thead th {\n",
       "        text-align: right;\n",
       "    }\n",
       "</style>\n",
       "<table border=\"1\" class=\"dataframe\">\n",
       "  <thead>\n",
       "    <tr style=\"text-align: right;\">\n",
       "      <th></th>\n",
       "      <th>A</th>\n",
       "    </tr>\n",
       "  </thead>\n",
       "  <tbody>\n",
       "    <tr>\n",
       "      <th>0</th>\n",
       "      <td>a</td>\n",
       "    </tr>\n",
       "    <tr>\n",
       "      <th>1</th>\n",
       "      <td>a</td>\n",
       "    </tr>\n",
       "    <tr>\n",
       "      <th>2</th>\n",
       "      <td>a</td>\n",
       "    </tr>\n",
       "    <tr>\n",
       "      <th>3</th>\n",
       "      <td>others</td>\n",
       "    </tr>\n",
       "    <tr>\n",
       "      <th>4</th>\n",
       "      <td>c</td>\n",
       "    </tr>\n",
       "    <tr>\n",
       "      <th>5</th>\n",
       "      <td>c</td>\n",
       "    </tr>\n",
       "    <tr>\n",
       "      <th>6</th>\n",
       "      <td>c</td>\n",
       "    </tr>\n",
       "    <tr>\n",
       "      <th>7</th>\n",
       "      <td>c</td>\n",
       "    </tr>\n",
       "    <tr>\n",
       "      <th>8</th>\n",
       "      <td>d</td>\n",
       "    </tr>\n",
       "    <tr>\n",
       "      <th>9</th>\n",
       "      <td>d</td>\n",
       "    </tr>\n",
       "    <tr>\n",
       "      <th>10</th>\n",
       "      <td>others</td>\n",
       "    </tr>\n",
       "    <tr>\n",
       "      <th>11</th>\n",
       "      <td>f</td>\n",
       "    </tr>\n",
       "    <tr>\n",
       "      <th>12</th>\n",
       "      <td>f</td>\n",
       "    </tr>\n",
       "  </tbody>\n",
       "</table>\n",
       "</div>"
      ],
      "text/plain": [
       "         A\n",
       "0        a\n",
       "1        a\n",
       "2        a\n",
       "3   others\n",
       "4        c\n",
       "5        c\n",
       "6        c\n",
       "7        c\n",
       "8        d\n",
       "9        d\n",
       "10  others\n",
       "11       f\n",
       "12       f"
      ]
     },
     "execution_count": 597,
     "metadata": {},
     "output_type": "execute_result"
    }
   ],
   "source": [
    "df = pd.DataFrame(list('aaabccccddeff'), columns=['A'])\n",
    "\n",
    "idx = df.groupby(['A'])['A'].transform('count').lt(2)\n",
    "df.loc[idx, 'A'] = 'others'\n",
    "df"
   ]
  },
  {
   "cell_type": "code",
   "execution_count": null,
   "metadata": {},
   "outputs": [],
   "source": []
  },
  {
   "cell_type": "code",
   "execution_count": null,
   "metadata": {},
   "outputs": [],
   "source": []
  },
  {
   "cell_type": "code",
   "execution_count": 603,
   "metadata": {},
   "outputs": [
    {
     "name": "stdout",
     "output_type": "stream",
     "text": [
      "                      text\n",
      "0     [I, have, an, apple]\n",
      "1  [she, have, an, orange]\n"
     ]
    }
   ],
   "source": [
    "mylist = [['I','have','an','apple'],['she','have','an','orange']]\n",
    "\n",
    "df = pd.DataFrame({'text':mylist})\n",
    "print(df)\n",
    "\n",
    "                      text\n",
    "0     [I, have, an, apple]\n",
    "1  [she, have, an, orange]"
   ]
  },
  {
   "cell_type": "code",
   "execution_count": null,
   "metadata": {},
   "outputs": [],
   "source": []
  },
  {
   "cell_type": "code",
   "execution_count": null,
   "metadata": {},
   "outputs": [],
   "source": [
    "['A','A','A','B','B','C','D','D','E'"
   ]
  },
  {
   "cell_type": "code",
   "execution_count": null,
   "metadata": {},
   "outputs": [],
   "source": []
  },
  {
   "cell_type": "code",
   "execution_count": 632,
   "metadata": {},
   "outputs": [],
   "source": []
  },
  {
   "cell_type": "code",
   "execution_count": 638,
   "metadata": {},
   "outputs": [
    {
     "data": {
      "text/plain": [
       "0.09179275874969095"
      ]
     },
     "execution_count": 638,
     "metadata": {},
     "output_type": "execute_result"
    }
   ],
   "source": []
  },
  {
   "cell_type": "code",
   "execution_count": 643,
   "metadata": {},
   "outputs": [],
   "source": []
  },
  {
   "cell_type": "code",
   "execution_count": 739,
   "metadata": {},
   "outputs": [
    {
     "data": {
      "text/html": [
       "<div>\n",
       "<style scoped>\n",
       "    .dataframe tbody tr th:only-of-type {\n",
       "        vertical-align: middle;\n",
       "    }\n",
       "\n",
       "    .dataframe tbody tr th {\n",
       "        vertical-align: top;\n",
       "    }\n",
       "\n",
       "    .dataframe thead th {\n",
       "        text-align: right;\n",
       "    }\n",
       "</style>\n",
       "<table border=\"1\" class=\"dataframe\">\n",
       "  <thead>\n",
       "    <tr style=\"text-align: right;\">\n",
       "      <th></th>\n",
       "      <th>merchant_id</th>\n",
       "      <th>month</th>\n",
       "      <th>total_transactions</th>\n",
       "      <th>total_fraud</th>\n",
       "    </tr>\n",
       "  </thead>\n",
       "  <tbody>\n",
       "    <tr>\n",
       "      <th>0</th>\n",
       "      <td>113025</td>\n",
       "      <td>0</td>\n",
       "      <td>126</td>\n",
       "      <td>24</td>\n",
       "    </tr>\n",
       "    <tr>\n",
       "      <th>1</th>\n",
       "      <td>113025</td>\n",
       "      <td>1</td>\n",
       "      <td>299</td>\n",
       "      <td>58</td>\n",
       "    </tr>\n",
       "    <tr>\n",
       "      <th>2</th>\n",
       "      <td>113025</td>\n",
       "      <td>4</td>\n",
       "      <td>4</td>\n",
       "      <td>0</td>\n",
       "    </tr>\n",
       "    <tr>\n",
       "      <th>3</th>\n",
       "      <td>113025</td>\n",
       "      <td>6</td>\n",
       "      <td>17</td>\n",
       "      <td>3</td>\n",
       "    </tr>\n",
       "    <tr>\n",
       "      <th>4</th>\n",
       "      <td>113025</td>\n",
       "      <td>11</td>\n",
       "      <td>160</td>\n",
       "      <td>31</td>\n",
       "    </tr>\n",
       "  </tbody>\n",
       "</table>\n",
       "</div>"
      ],
      "text/plain": [
       "   merchant_id  month  total_transactions  total_fraud\n",
       "0       113025      0                 126           24\n",
       "1       113025      1                 299           58\n",
       "2       113025      4                   4            0\n",
       "3       113025      6                  17            3\n",
       "4       113025     11                 160           31"
      ]
     },
     "execution_count": 739,
     "metadata": {},
     "output_type": "execute_result"
    }
   ],
   "source": []
  },
  {
   "cell_type": "code",
   "execution_count": 742,
   "metadata": {},
   "outputs": [
    {
     "name": "stdout",
     "output_type": "stream",
     "text": [
      "original data shape -> (2400, 4)\n",
      "after small merchants -> (2369, 4)\n",
      "after edge merchants -> (2296, 4)\n",
      "after 3 month merchants -> (246, 4)\n",
      "after consecutive month merchants -> (18, 4)\n",
      "final metric dataframe -> (11, 2)\n"
     ]
    },
    {
     "data": {
      "text/html": [
       "<div>\n",
       "<style scoped>\n",
       "    .dataframe tbody tr th:only-of-type {\n",
       "        vertical-align: middle;\n",
       "    }\n",
       "\n",
       "    .dataframe tbody tr th {\n",
       "        vertical-align: top;\n",
       "    }\n",
       "\n",
       "    .dataframe thead th {\n",
       "        text-align: right;\n",
       "    }\n",
       "</style>\n",
       "<table border=\"1\" class=\"dataframe\">\n",
       "  <thead>\n",
       "    <tr style=\"text-align: right;\">\n",
       "      <th></th>\n",
       "      <th>merchant_id</th>\n",
       "      <th>BPS</th>\n",
       "    </tr>\n",
       "  </thead>\n",
       "  <tbody>\n",
       "    <tr>\n",
       "      <th>0</th>\n",
       "      <td>299781</td>\n",
       "      <td>38.053097</td>\n",
       "    </tr>\n",
       "    <tr>\n",
       "      <th>1</th>\n",
       "      <td>347099</td>\n",
       "      <td>38.078292</td>\n",
       "    </tr>\n",
       "    <tr>\n",
       "      <th>2</th>\n",
       "      <td>378452</td>\n",
       "      <td>37.943262</td>\n",
       "    </tr>\n",
       "    <tr>\n",
       "      <th>3</th>\n",
       "      <td>417558</td>\n",
       "      <td>38.207547</td>\n",
       "    </tr>\n",
       "    <tr>\n",
       "      <th>4</th>\n",
       "      <td>495317</td>\n",
       "      <td>38.141026</td>\n",
       "    </tr>\n",
       "    <tr>\n",
       "      <th>5</th>\n",
       "      <td>531805</td>\n",
       "      <td>38.073394</td>\n",
       "    </tr>\n",
       "    <tr>\n",
       "      <th>6</th>\n",
       "      <td>539172</td>\n",
       "      <td>38.058252</td>\n",
       "    </tr>\n",
       "    <tr>\n",
       "      <th>7</th>\n",
       "      <td>647945</td>\n",
       "      <td>37.884615</td>\n",
       "    </tr>\n",
       "    <tr>\n",
       "      <th>8</th>\n",
       "      <td>679103</td>\n",
       "      <td>37.918216</td>\n",
       "    </tr>\n",
       "    <tr>\n",
       "      <th>9</th>\n",
       "      <td>823698</td>\n",
       "      <td>38.011696</td>\n",
       "    </tr>\n",
       "    <tr>\n",
       "      <th>10</th>\n",
       "      <td>861204</td>\n",
       "      <td>37.771739</td>\n",
       "    </tr>\n",
       "  </tbody>\n",
       "</table>\n",
       "</div>"
      ],
      "text/plain": [
       "    merchant_id        BPS\n",
       "0        299781  38.053097\n",
       "1        347099  38.078292\n",
       "2        378452  37.943262\n",
       "3        417558  38.207547\n",
       "4        495317  38.141026\n",
       "5        531805  38.073394\n",
       "6        539172  38.058252\n",
       "7        647945  37.884615\n",
       "8        679103  37.918216\n",
       "9        823698  38.011696\n",
       "10       861204  37.771739"
      ]
     },
     "execution_count": 742,
     "metadata": {},
     "output_type": "execute_result"
    }
   ],
   "source": [
    "import numpy as np\n",
    "import pandas as pd\n",
    "import itertools\n",
    "import random\n",
    "\n",
    "#Creating Dummy dataset\n",
    "merchantid = np.random.randint(111111,999999,(500,))\n",
    "merchant_months = list(itertools.product(merchantid, range(12)))\n",
    "merchant_months_missing = sorted(random.sample(merchant_months, int(len(merchant_months)*0.4)))\n",
    "\n",
    "df = pd.DataFrame(merchant_months_missing, columns=['merchant_id','month'])\n",
    "df['total_transactions'] = np.random.randint(1,300,(2400,))\n",
    "df['total_fraud'] = (df['total_transactions']*np.random.random()).astype(int)\n",
    "df.head()\n",
    "\n",
    "\n",
    "############################################\n",
    "\n",
    "print('original data shape ->', df.shape)\n",
    "\n",
    "############################################\n",
    "#Remove small merchants with less than 100 max transactions / month\n",
    "\n",
    "condition = df.groupby(['merchant_id'])['total_transactions'].max()<100\n",
    "small_merchants = condition[condition].index\n",
    "\n",
    "df = df[~df['merchant_id'].isin(small_merchants)]\n",
    "print('after small merchants ->', df.shape)\n",
    "\n",
    "############################################\n",
    "#Remove edge merchants who may have transctions in prev/next year\n",
    "\n",
    "edge_merchants = df[(df['month'].isin([0,11]))&(df['total_transactions']<10)]['merchant_id'].unique()\n",
    "\n",
    "df = df[~df['merchant_id'].isin(edge_merchants)]\n",
    "print('after edge merchants ->', df.shape)\n",
    "\n",
    "############################################\n",
    "#Keep merchants with less than equal to 3 months of transactions\n",
    "\n",
    "condition = df.groupby(['merchant_id'])['month'].count().le(3)\n",
    "three_month_merchants = condition[condition].index\n",
    "\n",
    "df = df[df['merchant_id'].isin(three_month_merchants)]\n",
    "print('after 3 month merchants ->', df.shape)\n",
    "\n",
    "############################################\n",
    "#Keep merchants who have 3 consecutive months of transactions\n",
    "\n",
    "condition = df.groupby(['merchant_id'])['month'].apply(list).apply(lambda x: x == list(range(min(x), max(x)+1)))\n",
    "consecutive_months_merchants = condition[condition].index\n",
    "\n",
    "df = df[df['merchant_id'].isin(consecutive_months_merchants)]\n",
    "print('after consecutive month merchants ->', df.shape)\n",
    "\n",
    "############################################\n",
    "#Compute metrix fraud rate / BPS\n",
    "\n",
    "final = df.groupby('merchant_id')['total_fraud'].sum()/df.groupby('merchant_id')['total_transactions'].sum()\n",
    "final = (final*100).reset_index()\n",
    "final.columns = ['merchant_id', 'BPS']\n",
    "print('final metric dataframe ->', final.shape)\n",
    "final"
   ]
  },
  {
   "cell_type": "code",
   "execution_count": null,
   "metadata": {},
   "outputs": [],
   "source": []
  },
  {
   "cell_type": "code",
   "execution_count": 762,
   "metadata": {},
   "outputs": [
    {
     "data": {
      "text/plain": [
       "[800.0, 400.0, 266.6666666666667]"
      ]
     },
     "execution_count": 762,
     "metadata": {},
     "output_type": "execute_result"
    }
   ],
   "source": [
    "[800/i for i in range(1,4)]"
   ]
  },
  {
   "cell_type": "code",
   "execution_count": 765,
   "metadata": {},
   "outputs": [
    {
     "ename": "SyntaxError",
     "evalue": "invalid syntax (<ipython-input-765-6b20ecc8d875>, line 1)",
     "output_type": "error",
     "traceback": [
      "\u001b[0;36m  File \u001b[0;32m\"<ipython-input-765-6b20ecc8d875>\"\u001b[0;36m, line \u001b[0;32m1\u001b[0m\n\u001b[0;31m    from tensorflow.keras.layers import Conv2D, MaxPooling2D, UpSampling2D, Input, Flatten, Reshape/\u001b[0m\n\u001b[0m                                                                                                   ^\u001b[0m\n\u001b[0;31mSyntaxError\u001b[0m\u001b[0;31m:\u001b[0m invalid syntax\n"
     ]
    }
   ],
   "source": [
    "from tensorflow.keras.layers import Conv2D, MaxPooling2D, UpSampling2D, Input, Flatten, Reshape/\n",
    "from tensorflow.keras import Model"
   ]
  },
  {
   "cell_type": "code",
   "execution_count": 797,
   "metadata": {},
   "outputs": [],
   "source": []
  },
  {
   "cell_type": "code",
   "execution_count": null,
   "metadata": {},
   "outputs": [],
   "source": []
  },
  {
   "cell_type": "code",
   "execution_count": 774,
   "metadata": {},
   "outputs": [
    {
     "name": "stdout",
     "output_type": "stream",
     "text": [
      "Model: \"model_13\"\n",
      "_________________________________________________________________\n",
      "Layer (type)                 Output Shape              Param #   \n",
      "=================================================================\n",
      "input_16 (InputLayer)        [(None, 800, 20, 1)]      0         \n",
      "_________________________________________________________________\n",
      "conv2d_101 (Conv2D)          (None, 800, 20, 4)        40        \n",
      "_________________________________________________________________\n",
      "max_pooling2d_45 (MaxPooling (None, 400, 10, 4)        0         \n",
      "_________________________________________________________________\n",
      "conv2d_102 (Conv2D)          (None, 400, 10, 8)        296       \n",
      "_________________________________________________________________\n",
      "max_pooling2d_46 (MaxPooling (None, 200, 5, 8)         0         \n",
      "_________________________________________________________________\n",
      "conv2d_103 (Conv2D)          (None, 200, 5, 16)        1168      \n",
      "_________________________________________________________________\n",
      "max_pooling2d_47 (MaxPooling (None, 100, 5, 16)        0         \n",
      "_________________________________________________________________\n",
      "conv2d_104 (Conv2D)          (None, 100, 5, 16)        2320      \n",
      "_________________________________________________________________\n",
      "up_sampling2d_43 (UpSampling (None, 200, 10, 16)       0         \n",
      "_________________________________________________________________\n",
      "conv2d_105 (Conv2D)          (None, 200, 10, 8)        1160      \n",
      "_________________________________________________________________\n",
      "up_sampling2d_44 (UpSampling (None, 400, 20, 8)        0         \n",
      "_________________________________________________________________\n",
      "conv2d_106 (Conv2D)          (None, 400, 20, 4)        292       \n",
      "_________________________________________________________________\n",
      "up_sampling2d_45 (UpSampling (None, 800, 20, 4)        0         \n",
      "_________________________________________________________________\n",
      "conv2d_107 (Conv2D)          (None, 800, 20, 1)        37        \n",
      "=================================================================\n",
      "Total params: 5,313\n",
      "Trainable params: 5,313\n",
      "Non-trainable params: 0\n",
      "_________________________________________________________________\n"
     ]
    }
   ],
   "source": [
    "x = Input(shape=(800, 20,1)) \n",
    "\n",
    "# Encoder\n",
    "conv1_1 = Conv2D(4, (3, 3), activation='relu', padding='same')(x)\n",
    "pool1 = MaxPooling2D((2, 2), padding='same')(conv1_1)\n",
    "conv1_2 = Conv2D(8, (3, 3), activation='relu', padding='same')(pool1)\n",
    "pool2 = MaxPooling2D((2, 2), padding='same')(conv1_2)\n",
    "conv1_3 = Conv2D(16, (3, 3), activation='relu', padding='same')(pool2)\n",
    "h = MaxPooling2D((2, 1), padding='same')(conv1_3)\n",
    "\n",
    "# f = Flatten()(h)\n",
    "# f = Reshape()\n",
    "# # Decoder\n",
    "\n",
    "conv2_1 = Conv2D(16, (3, 3), activation='relu', padding='same')(h)\n",
    "up1 = UpSampling2D((2, 2))(conv2_1)\n",
    "conv2_2 = Conv2D(8, (3, 3), activation='relu', padding='same')(up1)\n",
    "up2 = UpSampling2D((2, 2))(conv2_2)\n",
    "conv2_3 = Conv2D(4, (3, 3), activation='sigmoid', padding='same')(up2) #<--- ADD IT HERE\n",
    "up3 = UpSampling2D((2, 1))(conv2_3)\n",
    "r = Conv2D(1, (3, 3), activation='sigmoid', padding='same')(up3)\n",
    "\n",
    "model = Model(inputs=x, outputs=r)\n",
    "model.compile(optimizer='adadelta', loss='binary_crossentropy', metrics=['accuracy'])\n",
    "model.summary()"
   ]
  },
  {
   "cell_type": "code",
   "execution_count": 799,
   "metadata": {},
   "outputs": [
    {
     "name": "stdout",
     "output_type": "stream",
     "text": [
      "Epoch 1/2\n",
      "1/1 [==============================] - 0s 180ms/step - loss: 0.7526 - accuracy: 0.0000e+00\n",
      "Epoch 2/2\n",
      "1/1 [==============================] - 0s 189ms/step - loss: 0.7526 - accuracy: 0.0000e+00\n"
     ]
    },
    {
     "data": {
      "text/plain": [
       "<tensorflow.python.keras.callbacks.History at 0x7fa85a9896d0>"
      ]
     },
     "execution_count": 799,
     "metadata": {},
     "output_type": "execute_result"
    }
   ],
   "source": [
    "x_train = np.random.random((16,800,20,1))\n",
    "\n",
    "model.fit(x_train, x_train, epochs=2)\n",
    "\n",
    "Epoch 1/2\n",
    "1/1 [==============================] - 0s 180ms/step - loss: 0.7526 - accuracy: 0.0000e+00\n",
    "Epoch 2/2\n",
    "1/1 [==============================] - 0s 189ms/step - loss: 0.7526 - accuracy: 0.0000e+00\n",
    "<tensorflow.python.keras.callbacks.History at 0x7fa85a9896d0>"
   ]
  },
  {
   "cell_type": "code",
   "execution_count": null,
   "metadata": {},
   "outputs": [],
   "source": []
  },
  {
   "cell_type": "code",
   "execution_count": 813,
   "metadata": {},
   "outputs": [],
   "source": [
    "l = [[1,2,3], [1,2,3]]"
   ]
  },
  {
   "cell_type": "code",
   "execution_count": 814,
   "metadata": {},
   "outputs": [
    {
     "data": {
      "text/plain": [
       "[['1', '2', '3'], ['1', '2', '3']]"
      ]
     },
     "execution_count": 814,
     "metadata": {},
     "output_type": "execute_result"
    }
   ],
   "source": [
    "[[str(i) for i in j] for j in l]"
   ]
  },
  {
   "cell_type": "code",
   "execution_count": 815,
   "metadata": {},
   "outputs": [
    {
     "data": {
      "text/plain": [
       "[['1', '2', '3'], ['1', '2', '3']]"
      ]
     },
     "execution_count": 815,
     "metadata": {},
     "output_type": "execute_result"
    }
   ],
   "source": [
    "list(map(lambda x: list(map(str, x)), l))"
   ]
  },
  {
   "cell_type": "code",
   "execution_count": 816,
   "metadata": {},
   "outputs": [
    {
     "data": {
      "text/plain": [
       "[['1', '2', '3'], ['1', '2', '3']]"
      ]
     },
     "execution_count": 816,
     "metadata": {},
     "output_type": "execute_result"
    }
   ],
   "source": [
    "output = []\n",
    "\n",
    "for i in l:\n",
    "    sublist = []\n",
    "    for j in i:\n",
    "        sublist.append(str(j))\n",
    "    output.append(sublist)\n",
    "    \n",
    "output"
   ]
  },
  {
   "cell_type": "code",
   "execution_count": 817,
   "metadata": {},
   "outputs": [
    {
     "data": {
      "text/plain": [
       "[['1', '2', '3'], ['1', '2', '3']]"
      ]
     },
     "execution_count": 817,
     "metadata": {},
     "output_type": "execute_result"
    }
   ],
   "source": [
    "for i in range(len(l)):\n",
    "    for j in range(len(l[i])):\n",
    "        l[i][j] = str(l[i][j])\n",
    "l"
   ]
  },
  {
   "cell_type": "code",
   "execution_count": null,
   "metadata": {},
   "outputs": [],
   "source": []
  },
  {
   "cell_type": "code",
   "execution_count": null,
   "metadata": {},
   "outputs": [],
   "source": []
  },
  {
   "cell_type": "code",
   "execution_count": null,
   "metadata": {},
   "outputs": [],
   "source": []
  },
  {
   "cell_type": "code",
   "execution_count": null,
   "metadata": {},
   "outputs": [],
   "source": []
  }
 ],
 "metadata": {
  "kernelspec": {
   "display_name": "Python 3",
   "language": "python",
   "name": "python3"
  },
  "language_info": {
   "codemirror_mode": {
    "name": "ipython",
    "version": 3
   },
   "file_extension": ".py",
   "mimetype": "text/x-python",
   "name": "python",
   "nbconvert_exporter": "python",
   "pygments_lexer": "ipython3",
   "version": "3.8.3"
  }
 },
 "nbformat": 4,
 "nbformat_minor": 4
}
