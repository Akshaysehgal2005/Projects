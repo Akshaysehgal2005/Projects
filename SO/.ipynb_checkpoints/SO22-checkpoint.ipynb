{
 "cells": [
  {
   "cell_type": "code",
   "execution_count": 1,
   "metadata": {},
   "outputs": [],
   "source": [
    "import pandas as pd\n",
    "import numpy as np"
   ]
  },
  {
   "cell_type": "code",
   "execution_count": 5,
   "metadata": {},
   "outputs": [
    {
     "ename": "SyntaxError",
     "evalue": "invalid syntax (<ipython-input-5-1322ab8480bd>, line 1)",
     "output_type": "error",
     "traceback": [
      "\u001b[0;36m  File \u001b[0;32m\"<ipython-input-5-1322ab8480bd>\"\u001b[0;36m, line \u001b[0;32m1\u001b[0m\n\u001b[0;31m    l = [str.class, float, pd.datetime.date]\u001b[0m\n\u001b[0m             ^\u001b[0m\n\u001b[0;31mSyntaxError\u001b[0m\u001b[0;31m:\u001b[0m invalid syntax\n"
     ]
    }
   ],
   "source": [
    "l = [str., float, pd.datetime.date]"
   ]
  },
  {
   "cell_type": "code",
   "execution_count": 8,
   "metadata": {},
   "outputs": [],
   "source": [
    "from numerize import numerize "
   ]
  },
  {
   "cell_type": "code",
   "execution_count": 7,
   "metadata": {},
   "outputs": [
    {
     "name": "stdout",
     "output_type": "stream",
     "text": [
      "Collecting numerize\n",
      "  Downloading numerize-0.12.tar.gz (2.7 kB)\n",
      "Building wheels for collected packages: numerize\n",
      "  Building wheel for numerize (setup.py) ... \u001b[?25ldone\n",
      "\u001b[?25h  Created wheel for numerize: filename=numerize-0.12-py3-none-any.whl size=3173 sha256=734fec4e5ffb15b1819221d886c991bcdd8f01b687b11c64ec4198360aa27936\n",
      "  Stored in directory: /Users/akshay/Library/Caches/pip/wheels/1d/62/e4/981f2b3ad3dee6f892d7d5ae1c0f8babf7c7df25df2e3a0fdd\n",
      "Successfully built numerize\n",
      "Installing collected packages: numerize\n",
      "Successfully installed numerize-0.12\n",
      "\u001b[33mWARNING: You are using pip version 21.1.3; however, version 21.3 is available.\n",
      "You should consider upgrading via the '/Users/akshay/opt/anaconda3/bin/python -m pip install --upgrade pip' command.\u001b[0m\n"
     ]
    }
   ],
   "source": [
    "!pip install numerize"
   ]
  },
  {
   "cell_type": "code",
   "execution_count": 9,
   "metadata": {},
   "outputs": [],
   "source": [
    "l=[        6,\n",
    "          23,\n",
    "         465,\n",
    "        3798,\n",
    "       43423,\n",
    "      910679,\n",
    "     8270192,\n",
    "    23890951,\n",
    "   430493245,]"
   ]
  },
  {
   "cell_type": "code",
   "execution_count": 12,
   "metadata": {},
   "outputs": [
    {
     "name": "stdout",
     "output_type": "stream",
     "text": [
      "6 -> 6\n",
      "23 -> 23\n",
      "465 -> 465\n",
      "3798 -> 3.8K\n",
      "43423 -> 43.42K\n",
      "910679 -> 910.68K\n",
      "8270192 -> 8.27M\n",
      "23890951 -> 23.89M\n",
      "430493245 -> 430.49M\n"
     ]
    }
   ],
   "source": [
    "for i in l:\n",
    "    print(i,'->',numerize.numerize(i))\n",
    "    \n",
    "6 -> 6\n",
    "23 -> 23\n",
    "465 -> 465\n",
    "3798 -> 3.8K\n",
    "43423 -> 43.42K\n",
    "910679 -> 910.68K\n",
    "8270192 -> 8.27M\n",
    "23890951 -> 23.89M\n",
    "430493245 -> 430.49M"
   ]
  },
  {
   "cell_type": "code",
   "execution_count": null,
   "metadata": {},
   "outputs": [],
   "source": [
    "numerize.numerize("
   ]
  }
 ],
 "metadata": {
  "kernelspec": {
   "display_name": "Python 3",
   "language": "python",
   "name": "python3"
  },
  "language_info": {
   "codemirror_mode": {
    "name": "ipython",
    "version": 3
   },
   "file_extension": ".py",
   "mimetype": "text/x-python",
   "name": "python",
   "nbconvert_exporter": "python",
   "pygments_lexer": "ipython3",
   "version": "3.8.3"
  }
 },
 "nbformat": 4,
 "nbformat_minor": 4
}
