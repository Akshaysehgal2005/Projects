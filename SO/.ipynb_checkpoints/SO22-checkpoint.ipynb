{
 "cells": [
  {
   "cell_type": "code",
   "execution_count": null,
   "metadata": {},
   "outputs": [],
   "source": [
    "import pandas as pd\n",
    "import numpy as np"
   ]
  },
  {
   "cell_type": "code",
   "execution_count": null,
   "metadata": {},
   "outputs": [],
   "source": [
    "l = [str., float, pd.datetime.date]"
   ]
  },
  {
   "cell_type": "code",
   "execution_count": null,
   "metadata": {},
   "outputs": [],
   "source": []
  },
  {
   "cell_type": "code",
   "execution_count": null,
   "metadata": {},
   "outputs": [],
   "source": [
    "!pip install numerize"
   ]
  },
  {
   "cell_type": "code",
   "execution_count": null,
   "metadata": {},
   "outputs": [],
   "source": [
    "l=[        6,\n",
    "          23,\n",
    "         465,\n",
    "        3798,\n",
    "       43423,\n",
    "      910679,\n",
    "     8270192,\n",
    "    23890951,\n",
    "   430493245,999999999999]"
   ]
  },
  {
   "cell_type": "code",
   "execution_count": null,
   "metadata": {},
   "outputs": [],
   "source": [
    "import random"
   ]
  },
  {
   "cell_type": "code",
   "execution_count": null,
   "metadata": {},
   "outputs": [],
   "source": [
    "input='ATCTAGGAT'\n",
    "\n",
    "\n",
    "def mutate_v2(sequence, mutation_rate):\n",
    "    dna_list = list(sequence)\n",
    "    for i in range(len(sequence)):\n",
    "        r = random.random()\n",
    "        if r < mutation_rate:\n",
    "            mutation_site = random.randint(0, len(dna_list) - 1)\n",
    "            print(mutation_site)\n",
    "            dna_list[mutation_site] = random.choice(list('ATCG'))\n",
    "        return ''.join(dna_list)\n",
    "\n",
    "\n",
    "## run the function\n",
    "mutate_v2(input, 0.01)"
   ]
  },
  {
   "cell_type": "code",
   "execution_count": null,
   "metadata": {},
   "outputs": [],
   "source": [
    "input, mutate_v2(input, 0.01)"
   ]
  },
  {
   "cell_type": "code",
   "execution_count": null,
   "metadata": {},
   "outputs": [],
   "source": []
  },
  {
   "cell_type": "code",
   "execution_count": null,
   "metadata": {},
   "outputs": [],
   "source": []
  },
  {
   "cell_type": "code",
   "execution_count": null,
   "metadata": {},
   "outputs": [],
   "source": []
  },
  {
   "cell_type": "code",
   "execution_count": null,
   "metadata": {},
   "outputs": [],
   "source": [
    "a = np.array([[1,2,3,4,5],\n",
    "              [1,2,3,4,5],\n",
    "              [1,2,3,4,5],\n",
    "              [1,2,3,4,5]]).T"
   ]
  },
  {
   "cell_type": "code",
   "execution_count": null,
   "metadata": {},
   "outputs": [],
   "source": [
    "np.roll(a,(1,2),0)\n"
   ]
  },
  {
   "cell_type": "code",
   "execution_count": null,
   "metadata": {},
   "outputs": [],
   "source": [
    "a."
   ]
  },
  {
   "cell_type": "code",
   "execution_count": null,
   "metadata": {},
   "outputs": [],
   "source": [
    "a.T"
   ]
  },
  {
   "cell_type": "code",
   "execution_count": null,
   "metadata": {},
   "outputs": [],
   "source": [
    "np.roll(a, (1,0))"
   ]
  },
  {
   "cell_type": "code",
   "execution_count": null,
   "metadata": {},
   "outputs": [],
   "source": [
    "a = [1,2,3,4,5,6]\n",
    "\n",
    "arr = np.tril(np.stack([np.roll(a,i) for i in range(len(a))]).T)\n",
    "np.fill_diagonal(arr[:,3:], -1)\n",
    "arr"
   ]
  },
  {
   "cell_type": "code",
   "execution_count": null,
   "metadata": {},
   "outputs": [],
   "source": []
  },
  {
   "cell_type": "code",
   "execution_count": null,
   "metadata": {},
   "outputs": [],
   "source": []
  },
  {
   "cell_type": "code",
   "execution_count": null,
   "metadata": {},
   "outputs": [],
   "source": [
    "coeff = [1,2,3,4,5,6]\n",
    "m = 3\n",
    "\n",
    "nums = [np.roll(coeff,i) for i in range(m)] #get rolling ranges\n",
    "a = np.tril(np.stack(nums).T) #stack -> transpose -> lower triangular\n",
    "b = np.diag([-1]*m, m) #create matrix with offset diagonal\n",
    "b[:,:m] = a  #update offset matrix\n",
    "print(b)"
   ]
  },
  {
   "cell_type": "code",
   "execution_count": null,
   "metadata": {},
   "outputs": [],
   "source": [
    "a"
   ]
  },
  {
   "cell_type": "code",
   "execution_count": null,
   "metadata": {},
   "outputs": [],
   "source": [
    "a = np.tril(np.linspace([1,0,-1],[6,5,4],num=6))\n",
    "b = np.diag([-1,-1,-1], 3)\n",
    "\n",
    "\n",
    "\n",
    "b"
   ]
  },
  {
   "cell_type": "code",
   "execution_count": null,
   "metadata": {},
   "outputs": [],
   "source": [
    "b"
   ]
  },
  {
   "cell_type": "code",
   "execution_count": null,
   "metadata": {},
   "outputs": [],
   "source": []
  },
  {
   "cell_type": "code",
   "execution_count": null,
   "metadata": {},
   "outputs": [],
   "source": []
  },
  {
   "cell_type": "code",
   "execution_count": null,
   "metadata": {},
   "outputs": [],
   "source": []
  },
  {
   "cell_type": "code",
   "execution_count": null,
   "metadata": {},
   "outputs": [],
   "source": []
  },
  {
   "cell_type": "code",
   "execution_count": null,
   "metadata": {},
   "outputs": [],
   "source": []
  },
  {
   "cell_type": "code",
   "execution_count": null,
   "metadata": {},
   "outputs": [],
   "source": [
    "arr = np.zeros((6,6))\n",
    "\n",
    "np.fill_diagonal(arr[1:,:], 1)\n",
    "\n",
    "arr"
   ]
  },
  {
   "cell_type": "code",
   "execution_count": null,
   "metadata": {},
   "outputs": [],
   "source": [
    "arr"
   ]
  },
  {
   "cell_type": "code",
   "execution_count": null,
   "metadata": {},
   "outputs": [],
   "source": []
  },
  {
   "cell_type": "code",
   "execution_count": null,
   "metadata": {},
   "outputs": [],
   "source": []
  },
  {
   "cell_type": "code",
   "execution_count": null,
   "metadata": {},
   "outputs": [],
   "source": []
  },
  {
   "cell_type": "code",
   "execution_count": null,
   "metadata": {},
   "outputs": [],
   "source": [
    "mylist = []\n",
    "[mylist.extend([[(x,x)], [(x*2,x*2)]]) for x in range(1, 4)]"
   ]
  },
  {
   "cell_type": "code",
   "execution_count": null,
   "metadata": {},
   "outputs": [],
   "source": [
    "mylist"
   ]
  },
  {
   "cell_type": "code",
   "execution_count": null,
   "metadata": {},
   "outputs": [],
   "source": [
    "[[[(i,i)],[(i*2,i*2)]] for i in range(1,7)]"
   ]
  },
  {
   "cell_type": "code",
   "execution_count": null,
   "metadata": {},
   "outputs": [],
   "source": [
    "import itertools"
   ]
  },
  {
   "cell_type": "code",
   "execution_count": null,
   "metadata": {},
   "outputs": [],
   "source": [
    "[j for x in range(1, 4) for j in ([(x,x)], [(x*2,x*2)])]\n",
    "\n",
    "[[(1, 1)], [(2, 2)], [(2, 2)], [(4, 4)], [(3, 3)], [(6, 6)]]"
   ]
  },
  {
   "cell_type": "code",
   "execution_count": null,
   "metadata": {},
   "outputs": [],
   "source": []
  },
  {
   "cell_type": "code",
   "execution_count": null,
   "metadata": {},
   "outputs": [],
   "source": []
  },
  {
   "cell_type": "code",
   "execution_count": null,
   "metadata": {},
   "outputs": [],
   "source": []
  },
  {
   "cell_type": "code",
   "execution_count": 4,
   "metadata": {},
   "outputs": [],
   "source": [
    "import numpy as np"
   ]
  },
  {
   "cell_type": "code",
   "execution_count": 59,
   "metadata": {
    "scrolled": true
   },
   "outputs": [
    {
     "data": {
      "text/plain": [
       "array([[[  0, 100, 200, 300],\n",
       "        [  1, 101, 201, 301]],\n",
       "\n",
       "       [[ 10, 110, 210, 310],\n",
       "        [ 11, 111, 211, 311]],\n",
       "\n",
       "       [[ 20, 120, 220, 320],\n",
       "        [ 21, 121, 221, 321]]])"
      ]
     },
     "execution_count": 59,
     "metadata": {},
     "output_type": "execute_result"
    }
   ],
   "source": [
    "u = np.array([0, 100, 200, 300]) #hundreds\n",
    "v = np.array([0, 10, 20, 30]) #tens\n",
    "w = np.array([0, 1, 2, 3]) #units\n",
    "\n",
    "x,y,z = np.meshgrid(w,v,u)\n",
    "\n",
    "func1 = x + y + z\n",
    "func1\n",
    "        # axis 0 is 100s \n",
    "        #------------------>\n",
    "array([[[  0, 100, 200, 300],   # |  axis 1\n",
    "        [  1, 101, 201, 301],   # |  is ones\n",
    "        [  2, 102, 202, 302],   # |\n",
    "        [  3, 103, 203, 303]],  # V\n",
    "                                       # |\n",
    "       [[ 10, 110, 210, 310],          # |  \n",
    "        [ 11, 111, 211, 311],          # | Axis 2\n",
    "        [ 12, 112, 212, 312],          # |\n",
    "        [ 13, 113, 213, 313]],         # V\n",
    "\n",
    "       [[ 20, 120, 220, 320],\n",
    "        [ 21, 121, 221, 321],\n",
    "        [ 22, 122, 222, 322],\n",
    "        [ 23, 123, 223, 323]],\n",
    "\n",
    "       [[ 30, 130, 230, 330],\n",
    "        [ 31, 131, 231, 331],\n",
    "        [ 32, 132, 232, 332],\n",
    "        [ 33, 133, 233, 333]]])"
   ]
  },
  {
   "cell_type": "code",
   "execution_count": null,
   "metadata": {},
   "outputs": [],
   "source": []
  },
  {
   "cell_type": "code",
   "execution_count": null,
   "metadata": {},
   "outputs": [],
   "source": []
  },
  {
   "cell_type": "code",
   "execution_count": 100,
   "metadata": {},
   "outputs": [],
   "source": []
  },
  {
   "cell_type": "code",
   "execution_count": 108,
   "metadata": {},
   "outputs": [],
   "source": [
    "def f(a,b,l):l[a],l[b]=l[b],l[a]\n",
    "f=lambda a,b,l:l[0:a]+[l[b]]+l[a+1:b]+[l[a]]+l[b+1:]"
   ]
  },
  {
   "cell_type": "code",
   "execution_count": 115,
   "metadata": {},
   "outputs": [
    {
     "data": {
      "text/plain": [
       "[10, 8, 1, 4, 10, 3, 10, 10]"
      ]
     },
     "execution_count": 115,
     "metadata": {},
     "output_type": "execute_result"
    }
   ],
   "source": [
    "l = [3,8,1,4,10,10,10,10]\n",
    "g(0,5,l)"
   ]
  },
  {
   "cell_type": "code",
   "execution_count": 110,
   "metadata": {},
   "outputs": [
    {
     "data": {
      "text/plain": [
       "[10, 8, 1, 4, 10, 3, 10, 10]"
      ]
     },
     "execution_count": 110,
     "metadata": {},
     "output_type": "execute_result"
    }
   ],
   "source": [
    "l = [3,8,1,4,10,10,10,10]\n",
    "f(0,5,l)\n",
    "l"
   ]
  },
  {
   "cell_type": "code",
   "execution_count": 135,
   "metadata": {},
   "outputs": [
    {
     "data": {
      "text/plain": [
       "[10, 8, 1, 4, 10, 3, 10, 10]"
      ]
     },
     "execution_count": 135,
     "metadata": {},
     "output_type": "execute_result"
    }
   ],
   "source": [
    "l = [3,8,1,4,10,10,10,10]\n",
    "def f(a,b,l):l.insert(b,l.pop(a)),l.insert(a,l.pop(b-1))\n",
    "    \n",
    "f(0,5,l)\n",
    "l"
   ]
  },
  {
   "cell_type": "code",
   "execution_count": 123,
   "metadata": {},
   "outputs": [
    {
     "data": {
      "text/plain": [
       "False"
      ]
     },
     "execution_count": 123,
     "metadata": {},
     "output_type": "execute_result"
    }
   ],
   "source": [
    "1!=1"
   ]
  },
  {
   "cell_type": "code",
   "execution_count": 125,
   "metadata": {},
   "outputs": [
    {
     "data": {
      "text/plain": [
       "[10, 8, 1, 4, 10, 3, 10, 10]"
      ]
     },
     "execution_count": 125,
     "metadata": {},
     "output_type": "execute_result"
    }
   ],
   "source": [
    "l"
   ]
  },
  {
   "cell_type": "code",
   "execution_count": null,
   "metadata": {},
   "outputs": [],
   "source": []
  },
  {
   "cell_type": "code",
   "execution_count": 139,
   "metadata": {},
   "outputs": [],
   "source": [
    "d = {'he\\'s':'he is', }"
   ]
  },
  {
   "cell_type": "code",
   "execution_count": 140,
   "metadata": {},
   "outputs": [
    {
     "name": "stdout",
     "output_type": "stream",
     "text": [
      "{\"he's\"}\n"
     ]
    }
   ],
   "source": []
  },
  {
   "cell_type": "code",
   "execution_count": null,
   "metadata": {},
   "outputs": [],
   "source": [
    "import re\n",
    "def clean_text(txt):\n",
    "  txt = txt.lower()\n",
    "  txt = re.sub(r\"i'm\", \"i am\", txt)\n",
    "  txt = re.sub(r\"he's\", \"he is\", txt)\n",
    "  txt = re.sub(r\"she's\", \"she is\", txt)\n",
    "  txt = re.sub(r\"that's\", \"that is\", txt)\n",
    "  txt = re.sub(r\"[^\\w\\s]\", \"\", txt)\n",
    "  return txt"
   ]
  },
  {
   "cell_type": "code",
   "execution_count": 143,
   "metadata": {},
   "outputs": [
    {
     "name": "stdout",
     "output_type": "stream",
     "text": [
      "hello world, he's a *$^&@ and that's the truth\n"
     ]
    }
   ],
   "source": [
    "txt = 'hello world, he\\'s a *$^&@ and that\\'s the truth'\n",
    "print(txt)"
   ]
  },
  {
   "cell_type": "code",
   "execution_count": 145,
   "metadata": {},
   "outputs": [
    {
     "data": {
      "text/plain": [
       "'hello world, he is a *$^&@ and that is the truth'"
      ]
     },
     "execution_count": 145,
     "metadata": {},
     "output_type": "execute_result"
    }
   ],
   "source": []
  },
  {
   "cell_type": "code",
   "execution_count": 154,
   "metadata": {},
   "outputs": [
    {
     "data": {
      "text/plain": [
       "''"
      ]
     },
     "execution_count": 154,
     "metadata": {},
     "output_type": "execute_result"
    }
   ],
   "source": [
    "''.join([i for i in  if i.isalnum==False])"
   ]
  },
  {
   "cell_type": "code",
   "execution_count": 162,
   "metadata": {},
   "outputs": [
    {
     "data": {
      "text/plain": [
       "'hello world he is a  and that is the truth'"
      ]
     },
     "execution_count": 162,
     "metadata": {},
     "output_type": "execute_result"
    }
   ],
   "source": [
    "''.join(e for e in txt.replace('\\'s', ' is') if e.isalnum() or e==' ')"
   ]
  },
  {
   "cell_type": "code",
   "execution_count": null,
   "metadata": {},
   "outputs": [],
   "source": []
  },
  {
   "cell_type": "code",
   "execution_count": null,
   "metadata": {},
   "outputs": [],
   "source": []
  },
  {
   "cell_type": "code",
   "execution_count": null,
   "metadata": {},
   "outputs": [],
   "source": []
  },
  {
   "cell_type": "code",
   "execution_count": 163,
   "metadata": {},
   "outputs": [],
   "source": [
    "from xlrd import open_workbook"
   ]
  },
  {
   "cell_type": "code",
   "execution_count": 164,
   "metadata": {},
   "outputs": [
    {
     "ename": "NotImplementedError",
     "evalue": "formatting_info=True not yet implemented",
     "output_type": "error",
     "traceback": [
      "\u001b[0;31m---------------------------------------------------------------------------\u001b[0m",
      "\u001b[0;31mNotImplementedError\u001b[0m                       Traceback (most recent call last)",
      "\u001b[0;32m<ipython-input-164-425d1bde2e20>\u001b[0m in \u001b[0;36m<module>\u001b[0;34m\u001b[0m\n\u001b[0;32m----> 1\u001b[0;31m \u001b[0mwb\u001b[0m \u001b[0;34m=\u001b[0m \u001b[0mopen_workbook\u001b[0m\u001b[0;34m(\u001b[0m\u001b[0;34m'test.xlsx'\u001b[0m\u001b[0;34m,\u001b[0m \u001b[0mformatting_info\u001b[0m\u001b[0;34m=\u001b[0m\u001b[0;32mTrue\u001b[0m\u001b[0;34m)\u001b[0m\u001b[0;34m\u001b[0m\u001b[0;34m\u001b[0m\u001b[0m\n\u001b[0m",
      "\u001b[0;32m~/opt/anaconda3/lib/python3.8/site-packages/xlrd/__init__.py\u001b[0m in \u001b[0;36mopen_workbook\u001b[0;34m(filename, logfile, verbosity, use_mmap, file_contents, encoding_override, formatting_info, on_demand, ragged_rows)\u001b[0m\n\u001b[1;32m    128\u001b[0m         \u001b[0;32mif\u001b[0m \u001b[0;34m'xl/workbook.xml'\u001b[0m \u001b[0;32min\u001b[0m \u001b[0mcomponent_names\u001b[0m\u001b[0;34m:\u001b[0m\u001b[0;34m\u001b[0m\u001b[0;34m\u001b[0m\u001b[0m\n\u001b[1;32m    129\u001b[0m             \u001b[0;32mfrom\u001b[0m \u001b[0;34m.\u001b[0m \u001b[0;32mimport\u001b[0m \u001b[0mxlsx\u001b[0m\u001b[0;34m\u001b[0m\u001b[0;34m\u001b[0m\u001b[0m\n\u001b[0;32m--> 130\u001b[0;31m             bk = xlsx.open_workbook_2007_xml(\n\u001b[0m\u001b[1;32m    131\u001b[0m                 \u001b[0mzf\u001b[0m\u001b[0;34m,\u001b[0m\u001b[0;34m\u001b[0m\u001b[0;34m\u001b[0m\u001b[0m\n\u001b[1;32m    132\u001b[0m                 \u001b[0mcomponent_names\u001b[0m\u001b[0;34m,\u001b[0m\u001b[0;34m\u001b[0m\u001b[0;34m\u001b[0m\u001b[0m\n",
      "\u001b[0;32m~/opt/anaconda3/lib/python3.8/site-packages/xlrd/xlsx.py\u001b[0m in \u001b[0;36mopen_workbook_2007_xml\u001b[0;34m(zf, component_names, logfile, verbosity, use_mmap, formatting_info, on_demand, ragged_rows)\u001b[0m\n\u001b[1;32m    796\u001b[0m     \u001b[0mbk\u001b[0m\u001b[0;34m.\u001b[0m\u001b[0mformatting_info\u001b[0m \u001b[0;34m=\u001b[0m \u001b[0mformatting_info\u001b[0m\u001b[0;34m\u001b[0m\u001b[0;34m\u001b[0m\u001b[0m\n\u001b[1;32m    797\u001b[0m     \u001b[0;32mif\u001b[0m \u001b[0mformatting_info\u001b[0m\u001b[0;34m:\u001b[0m\u001b[0;34m\u001b[0m\u001b[0;34m\u001b[0m\u001b[0m\n\u001b[0;32m--> 798\u001b[0;31m         \u001b[0;32mraise\u001b[0m \u001b[0mNotImplementedError\u001b[0m\u001b[0;34m(\u001b[0m\u001b[0;34m\"formatting_info=True not yet implemented\"\u001b[0m\u001b[0;34m)\u001b[0m\u001b[0;34m\u001b[0m\u001b[0;34m\u001b[0m\u001b[0m\n\u001b[0m\u001b[1;32m    799\u001b[0m     \u001b[0mbk\u001b[0m\u001b[0;34m.\u001b[0m\u001b[0muse_mmap\u001b[0m \u001b[0;34m=\u001b[0m \u001b[0;32mFalse\u001b[0m \u001b[0;31m#### Not supported initially\u001b[0m\u001b[0;34m\u001b[0m\u001b[0;34m\u001b[0m\u001b[0m\n\u001b[1;32m    800\u001b[0m     \u001b[0mbk\u001b[0m\u001b[0;34m.\u001b[0m\u001b[0mon_demand\u001b[0m \u001b[0;34m=\u001b[0m \u001b[0mon_demand\u001b[0m\u001b[0;34m\u001b[0m\u001b[0;34m\u001b[0m\u001b[0m\n",
      "\u001b[0;31mNotImplementedError\u001b[0m: formatting_info=True not yet implemented"
     ]
    }
   ],
   "source": [
    "wb = open_workbook('test.xlsx', formatting_info=True)"
   ]
  },
  {
   "cell_type": "code",
   "execution_count": 165,
   "metadata": {},
   "outputs": [],
   "source": [
    "theList = list(range(10))"
   ]
  },
  {
   "cell_type": "code",
   "execution_count": 166,
   "metadata": {},
   "outputs": [],
   "source": [
    "n = 3"
   ]
  },
  {
   "cell_type": "code",
   "execution_count": null,
   "metadata": {},
   "outputs": [],
   "source": []
  },
  {
   "cell_type": "code",
   "execution_count": 170,
   "metadata": {},
   "outputs": [
    {
     "data": {
      "text/plain": [
       "Counter({Foo(Group=1, A1='AAA', A2=3): 4})"
      ]
     },
     "execution_count": 170,
     "metadata": {},
     "output_type": "execute_result"
    }
   ],
   "source": [
    "from collections import namedtuple, Counter\n",
    "\n",
    "Foo = namedtuple('Foo', ['Group', 'A1', 'A2'])\n",
    "Counter([Foo(1, 'AAA', 3),Foo(1, 'AAA', 3),Foo(1, 'AAA', 3),Foo(1, 'AAA', 3)])"
   ]
  },
  {
   "cell_type": "code",
   "execution_count": null,
   "metadata": {},
   "outputs": [],
   "source": []
  },
  {
   "cell_type": "code",
   "execution_count": null,
   "metadata": {},
   "outputs": [],
   "source": []
  },
  {
   "cell_type": "code",
   "execution_count": 171,
   "metadata": {},
   "outputs": [],
   "source": [
    "from tensorflow import keras"
   ]
  },
  {
   "cell_type": "code",
   "execution_count": null,
   "metadata": {},
   "outputs": [],
   "source": []
  },
  {
   "cell_type": "code",
   "execution_count": null,
   "metadata": {},
   "outputs": [],
   "source": []
  },
  {
   "cell_type": "code",
   "execution_count": 179,
   "metadata": {},
   "outputs": [],
   "source": [
    "input_shape_1, output_1 = (12, 27), (8,)\n",
    "input_shape_2, output_2 = (3, 30), (8,)\n",
    "input_shape_3, output_3 = (3, 38), (8,)\n",
    "\n",
    "X_train = [np.random.random(input_shape_1), np.random.random(input_shape_2), np.random.random(input_shape_3)]\n",
    "y_train - "
   ]
  },
  {
   "cell_type": "code",
   "execution_count": 189,
   "metadata": {},
   "outputs": [
    {
     "data": {
      "image/png": "[encoded data removed]",
      "text/plain": [
       "<IPython.core.display.Image object>"
      ]
     },
     "execution_count": 189,
     "metadata": {},
     "output_type": "execute_result"
    }
   ],
   "source": [
    "from tensorflow.keras import layers, Model, utils\n",
    "\n",
    "#Inputs\n",
    "m1_inp = layers.Input(input_shape_1)\n",
    "m2_inp = layers.Input(input_shape_2)\n",
    "m3_inp = layers.Input(input_shape_3)\n",
    "\n",
    "#LSTMs\n",
    "m1 = layers.LSTM(64, return_sequences=True)(m1_inp)\n",
    "m1 = layers.LSTM(64)(m1)\n",
    "\n",
    "m2 = layers.LSTM(64, return_sequences=True)(m2_inp)\n",
    "m2 = layers.LSTM(64)(m2)\n",
    "\n",
    "m3 = layers.LSTM(64, return_sequences=True)(m3_inp)\n",
    "m3 = layers.LSTM(64)(m3)\n",
    "\n",
    "#concatenate\n",
    "c = layers.Concatenate()([m1, m2, m3])\n",
    "c = layers.Dense(64, activation='relu')(c)\n",
    "c = layers.Dropout(0.3)(c)\n",
    "\n",
    "m1_out = layers.Dense(8, activation='linear')(c)\n",
    "m2_out = layers.Dense(8, activation='linear')(c)\n",
    "m3_out = layers.Dense(8, activation='linear')(c)\n",
    "\n",
    "#Model\n",
    "\n",
    "model = Model([m1_inp, m2_inp, m3_inp], [m1_out, m2_out, m3_out])\n",
    "utils.plot_model(model, show_layer_names=False, show_shapes=True)"
   ]
  },
  {
   "cell_type": "code",
   "execution_count": null,
   "metadata": {},
   "outputs": [],
   "source": []
  },
  {
   "cell_type": "code",
   "execution_count": null,
   "metadata": {},
   "outputs": [],
   "source": []
  },
  {
   "cell_type": "code",
   "execution_count": null,
   "metadata": {},
   "outputs": [],
   "source": []
  },
  {
   "cell_type": "code",
   "execution_count": null,
   "metadata": {},
   "outputs": [],
   "source": [
    "\n",
    "\n",
    "m1 = layers.LSTM(64, return_sequences=True)(m1)\n",
    "m1 = layers.LSTM(64)\n",
    "\n",
    "# model_2.add(keras.layers.LSTM(64, input_shape=input_shape_2, return_sequences=True))\n",
    "# model_2.add(keras.layers.LSTM(64))\n",
    "\n",
    "# model_3.add(keras.layers.LSTM(64, input_shape=input_shape_3, return_sequences=True))\n",
    "# model_3.add(keras.layers.LSTM(64))"
   ]
  },
  {
   "cell_type": "code",
   "execution_count": null,
   "metadata": {},
   "outputs": [],
   "source": []
  },
  {
   "cell_type": "code",
   "execution_count": null,
   "metadata": {},
   "outputs": [],
   "source": []
  },
  {
   "cell_type": "code",
   "execution_count": null,
   "metadata": {},
   "outputs": [],
   "source": []
  },
  {
   "cell_type": "code",
   "execution_count": 178,
   "metadata": {},
   "outputs": [
    {
     "ename": "AttributeError",
     "evalue": "'Concatenate' object has no attribute 'add'",
     "output_type": "error",
     "traceback": [
      "\u001b[0;31m---------------------------------------------------------------------------\u001b[0m",
      "\u001b[0;31mAttributeError\u001b[0m                            Traceback (most recent call last)",
      "\u001b[0;32m<ipython-input-178-c507d2e722db>\u001b[0m in \u001b[0;36m<module>\u001b[0;34m\u001b[0m\n\u001b[1;32m     13\u001b[0m \u001b[0;34m\u001b[0m\u001b[0m\n\u001b[1;32m     14\u001b[0m \u001b[0;31m# concat\u001b[0m\u001b[0;34m\u001b[0m\u001b[0;34m\u001b[0m\u001b[0;34m\u001b[0m\u001b[0m\n\u001b[0;32m---> 15\u001b[0;31m \u001b[0mhalf_merged\u001b[0m\u001b[0;34m.\u001b[0m\u001b[0madd\u001b[0m\u001b[0;34m(\u001b[0m\u001b[0mkeras\u001b[0m\u001b[0;34m.\u001b[0m\u001b[0mlayers\u001b[0m\u001b[0;34m.\u001b[0m\u001b[0mconcatenate\u001b[0m\u001b[0;34m(\u001b[0m\u001b[0;34m[\u001b[0m\u001b[0mmodel_1\u001b[0m\u001b[0;34m,\u001b[0m \u001b[0mmodel_2\u001b[0m\u001b[0;34m]\u001b[0m\u001b[0;34m)\u001b[0m\u001b[0;34m)\u001b[0m\u001b[0;34m\u001b[0m\u001b[0;34m\u001b[0m\u001b[0m\n\u001b[0m\u001b[1;32m     16\u001b[0m \u001b[0mmerged_model\u001b[0m\u001b[0;34m.\u001b[0m\u001b[0madd\u001b[0m\u001b[0;34m(\u001b[0m\u001b[0mkeras\u001b[0m\u001b[0;34m.\u001b[0m\u001b[0mlayers\u001b[0m\u001b[0;34m.\u001b[0m\u001b[0mconcatenate\u001b[0m\u001b[0;34m(\u001b[0m\u001b[0;34m[\u001b[0m\u001b[0mhalf_merged\u001b[0m\u001b[0;34m,\u001b[0m \u001b[0mmodel_3\u001b[0m\u001b[0;34m]\u001b[0m\u001b[0;34m)\u001b[0m\u001b[0;34m)\u001b[0m\u001b[0;34m\u001b[0m\u001b[0;34m\u001b[0m\u001b[0m\n\u001b[1;32m     17\u001b[0m \u001b[0;34m\u001b[0m\u001b[0m\n",
      "\u001b[0;31mAttributeError\u001b[0m: 'Concatenate' object has no attribute 'add'"
     ]
    }
   ],
   "source": [
    "model_1 = keras.Sequential()\n",
    "model_2 = keras.Sequential()\n",
    "model_3 = keras.Sequential()\n",
    "\n",
    "model_1.add(keras.layers.LSTM(64, input_shape=input_shape_1, return_sequences=True))\n",
    "model_1.add(keras.layers.LSTM(64))\n",
    "\n",
    "model_2.add(keras.layers.LSTM(64, input_shape=input_shape_2, return_sequences=True))\n",
    "model_2.add(keras.layers.LSTM(64))\n",
    "\n",
    "model_3.add(keras.layers.LSTM(64, input_shape=input_shape_3, return_sequences=True))\n",
    "model_3.add(keras.layers.LSTM(64))\n",
    "\n",
    "# concat\n",
    "half_merged.add(keras.layers.Concatenate([model_1, model_2]))\n",
    "merged_model.add(keras.layers.Concatenate([half_merged, model_3]))\n",
    "\n",
    "merged_model.add(keras.layers.Dense(64, activation='relu'))\n",
    "merged_model.add(keras.layers.Dropout(0.3))\n",
    "\n",
    "merged_model.add(keras.layers.Dense(8, activation='linear'))"
   ]
  },
  {
   "cell_type": "code",
   "execution_count": null,
   "metadata": {},
   "outputs": [],
   "source": [
    "#  (783, 12, 27) (337, 3, 30) (104, 3, 38)"
   ]
  },
  {
   "cell_type": "code",
   "execution_count": null,
   "metadata": {},
   "outputs": [],
   "source": []
  },
  {
   "cell_type": "code",
   "execution_count": 173,
   "metadata": {},
   "outputs": [
    {
     "name": "stdout",
     "output_type": "stream",
     "text": [
      "(12, 27)\n",
      "(3, 30)\n",
      "(3, 38)\n"
     ]
    }
   ],
   "source": [
    "\n",
    "print(input_shape_1)\n",
    "print(input_shape_2)\n",
    "print(input_shape_3)"
   ]
  },
  {
   "cell_type": "code",
   "execution_count": null,
   "metadata": {},
   "outputs": [],
   "source": []
  },
  {
   "cell_type": "code",
   "execution_count": null,
   "metadata": {},
   "outputs": [],
   "source": []
  },
  {
   "cell_type": "code",
   "execution_count": null,
   "metadata": {},
   "outputs": [],
   "source": []
  },
  {
   "cell_type": "code",
   "execution_count": null,
   "metadata": {},
   "outputs": [],
   "source": []
  },
  {
   "cell_type": "code",
   "execution_count": 2,
   "metadata": {},
   "outputs": [],
   "source": [
    "a = [\n",
    "  { 'id': 12, 'score': 100 },\n",
    "  { 'id': 13, 'score': 80 },\n",
    "]\n",
    "b = [\n",
    "  { 'id': 12, 'score': 80 },\n",
    "  { 'id': 13, 'score': 82 },\n",
    "]"
   ]
  },
  {
   "cell_type": "code",
   "execution_count": null,
   "metadata": {},
   "outputs": [],
   "source": []
  },
  {
   "cell_type": "code",
   "execution_count": 5,
   "metadata": {},
   "outputs": [],
   "source": [
    "import pandas as pd"
   ]
  },
  {
   "cell_type": "code",
   "execution_count": 26,
   "metadata": {},
   "outputs": [],
   "source": [
    "df = pd.DataFrame({'A':[1,2,3,4,5,6,7,8,9],'B':[11,22,33,44,55,66,77,88,99]})"
   ]
  },
  {
   "cell_type": "code",
   "execution_count": null,
   "metadata": {},
   "outputs": [],
   "source": []
  },
  {
   "cell_type": "code",
   "execution_count": null,
   "metadata": {},
   "outputs": [],
   "source": []
  },
  {
   "cell_type": "code",
   "execution_count": null,
   "metadata": {},
   "outputs": [],
   "source": []
  },
  {
   "cell_type": "code",
   "execution_count": null,
   "metadata": {},
   "outputs": [],
   "source": []
  },
  {
   "cell_type": "code",
   "execution_count": null,
   "metadata": {},
   "outputs": [],
   "source": []
  },
  {
   "cell_type": "code",
   "execution_count": null,
   "metadata": {},
   "outputs": [],
   "source": []
  },
  {
   "cell_type": "code",
   "execution_count": 48,
   "metadata": {},
   "outputs": [
    {
     "data": {
      "text/plain": [
       "[[11],\n",
       " [11, 22],\n",
       " [11, 22, 33],\n",
       " [22, 33, 44],\n",
       " [33, 44, 55],\n",
       " [44, 55, 66],\n",
       " [55, 66, 77],\n",
       " [66, 77, 88],\n",
       " [77, 88, 99]]"
      ]
     },
     "execution_count": 48,
     "metadata": {},
     "output_type": "execute_result"
    }
   ],
   "source": [
    "[window.to_list() for window in df.B.rolling(window=3)]"
   ]
  },
  {
   "cell_type": "code",
   "execution_count": 54,
   "metadata": {},
   "outputs": [
    {
     "data": {
      "text/plain": [
       "0     NaN\n",
       "1     NaN\n",
       "2    22.0\n",
       "3    33.0\n",
       "4    44.0\n",
       "5    55.0\n",
       "6    66.0\n",
       "7    77.0\n",
       "8    88.0\n",
       "Name: B, dtype: float64"
      ]
     },
     "execution_count": 54,
     "metadata": {},
     "output_type": "execute_result"
    }
   ],
   "source": [
    "df['B'].rolling(3).apply(lambda x:list(x)[1])"
   ]
  },
  {
   "cell_type": "code",
   "execution_count": null,
   "metadata": {},
   "outputs": [],
   "source": []
  },
  {
   "cell_type": "code",
   "execution_count": null,
   "metadata": {},
   "outputs": [],
   "source": []
  },
  {
   "cell_type": "code",
   "execution_count": 68,
   "metadata": {},
   "outputs": [
    {
     "name": "stdout",
     "output_type": "stream",
     "text": [
      "2222\n",
      "['1000' '1400' '1800' '1900' '2200' '2222' '2500' '3500' '4200' '900']\n"
     ]
    }
   ],
   "source": [
    "import numpy as np\n",
    "\n",
    "data = np.array([1000, 2500, 1400, 1800, 900, 4200, 2200, 1900, 3500])\n",
    "\n",
    "new_data = input()\n",
    "data = np.append(data, new_data)\n",
    "data = np.sort(data)\n",
    "print(data)"
   ]
  },
  {
   "cell_type": "code",
   "execution_count": 62,
   "metadata": {},
   "outputs": [
    {
     "data": {
      "text/plain": [
       "numpy.str_"
      ]
     },
     "execution_count": 62,
     "metadata": {},
     "output_type": "execute_result"
    }
   ],
   "source": [
    "type(data[3]), numpy.str_"
   ]
  },
  {
   "cell_type": "code",
   "execution_count": 64,
   "metadata": {},
   "outputs": [
    {
     "data": {
      "text/plain": [
       "numpy.int64"
      ]
     },
     "execution_count": 64,
     "metadata": {},
     "output_type": "execute_result"
    }
   ],
   "source": [
    "type(data[3])"
   ]
  },
  {
   "cell_type": "code",
   "execution_count": null,
   "metadata": {},
   "outputs": [],
   "source": []
  },
  {
   "cell_type": "code",
   "execution_count": null,
   "metadata": {},
   "outputs": [],
   "source": []
  },
  {
   "cell_type": "code",
   "execution_count": null,
   "metadata": {},
   "outputs": [],
   "source": []
  },
  {
   "cell_type": "code",
   "execution_count": 75,
   "metadata": {},
   "outputs": [
    {
     "name": "stdout",
     "output_type": "stream",
     "text": [
      "1. Quit\n",
      "2. Log into existing account\n",
      "3. Help\n",
      "4. Open new account\n",
      "None\n"
     ]
    }
   ],
   "source": [
    "class Menu:\n",
    "\n",
    "    def __init__(self,counter=0):\n",
    "        self.counter = counter\n",
    "        a_set = set()\n",
    "        self.a_set = a_set\n",
    "        \n",
    "\n",
    "    def __str__(self):\n",
    "        for element in self.a_set:\n",
    "            if element:\n",
    "                self.counter += 1\n",
    "                print(f\"{self.counter}. {element}\")\n",
    "        \n",
    "\n",
    "    def add(self,element=\"\", ):\n",
    "        self.element = element\n",
    "        self.a_set.add(element)\n",
    "        return self.a_set\n",
    "\n",
    "    def main_menu(self,):\n",
    "        return\n",
    "\n",
    "main_menu = Menu()\n",
    "main_menu.add(\"Open new account\")\n",
    "main_menu.add(\"Log into existing account\")\n",
    "main_menu.add(\"Help\")\n",
    "main_menu.add(\"Quit\")\n",
    "print(main_menu.__str__())"
   ]
  },
  {
   "cell_type": "code",
   "execution_count": null,
   "metadata": {},
   "outputs": [],
   "source": []
  },
  {
   "cell_type": "code",
   "execution_count": 79,
   "metadata": {},
   "outputs": [],
   "source": [
    "comparison_list = ['Amlodipine', 'Tylenol', 'Advil']"
   ]
  },
  {
   "cell_type": "code",
   "execution_count": 92,
   "metadata": {},
   "outputs": [],
   "source": [
    "test_text = [\"Amlodipine    [ Amlodpine     | 10 mg | Tablet | OD |  For 60 Days  ], Cetirizine    [ Cetirizine     | 10 mg | Tablet | OD |  For 5 Days  ]\"]*4\n",
    "df = pd.DataFrame(test_text, columns=['Prescription'])\n"
   ]
  },
  {
   "cell_type": "code",
   "execution_count": 102,
   "metadata": {},
   "outputs": [
    {
     "data": {
      "text/plain": [
       "0    [Amlodipine    [ Amlodpine     | 10 mg | Table...\n",
       "1    [Amlodipine    [ Amlodpine     | 10 mg | Table...\n",
       "2    [Amlodipine    [ Amlodpine     | 10 mg | Table...\n",
       "3    [Amlodipine    [ Amlodpine     | 10 mg | Table...\n",
       "Name: Prescription, dtype: object"
      ]
     },
     "execution_count": 102,
     "metadata": {},
     "output_type": "execute_result"
    }
   ],
   "source": [
    "df['Prescription'].str.split(']')"
   ]
  },
  {
   "cell_type": "code",
   "execution_count": null,
   "metadata": {},
   "outputs": [],
   "source": []
  },
  {
   "cell_type": "code",
   "execution_count": 117,
   "metadata": {},
   "outputs": [
    {
     "data": {
      "text/plain": [
       "array(['Amlodipine', 'Cetirizine'], dtype=object)"
      ]
     },
     "execution_count": 117,
     "metadata": {},
     "output_type": "execute_result"
    }
   ],
   "source": [
    "unique_drugs = table2['Name'].str.replace('[\\(\\[].*?[\\)\\]]','',regex=True)\\\n",
    "                             .str.split(',')\\\n",
    "                             .explode()\\\n",
    "                             .str.strip()\\\n",
    "                             .unique()\n",
    "\n",
    "\n",
    "\n",
    "table2['Prescription'].str.contains('|'.join(unique_drugs))\n",
    "\n",
    "\n",
    "0    True\n",
    "1    True\n",
    "2    True\n",
    "3    True\n",
    "Name: Prescription, dtype: bool\n"
   ]
  },
  {
   "cell_type": "code",
   "execution_count": 118,
   "metadata": {},
   "outputs": [
    {
     "data": {
      "text/plain": [
       "array(['Amlodipine', 'Cetirizine'], dtype=object)"
      ]
     },
     "execution_count": 118,
     "metadata": {},
     "output_type": "execute_result"
    }
   ],
   "source": [
    "drugs"
   ]
  },
  {
   "cell_type": "code",
   "execution_count": 119,
   "metadata": {},
   "outputs": [
    {
     "data": {
      "text/plain": [
       "0    True\n",
       "1    True\n",
       "2    True\n",
       "3    True\n",
       "Name: Prescription, dtype: bool"
      ]
     },
     "execution_count": 119,
     "metadata": {},
     "output_type": "execute_result"
    }
   ],
   "source": [
    "table2['Prescription'].str.contains('|'.join(unique_drugs))\n",
    "\n",
    "\n",
    "0    True\n",
    "1    True\n",
    "2    True\n",
    "3    True\n",
    "Name: Prescription, dtype: bool\n"
   ]
  },
  {
   "cell_type": "code",
   "execution_count": null,
   "metadata": {},
   "outputs": [],
   "source": []
  },
  {
   "cell_type": "code",
   "execution_count": null,
   "metadata": {},
   "outputs": [],
   "source": []
  },
  {
   "cell_type": "code",
   "execution_count": null,
   "metadata": {},
   "outputs": [],
   "source": []
  },
  {
   "cell_type": "code",
   "execution_count": null,
   "metadata": {},
   "outputs": [],
   "source": []
  },
  {
   "cell_type": "code",
   "execution_count": 103,
   "metadata": {},
   "outputs": [
    {
     "data": {
      "text/plain": [
       "'This is a sentence.  '"
      ]
     },
     "execution_count": 103,
     "metadata": {},
     "output_type": "execute_result"
    }
   ],
   "source": [
    "import re aaa\n",
    "x = \"This is a sentence. (once a day) [twice a day]\"\n",
    "re.sub(\"[\\(\\[].*?[\\)\\]]\", \"\", x)"
   ]
  },
  {
   "cell_type": "code",
   "execution_count": null,
   "metadata": {},
   "outputs": [],
   "source": []
  },
  {
   "cell_type": "code",
   "execution_count": null,
   "metadata": {},
   "outputs": [],
   "source": []
  },
  {
   "cell_type": "code",
   "execution_count": null,
   "metadata": {},
   "outputs": [],
   "source": []
  },
  {
   "cell_type": "code",
   "execution_count": 88,
   "metadata": {},
   "outputs": [
    {
     "data": {
      "text/plain": [
       "-1"
      ]
     },
     "execution_count": 88,
     "metadata": {},
     "output_type": "execute_result"
    }
   ],
   "source": [
    "test_text.find(r'|'.join(comparison_list))"
   ]
  },
  {
   "cell_type": "code",
   "execution_count": 93,
   "metadata": {},
   "outputs": [
    {
     "data": {
      "text/plain": [
       "0    True\n",
       "1    True\n",
       "2    True\n",
       "3    True\n",
       "Name: Prescription, dtype: bool"
      ]
     },
     "execution_count": 93,
     "metadata": {},
     "output_type": "execute_result"
    }
   ],
   "source": [
    "df['Prescription'].str.contains('|'.join(comparison_list))"
   ]
  },
  {
   "cell_type": "code",
   "execution_count": null,
   "metadata": {},
   "outputs": [],
   "source": []
  },
  {
   "cell_type": "code",
   "execution_count": null,
   "metadata": {},
   "outputs": [],
   "source": []
  },
  {
   "cell_type": "code",
   "execution_count": 121,
   "metadata": {},
   "outputs": [
    {
     "name": "stdout",
     "output_type": "stream",
     "text": [
      "Number of lines m: 3\n",
      "Line 0 1234\n",
      "Line 1 4567\n",
      "Line 2 9111\n",
      "[[1234], [4567], [9111]]\n"
     ]
    }
   ],
   "source": [
    "import numpy as np \n",
    "\n",
    "m = int(input('Number of lines m: '))\n",
    "\n",
    "matrix = []\n",
    "for i in range(m):\n",
    "   # taking row input from the user\n",
    "   row = list(map(int, input(f'Line {i} ').split()))\n",
    "   # appending the 'row' to the 'matrix'\n",
    "   matrix.append(row)\n",
    "    \n",
    "print(matrix)"
   ]
  },
  {
   "cell_type": "code",
   "execution_count": 123,
   "metadata": {},
   "outputs": [
    {
     "data": {
      "text/plain": [
       "array([[1234],\n",
       "       [4567],\n",
       "       [9111]])"
      ]
     },
     "execution_count": 123,
     "metadata": {},
     "output_type": "execute_result"
    }
   ],
   "source": [
    "np.array(matrix)"
   ]
  },
  {
   "cell_type": "code",
   "execution_count": null,
   "metadata": {},
   "outputs": [],
   "source": []
  },
  {
   "cell_type": "code",
   "execution_count": null,
   "metadata": {},
   "outputs": [],
   "source": []
  },
  {
   "cell_type": "code",
   "execution_count": null,
   "metadata": {},
   "outputs": [],
   "source": []
  },
  {
   "cell_type": "code",
   "execution_count": null,
   "metadata": {},
   "outputs": [],
   "source": []
  },
  {
   "cell_type": "code",
   "execution_count": null,
   "metadata": {},
   "outputs": [],
   "source": [
    "Date\tPrescribed\n",
    "16-05-2017\tAmlodipine [ Amlodipine | 10 mg | Tablet | OD | For 60 Days ], Cetirizine [ Cetirizine | 10 mg | Tablet | OD | For 5 Days ]\n",
    "15-05-2017\tCEFUROXIME[ ZINNAT | 500MG | Tablet | BID | For 7 Days ]\n",
    "17-05-2017\tCetirizine [Cetirizine | 5 mg/5 mL | Syrup | BID | For 5 Days]"
   ]
  },
  {
   "cell_type": "code",
   "execution_count": 124,
   "metadata": {},
   "outputs": [],
   "source": [
    "table1 = pd.read_clipboard()"
   ]
  },
  {
   "cell_type": "code",
   "execution_count": 125,
   "metadata": {},
   "outputs": [
    {
     "data": {
      "text/html": [
       "<div>\n",
       "<style scoped>\n",
       "    .dataframe tbody tr th:only-of-type {\n",
       "        vertical-align: middle;\n",
       "    }\n",
       "\n",
       "    .dataframe tbody tr th {\n",
       "        vertical-align: top;\n",
       "    }\n",
       "\n",
       "    .dataframe thead th {\n",
       "        text-align: right;\n",
       "    }\n",
       "</style>\n",
       "<table border=\"1\" class=\"dataframe\">\n",
       "  <thead>\n",
       "    <tr style=\"text-align: right;\">\n",
       "      <th></th>\n",
       "      <th>Date</th>\n",
       "      <th>Prescribed</th>\n",
       "    </tr>\n",
       "  </thead>\n",
       "  <tbody>\n",
       "    <tr>\n",
       "      <th>0</th>\n",
       "      <td>16-05-2017</td>\n",
       "      <td>Amlodipine [ Amlodipine | 10 mg | Tablet | OD ...</td>\n",
       "    </tr>\n",
       "    <tr>\n",
       "      <th>1</th>\n",
       "      <td>15-05-2017</td>\n",
       "      <td>CEFUROXIME[ ZINNAT | 500MG | Tablet | BID | Fo...</td>\n",
       "    </tr>\n",
       "    <tr>\n",
       "      <th>2</th>\n",
       "      <td>17-05-2017</td>\n",
       "      <td>Cetirizine [Cetirizine | 5 mg/5 mL | Syrup | B...</td>\n",
       "    </tr>\n",
       "  </tbody>\n",
       "</table>\n",
       "</div>"
      ],
      "text/plain": [
       "         Date                                         Prescribed\n",
       "0  16-05-2017  Amlodipine [ Amlodipine | 10 mg | Tablet | OD ...\n",
       "1  15-05-2017  CEFUROXIME[ ZINNAT | 500MG | Tablet | BID | Fo...\n",
       "2  17-05-2017  Cetirizine [Cetirizine | 5 mg/5 mL | Syrup | B..."
      ]
     },
     "execution_count": 125,
     "metadata": {},
     "output_type": "execute_result"
    }
   ],
   "source": [
    "table1"
   ]
  },
  {
   "cell_type": "code",
   "execution_count": null,
   "metadata": {},
   "outputs": [],
   "source": [
    "Name\tCategory\n",
    "Lisinopril (Lisinopril | 10 mg | Tablet)\tCARDIOVASCULAR AGENT\n",
    "Amlodipine (Amlodipine | 10 mg | Tablet)\tCARDIOVASCULAR AGENT\n",
    "Enoxaparin Sodium (80mg)(clexane 8000 iu | 80mg | 0)\tCARDIOVASCULAR AGENT"
   ]
  },
  {
   "cell_type": "code",
   "execution_count": 126,
   "metadata": {},
   "outputs": [
    {
     "data": {
      "text/html": [
       "<div>\n",
       "<style scoped>\n",
       "    .dataframe tbody tr th:only-of-type {\n",
       "        vertical-align: middle;\n",
       "    }\n",
       "\n",
       "    .dataframe tbody tr th {\n",
       "        vertical-align: top;\n",
       "    }\n",
       "\n",
       "    .dataframe thead th {\n",
       "        text-align: right;\n",
       "    }\n",
       "</style>\n",
       "<table border=\"1\" class=\"dataframe\">\n",
       "  <thead>\n",
       "    <tr style=\"text-align: right;\">\n",
       "      <th></th>\n",
       "      <th>Name</th>\n",
       "      <th>Category</th>\n",
       "    </tr>\n",
       "  </thead>\n",
       "  <tbody>\n",
       "    <tr>\n",
       "      <th>0</th>\n",
       "      <td>Lisinopril (Lisinopril | 10 mg | Tablet)</td>\n",
       "      <td>CARDIOVASCULAR AGENT</td>\n",
       "    </tr>\n",
       "    <tr>\n",
       "      <th>1</th>\n",
       "      <td>Amlodipine (Amlodipine | 10 mg | Tablet)</td>\n",
       "      <td>CARDIOVASCULAR AGENT</td>\n",
       "    </tr>\n",
       "    <tr>\n",
       "      <th>2</th>\n",
       "      <td>Enoxaparin Sodium (80mg)(clexane 8000 iu | 80m...</td>\n",
       "      <td>CARDIOVASCULAR AGENT</td>\n",
       "    </tr>\n",
       "  </tbody>\n",
       "</table>\n",
       "</div>"
      ],
      "text/plain": [
       "                                                Name              Category\n",
       "0           Lisinopril (Lisinopril | 10 mg | Tablet)  CARDIOVASCULAR AGENT\n",
       "1           Amlodipine (Amlodipine | 10 mg | Tablet)  CARDIOVASCULAR AGENT\n",
       "2  Enoxaparin Sodium (80mg)(clexane 8000 iu | 80m...  CARDIOVASCULAR AGENT"
      ]
     },
     "execution_count": 126,
     "metadata": {},
     "output_type": "execute_result"
    }
   ],
   "source": [
    "table2 = pd.read_clipboard()\n",
    "table2"
   ]
  },
  {
   "cell_type": "code",
   "execution_count": 129,
   "metadata": {},
   "outputs": [
    {
     "data": {
      "text/plain": [
       "array(['Lisinopril', 'Amlodipine', 'Enoxaparin Sodium'], dtype=object)"
      ]
     },
     "execution_count": 129,
     "metadata": {},
     "output_type": "execute_result"
    }
   ],
   "source": [
    "unique_drugs = table2['Name'].str.replace('[\\(\\[].*?[\\)\\]]','',regex=True)\\\n",
    "                             .str.split(',')\\\n",
    "                             .explode()\\\n",
    "                             .str.strip()\\\n",
    "                             .unique()\n",
    "\n",
    "unique_drugs\n",
    "\n",
    "#array(['Lisinopril', 'Amlodipine', 'Enoxaparin Sodium'], dtype=object)\n",
    "\n",
    "table1['flag'] = table1['Prescribed'].str.contains('|'.join(unique_drugs))\n",
    "print(table1)\n",
    "\n",
    "         Date                                         Prescribed   flag\n",
    "0  16-05-2017  Amlodipine [ Amlodipine | 10 mg | Tablet | OD ...   True\n",
    "1  15-05-2017  CEFUROXIME[ ZINNAT | 500MG | Tablet | BID | Fo...  False\n",
    "2  17-05-2017  Cetirizine [Cetirizine | 5 mg/5 mL | Syrup | B...  False"
   ]
  },
  {
   "cell_type": "code",
   "execution_count": 133,
   "metadata": {},
   "outputs": [
    {
     "name": "stdout",
     "output_type": "stream",
     "text": [
      "         Date                                         Prescribed   flag\n",
      "0  16-05-2017  Amlodipine [ Amlodipine | 10 mg | Tablet | OD ...   True\n",
      "1  15-05-2017  CEFUROXIME[ ZINNAT | 500MG | Tablet | BID | Fo...  False\n",
      "2  17-05-2017  Cetirizine [Cetirizine | 5 mg/5 mL | Syrup | B...  False\n"
     ]
    }
   ],
   "source": []
  },
  {
   "cell_type": "code",
   "execution_count": null,
   "metadata": {},
   "outputs": [],
   "source": []
  },
  {
   "cell_type": "code",
   "execution_count": null,
   "metadata": {},
   "outputs": [],
   "source": []
  },
  {
   "cell_type": "code",
   "execution_count": 134,
   "metadata": {},
   "outputs": [],
   "source": [
    "arr = [[0,1,0,0,1],\n",
    "        [0,1,0,1,1],\n",
    "        [0,1,1,1,1],\n",
    "        [0,0,0,0,1]]"
   ]
  },
  {
   "cell_type": "code",
   "execution_count": 135,
   "metadata": {},
   "outputs": [],
   "source": [
    "arr = np.array(arr)"
   ]
  },
  {
   "cell_type": "code",
   "execution_count": 136,
   "metadata": {},
   "outputs": [],
   "source": [
    "cols = arr[:,[1,4]]"
   ]
  },
  {
   "cell_type": "code",
   "execution_count": 137,
   "metadata": {},
   "outputs": [
    {
     "data": {
      "text/plain": [
       "array([[1, 1],\n",
       "       [1, 1],\n",
       "       [1, 1],\n",
       "       [0, 1]])"
      ]
     },
     "execution_count": 137,
     "metadata": {},
     "output_type": "execute_result"
    }
   ],
   "source": [
    "cols"
   ]
  },
  {
   "cell_type": "code",
   "execution_count": 138,
   "metadata": {},
   "outputs": [],
   "source": [
    "idxs = [1,4]\n",
    "cols = arr[:,idxs]"
   ]
  },
  {
   "cell_type": "code",
   "execution_count": 139,
   "metadata": {},
   "outputs": [
    {
     "data": {
      "text/plain": [
       "array([[1, 1],\n",
       "       [1, 1],\n",
       "       [1, 1],\n",
       "       [0, 1]])"
      ]
     },
     "execution_count": 139,
     "metadata": {},
     "output_type": "execute_result"
    }
   ],
   "source": [
    "cols"
   ]
  },
  {
   "cell_type": "code",
   "execution_count": null,
   "metadata": {},
   "outputs": [],
   "source": []
  },
  {
   "cell_type": "code",
   "execution_count": null,
   "metadata": {},
   "outputs": [],
   "source": []
  },
  {
   "cell_type": "code",
   "execution_count": 147,
   "metadata": {},
   "outputs": [],
   "source": [
    "def dummy_data():\n",
    "    N = np.random.randint(10,30)\n",
    "    df = pd.DataFrame({'time_sec':list(range(N)),'heart_rate':np.random.randint(70,150,N)})\n",
    "    return df"
   ]
  },
  {
   "cell_type": "code",
   "execution_count": 150,
   "metadata": {},
   "outputs": [
    {
     "data": {
      "text/html": [
       "<div>\n",
       "<style scoped>\n",
       "    .dataframe tbody tr th:only-of-type {\n",
       "        vertical-align: middle;\n",
       "    }\n",
       "\n",
       "    .dataframe tbody tr th {\n",
       "        vertical-align: top;\n",
       "    }\n",
       "\n",
       "    .dataframe thead th {\n",
       "        text-align: right;\n",
       "    }\n",
       "</style>\n",
       "<table border=\"1\" class=\"dataframe\">\n",
       "  <thead>\n",
       "    <tr style=\"text-align: right;\">\n",
       "      <th></th>\n",
       "      <th>time_sec</th>\n",
       "      <th>heart_rate</th>\n",
       "    </tr>\n",
       "  </thead>\n",
       "  <tbody>\n",
       "    <tr>\n",
       "      <th>0</th>\n",
       "      <td>0</td>\n",
       "      <td>85</td>\n",
       "    </tr>\n",
       "    <tr>\n",
       "      <th>1</th>\n",
       "      <td>1</td>\n",
       "      <td>89</td>\n",
       "    </tr>\n",
       "    <tr>\n",
       "      <th>2</th>\n",
       "      <td>2</td>\n",
       "      <td>123</td>\n",
       "    </tr>\n",
       "    <tr>\n",
       "      <th>3</th>\n",
       "      <td>3</td>\n",
       "      <td>126</td>\n",
       "    </tr>\n",
       "    <tr>\n",
       "      <th>4</th>\n",
       "      <td>4</td>\n",
       "      <td>76</td>\n",
       "    </tr>\n",
       "  </tbody>\n",
       "</table>\n",
       "</div>"
      ],
      "text/plain": [
       "   time_sec  heart_rate\n",
       "0         0          85\n",
       "1         1          89\n",
       "2         2         123\n",
       "3         3         126\n",
       "4         4          76"
      ]
     },
     "execution_count": 150,
     "metadata": {},
     "output_type": "execute_result"
    }
   ],
   "source": [
    "dfs = [dummy_data() for i in range(20)] #20 heart_rate datasets\n",
    "dfs[3].head()"
   ]
  },
  {
   "cell_type": "code",
   "execution_count": 154,
   "metadata": {},
   "outputs": [
    {
     "data": {
      "text/html": [
       "<div>\n",
       "<style scoped>\n",
       "    .dataframe tbody tr th:only-of-type {\n",
       "        vertical-align: middle;\n",
       "    }\n",
       "\n",
       "    .dataframe tbody tr th {\n",
       "        vertical-align: top;\n",
       "    }\n",
       "\n",
       "    .dataframe thead th {\n",
       "        text-align: right;\n",
       "    }\n",
       "</style>\n",
       "<table border=\"1\" class=\"dataframe\">\n",
       "  <thead>\n",
       "    <tr style=\"text-align: right;\">\n",
       "      <th></th>\n",
       "      <th>heart_rate</th>\n",
       "      <th>heart_rate</th>\n",
       "      <th>heart_rate</th>\n",
       "      <th>heart_rate</th>\n",
       "      <th>heart_rate</th>\n",
       "      <th>heart_rate</th>\n",
       "      <th>heart_rate</th>\n",
       "      <th>heart_rate</th>\n",
       "      <th>heart_rate</th>\n",
       "      <th>heart_rate</th>\n",
       "      <th>heart_rate</th>\n",
       "      <th>heart_rate</th>\n",
       "      <th>heart_rate</th>\n",
       "      <th>heart_rate</th>\n",
       "      <th>heart_rate</th>\n",
       "      <th>heart_rate</th>\n",
       "      <th>heart_rate</th>\n",
       "      <th>heart_rate</th>\n",
       "      <th>heart_rate</th>\n",
       "      <th>heart_rate</th>\n",
       "    </tr>\n",
       "    <tr>\n",
       "      <th>time_sec</th>\n",
       "      <th></th>\n",
       "      <th></th>\n",
       "      <th></th>\n",
       "      <th></th>\n",
       "      <th></th>\n",
       "      <th></th>\n",
       "      <th></th>\n",
       "      <th></th>\n",
       "      <th></th>\n",
       "      <th></th>\n",
       "      <th></th>\n",
       "      <th></th>\n",
       "      <th></th>\n",
       "      <th></th>\n",
       "      <th></th>\n",
       "      <th></th>\n",
       "      <th></th>\n",
       "      <th></th>\n",
       "      <th></th>\n",
       "      <th></th>\n",
       "    </tr>\n",
       "  </thead>\n",
       "  <tbody>\n",
       "    <tr>\n",
       "      <th>0</th>\n",
       "      <td>106.0</td>\n",
       "      <td>133.0</td>\n",
       "      <td>127.0</td>\n",
       "      <td>85.0</td>\n",
       "      <td>100.0</td>\n",
       "      <td>123.0</td>\n",
       "      <td>148</td>\n",
       "      <td>138.0</td>\n",
       "      <td>113.0</td>\n",
       "      <td>143</td>\n",
       "      <td>93.0</td>\n",
       "      <td>117.0</td>\n",
       "      <td>81.0</td>\n",
       "      <td>119.0</td>\n",
       "      <td>108.0</td>\n",
       "      <td>96.0</td>\n",
       "      <td>147.0</td>\n",
       "      <td>144.0</td>\n",
       "      <td>137.0</td>\n",
       "      <td>83.0</td>\n",
       "    </tr>\n",
       "    <tr>\n",
       "      <th>1</th>\n",
       "      <td>95.0</td>\n",
       "      <td>142.0</td>\n",
       "      <td>114.0</td>\n",
       "      <td>89.0</td>\n",
       "      <td>93.0</td>\n",
       "      <td>115.0</td>\n",
       "      <td>129</td>\n",
       "      <td>96.0</td>\n",
       "      <td>124.0</td>\n",
       "      <td>148</td>\n",
       "      <td>128.0</td>\n",
       "      <td>134.0</td>\n",
       "      <td>147.0</td>\n",
       "      <td>118.0</td>\n",
       "      <td>88.0</td>\n",
       "      <td>85.0</td>\n",
       "      <td>124.0</td>\n",
       "      <td>73.0</td>\n",
       "      <td>109.0</td>\n",
       "      <td>122.0</td>\n",
       "    </tr>\n",
       "    <tr>\n",
       "      <th>2</th>\n",
       "      <td>73.0</td>\n",
       "      <td>93.0</td>\n",
       "      <td>130.0</td>\n",
       "      <td>123.0</td>\n",
       "      <td>94.0</td>\n",
       "      <td>80.0</td>\n",
       "      <td>112</td>\n",
       "      <td>129.0</td>\n",
       "      <td>76.0</td>\n",
       "      <td>123</td>\n",
       "      <td>116.0</td>\n",
       "      <td>90.0</td>\n",
       "      <td>123.0</td>\n",
       "      <td>109.0</td>\n",
       "      <td>104.0</td>\n",
       "      <td>140.0</td>\n",
       "      <td>143.0</td>\n",
       "      <td>139.0</td>\n",
       "      <td>109.0</td>\n",
       "      <td>146.0</td>\n",
       "    </tr>\n",
       "    <tr>\n",
       "      <th>3</th>\n",
       "      <td>130.0</td>\n",
       "      <td>83.0</td>\n",
       "      <td>121.0</td>\n",
       "      <td>126.0</td>\n",
       "      <td>72.0</td>\n",
       "      <td>109.0</td>\n",
       "      <td>77</td>\n",
       "      <td>87.0</td>\n",
       "      <td>120.0</td>\n",
       "      <td>135</td>\n",
       "      <td>116.0</td>\n",
       "      <td>92.0</td>\n",
       "      <td>118.0</td>\n",
       "      <td>86.0</td>\n",
       "      <td>96.0</td>\n",
       "      <td>111.0</td>\n",
       "      <td>71.0</td>\n",
       "      <td>94.0</td>\n",
       "      <td>106.0</td>\n",
       "      <td>129.0</td>\n",
       "    </tr>\n",
       "    <tr>\n",
       "      <th>4</th>\n",
       "      <td>146.0</td>\n",
       "      <td>142.0</td>\n",
       "      <td>100.0</td>\n",
       "      <td>76.0</td>\n",
       "      <td>116.0</td>\n",
       "      <td>84.0</td>\n",
       "      <td>99</td>\n",
       "      <td>102.0</td>\n",
       "      <td>145.0</td>\n",
       "      <td>72</td>\n",
       "      <td>81.0</td>\n",
       "      <td>118.0</td>\n",
       "      <td>95.0</td>\n",
       "      <td>109.0</td>\n",
       "      <td>142.0</td>\n",
       "      <td>126.0</td>\n",
       "      <td>114.0</td>\n",
       "      <td>128.0</td>\n",
       "      <td>127.0</td>\n",
       "      <td>108.0</td>\n",
       "    </tr>\n",
       "    <tr>\n",
       "      <th>5</th>\n",
       "      <td>90.0</td>\n",
       "      <td>111.0</td>\n",
       "      <td>105.0</td>\n",
       "      <td>100.0</td>\n",
       "      <td>98.0</td>\n",
       "      <td>70.0</td>\n",
       "      <td>76</td>\n",
       "      <td>77.0</td>\n",
       "      <td>111.0</td>\n",
       "      <td>145</td>\n",
       "      <td>97.0</td>\n",
       "      <td>97.0</td>\n",
       "      <td>135.0</td>\n",
       "      <td>84.0</td>\n",
       "      <td>105.0</td>\n",
       "      <td>70.0</td>\n",
       "      <td>86.0</td>\n",
       "      <td>80.0</td>\n",
       "      <td>122.0</td>\n",
       "      <td>106.0</td>\n",
       "    </tr>\n",
       "    <tr>\n",
       "      <th>6</th>\n",
       "      <td>125.0</td>\n",
       "      <td>88.0</td>\n",
       "      <td>106.0</td>\n",
       "      <td>107.0</td>\n",
       "      <td>106.0</td>\n",
       "      <td>146.0</td>\n",
       "      <td>105</td>\n",
       "      <td>79.0</td>\n",
       "      <td>89.0</td>\n",
       "      <td>120</td>\n",
       "      <td>105.0</td>\n",
       "      <td>124.0</td>\n",
       "      <td>93.0</td>\n",
       "      <td>90.0</td>\n",
       "      <td>95.0</td>\n",
       "      <td>100.0</td>\n",
       "      <td>78.0</td>\n",
       "      <td>83.0</td>\n",
       "      <td>114.0</td>\n",
       "      <td>149.0</td>\n",
       "    </tr>\n",
       "    <tr>\n",
       "      <th>7</th>\n",
       "      <td>122.0</td>\n",
       "      <td>70.0</td>\n",
       "      <td>148.0</td>\n",
       "      <td>100.0</td>\n",
       "      <td>135.0</td>\n",
       "      <td>127.0</td>\n",
       "      <td>78</td>\n",
       "      <td>143.0</td>\n",
       "      <td>99.0</td>\n",
       "      <td>79</td>\n",
       "      <td>125.0</td>\n",
       "      <td>127.0</td>\n",
       "      <td>78.0</td>\n",
       "      <td>129.0</td>\n",
       "      <td>71.0</td>\n",
       "      <td>113.0</td>\n",
       "      <td>82.0</td>\n",
       "      <td>103.0</td>\n",
       "      <td>104.0</td>\n",
       "      <td>134.0</td>\n",
       "    </tr>\n",
       "    <tr>\n",
       "      <th>8</th>\n",
       "      <td>99.0</td>\n",
       "      <td>113.0</td>\n",
       "      <td>92.0</td>\n",
       "      <td>133.0</td>\n",
       "      <td>127.0</td>\n",
       "      <td>113.0</td>\n",
       "      <td>109</td>\n",
       "      <td>71.0</td>\n",
       "      <td>86.0</td>\n",
       "      <td>80</td>\n",
       "      <td>77.0</td>\n",
       "      <td>140.0</td>\n",
       "      <td>127.0</td>\n",
       "      <td>120.0</td>\n",
       "      <td>124.0</td>\n",
       "      <td>84.0</td>\n",
       "      <td>113.0</td>\n",
       "      <td>74.0</td>\n",
       "      <td>109.0</td>\n",
       "      <td>92.0</td>\n",
       "    </tr>\n",
       "    <tr>\n",
       "      <th>9</th>\n",
       "      <td>135.0</td>\n",
       "      <td>96.0</td>\n",
       "      <td>83.0</td>\n",
       "      <td>119.0</td>\n",
       "      <td>144.0</td>\n",
       "      <td>137.0</td>\n",
       "      <td>84</td>\n",
       "      <td>70.0</td>\n",
       "      <td>102.0</td>\n",
       "      <td>126</td>\n",
       "      <td>137.0</td>\n",
       "      <td>77.0</td>\n",
       "      <td>127.0</td>\n",
       "      <td>83.0</td>\n",
       "      <td>122.0</td>\n",
       "      <td>145.0</td>\n",
       "      <td>88.0</td>\n",
       "      <td>80.0</td>\n",
       "      <td>94.0</td>\n",
       "      <td>77.0</td>\n",
       "    </tr>\n",
       "    <tr>\n",
       "      <th>10</th>\n",
       "      <td>132.0</td>\n",
       "      <td>77.0</td>\n",
       "      <td>119.0</td>\n",
       "      <td>82.0</td>\n",
       "      <td>118.0</td>\n",
       "      <td>88.0</td>\n",
       "      <td>147</td>\n",
       "      <td>142.0</td>\n",
       "      <td>108.0</td>\n",
       "      <td>125</td>\n",
       "      <td>142.0</td>\n",
       "      <td>105.0</td>\n",
       "      <td>139.0</td>\n",
       "      <td>102.0</td>\n",
       "      <td>90.0</td>\n",
       "      <td>146.0</td>\n",
       "      <td>93.0</td>\n",
       "      <td>136.0</td>\n",
       "      <td>129.0</td>\n",
       "      <td>144.0</td>\n",
       "    </tr>\n",
       "    <tr>\n",
       "      <th>11</th>\n",
       "      <td>113.0</td>\n",
       "      <td>138.0</td>\n",
       "      <td>134.0</td>\n",
       "      <td>78.0</td>\n",
       "      <td>84.0</td>\n",
       "      <td>79.0</td>\n",
       "      <td>109</td>\n",
       "      <td>72.0</td>\n",
       "      <td>116.0</td>\n",
       "      <td>103</td>\n",
       "      <td>128.0</td>\n",
       "      <td>121.0</td>\n",
       "      <td>121.0</td>\n",
       "      <td>105.0</td>\n",
       "      <td>119.0</td>\n",
       "      <td>NaN</td>\n",
       "      <td>76.0</td>\n",
       "      <td>131.0</td>\n",
       "      <td>87.0</td>\n",
       "      <td>98.0</td>\n",
       "    </tr>\n",
       "    <tr>\n",
       "      <th>12</th>\n",
       "      <td>121.0</td>\n",
       "      <td>89.0</td>\n",
       "      <td>132.0</td>\n",
       "      <td>113.0</td>\n",
       "      <td>NaN</td>\n",
       "      <td>71.0</td>\n",
       "      <td>132</td>\n",
       "      <td>125.0</td>\n",
       "      <td>95.0</td>\n",
       "      <td>100</td>\n",
       "      <td>142.0</td>\n",
       "      <td>136.0</td>\n",
       "      <td>71.0</td>\n",
       "      <td>148.0</td>\n",
       "      <td>141.0</td>\n",
       "      <td>NaN</td>\n",
       "      <td>98.0</td>\n",
       "      <td>79.0</td>\n",
       "      <td>131.0</td>\n",
       "      <td>111.0</td>\n",
       "    </tr>\n",
       "    <tr>\n",
       "      <th>13</th>\n",
       "      <td>81.0</td>\n",
       "      <td>83.0</td>\n",
       "      <td>NaN</td>\n",
       "      <td>86.0</td>\n",
       "      <td>NaN</td>\n",
       "      <td>91.0</td>\n",
       "      <td>111</td>\n",
       "      <td>74.0</td>\n",
       "      <td>73.0</td>\n",
       "      <td>137</td>\n",
       "      <td>NaN</td>\n",
       "      <td>108.0</td>\n",
       "      <td>147.0</td>\n",
       "      <td>99.0</td>\n",
       "      <td>107.0</td>\n",
       "      <td>NaN</td>\n",
       "      <td>119.0</td>\n",
       "      <td>81.0</td>\n",
       "      <td>134.0</td>\n",
       "      <td>146.0</td>\n",
       "    </tr>\n",
       "    <tr>\n",
       "      <th>14</th>\n",
       "      <td>138.0</td>\n",
       "      <td>147.0</td>\n",
       "      <td>NaN</td>\n",
       "      <td>110.0</td>\n",
       "      <td>NaN</td>\n",
       "      <td>103.0</td>\n",
       "      <td>113</td>\n",
       "      <td>147.0</td>\n",
       "      <td>118.0</td>\n",
       "      <td>147</td>\n",
       "      <td>NaN</td>\n",
       "      <td>102.0</td>\n",
       "      <td>122.0</td>\n",
       "      <td>87.0</td>\n",
       "      <td>107.0</td>\n",
       "      <td>NaN</td>\n",
       "      <td>143.0</td>\n",
       "      <td>115.0</td>\n",
       "      <td>129.0</td>\n",
       "      <td>138.0</td>\n",
       "    </tr>\n",
       "    <tr>\n",
       "      <th>15</th>\n",
       "      <td>100.0</td>\n",
       "      <td>106.0</td>\n",
       "      <td>NaN</td>\n",
       "      <td>95.0</td>\n",
       "      <td>NaN</td>\n",
       "      <td>98.0</td>\n",
       "      <td>121</td>\n",
       "      <td>133.0</td>\n",
       "      <td>NaN</td>\n",
       "      <td>136</td>\n",
       "      <td>NaN</td>\n",
       "      <td>126.0</td>\n",
       "      <td>135.0</td>\n",
       "      <td>110.0</td>\n",
       "      <td>115.0</td>\n",
       "      <td>NaN</td>\n",
       "      <td>104.0</td>\n",
       "      <td>115.0</td>\n",
       "      <td>70.0</td>\n",
       "      <td>92.0</td>\n",
       "    </tr>\n",
       "    <tr>\n",
       "      <th>16</th>\n",
       "      <td>90.0</td>\n",
       "      <td>NaN</td>\n",
       "      <td>NaN</td>\n",
       "      <td>NaN</td>\n",
       "      <td>NaN</td>\n",
       "      <td>119.0</td>\n",
       "      <td>146</td>\n",
       "      <td>112.0</td>\n",
       "      <td>NaN</td>\n",
       "      <td>146</td>\n",
       "      <td>NaN</td>\n",
       "      <td>100.0</td>\n",
       "      <td>98.0</td>\n",
       "      <td>72.0</td>\n",
       "      <td>102.0</td>\n",
       "      <td>NaN</td>\n",
       "      <td>142.0</td>\n",
       "      <td>72.0</td>\n",
       "      <td>130.0</td>\n",
       "      <td>86.0</td>\n",
       "    </tr>\n",
       "    <tr>\n",
       "      <th>17</th>\n",
       "      <td>89.0</td>\n",
       "      <td>NaN</td>\n",
       "      <td>NaN</td>\n",
       "      <td>NaN</td>\n",
       "      <td>NaN</td>\n",
       "      <td>NaN</td>\n",
       "      <td>110</td>\n",
       "      <td>136.0</td>\n",
       "      <td>NaN</td>\n",
       "      <td>90</td>\n",
       "      <td>NaN</td>\n",
       "      <td>130.0</td>\n",
       "      <td>75.0</td>\n",
       "      <td>99.0</td>\n",
       "      <td>140.0</td>\n",
       "      <td>NaN</td>\n",
       "      <td>140.0</td>\n",
       "      <td>82.0</td>\n",
       "      <td>116.0</td>\n",
       "      <td>103.0</td>\n",
       "    </tr>\n",
       "    <tr>\n",
       "      <th>18</th>\n",
       "      <td>78.0</td>\n",
       "      <td>NaN</td>\n",
       "      <td>NaN</td>\n",
       "      <td>NaN</td>\n",
       "      <td>NaN</td>\n",
       "      <td>NaN</td>\n",
       "      <td>87</td>\n",
       "      <td>129.0</td>\n",
       "      <td>NaN</td>\n",
       "      <td>122</td>\n",
       "      <td>NaN</td>\n",
       "      <td>121.0</td>\n",
       "      <td>81.0</td>\n",
       "      <td>98.0</td>\n",
       "      <td>130.0</td>\n",
       "      <td>NaN</td>\n",
       "      <td>115.0</td>\n",
       "      <td>77.0</td>\n",
       "      <td>97.0</td>\n",
       "      <td>144.0</td>\n",
       "    </tr>\n",
       "    <tr>\n",
       "      <th>19</th>\n",
       "      <td>144.0</td>\n",
       "      <td>NaN</td>\n",
       "      <td>NaN</td>\n",
       "      <td>NaN</td>\n",
       "      <td>NaN</td>\n",
       "      <td>NaN</td>\n",
       "      <td>143</td>\n",
       "      <td>149.0</td>\n",
       "      <td>NaN</td>\n",
       "      <td>84</td>\n",
       "      <td>NaN</td>\n",
       "      <td>111.0</td>\n",
       "      <td>100.0</td>\n",
       "      <td>91.0</td>\n",
       "      <td>120.0</td>\n",
       "      <td>NaN</td>\n",
       "      <td>NaN</td>\n",
       "      <td>116.0</td>\n",
       "      <td>88.0</td>\n",
       "      <td>102.0</td>\n",
       "    </tr>\n",
       "    <tr>\n",
       "      <th>20</th>\n",
       "      <td>138.0</td>\n",
       "      <td>NaN</td>\n",
       "      <td>NaN</td>\n",
       "      <td>NaN</td>\n",
       "      <td>NaN</td>\n",
       "      <td>NaN</td>\n",
       "      <td>115</td>\n",
       "      <td>NaN</td>\n",
       "      <td>NaN</td>\n",
       "      <td>79</td>\n",
       "      <td>NaN</td>\n",
       "      <td>115.0</td>\n",
       "      <td>140.0</td>\n",
       "      <td>145.0</td>\n",
       "      <td>124.0</td>\n",
       "      <td>NaN</td>\n",
       "      <td>NaN</td>\n",
       "      <td>145.0</td>\n",
       "      <td>107.0</td>\n",
       "      <td>98.0</td>\n",
       "    </tr>\n",
       "    <tr>\n",
       "      <th>21</th>\n",
       "      <td>142.0</td>\n",
       "      <td>NaN</td>\n",
       "      <td>NaN</td>\n",
       "      <td>NaN</td>\n",
       "      <td>NaN</td>\n",
       "      <td>NaN</td>\n",
       "      <td>145</td>\n",
       "      <td>NaN</td>\n",
       "      <td>NaN</td>\n",
       "      <td>124</td>\n",
       "      <td>NaN</td>\n",
       "      <td>105.0</td>\n",
       "      <td>118.0</td>\n",
       "      <td>145.0</td>\n",
       "      <td>142.0</td>\n",
       "      <td>NaN</td>\n",
       "      <td>NaN</td>\n",
       "      <td>NaN</td>\n",
       "      <td>70.0</td>\n",
       "      <td>74.0</td>\n",
       "    </tr>\n",
       "    <tr>\n",
       "      <th>22</th>\n",
       "      <td>80.0</td>\n",
       "      <td>NaN</td>\n",
       "      <td>NaN</td>\n",
       "      <td>NaN</td>\n",
       "      <td>NaN</td>\n",
       "      <td>NaN</td>\n",
       "      <td>90</td>\n",
       "      <td>NaN</td>\n",
       "      <td>NaN</td>\n",
       "      <td>88</td>\n",
       "      <td>NaN</td>\n",
       "      <td>109.0</td>\n",
       "      <td>117.0</td>\n",
       "      <td>75.0</td>\n",
       "      <td>NaN</td>\n",
       "      <td>NaN</td>\n",
       "      <td>NaN</td>\n",
       "      <td>NaN</td>\n",
       "      <td>104.0</td>\n",
       "      <td>123.0</td>\n",
       "    </tr>\n",
       "    <tr>\n",
       "      <th>23</th>\n",
       "      <td>124.0</td>\n",
       "      <td>NaN</td>\n",
       "      <td>NaN</td>\n",
       "      <td>NaN</td>\n",
       "      <td>NaN</td>\n",
       "      <td>NaN</td>\n",
       "      <td>98</td>\n",
       "      <td>NaN</td>\n",
       "      <td>NaN</td>\n",
       "      <td>149</td>\n",
       "      <td>NaN</td>\n",
       "      <td>110.0</td>\n",
       "      <td>88.0</td>\n",
       "      <td>77.0</td>\n",
       "      <td>NaN</td>\n",
       "      <td>NaN</td>\n",
       "      <td>NaN</td>\n",
       "      <td>NaN</td>\n",
       "      <td>141.0</td>\n",
       "      <td>94.0</td>\n",
       "    </tr>\n",
       "    <tr>\n",
       "      <th>24</th>\n",
       "      <td>142.0</td>\n",
       "      <td>NaN</td>\n",
       "      <td>NaN</td>\n",
       "      <td>NaN</td>\n",
       "      <td>NaN</td>\n",
       "      <td>NaN</td>\n",
       "      <td>138</td>\n",
       "      <td>NaN</td>\n",
       "      <td>NaN</td>\n",
       "      <td>132</td>\n",
       "      <td>NaN</td>\n",
       "      <td>144.0</td>\n",
       "      <td>NaN</td>\n",
       "      <td>104.0</td>\n",
       "      <td>NaN</td>\n",
       "      <td>NaN</td>\n",
       "      <td>NaN</td>\n",
       "      <td>NaN</td>\n",
       "      <td>NaN</td>\n",
       "      <td>83.0</td>\n",
       "    </tr>\n",
       "    <tr>\n",
       "      <th>25</th>\n",
       "      <td>136.0</td>\n",
       "      <td>NaN</td>\n",
       "      <td>NaN</td>\n",
       "      <td>NaN</td>\n",
       "      <td>NaN</td>\n",
       "      <td>NaN</td>\n",
       "      <td>107</td>\n",
       "      <td>NaN</td>\n",
       "      <td>NaN</td>\n",
       "      <td>103</td>\n",
       "      <td>NaN</td>\n",
       "      <td>73.0</td>\n",
       "      <td>NaN</td>\n",
       "      <td>NaN</td>\n",
       "      <td>NaN</td>\n",
       "      <td>NaN</td>\n",
       "      <td>NaN</td>\n",
       "      <td>NaN</td>\n",
       "      <td>NaN</td>\n",
       "      <td>101.0</td>\n",
       "    </tr>\n",
       "    <tr>\n",
       "      <th>26</th>\n",
       "      <td>74.0</td>\n",
       "      <td>NaN</td>\n",
       "      <td>NaN</td>\n",
       "      <td>NaN</td>\n",
       "      <td>NaN</td>\n",
       "      <td>NaN</td>\n",
       "      <td>74</td>\n",
       "      <td>NaN</td>\n",
       "      <td>NaN</td>\n",
       "      <td>115</td>\n",
       "      <td>NaN</td>\n",
       "      <td>103.0</td>\n",
       "      <td>NaN</td>\n",
       "      <td>NaN</td>\n",
       "      <td>NaN</td>\n",
       "      <td>NaN</td>\n",
       "      <td>NaN</td>\n",
       "      <td>NaN</td>\n",
       "      <td>NaN</td>\n",
       "      <td>103.0</td>\n",
       "    </tr>\n",
       "    <tr>\n",
       "      <th>27</th>\n",
       "      <td>NaN</td>\n",
       "      <td>NaN</td>\n",
       "      <td>NaN</td>\n",
       "      <td>NaN</td>\n",
       "      <td>NaN</td>\n",
       "      <td>NaN</td>\n",
       "      <td>130</td>\n",
       "      <td>NaN</td>\n",
       "      <td>NaN</td>\n",
       "      <td>91</td>\n",
       "      <td>NaN</td>\n",
       "      <td>111.0</td>\n",
       "      <td>NaN</td>\n",
       "      <td>NaN</td>\n",
       "      <td>NaN</td>\n",
       "      <td>NaN</td>\n",
       "      <td>NaN</td>\n",
       "      <td>NaN</td>\n",
       "      <td>NaN</td>\n",
       "      <td>100.0</td>\n",
       "    </tr>\n",
       "    <tr>\n",
       "      <th>28</th>\n",
       "      <td>NaN</td>\n",
       "      <td>NaN</td>\n",
       "      <td>NaN</td>\n",
       "      <td>NaN</td>\n",
       "      <td>NaN</td>\n",
       "      <td>NaN</td>\n",
       "      <td>103</td>\n",
       "      <td>NaN</td>\n",
       "      <td>NaN</td>\n",
       "      <td>146</td>\n",
       "      <td>NaN</td>\n",
       "      <td>NaN</td>\n",
       "      <td>NaN</td>\n",
       "      <td>NaN</td>\n",
       "      <td>NaN</td>\n",
       "      <td>NaN</td>\n",
       "      <td>NaN</td>\n",
       "      <td>NaN</td>\n",
       "      <td>NaN</td>\n",
       "      <td>NaN</td>\n",
       "    </tr>\n",
       "  </tbody>\n",
       "</table>\n",
       "</div>"
      ],
      "text/plain": [
       "          heart_rate  heart_rate  heart_rate  heart_rate  heart_rate  \\\n",
       "time_sec                                                               \n",
       "0              106.0       133.0       127.0        85.0       100.0   \n",
       "1               95.0       142.0       114.0        89.0        93.0   \n",
       "2               73.0        93.0       130.0       123.0        94.0   \n",
       "3              130.0        83.0       121.0       126.0        72.0   \n",
       "4              146.0       142.0       100.0        76.0       116.0   \n",
       "5               90.0       111.0       105.0       100.0        98.0   \n",
       "6              125.0        88.0       106.0       107.0       106.0   \n",
       "7              122.0        70.0       148.0       100.0       135.0   \n",
       "8               99.0       113.0        92.0       133.0       127.0   \n",
       "9              135.0        96.0        83.0       119.0       144.0   \n",
       "10             132.0        77.0       119.0        82.0       118.0   \n",
       "11             113.0       138.0       134.0        78.0        84.0   \n",
       "12             121.0        89.0       132.0       113.0         NaN   \n",
       "13              81.0        83.0         NaN        86.0         NaN   \n",
       "14             138.0       147.0         NaN       110.0         NaN   \n",
       "15             100.0       106.0         NaN        95.0         NaN   \n",
       "16              90.0         NaN         NaN         NaN         NaN   \n",
       "17              89.0         NaN         NaN         NaN         NaN   \n",
       "18              78.0         NaN         NaN         NaN         NaN   \n",
       "19             144.0         NaN         NaN         NaN         NaN   \n",
       "20             138.0         NaN         NaN         NaN         NaN   \n",
       "21             142.0         NaN         NaN         NaN         NaN   \n",
       "22              80.0         NaN         NaN         NaN         NaN   \n",
       "23             124.0         NaN         NaN         NaN         NaN   \n",
       "24             142.0         NaN         NaN         NaN         NaN   \n",
       "25             136.0         NaN         NaN         NaN         NaN   \n",
       "26              74.0         NaN         NaN         NaN         NaN   \n",
       "27               NaN         NaN         NaN         NaN         NaN   \n",
       "28               NaN         NaN         NaN         NaN         NaN   \n",
       "\n",
       "          heart_rate  heart_rate  heart_rate  heart_rate  heart_rate  \\\n",
       "time_sec                                                               \n",
       "0              123.0         148       138.0       113.0         143   \n",
       "1              115.0         129        96.0       124.0         148   \n",
       "2               80.0         112       129.0        76.0         123   \n",
       "3              109.0          77        87.0       120.0         135   \n",
       "4               84.0          99       102.0       145.0          72   \n",
       "5               70.0          76        77.0       111.0         145   \n",
       "6              146.0         105        79.0        89.0         120   \n",
       "7              127.0          78       143.0        99.0          79   \n",
       "8              113.0         109        71.0        86.0          80   \n",
       "9              137.0          84        70.0       102.0         126   \n",
       "10              88.0         147       142.0       108.0         125   \n",
       "11              79.0         109        72.0       116.0         103   \n",
       "12              71.0         132       125.0        95.0         100   \n",
       "13              91.0         111        74.0        73.0         137   \n",
       "14             103.0         113       147.0       118.0         147   \n",
       "15              98.0         121       133.0         NaN         136   \n",
       "16             119.0         146       112.0         NaN         146   \n",
       "17               NaN         110       136.0         NaN          90   \n",
       "18               NaN          87       129.0         NaN         122   \n",
       "19               NaN         143       149.0         NaN          84   \n",
       "20               NaN         115         NaN         NaN          79   \n",
       "21               NaN         145         NaN         NaN         124   \n",
       "22               NaN          90         NaN         NaN          88   \n",
       "23               NaN          98         NaN         NaN         149   \n",
       "24               NaN         138         NaN         NaN         132   \n",
       "25               NaN         107         NaN         NaN         103   \n",
       "26               NaN          74         NaN         NaN         115   \n",
       "27               NaN         130         NaN         NaN          91   \n",
       "28               NaN         103         NaN         NaN         146   \n",
       "\n",
       "          heart_rate  heart_rate  heart_rate  heart_rate  heart_rate  \\\n",
       "time_sec                                                               \n",
       "0               93.0       117.0        81.0       119.0       108.0   \n",
       "1              128.0       134.0       147.0       118.0        88.0   \n",
       "2              116.0        90.0       123.0       109.0       104.0   \n",
       "3              116.0        92.0       118.0        86.0        96.0   \n",
       "4               81.0       118.0        95.0       109.0       142.0   \n",
       "5               97.0        97.0       135.0        84.0       105.0   \n",
       "6              105.0       124.0        93.0        90.0        95.0   \n",
       "7              125.0       127.0        78.0       129.0        71.0   \n",
       "8               77.0       140.0       127.0       120.0       124.0   \n",
       "9              137.0        77.0       127.0        83.0       122.0   \n",
       "10             142.0       105.0       139.0       102.0        90.0   \n",
       "11             128.0       121.0       121.0       105.0       119.0   \n",
       "12             142.0       136.0        71.0       148.0       141.0   \n",
       "13               NaN       108.0       147.0        99.0       107.0   \n",
       "14               NaN       102.0       122.0        87.0       107.0   \n",
       "15               NaN       126.0       135.0       110.0       115.0   \n",
       "16               NaN       100.0        98.0        72.0       102.0   \n",
       "17               NaN       130.0        75.0        99.0       140.0   \n",
       "18               NaN       121.0        81.0        98.0       130.0   \n",
       "19               NaN       111.0       100.0        91.0       120.0   \n",
       "20               NaN       115.0       140.0       145.0       124.0   \n",
       "21               NaN       105.0       118.0       145.0       142.0   \n",
       "22               NaN       109.0       117.0        75.0         NaN   \n",
       "23               NaN       110.0        88.0        77.0         NaN   \n",
       "24               NaN       144.0         NaN       104.0         NaN   \n",
       "25               NaN        73.0         NaN         NaN         NaN   \n",
       "26               NaN       103.0         NaN         NaN         NaN   \n",
       "27               NaN       111.0         NaN         NaN         NaN   \n",
       "28               NaN         NaN         NaN         NaN         NaN   \n",
       "\n",
       "          heart_rate  heart_rate  heart_rate  heart_rate  heart_rate  \n",
       "time_sec                                                              \n",
       "0               96.0       147.0       144.0       137.0        83.0  \n",
       "1               85.0       124.0        73.0       109.0       122.0  \n",
       "2              140.0       143.0       139.0       109.0       146.0  \n",
       "3              111.0        71.0        94.0       106.0       129.0  \n",
       "4              126.0       114.0       128.0       127.0       108.0  \n",
       "5               70.0        86.0        80.0       122.0       106.0  \n",
       "6              100.0        78.0        83.0       114.0       149.0  \n",
       "7              113.0        82.0       103.0       104.0       134.0  \n",
       "8               84.0       113.0        74.0       109.0        92.0  \n",
       "9              145.0        88.0        80.0        94.0        77.0  \n",
       "10             146.0        93.0       136.0       129.0       144.0  \n",
       "11               NaN        76.0       131.0        87.0        98.0  \n",
       "12               NaN        98.0        79.0       131.0       111.0  \n",
       "13               NaN       119.0        81.0       134.0       146.0  \n",
       "14               NaN       143.0       115.0       129.0       138.0  \n",
       "15               NaN       104.0       115.0        70.0        92.0  \n",
       "16               NaN       142.0        72.0       130.0        86.0  \n",
       "17               NaN       140.0        82.0       116.0       103.0  \n",
       "18               NaN       115.0        77.0        97.0       144.0  \n",
       "19               NaN         NaN       116.0        88.0       102.0  \n",
       "20               NaN         NaN       145.0       107.0        98.0  \n",
       "21               NaN         NaN         NaN        70.0        74.0  \n",
       "22               NaN         NaN         NaN       104.0       123.0  \n",
       "23               NaN         NaN         NaN       141.0        94.0  \n",
       "24               NaN         NaN         NaN         NaN        83.0  \n",
       "25               NaN         NaN         NaN         NaN       101.0  \n",
       "26               NaN         NaN         NaN         NaN       103.0  \n",
       "27               NaN         NaN         NaN         NaN       100.0  \n",
       "28               NaN         NaN         NaN         NaN         NaN  "
      ]
     },
     "execution_count": 154,
     "metadata": {},
     "output_type": "execute_result"
    },
    {
     "name": "stdout",
     "output_type": "stream",
     "text": [
      "ERROR! Session/line number was not unique in database. History logging moved to new session 822\n"
     ]
    }
   ],
   "source": [
    "pd.concat([i.set_index('time_sec') for i in dfs], axis=1)"
   ]
  },
  {
   "cell_type": "code",
   "execution_count": null,
   "metadata": {},
   "outputs": [],
   "source": []
  }
 ],
 "metadata": {
  "kernelspec": {
   "display_name": "Python 3",
   "language": "python",
   "name": "python3"
  },
  "language_info": {
   "codemirror_mode": {
    "name": "ipython",
    "version": 3
   },
   "file_extension": ".py",
   "mimetype": "text/x-python",
   "name": "python",
   "nbconvert_exporter": "python",
   "pygments_lexer": "ipython3",
   "version": "3.8.3"
  }
 },
 "nbformat": 4,
 "nbformat_minor": 4
}
