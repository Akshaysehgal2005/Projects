{
 "cells": [
  {
   "cell_type": "code",
   "execution_count": 1,
   "id": "05839eb2",
   "metadata": {},
   "outputs": [],
   "source": [
    "import streamlit as st"
   ]
  },
  {
   "cell_type": "code",
   "execution_count": null,
   "id": "72229851",
   "metadata": {},
   "outputs": [],
   "source": [
    "st.write"
   ]
  },
  {
   "cell_type": "code",
   "execution_count": null,
   "id": "0ec86a8b",
   "metadata": {},
   "outputs": [],
   "source": []
  },
  {
   "cell_type": "code",
   "execution_count": null,
   "id": "338797ea",
   "metadata": {},
   "outputs": [],
   "source": []
  },
  {
   "cell_type": "code",
   "execution_count": 2,
   "id": "ad629af9",
   "metadata": {},
   "outputs": [
    {
     "data": {
      "text/html": [
       "<div>\n",
       "<style scoped>\n",
       "    .dataframe tbody tr th:only-of-type {\n",
       "        vertical-align: middle;\n",
       "    }\n",
       "\n",
       "    .dataframe tbody tr th {\n",
       "        vertical-align: top;\n",
       "    }\n",
       "\n",
       "    .dataframe thead th {\n",
       "        text-align: right;\n",
       "    }\n",
       "</style>\n",
       "<table border=\"1\" class=\"dataframe\">\n",
       "  <thead>\n",
       "    <tr style=\"text-align: right;\">\n",
       "      <th></th>\n",
       "      <th></th>\n",
       "      <th>0</th>\n",
       "      <th>1</th>\n",
       "      <th>2</th>\n",
       "      <th>3</th>\n",
       "    </tr>\n",
       "    <tr>\n",
       "      <th>index1</th>\n",
       "      <th>index2</th>\n",
       "      <th></th>\n",
       "      <th></th>\n",
       "      <th></th>\n",
       "      <th></th>\n",
       "    </tr>\n",
       "  </thead>\n",
       "  <tbody>\n",
       "    <tr>\n",
       "      <th rowspan=\"2\" valign=\"top\">bar</th>\n",
       "      <th>one</th>\n",
       "      <td>-0.205875</td>\n",
       "      <td>1.655640</td>\n",
       "      <td>-0.293719</td>\n",
       "      <td>-0.888364</td>\n",
       "    </tr>\n",
       "    <tr>\n",
       "      <th>two</th>\n",
       "      <td>-0.430968</td>\n",
       "      <td>-1.366272</td>\n",
       "      <td>-0.965299</td>\n",
       "      <td>0.329222</td>\n",
       "    </tr>\n",
       "    <tr>\n",
       "      <th rowspan=\"2\" valign=\"top\">baz</th>\n",
       "      <th>one</th>\n",
       "      <td>-0.989943</td>\n",
       "      <td>-1.017676</td>\n",
       "      <td>-1.978354</td>\n",
       "      <td>-0.025512</td>\n",
       "    </tr>\n",
       "    <tr>\n",
       "      <th>two</th>\n",
       "      <td>-0.203561</td>\n",
       "      <td>-0.930144</td>\n",
       "      <td>-0.743674</td>\n",
       "      <td>0.753461</td>\n",
       "    </tr>\n",
       "    <tr>\n",
       "      <th rowspan=\"2\" valign=\"top\">foo</th>\n",
       "      <th>one</th>\n",
       "      <td>0.035394</td>\n",
       "      <td>-0.645152</td>\n",
       "      <td>0.704775</td>\n",
       "      <td>3.886217</td>\n",
       "    </tr>\n",
       "    <tr>\n",
       "      <th>two</th>\n",
       "      <td>-1.042437</td>\n",
       "      <td>0.371565</td>\n",
       "      <td>0.345293</td>\n",
       "      <td>-0.542711</td>\n",
       "    </tr>\n",
       "    <tr>\n",
       "      <th rowspan=\"2\" valign=\"top\">qux</th>\n",
       "      <th>one</th>\n",
       "      <td>0.955268</td>\n",
       "      <td>1.827085</td>\n",
       "      <td>-3.310341</td>\n",
       "      <td>0.215205</td>\n",
       "    </tr>\n",
       "    <tr>\n",
       "      <th>two</th>\n",
       "      <td>-1.083629</td>\n",
       "      <td>-1.282270</td>\n",
       "      <td>-0.457502</td>\n",
       "      <td>-0.384376</td>\n",
       "    </tr>\n",
       "  </tbody>\n",
       "</table>\n",
       "</div>"
      ],
      "text/plain": [
       "                      0         1         2         3\n",
       "index1 index2                                        \n",
       "bar    one    -0.205875  1.655640 -0.293719 -0.888364\n",
       "       two    -0.430968 -1.366272 -0.965299  0.329222\n",
       "baz    one    -0.989943 -1.017676 -1.978354 -0.025512\n",
       "       two    -0.203561 -0.930144 -0.743674  0.753461\n",
       "foo    one     0.035394 -0.645152  0.704775  3.886217\n",
       "       two    -1.042437  0.371565  0.345293 -0.542711\n",
       "qux    one     0.955268  1.827085 -3.310341  0.215205\n",
       "       two    -1.083629 -1.282270 -0.457502 -0.384376"
      ]
     },
     "execution_count": 2,
     "metadata": {},
     "output_type": "execute_result"
    }
   ],
   "source": [
    "import numpy as np\n",
    "import pandas as pd\n",
    "\n",
    "\n",
    "arrays = [\n",
    "    np.array([\"bar\", \"bar\", \"baz\", \"baz\", \"foo\", \"foo\", \"qux\", \"qux\"]),\n",
    "    np.array([\"one\", \"two\", \"one\", \"two\", \"one\", \"two\", \"one\", \"two\"]),\n",
    "]\n",
    "s = pd.Series(np.random.randn(8), index=arrays)\n",
    "df = pd.DataFrame(np.random.randn(8, 4), index=arrays)\n",
    "df.index.names = ['index1', 'index2']\n",
    "df"
   ]
  },
  {
   "cell_type": "code",
   "execution_count": 3,
   "id": "e79b7116",
   "metadata": {},
   "outputs": [
    {
     "name": "stdout",
     "output_type": "stream",
     "text": [
      "index1\n",
      "bar   -0.270704\n",
      "baz   -0.641925\n",
      "foo    0.389118\n",
      "qux   -0.440070\n",
      "dtype: float64 index1\n",
      "bar   -0.270704\n",
      "baz   -0.641925\n",
      "foo    0.389118\n",
      "qux   -0.440070\n",
      "dtype: float64\n"
     ]
    }
   ],
   "source": [
    "#Method 1: Mean for the whole date\n",
    "mean1 = df.groupby(level='index1').apply(lambda cormat: cormat.values.mean())\n",
    "# MEthod 2: Mean of mean\n",
    "mean2 = df.groupby(level=['index1']).mean().mean(axis=1)\n",
    "\n",
    "print(mean1,mean2)"
   ]
  },
  {
   "cell_type": "code",
   "execution_count": 4,
   "id": "6d5e1cac",
   "metadata": {},
   "outputs": [
    {
     "data": {
      "text/plain": [
       "index1\n",
       "bar   -0.270704\n",
       "baz   -0.641925\n",
       "foo    0.389118\n",
       "qux   -0.440070\n",
       "dtype: float64"
      ]
     },
     "execution_count": 4,
     "metadata": {},
     "output_type": "execute_result"
    }
   ],
   "source": [
    "mean1"
   ]
  },
  {
   "cell_type": "code",
   "execution_count": 5,
   "id": "501d666e",
   "metadata": {},
   "outputs": [
    {
     "data": {
      "text/plain": [
       "index1\n",
       "bar   -0.270704\n",
       "baz   -0.641925\n",
       "foo    0.389118\n",
       "qux   -0.440070\n",
       "dtype: float64"
      ]
     },
     "execution_count": 5,
     "metadata": {},
     "output_type": "execute_result"
    }
   ],
   "source": [
    "mean2"
   ]
  },
  {
   "cell_type": "code",
   "execution_count": null,
   "id": "b6a67de9",
   "metadata": {},
   "outputs": [],
   "source": []
  },
  {
   "cell_type": "code",
   "execution_count": 9,
   "id": "2e7480d6",
   "metadata": {},
   "outputs": [
    {
     "data": {
      "text/html": [
       "<div>\n",
       "<style scoped>\n",
       "    .dataframe tbody tr th:only-of-type {\n",
       "        vertical-align: middle;\n",
       "    }\n",
       "\n",
       "    .dataframe tbody tr th {\n",
       "        vertical-align: top;\n",
       "    }\n",
       "\n",
       "    .dataframe thead th {\n",
       "        text-align: right;\n",
       "    }\n",
       "</style>\n",
       "<table border=\"1\" class=\"dataframe\">\n",
       "  <thead>\n",
       "    <tr style=\"text-align: right;\">\n",
       "      <th></th>\n",
       "      <th>0</th>\n",
       "      <th>1</th>\n",
       "      <th>2</th>\n",
       "      <th>3</th>\n",
       "    </tr>\n",
       "    <tr>\n",
       "      <th>index1</th>\n",
       "      <th></th>\n",
       "      <th></th>\n",
       "      <th></th>\n",
       "      <th></th>\n",
       "    </tr>\n",
       "  </thead>\n",
       "  <tbody>\n",
       "    <tr>\n",
       "      <th>bar</th>\n",
       "      <td>-0.318421</td>\n",
       "      <td>0.144684</td>\n",
       "      <td>-0.629509</td>\n",
       "      <td>-0.279571</td>\n",
       "    </tr>\n",
       "    <tr>\n",
       "      <th>baz</th>\n",
       "      <td>-0.596752</td>\n",
       "      <td>-0.973910</td>\n",
       "      <td>-1.361014</td>\n",
       "      <td>0.363975</td>\n",
       "    </tr>\n",
       "    <tr>\n",
       "      <th>foo</th>\n",
       "      <td>-0.503522</td>\n",
       "      <td>-0.136794</td>\n",
       "      <td>0.525034</td>\n",
       "      <td>1.671753</td>\n",
       "    </tr>\n",
       "    <tr>\n",
       "      <th>qux</th>\n",
       "      <td>-0.064180</td>\n",
       "      <td>0.272407</td>\n",
       "      <td>-1.883921</td>\n",
       "      <td>-0.084585</td>\n",
       "    </tr>\n",
       "  </tbody>\n",
       "</table>\n",
       "</div>"
      ],
      "text/plain": [
       "               0         1         2         3\n",
       "index1                                        \n",
       "bar    -0.318421  0.144684 -0.629509 -0.279571\n",
       "baz    -0.596752 -0.973910 -1.361014  0.363975\n",
       "foo    -0.503522 -0.136794  0.525034  1.671753\n",
       "qux    -0.064180  0.272407 -1.883921 -0.084585"
      ]
     },
     "execution_count": 9,
     "metadata": {},
     "output_type": "execute_result"
    }
   ],
   "source": [
    "df.groupby(level='index1').mean()"
   ]
  },
  {
   "cell_type": "code",
   "execution_count": null,
   "id": "65ef71e6",
   "metadata": {},
   "outputs": [],
   "source": []
  },
  {
   "cell_type": "code",
   "execution_count": null,
   "id": "66eac1c9",
   "metadata": {},
   "outputs": [],
   "source": []
  },
  {
   "cell_type": "code",
   "execution_count": null,
   "id": "6757629f",
   "metadata": {},
   "outputs": [],
   "source": [
    "Rot=( \n",
    "cosθ\n",
    "sinθ\n",
    "​\n",
    "  \n",
    "−sinθ\n",
    "cosθ\n",
    "​\n",
    " )"
   ]
  },
  {
   "cell_type": "code",
   "execution_count": 24,
   "id": "6d18654e",
   "metadata": {},
   "outputs": [
    {
     "data": {
      "text/plain": [
       "array([-1.,  0.])"
      ]
     },
     "execution_count": 24,
     "metadata": {},
     "output_type": "execute_result"
    }
   ],
   "source": [
    "def rot(phi,arr):\n",
    "    phi = np.deg2rad(phi)\n",
    "    mat = np.array([[np.cos(phi), -np.sin(phi)], \n",
    "                    [np.sin(phi), np.cos(phi)]])\n",
    "    \n",
    "    out = (mat @ arr).round()\n",
    "    return out\n",
    "\n",
    "\n",
    "phi = 90\n",
    "arr = np.array([0,1])\n",
    "\n",
    "rot(90,arr)\n",
    "\n",
    "array([-1.,  0.])"
   ]
  },
  {
   "cell_type": "code",
   "execution_count": 25,
   "id": "e9b9027a",
   "metadata": {},
   "outputs": [
    {
     "data": {
      "text/plain": [
       "1.5707963267948966"
      ]
     },
     "execution_count": 25,
     "metadata": {},
     "output_type": "execute_result"
    }
   ],
   "source": [
    "np.radians(90)"
   ]
  },
  {
   "cell_type": "code",
   "execution_count": 26,
   "id": "bc5c5863",
   "metadata": {},
   "outputs": [
    {
     "data": {
      "text/plain": [
       "1.5707963267948966"
      ]
     },
     "execution_count": 26,
     "metadata": {},
     "output_type": "execute_result"
    }
   ],
   "source": [
    "np.deg2rad(90)"
   ]
  },
  {
   "cell_type": "code",
   "execution_count": null,
   "id": "4d2ad7fb",
   "metadata": {},
   "outputs": [],
   "source": []
  },
  {
   "cell_type": "code",
   "execution_count": null,
   "id": "aeadba63",
   "metadata": {},
   "outputs": [],
   "source": [
    "<form action=\"https://google.com\"><input type=\"submit\" value=\"Go to Google\" /></form>"
   ]
  },
  {
   "cell_type": "code",
   "execution_count": null,
   "id": "69b26b5e",
   "metadata": {},
   "outputs": [],
   "source": []
  },
  {
   "cell_type": "code",
   "execution_count": 3,
   "id": "68a3925b",
   "metadata": {},
   "outputs": [
    {
     "name": "stderr",
     "output_type": "stream",
     "text": [
      "/var/folders/ck/dvz0vpxx7fz95ld2btkqqvzw0000gn/T/ipykernel_75917/2083955293.py:1: DeprecationWarning: Importing display from IPython.core.display is deprecated since IPython 7.14, please import from IPython display\n",
      "  from IPython.core.display import display, HTML\n",
      "2023-01-19 09:25:31.396 \n",
      "  \u001b[33m\u001b[1mWarning:\u001b[0m to view this Streamlit app on a browser, run it with the following\n",
      "  command:\n",
      "\n",
      "    streamlit run /opt/homebrew/Caskroom/miniforge/base/envs/ui_env/lib/python3.10/site-packages/ipykernel_launcher.py [ARGUMENTS]\n"
     ]
    }
   ],
   "source": [
    "from IPython.core.display import display, HTML\n",
    "import pandas as pd\n",
    "import streamlit as st\n",
    "\n",
    "link1 = \"https://stackoverflow.com/questions/71641666/hyperlink-in-streamlit-dataframe\"\n",
    "link2 = \"https://stackoverflow.com/questions/71731937/how-to-plot-comparison-in-streamlit-dynamically-with-multiselect\"\n",
    "df = pd.DataFrame(\n",
    "    {\n",
    "        \"url\": [\n",
    "            f'<form action=\"https://google.com\"><input type=\"submit\" value=\"Go to Google\" /></form>',\n",
    "            f'<a target=\"_blank\" href=\"{link2}\">How to plot comparison in Streamlit dynamically with multiselect?</a>'\n",
    "        ],\n",
    "        \"label\": [\"question\", \"question\"]\n",
    "    }\n",
    ")\n",
    "\n",
    "st.write(df.to_html(escape=False, index=False), unsafe_allow_html=True)"
   ]
  },
  {
   "cell_type": "code",
   "execution_count": null,
   "id": "e08055ab",
   "metadata": {},
   "outputs": [],
   "source": []
  }
 ],
 "metadata": {
  "kernelspec": {
   "display_name": "ui_env",
   "language": "python",
   "name": "ui_env"
  },
  "language_info": {
   "codemirror_mode": {
    "name": "ipython",
    "version": 3
   },
   "file_extension": ".py",
   "mimetype": "text/x-python",
   "name": "python",
   "nbconvert_exporter": "python",
   "pygments_lexer": "ipython3",
   "version": "3.10.4"
  },
  "varInspector": {
   "cols": {
    "lenName": 16,
    "lenType": 16,
    "lenVar": 40
   },
   "kernels_config": {
    "python": {
     "delete_cmd_postfix": "",
     "delete_cmd_prefix": "del ",
     "library": "var_list.py",
     "varRefreshCmd": "print(var_dic_list())"
    },
    "r": {
     "delete_cmd_postfix": ") ",
     "delete_cmd_prefix": "rm(",
     "library": "var_list.r",
     "varRefreshCmd": "cat(var_dic_list()) "
    }
   },
   "types_to_exclude": [
    "module",
    "function",
    "builtin_function_or_method",
    "instance",
    "_Feature"
   ],
   "window_display": false
  }
 },
 "nbformat": 4,
 "nbformat_minor": 5
}
