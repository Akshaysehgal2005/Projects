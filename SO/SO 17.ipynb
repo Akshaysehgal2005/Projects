{
 "cells": [
  {
   "cell_type": "code",
   "execution_count": 122,
   "metadata": {},
   "outputs": [],
   "source": [
    "import numpy as np"
   ]
  },
  {
   "cell_type": "code",
   "execution_count": 123,
   "metadata": {},
   "outputs": [
    {
     "name": "stdout",
     "output_type": "stream",
     "text": [
      "[ 6 12  8  9 10]\n"
     ]
    }
   ],
   "source": [
    "c=np.array([1,7,3,4,5])\n",
    "print(c+5)"
   ]
  },
  {
   "cell_type": "code",
   "execution_count": 4,
   "metadata": {},
   "outputs": [
    {
     "ename": "TypeError",
     "evalue": "'int' object is not iterable",
     "output_type": "error",
     "traceback": [
      "\u001b[0;31m---------------------------------------------------------------------------\u001b[0m",
      "\u001b[0;31mTypeError\u001b[0m                                 Traceback (most recent call last)",
      "\u001b[0;32m<ipython-input-4-14fa55ba173a>\u001b[0m in \u001b[0;36m<module>\u001b[0;34m\u001b[0m\n\u001b[0;32m----> 1\u001b[0;31m \u001b[0mset\u001b[0m\u001b[0;34m(\u001b[0m\u001b[0;34m[\u001b[0m\u001b[0mi\u001b[0m \u001b[0;32mfor\u001b[0m \u001b[0msublist\u001b[0m \u001b[0;32min\u001b[0m \u001b[0ma\u001b[0m \u001b[0;32mfor\u001b[0m \u001b[0mi\u001b[0m \u001b[0;32min\u001b[0m \u001b[0msublist\u001b[0m\u001b[0;34m]\u001b[0m\u001b[0;34m)\u001b[0m\u001b[0;34m\u001b[0m\u001b[0;34m\u001b[0m\u001b[0m\n\u001b[0m",
      "\u001b[0;32m<ipython-input-4-14fa55ba173a>\u001b[0m in \u001b[0;36m<listcomp>\u001b[0;34m(.0)\u001b[0m\n\u001b[0;32m----> 1\u001b[0;31m \u001b[0mset\u001b[0m\u001b[0;34m(\u001b[0m\u001b[0;34m[\u001b[0m\u001b[0mi\u001b[0m \u001b[0;32mfor\u001b[0m \u001b[0msublist\u001b[0m \u001b[0;32min\u001b[0m \u001b[0ma\u001b[0m \u001b[0;32mfor\u001b[0m \u001b[0mi\u001b[0m \u001b[0;32min\u001b[0m \u001b[0msublist\u001b[0m\u001b[0;34m]\u001b[0m\u001b[0;34m)\u001b[0m\u001b[0;34m\u001b[0m\u001b[0;34m\u001b[0m\u001b[0m\n\u001b[0m",
      "\u001b[0;31mTypeError\u001b[0m: 'int' object is not iterable"
     ]
    }
   ],
   "source": [
    "set([i for sublist in a for i in sublist])"
   ]
  },
  {
   "cell_type": "code",
   "execution_count": 17,
   "metadata": {},
   "outputs": [
    {
     "data": {
      "text/plain": [
       "{1, 2, 3, 4}"
      ]
     },
     "execution_count": 17,
     "metadata": {},
     "output_type": "execute_result"
    }
   ],
   "source": [
    "import collections\n",
    "\n",
    "\n",
    "def flatten(x):\n",
    "    if isinstance(x, collections.Iterable):\n",
    "        return [a for i in x for a in flatten(i)]\n",
    "    else:\n",
    "        return [x]\n",
    "\n",
    "\n",
    "a = [1, 2, 3, [1, [2, 4]]]\n",
    "out = set(flatten(a))\n",
    "out"
   ]
  },
  {
   "cell_type": "code",
   "execution_count": 16,
   "metadata": {},
   "outputs": [
    {
     "data": {
      "text/plain": [
       "{1, 2, 3, 4}"
      ]
     },
     "execution_count": 16,
     "metadata": {},
     "output_type": "execute_result"
    }
   ],
   "source": [
    "def flatten(S):\n",
    "    if S == []:\n",
    "        return S\n",
    "    if isinstance(S[0], list):\n",
    "        return flatten(S[0]) + flatten(S[1:])\n",
    "    return S[:1] + flatten(S[1:])\n",
    "\n",
    "a = [1, 2, 3, [1, [2, 4]]]\n",
    "out = set(flatten(a))\n",
    "out"
   ]
  },
  {
   "cell_type": "code",
   "execution_count": null,
   "metadata": {},
   "outputs": [],
   "source": []
  },
  {
   "cell_type": "code",
   "execution_count": 30,
   "metadata": {},
   "outputs": [],
   "source": [
    "f = lambda x: [i for i in x]\n",
    "g = lambda x: f(x) if isinstance(x, list) else x"
   ]
  },
  {
   "cell_type": "code",
   "execution_count": 31,
   "metadata": {},
   "outputs": [
    {
     "data": {
      "text/plain": [
       "[1, 2, 3, [1, [2, 4]]]"
      ]
     },
     "execution_count": 31,
     "metadata": {},
     "output_type": "execute_result"
    }
   ],
   "source": [
    "g(a)"
   ]
  },
  {
   "cell_type": "code",
   "execution_count": null,
   "metadata": {},
   "outputs": [],
   "source": []
  },
  {
   "cell_type": "code",
   "execution_count": 18,
   "metadata": {
    "scrolled": true
   },
   "outputs": [
    {
     "ename": "TypeError",
     "evalue": "unhashable type: 'list'",
     "output_type": "error",
     "traceback": [
      "\u001b[0;31m---------------------------------------------------------------------------\u001b[0m",
      "\u001b[0;31mTypeError\u001b[0m                                 Traceback (most recent call last)",
      "\u001b[0;32m<ipython-input-18-cd274d4e8c81>\u001b[0m in \u001b[0;36m<module>\u001b[0;34m\u001b[0m\n\u001b[0;32m----> 1\u001b[0;31m \u001b[0mset\u001b[0m\u001b[0;34m(\u001b[0m\u001b[0;34m[\u001b[0m\u001b[0mnum\u001b[0m \u001b[0;32mfor\u001b[0m \u001b[0mitem\u001b[0m \u001b[0;32min\u001b[0m \u001b[0ma\u001b[0m \u001b[0;32mfor\u001b[0m \u001b[0mnum\u001b[0m \u001b[0;32min\u001b[0m \u001b[0;34m(\u001b[0m\u001b[0mitem\u001b[0m \u001b[0;32mif\u001b[0m \u001b[0misinstance\u001b[0m\u001b[0;34m(\u001b[0m\u001b[0mitem\u001b[0m\u001b[0;34m,\u001b[0m \u001b[0mlist\u001b[0m\u001b[0;34m)\u001b[0m \u001b[0;32melse\u001b[0m \u001b[0;34m(\u001b[0m\u001b[0mitem\u001b[0m\u001b[0;34m,\u001b[0m\u001b[0;34m)\u001b[0m\u001b[0;34m)\u001b[0m\u001b[0;34m]\u001b[0m\u001b[0;34m)\u001b[0m\u001b[0;34m\u001b[0m\u001b[0;34m\u001b[0m\u001b[0m\n\u001b[0m",
      "\u001b[0;31mTypeError\u001b[0m: unhashable type: 'list'"
     ]
    }
   ],
   "source": [
    "set([num for item in a for num in (item if isinstance(item, list) else (item,))])"
   ]
  },
  {
   "cell_type": "code",
   "execution_count": 34,
   "metadata": {},
   "outputs": [],
   "source": [
    "from functools import reduce"
   ]
  },
  {
   "cell_type": "code",
   "execution_count": 36,
   "metadata": {},
   "outputs": [
    {
     "ename": "TypeError",
     "evalue": "unsupported operand type(s) for +: 'int' and 'list'",
     "output_type": "error",
     "traceback": [
      "\u001b[0;31m---------------------------------------------------------------------------\u001b[0m",
      "\u001b[0;31mTypeError\u001b[0m                                 Traceback (most recent call last)",
      "\u001b[0;32m<ipython-input-36-74f8e134695b>\u001b[0m in \u001b[0;36m<module>\u001b[0;34m\u001b[0m\n\u001b[0;32m----> 1\u001b[0;31m \u001b[0mnewlist\u001b[0m \u001b[0;34m=\u001b[0m \u001b[0mreduce\u001b[0m\u001b[0;34m(\u001b[0m\u001b[0;32mlambda\u001b[0m \u001b[0mx\u001b[0m\u001b[0;34m,\u001b[0m\u001b[0my\u001b[0m\u001b[0;34m:\u001b[0m \u001b[0mx\u001b[0m\u001b[0;34m+\u001b[0m\u001b[0my\u001b[0m\u001b[0;34m,\u001b[0m \u001b[0ma\u001b[0m\u001b[0;34m)\u001b[0m\u001b[0;34m\u001b[0m\u001b[0;34m\u001b[0m\u001b[0m\n\u001b[0m",
      "\u001b[0;32m<ipython-input-36-74f8e134695b>\u001b[0m in \u001b[0;36m<lambda>\u001b[0;34m(x, y)\u001b[0m\n\u001b[0;32m----> 1\u001b[0;31m \u001b[0mnewlist\u001b[0m \u001b[0;34m=\u001b[0m \u001b[0mreduce\u001b[0m\u001b[0;34m(\u001b[0m\u001b[0;32mlambda\u001b[0m \u001b[0mx\u001b[0m\u001b[0;34m,\u001b[0m\u001b[0my\u001b[0m\u001b[0;34m:\u001b[0m \u001b[0mx\u001b[0m\u001b[0;34m+\u001b[0m\u001b[0my\u001b[0m\u001b[0;34m,\u001b[0m \u001b[0ma\u001b[0m\u001b[0;34m)\u001b[0m\u001b[0;34m\u001b[0m\u001b[0;34m\u001b[0m\u001b[0m\n\u001b[0m",
      "\u001b[0;31mTypeError\u001b[0m: unsupported operand type(s) for +: 'int' and 'list'"
     ]
    }
   ],
   "source": [
    "newlist = reduce(lambda x,y: x+y, a)"
   ]
  },
  {
   "cell_type": "code",
   "execution_count": 44,
   "metadata": {},
   "outputs": [
    {
     "data": {
      "text/plain": [
       "[1, 2, 3, [1, [2, 4]]]"
      ]
     },
     "execution_count": 44,
     "metadata": {},
     "output_type": "execute_result"
    }
   ],
   "source": [
    "a"
   ]
  },
  {
   "cell_type": "code",
   "execution_count": null,
   "metadata": {},
   "outputs": [],
   "source": []
  },
  {
   "cell_type": "code",
   "execution_count": null,
   "metadata": {},
   "outputs": [],
   "source": []
  },
  {
   "cell_type": "code",
   "execution_count": null,
   "metadata": {},
   "outputs": [],
   "source": []
  },
  {
   "cell_type": "code",
   "execution_count": null,
   "metadata": {},
   "outputs": [],
   "source": [
    "lambda *n: (e for a in n for e in (flatten(*a) if isinstance(a, (tuple, list)) else (a,)))"
   ]
  },
  {
   "cell_type": "code",
   "execution_count": 56,
   "metadata": {},
   "outputs": [],
   "source": [
    "f = lambda *n: (e for a in n for e in (f(*a) if isinstance(a, (tuple, list)) else (a,)))\n",
    "\n",
    "set(f(a))"
   ]
  },
  {
   "cell_type": "code",
   "execution_count": 98,
   "metadata": {},
   "outputs": [],
   "source": [
    "n = [4, [3,4]]"
   ]
  },
  {
   "cell_type": "code",
   "execution_count": 101,
   "metadata": {},
   "outputs": [],
   "source": [
    "f = lambda *n: [i for a in n for i in (f(*a) if isinstance(a, (tuple, list)) else (a,))]"
   ]
  },
  {
   "cell_type": "code",
   "execution_count": 102,
   "metadata": {},
   "outputs": [
    {
     "data": {
      "text/plain": [
       "[4, 3, 4]"
      ]
     },
     "execution_count": 102,
     "metadata": {},
     "output_type": "execute_result"
    }
   ],
   "source": [
    "f(n)"
   ]
  },
  {
   "cell_type": "code",
   "execution_count": 114,
   "metadata": {},
   "outputs": [],
   "source": [
    "a = [5,[3,7]]"
   ]
  },
  {
   "cell_type": "code",
   "execution_count": 115,
   "metadata": {},
   "outputs": [
    {
     "data": {
      "text/plain": [
       "[5, [3, 7]]"
      ]
     },
     "execution_count": 115,
     "metadata": {},
     "output_type": "execute_result"
    }
   ],
   "source": [
    "(a if isinstance(a, (tuple, list)) else (a,))"
   ]
  },
  {
   "cell_type": "code",
   "execution_count": null,
   "metadata": {},
   "outputs": [],
   "source": []
  },
  {
   "cell_type": "code",
   "execution_count": null,
   "metadata": {},
   "outputs": [],
   "source": []
  },
  {
   "cell_type": "code",
   "execution_count": null,
   "metadata": {},
   "outputs": [],
   "source": []
  },
  {
   "cell_type": "code",
   "execution_count": 119,
   "metadata": {},
   "outputs": [],
   "source": [
    "a = 5"
   ]
  },
  {
   "cell_type": "code",
   "execution_count": 120,
   "metadata": {},
   "outputs": [
    {
     "data": {
      "text/plain": [
       "(5,)"
      ]
     },
     "execution_count": 120,
     "metadata": {},
     "output_type": "execute_result"
    }
   ],
   "source": [
    "(a if isinstance(a,list) else (a,))"
   ]
  },
  {
   "cell_type": "code",
   "execution_count": null,
   "metadata": {},
   "outputs": [],
   "source": []
  },
  {
   "cell_type": "code",
   "execution_count": null,
   "metadata": {},
   "outputs": [],
   "source": []
  },
  {
   "cell_type": "code",
   "execution_count": null,
   "metadata": {},
   "outputs": [],
   "source": []
  },
  {
   "cell_type": "code",
   "execution_count": null,
   "metadata": {},
   "outputs": [],
   "source": []
  },
  {
   "cell_type": "code",
   "execution_count": 124,
   "metadata": {},
   "outputs": [],
   "source": [
    "import torch\n",
    "a=torch.randn(3,100)\n",
    "b=torch.randn(3,100)\n",
    "row_num = a.size()[0] # 3\n",
    "\n",
    "# Given two matrix with shape (n1,n2)\n",
    "# I want to have the row-wise `matmul` results which will result in a tensor with size (n1, ) \n",
    "\n",
    "scores = []\n",
    "for i in range(row_num):\n",
    "    score_i = a[i,:].matmul(b[i,:])\n",
    "    scores.append(score_i)\n",
    "expected_result = torch.tensor(scores)"
   ]
  },
  {
   "cell_type": "code",
   "execution_count": 125,
   "metadata": {},
   "outputs": [
    {
     "data": {
      "text/plain": [
       "tensor([ 4.8495,  3.3092, -2.7939])"
      ]
     },
     "execution_count": 125,
     "metadata": {},
     "output_type": "execute_result"
    }
   ],
   "source": [
    "expected_result"
   ]
  },
  {
   "cell_type": "code",
   "execution_count": 130,
   "metadata": {},
   "outputs": [
    {
     "data": {
      "text/plain": [
       "tensor([ 4.8495,  3.3092, -2.7939])"
      ]
     },
     "execution_count": 130,
     "metadata": {},
     "output_type": "execute_result"
    }
   ],
   "source": [
    "torch.einsum('ij,ij->i',a,b)"
   ]
  },
  {
   "cell_type": "code",
   "execution_count": 167,
   "metadata": {},
   "outputs": [
    {
     "data": {
      "text/plain": [
       "tensor([ 4.8495,  3.3092, -2.7939])"
      ]
     },
     "execution_count": 167,
     "metadata": {},
     "output_type": "execute_result"
    }
   ],
   "source": [
    "torch.diagonal(torch.tensordot(a,b,dims=([1],[1])))"
   ]
  },
  {
   "cell_type": "code",
   "execution_count": 168,
   "metadata": {},
   "outputs": [
    {
     "ename": "RuntimeError",
     "evalue": "1D tensors expected, but got 2D and 2D tensors",
     "output_type": "error",
     "traceback": [
      "\u001b[0;31m---------------------------------------------------------------------------\u001b[0m",
      "\u001b[0;31mRuntimeError\u001b[0m                              Traceback (most recent call last)",
      "\u001b[0;32m<ipython-input-168-bb18b19e48d0>\u001b[0m in \u001b[0;36m<module>\u001b[0;34m\u001b[0m\n\u001b[0;32m----> 1\u001b[0;31m \u001b[0mtorch\u001b[0m\u001b[0;34m.\u001b[0m\u001b[0mdot\u001b[0m\u001b[0;34m(\u001b[0m\u001b[0ma\u001b[0m\u001b[0;34m,\u001b[0m \u001b[0mb\u001b[0m\u001b[0;34m.\u001b[0m\u001b[0mT\u001b[0m\u001b[0;34m)\u001b[0m\u001b[0;34m\u001b[0m\u001b[0;34m\u001b[0m\u001b[0m\n\u001b[0m",
      "\u001b[0;31mRuntimeError\u001b[0m: 1D tensors expected, but got 2D and 2D tensors"
     ]
    }
   ],
   "source": [
    "torch.dot(a, b.T)"
   ]
  },
  {
   "cell_type": "code",
   "execution_count": 171,
   "metadata": {},
   "outputs": [
    {
     "data": {
      "text/plain": [
       "array([ 4.8495054,  3.309207 , -2.7938733], dtype=float32)"
      ]
     },
     "execution_count": 171,
     "metadata": {},
     "output_type": "execute_result"
    }
   ],
   "source": [
    "np.diagonal(torch.matmul(a, b.T))"
   ]
  },
  {
   "cell_type": "code",
   "execution_count": 174,
   "metadata": {},
   "outputs": [
    {
     "data": {
      "text/plain": [
       "array([ 4.8495054,  3.309207 , -2.7938733], dtype=float32)"
      ]
     },
     "execution_count": 174,
     "metadata": {},
     "output_type": "execute_result"
    }
   ],
   "source": [
    "np.diagonal(a @ b.T)"
   ]
  },
  {
   "cell_type": "code",
   "execution_count": null,
   "metadata": {},
   "outputs": [],
   "source": []
  },
  {
   "cell_type": "code",
   "execution_count": 151,
   "metadata": {},
   "outputs": [
    {
     "data": {
      "text/plain": [
       "torch.Size([3, 100])"
      ]
     },
     "execution_count": 151,
     "metadata": {},
     "output_type": "execute_result"
    }
   ],
   "source": [
    "a.shape"
   ]
  },
  {
   "cell_type": "code",
   "execution_count": 152,
   "metadata": {},
   "outputs": [
    {
     "data": {
      "text/plain": [
       "torch.Size([3, 100])"
      ]
     },
     "execution_count": 152,
     "metadata": {},
     "output_type": "execute_result"
    }
   ],
   "source": [
    "b.shape"
   ]
  },
  {
   "cell_type": "code",
   "execution_count": 176,
   "metadata": {},
   "outputs": [
    {
     "data": {
      "text/plain": [
       "tensor([[  4.8495, -13.4082,  -7.3157],\n",
       "        [ -8.7273,   3.3092,   0.8553],\n",
       "        [ -6.9103,  14.5447,  -2.7939]])"
      ]
     },
     "execution_count": 176,
     "metadata": {},
     "output_type": "execute_result"
    }
   ],
   "source": []
  },
  {
   "cell_type": "code",
   "execution_count": null,
   "metadata": {},
   "outputs": [],
   "source": []
  },
  {
   "cell_type": "code",
   "execution_count": null,
   "metadata": {},
   "outputs": [],
   "source": []
  },
  {
   "cell_type": "code",
   "execution_count": 177,
   "metadata": {},
   "outputs": [],
   "source": [
    "import pandas as pd"
   ]
  },
  {
   "cell_type": "code",
   "execution_count": 182,
   "metadata": {},
   "outputs": [],
   "source": [
    "df = pd.read_clipboard()"
   ]
  },
  {
   "cell_type": "code",
   "execution_count": 183,
   "metadata": {},
   "outputs": [
    {
     "data": {
      "text/html": [
       "<div>\n",
       "<style scoped>\n",
       "    .dataframe tbody tr th:only-of-type {\n",
       "        vertical-align: middle;\n",
       "    }\n",
       "\n",
       "    .dataframe tbody tr th {\n",
       "        vertical-align: top;\n",
       "    }\n",
       "\n",
       "    .dataframe thead th {\n",
       "        text-align: right;\n",
       "    }\n",
       "</style>\n",
       "<table border=\"1\" class=\"dataframe\">\n",
       "  <thead>\n",
       "    <tr style=\"text-align: right;\">\n",
       "      <th></th>\n",
       "      <th>inventory_partner</th>\n",
       "      <th>inventory_partner2</th>\n",
       "      <th>calc</th>\n",
       "    </tr>\n",
       "  </thead>\n",
       "  <tbody>\n",
       "    <tr>\n",
       "      <th>0</th>\n",
       "      <td>A1</td>\n",
       "      <td>aa</td>\n",
       "      <td>1</td>\n",
       "    </tr>\n",
       "    <tr>\n",
       "      <th>1</th>\n",
       "      <td>A2</td>\n",
       "      <td>bb</td>\n",
       "      <td>2</td>\n",
       "    </tr>\n",
       "    <tr>\n",
       "      <th>2</th>\n",
       "      <td>A3</td>\n",
       "      <td>cc</td>\n",
       "      <td>5</td>\n",
       "    </tr>\n",
       "    <tr>\n",
       "      <th>3</th>\n",
       "      <td>A4</td>\n",
       "      <td>dd</td>\n",
       "      <td>4</td>\n",
       "    </tr>\n",
       "    <tr>\n",
       "      <th>4</th>\n",
       "      <td>A5</td>\n",
       "      <td>ee</td>\n",
       "      <td>5</td>\n",
       "    </tr>\n",
       "    <tr>\n",
       "      <th>5</th>\n",
       "      <td>A6</td>\n",
       "      <td>ff</td>\n",
       "      <td>3</td>\n",
       "    </tr>\n",
       "  </tbody>\n",
       "</table>\n",
       "</div>"
      ],
      "text/plain": [
       "  inventory_partner inventory_partner2  calc\n",
       "0                A1                 aa     1\n",
       "1                A2                 bb     2\n",
       "2                A3                 cc     5\n",
       "3                A4                 dd     4\n",
       "4                A5                 ee     5\n",
       "5                A6                 ff     3"
      ]
     },
     "execution_count": 183,
     "metadata": {},
     "output_type": "execute_result"
    }
   ],
   "source": [
    "df"
   ]
  },
  {
   "cell_type": "code",
   "execution_count": 184,
   "metadata": {},
   "outputs": [
    {
     "data": {
      "text/plain": [
       "<pandas.core.groupby.generic.DataFrameGroupBy object at 0x7fe31fe32d00>"
      ]
     },
     "execution_count": 184,
     "metadata": {},
     "output_type": "execute_result"
    }
   ],
   "source": [
    "df.groupby('inventory_partner')"
   ]
  },
  {
   "cell_type": "code",
   "execution_count": null,
   "metadata": {},
   "outputs": [],
   "source": []
  },
  {
   "cell_type": "code",
   "execution_count": null,
   "metadata": {},
   "outputs": [],
   "source": []
  },
  {
   "cell_type": "code",
   "execution_count": null,
   "metadata": {},
   "outputs": [],
   "source": []
  },
  {
   "cell_type": "code",
   "execution_count": 53,
   "metadata": {},
   "outputs": [
    {
     "name": "stdout",
     "output_type": "stream",
     "text": [
      "   BBG      ID      TICKER  AMOUNT\n",
      "0  700      AA        1.hk  100.01\n",
      "1  CSL  CC, DD  3.hk, 4.hk  701.10\n",
      "2  UNI  BB, EE  2.hk, 5.hk  700.90\n"
     ]
    }
   ],
   "source": [
    "import pandas as pd\n",
    "\n",
    "bbgDf = pd.DataFrame({'BBG': ['700', 'UNI', 'CSL', 'CSL', 'UNI'],\n",
    "                        'ID': ['AA','BB','CC','DD','EE'],\n",
    "                     'TICKER': ['1.hk','2.hk','3.hk','4.hk','5.hk'],\n",
    "                     'AMOUNT': [100.01,200.45,300.12,400.98,500.45]})\n",
    "\n",
    "f = lambda x : x.sum() if x.dtype=='float' else ', '.join(x)\n",
    "g = {'ID':f,'TICKER':f,'AMOUNT':f}\n",
    "\n",
    "bbgDf = bbgDf.groupby('BBG').agg(g).reset_index()\n",
    "print(bbgDf)"
   ]
  },
  {
   "cell_type": "code",
   "execution_count": null,
   "metadata": {},
   "outputs": [],
   "source": []
  },
  {
   "cell_type": "code",
   "execution_count": null,
   "metadata": {},
   "outputs": [],
   "source": []
  },
  {
   "cell_type": "code",
   "execution_count": 60,
   "metadata": {},
   "outputs": [],
   "source": [
    "import numpy as np\n",
    "import matplotlib.pyplot as plt\n",
    "\n",
    "%matplotlib inline"
   ]
  },
  {
   "cell_type": "code",
   "execution_count": 63,
   "metadata": {},
   "outputs": [
    {
     "data": {
      "text/plain": [
       "[<matplotlib.lines.Line2D at 0x7fb028ebc490>]"
      ]
     },
     "execution_count": 63,
     "metadata": {},
     "output_type": "execute_result"
    },
    {
     "data": {
      "image/png": "[encoded data removed]",
      "text/plain": [
       "<Figure size 432x288 with 1 Axes>"
      ]
     },
     "metadata": {
      "needs_background": "light"
     },
     "output_type": "display_data"
    }
   ],
   "source": [
    "plt.plot(np.random.randint(0,500, (1000,)))"
   ]
  },
  {
   "cell_type": "code",
   "execution_count": null,
   "metadata": {},
   "outputs": [],
   "source": []
  },
  {
   "cell_type": "code",
   "execution_count": null,
   "metadata": {},
   "outputs": [],
   "source": [
    "   ID   A   B   C   Values\n",
    "0   1   0.0 0   10  10\n",
    "1   1   2.0 0   0   2\n",
    "2   1   0.0 0   3   3\n",
    "3   2   4.0 0   0   4\n",
    "4   3   0.0 9   0   9\n",
    "5   3   0.0 3   0   3\n",
    "6   4   4.0 0   0   4\n",
    "7   5   0.0 0   0   5\n",
    "8   6   NaN 0   2   2\n",
    "9   7   0.0 0   3   3"
   ]
  },
  {
   "cell_type": "code",
   "execution_count": 103,
   "metadata": {},
   "outputs": [],
   "source": [
    "import pandas as pd\n",
    "df = pd.DataFrame({'ID': [1,1,1,2,3,3,4,5,6,7], \n",
    "                   'A': [0,1,0,1,0,0,1,0,np.nan,0],\n",
    "                   'B': [0,0,0,0,1,1,0,0,0,0],\n",
    "                   'C': [1,0,1,0,0,0,0,0,1,1],\n",
    "                   'Values': [10, 2, 3,4,9,3,4,5,2,3]})"
   ]
  },
  {
   "cell_type": "code",
   "execution_count": 111,
   "metadata": {},
   "outputs": [
    {
     "data": {
      "text/plain": [
       "array([[False, False,  True],\n",
       "       [ True, False, False],\n",
       "       [False, False,  True],\n",
       "       [ True, False, False],\n",
       "       [False,  True, False],\n",
       "       [False,  True, False],\n",
       "       [ True, False, False],\n",
       "       [False, False, False],\n",
       "       [False, False,  True],\n",
       "       [False, False,  True]])"
      ]
     },
     "execution_count": 111,
     "metadata": {},
     "output_type": "execute_result"
    }
   ],
   "source": []
  },
  {
   "cell_type": "code",
   "execution_count": null,
   "metadata": {},
   "outputs": [],
   "source": []
  },
  {
   "cell_type": "code",
   "execution_count": 121,
   "metadata": {},
   "outputs": [],
   "source": []
  },
  {
   "cell_type": "code",
   "execution_count": 78,
   "metadata": {},
   "outputs": [
    {
     "name": "stdout",
     "output_type": "stream",
     "text": [
      "   ID    A  B   C  Values\n",
      "0   1  0.0  0  10      10\n",
      "1   1  2.0  0   0       2\n",
      "2   1  0.0  0   3       3\n",
      "3   2  4.0  0   0       4\n",
      "4   3  0.0  9   0       9\n",
      "5   3  0.0  3   0       3\n",
      "6   4  4.0  0   0       4\n",
      "7   5  0.0  0   0       5\n",
      "8   6  NaN  0   2       2\n",
      "9   7  0.0  0   3       3\n"
     ]
    }
   ],
   "source": [
    "df['A'] = df['A']*df['Values']\n",
    "df['B'] = df['B']*df['Values']\n",
    "df['C'] = df['C']*df['Values']\n",
    "\n",
    "print(df)"
   ]
  },
  {
   "cell_type": "code",
   "execution_count": 88,
   "metadata": {
    "scrolled": true
   },
   "outputs": [
    {
     "data": {
      "text/plain": [
       "0    False\n",
       "1     True\n",
       "2    False\n",
       "3     True\n",
       "4    False\n",
       "5    False\n",
       "6     True\n",
       "7    False\n",
       "8    False\n",
       "9    False\n",
       "Name: A, dtype: bool"
      ]
     },
     "execution_count": 88,
     "metadata": {},
     "output_type": "execute_result"
    }
   ],
   "source": [
    "df['Values']df['A'].eq(1)"
   ]
  },
  {
   "cell_type": "code",
   "execution_count": 135,
   "metadata": {},
   "outputs": [
    {
     "data": {
      "text/html": [
       "<div>\n",
       "<style scoped>\n",
       "    .dataframe tbody tr th:only-of-type {\n",
       "        vertical-align: middle;\n",
       "    }\n",
       "\n",
       "    .dataframe tbody tr th {\n",
       "        vertical-align: top;\n",
       "    }\n",
       "\n",
       "    .dataframe thead th {\n",
       "        text-align: right;\n",
       "    }\n",
       "</style>\n",
       "<table border=\"1\" class=\"dataframe\">\n",
       "  <thead>\n",
       "    <tr style=\"text-align: right;\">\n",
       "      <th></th>\n",
       "      <th></th>\n",
       "      <th></th>\n",
       "      <th></th>\n",
       "      <th>Example</th>\n",
       "      <th>Example</th>\n",
       "      <th>Example</th>\n",
       "      <th>Example</th>\n",
       "    </tr>\n",
       "  </thead>\n",
       "  <tbody>\n",
       "    <tr>\n",
       "      <th rowspan=\"6\" valign=\"top\">1</th>\n",
       "      <th rowspan=\"6\" valign=\"top\">2</th>\n",
       "      <th rowspan=\"6\" valign=\"top\">3</th>\n",
       "      <th>4</th>\n",
       "      <td>0.0</td>\n",
       "      <td>0.0</td>\n",
       "      <td>0.0</td>\n",
       "      <td>0.0</td>\n",
       "    </tr>\n",
       "    <tr>\n",
       "      <th>4</th>\n",
       "      <td>0.0</td>\n",
       "      <td>0.0</td>\n",
       "      <td>0.0</td>\n",
       "      <td>0.0</td>\n",
       "    </tr>\n",
       "    <tr>\n",
       "      <th>4</th>\n",
       "      <td>0.0</td>\n",
       "      <td>0.0</td>\n",
       "      <td>0.0</td>\n",
       "      <td>0.0</td>\n",
       "    </tr>\n",
       "    <tr>\n",
       "      <th>4</th>\n",
       "      <td>0.0</td>\n",
       "      <td>0.0</td>\n",
       "      <td>0.0</td>\n",
       "      <td>0.0</td>\n",
       "    </tr>\n",
       "    <tr>\n",
       "      <th>4</th>\n",
       "      <td>0.0</td>\n",
       "      <td>0.0</td>\n",
       "      <td>0.0</td>\n",
       "      <td>0.0</td>\n",
       "    </tr>\n",
       "    <tr>\n",
       "      <th>4</th>\n",
       "      <td>0.0</td>\n",
       "      <td>0.0</td>\n",
       "      <td>0.0</td>\n",
       "      <td>0.0</td>\n",
       "    </tr>\n",
       "  </tbody>\n",
       "</table>\n",
       "</div>"
      ],
      "text/plain": [
       "         Example  Example  Example  Example\n",
       "1 2 3 4      0.0      0.0      0.0      0.0\n",
       "      4      0.0      0.0      0.0      0.0\n",
       "      4      0.0      0.0      0.0      0.0\n",
       "      4      0.0      0.0      0.0      0.0\n",
       "      4      0.0      0.0      0.0      0.0\n",
       "      4      0.0      0.0      0.0      0.0"
      ]
     },
     "execution_count": 135,
     "metadata": {},
     "output_type": "execute_result"
    }
   ],
   "source": [
    "ind=[[1,2,3,4],[1,2,3,4],[1,2,3,4],[1,2,3,4],[1,2,3,4],[1,2,3,4]]\n",
    "col=['Example', 'Example', 'Example', 'Example']\n",
    "pd.DataFrame(np.zeros((6,4)), columns = col, index=pd.MultiIndex.from_tuples(ind))"
   ]
  },
  {
   "cell_type": "code",
   "execution_count": 133,
   "metadata": {},
   "outputs": [
    {
     "data": {
      "text/plain": [
       "MultiIndex([(1, 2, 3, 4),\n",
       "            (1, 2, 3, 4),\n",
       "            (1, 2, 3, 4),\n",
       "            (1, 2, 3, 4),\n",
       "            (1, 2, 3, 4),\n",
       "            (1, 2, 3, 4)],\n",
       "           )"
      ]
     },
     "execution_count": 133,
     "metadata": {},
     "output_type": "execute_result"
    }
   ],
   "source": [
    "pd.MultiIndex.from_tuples(ind)"
   ]
  },
  {
   "cell_type": "code",
   "execution_count": 147,
   "metadata": {},
   "outputs": [],
   "source": []
  },
  {
   "cell_type": "code",
   "execution_count": 154,
   "metadata": {},
   "outputs": [
    {
     "data": {
      "text/plain": [
       "200.0"
      ]
     },
     "execution_count": 154,
     "metadata": {},
     "output_type": "execute_result"
    }
   ],
   "source": [
    "get_percent = lambda x,y: (0.2)*x"
   ]
  },
  {
   "cell_type": "code",
   "execution_count": null,
   "metadata": {},
   "outputs": [],
   "source": []
  },
  {
   "cell_type": "code",
   "execution_count": 160,
   "metadata": {},
   "outputs": [
    {
     "data": {
      "text/plain": [
       "0.25"
      ]
     },
     "execution_count": 160,
     "metadata": {},
     "output_type": "execute_result"
    }
   ],
   "source": []
  },
  {
   "cell_type": "code",
   "execution_count": null,
   "metadata": {},
   "outputs": [],
   "source": []
  },
  {
   "cell_type": "code",
   "execution_count": 152,
   "metadata": {},
   "outputs": [
    {
     "data": {
      "text/plain": [
       "200.0"
      ]
     },
     "execution_count": 152,
     "metadata": {},
     "output_type": "execute_result"
    }
   ],
   "source": [
    "\n",
    "\n",
    "0.4*1000/2"
   ]
  },
  {
   "cell_type": "code",
   "execution_count": null,
   "metadata": {},
   "outputs": [],
   "source": []
  },
  {
   "cell_type": "code",
   "execution_count": 161,
   "metadata": {},
   "outputs": [
    {
     "name": "stdout",
     "output_type": "stream",
     "text": [
      "[(600, 10), (200, 10), (200, 10)]\n"
     ]
    }
   ],
   "source": [
    "from sklearn.model_selection import train_test_split\n",
    "\n",
    "X, y = np.random.random((1000,10)), np.random.random((1000,))\n",
    "\n",
    "p = 0.2\n",
    "new_p = (p*y.shape[0])/((1-p)*y.shape[0])\n",
    "\n",
    "X, X_val, y, y_val = train_test_split(X, y, test_size=p)\n",
    "X_train, X_test, y, y_test = train_test_split(X, y, test_size=new_p)\n",
    "\n",
    "print([i.shape for i in [X_train, X_test, X_val]])"
   ]
  },
  {
   "cell_type": "code",
   "execution_count": null,
   "metadata": {},
   "outputs": [],
   "source": []
  },
  {
   "cell_type": "code",
   "execution_count": null,
   "metadata": {},
   "outputs": [],
   "source": []
  },
  {
   "cell_type": "code",
   "execution_count": 163,
   "metadata": {},
   "outputs": [
    {
     "data": {
      "text/html": [
       "<div>\n",
       "<style scoped>\n",
       "    .dataframe tbody tr th:only-of-type {\n",
       "        vertical-align: middle;\n",
       "    }\n",
       "\n",
       "    .dataframe tbody tr th {\n",
       "        vertical-align: top;\n",
       "    }\n",
       "\n",
       "    .dataframe thead th {\n",
       "        text-align: right;\n",
       "    }\n",
       "</style>\n",
       "<table border=\"1\" class=\"dataframe\">\n",
       "  <thead>\n",
       "    <tr style=\"text-align: right;\">\n",
       "      <th></th>\n",
       "      <th>ID</th>\n",
       "      <th>details</th>\n",
       "    </tr>\n",
       "  </thead>\n",
       "  <tbody>\n",
       "    <tr>\n",
       "      <th>1</th>\n",
       "      <td>1</td>\n",
       "      <td>list('name' = 'Something', 'description' = 'Wh...</td>\n",
       "    </tr>\n",
       "    <tr>\n",
       "      <th>2</th>\n",
       "      <td>2</td>\n",
       "      <td>list('name' = 'Something Else', 'description' ...</td>\n",
       "    </tr>\n",
       "  </tbody>\n",
       "</table>\n",
       "</div>"
      ],
      "text/plain": [
       "  ID                                            details\n",
       "1  1  list('name' = 'Something', 'description' = 'Wh...\n",
       "2  2  list('name' = 'Something Else', 'description' ..."
      ]
     },
     "execution_count": 163,
     "metadata": {},
     "output_type": "execute_result"
    }
   ],
   "source": [
    "df = pd.read_clipboard(sep='\\s*\\|\\s*').iloc[1:,1:-1]\n",
    "df"
   ]
  },
  {
   "cell_type": "code",
   "execution_count": 181,
   "metadata": {},
   "outputs": [
    {
     "name": "stdout",
     "output_type": "stream",
     "text": [
      "   ID    details_name  details_description\n",
      "0   1       Something    What something is\n",
      "1   2  Something Else  Another description\n"
     ]
    }
   ],
   "source": [
    "df = pd.DataFrame({'ID':[1,2],\n",
    "                  'details':[{'name' : 'Something', 'description' : 'What something is'},\n",
    "                             {'name' : 'Something Else', 'description' : 'Another description'}]})\n",
    "\n",
    "type(df.details.iloc[0])\n",
    "## dict\n",
    "\n",
    "df[['details_name','details_description']] = df.details.apply(pd.Series)\n",
    "\n",
    "print(df.drop('details', axis=1))"
   ]
  },
  {
   "cell_type": "code",
   "execution_count": 172,
   "metadata": {},
   "outputs": [
    {
     "data": {
      "text/html": [
       "<div>\n",
       "<style scoped>\n",
       "    .dataframe tbody tr th:only-of-type {\n",
       "        vertical-align: middle;\n",
       "    }\n",
       "\n",
       "    .dataframe tbody tr th {\n",
       "        vertical-align: top;\n",
       "    }\n",
       "\n",
       "    .dataframe thead th {\n",
       "        text-align: right;\n",
       "    }\n",
       "</style>\n",
       "<table border=\"1\" class=\"dataframe\">\n",
       "  <thead>\n",
       "    <tr style=\"text-align: right;\">\n",
       "      <th></th>\n",
       "      <th>name</th>\n",
       "      <th>description</th>\n",
       "    </tr>\n",
       "  </thead>\n",
       "  <tbody>\n",
       "    <tr>\n",
       "      <th>0</th>\n",
       "      <td>Something</td>\n",
       "      <td>What something is</td>\n",
       "    </tr>\n",
       "    <tr>\n",
       "      <th>1</th>\n",
       "      <td>Something Else</td>\n",
       "      <td>Another description</td>\n",
       "    </tr>\n",
       "  </tbody>\n",
       "</table>\n",
       "</div>"
      ],
      "text/plain": [
       "             name          description\n",
       "0       Something    What something is\n",
       "1  Something Else  Another description"
      ]
     },
     "execution_count": 172,
     "metadata": {},
     "output_type": "execute_result"
    }
   ],
   "source": []
  },
  {
   "cell_type": "code",
   "execution_count": null,
   "metadata": {},
   "outputs": [],
   "source": []
  },
  {
   "cell_type": "code",
   "execution_count": null,
   "metadata": {},
   "outputs": [],
   "source": []
  },
  {
   "cell_type": "code",
   "execution_count": null,
   "metadata": {},
   "outputs": [],
   "source": []
  },
  {
   "cell_type": "code",
   "execution_count": 184,
   "metadata": {},
   "outputs": [
    {
     "name": "stdout",
     "output_type": "stream",
     "text": [
      "11 12 13 0\n",
      "21 22 23 0  \n",
      "\n",
      "21 22 23 0\n",
      "41 42 43 0\n",
      "61 62 63 0  \n",
      "\n",
      "31 32 33 0\n",
      "61 62 63 0  \n",
      "\n"
     ]
    }
   ],
   "source": [
    "import os\n",
    "import sys\n",
    "import numpy as np\n",
    "import re\n",
    "\n",
    "lines = ['>=2 1 2 3', '>=3 1 2 3', '>=2 1 2 3']\n",
    "\n",
    "p=1\n",
    "#sys.stdout = open(\"results.txt\", \"w\")\n",
    "for i in list(lines):\n",
    "    if i[0] != '<' and i[0] != '>' and i[0] != '=':# change txt file for np.array\n",
    "        p = str(' '.join(i.split())) \n",
    "        print(p)\n",
    "        \n",
    "    else:\n",
    "        w = i[3:]\n",
    "        frst=i[2]\n",
    "        w = ', '.join(w.split())\n",
    "        y = i[2]\n",
    "        y=int(y)+1\n",
    "        #INSERT input to array\n",
    "        c=np.array([w])\n",
    "        c1 = [int(i) for i in c[0].replace(\" \", \"\").split(\",\")]\n",
    "\n",
    "        frst=str(frst).replace(\"[\",'')\n",
    "        frst=str(frst).replace(\"]\",'')\n",
    "        frst=int(frst)\n",
    "        c1=np.array(c1)        \n",
    "\n",
    "        sest2=c1\n",
    "        c1=np.array([c1]*frst) #frst is the first value by which the matrix is multiplied\n",
    "        c1=np.transpose(c1)#transpose\n",
    "        \n",
    "\n",
    "        #change value every iteration\n",
    "        c1=c1 + 10 * (np.arange(c1.shape[1]) + 1)*p\n",
    "        left=c1*-1\n",
    "        sedem=np.transpose(left)*-1 #transpose matrix\n",
    "        p +=1\n",
    "       \n",
    "        #editing outputs\n",
    "        sedem=str(sedem).replace(\"[\",'')\n",
    "        sedem=str(sedem).replace(\"]\",' 0')\n",
    "        sedem=str(sedem).replace(\".\",'')\n",
    "        sedem = sedem[:-1]\n",
    "        sedem=str(sedem).replace(\"\\n \",'\\n')\n",
    "        sedem=str(sedem).replace(\"  \",' ')\n",
    "        sedem=str(sedem).replace(\"\\n \",'\\n')\n",
    "        sedem=str(sedem).lstrip()       \n",
    "        print(sedem,'\\n')"
   ]
  },
  {
   "cell_type": "code",
   "execution_count": 186,
   "metadata": {},
   "outputs": [],
   "source": [
    "arr = np.array([[2,1,2,3],[3,1,2,3],[2,1,2,3]])"
   ]
  },
  {
   "cell_type": "code",
   "execution_count": 190,
   "metadata": {},
   "outputs": [
    {
     "data": {
      "text/plain": [
       "array([2, 3, 2])"
      ]
     },
     "execution_count": 190,
     "metadata": {},
     "output_type": "execute_result"
    }
   ],
   "source": [
    "arr[:,0]"
   ]
  },
  {
   "cell_type": "code",
   "execution_count": 194,
   "metadata": {},
   "outputs": [
    {
     "data": {
      "text/plain": [
       "array([[2, 6, 6],\n",
       "       [2, 6, 6],\n",
       "       [2, 6, 6]])"
      ]
     },
     "execution_count": 194,
     "metadata": {},
     "output_type": "execute_result"
    }
   ],
   "source": [
    "arr[:,0]*arr[:,1:]"
   ]
  },
  {
   "cell_type": "code",
   "execution_count": 199,
   "metadata": {},
   "outputs": [
    {
     "data": {
      "text/plain": [
       "array([20, 30, 20])"
      ]
     },
     "execution_count": 199,
     "metadata": {},
     "output_type": "execute_result"
    }
   ],
   "source": [
    "arr[:,0]*10"
   ]
  },
  {
   "cell_type": "code",
   "execution_count": 211,
   "metadata": {},
   "outputs": [],
   "source": []
  },
  {
   "cell_type": "code",
   "execution_count": null,
   "metadata": {},
   "outputs": [],
   "source": []
  },
  {
   "cell_type": "code",
   "execution_count": null,
   "metadata": {},
   "outputs": [],
   "source": []
  },
  {
   "cell_type": "code",
   "execution_count": 270,
   "metadata": {},
   "outputs": [
    {
     "name": "stdout",
     "output_type": "stream",
     "text": [
      "INPUT:\n",
      "[[2 1 2 3]\n",
      " [3 1 2 3]\n",
      " [2 1 2 3]]\n",
      "\n",
      "nums:\n",
      "[[11 12 13]\n",
      " [21 22 23]\n",
      " [31 32 33]\n",
      " [41 42 43]\n",
      " [51 52 53]\n",
      " [61 62 63]\n",
      " [71 72 73]]\n",
      "\n",
      "OUTPUT:\n",
      "chunk number 0 :\n",
      "[[11 12 13]\n",
      " [21 22 23]]\n",
      "\n",
      "chunk number 1 :\n",
      "[[31 32 33]\n",
      " [41 42 43]\n",
      " [51 52 53]]\n",
      "\n",
      "chunk number 2 :\n",
      "[[61 62 63]\n",
      " [71 72 73]]\n",
      "\n"
     ]
    }
   ],
   "source": [
    "#Setup each row in text file as a row in a np matrix\n",
    "\n",
    "arr = np.array([[2,1,2,3],\n",
    "                [3,1,2,3],\n",
    "                [2,1,2,3]])\n",
    "\n",
    "print('INPUT:')\n",
    "print(arr)\n",
    "print('')\n",
    "\n",
    "ones = np.repeat(arr[:,1:], arr[:,0], axis=0)\n",
    "tens = (np.arange(1,arr[:,0].sum()+1)*10)\n",
    "nums = ones+tens[:, None]\n",
    "\n",
    "print('nums:')\n",
    "print(nums)\n",
    "print('')\n",
    "\n",
    "#Splitting nums for each input\n",
    "l = np.cumsum([0]+list(arr[:,0]))\n",
    "chunks = [nums[i:j,:] for i,j in zip(l,l[1:])]\n",
    "\n",
    "print('OUTPUT:')\n",
    "for i,chunk in enumerate(chunks):\n",
    "    print('chunk number',i,':')\n",
    "    print(chunk)\n",
    "    print('')\n",
    "    \n",
    "INPUT:\n",
    "[[2 1 2 3]\n",
    " [3 1 2 3]\n",
    " [2 1 2 3]]\n",
    "\n",
    "nums:\n",
    "[[11 12 13]\n",
    " [21 22 23]\n",
    " [31 32 33]\n",
    " [41 42 43]\n",
    " [51 52 53]\n",
    " [61 62 63]\n",
    " [71 72 73]]\n",
    "\n",
    "OUTPUT:\n",
    "chunk number 0 :\n",
    "[[11 12 13]\n",
    " [21 22 23]]\n",
    "\n",
    "chunk number 1 :\n",
    "[[31 32 33]\n",
    " [41 42 43]\n",
    " [51 52 53]]\n",
    "\n",
    "chunk number 2 :\n",
    "[[61 62 63]\n",
    " [71 72 73]]"
   ]
  },
  {
   "cell_type": "code",
   "execution_count": 254,
   "metadata": {},
   "outputs": [
    {
     "ename": "SyntaxError",
     "evalue": "invalid syntax (<ipython-input-254-2b2b023bcd64>, line 1)",
     "output_type": "error",
     "traceback": [
      "\u001b[0;36m  File \u001b[0;32m\"<ipython-input-254-2b2b023bcd64>\"\u001b[0;36m, line \u001b[0;32m1\u001b[0m\n\u001b[0;31m    [i for i in ]\u001b[0m\n\u001b[0m                ^\u001b[0m\n\u001b[0;31mSyntaxError\u001b[0m\u001b[0;31m:\u001b[0m invalid syntax\n"
     ]
    }
   ],
   "source": [
    "[i for i in ]"
   ]
  },
  {
   "cell_type": "code",
   "execution_count": null,
   "metadata": {},
   "outputs": [],
   "source": []
  },
  {
   "cell_type": "code",
   "execution_count": null,
   "metadata": {},
   "outputs": [],
   "source": []
  },
  {
   "cell_type": "code",
   "execution_count": null,
   "metadata": {},
   "outputs": [],
   "source": []
  },
  {
   "cell_type": "code",
   "execution_count": 272,
   "metadata": {},
   "outputs": [],
   "source": [
    "import tensorflow as tf"
   ]
  },
  {
   "cell_type": "code",
   "execution_count": 308,
   "metadata": {},
   "outputs": [],
   "source": []
  },
  {
   "cell_type": "code",
   "execution_count": 309,
   "metadata": {},
   "outputs": [
    {
     "data": {
      "text/plain": [
       "<tf.Tensor: shape=(3, 3), dtype=int32, numpy=\n",
       "array([[7, 2, 3],\n",
       "       [5, 0, 1],\n",
       "       [7, 8, 2]], dtype=int32)>"
      ]
     },
     "execution_count": 309,
     "metadata": {},
     "output_type": "execute_result"
    }
   ],
   "source": [
    "x"
   ]
  },
  {
   "cell_type": "code",
   "execution_count": 310,
   "metadata": {},
   "outputs": [
    {
     "data": {
      "text/plain": [
       "<tf.Tensor: shape=(3,), dtype=int64, numpy=array([0, 0, 1])>"
      ]
     },
     "execution_count": 310,
     "metadata": {},
     "output_type": "execute_result"
    }
   ],
   "source": [
    "tf.argmax(x, axis=1)"
   ]
  },
  {
   "cell_type": "code",
   "execution_count": null,
   "metadata": {},
   "outputs": [],
   "source": []
  },
  {
   "cell_type": "code",
   "execution_count": 311,
   "metadata": {},
   "outputs": [
    {
     "ename": "AttributeError",
     "evalue": "'tensorflow.python.framework.ops.EagerTensor' object has no attribute 'indices'",
     "output_type": "error",
     "traceback": [
      "\u001b[0;31m---------------------------------------------------------------------------\u001b[0m",
      "\u001b[0;31mAttributeError\u001b[0m                            Traceback (most recent call last)",
      "\u001b[0;32m<ipython-input-311-44db751dfff7>\u001b[0m in \u001b[0;36m<module>\u001b[0;34m\u001b[0m\n\u001b[0;32m----> 1\u001b[0;31m \u001b[0mtf\u001b[0m\u001b[0;34m.\u001b[0m\u001b[0msparse\u001b[0m\u001b[0;34m.\u001b[0m\u001b[0mmask\u001b[0m\u001b[0;34m(\u001b[0m\u001b[0mx\u001b[0m\u001b[0;34m,\u001b[0m \u001b[0mtf\u001b[0m\u001b[0;34m.\u001b[0m\u001b[0margmax\u001b[0m\u001b[0;34m(\u001b[0m\u001b[0mx\u001b[0m\u001b[0;34m,\u001b[0m \u001b[0maxis\u001b[0m\u001b[0;34m=\u001b[0m\u001b[0;36m1\u001b[0m\u001b[0;34m)\u001b[0m\u001b[0;34m)\u001b[0m\u001b[0;34m\u001b[0m\u001b[0;34m\u001b[0m\u001b[0m\n\u001b[0m",
      "\u001b[0;32m~/opt/anaconda3/lib/python3.8/site-packages/tensorflow/python/ops/array_ops.py\u001b[0m in \u001b[0;36msparse_mask\u001b[0;34m(a, mask_indices, name)\u001b[0m\n\u001b[1;32m   1870\u001b[0m   \"\"\"\n\u001b[1;32m   1871\u001b[0m   \u001b[0;32mwith\u001b[0m \u001b[0mops\u001b[0m\u001b[0;34m.\u001b[0m\u001b[0mname_scope\u001b[0m\u001b[0;34m(\u001b[0m\u001b[0mname\u001b[0m\u001b[0;34m,\u001b[0m \u001b[0;34m\"sparse_mask\"\u001b[0m\u001b[0;34m,\u001b[0m \u001b[0;34m[\u001b[0m\u001b[0ma\u001b[0m\u001b[0;34m,\u001b[0m \u001b[0mmask_indices\u001b[0m\u001b[0;34m]\u001b[0m\u001b[0;34m)\u001b[0m \u001b[0;32mas\u001b[0m \u001b[0mname\u001b[0m\u001b[0;34m:\u001b[0m\u001b[0;34m\u001b[0m\u001b[0;34m\u001b[0m\u001b[0m\n\u001b[0;32m-> 1872\u001b[0;31m     \u001b[0mindices\u001b[0m \u001b[0;34m=\u001b[0m \u001b[0ma\u001b[0m\u001b[0;34m.\u001b[0m\u001b[0mindices\u001b[0m\u001b[0;34m\u001b[0m\u001b[0;34m\u001b[0m\u001b[0m\n\u001b[0m\u001b[1;32m   1873\u001b[0m     \u001b[0mout_indices\u001b[0m\u001b[0;34m,\u001b[0m \u001b[0mto_gather\u001b[0m \u001b[0;34m=\u001b[0m \u001b[0mgen_array_ops\u001b[0m\u001b[0;34m.\u001b[0m\u001b[0mlist_diff\u001b[0m\u001b[0;34m(\u001b[0m\u001b[0mindices\u001b[0m\u001b[0;34m,\u001b[0m \u001b[0mmask_indices\u001b[0m\u001b[0;34m)\u001b[0m\u001b[0;34m\u001b[0m\u001b[0;34m\u001b[0m\u001b[0m\n\u001b[1;32m   1874\u001b[0m     \u001b[0mout_values\u001b[0m \u001b[0;34m=\u001b[0m \u001b[0mgather\u001b[0m\u001b[0;34m(\u001b[0m\u001b[0ma\u001b[0m\u001b[0;34m.\u001b[0m\u001b[0mvalues\u001b[0m\u001b[0;34m,\u001b[0m \u001b[0mto_gather\u001b[0m\u001b[0;34m,\u001b[0m \u001b[0mname\u001b[0m\u001b[0;34m=\u001b[0m\u001b[0mname\u001b[0m\u001b[0;34m)\u001b[0m\u001b[0;34m\u001b[0m\u001b[0;34m\u001b[0m\u001b[0m\n",
      "\u001b[0;31mAttributeError\u001b[0m: 'tensorflow.python.framework.ops.EagerTensor' object has no attribute 'indices'"
     ]
    }
   ],
   "source": [
    "tf.sparse.mask(x, tf.argmax(x, axis=1))"
   ]
  },
  {
   "cell_type": "code",
   "execution_count": 321,
   "metadata": {},
   "outputs": [
    {
     "data": {
      "text/plain": [
       "<tf.Tensor: shape=(3, 3), dtype=int32, numpy=\n",
       "array([[1, 0, 0],\n",
       "       [1, 0, 1],\n",
       "       [0, 1, 0]], dtype=int32)>"
      ]
     },
     "execution_count": 321,
     "metadata": {},
     "output_type": "execute_result"
    }
   ],
   "source": [
    "x = tf.constant([[7, 2, 3], \n",
    "                 [5, 0, 5], \n",
    "                 [7, 8, 7]])\n",
    "\n",
    "tf.where(x==tf.reduce_max(x, axis=1, keepdims=True), 1,0)"
   ]
  },
  {
   "cell_type": "code",
   "execution_count": 340,
   "metadata": {},
   "outputs": [
    {
     "ename": "TypeError",
     "evalue": "maximum() got an unexpected keyword argument 'axis'",
     "output_type": "error",
     "traceback": [
      "\u001b[0;31m---------------------------------------------------------------------------\u001b[0m",
      "\u001b[0;31mTypeError\u001b[0m                                 Traceback (most recent call last)",
      "\u001b[0;32m<ipython-input-340-003e5112a6e7>\u001b[0m in \u001b[0;36m<module>\u001b[0;34m\u001b[0m\n\u001b[0;32m----> 1\u001b[0;31m \u001b[0mtf\u001b[0m\u001b[0;34m.\u001b[0m\u001b[0mmaximum\u001b[0m\u001b[0;34m(\u001b[0m\u001b[0mx\u001b[0m\u001b[0;34m,\u001b[0m \u001b[0maxis\u001b[0m\u001b[0;34m=\u001b[0m\u001b[0;36m1\u001b[0m\u001b[0;34m,\u001b[0m \u001b[0mkeepdims\u001b[0m\u001b[0;34m=\u001b[0m\u001b[0;36m1\u001b[0m\u001b[0;34m)\u001b[0m \u001b[0;34m==\u001b[0m \u001b[0mx\u001b[0m\u001b[0;34m\u001b[0m\u001b[0;34m\u001b[0m\u001b[0m\n\u001b[0m",
      "\u001b[0;31mTypeError\u001b[0m: maximum() got an unexpected keyword argument 'axis'"
     ]
    }
   ],
   "source": [
    "tf.maximum(x, axis=1, keepdims=1) == x"
   ]
  },
  {
   "cell_type": "code",
   "execution_count": 341,
   "metadata": {},
   "outputs": [
    {
     "ename": "TypeError",
     "evalue": "maximum() got an unexpected keyword argument 'axis'",
     "output_type": "error",
     "traceback": [
      "\u001b[0;31m---------------------------------------------------------------------------\u001b[0m",
      "\u001b[0;31mTypeError\u001b[0m                                 Traceback (most recent call last)",
      "\u001b[0;32m<ipython-input-341-ff9c825825f1>\u001b[0m in \u001b[0;36m<module>\u001b[0;34m\u001b[0m\n\u001b[0;32m----> 1\u001b[0;31m \u001b[0mtf\u001b[0m\u001b[0;34m.\u001b[0m\u001b[0mmath\u001b[0m\u001b[0;34m.\u001b[0m\u001b[0mmaximum\u001b[0m\u001b[0;34m(\u001b[0m\u001b[0mx\u001b[0m\u001b[0;34m,\u001b[0m \u001b[0maxis\u001b[0m\u001b[0;34m=\u001b[0m\u001b[0;36m1\u001b[0m\u001b[0;34m)\u001b[0m\u001b[0;34m\u001b[0m\u001b[0;34m\u001b[0m\u001b[0m\n\u001b[0m",
      "\u001b[0;31mTypeError\u001b[0m: maximum() got an unexpected keyword argument 'axis'"
     ]
    }
   ],
   "source": [
    "tf.math.maximum()"
   ]
  },
  {
   "cell_type": "code",
   "execution_count": 375,
   "metadata": {},
   "outputs": [
    {
     "data": {
      "text/plain": [
       "<tf.Tensor: shape=(3, 3), dtype=int64, numpy=\n",
       "array([[1, 0, 0],\n",
       "       [0, 0, 1],\n",
       "       [0, 1, 0]])>"
      ]
     },
     "execution_count": 375,
     "metadata": {},
     "output_type": "execute_result"
    }
   ],
   "source": [
    "tf.cast(tf.equal(tf.argsort(tf.argsort(x, 1,), 1), x.shape[0]-1), tf.int64)"
   ]
  },
  {
   "cell_type": "code",
   "execution_count": null,
   "metadata": {},
   "outputs": [],
   "source": []
  },
  {
   "cell_type": "code",
   "execution_count": null,
   "metadata": {},
   "outputs": [],
   "source": []
  },
  {
   "cell_type": "code",
   "execution_count": null,
   "metadata": {},
   "outputs": [],
   "source": []
  },
  {
   "cell_type": "code",
   "execution_count": 398,
   "metadata": {},
   "outputs": [
    {
     "data": {
      "text/plain": [
       "[[16, 5, 14, 7, 21, 9, 14, 19],\n",
       " [27, 1, 18, 5, 27, 15, 14, 5],\n",
       " [27, 20, 15, 27, 15, 14, 5, 27]]"
      ]
     },
     "execution_count": 398,
     "metadata": {},
     "output_type": "execute_result"
    }
   ],
   "source": [
    "L=[16, 5, 14, 7, 21, 9, 14, 19, 27, 1, 18, 5,27, 15, 14, 5, 27, 20, 15, 27, 15, 14, 5]\n",
    "\n",
    "L2 = L+[27]*(3-len(L)%3) #Append list\n",
    "n = int(len(L2)/3)       #Get number of cols\n",
    "L3 = [L2[i:i+n] for i in range(0,len(L2),n)] #chunk list\n",
    "L3"
   ]
  },
  {
   "cell_type": "code",
   "execution_count": null,
   "metadata": {},
   "outputs": [],
   "source": []
  },
  {
   "cell_type": "code",
   "execution_count": null,
   "metadata": {},
   "outputs": [],
   "source": []
  },
  {
   "cell_type": "code",
   "execution_count": 3,
   "metadata": {},
   "outputs": [],
   "source": [
    "d = {1: [3, 2, 3, 2],\n",
    "2: [1, 2, 3, 4], \n",
    "3: [3, 4, 2, 1]}"
   ]
  },
  {
   "cell_type": "code",
   "execution_count": 7,
   "metadata": {},
   "outputs": [
    {
     "data": {
      "text/plain": [
       "[2]"
      ]
     },
     "execution_count": 7,
     "metadata": {},
     "output_type": "execute_result"
    }
   ],
   "source": [
    "[k for k,v in d.items() if v[0]==1]"
   ]
  },
  {
   "cell_type": "code",
   "execution_count": 8,
   "metadata": {},
   "outputs": [
    {
     "data": {
      "text/plain": [
       "[2]"
      ]
     },
     "execution_count": 8,
     "metadata": {},
     "output_type": "execute_result"
    }
   ],
   "source": [
    "[k for k in d if d[k][0] == 1]"
   ]
  },
  {
   "cell_type": "code",
   "execution_count": null,
   "metadata": {},
   "outputs": [],
   "source": [
    "          X    Z  participantNum  obsScenario  startPos  targetPos\n",
    "16000 -16.0 -5.0         6950203            2         2          3\n",
    "16001 -16.0 -5.0         6950203            2         2          3\n",
    "16002 -16.0 -5.0         6950203            2         2          3\n",
    "16003 -16.0 -5.0         6950203            2         2          3\n",
    "16004 -16.0 -5.0         6950203            2         2          3\n",
    "16005 -16.0 -5.0         6950203            2         2          3\n",
    "16006 -16.0 -5.0         6950203            2         2          3\n",
    "16007 -16.0 -5.0         6950203            2         2          3\n",
    "16008 -16.0 -5.0         6950203            2         2          3\n",
    "16009 -16.0 -5.0         6950203            2         2          3"
   ]
  },
  {
   "cell_type": "code",
   "execution_count": 9,
   "metadata": {},
   "outputs": [],
   "source": [
    "import pandas as pd"
   ]
  },
  {
   "cell_type": "code",
   "execution_count": 11,
   "metadata": {},
   "outputs": [],
   "source": [
    "df = pd.read_clipboard()"
   ]
  },
  {
   "cell_type": "code",
   "execution_count": 13,
   "metadata": {},
   "outputs": [
    {
     "data": {
      "text/html": [
       "<div>\n",
       "<style scoped>\n",
       "    .dataframe tbody tr th:only-of-type {\n",
       "        vertical-align: middle;\n",
       "    }\n",
       "\n",
       "    .dataframe tbody tr th {\n",
       "        vertical-align: top;\n",
       "    }\n",
       "\n",
       "    .dataframe thead th {\n",
       "        text-align: right;\n",
       "    }\n",
       "</style>\n",
       "<table border=\"1\" class=\"dataframe\">\n",
       "  <thead>\n",
       "    <tr style=\"text-align: right;\">\n",
       "      <th></th>\n",
       "      <th>X</th>\n",
       "      <th>Z</th>\n",
       "      <th>participantNum</th>\n",
       "      <th>obsScenario</th>\n",
       "      <th>startPos</th>\n",
       "      <th>targetPos</th>\n",
       "    </tr>\n",
       "  </thead>\n",
       "  <tbody>\n",
       "    <tr>\n",
       "      <th>16000</th>\n",
       "      <td>-16.0</td>\n",
       "      <td>-5.0</td>\n",
       "      <td>6950203</td>\n",
       "      <td>2</td>\n",
       "      <td>2</td>\n",
       "      <td>3</td>\n",
       "    </tr>\n",
       "    <tr>\n",
       "      <th>16001</th>\n",
       "      <td>-16.0</td>\n",
       "      <td>-5.0</td>\n",
       "      <td>6950203</td>\n",
       "      <td>2</td>\n",
       "      <td>2</td>\n",
       "      <td>3</td>\n",
       "    </tr>\n",
       "    <tr>\n",
       "      <th>16002</th>\n",
       "      <td>-16.0</td>\n",
       "      <td>-5.0</td>\n",
       "      <td>6950203</td>\n",
       "      <td>2</td>\n",
       "      <td>2</td>\n",
       "      <td>3</td>\n",
       "    </tr>\n",
       "    <tr>\n",
       "      <th>16003</th>\n",
       "      <td>-16.0</td>\n",
       "      <td>-5.0</td>\n",
       "      <td>6950203</td>\n",
       "      <td>2</td>\n",
       "      <td>2</td>\n",
       "      <td>3</td>\n",
       "    </tr>\n",
       "    <tr>\n",
       "      <th>16004</th>\n",
       "      <td>-16.0</td>\n",
       "      <td>-5.0</td>\n",
       "      <td>6950203</td>\n",
       "      <td>2</td>\n",
       "      <td>2</td>\n",
       "      <td>3</td>\n",
       "    </tr>\n",
       "    <tr>\n",
       "      <th>16005</th>\n",
       "      <td>-16.0</td>\n",
       "      <td>-5.0</td>\n",
       "      <td>6950203</td>\n",
       "      <td>2</td>\n",
       "      <td>2</td>\n",
       "      <td>3</td>\n",
       "    </tr>\n",
       "    <tr>\n",
       "      <th>16006</th>\n",
       "      <td>-16.0</td>\n",
       "      <td>-5.0</td>\n",
       "      <td>6950203</td>\n",
       "      <td>2</td>\n",
       "      <td>2</td>\n",
       "      <td>3</td>\n",
       "    </tr>\n",
       "    <tr>\n",
       "      <th>16007</th>\n",
       "      <td>-16.0</td>\n",
       "      <td>-5.0</td>\n",
       "      <td>6950203</td>\n",
       "      <td>2</td>\n",
       "      <td>2</td>\n",
       "      <td>3</td>\n",
       "    </tr>\n",
       "    <tr>\n",
       "      <th>16008</th>\n",
       "      <td>-16.0</td>\n",
       "      <td>-5.0</td>\n",
       "      <td>6950203</td>\n",
       "      <td>2</td>\n",
       "      <td>2</td>\n",
       "      <td>3</td>\n",
       "    </tr>\n",
       "    <tr>\n",
       "      <th>16009</th>\n",
       "      <td>-16.0</td>\n",
       "      <td>-5.0</td>\n",
       "      <td>6950203</td>\n",
       "      <td>2</td>\n",
       "      <td>2</td>\n",
       "      <td>3</td>\n",
       "    </tr>\n",
       "  </tbody>\n",
       "</table>\n",
       "</div>"
      ],
      "text/plain": [
       "          X    Z  participantNum  obsScenario  startPos  targetPos\n",
       "16000 -16.0 -5.0         6950203            2         2          3\n",
       "16001 -16.0 -5.0         6950203            2         2          3\n",
       "16002 -16.0 -5.0         6950203            2         2          3\n",
       "16003 -16.0 -5.0         6950203            2         2          3\n",
       "16004 -16.0 -5.0         6950203            2         2          3\n",
       "16005 -16.0 -5.0         6950203            2         2          3\n",
       "16006 -16.0 -5.0         6950203            2         2          3\n",
       "16007 -16.0 -5.0         6950203            2         2          3\n",
       "16008 -16.0 -5.0         6950203            2         2          3\n",
       "16009 -16.0 -5.0         6950203            2         2          3"
      ]
     },
     "execution_count": 13,
     "metadata": {},
     "output_type": "execute_result"
    }
   ],
   "source": [
    "df"
   ]
  },
  {
   "cell_type": "code",
   "execution_count": 21,
   "metadata": {},
   "outputs": [],
   "source": [
    "import numpy as np\n",
    "from scipy import stats"
   ]
  },
  {
   "cell_type": "code",
   "execution_count": 24,
   "metadata": {},
   "outputs": [],
   "source": [
    "def mean_confidence_interval(data, confidence=0.95):\n",
    "    a = 1.0*np.array(data)\n",
    "    n = len(a)\n",
    "    m, se = np.mean(a), stats.sem(a)\n",
    "    h = se * stats.t._ppf((1+confidence)/2., n-1)\n",
    "    return m, m+h, m-h"
   ]
  },
  {
   "cell_type": "code",
   "execution_count": 25,
   "metadata": {},
   "outputs": [
    {
     "data": {
      "text/plain": [
       "obsScenario  startPos  targetPos\n",
       "2            2         3            (-16.0, -16.0, -16.0)\n",
       "Name: X, dtype: object"
      ]
     },
     "execution_count": 25,
     "metadata": {},
     "output_type": "execute_result"
    }
   ],
   "source": [
    "df.groupby(['obsScenario','startPos','targetPos'])['X'].apply(mean_confidence_interval)"
   ]
  },
  {
   "cell_type": "code",
   "execution_count": null,
   "metadata": {},
   "outputs": [],
   "source": []
  },
  {
   "cell_type": "code",
   "execution_count": null,
   "metadata": {},
   "outputs": [],
   "source": []
  },
  {
   "cell_type": "code",
   "execution_count": null,
   "metadata": {},
   "outputs": [],
   "source": []
  },
  {
   "cell_type": "code",
   "execution_count": 48,
   "metadata": {},
   "outputs": [],
   "source": [
    "def f_test_df(n_rows, n_cols):\n",
    "    df1 = pd.DataFrame(np.random.rand(n_rows, n_cols))\n",
    "    df = df1.applymap(lambda x: round(x*10))\n",
    "    return df \n",
    "\n",
    "np.random.seed(seed=1)\n",
    "df1 = f_test_df(7, 7)"
   ]
  },
  {
   "cell_type": "code",
   "execution_count": 41,
   "metadata": {},
   "outputs": [
    {
     "data": {
      "text/html": [
       "<div>\n",
       "<style scoped>\n",
       "    .dataframe tbody tr th:only-of-type {\n",
       "        vertical-align: middle;\n",
       "    }\n",
       "\n",
       "    .dataframe tbody tr th {\n",
       "        vertical-align: top;\n",
       "    }\n",
       "\n",
       "    .dataframe thead th {\n",
       "        text-align: right;\n",
       "    }\n",
       "</style>\n",
       "<table border=\"1\" class=\"dataframe\">\n",
       "  <thead>\n",
       "    <tr style=\"text-align: right;\">\n",
       "      <th></th>\n",
       "      <th>0</th>\n",
       "      <th>1</th>\n",
       "      <th>2</th>\n",
       "      <th>3</th>\n",
       "      <th>4</th>\n",
       "      <th>5</th>\n",
       "      <th>6</th>\n",
       "    </tr>\n",
       "  </thead>\n",
       "  <tbody>\n",
       "    <tr>\n",
       "      <th>0</th>\n",
       "      <td>4</td>\n",
       "      <td>7</td>\n",
       "      <td>0</td>\n",
       "      <td>3</td>\n",
       "      <td>1</td>\n",
       "      <td>1</td>\n",
       "      <td>2</td>\n",
       "    </tr>\n",
       "    <tr>\n",
       "      <th>1</th>\n",
       "      <td>3</td>\n",
       "      <td>4</td>\n",
       "      <td>5</td>\n",
       "      <td>4</td>\n",
       "      <td>7</td>\n",
       "      <td>2</td>\n",
       "      <td>9</td>\n",
       "    </tr>\n",
       "    <tr>\n",
       "      <th>2</th>\n",
       "      <td>0</td>\n",
       "      <td>7</td>\n",
       "      <td>4</td>\n",
       "      <td>6</td>\n",
       "      <td>1</td>\n",
       "      <td>2</td>\n",
       "      <td>8</td>\n",
       "    </tr>\n",
       "    <tr>\n",
       "      <th>3</th>\n",
       "      <td>10</td>\n",
       "      <td>3</td>\n",
       "      <td>7</td>\n",
       "      <td>9</td>\n",
       "      <td>9</td>\n",
       "      <td>1</td>\n",
       "      <td>0</td>\n",
       "    </tr>\n",
       "    <tr>\n",
       "      <th>4</th>\n",
       "      <td>2</td>\n",
       "      <td>9</td>\n",
       "      <td>1</td>\n",
       "      <td>4</td>\n",
       "      <td>10</td>\n",
       "      <td>5</td>\n",
       "      <td>7</td>\n",
       "    </tr>\n",
       "    <tr>\n",
       "      <th>5</th>\n",
       "      <td>3</td>\n",
       "      <td>7</td>\n",
       "      <td>8</td>\n",
       "      <td>0</td>\n",
       "      <td>8</td>\n",
       "      <td>10</td>\n",
       "      <td>7</td>\n",
       "    </tr>\n",
       "    <tr>\n",
       "      <th>6</th>\n",
       "      <td>3</td>\n",
       "      <td>8</td>\n",
       "      <td>1</td>\n",
       "      <td>4</td>\n",
       "      <td>9</td>\n",
       "      <td>3</td>\n",
       "      <td>3</td>\n",
       "    </tr>\n",
       "  </tbody>\n",
       "</table>\n",
       "</div>"
      ],
      "text/plain": [
       "    0  1  2  3   4   5  6\n",
       "0   4  7  0  3   1   1  2\n",
       "1   3  4  5  4   7   2  9\n",
       "2   0  7  4  6   1   2  8\n",
       "3  10  3  7  9   9   1  0\n",
       "4   2  9  1  4  10   5  7\n",
       "5   3  7  8  0   8  10  7\n",
       "6   3  8  1  4   9   3  3"
      ]
     },
     "execution_count": 41,
     "metadata": {},
     "output_type": "execute_result"
    }
   ],
   "source": [
    "df1"
   ]
  },
  {
   "cell_type": "code",
   "execution_count": 42,
   "metadata": {},
   "outputs": [],
   "source": [
    "def f_bounds(x, lower, upper):\n",
    "    if x < lower:\n",
    "        return 'lower'\n",
    "    elif x > upper:\n",
    "        return 'upper'\n",
    "    else:\n",
    "        return x"
   ]
  },
  {
   "cell_type": "code",
   "execution_count": 70,
   "metadata": {},
   "outputs": [
    {
     "data": {
      "text/html": [
       "<div>\n",
       "<style scoped>\n",
       "    .dataframe tbody tr th:only-of-type {\n",
       "        vertical-align: middle;\n",
       "    }\n",
       "\n",
       "    .dataframe tbody tr th {\n",
       "        vertical-align: top;\n",
       "    }\n",
       "\n",
       "    .dataframe thead th {\n",
       "        text-align: right;\n",
       "    }\n",
       "</style>\n",
       "<table border=\"1\" class=\"dataframe\">\n",
       "  <thead>\n",
       "    <tr style=\"text-align: right;\">\n",
       "      <th></th>\n",
       "      <th>2</th>\n",
       "      <th>3</th>\n",
       "      <th>4</th>\n",
       "      <th>5</th>\n",
       "    </tr>\n",
       "  </thead>\n",
       "  <tbody>\n",
       "    <tr>\n",
       "      <th>2</th>\n",
       "      <td>False</td>\n",
       "      <td>False</td>\n",
       "      <td>True</td>\n",
       "      <td>False</td>\n",
       "    </tr>\n",
       "    <tr>\n",
       "      <th>3</th>\n",
       "      <td>False</td>\n",
       "      <td>False</td>\n",
       "      <td>False</td>\n",
       "      <td>True</td>\n",
       "    </tr>\n",
       "    <tr>\n",
       "      <th>4</th>\n",
       "      <td>True</td>\n",
       "      <td>False</td>\n",
       "      <td>False</td>\n",
       "      <td>False</td>\n",
       "    </tr>\n",
       "    <tr>\n",
       "      <th>5</th>\n",
       "      <td>False</td>\n",
       "      <td>True</td>\n",
       "      <td>False</td>\n",
       "      <td>False</td>\n",
       "    </tr>\n",
       "  </tbody>\n",
       "</table>\n",
       "</div>"
      ],
      "text/plain": [
       "       2      3      4      5\n",
       "2  False  False   True  False\n",
       "3  False  False  False   True\n",
       "4   True  False  False  False\n",
       "5  False   True  False  False"
      ]
     },
     "execution_count": 70,
     "metadata": {},
     "output_type": "execute_result"
    }
   ],
   "source": [
    "df1.loc[2:5, 2:5]<lower"
   ]
  },
  {
   "cell_type": "code",
   "execution_count": 47,
   "metadata": {},
   "outputs": [
    {
     "data": {
      "text/html": [
       "<div>\n",
       "<style scoped>\n",
       "    .dataframe tbody tr th:only-of-type {\n",
       "        vertical-align: middle;\n",
       "    }\n",
       "\n",
       "    .dataframe tbody tr th {\n",
       "        vertical-align: top;\n",
       "    }\n",
       "\n",
       "    .dataframe thead th {\n",
       "        text-align: right;\n",
       "    }\n",
       "</style>\n",
       "<table border=\"1\" class=\"dataframe\">\n",
       "  <thead>\n",
       "    <tr style=\"text-align: right;\">\n",
       "      <th></th>\n",
       "      <th>0</th>\n",
       "      <th>1</th>\n",
       "      <th>2</th>\n",
       "      <th>3</th>\n",
       "      <th>4</th>\n",
       "      <th>5</th>\n",
       "      <th>6</th>\n",
       "    </tr>\n",
       "  </thead>\n",
       "  <tbody>\n",
       "    <tr>\n",
       "      <th>0</th>\n",
       "      <td>4</td>\n",
       "      <td>7</td>\n",
       "      <td>0</td>\n",
       "      <td>3</td>\n",
       "      <td>1</td>\n",
       "      <td>1</td>\n",
       "      <td>2</td>\n",
       "    </tr>\n",
       "    <tr>\n",
       "      <th>1</th>\n",
       "      <td>3</td>\n",
       "      <td>4</td>\n",
       "      <td>5</td>\n",
       "      <td>4</td>\n",
       "      <td>7</td>\n",
       "      <td>2</td>\n",
       "      <td>9</td>\n",
       "    </tr>\n",
       "    <tr>\n",
       "      <th>2</th>\n",
       "      <td>0</td>\n",
       "      <td>7</td>\n",
       "      <td>4</td>\n",
       "      <td>upper</td>\n",
       "      <td>lower</td>\n",
       "      <td>2</td>\n",
       "      <td>8</td>\n",
       "    </tr>\n",
       "    <tr>\n",
       "      <th>3</th>\n",
       "      <td>10</td>\n",
       "      <td>3</td>\n",
       "      <td>upper</td>\n",
       "      <td>upper</td>\n",
       "      <td>upper</td>\n",
       "      <td>lower</td>\n",
       "      <td>0</td>\n",
       "    </tr>\n",
       "    <tr>\n",
       "      <th>4</th>\n",
       "      <td>2</td>\n",
       "      <td>9</td>\n",
       "      <td>lower</td>\n",
       "      <td>4</td>\n",
       "      <td>upper</td>\n",
       "      <td>5</td>\n",
       "      <td>7</td>\n",
       "    </tr>\n",
       "    <tr>\n",
       "      <th>5</th>\n",
       "      <td>3</td>\n",
       "      <td>7</td>\n",
       "      <td>upper</td>\n",
       "      <td>lower</td>\n",
       "      <td>upper</td>\n",
       "      <td>upper</td>\n",
       "      <td>7</td>\n",
       "    </tr>\n",
       "    <tr>\n",
       "      <th>6</th>\n",
       "      <td>3</td>\n",
       "      <td>8</td>\n",
       "      <td>1</td>\n",
       "      <td>4</td>\n",
       "      <td>9</td>\n",
       "      <td>3</td>\n",
       "      <td>3</td>\n",
       "    </tr>\n",
       "  </tbody>\n",
       "</table>\n",
       "</div>"
      ],
      "text/plain": [
       "    0  1      2      3      4      5  6\n",
       "0   4  7      0      3      1      1  2\n",
       "1   3  4      5      4      7      2  9\n",
       "2   0  7      4  upper  lower      2  8\n",
       "3  10  3  upper  upper  upper  lower  0\n",
       "4   2  9  lower      4  upper      5  7\n",
       "5   3  7  upper  lower  upper  upper  7\n",
       "6   3  8      1      4      9      3  3"
      ]
     },
     "execution_count": 47,
     "metadata": {},
     "output_type": "execute_result"
    }
   ],
   "source": [
    "df1"
   ]
  },
  {
   "cell_type": "code",
   "execution_count": 79,
   "metadata": {},
   "outputs": [
    {
     "data": {
      "text/html": [
       "<div>\n",
       "<style scoped>\n",
       "    .dataframe tbody tr th:only-of-type {\n",
       "        vertical-align: middle;\n",
       "    }\n",
       "\n",
       "    .dataframe tbody tr th {\n",
       "        vertical-align: top;\n",
       "    }\n",
       "\n",
       "    .dataframe thead th {\n",
       "        text-align: right;\n",
       "    }\n",
       "</style>\n",
       "<table border=\"1\" class=\"dataframe\">\n",
       "  <thead>\n",
       "    <tr style=\"text-align: right;\">\n",
       "      <th></th>\n",
       "      <th>0</th>\n",
       "      <th>1</th>\n",
       "      <th>2</th>\n",
       "      <th>3</th>\n",
       "      <th>4</th>\n",
       "      <th>5</th>\n",
       "      <th>6</th>\n",
       "    </tr>\n",
       "  </thead>\n",
       "  <tbody>\n",
       "    <tr>\n",
       "      <th>0</th>\n",
       "      <td>4</td>\n",
       "      <td>7</td>\n",
       "      <td>0</td>\n",
       "      <td>3</td>\n",
       "      <td>1</td>\n",
       "      <td>1</td>\n",
       "      <td>2</td>\n",
       "    </tr>\n",
       "    <tr>\n",
       "      <th>1</th>\n",
       "      <td>3</td>\n",
       "      <td>4</td>\n",
       "      <td>5</td>\n",
       "      <td>4</td>\n",
       "      <td>7</td>\n",
       "      <td>2</td>\n",
       "      <td>9</td>\n",
       "    </tr>\n",
       "    <tr>\n",
       "      <th>2</th>\n",
       "      <td>0</td>\n",
       "      <td>7</td>\n",
       "      <td>4</td>\n",
       "      <td>upper</td>\n",
       "      <td>lower</td>\n",
       "      <td>2</td>\n",
       "      <td>8</td>\n",
       "    </tr>\n",
       "    <tr>\n",
       "      <th>3</th>\n",
       "      <td>10</td>\n",
       "      <td>3</td>\n",
       "      <td>upper</td>\n",
       "      <td>upper</td>\n",
       "      <td>upper</td>\n",
       "      <td>lower</td>\n",
       "      <td>0</td>\n",
       "    </tr>\n",
       "    <tr>\n",
       "      <th>4</th>\n",
       "      <td>2</td>\n",
       "      <td>9</td>\n",
       "      <td>lower</td>\n",
       "      <td>4</td>\n",
       "      <td>upper</td>\n",
       "      <td>5</td>\n",
       "      <td>7</td>\n",
       "    </tr>\n",
       "    <tr>\n",
       "      <th>5</th>\n",
       "      <td>3</td>\n",
       "      <td>7</td>\n",
       "      <td>upper</td>\n",
       "      <td>lower</td>\n",
       "      <td>upper</td>\n",
       "      <td>upper</td>\n",
       "      <td>7</td>\n",
       "    </tr>\n",
       "    <tr>\n",
       "      <th>6</th>\n",
       "      <td>3</td>\n",
       "      <td>8</td>\n",
       "      <td>1</td>\n",
       "      <td>4</td>\n",
       "      <td>9</td>\n",
       "      <td>3</td>\n",
       "      <td>3</td>\n",
       "    </tr>\n",
       "  </tbody>\n",
       "</table>\n",
       "</div>"
      ],
      "text/plain": [
       "    0  1      2      3      4      5  6\n",
       "0   4  7      0      3      1      1  2\n",
       "1   3  4      5      4      7      2  9\n",
       "2   0  7      4  upper  lower      2  8\n",
       "3  10  3  upper  upper  upper  lower  0\n",
       "4   2  9  lower      4  upper      5  7\n",
       "5   3  7  upper  lower  upper  upper  7\n",
       "6   3  8      1      4      9      3  3"
      ]
     },
     "execution_count": 79,
     "metadata": {},
     "output_type": "execute_result"
    }
   ],
   "source": []
  },
  {
   "cell_type": "code",
   "execution_count": null,
   "metadata": {},
   "outputs": [],
   "source": []
  },
  {
   "cell_type": "code",
   "execution_count": 81,
   "metadata": {},
   "outputs": [
    {
     "name": "stdout",
     "output_type": "stream",
     "text": [
      "    0  1      2      3      4      5  6\n",
      "0   4  7      0      3      1      1  2\n",
      "1   3  4      5      4      7      2  9\n",
      "2   0  7      4  upper  lower      2  8\n",
      "3  10  3  upper  upper  upper  lower  0\n",
      "4   2  9  lower      4  upper      5  7\n",
      "5   3  7  upper  lower  upper  upper  7\n",
      "6   3  8      1      4      9      3  3\n"
     ]
    }
   ],
   "source": [
    "cond1 = df1[(df1.loc[2:5, 2:5]<lower)].notna()\n",
    "cond2 = df1[(df1.loc[2:5, 2:5]>upper)].notna() \n",
    "df1_new = df1.where(~cond1, 'lower').where(~cond2, 'upper')\n",
    "print(df1_new)\n",
    "\n",
    "    0  1      2      3      4      5  6\n",
    "0   4  7      0      3      1      1  2\n",
    "1   3  4      5      4      7      2  9\n",
    "2   0  7      4  upper  lower      2  8\n",
    "3  10  3  upper  upper  upper  lower  0\n",
    "4   2  9  lower      4  upper      5  7\n",
    "5   3  7  upper  lower  upper  upper  7\n",
    "6   3  8      1      4      9      3  3"
   ]
  },
  {
   "cell_type": "code",
   "execution_count": null,
   "metadata": {},
   "outputs": [],
   "source": []
  },
  {
   "cell_type": "code",
   "execution_count": null,
   "metadata": {},
   "outputs": [],
   "source": []
  },
  {
   "cell_type": "code",
   "execution_count": 84,
   "metadata": {},
   "outputs": [],
   "source": []
  },
  {
   "cell_type": "code",
   "execution_count": 94,
   "metadata": {},
   "outputs": [
    {
     "data": {
      "text/plain": [
       "[(1, 4, 4), (3, 6, 2), (4, 8, 4)]"
      ]
     },
     "execution_count": 94,
     "metadata": {},
     "output_type": "execute_result"
    }
   ],
   "source": []
  },
  {
   "cell_type": "code",
   "execution_count": 99,
   "metadata": {},
   "outputs": [
    {
     "name": "stdout",
     "output_type": "stream",
     "text": [
      "[[1, 3, 4], [4, 6, 8], [4, 2, 4]]\n"
     ]
    }
   ],
   "source": [
    "arr = [[1, 0, 3, 4],\n",
    "       [0, 0, 0, 0],\n",
    "       [4, 0, 6, 8],\n",
    "       [4, 0, 2, 4]]\n",
    "\n",
    "rows = [i for i in arr if set(i)!={0}]\n",
    "cols = [i for i in zip(*rows) if set(i)!={0}]\n",
    "arr_new = [list(i) for i in zip(*cols)]\n",
    "print(arr_new)"
   ]
  },
  {
   "cell_type": "code",
   "execution_count": 123,
   "metadata": {},
   "outputs": [
    {
     "data": {
      "text/plain": [
       "array([[1, 3, 4],\n",
       "       [4, 6, 8],\n",
       "       [4, 2, 4]])"
      ]
     },
     "execution_count": 123,
     "metadata": {},
     "output_type": "execute_result"
    }
   ],
   "source": []
  },
  {
   "cell_type": "code",
   "execution_count": 125,
   "metadata": {},
   "outputs": [
    {
     "data": {
      "text/plain": [
       "array([[1, 3, 4],\n",
       "       [4, 6, 8],\n",
       "       [4, 2, 4]])"
      ]
     },
     "execution_count": 125,
     "metadata": {},
     "output_type": "execute_result"
    }
   ],
   "source": [
    "import numpy as np\n",
    "\n",
    "arr = np.array(arr)\n",
    "cond = (arr==0)\n",
    "cond_rows = np.all(cond, axis=1)\n",
    "cond_cols = np.all(cond, axis=0)\n",
    "\n",
    "arr[~cond_cols, :][:,~cond_rows]\n",
    "\n",
    "array([[1, 3, 4],\n",
    "       [4, 6, 8],\n",
    "       [4, 2, 4]])"
   ]
  },
  {
   "cell_type": "code",
   "execution_count": 151,
   "metadata": {},
   "outputs": [
    {
     "data": {
      "text/plain": [
       "array([[1, 3, 4],\n",
       "       [4, 6, 8],\n",
       "       [4, 2, 4]])"
      ]
     },
     "execution_count": 151,
     "metadata": {},
     "output_type": "execute_result"
    }
   ],
   "source": [
    "arr[~(arr==0).all(0)][:,~(arr==0).all(1)]"
   ]
  },
  {
   "cell_type": "code",
   "execution_count": 141,
   "metadata": {},
   "outputs": [
    {
     "data": {
      "text/plain": [
       "array([[1, 0, 3, 4],\n",
       "       [4, 0, 6, 8],\n",
       "       [4, 0, 2, 4]])"
      ]
     },
     "execution_count": 141,
     "metadata": {},
     "output_type": "execute_result"
    }
   ],
   "source": [
    "arr[np.where(~(arr==0).all(0))]"
   ]
  },
  {
   "cell_type": "code",
   "execution_count": 144,
   "metadata": {},
   "outputs": [
    {
     "data": {
      "text/plain": [
       "array([[1, 0, 3, 4],\n",
       "       [4, 0, 6, 8],\n",
       "       [4, 0, 2, 4]])"
      ]
     },
     "execution_count": 144,
     "metadata": {},
     "output_type": "execute_result"
    }
   ],
   "source": [
    "arr[[0,2,3]]"
   ]
  },
  {
   "cell_type": "code",
   "execution_count": null,
   "metadata": {},
   "outputs": [],
   "source": []
  },
  {
   "cell_type": "code",
   "execution_count": 44,
   "metadata": {},
   "outputs": [
    {
     "name": "stdout",
     "output_type": "stream",
     "text": [
      "    0  1      2      3      4      5  6\n",
      "0   4  7      0      3      1      1  2\n",
      "1   3  4      5      4      7      2  9\n",
      "2   0  7      4  upper  lower      2  8\n",
      "3  10  3  upper  upper  upper  lower  0\n",
      "4   2  9  lower      4  upper      5  7\n",
      "5   3  7  upper  lower  upper  upper  7\n",
      "6   3  8      1      4      9      3  3\n"
     ]
    }
   ],
   "source": [
    "df1.loc[2:5, 2:5] = df1.loc[2:5, 2:5].applymap(lambda x: f_bounds(x, lower, upper))\n",
    "print(df1)\n",
    "\n",
    "\n",
    "    0  1      2      3      4      5  6\n",
    "0   4  7      0      3      1      1  2\n",
    "1   3  4      5      4      7      2  9\n",
    "2   0  7      4  upper  lower      2  8\n",
    "3  10  3  upper  upper  upper  lower  0\n",
    "4   2  9  lower      4  upper      5  7\n",
    "5   3  7  upper  lower  upper  upper  7\n",
    "6   3  8      1      4      9      3  3"
   ]
  },
  {
   "cell_type": "code",
   "execution_count": null,
   "metadata": {},
   "outputs": [],
   "source": []
  },
  {
   "cell_type": "code",
   "execution_count": 154,
   "metadata": {},
   "outputs": [],
   "source": [
    "d = {'x':3, 'y':2, 'z':5, 'p': 4, 'q':7, 't' :6}"
   ]
  },
  {
   "cell_type": "code",
   "execution_count": null,
   "metadata": {},
   "outputs": [],
   "source": [
    "col1    col2\n",
    " A     [x,y]\n",
    " B     [z]\n",
    " C     [p,q,x,y]\n",
    " D     [q,z,t]"
   ]
  },
  {
   "cell_type": "code",
   "execution_count": 188,
   "metadata": {},
   "outputs": [],
   "source": [
    "df.col2 = [[j for j in list(i) if j not in ['[',']','',',']] for i in df.col2]"
   ]
  },
  {
   "cell_type": "code",
   "execution_count": 189,
   "metadata": {},
   "outputs": [
    {
     "data": {
      "text/html": [
       "<div>\n",
       "<style scoped>\n",
       "    .dataframe tbody tr th:only-of-type {\n",
       "        vertical-align: middle;\n",
       "    }\n",
       "\n",
       "    .dataframe tbody tr th {\n",
       "        vertical-align: top;\n",
       "    }\n",
       "\n",
       "    .dataframe thead th {\n",
       "        text-align: right;\n",
       "    }\n",
       "</style>\n",
       "<table border=\"1\" class=\"dataframe\">\n",
       "  <thead>\n",
       "    <tr style=\"text-align: right;\">\n",
       "      <th></th>\n",
       "      <th>col1</th>\n",
       "      <th>col2</th>\n",
       "    </tr>\n",
       "  </thead>\n",
       "  <tbody>\n",
       "    <tr>\n",
       "      <th>0</th>\n",
       "      <td>A</td>\n",
       "      <td>[x, y]</td>\n",
       "    </tr>\n",
       "    <tr>\n",
       "      <th>1</th>\n",
       "      <td>B</td>\n",
       "      <td>[z]</td>\n",
       "    </tr>\n",
       "    <tr>\n",
       "      <th>2</th>\n",
       "      <td>C</td>\n",
       "      <td>[p, q, x, y]</td>\n",
       "    </tr>\n",
       "    <tr>\n",
       "      <th>3</th>\n",
       "      <td>D</td>\n",
       "      <td>[q, z, t]</td>\n",
       "    </tr>\n",
       "  </tbody>\n",
       "</table>\n",
       "</div>"
      ],
      "text/plain": [
       "  col1          col2\n",
       "0    A        [x, y]\n",
       "1    B           [z]\n",
       "2    C  [p, q, x, y]\n",
       "3    D     [q, z, t]"
      ]
     },
     "execution_count": 189,
     "metadata": {},
     "output_type": "execute_result"
    }
   ],
   "source": [
    "df"
   ]
  },
  {
   "cell_type": "code",
   "execution_count": 159,
   "metadata": {},
   "outputs": [],
   "source": [
    "df = pd.read_clipboard()"
   ]
  },
  {
   "cell_type": "code",
   "execution_count": 195,
   "metadata": {},
   "outputs": [
    {
     "data": {
      "text/html": [
       "<div>\n",
       "<style scoped>\n",
       "    .dataframe tbody tr th:only-of-type {\n",
       "        vertical-align: middle;\n",
       "    }\n",
       "\n",
       "    .dataframe tbody tr th {\n",
       "        vertical-align: top;\n",
       "    }\n",
       "\n",
       "    .dataframe thead th {\n",
       "        text-align: right;\n",
       "    }\n",
       "</style>\n",
       "<table border=\"1\" class=\"dataframe\">\n",
       "  <thead>\n",
       "    <tr style=\"text-align: right;\">\n",
       "      <th></th>\n",
       "      <th>col1</th>\n",
       "      <th>col2</th>\n",
       "    </tr>\n",
       "  </thead>\n",
       "  <tbody>\n",
       "    <tr>\n",
       "      <th>0</th>\n",
       "      <td>A</td>\n",
       "      <td>[x, y]</td>\n",
       "    </tr>\n",
       "    <tr>\n",
       "      <th>1</th>\n",
       "      <td>B</td>\n",
       "      <td>[z]</td>\n",
       "    </tr>\n",
       "    <tr>\n",
       "      <th>2</th>\n",
       "      <td>C</td>\n",
       "      <td>[p, q, x, y]</td>\n",
       "    </tr>\n",
       "    <tr>\n",
       "      <th>3</th>\n",
       "      <td>D</td>\n",
       "      <td>[q, z, t]</td>\n",
       "    </tr>\n",
       "  </tbody>\n",
       "</table>\n",
       "</div>"
      ],
      "text/plain": [
       "  col1          col2\n",
       "0    A        [x, y]\n",
       "1    B           [z]\n",
       "2    C  [p, q, x, y]\n",
       "3    D     [q, z, t]"
      ]
     },
     "execution_count": 195,
     "metadata": {},
     "output_type": "execute_result"
    }
   ],
   "source": [
    "df"
   ]
  },
  {
   "cell_type": "code",
   "execution_count": 210,
   "metadata": {},
   "outputs": [],
   "source": []
  },
  {
   "cell_type": "code",
   "execution_count": null,
   "metadata": {},
   "outputs": [],
   "source": []
  },
  {
   "cell_type": "code",
   "execution_count": 216,
   "metadata": {},
   "outputs": [
    {
     "data": {
      "text/plain": [
       "col1\n",
       "A    [x, y]\n",
       "B       [z]\n",
       "C    [q, p]\n",
       "D    [q, t]\n",
       "Name: col2, dtype: object"
      ]
     },
     "execution_count": 216,
     "metadata": {},
     "output_type": "execute_result"
    }
   ],
   "source": [
    "d_inv = {v:k for k,v in d.items()}\n",
    "\n",
    "df.explode('col2')\\\n",
    "  .replace(d)\\\n",
    "  .groupby('col1')['col2']\\\n",
    "  .nlargest(2)\\\n",
    "  .replace(d_inv)\\\n",
    "  .groupby(level=0)\\\n",
    "  .apply(list)\n",
    "\n",
    "col1\n",
    "A    [x, y]\n",
    "B       [z]\n",
    "C    [q, p]\n",
    "D    [q, t]\n",
    "Name: col2, dtype: object"
   ]
  },
  {
   "cell_type": "code",
   "execution_count": 207,
   "metadata": {},
   "outputs": [
    {
     "data": {
      "text/plain": [
       "{'x': 3, 'y': 2, 'z': 5, 'p': 4, 'q': 7, 't': 6}"
      ]
     },
     "execution_count": 207,
     "metadata": {},
     "output_type": "execute_result"
    }
   ],
   "source": []
  },
  {
   "cell_type": "code",
   "execution_count": null,
   "metadata": {},
   "outputs": [],
   "source": []
  },
  {
   "cell_type": "code",
   "execution_count": null,
   "metadata": {},
   "outputs": [],
   "source": []
  },
  {
   "cell_type": "code",
   "execution_count": null,
   "metadata": {},
   "outputs": [],
   "source": []
  },
  {
   "cell_type": "code",
   "execution_count": 172,
   "metadata": {},
   "outputs": [
    {
     "data": {
      "text/plain": [
       "0          [3, 2]\n",
       "1             [5]\n",
       "2    [4, 7, 3, 2]\n",
       "3       [7, 5, 6]\n",
       "Name: col2, dtype: object"
      ]
     },
     "execution_count": 172,
     "metadata": {},
     "output_type": "execute_result"
    }
   ],
   "source": [
    "df.col2.apply(lambda x: [d.get(i) for i in x])"
   ]
  },
  {
   "cell_type": "code",
   "execution_count": 217,
   "metadata": {},
   "outputs": [],
   "source": [
    "from collections import defaultdict"
   ]
  },
  {
   "cell_type": "code",
   "execution_count": 218,
   "metadata": {},
   "outputs": [],
   "source": [
    "d = defaultdict(dict)"
   ]
  },
  {
   "cell_type": "code",
   "execution_count": 257,
   "metadata": {},
   "outputs": [],
   "source": [
    "data1 = {'Height': {'Ajay': 145.830651784016,\n",
    "  'Bist': 145.91779226416696,\n",
    "  'Kay': 146.16402145150246}\n",
    "}\n",
    " \n",
    "data2 = {'Height': {'Kim': 155.830651784016,\n",
    "  'DDD': 155.91779226416696,\n",
    "  'Arambh': 156.16402145150246}\n",
    "}\n",
    "\n",
    "data3 = {'Height': {'Dong': 165.830651784016,\n",
    "  'Ding': 165.91779226416696,\n",
    "  'Dumba': 166.16402145150246}\n",
    "}"
   ]
  },
  {
   "cell_type": "code",
   "execution_count": 258,
   "metadata": {},
   "outputs": [],
   "source": []
  },
  {
   "cell_type": "code",
   "execution_count": 243,
   "metadata": {},
   "outputs": [
    {
     "data": {
      "text/plain": [
       "[dict_values([{'Ajay': 145.830651784016, 'Bist': 145.91779226416696, 'Kay': 146.16402145150246}]),\n",
       " dict_values([{'Kim': 155.830651784016, 'DDD': 155.91779226416696, 'Arambh': 156.16402145150246}]),\n",
       " dict_values([{'Dong': 165.830651784016, 'Ding': 165.91779226416696, 'Dumba': 166.16402145150246}])]"
      ]
     },
     "execution_count": 243,
     "metadata": {},
     "output_type": "execute_result"
    }
   ],
   "source": [
    "[i.values() for i in L]"
   ]
  },
  {
   "cell_type": "code",
   "execution_count": 251,
   "metadata": {},
   "outputs": [
    {
     "data": {
      "text/plain": [
       "dict_keys(['Height'])"
      ]
     },
     "execution_count": 251,
     "metadata": {},
     "output_type": "execute_result"
    }
   ],
   "source": [
    "dict(ChainMap(*L)).keys()"
   ]
  },
  {
   "cell_type": "code",
   "execution_count": 254,
   "metadata": {},
   "outputs": [],
   "source": [
    "from collections import ChainMap, defaultdict\n",
    "\n",
    "d = defaultdict(ChainMap)\n",
    "\n",
    "for key in dict(ChainMap(*L)).keys():\n",
    "    d[key] = dict(ChainMap(*[list(i.values())[0] for i in L]))\n",
    "    d = dict(d)\n",
    "    \n",
    "print(d)\n",
    "\n",
    "{'Height': {'Dong': 165.830651784016,\n",
    "  'Ding': 165.91779226416696,\n",
    "  'Dumba': 166.16402145150246,\n",
    "  'Kim': 155.830651784016,\n",
    "  'DDD': 155.91779226416696,\n",
    "  'Arambh': 156.16402145150246,\n",
    "  'Ajay': 145.830651784016,\n",
    "  'Bist': 145.91779226416696,\n",
    "  'Kay': 146.16402145150246}}"
   ]
  },
  {
   "cell_type": "code",
   "execution_count": null,
   "metadata": {},
   "outputs": [],
   "source": []
  },
  {
   "cell_type": "code",
   "execution_count": 272,
   "metadata": {},
   "outputs": [
    {
     "data": {
      "text/plain": [
       "{'Height': {'Ajay': 145.830651784016,\n",
       "  'Bist': 145.91779226416696,\n",
       "  'Kay': 146.16402145150246,\n",
       "  'Kim': 155.830651784016,\n",
       "  'DDD': 155.91779226416696,\n",
       "  'Arambh': 156.16402145150246,\n",
       "  'Dong': 165.830651784016,\n",
       "  'Ding': 165.91779226416696,\n",
       "  'Dumba': 166.16402145150246}}"
      ]
     },
     "execution_count": 272,
     "metadata": {},
     "output_type": "execute_result"
    }
   ],
   "source": [
    "from collections import ChainMap, defaultdict\n",
    "\n",
    "d = defaultdict(dict)\n",
    "\n",
    "for key in dict(ChainMap(*L)).keys():\n",
    "    for i in L:\n",
    "        d[key].update(i.get(key))\n",
    "        d = dict(d)\n",
    "\n",
    "d"
   ]
  },
  {
   "cell_type": "code",
   "execution_count": null,
   "metadata": {},
   "outputs": [],
   "source": []
  },
  {
   "cell_type": "code",
   "execution_count": null,
   "metadata": {},
   "outputs": [],
   "source": []
  },
  {
   "cell_type": "code",
   "execution_count": null,
   "metadata": {},
   "outputs": [],
   "source": []
  },
  {
   "cell_type": "code",
   "execution_count": 318,
   "metadata": {},
   "outputs": [
    {
     "data": {
      "text/plain": [
       "{'Dong': 165.830651784016,\n",
       " 'Ding': 165.91779226416696,\n",
       " 'Dumba': 166.16402145150246,\n",
       " 'Kim': 155.830651784016,\n",
       " 'DDD': 155.91779226416696,\n",
       " 'Arambh': 156.16402145150246,\n",
       " 'Ajay': 145.830651784016,\n",
       " 'Bist': 145.91779226416696,\n",
       " 'Kay': 146.16402145150246}"
      ]
     },
     "execution_count": 318,
     "metadata": {},
     "output_type": "execute_result"
    }
   ],
   "source": []
  },
  {
   "cell_type": "code",
   "execution_count": null,
   "metadata": {},
   "outputs": [],
   "source": []
  },
  {
   "cell_type": "code",
   "execution_count": null,
   "metadata": {},
   "outputs": [],
   "source": []
  },
  {
   "cell_type": "code",
   "execution_count": 321,
   "metadata": {},
   "outputs": [
    {
     "data": {
      "text/plain": [
       "{'Height': {'Dong': 165.830651784016,\n",
       "  'Ding': 165.91779226416696,\n",
       "  'Dumba': 166.16402145150246,\n",
       "  'Kim': 155.830651784016,\n",
       "  'DDD': 155.91779226416696,\n",
       "  'Arambh': 156.16402145150246,\n",
       "  'Ajay': 145.830651784016,\n",
       "  'Bist': 145.91779226416696,\n",
       "  'Kay': 146.16402145150246}}"
      ]
     },
     "execution_count": 321,
     "metadata": {},
     "output_type": "execute_result"
    }
   ],
   "source": [
    "{k:dict(ChainMap(*[i.get(k) for i in L])) for k in dict(ChainMap(*L)).keys()}"
   ]
  },
  {
   "cell_type": "code",
   "execution_count": 324,
   "metadata": {},
   "outputs": [
    {
     "name": "stdout",
     "output_type": "stream",
     "text": [
      "{'a': {'i': 1, 'j': 2, 'x': 1, 'y': 2}, 'b': {'w': 1, 'z': 2, 'l': 1, 'm': 2}}\n"
     ]
    }
   ],
   "source": [
    "d1 = {'a':{'x':1, 'y':2}, 'b':{'l':1, 'm':2}}\n",
    "d2 = {'a':{'i':1, 'j':2}, 'b':{'w':1, 'z':2}}\n",
    "\n",
    "L = [d1, d2]\n",
    "\n",
    "{k:dict(ChainMap(*[i.get(k) for i in L])) for k in dict(ChainMap(*L)).keys()}\n",
    "\n",
    "{'a': {'i': 1, 'j': 2, 'x': 1, 'y': 2}, 'b': {'w': 1, 'z': 2, 'l': 1, 'm': 2}}"
   ]
  },
  {
   "cell_type": "code",
   "execution_count": null,
   "metadata": {},
   "outputs": [],
   "source": []
  },
  {
   "cell_type": "code",
   "execution_count": null,
   "metadata": {},
   "outputs": [],
   "source": []
  },
  {
   "cell_type": "code",
   "execution_count": null,
   "metadata": {},
   "outputs": [],
   "source": [
    "        CITIES\n",
    "0       ['A','B']\n",
    "1       ['A','B','C','D']\n",
    "2       ['A','B','C']\n",
    "4       ['X']\n",
    "5       ['X','Y','Z']"
   ]
  },
  {
   "cell_type": "code",
   "execution_count": 345,
   "metadata": {},
   "outputs": [],
   "source": [
    "df = pd.read_clipboard()"
   ]
  },
  {
   "cell_type": "code",
   "execution_count": 348,
   "metadata": {},
   "outputs": [
    {
     "data": {
      "text/html": [
       "<div>\n",
       "<style scoped>\n",
       "    .dataframe tbody tr th:only-of-type {\n",
       "        vertical-align: middle;\n",
       "    }\n",
       "\n",
       "    .dataframe tbody tr th {\n",
       "        vertical-align: top;\n",
       "    }\n",
       "\n",
       "    .dataframe thead th {\n",
       "        text-align: right;\n",
       "    }\n",
       "</style>\n",
       "<table border=\"1\" class=\"dataframe\">\n",
       "  <thead>\n",
       "    <tr style=\"text-align: right;\">\n",
       "      <th></th>\n",
       "      <th>CITIES</th>\n",
       "    </tr>\n",
       "  </thead>\n",
       "  <tbody>\n",
       "    <tr>\n",
       "      <th>0</th>\n",
       "      <td>[A, B]</td>\n",
       "    </tr>\n",
       "    <tr>\n",
       "      <th>1</th>\n",
       "      <td>[A, B, C, D]</td>\n",
       "    </tr>\n",
       "    <tr>\n",
       "      <th>2</th>\n",
       "      <td>[A, B, C]</td>\n",
       "    </tr>\n",
       "    <tr>\n",
       "      <th>4</th>\n",
       "      <td>[X]</td>\n",
       "    </tr>\n",
       "    <tr>\n",
       "      <th>5</th>\n",
       "      <td>[X, Y, Z]</td>\n",
       "    </tr>\n",
       "  </tbody>\n",
       "</table>\n",
       "</div>"
      ],
      "text/plain": [
       "         CITIES\n",
       "0        [A, B]\n",
       "1  [A, B, C, D]\n",
       "2     [A, B, C]\n",
       "4           [X]\n",
       "5     [X, Y, Z]"
      ]
     },
     "execution_count": 348,
     "metadata": {},
     "output_type": "execute_result"
    }
   ],
   "source": [
    "df.CITIES = [eval(i) for i in df.CITIES]\n",
    "df"
   ]
  },
  {
   "cell_type": "code",
   "execution_count": 359,
   "metadata": {},
   "outputs": [
    {
     "data": {
      "text/html": [
       "<div>\n",
       "<style scoped>\n",
       "    .dataframe tbody tr th:only-of-type {\n",
       "        vertical-align: middle;\n",
       "    }\n",
       "\n",
       "    .dataframe tbody tr th {\n",
       "        vertical-align: top;\n",
       "    }\n",
       "\n",
       "    .dataframe thead th {\n",
       "        text-align: right;\n",
       "    }\n",
       "</style>\n",
       "<table border=\"1\" class=\"dataframe\">\n",
       "  <thead>\n",
       "    <tr style=\"text-align: right;\">\n",
       "      <th></th>\n",
       "      <th>0_A</th>\n",
       "      <th>0_X</th>\n",
       "      <th>1_B</th>\n",
       "      <th>1_Y</th>\n",
       "      <th>2_C</th>\n",
       "      <th>2_Z</th>\n",
       "      <th>3_D</th>\n",
       "    </tr>\n",
       "  </thead>\n",
       "  <tbody>\n",
       "    <tr>\n",
       "      <th>0</th>\n",
       "      <td>1</td>\n",
       "      <td>0</td>\n",
       "      <td>1</td>\n",
       "      <td>0</td>\n",
       "      <td>0</td>\n",
       "      <td>0</td>\n",
       "      <td>0</td>\n",
       "    </tr>\n",
       "    <tr>\n",
       "      <th>1</th>\n",
       "      <td>1</td>\n",
       "      <td>0</td>\n",
       "      <td>1</td>\n",
       "      <td>0</td>\n",
       "      <td>1</td>\n",
       "      <td>0</td>\n",
       "      <td>1</td>\n",
       "    </tr>\n",
       "    <tr>\n",
       "      <th>2</th>\n",
       "      <td>1</td>\n",
       "      <td>0</td>\n",
       "      <td>1</td>\n",
       "      <td>0</td>\n",
       "      <td>1</td>\n",
       "      <td>0</td>\n",
       "      <td>0</td>\n",
       "    </tr>\n",
       "    <tr>\n",
       "      <th>4</th>\n",
       "      <td>0</td>\n",
       "      <td>1</td>\n",
       "      <td>0</td>\n",
       "      <td>0</td>\n",
       "      <td>0</td>\n",
       "      <td>0</td>\n",
       "      <td>0</td>\n",
       "    </tr>\n",
       "    <tr>\n",
       "      <th>5</th>\n",
       "      <td>0</td>\n",
       "      <td>1</td>\n",
       "      <td>0</td>\n",
       "      <td>1</td>\n",
       "      <td>0</td>\n",
       "      <td>1</td>\n",
       "      <td>0</td>\n",
       "    </tr>\n",
       "  </tbody>\n",
       "</table>\n",
       "</div>"
      ],
      "text/plain": [
       "   0_A  0_X  1_B  1_Y  2_C  2_Z  3_D\n",
       "0    1    0    1    0    0    0    0\n",
       "1    1    0    1    0    1    0    1\n",
       "2    1    0    1    0    1    0    0\n",
       "4    0    1    0    0    0    0    0\n",
       "5    0    1    0    1    0    1    0"
      ]
     },
     "execution_count": 359,
     "metadata": {},
     "output_type": "execute_result"
    }
   ],
   "source": [
    "d = pd.get_dummies(df.CITIES.apply(pd.Series))\n",
    "d"
   ]
  },
  {
   "cell_type": "code",
   "execution_count": 370,
   "metadata": {},
   "outputs": [
    {
     "data": {
      "text/plain": [
       "index  CITIES\n",
       "0      A         1\n",
       "       B         1\n",
       "1      A         1\n",
       "       B         1\n",
       "       C         1\n",
       "       D         1\n",
       "2      A         1\n",
       "       B         1\n",
       "       C         1\n",
       "4      X         1\n",
       "5      X         1\n",
       "       Y         1\n",
       "       Z         1\n",
       "Name: n, dtype: int64"
      ]
     },
     "execution_count": 370,
     "metadata": {},
     "output_type": "execute_result"
    }
   ],
   "source": [
    "df.explode('CITIES').reset_index().assign(n=1).groupby(['index','CITIES'])['n'].sum()"
   ]
  },
  {
   "cell_type": "code",
   "execution_count": 427,
   "metadata": {},
   "outputs": [
    {
     "name": "stdout",
     "output_type": "stream",
     "text": [
      "  ID Name\n",
      "0  A    A\n",
      "0  A    B\n",
      "0  A    C\n",
      "1  B    C\n",
      "1  B    D\n",
      "2  C    A\n"
     ]
    }
   ],
   "source": [
    "df=pd.DataFrame({'ID':['A','B','C'],'Name':[['A','B','C'],['C','D'],['A']]})\n",
    "print(df.explode('Name'))"
   ]
  },
  {
   "cell_type": "code",
   "execution_count": null,
   "metadata": {},
   "outputs": [],
   "source": []
  },
  {
   "cell_type": "code",
   "execution_count": null,
   "metadata": {},
   "outputs": [],
   "source": []
  },
  {
   "cell_type": "code",
   "execution_count": null,
   "metadata": {},
   "outputs": [],
   "source": []
  },
  {
   "cell_type": "code",
   "execution_count": null,
   "metadata": {},
   "outputs": [],
   "source": []
  },
  {
   "cell_type": "code",
   "execution_count": 539,
   "metadata": {},
   "outputs": [
    {
     "data": {
      "text/plain": [
       "array([[ 0,  4,  8],\n",
       "       [ 9, 13, 17]])"
      ]
     },
     "execution_count": 539,
     "metadata": {},
     "output_type": "execute_result"
    }
   ],
   "source": [
    "a = np.arange(0,2*3*3).reshape(2,3,3)\n",
    "\n",
    "# array([[[ 0,  1,  2],\n",
    "#         [ 3,  4,  5],\n",
    "#         [ 6,  7,  8]],\n",
    "\n",
    "#        [[ 9, 10, 11],\n",
    "#         [12, 13, 14],\n",
    "#         [15, 16, 17]]])\n",
    "\n",
    "a.diagonal(axis1=1, axis2=2)\n",
    "\n",
    "# array([[ 0,  4,  8],\n",
    "#        [ 9, 13, 17]])"
   ]
  },
  {
   "cell_type": "code",
   "execution_count": 531,
   "metadata": {},
   "outputs": [
    {
     "data": {
      "text/plain": [
       "array([[[0., 0., 0.],\n",
       "        [0., 0., 0.],\n",
       "        [0., 0., 0.]],\n",
       "\n",
       "       [[0., 0., 0.],\n",
       "        [0., 0., 0.],\n",
       "        [0., 0., 0.]],\n",
       "\n",
       "       [[1., 0., 0.],\n",
       "        [0., 1., 0.],\n",
       "        [0., 0., 1.]]])"
      ]
     },
     "execution_count": 531,
     "metadata": {},
     "output_type": "execute_result"
    }
   ],
   "source": [
    "a = np.zeros((3,3,3))\n",
    "i,j = np.diag_indices(3)\n",
    "a[:,i,j] = dv[:,None]\n",
    "a"
   ]
  },
  {
   "cell_type": "code",
   "execution_count": null,
   "metadata": {},
   "outputs": [],
   "source": []
  },
  {
   "cell_type": "code",
   "execution_count": null,
   "metadata": {},
   "outputs": [],
   "source": []
  },
  {
   "cell_type": "code",
   "execution_count": null,
   "metadata": {},
   "outputs": [],
   "source": []
  },
  {
   "cell_type": "code",
   "execution_count": 817,
   "metadata": {},
   "outputs": [],
   "source": [
    "m1=np.array([[0.1 , 0.12, 0.32],\n",
    "       [0.22, 0.15, 0.16],\n",
    "       [0.42, 0.52, 0.62],\n",
    "       [0.44, 0.35, 0.36]])\n",
    "\n",
    "m2=np.array([[0.12 , 0.144, 0.384],\n",
    "       [0.264, 0.18 , 0.192],\n",
    "       [0.504, 0.624, 0.744],\n",
    "       [0.528, 0.42 , 0.432]])\n",
    "\n",
    "m3=np.array([[0.106 , 0.1272, 0.3392],\n",
    "       [0.2332, 0.159 , 0.1696],\n",
    "       [0.4452, 0.5512, 0.6572],\n",
    "       [0.4664, 0.371 , 0.3816]])\n",
    "\n",
    "delta_m1  = 2\n",
    "delta_m2 = 5\n",
    "delta_m3 = 10"
   ]
  },
  {
   "cell_type": "code",
   "execution_count": 818,
   "metadata": {},
   "outputs": [
    {
     "data": {
      "text/plain": [
       "array([[[0.10713757, 0.12856508, 0.34284022],\n",
       "        [0.23570265, 0.16070635, 0.17142011],\n",
       "        [0.44997779, 0.55711536, 0.66425293],\n",
       "        [0.4714053 , 0.37498149, 0.38569525]],\n",
       "\n",
       "       [[0.10847502, 0.13017003, 0.34712007],\n",
       "        [0.23864505, 0.16271253, 0.17356004],\n",
       "        [0.4555951 , 0.56407012, 0.67254514],\n",
       "        [0.4772901 , 0.37966258, 0.39051008]],\n",
       "\n",
       "       [[0.11017182, 0.13220618, 0.35254982],\n",
       "        [0.242378  , 0.16525773, 0.17627491],\n",
       "        [0.46272164, 0.57289345, 0.68306527],\n",
       "        [0.484756  , 0.38560136, 0.39661854]]])"
      ]
     },
     "execution_count": 818,
     "metadata": {},
     "output_type": "execute_result"
    }
   ],
   "source": [
    "#Stack all the matrices (because similar shape)\n",
    "M = np.stack([m1, m2, m3])                   #(3, 4, 3)\n",
    "D = np.stack([delta_m1, delta_m2, delta_m3]) #(3,)\n",
    "\n",
    "##################### FUNCTION ######################\n",
    "k=20\n",
    "\n",
    "def local_regression(x0, X, Y, k):\n",
    "    # add bias term\n",
    "    x0 = np.r_[1, x0]\n",
    "    X = np.c_[np.ones(len(X)), X]\n",
    "    \n",
    "    # fit model: normal equations with kernel\n",
    "    xw = X.T * radial_kernel(x0, X, k)\n",
    "    beta = np.linalg.pinv(xw @ X) @ xw @ Y\n",
    "    \n",
    "    # predict value\n",
    "    return x0 @ beta\n",
    "\n",
    "def radial_kernel(x0, X, k):\n",
    "    return np.exp(np.sum((X - x0) ** 2, axis=1) / (-2 * k * k))\n",
    "\n",
    "def smooth(x,y):\n",
    "    return np.array([local_regression(x[p],x,y,k) for p in range(len(x))])\n",
    "\n",
    "smooth_v = np.vectorize(smooth, signature='(i),(i)->(i)')\n",
    "##################################################\n",
    "\n",
    "#smooth(D,M[:,0,0])\n",
    "smooth_v(D[None, None,:], M.transpose(2,1,0)).transpose(2,1,0)  #(3,4,3)"
   ]
  },
  {
   "cell_type": "code",
   "execution_count": 820,
   "metadata": {},
   "outputs": [
    {
     "data": {
      "text/plain": [
       "array([[[0.1   , 0.12  , 0.32  ],\n",
       "        [0.22  , 0.15  , 0.16  ],\n",
       "        [0.42  , 0.52  , 0.62  ],\n",
       "        [0.44  , 0.35  , 0.36  ]],\n",
       "\n",
       "       [[0.12  , 0.144 , 0.384 ],\n",
       "        [0.264 , 0.18  , 0.192 ],\n",
       "        [0.504 , 0.624 , 0.744 ],\n",
       "        [0.528 , 0.42  , 0.432 ]],\n",
       "\n",
       "       [[0.106 , 0.1272, 0.3392],\n",
       "        [0.2332, 0.159 , 0.1696],\n",
       "        [0.4452, 0.5512, 0.6572],\n",
       "        [0.4664, 0.371 , 0.3816]]])"
      ]
     },
     "execution_count": 820,
     "metadata": {},
     "output_type": "execute_result"
    }
   ],
   "source": [
    "M"
   ]
  },
  {
   "cell_type": "code",
   "execution_count": 819,
   "metadata": {},
   "outputs": [
    {
     "data": {
      "text/plain": [
       "array([5.14556944, 6.34810085, 5.50632924])"
      ]
     },
     "execution_count": 819,
     "metadata": {},
     "output_type": "execute_result"
    }
   ],
   "source": [
    "y = np.array([2,5,10])\n",
    "x = np.array([0.1,0.12,0.106])\n",
    "smooth(x,y)"
   ]
  },
  {
   "cell_type": "code",
   "execution_count": null,
   "metadata": {},
   "outputs": [],
   "source": []
  },
  {
   "cell_type": "code",
   "execution_count": null,
   "metadata": {},
   "outputs": [],
   "source": []
  },
  {
   "cell_type": "code",
   "execution_count": null,
   "metadata": {},
   "outputs": [],
   "source": []
  },
  {
   "cell_type": "code",
   "execution_count": 762,
   "metadata": {},
   "outputs": [
    {
     "data": {
      "text/plain": [
       "array([0.1  , 0.12 , 0.106])"
      ]
     },
     "execution_count": 762,
     "metadata": {},
     "output_type": "execute_result"
    }
   ],
   "source": [
    "M[:,0,0]"
   ]
  },
  {
   "cell_type": "code",
   "execution_count": 761,
   "metadata": {},
   "outputs": [
    {
     "data": {
      "text/plain": [
       "(3,)"
      ]
     },
     "execution_count": 761,
     "metadata": {},
     "output_type": "execute_result"
    }
   ],
   "source": [
    "M[:,0,0].shape"
   ]
  },
  {
   "cell_type": "code",
   "execution_count": 763,
   "metadata": {},
   "outputs": [
    {
     "data": {
      "text/plain": [
       "array([[[0.1   , 0.12  , 0.32  ],\n",
       "        [0.22  , 0.15  , 0.16  ],\n",
       "        [0.42  , 0.52  , 0.62  ],\n",
       "        [0.44  , 0.35  , 0.36  ]],\n",
       "\n",
       "       [[0.12  , 0.144 , 0.384 ],\n",
       "        [0.264 , 0.18  , 0.192 ],\n",
       "        [0.504 , 0.624 , 0.744 ],\n",
       "        [0.528 , 0.42  , 0.432 ]],\n",
       "\n",
       "       [[0.106 , 0.1272, 0.3392],\n",
       "        [0.2332, 0.159 , 0.1696],\n",
       "        [0.4452, 0.5512, 0.6572],\n",
       "        [0.4664, 0.371 , 0.3816]]])"
      ]
     },
     "execution_count": 763,
     "metadata": {},
     "output_type": "execute_result"
    }
   ],
   "source": [
    "M"
   ]
  },
  {
   "cell_type": "code",
   "execution_count": 764,
   "metadata": {},
   "outputs": [
    {
     "data": {
      "text/plain": [
       "(3, 4, 3)"
      ]
     },
     "execution_count": 764,
     "metadata": {},
     "output_type": "execute_result"
    }
   ],
   "source": [
    "M.shape"
   ]
  },
  {
   "cell_type": "code",
   "execution_count": null,
   "metadata": {},
   "outputs": [],
   "source": []
  },
  {
   "cell_type": "code",
   "execution_count": null,
   "metadata": {},
   "outputs": [],
   "source": []
  },
  {
   "cell_type": "code",
   "execution_count": 749,
   "metadata": {
    "scrolled": true
   },
   "outputs": [
    {
     "data": {
      "text/plain": [
       "<numpy.vectorize at 0x7f8da5df7b20>"
      ]
     },
     "execution_count": 749,
     "metadata": {},
     "output_type": "execute_result"
    }
   ],
   "source": [
    "smooth_v"
   ]
  },
  {
   "cell_type": "code",
   "execution_count": null,
   "metadata": {},
   "outputs": [],
   "source": []
  },
  {
   "cell_type": "code",
   "execution_count": null,
   "metadata": {},
   "outputs": [],
   "source": []
  },
  {
   "cell_type": "code",
   "execution_count": null,
   "metadata": {},
   "outputs": [],
   "source": []
  },
  {
   "cell_type": "code",
   "execution_count": 732,
   "metadata": {},
   "outputs": [
    {
     "data": {
      "text/plain": [
       "(3, 1, 1)"
      ]
     },
     "execution_count": 732,
     "metadata": {},
     "output_type": "execute_result"
    }
   ],
   "source": [
    "D[:,None, None].shape"
   ]
  },
  {
   "cell_type": "code",
   "execution_count": 719,
   "metadata": {},
   "outputs": [
    {
     "data": {
      "text/plain": [
       "array([0.1  , 0.12 , 0.106])"
      ]
     },
     "execution_count": 719,
     "metadata": {},
     "output_type": "execute_result"
    }
   ],
   "source": [
    "M[:,0,0]"
   ]
  },
  {
   "cell_type": "code",
   "execution_count": 724,
   "metadata": {},
   "outputs": [
    {
     "data": {
      "text/plain": [
       "array([[[0.1   , 0.12  , 0.106 ],\n",
       "        [0.22  , 0.264 , 0.2332],\n",
       "        [0.42  , 0.504 , 0.4452],\n",
       "        [0.44  , 0.528 , 0.4664]],\n",
       "\n",
       "       [[0.12  , 0.144 , 0.1272],\n",
       "        [0.15  , 0.18  , 0.159 ],\n",
       "        [0.52  , 0.624 , 0.5512],\n",
       "        [0.35  , 0.42  , 0.371 ]],\n",
       "\n",
       "       [[0.32  , 0.384 , 0.3392],\n",
       "        [0.16  , 0.192 , 0.1696],\n",
       "        [0.62  , 0.744 , 0.6572],\n",
       "        [0.36  , 0.432 , 0.3816]]])"
      ]
     },
     "execution_count": 724,
     "metadata": {},
     "output_type": "execute_result"
    }
   ],
   "source": []
  },
  {
   "cell_type": "code",
   "execution_count": null,
   "metadata": {},
   "outputs": [],
   "source": []
  },
  {
   "cell_type": "code",
   "execution_count": null,
   "metadata": {},
   "outputs": [],
   "source": []
  },
  {
   "cell_type": "code",
   "execution_count": 705,
   "metadata": {},
   "outputs": [
    {
     "data": {
      "text/plain": [
       "[5.145568903540788, 6.3480995934956015, 5.506329615622455]"
      ]
     },
     "execution_count": 705,
     "metadata": {},
     "output_type": "execute_result"
    }
   ],
   "source": [
    "\n",
    "\n",
    "def local_regression(x0, X, Y, k):\n",
    "    # add bias term\n",
    "    x0 = np.r_[1, x0]\n",
    "    X = np.c_[np.ones(len(X)), X]\n",
    "    \n",
    "    # fit model: normal equations with kernel\n",
    "    xw = X.T * radial_kernel(x0, X, k)\n",
    "    beta = np.linalg.pinv(xw @ X) @ xw @ Y\n",
    "    \n",
    "    # predict value\n",
    "    return x0 @ beta\n",
    "\n",
    "def radial_kernel(x0, X, k):\n",
    "    return np.exp(np.sum((X - x0) ** 2, axis=1) / (-2 * k * k))\n",
    "\n",
    "def smooth(x,y):\n",
    "    x = np.array(x)\n",
    "    y = np.array(y)\n",
    "    return [local_regression(x[p],x,y,k) for p in ]\n",
    "\n",
    "y = np.array([2,5,10])\n",
    "x = np.array([0.1,0.12,0.106])\n",
    "smooth(x,y)"
   ]
  },
  {
   "cell_type": "code",
   "execution_count": null,
   "metadata": {},
   "outputs": [],
   "source": []
  },
  {
   "cell_type": "code",
   "execution_count": null,
   "metadata": {},
   "outputs": [],
   "source": []
  },
  {
   "cell_type": "code",
   "execution_count": null,
   "metadata": {},
   "outputs": [],
   "source": []
  },
  {
   "cell_type": "code",
   "execution_count": null,
   "metadata": {},
   "outputs": [],
   "source": []
  },
  {
   "cell_type": "code",
   "execution_count": null,
   "metadata": {},
   "outputs": [],
   "source": []
  },
  {
   "cell_type": "code",
   "execution_count": 579,
   "metadata": {},
   "outputs": [
    {
     "data": {
      "image/png": "[encoded data removed]",
      "text/plain": [
       "<Figure size 432x288 with 1 Axes>"
      ]
     },
     "metadata": {
      "needs_background": "light"
     },
     "output_type": "display_data"
    }
   ],
   "source": [
    "import pandas as pd\n",
    "import matplotlib.pyplot as plt\n",
    "import numpy as np\n",
    "\n",
    "# generate the dots that we want to lookup\n",
    "# this is just a sin wave for this example\n",
    "# my real data doesn't match a nice arithmatic curve\n",
    "x1 = np.arange(0.0, 2.0, 0.1)\n",
    "\n",
    "f = lambda x: 1 + np.sin(2 * np.pi * x)\n",
    "y1 = f(x1)\n",
    "df1 = pd.DataFrame({'x': x1, 'y': y1})\n",
    "\n",
    "plt.plot(df1['x'], df1['y'], label='reference', c='blue')\n",
    "\n",
    "df2 = pd.DataFrame({'x': np.arange(0.0, 2.0, 0.06)})\n",
    "\n",
    "# Now apply df1 as a function\n",
    "# df2['y'] = f(df2['x'])\n",
    "# This is the bit I don't know how to do\n",
    "# this code is close, but not good enough\n",
    "# and also not flexible enough since it assumes df1['x'] is evenly spaced\n",
    "df2['y'] = (df2['x'] - (df2['x'] % 0.1)).map(df1.set_index('x')['y'])\n",
    "df2['y2'] = (df2['x'] - (df2['x'] % 0.1)).map(f)\n",
    "\n",
    "plt.scatter(df2['x'], df2['y'], label='fitted', c='red')\n",
    "plt.scatter(df2['x'], df2['y2'], label='new', c='green')\n",
    "\n",
    "plt.legend()\n",
    "plt.show()"
   ]
  },
  {
   "cell_type": "code",
   "execution_count": 674,
   "metadata": {},
   "outputs": [
    {
     "data": {
      "text/plain": [
       "<matplotlib.legend.Legend at 0x7f8da88914c0>"
      ]
     },
     "execution_count": 674,
     "metadata": {},
     "output_type": "execute_result"
    },
    {
     "data": {
      "image/png": "[encoded data removed]",
      "text/plain": [
       "<Figure size 432x288 with 1 Axes>"
      ]
     },
     "metadata": {
      "needs_background": "light"
     },
     "output_type": "display_data"
    }
   ],
   "source": [
    "import pandas as pd\n",
    "import matplotlib.pyplot as plt\n",
    "import numpy as np\n",
    "\n",
    "# generate the dots that we want to lookup\n",
    "# this is just a sin wave for this example\n",
    "# my real data doesn't match a nice arithmatic curve\n",
    "x1 = np.arange(0.0, 2.0, 0.1)\n",
    "f = lambda x: 1 + np.sin(2 * np.pi * x)\n",
    "y1 = f(x1)\n",
    "\n",
    "df1 = pd.DataFrame({'x': x1, 'y': y1})\n",
    "\n",
    "plt.plot(df1['x'], df1['y'], 'x-', label='reference', c='blue')\n",
    "\n",
    "df2 = pd.DataFrame({'x': np.arange(0.0, 2.0, 0.06)})\n",
    "\n",
    "# Now apply df1 as a function\n",
    "# df2['y'] = f(df2['x'])\n",
    "# This is the bit I don't know how to do\n",
    "# this code is close, but not good enough\n",
    "# and also not flexible enough since it assumes df1['x'] is evenly spaced\n",
    "df2['y'] = (df2['x'] - (df2['x'] % 0.1)).map(f)\n",
    "\n",
    "plt.scatter(df2['x'], df2['y'], label='fitted', c='red')\n",
    "\n",
    "plt.legend()"
   ]
  },
  {
   "cell_type": "code",
   "execution_count": 675,
   "metadata": {},
   "outputs": [],
   "source": [
    "df2 = pd.merge_asof(df1, df2, on='x', direction='nearest')\n",
    "print(df2)"
   ]
  },
  {
   "cell_type": "code",
   "execution_count": 677,
   "metadata": {},
   "outputs": [
    {
     "name": "stdout",
     "output_type": "stream",
     "text": [
      "      x       y_x       y_y\n",
      "0   0.0  1.000000  1.000000\n",
      "1   0.1  1.587785  1.587785\n",
      "2   0.2  1.951057  1.587785\n",
      "3   0.3  1.951057  1.951057\n",
      "4   0.4  1.587785  1.587785\n",
      "5   0.5  1.000000  1.587785\n",
      "6   0.6  0.412215  1.000000\n",
      "7   0.7  0.048943  0.048943\n",
      "8   0.8  0.048943  0.048943\n",
      "9   0.9  0.412215  0.048943\n",
      "10  1.0  1.000000  1.000000\n",
      "11  1.1  1.587785  1.000000\n",
      "12  1.2  1.951057  1.587785\n",
      "13  1.3  1.951057  1.951057\n",
      "14  1.4  1.587785  1.951057\n",
      "15  1.5  1.000000  1.587785\n",
      "16  1.6  0.412215  0.412215\n",
      "17  1.7  0.048943  0.412215\n",
      "18  1.8  0.048943  0.048943\n",
      "19  1.9  0.412215  0.412215\n"
     ]
    }
   ],
   "source": []
  },
  {
   "cell_type": "code",
   "execution_count": null,
   "metadata": {},
   "outputs": [],
   "source": []
  },
  {
   "cell_type": "code",
   "execution_count": null,
   "metadata": {},
   "outputs": [],
   "source": []
  },
  {
   "cell_type": "code",
   "execution_count": null,
   "metadata": {},
   "outputs": [],
   "source": []
  },
  {
   "cell_type": "code",
   "execution_count": 607,
   "metadata": {},
   "outputs": [
    {
     "name": "stdout",
     "output_type": "stream",
     "text": [
      "Arange:\n",
      "[0.0, 0.1, 0.2, 0.30000000000000004, 0.4, 0.5, 0.6000000000000001, 0.7000000000000001, 0.8, 0.9, 1.0, 1.1, 1.2000000000000002, 1.3, 1.4000000000000001, 1.5, 1.6, 1.7000000000000002, 1.8, 1.9000000000000001]\n",
      "Linspace:\n",
      "[0.0, 0.10526315789473684, 0.21052631578947367, 0.3157894736842105, 0.42105263157894735, 0.5263157894736842, 0.631578947368421, 0.7368421052631579, 0.8421052631578947, 0.9473684210526315, 1.0526315789473684, 1.1578947368421053, 1.263157894736842, 1.3684210526315788, 1.4736842105263157, 1.5789473684210527, 1.6842105263157894, 1.789473684210526, 1.894736842105263, 2.0]\n"
     ]
    }
   ],
   "source": [
    "print('Arange:')\n",
    "print(list(np.arange(0.0, 2.0, 0.1)))\n",
    "print('Linspace:')\n",
    "print(list(np.linspace(0, 2, 20)))"
   ]
  },
  {
   "cell_type": "code",
   "execution_count": 603,
   "metadata": {},
   "outputs": [
    {
     "data": {
      "text/plain": [
       "array([0.        , 0.10526316, 0.21052632, 0.31578947, 0.42105263,\n",
       "       0.52631579, 0.63157895, 0.73684211, 0.84210526, 0.94736842,\n",
       "       1.05263158, 1.15789474, 1.26315789, 1.36842105, 1.47368421,\n",
       "       1.57894737, 1.68421053, 1.78947368, 1.89473684, 2.        ])"
      ]
     },
     "execution_count": 603,
     "metadata": {},
     "output_type": "execute_result"
    }
   ],
   "source": []
  },
  {
   "cell_type": "code",
   "execution_count": 601,
   "metadata": {},
   "outputs": [
    {
     "data": {
      "text/plain": [
       "<matplotlib.collections.PathCollection at 0x7f8da81a8490>"
      ]
     },
     "execution_count": 601,
     "metadata": {},
     "output_type": "execute_result"
    },
    {
     "data": {
      "image/png": "[encoded data removed]",
      "text/plain": [
       "<Figure size 432x288 with 1 Axes>"
      ]
     },
     "metadata": {
      "needs_background": "light"
     },
     "output_type": "display_data"
    }
   ],
   "source": [
    "#Original curve\n",
    "x = np.linspace(0,2,1000)\n",
    "y = f(x)\n",
    "\n",
    "plt.plot(x, y, label='reference', c='blue')\n",
    "\n",
    "\n",
    "#Old Fitted\n",
    "shp = np.arange(0.0, 2.0, 0.1).shape[0] #Using linspace to avoid rounding errors\n",
    "x1 = np.linspace(0.0, 2.0, shp)\n",
    "y1 = f(x1)\n",
    "\n",
    "plt.scatter(x1, y1, label='fitted', c='green')\n",
    "\n",
    "\n",
    "#New fitted\n",
    "shp = np.arange(0.0, 2.0, 0.06).shape[0] #Using linspace to avoid rounding errors\n",
    "x2 = np.linspace(0.0, 2.0, shp)\n",
    "y2 = f(x2)\n",
    "\n",
    "plt.scatter(x2, y2, label='fitted', c='red')"
   ]
  },
  {
   "cell_type": "code",
   "execution_count": 600,
   "metadata": {},
   "outputs": [
    {
     "data": {
      "text/plain": [
       "(34,)"
      ]
     },
     "execution_count": 600,
     "metadata": {},
     "output_type": "execute_result"
    }
   ],
   "source": [
    "np.arange(0.0, 2.0, 0.06).shape"
   ]
  },
  {
   "cell_type": "code",
   "execution_count": 591,
   "metadata": {},
   "outputs": [
    {
     "data": {
      "text/plain": [
       "array([0.        , 0.06060606, 0.12121212, 0.18181818, 0.24242424,\n",
       "       0.3030303 , 0.36363636, 0.42424242, 0.48484848, 0.54545455,\n",
       "       0.60606061, 0.66666667, 0.72727273, 0.78787879, 0.84848485,\n",
       "       0.90909091, 0.96969697, 1.03030303, 1.09090909, 1.15151515,\n",
       "       1.21212121, 1.27272727, 1.33333333, 1.39393939, 1.45454545,\n",
       "       1.51515152, 1.57575758, 1.63636364, 1.6969697 , 1.75757576,\n",
       "       1.81818182, 1.87878788, 1.93939394, 2.        ])"
      ]
     },
     "execution_count": 591,
     "metadata": {},
     "output_type": "execute_result"
    }
   ],
   "source": [
    "np.linspace(0.0, 2.0, 34)"
   ]
  },
  {
   "cell_type": "code",
   "execution_count": null,
   "metadata": {},
   "outputs": [],
   "source": []
  },
  {
   "cell_type": "code",
   "execution_count": null,
   "metadata": {},
   "outputs": [],
   "source": []
  },
  {
   "cell_type": "code",
   "execution_count": 583,
   "metadata": {},
   "outputs": [
    {
     "data": {
      "text/html": [
       "<div>\n",
       "<style scoped>\n",
       "    .dataframe tbody tr th:only-of-type {\n",
       "        vertical-align: middle;\n",
       "    }\n",
       "\n",
       "    .dataframe tbody tr th {\n",
       "        vertical-align: top;\n",
       "    }\n",
       "\n",
       "    .dataframe thead th {\n",
       "        text-align: right;\n",
       "    }\n",
       "</style>\n",
       "<table border=\"1\" class=\"dataframe\">\n",
       "  <thead>\n",
       "    <tr style=\"text-align: right;\">\n",
       "      <th></th>\n",
       "      <th>x</th>\n",
       "      <th>y</th>\n",
       "    </tr>\n",
       "  </thead>\n",
       "  <tbody>\n",
       "    <tr>\n",
       "      <th>0</th>\n",
       "      <td>0.0</td>\n",
       "      <td>1.000000</td>\n",
       "    </tr>\n",
       "    <tr>\n",
       "      <th>1</th>\n",
       "      <td>0.1</td>\n",
       "      <td>1.587785</td>\n",
       "    </tr>\n",
       "    <tr>\n",
       "      <th>2</th>\n",
       "      <td>0.2</td>\n",
       "      <td>1.951057</td>\n",
       "    </tr>\n",
       "    <tr>\n",
       "      <th>3</th>\n",
       "      <td>0.3</td>\n",
       "      <td>1.951057</td>\n",
       "    </tr>\n",
       "    <tr>\n",
       "      <th>4</th>\n",
       "      <td>0.4</td>\n",
       "      <td>1.587785</td>\n",
       "    </tr>\n",
       "    <tr>\n",
       "      <th>5</th>\n",
       "      <td>0.5</td>\n",
       "      <td>1.000000</td>\n",
       "    </tr>\n",
       "    <tr>\n",
       "      <th>6</th>\n",
       "      <td>0.6</td>\n",
       "      <td>0.412215</td>\n",
       "    </tr>\n",
       "    <tr>\n",
       "      <th>7</th>\n",
       "      <td>0.7</td>\n",
       "      <td>0.048943</td>\n",
       "    </tr>\n",
       "    <tr>\n",
       "      <th>8</th>\n",
       "      <td>0.8</td>\n",
       "      <td>0.048943</td>\n",
       "    </tr>\n",
       "    <tr>\n",
       "      <th>9</th>\n",
       "      <td>0.9</td>\n",
       "      <td>0.412215</td>\n",
       "    </tr>\n",
       "    <tr>\n",
       "      <th>10</th>\n",
       "      <td>1.0</td>\n",
       "      <td>1.000000</td>\n",
       "    </tr>\n",
       "    <tr>\n",
       "      <th>11</th>\n",
       "      <td>1.1</td>\n",
       "      <td>1.587785</td>\n",
       "    </tr>\n",
       "    <tr>\n",
       "      <th>12</th>\n",
       "      <td>1.2</td>\n",
       "      <td>1.951057</td>\n",
       "    </tr>\n",
       "    <tr>\n",
       "      <th>13</th>\n",
       "      <td>1.3</td>\n",
       "      <td>1.951057</td>\n",
       "    </tr>\n",
       "    <tr>\n",
       "      <th>14</th>\n",
       "      <td>1.4</td>\n",
       "      <td>1.587785</td>\n",
       "    </tr>\n",
       "    <tr>\n",
       "      <th>15</th>\n",
       "      <td>1.5</td>\n",
       "      <td>1.000000</td>\n",
       "    </tr>\n",
       "    <tr>\n",
       "      <th>16</th>\n",
       "      <td>1.6</td>\n",
       "      <td>0.412215</td>\n",
       "    </tr>\n",
       "    <tr>\n",
       "      <th>17</th>\n",
       "      <td>1.7</td>\n",
       "      <td>0.048943</td>\n",
       "    </tr>\n",
       "    <tr>\n",
       "      <th>18</th>\n",
       "      <td>1.8</td>\n",
       "      <td>0.048943</td>\n",
       "    </tr>\n",
       "    <tr>\n",
       "      <th>19</th>\n",
       "      <td>1.9</td>\n",
       "      <td>0.412215</td>\n",
       "    </tr>\n",
       "  </tbody>\n",
       "</table>\n",
       "</div>"
      ],
      "text/plain": [
       "      x         y\n",
       "0   0.0  1.000000\n",
       "1   0.1  1.587785\n",
       "2   0.2  1.951057\n",
       "3   0.3  1.951057\n",
       "4   0.4  1.587785\n",
       "5   0.5  1.000000\n",
       "6   0.6  0.412215\n",
       "7   0.7  0.048943\n",
       "8   0.8  0.048943\n",
       "9   0.9  0.412215\n",
       "10  1.0  1.000000\n",
       "11  1.1  1.587785\n",
       "12  1.2  1.951057\n",
       "13  1.3  1.951057\n",
       "14  1.4  1.587785\n",
       "15  1.5  1.000000\n",
       "16  1.6  0.412215\n",
       "17  1.7  0.048943\n",
       "18  1.8  0.048943\n",
       "19  1.9  0.412215"
      ]
     },
     "execution_count": 583,
     "metadata": {},
     "output_type": "execute_result"
    }
   ],
   "source": [
    "df1"
   ]
  },
  {
   "cell_type": "code",
   "execution_count": 625,
   "metadata": {},
   "outputs": [],
   "source": [
    "f = lambda x: 1 + np.sin(2 * np.pi * x)\n",
    "x1 = np.linspace(0.0, 2.0, 20)\n",
    "y1 = f(x1)"
   ]
  },
  {
   "cell_type": "code",
   "execution_count": 626,
   "metadata": {},
   "outputs": [],
   "source": [
    "estimates = np.polyfit(x1,y1,2)\n",
    "f_estimates = lambda x, p: p[2]*x**2 + p[1]*x + p[0]"
   ]
  },
  {
   "cell_type": "code",
   "execution_count": 627,
   "metadata": {},
   "outputs": [],
   "source": [
    "y1_interp = f_estimates(y1, estimates)"
   ]
  },
  {
   "cell_type": "code",
   "execution_count": 628,
   "metadata": {},
   "outputs": [
    {
     "data": {
      "text/plain": [
       "[<matplotlib.lines.Line2D at 0x7f8da6971b50>]"
      ]
     },
     "execution_count": 628,
     "metadata": {},
     "output_type": "execute_result"
    },
    {
     "data": {
      "image/png": "[encoded data removed]",
      "text/plain": [
       "<Figure size 432x288 with 1 Axes>"
      ]
     },
     "metadata": {
      "needs_background": "light"
     },
     "output_type": "display_data"
    }
   ],
   "source": [
    "plt.plot(x1, y1, label='reference', c='blue')\n",
    "plt.plot(x1, y1_interp, label='reference', c='red')"
   ]
  },
  {
   "cell_type": "code",
   "execution_count": null,
   "metadata": {},
   "outputs": [],
   "source": []
  },
  {
   "cell_type": "code",
   "execution_count": 673,
   "metadata": {},
   "outputs": [
    {
     "data": {
      "text/plain": [
       "<matplotlib.collections.PathCollection at 0x7f8da8778790>"
      ]
     },
     "execution_count": 673,
     "metadata": {},
     "output_type": "execute_result"
    },
    {
     "data": {
      "image/png": "[encoded data removed]",
      "text/plain": [
       "<Figure size 432x288 with 1 Axes>"
      ]
     },
     "metadata": {
      "needs_background": "light"
     },
     "output_type": "display_data"
    }
   ],
   "source": [
    "x1 = np.linspace(0, 2, 20) #points at 0.1 distance\n",
    "x2 = np.linspace(0, 2, 34) #points at 0.06 distance\n",
    "\n",
    "df1 = pd.DataFrame({'A':'x1', 'x':x1, 'y':f(x1)})  #dataframe with filled values\n",
    "df2 = pd.DataFrame({'A':'x2', 'x':x2, 'y':np.nan}) #dataframe with nans\n",
    "\n",
    "df3 = pd.concat([df1, df2]).sort_values('x')  #Vertically combine and sort values\n",
    "df3['y_new'] = df3['y'].interpolate()         #Fill the nans by interpolation\n",
    "df4 = df3[df3['A']=='x2']                     #Split the 0.06, interpolated values to another dataframe\n",
    "\n",
    "#Plot all 3\n",
    "plt.plot(x, y, label='reference', c='green')  #original function\n",
    "plt.scatter(df1['x'], df1['y'], label='fitted', c='blue')  # points at 0.1\n",
    "plt.scatter(df4['x'], df4['y_new'], label='fitted', c='red') #interpolated points at 0.06"
   ]
  },
  {
   "cell_type": "code",
   "execution_count": 668,
   "metadata": {},
   "outputs": [],
   "source": []
  },
  {
   "cell_type": "code",
   "execution_count": 671,
   "metadata": {},
   "outputs": [
    {
     "data": {
      "text/plain": [
       "<matplotlib.collections.PathCollection at 0x7f8da7347ac0>"
      ]
     },
     "execution_count": 671,
     "metadata": {},
     "output_type": "execute_result"
    },
    {
     "data": {
      "image/png": "[encoded data removed]",
      "text/plain": [
       "<Figure size 432x288 with 1 Axes>"
      ]
     },
     "metadata": {
      "needs_background": "light"
     },
     "output_type": "display_data"
    }
   ],
   "source": []
  },
  {
   "cell_type": "code",
   "execution_count": null,
   "metadata": {},
   "outputs": [],
   "source": []
  },
  {
   "cell_type": "code",
   "execution_count": null,
   "metadata": {},
   "outputs": [],
   "source": []
  },
  {
   "cell_type": "code",
   "execution_count": null,
   "metadata": {},
   "outputs": [],
   "source": []
  },
  {
   "cell_type": "code",
   "execution_count": null,
   "metadata": {},
   "outputs": [],
   "source": []
  },
  {
   "cell_type": "code",
   "execution_count": null,
   "metadata": {},
   "outputs": [],
   "source": []
  },
  {
   "cell_type": "code",
   "execution_count": 821,
   "metadata": {},
   "outputs": [],
   "source": [
    "import numpy as np\n",
    "import pandas as pd\n",
    "import scipy.sparse as sparse\n",
    "\n",
    "#download data\n",
    "url = 'http://archive.ics.uci.edu/ml/machine-learning-databases/auto-mpg/auto-mpg.data'\n",
    "column_names = ['MPG', 'Cylinders', 'Displacement', 'Horsepower', 'Weight',\n",
    "                'Acceleration', 'Model Year', 'Origin']\n",
    "df = pd.read_csv(url, names=column_names,\n",
    "          na_values='?', comment='\\t',\n",
    "          sep=' ', skipinitialspace=True)\n",
    "\n",
    "lenOfDF = (len(df))\n",
    "#add numpy array\n",
    "arr = sparse.coo_matrix(([1,1,1], ([0,1,2], [1,2,0])), shape=(lenOfDF,lenOfDF))\n",
    "df['NumpyColumn'] = arr.toarray().tolist()"
   ]
  },
  {
   "cell_type": "code",
   "execution_count": 827,
   "metadata": {},
   "outputs": [
    {
     "data": {
      "text/html": [
       "<div>\n",
       "<style scoped>\n",
       "    .dataframe tbody tr th:only-of-type {\n",
       "        vertical-align: middle;\n",
       "    }\n",
       "\n",
       "    .dataframe tbody tr th {\n",
       "        vertical-align: top;\n",
       "    }\n",
       "\n",
       "    .dataframe thead th {\n",
       "        text-align: right;\n",
       "    }\n",
       "</style>\n",
       "<table border=\"1\" class=\"dataframe\">\n",
       "  <thead>\n",
       "    <tr style=\"text-align: right;\">\n",
       "      <th></th>\n",
       "      <th>MPG</th>\n",
       "      <th>Cylinders</th>\n",
       "      <th>Displacement</th>\n",
       "      <th>Horsepower</th>\n",
       "      <th>Weight</th>\n",
       "      <th>Acceleration</th>\n",
       "      <th>Model Year</th>\n",
       "      <th>Origin</th>\n",
       "      <th>NumpyColumn</th>\n",
       "    </tr>\n",
       "  </thead>\n",
       "  <tbody>\n",
       "    <tr>\n",
       "      <th>0</th>\n",
       "      <td>18.0</td>\n",
       "      <td>8</td>\n",
       "      <td>307.0</td>\n",
       "      <td>130.0</td>\n",
       "      <td>3504.0</td>\n",
       "      <td>12.0</td>\n",
       "      <td>70</td>\n",
       "      <td>1</td>\n",
       "      <td>[0, 1, 0, 0, 0, 0, 0, 0, 0, 0, 0, 0, 0, 0, 0, ...</td>\n",
       "    </tr>\n",
       "    <tr>\n",
       "      <th>1</th>\n",
       "      <td>15.0</td>\n",
       "      <td>8</td>\n",
       "      <td>350.0</td>\n",
       "      <td>165.0</td>\n",
       "      <td>3693.0</td>\n",
       "      <td>11.5</td>\n",
       "      <td>70</td>\n",
       "      <td>1</td>\n",
       "      <td>[0, 0, 1, 0, 0, 0, 0, 0, 0, 0, 0, 0, 0, 0, 0, ...</td>\n",
       "    </tr>\n",
       "    <tr>\n",
       "      <th>2</th>\n",
       "      <td>18.0</td>\n",
       "      <td>8</td>\n",
       "      <td>318.0</td>\n",
       "      <td>150.0</td>\n",
       "      <td>3436.0</td>\n",
       "      <td>11.0</td>\n",
       "      <td>70</td>\n",
       "      <td>1</td>\n",
       "      <td>[1, 0, 0, 0, 0, 0, 0, 0, 0, 0, 0, 0, 0, 0, 0, ...</td>\n",
       "    </tr>\n",
       "    <tr>\n",
       "      <th>3</th>\n",
       "      <td>16.0</td>\n",
       "      <td>8</td>\n",
       "      <td>304.0</td>\n",
       "      <td>150.0</td>\n",
       "      <td>3433.0</td>\n",
       "      <td>12.0</td>\n",
       "      <td>70</td>\n",
       "      <td>1</td>\n",
       "      <td>[0, 0, 0, 0, 0, 0, 0, 0, 0, 0, 0, 0, 0, 0, 0, ...</td>\n",
       "    </tr>\n",
       "    <tr>\n",
       "      <th>4</th>\n",
       "      <td>17.0</td>\n",
       "      <td>8</td>\n",
       "      <td>302.0</td>\n",
       "      <td>140.0</td>\n",
       "      <td>3449.0</td>\n",
       "      <td>10.5</td>\n",
       "      <td>70</td>\n",
       "      <td>1</td>\n",
       "      <td>[0, 0, 0, 0, 0, 0, 0, 0, 0, 0, 0, 0, 0, 0, 0, ...</td>\n",
       "    </tr>\n",
       "    <tr>\n",
       "      <th>...</th>\n",
       "      <td>...</td>\n",
       "      <td>...</td>\n",
       "      <td>...</td>\n",
       "      <td>...</td>\n",
       "      <td>...</td>\n",
       "      <td>...</td>\n",
       "      <td>...</td>\n",
       "      <td>...</td>\n",
       "      <td>...</td>\n",
       "    </tr>\n",
       "    <tr>\n",
       "      <th>393</th>\n",
       "      <td>27.0</td>\n",
       "      <td>4</td>\n",
       "      <td>140.0</td>\n",
       "      <td>86.0</td>\n",
       "      <td>2790.0</td>\n",
       "      <td>15.6</td>\n",
       "      <td>82</td>\n",
       "      <td>1</td>\n",
       "      <td>[0, 0, 0, 0, 0, 0, 0, 0, 0, 0, 0, 0, 0, 0, 0, ...</td>\n",
       "    </tr>\n",
       "    <tr>\n",
       "      <th>394</th>\n",
       "      <td>44.0</td>\n",
       "      <td>4</td>\n",
       "      <td>97.0</td>\n",
       "      <td>52.0</td>\n",
       "      <td>2130.0</td>\n",
       "      <td>24.6</td>\n",
       "      <td>82</td>\n",
       "      <td>2</td>\n",
       "      <td>[0, 0, 0, 0, 0, 0, 0, 0, 0, 0, 0, 0, 0, 0, 0, ...</td>\n",
       "    </tr>\n",
       "    <tr>\n",
       "      <th>395</th>\n",
       "      <td>32.0</td>\n",
       "      <td>4</td>\n",
       "      <td>135.0</td>\n",
       "      <td>84.0</td>\n",
       "      <td>2295.0</td>\n",
       "      <td>11.6</td>\n",
       "      <td>82</td>\n",
       "      <td>1</td>\n",
       "      <td>[0, 0, 0, 0, 0, 0, 0, 0, 0, 0, 0, 0, 0, 0, 0, ...</td>\n",
       "    </tr>\n",
       "    <tr>\n",
       "      <th>396</th>\n",
       "      <td>28.0</td>\n",
       "      <td>4</td>\n",
       "      <td>120.0</td>\n",
       "      <td>79.0</td>\n",
       "      <td>2625.0</td>\n",
       "      <td>18.6</td>\n",
       "      <td>82</td>\n",
       "      <td>1</td>\n",
       "      <td>[0, 0, 0, 0, 0, 0, 0, 0, 0, 0, 0, 0, 0, 0, 0, ...</td>\n",
       "    </tr>\n",
       "    <tr>\n",
       "      <th>397</th>\n",
       "      <td>31.0</td>\n",
       "      <td>4</td>\n",
       "      <td>119.0</td>\n",
       "      <td>82.0</td>\n",
       "      <td>2720.0</td>\n",
       "      <td>19.4</td>\n",
       "      <td>82</td>\n",
       "      <td>1</td>\n",
       "      <td>[0, 0, 0, 0, 0, 0, 0, 0, 0, 0, 0, 0, 0, 0, 0, ...</td>\n",
       "    </tr>\n",
       "  </tbody>\n",
       "</table>\n",
       "<p>398 rows × 9 columns</p>\n",
       "</div>"
      ],
      "text/plain": [
       "      MPG  Cylinders  Displacement  Horsepower  Weight  Acceleration  \\\n",
       "0    18.0          8         307.0       130.0  3504.0          12.0   \n",
       "1    15.0          8         350.0       165.0  3693.0          11.5   \n",
       "2    18.0          8         318.0       150.0  3436.0          11.0   \n",
       "3    16.0          8         304.0       150.0  3433.0          12.0   \n",
       "4    17.0          8         302.0       140.0  3449.0          10.5   \n",
       "..    ...        ...           ...         ...     ...           ...   \n",
       "393  27.0          4         140.0        86.0  2790.0          15.6   \n",
       "394  44.0          4          97.0        52.0  2130.0          24.6   \n",
       "395  32.0          4         135.0        84.0  2295.0          11.6   \n",
       "396  28.0          4         120.0        79.0  2625.0          18.6   \n",
       "397  31.0          4         119.0        82.0  2720.0          19.4   \n",
       "\n",
       "     Model Year  Origin                                        NumpyColumn  \n",
       "0            70       1  [0, 1, 0, 0, 0, 0, 0, 0, 0, 0, 0, 0, 0, 0, 0, ...  \n",
       "1            70       1  [0, 0, 1, 0, 0, 0, 0, 0, 0, 0, 0, 0, 0, 0, 0, ...  \n",
       "2            70       1  [1, 0, 0, 0, 0, 0, 0, 0, 0, 0, 0, 0, 0, 0, 0, ...  \n",
       "3            70       1  [0, 0, 0, 0, 0, 0, 0, 0, 0, 0, 0, 0, 0, 0, 0, ...  \n",
       "4            70       1  [0, 0, 0, 0, 0, 0, 0, 0, 0, 0, 0, 0, 0, 0, 0, ...  \n",
       "..          ...     ...                                                ...  \n",
       "393          82       1  [0, 0, 0, 0, 0, 0, 0, 0, 0, 0, 0, 0, 0, 0, 0, ...  \n",
       "394          82       2  [0, 0, 0, 0, 0, 0, 0, 0, 0, 0, 0, 0, 0, 0, 0, ...  \n",
       "395          82       1  [0, 0, 0, 0, 0, 0, 0, 0, 0, 0, 0, 0, 0, 0, 0, ...  \n",
       "396          82       1  [0, 0, 0, 0, 0, 0, 0, 0, 0, 0, 0, 0, 0, 0, 0, ...  \n",
       "397          82       1  [0, 0, 0, 0, 0, 0, 0, 0, 0, 0, 0, 0, 0, 0, 0, ...  \n",
       "\n",
       "[398 rows x 9 columns]"
      ]
     },
     "execution_count": 827,
     "metadata": {},
     "output_type": "execute_result"
    }
   ],
   "source": [
    "df"
   ]
  },
  {
   "cell_type": "code",
   "execution_count": 824,
   "metadata": {},
   "outputs": [],
   "source": []
  },
  {
   "cell_type": "code",
   "execution_count": 876,
   "metadata": {},
   "outputs": [
    {
     "name": "stdout",
     "output_type": "stream",
     "text": [
      "Model: \"model_22\"\n",
      "_________________________________________________________________\n",
      "Layer (type)                 Output Shape              Param #   \n",
      "=================================================================\n",
      "input_51 (InputLayer)        [(None, 9)]               0         \n",
      "_________________________________________________________________\n",
      "dense_134 (Dense)            (None, 512)               5120      \n",
      "_________________________________________________________________\n",
      "dense_135 (Dense)            (None, 256)               131328    \n",
      "_________________________________________________________________\n",
      "dense_136 (Dense)            (None, 128)               32896     \n",
      "_________________________________________________________________\n",
      "dense_137 (Dense)            (None, 64)                8256      \n",
      "_________________________________________________________________\n",
      "dense_138 (Dense)            (None, 32)                2080      \n",
      "_________________________________________________________________\n",
      "dense_139 (Dense)            (None, 1)                 33        \n",
      "=================================================================\n",
      "Total params: 179,713\n",
      "Trainable params: 179,713\n",
      "Non-trainable params: 0\n",
      "_________________________________________________________________\n"
     ]
    }
   ],
   "source": [
    "g_input = layers.Input(shape=(9,))\n",
    "x = layers.Dense(512, activation='relu')(g_input)\n",
    "x = layers.Dense(256, activation='relu')(x)\n",
    "x = layers.Dense(128, activation='relu')(x)\n",
    "x = layers.Dense(64, activation='relu')(x)\n",
    "x = layers.Dense(32, activation='relu')(x)\n",
    "g_V = layers.Dense(1, activation='sigmoid')(x)\n",
    "\n",
    "generator = Model(g_input,g_V)\n",
    "generator.compile(loss='binary_crossentropy', optimizer='adam')\n",
    "generator.summary()"
   ]
  },
  {
   "cell_type": "code",
   "execution_count": 914,
   "metadata": {},
   "outputs": [
    {
     "name": "stdout",
     "output_type": "stream",
     "text": [
      "Model: \"model_27\"\n",
      "__________________________________________________________________________________________________\n",
      "Layer (type)                    Output Shape         Param #     Connected to                     \n",
      "==================================================================================================\n",
      "input_57 (InputLayer)           [(None, 8)]          0                                            \n",
      "__________________________________________________________________________________________________\n",
      "input_58 (InputLayer)           [(None, 398)]        0                                            \n",
      "__________________________________________________________________________________________________\n",
      "concatenate_23 (Concatenate)    (None, 406)          0           input_57[0][0]                   \n",
      "                                                                 input_58[0][0]                   \n",
      "__________________________________________________________________________________________________\n",
      "dense_164 (Dense)               (None, 512)          208384      concatenate_23[0][0]             \n",
      "__________________________________________________________________________________________________\n",
      "dense_165 (Dense)               (None, 256)          131328      dense_164[0][0]                  \n",
      "__________________________________________________________________________________________________\n",
      "dense_166 (Dense)               (None, 128)          32896       dense_165[0][0]                  \n",
      "__________________________________________________________________________________________________\n",
      "dense_167 (Dense)               (None, 64)           8256        dense_166[0][0]                  \n",
      "__________________________________________________________________________________________________\n",
      "dense_168 (Dense)               (None, 32)           2080        dense_167[0][0]                  \n",
      "__________________________________________________________________________________________________\n",
      "dense_169 (Dense)               (None, 1)            33          dense_168[0][0]                  \n",
      "==================================================================================================\n",
      "Total params: 382,977\n",
      "Trainable params: 382,977\n",
      "Non-trainable params: 0\n",
      "__________________________________________________________________________________________________\n",
      "\n",
      "RESHAPING DATA TO - (398,8) and (398,398)\n"
     ]
    },
    {
     "data": {
      "image/png": "[encoded data removed]",
      "text/plain": [
       "<IPython.core.display.Image object>"
      ]
     },
     "execution_count": 914,
     "metadata": {},
     "output_type": "execute_result"
    }
   ],
   "source": [
    "import tensorflow as tf\n",
    "from tensorflow.keras import layers, Model, utils, activations\n",
    "\n",
    "g_input = layers.Input(shape=(8,))       #<--------\n",
    "np_input = layers.Input(shape=(398,))    #<--------\n",
    "x = layers.concatenate([g_input, np_input])\n",
    "x = layers.Dense(512, activation='relu')(x)\n",
    "x = layers.Dense(256, activation='relu')(x)\n",
    "x = layers.Dense(128, activation='relu')(x)\n",
    "x = layers.Dense(64, activation='relu')(x)\n",
    "x = layers.Dense(32, activation='relu')(x)\n",
    "g_V = layers.Dense(1, activation='sigmoid')(x)\n",
    "\n",
    "generator = Model([g_input,np_input],g_V)\n",
    "generator.compile(loss='binary_crossentropy', optimizer='adam')\n",
    "generator.summary()\n",
    "\n",
    "print('')\n",
    "print('RESHAPING DATA TO - (398,8) and (398,398)')\n",
    "generator.predict([df.drop('NumpyColumn',1).to_numpy(), \n",
    "                   np.array(df['NumpyColumn'].tolist())]).shape\n",
    "\n"
   ]
  },
  {
   "cell_type": "code",
   "execution_count": null,
   "metadata": {},
   "outputs": [],
   "source": []
  },
  {
   "cell_type": "code",
   "execution_count": 912,
   "metadata": {},
   "outputs": [
    {
     "name": "stdout",
     "output_type": "stream",
     "text": [
      "Model: \"model_26\"\n",
      "_________________________________________________________________\n",
      "Layer (type)                 Output Shape              Param #   \n",
      "=================================================================\n",
      "input_56 (InputLayer)        [(None, 406)]             0         \n",
      "_________________________________________________________________\n",
      "dense_158 (Dense)            (None, 512)               208384    \n",
      "_________________________________________________________________\n",
      "dense_159 (Dense)            (None, 256)               131328    \n",
      "_________________________________________________________________\n",
      "dense_160 (Dense)            (None, 128)               32896     \n",
      "_________________________________________________________________\n",
      "dense_161 (Dense)            (None, 64)                8256      \n",
      "_________________________________________________________________\n",
      "dense_162 (Dense)            (None, 32)                2080      \n",
      "_________________________________________________________________\n",
      "dense_163 (Dense)            (None, 1)                 33        \n",
      "=================================================================\n",
      "Total params: 382,977\n",
      "Trainable params: 382,977\n",
      "Non-trainable params: 0\n",
      "_________________________________________________________________\n",
      "\n",
      "RESHAPING DATA TO - (398, 406)\n"
     ]
    },
    {
     "data": {
      "text/plain": [
       "(398, 1)"
      ]
     },
     "execution_count": 912,
     "metadata": {},
     "output_type": "execute_result"
    }
   ],
   "source": [
    "import tensorflow as tf\n",
    "from tensorflow.keras import layers, Model, utils, activations\n",
    "\n",
    "g_input = layers.Input(shape=(406,))\n",
    "x = layers.Dense(512, activation='relu')(g_input)\n",
    "x = layers.Dense(256, activation='relu')(x)\n",
    "x = layers.Dense(128, activation='relu')(x)\n",
    "x = layers.Dense(64, activation='relu')(x)\n",
    "x = layers.Dense(32, activation='relu')(x)\n",
    "g_V = layers.Dense(1, activation='sigmoid')(x)\n",
    "\n",
    "generator = Model(g_input,g_V)\n",
    "generator.compile(loss='binary_crossentropy', optimizer='adam')\n",
    "\n",
    "print('')\n",
    "print('RESHAPING DATA TO - (398, 406)')\n",
    "ddf = pd.concat([df.iloc[:,:-1], df.NumpyColumn.apply(pd.Series)], axis=1)\n",
    "generator.predict(tf.convert_to_tensor(ddf)).shape"
   ]
  },
  {
   "cell_type": "code",
   "execution_count": 913,
   "metadata": {},
   "outputs": [
    {
     "data": {
      "image/png": "[encoded data removed]",
      "text/plain": [
       "<IPython.core.display.Image object>"
      ]
     },
     "execution_count": 913,
     "metadata": {},
     "output_type": "execute_result"
    }
   ],
   "source": []
  },
  {
   "cell_type": "code",
   "execution_count": null,
   "metadata": {},
   "outputs": [],
   "source": []
  },
  {
   "cell_type": "code",
   "execution_count": null,
   "metadata": {},
   "outputs": [],
   "source": []
  },
  {
   "cell_type": "code",
   "execution_count": 902,
   "metadata": {},
   "outputs": [],
   "source": []
  },
  {
   "cell_type": "code",
   "execution_count": 904,
   "metadata": {},
   "outputs": [
    {
     "data": {
      "text/plain": [
       "<tf.Tensor: shape=(398, 406), dtype=float64, numpy=\n",
       "array([[ 18.,   8., 307., ...,   0.,   0.,   0.],\n",
       "       [ 15.,   8., 350., ...,   0.,   0.,   0.],\n",
       "       [ 18.,   8., 318., ...,   0.,   0.,   0.],\n",
       "       ...,\n",
       "       [ 32.,   4., 135., ...,   0.,   0.,   0.],\n",
       "       [ 28.,   4., 120., ...,   0.,   0.,   0.],\n",
       "       [ 31.,   4., 119., ...,   0.,   0.,   0.]])>"
      ]
     },
     "execution_count": 904,
     "metadata": {},
     "output_type": "execute_result"
    }
   ],
   "source": []
  },
  {
   "cell_type": "code",
   "execution_count": null,
   "metadata": {},
   "outputs": [],
   "source": []
  },
  {
   "cell_type": "code",
   "execution_count": 917,
   "metadata": {},
   "outputs": [],
   "source": []
  },
  {
   "cell_type": "code",
   "execution_count": 948,
   "metadata": {},
   "outputs": [],
   "source": [
    "from scipy.ndimage import zoom\n",
    "from skimage.transform import pyramid_gaussian\n",
    "from skimage.transform import pyramid_expand, pyramid_reduce"
   ]
  },
  {
   "cell_type": "code",
   "execution_count": null,
   "metadata": {},
   "outputs": [],
   "source": []
  },
  {
   "cell_type": "code",
   "execution_count": 974,
   "metadata": {},
   "outputs": [
    {
     "data": {
      "image/png": "[encoded data removed]",
      "text/plain": [
       "<Figure size 720x1080 with 4 Axes>"
      ]
     },
     "metadata": {
      "needs_background": "light"
     },
     "output_type": "display_data"
    }
   ],
   "source": [
    "from skimage.data import camera\n",
    "from skimage.transform import pyramid_reduce\n",
    "\n",
    "def plotit(img, h, q, e):\n",
    "    fig, axes = plt.subplots(1,4, figsize=(10,15))\n",
    "    axes[0].imshow(img)\n",
    "    axes[1].imshow(h)\n",
    "    axes[2].imshow(q)\n",
    "    axes[3].imshow(e)\n",
    "    axes[0].title.set_text('Original')\n",
    "    axes[1].title.set_text('Half')\n",
    "    axes[2].title.set_text('Quarter')\n",
    "    axes[3].title.set_text('Eighth')\n",
    "\n",
    "img = camera() #(512,512)\n",
    "h = pyramid_reduce(img, 2)\n",
    "q = pyramid_reduce(img, 4)\n",
    "e = pyramid_reduce(img, 8)\n",
    "\n",
    "plotit(img, h, q, e)"
   ]
  },
  {
   "cell_type": "code",
   "execution_count": 971,
   "metadata": {},
   "outputs": [],
   "source": []
  },
  {
   "cell_type": "code",
   "execution_count": null,
   "metadata": {},
   "outputs": [],
   "source": []
  },
  {
   "cell_type": "code",
   "execution_count": null,
   "metadata": {},
   "outputs": [],
   "source": []
  },
  {
   "cell_type": "code",
   "execution_count": 968,
   "metadata": {},
   "outputs": [
    {
     "name": "stdout",
     "output_type": "stream",
     "text": [
      "Shape of original (50, 192, 256, 3)\n",
      "Shape of half scaled (50, 96, 128, 3)\n",
      "Shape of quater scaled (50, 48, 64, 3)\n",
      "Shape of eighth scaled (50, 24, 32, 3)\n"
     ]
    }
   ],
   "source": [
    "from skimage.transform import pyramid_reduce\n",
    "\n",
    "images = np.random.random((50, 192, 256, 3))\n",
    "\n",
    "images_half = np.stack([pyramid_reduce(i, 2, multichannel=True) for i in images])\n",
    "images_quater = np.stack([pyramid_reduce(i, 4, multichannel=True) for i in images])\n",
    "images_eighth = np.stack([pyramid_reduce(i, 8, multichannel=True) for i in images])\n",
    "\n",
    "print('Shape of original',images.shape)\n",
    "print('Shape of half scaled',images_half.shape)\n",
    "print('Shape of quater scaled',images_quater.shape)\n",
    "print('Shape of eighth scaled',images_eighth.shape)\n",
    "\n",
    "Shape of original (50, 192, 256, 3)\n",
    "Shape of half scaled (50, 96, 128, 3)\n",
    "Shape of quater scaled (50, 48, 64, 3)\n",
    "Shape of eighth scaled (50, 24, 32, 3)"
   ]
  },
  {
   "cell_type": "code",
   "execution_count": null,
   "metadata": {},
   "outputs": [],
   "source": []
  },
  {
   "cell_type": "code",
   "execution_count": null,
   "metadata": {},
   "outputs": [],
   "source": []
  },
  {
   "cell_type": "code",
   "execution_count": null,
   "metadata": {},
   "outputs": [],
   "source": [
    "{'A&A': [list of flows that start with A&A], \n",
    " 'AFM': [list of flows that start with AFM]', \n",
    " 'OMSS': [list of flows that start with OMSS]} "
   ]
  },
  {
   "cell_type": "code",
   "execution_count": 978,
   "metadata": {},
   "outputs": [],
   "source": [
    "list_4 = ['A&A OMSS 10.1.2.0/24 10.1.1.0/24 Authorisation_Response', 'A&A OMSS 10.1.2.0/24 10.1.1.0/24 Authentication_Response', 'OMSS A&A 10.1.1.0/24 10.1.2.0/24 Authorsiation_Request', 'OMSS A&A 10.1.1.0/24 10.1.2.0/24 Authentication_Request', 'A&A AFM 10.1.2.0/24 10.1.3.0/24 Authorisation_Response', 'AFM A&A 10.1.3.0/24 10.1.2.0/24 Priviliged_Authentication_Request', 'A&A AFM 10.1.2.0/24 10.1.3.0/24 Privilged_Authentication_Response', 'AFM A&A 10.1.3.0/24 10.1.2.0/24 Priviliged_Authorisation_Request', 'A&A AFM 10.1.2.0/24 10.1.3.0/24 Authorisation_Response']\n",
    "dict_1 = {'OMSS': '10.1.1.0/24', 'A&A': '10.1.2.0/24', 'AFM': '10.1.3.0/24', 'ATM': '10.1.4.0/24'}"
   ]
  },
  {
   "cell_type": "code",
   "execution_count": 977,
   "metadata": {},
   "outputs": [
    {
     "data": {
      "text/plain": [
       "['A&A OMSS 10.1.2.0/24 10.1.1.0/24 Authorisation_Response',\n",
       " 'A&A OMSS 10.1.2.0/24 10.1.1.0/24 Authentication_Response',\n",
       " 'OMSS A&A 10.1.1.0/24 10.1.2.0/24 Authorsiation_Request',\n",
       " 'OMSS A&A 10.1.1.0/24 10.1.2.0/24 Authentication_Request',\n",
       " 'A&A AFM 10.1.2.0/24 10.1.3.0/24 Authorisation_Response',\n",
       " 'AFM A&A 10.1.3.0/24 10.1.2.0/24 Priviliged_Authentication_Request',\n",
       " 'A&A AFM 10.1.2.0/24 10.1.3.0/24 Privilged_Authentication_Response',\n",
       " 'AFM A&A 10.1.3.0/24 10.1.2.0/24 Priviliged_Authorisation_Request',\n",
       " 'A&A AFM 10.1.2.0/24 10.1.3.0/24 Authorisation_Response']"
      ]
     },
     "execution_count": 977,
     "metadata": {},
     "output_type": "execute_result"
    }
   ],
   "source": [
    "list_4"
   ]
  },
  {
   "cell_type": "code",
   "execution_count": 979,
   "metadata": {},
   "outputs": [
    {
     "data": {
      "text/plain": [
       "{'OMSS': '10.1.1.0/24',\n",
       " 'A&A': '10.1.2.0/24',\n",
       " 'AFM': '10.1.3.0/24',\n",
       " 'ATM': '10.1.4.0/24'}"
      ]
     },
     "execution_count": 979,
     "metadata": {},
     "output_type": "execute_result"
    }
   ],
   "source": [
    "dict_1"
   ]
  },
  {
   "cell_type": "code",
   "execution_count": 986,
   "metadata": {},
   "outputs": [],
   "source": [
    "from collections import defaultdict\n",
    "dict_2 = defaultdict(list)\n",
    "\n",
    "for key, value in dict_1.items():\n",
    "    for i in list_4:\n",
    "        src_sys, dst_sys, src, dst, fun = i.split()\n",
    "        if src_sys.strip() == key.strip():\n",
    "            dict_2[key].append(src+\" \"+dst+\" \"+fun)\n",
    "            \n",
    "dict_2 = dict(dict_2)"
   ]
  },
  {
   "cell_type": "code",
   "execution_count": null,
   "metadata": {},
   "outputs": [],
   "source": [
    "src_sys, dst_sys, src, dst, fun"
   ]
  },
  {
   "cell_type": "code",
   "execution_count": 987,
   "metadata": {},
   "outputs": [
    {
     "data": {
      "text/plain": [
       "{'OMSS': ['10.1.1.0/24 10.1.2.0/24 Authorsiation_Request',\n",
       "  '10.1.1.0/24 10.1.2.0/24 Authentication_Request'],\n",
       " 'A&A': ['10.1.2.0/24 10.1.1.0/24 Authorisation_Response',\n",
       "  '10.1.2.0/24 10.1.1.0/24 Authentication_Response',\n",
       "  '10.1.2.0/24 10.1.3.0/24 Authorisation_Response',\n",
       "  '10.1.2.0/24 10.1.3.0/24 Privilged_Authentication_Response',\n",
       "  '10.1.2.0/24 10.1.3.0/24 Authorisation_Response'],\n",
       " 'AFM': ['10.1.3.0/24 10.1.2.0/24 Priviliged_Authentication_Request',\n",
       "  '10.1.3.0/24 10.1.2.0/24 Priviliged_Authorisation_Request']}"
      ]
     },
     "execution_count": 987,
     "metadata": {},
     "output_type": "execute_result"
    }
   ],
   "source": [
    "dict_2"
   ]
  },
  {
   "cell_type": "code",
   "execution_count": null,
   "metadata": {},
   "outputs": [],
   "source": [
    "{'OMSS': ['10.1.1.0/24 10.1.2.0/24 Authorsiation_Request',\n",
    "          '10.1.1.0/24 10.1.2.0/24 Authentication_Request'],\n",
    " 'A&A': ['10.1.2.0/24 10.1.1.0/24 Authorisation_Response',\n",
    "         '10.1.2.0/24 10.1.1.0/24 Authentication_Response',\n",
    "         '10.1.2.0/24 10.1.3.0/24 Authorisation_Response',\n",
    "         '10.1.2.0/24 10.1.3.0/24 Privilged_Authentication_Response',\n",
    "         '10.1.2.0/24 10.1.3.0/24 Authorisation_Response'],\n",
    " 'AFM': ['10.1.3.0/24 10.1.2.0/24 Priviliged_Authentication_Request',\n",
    "         '10.1.3.0/24 10.1.2.0/24 Priviliged_Authorisation_Request']}"
   ]
  },
  {
   "cell_type": "code",
   "execution_count": 993,
   "metadata": {},
   "outputs": [
    {
     "data": {
      "text/plain": [
       "['A&A OMSS 10.1.2.0/24 10.1.1.0/24 Authorisation_Response',\n",
       " 'A&A OMSS 10.1.2.0/24 10.1.1.0/24 Authentication_Response',\n",
       " 'OMSS A&A 10.1.1.0/24 10.1.2.0/24 Authorsiation_Request',\n",
       " 'OMSS A&A 10.1.1.0/24 10.1.2.0/24 Authentication_Request',\n",
       " 'A&A AFM 10.1.2.0/24 10.1.3.0/24 Authorisation_Response',\n",
       " 'AFM A&A 10.1.3.0/24 10.1.2.0/24 Priviliged_Authentication_Request',\n",
       " 'A&A AFM 10.1.2.0/24 10.1.3.0/24 Privilged_Authentication_Response',\n",
       " 'AFM A&A 10.1.3.0/24 10.1.2.0/24 Priviliged_Authorisation_Request',\n",
       " 'A&A AFM 10.1.2.0/24 10.1.3.0/24 Authorisation_Response']"
      ]
     },
     "execution_count": 993,
     "metadata": {},
     "output_type": "execute_result"
    }
   ],
   "source": [
    "list_4"
   ]
  },
  {
   "cell_type": "code",
   "execution_count": 1007,
   "metadata": {},
   "outputs": [
    {
     "data": {
      "text/plain": [
       "['A&A OMSS 10.1.2.0/24 10.1.1.0/24 Authorisation_Response',\n",
       " 'A&A OMSS 10.1.2.0/24 10.1.1.0/24 Authentication_Response',\n",
       " 'OMSS A&A 10.1.1.0/24 10.1.2.0/24 Authorsiation_Request',\n",
       " 'OMSS A&A 10.1.1.0/24 10.1.2.0/24 Authentication_Request',\n",
       " 'A&A AFM 10.1.2.0/24 10.1.3.0/24 Authorisation_Response',\n",
       " 'AFM A&A 10.1.3.0/24 10.1.2.0/24 Priviliged_Authentication_Request',\n",
       " 'A&A AFM 10.1.2.0/24 10.1.3.0/24 Privilged_Authentication_Response',\n",
       " 'AFM A&A 10.1.3.0/24 10.1.2.0/24 Priviliged_Authorisation_Request',\n",
       " 'A&A AFM 10.1.2.0/24 10.1.3.0/24 Authorisation_Response']"
      ]
     },
     "execution_count": 1007,
     "metadata": {},
     "output_type": "execute_result"
    }
   ],
   "source": [
    "[i for i in list_4 if i.split()[0].strip() in dict_1.keys()]"
   ]
  },
  {
   "cell_type": "code",
   "execution_count": 1012,
   "metadata": {},
   "outputs": [
    {
     "data": {
      "text/plain": [
       "[['A&A', 'OMSS', '10.1.2.0/24', '10.1.1.0/24', 'Authorisation_Response'],\n",
       " ['A&A', 'OMSS', '10.1.2.0/24', '10.1.1.0/24', 'Authentication_Response'],\n",
       " ['OMSS', 'A&A', '10.1.1.0/24', '10.1.2.0/24', 'Authorsiation_Request'],\n",
       " ['OMSS', 'A&A', '10.1.1.0/24', '10.1.2.0/24', 'Authentication_Request'],\n",
       " ['A&A', 'AFM', '10.1.2.0/24', '10.1.3.0/24', 'Authorisation_Response'],\n",
       " ['AFM',\n",
       "  'A&A',\n",
       "  '10.1.3.0/24',\n",
       "  '10.1.2.0/24',\n",
       "  'Priviliged_Authentication_Request'],\n",
       " ['A&A',\n",
       "  'AFM',\n",
       "  '10.1.2.0/24',\n",
       "  '10.1.3.0/24',\n",
       "  'Privilged_Authentication_Response'],\n",
       " ['AFM',\n",
       "  'A&A',\n",
       "  '10.1.3.0/24',\n",
       "  '10.1.2.0/24',\n",
       "  'Priviliged_Authorisation_Request'],\n",
       " ['A&A', 'AFM', '10.1.2.0/24', '10.1.3.0/24', 'Authorisation_Response']]"
      ]
     },
     "execution_count": 1012,
     "metadata": {},
     "output_type": "execute_result"
    }
   ],
   "source": [
    "[i.split() for i in list_4]"
   ]
  },
  {
   "cell_type": "code",
   "execution_count": 1017,
   "metadata": {},
   "outputs": [
    {
     "ename": "TypeError",
     "evalue": "__init__() missing 1 required positional argument: 'value_index'",
     "output_type": "error",
     "traceback": [
      "\u001b[0;31m---------------------------------------------------------------------------\u001b[0m",
      "\u001b[0;31mTypeError\u001b[0m                                 Traceback (most recent call last)",
      "\u001b[0;32m<ipython-input-1017-167397c0a012>\u001b[0m in \u001b[0;36m<module>\u001b[0;34m\u001b[0m\n\u001b[0;32m----> 1\u001b[0;31m \u001b[0mtf\u001b[0m\u001b[0;34m.\u001b[0m\u001b[0mTensor\u001b[0m\u001b[0;34m(\u001b[0m\u001b[0;34m[\u001b[0m\u001b[0;36m1\u001b[0m\u001b[0;34m,\u001b[0m\u001b[0;36m2\u001b[0m\u001b[0;34m,\u001b[0m\u001b[0;36m3\u001b[0m\u001b[0;34m]\u001b[0m\u001b[0;34m,\u001b[0m\u001b[0mdtype\u001b[0m\u001b[0;34m=\u001b[0m\u001b[0mtf\u001b[0m\u001b[0;34m.\u001b[0m\u001b[0mfloat32\u001b[0m\u001b[0;34m)\u001b[0m\u001b[0;34m\u001b[0m\u001b[0;34m\u001b[0m\u001b[0m\n\u001b[0m",
      "\u001b[0;31mTypeError\u001b[0m: __init__() missing 1 required positional argument: 'value_index'"
     ]
    }
   ],
   "source": [
    "tf.Tensor([1,2,3],dtype=tf.float32)"
   ]
  },
  {
   "cell_type": "code",
   "execution_count": 1026,
   "metadata": {},
   "outputs": [
    {
     "name": "stdout",
     "output_type": "stream",
     "text": [
      "[1 2 3]\n",
      "[2 3]\n",
      "[2 3]\n"
     ]
    }
   ],
   "source": [
    "print(tf.convert_to_tensor([1,2,3]).numpy()) #get numpy\n",
    "print(tf.convert_to_tensor([1,2,3])[1:].numpy()) #get numpy after indexing\n",
    "print(tf.convert_to_tensor([1,2,3]).numpy()[1:]) #index after getting numpy\n",
    "\n",
    "[1 2 3]\n",
    "[2 3]\n",
    "[2 3]"
   ]
  },
  {
   "cell_type": "code",
   "execution_count": null,
   "metadata": {},
   "outputs": [],
   "source": []
  },
  {
   "cell_type": "code",
   "execution_count": 1032,
   "metadata": {},
   "outputs": [
    {
     "data": {
      "text/plain": [
       "array([[0.0317142 , 0.00936959, 0.22271378, ..., 0.60409357, 0.266611  ,\n",
       "        0.62073231],\n",
       "       [0.47745517, 0.67285916, 0.60504961, ..., 0.57280932, 0.43490179,\n",
       "        0.28293585],\n",
       "       [0.98699826, 0.91261339, 0.90342584, ..., 0.34286132, 0.43729231,\n",
       "        0.76138768],\n",
       "       ...,\n",
       "       [0.36178209, 0.14208384, 0.33048756, ..., 0.49803161, 0.50143777,\n",
       "        0.87210884],\n",
       "       [0.43838879, 0.96325436, 0.22535289, ..., 0.80806222, 0.10212784,\n",
       "        0.50857046],\n",
       "       [0.86253794, 0.4446784 , 0.92486241, ..., 0.00635952, 0.53186922,\n",
       "        0.56207554]])"
      ]
     },
     "execution_count": 1032,
     "metadata": {},
     "output_type": "execute_result"
    }
   ],
   "source": [
    "arr"
   ]
  },
  {
   "cell_type": "code",
   "execution_count": 1087,
   "metadata": {},
   "outputs": [
    {
     "data": {
      "text/plain": [
       "array([[ 2.,  2.,  1.,  1.,  2.],\n",
       "       [ 1.,  2.,  1.,  1.,  2.],\n",
       "       [nan, nan, nan, nan, nan],\n",
       "       [nan, nan, nan, nan, nan],\n",
       "       [ 1.,  2.,  2.,  1.,  1.]])"
      ]
     },
     "execution_count": 1087,
     "metadata": {},
     "output_type": "execute_result"
    }
   ],
   "source": [
    "arr = np.random.randint(1,3,(5,5)).astype(float)\n",
    "arr[(2,3),:] = np.nan\n",
    "#np.where(arr==np.nan)\n",
    "arr"
   ]
  },
  {
   "cell_type": "code",
   "execution_count": 1088,
   "metadata": {},
   "outputs": [
    {
     "data": {
      "text/plain": [
       "array([[2.        , 2.        , 1.        , 1.        , 2.        ],\n",
       "       [1.        , 2.        , 1.        , 1.        , 2.        ],\n",
       "       [1.33333333, 2.        , 1.33333333, 1.        , 1.66666667],\n",
       "       [1.33333333, 2.        , 1.33333333, 1.        , 1.66666667],\n",
       "       [1.        , 2.        , 2.        , 1.        , 1.        ]])"
      ]
     },
     "execution_count": 1088,
     "metadata": {},
     "output_type": "execute_result"
    }
   ],
   "source": [
    "means = np.nanmean(arr, axis=0)\n",
    "arr_full = np.where(np.isnan(arr), means, arr)\n",
    "arr_full"
   ]
  },
  {
   "cell_type": "code",
   "execution_count": null,
   "metadata": {},
   "outputs": [],
   "source": []
  },
  {
   "cell_type": "code",
   "execution_count": 1099,
   "metadata": {},
   "outputs": [
    {
     "data": {
      "text/plain": [
       "array([[ 4.,  2., nan,  3.,  2.],\n",
       "       [ 2.,  4., nan,  1.,  1.],\n",
       "       [nan, nan, nan, nan, nan],\n",
       "       [ 3.,  1., nan,  2.,  1.],\n",
       "       [ 2.,  1., nan,  1.,  8.]])"
      ]
     },
     "execution_count": 1099,
     "metadata": {},
     "output_type": "execute_result"
    }
   ],
   "source": [
    "arr = np.tril(np.random.randint(1,5,(5,5)).astype(float))\n",
    "arr[(2),:] = np.nan\n",
    "arr1 = arr+arr.T\n",
    "arr1"
   ]
  },
  {
   "cell_type": "code",
   "execution_count": 1102,
   "metadata": {},
   "outputs": [
    {
     "name": "stderr",
     "output_type": "stream",
     "text": [
      "<ipython-input-1102-3e2a4972b57a>:1: RuntimeWarning: Mean of empty slice\n",
      "  means = np.nanmean(arr1, axis=0)\n"
     ]
    },
    {
     "data": {
      "text/plain": [
       "array([[4.  , 2.  , 2.75, 3.  , 2.  ],\n",
       "       [2.  , 4.  , 2.  , 1.  , 1.  ],\n",
       "       [2.75, 2.  ,  nan, 1.75, 3.  ],\n",
       "       [3.  , 1.  , 1.75, 2.  , 1.  ],\n",
       "       [2.  , 1.  , 3.  , 1.  , 8.  ]])"
      ]
     },
     "execution_count": 1102,
     "metadata": {},
     "output_type": "execute_result"
    }
   ],
   "source": [
    "means = np.nanmean(arr1, axis=0)\n",
    "arr2 = np.where(np.isnan(arr1), means, arr1) #replace with colwise means\n",
    "arr3 = np.where(np.isnan(arr2), arr2.T, arr2) #replicate to rows\n",
    "arr4 = np.where(np.isnan(arr3),np.nanmean(np.diagonal(arr3)),arr3) #replace diagonal nan by mean of diagonal"
   ]
  },
  {
   "cell_type": "code",
   "execution_count": 1105,
   "metadata": {},
   "outputs": [
    {
     "data": {
      "text/plain": [
       "array([[4.  , 2.  , 2.75, 3.  , 2.  ],\n",
       "       [2.  , 4.  , 2.  , 1.  , 1.  ],\n",
       "       [2.75, 2.  , 4.5 , 1.75, 3.  ],\n",
       "       [3.  , 1.  , 1.75, 2.  , 1.  ],\n",
       "       [2.  , 1.  , 3.  , 1.  , 8.  ]])"
      ]
     },
     "execution_count": 1105,
     "metadata": {},
     "output_type": "execute_result"
    }
   ],
   "source": []
  },
  {
   "cell_type": "code",
   "execution_count": 1109,
   "metadata": {},
   "outputs": [],
   "source": [
    "TT_INT = 'INT'\n",
    "TT_FLOAT = 'FLOAT'\n",
    "TT_PLUS = 'PLUS'\n",
    "TT_MINUS = 'MINUS'\n",
    "TT_MUL = 'MUL'\n",
    "TT_DIV = 'DIV'\n",
    "TT_LPAREN = 'LPAREN'\n",
    "TT_RPAREN = 'RPAREN'\n",
    "\n",
    "####################################\n",
    "# TOKEN\n",
    "####################################\n",
    "\n",
    "class Token:\n",
    "    def __init__(self, type_, value=None):\n",
    "        self.type = type_\n",
    "        self.value = value\n",
    "\n",
    "    def __repr__(self):\n",
    "        if self.value: return f'{self.type}:{self.value}'\n",
    "        return f'{self.type}'"
   ]
  },
  {
   "cell_type": "code",
   "execution_count": 1114,
   "metadata": {},
   "outputs": [],
   "source": [
    "a = Token(TT_DIV)\n",
    "b = Token(TT_FLOAT)\n",
    "\n",
    "print(a.__dict__, b.__dict__)"
   ]
  },
  {
   "cell_type": "code",
   "execution_count": 1118,
   "metadata": {},
   "outputs": [
    {
     "name": "stdout",
     "output_type": "stream",
     "text": [
      "{'type': 'DIV', 'value': None} {'type': 'FLOAT', 'value': None}\n"
     ]
    }
   ],
   "source": []
  },
  {
   "cell_type": "code",
   "execution_count": null,
   "metadata": {},
   "outputs": [],
   "source": []
  },
  {
   "cell_type": "code",
   "execution_count": null,
   "metadata": {},
   "outputs": [],
   "source": []
  },
  {
   "cell_type": "code",
   "execution_count": null,
   "metadata": {},
   "outputs": [],
   "source": []
  },
  {
   "cell_type": "code",
   "execution_count": 1121,
   "metadata": {},
   "outputs": [
    {
     "data": {
      "text/html": [
       "<div>\n",
       "<style scoped>\n",
       "    .dataframe tbody tr th:only-of-type {\n",
       "        vertical-align: middle;\n",
       "    }\n",
       "\n",
       "    .dataframe tbody tr th {\n",
       "        vertical-align: top;\n",
       "    }\n",
       "\n",
       "    .dataframe thead th {\n",
       "        text-align: right;\n",
       "    }\n",
       "</style>\n",
       "<table border=\"1\" class=\"dataframe\">\n",
       "  <thead>\n",
       "    <tr style=\"text-align: right;\">\n",
       "      <th></th>\n",
       "      <th>A</th>\n",
       "      <th>B</th>\n",
       "      <th>C</th>\n",
       "      <th>D</th>\n",
       "    </tr>\n",
       "  </thead>\n",
       "  <tbody>\n",
       "    <tr>\n",
       "      <th>0</th>\n",
       "      <td>0.0</td>\n",
       "      <td>2.0</td>\n",
       "      <td>0.0</td>\n",
       "      <td>0</td>\n",
       "    </tr>\n",
       "    <tr>\n",
       "      <th>1</th>\n",
       "      <td>3.0</td>\n",
       "      <td>4.0</td>\n",
       "      <td>0.0</td>\n",
       "      <td>1</td>\n",
       "    </tr>\n",
       "    <tr>\n",
       "      <th>2</th>\n",
       "      <td>0.0</td>\n",
       "      <td>0.0</td>\n",
       "      <td>0.0</td>\n",
       "      <td>5</td>\n",
       "    </tr>\n",
       "    <tr>\n",
       "      <th>3</th>\n",
       "      <td>0.0</td>\n",
       "      <td>3.0</td>\n",
       "      <td>0.0</td>\n",
       "      <td>4</td>\n",
       "    </tr>\n",
       "  </tbody>\n",
       "</table>\n",
       "</div>"
      ],
      "text/plain": [
       "     A    B    C  D\n",
       "0  0.0  2.0  0.0  0\n",
       "1  3.0  4.0  0.0  1\n",
       "2  0.0  0.0  0.0  5\n",
       "3  0.0  3.0  0.0  4"
      ]
     },
     "execution_count": 1121,
     "metadata": {},
     "output_type": "execute_result"
    }
   ],
   "source": [
    "df = pd.read_clipboard()\n",
    "df"
   ]
  },
  {
   "cell_type": "code",
   "execution_count": 1144,
   "metadata": {},
   "outputs": [
    {
     "name": "stdout",
     "output_type": "stream",
     "text": [
      "     A    B    C  D   max\n",
      "0  0.0  2.0  0.0  0  20.0\n",
      "1  3.0  4.0  0.0  1  40.0\n",
      "2  0.0  0.0  0.0  5  15.0\n",
      "3  0.0  3.0  0.0  4  30.0\n"
     ]
    }
   ],
   "source": [
    "df['max'] = (df*[5,10,7,3]).max(1)\n",
    "print(df)"
   ]
  },
  {
   "cell_type": "code",
   "execution_count": 1134,
   "metadata": {},
   "outputs": [
    {
     "data": {
      "text/html": [
       "<div>\n",
       "<style scoped>\n",
       "    .dataframe tbody tr th:only-of-type {\n",
       "        vertical-align: middle;\n",
       "    }\n",
       "\n",
       "    .dataframe tbody tr th {\n",
       "        vertical-align: top;\n",
       "    }\n",
       "\n",
       "    .dataframe thead th {\n",
       "        text-align: right;\n",
       "    }\n",
       "</style>\n",
       "<table border=\"1\" class=\"dataframe\">\n",
       "  <thead>\n",
       "    <tr style=\"text-align: right;\">\n",
       "      <th></th>\n",
       "      <th>A</th>\n",
       "      <th>B</th>\n",
       "      <th>C</th>\n",
       "      <th>D</th>\n",
       "      <th>max</th>\n",
       "    </tr>\n",
       "  </thead>\n",
       "  <tbody>\n",
       "    <tr>\n",
       "      <th>0</th>\n",
       "      <td>0.0</td>\n",
       "      <td>2.0</td>\n",
       "      <td>0.0</td>\n",
       "      <td>0</td>\n",
       "      <td>20.0</td>\n",
       "    </tr>\n",
       "    <tr>\n",
       "      <th>1</th>\n",
       "      <td>3.0</td>\n",
       "      <td>4.0</td>\n",
       "      <td>0.0</td>\n",
       "      <td>1</td>\n",
       "      <td>40.0</td>\n",
       "    </tr>\n",
       "    <tr>\n",
       "      <th>2</th>\n",
       "      <td>0.0</td>\n",
       "      <td>0.0</td>\n",
       "      <td>0.0</td>\n",
       "      <td>5</td>\n",
       "      <td>15.0</td>\n",
       "    </tr>\n",
       "    <tr>\n",
       "      <th>3</th>\n",
       "      <td>0.0</td>\n",
       "      <td>3.0</td>\n",
       "      <td>0.0</td>\n",
       "      <td>4</td>\n",
       "      <td>30.0</td>\n",
       "    </tr>\n",
       "  </tbody>\n",
       "</table>\n",
       "</div>"
      ],
      "text/plain": [
       "     A    B    C  D   max\n",
       "0  0.0  2.0  0.0  0  20.0\n",
       "1  3.0  4.0  0.0  1  40.0\n",
       "2  0.0  0.0  0.0  5  15.0\n",
       "3  0.0  3.0  0.0  4  30.0"
      ]
     },
     "execution_count": 1134,
     "metadata": {},
     "output_type": "execute_result"
    }
   ],
   "source": [
    "df"
   ]
  },
  {
   "cell_type": "code",
   "execution_count": null,
   "metadata": {},
   "outputs": [],
   "source": [
    "    A   B   C   D\n",
    "0   0.0 2.0 0.0 0\n",
    "1   3.0 4.0 0.0 1\n",
    "2   0.0 0.0 0.0 5\n",
    "3   0.0 3.0 0.0 4"
   ]
  },
  {
   "cell_type": "code",
   "execution_count": 1135,
   "metadata": {},
   "outputs": [],
   "source": [
    "df = pd.read_clipboard()"
   ]
  },
  {
   "cell_type": "code",
   "execution_count": 1141,
   "metadata": {},
   "outputs": [],
   "source": [
    "f = lambda x: (x*[5,10,7,3]).max()\n",
    "df['max'] = df.apply(f, axis=1)"
   ]
  },
  {
   "cell_type": "code",
   "execution_count": 1143,
   "metadata": {},
   "outputs": [
    {
     "data": {
      "text/plain": [
       "0    20.0\n",
       "1    40.0\n",
       "2    15.0\n",
       "3    30.0\n",
       "dtype: float64"
      ]
     },
     "execution_count": 1143,
     "metadata": {},
     "output_type": "execute_result"
    }
   ],
   "source": [
    "def Nuevo(x):\n",
    "    return (x*[5,10,7,3]).max()\n",
    "\n",
    "df.apply(Nuevo, axis=1)"
   ]
  },
  {
   "cell_type": "code",
   "execution_count": null,
   "metadata": {},
   "outputs": [],
   "source": []
  },
  {
   "cell_type": "code",
   "execution_count": null,
   "metadata": {},
   "outputs": [],
   "source": []
  },
  {
   "cell_type": "code",
   "execution_count": null,
   "metadata": {},
   "outputs": [],
   "source": [
    "RowNo.    Subject    \n",
    "1      Apple\n",
    "2      Banana\n",
    "3      Orange\n",
    "4      Lemon\n",
    "5      Strawberry"
   ]
  },
  {
   "cell_type": "code",
   "execution_count": 1147,
   "metadata": {},
   "outputs": [
    {
     "data": {
      "text/html": [
       "<div>\n",
       "<style scoped>\n",
       "    .dataframe tbody tr th:only-of-type {\n",
       "        vertical-align: middle;\n",
       "    }\n",
       "\n",
       "    .dataframe tbody tr th {\n",
       "        vertical-align: top;\n",
       "    }\n",
       "\n",
       "    .dataframe thead th {\n",
       "        text-align: right;\n",
       "    }\n",
       "</style>\n",
       "<table border=\"1\" class=\"dataframe\">\n",
       "  <thead>\n",
       "    <tr style=\"text-align: right;\">\n",
       "      <th></th>\n",
       "      <th>RowNo.</th>\n",
       "      <th>Subject</th>\n",
       "    </tr>\n",
       "  </thead>\n",
       "  <tbody>\n",
       "    <tr>\n",
       "      <th>0</th>\n",
       "      <td>1</td>\n",
       "      <td>Apple</td>\n",
       "    </tr>\n",
       "    <tr>\n",
       "      <th>1</th>\n",
       "      <td>2</td>\n",
       "      <td>Banana</td>\n",
       "    </tr>\n",
       "    <tr>\n",
       "      <th>2</th>\n",
       "      <td>3</td>\n",
       "      <td>Orange</td>\n",
       "    </tr>\n",
       "    <tr>\n",
       "      <th>3</th>\n",
       "      <td>4</td>\n",
       "      <td>Lemon</td>\n",
       "    </tr>\n",
       "    <tr>\n",
       "      <th>4</th>\n",
       "      <td>5</td>\n",
       "      <td>Strawberry</td>\n",
       "    </tr>\n",
       "  </tbody>\n",
       "</table>\n",
       "</div>"
      ],
      "text/plain": [
       "   RowNo.     Subject\n",
       "0       1       Apple\n",
       "1       2      Banana\n",
       "2       3      Orange\n",
       "3       4       Lemon\n",
       "4       5  Strawberry"
      ]
     },
     "execution_count": 1147,
     "metadata": {},
     "output_type": "execute_result"
    }
   ],
   "source": [
    "df1 = pd.read_clipboard()\n",
    "df1"
   ]
  },
  {
   "cell_type": "code",
   "execution_count": null,
   "metadata": {},
   "outputs": [],
   "source": [
    "row_number Subjects Special?\n",
    "1    Banana      Yes\n",
    "2    Lemon       No\n",
    "3    Apple       No\n",
    "4    Orange      No\n",
    "5    Strawberry  Yes\n",
    "6    Cranberry   Yes\n",
    "7    Watermelon  No"
   ]
  },
  {
   "cell_type": "code",
   "execution_count": 1148,
   "metadata": {},
   "outputs": [
    {
     "data": {
      "text/html": [
       "<div>\n",
       "<style scoped>\n",
       "    .dataframe tbody tr th:only-of-type {\n",
       "        vertical-align: middle;\n",
       "    }\n",
       "\n",
       "    .dataframe tbody tr th {\n",
       "        vertical-align: top;\n",
       "    }\n",
       "\n",
       "    .dataframe thead th {\n",
       "        text-align: right;\n",
       "    }\n",
       "</style>\n",
       "<table border=\"1\" class=\"dataframe\">\n",
       "  <thead>\n",
       "    <tr style=\"text-align: right;\">\n",
       "      <th></th>\n",
       "      <th>row_number</th>\n",
       "      <th>Subjects</th>\n",
       "      <th>Special?</th>\n",
       "    </tr>\n",
       "  </thead>\n",
       "  <tbody>\n",
       "    <tr>\n",
       "      <th>0</th>\n",
       "      <td>1</td>\n",
       "      <td>Banana</td>\n",
       "      <td>Yes</td>\n",
       "    </tr>\n",
       "    <tr>\n",
       "      <th>1</th>\n",
       "      <td>2</td>\n",
       "      <td>Lemon</td>\n",
       "      <td>No</td>\n",
       "    </tr>\n",
       "    <tr>\n",
       "      <th>2</th>\n",
       "      <td>3</td>\n",
       "      <td>Apple</td>\n",
       "      <td>No</td>\n",
       "    </tr>\n",
       "    <tr>\n",
       "      <th>3</th>\n",
       "      <td>4</td>\n",
       "      <td>Orange</td>\n",
       "      <td>No</td>\n",
       "    </tr>\n",
       "    <tr>\n",
       "      <th>4</th>\n",
       "      <td>5</td>\n",
       "      <td>Strawberry</td>\n",
       "      <td>Yes</td>\n",
       "    </tr>\n",
       "    <tr>\n",
       "      <th>5</th>\n",
       "      <td>6</td>\n",
       "      <td>Cranberry</td>\n",
       "      <td>Yes</td>\n",
       "    </tr>\n",
       "    <tr>\n",
       "      <th>6</th>\n",
       "      <td>7</td>\n",
       "      <td>Watermelon</td>\n",
       "      <td>No</td>\n",
       "    </tr>\n",
       "  </tbody>\n",
       "</table>\n",
       "</div>"
      ],
      "text/plain": [
       "   row_number    Subjects Special?\n",
       "0           1      Banana      Yes\n",
       "1           2       Lemon       No\n",
       "2           3       Apple       No\n",
       "3           4      Orange       No\n",
       "4           5  Strawberry      Yes\n",
       "5           6   Cranberry      Yes\n",
       "6           7  Watermelon       No"
      ]
     },
     "execution_count": 1148,
     "metadata": {},
     "output_type": "execute_result"
    }
   ],
   "source": [
    "df2 = pd.read_clipboard()\n",
    "df2"
   ]
  },
  {
   "cell_type": "code",
   "execution_count": 1164,
   "metadata": {},
   "outputs": [
    {
     "name": "stdout",
     "output_type": "stream",
     "text": [
      "      Subject  RowNo.\n",
      "0       Apple       3\n",
      "1      Banana       1\n",
      "2      Orange       4\n",
      "3       Lemon       2\n",
      "4  Strawberry       5\n"
     ]
    }
   ],
   "source": [
    "ddf = pd.merge(df1['Subject'], \n",
    "               df2[['row_number','Subjects']], \n",
    "               left_on='Subject', \n",
    "               right_on='Subjects', \n",
    "               how='left').drop('Subjects',1)\n",
    "\n",
    "ddf.columns = df1.columns[::-1]\n",
    "print(ddf)"
   ]
  },
  {
   "cell_type": "code",
   "execution_count": 1185,
   "metadata": {},
   "outputs": [
    {
     "name": "stdout",
     "output_type": "stream",
     "text": [
      "      Subject  Row No.\n",
      "0       Apple        3\n",
      "1      Banana        1\n",
      "2      Orange        4\n",
      "3       Lemon        2\n",
      "4  Strawberry        5\n"
     ]
    }
   ],
   "source": [
    "d = dict(zip(df2['Subjects'], df2['row_number']))\n",
    "\n",
    "# {'Banana': 1,\n",
    "#  'Lemon': 2,\n",
    "#  'Apple': 3,\n",
    "#  'Orange': 4,\n",
    "#  'Strawberry': 5,\n",
    "#  'Cranberry': 6,\n",
    "#  'Watermelon': 7}\n",
    "\n",
    "df1['Row No.'] = df1.Subject.replace(d)\n",
    "print(df1.drop('RowNo.',1))\n",
    "\n",
    "      Subject  Row No.\n",
    "0       Apple        3\n",
    "1      Banana        1\n",
    "2      Orange        4\n",
    "3       Lemon        2\n",
    "4  Strawberry        5"
   ]
  },
  {
   "cell_type": "code",
   "execution_count": null,
   "metadata": {},
   "outputs": [],
   "source": []
  },
  {
   "cell_type": "code",
   "execution_count": null,
   "metadata": {},
   "outputs": [],
   "source": []
  },
  {
   "cell_type": "code",
   "execution_count": 1190,
   "metadata": {},
   "outputs": [
    {
     "ename": "TypeError",
     "evalue": "unsupported operand type(s) for -: 'list' and 'int'",
     "output_type": "error",
     "traceback": [
      "\u001b[0;31m---------------------------------------------------------------------------\u001b[0m",
      "\u001b[0;31mTypeError\u001b[0m                                 Traceback (most recent call last)",
      "\u001b[0;32m<ipython-input-1190-843fabb6e69a>\u001b[0m in \u001b[0;36m<module>\u001b[0;34m\u001b[0m\n\u001b[1;32m      9\u001b[0m \u001b[0;34m\u001b[0m\u001b[0m\n\u001b[1;32m     10\u001b[0m \u001b[0;32mfor\u001b[0m \u001b[0md\u001b[0m\u001b[0;34m,\u001b[0m\u001b[0me\u001b[0m \u001b[0;32min\u001b[0m \u001b[0mzip\u001b[0m\u001b[0;34m(\u001b[0m\u001b[0mb\u001b[0m\u001b[0;34m,\u001b[0m\u001b[0mc\u001b[0m\u001b[0;34m)\u001b[0m \u001b[0;34m:\u001b[0m\u001b[0;34m\u001b[0m\u001b[0;34m\u001b[0m\u001b[0m\n\u001b[0;32m---> 11\u001b[0;31m     \u001b[0;32mif\u001b[0m \u001b[0ma\u001b[0m \u001b[0;34m-\u001b[0m \u001b[0;36m1\u001b[0m \u001b[0;34m<=\u001b[0m \u001b[0md\u001b[0m \u001b[0;34m<=\u001b[0m \u001b[0ma\u001b[0m \u001b[0;32mand\u001b[0m \u001b[0ma\u001b[0m \u001b[0;32mis\u001b[0m \u001b[0;32mnot\u001b[0m \u001b[0;32mNone\u001b[0m\u001b[0;34m:\u001b[0m\u001b[0;34m\u001b[0m\u001b[0;34m\u001b[0m\u001b[0m\n\u001b[0m\u001b[1;32m     12\u001b[0m         \u001b[0mval\u001b[0m \u001b[0;34m+=\u001b[0m \u001b[0md\u001b[0m\u001b[0;34m*\u001b[0m\u001b[0me\u001b[0m\u001b[0;34m\u001b[0m\u001b[0;34m\u001b[0m\u001b[0m\n\u001b[1;32m     13\u001b[0m         \u001b[0;32mif\u001b[0m \u001b[0mval\u001b[0m \u001b[0;34m>\u001b[0m \u001b[0;36m0\u001b[0m\u001b[0;34m:\u001b[0m\u001b[0;34m\u001b[0m\u001b[0;34m\u001b[0m\u001b[0m\n",
      "\u001b[0;31mTypeError\u001b[0m: unsupported operand type(s) for -: 'list' and 'int'"
     ]
    }
   ],
   "source": [
    "a = ['61','62','63','64','65','66','67']\n",
    "val=0\n",
    "b = ['64','65','66','67']\n",
    "c = ['0','1','2','3']\n",
    "\n",
    "a = list(map(int, a))\n",
    "b = list(map(int, b))\n",
    "c = list(map(int, c))\n",
    "\n",
    "for d,e in zip(b,c) :\n",
    "    if a - 1 <= d <= a and a is not None:\n",
    "        val += d*e\n",
    "        if val > 0:\n",
    "            print(\"1\")\n",
    "        else:\n",
    "            print(\"2\")"
   ]
  },
  {
   "cell_type": "code",
   "execution_count": 1222,
   "metadata": {},
   "outputs": [
    {
     "data": {
      "text/html": [
       "<div>\n",
       "<style scoped>\n",
       "    .dataframe tbody tr th:only-of-type {\n",
       "        vertical-align: middle;\n",
       "    }\n",
       "\n",
       "    .dataframe tbody tr th {\n",
       "        vertical-align: top;\n",
       "    }\n",
       "\n",
       "    .dataframe thead th {\n",
       "        text-align: right;\n",
       "    }\n",
       "</style>\n",
       "<table border=\"1\" class=\"dataframe\">\n",
       "  <thead>\n",
       "    <tr style=\"text-align: right;\">\n",
       "      <th></th>\n",
       "      <th>x</th>\n",
       "      <th>y</th>\n",
       "      <th>fancy_column_name1</th>\n",
       "      <th>fancy_column_name2</th>\n",
       "    </tr>\n",
       "  </thead>\n",
       "  <tbody>\n",
       "    <tr>\n",
       "      <th>0</th>\n",
       "      <td>1.0</td>\n",
       "      <td>1.0</td>\n",
       "      <td>101.0</td>\n",
       "      <td>0.0100</td>\n",
       "    </tr>\n",
       "    <tr>\n",
       "      <th>1</th>\n",
       "      <td>1.5</td>\n",
       "      <td>-3.0</td>\n",
       "      <td>NaN</td>\n",
       "      <td>NaN</td>\n",
       "    </tr>\n",
       "    <tr>\n",
       "      <th>2</th>\n",
       "      <td>3.1</td>\n",
       "      <td>2.0</td>\n",
       "      <td>102.0</td>\n",
       "      <td>0.0620</td>\n",
       "    </tr>\n",
       "    <tr>\n",
       "      <th>3</th>\n",
       "      <td>3.4</td>\n",
       "      <td>8.0</td>\n",
       "      <td>108.0</td>\n",
       "      <td>0.2720</td>\n",
       "    </tr>\n",
       "    <tr>\n",
       "      <th>4</th>\n",
       "      <td>2.0</td>\n",
       "      <td>2.5</td>\n",
       "      <td>NaN</td>\n",
       "      <td>NaN</td>\n",
       "    </tr>\n",
       "    <tr>\n",
       "      <th>5</th>\n",
       "      <td>-1.0</td>\n",
       "      <td>-1.3</td>\n",
       "      <td>248.7</td>\n",
       "      <td>0.0052</td>\n",
       "    </tr>\n",
       "  </tbody>\n",
       "</table>\n",
       "</div>"
      ],
      "text/plain": [
       "     x    y  fancy_column_name1  fancy_column_name2\n",
       "0  1.0  1.0               101.0              0.0100\n",
       "1  1.5 -3.0                 NaN                 NaN\n",
       "2  3.1  2.0               102.0              0.0620\n",
       "3  3.4  8.0               108.0              0.2720\n",
       "4  2.0  2.5                 NaN                 NaN\n",
       "5 -1.0 -1.3               248.7              0.0052"
      ]
     },
     "execution_count": 1222,
     "metadata": {},
     "output_type": "execute_result"
    }
   ],
   "source": [
    "import pandas as pd\n",
    "\n",
    "def myfcn(row, data, val):\n",
    "    z1 = row['y'] + val\n",
    "    z2 = row['x']*row['y']\n",
    "    return pd.Series(\n",
    "        {\n",
    "         'fancy_column_name1': z1, \n",
    "         'fancy_column_name2': z2/val},\n",
    "        name=row.name\n",
    "    )\n",
    "    \n",
    "\n",
    "col1 = [1, 1.5, 3.1, 3.4, 2, -1]\n",
    "col2 = [1, -3, 2, 8, 2.5, -1.3]\n",
    "df = pd.DataFrame(list(zip(col1, col2)), columns=['x', 'y'])\n",
    "\n",
    "df_subset = df.iloc[[0,2,3]]\n",
    "#display(df_subset)\n",
    "out = df_subset.apply(myfcn, axis=1, args=(df_subset, 100))\n",
    "df = pd.concat([df, out], axis=1)\n",
    "\n",
    "df_subset2 = df.iloc[[5]]\n",
    "out = df_subset2.apply(myfcn, axis=1, args=(df_subset2, 250))\n",
    "\n",
    "out.insert(0, 'x', 0)\n",
    "out.insert(1, 'y', 0)\n",
    "df = df.combine_first(out)\n",
    "df"
   ]
  },
  {
   "cell_type": "code",
   "execution_count": 1214,
   "metadata": {},
   "outputs": [
    {
     "data": {
      "text/html": [
       "<div>\n",
       "<style scoped>\n",
       "    .dataframe tbody tr th:only-of-type {\n",
       "        vertical-align: middle;\n",
       "    }\n",
       "\n",
       "    .dataframe tbody tr th {\n",
       "        vertical-align: top;\n",
       "    }\n",
       "\n",
       "    .dataframe thead th {\n",
       "        text-align: right;\n",
       "    }\n",
       "</style>\n",
       "<table border=\"1\" class=\"dataframe\">\n",
       "  <thead>\n",
       "    <tr style=\"text-align: right;\">\n",
       "      <th></th>\n",
       "      <th>x</th>\n",
       "      <th>y</th>\n",
       "      <th>fancy_column_name1</th>\n",
       "      <th>fancy_column_name2</th>\n",
       "    </tr>\n",
       "  </thead>\n",
       "  <tbody>\n",
       "    <tr>\n",
       "      <th>5</th>\n",
       "      <td>NaN</td>\n",
       "      <td>NaN</td>\n",
       "      <td>y    248.7\n",
       "y      NaN\n",
       "Name: 5, dtype: float64</td>\n",
       "      <td>x   NaN\n",
       "x   NaN\n",
       "y   NaN\n",
       "y   NaN\n",
       "Name: 5, dtype...</td>\n",
       "    </tr>\n",
       "  </tbody>\n",
       "</table>\n",
       "</div>"
      ],
      "text/plain": [
       "    x   y                             fancy_column_name1  \\\n",
       "5 NaN NaN  y    248.7\n",
       "y      NaN\n",
       "Name: 5, dtype: float64   \n",
       "\n",
       "                                  fancy_column_name2  \n",
       "5  x   NaN\n",
       "x   NaN\n",
       "y   NaN\n",
       "y   NaN\n",
       "Name: 5, dtype...  "
      ]
     },
     "execution_count": 1214,
     "metadata": {},
     "output_type": "execute_result"
    }
   ],
   "source": [
    "out"
   ]
  },
  {
   "cell_type": "code",
   "execution_count": 1199,
   "metadata": {},
   "outputs": [
    {
     "data": {
      "text/html": [
       "<div>\n",
       "<style scoped>\n",
       "    .dataframe tbody tr th:only-of-type {\n",
       "        vertical-align: middle;\n",
       "    }\n",
       "\n",
       "    .dataframe tbody tr th {\n",
       "        vertical-align: top;\n",
       "    }\n",
       "\n",
       "    .dataframe thead th {\n",
       "        text-align: right;\n",
       "    }\n",
       "</style>\n",
       "<table border=\"1\" class=\"dataframe\">\n",
       "  <thead>\n",
       "    <tr style=\"text-align: right;\">\n",
       "      <th></th>\n",
       "      <th>fancy_column_name1</th>\n",
       "      <th>fancy_column_name2</th>\n",
       "    </tr>\n",
       "  </thead>\n",
       "  <tbody>\n",
       "    <tr>\n",
       "      <th>5</th>\n",
       "      <td>248.7</td>\n",
       "      <td>0.0052</td>\n",
       "    </tr>\n",
       "  </tbody>\n",
       "</table>\n",
       "</div>"
      ],
      "text/plain": [
       "   fancy_column_name1  fancy_column_name2\n",
       "5               248.7              0.0052"
      ]
     },
     "execution_count": 1199,
     "metadata": {},
     "output_type": "execute_result"
    }
   ],
   "source": []
  },
  {
   "cell_type": "code",
   "execution_count": 1225,
   "metadata": {},
   "outputs": [],
   "source": [
    "df = pd.DataFrame({'A': ['x1','x2','x3', 'x4'], 'B':[['v1','v2'],['v3','v4'],['v5','v6'],['v7','v8']], 'C':[['c1','c2'],['c3','c4'],['c5','c6'],['c7','c8']]})"
   ]
  },
  {
   "cell_type": "code",
   "execution_count": 1226,
   "metadata": {},
   "outputs": [
    {
     "data": {
      "text/html": [
       "<div>\n",
       "<style scoped>\n",
       "    .dataframe tbody tr th:only-of-type {\n",
       "        vertical-align: middle;\n",
       "    }\n",
       "\n",
       "    .dataframe tbody tr th {\n",
       "        vertical-align: top;\n",
       "    }\n",
       "\n",
       "    .dataframe thead th {\n",
       "        text-align: right;\n",
       "    }\n",
       "</style>\n",
       "<table border=\"1\" class=\"dataframe\">\n",
       "  <thead>\n",
       "    <tr style=\"text-align: right;\">\n",
       "      <th></th>\n",
       "      <th>A</th>\n",
       "      <th>B</th>\n",
       "      <th>C</th>\n",
       "    </tr>\n",
       "  </thead>\n",
       "  <tbody>\n",
       "    <tr>\n",
       "      <th>0</th>\n",
       "      <td>x1</td>\n",
       "      <td>[v1, v2]</td>\n",
       "      <td>[c1, c2]</td>\n",
       "    </tr>\n",
       "    <tr>\n",
       "      <th>1</th>\n",
       "      <td>x2</td>\n",
       "      <td>[v3, v4]</td>\n",
       "      <td>[c3, c4]</td>\n",
       "    </tr>\n",
       "    <tr>\n",
       "      <th>2</th>\n",
       "      <td>x3</td>\n",
       "      <td>[v5, v6]</td>\n",
       "      <td>[c5, c6]</td>\n",
       "    </tr>\n",
       "    <tr>\n",
       "      <th>3</th>\n",
       "      <td>x4</td>\n",
       "      <td>[v7, v8]</td>\n",
       "      <td>[c7, c8]</td>\n",
       "    </tr>\n",
       "  </tbody>\n",
       "</table>\n",
       "</div>"
      ],
      "text/plain": [
       "    A         B         C\n",
       "0  x1  [v1, v2]  [c1, c2]\n",
       "1  x2  [v3, v4]  [c3, c4]\n",
       "2  x3  [v5, v6]  [c5, c6]\n",
       "3  x4  [v7, v8]  [c7, c8]"
      ]
     },
     "execution_count": 1226,
     "metadata": {},
     "output_type": "execute_result"
    }
   ],
   "source": [
    "df"
   ]
  },
  {
   "cell_type": "code",
   "execution_count": null,
   "metadata": {},
   "outputs": [],
   "source": []
  },
  {
   "cell_type": "code",
   "execution_count": null,
   "metadata": {},
   "outputs": [],
   "source": []
  },
  {
   "cell_type": "code",
   "execution_count": null,
   "metadata": {},
   "outputs": [],
   "source": [
    "df.set_index('A')"
   ]
  },
  {
   "cell_type": "code",
   "execution_count": null,
   "metadata": {},
   "outputs": [],
   "source": []
  },
  {
   "cell_type": "code",
   "execution_count": null,
   "metadata": {},
   "outputs": [],
   "source": []
  },
  {
   "cell_type": "code",
   "execution_count": 1251,
   "metadata": {},
   "outputs": [],
   "source": [
    "import numpy as np\n",
    "\n",
    "A = np.random.randn(1000, 2000)\n",
    "mask = np.where((A >=0.1) & (A <= 0.5))\n",
    "\n",
    "idx_flat = np.ravel_multi_index(mask, (1000,2000))\n",
    "idx_2d = np.unravel_index(idx_flat, (1000,2000))\n",
    "\n",
    "print(np.allclose(A.ravel()[idx_flat],A[mask]))\n",
    "print(np.allclose(idx_2d,mask))"
   ]
  },
  {
   "cell_type": "code",
   "execution_count": 1263,
   "metadata": {},
   "outputs": [
    {
     "data": {
      "text/plain": [
       "array([0.14130098, 0.33887869, 0.10851242, ..., 0.45141419, 0.36102473,\n",
       "       0.11280649])"
      ]
     },
     "execution_count": 1263,
     "metadata": {},
     "output_type": "execute_result"
    }
   ],
   "source": [
    "def fortran_function(x):\n",
    "    return x\n",
    "\n",
    "output = fortran_function(A.ravel()[idx_flat]) #Flat values go into fortran function\n",
    "\n",
    "A[idx_2d] = output #Update the 2D indexes of A with the flat output"
   ]
  },
  {
   "cell_type": "code",
   "execution_count": null,
   "metadata": {},
   "outputs": [],
   "source": []
  },
  {
   "cell_type": "code",
   "execution_count": null,
   "metadata": {},
   "outputs": [],
   "source": []
  },
  {
   "cell_type": "code",
   "execution_count": null,
   "metadata": {},
   "outputs": [],
   "source": []
  },
  {
   "cell_type": "code",
   "execution_count": null,
   "metadata": {},
   "outputs": [],
   "source": []
  },
  {
   "cell_type": "code",
   "execution_count": null,
   "metadata": {},
   "outputs": [],
   "source": []
  },
  {
   "cell_type": "code",
   "execution_count": 1262,
   "metadata": {},
   "outputs": [
    {
     "name": "stdout",
     "output_type": "stream",
     "text": [
      "True\n",
      "True\n"
     ]
    }
   ],
   "source": [
    "A = np.random.randn(5, 5)\n",
    "mask = np.where((A >=0.1) & (A <= 0.5))"
   ]
  },
  {
   "cell_type": "code",
   "execution_count": null,
   "metadata": {},
   "outputs": [],
   "source": []
  },
  {
   "cell_type": "code",
   "execution_count": null,
   "metadata": {},
   "outputs": [],
   "source": []
  },
  {
   "cell_type": "code",
   "execution_count": null,
   "metadata": {},
   "outputs": [],
   "source": []
  },
  {
   "cell_type": "code",
   "execution_count": 1271,
   "metadata": {},
   "outputs": [],
   "source": [
    "import numpy as np\n",
    "\n",
    "\n",
    "my_list = [['Hamburg', 'Hanover', 'Leipzig'], ['Leipzig', 'Nuremberg']]\n",
    "Correct_result = []\n",
    "for sub_list in my_list:\n",
    "    Correct_result.append(np.array(sub_list, dtype=object))\n",
    "Correct_result = np.array(Correct_result, dtype=object)"
   ]
  },
  {
   "cell_type": "code",
   "execution_count": 1272,
   "metadata": {},
   "outputs": [
    {
     "data": {
      "text/plain": [
       "array([array(['Hamburg', 'Hanover', 'Leipzig'], dtype=object),\n",
       "       array(['Leipzig', 'Nuremberg'], dtype=object)], dtype=object)"
      ]
     },
     "execution_count": 1272,
     "metadata": {},
     "output_type": "execute_result"
    }
   ],
   "source": [
    "Correct_result"
   ]
  },
  {
   "cell_type": "code",
   "execution_count": null,
   "metadata": {},
   "outputs": [],
   "source": []
  },
  {
   "cell_type": "code",
   "execution_count": null,
   "metadata": {},
   "outputs": [],
   "source": []
  },
  {
   "cell_type": "code",
   "execution_count": null,
   "metadata": {},
   "outputs": [],
   "source": []
  },
  {
   "cell_type": "code",
   "execution_count": null,
   "metadata": {},
   "outputs": [],
   "source": []
  },
  {
   "cell_type": "code",
   "execution_count": null,
   "metadata": {},
   "outputs": [],
   "source": []
  },
  {
   "cell_type": "code",
   "execution_count": 1275,
   "metadata": {},
   "outputs": [
    {
     "data": {
      "text/plain": [
       "{'a': None, 'b': None, 'c': None, 'd': None}"
      ]
     },
     "execution_count": 1275,
     "metadata": {},
     "output_type": "execute_result"
    }
   ],
   "source": [
    "keys = [\"a\", \"b\", \"c\", \"d\"]\n",
    "d = {key: None for key in keys}\n",
    "d"
   ]
  },
  {
   "cell_type": "code",
   "execution_count": 1276,
   "metadata": {},
   "outputs": [
    {
     "data": {
      "text/html": [
       "<div>\n",
       "<style scoped>\n",
       "    .dataframe tbody tr th:only-of-type {\n",
       "        vertical-align: middle;\n",
       "    }\n",
       "\n",
       "    .dataframe tbody tr th {\n",
       "        vertical-align: top;\n",
       "    }\n",
       "\n",
       "    .dataframe thead th {\n",
       "        text-align: right;\n",
       "    }\n",
       "</style>\n",
       "<table border=\"1\" class=\"dataframe\">\n",
       "  <thead>\n",
       "    <tr style=\"text-align: right;\">\n",
       "      <th></th>\n",
       "      <th>0</th>\n",
       "      <th>1</th>\n",
       "      <th>2</th>\n",
       "      <th>3</th>\n",
       "      <th>4</th>\n",
       "      <th>5</th>\n",
       "      <th>6</th>\n",
       "      <th>7</th>\n",
       "      <th>8</th>\n",
       "      <th>9</th>\n",
       "    </tr>\n",
       "  </thead>\n",
       "  <tbody>\n",
       "    <tr>\n",
       "      <th>0</th>\n",
       "      <td>0</td>\n",
       "      <td>1</td>\n",
       "      <td>1</td>\n",
       "      <td>1</td>\n",
       "      <td>1</td>\n",
       "      <td>0</td>\n",
       "      <td>1</td>\n",
       "      <td>1</td>\n",
       "      <td>1</td>\n",
       "      <td>1</td>\n",
       "    </tr>\n",
       "    <tr>\n",
       "      <th>1</th>\n",
       "      <td>0</td>\n",
       "      <td>1</td>\n",
       "      <td>1</td>\n",
       "      <td>0</td>\n",
       "      <td>0</td>\n",
       "      <td>0</td>\n",
       "      <td>0</td>\n",
       "      <td>0</td>\n",
       "      <td>0</td>\n",
       "      <td>0</td>\n",
       "    </tr>\n",
       "    <tr>\n",
       "      <th>2</th>\n",
       "      <td>0</td>\n",
       "      <td>1</td>\n",
       "      <td>0</td>\n",
       "      <td>1</td>\n",
       "      <td>1</td>\n",
       "      <td>0</td>\n",
       "      <td>1</td>\n",
       "      <td>1</td>\n",
       "      <td>1</td>\n",
       "      <td>0</td>\n",
       "    </tr>\n",
       "    <tr>\n",
       "      <th>3</th>\n",
       "      <td>0</td>\n",
       "      <td>1</td>\n",
       "      <td>0</td>\n",
       "      <td>0</td>\n",
       "      <td>1</td>\n",
       "      <td>1</td>\n",
       "      <td>1</td>\n",
       "      <td>0</td>\n",
       "      <td>1</td>\n",
       "      <td>1</td>\n",
       "    </tr>\n",
       "    <tr>\n",
       "      <th>4</th>\n",
       "      <td>0</td>\n",
       "      <td>0</td>\n",
       "      <td>1</td>\n",
       "      <td>0</td>\n",
       "      <td>0</td>\n",
       "      <td>1</td>\n",
       "      <td>0</td>\n",
       "      <td>0</td>\n",
       "      <td>1</td>\n",
       "      <td>0</td>\n",
       "    </tr>\n",
       "  </tbody>\n",
       "</table>\n",
       "</div>"
      ],
      "text/plain": [
       "   0  1  2  3  4  5  6  7  8  9\n",
       "0  0  1  1  1  1  0  1  1  1  1\n",
       "1  0  1  1  0  0  0  0  0  0  0\n",
       "2  0  1  0  1  1  0  1  1  1  0\n",
       "3  0  1  0  0  1  1  1  0  1  1\n",
       "4  0  0  1  0  0  1  0  0  1  0"
      ]
     },
     "execution_count": 1276,
     "metadata": {},
     "output_type": "execute_result"
    }
   ],
   "source": [
    "df2 = pd.DataFrame(np.random.randint(0,2,(5,10)))\n",
    "df2"
   ]
  },
  {
   "cell_type": "code",
   "execution_count": 1284,
   "metadata": {},
   "outputs": [
    {
     "data": {
      "text/plain": [
       "25"
      ]
     },
     "execution_count": 1284,
     "metadata": {},
     "output_type": "execute_result"
    }
   ],
   "source": [
    "(df2==1).values.sum()\n",
    "(df2==1).to_numpy().sum()"
   ]
  },
  {
   "cell_type": "code",
   "execution_count": 1289,
   "metadata": {},
   "outputs": [
    {
     "name": "stdout",
     "output_type": "stream",
     "text": [
      "25\n"
     ]
    }
   ],
   "source": [
    "k=0\n",
    "for i in range(df2.shape[0]):\n",
    "    for j in range(df2.shape[1]):\n",
    "        if df2.iloc[i,j]==1:\n",
    "            k+=1\n",
    "print(k)"
   ]
  },
  {
   "cell_type": "code",
   "execution_count": null,
   "metadata": {},
   "outputs": [],
   "source": []
  },
  {
   "cell_type": "code",
   "execution_count": null,
   "metadata": {},
   "outputs": [],
   "source": []
  },
  {
   "cell_type": "code",
   "execution_count": null,
   "metadata": {},
   "outputs": [],
   "source": []
  },
  {
   "cell_type": "code",
   "execution_count": 1290,
   "metadata": {},
   "outputs": [],
   "source": [
    "from tensorflow.keras.layers import Embedding, Bidirectional, LSTM, Dense\n",
    "from tensorflow.keras import Sequential"
   ]
  },
  {
   "cell_type": "code",
   "execution_count": null,
   "metadata": {},
   "outputs": [],
   "source": [
    "X_train = np.random.random(((800,2)))\n",
    "y_train = np.random.random(())\n",
    "\n",
    "vocab = 1000"
   ]
  },
  {
   "cell_type": "code",
   "execution_count": 1295,
   "metadata": {},
   "outputs": [
    {
     "name": "stdout",
     "output_type": "stream",
     "text": [
      "Model: \"sequential_3\"\n",
      "_________________________________________________________________\n",
      "Layer (type)                 Output Shape              Param #   \n",
      "=================================================================\n",
      "embedding_2 (Embedding)      (None, 16, 64)            64000     \n",
      "_________________________________________________________________\n",
      "bidirectional_4 (Bidirection (None, 16, 40)            13600     \n",
      "_________________________________________________________________\n",
      "bidirectional_5 (Bidirection (None, 40)                9760      \n",
      "_________________________________________________________________\n",
      "dense_172 (Dense)            (None, 1)                 41        \n",
      "=================================================================\n",
      "Total params: 87,401\n",
      "Trainable params: 87,401\n",
      "Non-trainable params: 0\n",
      "_________________________________________________________________\n"
     ]
    }
   ],
   "source": [
    "model = Sequential()\n",
    "model.add(Embedding(vocab, 64, input_length=length)\n",
    "model.add(Bidirectional(LSTM(20, return_sequences = True)))\n",
    "model.add(Bidirectional(LSTM(20)))\n",
    "model.add(Dense(1, activation='sigmoid'))\n",
    "model.compile(loss='binary_crossentropy', optimizer='adam', metrics=['accuracy'])\n",
    "\n",
    "model.fit(X_train, y_train, epoch=2)"
   ]
  },
  {
   "cell_type": "code",
   "execution_count": null,
   "metadata": {},
   "outputs": [],
   "source": []
  },
  {
   "cell_type": "code",
   "execution_count": null,
   "metadata": {},
   "outputs": [],
   "source": []
  },
  {
   "cell_type": "code",
   "execution_count": null,
   "metadata": {},
   "outputs": [],
   "source": []
  },
  {
   "cell_type": "code",
   "execution_count": 1375,
   "metadata": {},
   "outputs": [
    {
     "name": "stdout",
     "output_type": "stream",
     "text": [
      "  Name  Number B2B  Number B2C\n",
      "0   Pa           1           0\n",
      "1   Co           2           0\n",
      "2   Co           0           1\n",
      "3   Pa           1           0\n",
      "4   Pa           0           1\n"
     ]
    }
   ],
   "source": [
    "import pandas as pd\n",
    "import numpy as np\n",
    "\n",
    "df = pd.DataFrame({'Name':['Pa','Co','Pa'],'Number B2B':[1,2,1], 'Number B2C':[0,1,1]})\n",
    "\n",
    "#Set 'Name' as index\n",
    "df = df.set_index('Name')\n",
    "\n",
    "#kernel to shift values to diagonals\n",
    "k = [[1,0], \n",
    "     [0,1]]\n",
    "\n",
    "#if all values in row are non zero, multiply with k else return x values with added axis\n",
    "f = lambda row: row.values*k if (row!=0).all() else row.values[None,:]\n",
    "\n",
    "#apply on 3 rows and explode to get 5 rows instead of 3\n",
    "out = df.apply(f, axis=1).explode()\n",
    "\n",
    "#convert to dataframe with separate columns, col names and index values\n",
    "out2 = pd.DataFrame(out.to_list(), columns=df.columns, index=out.index).reset_index()\n",
    "print(out2)"
   ]
  },
  {
   "cell_type": "code",
   "execution_count": 1391,
   "metadata": {},
   "outputs": [
    {
     "name": "stdout",
     "output_type": "stream",
     "text": [
      "  Name  Number B2B  Number B2C\n",
      "0   Pa           1           0\n",
      "1   Co           2           0\n",
      "2   Co           0           1\n",
      "3   Pa           1           0\n",
      "4   Pa           0           1\n"
     ]
    }
   ],
   "source": [
    "out = df.apply(lambda row: row.values*k, axis=1).explode()\n",
    "out = pd.DataFrame(out.to_list(), columns=df.columns, index=out.index)\n",
    "out = out[~(out==0).all(1)].reset_index()\n",
    "print(out)"
   ]
  },
  {
   "cell_type": "code",
   "execution_count": null,
   "metadata": {},
   "outputs": [],
   "source": []
  }
 ],
 "metadata": {
  "kernelspec": {
   "display_name": "Python 3",
   "language": "python",
   "name": "python3"
  },
  "language_info": {
   "codemirror_mode": {
    "name": "ipython",
    "version": 3
   },
   "file_extension": ".py",
   "mimetype": "text/x-python",
   "name": "python",
   "nbconvert_exporter": "python",
   "pygments_lexer": "ipython3",
   "version": "3.8.3"
  }
 },
 "nbformat": 4,
 "nbformat_minor": 4
}
