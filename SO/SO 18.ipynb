{
 "cells": [
  {
   "cell_type": "code",
   "execution_count": null,
   "metadata": {},
   "outputs": [],
   "source": [
    "import numpy as np\n",
    "import pandas as pd"
   ]
  },
  {
   "cell_type": "code",
   "execution_count": null,
   "metadata": {},
   "outputs": [],
   "source": [
    "out = pd.Series([[1, 1, 1, 1, 1, 1, 2, 3, 6, 4, 4, 4, 5, 5, 5], \n",
    "                 [1, 1, 1, 1, 1, 1, 2, 3, 6, 4, 4, 4, 5, 5, 5],\n",
    "                 [1, 1, 1, 1, 1, 1, 2, 3, 6, 4, 4, 4, 5, 5, 5],\n",
    "                 [2, 3, 6, 4, 4, 4, 5, 5, 5, 5],\n",
    "                 [2, 3, 6, 4, 4, 5, 5, 5],\n",
    "                 [2, 3, 6, 4, 4, 5, 5, 5],\n",
    "                 [2, 3, 6, 4, 5, 5]])\n",
    "\n",
    "out.apply(lambda x: dict(enumerate(x,1)))"
   ]
  },
  {
   "cell_type": "code",
   "execution_count": null,
   "metadata": {},
   "outputs": [],
   "source": [
    "\n",
    "43246                               [2, 3, 6, 4, 4, 5, 5, 5]\n",
    "43247                               [2, 3, 6, 4, 4, 5, 5, 5]\n",
    "43248                                     [2, 3, 6, 4, 5, 5]"
   ]
  },
  {
   "cell_type": "code",
   "execution_count": null,
   "metadata": {},
   "outputs": [],
   "source": []
  },
  {
   "cell_type": "code",
   "execution_count": null,
   "metadata": {},
   "outputs": [],
   "source": []
  },
  {
   "cell_type": "code",
   "execution_count": null,
   "metadata": {},
   "outputs": [],
   "source": [
    "d = {\n",
    "    'var1': [0, 1],\n",
    "    'var2': [\"foo\", \"bar\"]\n",
    "    }"
   ]
  },
  {
   "cell_type": "code",
   "execution_count": null,
   "metadata": {},
   "outputs": [],
   "source": []
  },
  {
   "cell_type": "code",
   "execution_count": null,
   "metadata": {},
   "outputs": [],
   "source": []
  },
  {
   "cell_type": "code",
   "execution_count": null,
   "metadata": {},
   "outputs": [],
   "source": [
    "import numpy as np"
   ]
  },
  {
   "cell_type": "code",
   "execution_count": null,
   "metadata": {},
   "outputs": [],
   "source": [
    "{i:list(j) for i,j in zip(d.keys(),np.array(list(d.values())).T)}"
   ]
  },
  {
   "cell_type": "code",
   "execution_count": null,
   "metadata": {},
   "outputs": [],
   "source": [
    "[{j:k for j,k in zip(d.keys(),i)} for i in np.array(list(d.values())).T]"
   ]
  },
  {
   "cell_type": "code",
   "execution_count": null,
   "metadata": {},
   "outputs": [],
   "source": [
    "[{{l:m for l,m in zip(d.keys(),j)}} for i,j in zip(d.keys(),np.array(list(d.values())).T)]"
   ]
  },
  {
   "cell_type": "code",
   "execution_count": null,
   "metadata": {},
   "outputs": [],
   "source": []
  },
  {
   "cell_type": "code",
   "execution_count": null,
   "metadata": {},
   "outputs": [],
   "source": [
    "d = {\n",
    "    'x': ['a', 'b'],\n",
    "    'y': [0, 1],\n",
    "    'z': ['foo', 'bar']\n",
    "}"
   ]
  },
  {
   "cell_type": "code",
   "execution_count": null,
   "metadata": {},
   "outputs": [],
   "source": [
    "f = lambda x: {i:j for i,j in zip(d,x)}  #Creates the values of final output\n",
    "g = lambda x: '_'.join([str(j) for i in zip(d,x) for j in i])  #Creates the keys of final output\n",
    "\n",
    "[{g(i):f(i)} for i in zip(*d.values())]"
   ]
  },
  {
   "cell_type": "code",
   "execution_count": null,
   "metadata": {},
   "outputs": [],
   "source": []
  },
  {
   "cell_type": "code",
   "execution_count": null,
   "metadata": {},
   "outputs": [],
   "source": []
  },
  {
   "cell_type": "code",
   "execution_count": null,
   "metadata": {},
   "outputs": [],
   "source": []
  },
  {
   "cell_type": "code",
   "execution_count": null,
   "metadata": {},
   "outputs": [],
   "source": []
  },
  {
   "cell_type": "code",
   "execution_count": null,
   "metadata": {},
   "outputs": [],
   "source": [
    "d = {\n",
    "    'pattern1':'output1',\n",
    "    'pattern2':'output2'\n",
    "    }\n",
    "\n",
    "df_answers_clean['Race'].replace(d, regex=True)"
   ]
  },
  {
   "cell_type": "code",
   "execution_count": null,
   "metadata": {},
   "outputs": [],
   "source": [
    "race_names_change = ['Black or of African descent', 'East Asian', 'Hispanic or Latino/Latina', 'Middle Eastern', 'South Asian', 'Native American, Pacific Islander, or Indigenous Australian', 'White or of European descent']\n",
    "\n",
    "d = {}\n",
    "for i in race_names_change:\n",
    "    replace_string = str('^'+ i +'[\\s\\S]*')\n",
    "    replace_string\n",
    "    d.update({replace_string:i})\n",
    "    \n",
    "df_answers_clean['Race'].replace(d, regex=True)"
   ]
  },
  {
   "cell_type": "code",
   "execution_count": null,
   "metadata": {},
   "outputs": [],
   "source": []
  },
  {
   "cell_type": "code",
   "execution_count": null,
   "metadata": {},
   "outputs": [],
   "source": []
  },
  {
   "cell_type": "code",
   "execution_count": null,
   "metadata": {},
   "outputs": [],
   "source": []
  },
  {
   "cell_type": "code",
   "execution_count": null,
   "metadata": {},
   "outputs": [],
   "source": []
  },
  {
   "cell_type": "code",
   "execution_count": null,
   "metadata": {},
   "outputs": [],
   "source": [
    "        0       1       2       3        4         5          6\n",
    "0  532201  577834  577837  839786  1003273       NaN        NaN\n",
    "1  577834  577837  649835  839786  1003273       NaN        NaN\n",
    "2  577834  577837  649835  839786  1003273       NaN        NaN\n",
    "3  577834  577837  649839  649845   839785  839786.0  1003273.0\n",
    "4  577834  577837  649839  839786  1003273       NaN        NaN\n",
    "5  577834  577837  649839  839786  1003273       NaN        NaN\n",
    "6  577834  577837  649839  839786  1003273       NaN        NaN"
   ]
  },
  {
   "cell_type": "code",
   "execution_count": null,
   "metadata": {},
   "outputs": [],
   "source": [
    "df = pd.read_clipboard()"
   ]
  },
  {
   "cell_type": "code",
   "execution_count": null,
   "metadata": {},
   "outputs": [],
   "source": [
    "#Get all unique values in the dataset except nans\n",
    "#unique_vals = np.sort(np.unique(df.values[~np.isnan(df.values)])).astype(int)\n",
    "unique_vals = df.stack().dropna().sort_values().unique()\n",
    "\n",
    "#Iterate all unique values in order and return nan if they are not in row\n",
    "f = lambda row: pd.Series([i if i in list(row) else None for i in unique_vals])\n",
    "\n",
    "#Apply lambda function to each row\n",
    "out = df.apply(f, axis=1)\n",
    "out"
   ]
  },
  {
   "cell_type": "code",
   "execution_count": null,
   "metadata": {},
   "outputs": [],
   "source": []
  },
  {
   "cell_type": "code",
   "execution_count": null,
   "metadata": {},
   "outputs": [],
   "source": [
    "data = {'10.0': [{'putCall': 'CALL', 'symbol': 'MIK_021921C10', 'description': 'MIK Feb 19 2021 10 Call', 'exchangeName': 'OPR', 'bid': 5.5, 'ask': 6.6, 'last': 5.41, 'mark': 6.05, 'bidSize': 36, 'askSize': 36, 'bidAskSize': '36X36', 'lastSize': 0, 'highPrice': 0.0, 'lowPrice': 0.0, 'openPrice': 0.0, 'closePrice': 6.64, 'totalVolume': 0, 'tradeDate': None, 'tradeTimeInLong': 1612471445495, 'quoteTimeInLong': 1613077155694, 'netChange': -1.09, 'volatility': 271.984, 'delta': 0.901, 'gamma': 0.027, 'theta': -0.068, 'vega': 0.004, 'rho': 0.002, 'openInterest': 119, 'timeValue': -0.25, 'theoreticalOptionValue': 6.05, 'theoreticalVolatility': 29.0, 'optionDeliverablesList': None, 'strikePrice': 10.0, 'expirationDate': 1613768400000, 'daysToExpiration': 8, 'expirationType': 'R', 'lastTradingDay': 1613782800000, 'multiplier': 100.0, 'settlementType': ' ', 'deliverableNote': '', 'isIndexOption': None, 'percentChange': -16.42, 'markChange': -0.59, 'markPercentChange': -8.87, 'nonStandard': False, 'inTheMoney': True, 'mini': False}], '12.5': [{'putCall': 'CALL', 'symbol': 'MIK_021921C12.5', 'description': 'MIK Feb 19 2021 12.5 Call', 'exchangeName': 'OPR', 'bid': 1.7, 'ask': 3.4, 'last': 3.6, 'mark': 2.55, 'bidSize': 408, 'askSize': 36, 'bidAskSize': '408X36', 'lastSize': 0, 'highPrice': 4.2, 'lowPrice': 3.6, 'openPrice': 0.0, 'closePrice': 4.19, 'totalVolume': 25, 'tradeDate': None, 'tradeTimeInLong': 1613065348968, 'quoteTimeInLong': 1613077199219, 'netChange': -0.59, 'volatility': 81.53, 'delta': 0.97, 'gamma': 0.036, 'theta': -0.01, 'vega': 0.002, 'rho': 0.003, 'openInterest': 1138, 'timeValue': 0.44, 'theoreticalOptionValue': 3.2, 'theoreticalVolatility': 29.0, 'optionDeliverablesList': None, 'strikePrice': 12.5, 'expirationDate': 1613768400000, 'daysToExpiration': 8, 'expirationType': 'R', 'lastTradingDay': 1613782800000, 'multiplier': 100.0, 'settlementType': ' ', 'deliverableNote': '', 'isIndexOption': None, 'percentChange': -14.04, 'markChange': -1.64, 'markPercentChange': -39.11, 'nonStandard': False, 'inTheMoney': True, 'mini': False}], '15.0': [{'putCall': 'CALL', 'symbol': 'MIK_021921C15', 'description': 'MIK Feb 19 2021 15 Call', 'exchangeName': 'OPR', 'bid': 0.95, 'ask': 1.05, 'last': 1.0, 'mark': 1.0, 'bidSize': 13, 'askSize': 12, 'bidAskSize': '13X12', 'lastSize': 0, 'highPrice': 1.65, 'lowPrice': 0.97, 'openPrice': 0.0, 'closePrice': 1.79, 'totalVolume': 30, 'tradeDate': None, 'tradeTimeInLong': 1613076748160, 'quoteTimeInLong': 1613077199427, 'netChange': -0.79, 'volatility': 64.009, 'delta': 0.691, 'gamma': 0.229, 'theta': -0.033, 'vega': 0.009, 'rho': 0.002, 'openInterest': 3370, 'timeValue': 0.34, 'theoreticalOptionValue': 1.0, 'theoreticalVolatility': 29.0, 'optionDeliverablesList': None, 'strikePrice': 15.0, 'expirationDate': 1613768400000, 'daysToExpiration': 8, 'expirationType': 'R', 'lastTradingDay': 1613782800000, 'multiplier': 100.0, 'settlementType': ' ', 'deliverableNote': '', 'isIndexOption': None, 'percentChange': -44.07, 'markChange': -0.79, 'markPercentChange': -44.07, 'nonStandard': False, 'inTheMoney': True, 'mini': False}], '17.5': [{'putCall': 'CALL', 'symbol': 'MIK_021921C17.5', 'description': 'MIK Feb 19 2021 17.5 Call', 'exchangeName': 'OPR', 'bid': 0.15, 'ask': 0.25, 'last': 0.15, 'mark': 0.2, 'bidSize': 12, 'askSize': 42, 'bidAskSize': '12X42', 'lastSize': 0, 'highPrice': 0.45, 'lowPrice': 0.15, 'openPrice': 0.0, 'closePrice': 0.47, 'totalVolume': 37, 'tradeDate': None, 'tradeTimeInLong': 1613077039645, 'quoteTimeInLong': 1613077173597, 'netChange': -0.32, 'volatility': 78.904, 'delta': 0.199, 'gamma': 0.147, 'theta': -0.031, 'vega': 0.007, 'rho': 0.001, 'openInterest': 2088, 'timeValue': 0.15, 'theoreticalOptionValue': 0.2, 'theoreticalVolatility': 29.0, 'optionDeliverablesList': None, 'strikePrice': 17.5, 'expirationDate': 1613768400000, 'daysToExpiration': 8, 'expirationType': 'R', 'lastTradingDay': 1613782800000, 'multiplier': 100.0, 'settlementType': ' ', 'deliverableNote': '', 'isIndexOption': None, 'percentChange': -68.42, 'markChange': -0.27, 'markPercentChange': -57.89, 'nonStandard': False, 'inTheMoney': False, 'mini': False}], '20.0': [{'putCall': 'CALL', 'symbol': 'MIK_021921C20', 'description': 'MIK Feb 19 2021 20 Call', 'exchangeName': 'OPR', 'bid': 0.0, 'ask': 0.05, 'last': 0.05, 'mark': 0.03, 'bidSize': 0, 'askSize': 28, 'bidAskSize': '0X28', 'lastSize': 0, 'highPrice': 0.15, 'lowPrice': 0.05, 'openPrice': 0.0, 'closePrice': 0.13, 'totalVolume': 306, 'tradeDate': None, 'tradeTimeInLong': 1613076428675, 'quoteTimeInLong': 1613076591127, 'netChange': -0.08, 'volatility': 83.171, 'delta': 0.033, 'gamma': 0.037, 'theta': -0.009, 'vega': 0.002, 'rho': 0.0, 'openInterest': 3015, 'timeValue': 0.05, 'theoreticalOptionValue': 0.025, 'theoreticalVolatility': 29.0, 'optionDeliverablesList': None, 'strikePrice': 20.0, 'expirationDate': 1613768400000, 'daysToExpiration': 8, 'expirationType': 'R', 'lastTradingDay': 1613782800000, 'multiplier': 100.0, 'settlementType': ' ', 'deliverableNote': '', 'isIndexOption': None, 'percentChange': -60.0, 'markChange': -0.1, 'markPercentChange': -80.0, 'nonStandard': False, 'inTheMoney': False, 'mini': False}], '22.5': [{'putCall': 'CALL', 'symbol': 'MIK_021921C22.5', 'description': 'MIK Feb 19 2021 22.5 Call', 'exchangeName': 'OPR', 'bid': 0.0, 'ask': 0.05, 'last': 0.04, 'mark': 0.03, 'bidSize': 0, 'askSize': 1, 'bidAskSize': '0X1', 'lastSize': 0, 'highPrice': 0.05, 'lowPrice': 0.04, 'openPrice': 0.0, 'closePrice': 0.08, 'totalVolume': 31, 'tradeDate': None, 'tradeTimeInLong': 1613072074061, 'quoteTimeInLong': 1613076574089, 'netChange': -0.04, 'volatility': 114.755, 'delta': 0.025, 'gamma': 0.021, 'theta': -0.009, 'vega': 0.001, 'rho': 0.0, 'openInterest': 5484, 'timeValue': 0.04, 'theoreticalOptionValue': 0.025, 'theoreticalVolatility': 29.0, 'optionDeliverablesList': None, 'strikePrice': 22.5, 'expirationDate': 1613768400000, 'daysToExpiration': 8, 'expirationType': 'R', 'lastTradingDay': 1613782800000, 'multiplier': 100.0, 'settlementType': ' ', 'deliverableNote': '', 'isIndexOption': None, 'percentChange': -46.67, 'markChange': -0.05, 'markPercentChange': -66.67, 'nonStandard': False, 'inTheMoney': False, 'mini': False}], '25.0': [{'putCall': 'CALL', 'symbol': 'MIK_021921C25', 'description': 'MIK Feb 19 2021 25 Call', 'exchangeName': 'OPR', 'bid': 0.0, 'ask': 0.1, 'last': 0.05, 'mark': 0.05, 'bidSize': 0, 'askSize': 252, 'bidAskSize': '0X252', 'lastSize': 0, 'highPrice': 0.05, 'lowPrice': 0.05, 'openPrice': 0.0, 'closePrice': 0.05, 'totalVolume': 17, 'tradeDate': None, 'tradeTimeInLong': 1613056533967, 'quoteTimeInLong': 1613077199219, 'netChange': 0.0, 'volatility': 157.63, 'delta': 0.036, 'gamma': 0.021, 'theta': -0.017, 'vega': 0.002, 'rho': 0.0, 'openInterest': 985, 'timeValue': 0.05, 'theoreticalOptionValue': 0.05, 'theoreticalVolatility': 29.0, 'optionDeliverablesList': None, 'strikePrice': 25.0, 'expirationDate': 1613768400000, 'daysToExpiration': 8, 'expirationType': 'R', 'lastTradingDay': 1613782800000, 'multiplier': 100.0, 'settlementType': ' ', 'deliverableNote': '', 'isIndexOption': None, 'percentChange': 0.0, 'markChange': 0.0, 'markPercentChange': 0.0, 'nonStandard': False, 'inTheMoney': False, 'mini': False}]}"
   ]
  },
  {
   "cell_type": "code",
   "execution_count": null,
   "metadata": {},
   "outputs": [],
   "source": [
    "dfs = []\n",
    "\n",
    "for i in data.keys():\n",
    "    d = pd.json_normalize(data, record_path=i)\n",
    "    dfs.append(d)\n",
    "\n",
    "out = pd.concat(dfs)\n",
    "out.insert(0, 'Price', data.keys())\n",
    "out"
   ]
  },
  {
   "cell_type": "code",
   "execution_count": null,
   "metadata": {},
   "outputs": [],
   "source": [
    "data = {'10.0': [{'putCall': 'CALL', 'symbol': 'MIK_021921C10', 'description': 'MIK Feb 19 2021 10 Call'}]}\n",
    "\n",
    "out = pd.json_normalize(data, record_path='10.0')\n",
    "print(out)\n",
    "\n",
    "  putCall         symbol              description\n",
    "0    CALL  MIK_021921C10  MIK Feb 19 2021 10 Call"
   ]
  },
  {
   "cell_type": "code",
   "execution_count": null,
   "metadata": {},
   "outputs": [],
   "source": []
  },
  {
   "cell_type": "code",
   "execution_count": null,
   "metadata": {},
   "outputs": [],
   "source": []
  },
  {
   "cell_type": "code",
   "execution_count": null,
   "metadata": {},
   "outputs": [],
   "source": []
  },
  {
   "cell_type": "code",
   "execution_count": null,
   "metadata": {},
   "outputs": [],
   "source": [
    "           code      msg                                            data\n",
    "dataMap       0  success  {'Huobi': [0.056896, 0.01, 0.10996600000000001]} \n",
    "dateList      0  success  [1597420800000, 1597449600000, 1597478400000]\n",
    "priceList     0  success  [438.37, 438.98, 438.3, 436.22, 433.21, 427.63]"
   ]
  },
  {
   "cell_type": "code",
   "execution_count": null,
   "metadata": {},
   "outputs": [],
   "source": [
    "df = pd.read_clipboard('\\s\\s+')\n",
    "df.data = df.data.apply(eval)\n",
    "df"
   ]
  },
  {
   "cell_type": "code",
   "execution_count": null,
   "metadata": {},
   "outputs": [],
   "source": [
    "df.iloc[1:].explode('data')"
   ]
  },
  {
   "cell_type": "code",
   "execution_count": null,
   "metadata": {},
   "outputs": [],
   "source": [
    "df.explode('data')"
   ]
  },
  {
   "cell_type": "code",
   "execution_count": null,
   "metadata": {},
   "outputs": [],
   "source": [
    "qry = \"\"\"SELECT\n",
    "    SUM(CASE WHEN {{cols_1}} is null AND {{cols_2}} > 0 THEN 1 ELSE 0 END) AS output\n",
    "    FROM mytable\"\"\"\n",
    "\n",
    "d = {'cols_1': 'id', 'cols_2': 'weather'}\n",
    "\n",
    "\n",
    "for k,v in d.items():\n",
    "    qry = qry.replace('{{'+k+'}}', v)\n",
    "    \n",
    "print(qry)\n",
    "\n",
    "SELECT\n",
    "    SUM(CASE WHEN id is null AND weather > 0 THEN 1 ELSE 0 END) AS output\n",
    "    FROM mytable"
   ]
  },
  {
   "cell_type": "code",
   "execution_count": null,
   "metadata": {},
   "outputs": [],
   "source": [
    "((5*5*3+1)*10)"
   ]
  },
  {
   "cell_type": "code",
   "execution_count": null,
   "metadata": {},
   "outputs": [],
   "source": [
    "((5*5*1+1)*10)"
   ]
  },
  {
   "cell_type": "code",
   "execution_count": null,
   "metadata": {},
   "outputs": [],
   "source": [
    "a = [\n",
    "    {\n",
    "        \"Date\": \"11-02-2021\",\n",
    "        \"Open\": 0.07284431,\n",
    "        \"High\": 0.0743014,\n",
    "        \"Low\": 0.06829016,\n",
    "        \"Close\": 0.06967585,\n",
    "        \"Volume\": 3818556738.8,\n",
    "        \"Market Cap\": 8941609529.45\n",
    "    },\n",
    "    {\n",
    "        \"Date\": \"10-02-2021\",\n",
    "        \"Open\": 0.07011055,\n",
    "        \"High\": 0.08109109,\n",
    "        \"Low\": 0.06852545,\n",
    "        \"Close\": 0.07289631,\n",
    "        \"Volume\": 6785088422.26,\n",
    "        \"Market Cap\": 9353895799.46\n",
    "    }\n",
    "]"
   ]
  },
  {
   "cell_type": "code",
   "execution_count": null,
   "metadata": {},
   "outputs": [],
   "source": [
    "today_close_price = a[0]['Close']\n",
    "today_close_price"
   ]
  },
  {
   "cell_type": "code",
   "execution_count": null,
   "metadata": {},
   "outputs": [],
   "source": []
  },
  {
   "cell_type": "code",
   "execution_count": null,
   "metadata": {},
   "outputs": [],
   "source": []
  },
  {
   "cell_type": "code",
   "execution_count": null,
   "metadata": {},
   "outputs": [],
   "source": []
  },
  {
   "cell_type": "code",
   "execution_count": null,
   "metadata": {},
   "outputs": [],
   "source": []
  },
  {
   "cell_type": "code",
   "execution_count": null,
   "metadata": {},
   "outputs": [],
   "source": [
    "import string\n",
    "import random\n",
    "import pandas as pd\n",
    "\n",
    "text = []\n",
    "i = 0\n",
    "while i < 20:\n",
    "    text.extend(random.choice(string.ascii_letters[:4]))\n",
    "    i += 1\n",
    "\n",
    "boolean = ['True', 'False', 'True', 'False', 'True', 'False', 'True', 'False', 'True', 'False', 'True', 'False', 'True', 'False', 'True', 'False', 'True', 'False', 'True', 'False']\n",
    "bool1 = random.sample(boolean, 20)\n",
    "bool2 = random.sample(boolean, 20)\n",
    "bool3 = random.sample(boolean, 20)\n",
    "bool4 = random.sample(boolean, 20)\n",
    "\n",
    "d = {'c1':text, 'c2':bool1, 'c3':bool2, 'c4':bool3, 'y':bool4}\n",
    "dd = pd.DataFrame(data=d)"
   ]
  },
  {
   "cell_type": "code",
   "execution_count": null,
   "metadata": {},
   "outputs": [],
   "source": [
    "def relative_frequency(df, col):\n",
    "    series = df.groupby(col)['y'].value_counts(normalize=True)\n",
    "    true_cnt = series.xs('True', level=1)  # a series with single layer index\n",
    "    max_index = true_cnt.index[true_cnt.argmax()]\n",
    "    max_val = true_cnt[max_index]\n",
    "    true_cnt_dropped = true_cnt.drop(max_index)\n",
    "    ans = max_val / true_cnt_dropped\n",
    "    ans.index = [(col + ' ' + max_index + '/' + idx) for idx in ans.index]\n",
    "    return ans.index, ans.values\n"
   ]
  },
  {
   "cell_type": "code",
   "execution_count": null,
   "metadata": {},
   "outputs": [],
   "source": [
    "dfs = []\n",
    "\n",
    "for i in dd.columns[:-1]:\n",
    "    dfs.append(pd.DataFrame(relative_frequency(dd, i)).T)\n",
    "    \n",
    "result = pd.concat(dfs)\n",
    "result.columns = ['features', 'relative_freq']\n",
    "result"
   ]
  },
  {
   "cell_type": "code",
   "execution_count": null,
   "metadata": {},
   "outputs": [],
   "source": []
  },
  {
   "cell_type": "code",
   "execution_count": null,
   "metadata": {},
   "outputs": [],
   "source": []
  },
  {
   "cell_type": "code",
   "execution_count": null,
   "metadata": {},
   "outputs": [],
   "source": []
  },
  {
   "cell_type": "code",
   "execution_count": null,
   "metadata": {},
   "outputs": [],
   "source": [
    "B   C   D   \n",
    "1   2   321 \n",
    "2   35  123 \n",
    "3   55  123 \n",
    "4   33      \n",
    "5   11  123 "
   ]
  },
  {
   "cell_type": "code",
   "execution_count": null,
   "metadata": {},
   "outputs": [],
   "source": [
    "df = pd.read_clipboard('\\s\\s+')"
   ]
  },
  {
   "cell_type": "code",
   "execution_count": null,
   "metadata": {},
   "outputs": [],
   "source": [
    "df['B'].astype('str') + '_' + df['C'].astype('str') + '_' + df['D'].fillna('END').astype('str')"
   ]
  },
  {
   "cell_type": "code",
   "execution_count": null,
   "metadata": {},
   "outputs": [],
   "source": [
    "df.apply(lambda x: '_'.join(['END' if i==None else str(i) for i in x]), axis=1)"
   ]
  },
  {
   "cell_type": "code",
   "execution_count": null,
   "metadata": {},
   "outputs": [],
   "source": []
  },
  {
   "cell_type": "code",
   "execution_count": null,
   "metadata": {},
   "outputs": [],
   "source": []
  },
  {
   "cell_type": "code",
   "execution_count": null,
   "metadata": {},
   "outputs": [],
   "source": [
    "d = 28521545799876732050641018768368512903213511626845294786203503879392791060212\n",
    "z = b'\\xf7LC\\xf0\\xd5\\xc4z\\xb7\\x84\\x02\\xd7f\\x1b\\x1a\\xf3\\xcf@\\xfaf\\xd0I\\xb0l+t\\xf9\\x86\\xf4\\x14(\\x00x'\n",
    "\n",
    "z_int = int.from_bytes(z,'big')\n",
    "print(z_int)"
   ]
  },
  {
   "cell_type": "code",
   "execution_count": null,
   "metadata": {},
   "outputs": [],
   "source": [
    "z_int.to_bytes(32, 'big')"
   ]
  },
  {
   "cell_type": "code",
   "execution_count": null,
   "metadata": {},
   "outputs": [],
   "source": [
    "df = pd.DataFrame(np.random.randint(1000000,5000000,10), columns=['Volume'])"
   ]
  },
  {
   "cell_type": "code",
   "execution_count": null,
   "metadata": {},
   "outputs": [],
   "source": [
    "(df.Volume/1000000).round(2).astype(str)+'M'"
   ]
  },
  {
   "cell_type": "code",
   "execution_count": null,
   "metadata": {},
   "outputs": [],
   "source": [
    "d = [{'a':1},{'b':2}]"
   ]
  },
  {
   "cell_type": "code",
   "execution_count": null,
   "metadata": {},
   "outputs": [],
   "source": []
  },
  {
   "cell_type": "code",
   "execution_count": null,
   "metadata": {},
   "outputs": [],
   "source": []
  },
  {
   "cell_type": "code",
   "execution_count": null,
   "metadata": {},
   "outputs": [],
   "source": []
  },
  {
   "cell_type": "code",
   "execution_count": null,
   "metadata": {},
   "outputs": [],
   "source": []
  },
  {
   "cell_type": "code",
   "execution_count": null,
   "metadata": {},
   "outputs": [],
   "source": []
  },
  {
   "cell_type": "code",
   "execution_count": null,
   "metadata": {},
   "outputs": [],
   "source": [
    "a = [['AA000',np.nan,np.nan,np.nan],\n",
    "     ['AA006','AA001',np.nan,np.nan],\n",
    "     ['AA008','AA002',np.nan,np.nan],\n",
    "     ['AA002','AA003','AA003',np.nan],\n",
    "     ['AA002','AA006','AA004',np.nan]]\n",
    "\n",
    "df = pd.DataFrame(a, columns=['Level1','Level2','Level3','Level4'])\n",
    "df"
   ]
  },
  {
   "cell_type": "code",
   "execution_count": null,
   "metadata": {},
   "outputs": [],
   "source": [
    "#Numpy method\n",
    "result = df.lookup(range(df.shape[0]), df.iloc[:, ::-1].notna().idxmax(1))\n",
    "result"
   ]
  },
  {
   "cell_type": "code",
   "execution_count": null,
   "metadata": {},
   "outputs": [],
   "source": [
    "col_idx = df.shape[1] - np.fliplr(df.notna().values).argmax(1) - 1\n",
    "row_idx = np.arange(df.shape[0])\n",
    "\n",
    "result = df.values[row_idx, col_idx]\n",
    "result"
   ]
  },
  {
   "cell_type": "code",
   "execution_count": null,
   "metadata": {},
   "outputs": [],
   "source": [
    "df['last'] = result\n",
    "print(df)"
   ]
  },
  {
   "cell_type": "code",
   "execution_count": null,
   "metadata": {},
   "outputs": [],
   "source": []
  },
  {
   "cell_type": "code",
   "execution_count": null,
   "metadata": {},
   "outputs": [],
   "source": [
    "x = [['I','want','dog'],['driving','a','car'],['S','O','S']]\n",
    "y = ['yes','no','yes']\n",
    "\n",
    "result = [[i,' '.join(j)] for i,j in zip(y, x)]\n",
    "result"
   ]
  },
  {
   "cell_type": "code",
   "execution_count": null,
   "metadata": {},
   "outputs": [],
   "source": [
    "pd.DataFrame(result).to_csv('output.csv')"
   ]
  },
  {
   "cell_type": "code",
   "execution_count": null,
   "metadata": {},
   "outputs": [],
   "source": [
    "\n",
    "\n",
    "pd.concat([pd.DataFrame(columns=[i]) for i in tups])"
   ]
  },
  {
   "cell_type": "code",
   "execution_count": null,
   "metadata": {},
   "outputs": [],
   "source": [
    "my_dict = {}\n",
    "tups = tuple(['A','B','C'])\n",
    "\n",
    "for i in tups:\n",
    "    my_dict[i] = 10 #some value(s)\n",
    "    \n",
    "my_dict['A']\n",
    "\n",
    "10"
   ]
  },
  {
   "cell_type": "code",
   "execution_count": null,
   "metadata": {},
   "outputs": [],
   "source": []
  },
  {
   "cell_type": "code",
   "execution_count": null,
   "metadata": {},
   "outputs": [],
   "source": [
    "import tensorflow as tf"
   ]
  },
  {
   "cell_type": "code",
   "execution_count": null,
   "metadata": {},
   "outputs": [],
   "source": [
    "Dense = tf.keras.layers.Dense\n",
    "CNN = tf.keras.layers.Conv2D\n",
    "fc_model = tf.keras.Sequential(\n",
    "    [\n",
    "      tf.keras.Input(shape=(28,28)),\n",
    "      tf.keras.layers.Flatten(),\n",
    "      Dense(128, activation='relu'),\n",
    "      Dense(32, activation='relu'),\n",
    "      Dense(10, activation='softmax')])\n",
    "fc_model.compile(optimizer=\"adam\", loss=\"categorical_crossentropy\", metrics=[\"accuracy\"])\n",
    "#history = fc_model.fit(sep, labels_array, batch_size=128, validation_data=(sep_t, labels_array_t) ,epochs=35)\n",
    "\n",
    "fc_model.summary()"
   ]
  },
  {
   "cell_type": "code",
   "execution_count": null,
   "metadata": {},
   "outputs": [],
   "source": [
    "import tensorflow_datasets as tfds"
   ]
  },
  {
   "cell_type": "code",
   "execution_count": null,
   "metadata": {},
   "outputs": [],
   "source": [
    "## DATA GENERATOR\n",
    "(ds_train, ds_test), ds_info = tfds.load(\n",
    "    'mnist',\n",
    "    split=['train', 'test'],\n",
    "    shuffle_files=True,\n",
    "    as_supervised=True,\n",
    "    with_info=True,\n",
    ")\n",
    "\n",
    "\n",
    "def normalize_img(image, label):\n",
    "  \"\"\"Normalizes images: `uint8` -> `float32`.\"\"\"\n",
    "  return tf.cast(image, tf.float32) / 255., label\n",
    "\n",
    "## TRAINING PIPELINE\n",
    "ds_train = ds_train.map(\n",
    "    normalize_img, num_parallel_calls=tf.data.experimental.AUTOTUNE)\n",
    "ds_train = ds_train.cache()\n",
    "ds_train = ds_train.shuffle(ds_info.splits['train'].num_examples)\n",
    "ds_train = ds_train.batch(128)\n",
    "ds_train = ds_train.prefetch(tf.data.experimental.AUTOTUNE)\n",
    "\n",
    "## TESTING PIPELINE\n",
    "ds_test = ds_test.map(\n",
    "    normalize_img, num_parallel_calls=tf.data.experimental.AUTOTUNE)\n",
    "ds_test = ds_test.batch(128)\n",
    "ds_test = ds_test.cache()\n",
    "ds_test = ds_test.prefetch(tf.data.experimental.AUTOTUNE)\n",
    "\n",
    "\n",
    "## MODEL DEFINITION\n",
    "model = tf.keras.models.Sequential([\n",
    "  tf.keras.layers.Flatten(input_shape=(28, 28)),\n",
    "  tf.keras.layers.Dense(128,activation='relu'),\n",
    "  tf.keras.layers.Dense(10)\n",
    "])\n",
    "model.compile(\n",
    "    optimizer=tf.keras.optimizers.Adam(0.001),\n",
    "    loss=tf.keras.losses.SparseCategoricalCrossentropy(from_logits=True),\n",
    "    metrics=['accuracy'],\n",
    ")\n",
    "\n",
    "## MODEL TRAINING\n",
    "model.fit(\n",
    "    ds_train,\n",
    "    epochs=6,\n",
    "    validation_data=ds_test,\n",
    ")"
   ]
  },
  {
   "cell_type": "code",
   "execution_count": null,
   "metadata": {},
   "outputs": [],
   "source": []
  },
  {
   "cell_type": "code",
   "execution_count": null,
   "metadata": {},
   "outputs": [],
   "source": []
  },
  {
   "cell_type": "code",
   "execution_count": null,
   "metadata": {},
   "outputs": [],
   "source": [
    "from tensorflow.keras.layers import Input, Conv2D, MaxPool2D, Flatten, Concatenate\n",
    "from tensorflow.keras.layers import Dense, LSTM, Embedding, Bidirectional\n",
    "from tensorflow.keras import Sequential, Model"
   ]
  },
  {
   "cell_type": "code",
   "execution_count": null,
   "metadata": {},
   "outputs": [],
   "source": [
    "def build_vgg16():\n",
    "    model = Sequential(\n",
    "                      [\n",
    "                       Input(shape=(224,224,3)),\n",
    "                       Conv2D(filters=64,kernel_size=(3,3),padding='same', activation='relu'),\n",
    "                       Conv2D(filters=64,kernel_size=(3,3),padding='same', activation='relu'),\n",
    "                       MaxPool2D(pool_size=(2,2),strides=(2,2)),\n",
    "                       Conv2D(filters=128, kernel_size=(3,3), padding='same', activation='relu'),\n",
    "                       Conv2D(filters=128, kernel_size=(3,3), padding='same', activation='relu'),\n",
    "                       MaxPool2D(pool_size=(2,2),strides=(2,2)),\n",
    "                       Conv2D(filters=256, kernel_size=(3,3), padding='same', activation='relu'),\n",
    "                       Conv2D(filters=256, kernel_size=(3,3), padding='same', activation='relu'),\n",
    "                       Conv2D(filters=256, kernel_size=(3,3), padding='same', activation='relu'),\n",
    "                       MaxPool2D(pool_size=(2,2),strides=(2,2)),\n",
    "                       Conv2D(filters=512, kernel_size=(3,3), padding='same', activation='relu'),\n",
    "                       Conv2D(filters=512, kernel_size=(3,3), padding='same', activation='relu'),\n",
    "                       Conv2D(filters=512, kernel_size=(3,3), padding='same', activation='relu'),\n",
    "                       MaxPool2D(pool_size=(2,2),strides=(2,2)),\n",
    "                       Conv2D(filters=512, kernel_size=(3,3), padding='same', activation='relu'),\n",
    "                       Conv2D(filters=512, kernel_size=(3,3), padding='same', activation='relu'),\n",
    "                       Conv2D(filters=512, kernel_size=(3,3), padding='same', activation='relu'),\n",
    "                       MaxPool2D(pool_size=(2,2),strides=(2,2)),\n",
    "                       Flatten(),\n",
    "                       Dense(512, activation='relu'),\n",
    "                       Dense(256, activation='relu'),\n",
    "                       Dense(128, activation='relu'),\n",
    "                       Dense(80, activation='relu'),\n",
    "                      ]\n",
    "                  )\n",
    "    return model"
   ]
  },
  {
   "cell_type": "code",
   "execution_count": null,
   "metadata": {},
   "outputs": [],
   "source": [
    "def build_lstm():\n",
    "    model = Sequential(\n",
    "        [\n",
    "         Input(shape=(20,)),\n",
    "         Embedding(input_dim=1000, output_dim=64, mask_zero=True),\n",
    "         Bidirectional(tf.keras.layers.LSTM(64)),\n",
    "         Dense(80, activation='relu'),\n",
    "        ]\n",
    "    )\n",
    "    return model"
   ]
  },
  {
   "cell_type": "code",
   "execution_count": null,
   "metadata": {},
   "outputs": [],
   "source": [
    "def build_linear(classes, vgg16, lstm):\n",
    "    input = Input(shape=(80))\n",
    "    concat = Concatenate()([vgg16.output, lstm.output, input])\n",
    "    linear = Flatten()(concat)\n",
    "    linear = Dense(128, activation='relu')(linear)\n",
    "    linear = Dense(64, activation='relu')(linear)\n",
    "    linear = Dense(32, activation='relu')(linear)\n",
    "    linear = Dense(classes, activation='softmax')(linear)\n",
    "    return Model([vgg16.input, lstm.input, input], linear)"
   ]
  },
  {
   "cell_type": "code",
   "execution_count": null,
   "metadata": {},
   "outputs": [],
   "source": [
    "vgg16 = build_vgg16()\n",
    "lstm = build_lstm()\n",
    "\n",
    "CLASSES = 6\n",
    "\n",
    "linear = build_linear(CLASSES, vgg16, lstm)"
   ]
  },
  {
   "cell_type": "code",
   "execution_count": null,
   "metadata": {},
   "outputs": [],
   "source": [
    "linear.summary()"
   ]
  },
  {
   "cell_type": "code",
   "execution_count": null,
   "metadata": {},
   "outputs": [],
   "source": [
    "a = np.array([[[1,2,3], [1,2,3],[1,2,3]],\n",
    "              [[4,5,6],[4,5,6],[4,5,6]],\n",
    "              [[7,8,9],[7,8,9],[7,8,9]]])"
   ]
  },
  {
   "cell_type": "code",
   "execution_count": null,
   "metadata": {},
   "outputs": [],
   "source": [
    "a.sum(1)"
   ]
  },
  {
   "cell_type": "code",
   "execution_count": null,
   "metadata": {},
   "outputs": [],
   "source": [
    "sum_by_index = lambda x: [x[0][i] + x[1][i] + x[2][i] for i in range(3)]"
   ]
  },
  {
   "cell_type": "code",
   "execution_count": null,
   "metadata": {},
   "outputs": [],
   "source": [
    "j = 2\n",
    "\n",
    "a[:,:j,:].sum(1)"
   ]
  },
  {
   "cell_type": "code",
   "execution_count": null,
   "metadata": {},
   "outputs": [],
   "source": []
  },
  {
   "cell_type": "code",
   "execution_count": null,
   "metadata": {},
   "outputs": [],
   "source": []
  },
  {
   "cell_type": "code",
   "execution_count": null,
   "metadata": {},
   "outputs": [],
   "source": [
    "from __future__ import division\n",
    "import random\n",
    "\n",
    "formula = input().split()                    #<------\n",
    "OPERATORS = set(['+', '-', '*', '/', '(', ')'])\n",
    "PRIORITY = {'+':1, '-':1, '*':2, '/':2}\n",
    "\n",
    "stack = []\n",
    "prev_op = None\n",
    "for ch in formula:\n",
    "    if not ch in OPERATORS:\n",
    "        stack.append(ch)\n",
    "    else:\n",
    "        a = stack.pop()           #<---------\n",
    "        b = stack.pop()           #<---------\n",
    "        if ch == \"+\":\n",
    "            output = int(b)+int(a)\n",
    "        if ch == \"-\":\n",
    "            output = int(b)-int(a)\n",
    "        if ch == \"*\":\n",
    "            output = int(b)*int(a)\n",
    "        if ch == \"/\":\n",
    "            output = int(b)/int(a)\n",
    "     \n",
    "        stack.append(output)\n",
    "\n",
    "print(output)\n",
    "#4 13 5 / +"
   ]
  },
  {
   "cell_type": "code",
   "execution_count": null,
   "metadata": {},
   "outputs": [],
   "source": [
    "4 + 13 / 5"
   ]
  },
  {
   "cell_type": "code",
   "execution_count": null,
   "metadata": {},
   "outputs": [],
   "source": [
    "5/13"
   ]
  },
  {
   "cell_type": "code",
   "execution_count": null,
   "metadata": {},
   "outputs": [],
   "source": [
    "(2 + 1) * 3"
   ]
  },
  {
   "cell_type": "code",
   "execution_count": null,
   "metadata": {},
   "outputs": [],
   "source": [
    "list_a= ['helloyou', 'waithere', 'byenow']\n",
    "\n",
    "list_b =[ 'wait', 'hello', 'bye']"
   ]
  },
  {
   "cell_type": "code",
   "execution_count": null,
   "metadata": {},
   "outputs": [],
   "source": [
    "import re"
   ]
  },
  {
   "cell_type": "code",
   "execution_count": null,
   "metadata": {},
   "outputs": [],
   "source": [
    "import itertools\n",
    "\n",
    "{j:i for i,j in itertools.product(list_a, list_b) if re.match(j,i)} \n",
    "\n",
    "{'hello': 'helloyou', 'wait': 'waithere', 'bye': 'byenow'}"
   ]
  },
  {
   "cell_type": "code",
   "execution_count": null,
   "metadata": {},
   "outputs": [],
   "source": [
    "re.match('hello','helloyou')"
   ]
  },
  {
   "cell_type": "code",
   "execution_count": null,
   "metadata": {},
   "outputs": [],
   "source": []
  },
  {
   "cell_type": "code",
   "execution_count": null,
   "metadata": {},
   "outputs": [],
   "source": []
  },
  {
   "cell_type": "code",
   "execution_count": null,
   "metadata": {},
   "outputs": [],
   "source": [
    "list_a= ['helloyou', 'waithere', 'byenow']\n",
    "\n",
    "list_b =[ 'yeswait', 'plushello', 'nobye']"
   ]
  },
  {
   "cell_type": "code",
   "execution_count": null,
   "metadata": {},
   "outputs": [],
   "source": [
    "{j:i for i,j in itertools.product(list_a, list_b) if re.search(j,i)} "
   ]
  },
  {
   "cell_type": "code",
   "execution_count": null,
   "metadata": {},
   "outputs": [],
   "source": [
    "list_a = ['hid/jui/helloyou', 'hhh/hdhdh/waithere', 'jcdjcjd/bdcdbc/byenow']\n",
    "list_b = ['abc/efg/waitai_lp', 'hil/mno/helloai_lj', 'pqr/byeai_ki']"
   ]
  },
  {
   "cell_type": "code",
   "execution_count": null,
   "metadata": {},
   "outputs": [],
   "source": [
    "from itertools import product"
   ]
  },
  {
   "cell_type": "code",
   "execution_count": null,
   "metadata": {},
   "outputs": [],
   "source": [
    "[reproduct(i.split('/'),j.split('/')) for i,j in product(list_a, list_b)]"
   ]
  },
  {
   "cell_type": "code",
   "execution_count": null,
   "metadata": {},
   "outputs": [],
   "source": []
  },
  {
   "cell_type": "code",
   "execution_count": null,
   "metadata": {},
   "outputs": [],
   "source": []
  },
  {
   "cell_type": "code",
   "execution_count": null,
   "metadata": {},
   "outputs": [],
   "source": []
  },
  {
   "cell_type": "code",
   "execution_count": null,
   "metadata": {},
   "outputs": [],
   "source": [
    "a = np.array([[1,0,1,-1],[1,1,1,-1],[0,1,0,-1]])\n",
    "b = np.array([[-1,0,1,0],[-1,1,1,0],[-1,0,0,1]])\n",
    "c = np.array([[-1,1,-1,1],[-1,0,-1,0]])"
   ]
  },
  {
   "cell_type": "code",
   "execution_count": null,
   "metadata": {},
   "outputs": [],
   "source": [
    "np.ma.masked_array(a, a==-1)"
   ]
  },
  {
   "cell_type": "code",
   "execution_count": null,
   "metadata": {},
   "outputs": [],
   "source": [
    "(a!=-1)&(b!=-1)&(c!=-1)"
   ]
  },
  {
   "cell_type": "code",
   "execution_count": null,
   "metadata": {},
   "outputs": [],
   "source": []
  },
  {
   "cell_type": "code",
   "execution_count": null,
   "metadata": {},
   "outputs": [],
   "source": [
    "for roots, dirs, files in os.walk(\"/home/user/parentfold\", topdown=True):\n",
    "        print(roots)\n",
    "        print(dirs)\n",
    "        print(files)"
   ]
  },
  {
   "cell_type": "code",
   "execution_count": null,
   "metadata": {},
   "outputs": [],
   "source": [
    "# root/\n",
    "#    -img0.jpg\n",
    "#    sub1/\n",
    "#       -img1.jpg\n",
    "#       -img1 copy.jpg\n",
    "#    sub2/\n",
    "#       -img2.jpg\n",
    "#       subsub1/\n",
    "#           -img3.jpg"
   ]
  },
  {
   "cell_type": "code",
   "execution_count": null,
   "metadata": {},
   "outputs": [],
   "source": [
    "import os"
   ]
  },
  {
   "cell_type": "code",
   "execution_count": null,
   "metadata": {},
   "outputs": [],
   "source": [
    "path = '/Users/akshay/Desktop/root'\n",
    "\n",
    "[[r+'/'+files for files in f] for r,d,f in os.walk(path)]"
   ]
  },
  {
   "cell_type": "code",
   "execution_count": null,
   "metadata": {},
   "outputs": [],
   "source": [
    "filepaths = []\n",
    "for r,d,f in os.walk(path):\n",
    "    l = []\n",
    "    for fname in f:\n",
    "        l.append(r+'/'+fname)\n",
    "    filepaths.append(l)\n",
    "\n",
    "filepaths"
   ]
  },
  {
   "cell_type": "code",
   "execution_count": null,
   "metadata": {},
   "outputs": [],
   "source": [
    "[r+'/'+files for r,d,f in os.walk(path) for files in f]"
   ]
  },
  {
   "cell_type": "code",
   "execution_count": null,
   "metadata": {},
   "outputs": [],
   "source": []
  },
  {
   "cell_type": "code",
   "execution_count": null,
   "metadata": {},
   "outputs": [],
   "source": []
  },
  {
   "cell_type": "code",
   "execution_count": null,
   "metadata": {},
   "outputs": [],
   "source": []
  },
  {
   "cell_type": "code",
   "execution_count": null,
   "metadata": {},
   "outputs": [],
   "source": []
  },
  {
   "cell_type": "code",
   "execution_count": null,
   "metadata": {},
   "outputs": [],
   "source": [
    "test_labels = np.array([0,0,1,1,2,2,3,3,3])\n",
    "test_pred = np.array([0,1,1,1,1,2,3,3,0])\n",
    "\n",
    "cf = tf.math.confusion_matrix(test_labels, test_pred)\n",
    "\n",
    "pd.DataFrame(cf.numpy(), columns=[0,1,2,3], index=[0,1,2,3])"
   ]
  },
  {
   "cell_type": "code",
   "execution_count": null,
   "metadata": {},
   "outputs": [],
   "source": []
  },
  {
   "cell_type": "code",
   "execution_count": null,
   "metadata": {},
   "outputs": [],
   "source": []
  },
  {
   "cell_type": "code",
   "execution_count": null,
   "metadata": {},
   "outputs": [],
   "source": []
  },
  {
   "cell_type": "code",
   "execution_count": null,
   "metadata": {},
   "outputs": [],
   "source": [
    "dict1 = {\"brand\": \"Ford\", \"model\": \"Mustang\", \"year\": 1964}\n",
    "def func(args):\n",
    "    for i in args.items():\n",
    "        print(i)"
   ]
  },
  {
   "cell_type": "code",
   "execution_count": null,
   "metadata": {},
   "outputs": [],
   "source": []
  },
  {
   "cell_type": "code",
   "execution_count": null,
   "metadata": {},
   "outputs": [],
   "source": [
    "def func(brand, model, year):\n",
    "    return brand, model, year\n",
    "    \n",
    "dict1 = {\"brand\": \"Ford\", \"model\": \"Mustang\", \"year\": 1964}\n",
    "print(func(**dict1))\n",
    "\n",
    "#('Ford', 'Mustang', 1964)"
   ]
  },
  {
   "cell_type": "code",
   "execution_count": null,
   "metadata": {},
   "outputs": [],
   "source": [
    "dict1 = {\"brand\": \"Ford\", \"model\": \"Mustang\", \"year\": 1964}\n",
    "print(func(*dict1))\n",
    "\n",
    "#('brand', 'model', 'year')"
   ]
  },
  {
   "cell_type": "code",
   "execution_count": null,
   "metadata": {},
   "outputs": [],
   "source": [
    "dict1 = {\"brand\": \"Ford\", \"model\": \"Mustang\", \"year\": 1964}\n",
    "print(func(dict1))"
   ]
  },
  {
   "cell_type": "code",
   "execution_count": null,
   "metadata": {},
   "outputs": [],
   "source": []
  },
  {
   "cell_type": "code",
   "execution_count": null,
   "metadata": {},
   "outputs": [],
   "source": []
  },
  {
   "cell_type": "code",
   "execution_count": null,
   "metadata": {},
   "outputs": [],
   "source": []
  },
  {
   "cell_type": "code",
   "execution_count": null,
   "metadata": {},
   "outputs": [],
   "source": [
    "### Root folder with 3 sub folders, each with some files.\n",
    "# root/\n",
    "#    sub1/\n",
    "#    sub2/\n",
    "#    sub3/\n",
    "\n",
    "\n",
    "path = '/Users/akshay/Desktop/root'\n",
    "\n",
    "folder_file_counts = []\n",
    "folder_sizes_bytes = []\n",
    "\n",
    "#Loop through the subfolders and files\n",
    "filepaths = []\n",
    "for r,d,f in os.walk(path):\n",
    "    l = []\n",
    "    s = []\n",
    "    for fname in f:\n",
    "        l.append(r+'/'+fname)\n",
    "        s.append(os.stat(r+'/'+fname).st_size)\n",
    "    folder_file_counts.append((r,len(l)))\n",
    "    folder_sizes_bytes.append((r,sum(s)))\n",
    "    \n",
    "#List comprehensions, Comment above for loop and uncomment this if you want\n",
    "#folder_file_counts = {r:len([r+'/'+files for files in f]) for r,d,f in os.walk(path)}\n",
    "#folder_sizes_bytes = {r:sum([os.stat(r+'/'+files).st_size for files in f]) for r,d,f in os.walk(path)}\n",
    "\n",
    "folder_file_counts = dict(folder_file_counts)\n",
    "folder_sizes_bytes = dict(folder_sizes_bytes)\n",
    "\n",
    "print('File counts:', folder_file_counts)\n",
    "print('Folder sizes:', folder_sizes_bytes)"
   ]
  },
  {
   "cell_type": "code",
   "execution_count": null,
   "metadata": {},
   "outputs": [],
   "source": [
    "### Root folder with 3 sub folders, each with some files.\n",
    "# root/\n",
    "#    sub1/\n",
    "#    sub2/\n",
    "#    sub3/\n",
    "\n",
    "\n",
    "path = '/Users/akshay/Desktop/root'\n",
    "\n",
    "folder_file_counts = {r:len([r+'/'+files for files in f]) for r,d,f in os.walk(path)}\n",
    "folder_sizes_bytes = {r:sum([os.stat(r+'/'+files).st_size for files in f]) for r,d,f in os.walk(path)}\n",
    "\n",
    "print('File counts:', folder_file_counts)\n",
    "print('Folder sizes:', folder_sizes_bytes)"
   ]
  },
  {
   "cell_type": "code",
   "execution_count": null,
   "metadata": {},
   "outputs": [],
   "source": []
  },
  {
   "cell_type": "code",
   "execution_count": null,
   "metadata": {},
   "outputs": [],
   "source": [
    "q = [1,2]"
   ]
  },
  {
   "cell_type": "code",
   "execution_count": null,
   "metadata": {},
   "outputs": [],
   "source": [
    "def foo(x):\n",
    "    x[0]=0\n",
    "    x[1]=0\n",
    "    return id(x)\n",
    "\n",
    "q = [1,2]"
   ]
  },
  {
   "cell_type": "code",
   "execution_count": null,
   "metadata": {},
   "outputs": [],
   "source": [
    "foo(q)"
   ]
  },
  {
   "cell_type": "code",
   "execution_count": null,
   "metadata": {},
   "outputs": [],
   "source": [
    "repr(id(q))"
   ]
  },
  {
   "cell_type": "code",
   "execution_count": null,
   "metadata": {},
   "outputs": [],
   "source": [
    "print(format('hello', '10s'),end='#')\n",
    "print(format(111,'4d'),end='#')\n",
    "print(format(999.234, '3.2f'))"
   ]
  },
  {
   "cell_type": "code",
   "execution_count": null,
   "metadata": {},
   "outputs": [],
   "source": []
  },
  {
   "cell_type": "code",
   "execution_count": null,
   "metadata": {},
   "outputs": [],
   "source": []
  },
  {
   "cell_type": "code",
   "execution_count": null,
   "metadata": {},
   "outputs": [],
   "source": []
  },
  {
   "cell_type": "code",
   "execution_count": null,
   "metadata": {},
   "outputs": [],
   "source": [
    "f = lambda x: (9*(x-10)**-1)+(12*(100-x))"
   ]
  },
  {
   "cell_type": "code",
   "execution_count": null,
   "metadata": {},
   "outputs": [],
   "source": [
    "f(71)"
   ]
  },
  {
   "cell_type": "code",
   "execution_count": null,
   "metadata": {},
   "outputs": [],
   "source": [
    "f(72)"
   ]
  },
  {
   "cell_type": "code",
   "execution_count": null,
   "metadata": {},
   "outputs": [],
   "source": [
    "f(55)"
   ]
  },
  {
   "cell_type": "code",
   "execution_count": null,
   "metadata": {},
   "outputs": [],
   "source": [
    "f(38)"
   ]
  },
  {
   "cell_type": "code",
   "execution_count": null,
   "metadata": {},
   "outputs": [],
   "source": []
  },
  {
   "cell_type": "code",
   "execution_count": null,
   "metadata": {},
   "outputs": [],
   "source": []
  },
  {
   "cell_type": "code",
   "execution_count": null,
   "metadata": {},
   "outputs": [],
   "source": []
  },
  {
   "cell_type": "code",
   "execution_count": null,
   "metadata": {},
   "outputs": [],
   "source": [
    "f = lambda x: (x**2)/(4*np.pi) + (1-x)**2\n",
    "f(0.32)"
   ]
  },
  {
   "cell_type": "code",
   "execution_count": null,
   "metadata": {},
   "outputs": [],
   "source": [
    "f(0.28)"
   ]
  },
  {
   "cell_type": "code",
   "execution_count": null,
   "metadata": {},
   "outputs": [],
   "source": [
    "f(0.44)"
   ]
  },
  {
   "cell_type": "code",
   "execution_count": null,
   "metadata": {},
   "outputs": [],
   "source": [
    "f(0.49)"
   ]
  },
  {
   "cell_type": "code",
   "execution_count": null,
   "metadata": {},
   "outputs": [],
   "source": [
    "s = 'hithere'\n",
    "s[0] = 'H'\n",
    "s"
   ]
  },
  {
   "cell_type": "code",
   "execution_count": null,
   "metadata": {},
   "outputs": [],
   "source": [
    "import pprint\n",
    "import random\n",
    "\n",
    "linii = int(input(\"Introdu nr de linii: \"))\n",
    "coloane = int(input(\"Introdu nr de coloane:  \"))\n",
    "\n",
    "m = np.random.randint(1,9999, (linii, coloane))\n",
    "\n",
    "pprint.pprint(m)"
   ]
  },
  {
   "cell_type": "code",
   "execution_count": null,
   "metadata": {},
   "outputs": [],
   "source": [
    "random.randint(1,9999)"
   ]
  },
  {
   "cell_type": "code",
   "execution_count": null,
   "metadata": {},
   "outputs": [],
   "source": []
  },
  {
   "cell_type": "code",
   "execution_count": null,
   "metadata": {},
   "outputs": [],
   "source": []
  },
  {
   "cell_type": "code",
   "execution_count": null,
   "metadata": {},
   "outputs": [],
   "source": [
    "# for ind in df1.index: \n",
    "\n",
    "#     while len(df1.index) >(6+ind): \n",
    "#         print(len(df1.index),' > ', (6+ind))"
   ]
  },
  {
   "cell_type": "code",
   "execution_count": null,
   "metadata": {},
   "outputs": [],
   "source": []
  },
  {
   "cell_type": "code",
   "execution_count": null,
   "metadata": {},
   "outputs": [],
   "source": [
    "import pandas as pd\n",
    "import numpy as np\n",
    "\n",
    "df1 = pd.DataFrame(np.random.randint(0,100,size=(15, 4)), columns=list('ABCD'))\n",
    "df2 = pd.DataFrame(np.zeros((15, 4)), columns=list('ABCD'))\n",
    "\n",
    "# idx = []\n",
    "# for ind in df1.index: \n",
    "#     idx.append(ind)\n",
    "#     while len(idx) > (6+ind):\n",
    "#         amount_start= df1.iloc[0+ind,0]\n",
    "#         amount_end = df1.iloc[6+ind,0]    \n",
    "#         df2['A'][ind] =((amount_start/amount_end)**(1/5))-1"
   ]
  },
  {
   "cell_type": "code",
   "execution_count": null,
   "metadata": {},
   "outputs": [],
   "source": [
    "windows = df1.A.rolling(5)\n",
    "df2['A'] = windows.apply(lambda x: (x.iloc[0]/x.iloc[-1])**(1/5)-1)\n",
    "df2['A']"
   ]
  },
  {
   "cell_type": "code",
   "execution_count": null,
   "metadata": {},
   "outputs": [],
   "source": [
    "d = {'original A':df1.A, \n",
    "     'first': df1.A.rolling(5).apply(lambda x: x.iloc[0]),\n",
    "     'last': df1.A.rolling(5).apply(lambda x: x.iloc[-1]),\n",
    "     'first/last': df1.A.rolling(5).apply(lambda x: (x.iloc[0]/x.iloc[-1])),\n",
    "     '(first/last)^power': df1.A.rolling(5).apply(lambda x: (x.iloc[0]/x.iloc[-1])**(1/5)),\n",
    "     'CAGR': df1.A.rolling(5).apply(lambda x: (x.iloc[0]/x.iloc[-1])**(1/5)-1)\n",
    "    }\n",
    "\n",
    "pd.DataFrame(d)"
   ]
  },
  {
   "cell_type": "code",
   "execution_count": null,
   "metadata": {},
   "outputs": [],
   "source": [
    "windows = df1.rolling(5)\n",
    "windows.apply(lambda x: (x.iloc[0]/x.iloc[-1])**(1/5)-1)"
   ]
  },
  {
   "cell_type": "code",
   "execution_count": null,
   "metadata": {},
   "outputs": [],
   "source": []
  },
  {
   "cell_type": "code",
   "execution_count": null,
   "metadata": {},
   "outputs": [],
   "source": []
  },
  {
   "cell_type": "code",
   "execution_count": null,
   "metadata": {},
   "outputs": [],
   "source": []
  },
  {
   "cell_type": "code",
   "execution_count": null,
   "metadata": {},
   "outputs": [],
   "source": []
  },
  {
   "cell_type": "code",
   "execution_count": null,
   "metadata": {},
   "outputs": [],
   "source": []
  },
  {
   "cell_type": "code",
   "execution_count": null,
   "metadata": {},
   "outputs": [],
   "source": [
    "df = pd.DataFrame({'A':[1,2,3],'B':[2,3,4]})\n",
    "df"
   ]
  },
  {
   "cell_type": "code",
   "execution_count": null,
   "metadata": {},
   "outputs": [],
   "source": [
    "df.apply(df.columns.repeat, axis=1)"
   ]
  },
  {
   "cell_type": "code",
   "execution_count": null,
   "metadata": {},
   "outputs": [],
   "source": [
    "df.apply(df.columns.repeat, axis=1).explode()"
   ]
  },
  {
   "cell_type": "code",
   "execution_count": null,
   "metadata": {},
   "outputs": [],
   "source": []
  },
  {
   "cell_type": "code",
   "execution_count": null,
   "metadata": {},
   "outputs": [],
   "source": []
  },
  {
   "cell_type": "code",
   "execution_count": null,
   "metadata": {},
   "outputs": [],
   "source": []
  },
  {
   "cell_type": "code",
   "execution_count": null,
   "metadata": {},
   "outputs": [],
   "source": [
    "class Cell():\n",
    "    def __init__(self):\n",
    "        self.value = 'ABC'\n",
    "     \n",
    "    def __repr__(self):\n",
    "         return self.value"
   ]
  },
  {
   "cell_type": "code",
   "execution_count": null,
   "metadata": {},
   "outputs": [],
   "source": [
    "arr = np.array([['M', Cell(),'M'], \n",
    "                ['M', Cell(),'M'], \n",
    "                [Cell(),'M','M']])\n",
    "\n",
    "np.where(arr.astype(str)=='ABC')\n",
    "(array([0, 1, 2]), array([1, 1, 0]))"
   ]
  },
  {
   "cell_type": "code",
   "execution_count": null,
   "metadata": {},
   "outputs": [],
   "source": [
    "np.vectorize(type)(arr)\n",
    "\n",
    "array([[<class 'str'>, <class '__main__.Cell'>, <class 'str'>],\n",
    "       [<class 'str'>, <class '__main__.Cell'>, <class 'str'>],\n",
    "       [<class '__main__.Cell'>, <class 'str'>, <class 'str'>]],\n",
    "      dtype=object)"
   ]
  },
  {
   "cell_type": "code",
   "execution_count": null,
   "metadata": {},
   "outputs": [],
   "source": []
  },
  {
   "cell_type": "code",
   "execution_count": null,
   "metadata": {},
   "outputs": [],
   "source": []
  },
  {
   "cell_type": "code",
   "execution_count": null,
   "metadata": {},
   "outputs": [],
   "source": []
  },
  {
   "cell_type": "code",
   "execution_count": null,
   "metadata": {},
   "outputs": [],
   "source": []
  },
  {
   "cell_type": "code",
   "execution_count": null,
   "metadata": {},
   "outputs": [],
   "source": [
    "import pandas as pd\n",
    "import numpy as np\n",
    "\n",
    "def CI_analysis(df_H, df_R):\n",
    "    \n",
    "    # separate X & Z \n",
    "    df_H_top_X = df_H.filter(regex='top_X')\n",
    "    df_H_bottom_X = df_H.filter(regex='bottom_X')\n",
    "    \n",
    "    df_H_top_Z = df_H.filter(regex='top_Z')\n",
    "    df_H_bottom_Z = df_H.filter(regex='bottom_Z')\n",
    "    \n",
    "    df_R_X = CI_raycast.filter(regex='mean_X') \n",
    "    df_R_Z = CI_raycast.filter(regex='mean_Z') \n",
    "    \n",
    "    # check if X is within the range of top & bottom X\n",
    "    CI_inside_X = pd.DataFrame()\n",
    "    for col in df_R_X:\n",
    "        temp = []\n",
    "        c = 0\n",
    "        for i, val in df_R_X[col].iteritems():\n",
    "            if (val < df_H_top_X.iloc[i,c]) & (val > df_H_bottom_X.iloc[i,c]):\n",
    "                temp.append(1)\n",
    "            else: \n",
    "                temp.append(0)\n",
    "        CI_inside_X[col] = temp\n",
    "        c = c+1\n",
    "\n",
    "    # check if Z is within the range of top & bottom Z\n",
    "    CI_inside_Z = pd.DataFrame()\n",
    "    for col in df_R_Z:\n",
    "        temp = []\n",
    "        # print(col)\n",
    "        c = 0\n",
    "        for i, val in df_R_Z[col].iteritems():\n",
    "            if (val < df_H_top_Z.iloc[i,c]) & (val > df_H_bottom_Z.iloc[i,c]):\n",
    "                temp.append(1)\n",
    "            else: \n",
    "                temp.append(0)\n",
    "        CI_inside_Z[col] = temp\n",
    "        c = c+1\n",
    "\n",
    "    # Check if X & Z were both in-between the top & bottom trajectories\n",
    "    CI_inside = pd.DataFrame()\n",
    "    for col in CI_inside_X:\n",
    "        temp = []\n",
    "        c = 0\n",
    "        for i,row in CI_inside_X[col].iteritems(): \n",
    "            if (row == 1) & (CI_inside_Z.iloc[i,c] == 1):\n",
    "                temp.append(1)\n",
    "            else: \n",
    "                temp.append(0)\n",
    "        CI_inside[col] = temp\n",
    "        c = c+1\n",
    "    \n",
    "    CI_inside_avg = pd.DataFrame(CI_inside.mean(axis=0)).transpose() \n",
    "    \n",
    "    return CI_inside_X, CI_inside_Z, CI_inside, CI_inside_avg "
   ]
  },
  {
   "cell_type": "code",
   "execution_count": null,
   "metadata": {},
   "outputs": [],
   "source": [
    "df_R_cols = ['(0, 1, 1)_mean_X', '(0, 1, 1)_mean_Z', '(0, 1, 2)_mean_X',\n",
    "       '(0, 1, 2)_mean_Z', '(0, 1, 3)_mean_X', '(0, 1, 3)_mean_Z',\n",
    "       '(0, 2, 1)_mean_X', '(0, 2, 1)_mean_Z', '(0, 2, 2)_mean_X',\n",
    "       '(0, 2, 2)_mean_Z', '(0, 2, 3)_mean_X', '(0, 2, 3)_mean_Z',\n",
    "       '(1, 1, 1)_mean_X', '(1, 1, 1)_mean_Z', '(1, 1, 2)_mean_X',\n",
    "       '(1, 1, 2)_mean_Z', '(1, 1, 3)_mean_X', '(1, 1, 3)_mean_Z',\n",
    "       '(1, 2, 1)_mean_X', '(1, 2, 1)_mean_Z', '(1, 2, 2)_mean_X',\n",
    "       '(1, 2, 2)_mean_Z', '(1, 2, 3)_mean_X', '(1, 2, 3)_mean_Z',\n",
    "       '(2, 1, 1)_mean_X', '(2, 1, 1)_mean_Z', '(2, 1, 2)_mean_X',\n",
    "       '(2, 1, 2)_mean_Z', '(2, 1, 3)_mean_X', '(2, 1, 3)_mean_Z',\n",
    "       '(2, 2, 1)_mean_X', '(2, 2, 1)_mean_Z', '(2, 2, 2)_mean_X',\n",
    "       '(2, 2, 2)_mean_Z', '(2, 2, 3)_mean_X', '(2, 2, 3)_mean_Z'] \n",
    "\n",
    "df_H_cols = ['(0, 1, 1)_top_X', '(0, 1, 1)_bottom_X', '(0, 1, 1)_top_Z',\n",
    "       '(0, 1, 1)_bottom_Z', '(0, 1, 2)_top_X', '(0, 1, 2)_bottom_X',\n",
    "       '(0, 1, 2)_top_Z', '(0, 1, 2)_bottom_Z', '(0, 1, 3)_top_X',\n",
    "       '(0, 1, 3)_bottom_X', '(0, 1, 3)_top_Z', '(0, 1, 3)_bottom_Z',\n",
    "       '(0, 2, 1)_top_X', '(0, 2, 1)_bottom_X', '(0, 2, 1)_top_Z',\n",
    "       '(0, 2, 1)_bottom_Z', '(0, 2, 2)_top_X', '(0, 2, 2)_bottom_X',\n",
    "       '(0, 2, 2)_top_Z', '(0, 2, 2)_bottom_Z', '(0, 2, 3)_top_X',\n",
    "       '(0, 2, 3)_bottom_X', '(0, 2, 3)_top_Z', '(0, 2, 3)_bottom_Z',\n",
    "       '(1, 1, 1)_top_X', '(1, 1, 1)_bottom_X', '(1, 1, 1)_top_Z',\n",
    "       '(1, 1, 1)_bottom_Z', '(1, 1, 2)_top_X', '(1, 1, 2)_bottom_X',\n",
    "       '(1, 1, 2)_top_Z', '(1, 1, 2)_bottom_Z', '(1, 1, 3)_top_X',\n",
    "       '(1, 1, 3)_bottom_X', '(1, 1, 3)_top_Z', '(1, 1, 3)_bottom_Z',\n",
    "       '(1, 2, 1)_top_X', '(1, 2, 1)_bottom_X', '(1, 2, 1)_top_Z',\n",
    "       '(1, 2, 1)_bottom_Z', '(1, 2, 2)_top_X', '(1, 2, 2)_bottom_X',\n",
    "       '(1, 2, 2)_top_Z', '(1, 2, 2)_bottom_Z', '(1, 2, 3)_top_X',\n",
    "       '(1, 2, 3)_bottom_X', '(1, 2, 3)_top_Z', '(1, 2, 3)_bottom_Z',\n",
    "       '(2, 1, 1)_top_X', '(2, 1, 1)_bottom_X', '(2, 1, 1)_top_Z',\n",
    "       '(2, 1, 1)_bottom_Z', '(2, 1, 2)_top_X', '(2, 1, 2)_bottom_X',\n",
    "       '(2, 1, 2)_top_Z', '(2, 1, 2)_bottom_Z', '(2, 1, 3)_top_X',\n",
    "       '(2, 1, 3)_bottom_X', '(2, 1, 3)_top_Z', '(2, 1, 3)_bottom_Z',\n",
    "       '(2, 2, 1)_top_X', '(2, 2, 1)_bottom_X', '(2, 2, 1)_top_Z',\n",
    "       '(2, 2, 1)_bottom_Z', '(2, 2, 2)_top_X', '(2, 2, 2)_bottom_X',\n",
    "       '(2, 2, 2)_top_Z', '(2, 2, 2)_bottom_Z', '(2, 2, 3)_top_X',\n",
    "       '(2, 2, 3)_bottom_X', '(2, 2, 3)_top_Z', '(2, 2, 3)_bottom_Z']\n",
    "\n",
    "df_R = pd.DataFrame(np.random.randint(0,100,size=(1000, 36)), columns=df_R_cols)\n",
    "df_H = pd.DataFrame(np.random.randint(0,100,size=(1000, 72)), columns=df_H_cols)"
   ]
  },
  {
   "cell_type": "code",
   "execution_count": null,
   "metadata": {},
   "outputs": [],
   "source": [
    "df_R.shape"
   ]
  },
  {
   "cell_type": "code",
   "execution_count": null,
   "metadata": {},
   "outputs": [],
   "source": [
    "df_H.shape"
   ]
  },
  {
   "cell_type": "code",
   "execution_count": null,
   "metadata": {},
   "outputs": [],
   "source": [
    "import matplotlib.pyplot as plt"
   ]
  },
  {
   "cell_type": "code",
   "execution_count": null,
   "metadata": {},
   "outputs": [],
   "source": []
  },
  {
   "cell_type": "code",
   "execution_count": null,
   "metadata": {},
   "outputs": [],
   "source": [
    "thisdict = { \n",
    "\"brand\": \"Ford\",\n",
    "\"electric\": False,\n",
    "\"year\": 1964,\n",
    "\"colors\": [{\"red\": \"dd\",\n",
    "            \"white\": \"hh\",\n",
    "            \"blue\": \"jj\"}]\n",
    "          }"
   ]
  },
  {
   "cell_type": "code",
   "execution_count": null,
   "metadata": {},
   "outputs": [],
   "source": [
    "thisdict"
   ]
  },
  {
   "cell_type": "code",
   "execution_count": null,
   "metadata": {},
   "outputs": [],
   "source": []
  },
  {
   "cell_type": "code",
   "execution_count": null,
   "metadata": {},
   "outputs": [],
   "source": []
  },
  {
   "cell_type": "code",
   "execution_count": null,
   "metadata": {},
   "outputs": [],
   "source": [
    "import pandas as pd\n",
    "d = {'Key1':[1,1,1,2,2,2,3,3,3,4,4,4,5,5,5,6,6,6], 'Key2':[2,7,8,5,3,2,7,5,8,7,2,9,8,3,9,2,7,9],'Value':[1,2,3,1,2,3,1,2,3,1,2,3,1,2,3,1,2,3]}\n",
    "df = pd.DataFrame(d)\n",
    "df = df.set_index(['Key1', 'Key2'])\n",
    "# df['MA'] = (df.groupby('Key2')['Value']\n",
    "#                 .rolling(window=3)\n",
    "#                 .mean()\n",
    "#                 .reset_index(level=0, drop=True))\n",
    "\n",
    "print(df)"
   ]
  },
  {
   "cell_type": "code",
   "execution_count": null,
   "metadata": {},
   "outputs": [],
   "source": [
    "l = ['A','B','C','D']\n",
    "\n",
    "print('original list: '.ljust(27),l)\n",
    "print('list skipping 1st element: ',l[1:])\n",
    "print('list skipping 2 elements: '.ljust(27),l[2:])\n",
    "print('bi-gram: '.ljust(27), list(zip(l,l[1:])))\n",
    "print('tri-gram: '.ljust(27), list(zip(l,l[1:],l[2:])))"
   ]
  },
  {
   "cell_type": "code",
   "execution_count": null,
   "metadata": {},
   "outputs": [],
   "source": [
    "zip(*[word[i:] for i in range(n)]"
   ]
  },
  {
   "cell_type": "code",
   "execution_count": null,
   "metadata": {},
   "outputs": [],
   "source": [
    "n = 3\n",
    "lists = []\n",
    "for i in range(3):\n",
    "    print(l[i:])\n",
    "    lists.append(l[i:])\n",
    "    \n",
    "out = list(zip(*lists))\n",
    "print(out)\n",
    "['A', 'B', 'C', 'D']\n",
    "['B', 'C', 'D']\n",
    "['C', 'D']\n",
    "[('A', 'B', 'C'), ('B', 'C', 'D')]"
   ]
  },
  {
   "cell_type": "code",
   "execution_count": null,
   "metadata": {},
   "outputs": [],
   "source": []
  },
  {
   "cell_type": "code",
   "execution_count": null,
   "metadata": {},
   "outputs": [],
   "source": [
    "!pip install textblob"
   ]
  },
  {
   "cell_type": "code",
   "execution_count": null,
   "metadata": {},
   "outputs": [],
   "source": [
    "from textblob import TextBlob"
   ]
  },
  {
   "cell_type": "code",
   "execution_count": null,
   "metadata": {},
   "outputs": [],
   "source": [
    "text = 'thank you calling on product support talking to caafic k y please helping with your a digit employ number   ing'\n",
    "orig_words = text.split()\n",
    "fixed_words = TextBlob(text).correct().split()\n",
    "words=(len([(x,y) for x,y in zip(orig_words, fixed_words) if x != y])) # => 3\n",
    "total_word_len=len(orig_words)\n",
    "correct_words=total_word_len-words\n",
    "accuraccy=correct_words/total_word_len"
   ]
  },
  {
   "cell_type": "code",
   "execution_count": null,
   "metadata": {},
   "outputs": [],
   "source": [
    "fixed_words"
   ]
  },
  {
   "cell_type": "code",
   "execution_count": null,
   "metadata": {},
   "outputs": [],
   "source": [
    "list(zip(orig_words, fixed_words))"
   ]
  },
  {
   "cell_type": "code",
   "execution_count": null,
   "metadata": {},
   "outputs": [],
   "source": []
  },
  {
   "cell_type": "code",
   "execution_count": null,
   "metadata": {},
   "outputs": [],
   "source": []
  },
  {
   "cell_type": "code",
   "execution_count": null,
   "metadata": {},
   "outputs": [],
   "source": []
  },
  {
   "cell_type": "code",
   "execution_count": null,
   "metadata": {},
   "outputs": [],
   "source": [
    "arr=np.array([['AA'  , 'Call' , 1 ],\n",
    "              ['AAL' , 'Call' , 1 ],\n",
    "              ['AAL' , 'Put'  , 1 ],\n",
    "              ['AAP' , 'call' , 1 ],\n",
    "              ['AAPL', 'Call' , 13],\n",
    "              ['AAPL', 'Put'  , 11],\n",
    "              ['AAWW', 'Call' , 1 ],\n",
    "              ['ABBV', 'put'  , 1 ],\n",
    "              ['ABNB', 'Call' , 2 ],\n",
    "              ['ABNB', 'Put'  , 2 ],\n",
    "              ['ABT' , 'Call' , 2 ],\n",
    "              ['ACB' , 'Call' , 5 ],\n",
    "              ['ACB' , 'Put'  , 15]])"
   ]
  },
  {
   "cell_type": "code",
   "execution_count": null,
   "metadata": {},
   "outputs": [],
   "source": []
  },
  {
   "cell_type": "code",
   "execution_count": null,
   "metadata": {},
   "outputs": [],
   "source": [
    "np.arr[:,0].dot(arr[:,1])"
   ]
  },
  {
   "cell_type": "code",
   "execution_count": null,
   "metadata": {},
   "outputs": [],
   "source": []
  },
  {
   "cell_type": "code",
   "execution_count": null,
   "metadata": {},
   "outputs": [],
   "source": [
    "np.cross(, )"
   ]
  },
  {
   "cell_type": "code",
   "execution_count": null,
   "metadata": {},
   "outputs": [],
   "source": []
  },
  {
   "cell_type": "code",
   "execution_count": null,
   "metadata": {},
   "outputs": [],
   "source": []
  },
  {
   "cell_type": "code",
   "execution_count": null,
   "metadata": {},
   "outputs": [],
   "source": [
    "mesh = np.array(np.meshgrid(np.unique(arr[:,0]), np.unique(arr[:,1])))\n",
    "combinations = mesh.T.reshape(-1, 2)\n",
    "combinations"
   ]
  },
  {
   "cell_type": "code",
   "execution_count": null,
   "metadata": {},
   "outputs": [],
   "source": [
    "arr"
   ]
  },
  {
   "cell_type": "code",
   "execution_count": null,
   "metadata": {},
   "outputs": [],
   "source": [
    "def numpy_merge_bycol0(d1, d2):\n",
    "    # Mask of matches in d1 against d2\n",
    "    d1mask = np.isin(d1[:,:,0], d2[:,:,0])\n",
    "\n",
    "    # Mask of matches in d2 against d1\n",
    "    d2mask = np.isin(d2[:,0], d1[:,0])\n",
    "\n",
    "    # Mask respective arrays and concatenate for final o/p\n",
    "    return np.c_[d1[d1mask], d2[d2mask,1:]]"
   ]
  },
  {
   "cell_type": "code",
   "execution_count": null,
   "metadata": {},
   "outputs": [],
   "source": [
    "numpy_merge_bycol0(combinations, arr)"
   ]
  },
  {
   "cell_type": "code",
   "execution_count": null,
   "metadata": {},
   "outputs": [],
   "source": []
  },
  {
   "cell_type": "code",
   "execution_count": null,
   "metadata": {},
   "outputs": [],
   "source": []
  },
  {
   "cell_type": "code",
   "execution_count": null,
   "metadata": {},
   "outputs": [],
   "source": [
    "[arr[i] for i,j in enumerate(combinations)]"
   ]
  },
  {
   "cell_type": "code",
   "execution_count": null,
   "metadata": {},
   "outputs": [],
   "source": [
    "(1949*2649*1949*2649*1949*2649)*8"
   ]
  },
  {
   "cell_type": "code",
   "execution_count": null,
   "metadata": {},
   "outputs": [],
   "source": [
    "np.array([1234]).dtype"
   ]
  },
  {
   "cell_type": "code",
   "execution_count": null,
   "metadata": {},
   "outputs": [],
   "source": [
    "a = np.random.random((2, 3))\n",
    "b = np.random.random((2, 3))\n",
    "c = np.random.random((2, 3))\n",
    "\n"
   ]
  },
  {
   "cell_type": "code",
   "execution_count": null,
   "metadata": {},
   "outputs": [],
   "source": []
  },
  {
   "cell_type": "code",
   "execution_count": null,
   "metadata": {},
   "outputs": [],
   "source": [
    "xpected output = [{\n",
    "    \"name\": 'Cat 1',\n",
    "    \"children\": [{\n",
    "        \"name\": 'Sub Cat 1',\n",
    "        \"children\": [{\n",
    "            \"name\": 'lvl_3_cat-1',\n",
    "            \"children\": []\n",
    "        }]\n",
    "    },{\n",
    "        \"name\": 'Sub Cat 2',\n",
    "        \"children\": [{\n",
    "            \"name\": 'lvl_3_cat-2',\n",
    "            \"children\": []\n",
    "        }]\n",
    "    }]\n",
    "},{\n",
    "    \"name\": 'Cat 2',\n",
    "    \"children\": [{\n",
    "        \"name\": 'Sub Cat',\n",
    "        \"children\": [{\n",
    "            \"name\": 'lvl_3_cat-3',\n",
    "            \"children\": []\n",
    "        }]\n",
    "    }]\n",
    "}]"
   ]
  },
  {
   "cell_type": "code",
   "execution_count": null,
   "metadata": {},
   "outputs": [],
   "source": [
    "_input = [\n",
    "        ('Cat 1', 'Sub Cat 1', 'lvl_3_cat-1'),\n",
    "        ('Cat 1', 'Sub Cat 2', 'lvl_3_cat-2'),\n",
    "        ('Cat 2', 'Sub Cat 3', 'lvl_3_cat-3')\n",
    "    ]"
   ]
  },
  {
   "cell_type": "code",
   "execution_count": null,
   "metadata": {},
   "outputs": [],
   "source": [
    "f = lambda x: {'name':x[0], 'children': f(x[1:])} if len(x)>0 else {}\n",
    "output = [f(i) for i in _input]\n",
    "pprint.pprint(output, sort_dicts=False)\n",
    "\n",
    "[{'name': 'Cat 1',\n",
    "  'children': {'name': 'Sub Cat 1',\n",
    "               'children': {'name': 'lvl_3_cat-1', 'children': {}}}},\n",
    " {'name': 'Cat 1',\n",
    "  'children': {'name': 'Sub Cat 2',\n",
    "               'children': {'name': 'lvl_3_cat-2', 'children': {}}}},\n",
    " {'name': 'Cat 2',\n",
    "  'children': {'name': 'Sub Cat 3',\n",
    "               'children': {'name': 'lvl_3_cat-3', 'children': {}}}}]"
   ]
  },
  {
   "cell_type": "code",
   "execution_count": null,
   "metadata": {},
   "outputs": [],
   "source": [
    "f = lambda x: {x[0]:f(x[1:])} if len(x)>0 else {}\n",
    "pprint.pprint([f(i) for i in _input], sort_dicts=False, indent=1)\n",
    "\n",
    "[{'Cat 1': {'Sub Cat 1': {'lvl_3_cat-1': {}}}},\n",
    " {'Cat 1': {'Sub Cat 2': {'lvl_3_cat-2': {}}}},\n",
    " {'Cat 2': {'Sub Cat 3': {'lvl_3_cat-3': {}}}}]"
   ]
  },
  {
   "cell_type": "code",
   "execution_count": null,
   "metadata": {},
   "outputs": [],
   "source": [
    "import pprint"
   ]
  },
  {
   "cell_type": "code",
   "execution_count": null,
   "metadata": {},
   "outputs": [],
   "source": [
    "pprint.pprint([f(i) for i in _input], sort_dicts=False, indent=2)"
   ]
  },
  {
   "cell_type": "code",
   "execution_count": null,
   "metadata": {},
   "outputs": [],
   "source": [
    "l = [201801,201802]"
   ]
  },
  {
   "cell_type": "code",
   "execution_count": null,
   "metadata": {},
   "outputs": [],
   "source": [
    "from itertools import product\n",
    "list(product(l,l))\n",
    "\n",
    "[(201801, 201801), (201801, 201802), (201802, 201801), (201802, 201802)]"
   ]
  },
  {
   "cell_type": "code",
   "execution_count": null,
   "metadata": {},
   "outputs": [],
   "source": [
    "out = pd.DataFrame([(j,i) for i in l for j in l])\n",
    "print(out)\n",
    "\n",
    "        0       1\n",
    "0  201801  201801\n",
    "1  201802  201801\n",
    "2  201801  201802\n",
    "3  201802  201802"
   ]
  },
  {
   "cell_type": "code",
   "execution_count": null,
   "metadata": {},
   "outputs": [],
   "source": [
    "a = [[None,2,5,6], \n",
    "     [1,2,5,None],\n",
    "     [2,3,2,None],\n",
    "     [None,3,2,4],\n",
    "     [None,None,None,5]]\n",
    "\n",
    "df = pd.DataFrame(a, columns=['K','e_K','V','e_V'])\n",
    "\n",
    "cols_bool = df.notna().all(0)\n",
    "uniques = df.iloc[df.loc[:,cols_bool].drop_duplicates().index]\n",
    "print(uniques)"
   ]
  },
  {
   "cell_type": "code",
   "execution_count": null,
   "metadata": {},
   "outputs": [],
   "source": [
    "idx = df.apply(lambda x: list(x.drop_duplicates().index)).tolist()\n",
    "set.intersection(*map(set,idx))"
   ]
  },
  {
   "cell_type": "code",
   "execution_count": null,
   "metadata": {},
   "outputs": [],
   "source": [
    "idx"
   ]
  },
  {
   "cell_type": "code",
   "execution_count": null,
   "metadata": {},
   "outputs": [],
   "source": [
    "df = pd.DataFrame(a)\n",
    "\n",
    "cols_bool = df.notna().all(0)\n",
    "uniques = df.iloc[df.loc[:,cols_bool].drop_duplicates().index]\n",
    "print(uniques)\n",
    "\n",
    "\n",
    "    0  1  2    3\n",
    "0 NaN  1  2  NaN\n",
    "3 NaN  5  2  1.0"
   ]
  },
  {
   "cell_type": "code",
   "execution_count": null,
   "metadata": {},
   "outputs": [],
   "source": [
    "df"
   ]
  },
  {
   "cell_type": "code",
   "execution_count": null,
   "metadata": {},
   "outputs": [],
   "source": [
    "df.iloc[[0,2,4]]"
   ]
  },
  {
   "cell_type": "code",
   "execution_count": null,
   "metadata": {},
   "outputs": [],
   "source": [
    "df.stack().duplicated().groupby(level=(0,1)).apply(pd.Series.drop_duplicates).unstack()"
   ]
  },
  {
   "cell_type": "code",
   "execution_count": null,
   "metadata": {},
   "outputs": [],
   "source": []
  },
  {
   "cell_type": "code",
   "execution_count": null,
   "metadata": {},
   "outputs": [],
   "source": [
    "df.T.stack().drop_duplicates().unstack().T"
   ]
  },
  {
   "cell_type": "code",
   "execution_count": null,
   "metadata": {},
   "outputs": [],
   "source": []
  },
  {
   "cell_type": "code",
   "execution_count": null,
   "metadata": {},
   "outputs": [],
   "source": []
  },
  {
   "cell_type": "code",
   "execution_count": null,
   "metadata": {},
   "outputs": [],
   "source": []
  },
  {
   "cell_type": "code",
   "execution_count": null,
   "metadata": {},
   "outputs": [],
   "source": [
    "cols_bool = df.notna().all(0)\n",
    "df.iloc[df.loc[:,cols_bool].drop_duplicates().index]"
   ]
  },
  {
   "cell_type": "code",
   "execution_count": null,
   "metadata": {},
   "outputs": [],
   "source": [
    "df.iloc[df.loc[:,cols_bool].drop_duplicates().index]"
   ]
  },
  {
   "cell_type": "code",
   "execution_count": null,
   "metadata": {},
   "outputs": [],
   "source": [
    "df"
   ]
  },
  {
   "cell_type": "code",
   "execution_count": null,
   "metadata": {},
   "outputs": [],
   "source": [
    "for idx, rows in df.iterrows():\n",
    "    print(rows)"
   ]
  },
  {
   "cell_type": "code",
   "execution_count": null,
   "metadata": {},
   "outputs": [],
   "source": []
  },
  {
   "cell_type": "code",
   "execution_count": null,
   "metadata": {},
   "outputs": [],
   "source": []
  },
  {
   "cell_type": "code",
   "execution_count": null,
   "metadata": {},
   "outputs": [],
   "source": []
  },
  {
   "cell_type": "code",
   "execution_count": null,
   "metadata": {},
   "outputs": [],
   "source": []
  },
  {
   "cell_type": "code",
   "execution_count": null,
   "metadata": {},
   "outputs": [],
   "source": [
    "import numpy as np\n",
    "import matplotlib.pyplot as plt\n",
    "from mpl_toolkits.mplot3d import Axes3D\n",
    "\n",
    "def f(x,y):\n",
    "    return (x**2+y**2)/np.sqrt(x**2+y**2)\n",
    "    \n",
    "x=np.linspace(0,1,11)\n",
    "y=np.linspace(0,1,11)\n",
    "\n",
    "\n",
    "\n",
    "X,Y=np.meshgrid(x,y)\n",
    "z=f(X,Y)\n",
    "\n",
    "\n",
    "fig = plt.figure()\n",
    "ax = plt.axes(projection='3d')\n",
    "ax.contour3D(X, Y, z)\n",
    "plt.show()"
   ]
  },
  {
   "cell_type": "code",
   "execution_count": null,
   "metadata": {},
   "outputs": [],
   "source": [
    "x"
   ]
  },
  {
   "cell_type": "code",
   "execution_count": null,
   "metadata": {},
   "outputs": [],
   "source": [
    "y"
   ]
  },
  {
   "cell_type": "code",
   "execution_count": null,
   "metadata": {},
   "outputs": [],
   "source": [
    "z = np.linspace(0,1,11)"
   ]
  },
  {
   "cell_type": "code",
   "execution_count": null,
   "metadata": {},
   "outputs": [],
   "source": [
    "plt.plot(x,y,z)"
   ]
  },
  {
   "cell_type": "code",
   "execution_count": null,
   "metadata": {},
   "outputs": [],
   "source": []
  },
  {
   "cell_type": "code",
   "execution_count": null,
   "metadata": {},
   "outputs": [],
   "source": [
    "['43' {'0': '11', '1': '12', '2': '17', '3': '26', '4': '36', '5': '42'}\n",
    "'43' {'last': '13'}]"
   ]
  },
  {
   "cell_type": "code",
   "execution_count": null,
   "metadata": {},
   "outputs": [],
   "source": [
    "a = list(map(int, input().split(' ')))\n",
    "print(a)\n",
    "\n",
    "5 4 3\n",
    "[5, 4, 3]"
   ]
  },
  {
   "cell_type": "code",
   "execution_count": null,
   "metadata": {},
   "outputs": [],
   "source": [
    "d = { \n",
    "    \"_id\" : 245, \n",
    "    \"connId\" : \"3r34b32\", \n",
    "    \"roomList\" : [\n",
    "        {\n",
    "            \"reportId\" : 29, \n",
    "            \"siteId\" : 1\n",
    "        }]}"
   ]
  },
  {
   "cell_type": "code",
   "execution_count": null,
   "metadata": {},
   "outputs": [],
   "source": [
    "d"
   ]
  },
  {
   "cell_type": "code",
   "execution_count": null,
   "metadata": {},
   "outputs": [],
   "source": [
    "root = pd.json_normalize(d).drop('roomList',1)\n",
    "nested = pd.json_normalize(d, record_path='roomList')\n",
    "output = pd.concat([root, nested],axis=1)\n",
    "print(output)\n",
    "\n",
    "   _id   connId  reportId  siteId\n",
    "0  245  3r34b32        29       1"
   ]
  },
  {
   "cell_type": "code",
   "execution_count": null,
   "metadata": {},
   "outputs": [],
   "source": [
    "pd.json_normalize(d, record_path='roomList')"
   ]
  },
  {
   "cell_type": "code",
   "execution_count": null,
   "metadata": {},
   "outputs": [],
   "source": [
    "root = pd.json_normalize(d)"
   ]
  },
  {
   "cell_type": "code",
   "execution_count": null,
   "metadata": {},
   "outputs": [],
   "source": [
    "\n",
    "root['roomList'][0])"
   ]
  },
  {
   "cell_type": "code",
   "execution_count": null,
   "metadata": {},
   "outputs": [],
   "source": [
    "d = { \n",
    "    \"_id\" : 245, \n",
    "    \"connId\" : \"3r34b32\", \n",
    "    \"roomList\" : [\n",
    "        {\n",
    "            \"reportId\" : 29, \n",
    "            \"siteId\" : 1\n",
    "        }],\n",
    "    \"roomList2\" : [\n",
    "        {\n",
    "            \"reportId2\" : 39, \n",
    "            \"siteId2\" : 5\n",
    "        }]\n",
    "}"
   ]
  },
  {
   "cell_type": "code",
   "execution_count": null,
   "metadata": {},
   "outputs": [],
   "source": []
  },
  {
   "cell_type": "code",
   "execution_count": null,
   "metadata": {},
   "outputs": [],
   "source": [
    "root = pd.json_normalize(d)\n",
    "nested_cols = [i for i in root.columns if type(root[i][0])==list]\n",
    "\n",
    "l = [root.drop(nested_cols,1),]\n",
    "for i in nested_cols:\n",
    "    l.append(pd.json_normalize(d, record_path=i))\n",
    "\n",
    "output = pd.concat(l, axis=1)\n",
    "print(output)\n",
    "\n",
    "   _id   connId  reportId  siteId  reportId2  siteId2\n",
    "0  245  3r34b32        29       1         39        5"
   ]
  },
  {
   "cell_type": "code",
   "execution_count": null,
   "metadata": {},
   "outputs": [],
   "source": [
    "nested_cols"
   ]
  },
  {
   "cell_type": "code",
   "execution_count": null,
   "metadata": {},
   "outputs": [],
   "source": [
    "np.arange(0,16).reshape(2,2,4)"
   ]
  },
  {
   "cell_type": "code",
   "execution_count": null,
   "metadata": {},
   "outputs": [],
   "source": []
  },
  {
   "cell_type": "code",
   "execution_count": null,
   "metadata": {},
   "outputs": [],
   "source": []
  },
  {
   "cell_type": "code",
   "execution_count": null,
   "metadata": {},
   "outputs": [],
   "source": []
  },
  {
   "cell_type": "code",
   "execution_count": null,
   "metadata": {},
   "outputs": [],
   "source": []
  },
  {
   "cell_type": "code",
   "execution_count": null,
   "metadata": {},
   "outputs": [],
   "source": [
    "list1 = [3, 4, 5, 6, 7, 8]\n",
    "\n",
    "list2 = []\n",
    "\n",
    "for num in list1:\n",
    "    if (num%2) == 0:\n",
    "        list2.append(num + 10)\n",
    "    else:\n",
    "        list2.append(num*5)\n",
    "        \n",
    "list2\n",
    "\n",
    "[15, 14, 25, 16, 35, 18]"
   ]
  },
  {
   "cell_type": "code",
   "execution_count": null,
   "metadata": {},
   "outputs": [],
   "source": []
  },
  {
   "cell_type": "code",
   "execution_count": null,
   "metadata": {},
   "outputs": [],
   "source": [
    "list2 = [num+10 if (num%2)==0 else num*5 for num in list1]"
   ]
  },
  {
   "cell_type": "code",
   "execution_count": null,
   "metadata": {},
   "outputs": [],
   "source": []
  },
  {
   "cell_type": "code",
   "execution_count": null,
   "metadata": {},
   "outputs": [],
   "source": []
  },
  {
   "cell_type": "code",
   "execution_count": null,
   "metadata": {},
   "outputs": [],
   "source": [
    "import numpy as np\n",
    "\n",
    "order = np.array([[     0,  38846],\n",
    "                  [     1,  51599],\n",
    "                  [     0,  51599],\n",
    "                  [     1,  52598],\n",
    "                  [     0, 290480],\n",
    "                  [     1, 335368],\n",
    "                  [     0, 335916]])"
   ]
  },
  {
   "cell_type": "code",
   "execution_count": null,
   "metadata": {},
   "outputs": [],
   "source": [
    "#if the last element on column 1 is 1\n",
    "[[     0,  38846]\n",
    " [     1,  51599]\n",
    " [     0,  51599]\n",
    " [     1,  52598]\n",
    " [     0, 290480]\n",
    " [     1, 335368]\n",
    " [     0, 335916]\n",
    " [     2,  20000]]\n",
    "#if the last element on column 1 is 0\n",
    "[[     0  38846]\n",
    " [     1  51599]\n",
    " [     0  51599]\n",
    " [     1  52598]\n",
    " [     0 290480]\n",
    " [     1 335368]\n",
    " [     0 335916]\n",
    " [     1  10000]]"
   ]
  },
  {
   "cell_type": "code",
   "execution_count": null,
   "metadata": {},
   "outputs": [],
   "source": []
  },
  {
   "cell_type": "code",
   "execution_count": null,
   "metadata": {},
   "outputs": [],
   "source": [
    " col1     col2      col3\n",
    " name     last      age\n",
    " ger      ger1      ger2\n",
    " Xccc     123       75.7"
   ]
  },
  {
   "cell_type": "code",
   "execution_count": null,
   "metadata": {},
   "outputs": [],
   "source": [
    "df = pd.read_clipboard()"
   ]
  },
  {
   "cell_type": "code",
   "execution_count": null,
   "metadata": {},
   "outputs": [],
   "source": [
    "df"
   ]
  },
  {
   "cell_type": "code",
   "execution_count": null,
   "metadata": {},
   "outputs": [],
   "source": [
    "df.iloc[2:]"
   ]
  },
  {
   "cell_type": "code",
   "execution_count": null,
   "metadata": {},
   "outputs": [],
   "source": []
  },
  {
   "cell_type": "code",
   "execution_count": null,
   "metadata": {},
   "outputs": [],
   "source": [
    "df"
   ]
  },
  {
   "cell_type": "code",
   "execution_count": null,
   "metadata": {},
   "outputs": [],
   "source": [
    "df.iloc[2:].values[0]"
   ]
  },
  {
   "cell_type": "code",
   "execution_count": null,
   "metadata": {},
   "outputs": [],
   "source": [
    "pd.DataFrame(df.iloc[2:,:], columns=cols)"
   ]
  },
  {
   "cell_type": "code",
   "execution_count": null,
   "metadata": {},
   "outputs": [],
   "source": [
    "cols"
   ]
  },
  {
   "cell_type": "code",
   "execution_count": null,
   "metadata": {},
   "outputs": [],
   "source": [
    "cols = pd.MultiIndex.from_frame(df.iloc[:2].T.reset_index()).rename([0,1,2])\n",
    "pd.DataFrame(df.iloc[2:].values, columns=cols)"
   ]
  },
  {
   "cell_type": "code",
   "execution_count": null,
   "metadata": {},
   "outputs": [],
   "source": [
    "df.iloc[:2].T.reset_index()"
   ]
  },
  {
   "cell_type": "code",
   "execution_count": null,
   "metadata": {},
   "outputs": [],
   "source": []
  },
  {
   "cell_type": "code",
   "execution_count": null,
   "metadata": {},
   "outputs": [],
   "source": []
  },
  {
   "cell_type": "code",
   "execution_count": null,
   "metadata": {},
   "outputs": [],
   "source": []
  },
  {
   "cell_type": "code",
   "execution_count": null,
   "metadata": {},
   "outputs": [],
   "source": []
  },
  {
   "cell_type": "code",
   "execution_count": null,
   "metadata": {},
   "outputs": [],
   "source": []
  },
  {
   "cell_type": "code",
   "execution_count": null,
   "metadata": {},
   "outputs": [],
   "source": [
    "import numpy as np\n",
    "values = np.array([123 , 123 , -123.6,  110,  111])\n",
    "values[(values<=0).argmin():] = 0\n",
    "values"
   ]
  },
  {
   "cell_type": "code",
   "execution_count": null,
   "metadata": {},
   "outputs": [],
   "source": [
    "\n",
    "# value = np.array([20,30,15,6,90,8])\n",
    "# Numbers[(Numbers>=-50).argmin():] = 0\n",
    "# Numbers"
   ]
  },
  {
   "cell_type": "code",
   "execution_count": null,
   "metadata": {},
   "outputs": [],
   "source": [
    "value"
   ]
  },
  {
   "cell_type": "code",
   "execution_count": null,
   "metadata": {},
   "outputs": [],
   "source": [
    "a = np.array([1,2,3,-1,-4,2,1])\n",
    "a[(a<=0).argmax():]=0\n",
    "a"
   ]
  },
  {
   "cell_type": "code",
   "execution_count": null,
   "metadata": {},
   "outputs": [],
   "source": [
    "a = np.array([1,2,3,-1,-4.1,2,1])\n",
    "a[(a<=-2).argmax():]=0\n",
    "a"
   ]
  },
  {
   "cell_type": "code",
   "execution_count": null,
   "metadata": {},
   "outputs": [],
   "source": [
    "Numbers(Numbers>=-50).argmin()"
   ]
  },
  {
   "cell_type": "code",
   "execution_count": null,
   "metadata": {},
   "outputs": [],
   "source": []
  },
  {
   "cell_type": "code",
   "execution_count": null,
   "metadata": {},
   "outputs": [],
   "source": [
    "Numbers[(Numbers<=0).argmax():]"
   ]
  },
  {
   "cell_type": "code",
   "execution_count": null,
   "metadata": {},
   "outputs": [],
   "source": [
    "Numbers = np.array([123.6 , 123.6 ,  -123.6, 110.3748 ,  111.6992976, 102.3165566,  97.81462811])\n",
    "\n",
    "Numbers[(Numbers<=0).cumsum(dtype=bool)]# = 0"
   ]
  },
  {
   "cell_type": "code",
   "execution_count": null,
   "metadata": {},
   "outputs": [],
   "source": [
    "Numbers = np.array([123.6 , 123.6 ,  123.6, 110.3748 ,  111.6992976, 102.3165566,  97.81462811])\n",
    "\n",
    "np.where(~(Numbers<=0).cumsum().astype(bool), Numbers, 0)"
   ]
  },
  {
   "cell_type": "code",
   "execution_count": null,
   "metadata": {},
   "outputs": [],
   "source": []
  },
  {
   "cell_type": "code",
   "execution_count": null,
   "metadata": {},
   "outputs": [],
   "source": [
    "Numbers[(Numbers<=0).cumsum(dtype=bool)] = 0\n",
    "Numbers"
   ]
  },
  {
   "cell_type": "code",
   "execution_count": null,
   "metadata": {},
   "outputs": [],
   "source": [
    "Numbers[(Numbers<=0).cumsum().astype(bool)] = 0\n",
    "Numbers"
   ]
  },
  {
   "cell_type": "code",
   "execution_count": null,
   "metadata": {},
   "outputs": [],
   "source": [
    "Numbers[(Numbers<=0).cumsum(dtype=bool)]"
   ]
  },
  {
   "cell_type": "code",
   "execution_count": null,
   "metadata": {},
   "outputs": [],
   "source": []
  },
  {
   "cell_type": "code",
   "execution_count": null,
   "metadata": {},
   "outputs": [],
   "source": [
    "arr = np.arange(0,16).reshape(4,4)\n",
    "mask = np.random."
   ]
  },
  {
   "cell_type": "code",
   "execution_count": null,
   "metadata": {},
   "outputs": [],
   "source": []
  },
  {
   "cell_type": "code",
   "execution_count": null,
   "metadata": {},
   "outputs": [],
   "source": []
  },
  {
   "cell_type": "code",
   "execution_count": null,
   "metadata": {},
   "outputs": [],
   "source": [
    "import tensorflow as tf\n",
    "from tensorflow.keras import layers, Model\n",
    "\n",
    "X_2D = tf.random.normal((100,7,3))   #Samples, width/time, channels (feature maps)\n",
    "X_3D = tf.random.normal((100,5,7,3)) #Samples, height, width, channels (feature maps)\n",
    "X_4D = tf.random.normal((100,6,6,2,3))   #Samples, width/time, channels (feature maps)"
   ]
  },
  {
   "cell_type": "code",
   "execution_count": null,
   "metadata": {},
   "outputs": [],
   "source": []
  },
  {
   "cell_type": "code",
   "execution_count": null,
   "metadata": {},
   "outputs": [],
   "source": [
    "#With padding = same, the edge pixels are padded to not skip a few\n",
    "\n",
    "cnn1d = layers.Conv1D(10, 3, padding='same')(X_2D) #Out featuremaps = 10, kernel (3,)\n",
    "print(X_2D.shape,'->',cnn1d.shape)"
   ]
  },
  {
   "cell_type": "code",
   "execution_count": null,
   "metadata": {},
   "outputs": [],
   "source": [
    "cnn2d = layers.Conv2D(10, (3,3), padding='same')(X_3D) #Out featuremaps = 10, kernel (3,3)\n",
    "print(X_3D.shape,'->',cnn2d.shape)"
   ]
  },
  {
   "cell_type": "code",
   "execution_count": null,
   "metadata": {},
   "outputs": [],
   "source": [
    "cnn3d = layers.Conv3D(10, (3,3,2), padding='same')(X_4D) #Out featuremaps = 10, kernel (3,3)\n",
    "print(X_4D.shape,'->',cnn3d.shape)"
   ]
  },
  {
   "cell_type": "code",
   "execution_count": null,
   "metadata": {},
   "outputs": [],
   "source": []
  },
  {
   "cell_type": "code",
   "execution_count": null,
   "metadata": {},
   "outputs": [],
   "source": []
  },
  {
   "cell_type": "code",
   "execution_count": null,
   "metadata": {},
   "outputs": [],
   "source": []
  },
  {
   "cell_type": "code",
   "execution_count": null,
   "metadata": {},
   "outputs": [],
   "source": [
    "def create_CNN1D_model(pool_type='max',conv_activation='relu'):\n",
    "    input_layer = layers.Input((100,30))\n",
    "    conv_layer1 = layers.Conv1D(filters=16, kernel_size=3, activation=conv_activation)(input_layer)\n",
    "    max_pooling_layer1 = layers.MaxPooling1D(pool_size=2)(conv_layer1)\n",
    "\n",
    "    conv_layer2 = layers.Conv1D(filters=32, kernel_size=3, activation=conv_activation)(max_pooling_layer1)\n",
    "    max_pooling_layer2 = layers.MaxPooling1D(pool_size=2)(conv_layer2)\n",
    "\n",
    "    flatten_layer = layers.Flatten()(max_pooling_layer2)\n",
    "    dense_layer = layers.Dense(units=64, activation='relu')(flatten_layer)\n",
    "\n",
    "    output_layer = layers.Dense(units=10, activation='softmax')(dense_layer)\n",
    "    CNN_model = Model(inputs=input_layer, outputs=output_layer)\n",
    "    return CNN_model\n",
    "\n",
    "CNN1D = create_CNN1D_model()\n",
    "CNN1D.summary()\n",
    "\n",
    "Model: \"model_2\"\n",
    "_________________________________________________________________\n",
    "Layer (type)                 Output Shape              Param #   \n",
    "=================================================================\n",
    "input_25 (InputLayer)        [(None, 100, 30)]         0         \n",
    "_________________________________________________________________\n",
    "conv1d_13 (Conv1D)           (None, 98, 16)            1456      \n",
    "_________________________________________________________________\n",
    "max_pooling1d_3 (MaxPooling1 (None, 49, 16)            0         \n",
    "_________________________________________________________________\n",
    "conv1d_14 (Conv1D)           (None, 47, 32)            1568      \n",
    "_________________________________________________________________\n",
    "max_pooling1d_4 (MaxPooling1 (None, 23, 32)            0         \n",
    "_________________________________________________________________\n",
    "flatten_22 (Flatten)         (None, 736)               0         \n",
    "_________________________________________________________________\n",
    "dense_79 (Dense)             (None, 64)                47168     \n",
    "_________________________________________________________________\n",
    "dense_80 (Dense)             (None, 10)                650       \n",
    "=================================================================\n",
    "Total params: 50,842\n",
    "Trainable params: 50,842\n",
    "Non-trainable params: 0\n",
    "_________________________________________________________________"
   ]
  },
  {
   "cell_type": "code",
   "execution_count": null,
   "metadata": {},
   "outputs": [],
   "source": []
  },
  {
   "cell_type": "code",
   "execution_count": null,
   "metadata": {},
   "outputs": [],
   "source": [
    "import numpy as np\n",
    "import pandas as pd\n",
    "\n",
    "X = np.array([[-1, -1], [-2, -1], [-3, -2], [1, 1], [2, 1], [3, 2]])"
   ]
  },
  {
   "cell_type": "code",
   "execution_count": null,
   "metadata": {},
   "outputs": [],
   "source": [
    "data"
   ]
  },
  {
   "cell_type": "code",
   "execution_count": null,
   "metadata": {},
   "outputs": [],
   "source": [
    "data = np.apply_along_axis(' '.join, 1, X.astype(str))\n",
    "df = pd.DataFrame(data, columns=['coordinates'])\n",
    "print(df)"
   ]
  },
  {
   "cell_type": "code",
   "execution_count": null,
   "metadata": {},
   "outputs": [],
   "source": [
    "X"
   ]
  },
  {
   "cell_type": "code",
   "execution_count": null,
   "metadata": {},
   "outputs": [],
   "source": [
    "np.apply_along_axis(' '.join, 1, X.astype(str))"
   ]
  },
  {
   "cell_type": "code",
   "execution_count": null,
   "metadata": {},
   "outputs": [],
   "source": []
  },
  {
   "cell_type": "code",
   "execution_count": null,
   "metadata": {},
   "outputs": [],
   "source": []
  },
  {
   "cell_type": "code",
   "execution_count": null,
   "metadata": {},
   "outputs": [],
   "source": [
    "arr = np.array([['A', 'B'],['C','D']])\n",
    "arr"
   ]
  },
  {
   "cell_type": "code",
   "execution_count": null,
   "metadata": {},
   "outputs": [],
   "source": [
    "np.apply_along_axis(' '.join, 1, arr)"
   ]
  },
  {
   "cell_type": "code",
   "execution_count": null,
   "metadata": {},
   "outputs": [],
   "source": []
  },
  {
   "cell_type": "code",
   "execution_count": null,
   "metadata": {},
   "outputs": [],
   "source": [
    "df = pd.DataFrame(X)\n",
    "df = df[0].map(str)+' '+df[1].map(str)\n",
    "df = pd.DataFrame(df, columns=['coordinates'])\n",
    "print(df)\n",
    "\n",
    "  coordinates\n",
    "0       -1 -1\n",
    "1       -2 -1\n",
    "2       -3 -2\n",
    "3         1 1\n",
    "4         2 1\n",
    "5         3 2"
   ]
  },
  {
   "cell_type": "code",
   "execution_count": null,
   "metadata": {},
   "outputs": [],
   "source": []
  },
  {
   "cell_type": "code",
   "execution_count": null,
   "metadata": {},
   "outputs": [],
   "source": []
  },
  {
   "cell_type": "code",
   "execution_count": null,
   "metadata": {},
   "outputs": [],
   "source": [
    "a = [['a','b'],['c','f'],['a','b'],['d','f']]\n",
    "list(set([tuple(i) for i in a]))"
   ]
  },
  {
   "cell_type": "code",
   "execution_count": null,
   "metadata": {},
   "outputs": [],
   "source": []
  },
  {
   "cell_type": "code",
   "execution_count": null,
   "metadata": {},
   "outputs": [],
   "source": []
  },
  {
   "cell_type": "code",
   "execution_count": null,
   "metadata": {},
   "outputs": [],
   "source": [
    "#Dummy data\n",
    "idx = [0,0,0,0,0,1,1,1,1,1,1,2,2,2,2,3,3,3,3,3]\n",
    "val = np.arange(len(idx))\n",
    "arr = np.array([idx, val]).T\n",
    "df = pd.DataFrame(arr, columns=['id','v1'])\n",
    "\n",
    "#apply grouped shifting\n",
    "arr = df[['id','v1']].values\n",
    "grouper = np.split(arr[:,1], np.unique(arr[:, 0], return_index=True)[1][1:])\n",
    "shift = [np.append(np.roll(i,-1)[:-1], np.nan) for i in grouper]\n",
    "new_col = np.hstack(shift)\n",
    "df['shifted'] = new_col\n",
    "\n",
    "print(df)\n",
    "\n",
    "    id  v1  shifted\n",
    "0    0   0      1.0\n",
    "1    0   1      2.0\n",
    "2    0   2      3.0\n",
    "3    0   3      4.0\n",
    "4    0   4      NaN\n",
    "5    1   5      6.0\n",
    "6    1   6      7.0\n",
    "7    1   7      8.0\n",
    "8    1   8      9.0\n",
    "9    1   9     10.0\n",
    "10   1  10      NaN\n",
    "11   2  11     12.0\n",
    "12   2  12     13.0\n",
    "13   2  13     14.0\n",
    "14   2  14      NaN\n",
    "15   3  15     16.0\n",
    "16   3  16     17.0\n",
    "17   3  17     18.0\n",
    "18   3  18     19.0\n",
    "19   3  19      NaN"
   ]
  },
  {
   "cell_type": "code",
   "execution_count": null,
   "metadata": {},
   "outputs": [],
   "source": [
    "df = pd.DataFrame(arr, columns=['id','v1'])"
   ]
  },
  {
   "cell_type": "code",
   "execution_count": null,
   "metadata": {},
   "outputs": [],
   "source": []
  },
  {
   "cell_type": "code",
   "execution_count": null,
   "metadata": {},
   "outputs": [],
   "source": []
  },
  {
   "cell_type": "code",
   "execution_count": null,
   "metadata": {},
   "outputs": [],
   "source": [
    "n=7\n",
    "[[1 if i==j or i+j==n-1 else 0 for j in range(n)] for i in range(n)]"
   ]
  },
  {
   "cell_type": "code",
   "execution_count": null,
   "metadata": {},
   "outputs": [],
   "source": []
  },
  {
   "cell_type": "code",
   "execution_count": null,
   "metadata": {},
   "outputs": [],
   "source": [
    "df = pd.DataFrame(arr, columns=['id','v1'])"
   ]
  },
  {
   "cell_type": "code",
   "execution_count": null,
   "metadata": {},
   "outputs": [],
   "source": [
    "df.groupby('id')['v1'].shift(-1)"
   ]
  },
  {
   "cell_type": "code",
   "execution_count": null,
   "metadata": {},
   "outputs": [],
   "source": []
  },
  {
   "cell_type": "code",
   "execution_count": null,
   "metadata": {},
   "outputs": [],
   "source": []
  },
  {
   "cell_type": "code",
   "execution_count": null,
   "metadata": {},
   "outputs": [],
   "source": [
    "import pandas as pd\n",
    "import numpy as np\n",
    "    \n",
    "data = {'ID':['1','1','1','2','2','2','3','3','3','3'],\n",
    "                'Identity': ['Identity_1', 'Identity_2','Identity_3','Identity_1', 'Identity_4','Identity_2','Identity_4', 'Identity_5','Identity_6',np.nan],\n",
    "                'Type': ['Type_1', 'Type_2',np.nan,'Type_3', 'Type_1',np.nan,'Type_4','Type_5','Type_1', 'Type_6']\n",
    "                }\n",
    "        \n",
    "df_data = pd.DataFrame (data, columns = ['ID','Identity','Type'])\n",
    "        \n",
    "result ={'ID':['1','1','1','1','1','1'],\n",
    "                'Identity': ['Identity_1', 'Identity_1','Identity_2','Identity_2', 'Identity_3','Identity_3'],\n",
    "                'Type': ['Type_1', 'Type_2','Type_1', 'Type_2','Type_1', 'Type_2']\n",
    "                }\n",
    "        \n",
    "df_result = pd.DataFrame (result, columns = ['ID','Identity','Type'])"
   ]
  },
  {
   "cell_type": "code",
   "execution_count": null,
   "metadata": {},
   "outputs": [],
   "source": [
    "df_data"
   ]
  },
  {
   "cell_type": "code",
   "execution_count": null,
   "metadata": {},
   "outputs": [],
   "source": []
  },
  {
   "cell_type": "code",
   "execution_count": null,
   "metadata": {},
   "outputs": [],
   "source": [
    "a = [1, 2, 3, 4, 5]\n",
    "b = [9, 8, 7, 6, 5]\n",
    "c = []\n",
    "d = [2, 3, 5]\n",
    "\n",
    "l = [set(i) for i in [a,b,c,d] if len(i)>0]\n",
    "set.intersection(*l)\n",
    "\n",
    "{5}\n",
    "\n",
    "\n",
    "a = [1, 2, 3, 4, 5]\n",
    "b = [9, 8, 7, 6, 5, 3]\n",
    "c = [1, 3, 8]\n",
    "d = []\n",
    "\n",
    "l = [set(i) for i in [a,b,c,d] if len(i)>0]\n",
    "set.intersection(*l)\n",
    "\n",
    "{3}"
   ]
  },
  {
   "cell_type": "code",
   "execution_count": null,
   "metadata": {},
   "outputs": [],
   "source": []
  },
  {
   "cell_type": "code",
   "execution_count": null,
   "metadata": {},
   "outputs": [],
   "source": []
  },
  {
   "cell_type": "code",
   "execution_count": null,
   "metadata": {},
   "outputs": [],
   "source": []
  },
  {
   "cell_type": "code",
   "execution_count": null,
   "metadata": {},
   "outputs": [],
   "source": []
  },
  {
   "cell_type": "code",
   "execution_count": null,
   "metadata": {},
   "outputs": [],
   "source": [
    "df_result"
   ]
  },
  {
   "cell_type": "code",
   "execution_count": null,
   "metadata": {},
   "outputs": [],
   "source": []
  },
  {
   "cell_type": "code",
   "execution_count": null,
   "metadata": {},
   "outputs": [],
   "source": [
    "S = \"Dead parrot?\"\n",
    "print(S[-3:4:-1])"
   ]
  },
  {
   "cell_type": "code",
   "execution_count": null,
   "metadata": {},
   "outputs": [],
   "source": [
    "S = \"Dead parrot?\"\n",
    "print(S[4:-3+1])"
   ]
  },
  {
   "cell_type": "code",
   "execution_count": null,
   "metadata": {},
   "outputs": [],
   "source": []
  },
  {
   "cell_type": "code",
   "execution_count": null,
   "metadata": {},
   "outputs": [],
   "source": []
  },
  {
   "cell_type": "code",
   "execution_count": null,
   "metadata": {},
   "outputs": [],
   "source": [
    "data = {'group1':  ['a', 'b','a','a','a'],\n",
    "        'group2': ['f', 'f', 'f' , 'f', 'f'],\n",
    "         'aggregate': ['1', '2','3','4','5'],}\n",
    "df = pd.DataFrame (data, columns = ['group1','group2','aggregate'])"
   ]
  },
  {
   "cell_type": "code",
   "execution_count": null,
   "metadata": {},
   "outputs": [],
   "source": [
    "df"
   ]
  },
  {
   "cell_type": "code",
   "execution_count": null,
   "metadata": {},
   "outputs": [],
   "source": [
    "agg = df.groupby(['group2', 'group1'],  as_index=False).agg({'aggregate':', '.join})"
   ]
  },
  {
   "cell_type": "code",
   "execution_count": null,
   "metadata": {},
   "outputs": [],
   "source": [
    "agg"
   ]
  },
  {
   "cell_type": "code",
   "execution_count": null,
   "metadata": {},
   "outputs": [],
   "source": []
  },
  {
   "cell_type": "code",
   "execution_count": null,
   "metadata": {},
   "outputs": [],
   "source": []
  },
  {
   "cell_type": "code",
   "execution_count": null,
   "metadata": {},
   "outputs": [],
   "source": []
  },
  {
   "cell_type": "code",
   "execution_count": null,
   "metadata": {},
   "outputs": [],
   "source": []
  },
  {
   "cell_type": "code",
   "execution_count": null,
   "metadata": {},
   "outputs": [],
   "source": [
    "import numpy as np"
   ]
  },
  {
   "cell_type": "code",
   "execution_count": null,
   "metadata": {},
   "outputs": [],
   "source": [
    "%%timeit\n",
    "\n",
    "n = 5000\n",
    "s1 = 0\n",
    "\n",
    "for i in range(n):\n",
    "    for j in range(n):\n",
    "        s1 += (i/2) + (j/3)\n",
    "        \n",
    "print(s1)"
   ]
  },
  {
   "cell_type": "code",
   "execution_count": null,
   "metadata": {},
   "outputs": [],
   "source": [
    "%%timeit\n",
    "\n",
    "n = 5000\n",
    "s2 = 0\n",
    "\n",
    "s2 = sum([i/2+j/3 for i in range(n) for j in range(n)])\n",
    "print(s2)"
   ]
  },
  {
   "cell_type": "code",
   "execution_count": null,
   "metadata": {},
   "outputs": [],
   "source": [
    "from itertools import product"
   ]
  },
  {
   "cell_type": "code",
   "execution_count": null,
   "metadata": {},
   "outputs": [],
   "source": [
    "%%timeit\n",
    "\n",
    "n = 5000\n",
    "s3 = 0\n",
    "\n",
    "for i,j in product(range(n),repeat=2):\n",
    "    s3 += (i/2) + (j/3)\n",
    "print(s3)"
   ]
  },
  {
   "cell_type": "code",
   "execution_count": null,
   "metadata": {},
   "outputs": [],
   "source": [
    "from numba import njit, prange"
   ]
  },
  {
   "cell_type": "code",
   "execution_count": null,
   "metadata": {},
   "outputs": [],
   "source": [
    "@njit(parallel=True)\n",
    "def f(n):\n",
    "    s = 0\n",
    "    for i in prange(n):\n",
    "        for j in prange(n):\n",
    "            s += (i/2) + (j/3)\n",
    "    return s\n",
    "\n",
    "#s5 = f(n)\n",
    "#21.8 ms ± 4.81 ms per loop (mean ± std. dev. of 7 runs, 1 loop each)"
   ]
  },
  {
   "cell_type": "code",
   "execution_count": null,
   "metadata": {},
   "outputs": [],
   "source": [
    "%%timeit\n",
    "f(n)"
   ]
  },
  {
   "cell_type": "code",
   "execution_count": null,
   "metadata": {},
   "outputs": [],
   "source": []
  },
  {
   "cell_type": "code",
   "execution_count": null,
   "metadata": {},
   "outputs": [],
   "source": [
    "s5"
   ]
  },
  {
   "cell_type": "code",
   "execution_count": null,
   "metadata": {},
   "outputs": [],
   "source": []
  },
  {
   "cell_type": "code",
   "execution_count": null,
   "metadata": {},
   "outputs": [],
   "source": [
    "import pandas as pd"
   ]
  },
  {
   "cell_type": "code",
   "execution_count": null,
   "metadata": {},
   "outputs": [],
   "source": [
    "df_cols = ['x1', 'y1', 'x2', 'y2', 'x3', 'y3']\n",
    "\n",
    "np.random.seed(365)\n",
    "df = pd.DataFrame(np.random.randint(0,10,size=(10, 6)), columns=df_cols)\n",
    "df"
   ]
  },
  {
   "cell_type": "code",
   "execution_count": null,
   "metadata": {},
   "outputs": [],
   "source": []
  },
  {
   "cell_type": "code",
   "execution_count": null,
   "metadata": {},
   "outputs": [],
   "source": [
    "df.T"
   ]
  },
  {
   "cell_type": "code",
   "execution_count": null,
   "metadata": {},
   "outputs": [],
   "source": [
    "[i[1] for i in df['x1'].groupby([0,0,0,0,1,1,1,1,2,2])]"
   ]
  },
  {
   "cell_type": "code",
   "execution_count": null,
   "metadata": {},
   "outputs": [],
   "source": []
  },
  {
   "cell_type": "code",
   "execution_count": null,
   "metadata": {},
   "outputs": [],
   "source": []
  },
  {
   "cell_type": "code",
   "execution_count": null,
   "metadata": {},
   "outputs": [],
   "source": [
    "g = sorted(list(range(int(len(df.columns)/2)))*2)"
   ]
  },
  {
   "cell_type": "code",
   "execution_count": null,
   "metadata": {},
   "outputs": [],
   "source": [
    "g"
   ]
  },
  {
   "cell_type": "code",
   "execution_count": null,
   "metadata": {},
   "outputs": [],
   "source": [
    "(df.T.reset_index()).groupby(g).apply(lambda x: print(x,'\\n'))"
   ]
  },
  {
   "cell_type": "code",
   "execution_count": null,
   "metadata": {},
   "outputs": [],
   "source": []
  },
  {
   "cell_type": "code",
   "execution_count": null,
   "metadata": {},
   "outputs": [],
   "source": [
    "inp = ['potato','tomato','parsley','oregano','eggplant']\n",
    "\n",
    "rec1 = ['oregano','potato','corn','tomato']\n",
    "rec2 = ['oregano','parsley','tomato','potato']\n",
    "rec3 = ['eggplant','corn']\n",
    "\n",
    "rec_list = [rec1, rec2, rec3]\n",
    "\n",
    "def jaccard_similarity(list1, list2):\n",
    "    intersection = len(list(set(list1).intersection(list2)))\n",
    "    union = (len(list1) + len(list2)) - intersection\n",
    "    return float(intersection) / union\n",
    "\n",
    "[jaccard_similarity(i,inp) for i in rec_list]"
   ]
  },
  {
   "cell_type": "code",
   "execution_count": null,
   "metadata": {},
   "outputs": [],
   "source": []
  },
  {
   "cell_type": "code",
   "execution_count": null,
   "metadata": {},
   "outputs": [],
   "source": []
  },
  {
   "cell_type": "code",
   "execution_count": null,
   "metadata": {},
   "outputs": [],
   "source": []
  },
  {
   "cell_type": "code",
   "execution_count": null,
   "metadata": {},
   "outputs": [],
   "source": [
    "import numpy as np\n",
    "from sklearn.mixture import GaussianMixture\n",
    "from sklearn.metrics import silhouette_score\n",
    "import scipy\n",
    "import matplotlib.pyplot as plt\n",
    "%matplotlib inline\n",
    "\n",
    "#Sample data\n",
    "x = [57, 58, 59, 60, 61, 78, 79, 80, 81, 82, 83, 101, 102, 103, 104, 105, 106]\n",
    "\n",
    "#Fit a model onto the data\n",
    "data = np.array(x).reshape(-1,1)\n",
    "\n",
    "print('Silhoutte scores')\n",
    "scores = []\n",
    "for n in range(2,11):\n",
    "    model = GaussianMixture(n).fit(data)\n",
    "    preds = model.predict(data)\n",
    "    score = silhouette_score(data, preds)\n",
    "    scores.append(score)\n",
    "    print(n,'->',score)\n",
    "\n",
    "n_best = np.argmax(scores)+2 #because clusters start from 2\n",
    "\n",
    "model = GaussianMixture(n_best).fit(data)\n",
    "    \n",
    "#Get list of means and variances\n",
    "mu = np.abs(model.means_.flatten())\n",
    "sd = np.sqrt(np.abs(model.covariances_.flatten()))\n",
    "\n",
    "#Plotting\n",
    "extend_window = 50  #this is for zooming into or out of the graph, higher it is , more zoom out\n",
    "x_values = np.arange(data.min()-extend_window, data.max()+extend_window, 0.1) #For plotting smooth graphs\n",
    "plt.plot(data, np.zeros(data.shape), linestyle='None', markersize = 10.0, marker='o') #plot the data on x axis\n",
    "\n",
    "#plot the different distributions (in this case 2 of them)\n",
    "for i in range(num_components):\n",
    "    y_values = scipy.stats.norm(mu[i], sd[i])\n",
    "    plt.plot(x_values, y_values.pdf(x_values))\n",
    "    \n",
    "#split data by clusters\n",
    "pred = model.predict(data)\n",
    "np.split(x, np.sort(np.unique(pred, return_index=True)[1])[1:])"
   ]
  },
  {
   "cell_type": "code",
   "execution_count": null,
   "metadata": {},
   "outputs": [],
   "source": [
    "#split data by clusters\n",
    "pred = model.predict(data)\n",
    "np.split(x, np.unique(pred, return_index=True)[1][1:])"
   ]
  },
  {
   "cell_type": "code",
   "execution_count": null,
   "metadata": {},
   "outputs": [],
   "source": [
    "pred"
   ]
  },
  {
   "cell_type": "code",
   "execution_count": null,
   "metadata": {},
   "outputs": [],
   "source": [
    "np.unique(pred, return_index=True)[1][1:]"
   ]
  },
  {
   "cell_type": "code",
   "execution_count": null,
   "metadata": {},
   "outputs": [],
   "source": [
    "np.split(x, np.sort(np.unique(pred, return_index=True)[1])[1:])"
   ]
  },
  {
   "cell_type": "code",
   "execution_count": null,
   "metadata": {},
   "outputs": [],
   "source": [
    "x"
   ]
  },
  {
   "cell_type": "code",
   "execution_count": null,
   "metadata": {},
   "outputs": [],
   "source": [
    "pred"
   ]
  },
  {
   "cell_type": "code",
   "execution_count": null,
   "metadata": {},
   "outputs": [],
   "source": []
  },
  {
   "cell_type": "code",
   "execution_count": null,
   "metadata": {},
   "outputs": [],
   "source": [
    "for n_clusters in range_n_clusters:\n",
    "    clusterer = KMeans(n_clusters=n_clusters)\n",
    "    preds = clusterer.fit_predict(df)\n",
    "    centers = clusterer.cluster_centers_\n",
    "\n",
    "    score = silhouette_score(df, preds)\n",
    "    print(\"For n_clusters = {}, silhouette score is {})\".format(n_clusters, score))"
   ]
  },
  {
   "cell_type": "code",
   "execution_count": null,
   "metadata": {},
   "outputs": [],
   "source": []
  },
  {
   "cell_type": "code",
   "execution_count": null,
   "metadata": {},
   "outputs": [],
   "source": []
  },
  {
   "cell_type": "code",
   "execution_count": null,
   "metadata": {},
   "outputs": [],
   "source": [
    "ebmap_items = {76453728: \"Guatemala\",\n",
    "                12345678: \"Guatemala\",\n",
    "                98765432: \"Mexico\",\n",
    "                43285437: \"Mexico\",\n",
    "                23265992: \"Mexico\"}"
   ]
  },
  {
   "cell_type": "code",
   "execution_count": null,
   "metadata": {},
   "outputs": [],
   "source": [
    "output_dict = {76453728: [12345678], 98765432: [43285437, 23265992]}"
   ]
  },
  {
   "cell_type": "code",
   "execution_count": null,
   "metadata": {},
   "outputs": [],
   "source": []
  },
  {
   "cell_type": "code",
   "execution_count": null,
   "metadata": {},
   "outputs": [],
   "source": [
    "ebmap_items.values()"
   ]
  },
  {
   "cell_type": "code",
   "execution_count": null,
   "metadata": {},
   "outputs": [],
   "source": []
  },
  {
   "cell_type": "code",
   "execution_count": null,
   "metadata": {},
   "outputs": [],
   "source": [
    "[1,2,3].remove(3)"
   ]
  },
  {
   "cell_type": "code",
   "execution_count": null,
   "metadata": {},
   "outputs": [],
   "source": [
    "from collections import defaultdict\n",
    "\n",
    "output_dict = defaultdict(list)\n",
    "\n",
    "for i,j in ebmap_items.items():\n",
    "    output_dict[j].append(i)\n",
    "    \n",
    "output_dict = {max(v):list(set(v)-{max(v)}) for k,v in output_dict.items()}\n",
    "output_dict\n",
    "\n",
    "#{76453728: [12345678], 98765432: [43285437, 23265992]}"
   ]
  },
  {
   "cell_type": "code",
   "execution_count": null,
   "metadata": {},
   "outputs": [],
   "source": [
    "output_dict"
   ]
  },
  {
   "cell_type": "code",
   "execution_count": null,
   "metadata": {},
   "outputs": [],
   "source": [
    "output_dict = {max(v):v[1:] for k,v in output_dict.items()}\n",
    "output_dict"
   ]
  },
  {
   "cell_type": "code",
   "execution_count": null,
   "metadata": {},
   "outputs": [],
   "source": []
  },
  {
   "cell_type": "code",
   "execution_count": null,
   "metadata": {},
   "outputs": [],
   "source": []
  },
  {
   "cell_type": "code",
   "execution_count": null,
   "metadata": {},
   "outputs": [],
   "source": [
    "person_ID, first_name, last_name, feature_1, feature_2, feature_3\n",
    "1, John, Talbert, 1,2,3\n",
    "2, Ted, Thompson, 4,5,6\n",
    "1, John, Talbert, 7,8,9\n",
    "2, Ted, Thompson, 13,14,15"
   ]
  },
  {
   "cell_type": "code",
   "execution_count": null,
   "metadata": {},
   "outputs": [],
   "source": [
    "df = pd.read_clipboard(',')"
   ]
  },
  {
   "cell_type": "code",
   "execution_count": null,
   "metadata": {},
   "outputs": [],
   "source": [
    "df"
   ]
  },
  {
   "cell_type": "code",
   "execution_count": null,
   "metadata": {},
   "outputs": [],
   "source": [
    "df['col'] = df.groupby('person_ID').cumcount()\n",
    "\n",
    "out=df.pivot(index=['person_ID',' first_name',' last_name'], columns='col')\n",
    "#out.columns = [f'{x}_{y}' for x,y in out.columns]\n",
    "#out = out.reset_index()"
   ]
  },
  {
   "cell_type": "code",
   "execution_count": null,
   "metadata": {},
   "outputs": [],
   "source": [
    "df.columns"
   ]
  },
  {
   "cell_type": "code",
   "execution_count": null,
   "metadata": {},
   "outputs": [],
   "source": [
    "df.set_index(['person_ID', ' first_name', ' last_name'], append=True).unstack(0)"
   ]
  },
  {
   "cell_type": "code",
   "execution_count": null,
   "metadata": {},
   "outputs": [],
   "source": [
    "g_cols = ['person_ID', ' first_name', ' last_name']\n",
    "f_cols = [' feature_1', ' feature_2',' feature_3']"
   ]
  },
  {
   "cell_type": "code",
   "execution_count": null,
   "metadata": {},
   "outputs": [],
   "source": [
    "df.sort_values('person_ID').set_index(g_cols, append=True)"
   ]
  },
  {
   "cell_type": "code",
   "execution_count": null,
   "metadata": {},
   "outputs": [],
   "source": []
  },
  {
   "cell_type": "code",
   "execution_count": null,
   "metadata": {},
   "outputs": [],
   "source": []
  },
  {
   "cell_type": "code",
   "execution_count": null,
   "metadata": {},
   "outputs": [],
   "source": []
  },
  {
   "cell_type": "code",
   "execution_count": null,
   "metadata": {},
   "outputs": [],
   "source": [
    "g_cols"
   ]
  },
  {
   "cell_type": "code",
   "execution_count": null,
   "metadata": {},
   "outputs": [],
   "source": [
    "df['col'] = df.groupby('person_ID').cumcount()\n",
    "out = df.set_index(['col','person_ID', ' first_name', ' last_name'], append=True).droplevel(0).unstack(0)\n",
    "out.columns = [f'{x}_{y}' for x,y in out.columns]\n",
    "out = out.reset_index()\n",
    "print(out)\n",
    "\n",
    "   person_ID  first_name  last_name   feature_1_0   feature_1_1   feature_2_0  \\\n",
    "0          1        John    Talbert             1             7             2   \n",
    "1          2         Ted   Thompson             4            13             5   \n",
    "\n",
    "    feature_2_1   feature_3_0   feature_3_1  \n",
    "0             8             3             9  \n",
    "1            14             6            15  "
   ]
  },
  {
   "cell_type": "code",
   "execution_count": null,
   "metadata": {},
   "outputs": [],
   "source": [
    "idx = df.groupby(['person_ID',' first_name', ' last_name']).cumcount().map({0:'A',1:'B'})\n",
    "\n",
    "df_out = df.set_index(['person_ID', ' first_name', ' last_name', idx])#.unstack().sort_index(level=1, axis=1)"
   ]
  },
  {
   "cell_type": "code",
   "execution_count": null,
   "metadata": {},
   "outputs": [],
   "source": [
    "df['col'] = df.groupby('person_ID').cumcount()\n",
    "out = df.set_index(['person_ID', ' first_name', ' last_name','col']).unstack()\n",
    "out.columns = [f'{x}_{y}' for x,y in out.columns]\n",
    "out = out.reset_index()\n",
    "print(out)"
   ]
  },
  {
   "cell_type": "code",
   "execution_count": null,
   "metadata": {},
   "outputs": [],
   "source": []
  },
  {
   "cell_type": "code",
   "execution_count": null,
   "metadata": {},
   "outputs": [],
   "source": []
  },
  {
   "cell_type": "code",
   "execution_count": null,
   "metadata": {},
   "outputs": [],
   "source": []
  },
  {
   "cell_type": "code",
   "execution_count": null,
   "metadata": {},
   "outputs": [],
   "source": []
  },
  {
   "cell_type": "code",
   "execution_count": null,
   "metadata": {},
   "outputs": [],
   "source": []
  },
  {
   "cell_type": "code",
   "execution_count": null,
   "metadata": {},
   "outputs": [],
   "source": [
    "\n"
   ]
  },
  {
   "cell_type": "code",
   "execution_count": null,
   "metadata": {},
   "outputs": [],
   "source": [
    "from itertools import combinations_with_replacement\n",
    "\n",
    "s = ['A','B','C']\n",
    "\n",
    "list(combinations_with_replacement(s,3))"
   ]
  },
  {
   "cell_type": "code",
   "execution_count": null,
   "metadata": {},
   "outputs": [],
   "source": []
  },
  {
   "cell_type": "code",
   "execution_count": null,
   "metadata": {},
   "outputs": [],
   "source": []
  },
  {
   "cell_type": "code",
   "execution_count": null,
   "metadata": {},
   "outputs": [],
   "source": [
    "import numpy as np"
   ]
  },
  {
   "cell_type": "code",
   "execution_count": null,
   "metadata": {},
   "outputs": [],
   "source": [
    "import torch\n",
    "\n",
    "a = torch.rand((3, 5, 2, 10)) #nxhd\n",
    "b = torch.rand((3, 4, 2, 10)) #nyhd\n",
    "\n",
    "c = torch.einsum('nxhd,nyhd->nhxy', [a,b])\n",
    "\n",
    "print(c.size())"
   ]
  },
  {
   "cell_type": "code",
   "execution_count": null,
   "metadata": {},
   "outputs": [],
   "source": [
    "a = np.random.random((3, 5, 2, 10))\n",
    "b = np.random.random((3, 4, 2, 10))\n",
    "c = np.einsum('nxhd,nyhd->nhxy', a,b)\n",
    "c.shape"
   ]
  },
  {
   "cell_type": "code",
   "execution_count": null,
   "metadata": {},
   "outputs": [],
   "source": [
    "a1 = a[:,:,None,:,:] #(3, 5, 1, 2, 10)\n",
    "b1 = b[:,None,:,:,:] #(3, 1, 4, 2, 10)\n",
    "\n",
    "c1 = a1*b1\n",
    "c1.shape"
   ]
  },
  {
   "cell_type": "code",
   "execution_count": null,
   "metadata": {},
   "outputs": [],
   "source": [
    "c2 = np.sum(c1, axis=-1)\n",
    "c2.shape"
   ]
  },
  {
   "cell_type": "code",
   "execution_count": null,
   "metadata": {},
   "outputs": [],
   "source": [
    "c3 = c2.transpose(0,3,1,2)\n",
    "c3.shape"
   ]
  },
  {
   "cell_type": "code",
   "execution_count": null,
   "metadata": {},
   "outputs": [],
   "source": [
    "np.allclose(c,c3)"
   ]
  },
  {
   "cell_type": "code",
   "execution_count": null,
   "metadata": {},
   "outputs": [],
   "source": [
    "print(np.einsum_path('nxhd,nyhd->nhxy', a,b)[1])"
   ]
  },
  {
   "cell_type": "code",
   "execution_count": null,
   "metadata": {},
   "outputs": [],
   "source": []
  },
  {
   "cell_type": "code",
   "execution_count": null,
   "metadata": {},
   "outputs": [],
   "source": [
    "%%timeit\n",
    "\n",
    "np.einsum('nxhd,nyhd->nhxy', a,b)\n",
    "\n",
    "%%timeit\n",
    "\n",
    "np.einsum('nxhd,nyhd->nhxy', a,b)\n",
    "\n",
    "8.03 µs ± 495 ns per loop (mean ± std. dev. of 7 runs, 100000 loops each)8.03 µs ± 495 ns per loop (mean ± std. dev. of 7 runs, 100000 loops each)"
   ]
  },
  {
   "cell_type": "code",
   "execution_count": null,
   "metadata": {},
   "outputs": [],
   "source": [
    "%%timeit\n",
    "\n",
    "np.einsum('nxhd,nyhd->nhxy', a,b)\n",
    "\n",
    "8.03 µs ± 495 ns per loop (mean ± std. dev. of 7 runs, 100000 loops each)\n",
    "\n",
    "\n",
    "%%timeit\n",
    "\n",
    "np.sum(a[:,:,None,:,:]*b[:,None,:,:,:], axis=-1).transpose(0,3,1,2)\n",
    "\n",
    "13.7 µs ± 1.42 µs per loop (mean ± std. dev. of 7 runs, 100000 loops each)\n",
    "\n"
   ]
  },
  {
   "cell_type": "code",
   "execution_count": null,
   "metadata": {},
   "outputs": [],
   "source": []
  },
  {
   "cell_type": "code",
   "execution_count": null,
   "metadata": {},
   "outputs": [],
   "source": []
  },
  {
   "cell_type": "code",
   "execution_count": null,
   "metadata": {},
   "outputs": [],
   "source": [
    "import tensorflow as tf\n",
    "\n",
    "inp = np.array([[[[2.1],[0.8]],[[1.3],[2.4]],[[1.8],[1.3]]]])\n",
    "\n",
    "kernel = np.array([[[[1.0]],[[2.0]]]])\n",
    "\n",
    "print('input shape ->',inp.shape)\n",
    "print('kernel shape ->',kernel.shape)\n",
    "\n",
    "result = tf.nn.conv2d(x, kernel, strides=(1,1,1,1), padding='VALID')\n",
    "\n",
    "print('result shape ->',result.shape)\n",
    "print(result.numpy())"
   ]
  },
  {
   "cell_type": "code",
   "execution_count": null,
   "metadata": {},
   "outputs": [],
   "source": [
    "tf.nn.conv2d(x, kernel, strides=(1,1,1,1), padding='VALID')"
   ]
  },
  {
   "cell_type": "code",
   "execution_count": null,
   "metadata": {},
   "outputs": [],
   "source": [
    "np.array([2.1, 1.3]) @ np.array([1.0, 2.0])"
   ]
  },
  {
   "cell_type": "code",
   "execution_count": null,
   "metadata": {},
   "outputs": [],
   "source": []
  },
  {
   "cell_type": "code",
   "execution_count": null,
   "metadata": {},
   "outputs": [],
   "source": []
  },
  {
   "cell_type": "code",
   "execution_count": null,
   "metadata": {},
   "outputs": [],
   "source": []
  },
  {
   "cell_type": "code",
   "execution_count": null,
   "metadata": {},
   "outputs": [],
   "source": []
  },
  {
   "cell_type": "code",
   "execution_count": null,
   "metadata": {},
   "outputs": [],
   "source": [
    "s = 'AAABBBCCCDDEEFFFIIIAAABBB'\n",
    "\n",
    "def get_counts(s):\n",
    "    out = ''\n",
    "    for i in s:\n",
    "        if i not in out:\n",
    "            cnt = str(s.count(i))\n",
    "            out+=(cnt+i+' ')\n",
    "\n",
    "    return out.strip()\n",
    "\n",
    "get_counts(s)"
   ]
  },
  {
   "cell_type": "code",
   "execution_count": null,
   "metadata": {},
   "outputs": [],
   "source": []
  },
  {
   "cell_type": "code",
   "execution_count": null,
   "metadata": {},
   "outputs": [],
   "source": [
    "import tensorflow as tf\n",
    "\n",
    "inp = np.arange(0,16).reshape(1,16,1).astype(float)\n",
    "kernel = np.arange(0,4).reshape(4,1,1).astype(float)\n",
    "\n",
    "print('input shape ->',inp.shape)\n",
    "print('kernel shape ->',kernel.shape)\n",
    "\n",
    "result = tf.nn.conv1d(x, kernel, stride=(1,1,1), padding='VALID')\n",
    "\n",
    "#print('result shape ->',result.shape)\n",
    "#print(result.numpy())"
   ]
  },
  {
   "cell_type": "code",
   "execution_count": null,
   "metadata": {},
   "outputs": [],
   "source": [
    "print(tf.unique_with_counts(np.array([1,1,1,4,5]))[2])\n",
    "\n",
    "tf.Tensor([3 1 1], shape=(3,), dtype=int32)\n",
    "\n",
    "tf.unique_with_counts(np.array([[1,1,1,4,5]]))[2]\n",
    "\n",
    "InvalidArgumentError: unique expects a 1D vector. [Op:UniqueWithCounts]\n"
   ]
  },
  {
   "cell_type": "code",
   "execution_count": null,
   "metadata": {},
   "outputs": [],
   "source": [
    "loss=tf.where(tf.less(y_pred/y_true, 1),\n",
    "                  penalty*(1-tf.dtypes.cast((((tf.unique_with_counts(y_pred >= y_true)[2])/(kb.sum(tf.unique_with_counts(y_pred >= y_true)[2])))[0]),tf.float32))+kb.sum((y_true - y_pred)**2/y_true),\n",
    "                  kb.square(kb.sum((y_true - y_pred)**2/y_true)))"
   ]
  },
  {
   "cell_type": "code",
   "execution_count": null,
   "metadata": {},
   "outputs": [],
   "source": []
  },
  {
   "cell_type": "code",
   "execution_count": null,
   "metadata": {},
   "outputs": [],
   "source": []
  },
  {
   "cell_type": "code",
   "execution_count": null,
   "metadata": {},
   "outputs": [],
   "source": [
    "import keras.backend as kb\n",
    "import tensorflow as tf\n",
    "def sign_penalty(y_true, y_pred):\n",
    "    penalty=0.5\n",
    "    print(y_pred.shape)\n",
    "    #y_pred = tf.reshape(y_pred, (y_pred.shape[0]*y_pred.shape[1]))\n",
    "    #y_true = tf.reshape(y_true, (y_true.shape[0]*y_true.shape[1]))\n",
    "    \n",
    "    loss = y_pred-y_true\n",
    "    loss=tf.where(tf.less(y_pred/y_true, 1),\n",
    "                  penalty*(1-tf.dtypes.cast((((tf.unique_with_counts(y_pred[:,1] >= y_true[:,1])[2])/(kb.sum(tf.unique_with_counts(y_pred[:,1] >= y_true[:,1])[2])))[0]),tf.float32))+kb.sum((y_true - y_pred)**2/y_true),\n",
    "                  kb.square(kb.sum((y_true - y_pred)**2/y_true)))\n",
    "    return(loss) "
   ]
  },
  {
   "cell_type": "code",
   "execution_count": null,
   "metadata": {},
   "outputs": [],
   "source": [
    "from tensorflow.keras import Sequential\n",
    "from tensorflow.keras.layers import Dense "
   ]
  },
  {
   "cell_type": "code",
   "execution_count": null,
   "metadata": {},
   "outputs": [],
   "source": [
    "X_train = np.random.random((100,10))\n",
    "y_train = np.random.random((100,))"
   ]
  },
  {
   "cell_type": "code",
   "execution_count": null,
   "metadata": {},
   "outputs": [],
   "source": [
    "model_mlp = Sequential()\n",
    "model_mlp.add(Dense(100, activation='relu', input_dim=X_train.shape[1]))\n",
    "model_mlp.add(Dense(1))\n",
    "model_mlp.compile(loss=sign_penalty, optimizer='adam')\n",
    "model_mlp.summary()"
   ]
  },
  {
   "cell_type": "code",
   "execution_count": null,
   "metadata": {},
   "outputs": [],
   "source": [
    "mlp_history = model_mlp.fit(X_train, y_train, epochs=3, verbose=2)"
   ]
  },
  {
   "cell_type": "code",
   "execution_count": null,
   "metadata": {},
   "outputs": [],
   "source": [
    "data.shape"
   ]
  },
  {
   "cell_type": "code",
   "execution_count": null,
   "metadata": {},
   "outputs": [],
   "source": [
    "data = np.array([[[4,2,3],[1,2,3]],\n",
    "                  [[4,5,4],[1,2,3]]])"
   ]
  },
  {
   "cell_type": "code",
   "execution_count": null,
   "metadata": {},
   "outputs": [],
   "source": [
    "data1 = np.array([[4,2,3],\n",
    "                  [4,5,4]])\n",
    "\n",
    "data2 = np.array([[1,2,3],\n",
    "                  [2,3,4]])\n",
    "\n",
    "np.stack([data1, data2], axis=1)"
   ]
  },
  {
   "cell_type": "code",
   "execution_count": null,
   "metadata": {},
   "outputs": [],
   "source": [
    "np.zeros((2,3))"
   ]
  },
  {
   "cell_type": "code",
   "execution_count": null,
   "metadata": {},
   "outputs": [],
   "source": [
    "data1 = np.random.random((12,2,3))\n",
    "data2 = np.random.random((12,2,3))\n",
    "\n",
    "np.stack([data1, data2], axis=2).shape\n",
    "\n",
    "(12, 2, 2, 3)"
   ]
  },
  {
   "cell_type": "code",
   "execution_count": null,
   "metadata": {},
   "outputs": [],
   "source": []
  },
  {
   "cell_type": "code",
   "execution_count": null,
   "metadata": {},
   "outputs": [],
   "source": [
    "def getMatrix():\n",
    "    return np.random.random((2,3))"
   ]
  },
  {
   "cell_type": "code",
   "execution_count": null,
   "metadata": {},
   "outputs": [],
   "source": [
    "output = np.stack([getMatrix() for i in range(5)])\n",
    "output.shape\n",
    "\n",
    "(5, 2, 3)"
   ]
  },
  {
   "cell_type": "code",
   "execution_count": null,
   "metadata": {},
   "outputs": [],
   "source": []
  },
  {
   "cell_type": "code",
   "execution_count": null,
   "metadata": {},
   "outputs": [],
   "source": [
    "final_results = np.zeros(*,2,3)\n",
    "for i in range(1):\n",
    "    final_results.append(getMatrix()) #getMatrix() returns the  (2,3) numpy"
   ]
  },
  {
   "cell_type": "code",
   "execution_count": null,
   "metadata": {},
   "outputs": [],
   "source": []
  },
  {
   "cell_type": "code",
   "execution_count": null,
   "metadata": {},
   "outputs": [],
   "source": []
  },
  {
   "cell_type": "code",
   "execution_count": null,
   "metadata": {},
   "outputs": [],
   "source": []
  },
  {
   "cell_type": "code",
   "execution_count": null,
   "metadata": {},
   "outputs": [],
   "source": []
  },
  {
   "cell_type": "code",
   "execution_count": null,
   "metadata": {},
   "outputs": [],
   "source": []
  },
  {
   "cell_type": "code",
   "execution_count": null,
   "metadata": {},
   "outputs": [],
   "source": [
    "string = \"123 text 4 text text text 800 text\"\n",
    "boolean = [i.isalpha() for i in string.split()]"
   ]
  },
  {
   "cell_type": "code",
   "execution_count": null,
   "metadata": {},
   "outputs": [],
   "source": [
    "import itertools"
   ]
  },
  {
   "cell_type": "code",
   "execution_count": null,
   "metadata": {},
   "outputs": [],
   "source": [
    "[list(j) for i,j in itertools.groupby(boolean)]"
   ]
  },
  {
   "cell_type": "code",
   "execution_count": null,
   "metadata": {},
   "outputs": [],
   "source": []
  },
  {
   "cell_type": "code",
   "execution_count": null,
   "metadata": {},
   "outputs": [],
   "source": []
  },
  {
   "cell_type": "code",
   "execution_count": null,
   "metadata": {},
   "outputs": [],
   "source": [
    "def diff(a,b,s):\n",
    "    if a>b:\n",
    "        s += a-b\n",
    "        b = a\n",
    "        return a,b,s\n",
    "    else:\n",
    "        return a,b,s"
   ]
  },
  {
   "cell_type": "code",
   "execution_count": null,
   "metadata": {},
   "outputs": [],
   "source": [
    "s = 5\n",
    "diff(4,2,s)"
   ]
  },
  {
   "cell_type": "code",
   "execution_count": null,
   "metadata": {},
   "outputs": [],
   "source": []
  },
  {
   "cell_type": "code",
   "execution_count": null,
   "metadata": {},
   "outputs": [],
   "source": [
    "l = [1,2,1,4,3,6,4]"
   ]
  },
  {
   "cell_type": "code",
   "execution_count": null,
   "metadata": {},
   "outputs": [],
   "source": [
    "s = 0\n",
    "\n",
    "for i in range(len(l)-1):\n",
    "    print(l[i], l[i+1], diff(l[i],l[i+1],s))\n",
    "    l[i],l[1+1],s = diff(l[i],l[i+1],s)"
   ]
  },
  {
   "cell_type": "code",
   "execution_count": null,
   "metadata": {},
   "outputs": [],
   "source": [
    "l"
   ]
  },
  {
   "cell_type": "code",
   "execution_count": null,
   "metadata": {},
   "outputs": [],
   "source": [
    "def between(l1,low,high):\n",
    "\n",
    "    l2 = []\n",
    "\n",
    "    for i in l1:\n",
    "\n",
    "        if(i > low and i < high):\n",
    "\n",
    "\n",
    "            l2.append(i)\n",
    "\n",
    "    return l2\n",
    "\n",
    "\n",
    "l = [1,3,4,5,1,4,2,7,6,5] \n",
    "\n",
    "print( between(l,2,5) )"
   ]
  },
  {
   "cell_type": "code",
   "execution_count": null,
   "metadata": {},
   "outputs": [],
   "source": [
    "[i for i in l if i not in (l[0],l[-1])]\n",
    "\n",
    "[3, 4, 4, 2, 7, 6]"
   ]
  },
  {
   "cell_type": "code",
   "execution_count": null,
   "metadata": {},
   "outputs": [],
   "source": [
    "def f(l):\n",
    "    out = []\n",
    "    for i in l:\n",
    "        if i!=l[0] and i!=l[-1]:\n",
    "            out.append(i)\n",
    "    return out\n",
    "\n",
    "print(f(l))\n",
    "\n",
    "[3, 4, 4, 2, 7, 6]"
   ]
  },
  {
   "cell_type": "code",
   "execution_count": null,
   "metadata": {},
   "outputs": [],
   "source": []
  },
  {
   "cell_type": "code",
   "execution_count": null,
   "metadata": {},
   "outputs": [],
   "source": []
  },
  {
   "cell_type": "code",
   "execution_count": null,
   "metadata": {},
   "outputs": [],
   "source": [
    "example = np.array([[10, 20, 30], [40, 50, 60], [70, 101, 90], [101, 101, 101], [61, 62, 101], [71, 72, 73]])\n",
    "count_i = 0\n",
    "count_j = 0\n",
    "for i in example:\n",
    "    count_i += 1\n",
    "    for j in i:\n",
    "        count_j += 1\n",
    "        if j == np.max(example):\n",
    "            print('value found', j)\n",
    "            print('row coordinate', count_i)\n",
    "            col = matrix.shape[1] - ((matrix.shape[1] * count_i) - count_j)\n",
    "            print('colum coordinate', col)\n",
    "            break\n",
    "    else:\n",
    "        continue\n",
    "    break"
   ]
  },
  {
   "cell_type": "code",
   "execution_count": null,
   "metadata": {},
   "outputs": [],
   "source": [
    "example = np.array([[10, 20, 30], \n",
    "                    [40, 50, 60], \n",
    "                    [70, 101, 90], \n",
    "                    [101, 101, 101], \n",
    "                    [61, 62, 101], \n",
    "                    [71, 72, 73]])\n",
    "\n",
    "maxvalue = example.max()\n",
    "\n",
    "idx_flat = example.ravel().argmax()\n",
    "idx = np.unravel_index(idx_flat, example.shape)\n",
    "\n",
    "print('max value:',maxvalue)\n",
    "print('first location:', idx)"
   ]
  },
  {
   "cell_type": "code",
   "execution_count": null,
   "metadata": {},
   "outputs": [],
   "source": []
  },
  {
   "cell_type": "code",
   "execution_count": null,
   "metadata": {},
   "outputs": [],
   "source": []
  },
  {
   "cell_type": "code",
   "execution_count": null,
   "metadata": {},
   "outputs": [],
   "source": [
    "df = pd.DataFrame({'text': ['foo', 'bar', 'apple', 'banana', 'kiwi'],\n",
    "                 'number': [1, 2, 3, 4, 5]})\n",
    "\n",
    "df.style.set_properties(**{'text-align': 'left'})"
   ]
  },
  {
   "cell_type": "code",
   "execution_count": null,
   "metadata": {},
   "outputs": [],
   "source": [
    "df = pd.read_clipboard()"
   ]
  },
  {
   "cell_type": "code",
   "execution_count": null,
   "metadata": {},
   "outputs": [],
   "source": [
    "df"
   ]
  },
  {
   "cell_type": "code",
   "execution_count": null,
   "metadata": {},
   "outputs": [],
   "source": [
    "a = np.random.randint(0,16, size=(3,4))\n",
    "b = np.array([2,3,9])\n",
    "\n",
    "# like this, but for any size b:\n",
    "locations = np.nonzero((a==b[0]) | (a==b[1]) | (a==b[2]))"
   ]
  },
  {
   "cell_type": "code",
   "execution_count": null,
   "metadata": {},
   "outputs": [],
   "source": [
    "locations"
   ]
  },
  {
   "cell_type": "code",
   "execution_count": null,
   "metadata": {},
   "outputs": [],
   "source": [
    "a"
   ]
  },
  {
   "cell_type": "code",
   "execution_count": null,
   "metadata": {},
   "outputs": [],
   "source": [
    "b"
   ]
  },
  {
   "cell_type": "code",
   "execution_count": null,
   "metadata": {},
   "outputs": [],
   "source": [
    "a[None,:,:].shape       (1, 3, 4)\n",
    "b[:,None, None].shape   (3, 1, 1)"
   ]
  },
  {
   "cell_type": "code",
   "execution_count": null,
   "metadata": {},
   "outputs": [],
   "source": [
    "b[:,None, None].shape"
   ]
  },
  {
   "cell_type": "code",
   "execution_count": null,
   "metadata": {},
   "outputs": [],
   "source": [
    "#a[None,:,:].shape       (1, 3, 4)\n",
    "#b[:,None, None].shape   (3, 1, 1)\n",
    "\n",
    "np.where(a[:,None,:]==b[None,:,None]).any()"
   ]
  },
  {
   "cell_type": "code",
   "execution_count": null,
   "metadata": {},
   "outputs": [],
   "source": [
    "np.nonzero((a[:,None,:]==b[None,:,None]).any(1))"
   ]
  },
  {
   "cell_type": "code",
   "execution_count": null,
   "metadata": {},
   "outputs": [],
   "source": [
    "np.nonzero((a==b[0]) | (a==b[1]) | (a==b[2]))"
   ]
  },
  {
   "cell_type": "code",
   "execution_count": null,
   "metadata": {},
   "outputs": [],
   "source": [
    "a = np.random.randint(0,16, size=(3,4))\n",
    "b = np.array([2,3,9])\n",
    "\n",
    "locations = np.nonzero((a==b[0]) | (a==b[1]) | (a==b[2]))\n",
    "\n",
    "locations2 = np.nonzero((a[None,:,:]==b[:,None,None]).any(0))\n",
    "\n",
    "np.allclose(locations, locations2)"
   ]
  },
  {
   "cell_type": "code",
   "execution_count": null,
   "metadata": {},
   "outputs": [],
   "source": [
    "np.equal(a)"
   ]
  },
  {
   "cell_type": "code",
   "execution_count": null,
   "metadata": {},
   "outputs": [],
   "source": []
  },
  {
   "cell_type": "code",
   "execution_count": null,
   "metadata": {},
   "outputs": [],
   "source": [
    "x = np.zeros(4, dtype=np.int)"
   ]
  },
  {
   "cell_type": "code",
   "execution_count": null,
   "metadata": {},
   "outputs": [],
   "source": [
    "indices = [1, 2, 3, 2, 1]\n",
    "\n",
    "np.bincount(indices)\n",
    "\n",
    "array([0, 2, 2, 1])"
   ]
  },
  {
   "cell_type": "code",
   "execution_count": null,
   "metadata": {},
   "outputs": [],
   "source": [
    "u,c = np.unique(indices, return_counts=True)"
   ]
  },
  {
   "cell_type": "code",
   "execution_count": null,
   "metadata": {},
   "outputs": [],
   "source": [
    "u"
   ]
  },
  {
   "cell_type": "code",
   "execution_count": null,
   "metadata": {},
   "outputs": [],
   "source": [
    "np.bincount(indices)"
   ]
  },
  {
   "cell_type": "code",
   "execution_count": null,
   "metadata": {},
   "outputs": [],
   "source": [
    "np.bincount([3,6,6,3,6,4])"
   ]
  },
  {
   "cell_type": "code",
   "execution_count": null,
   "metadata": {},
   "outputs": [],
   "source": [
    "x = np.zeros(4, dtype=np.int)\n",
    "\n",
    "idx, cnt = np.unique(indices, return_counts=True)\n",
    "x[idx] = cnt"
   ]
  },
  {
   "cell_type": "code",
   "execution_count": null,
   "metadata": {},
   "outputs": [],
   "source": [
    "x"
   ]
  },
  {
   "cell_type": "code",
   "execution_count": null,
   "metadata": {},
   "outputs": [],
   "source": [
    "arr = np.array([1,2,3,4,5])"
   ]
  },
  {
   "cell_type": "code",
   "execution_count": null,
   "metadata": {},
   "outputs": [],
   "source": [
    "np.add.at(arr,[0,0,1,1,1,2,2],1)"
   ]
  },
  {
   "cell_type": "code",
   "execution_count": null,
   "metadata": {},
   "outputs": [],
   "source": [
    "arr"
   ]
  },
  {
   "cell_type": "code",
   "execution_count": null,
   "metadata": {},
   "outputs": [],
   "source": []
  },
  {
   "cell_type": "code",
   "execution_count": null,
   "metadata": {},
   "outputs": [],
   "source": [
    "M = [[1,1,1,1,1],\n",
    "     [2,2,2,2,2],\n",
    "     [3,3,3,3,3],\n",
    "     [4,4,4,4,4],\n",
    "     [5,5,5,5,5]]\n",
    "\n",
    "M = np.array(M)"
   ]
  },
  {
   "cell_type": "code",
   "execution_count": null,
   "metadata": {},
   "outputs": [],
   "source": []
  },
  {
   "cell_type": "code",
   "execution_count": null,
   "metadata": {},
   "outputs": [],
   "source": [
    "offset = (3,4)\n",
    "h = (M.shape[0]-offset[0], 0) \n",
    "w = (M.shape[1]-offset[1], 0)"
   ]
  },
  {
   "cell_type": "code",
   "execution_count": null,
   "metadata": {},
   "outputs": [],
   "source": [
    "pad = np.pad(M, (h,w), 'constant', constant_values=0)\n",
    "pad"
   ]
  },
  {
   "cell_type": "code",
   "execution_count": null,
   "metadata": {},
   "outputs": [],
   "source": [
    "np.resize(pad, M.shape,)"
   ]
  },
  {
   "cell_type": "code",
   "execution_count": null,
   "metadata": {},
   "outputs": [],
   "source": [
    "Z = np.zeros((6,8))"
   ]
  },
  {
   "cell_type": "code",
   "execution_count": null,
   "metadata": {},
   "outputs": [],
   "source": [
    "Z += M"
   ]
  },
  {
   "cell_type": "code",
   "execution_count": null,
   "metadata": {},
   "outputs": [],
   "source": [
    "h,w = (0,0)\n",
    "\n",
    "result = np.zeros(M.shape)\n",
    "result[2:M.shape[0]-h,2:M.shape[1]-w] = M[2:M.shape[0]-h,2:M.shape[1]-w]"
   ]
  },
  {
   "cell_type": "code",
   "execution_count": null,
   "metadata": {},
   "outputs": [],
   "source": [
    "result"
   ]
  },
  {
   "cell_type": "code",
   "execution_count": null,
   "metadata": {},
   "outputs": [],
   "source": []
  },
  {
   "cell_type": "code",
   "execution_count": null,
   "metadata": {},
   "outputs": [],
   "source": [
    "A = [[[1,2],\n",
    "      [3,4]],\n",
    "     [[5,6],\n",
    "      [7,8]]]\n",
    "\n",
    "A = np.array(A)\n",
    "A.shape"
   ]
  },
  {
   "cell_type": "code",
   "execution_count": null,
   "metadata": {},
   "outputs": [],
   "source": [
    "B = [[0,1],\n",
    "     [2,3]]\n",
    "B = np.array(B)\n",
    "B.shape"
   ]
  },
  {
   "cell_type": "code",
   "execution_count": null,
   "metadata": {},
   "outputs": [],
   "source": [
    "B = [[a b],\n",
    "     [c d]]"
   ]
  },
  {
   "cell_type": "code",
   "execution_count": null,
   "metadata": {},
   "outputs": [],
   "source": [
    "C = [[a+2c  5b+6d],\n",
    "     [3a+4c 7b+8d]]"
   ]
  },
  {
   "cell_type": "code",
   "execution_count": null,
   "metadata": {},
   "outputs": [],
   "source": []
  },
  {
   "cell_type": "code",
   "execution_count": null,
   "metadata": {},
   "outputs": [],
   "source": [
    "A[0]@B.T[0]"
   ]
  },
  {
   "cell_type": "code",
   "execution_count": null,
   "metadata": {},
   "outputs": [],
   "source": [
    "A[1]@B.T[1]"
   ]
  },
  {
   "cell_type": "code",
   "execution_count": null,
   "metadata": {},
   "outputs": [],
   "source": []
  },
  {
   "cell_type": "code",
   "execution_count": null,
   "metadata": {},
   "outputs": [],
   "source": [
    "np.einsum('ijk,ki->ji',A,B)"
   ]
  },
  {
   "cell_type": "code",
   "execution_count": null,
   "metadata": {},
   "outputs": [],
   "source": [
    "ijk, ki"
   ]
  },
  {
   "cell_type": "code",
   "execution_count": null,
   "metadata": {},
   "outputs": [],
   "source": [
    "np.tensordot(A,B,axes=([2],[0]))"
   ]
  },
  {
   "cell_type": "code",
   "execution_count": null,
   "metadata": {},
   "outputs": [],
   "source": [
    "B.T[:,None,:].shape"
   ]
  },
  {
   "cell_type": "code",
   "execution_count": null,
   "metadata": {},
   "outputs": [],
   "source": []
  },
  {
   "cell_type": "code",
   "execution_count": null,
   "metadata": {},
   "outputs": [],
   "source": []
  },
  {
   "cell_type": "code",
   "execution_count": null,
   "metadata": {},
   "outputs": [],
   "source": []
  },
  {
   "cell_type": "code",
   "execution_count": null,
   "metadata": {},
   "outputs": [],
   "source": [
    "arr = [[ 1, 0, 0, 0, 1, 5],\n",
    "       [ 0, 1, 0, 1, 0, 3],\n",
    "       [ 1, 0, 0, 0, 1, 5],\n",
    "       [ 0, 0, 1, 1, 0, 2],\n",
    "       [ 0, 0, 1, 0, 1, 1]]"
   ]
  },
  {
   "cell_type": "code",
   "execution_count": null,
   "metadata": {},
   "outputs": [],
   "source": [
    "# create a series \n",
    "a = pd.DataFrame([\"ABC\", \"DEF\",  \n",
    "               \"GHI\"], index = [4,5,6]) \n",
    "  \n",
    "# create a series \n",
    "b = pd.DataFrame([\"JKL\", \"ABC\",  \n",
    "               \"PQR\"], index=[0,1,2])"
   ]
  },
  {
   "cell_type": "code",
   "execution_count": null,
   "metadata": {},
   "outputs": [],
   "source": [
    "pd.merge(a, b, on=0, how='inner')"
   ]
  },
  {
   "cell_type": "code",
   "execution_count": null,
   "metadata": {},
   "outputs": [],
   "source": []
  },
  {
   "cell_type": "code",
   "execution_count": null,
   "metadata": {},
   "outputs": [],
   "source": [
    "df2 = pd.read_clipboard()\n",
    "df2"
   ]
  },
  {
   "cell_type": "code",
   "execution_count": null,
   "metadata": {},
   "outputs": [],
   "source": [
    "df1 = pd.read_clipboard()\n",
    "df1"
   ]
  },
  {
   "cell_type": "code",
   "execution_count": null,
   "metadata": {},
   "outputs": [],
   "source": [
    "(df1['0'] == df2['0']) & (df1['1'] == df2['1'])"
   ]
  },
  {
   "cell_type": "code",
   "execution_count": null,
   "metadata": {},
   "outputs": [],
   "source": []
  },
  {
   "cell_type": "code",
   "execution_count": null,
   "metadata": {},
   "outputs": [],
   "source": []
  },
  {
   "cell_type": "code",
   "execution_count": null,
   "metadata": {},
   "outputs": [],
   "source": []
  },
  {
   "cell_type": "code",
   "execution_count": null,
   "metadata": {},
   "outputs": [],
   "source": [
    "idx = pd.merge(df1[['0','1']], df2[['0','1']], on=['0','1'], how='inner').index\n",
    "idx"
   ]
  },
  {
   "cell_type": "code",
   "execution_count": null,
   "metadata": {},
   "outputs": [],
   "source": []
  },
  {
   "cell_type": "code",
   "execution_count": null,
   "metadata": {},
   "outputs": [],
   "source": [
    "def get_seq():\n",
    "    n = np.random.randint(8,20)\n",
    "    s = [(i,np.random.choice(['Red', 'Blue', 'Green'])) for i,_ in enumerate(range(n))]\n",
    "    return s\n",
    "\n",
    "samples = 10\n",
    "\n",
    "data = pd.DataFrame([[get_seq()] for i in range(samples)])\n",
    "df = data.explode(0)[0].apply(pd.Series).reset_index()\n",
    "df.columns = ['ID','Time','Color']"
   ]
  },
  {
   "cell_type": "code",
   "execution_count": null,
   "metadata": {},
   "outputs": [],
   "source": [
    "df[df['ID']==7]"
   ]
  },
  {
   "cell_type": "code",
   "execution_count": null,
   "metadata": {},
   "outputs": [],
   "source": []
  },
  {
   "cell_type": "code",
   "execution_count": null,
   "metadata": {},
   "outputs": [],
   "source": []
  },
  {
   "cell_type": "code",
   "execution_count": null,
   "metadata": {},
   "outputs": [],
   "source": []
  },
  {
   "cell_type": "code",
   "execution_count": null,
   "metadata": {},
   "outputs": [],
   "source": [
    "data = {\"Overall_Sample\":[\"Sample1\", \"Sample1\", \"Sample1\", \"Sample1\", \"Sample1\", \"Sample1\", \"Sample1\", \"Sample1\", \"Sample2\", \"Sample2\", \"Sample2\", \"Sample2\", \"Sample2\", \"Sample2\", \"Sample2\"], \"Sub_Sample\":[\"Sample1_a\", \"Sample1_a\", \"Sample1_a\", \"Sample1_a\", \"Sample1_b\", \"Sample1_b\", \"Sample1_b\", \"Sample1_b\", \"Sample2_a\", \"Sample2_a\", \"Sample2_a\", \"Sample2_b\", \"Sample2_b\", \"Sample2_b\", \"Sample2_b\"], \"Panel\":[\"a\", \"a\", \"a\", \"a\", \"b\", \"b\", \"b\", \"b\", \"a\", \"a\", \"a\", \"b\", \"b\", \"b\", \"b\"], \"Identified_Locus\":[\"Locus1\", \"Locus2\", \"Locus3\", \"Locus4\", \"Locus2\", \"Locus3\", \"Locus4\", \"Locus5\", \"Locus3\", \"Locus5\", \"Locus6\", \"Locus1\", \"Locus3\", \"Locus5\", \"Locus6\"]}\n",
    "\n",
    "df = pd.DataFrame(data)"
   ]
  },
  {
   "cell_type": "code",
   "execution_count": null,
   "metadata": {},
   "outputs": [],
   "source": [
    "df"
   ]
  },
  {
   "cell_type": "code",
   "execution_count": null,
   "metadata": {},
   "outputs": [],
   "source": [
    "grouped = df.groupby(df.Sub_Sample)\n",
    "sample1_a = grouped.get_group(\"Sample1_a\")\n",
    "sample1_b = grouped.get_group(\"Sample1_b\")"
   ]
  },
  {
   "cell_type": "code",
   "execution_count": null,
   "metadata": {},
   "outputs": [],
   "source": [
    "sample1a_locus = sample1_a[\"Identified_Locus\"].tolist()\n",
    "sample1b_locus = sample1_b[\"Identified_Locus\"].tolist()\n",
    "\n",
    "sample1a_set = set(sample1a_locus)\n",
    "sample1b_set = set(sample1a_locus)"
   ]
  },
  {
   "cell_type": "code",
   "execution_count": null,
   "metadata": {},
   "outputs": [],
   "source": [
    "Overlap_locus = sample1a_set.intersection(sample1b_set)\n",
    "Panel_a_unique = sample1a_set.symmetric_difference(sample1b_set)\n",
    "Panel_b_unique = sample1b_set.symmetric_difference(sample1a_set)\n",
    "\n",
    "Panel_b_unique"
   ]
  },
  {
   "cell_type": "code",
   "execution_count": null,
   "metadata": {},
   "outputs": [],
   "source": []
  },
  {
   "cell_type": "code",
   "execution_count": null,
   "metadata": {},
   "outputs": [],
   "source": []
  },
  {
   "cell_type": "code",
   "execution_count": null,
   "metadata": {},
   "outputs": [],
   "source": []
  },
  {
   "cell_type": "code",
   "execution_count": null,
   "metadata": {},
   "outputs": [],
   "source": []
  },
  {
   "cell_type": "code",
   "execution_count": null,
   "metadata": {},
   "outputs": [],
   "source": [
    "import numpy as np\n",
    "two_dim_array = np.array([[1,2,3,4],[5,6,7,8],[9,10,11,12],[13,14,15,16]])\n",
    "print(two_dim_array)\n",
    "print(two_dim_array[[0,1],[2,3]]) #-----> why wont this work?\n",
    "print(two_dim_array[:2,[2,3]])  "
   ]
  },
  {
   "cell_type": "code",
   "execution_count": null,
   "metadata": {},
   "outputs": [],
   "source": [
    "two_dim_array[(0,1),(2,3)]"
   ]
  },
  {
   "cell_type": "code",
   "execution_count": null,
   "metadata": {},
   "outputs": [],
   "source": [
    "two_dim_array[:2,(2,3)]"
   ]
  },
  {
   "cell_type": "code",
   "execution_count": null,
   "metadata": {},
   "outputs": [],
   "source": [
    "two_dim_array[,2:4]"
   ]
  },
  {
   "cell_type": "code",
   "execution_count": null,
   "metadata": {},
   "outputs": [],
   "source": [
    "import numpy as np\n",
    "\n",
    "two_dim_array = np.array([[1,2,3,4],[5,6,7,8],[9,10,11,12],[13,14,15,16]])\n",
    "\n",
    "rows = [0,1]\n",
    "cols = [2,3]\n",
    "row_slice = slice(0,2)"
   ]
  },
  {
   "cell_type": "code",
   "execution_count": null,
   "metadata": {},
   "outputs": [],
   "source": [
    "two_dim_array[rows, cols]\n",
    "array([3, 8])"
   ]
  },
  {
   "cell_type": "code",
   "execution_count": null,
   "metadata": {},
   "outputs": [],
   "source": []
  },
  {
   "cell_type": "code",
   "execution_count": null,
   "metadata": {},
   "outputs": [],
   "source": [
    "obj = np.ix_(rows, cols)\n",
    "obj\n",
    "\n",
    "(array([[0],\n",
    "        [1]]),\n",
    " array([[2, 3]]))"
   ]
  },
  {
   "cell_type": "code",
   "execution_count": null,
   "metadata": {},
   "outputs": [],
   "source": [
    "two_dim_array[obj]\n",
    "\n",
    "array([[3, 4],\n",
    "       [7, 8]])"
   ]
  },
  {
   "cell_type": "code",
   "execution_count": null,
   "metadata": {},
   "outputs": [],
   "source": [
    "\n",
    "two_dim_array[(0,1),(2,3)]"
   ]
  },
  {
   "cell_type": "markdown",
   "metadata": {},
   "source": [
    "### Basic vs Advance indexing \n",
    "\n",
    "To understand this behaviour, you may want to understand how basic indexing and advance indexing [works](https://numpy.org/doc/stable/reference/arrays.indexing.html) in numpy. \n",
    "\n",
    "Basic indexing or slicing results in views, while advance indexing results in a copy.\n",
    "\n",
    "Advance indexing can be combined with basic indexing but the way they behave is completely different. Basic indexing occurs when the object used for indexing is -\n",
    "\n",
    "- A slice object that is of the form start:stop:step\n",
    "- An integer\n",
    "- Or a tuple of slice objects and integers\n",
    "\n",
    "Advance indexing is triggered when - \n",
    "\n",
    "- An ndarray of type integer or Boolean\n",
    "- A tuple with at least one sequence object\n",
    "- Is a non tuple sequence object\n",
    "\n",
    "### How they work\n",
    "\n",
    "If you are working for indexes for multiple axes, **advanced indexes** (with arrays/lists) always are broadcast and iterated as one, while **basic indexing** (with slices) acts like repeated application of slicing over the axes. \n",
    "\n",
    "1. This means that when using **basic indexing** as `arr[slice(0,3), slice(3,5)]`, you are taking a view of the first rows *and then* the 3rd and 4th column of the array.\n",
    "\n",
    "2. But when using **advance indexing** as `arr[[0,2],[3,4]]`, you are taking the `(0,3)` and then the `(2,4)` indexed over both axis at once using broadcasting.\n",
    "\n",
    "In your case, you are mixing basic and advance indexing. Lets first define the indexing objects and then play with them a bit to understand whats happening - \n",
    "\n",
    "```\n",
    "import numpy as np\n",
    "\n",
    "two_dim_array = np.array([[1,2,3,4],[5,6,7,8],[9,10,11,12],[13,14,15,16]])\n",
    "\n",
    "rows = [0,1]\n",
    "cols = [2,3]\n",
    "row_slice = slice(0,2)\n",
    "```\n",
    "\n",
    "First case, lets use basic indexing on `axis=0` and advance indexing on `axis=1`. Here the subspace is of rows is first created with the basic indexing and then copies of the 2 advance indexes are fetched.\n",
    "\n",
    "```\n",
    "two_dim_array[row_slice, cols]\n",
    "```\n",
    "```\n",
    "array([[3, 4],\n",
    "       [7, 8]])\n",
    "```\n",
    "\n",
    "In second case, lets use advance indexing on both axes. This fetches copies of the array by iterating over both the rows and cols arrays/lists at once. \n",
    "\n",
    "```\n",
    "two_dim_array[rows, cols]\n",
    "```\n",
    "```\n",
    "array([3, 8])    #(0,2) and (1,3) elements\n",
    "```\n",
    "\n",
    "But, as I mentioned, these indexes are broadcasted. Therefore, if you want to achieve the same result from advance indexing as you are with basic indexing, you can use something like `np.ix_`\n",
    "\n",
    "```\n",
    "obj = np.ix_(rows, cols)\n",
    "obj\n",
    "```\n",
    "```\n",
    "(array([[0],\n",
    "        [1]]),\n",
    " array([[2, 3]]))\n",
    "```\n",
    "\n",
    "This creates 2 arrays in such a way that when broadcasted, result in (0,2), (0,3), (1,2), (1,3) indexes.\n",
    "\n",
    "```\n",
    "two_dim_array[obj]\n",
    "```\n",
    "```\n",
    "array([[3, 4],\n",
    "       [7, 8]])\n",
    "```\n",
    "\n",
    "Hope that clarifies how this works!"
   ]
  },
  {
   "cell_type": "code",
   "execution_count": null,
   "metadata": {},
   "outputs": [],
   "source": []
  },
  {
   "cell_type": "code",
   "execution_count": null,
   "metadata": {},
   "outputs": [],
   "source": []
  },
  {
   "cell_type": "code",
   "execution_count": null,
   "metadata": {},
   "outputs": [],
   "source": []
  },
  {
   "cell_type": "code",
   "execution_count": null,
   "metadata": {},
   "outputs": [],
   "source": [
    "Grocerylist = \"\"\"Food to make:\n",
    "\n",
    "1. Cake\n",
    "    a. eggs\n",
    "    b. flour\n",
    "    c. milk\n",
    "    d. etc\n",
    "2. Salad\n",
    "    a. lettuce\n",
    "    b. spinach\n",
    "    c. cheese\n",
    "    d. ham\n",
    "    e. etc\n",
    "\"\"\""
   ]
  },
  {
   "cell_type": "code",
   "execution_count": null,
   "metadata": {},
   "outputs": [],
   "source": [
    "{\"#1\": \"Food to make:\",\n",
    "\"1.#1\": \"Cake\",\n",
    "\"a.#1\": \"eggs\",\n",
    "\"b.#1\": \"flour\",\n",
    "\"c.#1\": \"milk\",\n",
    "\"d.#1\": \"etc\",\n",
    "\"2.#2\": \"Salad\",\n",
    "\"a.#2\": \"lettuce\",\n",
    "\"b.#2\": \"spinach\",\n",
    "\"c.#2\": \"cheese\",\n",
    "\"d.#2\": \"ham\",\n",
    "\"e.#2\": \"etc\"}"
   ]
  },
  {
   "cell_type": "code",
   "execution_count": null,
   "metadata": {},
   "outputs": [],
   "source": [
    "Grocerylist"
   ]
  },
  {
   "cell_type": "code",
   "execution_count": null,
   "metadata": {},
   "outputs": [],
   "source": []
  },
  {
   "cell_type": "code",
   "execution_count": null,
   "metadata": {},
   "outputs": [],
   "source": [
    "GroceryList = \"1. Cake a. eggs b. flour c. milk d. etc 2. Salad a. lettuce b. spinach c. cheese d. ham e. etc\""
   ]
  },
  {
   "cell_type": "code",
   "execution_count": null,
   "metadata": {},
   "outputs": [],
   "source": [
    "import re"
   ]
  },
  {
   "cell_type": "code",
   "execution_count": null,
   "metadata": {},
   "outputs": [],
   "source": [
    "[[k for k in re.split('\\w\\.',(str(i)+'.'+j))] for i,j in enumerate(re.split('\\d.',GroceryList))]#[1:]"
   ]
  },
  {
   "cell_type": "code",
   "execution_count": null,
   "metadata": {},
   "outputs": [],
   "source": [
    "GroceryList"
   ]
  },
  {
   "cell_type": "code",
   "execution_count": null,
   "metadata": {},
   "outputs": [],
   "source": [
    "import string\n",
    ">>> string.ascii_lowercase\n",
    "'abcdefghijklmnopqrstuvwxyz"
   ]
  },
  {
   "cell_type": "code",
   "execution_count": null,
   "metadata": {},
   "outputs": [],
   "source": [
    "import string\n",
    "alp = ' '+string.ascii_lowercase"
   ]
  },
  {
   "cell_type": "code",
   "execution_count": null,
   "metadata": {},
   "outputs": [],
   "source": [
    "items = [re.split('\\w\\.',i) for i in re.split('\\d\\.', GroceryList)][1:]\n",
    "result = dict([(alp[l]+'#'+str(i),m.strip()) for i,j in enumerate(items,1) for l,m in enumerate(j)])\n",
    "result\n",
    "\n",
    "{' #1': 'Cake',\n",
    " 'a#1': 'eggs',\n",
    " 'b#1': 'flour',\n",
    " 'c#1': 'milk',\n",
    " 'd#1': 'etc',\n",
    " ' #2': 'Salad',\n",
    " 'a#2': 'lettuce',\n",
    " 'b#2': 'spinach',\n",
    " 'c#2': 'cheese',\n",
    " 'd#2': 'ham',\n",
    " 'e#2': 'etc'}"
   ]
  },
  {
   "cell_type": "code",
   "execution_count": null,
   "metadata": {},
   "outputs": [],
   "source": []
  },
  {
   "cell_type": "code",
   "execution_count": null,
   "metadata": {},
   "outputs": [],
   "source": []
  },
  {
   "cell_type": "code",
   "execution_count": null,
   "metadata": {},
   "outputs": [],
   "source": []
  },
  {
   "cell_type": "code",
   "execution_count": null,
   "metadata": {},
   "outputs": [],
   "source": [
    "GroceryList.rsplit('\\d+')"
   ]
  },
  {
   "cell_type": "code",
   "execution_count": null,
   "metadata": {},
   "outputs": [],
   "source": []
  },
  {
   "cell_type": "code",
   "execution_count": null,
   "metadata": {},
   "outputs": [],
   "source": []
  },
  {
   "cell_type": "code",
   "execution_count": null,
   "metadata": {},
   "outputs": [],
   "source": []
  },
  {
   "cell_type": "code",
   "execution_count": null,
   "metadata": {},
   "outputs": [],
   "source": [
    "items = [i.strip().split('.') for i in Grocerylist.split('\\n')[2:-1]]\n",
    "\n"
   ]
  },
  {
   "cell_type": "code",
   "execution_count": null,
   "metadata": {},
   "outputs": [],
   "source": []
  },
  {
   "cell_type": "code",
   "execution_count": null,
   "metadata": {},
   "outputs": [],
   "source": []
  },
  {
   "cell_type": "code",
   "execution_count": null,
   "metadata": {},
   "outputs": [],
   "source": []
  },
  {
   "cell_type": "code",
   "execution_count": null,
   "metadata": {},
   "outputs": [],
   "source": [
    "[[j.strip() for j in i.split('\\n') if len(j)>0] for i in Grocerylist.split('.')]"
   ]
  },
  {
   "cell_type": "code",
   "execution_count": null,
   "metadata": {},
   "outputs": [],
   "source": []
  },
  {
   "cell_type": "code",
   "execution_count": null,
   "metadata": {},
   "outputs": [],
   "source": []
  },
  {
   "cell_type": "code",
   "execution_count": null,
   "metadata": {},
   "outputs": [],
   "source": [
    "a = np.array([[1, 1, 1, 1, 2], [2, 2, 2, 3], [3, 3, 3, 4], [13, 49, 13, 49], [10, 10, 2, 2],\n",
    "             [11, 1, 1, 1, 2], [22, 2, 2, 3], [33, 3, 3, 4], [133, 49, 13, 49], [100, 10, 2, 2],\n",
    "             [5, 1, 1, 1, 2], [32, 2, 2, 3], [322, 3, 3, 4], [13222, 49, 13, 49], [130, 10, 2, 2]])"
   ]
  },
  {
   "cell_type": "code",
   "execution_count": null,
   "metadata": {},
   "outputs": [],
   "source": [
    "print(np.array([[1,2,3], [4,5]]))\n",
    "\n",
    "array([list([1, 2, 3]), list([4, 5])], dtype=object)\n",
    "\n",
    "np.array([[1,2,3], [4,5,6]])\n",
    "\n",
    "array([[1, 2, 3],\n",
    "       [4, 5, 6]])\n"
   ]
  },
  {
   "cell_type": "code",
   "execution_count": null,
   "metadata": {},
   "outputs": [],
   "source": []
  },
  {
   "cell_type": "code",
   "execution_count": null,
   "metadata": {},
   "outputs": [],
   "source": []
  },
  {
   "cell_type": "code",
   "execution_count": null,
   "metadata": {},
   "outputs": [],
   "source": []
  },
  {
   "cell_type": "code",
   "execution_count": null,
   "metadata": {},
   "outputs": [],
   "source": []
  },
  {
   "cell_type": "code",
   "execution_count": null,
   "metadata": {},
   "outputs": [],
   "source": [
    "def decorator_fun(func): \n",
    "    print(\"Inside decorator\") \n",
    " \n",
    "    def inner(*args, **kwargs): \n",
    "        print(\"Inside inner function\") \n",
    "        print(\"Decorated the function\") \n",
    "        # do operations with func\n",
    "     \n",
    "        func()\n",
    "     \n",
    "    return inner \n",
    " \n",
    "@decorator_fun\n",
    "def func_to(): \n",
    "    print(\"Inside actual function\")"
   ]
  },
  {
   "cell_type": "code",
   "execution_count": null,
   "metadata": {},
   "outputs": [],
   "source": []
  },
  {
   "cell_type": "code",
   "execution_count": null,
   "metadata": {},
   "outputs": [],
   "source": []
  },
  {
   "cell_type": "code",
   "execution_count": null,
   "metadata": {},
   "outputs": [],
   "source": []
  },
  {
   "cell_type": "code",
   "execution_count": null,
   "metadata": {},
   "outputs": [],
   "source": []
  },
  {
   "cell_type": "code",
   "execution_count": null,
   "metadata": {},
   "outputs": [],
   "source": []
  },
  {
   "cell_type": "code",
   "execution_count": null,
   "metadata": {},
   "outputs": [],
   "source": []
  },
  {
   "cell_type": "code",
   "execution_count": null,
   "metadata": {},
   "outputs": [],
   "source": []
  },
  {
   "cell_type": "code",
   "execution_count": null,
   "metadata": {},
   "outputs": [],
   "source": [
    "def decorator_function(f):\n",
    "    def wrapper(n,*args,**kwargs):\n",
    "        out = f(*args,**kwargs)**n\n",
    "        return out\n",
    "    return wrapper\n",
    "\n",
    "@decorator_function\n",
    "def function(x, m):\n",
    "    return x/m\n",
    "\n",
    "print(function(4,10,3))\n",
    "print((10/3)**4)"
   ]
  },
  {
   "cell_type": "code",
   "execution_count": null,
   "metadata": {},
   "outputs": [],
   "source": []
  },
  {
   "cell_type": "code",
   "execution_count": null,
   "metadata": {},
   "outputs": [],
   "source": [
    "def outer_function(f,n):\n",
    "    def wrapper():\n",
    "        n = args[0]\n",
    "        return x^n\n",
    "    return wrapper\n",
    "\n",
    "@outer_function(n)\n",
    "def function(x, m):\n",
    "    return x/m"
   ]
  },
  {
   "cell_type": "code",
   "execution_count": null,
   "metadata": {},
   "outputs": [],
   "source": []
  },
  {
   "cell_type": "code",
   "execution_count": 1,
   "metadata": {},
   "outputs": [],
   "source": [
    "def decorator_function(n):\n",
    "    def outer_wrapper(f):\n",
    "        def inner_wrapper(*args, **kwargs):\n",
    "            out = f(*args, **kwargs)**n\n",
    "            return out\n",
    "        return inner_wrapper\n",
    "    return outer_wrapper\n",
    "\n",
    "@decorator_function(4)\n",
    "def function(x, m):\n",
    "    return x/m\n",
    "\n",
    "#print(function(10,3))\n",
    "#print((10/3)**4)"
   ]
  },
  {
   "cell_type": "code",
   "execution_count": 2,
   "metadata": {},
   "outputs": [
    {
     "data": {
      "text/plain": [
       "232305731.2541879"
      ]
     },
     "execution_count": 2,
     "metadata": {},
     "output_type": "execute_result"
    }
   ],
   "source": [
    "function = decorator_function(4)(function)"
   ]
  },
  {
   "cell_type": "code",
   "execution_count": null,
   "metadata": {},
   "outputs": [],
   "source": []
  },
  {
   "cell_type": "code",
   "execution_count": null,
   "metadata": {},
   "outputs": [],
   "source": []
  },
  {
   "cell_type": "code",
   "execution_count": 18,
   "metadata": {},
   "outputs": [],
   "source": [
    "decorator = lambda n:lambda f:lambda *args, **kwargs: f(*args, **kwargs)**n\n",
    "\n",
    "@decorator(4)\n",
    "def function(x, m):\n",
    "    return x/m\n",
    "\n",
    "function(10,3)\n",
    "\n",
    "123.45679012345681"
   ]
  },
  {
   "cell_type": "code",
   "execution_count": 19,
   "metadata": {},
   "outputs": [
    {
     "data": {
      "text/plain": [
       "123.45679012345681"
      ]
     },
     "execution_count": 19,
     "metadata": {},
     "output_type": "execute_result"
    }
   ],
   "source": []
  },
  {
   "cell_type": "code",
   "execution_count": 22,
   "metadata": {},
   "outputs": [],
   "source": [
    "import re"
   ]
  },
  {
   "cell_type": "code",
   "execution_count": null,
   "metadata": {},
   "outputs": [],
   "source": []
  },
  {
   "cell_type": "code",
   "execution_count": 27,
   "metadata": {},
   "outputs": [],
   "source": [
    "txt = 'ABCD 2.3.4'\n",
    "txt = 'ANDROID 4.4 KIT KAT SELFIX'\n",
    "txt = '0.1.0-D-20170309.1502'"
   ]
  },
  {
   "cell_type": "code",
   "execution_count": 29,
   "metadata": {},
   "outputs": [
    {
     "data": {
      "text/plain": [
       "'0.1.020170309.1502'"
      ]
     },
     "execution_count": 29,
     "metadata": {},
     "output_type": "execute_result"
    }
   ],
   "source": [
    "''.join(re.findall(\"[0-9.]\", txt))"
   ]
  },
  {
   "cell_type": "code",
   "execution_count": 48,
   "metadata": {},
   "outputs": [
    {
     "data": {
      "text/plain": [
       "array([[1],\n",
       "       [0],\n",
       "       [1],\n",
       "       [0]])"
      ]
     },
     "execution_count": 48,
     "metadata": {},
     "output_type": "execute_result"
    }
   ],
   "source": []
  },
  {
   "cell_type": "code",
   "execution_count": 46,
   "metadata": {},
   "outputs": [
    {
     "data": {
      "text/plain": [
       "array([[0, 1],\n",
       "       [1, 0],\n",
       "       [0, 1],\n",
       "       [1, 0]])"
      ]
     },
     "execution_count": 46,
     "metadata": {},
     "output_type": "execute_result"
    }
   ],
   "source": [
    "import numpy as np\n",
    "\n",
    "a = np.array([[0],[1],[0],[1]])\n",
    "b = (a==0).astype(int)\n",
    "\n",
    "np.hstack([a,b])"
   ]
  },
  {
   "cell_type": "code",
   "execution_count": 45,
   "metadata": {},
   "outputs": [
    {
     "data": {
      "text/plain": [
       "array([[1],\n",
       "       [0],\n",
       "       [1],\n",
       "       [0]])"
      ]
     },
     "execution_count": 45,
     "metadata": {},
     "output_type": "execute_result"
    }
   ],
   "source": []
  },
  {
   "cell_type": "code",
   "execution_count": 49,
   "metadata": {},
   "outputs": [],
   "source": [
    "v1 = [ 6.71522716e-01,  1.76001049e-01, -1.77978813e-02, -1.67818235e-01,\n",
    "   6.49510204e-01,  1.17961152e-01,  4.51483475e-01,  4.16013189e-02,\n",
    "  -4.82717613e-01,  5.27536713e+00,  9.92400981e-02, -2.30960401e-01,\n",
    "  -3.97691269e-01,  2.74559415e-01,  7.95214763e-01, -1.46233688e-01,\n",
    "  -2.98350736e-01,  3.84725958e+00,  5.36448782e-01, -1.20091498e+00,\n",
    "  -1.08460359e+00, -3.67787614e-01, -4.18731943e-02, -6.53857927e-01,\n",
    "  -1.39055316e-01,  2.29221790e-01,  4.24631940e-01,  4.17067428e-01,\n",
    "  -6.84043886e-01,  5.67940523e-01,  2.34671759e-01,  2.39102578e-01,\n",
    "  -1.89179069e-01, -6.66960655e-01,  2.38139940e-01, -1.04882286e+00,\n",
    "   1.94178799e-01, -2.40422038e-01,  9.01451986e-02,  3.09146941e-04,\n",
    "   1.95041243e-02,  1.97037010e-01,  7.86219505e-02,  9.62363873e-02,\n",
    "   9.25215609e-01, -2.86541578e-01, -4.33041338e-01, -2.36510210e-01,\n",
    "   3.46118911e-01,  3.42720211e-02, -8.02635945e-01,  4.18728866e-01,\n",
    "   3.63454694e-01, -6.07591683e-01,  8.22672708e-01,  8.84082317e-02,\n",
    "   8.54813680e-03,  2.91493231e-01,  2.22120643e-01,  3.49329288e-01,\n",
    "   8.84842966e-03, -1.26418871e+00,  1.62532287e-01,  6.01168144e-02,\n",
    "  -8.64796477e-01, -6.91210441e-02, -3.98214255e-01,  4.32008657e-01,\n",
    "   7.12804026e-01,  6.91372989e-01, -1.08363690e-01, -2.33505344e-01,\n",
    "  -5.72816040e-01,  5.29473049e-01,  1.03939761e-01, -7.80811720e-03,\n",
    "  -2.56789293e-01, -2.14936783e-01, -1.00462309e+00, -3.83582367e-01,\n",
    "   2.51725041e-01, -4.43524556e-01,  7.16595950e-01,  7.78096974e-01,\n",
    "  -4.01409164e-01, -1.30816502e-01, -1.06984675e+00,  3.22993877e+00,\n",
    "   1.87815344e-02, -2.26687271e-01, -1.32080246e-01,  7.00311549e-01,\n",
    "   6.34505315e-01,  1.28521900e+00,  8.59395075e-01, -4.17949413e-01,\n",
    "   2.89966636e-02,  5.83748167e-01, -1.24921227e-01, -4.78061748e-01,\n",
    "   5.69711754e-01,  5.15746681e-01, -3.87691692e-01,  3.35399911e-01,\n",
    "   1.00697976e-01, -2.87296075e+00, -6.13980313e-01,  2.46789730e-01,\n",
    "   1.57933660e-01, -2.42932108e-01, -3.15041399e-01, -8.40897248e-01,\n",
    "   7.43430997e-02,  2.05458626e-01, -5.65759692e-01,  9.74818766e-02,\n",
    "  -4.35647302e-01,  5.60322888e-02, -2.73931884e-01, -2.78251058e-01,\n",
    "  -4.26278986e-01,  2.16701739e-01, -8.35114416e-01,  6.39869330e-01,\n",
    "   1.10430744e+00, -5.91260293e-02,  3.87825220e-01, -8.21131697e-01,\n",
    "   1.09085958e+00, -3.00371453e-01,  2.44440574e-01, -7.76353966e-01,\n",
    "  -8.71759272e-01,  1.70474588e-02, -4.80593830e-01,  5.24006281e-02,\n",
    "   3.25609347e-01, -8.92783845e-01, -4.17635581e-01, -3.12516503e-02,\n",
    "  -5.76108947e+00,  1.53372454e-01,  4.78484941e-01, -7.72789400e-03,\n",
    "  -5.77612015e-01, -7.94692251e-01,  2.14087039e-02, -4.28472155e-01,\n",
    "   8.76712844e-01,  3.33519094e-01,  6.57425329e-01,  4.87134758e-01,\n",
    "   4.86317206e-01, -4.17512911e-03, -1.17052626e-01,  9.54824500e-03,\n",
    "  -2.40344323e-01, -1.47423235e+00,  1.39372763e-01, -1.70445122e-01,\n",
    "  -8.22893795e-01, -1.70841943e-02,  1.76048771e-01,  6.01095172e-01,\n",
    "   7.84690027e-01, -7.27577307e-01,  1.11934278e-01, -5.04793813e-02,\n",
    "   6.77075721e-02, -1.35203153e-01, -3.87213688e-01,  7.42453817e-01,\n",
    "  -8.89065089e-02, -8.74378458e-02, -4.17313294e-01, -3.90219266e-01,\n",
    "   8.41722284e-02, -1.16647862e-01,  1.89525895e-01,  4.65315062e-01,\n",
    "  -3.21190489e-01, -5.37679592e-01,  7.04364206e-01, -9.18682010e-01,\n",
    "  -6.72910508e-01, -1.40919466e-01, -1.73428821e-01,  2.98641623e-01,\n",
    "   8.88176810e-01, -6.67454652e-03, -4.22649083e-01, -1.93917996e-01,\n",
    "   3.43307357e-01, -3.56192200e-01,  5.35708779e-01, -1.86529241e-01,\n",
    "  -7.32596883e-01, -2.23535489e-01, -1.83481558e-01,  8.56947826e-01,\n",
    "  -6.15763796e-01,  1.77059797e-01,  2.48534572e-01,  1.79697378e-02,\n",
    "   1.34318457e-01,  4.20626332e-01, -1.33121175e-01,  6.30020052e-02,\n",
    "  -6.90048682e-01,  1.92902852e-02, -1.52104445e+00,  4.77676235e-01,\n",
    "  -1.66920717e-01, -1.40439998e+00,  7.81913722e-01,  1.68805902e+00,\n",
    "   4.78396498e-01,  1.36025781e-02, -1.34203926e-01, -1.19133321e-01,\n",
    "  -5.95995560e-02, -1.20829535e-02,  2.04598075e-01,  5.16786201e-01,\n",
    "   1.34167913e-02, -4.28860176e-01, -2.90869919e-01,  6.70302765e-01,\n",
    "   6.06854692e-01,  6.21900816e-01, -4.62170240e-01, -6.65496003e-02,\n",
    "  -6.29163137e-01,  4.71048152e-01,  6.20925556e-01, -6.34684041e-01,\n",
    "  -1.41133795e-01, -4.99378357e-01,  2.35631611e-01,  4.78720872e-01,\n",
    "  -7.58400973e-01,  4.57982188e-01, -5.74752837e-01,  7.55223623e-01,\n",
    "   3.78572762e-01,  1.44062649e+00, -1.55142213e-01, -2.44778357e-01,\n",
    "  -4.53624384e-01, -2.43692115e-01, -1.31339543e-01,  3.40119197e-01,\n",
    "  -3.09576909e-01,  1.66862076e-01, -4.53025788e-01,  8.56795042e-01,\n",
    "   9.84747311e-01,  5.77178384e-01, -2.23532175e-02,  7.34853167e-01,\n",
    "   1.18959222e-01,  1.01583900e+00,  3.31537136e-01,  7.48606591e-01,\n",
    "  -9.70502696e-02,  6.64303014e-02,  2.32263438e-01, -2.73252030e-01,\n",
    "  -9.37533164e-01,  7.20819606e-01, -3.21591267e+00,  5.39633073e-02,\n",
    "  -7.71392974e-01, -6.58556474e-01,  4.54387919e-03, -5.93673432e-01,\n",
    "   3.46537664e-01,  1.86176305e-01,  7.09360854e-01,  5.75872588e-01,\n",
    "   7.68726861e-01,  1.15758114e-01,  9.42207798e-02,  4.16906164e-01,\n",
    "  -6.76095156e-01, -2.20385796e-01,  2.02536462e-01,  4.65010706e-01,\n",
    "   1.32890373e-01, -4.00648732e-01, -7.25661369e-01,  3.18065435e-01,\n",
    "  -2.42473208e-01,  5.63133505e-01, -4.16106067e-01,  4.13314546e-01,\n",
    "   3.84893622e-02,  2.70658952e-01,  1.02031836e-03,  5.96846916e-01]\n",
    "\n",
    "v2 = [ 6.80840974e-01,  1.08222457e+00,  1.89015904e-01, -5.08703661e-01,\n",
    "   2.41635456e+00,  3.45187727e-03,  3.17377068e-01, -1.33426369e+00,\n",
    "  -4.09772869e-01,  9.59687348e+00, -6.62706033e-01,  5.18800816e-02,\n",
    "  -2.41171847e-01,  3.46237607e-02, -2.13357601e-02,  4.41735274e-01,\n",
    "   5.03468092e-02,  4.56489233e+00, -8.02953711e-01, -8.99890657e-01,\n",
    "   2.43052538e-02, -5.87027236e-01,  1.44889726e-01, -9.24025238e-01,\n",
    "   1.99596186e-01, -2.29879858e-01, -1.02551949e+00,  9.07673529e-01,\n",
    "   5.23291807e-01, -2.33934075e-03,  2.29645110e-01, -2.75019081e-01,\n",
    "  -2.60325444e-01, -4.55149302e-01, -9.17764818e-02, -2.19489198e-01,\n",
    "  -6.55176463e-01,  7.74218311e-01, -1.35844554e-01, -3.07842242e-02,\n",
    "   7.87439297e-01,  3.46119592e-01,  6.23998791e-03,  7.69885175e-01,\n",
    "   8.95925693e-01,  9.73564991e-01,  6.62703942e-01, -3.66244032e-01,\n",
    "  -8.58154269e-02, -5.05544388e-01, -1.10951055e+00,  3.95863112e-02,\n",
    "   3.88151889e-01,  7.10091545e-01, -5.48397948e-01, -2.28873915e-01,\n",
    "   2.71538325e-01, -1.36772090e-01,  1.99539744e-01, -7.44140037e-01,\n",
    "  -5.21677930e-01, -1.27869547e+00, -1.20050004e-01,  2.51207745e-01,\n",
    "  -9.28238406e-01, -1.46889219e+00, -5.02986318e-01,  7.94671242e-01,\n",
    "   4.28721608e-01,  8.19892559e-01, -4.64599904e-01,  3.53850354e-02,\n",
    "   5.24377418e-02, -3.00924515e-01, -1.01081805e-02, -5.16774284e-01,\n",
    "  -3.58204136e-01,  1.08205832e+00, -6.02301071e-01,  7.46438447e-01,\n",
    "   5.70911976e-01,  3.50303550e-01, -1.09521374e-01,  6.79268247e-01,\n",
    "  -5.98512002e-01,  6.23896335e-01,  6.66320262e-01,  1.56125277e+00,\n",
    "  -3.46441715e-01, -5.35648258e-01, -1.25729273e+00, -6.87203370e-01,\n",
    "   6.92535645e-01,  5.37416469e-01,  1.06842566e+00, -1.26931941e+00,\n",
    "   1.13688784e+00,  9.97466835e-01, -7.97326249e-01, -2.96736817e-01,\n",
    "   1.63387611e-01, -9.49033803e-01,  2.34477043e-01,  7.78336064e-02,\n",
    "   2.57997866e-01, -2.63031541e+00,  1.22107316e+00, -2.53530167e-01,\n",
    "   8.98693812e-01, -5.56649061e-01,  1.58885792e-01, -1.21601806e+00,\n",
    "  -2.70696640e-01,  2.02899849e-01,  6.78179590e-01,  2.83968075e-01,\n",
    "   8.36400175e-01,  5.39272078e-01, -1.16782952e+00,  6.00040074e-01,\n",
    "   2.45945316e-01,  6.83180027e-01, -1.86759203e-01,  1.21131758e-02,\n",
    "   3.43630549e-01,  6.53674275e-01,  7.53259926e-01, -3.30195450e-01,\n",
    "   9.41805335e-01,  8.70533698e-01,  7.63376585e-01, -1.01149009e+00,\n",
    "   3.09560738e-01,  2.10269890e-01,  1.38180832e+00,  6.71481983e-01,\n",
    "  -5.78927661e-01,  2.94072321e-03,  2.37464768e-01, -1.08133251e+00,\n",
    "  -1.10113370e+01,  4.30279495e-02,  1.56820923e-01, -2.04289891e-01,\n",
    "  -8.64133349e-01, -1.50918914e-01,  9.03650613e-01, -6.91856625e-01,\n",
    "   2.92949418e-01, -1.08226561e+00, -2.13742531e-01, -1.12288442e-01,\n",
    "  -3.70377501e-01,  8.34795704e-01,  9.98569989e-01, -7.67004536e-01,\n",
    "   3.62306936e-01, -1.85033053e+00,  6.48983885e-01, -1.36072374e+00,\n",
    "   2.08188856e-01, -5.68321475e-01,  9.12867156e-01, -4.13704124e-01,\n",
    "   9.22410181e-01, -5.67607224e-01, -6.96386956e-01, -9.93721031e-01,\n",
    "  -5.36995981e-01,  2.13035466e-01,  4.86712846e-01,  3.38213607e-02,\n",
    "  -3.61313901e-01, -1.10207830e+00, -3.27086710e-01, -7.59134999e-01,\n",
    "  -5.75848096e-01, -7.42727052e-03,  2.66385559e-01, -7.03415170e-01,\n",
    "   3.21424244e-01, -1.20882045e-01,  1.09473436e+00,  2.03045310e-01,\n",
    "  -2.65840843e-01,  4.93563807e-01, -6.82739358e-01,  2.73103496e-01,\n",
    "   4.31449637e-01, -9.24971296e-01,  7.15496726e-02, -1.92146460e-01,\n",
    "  -8.60685006e-01, -8.39486291e-01, -7.92146324e-01,  5.19405275e-02,\n",
    "  -6.95424106e-01, -5.69414062e-01,  6.02244138e-01, -2.47432487e-01,\n",
    "  -4.34355595e-01, -1.07837283e-01,  1.32522011e-02,  1.59216576e-01,\n",
    "   6.02156725e-01, -6.45504831e-01, -2.94020553e-01, -1.30434350e-01,\n",
    "   7.04957346e-01, -6.86732803e-01, -1.27494802e+00,  1.65109250e+00,\n",
    "  -2.71356047e-01, -4.17883361e-01,  1.00949544e-01,  1.44076467e+00,\n",
    "   3.13068775e-01, -8.28959271e-01,  9.09669771e-01,  1.11012771e+00,\n",
    "  -3.72678792e-01,  2.79221355e-01, -3.44947677e-01,  8.82469683e-02,\n",
    "   2.25149028e-01,  1.41286211e-01, -2.65700271e-01, -1.83076371e-01,\n",
    "   1.11346852e+00,  4.21954349e-01, -4.47518755e-01, -4.39430828e-01,\n",
    "  -5.62444557e-02,  3.81211454e-01, -1.80647857e-02, -4.52478832e-01,\n",
    "  -8.95624682e-01, -3.12069496e-02, -4.11403767e-01,  2.53328356e-01,\n",
    "  -1.07857434e+00,  1.68821388e-01, -5.01107505e-01,  3.00803318e-01,\n",
    "  -1.57732102e-01,  1.07451440e+00, -5.55646353e-01,  7.88619872e-02,\n",
    "  -2.29958531e-01, -5.48542802e-01,  1.43211507e-02,  2.74252550e-01,\n",
    "  -4.90469476e-01,  6.82045617e-01,  3.79044290e-01,  8.44461500e-01,\n",
    "   1.53178156e-01, -3.07160458e-01, -1.93368721e-01,  5.43589889e-01,\n",
    "  -9.42966710e-02,  3.93280542e-01,  3.47361914e-01,  4.83696428e-01,\n",
    "  -2.64183397e-01, -8.22343061e-01, -2.31023552e-01, -3.10740942e-01,\n",
    "  -5.45774631e-01,  1.27622189e+00, -4.03592953e+00,  8.62728572e-02,\n",
    "  -4.18462265e-01,  2.98368017e-03,  4.98270962e-01, -9.28206671e-01,\n",
    "   5.04501998e-01, -8.67197957e-01,  1.90088416e-01,  6.24125131e-01,\n",
    "   4.26296185e-01,  4.73721744e-03, -5.93253737e-01, -1.77936572e-01,\n",
    "  -3.63077476e-01, -1.59699360e-01,  1.53916423e+00,  3.04897348e-01,\n",
    "   5.67107857e-02, -6.42787840e-02, -3.53969141e-01, -4.93914781e-01,\n",
    "   8.80186645e-01,  1.14711054e+00,  3.20992951e-01,  7.64317893e-01,\n",
    "   3.62343249e-01, -3.20556623e-01,  4.28908955e-01,  6.28184980e-01]"
   ]
  },
  {
   "cell_type": "code",
   "execution_count": 52,
   "metadata": {},
   "outputs": [
    {
     "data": {
      "text/plain": [
       "array([ 1.35236369e+00,  1.25822562e+00,  1.71218023e-01, -6.76521896e-01,\n",
       "        3.06586476e+00,  1.21413029e-01,  7.68860543e-01, -1.29266237e+00,\n",
       "       -8.92490482e-01,  1.48722406e+01, -5.63465935e-01, -1.79080319e-01,\n",
       "       -6.38863116e-01,  3.09183176e-01,  7.73879003e-01,  2.95501586e-01,\n",
       "       -2.48003927e-01,  8.41215191e+00, -2.66504929e-01, -2.10080564e+00,\n",
       "       -1.06029834e+00, -9.54814850e-01,  1.03016532e-01, -1.57788317e+00,\n",
       "        6.05408700e-02, -6.58068000e-04, -6.00887550e-01,  1.32474096e+00,\n",
       "       -1.60752079e-01,  5.65601182e-01,  4.64316869e-01, -3.59165030e-02,\n",
       "       -4.49504513e-01, -1.12210996e+00,  1.46363458e-01, -1.26831206e+00,\n",
       "       -4.60997664e-01,  5.33796273e-01, -4.56993554e-02, -3.04750773e-02,\n",
       "        8.06943421e-01,  5.43156602e-01,  8.48619384e-02,  8.66121562e-01,\n",
       "        1.82114130e+00,  6.87023413e-01,  2.29662604e-01, -6.02754242e-01,\n",
       "        2.60303484e-01, -4.71272367e-01, -1.91214650e+00,  4.58315177e-01,\n",
       "        7.51606583e-01,  1.02499862e-01,  2.74274760e-01, -1.40465683e-01,\n",
       "        2.80086462e-01,  1.54721141e-01,  4.21660387e-01, -3.94810749e-01,\n",
       "       -5.12829500e-01, -2.54288418e+00,  4.24822830e-02,  3.11324559e-01,\n",
       "       -1.79303488e+00, -1.53801323e+00, -9.01200573e-01,  1.22667990e+00,\n",
       "        1.14152563e+00,  1.51126555e+00, -5.72963594e-01, -1.98120309e-01,\n",
       "       -5.20378298e-01,  2.28548534e-01,  9.38315805e-02, -5.24582401e-01,\n",
       "       -6.14993429e-01,  8.67121537e-01, -1.60692416e+00,  3.62856080e-01,\n",
       "        8.22637017e-01, -9.32210060e-02,  6.07074576e-01,  1.45736522e+00,\n",
       "       -9.99921166e-01,  4.93079833e-01, -4.03526488e-01,  4.79119154e+00,\n",
       "       -3.27660181e-01, -7.62335529e-01, -1.38937298e+00,  1.31081790e-02,\n",
       "        1.32704096e+00,  1.82263547e+00,  1.92782074e+00, -1.68726882e+00,\n",
       "        1.16588450e+00,  1.58121500e+00, -9.22247476e-01, -7.74798565e-01,\n",
       "        7.33099365e-01, -4.33287122e-01, -1.53214649e-01,  4.13233517e-01,\n",
       "        3.58695842e-01, -5.50327616e+00,  6.07092847e-01, -6.74043700e-03,\n",
       "        1.05662747e+00, -7.99581169e-01, -1.56155607e-01, -2.05691531e+00,\n",
       "       -1.96353540e-01,  4.08358475e-01,  1.12419898e-01,  3.81449952e-01,\n",
       "        4.00752873e-01,  5.95304367e-01, -1.44176140e+00,  3.21789016e-01,\n",
       "       -1.80333670e-01,  8.99881766e-01, -1.02187362e+00,  6.51982506e-01,\n",
       "        1.44793799e+00,  5.94548246e-01,  1.14108515e+00, -1.15132715e+00,\n",
       "        2.03266491e+00,  5.70162245e-01,  1.00781716e+00, -1.78784406e+00,\n",
       "       -5.62198534e-01,  2.27317349e-01,  9.01214490e-01,  7.23882611e-01,\n",
       "       -2.53318314e-01, -8.89843122e-01, -1.80170813e-01, -1.11258416e+00,\n",
       "       -1.67724265e+01,  1.96400403e-01,  6.35305864e-01, -2.12017785e-01,\n",
       "       -1.44174536e+00, -9.45611165e-01,  9.25059317e-01, -1.12032878e+00,\n",
       "        1.16966226e+00, -7.48746516e-01,  4.43682798e-01,  3.74846316e-01,\n",
       "        1.15939705e-01,  8.30620575e-01,  8.81517363e-01, -7.57456291e-01,\n",
       "        1.21962613e-01, -3.32456288e+00,  7.88356648e-01, -1.53116886e+00,\n",
       "       -6.14704939e-01, -5.85405669e-01,  1.08891593e+00,  1.87391048e-01,\n",
       "        1.70710021e+00, -1.29518453e+00, -5.84452678e-01, -1.04420041e+00,\n",
       "       -4.69288409e-01,  7.78323130e-02,  9.94991580e-02,  7.76275178e-01,\n",
       "       -4.50220410e-01, -1.18951615e+00, -7.44400004e-01, -1.14935426e+00,\n",
       "       -4.91675868e-01, -1.24075133e-01,  4.55911454e-01, -2.38100108e-01,\n",
       "        2.33755000e-04, -6.58561637e-01,  1.79909857e+00, -7.15636700e-01,\n",
       "       -9.38751351e-01,  3.52644341e-01, -8.56168179e-01,  5.71745119e-01,\n",
       "        1.31962645e+00, -9.31645843e-01, -3.51099410e-01, -3.86064456e-01,\n",
       "       -5.17377649e-01, -1.19567849e+00, -2.56437545e-01, -1.34588714e-01,\n",
       "       -1.42802099e+00, -7.92949551e-01,  4.18762580e-01,  6.09515339e-01,\n",
       "       -1.05011939e+00,  6.92225140e-02,  2.61786773e-01,  1.77186314e-01,\n",
       "        7.36475182e-01, -2.24878499e-01, -4.27141728e-01, -6.74323448e-02,\n",
       "        1.49086640e-02, -6.67442518e-01, -2.79599247e+00,  2.12876873e+00,\n",
       "       -4.38276764e-01, -1.82228334e+00,  8.82863266e-01,  3.12882369e+00,\n",
       "        7.91465273e-01, -8.15356693e-01,  7.75465845e-01,  9.90994389e-01,\n",
       "       -4.32278348e-01,  2.67138402e-01, -1.40349602e-01,  6.05033169e-01,\n",
       "        2.38565819e-01, -2.87573965e-01, -5.56570190e-01,  4.87226394e-01,\n",
       "        1.72032321e+00,  1.04385517e+00, -9.09688995e-01, -5.05980428e-01,\n",
       "       -6.85407593e-01,  8.52259606e-01,  6.02860770e-01, -1.08716287e+00,\n",
       "       -1.03675848e+00, -5.30585307e-01, -1.75772156e-01,  7.32049228e-01,\n",
       "       -1.83697531e+00,  6.26803576e-01, -1.07586034e+00,  1.05602694e+00,\n",
       "        2.20840660e-01,  2.51514089e+00, -7.10788566e-01, -1.65916370e-01,\n",
       "       -6.83582915e-01, -7.92234917e-01, -1.17018392e-01,  6.14371747e-01,\n",
       "       -8.00046385e-01,  8.48907693e-01, -7.39814980e-02,  1.70125654e+00,\n",
       "        1.13792547e+00,  2.70017926e-01, -2.15721938e-01,  1.27844306e+00,\n",
       "        2.46625510e-02,  1.40911954e+00,  6.78899050e-01,  1.23230302e+00,\n",
       "       -3.61233667e-01, -7.55912760e-01,  1.23988600e-03, -5.83992972e-01,\n",
       "       -1.48330779e+00,  1.99704150e+00, -7.25184220e+00,  1.40236164e-01,\n",
       "       -1.18985524e+00, -6.55572794e-01,  5.02814841e-01, -1.52188010e+00,\n",
       "        8.51039662e-01, -6.81021652e-01,  8.99449270e-01,  1.19999772e+00,\n",
       "        1.19502305e+00,  1.20495331e-01, -4.99032957e-01,  2.38969592e-01,\n",
       "       -1.03917263e+00, -3.80085156e-01,  1.74170069e+00,  7.69908054e-01,\n",
       "        1.89601159e-01, -4.64927516e-01, -1.07963051e+00, -1.75849346e-01,\n",
       "        6.37713437e-01,  1.71024405e+00, -9.51131160e-02,  1.17763244e+00,\n",
       "        4.00832611e-01, -4.98976710e-02,  4.29929273e-01,  1.22503190e+00])"
      ]
     },
     "execution_count": 52,
     "metadata": {},
     "output_type": "execute_result"
    }
   ],
   "source": [
    "v1 = np.array(v1)\n",
    "v2 = np.array(v2)\n",
    "v1+v2"
   ]
  },
  {
   "cell_type": "code",
   "execution_count": 54,
   "metadata": {},
   "outputs": [],
   "source": [
    "import pandas as pd"
   ]
  },
  {
   "cell_type": "code",
   "execution_count": 56,
   "metadata": {},
   "outputs": [],
   "source": [
    "a = ['h,i','h,i','h,i','h,i','h,i','h,i']\n",
    "df = pd.DataFrame([a,a,a,a,a])"
   ]
  },
  {
   "cell_type": "code",
   "execution_count": 57,
   "metadata": {},
   "outputs": [],
   "source": [
    "headers = df.columns"
   ]
  },
  {
   "cell_type": "code",
   "execution_count": 70,
   "metadata": {},
   "outputs": [
    {
     "data": {
      "text/html": [
       "<div>\n",
       "<style scoped>\n",
       "    .dataframe tbody tr th:only-of-type {\n",
       "        vertical-align: middle;\n",
       "    }\n",
       "\n",
       "    .dataframe tbody tr th {\n",
       "        vertical-align: top;\n",
       "    }\n",
       "\n",
       "    .dataframe thead th {\n",
       "        text-align: right;\n",
       "    }\n",
       "</style>\n",
       "<table border=\"1\" class=\"dataframe\">\n",
       "  <thead>\n",
       "    <tr style=\"text-align: right;\">\n",
       "      <th></th>\n",
       "      <th>0</th>\n",
       "      <th>1</th>\n",
       "      <th>2</th>\n",
       "      <th>3</th>\n",
       "      <th>4</th>\n",
       "      <th>5</th>\n",
       "    </tr>\n",
       "  </thead>\n",
       "  <tbody>\n",
       "    <tr>\n",
       "      <th>0</th>\n",
       "      <td>hi</td>\n",
       "      <td>hi</td>\n",
       "      <td>hi</td>\n",
       "      <td>hi</td>\n",
       "      <td>hi</td>\n",
       "      <td>hi</td>\n",
       "    </tr>\n",
       "    <tr>\n",
       "      <th>1</th>\n",
       "      <td>hi</td>\n",
       "      <td>hi</td>\n",
       "      <td>hi</td>\n",
       "      <td>hi</td>\n",
       "      <td>hi</td>\n",
       "      <td>hi</td>\n",
       "    </tr>\n",
       "    <tr>\n",
       "      <th>2</th>\n",
       "      <td>hi</td>\n",
       "      <td>hi</td>\n",
       "      <td>hi</td>\n",
       "      <td>hi</td>\n",
       "      <td>hi</td>\n",
       "      <td>hi</td>\n",
       "    </tr>\n",
       "    <tr>\n",
       "      <th>3</th>\n",
       "      <td>hi</td>\n",
       "      <td>hi</td>\n",
       "      <td>hi</td>\n",
       "      <td>hi</td>\n",
       "      <td>hi</td>\n",
       "      <td>hi</td>\n",
       "    </tr>\n",
       "    <tr>\n",
       "      <th>4</th>\n",
       "      <td>hi</td>\n",
       "      <td>hi</td>\n",
       "      <td>hi</td>\n",
       "      <td>hi</td>\n",
       "      <td>hi</td>\n",
       "      <td>hi</td>\n",
       "    </tr>\n",
       "  </tbody>\n",
       "</table>\n",
       "</div>"
      ],
      "text/plain": [
       "    0   1   2   3   4   5\n",
       "0  hi  hi  hi  hi  hi  hi\n",
       "1  hi  hi  hi  hi  hi  hi\n",
       "2  hi  hi  hi  hi  hi  hi\n",
       "3  hi  hi  hi  hi  hi  hi\n",
       "4  hi  hi  hi  hi  hi  hi"
      ]
     },
     "execution_count": 70,
     "metadata": {},
     "output_type": "execute_result"
    }
   ],
   "source": [
    "df[headers].apply(lambda x: x.str.replace(',',''))"
   ]
  },
  {
   "cell_type": "code",
   "execution_count": 69,
   "metadata": {},
   "outputs": [
    {
     "data": {
      "text/html": [
       "<div>\n",
       "<style scoped>\n",
       "    .dataframe tbody tr th:only-of-type {\n",
       "        vertical-align: middle;\n",
       "    }\n",
       "\n",
       "    .dataframe tbody tr th {\n",
       "        vertical-align: top;\n",
       "    }\n",
       "\n",
       "    .dataframe thead th {\n",
       "        text-align: right;\n",
       "    }\n",
       "</style>\n",
       "<table border=\"1\" class=\"dataframe\">\n",
       "  <thead>\n",
       "    <tr style=\"text-align: right;\">\n",
       "      <th></th>\n",
       "      <th>0</th>\n",
       "      <th>1</th>\n",
       "      <th>2</th>\n",
       "      <th>3</th>\n",
       "      <th>4</th>\n",
       "      <th>5</th>\n",
       "    </tr>\n",
       "  </thead>\n",
       "  <tbody>\n",
       "    <tr>\n",
       "      <th>0</th>\n",
       "      <td>hi</td>\n",
       "      <td>hi</td>\n",
       "      <td>hi</td>\n",
       "      <td>hi</td>\n",
       "      <td>hi</td>\n",
       "      <td>hi</td>\n",
       "    </tr>\n",
       "    <tr>\n",
       "      <th>1</th>\n",
       "      <td>hi</td>\n",
       "      <td>hi</td>\n",
       "      <td>hi</td>\n",
       "      <td>hi</td>\n",
       "      <td>hi</td>\n",
       "      <td>hi</td>\n",
       "    </tr>\n",
       "    <tr>\n",
       "      <th>2</th>\n",
       "      <td>hi</td>\n",
       "      <td>hi</td>\n",
       "      <td>hi</td>\n",
       "      <td>hi</td>\n",
       "      <td>hi</td>\n",
       "      <td>hi</td>\n",
       "    </tr>\n",
       "    <tr>\n",
       "      <th>3</th>\n",
       "      <td>hi</td>\n",
       "      <td>hi</td>\n",
       "      <td>hi</td>\n",
       "      <td>hi</td>\n",
       "      <td>hi</td>\n",
       "      <td>hi</td>\n",
       "    </tr>\n",
       "    <tr>\n",
       "      <th>4</th>\n",
       "      <td>hi</td>\n",
       "      <td>hi</td>\n",
       "      <td>hi</td>\n",
       "      <td>hi</td>\n",
       "      <td>hi</td>\n",
       "      <td>hi</td>\n",
       "    </tr>\n",
       "  </tbody>\n",
       "</table>\n",
       "</div>"
      ],
      "text/plain": [
       "    0   1   2   3   4   5\n",
       "0  hi  hi  hi  hi  hi  hi\n",
       "1  hi  hi  hi  hi  hi  hi\n",
       "2  hi  hi  hi  hi  hi  hi\n",
       "3  hi  hi  hi  hi  hi  hi\n",
       "4  hi  hi  hi  hi  hi  hi"
      ]
     },
     "execution_count": 69,
     "metadata": {},
     "output_type": "execute_result"
    }
   ],
   "source": [
    "df[headers].applymap(lambda x: x.replace(',',''))"
   ]
  },
  {
   "cell_type": "code",
   "execution_count": 74,
   "metadata": {},
   "outputs": [
    {
     "data": {
      "text/html": [
       "<div>\n",
       "<style scoped>\n",
       "    .dataframe tbody tr th:only-of-type {\n",
       "        vertical-align: middle;\n",
       "    }\n",
       "\n",
       "    .dataframe tbody tr th {\n",
       "        vertical-align: top;\n",
       "    }\n",
       "\n",
       "    .dataframe thead th {\n",
       "        text-align: right;\n",
       "    }\n",
       "</style>\n",
       "<table border=\"1\" class=\"dataframe\">\n",
       "  <thead>\n",
       "    <tr style=\"text-align: right;\">\n",
       "      <th></th>\n",
       "      <th>0</th>\n",
       "      <th>1</th>\n",
       "      <th>2</th>\n",
       "      <th>3</th>\n",
       "      <th>4</th>\n",
       "      <th>5</th>\n",
       "    </tr>\n",
       "  </thead>\n",
       "  <tbody>\n",
       "    <tr>\n",
       "      <th>0</th>\n",
       "      <td>hi</td>\n",
       "      <td>hi</td>\n",
       "      <td>hi</td>\n",
       "      <td>hi</td>\n",
       "      <td>hi</td>\n",
       "      <td>hi</td>\n",
       "    </tr>\n",
       "    <tr>\n",
       "      <th>1</th>\n",
       "      <td>hi</td>\n",
       "      <td>hi</td>\n",
       "      <td>hi</td>\n",
       "      <td>hi</td>\n",
       "      <td>hi</td>\n",
       "      <td>hi</td>\n",
       "    </tr>\n",
       "    <tr>\n",
       "      <th>2</th>\n",
       "      <td>hi</td>\n",
       "      <td>hi</td>\n",
       "      <td>hi</td>\n",
       "      <td>hi</td>\n",
       "      <td>hi</td>\n",
       "      <td>hi</td>\n",
       "    </tr>\n",
       "    <tr>\n",
       "      <th>3</th>\n",
       "      <td>hi</td>\n",
       "      <td>hi</td>\n",
       "      <td>hi</td>\n",
       "      <td>hi</td>\n",
       "      <td>hi</td>\n",
       "      <td>hi</td>\n",
       "    </tr>\n",
       "    <tr>\n",
       "      <th>4</th>\n",
       "      <td>hi</td>\n",
       "      <td>hi</td>\n",
       "      <td>hi</td>\n",
       "      <td>hi</td>\n",
       "      <td>hi</td>\n",
       "      <td>hi</td>\n",
       "    </tr>\n",
       "  </tbody>\n",
       "</table>\n",
       "</div>"
      ],
      "text/plain": [
       "    0   1   2   3   4   5\n",
       "0  hi  hi  hi  hi  hi  hi\n",
       "1  hi  hi  hi  hi  hi  hi\n",
       "2  hi  hi  hi  hi  hi  hi\n",
       "3  hi  hi  hi  hi  hi  hi\n",
       "4  hi  hi  hi  hi  hi  hi"
      ]
     },
     "execution_count": 74,
     "metadata": {},
     "output_type": "execute_result"
    }
   ],
   "source": [
    "df[headers].replace(',','',regex=True)"
   ]
  },
  {
   "cell_type": "code",
   "execution_count": null,
   "metadata": {},
   "outputs": [],
   "source": []
  },
  {
   "cell_type": "code",
   "execution_count": null,
   "metadata": {},
   "outputs": [],
   "source": [
    "dataFrame[headers] = dataFrame[headers].apply(str.replace(',',''), axis=1)"
   ]
  },
  {
   "cell_type": "code",
   "execution_count": null,
   "metadata": {},
   "outputs": [],
   "source": []
  },
  {
   "cell_type": "code",
   "execution_count": null,
   "metadata": {},
   "outputs": [],
   "source": []
  },
  {
   "cell_type": "code",
   "execution_count": 82,
   "metadata": {},
   "outputs": [
    {
     "data": {
      "text/html": [
       "<div>\n",
       "<style scoped>\n",
       "    .dataframe tbody tr th:only-of-type {\n",
       "        vertical-align: middle;\n",
       "    }\n",
       "\n",
       "    .dataframe tbody tr th {\n",
       "        vertical-align: top;\n",
       "    }\n",
       "\n",
       "    .dataframe thead th {\n",
       "        text-align: right;\n",
       "    }\n",
       "</style>\n",
       "<table border=\"1\" class=\"dataframe\">\n",
       "  <thead>\n",
       "    <tr style=\"text-align: right;\">\n",
       "      <th></th>\n",
       "      <th>Name</th>\n",
       "      <th>P1</th>\n",
       "      <th>P2</th>\n",
       "    </tr>\n",
       "  </thead>\n",
       "  <tbody>\n",
       "    <tr>\n",
       "      <th>0</th>\n",
       "      <td>A</td>\n",
       "      <td>1</td>\n",
       "      <td>1</td>\n",
       "    </tr>\n",
       "    <tr>\n",
       "      <th>1</th>\n",
       "      <td>B</td>\n",
       "      <td>1</td>\n",
       "      <td>2</td>\n",
       "    </tr>\n",
       "    <tr>\n",
       "      <th>2</th>\n",
       "      <td>C</td>\n",
       "      <td>-5</td>\n",
       "      <td>3</td>\n",
       "    </tr>\n",
       "    <tr>\n",
       "      <th>A</th>\n",
       "      <td>NaN</td>\n",
       "      <td>3</td>\n",
       "      <td>2</td>\n",
       "    </tr>\n",
       "    <tr>\n",
       "      <th>B</th>\n",
       "      <td>NaN</td>\n",
       "      <td>3</td>\n",
       "      <td>3</td>\n",
       "    </tr>\n",
       "    <tr>\n",
       "      <th>C</th>\n",
       "      <td>NaN</td>\n",
       "      <td>-3</td>\n",
       "      <td>4</td>\n",
       "    </tr>\n",
       "  </tbody>\n",
       "</table>\n",
       "</div>"
      ],
      "text/plain": [
       "  Name  P1  P2\n",
       "0    A   1   1\n",
       "1    B   1   2\n",
       "2    C  -5   3\n",
       "A  NaN   3   2\n",
       "B  NaN   3   3\n",
       "C  NaN  -3   4"
      ]
     },
     "execution_count": 82,
     "metadata": {},
     "output_type": "execute_result"
    }
   ],
   "source": [
    "df = pd.DataFrame({'Name':['A','B','C'], 'P1':[1,1,-5], 'P2':[1,2,3]})\n",
    "new_df = df.set_index('Name')+[2,1]\n",
    "\n",
    "pd.concat([df, new_df], axis=0)"
   ]
  },
  {
   "cell_type": "code",
   "execution_count": 80,
   "metadata": {},
   "outputs": [
    {
     "data": {
      "text/html": [
       "<div>\n",
       "<style scoped>\n",
       "    .dataframe tbody tr th:only-of-type {\n",
       "        vertical-align: middle;\n",
       "    }\n",
       "\n",
       "    .dataframe tbody tr th {\n",
       "        vertical-align: top;\n",
       "    }\n",
       "\n",
       "    .dataframe thead th {\n",
       "        text-align: right;\n",
       "    }\n",
       "</style>\n",
       "<table border=\"1\" class=\"dataframe\">\n",
       "  <thead>\n",
       "    <tr style=\"text-align: right;\">\n",
       "      <th></th>\n",
       "      <th>P1</th>\n",
       "      <th>P2</th>\n",
       "    </tr>\n",
       "    <tr>\n",
       "      <th>Name</th>\n",
       "      <th></th>\n",
       "      <th></th>\n",
       "    </tr>\n",
       "  </thead>\n",
       "  <tbody>\n",
       "    <tr>\n",
       "      <th>A</th>\n",
       "      <td>3</td>\n",
       "      <td>2</td>\n",
       "    </tr>\n",
       "    <tr>\n",
       "      <th>B</th>\n",
       "      <td>3</td>\n",
       "      <td>3</td>\n",
       "    </tr>\n",
       "    <tr>\n",
       "      <th>C</th>\n",
       "      <td>-3</td>\n",
       "      <td>4</td>\n",
       "    </tr>\n",
       "  </tbody>\n",
       "</table>\n",
       "</div>"
      ],
      "text/plain": [
       "      P1  P2\n",
       "Name        \n",
       "A      3   2\n",
       "B      3   3\n",
       "C     -3   4"
      ]
     },
     "execution_count": 80,
     "metadata": {},
     "output_type": "execute_result"
    }
   ],
   "source": []
  },
  {
   "cell_type": "code",
   "execution_count": 87,
   "metadata": {},
   "outputs": [
    {
     "data": {
      "text/plain": [
       "array([ True, False, False, False, False, False, False,  True, False,\n",
       "       False,  True, False, False,  True,  True,  True,  True,  True,\n",
       "       False,  True])"
      ]
     },
     "execution_count": 87,
     "metadata": {},
     "output_type": "execute_result"
    }
   ],
   "source": [
    "matching = np.random.randint(0,2,(20,)).astype(bool)\n",
    "matching"
   ]
  },
  {
   "cell_type": "code",
   "execution_count": 125,
   "metadata": {},
   "outputs": [],
   "source": [
    "from itertools import groupby\n",
    "import random"
   ]
  },
  {
   "cell_type": "code",
   "execution_count": 130,
   "metadata": {},
   "outputs": [],
   "source": [
    "grouper = groupby(enumerate(matching), key=lambda x:x[1])"
   ]
  },
  {
   "cell_type": "code",
   "execution_count": 131,
   "metadata": {},
   "outputs": [
    {
     "data": {
      "text/plain": [
       "[[(0, True)],\n",
       " [(6, False), (2, False)],\n",
       " [(7, True)],\n",
       " [(9, False), (9, False)],\n",
       " [(10, True)],\n",
       " [(12, False), (12, False)],\n",
       " [(13, True), (14, True), (15, True), (16, True), (17, True)],\n",
       " [(18, False), (18, False)],\n",
       " [(19, True)]]"
      ]
     },
     "execution_count": 131,
     "metadata": {},
     "output_type": "execute_result"
    }
   ],
   "source": [
    "[list(j) if i==True else random.choices(list(j), k=2) for i,j in grouper]"
   ]
  },
  {
   "cell_type": "code",
   "execution_count": null,
   "metadata": {},
   "outputs": [],
   "source": []
  },
  {
   "cell_type": "code",
   "execution_count": null,
   "metadata": {},
   "outputs": [],
   "source": []
  },
  {
   "cell_type": "code",
   "execution_count": 134,
   "metadata": {},
   "outputs": [],
   "source": [
    "D1 = {'Bob' : 90,\n",
    "      'Sam' : 95}\n",
    "\n",
    "D2 = {'Bob' : 85,\n",
    "      'Sam' : 95}"
   ]
  },
  {
   "cell_type": "code",
   "execution_count": 135,
   "metadata": {},
   "outputs": [
    {
     "ename": "SyntaxError",
     "evalue": "invalid syntax (<ipython-input-135-a097537bf346>, line 1)",
     "output_type": "error",
     "traceback": [
      "\u001b[0;36m  File \u001b[0;32m\"<ipython-input-135-a097537bf346>\"\u001b[0;36m, line \u001b[0;32m1\u001b[0m\n\u001b[0;31m    for i in D1.keys()\u001b[0m\n\u001b[0m                      ^\u001b[0m\n\u001b[0;31mSyntaxError\u001b[0m\u001b[0;31m:\u001b[0m invalid syntax\n"
     ]
    }
   ],
   "source": [
    "scores = []\n",
    "output = {}\n",
    "for i in D1.keys():\n",
    "    for j in [D1, D2]:\n",
    "        scores.append(j[i])\n",
    "    \n",
    "    \n",
    "    "
   ]
  },
  {
   "cell_type": "code",
   "execution_count": 136,
   "metadata": {},
   "outputs": [],
   "source": [
    "lst = ['12233223','13232423','23453443']"
   ]
  },
  {
   "cell_type": "code",
   "execution_count": 147,
   "metadata": {},
   "outputs": [
    {
     "data": {
      "text/plain": [
       "[{'id': '12233223', 'new_id': 'd2233223'},\n",
       " {'id': '13232423', 'new_id': 'd3232423'}]"
      ]
     },
     "execution_count": 147,
     "metadata": {},
     "output_type": "execute_result"
    }
   ],
   "source": [
    "[{'id':i,'new_id':'d'+i[1:]} for i in lst if i[0]=='1' and len(i)==8]"
   ]
  },
  {
   "cell_type": "code",
   "execution_count": null,
   "metadata": {},
   "outputs": [],
   "source": []
  },
  {
   "cell_type": "code",
   "execution_count": 151,
   "metadata": {},
   "outputs": [],
   "source": [
    "A = np.array([[0,1],[2,3]])\n",
    "B = np.array([[1,3],[-1,-2]])\n",
    "\n",
    "C = np.linspace(A,B,4)"
   ]
  },
  {
   "cell_type": "code",
   "execution_count": 152,
   "metadata": {},
   "outputs": [
    {
     "data": {
      "text/plain": [
       "array([[0., 1.],\n",
       "       [2., 3.]])"
      ]
     },
     "execution_count": 152,
     "metadata": {},
     "output_type": "execute_result"
    }
   ],
   "source": [
    "C[0]"
   ]
  },
  {
   "cell_type": "code",
   "execution_count": null,
   "metadata": {},
   "outputs": [],
   "source": []
  },
  {
   "cell_type": "code",
   "execution_count": 166,
   "metadata": {},
   "outputs": [
    {
     "name": "stdout",
     "output_type": "stream",
     "text": [
      "   clusters           y\n",
      "0         0  146.875000\n",
      "1         1  147.833333\n",
      "3         3  153.000000\n",
      "4         4  155.769231\n",
      "2         2  156.750000\n"
     ]
    }
   ],
   "source": [
    "y = np.random.randint(100,200,(50,))\n",
    "clusters = np.random.randint(0,5,(50,))\n",
    "df = pd.DataFrame({'y':y, 'clusters':clusters})\n",
    "\n",
    "print(df.groupby('clusters')['y'].mean().reset_index().sort_values('y'))\n",
    "\n",
    "   clusters           y\n",
    "0         0  146.875000\n",
    "1         1  147.833333\n",
    "3         3  153.000000\n",
    "4         4  155.769231\n",
    "2         2  156.750000"
   ]
  },
  {
   "cell_type": "code",
   "execution_count": 164,
   "metadata": {},
   "outputs": [
    {
     "name": "stdout",
     "output_type": "stream",
     "text": [
      "   clusters           y\n",
      "1         1  154.250000\n",
      "2         2  149.909091\n",
      "4         4  138.750000\n",
      "0         0  135.750000\n",
      "3         3  129.636364\n"
     ]
    }
   ],
   "source": [
    "print(df.groupby('clusters')['y'].mean().reset_index().sort_values('y', ascending=False))"
   ]
  },
  {
   "cell_type": "code",
   "execution_count": null,
   "metadata": {},
   "outputs": [],
   "source": []
  },
  {
   "cell_type": "code",
   "execution_count": null,
   "metadata": {},
   "outputs": [],
   "source": []
  },
  {
   "cell_type": "code",
   "execution_count": null,
   "metadata": {},
   "outputs": [],
   "source": []
  },
  {
   "cell_type": "code",
   "execution_count": null,
   "metadata": {},
   "outputs": [],
   "source": [
    "for n in range(0,9):\n",
    "    cluster_ = data2[data2['cluster_id']== n]\n",
    "\n",
    "    cluster_list = cluster_['y'].tolist()\n",
    "    cluster_avg = sum(cluster_list)/len(cluster_list)\n",
    "\n",
    "    cluster_int = int(cluster_avg)\n",
    "\n",
    "    print(\"cluster_id : %d\" %n ,\"average : %d\" %cluster_int)\n",
    "    lst.append((n,cluster_int))\n",
    "    a = sorted(lst, key = lambda x:x[1])"
   ]
  },
  {
   "cell_type": "code",
   "execution_count": null,
   "metadata": {},
   "outputs": [],
   "source": []
  },
  {
   "cell_type": "code",
   "execution_count": null,
   "metadata": {},
   "outputs": [],
   "source": []
  },
  {
   "cell_type": "code",
   "execution_count": 167,
   "metadata": {},
   "outputs": [],
   "source": [
    "df = pd.read_clipboard()"
   ]
  },
  {
   "cell_type": "code",
   "execution_count": 171,
   "metadata": {},
   "outputs": [
    {
     "name": "stdout",
     "output_type": "stream",
     "text": [
      "   col1 col2  col3 col4 col5  target\n",
      "0   NaN    1   NaN    1   20       0\n",
      "1    90    1    47    0   40       1\n",
      "2    75  NaN   246  NaN   15       0\n",
      "3    60    1   315    1   60       0\n",
      "4    78    0   224    0   50       0\n",
      "5    48    1   NaN    1  NaN       1\n",
      "6    65    1   135    0   35       1\n",
      "7    73    0   582    0   35       1\n",
      "8    70    0  1202    0   50       1\n",
      "9    54    1   427    0   70       1\n",
      "10   68    1  1021    1   35       0\n",
      "11   55    0   NaN    1   35       1\n"
     ]
    },
    {
     "data": {
      "text/plain": [
       "<matplotlib.axes._subplots.AxesSubplot at 0x7ff92ac766d0>"
      ]
     },
     "execution_count": 171,
     "metadata": {},
     "output_type": "execute_result"
    },
    {
     "data": {
      "image/png": "[encoded data removed]",
      "text/plain": [
       "<Figure size 1800x720 with 2 Axes>"
      ]
     },
     "metadata": {
      "needs_background": "light"
     },
     "output_type": "display_data"
    }
   ],
   "source": [
    "#!pip install missingno\n",
    "import missingno as msno\n",
    "import numpy as np\n",
    "\n",
    "\n",
    "df_raw = df.replace('?', np.nan)\n",
    "print(df_raw)\n",
    "\n",
    "#    col1 col2  col3 col4 col5  target\n",
    "# 0   NaN    1   NaN    1   20       0\n",
    "# 1    90    1    47    0   40       1\n",
    "# 2    75  NaN   246  NaN   15       0\n",
    "# 3    60    1   315    1   60       0\n",
    "# 4    78    0   224    0   50       0\n",
    "# 5    48    1   NaN    1  NaN       1\n",
    "# 6    65    1   135    0   35       1\n",
    "# 7    73    0   582    0   35       1\n",
    "# 8    70    0  1202    0   50       1\n",
    "# 9    54    1   427    0   70       1\n",
    "# 10   68    1  1021    1   35       0\n",
    "# 11   55    0   NaN    1   35       1\n",
    "\n",
    "msno.matrix(df_raw)"
   ]
  },
  {
   "cell_type": "code",
   "execution_count": 172,
   "metadata": {},
   "outputs": [
    {
     "data": {
      "text/plain": [
       "<matplotlib.axes._subplots.AxesSubplot at 0x7ff92ac8b0d0>"
      ]
     },
     "execution_count": 172,
     "metadata": {},
     "output_type": "execute_result"
    },
    {
     "data": {
      "image/png": "[encoded data removed]",
      "text/plain": [
       "<Figure size 1728x720 with 3 Axes>"
      ]
     },
     "metadata": {
      "needs_background": "light"
     },
     "output_type": "display_data"
    }
   ],
   "source": [
    "msno.bar(df_raw)"
   ]
  },
  {
   "cell_type": "code",
   "execution_count": null,
   "metadata": {},
   "outputs": [],
   "source": [
    "def replace_mean(col):\n",
    "    return col.fillna(col.mean())\n",
    "\n",
    "def replace_mean(col):\n",
    "    return col.fillna(col.mean())"
   ]
  },
  {
   "cell_type": "code",
   "execution_count": null,
   "metadata": {},
   "outputs": [],
   "source": []
  },
  {
   "cell_type": "code",
   "execution_count": 180,
   "metadata": {},
   "outputs": [
    {
     "data": {
      "text/plain": [
       "[{'delta': -1.01319515173894,\n",
       "  'beta': -0.0648548698337719,\n",
       "  'gamma': 0.760927675576123},\n",
       " {'delta': -1.01319515173894,\n",
       "  'beta': -0.0648548698337719,\n",
       "  'gamma': -0.7609276755761716}]"
      ]
     },
     "execution_count": 180,
     "metadata": {},
     "output_type": "execute_result"
    }
   ],
   "source": [
    "output = [(-1.01319515173894, -0.0648548698337719, 0.760927675576123), \n",
    "(-1.01319515173894, -0.0648548698337719, 11.8054429387830)]\n",
    "\n",
    "fix_interval = [[remainder(j, tau) for j in i] for i in output]\n",
    "\n",
    "dict_output = [{'delta':i,'beta':j,'gamma':k} for i,j,k in fix_interval]\n",
    "dict_output"
   ]
  },
  {
   "cell_type": "code",
   "execution_count": 177,
   "metadata": {},
   "outputs": [],
   "source": [
    "from math import remainder, tau"
   ]
  },
  {
   "cell_type": "code",
   "execution_count": 179,
   "metadata": {},
   "outputs": [
    {
     "data": {
      "text/plain": [
       "-0.7609276755761716"
      ]
     },
     "execution_count": 179,
     "metadata": {},
     "output_type": "execute_result"
    }
   ],
   "source": []
  },
  {
   "cell_type": "code",
   "execution_count": null,
   "metadata": {},
   "outputs": [],
   "source": []
  }
 ],
 "metadata": {
  "kernelspec": {
   "display_name": "Python 3",
   "language": "python",
   "name": "python3"
  },
  "language_info": {
   "codemirror_mode": {
    "name": "ipython",
    "version": 3
   },
   "file_extension": ".py",
   "mimetype": "text/x-python",
   "name": "python",
   "nbconvert_exporter": "python",
   "pygments_lexer": "ipython3",
   "version": "3.8.3"
  }
 },
 "nbformat": 4,
 "nbformat_minor": 4
}
