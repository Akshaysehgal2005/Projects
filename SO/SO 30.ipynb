{
 "cells": [
  {
   "cell_type": "code",
   "execution_count": null,
   "id": "cd2f34f6",
   "metadata": {},
   "outputs": [],
   "source": [
    "import pandas as pd\n",
    "data = {'Name': ['Tom', 'nick', 'krish', 'jack','bob'],\n",
    "        'level_1': [2, -3, 7, -4,-2],\n",
    "        'level_2': [6, 5, -3, -9,2],\n",
    "        'level_3': [-2, -1, 4, 6,-4],\n",
    "        }\n",
    "\n",
    "df = pd.DataFrame(data)\n",
    "\n",
    "print(df)"
   ]
  },
  {
   "cell_type": "code",
   "execution_count": null,
   "id": "b8104e60",
   "metadata": {},
   "outputs": [],
   "source": [
    "df = df.set_index('Name')\n",
    "\n",
    "c1 = (df.level_1 < 0) & (df.level_2 < 0)\n",
    "v1 = df.level_1 + df.level_2\n",
    "c2 = (df.level_1 > 0) & (df.level_2 > 0)\n",
    "v2 = df.level_1 - df.level_2\n",
    "v3 = df.max(1)\n",
    "\n",
    "df['val'] = np.select([c1, c2], [v1, v2], default=v3)\n",
    "df = df.reset_index()\n",
    "\n",
    "print(df)\n",
    "\n",
    "    Name  level_1  level_2  level_3  val\n",
    "0    Tom        2        6       -2   -4\n",
    "1   nick       -3        5       -1    5\n",
    "2  krish        7       -3        4    7\n",
    "3   jack       -4       -9        6  -13\n",
    "4    bob       -2        2       -4    2"
   ]
  },
  {
   "cell_type": "code",
   "execution_count": null,
   "id": "7bdb7bc6",
   "metadata": {},
   "outputs": [],
   "source": [
    "#Your code modified\n",
    "def f(row):\n",
    "    if (row['level_1'] < 0) & (row['level_2'] < 0):\n",
    "        val = row['level_1'] + row['level_2']\n",
    "    elif (row['level_1'] > 0) & (row['level_2'] > 0):\n",
    "        val = row['level_1'] - row['level_2']\n",
    "    else:\n",
    "        val = row[['level_1','level_2','level_3']].max(1)\n",
    "    return val\n",
    "\n",
    "df['level_final'] = df.apply(f, axis=1)\n",
    "print(df)"
   ]
  },
  {
   "cell_type": "code",
   "execution_count": null,
   "id": "3beb5c34",
   "metadata": {},
   "outputs": [],
   "source": [
    "print(df)"
   ]
  },
  {
   "cell_type": "code",
   "execution_count": null,
   "id": "52039b89",
   "metadata": {},
   "outputs": [],
   "source": [
    "print(df)"
   ]
  },
  {
   "cell_type": "code",
   "execution_count": null,
   "id": "96a40bae",
   "metadata": {},
   "outputs": [],
   "source": []
  },
  {
   "cell_type": "code",
   "execution_count": null,
   "id": "bdfdfaf5",
   "metadata": {},
   "outputs": [],
   "source": [
    "np.select([df.a > 0 , df.b > 0], [df.a, df.b], default=df.c)"
   ]
  },
  {
   "cell_type": "code",
   "execution_count": null,
   "id": "0acdd582",
   "metadata": {},
   "outputs": [],
   "source": [
    "import numpy as np"
   ]
  },
  {
   "cell_type": "code",
   "execution_count": null,
   "id": "221ff788",
   "metadata": {},
   "outputs": [],
   "source": []
  },
  {
   "cell_type": "code",
   "execution_count": null,
   "id": "09ee40cb",
   "metadata": {},
   "outputs": [],
   "source": []
  },
  {
   "cell_type": "code",
   "execution_count": null,
   "id": "e35baa1a",
   "metadata": {},
   "outputs": [],
   "source": []
  },
  {
   "cell_type": "code",
   "execution_count": null,
   "id": "4251b725",
   "metadata": {},
   "outputs": [],
   "source": []
  },
  {
   "cell_type": "code",
   "execution_count": null,
   "id": "85656ce6",
   "metadata": {},
   "outputs": [],
   "source": []
  },
  {
   "cell_type": "code",
   "execution_count": null,
   "id": "2aab6405",
   "metadata": {},
   "outputs": [],
   "source": []
  },
  {
   "cell_type": "code",
   "execution_count": null,
   "id": "211c1393",
   "metadata": {
    "scrolled": true
   },
   "outputs": [],
   "source": [
    "df['val'] = df.max(1)"
   ]
  },
  {
   "cell_type": "code",
   "execution_count": null,
   "id": "aca64846",
   "metadata": {},
   "outputs": [],
   "source": [
    "df['level_1'] + df['level_2']\n",
    "df['level_1'] - df['level_2']"
   ]
  },
  {
   "cell_type": "code",
   "execution_count": null,
   "id": "a29f1624",
   "metadata": {},
   "outputs": [],
   "source": []
  },
  {
   "cell_type": "code",
   "execution_count": null,
   "id": "8e4f994a",
   "metadata": {},
   "outputs": [],
   "source": []
  },
  {
   "cell_type": "code",
   "execution_count": null,
   "id": "9c9cbd70",
   "metadata": {},
   "outputs": [],
   "source": [
    "\n",
    "def f(row):\n",
    "    if (row['level_1'] < 0) & (row['level_2'] < 0):\n",
    "        \n",
    "        val = row['level_1'] + row['level_2']\n",
    "    elif (row['level_1'] > 0) & (row['level_2'] > 0):\n",
    "\n",
    "        val = row['level_1'] - row['level_2']\n",
    "\n",
    "    else:\n",
    "        val = row[['level_1','level_2','level_3']].max#(axis=1)\n",
    "\n",
    "    return val\n",
    "\n",
    "df['level_final'] = df.apply(f, axis=1)\n",
    "\n",
    "print(40*'#')\n",
    "\n",
    "print(df)"
   ]
  },
  {
   "cell_type": "code",
   "execution_count": null,
   "id": "361d9549",
   "metadata": {},
   "outputs": [],
   "source": []
  },
  {
   "cell_type": "code",
   "execution_count": null,
   "id": "26c2c112",
   "metadata": {},
   "outputs": [],
   "source": [
    "arr = np.array([[0, 0, 0, 1, 0, 0],\n",
    "                [0, 1, 1, 1, 1, 1],\n",
    "                [1, 0, 0, 1, 0, 0],\n",
    "                [1, 0, 0, 0, 0, 0],\n",
    "                [0, 0, 0, 1, 0, 0],\n",
    "                [0, 0, 0, 0, 0, 0]])\n",
    "arr"
   ]
  },
  {
   "cell_type": "code",
   "execution_count": null,
   "id": "5419fd63",
   "metadata": {},
   "outputs": [],
   "source": [
    "np.ones((6,6))"
   ]
  },
  {
   "cell_type": "code",
   "execution_count": null,
   "id": "827d6fea",
   "metadata": {},
   "outputs": [],
   "source": [
    "def generate_kernel(n):\n",
    "    k = np.ones((n, n))\n",
    "    k[::n-1, ::n-1].fill(0)\n",
    "    return k"
   ]
  },
  {
   "cell_type": "code",
   "execution_count": null,
   "id": "db30d545",
   "metadata": {},
   "outputs": [],
   "source": [
    "generate_kernel(4)"
   ]
  },
  {
   "cell_type": "code",
   "execution_count": null,
   "id": "7cb3a64a",
   "metadata": {},
   "outputs": [],
   "source": [
    "from scipy.signal import convolve2d"
   ]
  },
  {
   "cell_type": "code",
   "execution_count": null,
   "id": "c316da1e",
   "metadata": {},
   "outputs": [],
   "source": [
    "for i in reversed(range(2,arr.shape[0])):\n",
    "    k = generate_kernel(i)\n",
    "    print(convolve2d(arr, k) == k.sum())\n",
    "    print('')"
   ]
  },
  {
   "cell_type": "code",
   "execution_count": null,
   "id": "ae39649e",
   "metadata": {},
   "outputs": [],
   "source": [
    "arr = np.array([[0, 0, 0, 0, 0, 0, 0, 0],\n",
    "                [0, 0, 1, 1, 1, 0, 0, 0],\n",
    "                [0, 1, 1, 1, 1, 1, 0, 0],\n",
    "                [0, 1, 1, 1, 1, 1, 0, 0],\n",
    "                [0, 1, 1, 1, 1, 1, 0, 0],\n",
    "                [0, 0, 1, 1, 1, 0, 0, 0],\n",
    "                [0, 0, 0, 0, 0, 0, 0, 0],\n",
    "                [0, 0, 0, 0, 0, 0, 0, 0]])"
   ]
  },
  {
   "cell_type": "code",
   "execution_count": null,
   "id": "c0781655",
   "metadata": {},
   "outputs": [],
   "source": [
    "np.zeros((8,8)).astype(int)\n",
    "\n"
   ]
  },
  {
   "cell_type": "code",
   "execution_count": null,
   "id": "b172ea45",
   "metadata": {},
   "outputs": [],
   "source": []
  },
  {
   "cell_type": "code",
   "execution_count": null,
   "id": "a2e81d39",
   "metadata": {},
   "outputs": [],
   "source": [
    "import numpy as np                               #Library for matrix manipulation\n",
    "from scipy.signal import convolve2d              #Vectorized implementation of Conv2d\n",
    "\n",
    "def generate_filter(n):                          #Generate relevant filter for convolution\n",
    "    \"\"\"\n",
    "    NOTE: THIS FUNCTION CAN BE MODIFIED TO GENERATE \n",
    "    16 POSSIBLE PATTERNS FOR EACH FILTER\n",
    "    \"\"\"\n",
    "    f = np.ones((n, n))                          #nxn matrix with ones\n",
    "    f[::n-1, ::n-1].fill(0)                      #change corners to 0s\n",
    "    return f\n",
    "\n",
    "def get_maximal_sq(arr):\n",
    "    \n",
    "    for s in reversed(range(3,arr.shape[0])):    #reverse iterate over size of matrix to 3\n",
    "        f = generate_filter(s)                   #generate filter for that size\n",
    "        conv = convolve2d(arr, f, mode='same')   #2D convolve the filter over the array\n",
    "        check = (conv == f.sum())                #Check if any value in conv == sum of 1s in filter\n",
    "        if check.any():                          #If match that means that the filter pattern exists\n",
    "            break                                #Then BREAK\n",
    "\n",
    "    c1,c2 = np.where(check)                      #Get x, y coordinates of that \"center\" location\n",
    "    \n",
    "    #print(f'centered at: ({int(c1), int(c2)})') #print first found location of filter matching\n",
    "    \n",
    "    if f.shape[0]%2==0:                          #If filter shape even, get tl, br coords\n",
    "        i1, j1 = int(c1-s//2), int(c2-s//2)      # \"s\" is the shape of the filter generated\n",
    "        i2, j2 = int(c1+s//2-1), int(c2+s//2-1)\n",
    "        idx = (i1,j1),(i2,j2)\n",
    "    else:                                        #Else if odd shape, get tl, br coords\n",
    "        i1, j1 = int(c1-s//2), int(c2-s//2)\n",
    "        i2, j2 = int(c1+s//2), int(c2+s//2)\n",
    "        idx = (i1,j1),(i2,j2)\n",
    "    \n",
    "    return idx"
   ]
  },
  {
   "cell_type": "code",
   "execution_count": null,
   "id": "e1e12473",
   "metadata": {},
   "outputs": [],
   "source": [
    "#(0,2), (3,5)\n",
    "arr1 = np.array([[0, 0, 0, 1, 1, 0],\n",
    "                 [0, 1, 1, 1, 1, 1],\n",
    "                 [1, 0, 1, 1, 1, 1],\n",
    "                 [1, 0, 0, 1, 1, 0],\n",
    "                 [0, 0, 0, 1, 0, 0],\n",
    "                 [0, 0, 0, 0, 0, 0]])\n",
    "\n",
    "\n",
    "#(0,2), (2,4)\n",
    "arr2 = np.array([[0, 0, 0, 1, 0, 0],\n",
    "                 [0, 1, 1, 1, 1, 1],\n",
    "                 [1, 0, 0, 1, 0, 0],\n",
    "                 [1, 0, 0, 0, 0, 0],\n",
    "                 [0, 0, 0, 1, 0, 0],\n",
    "                 [0, 0, 0, 0, 0, 0]])\n",
    "\n",
    "\n",
    "#(1,1), (5,5)\n",
    "arr3 = np.array([[0, 0, 0, 0, 0, 0, 0, 0],\n",
    "                 [0, 0, 1, 1, 1, 0, 0, 0],\n",
    "                 [0, 1, 1, 1, 1, 1, 0, 0],\n",
    "                 [0, 1, 1, 1, 1, 1, 0, 0],\n",
    "                 [0, 1, 1, 1, 1, 1, 0, 0],\n",
    "                 [0, 0, 1, 1, 1, 0, 0, 0],\n",
    "                 [0, 0, 0, 0, 0, 0, 0, 0],\n",
    "                 [0, 0, 0, 0, 0, 0, 0, 0]])\n",
    "\n",
    "print(get_maximal_sq(arr1))\n",
    "print(get_maximal_sq(arr2))\n",
    "print(get_maximal_sq(arr3))"
   ]
  },
  {
   "cell_type": "code",
   "execution_count": null,
   "id": "cf46855e",
   "metadata": {},
   "outputs": [],
   "source": [
    "def generate_example():\n",
    "    s = np.random.randint(3,10)\n",
    "    xpad1, xpad2 = np.random.randint(0,10), np.random.randint(0,10)\n",
    "    ypad1, ypad2 = np.random.randint(0,10), np.random.randint(0,10)\n",
    "    base = np.pad(generate_filter(s), ((xpad1, xpad2), (ypad1, ypad2)))\n",
    "    return base\n",
    "\n",
    "arr = generate_example()\n",
    "print(arr)\n",
    "\n",
    "print('')\n",
    "out = get_maximal_sq(arr)\n",
    "print(out)"
   ]
  },
  {
   "cell_type": "code",
   "execution_count": null,
   "id": "df53130c",
   "metadata": {},
   "outputs": [],
   "source": [
    "l = [np.random.randint(0,5,(5,5)) for i in range(4)] # 4 5x5 numpy arrays\n",
    "\n",
    "output = np.stack(l,-1)  #<-----\n",
    "output.shape"
   ]
  },
  {
   "cell_type": "code",
   "execution_count": null,
   "id": "5098690d",
   "metadata": {},
   "outputs": [],
   "source": [
    "arr = np.stack(l) #shape 4,5,5\n",
    "output1 = arr.transpose(2,1,0)\n",
    "output1.shape"
   ]
  },
  {
   "cell_type": "code",
   "execution_count": null,
   "id": "68ecc6e0",
   "metadata": {},
   "outputs": [],
   "source": [
    "(output == output1).all()"
   ]
  },
  {
   "cell_type": "code",
   "execution_count": null,
   "id": "adc57702",
   "metadata": {},
   "outputs": [],
   "source": []
  },
  {
   "cell_type": "code",
   "execution_count": null,
   "id": "392ed218",
   "metadata": {},
   "outputs": [],
   "source": [
    "import pandas as pd\n",
    "\n",
    "stats = {'strength':[100, 20, 70, 50, 10],\n",
    "         'stamina':[100, 80, 20, 90, 10],\n",
    "         'speed':[100, 20, 50, 20, 10]}\n",
    "\n",
    "df = pd.DataFrame(stats, index = [\"Rick\",\"Morty\",\"Beth\",\"Summer\",\"Jerry\"])\n",
    "print(df)"
   ]
  },
  {
   "cell_type": "code",
   "execution_count": null,
   "id": "cf326f5b",
   "metadata": {},
   "outputs": [],
   "source": [
    "def f(row):\n",
    "    if (row.stamina > row.speed):\n",
    "        val = row.strength + row.stamina\n",
    "    elif (row.stamina < row.speed):\n",
    "        val = row.strength + row.speed\n",
    "    else:\n",
    "        val = 2 * max(row.strength, row.stamina, row.speed)\n",
    "    return val\n",
    "\n",
    "df['scores'] = df.apply(f,1)\n",
    "print(df)"
   ]
  },
  {
   "cell_type": "code",
   "execution_count": null,
   "id": "2adeb7ec",
   "metadata": {},
   "outputs": [],
   "source": [
    "import numpy as np\n",
    "\n",
    "#Conditions\n",
    "c1 = df.stamina > df.speed\n",
    "c2 = df.stamina < df.speed\n",
    "\n",
    "#Values (ifs and elifs)\n",
    "v1 = df.strength + df.stamina\n",
    "v2 = df.strength + df.speed\n",
    "\n",
    "#Default (else)\n",
    "v3 = 2 * df.max(1)\n",
    "\n",
    "df['scores'] = np.select([c1, c2], [v1, v2], default=v3)\n",
    "print(df)"
   ]
  },
  {
   "cell_type": "code",
   "execution_count": null,
   "id": "a92e82b3",
   "metadata": {},
   "outputs": [],
   "source": [
    "df_large = pd.concat([df]*10000)"
   ]
  },
  {
   "cell_type": "code",
   "execution_count": null,
   "id": "ce438beb",
   "metadata": {},
   "outputs": [],
   "source": [
    "%%timeit\n",
    "\n",
    "def f(row):\n",
    "    if (row.stamina > row.speed):\n",
    "        val = row.strength + row.stamina\n",
    "    elif (row.stamina < row.speed):\n",
    "        val = row.strength + row.speed\n",
    "    else:\n",
    "        val = 2 * max(row.strength, row.stamina, row.speed)\n",
    "    return val\n",
    "\n",
    "df_large['scores'] = df_large.apply(f,1)"
   ]
  },
  {
   "cell_type": "code",
   "execution_count": null,
   "id": "90bca911",
   "metadata": {},
   "outputs": [],
   "source": [
    "%%timeit\n",
    "\n",
    "#Conditions\n",
    "c1 = df_large.stamina > df_large.speed\n",
    "c2 = df_large.stamina < df_large.speed\n",
    "\n",
    "#Values (ifs and elifs)\n",
    "v1 = df_large.strength + df_large.stamina\n",
    "v2 = df_large.strength + df_large.speed\n",
    "\n",
    "#Default (else)\n",
    "v3 = 2 * df_large.max(1)\n",
    "\n",
    "df_large['scores'] = np.select([c1, c2], [v1, v2], default=v3)"
   ]
  },
  {
   "cell_type": "code",
   "execution_count": null,
   "id": "0e9c2423",
   "metadata": {},
   "outputs": [],
   "source": []
  },
  {
   "cell_type": "code",
   "execution_count": null,
   "id": "5e488145",
   "metadata": {},
   "outputs": [],
   "source": []
  },
  {
   "cell_type": "code",
   "execution_count": null,
   "id": "47ed44fe",
   "metadata": {},
   "outputs": [],
   "source": []
  },
  {
   "cell_type": "code",
   "execution_count": null,
   "id": "29089fdc",
   "metadata": {},
   "outputs": [],
   "source": []
  },
  {
   "cell_type": "code",
   "execution_count": null,
   "id": "e7dd522a",
   "metadata": {},
   "outputs": [],
   "source": [
    "def f(row):\n",
    "    if (row.stamina > row.speed):\n",
    "        val = row.strength + row.stamina\n",
    "    elif (row.stamina < row.speed):\n",
    "        val = row.strength + row.speed\n",
    "    else:\n",
    "        val = 2 * max(row.strength, row.stamina, row.speed)\n",
    "    return val"
   ]
  },
  {
   "cell_type": "code",
   "execution_count": null,
   "id": "4a44f782",
   "metadata": {},
   "outputs": [],
   "source": [
    "def fx_apply_method(df):\n",
    "    df['scores'] = df.apply(f,1)\n",
    "    return df"
   ]
  },
  {
   "cell_type": "code",
   "execution_count": null,
   "id": "4e2d1472",
   "metadata": {},
   "outputs": [],
   "source": [
    "def np_select_method(df):\n",
    "    #Conditions\n",
    "    c1 = df.stamina > df.speed\n",
    "    c2 = df.stamina < df.speed\n",
    "\n",
    "    #Values (ifs and elifs)\n",
    "    v1 = df.strength + df.stamina\n",
    "    v2 = df.strength + df.speed\n",
    "\n",
    "    #Default (else)\n",
    "    v3 = 2 * df[['strength','stamina','speed']].max(1)\n",
    "\n",
    "    df['scores'] = np.select([c1, c2], [v1, v2], default=v3)\n",
    "    return df"
   ]
  },
  {
   "cell_type": "code",
   "execution_count": null,
   "id": "b1d0cbd2",
   "metadata": {},
   "outputs": [],
   "source": [
    "import pandas as pd\n",
    "\n",
    "stats = {'strength':[100, 20, 70, 50, 10],'stamina':[100, 80, 20, 90, 10],'speed':[100, 20, 50, 20, 10]}\n",
    "df = pd.DataFrame(stats, index = [\"Rick\",\"Morty\",\"Beth\",\"Summer\",\"Jerry\"])\n",
    "df"
   ]
  },
  {
   "cell_type": "code",
   "execution_count": null,
   "id": "8f84a6d1",
   "metadata": {},
   "outputs": [],
   "source": [
    "def create_df(n):\n",
    "    stats = {'strength':[100, 20, 70, 50, 10],'stamina':[100, 80, 20, 90, 10],'speed':[100, 20, 50, 20, 10]}\n",
    "    d = pd.DataFrame(stats, index = [\"Rick\",\"Morty\",\"Beth\",\"Summer\",\"Jerry\"])\n",
    "    return pd.concat([d]*n)"
   ]
  },
  {
   "cell_type": "code",
   "execution_count": null,
   "id": "c688a14d",
   "metadata": {},
   "outputs": [],
   "source": []
  },
  {
   "cell_type": "code",
   "execution_count": null,
   "id": "a535ac73",
   "metadata": {},
   "outputs": [],
   "source": []
  },
  {
   "cell_type": "code",
   "execution_count": null,
   "id": "fc304927",
   "metadata": {},
   "outputs": [],
   "source": []
  },
  {
   "cell_type": "code",
   "execution_count": null,
   "id": "41dd3681",
   "metadata": {},
   "outputs": [],
   "source": []
  },
  {
   "cell_type": "code",
   "execution_count": 7,
   "id": "2963b537",
   "metadata": {},
   "outputs": [
    {
     "name": "stdout",
     "output_type": "stream",
     "text": [
      "     name  age\n",
      "0    Rick   70\n",
      "1   Morty   14\n",
      "2    Beth   35\n",
      "3  Summer   17\n",
      "4   Jerry   35\n"
     ]
    }
   ],
   "source": [
    "import pandas as pd\n",
    "\n",
    "df = pd.DataFrame({\"name\": [\"Rick\",\"Morty\",\"Beth\",\"Summer\",\"Jerry\"], \n",
    "                   \"age\": [70, 14, 35, 17, 35]})\n",
    "print(df)\n",
    "\n",
    "     name  age\n",
    "0    Rick   70\n",
    "1   Morty   14\n",
    "2    Beth   35\n",
    "3  Summer   17\n",
    "4   Jerry   35"
   ]
  },
  {
   "cell_type": "code",
   "execution_count": 2,
   "id": "5f7d0596",
   "metadata": {},
   "outputs": [
    {
     "name": "stdout",
     "output_type": "stream",
     "text": [
      "     name  age    apply_age\n",
      "0    Rick   70      60+ yrs\n",
      "1   Morty   14   0 - 20 yrs\n",
      "2    Beth   35  20 - 40 yrs\n",
      "3  Summer   17   0 - 20 yrs\n",
      "4   Jerry   35  20 - 40 yrs\n"
     ]
    }
   ],
   "source": [
    "def age_group(row):\n",
    "    if row.age >= 0 and row.age < 20:\n",
    "        return '0 - 20 yrs'\n",
    "    elif row.age >= 20 and row.age < 40:\n",
    "        return '20 - 40 yrs'\n",
    "    elif row.age >= 40 and row.age < 60:\n",
    "        return '40 - 60 yrs'\n",
    "    elif row.age >= 60:\n",
    "        return '60+ yrs'\n",
    "    else:\n",
    "        return 'invalid age'\n",
    "    \n",
    "df['apply_age'] = df.apply(age_group,1)\n",
    "print(df)\n",
    "\n",
    "     name  age    apply_age\n",
    "0    Rick   70      60+ yrs\n",
    "1   Morty   14   0 - 20 yrs\n",
    "2    Beth   35  20 - 40 yrs\n",
    "3  Summer   17   0 - 20 yrs\n",
    "4   Jerry   35  20 - 40 yrs"
   ]
  },
  {
   "cell_type": "code",
   "execution_count": 4,
   "id": "536ef78b",
   "metadata": {},
   "outputs": [
    {
     "name": "stdout",
     "output_type": "stream",
     "text": [
      "     name  age   select_age\n",
      "0    Rick   70      60+ yrs\n",
      "1   Morty   14   0 - 20 yrs\n",
      "2    Beth   35  20 - 40 yrs\n",
      "3  Summer   17   0 - 20 yrs\n",
      "4   Jerry   35  20 - 40 yrs\n"
     ]
    }
   ],
   "source": [
    "import numpy as np\n",
    "\n",
    "#Conditions\n",
    "c1 = (df.age >= 0) & (df.age < 20)\n",
    "c2 = (df.age >= 20) & (df.age < 40)\n",
    "c3 = (df.age >= 40) & (df.age < 60)\n",
    "c4 = (df.age >= 60)\n",
    "\n",
    "#Values\n",
    "values = ['0 - 20 yrs', '20 - 40 yrs', '40 - 60 yrs', '60+ yrs']\n",
    "default = 'invalid age'\n",
    "\n",
    "df['select_age'] = np.select([c1,c2,c3,c4], values, default=default)\n",
    "print(df)"
   ]
  },
  {
   "cell_type": "code",
   "execution_count": 8,
   "id": "58bbdeca",
   "metadata": {},
   "outputs": [],
   "source": [
    "df = pd.concat([df]*10000)"
   ]
  },
  {
   "cell_type": "code",
   "execution_count": 6,
   "id": "5ea52dd4",
   "metadata": {},
   "outputs": [
    {
     "name": "stdout",
     "output_type": "stream",
     "text": [
      "539 ms ± 3.48 ms per loop (mean ± std. dev. of 7 runs, 1 loop each)\n"
     ]
    }
   ],
   "source": [
    "%%timeit\n",
    "\n",
    "def age_group(row):\n",
    "    if row.age >= 0 and row.age < 20:\n",
    "        return '0 - 20 yrs'\n",
    "    elif row.age >= 20 and row.age < 40:\n",
    "        return '20 - 40 yrs'\n",
    "    elif row.age >= 40 and row.age < 60:\n",
    "        return '40 - 60 yrs'\n",
    "    elif row.age >= 60:\n",
    "        return '60+ yrs'\n",
    "    else:\n",
    "        return 'invalid age'\n",
    "    \n",
    "df['apply_age'] = df.apply(age_group,1)"
   ]
  },
  {
   "cell_type": "code",
   "execution_count": 9,
   "id": "ac5829d8",
   "metadata": {},
   "outputs": [
    {
     "name": "stdout",
     "output_type": "stream",
     "text": [
      "3.84 ms ± 52.7 µs per loop (mean ± std. dev. of 7 runs, 100 loops each)\n"
     ]
    }
   ],
   "source": [
    "%%timeit\n",
    "\n",
    "#Conditions\n",
    "c1 = (df.age >= 0) & (df.age < 20)\n",
    "c2 = (df.age >= 20) & (df.age < 40)\n",
    "c3 = (df.age >= 40) & (df.age < 60)\n",
    "c4 = (df.age >= 60)\n",
    "\n",
    "#Values\n",
    "values = ['0 - 20 yrs', '20 - 40 yrs', '40 - 60 yrs', '60+ yrs']\n",
    "default = 'invalid age'\n",
    "\n",
    "df['select_age'] = np.select([c1,c2,c3,c4], values, default=default)"
   ]
  },
  {
   "cell_type": "code",
   "execution_count": null,
   "id": "cddca1e9",
   "metadata": {},
   "outputs": [],
   "source": []
  },
  {
   "cell_type": "code",
   "execution_count": 3,
   "id": "3ae483ea",
   "metadata": {},
   "outputs": [],
   "source": [
    "from collections import OrderedDict"
   ]
  },
  {
   "cell_type": "code",
   "execution_count": 4,
   "id": "70a8b6ac",
   "metadata": {},
   "outputs": [],
   "source": [
    "from torch import nn"
   ]
  },
  {
   "cell_type": "code",
   "execution_count": 5,
   "id": "a760c93f",
   "metadata": {},
   "outputs": [],
   "source": [
    "model = nn.Sequential(\n",
    "          nn.Conv2d(1,20,5),\n",
    "          nn.ReLU(),\n",
    "          nn.Conv2d(20,64,5),\n",
    "          nn.ReLU()\n",
    "        )\n",
    "\n",
    "# Using Sequential with OrderedDict. This is functionally the\n",
    "# same as the above code\n",
    "model = nn.Sequential(OrderedDict([\n",
    "          ('conv1', nn.Conv2d(1,20,5)),\n",
    "          ('relu1', nn.ReLU()),\n",
    "          ('conv2', nn.Conv2d(20,64,5)),\n",
    "          ('relu2', nn.ReLU())\n",
    "        ]))"
   ]
  },
  {
   "cell_type": "code",
   "execution_count": 6,
   "id": "97559c6c",
   "metadata": {},
   "outputs": [
    {
     "data": {
      "text/plain": [
       "Sequential(\n",
       "  (conv1): Conv2d(1, 20, kernel_size=(5, 5), stride=(1, 1))\n",
       "  (relu1): ReLU()\n",
       "  (conv2): Conv2d(20, 64, kernel_size=(5, 5), stride=(1, 1))\n",
       "  (relu2): ReLU()\n",
       ")"
      ]
     },
     "execution_count": 6,
     "metadata": {},
     "output_type": "execute_result"
    }
   ],
   "source": [
    "model."
   ]
  },
  {
   "cell_type": "code",
   "execution_count": null,
   "id": "a0c7d262",
   "metadata": {},
   "outputs": [],
   "source": []
  }
 ],
 "metadata": {
  "kernelspec": {
   "display_name": "graph_env",
   "language": "python",
   "name": "graph_env"
  },
  "language_info": {
   "codemirror_mode": {
    "name": "ipython",
    "version": 3
   },
   "file_extension": ".py",
   "mimetype": "text/x-python",
   "name": "python",
   "nbconvert_exporter": "python",
   "pygments_lexer": "ipython3",
   "version": "3.10.6"
  },
  "varInspector": {
   "cols": {
    "lenName": 16,
    "lenType": 16,
    "lenVar": 40
   },
   "kernels_config": {
    "python": {
     "delete_cmd_postfix": "",
     "delete_cmd_prefix": "del ",
     "library": "var_list.py",
     "varRefreshCmd": "print(var_dic_list())"
    },
    "r": {
     "delete_cmd_postfix": ") ",
     "delete_cmd_prefix": "rm(",
     "library": "var_list.r",
     "varRefreshCmd": "cat(var_dic_list()) "
    }
   },
   "types_to_exclude": [
    "module",
    "function",
    "builtin_function_or_method",
    "instance",
    "_Feature"
   ],
   "window_display": false
  }
 },
 "nbformat": 4,
 "nbformat_minor": 5
}
