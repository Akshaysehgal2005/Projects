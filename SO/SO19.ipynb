{
 "cells": [
  {
   "cell_type": "code",
   "execution_count": null,
   "metadata": {},
   "outputs": [],
   "source": [
    "Mouse = [['x1', 'y1'], ['x2', 'y2']]\n",
    "Target = [['xA', 'yA'], ['xB', 'yB']]\n",
    "\n",
    "out = [i+j for i,j in zip(Mouse, Target)]\n",
    "out\n",
    "\n",
    "[['x1', 'y1', 'xA', 'yA'], ['x2', 'y2', 'xB', 'yB']]"
   ]
  },
  {
   "cell_type": "code",
   "execution_count": null,
   "metadata": {},
   "outputs": [],
   "source": []
  },
  {
   "cell_type": "code",
   "execution_count": null,
   "metadata": {},
   "outputs": [],
   "source": []
  },
  {
   "cell_type": "code",
   "execution_count": null,
   "metadata": {},
   "outputs": [],
   "source": []
  },
  {
   "cell_type": "code",
   "execution_count": null,
   "metadata": {},
   "outputs": [],
   "source": []
  },
  {
   "cell_type": "code",
   "execution_count": null,
   "metadata": {},
   "outputs": [],
   "source": []
  },
  {
   "cell_type": "code",
   "execution_count": null,
   "metadata": {},
   "outputs": [],
   "source": [
    " Initialer  Start_uge  Start_dag Start_tid  End_uge  End_dag   End_tid\n",
    "0      MBAU         18          3  09:00:00       18        5  12:00:00\n",
    "1      MBAU         22          2  14:00:00       22        2  15:00:00\n",
    "2      MBAU         13          4  09:00:00       13        4  10:00:00\n",
    "3      AMPE         14          1  12:00:00       14        1  13:30:00\n",
    "4      AMPE         26          6  09:00:00       27        2  22:00:00"
   ]
  },
  {
   "cell_type": "code",
   "execution_count": null,
   "metadata": {},
   "outputs": [],
   "source": [
    "import pandas as pd"
   ]
  },
  {
   "cell_type": "code",
   "execution_count": null,
   "metadata": {},
   "outputs": [],
   "source": [
    "df = pd.read_clipboard()\n",
    "df"
   ]
  },
  {
   "cell_type": "code",
   "execution_count": null,
   "metadata": {},
   "outputs": [],
   "source": [
    "{'MBAU': [[(18, 3, 09:00:00), (18, 5, 12:00:00)],\n",
    "          [(22, 2, 14:00:00), (22, 2, 15:00:00)],\n",
    "          [(13, 4, 09:00:00), (13, 4, 10:00:00)]],\n",
    "\n",
    " 'AMPE': [[(14, 1, 12:00:00), (14, 1, 13;30:00)],\n",
    "          [(26, 6, 09:00:00), (27, 2, 22:00:00)]] }"
   ]
  },
  {
   "cell_type": "code",
   "execution_count": null,
   "metadata": {
    "scrolled": true
   },
   "outputs": [],
   "source": [
    "from collections import defaultdict\n",
    "\n",
    "d = defaultdict(list)\n",
    "\n",
    "for _,row in df.iterrows():\n",
    "    vals = row.tolist()\n",
    "    d[vals[0]].append([tuple(vals[1:4]),tuple(vals[4:])])\n",
    "    \n",
    "output = dict(d)\n",
    "output"
   ]
  },
  {
   "cell_type": "code",
   "execution_count": null,
   "metadata": {},
   "outputs": [],
   "source": []
  },
  {
   "cell_type": "code",
   "execution_count": null,
   "metadata": {},
   "outputs": [],
   "source": []
  },
  {
   "cell_type": "code",
   "execution_count": null,
   "metadata": {},
   "outputs": [],
   "source": []
  },
  {
   "cell_type": "code",
   "execution_count": null,
   "metadata": {},
   "outputs": [],
   "source": [
    "init = df['Initialer'].tolist()\n",
    "start_tuple = df[['Start_uge', 'Start_dag', 'Start_tid']].apply(tuple, axis=1)\n",
    "end_tuple = df[['End_uge', 'End_dag', 'End_tid']].apply(tuple, axis=1)\n",
    "\n",
    "items = zip(init, start_tuple, end_tuple)\n",
    "\n",
    "d = defaultdict(list)\n",
    "\n",
    "for i,j,k in items:\n",
    "    d[i].append([j,k])\n",
    "\n",
    "output = dict(d)\n",
    "output"
   ]
  },
  {
   "cell_type": "code",
   "execution_count": null,
   "metadata": {},
   "outputs": [],
   "source": [
    "start_tuple = df[['Initialer','Start_uge', 'Start_dag', 'Start_tid']].apply(tuple, axis=1)\n",
    "start_dict = {k:[] for k in df.Initialer.unique()}\n",
    "[start_dict[initialer].append((x,y,z)) for initialer, x, y, z in start_tuple]\n",
    "print(start_dict)\n",
    "[None, None, None, None, None]\n",
    "\n",
    "{'MBAU': [(18, 3, '09:00:00'), (22, 2, '14:00:00'), (13, 4, '09:00:00')], 'AMPE': [(14, 1, '12:00:00'), (26, 6, '09:00:00')]}"
   ]
  },
  {
   "cell_type": "code",
   "execution_count": null,
   "metadata": {},
   "outputs": [],
   "source": []
  },
  {
   "cell_type": "code",
   "execution_count": null,
   "metadata": {},
   "outputs": [],
   "source": []
  },
  {
   "cell_type": "code",
   "execution_count": null,
   "metadata": {},
   "outputs": [],
   "source": [
    "grouper = df.groupby('Initialer').apply(lambda x: [x.tolist()[1:4],x.tolist()[4:]])"
   ]
  },
  {
   "cell_type": "code",
   "execution_count": null,
   "metadata": {},
   "outputs": [],
   "source": [
    "grouper"
   ]
  },
  {
   "cell_type": "code",
   "execution_count": null,
   "metadata": {},
   "outputs": [],
   "source": [
    "df.columns[1:]"
   ]
  },
  {
   "cell_type": "code",
   "execution_count": null,
   "metadata": {},
   "outputs": [],
   "source": []
  },
  {
   "cell_type": "code",
   "execution_count": null,
   "metadata": {},
   "outputs": [],
   "source": []
  },
  {
   "cell_type": "code",
   "execution_count": null,
   "metadata": {},
   "outputs": [],
   "source": []
  },
  {
   "cell_type": "code",
   "execution_count": null,
   "metadata": {},
   "outputs": [],
   "source": [
    "arr = [[ '0', 'A', 'M', 'P', '0', '0', 'a', '0', '0', '0'],\n",
    "       [ '0', 'H', '0', 'Q', '0', '0', 't', '0', '0', '0'],\n",
    "       [ 'q', 'C', 'M', 'P', 'r', '0', '0', '0', 'w', 'i'],\n",
    "       [ '0', 'H', '0', 'P', '0', 't', 'h', '0', '0', '0'],\n",
    "       [ '0', 'C', 'M', 'Q', 'r', '0', '0', '0', 'r', 'p']]"
   ]
  },
  {
   "cell_type": "code",
   "execution_count": null,
   "metadata": {},
   "outputs": [],
   "source": [
    "max(lst,key=lst.count)"
   ]
  },
  {
   "cell_type": "code",
   "execution_count": null,
   "metadata": {},
   "outputs": [],
   "source": [
    "items = [max(i,key=list(map(lambda x: x if x.isalpha() else None, i)).count) for i in zip(*arr)]# if j.isalpha()]\n",
    "items"
   ]
  },
  {
   "cell_type": "code",
   "execution_count": null,
   "metadata": {},
   "outputs": [],
   "source": [
    "items = [list(filter(lambda x: x.isalpha(), i)) for i in zip(*arr)]# if j.isalpha()]\n",
    "items"
   ]
  },
  {
   "cell_type": "code",
   "execution_count": null,
   "metadata": {},
   "outputs": [],
   "source": [
    "arr = [[ '0', 'A', 'M', 'P', '0', '0', 'a', '0', '0', '0'],\n",
    "       [ '0', 'H', '0', 'Q', '0', '0', 't', '0', '0', '0'],\n",
    "       [ 'q', 'C', 'M', 'P', 'r', '0', '0', '0', 'w', 'i'],\n",
    "       [ '0', 'H', '0', 'P', '0', 't', 'h', '0', '0', '0'],\n",
    "       [ '0', 'C', 'M', 'Q', 'r', '0', '0', '0', 'r', 'p']]\n",
    "\n",
    "\n",
    "import numpy as np\n",
    "arr = np.array(arr).T"
   ]
  },
  {
   "cell_type": "code",
   "execution_count": null,
   "metadata": {},
   "outputs": [],
   "source": [
    "np.array(map(str.isalpha, arr))"
   ]
  },
  {
   "cell_type": "code",
   "execution_count": null,
   "metadata": {},
   "outputs": [],
   "source": [
    "np.where(np.vectorize(str.isalpha)(arr),arr, None)"
   ]
  },
  {
   "cell_type": "code",
   "execution_count": null,
   "metadata": {},
   "outputs": [],
   "source": [
    "f = np.vectorize(str.isalpha)"
   ]
  },
  {
   "cell_type": "code",
   "execution_count": null,
   "metadata": {},
   "outputs": [],
   "source": [
    "np.unique(arr, return_counts=True, axis=1)"
   ]
  },
  {
   "cell_type": "code",
   "execution_count": null,
   "metadata": {},
   "outputs": [],
   "source": []
  },
  {
   "cell_type": "code",
   "execution_count": null,
   "metadata": {},
   "outputs": [],
   "source": []
  },
  {
   "cell_type": "code",
   "execution_count": null,
   "metadata": {},
   "outputs": [],
   "source": []
  },
  {
   "cell_type": "code",
   "execution_count": null,
   "metadata": {},
   "outputs": [],
   "source": []
  },
  {
   "cell_type": "code",
   "execution_count": null,
   "metadata": {},
   "outputs": [],
   "source": [
    "df = pd.read_clipboard()"
   ]
  },
  {
   "cell_type": "code",
   "execution_count": null,
   "metadata": {},
   "outputs": [],
   "source": [
    "df[df.loc[::-1, 'col'].isna().cumsum()[::-1]==0]"
   ]
  },
  {
   "cell_type": "code",
   "execution_count": null,
   "metadata": {},
   "outputs": [],
   "source": [
    "   col\n",
    "0  1.0\n",
    "1  2.0\n",
    "2  NaN\n",
    "3  NaN\n",
    "4  3.0\n",
    "5  NaN\n",
    "6  4.0\n",
    "7  5.0\n",
    "8  NaN"
   ]
  },
  {
   "cell_type": "code",
   "execution_count": null,
   "metadata": {},
   "outputs": [],
   "source": [
    "df = pd.DataFrame([1,0,0,2,2,1,3,4,4,3], columns=['col'])\n",
    "\n",
    "grouper = df.groupby('col')"
   ]
  },
  {
   "cell_type": "code",
   "execution_count": null,
   "metadata": {},
   "outputs": [],
   "source": [
    "[tuple(i) for i in grouper.indices.values()]"
   ]
  },
  {
   "cell_type": "code",
   "execution_count": null,
   "metadata": {},
   "outputs": [],
   "source": []
  },
  {
   "cell_type": "code",
   "execution_count": null,
   "metadata": {},
   "outputs": [],
   "source": []
  },
  {
   "cell_type": "code",
   "execution_count": null,
   "metadata": {},
   "outputs": [],
   "source": []
  },
  {
   "cell_type": "code",
   "execution_count": null,
   "metadata": {},
   "outputs": [],
   "source": []
  },
  {
   "cell_type": "code",
   "execution_count": null,
   "metadata": {},
   "outputs": [],
   "source": [
    "import pandas as pd\n",
    "# load data\n",
    "training_data = pd.read_csv(\"https://numerai-public-datasets.s3-us-west-2.amazonaws.com/latest_numerai_training_data.csv.xz\")\n",
    "tournament_data = pd.read_csv(\"https://numerai-public-datasets.s3-us-west-2.amazonaws.com/latest_numerai_tournament_data.csv.xz\")\n",
    "\n",
    "feature_cols = training_data.columns[training_data.columns.str.startswith('feature')]\n",
    "# select those columns out of the training dataset\n",
    "X_train = training_data[feature_cols].to_numpy()\n",
    "# select target variables\n",
    "y_train = training_data.loc[:,'target'].to_numpy()\n",
    "\n",
    "#same thing on validation data\n",
    "val_data = tournament_data[tournament_data.data_type=='validation']\n",
    "X_val = val_data[feature_cols]\n",
    "y_val= val_data.loc[:,'target']"
   ]
  },
  {
   "cell_type": "code",
   "execution_count": null,
   "metadata": {},
   "outputs": [],
   "source": [
    "training_data.head()"
   ]
  },
  {
   "cell_type": "code",
   "execution_count": null,
   "metadata": {},
   "outputs": [],
   "source": [
    "training_data.shape"
   ]
  },
  {
   "cell_type": "code",
   "execution_count": null,
   "metadata": {},
   "outputs": [],
   "source": [
    "feature_cols = training_data.columns[training_data.columns.str.startswith('feature')]\n",
    "# select those columns out of the training dataset\n",
    "X_train = training_data[feature_cols].to_numpy()\n",
    "# select target variables\n",
    "y_train = training_data.loc[:,'target'].to_numpy()"
   ]
  },
  {
   "cell_type": "code",
   "execution_count": null,
   "metadata": {},
   "outputs": [],
   "source": [
    "from tensorflow.keras import models, layers\n",
    "\n",
    "dropout_rate = 0.50\n",
    "\n",
    "model = models.Sequential()\n",
    "model.add(layers.Dense(512, input_shape=(X_train.shape[1],)))\n",
    "model.add(layers.BatchNormalization())\n",
    "model.add(layers.Dropout(dropout_rate))\n",
    "\n",
    "model.add(layers.Dense(1024, activation = 'relu'))\n",
    "model.add(layers.BatchNormalization())\n",
    "model.add(layers.Dropout(dropout_rate))\n",
    "\n",
    "model.add(layers.Dense(1, activation='relu'))\n",
    "\n",
    "model.compile(optimizer='adam',\n",
    "  loss='mse',metrics=['mae'])\n",
    "\n",
    "history = model.fit(X_train, y_train,\n",
    "          #validation_data=(X_val, y_val),\n",
    "          batch_size=512,\n",
    "          epochs=5,\n",
    "          verbose=1)\n",
    "\n",
    "# Prediction output\n",
    "predictions_df = model.predict(X_train)\n",
    "predictions_df = predictions_df.reshape(len(predictions_df))\n",
    "\n",
    "pred_max = predictions_df.max()\n",
    "pred_min = predictions_df.min()\n",
    "pred_range = pred_max - pred_min\n",
    "\n",
    "print(pred_max, pred_min, pred_range)\n",
    "0.73566914 0.1063129 0.62935627"
   ]
  },
  {
   "cell_type": "code",
   "execution_count": null,
   "metadata": {},
   "outputs": [],
   "source": [
    "# Prediction output\n",
    "predictions_df = model.predict(X_train)\n",
    "predictions_df = predictions_df.reshape(len(predictions_df))\n",
    "\n",
    "pred_max = predictions_df.max()\n",
    "pred_min = predictions_df.min()\n",
    "pred_range = pred_max - pred_min\n",
    "\n",
    "print(pred_max, pred_min, pred_range)\n",
    "# example output: 0.51895267 0.47968164 0.039271027"
   ]
  },
  {
   "cell_type": "code",
   "execution_count": null,
   "metadata": {},
   "outputs": [],
   "source": [
    "#Without regularization 0.7, 0.1\n",
    "#Without batchnorm 0.69, 0.23\n",
    "\n",
    "#Reducing neurons by half 0.67 0.35\n",
    "\n",
    "#Sigmoid 0.60 0.36\n",
    "#removing output relu 0.69, 0.29\n",
    "#relu 0.73 0.10"
   ]
  },
  {
   "cell_type": "code",
   "execution_count": null,
   "metadata": {},
   "outputs": [],
   "source": [
    "sigma_n = np.array([0.01, 0.1])\n",
    "\n",
    "ls = np.array([0.1, 0.2])\n",
    "\n",
    "for sigma_ni in sigma_n:\n",
    "    for ls_i in ls:\n",
    "        print(\"{},{}\".format(sigma_ni, ls_i))"
   ]
  },
  {
   "cell_type": "code",
   "execution_count": null,
   "metadata": {},
   "outputs": [],
   "source": [
    "from itertools import product\n",
    "\n",
    "items = product(sigma_n, ls)\n",
    "\n",
    "for i in items:\n",
    "    print(i)"
   ]
  },
  {
   "cell_type": "code",
   "execution_count": null,
   "metadata": {},
   "outputs": [],
   "source": [
    "items = product(sigma_n, ls)\n",
    "\n",
    "type(items)"
   ]
  },
  {
   "cell_type": "code",
   "execution_count": null,
   "metadata": {},
   "outputs": [],
   "source": [
    "type(product(range(1)))"
   ]
  },
  {
   "cell_type": "code",
   "execution_count": null,
   "metadata": {},
   "outputs": [],
   "source": []
  },
  {
   "cell_type": "code",
   "execution_count": null,
   "metadata": {},
   "outputs": [],
   "source": []
  },
  {
   "cell_type": "code",
   "execution_count": null,
   "metadata": {},
   "outputs": [],
   "source": []
  },
  {
   "cell_type": "code",
   "execution_count": null,
   "metadata": {},
   "outputs": [],
   "source": []
  },
  {
   "cell_type": "code",
   "execution_count": null,
   "metadata": {},
   "outputs": [],
   "source": []
  },
  {
   "cell_type": "code",
   "execution_count": null,
   "metadata": {},
   "outputs": [],
   "source": []
  },
  {
   "cell_type": "code",
   "execution_count": 40,
   "metadata": {},
   "outputs": [],
   "source": [
    "import numpy as np\n",
    "import tensorflow\n",
    "from tensorflow.keras import Sequential, losses, applications, utils\n",
    "from tensorflow.keras.layers import LSTM, Dense, Input"
   ]
  },
  {
   "cell_type": "code",
   "execution_count": 44,
   "metadata": {},
   "outputs": [
    {
     "name": "stdout",
     "output_type": "stream",
     "text": [
      "Model: \"sequential_11\"\n",
      "_________________________________________________________________\n",
      "Layer (type)                 Output Shape              Param #   \n",
      "=================================================================\n",
      "time_distributed_7 (TimeDist (None, None, 2)           12639938  \n",
      "_________________________________________________________________\n",
      "lstm_12 (LSTM)               (None, None, 512)         1054720   \n",
      "_________________________________________________________________\n",
      "lstm_13 (LSTM)               (None, 512)               2099200   \n",
      "_________________________________________________________________\n",
      "dense_6 (Dense)              (None, 2)                 1026      \n",
      "=================================================================\n",
      "Total params: 15,794,884\n",
      "Trainable params: 15,636,484\n",
      "Non-trainable params: 158,400\n",
      "_________________________________________________________________\n",
      "None\n"
     ]
    }
   ],
   "source": [
    "def create_cnn_lstm_model_f_api(input_shape):\n",
    "\n",
    "    model = Sequential()\n",
    "    cnn = tensorflow.keras.applications.DenseNet169(include_top=True, \n",
    "                                                    weights=None, \n",
    "                                                    input_tensor=None, \n",
    "                                                    input_shape=input_shape[1:], #<--------\n",
    "                                                    pooling=None, classes=2)\n",
    "    \n",
    "    # define LSTM model\n",
    "    \n",
    "    model.add(Input(input_shape, ragged=True))\n",
    "    \n",
    "    model.add(tensorflow.keras.layers.TimeDistributed(cnn))\n",
    "    \n",
    "    model.add(LSTM(units = 512, \n",
    "                   dropout=0.5, \n",
    "                   recurrent_dropout=0.3, \n",
    "                   return_sequences = True))\n",
    "    \n",
    "    model.add(LSTM(units = 512, \n",
    "                   dropout=0.5, \n",
    "                   recurrent_dropout=0.3, \n",
    "                   return_sequences = False))\n",
    "    \n",
    "    model.add(Dense(units=NUM_CLASSES, \n",
    "                    activation='sigmoid'))#Compile\n",
    "\n",
    "    model.compile(loss=tensorflow.keras.losses.binary_crossentropy, optimizer='adam', metrics=['accuracy'])\n",
    "    print(model.summary())\n",
    "\n",
    "    return model\n",
    "\n",
    "input_shape = (None, 128, 216, 1)\n",
    "NUM_CLASSES = 2\n",
    "\n",
    "model = create_cnn_lstm_model_f_api(input_shape)"
   ]
  },
  {
   "cell_type": "code",
   "execution_count": null,
   "metadata": {},
   "outputs": [],
   "source": []
  },
  {
   "cell_type": "code",
   "execution_count": null,
   "metadata": {},
   "outputs": [],
   "source": []
  },
  {
   "cell_type": "code",
   "execution_count": null,
   "metadata": {},
   "outputs": [],
   "source": []
  },
  {
   "cell_type": "code",
   "execution_count": 135,
   "metadata": {},
   "outputs": [],
   "source": [
    "import tensorflow as tf\n",
    "from tensorflow.keras import layers, Model, utils, applications"
   ]
  },
  {
   "cell_type": "code",
   "execution_count": 140,
   "metadata": {},
   "outputs": [],
   "source": [
    "def cnn_model(image):\n",
    "    \n",
    "    inp = layers.Input(image)\n",
    "    x = layers.Conv2D(8, 3)(inp)\n",
    "    x = layers.MaxPool2D(3)(x)\n",
    "    x = layers.Conv2D(16, 3)(x)\n",
    "    x = layers.MaxPool2D(3)(x)\n",
    "    x = layers.Conv2D(32, 3)(x)\n",
    "    x = layers.MaxPool2D(3)(x)\n",
    "    x = layers.Flatten()(x)\n",
    "    out = layers.Dense(2, activation='sigmoid')(x)\n",
    "    \n",
    "    model = Model(inp, out)\n",
    "    model.compile(loss='binary_crossentropy', \n",
    "                  optimizer='adam', \n",
    "                  metrics='accuracy')\n",
    "    \n",
    "    return model"
   ]
  },
  {
   "cell_type": "code",
   "execution_count": 148,
   "metadata": {},
   "outputs": [
    {
     "name": "stdout",
     "output_type": "stream",
     "text": [
      "[(5, 128, 216, 1), (5, 128, 216, 1), (9, 128, 216, 1), (6, 128, 216, 1), (4, 128, 216, 1)]\n"
     ]
    },
    {
     "data": {
      "image/png": "[encoded data removed]",
      "text/plain": [
       "<IPython.core.display.Image object>"
      ]
     },
     "execution_count": 148,
     "metadata": {},
     "output_type": "execute_result"
    }
   ],
   "source": [
    "import tensorflow as tf\n",
    "from tensorflow.keras import layers, Model, utils, applications\n",
    "\n",
    "num_audio = 5\n",
    "\n",
    "data = []\n",
    "\n",
    "for i in range(num_audio):\n",
    "    n_images = np.random.randint(4,10)\n",
    "    data.append(np.random.random((n_images,128,216,1)))\n",
    "    \n",
    "print([i.shape for i in data])\n",
    "\n",
    "#[(5, 128, 216, 1), (5, 128, 216, 1), (9, 128, 216, 1), (6, 128, 216, 1), (4, 128, 216, 1)]\n",
    "\n",
    "#Convert each set of images (for each audio) to tensors and then a ragged tensor\n",
    "tensors = [tensorflow.convert_to_tensor(i) for i in data]\n",
    "X_train = tensorflow.ragged.stack(tensors).to_tensor()\n",
    "\n",
    "y_train = tensorflow.convert_to_tensor(np.random.randint(0,2,(5,2)))\n",
    "\n",
    "\n",
    "#Create model\n",
    "inp = layers.Input((None,128,216,1), ragged=True)\n",
    "\n",
    "cnn = tensorflow.keras.applications.DenseNet169(include_top=True, \n",
    "                                                weights=None, \n",
    "                                                input_tensor=None, \n",
    "                                                input_shape=(128,216,1), #<--------\n",
    "                                                pooling=None, classes=2)\n",
    "\n",
    "\n",
    "x = layers.TimeDistributed(cnn)(inp)\n",
    "x = layers.LSTM(8)(x)\n",
    "out = layers.Dense(2)(x)\n",
    "\n",
    "model = Model(inp, out)\n",
    "model.compile(loss='binary_crossentropy', \n",
    "              optimizer='adam', \n",
    "              metrics='accuracy')\n",
    "\n",
    "utils.plot_model(model, show_shapes=True, show_layer_names=False)\n",
    "\n",
    "\n",
    "model.fit(X_train, y_train, epochs=2)\n",
    "\n",
    "\n",
    "Epoch 1/2\n",
    "WARNING:tensorflow:5 out of the last 5 calls to <function Model.make_train_function.<locals>.train_function at 0x7f8e55b4fe50> triggered tf.function retracing. Tracing is expensive and the excessive number of tracings could be due to (1) creating @tf.function repeatedly in a loop, (2) passing tensors with different shapes, (3) passing Python objects instead of tensors. For (1), please define your @tf.function outside of the loop. For (2), @tf.function has experimental_relax_shapes=True option that relaxes argument shapes that can avoid unnecessary retracing. For (3), please refer to https://www.tensorflow.org/guide/function#controlling_retracing and https://www.tensorflow.org/api_docs/python/tf/function for  more details.\n",
    "1/1 [==============================] - 37s 37s/step - loss: 3.4057 - accuracy: 0.4000\n",
    "Epoch 2/2\n",
    "1/1 [==============================] - 16s 16s/step - loss: 3.3544 - accuracy: 0.4000"
   ]
  },
  {
   "cell_type": "code",
   "execution_count": 150,
   "metadata": {
    "scrolled": true
   },
   "outputs": [
    {
     "data": {
      "text/plain": [
       "TensorShape([5, 9, 128, 216, 1])"
      ]
     },
     "execution_count": 150,
     "metadata": {},
     "output_type": "execute_result"
    }
   ],
   "source": [
    "X_train.shape"
   ]
  },
  {
   "cell_type": "code",
   "execution_count": 151,
   "metadata": {},
   "outputs": [
    {
     "data": {
      "image/png": "[encoded data removed]",
      "text/plain": [
       "<IPython.core.display.Image object>"
      ]
     },
     "execution_count": 151,
     "metadata": {},
     "output_type": "execute_result"
    }
   ],
   "source": [
    "utils.plot_model(model, show_shapes=True, show_layer_names=False, )"
   ]
  },
  {
   "cell_type": "code",
   "execution_count": null,
   "metadata": {},
   "outputs": [],
   "source": []
  },
  {
   "cell_type": "code",
   "execution_count": null,
   "metadata": {},
   "outputs": [],
   "source": []
  },
  {
   "cell_type": "code",
   "execution_count": null,
   "metadata": {},
   "outputs": [],
   "source": []
  },
  {
   "cell_type": "code",
   "execution_count": null,
   "metadata": {},
   "outputs": [],
   "source": []
  },
  {
   "cell_type": "code",
   "execution_count": null,
   "metadata": {},
   "outputs": [],
   "source": []
  },
  {
   "cell_type": "code",
   "execution_count": null,
   "metadata": {},
   "outputs": [],
   "source": []
  },
  {
   "cell_type": "code",
   "execution_count": null,
   "metadata": {},
   "outputs": [],
   "source": []
  },
  {
   "cell_type": "code",
   "execution_count": 120,
   "metadata": {},
   "outputs": [
    {
     "name": "stdout",
     "output_type": "stream",
     "text": [
      "[(4, 128, 216, 1), (4, 128, 216, 1), (4, 128, 216, 1), (7, 128, 216, 1), (6, 128, 216, 1)]\n"
     ]
    },
    {
     "data": {
      "image/png": "[encoded data removed]",
      "text/plain": [
       "<IPython.core.display.Image object>"
      ]
     },
     "execution_count": 120,
     "metadata": {},
     "output_type": "execute_result"
    }
   ],
   "source": [
    "import tensorflow as tf\n",
    "from tensorflow.keras import layers, Model, utils, applications\n",
    "\n",
    "#Creating dummy audio mel-spectrograms\n",
    "num_audio = 5\n",
    "\n",
    "data = []\n",
    "\n",
    "for i in range(num_audio):\n",
    "    n_images = np.random.randint(4,10)\n",
    "    data.append(np.random.random((n_images,128,216,1)))\n",
    "    \n",
    "print([i.shape for i in data])\n",
    "\n",
    "#[(5, 128, 216, 1), (6, 128, 216, 1), (7, 128, 216, 1), (8, 128, 216, 1), (6, 128, 216, 1)]\n",
    "\n",
    "#Convert each set of images (for each audio) to tensors and then a ragged tensor\n",
    "tensors = [tensorflow.convert_to_tensor(i) for i in data]\n",
    "X_train = tensorflow.ragged.stack(tensors)\n",
    "\n",
    "y_train = tensorflow.convert_to_tensor(np.random.randint(0,2,(5,2)))\n",
    "\n",
    "#Build Model\n",
    "inp = layers.Input((None,128,216,1), ragged=True)\n",
    "\n",
    "# cnn = tensorflow.keras.applications.DenseNet169(include_top=True, \n",
    "#                                                 weights=None, \n",
    "#                                                 input_tensor=None, \n",
    "#                                                 input_shape=(128,216,1), #<--------\n",
    "#                                                 pooling=None, classes=2)\n",
    "\n",
    "\n",
    "\n",
    "x = layers.TimeDistributed(cnn)(inp)\n",
    "x = layers.LSTM(512, dropout=0.5, recurrent_dropout=0.3, return_sequences = True)(x)\n",
    "x = layers.LSTM(512, dropout=0.5, recurrent_dropout=0.3, return_sequences = False)(x)\n",
    "out = layers.Dense(2, activation='sigmoid')(x)\n",
    "\n",
    "model = Model(inp, out)\n",
    "model.compile(loss='binary_crossentropy', \n",
    "              optimizer='adam', \n",
    "              metrics='accuracy')\n",
    "\n",
    "utils.plot_model(model, show_shapes=True, show_layer_names=False)"
   ]
  },
  {
   "cell_type": "code",
   "execution_count": 121,
   "metadata": {},
   "outputs": [
    {
     "ename": "TypeError",
     "evalue": "in user code:\n\n    /Users/akshay/opt/anaconda3/lib/python3.8/site-packages/tensorflow/python/keras/engine/training.py:805 train_function  *\n        return step_function(self, iterator)\n    /Users/akshay/opt/anaconda3/lib/python3.8/site-packages/tensorflow/python/keras/engine/training.py:795 step_function  **\n        outputs = model.distribute_strategy.run(run_step, args=(data,))\n    /Users/akshay/opt/anaconda3/lib/python3.8/site-packages/tensorflow/python/distribute/distribute_lib.py:1259 run\n        return self._extended.call_for_each_replica(fn, args=args, kwargs=kwargs)\n    /Users/akshay/opt/anaconda3/lib/python3.8/site-packages/tensorflow/python/distribute/distribute_lib.py:2730 call_for_each_replica\n        return self._call_for_each_replica(fn, args, kwargs)\n    /Users/akshay/opt/anaconda3/lib/python3.8/site-packages/tensorflow/python/distribute/distribute_lib.py:3417 _call_for_each_replica\n        return fn(*args, **kwargs)\n    /Users/akshay/opt/anaconda3/lib/python3.8/site-packages/tensorflow/python/keras/engine/training.py:788 run_step  **\n        outputs = model.train_step(data)\n    /Users/akshay/opt/anaconda3/lib/python3.8/site-packages/tensorflow/python/keras/engine/training.py:754 train_step\n        y_pred = self(x, training=True)\n    /Users/akshay/opt/anaconda3/lib/python3.8/site-packages/tensorflow/python/keras/engine/base_layer.py:1012 __call__\n        outputs = call_fn(inputs, *args, **kwargs)\n    /Users/akshay/opt/anaconda3/lib/python3.8/site-packages/tensorflow/python/keras/engine/functional.py:424 call\n        return self._run_internal_graph(\n    /Users/akshay/opt/anaconda3/lib/python3.8/site-packages/tensorflow/python/keras/engine/functional.py:560 _run_internal_graph\n        outputs = node.layer(*args, **kwargs)\n    /Users/akshay/opt/anaconda3/lib/python3.8/site-packages/tensorflow/python/keras/engine/base_layer.py:1012 __call__\n        outputs = call_fn(inputs, *args, **kwargs)\n    /Users/akshay/opt/anaconda3/lib/python3.8/site-packages/tensorflow/python/keras/layers/wrappers.py:224 call\n        y = self.layer(inputs.values, **kwargs)\n    /Users/akshay/opt/anaconda3/lib/python3.8/site-packages/tensorflow/python/keras/engine/base_layer.py:1012 __call__\n        outputs = call_fn(inputs, *args, **kwargs)\n    /Users/akshay/opt/anaconda3/lib/python3.8/site-packages/tensorflow/python/keras/engine/functional.py:424 call\n        return self._run_internal_graph(\n    /Users/akshay/opt/anaconda3/lib/python3.8/site-packages/tensorflow/python/keras/engine/functional.py:560 _run_internal_graph\n        outputs = node.layer(*args, **kwargs)\n    /Users/akshay/opt/anaconda3/lib/python3.8/site-packages/tensorflow/python/keras/engine/base_layer.py:1012 __call__\n        outputs = call_fn(inputs, *args, **kwargs)\n    /Users/akshay/opt/anaconda3/lib/python3.8/site-packages/tensorflow/python/keras/layers/convolutional.py:2880 call\n        return backend.spatial_2d_padding(\n    /Users/akshay/opt/anaconda3/lib/python3.8/site-packages/tensorflow/python/util/dispatch.py:201 wrapper\n        return target(*args, **kwargs)\n    /Users/akshay/opt/anaconda3/lib/python3.8/site-packages/tensorflow/python/keras/backend.py:3449 spatial_2d_padding\n        return array_ops.pad(x, pattern)\n    /Users/akshay/opt/anaconda3/lib/python3.8/site-packages/tensorflow/python/util/dispatch.py:201 wrapper\n        return target(*args, **kwargs)\n    /Users/akshay/opt/anaconda3/lib/python3.8/site-packages/tensorflow/python/ops/array_ops.py:3422 pad\n        result = gen_array_ops.pad(tensor, paddings, name=name)\n    /Users/akshay/opt/anaconda3/lib/python3.8/site-packages/tensorflow/python/ops/gen_array_ops.py:6484 pad\n        _, _, _op, _outputs = _op_def_library._apply_op_helper(\n    /Users/akshay/opt/anaconda3/lib/python3.8/site-packages/tensorflow/python/framework/op_def_library.py:525 _apply_op_helper\n        raise err\n    /Users/akshay/opt/anaconda3/lib/python3.8/site-packages/tensorflow/python/framework/op_def_library.py:517 _apply_op_helper\n        values = ops.convert_to_tensor(\n    /Users/akshay/opt/anaconda3/lib/python3.8/site-packages/tensorflow/python/profiler/trace.py:163 wrapped\n        return func(*args, **kwargs)\n    /Users/akshay/opt/anaconda3/lib/python3.8/site-packages/tensorflow/python/framework/ops.py:1540 convert_to_tensor\n        ret = conversion_func(value, dtype=dtype, name=name, as_ref=as_ref)\n    /Users/akshay/opt/anaconda3/lib/python3.8/site-packages/tensorflow/python/framework/constant_op.py:339 _constant_tensor_conversion_function\n        return constant(v, dtype=dtype, name=name)\n    /Users/akshay/opt/anaconda3/lib/python3.8/site-packages/tensorflow/python/framework/constant_op.py:264 constant\n        return _constant_impl(value, dtype, shape, name, verify_shape=False,\n    /Users/akshay/opt/anaconda3/lib/python3.8/site-packages/tensorflow/python/framework/constant_op.py:281 _constant_impl\n        tensor_util.make_tensor_proto(\n    /Users/akshay/opt/anaconda3/lib/python3.8/site-packages/tensorflow/python/framework/tensor_util.py:551 make_tensor_proto\n        raise TypeError(\"Failed to convert object of type %s to Tensor. \"\n\n    TypeError: Failed to convert object of type <class 'tensorflow.python.ops.ragged.ragged_tensor.RaggedTensor'> to Tensor. Contents: tf.RaggedTensor(values=Tensor(\"model_23/Cast_1:0\", shape=(None, 216, 1), dtype=float32), row_splits=Tensor(\"RaggedFromVariant/RaggedTensorFromVariant:1\", shape=(None,), dtype=int64)). Consider casting elements to a supported type.\n",
     "output_type": "error",
     "traceback": [
      "\u001b[0;31m---------------------------------------------------------------------------\u001b[0m",
      "\u001b[0;31mTypeError\u001b[0m                                 Traceback (most recent call last)",
      "\u001b[0;32m<ipython-input-121-d768f88d541e>\u001b[0m in \u001b[0;36m<module>\u001b[0;34m\u001b[0m\n\u001b[0;32m----> 1\u001b[0;31m \u001b[0mmodel\u001b[0m\u001b[0;34m.\u001b[0m\u001b[0mfit\u001b[0m\u001b[0;34m(\u001b[0m\u001b[0mX_train\u001b[0m\u001b[0;34m,\u001b[0m \u001b[0my_train\u001b[0m\u001b[0;34m)\u001b[0m\u001b[0;34m\u001b[0m\u001b[0;34m\u001b[0m\u001b[0m\n\u001b[0m",
      "\u001b[0;32m~/opt/anaconda3/lib/python3.8/site-packages/tensorflow/python/keras/engine/training.py\u001b[0m in \u001b[0;36mfit\u001b[0;34m(self, x, y, batch_size, epochs, verbose, callbacks, validation_split, validation_data, shuffle, class_weight, sample_weight, initial_epoch, steps_per_epoch, validation_steps, validation_batch_size, validation_freq, max_queue_size, workers, use_multiprocessing)\u001b[0m\n\u001b[1;32m   1098\u001b[0m                 _r=1):\n\u001b[1;32m   1099\u001b[0m               \u001b[0mcallbacks\u001b[0m\u001b[0;34m.\u001b[0m\u001b[0mon_train_batch_begin\u001b[0m\u001b[0;34m(\u001b[0m\u001b[0mstep\u001b[0m\u001b[0;34m)\u001b[0m\u001b[0;34m\u001b[0m\u001b[0;34m\u001b[0m\u001b[0m\n\u001b[0;32m-> 1100\u001b[0;31m               \u001b[0mtmp_logs\u001b[0m \u001b[0;34m=\u001b[0m \u001b[0mself\u001b[0m\u001b[0;34m.\u001b[0m\u001b[0mtrain_function\u001b[0m\u001b[0;34m(\u001b[0m\u001b[0miterator\u001b[0m\u001b[0;34m)\u001b[0m\u001b[0;34m\u001b[0m\u001b[0;34m\u001b[0m\u001b[0m\n\u001b[0m\u001b[1;32m   1101\u001b[0m               \u001b[0;32mif\u001b[0m \u001b[0mdata_handler\u001b[0m\u001b[0;34m.\u001b[0m\u001b[0mshould_sync\u001b[0m\u001b[0;34m:\u001b[0m\u001b[0;34m\u001b[0m\u001b[0;34m\u001b[0m\u001b[0m\n\u001b[1;32m   1102\u001b[0m                 \u001b[0mcontext\u001b[0m\u001b[0;34m.\u001b[0m\u001b[0masync_wait\u001b[0m\u001b[0;34m(\u001b[0m\u001b[0;34m)\u001b[0m\u001b[0;34m\u001b[0m\u001b[0;34m\u001b[0m\u001b[0m\n",
      "\u001b[0;32m~/opt/anaconda3/lib/python3.8/site-packages/tensorflow/python/eager/def_function.py\u001b[0m in \u001b[0;36m__call__\u001b[0;34m(self, *args, **kwds)\u001b[0m\n\u001b[1;32m    826\u001b[0m     \u001b[0mtracing_count\u001b[0m \u001b[0;34m=\u001b[0m \u001b[0mself\u001b[0m\u001b[0;34m.\u001b[0m\u001b[0mexperimental_get_tracing_count\u001b[0m\u001b[0;34m(\u001b[0m\u001b[0;34m)\u001b[0m\u001b[0;34m\u001b[0m\u001b[0;34m\u001b[0m\u001b[0m\n\u001b[1;32m    827\u001b[0m     \u001b[0;32mwith\u001b[0m \u001b[0mtrace\u001b[0m\u001b[0;34m.\u001b[0m\u001b[0mTrace\u001b[0m\u001b[0;34m(\u001b[0m\u001b[0mself\u001b[0m\u001b[0;34m.\u001b[0m\u001b[0m_name\u001b[0m\u001b[0;34m)\u001b[0m \u001b[0;32mas\u001b[0m \u001b[0mtm\u001b[0m\u001b[0;34m:\u001b[0m\u001b[0;34m\u001b[0m\u001b[0;34m\u001b[0m\u001b[0m\n\u001b[0;32m--> 828\u001b[0;31m       \u001b[0mresult\u001b[0m \u001b[0;34m=\u001b[0m \u001b[0mself\u001b[0m\u001b[0;34m.\u001b[0m\u001b[0m_call\u001b[0m\u001b[0;34m(\u001b[0m\u001b[0;34m*\u001b[0m\u001b[0margs\u001b[0m\u001b[0;34m,\u001b[0m \u001b[0;34m**\u001b[0m\u001b[0mkwds\u001b[0m\u001b[0;34m)\u001b[0m\u001b[0;34m\u001b[0m\u001b[0;34m\u001b[0m\u001b[0m\n\u001b[0m\u001b[1;32m    829\u001b[0m       \u001b[0mcompiler\u001b[0m \u001b[0;34m=\u001b[0m \u001b[0;34m\"xla\"\u001b[0m \u001b[0;32mif\u001b[0m \u001b[0mself\u001b[0m\u001b[0;34m.\u001b[0m\u001b[0m_experimental_compile\u001b[0m \u001b[0;32melse\u001b[0m \u001b[0;34m\"nonXla\"\u001b[0m\u001b[0;34m\u001b[0m\u001b[0;34m\u001b[0m\u001b[0m\n\u001b[1;32m    830\u001b[0m       \u001b[0mnew_tracing_count\u001b[0m \u001b[0;34m=\u001b[0m \u001b[0mself\u001b[0m\u001b[0;34m.\u001b[0m\u001b[0mexperimental_get_tracing_count\u001b[0m\u001b[0;34m(\u001b[0m\u001b[0;34m)\u001b[0m\u001b[0;34m\u001b[0m\u001b[0;34m\u001b[0m\u001b[0m\n",
      "\u001b[0;32m~/opt/anaconda3/lib/python3.8/site-packages/tensorflow/python/eager/def_function.py\u001b[0m in \u001b[0;36m_call\u001b[0;34m(self, *args, **kwds)\u001b[0m\n\u001b[1;32m    869\u001b[0m       \u001b[0;31m# This is the first call of __call__, so we have to initialize.\u001b[0m\u001b[0;34m\u001b[0m\u001b[0;34m\u001b[0m\u001b[0;34m\u001b[0m\u001b[0m\n\u001b[1;32m    870\u001b[0m       \u001b[0minitializers\u001b[0m \u001b[0;34m=\u001b[0m \u001b[0;34m[\u001b[0m\u001b[0;34m]\u001b[0m\u001b[0;34m\u001b[0m\u001b[0;34m\u001b[0m\u001b[0m\n\u001b[0;32m--> 871\u001b[0;31m       \u001b[0mself\u001b[0m\u001b[0;34m.\u001b[0m\u001b[0m_initialize\u001b[0m\u001b[0;34m(\u001b[0m\u001b[0margs\u001b[0m\u001b[0;34m,\u001b[0m \u001b[0mkwds\u001b[0m\u001b[0;34m,\u001b[0m \u001b[0madd_initializers_to\u001b[0m\u001b[0;34m=\u001b[0m\u001b[0minitializers\u001b[0m\u001b[0;34m)\u001b[0m\u001b[0;34m\u001b[0m\u001b[0;34m\u001b[0m\u001b[0m\n\u001b[0m\u001b[1;32m    872\u001b[0m     \u001b[0;32mfinally\u001b[0m\u001b[0;34m:\u001b[0m\u001b[0;34m\u001b[0m\u001b[0;34m\u001b[0m\u001b[0m\n\u001b[1;32m    873\u001b[0m       \u001b[0;31m# At this point we know that the initialization is complete (or less\u001b[0m\u001b[0;34m\u001b[0m\u001b[0;34m\u001b[0m\u001b[0;34m\u001b[0m\u001b[0m\n",
      "\u001b[0;32m~/opt/anaconda3/lib/python3.8/site-packages/tensorflow/python/eager/def_function.py\u001b[0m in \u001b[0;36m_initialize\u001b[0;34m(self, args, kwds, add_initializers_to)\u001b[0m\n\u001b[1;32m    723\u001b[0m     \u001b[0mself\u001b[0m\u001b[0;34m.\u001b[0m\u001b[0m_graph_deleter\u001b[0m \u001b[0;34m=\u001b[0m \u001b[0mFunctionDeleter\u001b[0m\u001b[0;34m(\u001b[0m\u001b[0mself\u001b[0m\u001b[0;34m.\u001b[0m\u001b[0m_lifted_initializer_graph\u001b[0m\u001b[0;34m)\u001b[0m\u001b[0;34m\u001b[0m\u001b[0;34m\u001b[0m\u001b[0m\n\u001b[1;32m    724\u001b[0m     self._concrete_stateful_fn = (\n\u001b[0;32m--> 725\u001b[0;31m         self._stateful_fn._get_concrete_function_internal_garbage_collected(  # pylint: disable=protected-access\n\u001b[0m\u001b[1;32m    726\u001b[0m             *args, **kwds))\n\u001b[1;32m    727\u001b[0m \u001b[0;34m\u001b[0m\u001b[0m\n",
      "\u001b[0;32m~/opt/anaconda3/lib/python3.8/site-packages/tensorflow/python/eager/function.py\u001b[0m in \u001b[0;36m_get_concrete_function_internal_garbage_collected\u001b[0;34m(self, *args, **kwargs)\u001b[0m\n\u001b[1;32m   2967\u001b[0m       \u001b[0margs\u001b[0m\u001b[0;34m,\u001b[0m \u001b[0mkwargs\u001b[0m \u001b[0;34m=\u001b[0m \u001b[0;32mNone\u001b[0m\u001b[0;34m,\u001b[0m \u001b[0;32mNone\u001b[0m\u001b[0;34m\u001b[0m\u001b[0;34m\u001b[0m\u001b[0m\n\u001b[1;32m   2968\u001b[0m     \u001b[0;32mwith\u001b[0m \u001b[0mself\u001b[0m\u001b[0;34m.\u001b[0m\u001b[0m_lock\u001b[0m\u001b[0;34m:\u001b[0m\u001b[0;34m\u001b[0m\u001b[0;34m\u001b[0m\u001b[0m\n\u001b[0;32m-> 2969\u001b[0;31m       \u001b[0mgraph_function\u001b[0m\u001b[0;34m,\u001b[0m \u001b[0m_\u001b[0m \u001b[0;34m=\u001b[0m \u001b[0mself\u001b[0m\u001b[0;34m.\u001b[0m\u001b[0m_maybe_define_function\u001b[0m\u001b[0;34m(\u001b[0m\u001b[0margs\u001b[0m\u001b[0;34m,\u001b[0m \u001b[0mkwargs\u001b[0m\u001b[0;34m)\u001b[0m\u001b[0;34m\u001b[0m\u001b[0;34m\u001b[0m\u001b[0m\n\u001b[0m\u001b[1;32m   2970\u001b[0m     \u001b[0;32mreturn\u001b[0m \u001b[0mgraph_function\u001b[0m\u001b[0;34m\u001b[0m\u001b[0;34m\u001b[0m\u001b[0m\n\u001b[1;32m   2971\u001b[0m \u001b[0;34m\u001b[0m\u001b[0m\n",
      "\u001b[0;32m~/opt/anaconda3/lib/python3.8/site-packages/tensorflow/python/eager/function.py\u001b[0m in \u001b[0;36m_maybe_define_function\u001b[0;34m(self, args, kwargs)\u001b[0m\n\u001b[1;32m   3359\u001b[0m \u001b[0;34m\u001b[0m\u001b[0m\n\u001b[1;32m   3360\u001b[0m           \u001b[0mself\u001b[0m\u001b[0;34m.\u001b[0m\u001b[0m_function_cache\u001b[0m\u001b[0;34m.\u001b[0m\u001b[0mmissed\u001b[0m\u001b[0;34m.\u001b[0m\u001b[0madd\u001b[0m\u001b[0;34m(\u001b[0m\u001b[0mcall_context_key\u001b[0m\u001b[0;34m)\u001b[0m\u001b[0;34m\u001b[0m\u001b[0;34m\u001b[0m\u001b[0m\n\u001b[0;32m-> 3361\u001b[0;31m           \u001b[0mgraph_function\u001b[0m \u001b[0;34m=\u001b[0m \u001b[0mself\u001b[0m\u001b[0;34m.\u001b[0m\u001b[0m_create_graph_function\u001b[0m\u001b[0;34m(\u001b[0m\u001b[0margs\u001b[0m\u001b[0;34m,\u001b[0m \u001b[0mkwargs\u001b[0m\u001b[0;34m)\u001b[0m\u001b[0;34m\u001b[0m\u001b[0;34m\u001b[0m\u001b[0m\n\u001b[0m\u001b[1;32m   3362\u001b[0m           \u001b[0mself\u001b[0m\u001b[0;34m.\u001b[0m\u001b[0m_function_cache\u001b[0m\u001b[0;34m.\u001b[0m\u001b[0mprimary\u001b[0m\u001b[0;34m[\u001b[0m\u001b[0mcache_key\u001b[0m\u001b[0;34m]\u001b[0m \u001b[0;34m=\u001b[0m \u001b[0mgraph_function\u001b[0m\u001b[0;34m\u001b[0m\u001b[0;34m\u001b[0m\u001b[0m\n\u001b[1;32m   3363\u001b[0m \u001b[0;34m\u001b[0m\u001b[0m\n",
      "\u001b[0;32m~/opt/anaconda3/lib/python3.8/site-packages/tensorflow/python/eager/function.py\u001b[0m in \u001b[0;36m_create_graph_function\u001b[0;34m(self, args, kwargs, override_flat_arg_shapes)\u001b[0m\n\u001b[1;32m   3194\u001b[0m     \u001b[0marg_names\u001b[0m \u001b[0;34m=\u001b[0m \u001b[0mbase_arg_names\u001b[0m \u001b[0;34m+\u001b[0m \u001b[0mmissing_arg_names\u001b[0m\u001b[0;34m\u001b[0m\u001b[0;34m\u001b[0m\u001b[0m\n\u001b[1;32m   3195\u001b[0m     graph_function = ConcreteFunction(\n\u001b[0;32m-> 3196\u001b[0;31m         func_graph_module.func_graph_from_py_func(\n\u001b[0m\u001b[1;32m   3197\u001b[0m             \u001b[0mself\u001b[0m\u001b[0;34m.\u001b[0m\u001b[0m_name\u001b[0m\u001b[0;34m,\u001b[0m\u001b[0;34m\u001b[0m\u001b[0;34m\u001b[0m\u001b[0m\n\u001b[1;32m   3198\u001b[0m             \u001b[0mself\u001b[0m\u001b[0;34m.\u001b[0m\u001b[0m_python_function\u001b[0m\u001b[0;34m,\u001b[0m\u001b[0;34m\u001b[0m\u001b[0;34m\u001b[0m\u001b[0m\n",
      "\u001b[0;32m~/opt/anaconda3/lib/python3.8/site-packages/tensorflow/python/framework/func_graph.py\u001b[0m in \u001b[0;36mfunc_graph_from_py_func\u001b[0;34m(name, python_func, args, kwargs, signature, func_graph, autograph, autograph_options, add_control_dependencies, arg_names, op_return_value, collections, capture_by_value, override_flat_arg_shapes)\u001b[0m\n\u001b[1;32m    988\u001b[0m         \u001b[0m_\u001b[0m\u001b[0;34m,\u001b[0m \u001b[0moriginal_func\u001b[0m \u001b[0;34m=\u001b[0m \u001b[0mtf_decorator\u001b[0m\u001b[0;34m.\u001b[0m\u001b[0munwrap\u001b[0m\u001b[0;34m(\u001b[0m\u001b[0mpython_func\u001b[0m\u001b[0;34m)\u001b[0m\u001b[0;34m\u001b[0m\u001b[0;34m\u001b[0m\u001b[0m\n\u001b[1;32m    989\u001b[0m \u001b[0;34m\u001b[0m\u001b[0m\n\u001b[0;32m--> 990\u001b[0;31m       \u001b[0mfunc_outputs\u001b[0m \u001b[0;34m=\u001b[0m \u001b[0mpython_func\u001b[0m\u001b[0;34m(\u001b[0m\u001b[0;34m*\u001b[0m\u001b[0mfunc_args\u001b[0m\u001b[0;34m,\u001b[0m \u001b[0;34m**\u001b[0m\u001b[0mfunc_kwargs\u001b[0m\u001b[0;34m)\u001b[0m\u001b[0;34m\u001b[0m\u001b[0;34m\u001b[0m\u001b[0m\n\u001b[0m\u001b[1;32m    991\u001b[0m \u001b[0;34m\u001b[0m\u001b[0m\n\u001b[1;32m    992\u001b[0m       \u001b[0;31m# invariant: `func_outputs` contains only Tensors, CompositeTensors,\u001b[0m\u001b[0;34m\u001b[0m\u001b[0;34m\u001b[0m\u001b[0;34m\u001b[0m\u001b[0m\n",
      "\u001b[0;32m~/opt/anaconda3/lib/python3.8/site-packages/tensorflow/python/eager/def_function.py\u001b[0m in \u001b[0;36mwrapped_fn\u001b[0;34m(*args, **kwds)\u001b[0m\n\u001b[1;32m    632\u001b[0m             \u001b[0mxla_context\u001b[0m\u001b[0;34m.\u001b[0m\u001b[0mExit\u001b[0m\u001b[0;34m(\u001b[0m\u001b[0;34m)\u001b[0m\u001b[0;34m\u001b[0m\u001b[0;34m\u001b[0m\u001b[0m\n\u001b[1;32m    633\u001b[0m         \u001b[0;32melse\u001b[0m\u001b[0;34m:\u001b[0m\u001b[0;34m\u001b[0m\u001b[0;34m\u001b[0m\u001b[0m\n\u001b[0;32m--> 634\u001b[0;31m           \u001b[0mout\u001b[0m \u001b[0;34m=\u001b[0m \u001b[0mweak_wrapped_fn\u001b[0m\u001b[0;34m(\u001b[0m\u001b[0;34m)\u001b[0m\u001b[0;34m.\u001b[0m\u001b[0m__wrapped__\u001b[0m\u001b[0;34m(\u001b[0m\u001b[0;34m*\u001b[0m\u001b[0margs\u001b[0m\u001b[0;34m,\u001b[0m \u001b[0;34m**\u001b[0m\u001b[0mkwds\u001b[0m\u001b[0;34m)\u001b[0m\u001b[0;34m\u001b[0m\u001b[0;34m\u001b[0m\u001b[0m\n\u001b[0m\u001b[1;32m    635\u001b[0m         \u001b[0;32mreturn\u001b[0m \u001b[0mout\u001b[0m\u001b[0;34m\u001b[0m\u001b[0;34m\u001b[0m\u001b[0m\n\u001b[1;32m    636\u001b[0m \u001b[0;34m\u001b[0m\u001b[0m\n",
      "\u001b[0;32m~/opt/anaconda3/lib/python3.8/site-packages/tensorflow/python/framework/func_graph.py\u001b[0m in \u001b[0;36mwrapper\u001b[0;34m(*args, **kwargs)\u001b[0m\n\u001b[1;32m    975\u001b[0m           \u001b[0;32mexcept\u001b[0m \u001b[0mException\u001b[0m \u001b[0;32mas\u001b[0m \u001b[0me\u001b[0m\u001b[0;34m:\u001b[0m  \u001b[0;31m# pylint:disable=broad-except\u001b[0m\u001b[0;34m\u001b[0m\u001b[0;34m\u001b[0m\u001b[0m\n\u001b[1;32m    976\u001b[0m             \u001b[0;32mif\u001b[0m \u001b[0mhasattr\u001b[0m\u001b[0;34m(\u001b[0m\u001b[0me\u001b[0m\u001b[0;34m,\u001b[0m \u001b[0;34m\"ag_error_metadata\"\u001b[0m\u001b[0;34m)\u001b[0m\u001b[0;34m:\u001b[0m\u001b[0;34m\u001b[0m\u001b[0;34m\u001b[0m\u001b[0m\n\u001b[0;32m--> 977\u001b[0;31m               \u001b[0;32mraise\u001b[0m \u001b[0me\u001b[0m\u001b[0;34m.\u001b[0m\u001b[0mag_error_metadata\u001b[0m\u001b[0;34m.\u001b[0m\u001b[0mto_exception\u001b[0m\u001b[0;34m(\u001b[0m\u001b[0me\u001b[0m\u001b[0;34m)\u001b[0m\u001b[0;34m\u001b[0m\u001b[0;34m\u001b[0m\u001b[0m\n\u001b[0m\u001b[1;32m    978\u001b[0m             \u001b[0;32melse\u001b[0m\u001b[0;34m:\u001b[0m\u001b[0;34m\u001b[0m\u001b[0;34m\u001b[0m\u001b[0m\n\u001b[1;32m    979\u001b[0m               \u001b[0;32mraise\u001b[0m\u001b[0;34m\u001b[0m\u001b[0;34m\u001b[0m\u001b[0m\n",
      "\u001b[0;31mTypeError\u001b[0m: in user code:\n\n    /Users/akshay/opt/anaconda3/lib/python3.8/site-packages/tensorflow/python/keras/engine/training.py:805 train_function  *\n        return step_function(self, iterator)\n    /Users/akshay/opt/anaconda3/lib/python3.8/site-packages/tensorflow/python/keras/engine/training.py:795 step_function  **\n        outputs = model.distribute_strategy.run(run_step, args=(data,))\n    /Users/akshay/opt/anaconda3/lib/python3.8/site-packages/tensorflow/python/distribute/distribute_lib.py:1259 run\n        return self._extended.call_for_each_replica(fn, args=args, kwargs=kwargs)\n    /Users/akshay/opt/anaconda3/lib/python3.8/site-packages/tensorflow/python/distribute/distribute_lib.py:2730 call_for_each_replica\n        return self._call_for_each_replica(fn, args, kwargs)\n    /Users/akshay/opt/anaconda3/lib/python3.8/site-packages/tensorflow/python/distribute/distribute_lib.py:3417 _call_for_each_replica\n        return fn(*args, **kwargs)\n    /Users/akshay/opt/anaconda3/lib/python3.8/site-packages/tensorflow/python/keras/engine/training.py:788 run_step  **\n        outputs = model.train_step(data)\n    /Users/akshay/opt/anaconda3/lib/python3.8/site-packages/tensorflow/python/keras/engine/training.py:754 train_step\n        y_pred = self(x, training=True)\n    /Users/akshay/opt/anaconda3/lib/python3.8/site-packages/tensorflow/python/keras/engine/base_layer.py:1012 __call__\n        outputs = call_fn(inputs, *args, **kwargs)\n    /Users/akshay/opt/anaconda3/lib/python3.8/site-packages/tensorflow/python/keras/engine/functional.py:424 call\n        return self._run_internal_graph(\n    /Users/akshay/opt/anaconda3/lib/python3.8/site-packages/tensorflow/python/keras/engine/functional.py:560 _run_internal_graph\n        outputs = node.layer(*args, **kwargs)\n    /Users/akshay/opt/anaconda3/lib/python3.8/site-packages/tensorflow/python/keras/engine/base_layer.py:1012 __call__\n        outputs = call_fn(inputs, *args, **kwargs)\n    /Users/akshay/opt/anaconda3/lib/python3.8/site-packages/tensorflow/python/keras/layers/wrappers.py:224 call\n        y = self.layer(inputs.values, **kwargs)\n    /Users/akshay/opt/anaconda3/lib/python3.8/site-packages/tensorflow/python/keras/engine/base_layer.py:1012 __call__\n        outputs = call_fn(inputs, *args, **kwargs)\n    /Users/akshay/opt/anaconda3/lib/python3.8/site-packages/tensorflow/python/keras/engine/functional.py:424 call\n        return self._run_internal_graph(\n    /Users/akshay/opt/anaconda3/lib/python3.8/site-packages/tensorflow/python/keras/engine/functional.py:560 _run_internal_graph\n        outputs = node.layer(*args, **kwargs)\n    /Users/akshay/opt/anaconda3/lib/python3.8/site-packages/tensorflow/python/keras/engine/base_layer.py:1012 __call__\n        outputs = call_fn(inputs, *args, **kwargs)\n    /Users/akshay/opt/anaconda3/lib/python3.8/site-packages/tensorflow/python/keras/layers/convolutional.py:2880 call\n        return backend.spatial_2d_padding(\n    /Users/akshay/opt/anaconda3/lib/python3.8/site-packages/tensorflow/python/util/dispatch.py:201 wrapper\n        return target(*args, **kwargs)\n    /Users/akshay/opt/anaconda3/lib/python3.8/site-packages/tensorflow/python/keras/backend.py:3449 spatial_2d_padding\n        return array_ops.pad(x, pattern)\n    /Users/akshay/opt/anaconda3/lib/python3.8/site-packages/tensorflow/python/util/dispatch.py:201 wrapper\n        return target(*args, **kwargs)\n    /Users/akshay/opt/anaconda3/lib/python3.8/site-packages/tensorflow/python/ops/array_ops.py:3422 pad\n        result = gen_array_ops.pad(tensor, paddings, name=name)\n    /Users/akshay/opt/anaconda3/lib/python3.8/site-packages/tensorflow/python/ops/gen_array_ops.py:6484 pad\n        _, _, _op, _outputs = _op_def_library._apply_op_helper(\n    /Users/akshay/opt/anaconda3/lib/python3.8/site-packages/tensorflow/python/framework/op_def_library.py:525 _apply_op_helper\n        raise err\n    /Users/akshay/opt/anaconda3/lib/python3.8/site-packages/tensorflow/python/framework/op_def_library.py:517 _apply_op_helper\n        values = ops.convert_to_tensor(\n    /Users/akshay/opt/anaconda3/lib/python3.8/site-packages/tensorflow/python/profiler/trace.py:163 wrapped\n        return func(*args, **kwargs)\n    /Users/akshay/opt/anaconda3/lib/python3.8/site-packages/tensorflow/python/framework/ops.py:1540 convert_to_tensor\n        ret = conversion_func(value, dtype=dtype, name=name, as_ref=as_ref)\n    /Users/akshay/opt/anaconda3/lib/python3.8/site-packages/tensorflow/python/framework/constant_op.py:339 _constant_tensor_conversion_function\n        return constant(v, dtype=dtype, name=name)\n    /Users/akshay/opt/anaconda3/lib/python3.8/site-packages/tensorflow/python/framework/constant_op.py:264 constant\n        return _constant_impl(value, dtype, shape, name, verify_shape=False,\n    /Users/akshay/opt/anaconda3/lib/python3.8/site-packages/tensorflow/python/framework/constant_op.py:281 _constant_impl\n        tensor_util.make_tensor_proto(\n    /Users/akshay/opt/anaconda3/lib/python3.8/site-packages/tensorflow/python/framework/tensor_util.py:551 make_tensor_proto\n        raise TypeError(\"Failed to convert object of type %s to Tensor. \"\n\n    TypeError: Failed to convert object of type <class 'tensorflow.python.ops.ragged.ragged_tensor.RaggedTensor'> to Tensor. Contents: tf.RaggedTensor(values=Tensor(\"model_23/Cast_1:0\", shape=(None, 216, 1), dtype=float32), row_splits=Tensor(\"RaggedFromVariant/RaggedTensorFromVariant:1\", shape=(None,), dtype=int64)). Consider casting elements to a supported type.\n"
     ]
    }
   ],
   "source": [
    "model.fit(X_train, y_train)"
   ]
  },
  {
   "cell_type": "code",
   "execution_count": null,
   "metadata": {},
   "outputs": [],
   "source": []
  },
  {
   "cell_type": "code",
   "execution_count": 152,
   "metadata": {},
   "outputs": [],
   "source": [
    "l = [[['30/09/2015', 'C', 'ETERNITON NM H', '1,73', '400']],\n",
    " [['05/08/2019', 'C', 'CIELOON NM', '7,75', '500'],\n",
    "  ['05/08/2019', 'C', 'M.DIASBRANCOON NM', '39,40', '100'],\n",
    "  ['05/08/2019', 'C', 'M.DIASBRANCOON NM', '39,40', '100'],\n",
    "  ['05/08/2019', 'C', 'M.DIASBRANCOON NM', '39,40', '100']],\n",
    " [['25/03/2015', 'C', 'CETIPON NM H', '31,17', '10'],\n",
    "  ['25/03/2015', 'C', 'CETIPON NM H', '31,17', '9'],\n",
    "  ['25/03/2015', 'C', 'CETIPON NM H', '31,17', '10'],\n",
    "  ['25/03/2015', 'C', 'CETIPON NM H', '31,17', '10'],\n",
    "  ['25/03/2015', 'C', 'CETIPON NM H', '31,17', '10'],\n",
    "  ['25/03/2015', 'C', 'CETIPON NM H', '31,17', '10'],\n",
    "  ['25/03/2015', 'C', 'CETIPON NM H', '31,17', '10'],\n",
    "  ['25/03/2015', 'C', 'CETIPON NM H', '31,17', '10'],\n",
    "  ['25/03/2015', 'C', 'CETIPON NM H', '31,17', '10'],\n",
    "  ['25/03/2015', 'C', 'CETIPON NM H', '31,17', '10'],\n",
    "  ['25/03/2015', 'C', 'WEGON EJ NM H', '30,88', '99']],\n",
    " [['16/12/2019', 'C', 'IRBBRASIL REON NM', '36,72', '100'],\n",
    "  ['16/12/2019', 'C', 'ITAUUNIBANCOON EJ N1', '31,45', '200']]]"
   ]
  },
  {
   "cell_type": "code",
   "execution_count": 154,
   "metadata": {},
   "outputs": [],
   "source": []
  },
  {
   "cell_type": "code",
   "execution_count": 156,
   "metadata": {},
   "outputs": [],
   "source": []
  },
  {
   "cell_type": "code",
   "execution_count": 160,
   "metadata": {},
   "outputs": [
    {
     "name": "stdout",
     "output_type": "stream",
     "text": [
      "             A  B                     C      D    E\n",
      "0   30/09/2015  C        ETERNITON NM H   1,73  400\n",
      "1   05/08/2019  C            CIELOON NM   7,75  500\n",
      "2   05/08/2019  C     M.DIASBRANCOON NM  39,40  100\n",
      "3   05/08/2019  C     M.DIASBRANCOON NM  39,40  100\n",
      "4   05/08/2019  C     M.DIASBRANCOON NM  39,40  100\n",
      "5   25/03/2015  C          CETIPON NM H  31,17   10\n",
      "6   25/03/2015  C          CETIPON NM H  31,17    9\n",
      "7   25/03/2015  C          CETIPON NM H  31,17   10\n",
      "8   25/03/2015  C          CETIPON NM H  31,17   10\n",
      "9   25/03/2015  C          CETIPON NM H  31,17   10\n",
      "10  25/03/2015  C          CETIPON NM H  31,17   10\n",
      "11  25/03/2015  C          CETIPON NM H  31,17   10\n",
      "12  25/03/2015  C          CETIPON NM H  31,17   10\n",
      "13  25/03/2015  C          CETIPON NM H  31,17   10\n",
      "14  25/03/2015  C          CETIPON NM H  31,17   10\n",
      "15  25/03/2015  C         WEGON EJ NM H  30,88   99\n",
      "16  16/12/2019  C     IRBBRASIL REON NM  36,72  100\n",
      "17  16/12/2019  C  ITAUUNIBANCOON EJ N1  31,45  200\n"
     ]
    }
   ],
   "source": [
    "import pandas as pd\n",
    "\n",
    "flat = [row for item in l for row in item]\n",
    "df = pd.DataFrame(flat, columns=['A','B','C','D','E'])\n",
    "print(df)\n",
    "\n",
    "             A  B                     C      D    E\n",
    "0   30/09/2015  C        ETERNITON NM H   1,73  400\n",
    "1   05/08/2019  C            CIELOON NM   7,75  500\n",
    "2   05/08/2019  C     M.DIASBRANCOON NM  39,40  100\n",
    "3   05/08/2019  C     M.DIASBRANCOON NM  39,40  100\n",
    "4   05/08/2019  C     M.DIASBRANCOON NM  39,40  100\n",
    "5   25/03/2015  C          CETIPON NM H  31,17   10\n",
    "6   25/03/2015  C          CETIPON NM H  31,17    9\n",
    "7   25/03/2015  C          CETIPON NM H  31,17   10\n",
    "8   25/03/2015  C          CETIPON NM H  31,17   10\n",
    "9   25/03/2015  C          CETIPON NM H  31,17   10\n",
    "10  25/03/2015  C          CETIPON NM H  31,17   10\n",
    "11  25/03/2015  C          CETIPON NM H  31,17   10\n",
    "12  25/03/2015  C          CETIPON NM H  31,17   10\n",
    "13  25/03/2015  C          CETIPON NM H  31,17   10\n",
    "14  25/03/2015  C          CETIPON NM H  31,17   10\n",
    "15  25/03/2015  C         WEGON EJ NM H  30,88   99\n",
    "16  16/12/2019  C     IRBBRASIL REON NM  36,72  100\n",
    "17  16/12/2019  C  ITAUUNIBANCOON EJ N1  31,45  200"
   ]
  },
  {
   "cell_type": "code",
   "execution_count": 164,
   "metadata": {},
   "outputs": [],
   "source": [
    "ds = pd.DataFrame({\"col_a\":[1,2,3], \"col_b\":[5,4,0],\"col_c\":[9,7,6]})\n",
    "\n",
    "cols=[[\"col_a\",\"col_b\"],\n",
    "      [\"col_c\",\"col_b\"],\n",
    "      [\"col_a\",\"col_b\"]]"
   ]
  },
  {
   "cell_type": "code",
   "execution_count": 163,
   "metadata": {},
   "outputs": [
    {
     "data": {
      "text/html": [
       "<div>\n",
       "<style scoped>\n",
       "    .dataframe tbody tr th:only-of-type {\n",
       "        vertical-align: middle;\n",
       "    }\n",
       "\n",
       "    .dataframe tbody tr th {\n",
       "        vertical-align: top;\n",
       "    }\n",
       "\n",
       "    .dataframe thead th {\n",
       "        text-align: right;\n",
       "    }\n",
       "</style>\n",
       "<table border=\"1\" class=\"dataframe\">\n",
       "  <thead>\n",
       "    <tr style=\"text-align: right;\">\n",
       "      <th></th>\n",
       "      <th>col_a</th>\n",
       "      <th>col_b</th>\n",
       "      <th>col_c</th>\n",
       "    </tr>\n",
       "  </thead>\n",
       "  <tbody>\n",
       "    <tr>\n",
       "      <th>0</th>\n",
       "      <td>1</td>\n",
       "      <td>5</td>\n",
       "      <td>9</td>\n",
       "    </tr>\n",
       "    <tr>\n",
       "      <th>1</th>\n",
       "      <td>2</td>\n",
       "      <td>4</td>\n",
       "      <td>7</td>\n",
       "    </tr>\n",
       "    <tr>\n",
       "      <th>2</th>\n",
       "      <td>3</td>\n",
       "      <td>0</td>\n",
       "      <td>6</td>\n",
       "    </tr>\n",
       "  </tbody>\n",
       "</table>\n",
       "</div>"
      ],
      "text/plain": [
       "   col_a  col_b  col_c\n",
       "0      1      5      9\n",
       "1      2      4      7\n",
       "2      3      0      6"
      ]
     },
     "execution_count": 163,
     "metadata": {},
     "output_type": "execute_result"
    }
   ],
   "source": [
    "ds"
   ]
  },
  {
   "cell_type": "code",
   "execution_count": null,
   "metadata": {},
   "outputs": [],
   "source": []
  },
  {
   "cell_type": "code",
   "execution_count": null,
   "metadata": {},
   "outputs": [],
   "source": []
  },
  {
   "cell_type": "code",
   "execution_count": null,
   "metadata": {},
   "outputs": [],
   "source": []
  },
  {
   "cell_type": "code",
   "execution_count": 182,
   "metadata": {},
   "outputs": [
    {
     "data": {
      "text/plain": [
       "[[1, 5], [7, 4], [3, 0]]"
      ]
     },
     "execution_count": 182,
     "metadata": {},
     "output_type": "execute_result"
    }
   ],
   "source": [
    "[ds.loc[i,j].tolist() for i,j in enumerate(cols)]"
   ]
  },
  {
   "cell_type": "code",
   "execution_count": null,
   "metadata": {},
   "outputs": [],
   "source": []
  },
  {
   "cell_type": "code",
   "execution_count": null,
   "metadata": {},
   "outputs": [],
   "source": []
  },
  {
   "cell_type": "code",
   "execution_count": null,
   "metadata": {},
   "outputs": [],
   "source": []
  },
  {
   "cell_type": "code",
   "execution_count": 185,
   "metadata": {},
   "outputs": [],
   "source": [
    "import pandas as pd\n",
    "df = pd.DataFrame({ \n",
    "'ID': ['ABC', 'ABC', 'ABC', 'XYZ', 'XYZ', 'XYZ'], \n",
    "'value': [100, 120, 130, 200, 190, 210],\n",
    "'value2': [2100, 2120, 2130, 2200, 2190, 2210],   \n",
    "'state': ['init','mid', 'final', 'init', 'mid', 'final'], \n",
    "})"
   ]
  },
  {
   "cell_type": "code",
   "execution_count": 186,
   "metadata": {},
   "outputs": [
    {
     "data": {
      "text/html": [
       "<div>\n",
       "<style scoped>\n",
       "    .dataframe tbody tr th:only-of-type {\n",
       "        vertical-align: middle;\n",
       "    }\n",
       "\n",
       "    .dataframe tbody tr th {\n",
       "        vertical-align: top;\n",
       "    }\n",
       "\n",
       "    .dataframe thead th {\n",
       "        text-align: right;\n",
       "    }\n",
       "</style>\n",
       "<table border=\"1\" class=\"dataframe\">\n",
       "  <thead>\n",
       "    <tr style=\"text-align: right;\">\n",
       "      <th></th>\n",
       "      <th>ID</th>\n",
       "      <th>value</th>\n",
       "      <th>value2</th>\n",
       "      <th>state</th>\n",
       "    </tr>\n",
       "  </thead>\n",
       "  <tbody>\n",
       "    <tr>\n",
       "      <th>0</th>\n",
       "      <td>ABC</td>\n",
       "      <td>100</td>\n",
       "      <td>2100</td>\n",
       "      <td>init</td>\n",
       "    </tr>\n",
       "    <tr>\n",
       "      <th>1</th>\n",
       "      <td>ABC</td>\n",
       "      <td>120</td>\n",
       "      <td>2120</td>\n",
       "      <td>mid</td>\n",
       "    </tr>\n",
       "    <tr>\n",
       "      <th>2</th>\n",
       "      <td>ABC</td>\n",
       "      <td>130</td>\n",
       "      <td>2130</td>\n",
       "      <td>final</td>\n",
       "    </tr>\n",
       "    <tr>\n",
       "      <th>3</th>\n",
       "      <td>XYZ</td>\n",
       "      <td>200</td>\n",
       "      <td>2200</td>\n",
       "      <td>init</td>\n",
       "    </tr>\n",
       "    <tr>\n",
       "      <th>4</th>\n",
       "      <td>XYZ</td>\n",
       "      <td>190</td>\n",
       "      <td>2190</td>\n",
       "      <td>mid</td>\n",
       "    </tr>\n",
       "    <tr>\n",
       "      <th>5</th>\n",
       "      <td>XYZ</td>\n",
       "      <td>210</td>\n",
       "      <td>2210</td>\n",
       "      <td>final</td>\n",
       "    </tr>\n",
       "  </tbody>\n",
       "</table>\n",
       "</div>"
      ],
      "text/plain": [
       "    ID  value  value2  state\n",
       "0  ABC    100    2100   init\n",
       "1  ABC    120    2120    mid\n",
       "2  ABC    130    2130  final\n",
       "3  XYZ    200    2200   init\n",
       "4  XYZ    190    2190    mid\n",
       "5  XYZ    210    2210  final"
      ]
     },
     "execution_count": 186,
     "metadata": {},
     "output_type": "execute_result"
    }
   ],
   "source": [
    "df"
   ]
  },
  {
   "cell_type": "code",
   "execution_count": 191,
   "metadata": {},
   "outputs": [
    {
     "data": {
      "text/plain": [
       "{0: 'ABC', 1: 'XYZ'}"
      ]
     },
     "execution_count": 191,
     "metadata": {},
     "output_type": "execute_result"
    }
   ],
   "source": [
    "dict(enumerate(df.ID.unique()))"
   ]
  },
  {
   "cell_type": "code",
   "execution_count": null,
   "metadata": {},
   "outputs": [],
   "source": []
  },
  {
   "cell_type": "code",
   "execution_count": null,
   "metadata": {},
   "outputs": [],
   "source": []
  },
  {
   "cell_type": "code",
   "execution_count": 227,
   "metadata": {},
   "outputs": [],
   "source": [
    "df_a = pd.DataFrame(data={\n",
    "    'a': [1, 0, 1, 0, 0, 0],\n",
    "    'b': [2, 0, 2, 0, 0, 0], \n",
    "    'c': [3, 0, 2, 0, 0, 0],\n",
    "    'd': ['foo', 'foo', 'foo', 'foo', 'foo', 'foo'],\n",
    "    'e': ['bar','bar','bar','bar','bar','bar']\n",
    "})\n",
    "\n",
    "df_b = pd.DataFrame(data={\n",
    "    'a': [1, 0, 2, 0, 0, 0],\n",
    "    'b': [2, 0, 2, 0, 0, 0], \n",
    "    'c': [3, 0, 2, 0, 0, 0]\n",
    "})"
   ]
  },
  {
   "cell_type": "code",
   "execution_count": 228,
   "metadata": {},
   "outputs": [
    {
     "name": "stdout",
     "output_type": "stream",
     "text": [
      "   a  b  c    d    e\n",
      "0  1  2  3  foo  bar\n",
      "1  0  0  0  foo  bar\n",
      "2  3  2  2  foo  bar\n",
      "3  0  0  0  foo  bar\n",
      "4  0  0  0  foo  bar\n",
      "5  0  0  0  foo  bar\n"
     ]
    }
   ],
   "source": [
    "df_a[df_b.columns] = df_b | df_a[df_b.columns]\n",
    "print(df_a)"
   ]
  },
  {
   "cell_type": "code",
   "execution_count": null,
   "metadata": {},
   "outputs": [],
   "source": []
  },
  {
   "cell_type": "code",
   "execution_count": null,
   "metadata": {},
   "outputs": [],
   "source": []
  },
  {
   "cell_type": "code",
   "execution_count": null,
   "metadata": {},
   "outputs": [],
   "source": []
  },
  {
   "cell_type": "code",
   "execution_count": 224,
   "metadata": {},
   "outputs": [
    {
     "name": "stdout",
     "output_type": "stream",
     "text": [
      "    data  clusters\n",
      "0      0         0\n",
      "1    200         1\n",
      "2      2         0\n",
      "3      1         0\n",
      "4      0         0\n",
      "5      1         0\n",
      "6      4         0\n",
      "7      4         0\n",
      "8      6         0\n",
      "9     14         2\n",
      "10    25         2\n",
      "11    43         2\n",
      "12    71         2\n",
      "13    93         2\n",
      "14   123         2\n",
      "15   194         1\n",
      "16   192         1\n"
     ]
    }
   ],
   "source": [
    "import numpy as np\n",
    "import pandas as pd\n",
    "from sklearn.mixture import GaussianMixture\n",
    "%matplotlib inline\n",
    "\n",
    "#Sample data\n",
    "x = [0,200,2,1,0,1,4,4,6,14,25,43,71,93,123,194,192]\n",
    "num_components = 3\n",
    "\n",
    "#Fit a model onto the data\n",
    "data = np.array(x).reshape(-1,1)\n",
    "model = GaussianMixture(n_components=num_components).fit(data)\n",
    "\n",
    "clusters = model.predict(data)\n",
    "df = pd.DataFrame(list(zip(x, clusters)), columns=['data', 'clusters'])\n",
    "\n",
    "print(df)\n",
    "\n",
    "    data  clusters\n",
    "0      0         0\n",
    "1    200         1\n",
    "2      2         0\n",
    "3      1         0\n",
    "4      0         0\n",
    "5      1         0\n",
    "6      4         0\n",
    "7      4         0\n",
    "8      6         0\n",
    "9     14         2\n",
    "10    25         2\n",
    "11    43         2\n",
    "12    71         2\n",
    "13    93         2\n",
    "14   123         2\n",
    "15   194         1\n",
    "16   192         1"
   ]
  },
  {
   "cell_type": "code",
   "execution_count": 223,
   "metadata": {},
   "outputs": [
    {
     "data": {
      "text/html": [
       "<div>\n",
       "<style scoped>\n",
       "    .dataframe tbody tr th:only-of-type {\n",
       "        vertical-align: middle;\n",
       "    }\n",
       "\n",
       "    .dataframe tbody tr th {\n",
       "        vertical-align: top;\n",
       "    }\n",
       "\n",
       "    .dataframe thead th {\n",
       "        text-align: right;\n",
       "    }\n",
       "</style>\n",
       "<table border=\"1\" class=\"dataframe\">\n",
       "  <thead>\n",
       "    <tr style=\"text-align: right;\">\n",
       "      <th></th>\n",
       "      <th>data</th>\n",
       "      <th>clusters</th>\n",
       "    </tr>\n",
       "  </thead>\n",
       "  <tbody>\n",
       "    <tr>\n",
       "      <th>0</th>\n",
       "      <td>0</td>\n",
       "      <td>1</td>\n",
       "    </tr>\n",
       "    <tr>\n",
       "      <th>1</th>\n",
       "      <td>200</td>\n",
       "      <td>0</td>\n",
       "    </tr>\n",
       "    <tr>\n",
       "      <th>2</th>\n",
       "      <td>2</td>\n",
       "      <td>1</td>\n",
       "    </tr>\n",
       "    <tr>\n",
       "      <th>3</th>\n",
       "      <td>1</td>\n",
       "      <td>1</td>\n",
       "    </tr>\n",
       "    <tr>\n",
       "      <th>4</th>\n",
       "      <td>0</td>\n",
       "      <td>1</td>\n",
       "    </tr>\n",
       "    <tr>\n",
       "      <th>5</th>\n",
       "      <td>1</td>\n",
       "      <td>1</td>\n",
       "    </tr>\n",
       "    <tr>\n",
       "      <th>6</th>\n",
       "      <td>4</td>\n",
       "      <td>1</td>\n",
       "    </tr>\n",
       "    <tr>\n",
       "      <th>7</th>\n",
       "      <td>4</td>\n",
       "      <td>1</td>\n",
       "    </tr>\n",
       "    <tr>\n",
       "      <th>8</th>\n",
       "      <td>6</td>\n",
       "      <td>1</td>\n",
       "    </tr>\n",
       "    <tr>\n",
       "      <th>9</th>\n",
       "      <td>14</td>\n",
       "      <td>2</td>\n",
       "    </tr>\n",
       "    <tr>\n",
       "      <th>10</th>\n",
       "      <td>25</td>\n",
       "      <td>2</td>\n",
       "    </tr>\n",
       "    <tr>\n",
       "      <th>11</th>\n",
       "      <td>43</td>\n",
       "      <td>2</td>\n",
       "    </tr>\n",
       "    <tr>\n",
       "      <th>12</th>\n",
       "      <td>71</td>\n",
       "      <td>2</td>\n",
       "    </tr>\n",
       "    <tr>\n",
       "      <th>13</th>\n",
       "      <td>93</td>\n",
       "      <td>2</td>\n",
       "    </tr>\n",
       "    <tr>\n",
       "      <th>14</th>\n",
       "      <td>123</td>\n",
       "      <td>2</td>\n",
       "    </tr>\n",
       "    <tr>\n",
       "      <th>15</th>\n",
       "      <td>194</td>\n",
       "      <td>0</td>\n",
       "    </tr>\n",
       "    <tr>\n",
       "      <th>16</th>\n",
       "      <td>192</td>\n",
       "      <td>0</td>\n",
       "    </tr>\n",
       "  </tbody>\n",
       "</table>\n",
       "</div>"
      ],
      "text/plain": [
       "    data  clusters\n",
       "0      0         1\n",
       "1    200         0\n",
       "2      2         1\n",
       "3      1         1\n",
       "4      0         1\n",
       "5      1         1\n",
       "6      4         1\n",
       "7      4         1\n",
       "8      6         1\n",
       "9     14         2\n",
       "10    25         2\n",
       "11    43         2\n",
       "12    71         2\n",
       "13    93         2\n",
       "14   123         2\n",
       "15   194         0\n",
       "16   192         0"
      ]
     },
     "execution_count": 223,
     "metadata": {},
     "output_type": "execute_result"
    }
   ],
   "source": []
  },
  {
   "cell_type": "code",
   "execution_count": null,
   "metadata": {},
   "outputs": [],
   "source": []
  },
  {
   "cell_type": "code",
   "execution_count": null,
   "metadata": {},
   "outputs": [],
   "source": []
  },
  {
   "cell_type": "code",
   "execution_count": 229,
   "metadata": {},
   "outputs": [],
   "source": [
    "text = \"hello world this is an example for stack overflow\""
   ]
  },
  {
   "cell_type": "code",
   "execution_count": 236,
   "metadata": {},
   "outputs": [
    {
     "data": {
      "text/plain": [
       "['hello', 'world', 'this', 'is', 'an', 'example', 'for', 'stack', 'overflow']"
      ]
     },
     "execution_count": 236,
     "metadata": {},
     "output_type": "execute_result"
    }
   ],
   "source": [
    "tokens = text.split()\n",
    "tokens"
   ]
  },
  {
   "cell_type": "code",
   "execution_count": 237,
   "metadata": {},
   "outputs": [
    {
     "data": {
      "text/plain": [
       "[5, 5, 4, 2, 2, 7, 3, 5, 8]"
      ]
     },
     "execution_count": 237,
     "metadata": {},
     "output_type": "execute_result"
    }
   ],
   "source": [
    "[len(i) for i in tokens]"
   ]
  },
  {
   "cell_type": "code",
   "execution_count": 233,
   "metadata": {},
   "outputs": [
    {
     "data": {
      "text/plain": [
       "'hello world this is an ex'"
      ]
     },
     "execution_count": 233,
     "metadata": {},
     "output_type": "execute_result"
    }
   ],
   "source": [
    "text[:25]"
   ]
  },
  {
   "cell_type": "code",
   "execution_count": 239,
   "metadata": {},
   "outputs": [],
   "source": [
    "arr = np.arange(20)"
   ]
  },
  {
   "cell_type": "code",
   "execution_count": 250,
   "metadata": {},
   "outputs": [
    {
     "data": {
      "text/plain": [
       "array([ 2,  3,  6,  7, 10, 11, 14, 15, 18, 19])"
      ]
     },
     "execution_count": 250,
     "metadata": {},
     "output_type": "execute_result"
    }
   ],
   "source": [
    "arr.reshape(-1,2)[1::2].flatten()"
   ]
  },
  {
   "cell_type": "code",
   "execution_count": null,
   "metadata": {},
   "outputs": [],
   "source": []
  },
  {
   "cell_type": "code",
   "execution_count": null,
   "metadata": {},
   "outputs": [],
   "source": []
  },
  {
   "cell_type": "code",
   "execution_count": 270,
   "metadata": {},
   "outputs": [
    {
     "name": "stdout",
     "output_type": "stream",
     "text": [
      "\n",
      "Welcome to Torrey's Restaurant\n",
      "=====Select Option to Continue=====\n",
      "1- Reserve a Table\n",
      "2- Clear Reservation\n",
      "3- Status of Tables\n",
      "0- Exit\n",
      "Choice? 1\n",
      "Please select your table number(0-19): 1\n",
      "What is your name?: John\n",
      "\n",
      "Welcome to Torrey's Restaurant\n",
      "=====Select Option to Continue=====\n",
      "1- Reserve a Table\n",
      "2- Clear Reservation\n",
      "3- Status of Tables\n",
      "0- Exit\n",
      "Choice? 1\n",
      "Please select your table number(0-19): 1\n",
      "The table you selected is unavailable\n",
      "\n",
      "Welcome to Torrey's Restaurant\n",
      "=====Select Option to Continue=====\n",
      "1- Reserve a Table\n",
      "2- Clear Reservation\n",
      "3- Status of Tables\n",
      "0- Exit\n",
      "Choice? 0\n",
      "Thank you for using this program\n"
     ]
    }
   ],
   "source": [
    "tables = []\n",
    "\n",
    "while True:\n",
    "    print(\"\")\n",
    "    print(\"Welcome to Torrey's Restaurant\")\n",
    "    print(\"=====Select Option to Continue=====\")    \n",
    "    print(\"1- Reserve a Table\")\n",
    "    print(\"2- Clear Reservation\")\n",
    "    print(\"3- Status of Tables\")\n",
    "    print(\"0- Exit\")\n",
    "    choice = int(input(\"Choice? \"))\n",
    "    \n",
    "    count = 0\n",
    "    name = \" \"\n",
    "    \n",
    "    for i in range(20):\n",
    "        tables.append(\"AVAILABLE\")\n",
    "        \n",
    "    \n",
    "    if choice == 0:\n",
    "        print(\"Thank you for using this program\")\n",
    "        break\n",
    "        \n",
    "    if choice == 1:\n",
    "        table = int(input(\"Please select your table number(0-19): \"))\n",
    "        if tables[table] == 'AVAILABLE':\n",
    "            name = input(\"What is your name?: \")\n",
    "            tables.insert(table, name) \n",
    "        else:\n",
    "            print(\"The table you selected is unavailable\")"
   ]
  },
  {
   "cell_type": "code",
   "execution_count": 272,
   "metadata": {},
   "outputs": [
    {
     "name": "stdout",
     "output_type": "stream",
     "text": [
      "['AVAILABLE', 'John', 'AVAILABLE', 'AVAILABLE', 'AVAILABLE', 'AVAILABLE', 'AVAILABLE', 'AVAILABLE', 'AVAILABLE', 'AVAILABLE', 'AVAILABLE', 'AVAILABLE', 'AVAILABLE', 'AVAILABLE', 'AVAILABLE', 'AVAILABLE', 'AVAILABLE', 'AVAILABLE', 'AVAILABLE', 'AVAILABLE', 'AVAILABLE', 'AVAILABLE', 'AVAILABLE', 'AVAILABLE', 'AVAILABLE', 'AVAILABLE', 'AVAILABLE', 'AVAILABLE', 'AVAILABLE', 'AVAILABLE', 'AVAILABLE', 'AVAILABLE', 'AVAILABLE', 'AVAILABLE', 'AVAILABLE', 'AVAILABLE', 'AVAILABLE', 'AVAILABLE', 'AVAILABLE', 'AVAILABLE', 'AVAILABLE', 'AVAILABLE', 'AVAILABLE', 'AVAILABLE', 'AVAILABLE', 'AVAILABLE', 'AVAILABLE', 'AVAILABLE', 'AVAILABLE', 'AVAILABLE', 'AVAILABLE', 'AVAILABLE', 'AVAILABLE', 'AVAILABLE', 'AVAILABLE', 'AVAILABLE', 'AVAILABLE', 'AVAILABLE', 'AVAILABLE', 'AVAILABLE', 'AVAILABLE']\n"
     ]
    }
   ],
   "source": [
    "print(tables)\n",
    "\n",
    "['AVAILABLE', 'John', 'AVAILABLE', 'AVAILABLE', 'AVAILABLE', 'AVAILABLE', 'AVAILABLE', \n",
    " 'AVAILABLE', 'AVAILABLE', 'AVAILABLE', 'AVAILABLE', 'AVAILABLE', 'AVAILABLE', 'AVAILABLE', \n",
    " 'AVAILABLE', 'AVAILABLE', 'AVAILABLE', 'AVAILABLE', 'AVAILABLE', 'AVAILABLE', 'AVAILABLE', \n",
    " 'AVAILABLE', 'AVAILABLE', 'AVAILABLE', 'AVAILABLE', 'AVAILABLE', 'AVAILABLE', 'AVAILABLE', \n",
    " 'AVAILABLE', 'AVAILABLE', 'AVAILABLE', 'AVAILABLE', 'AVAILABLE', 'AVAILABLE', 'AVAILABLE', \n",
    " 'AVAILABLE', 'AVAILABLE', 'AVAILABLE', 'AVAILABLE', 'AVAILABLE', 'AVAILABLE', 'AVAILABLE', \n",
    " 'AVAILABLE', 'AVAILABLE', 'AVAILABLE', 'AVAILABLE', 'AVAILABLE', 'AVAILABLE', 'AVAILABLE', \n",
    " 'AVAILABLE', 'AVAILABLE', 'AVAILABLE', 'AVAILABLE', 'AVAILABLE', 'AVAILABLE', 'AVAILABLE', \n",
    " 'AVAILABLE', 'AVAILABLE', 'AVAILABLE', 'AVAILABLE', 'AVAILABLE']"
   ]
  },
  {
   "cell_type": "code",
   "execution_count": null,
   "metadata": {},
   "outputs": [],
   "source": []
  }
 ],
 "metadata": {
  "kernelspec": {
   "display_name": "Python 3",
   "language": "python",
   "name": "python3"
  },
  "language_info": {
   "codemirror_mode": {
    "name": "ipython",
    "version": 3
   },
   "file_extension": ".py",
   "mimetype": "text/x-python",
   "name": "python",
   "nbconvert_exporter": "python",
   "pygments_lexer": "ipython3",
   "version": "3.8.3"
  }
 },
 "nbformat": 4,
 "nbformat_minor": 4
}
