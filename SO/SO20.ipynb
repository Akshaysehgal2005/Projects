{
 "cells": [
  {
   "cell_type": "code",
   "execution_count": 1,
   "metadata": {},
   "outputs": [],
   "source": [
    "import networkx as nx\n",
    "import numpy as np\n",
    "from itertools import chain, product\n",
    "\n",
    "#borders = np.arange(300)[np.random.randint(0,2,(300,),dtype=bool)]\n",
    "borders = np.array([0, 2, 5])"
   ]
  },
  {
   "cell_type": "code",
   "execution_count": 2,
   "metadata": {},
   "outputs": [
    {
     "name": "stdout",
     "output_type": "stream",
     "text": [
      "86.9 µs ± 20.8 µs per loop (mean ± std. dev. of 7 runs, 10000 loops each)\n"
     ]
    }
   ],
   "source": [
    "def get_coo(borders):\n",
    "\n",
    "    edge_list = []\n",
    "    for s, e in zip(borders, borders[1:]):\n",
    "        \n",
    "        # create fully-connected subgraph\n",
    "        arr = np.arange(s, e)\n",
    "        t = np.array(np.meshgrid(arr, arr)).T.reshape(-1, 2)\n",
    "        t = t.T\n",
    "\n",
    "        edge_list.append(t)\n",
    "\n",
    "    edge_list = np.concatenate(edge_list, axis=1)\n",
    "\n",
    "    return edge_list\n",
    "\n",
    "%timeit get_coo(borders)"
   ]
  },
  {
   "cell_type": "code",
   "execution_count": 3,
   "metadata": {},
   "outputs": [
    {
     "name": "stdout",
     "output_type": "stream",
     "text": [
      "159 µs ± 24.6 µs per loop (mean ± std. dev. of 7 runs, 10000 loops each)\n"
     ]
    }
   ],
   "source": [
    "def get_coo(borders):\n",
    "    graphs = [nx.complete_graph(range(*i),nx.DiGraph()) for i in zip(borders, borders[1:])]\n",
    "    edges = nx.disjoint_union_all(graphs).edges()\n",
    "    return edges\n",
    "\n",
    "%timeit get_coo(borders)"
   ]
  },
  {
   "cell_type": "code",
   "execution_count": 4,
   "metadata": {},
   "outputs": [
    {
     "name": "stdout",
     "output_type": "stream",
     "text": [
      "4.23 µs ± 788 ns per loop (mean ± std. dev. of 7 runs, 100000 loops each)\n"
     ]
    }
   ],
   "source": [
    "def get_coo(borders):\n",
    "    edges = chain(*[product(range(*i),repeat=2) for i in zip(borders, borders[1:])])\n",
    "    return list(edges)\n",
    "\n",
    "%timeit get_coo(borders)"
   ]
  },
  {
   "cell_type": "code",
   "execution_count": 5,
   "metadata": {},
   "outputs": [
    {
     "name": "stdout",
     "output_type": "stream",
     "text": [
      "17.1 µs ± 1.4 µs per loop (mean ± std. dev. of 7 runs, 10000 loops each)\n"
     ]
    }
   ],
   "source": [
    "def get_coo(borders):\n",
    "    bi_gram = np.lib.stride_tricks.as_strided(borders, \n",
    "                                          shape = (borders.shape[0]-1,2), \n",
    "                                          strides = (borders.strides[0],borders.strides[0]))\n",
    "    \n",
    "    edges = chain(*[product(i,i) for i in map(np.arange, *bi_gram)])\n",
    "    return list(edges)\n",
    "\n",
    "%timeit get_coo(borders)"
   ]
  },
  {
   "cell_type": "code",
   "execution_count": 6,
   "metadata": {},
   "outputs": [
    {
     "name": "stdout",
     "output_type": "stream",
     "text": [
      "239 µs ± 3.92 µs per loop (mean ± std. dev. of 7 runs, 1000 loops each)\n"
     ]
    }
   ],
   "source": [
    "def get_coo(borders):\n",
    "    graphs = [nx.from_numpy_matrix(np.ones((i,i))).to_directed() for i in np.diff(borders)]\n",
    "    edges = nx.disjoint_union_all(graphs).edges()\n",
    "    return edges\n",
    "\n",
    "%timeit get_coo(borders)"
   ]
  },
  {
   "cell_type": "code",
   "execution_count": 10,
   "metadata": {},
   "outputs": [
    {
     "data": {
      "text/plain": [
       "array([[0, 0, 1, 1, 2, 2, 2, 3, 3, 3, 4, 4, 4],\n",
       "       [0, 1, 0, 1, 2, 3, 4, 2, 3, 4, 2, 3, 4]])"
      ]
     },
     "execution_count": 10,
     "metadata": {},
     "output_type": "execute_result"
    }
   ],
   "source": [
    "import numpy as np\n",
    "from itertools import product, chain\n",
    "\n",
    "def get_coo(borders):\n",
    "    edges = chain(*[product(range(*i),repeat=2) for i in zip(borders, borders[1:])])\n",
    "    return list(edges)\n",
    "\n",
    "np.array(get_coo(borders)).T"
   ]
  },
  {
   "cell_type": "code",
   "execution_count": null,
   "metadata": {},
   "outputs": [],
   "source": []
  },
  {
   "cell_type": "code",
   "execution_count": null,
   "metadata": {},
   "outputs": [],
   "source": []
  },
  {
   "cell_type": "code",
   "execution_count": null,
   "metadata": {},
   "outputs": [],
   "source": []
  },
  {
   "cell_type": "code",
   "execution_count": 8,
   "metadata": {},
   "outputs": [
    {
     "name": "stdout",
     "output_type": "stream",
     "text": [
      "[{'symbol_name': 'AUDIOUSDT', '1m_scenario': 1, '1m_continuity': 1, '3m_scenario': 2, '3m_continuity': 1, '5m_scenario': 1, '5m_continuity': 1, '15m_scenario': 1, '15m_continuity': 1, '30m_scenario': 2, '30m_continuity': 1, '1h_scenario': 2, '1h_continuity': 1}, {'symbol_name': 'TRBUSDT', '1m_scenario': -2, '1m_continuity': 0, '3m_scenario': 2, '3m_continuity': 1, '5m_scenario': 1, '5m_continuity': -1, '15m_scenario': 1, '15m_continuity': -1, '30m_scenario': 2, '30m_continuity': 1, '1h_scenario': 2, '1h_continuity': 1}]\n"
     ]
    }
   ],
   "source": [
    "from collections import defaultdict\n",
    "\n",
    "l= [{'symbol_name': 'AUDIOUSDT', 'timeframe_name': '1m', 'scenario': 1, 'continuity': 1},\n",
    "    {'symbol_name': 'AUDIOUSDT', 'timeframe_name': '3m', 'scenario': 2, 'continuity': 1},\n",
    "    {'symbol_name': 'AUDIOUSDT', 'timeframe_name': '5m', 'scenario': 1, 'continuity': 1},\n",
    "    {'symbol_name': 'AUDIOUSDT', 'timeframe_name': '15m', 'scenario': 1, 'continuity': 1},\n",
    "    {'symbol_name': 'AUDIOUSDT', 'timeframe_name': '30m', 'scenario': 2, 'continuity': 1},\n",
    "    {'symbol_name': 'AUDIOUSDT', 'timeframe_name': '1h', 'scenario': 2, 'continuity': 1},\n",
    "    {'symbol_name': 'TRBUSDT', 'timeframe_name': '1m', 'scenario': -2, 'continuity': 0},\n",
    "    {'symbol_name': 'TRBUSDT', 'timeframe_name': '3m', 'scenario': 2, 'continuity': 1},\n",
    "    {'symbol_name': 'TRBUSDT', 'timeframe_name': '5m', 'scenario': 1, 'continuity': -1},\n",
    "    {'symbol_name': 'TRBUSDT', 'timeframe_name': '15m', 'scenario': 1, 'continuity': -1},\n",
    "    {'symbol_name': 'TRBUSDT', 'timeframe_name': '30m', 'scenario': 2, 'continuity': 1},\n",
    "    {'symbol_name': 'TRBUSDT', 'timeframe_name': '1h', 'scenario': 2, 'continuity': 1}]\n",
    "\n",
    "\n",
    "d = defaultdict(dict)\n",
    "for i in l:\n",
    "    k = {'symbol_name':i['symbol_name'],\n",
    "         i['timeframe_name']+'_scenario':i['scenario'], \n",
    "         i['timeframe_name']+'_continuity':i['continuity']}\n",
    "    d[i['symbol_name']].update(k)\n",
    "    \n",
    "output = list(d.values())\n",
    "print(output)"
   ]
  },
  {
   "cell_type": "code",
   "execution_count": null,
   "metadata": {},
   "outputs": [],
   "source": []
  },
  {
   "cell_type": "code",
   "execution_count": null,
   "metadata": {},
   "outputs": [],
   "source": []
  },
  {
   "cell_type": "code",
   "execution_count": null,
   "metadata": {},
   "outputs": [],
   "source": []
  },
  {
   "cell_type": "code",
   "execution_count": 11,
   "metadata": {},
   "outputs": [
    {
     "data": {
      "text/plain": [
       "[[5, 0, 0, 0, 0],\n",
       " [4, 4, 0, 0, 0],\n",
       " [3, 3, 3, 0, 0],\n",
       " [2, 2, 2, 2, 0],\n",
       " [1, 1, 1, 1, 1]]"
      ]
     },
     "execution_count": 11,
     "metadata": {},
     "output_type": "execute_result"
    }
   ],
   "source": [
    "n = 5\n",
    "\n",
    "[[i+1]*(n-i)+[0]*(i) for i in reversed(range(0,n))]"
   ]
  },
  {
   "cell_type": "code",
   "execution_count": null,
   "metadata": {},
   "outputs": [],
   "source": []
  },
  {
   "cell_type": "code",
   "execution_count": null,
   "metadata": {},
   "outputs": [],
   "source": []
  },
  {
   "cell_type": "code",
   "execution_count": null,
   "metadata": {},
   "outputs": [],
   "source": []
  },
  {
   "cell_type": "code",
   "execution_count": 13,
   "metadata": {},
   "outputs": [
    {
     "name": "stdout",
     "output_type": "stream",
     "text": [
      "['beef', 'chicken', 'steak', 'fish', 'plants']\n",
      "['plants', 'steak', 'cheese']\n",
      "['plants', 'steak']\n"
     ]
    }
   ],
   "source": [
    "def compare_lists_same(list3, list4):\n",
    "    common =[j for j in list4 if j in list3]\n",
    "    return common\n",
    "\n",
    "A = ['beef','chicken','steak','fish','plants', 1, 2]\n",
    "B = ['plants','steak','cheese', 1, 2, 3, 4, 5]\n",
    "\n",
    "ignore_case = False\n",
    "\n",
    "\n",
    "def new_print(l):\n",
    "    print([i for i in l if isinstance(i,str)])\n",
    "\n",
    "new_print(A)\n",
    "new_print(B)\n",
    "\n",
    "C = compare_lists_same (A,B)\n",
    "\n",
    "new_print(C)"
   ]
  },
  {
   "cell_type": "code",
   "execution_count": null,
   "metadata": {},
   "outputs": [],
   "source": []
  },
  {
   "cell_type": "code",
   "execution_count": null,
   "metadata": {},
   "outputs": [],
   "source": []
  },
  {
   "cell_type": "code",
   "execution_count": null,
   "metadata": {},
   "outputs": [],
   "source": []
  },
  {
   "cell_type": "code",
   "execution_count": 18,
   "metadata": {},
   "outputs": [
    {
     "data": {
      "text/plain": [
       "array([0.2, 0.3])"
      ]
     },
     "execution_count": 18,
     "metadata": {},
     "output_type": "execute_result"
    }
   ],
   "source": [
    "data = np.array([[0.75, 0.05, 0.1, 0.2],\n",
    "                 [0.4, 0.3, 0.2, 0.1]])\n",
    "\n",
    "labels = np.array([3,1])\n",
    "\n",
    "np.take_along_axis(data, labels[:,None], axis=1).ravel()"
   ]
  },
  {
   "cell_type": "code",
   "execution_count": null,
   "metadata": {},
   "outputs": [],
   "source": []
  },
  {
   "cell_type": "code",
   "execution_count": null,
   "metadata": {},
   "outputs": [],
   "source": []
  },
  {
   "cell_type": "code",
   "execution_count": null,
   "metadata": {},
   "outputs": [],
   "source": []
  },
  {
   "cell_type": "code",
   "execution_count": 20,
   "metadata": {},
   "outputs": [
    {
     "data": {
      "text/plain": [
       "array([[[83, 36, 87],\n",
       "        [39, 46, 88],\n",
       "        [37, 77, 72]],\n",
       "\n",
       "       [[64, 99, 88],\n",
       "        [32,  9, 57],\n",
       "        [31, 23, 35]]])"
      ]
     },
     "execution_count": 20,
     "metadata": {},
     "output_type": "execute_result"
    }
   ],
   "source": [
    "arr = np.array([[[44, 47, 64, 67, 67],\n",
    "                 [ 9, 83, 21, 36, 87],\n",
    "                 [70, 88, 88, 12, 58],\n",
    "                 [65, 39, 87, 46, 88],\n",
    "                 [81, 37, 25, 77, 72]],\n",
    "         \n",
    "                [[ 9, 20, 80, 69, 79],\n",
    "                 [47, 64, 82, 99, 88],\n",
    "                 [49, 29, 19, 19, 14],\n",
    "                 [39, 32, 65,  9, 57],\n",
    "                 [32, 31, 74, 23, 35]]])\n",
    "\n",
    "\n",
    "idx = [1,3,4]\n",
    "\n",
    "ixgrid = np.ix_(idx,idx)\n",
    "arr[:,ixgrid[0],ixgrid[1]]"
   ]
  },
  {
   "cell_type": "code",
   "execution_count": null,
   "metadata": {},
   "outputs": [],
   "source": []
  },
  {
   "cell_type": "code",
   "execution_count": null,
   "metadata": {},
   "outputs": [],
   "source": []
  },
  {
   "cell_type": "code",
   "execution_count": 22,
   "metadata": {},
   "outputs": [],
   "source": [
    "import pandas as pd"
   ]
  },
  {
   "cell_type": "code",
   "execution_count": null,
   "metadata": {},
   "outputs": [],
   "source": [
    "column_1  column_2  column_3\n",
    "   45         3          2\n",
    "   NaN        4          6\n",
    "   NaN        7          2\n",
    "   37         1          1 \n",
    "   NaN        6          4\n",
    "   NaN        2          7\n",
    "   NaN        4          5\n",
    "    45        2          2\n",
    "   NaN        1          1\n",
    "   NaN        3          3"
   ]
  },
  {
   "cell_type": "code",
   "execution_count": 23,
   "metadata": {},
   "outputs": [
    {
     "name": "stdout",
     "output_type": "stream",
     "text": [
      "   column_1  column_2  column_3\n",
      "0      45.0  4.666667  3.333333\n",
      "1      37.0  3.250000  4.250000\n",
      "2      45.0  2.000000  2.000000\n"
     ]
    }
   ],
   "source": [
    "df = pd.read_clipboard()\n",
    "\n",
    "df['column_1'] = df['column_1'].ffill()\n",
    "print(df.groupby((df['column_1']!=df['column_1'].shift()).cumsum()).mean().reset_index(drop=True))"
   ]
  },
  {
   "cell_type": "code",
   "execution_count": null,
   "metadata": {},
   "outputs": [],
   "source": []
  },
  {
   "cell_type": "code",
   "execution_count": null,
   "metadata": {},
   "outputs": [],
   "source": []
  },
  {
   "cell_type": "code",
   "execution_count": null,
   "metadata": {},
   "outputs": [],
   "source": []
  },
  {
   "cell_type": "code",
   "execution_count": 24,
   "metadata": {},
   "outputs": [
    {
     "name": "stdout",
     "output_type": "stream",
     "text": [
      "           0         1         2\n",
      "0   0.381519  0.057224  0.160251\n",
      "6   0.138984  0.689423  0.422007\n",
      "71  0.487369  0.815396  0.341601\n",
      "78  0.068916  0.988259  0.498557\n",
      "71  0.139149  0.773157  0.615749\n",
      "76  0.560852  0.538044  0.264561\n",
      "89  0.377186  0.296929  0.797931\n",
      "3   0.575728  0.100556  0.859895\n",
      "51  0.476764  0.895649  0.480793\n",
      "70  0.204346  0.188661  0.287836\n",
      "0   0.134445  0.225171  0.529953\n",
      "29  0.385063  0.109980  0.731864\n"
     ]
    }
   ],
   "source": [
    "import pandas as pd\n",
    "import numpy as np\n",
    "\n",
    "dataset0 = pd.DataFrame(np.random.random((100,3)))\n",
    "dataset1 = pd.DataFrame(np.random.random((100,3)))\n",
    "dataset2 = pd.DataFrame(np.random.random((100,3)))\n",
    "dataset3 = pd.DataFrame(np.random.random((100,3)))\n",
    "\n",
    "samples = [eval('dataset'+str(i)).sample(3) for i in range(4)]\n",
    "print(pd.concat(samples))"
   ]
  },
  {
   "cell_type": "code",
   "execution_count": null,
   "metadata": {},
   "outputs": [],
   "source": []
  },
  {
   "cell_type": "code",
   "execution_count": null,
   "metadata": {},
   "outputs": [],
   "source": []
  },
  {
   "cell_type": "code",
   "execution_count": null,
   "metadata": {},
   "outputs": [],
   "source": []
  },
  {
   "cell_type": "code",
   "execution_count": 25,
   "metadata": {},
   "outputs": [
    {
     "name": "stdout",
     "output_type": "stream",
     "text": [
      "[[[1]\n",
      "  [2]]\n",
      "\n",
      " [[3]\n",
      "  [4]]]\n",
      "-------\n",
      "[[[1 5]\n",
      "  [2 6]]\n",
      "\n",
      " [[3 7]\n",
      "  [4 8]]]\n",
      "-------\n",
      "[[[ 1  5  9]\n",
      "  [ 2  6 10]]\n",
      "\n",
      " [[ 3  7 11]\n",
      "  [ 4  8 12]]]\n",
      "-------\n",
      "[[[ 1  5  9  1]\n",
      "  [ 2  6 10  2]]\n",
      "\n",
      " [[ 3  7 11  3]\n",
      "  [ 4  8 12  4]]]\n",
      "-------\n",
      "[[[ 1  5  9  1  5]\n",
      "  [ 2  6 10  2  6]]\n",
      "\n",
      " [[ 3  7 11  3  7]\n",
      "  [ 4  8 12  4  8]]]\n",
      "-------\n",
      "[[[ 1  5  9  1  5  9]\n",
      "  [ 2  6 10  2  6 10]]\n",
      "\n",
      " [[ 3  7 11  3  7 11]\n",
      "  [ 4  8 12  4  8 12]]]\n",
      "-------\n"
     ]
    }
   ],
   "source": [
    "a = [[1,2],\n",
    "     [3,4]]\n",
    "\n",
    "b = [[5,6],\n",
    "     [7,8]]\n",
    "\n",
    "c = [[[1,5],[2,6]],\n",
    "     [[3,7],[4,8]]]\n",
    "\n",
    "d = [[9,10],\n",
    "     [11,12]]\n",
    "\n",
    "e = [[[1,5,9],[2,6,10]],\n",
    "     [[3,7,11],[4,8,12]]]\n",
    "\n",
    "\n",
    "a = np.array(a)\n",
    "b = np.array(b)\n",
    "a = np.array(a)\n",
    "b = np.array(b)\n",
    "\n",
    "inp = [a,b,d,a,b,d]\n",
    "l = []\n",
    "\n",
    "for i in inp:\n",
    "    l.append(i)\n",
    "    print(np.dstack(l))\n",
    "    print('-------')"
   ]
  },
  {
   "cell_type": "code",
   "execution_count": null,
   "metadata": {},
   "outputs": [],
   "source": []
  },
  {
   "cell_type": "code",
   "execution_count": null,
   "metadata": {},
   "outputs": [],
   "source": []
  },
  {
   "cell_type": "code",
   "execution_count": null,
   "metadata": {},
   "outputs": [],
   "source": []
  },
  {
   "cell_type": "code",
   "execution_count": 28,
   "metadata": {},
   "outputs": [],
   "source": [
    "l = [[{'id': 123456,\n",
    "      'name': 'John',\n",
    "      'age': 22,\n",
    "      'pet': None,\n",
    "      'gender': 'male',\n",
    "      'result': [{'id': 'vEo0PIYPEE',\n",
    "        'type': 'choices',\n",
    "        'value': {'choices': ['Same Person']},\n",
    "        'to_name': 'image',\n",
    "        'from_name': 'person_evaluation'}]}],\n",
    "\n",
    "    [{'id': 123457,\n",
    "      'name': 'May',\n",
    "      'age': 21,\n",
    "      'pet': None,\n",
    "      'gender': 'female',\n",
    "      'result': [{'id': 'zTHYuKIOQ',\n",
    "        'type': 'choices',\n",
    "        'value': {'choices': ['Different Person']},\n",
    "        'to_name': 'image',\n",
    "        'from_name': 'person_evaluation'}]}]]"
   ]
  },
  {
   "cell_type": "code",
   "execution_count": 31,
   "metadata": {},
   "outputs": [
    {
     "data": {
      "text/html": [
       "<div>\n",
       "<style scoped>\n",
       "    .dataframe tbody tr th:only-of-type {\n",
       "        vertical-align: middle;\n",
       "    }\n",
       "\n",
       "    .dataframe tbody tr th {\n",
       "        vertical-align: top;\n",
       "    }\n",
       "\n",
       "    .dataframe thead th {\n",
       "        text-align: right;\n",
       "    }\n",
       "</style>\n",
       "<table border=\"1\" class=\"dataframe\">\n",
       "  <thead>\n",
       "    <tr style=\"text-align: right;\">\n",
       "      <th></th>\n",
       "      <th>labels</th>\n",
       "    </tr>\n",
       "  </thead>\n",
       "  <tbody>\n",
       "    <tr>\n",
       "      <th>0</th>\n",
       "      <td>[{'id': 123456, 'name': 'John', 'age': 22, 'pe...</td>\n",
       "    </tr>\n",
       "    <tr>\n",
       "      <th>1</th>\n",
       "      <td>[{'id': 123457, 'name': 'May', 'age': 21, 'pet...</td>\n",
       "    </tr>\n",
       "  </tbody>\n",
       "</table>\n",
       "</div>"
      ],
      "text/plain": [
       "                                              labels\n",
       "0  [{'id': 123456, 'name': 'John', 'age': 22, 'pe...\n",
       "1  [{'id': 123457, 'name': 'May', 'age': 21, 'pet..."
      ]
     },
     "execution_count": 31,
     "metadata": {},
     "output_type": "execute_result"
    }
   ],
   "source": [
    "df = pd.DataFrame({'labels':l})\n",
    "df"
   ]
  },
  {
   "cell_type": "code",
   "execution_count": 47,
   "metadata": {},
   "outputs": [
    {
     "data": {
      "text/plain": [
       "[[{'id': 123456,\n",
       "   'name': 'John',\n",
       "   'age': 22,\n",
       "   'pet': None,\n",
       "   'gender': 'male',\n",
       "   'result': [{'id': 'vEo0PIYPEE',\n",
       "     'type': 'choices',\n",
       "     'value': {'choices': ['Same Person']},\n",
       "     'to_name': 'image',\n",
       "     'from_name': 'person_evaluation'}]}],\n",
       " [{'id': 123457,\n",
       "   'name': 'May',\n",
       "   'age': 21,\n",
       "   'pet': None,\n",
       "   'gender': 'female',\n",
       "   'result': [{'id': 'zTHYuKIOQ',\n",
       "     'type': 'choices',\n",
       "     'value': {'choices': ['Different Person']},\n",
       "     'to_name': 'image',\n",
       "     'from_name': 'person_evaluation'}]}]]"
      ]
     },
     "execution_count": 47,
     "metadata": {},
     "output_type": "execute_result"
    }
   ],
   "source": []
  },
  {
   "cell_type": "code",
   "execution_count": null,
   "metadata": {},
   "outputs": [],
   "source": []
  },
  {
   "cell_type": "code",
   "execution_count": null,
   "metadata": {},
   "outputs": [],
   "source": []
  },
  {
   "cell_type": "code",
   "execution_count": null,
   "metadata": {},
   "outputs": [],
   "source": []
  },
  {
   "cell_type": "code",
   "execution_count": null,
   "metadata": {},
   "outputs": [],
   "source": [
    "ID  Q1  Q2  QN\n",
    "1   1   1   0\n",
    "2   1   1   1\n",
    "3   0   0   1\n",
    "4   0   1   0"
   ]
  },
  {
   "cell_type": "code",
   "execution_count": 49,
   "metadata": {},
   "outputs": [],
   "source": [
    "df = pd.read_clipboard()"
   ]
  },
  {
   "cell_type": "code",
   "execution_count": 52,
   "metadata": {
    "scrolled": true
   },
   "outputs": [
    {
     "data": {
      "text/html": [
       "<div>\n",
       "<style scoped>\n",
       "    .dataframe tbody tr th:only-of-type {\n",
       "        vertical-align: middle;\n",
       "    }\n",
       "\n",
       "    .dataframe tbody tr th {\n",
       "        vertical-align: top;\n",
       "    }\n",
       "\n",
       "    .dataframe thead th {\n",
       "        text-align: right;\n",
       "    }\n",
       "</style>\n",
       "<table border=\"1\" class=\"dataframe\">\n",
       "  <thead>\n",
       "    <tr style=\"text-align: right;\">\n",
       "      <th></th>\n",
       "      <th>ID</th>\n",
       "      <th>Q1</th>\n",
       "      <th>Q2</th>\n",
       "      <th>QN</th>\n",
       "    </tr>\n",
       "  </thead>\n",
       "  <tbody>\n",
       "    <tr>\n",
       "      <th>0</th>\n",
       "      <td>1</td>\n",
       "      <td>1</td>\n",
       "      <td>1</td>\n",
       "      <td>0</td>\n",
       "    </tr>\n",
       "    <tr>\n",
       "      <th>1</th>\n",
       "      <td>2</td>\n",
       "      <td>1</td>\n",
       "      <td>1</td>\n",
       "      <td>1</td>\n",
       "    </tr>\n",
       "    <tr>\n",
       "      <th>2</th>\n",
       "      <td>3</td>\n",
       "      <td>0</td>\n",
       "      <td>0</td>\n",
       "      <td>1</td>\n",
       "    </tr>\n",
       "    <tr>\n",
       "      <th>3</th>\n",
       "      <td>4</td>\n",
       "      <td>0</td>\n",
       "      <td>1</td>\n",
       "      <td>0</td>\n",
       "    </tr>\n",
       "  </tbody>\n",
       "</table>\n",
       "</div>"
      ],
      "text/plain": [
       "   ID  Q1  Q2  QN\n",
       "0   1   1   1   0\n",
       "1   2   1   1   1\n",
       "2   3   0   0   1\n",
       "3   4   0   1   0"
      ]
     },
     "execution_count": 52,
     "metadata": {},
     "output_type": "execute_result"
    }
   ],
   "source": [
    "df"
   ]
  },
  {
   "cell_type": "code",
   "execution_count": 72,
   "metadata": {},
   "outputs": [
    {
     "data": {
      "text/html": [
       "<div>\n",
       "<style scoped>\n",
       "    .dataframe tbody tr th:only-of-type {\n",
       "        vertical-align: middle;\n",
       "    }\n",
       "\n",
       "    .dataframe tbody tr th {\n",
       "        vertical-align: top;\n",
       "    }\n",
       "\n",
       "    .dataframe thead th {\n",
       "        text-align: right;\n",
       "    }\n",
       "</style>\n",
       "<table border=\"1\" class=\"dataframe\">\n",
       "  <thead>\n",
       "    <tr style=\"text-align: right;\">\n",
       "      <th></th>\n",
       "      <th>ID</th>\n",
       "      <th>Question</th>\n",
       "      <th>Answer</th>\n",
       "    </tr>\n",
       "  </thead>\n",
       "  <tbody>\n",
       "    <tr>\n",
       "      <th>0</th>\n",
       "      <td>1</td>\n",
       "      <td>Q1</td>\n",
       "      <td>1</td>\n",
       "    </tr>\n",
       "    <tr>\n",
       "      <th>1</th>\n",
       "      <td>2</td>\n",
       "      <td>Q1</td>\n",
       "      <td>1</td>\n",
       "    </tr>\n",
       "    <tr>\n",
       "      <th>2</th>\n",
       "      <td>3</td>\n",
       "      <td>Q1</td>\n",
       "      <td>0</td>\n",
       "    </tr>\n",
       "    <tr>\n",
       "      <th>3</th>\n",
       "      <td>4</td>\n",
       "      <td>Q1</td>\n",
       "      <td>0</td>\n",
       "    </tr>\n",
       "    <tr>\n",
       "      <th>4</th>\n",
       "      <td>1</td>\n",
       "      <td>Q2</td>\n",
       "      <td>1</td>\n",
       "    </tr>\n",
       "    <tr>\n",
       "      <th>5</th>\n",
       "      <td>2</td>\n",
       "      <td>Q2</td>\n",
       "      <td>1</td>\n",
       "    </tr>\n",
       "    <tr>\n",
       "      <th>6</th>\n",
       "      <td>3</td>\n",
       "      <td>Q2</td>\n",
       "      <td>0</td>\n",
       "    </tr>\n",
       "    <tr>\n",
       "      <th>7</th>\n",
       "      <td>4</td>\n",
       "      <td>Q2</td>\n",
       "      <td>1</td>\n",
       "    </tr>\n",
       "    <tr>\n",
       "      <th>8</th>\n",
       "      <td>1</td>\n",
       "      <td>QN</td>\n",
       "      <td>0</td>\n",
       "    </tr>\n",
       "    <tr>\n",
       "      <th>9</th>\n",
       "      <td>2</td>\n",
       "      <td>QN</td>\n",
       "      <td>1</td>\n",
       "    </tr>\n",
       "    <tr>\n",
       "      <th>10</th>\n",
       "      <td>3</td>\n",
       "      <td>QN</td>\n",
       "      <td>1</td>\n",
       "    </tr>\n",
       "    <tr>\n",
       "      <th>11</th>\n",
       "      <td>4</td>\n",
       "      <td>QN</td>\n",
       "      <td>0</td>\n",
       "    </tr>\n",
       "  </tbody>\n",
       "</table>\n",
       "</div>"
      ],
      "text/plain": [
       "    ID Question  Answer\n",
       "0    1       Q1       1\n",
       "1    2       Q1       1\n",
       "2    3       Q1       0\n",
       "3    4       Q1       0\n",
       "4    1       Q2       1\n",
       "5    2       Q2       1\n",
       "6    3       Q2       0\n",
       "7    4       Q2       1\n",
       "8    1       QN       0\n",
       "9    2       QN       1\n",
       "10   3       QN       1\n",
       "11   4       QN       0"
      ]
     },
     "execution_count": 72,
     "metadata": {},
     "output_type": "execute_result"
    }
   ],
   "source": [
    "df.melt('ID', ['Q1','Q2','QN'], 'Question', 'Answer')"
   ]
  },
  {
   "cell_type": "code",
   "execution_count": null,
   "metadata": {},
   "outputs": [],
   "source": []
  },
  {
   "cell_type": "code",
   "execution_count": null,
   "metadata": {},
   "outputs": [],
   "source": [
    "# desired output\n",
    "animals = {\n",
    " \"animals\": {\n",
    "   \"dog\": {\n",
    "     \"legs\": 4,\n",
    "   },\n",
    "  }, \n",
    "}"
   ]
  },
  {
   "cell_type": "code",
   "execution_count": null,
   "metadata": {},
   "outputs": [],
   "source": []
  },
  {
   "cell_type": "code",
   "execution_count": 73,
   "metadata": {},
   "outputs": [],
   "source": [
    "dog_path = [\"animals\", \"dog\"]\n",
    "\n",
    "dog_content = {\n",
    "  \"legs\": 4,\n",
    "}"
   ]
  },
  {
   "cell_type": "code",
   "execution_count": 77,
   "metadata": {},
   "outputs": [
    {
     "data": {
      "text/plain": [
       "['animals', 'dog']"
      ]
     },
     "execution_count": 77,
     "metadata": {},
     "output_type": "execute_result"
    }
   ],
   "source": [
    "[i for i in dog_path]"
   ]
  },
  {
   "cell_type": "code",
   "execution_count": null,
   "metadata": {},
   "outputs": [],
   "source": []
  },
  {
   "cell_type": "code",
   "execution_count": null,
   "metadata": {},
   "outputs": [],
   "source": []
  },
  {
   "cell_type": "code",
   "execution_count": 80,
   "metadata": {},
   "outputs": [],
   "source": [
    "a = {'type': 'Low', 'count': 184} \n",
    "b = {'type': 'Low', 'count': 186} \n",
    "c = {'type': 'Low', 'count': 97} \n",
    "d = {'type': 'Medium', 'count': 1000} \n",
    "e = {'type': 'High', 'count': 2000} "
   ]
  },
  {
   "cell_type": "code",
   "execution_count": 81,
   "metadata": {},
   "outputs": [
    {
     "name": "stdout",
     "output_type": "stream",
     "text": [
      "{'type': 'Low', 'count': 184}\n",
      "{'type': 'Low', 'count': 186}\n",
      "{'type': 'Low', 'count': 97}\n",
      "{'type': 'Medium', 'count': 1000}\n",
      "{'type': 'High', 'count': 2000}\n"
     ]
    }
   ],
   "source": [
    "from collections import defaultdict\n",
    "\n",
    "output = defaultdict(list)\n",
    "l = [a,b,c,d,e]\n",
    "\n",
    "for i in l:\n",
    "    "
   ]
  },
  {
   "cell_type": "code",
   "execution_count": null,
   "metadata": {},
   "outputs": [],
   "source": []
  },
  {
   "cell_type": "code",
   "execution_count": null,
   "metadata": {},
   "outputs": [],
   "source": []
  },
  {
   "cell_type": "code",
   "execution_count": null,
   "metadata": {},
   "outputs": [],
   "source": []
  },
  {
   "cell_type": "code",
   "execution_count": 86,
   "metadata": {},
   "outputs": [],
   "source": []
  },
  {
   "cell_type": "code",
   "execution_count": 87,
   "metadata": {},
   "outputs": [
    {
     "data": {
      "text/plain": [
       "array([[23, 33, 27, 32],\n",
       "       [52, 30, 57, 11],\n",
       "       [19,  3, 34, 59],\n",
       "       [37, 30, 62, 20]])"
      ]
     },
     "execution_count": 87,
     "metadata": {},
     "output_type": "execute_result"
    }
   ],
   "source": [
    "k"
   ]
  },
  {
   "cell_type": "code",
   "execution_count": 88,
   "metadata": {},
   "outputs": [
    {
     "data": {
      "text/plain": [
       "(32, 8)"
      ]
     },
     "execution_count": 88,
     "metadata": {},
     "output_type": "execute_result"
    }
   ],
   "source": [
    "k.strides"
   ]
  },
  {
   "cell_type": "code",
   "execution_count": 91,
   "metadata": {},
   "outputs": [],
   "source": [
    "x,y = 2,2"
   ]
  },
  {
   "cell_type": "code",
   "execution_count": null,
   "metadata": {},
   "outputs": [],
   "source": []
  },
  {
   "cell_type": "code",
   "execution_count": null,
   "metadata": {},
   "outputs": [],
   "source": []
  },
  {
   "cell_type": "code",
   "execution_count": null,
   "metadata": {},
   "outputs": [],
   "source": []
  },
  {
   "cell_type": "code",
   "execution_count": 115,
   "metadata": {},
   "outputs": [
    {
     "name": "stdout",
     "output_type": "stream",
     "text": [
      "expected shape: (4, 4, 2, 2)\n",
      "required strides: (128, 16, 64, 8)\n",
      "convolution output shape: (4, 4, 2, 2)\n",
      "maxpooled output shape: (4, 4)\n",
      " \n",
      "Input matrix:\n",
      "[[15 52 61 54 53 17 30 15]\n",
      " [26 36 20 48  8 14 59  3]\n",
      " [21 53 34 31 40 30 33 44]\n",
      " [60 60 44 17 29  6 52 42]\n",
      " [47 54 19 25 19  5 28 16]\n",
      " [ 9 38  3 52  3 22 36 51]\n",
      " [20 40 45 33 13  5 27 50]\n",
      " [20 11 15 57 50  1 38 17]]\n",
      "--------\n",
      "Output matrix:\n",
      "[[32.25 45.75 23.   26.75]\n",
      " [48.5  31.5  26.25 42.75]\n",
      " [37.   24.75 12.25 32.75]\n",
      " [22.75 37.5  17.25 33.  ]]\n"
     ]
    }
   ],
   "source": [
    "k = np.random.randint(1,64,64).reshape(8,8)\n",
    "\n",
    "#Strides\n",
    "x,y = 2,2\n",
    "\n",
    "shape = k.shape[0]//x, k.shape[1]//y, x, y  \n",
    "strides = k.strides[0]*x, k.strides[1]*y, k.strides[0], k.strides[1]\n",
    "\n",
    "print('expected shape:',shape)\n",
    "print('required strides:',strides)\n",
    "\n",
    "convolve = np.lib.stride_tricks.as_strided(k, shape=shape, strides=strides)\n",
    "print('convolution output shape:',convolve.shape)\n",
    "\n",
    "maxpool = np.mean(convolve, axis=(-1,-2))\n",
    "print('maxpooled output shape:',maxpool.shape)\n",
    "\n",
    "\n",
    "print(' ')\n",
    "print('Input matrix:')\n",
    "print(k)\n",
    "print('--------')\n",
    "print('Output matrix:')\n",
    "print(maxpool)"
   ]
  },
  {
   "cell_type": "code",
   "execution_count": 122,
   "metadata": {},
   "outputs": [
    {
     "data": {
      "text/plain": [
       "18.5"
      ]
     },
     "execution_count": 122,
     "metadata": {},
     "output_type": "execute_result"
    }
   ],
   "source": [
    "first_window = [[19,32],\n",
    "                 [4,19]]\n",
    "\n",
    "np.mean(first_window)\n",
    "\n",
    "18.5"
   ]
  },
  {
   "cell_type": "code",
   "execution_count": 127,
   "metadata": {},
   "outputs": [],
   "source": [
    "import numpy as np\n",
    "\n",
    "# use 2-by-3 size to prevent some subtle indexing errors\n",
    "arr = np.random.randint(1, 64, 64).reshape(8, 8)\n",
    "\n",
    "m, n = arr.shape\n",
    "pooled = arr.reshape(m//2, 2, n//2, 2).mean((1, 3))"
   ]
  },
  {
   "cell_type": "code",
   "execution_count": 128,
   "metadata": {},
   "outputs": [
    {
     "data": {
      "text/plain": [
       "array([[ 3, 50, 16, 47, 16,  2, 54, 18],\n",
       "       [11, 26, 27,  4, 62, 12, 16, 25],\n",
       "       [19, 25, 28, 54, 46,  3,  2, 20],\n",
       "       [57, 30, 47, 46, 19, 12, 46,  8],\n",
       "       [30,  4,  3, 46, 50, 30, 23, 58],\n",
       "       [59, 52, 10, 61, 41, 46, 43, 62],\n",
       "       [21, 26, 30, 45, 14,  3, 24, 33],\n",
       "       [42, 48, 26,  8, 17, 55, 42, 32]])"
      ]
     },
     "execution_count": 128,
     "metadata": {},
     "output_type": "execute_result"
    }
   ],
   "source": [
    "arr"
   ]
  },
  {
   "cell_type": "code",
   "execution_count": 132,
   "metadata": {},
   "outputs": [],
   "source": [
    "my_list = [1,2,3,4,2,3]"
   ]
  },
  {
   "cell_type": "code",
   "execution_count": null,
   "metadata": {},
   "outputs": [],
   "source": []
  },
  {
   "cell_type": "code",
   "execution_count": null,
   "metadata": {},
   "outputs": [],
   "source": []
  },
  {
   "cell_type": "code",
   "execution_count": null,
   "metadata": {},
   "outputs": [],
   "source": []
  },
  {
   "cell_type": "code",
   "execution_count": null,
   "metadata": {},
   "outputs": [],
   "source": []
  },
  {
   "cell_type": "code",
   "execution_count": null,
   "metadata": {},
   "outputs": [],
   "source": []
  },
  {
   "cell_type": "code",
   "execution_count": null,
   "metadata": {},
   "outputs": [],
   "source": []
  },
  {
   "cell_type": "code",
   "execution_count": 148,
   "metadata": {},
   "outputs": [
    {
     "name": "stdout",
     "output_type": "stream",
     "text": [
      "Epoch 1/3\n",
      "180/180 [==============================] - 0s 1ms/step - loss: 0.4628 - mean_squared_error: 0.4628\n",
      "Epoch 2/3\n",
      "180/180 [==============================] - 0s 726us/step - loss: 0.4093 - mean_squared_error: 0.4093\n",
      "Epoch 3/3\n",
      "180/180 [==============================] - 0s 690us/step - loss: 0.3792 - mean_squared_error: 0.3792\n"
     ]
    },
    {
     "data": {
      "image/png": "[encoded data removed]",
      "text/plain": [
       "<Figure size 432x288 with 1 Axes>"
      ]
     },
     "metadata": {
      "needs_background": "light"
     },
     "output_type": "display_data"
    }
   ],
   "source": [
    "import numpy as np\n",
    "import tensorflow as tf\n",
    "from tensorflow.keras import layers, models\n",
    "import matplotlib.pyplot as plt\n",
    "\n",
    "f1 = lambda x: ((x < .5) * np.power(x, 2) + (x > .5) * x) * 2 -1\n",
    "x = np.linspace(-1, 1, 180).reshape(-1,1)\n",
    "y = f1(x).reshape(-1, 1)\n",
    "\n",
    "model = models.Sequential()\n",
    "model.add(layers.Dense(100, activation=tf.keras.activations.relu, input_shape=(1,)))\n",
    "model.add(layers.Dense(1, activation=tf.keras.activations.linear))\n",
    "\n",
    "model.compile(loss=tf.keras.losses.mean_squared_error, \n",
    "              optimizer=tf.keras.optimizers.SGD(0.001), \n",
    "              metrics=[tf.keras.losses.mean_squared_error])\n",
    "\n",
    "model.fit(x, y, batch_size=1, epochs=3)\n",
    "xtest = np.linspace(-1, 1, 100).reshape(-1, 1)\n",
    "ytest = model.predict(xtest)\n",
    "\n",
    "plt.scatter(x, y)\n",
    "plt.plot(xtest, ytest)\n",
    "plt.show()"
   ]
  },
  {
   "cell_type": "code",
   "execution_count": null,
   "metadata": {},
   "outputs": [],
   "source": []
  },
  {
   "cell_type": "code",
   "execution_count": null,
   "metadata": {},
   "outputs": [],
   "source": []
  },
  {
   "cell_type": "code",
   "execution_count": null,
   "metadata": {},
   "outputs": [],
   "source": []
  },
  {
   "cell_type": "code",
   "execution_count": 150,
   "metadata": {
    "scrolled": true
   },
   "outputs": [
    {
     "name": "stdout",
     "output_type": "stream",
     "text": [
      "4\n"
     ]
    }
   ],
   "source": [
    "def foo(y):\n",
    "    return lambda x: x(x(y))\n",
    "def bar(x):\n",
    "    return lambda y: x(y)\n",
    "print((bar)(bar)(foo)(2)(lambda x:x+1))"
   ]
  },
  {
   "cell_type": "code",
   "execution_count": null,
   "metadata": {},
   "outputs": [],
   "source": []
  },
  {
   "cell_type": "code",
   "execution_count": null,
   "metadata": {},
   "outputs": [],
   "source": []
  },
  {
   "cell_type": "code",
   "execution_count": null,
   "metadata": {},
   "outputs": [],
   "source": []
  },
  {
   "cell_type": "code",
   "execution_count": 155,
   "metadata": {},
   "outputs": [
    {
     "name": "stdout",
     "output_type": "stream",
     "text": [
      "0.053900166417467865\n"
     ]
    }
   ],
   "source": [
    "from scipy import spatial\n",
    "\n",
    "a = np.array([1,2,3,4,10])\n",
    "b = np.array([1,2,3,4,5])\n",
    "\n",
    "print(spatial.distance.cosine(a,b))"
   ]
  },
  {
   "cell_type": "code",
   "execution_count": 156,
   "metadata": {},
   "outputs": [
    {
     "name": "stdout",
     "output_type": "stream",
     "text": [
      "0.09546596626670911\n"
     ]
    }
   ],
   "source": [
    "from scipy import spatial\n",
    "\n",
    "a = np.array([1,1,1,1,1])\n",
    "b = np.array([1,2,3,4,5])\n",
    "\n",
    "print(spatial.distance.cosine(a,b))"
   ]
  },
  {
   "cell_type": "code",
   "execution_count": null,
   "metadata": {},
   "outputs": [],
   "source": []
  },
  {
   "cell_type": "code",
   "execution_count": null,
   "metadata": {},
   "outputs": [],
   "source": []
  },
  {
   "cell_type": "code",
   "execution_count": null,
   "metadata": {},
   "outputs": [],
   "source": []
  },
  {
   "cell_type": "code",
   "execution_count": 159,
   "metadata": {},
   "outputs": [
    {
     "name": "stdout",
     "output_type": "stream",
     "text": [
      "[ 0  1  2  3  4  5  6  7  8  9 10 11] --- (12,)\n",
      "[12 13 14 15 16 17 18 19 20 21 22 23 24] --- (13,)\n",
      "[25 26 27 28 29 30 31 32 33 34 35 36] --- (12,)\n",
      "[37 38 39 40 41 42 43 44 45 46 47 48 49] --- (13,)\n",
      "[50 51 52 53 54 55 56 57 58 59 60 61] --- (12,)\n",
      "[62 63 64 65 66 67 68 69 70 71 72 73 74] --- (13,)\n",
      "[75 76 77 78 79 80 81 82 83 84 85 86] --- (12,)\n",
      "[87 88 89 90 91 92 93 94 95 96 97 98 99] --- (13,)\n"
     ]
    }
   ],
   "source": [
    "import numpy as np\n",
    "\n",
    "a = np.arange(100)\n",
    "idx = np.linspace(0, 100, 9).astype(np.int16)\n",
    "for idx_start, idx_end in zip(idx[:-1], idx[1:]):\n",
    "    print(a[idx_start:idx_end],'---', a[idx_start:idx_end].shape)"
   ]
  },
  {
   "cell_type": "code",
   "execution_count": 164,
   "metadata": {},
   "outputs": [
    {
     "data": {
      "text/plain": [
       "array([ 0,  1,  2,  3,  4,  5,  6,  7,  8,  9, 10, 11, 12, 13, 14, 15, 16,\n",
       "       17, 18, 19, 20, 21, 22, 23, 24, 25, 26, 27, 28, 29, 30, 31, 32, 33,\n",
       "       34, 35, 36, 37, 38, 39, 40, 41, 42, 43, 44, 45, 46, 47, 48, 49, 50,\n",
       "       51, 52, 53, 54, 55, 56, 57, 58, 59, 60, 61, 62, 63, 64, 65, 66, 67,\n",
       "       68, 69, 70, 71, 72, 73, 74, 75, 76, 77, 78, 79, 80, 81, 82, 83, 84,\n",
       "       85, 86, 87, 88, 89, 90, 91, 92, 93, 94, 95, 96, 97, 98, 99])"
      ]
     },
     "execution_count": 164,
     "metadata": {},
     "output_type": "execute_result"
    }
   ],
   "source": [
    "a"
   ]
  },
  {
   "cell_type": "code",
   "execution_count": null,
   "metadata": {},
   "outputs": [],
   "source": []
  },
  {
   "cell_type": "code",
   "execution_count": null,
   "metadata": {},
   "outputs": [],
   "source": []
  },
  {
   "cell_type": "code",
   "execution_count": null,
   "metadata": {},
   "outputs": [],
   "source": []
  },
  {
   "cell_type": "code",
   "execution_count": null,
   "metadata": {},
   "outputs": [],
   "source": [
    "PARTS_REORDERD = [{\"part\": 23,\n",
    "                  \"subpart_1\": {\"image\": \"first\"},\n",
    "                  \"subpart_2\": {\"image\": None},\n",
    "                  \"subpart_3\": {\"image\": \"third\"},\n",
    "                  \"subpart_4\": {\"image\": None},\n",
    "                  \"subpart_5\": {\"image\": \"fifth\"},  \n",
    "                 },\n",
    "                 {  \n",
    "                  \"part\": 12,\n",
    "                  \"subpart_1\": {\"image\": None},\n",
    "                  \"subpart_2\": {\"image\": None},\n",
    "                  \"subpart_3\": {\"image\": \"THIRD\"},\n",
    "                  \"subpart_4\": {\"image\": \"FOURTH\"},\n",
    "                  \"subpart_5\": {\"image\": \"FIFTH\"},  \n",
    "                 }]"
   ]
  },
  {
   "cell_type": "code",
   "execution_count": 165,
   "metadata": {},
   "outputs": [],
   "source": [
    "PARTS = [{\"part\": 23, \"subparts\": [{\"subpart\": 1, \"image\": \"first\"},\n",
    "                                   {\"subpart\": 3, \"image\": \"third\"}, \n",
    "                                   {\"subpart\": 5, \"image\": \"fifth\"}]}, \n",
    "         {\"part\": 12, \"subparts\": [{\"subpart\": 4, \"image\": \"FOURTH\"}, \n",
    "                                   {\"subpart\": 3, \"image\": \"THIRD\"}, \n",
    "                                   {\"subpart\": 5, \"image\": \"FIFTH\"}]}]"
   ]
  },
  {
   "cell_type": "code",
   "execution_count": 166,
   "metadata": {
    "scrolled": true
   },
   "outputs": [
    {
     "data": {
      "text/plain": [
       "{'part': 23,\n",
       " 'subparts': [{'subpart': 1, 'image': 'first'},\n",
       "  {'subpart': 3, 'image': 'third'},\n",
       "  {'subpart': 5, 'image': 'fifth'}]}"
      ]
     },
     "execution_count": 166,
     "metadata": {},
     "output_type": "execute_result"
    }
   ],
   "source": [
    "PARTS[0]"
   ]
  },
  {
   "cell_type": "code",
   "execution_count": 186,
   "metadata": {},
   "outputs": [
    {
     "data": {
      "text/plain": [
       "[[(1, 'first'), (3, 'third'), (5, 'fifth')],\n",
       " [(4, 'FOURTH'), (3, 'THIRD'), (5, 'FIFTH')]]"
      ]
     },
     "execution_count": 186,
     "metadata": {},
     "output_type": "execute_result"
    }
   ],
   "source": [
    "[[tuple(j.values()) for j in i['subparts']] for i in PARTS]"
   ]
  },
  {
   "cell_type": "code",
   "execution_count": 188,
   "metadata": {},
   "outputs": [
    {
     "data": {
      "text/plain": [
       "{1: None, 2: None, 3: None, 4: None, 5: None}"
      ]
     },
     "execution_count": 188,
     "metadata": {},
     "output_type": "execute_result"
    }
   ],
   "source": [
    "dict.fromkeys(range(1,6))"
   ]
  },
  {
   "cell_type": "code",
   "execution_count": 189,
   "metadata": {},
   "outputs": [
    {
     "data": {
      "text/plain": [
       "{1: None, 2: None, 3: None, 4: None, 5: None}"
      ]
     },
     "execution_count": 189,
     "metadata": {},
     "output_type": "execute_result"
    }
   ],
   "source": [
    "dict.fromkeys(range(1,6))"
   ]
  },
  {
   "cell_type": "code",
   "execution_count": null,
   "metadata": {},
   "outputs": [],
   "source": []
  },
  {
   "cell_type": "code",
   "execution_count": null,
   "metadata": {},
   "outputs": [],
   "source": []
  },
  {
   "cell_type": "code",
   "execution_count": 190,
   "metadata": {},
   "outputs": [],
   "source": [
    "food_calories = {\"Burger\": 400, \"Ice Cream\": 350, \"Cake\": 640, \"Chicken\": 400, \"Rice\": 250, \"Salad\": 40, \"Fanta\": 170, \"Coke\": 200, \"Beef\": 350}"
   ]
  },
  {
   "cell_type": "code",
   "execution_count": 191,
   "metadata": {},
   "outputs": [
    {
     "data": {
      "text/plain": [
       "{'Burger': 400,\n",
       " 'Ice Cream': 350,\n",
       " 'Cake': 640,\n",
       " 'Chicken': 400,\n",
       " 'Rice': 250,\n",
       " 'Salad': 40,\n",
       " 'Fanta': 170,\n",
       " 'Coke': 200,\n",
       " 'Beef': 350}"
      ]
     },
     "execution_count": 191,
     "metadata": {},
     "output_type": "execute_result"
    }
   ],
   "source": [
    "food_calories"
   ]
  },
  {
   "cell_type": "code",
   "execution_count": 195,
   "metadata": {},
   "outputs": [
    {
     "name": "stdout",
     "output_type": "stream",
     "text": [
      "min_calories: (40, 'Salad')\n",
      "max_calories: (640, 'Cake')\n",
      "2800\n"
     ]
    }
   ],
   "source": [
    "min_calories = min(zip(food_calories.values(), food_calories.keys()))\n",
    "max_calories = max(zip(food_calories.values(), food_calories.keys()))\n",
    "print(\"min_calories:\",min_calories)\n",
    "print(\"max_calories:\",max_calories)\n",
    "\n",
    "values = food_calories.values()\n",
    "total = sum(values)\n",
    "print(total)\n",
    "\n",
    "def food_calories_sum():\n",
    "    for k in food_calories:\n",
    "        return k"
   ]
  },
  {
   "cell_type": "code",
   "execution_count": 196,
   "metadata": {},
   "outputs": [
    {
     "data": {
      "text/plain": [
       "'Burger'"
      ]
     },
     "execution_count": 196,
     "metadata": {},
     "output_type": "execute_result"
    }
   ],
   "source": [
    "food_calories_sum()"
   ]
  },
  {
   "cell_type": "code",
   "execution_count": 201,
   "metadata": {},
   "outputs": [
    {
     "data": {
      "text/plain": [
       "1100"
      ]
     },
     "execution_count": 201,
     "metadata": {},
     "output_type": "execute_result"
    }
   ],
   "source": [
    "l = [\"Ice Cream\", \"Chicken\", \"Beef\"]\n",
    "\n",
    "def food_calories_sum(l):\n",
    "    return sum([food_calories.get(i,0) for i in l])\n",
    "\n",
    "food_calories_sum(l)"
   ]
  },
  {
   "cell_type": "code",
   "execution_count": null,
   "metadata": {
    "scrolled": true
   },
   "outputs": [],
   "source": []
  },
  {
   "cell_type": "code",
   "execution_count": null,
   "metadata": {},
   "outputs": [],
   "source": []
  },
  {
   "cell_type": "code",
   "execution_count": 276,
   "metadata": {},
   "outputs": [
    {
     "name": "stdout",
     "output_type": "stream",
     "text": [
      "              A    B\n",
      "2010-09-05  NaN  NaN\n",
      "2010-10-04  NaN  4.0\n",
      "2019-10-04  7.0  7.0\n"
     ]
    }
   ],
   "source": []
  },
  {
   "cell_type": "code",
   "execution_count": null,
   "metadata": {},
   "outputs": [],
   "source": []
  },
  {
   "cell_type": "code",
   "execution_count": 267,
   "metadata": {},
   "outputs": [],
   "source": [
    "df = pd.read_clipboard()"
   ]
  },
  {
   "cell_type": "code",
   "execution_count": 271,
   "metadata": {},
   "outputs": [],
   "source": [
    "df.index = pd.to_datetime(df.index)"
   ]
  },
  {
   "cell_type": "code",
   "execution_count": 272,
   "metadata": {},
   "outputs": [
    {
     "name": "stdout",
     "output_type": "stream",
     "text": [
      "              A    B\n",
      "2010-10-04  NaN  4.0\n",
      "2010-10-05  3.0  5.0\n",
      "2010-10-06  5.0  2.0\n",
      "2010-09-05  NaN  NaN\n",
      "2010-09-05  3.0  5.0\n",
      "2010-09-06  5.0  2.0\n",
      "2019-10-04  7.0  7.0\n",
      "2019-10-05  3.0  5.0\n",
      "2019-10-06  5.0  2.0\n"
     ]
    }
   ],
   "source": [
    "print(df)"
   ]
  },
  {
   "cell_type": "code",
   "execution_count": 274,
   "metadata": {},
   "outputs": [
    {
     "data": {
      "text/plain": [
       "DatetimeIndex(['2010-10-04', '2010-10-05', '2010-10-06', '2010-09-05',\n",
       "               '2010-09-05', '2010-09-06', '2019-10-04', '2019-10-05',\n",
       "               '2019-10-06'],\n",
       "              dtype='datetime64[ns]', freq=None)"
      ]
     },
     "execution_count": 274,
     "metadata": {},
     "output_type": "execute_result"
    }
   ],
   "source": [
    "pd.Grouper(freq=\"M\")"
   ]
  },
  {
   "cell_type": "code",
   "execution_count": null,
   "metadata": {},
   "outputs": [],
   "source": []
  },
  {
   "cell_type": "code",
   "execution_count": 275,
   "metadata": {},
   "outputs": [
    {
     "data": {
      "text/html": [
       "<div>\n",
       "<style scoped>\n",
       "    .dataframe tbody tr th:only-of-type {\n",
       "        vertical-align: middle;\n",
       "    }\n",
       "\n",
       "    .dataframe tbody tr th {\n",
       "        vertical-align: top;\n",
       "    }\n",
       "\n",
       "    .dataframe thead th {\n",
       "        text-align: right;\n",
       "    }\n",
       "</style>\n",
       "<table border=\"1\" class=\"dataframe\">\n",
       "  <thead>\n",
       "    <tr style=\"text-align: right;\">\n",
       "      <th></th>\n",
       "      <th>A</th>\n",
       "      <th>B</th>\n",
       "    </tr>\n",
       "  </thead>\n",
       "  <tbody>\n",
       "    <tr>\n",
       "      <th>2010-09-05</th>\n",
       "      <td>NaN</td>\n",
       "      <td>NaN</td>\n",
       "    </tr>\n",
       "    <tr>\n",
       "      <th>2010-10-04</th>\n",
       "      <td>NaN</td>\n",
       "      <td>4.0</td>\n",
       "    </tr>\n",
       "    <tr>\n",
       "      <th>2019-10-04</th>\n",
       "      <td>7.0</td>\n",
       "      <td>7.0</td>\n",
       "    </tr>\n",
       "  </tbody>\n",
       "</table>\n",
       "</div>"
      ],
      "text/plain": [
       "              A    B\n",
       "2010-09-05  NaN  NaN\n",
       "2010-10-04  NaN  4.0\n",
       "2019-10-04  7.0  7.0"
      ]
     },
     "execution_count": 275,
     "metadata": {},
     "output_type": "execute_result"
    }
   ],
   "source": []
  },
  {
   "cell_type": "code",
   "execution_count": null,
   "metadata": {},
   "outputs": [],
   "source": []
  },
  {
   "cell_type": "code",
   "execution_count": null,
   "metadata": {},
   "outputs": [],
   "source": []
  },
  {
   "cell_type": "code",
   "execution_count": null,
   "metadata": {},
   "outputs": [],
   "source": [
    "    time heartrate\n",
    "    0   97\n",
    "    3   105\n",
    "    6   105\n",
    "    8   111\n",
    "    11  111\n",
    "    13  114\n",
    "    16  115"
   ]
  },
  {
   "cell_type": "code",
   "execution_count": 277,
   "metadata": {},
   "outputs": [
    {
     "data": {
      "text/html": [
       "<div>\n",
       "<style scoped>\n",
       "    .dataframe tbody tr th:only-of-type {\n",
       "        vertical-align: middle;\n",
       "    }\n",
       "\n",
       "    .dataframe tbody tr th {\n",
       "        vertical-align: top;\n",
       "    }\n",
       "\n",
       "    .dataframe thead th {\n",
       "        text-align: right;\n",
       "    }\n",
       "</style>\n",
       "<table border=\"1\" class=\"dataframe\">\n",
       "  <thead>\n",
       "    <tr style=\"text-align: right;\">\n",
       "      <th></th>\n",
       "      <th>time</th>\n",
       "      <th>heartrate</th>\n",
       "    </tr>\n",
       "  </thead>\n",
       "  <tbody>\n",
       "    <tr>\n",
       "      <th>0</th>\n",
       "      <td>0</td>\n",
       "      <td>97</td>\n",
       "    </tr>\n",
       "    <tr>\n",
       "      <th>1</th>\n",
       "      <td>3</td>\n",
       "      <td>105</td>\n",
       "    </tr>\n",
       "    <tr>\n",
       "      <th>2</th>\n",
       "      <td>6</td>\n",
       "      <td>105</td>\n",
       "    </tr>\n",
       "    <tr>\n",
       "      <th>3</th>\n",
       "      <td>8</td>\n",
       "      <td>111</td>\n",
       "    </tr>\n",
       "    <tr>\n",
       "      <th>4</th>\n",
       "      <td>11</td>\n",
       "      <td>111</td>\n",
       "    </tr>\n",
       "    <tr>\n",
       "      <th>5</th>\n",
       "      <td>13</td>\n",
       "      <td>114</td>\n",
       "    </tr>\n",
       "    <tr>\n",
       "      <th>6</th>\n",
       "      <td>16</td>\n",
       "      <td>115</td>\n",
       "    </tr>\n",
       "  </tbody>\n",
       "</table>\n",
       "</div>"
      ],
      "text/plain": [
       "   time  heartrate\n",
       "0     0         97\n",
       "1     3        105\n",
       "2     6        105\n",
       "3     8        111\n",
       "4    11        111\n",
       "5    13        114\n",
       "6    16        115"
      ]
     },
     "execution_count": 277,
     "metadata": {},
     "output_type": "execute_result"
    }
   ],
   "source": [
    "df = pd.read_clipboard()\n",
    "df"
   ]
  },
  {
   "cell_type": "code",
   "execution_count": 282,
   "metadata": {},
   "outputs": [
    {
     "name": "stdout",
     "output_type": "stream",
     "text": [
      "    time  heartrate\n",
      "0      0       97.0\n",
      "1      1       97.0\n",
      "2      2       97.0\n",
      "3      3      105.0\n",
      "4      4      105.0\n",
      "5      5      105.0\n",
      "6      6      105.0\n",
      "7      7      105.0\n",
      "8      8      111.0\n",
      "9      9      111.0\n",
      "10    10      111.0\n",
      "11    11      111.0\n",
      "12    12      111.0\n",
      "13    13      114.0\n",
      "14    14      114.0\n",
      "15    15      114.0\n",
      "16    16      115.0\n"
     ]
    }
   ],
   "source": [
    "vmin, vmax = df['time'].min(), df['time'].max()\n",
    "print(df.set_index('time').reindex(range(vmin, vmax+1)).ffill().reset_index())\n",
    "\n",
    "\n"
   ]
  },
  {
   "cell_type": "code",
   "execution_count": null,
   "metadata": {},
   "outputs": [],
   "source": []
  },
  {
   "cell_type": "code",
   "execution_count": null,
   "metadata": {},
   "outputs": [],
   "source": []
  },
  {
   "cell_type": "code",
   "execution_count": 1,
   "metadata": {},
   "outputs": [],
   "source": [
    "import pandas as pd"
   ]
  },
  {
   "cell_type": "code",
   "execution_count": null,
   "metadata": {},
   "outputs": [],
   "source": [
    "ID    things\n",
    "1     pen,car,robot\n",
    "2     lamp,jug,phone\n",
    "3     switch,pen,book"
   ]
  },
  {
   "cell_type": "code",
   "execution_count": 2,
   "metadata": {},
   "outputs": [
    {
     "data": {
      "text/html": [
       "<div>\n",
       "<style scoped>\n",
       "    .dataframe tbody tr th:only-of-type {\n",
       "        vertical-align: middle;\n",
       "    }\n",
       "\n",
       "    .dataframe tbody tr th {\n",
       "        vertical-align: top;\n",
       "    }\n",
       "\n",
       "    .dataframe thead th {\n",
       "        text-align: right;\n",
       "    }\n",
       "</style>\n",
       "<table border=\"1\" class=\"dataframe\">\n",
       "  <thead>\n",
       "    <tr style=\"text-align: right;\">\n",
       "      <th></th>\n",
       "      <th>ID</th>\n",
       "      <th>things</th>\n",
       "    </tr>\n",
       "  </thead>\n",
       "  <tbody>\n",
       "    <tr>\n",
       "      <th>0</th>\n",
       "      <td>1</td>\n",
       "      <td>pen,car,robot</td>\n",
       "    </tr>\n",
       "    <tr>\n",
       "      <th>1</th>\n",
       "      <td>2</td>\n",
       "      <td>lamp,jug,phone</td>\n",
       "    </tr>\n",
       "    <tr>\n",
       "      <th>2</th>\n",
       "      <td>3</td>\n",
       "      <td>switch,pen,book</td>\n",
       "    </tr>\n",
       "  </tbody>\n",
       "</table>\n",
       "</div>"
      ],
      "text/plain": [
       "   ID           things\n",
       "0   1    pen,car,robot\n",
       "1   2   lamp,jug,phone\n",
       "2   3  switch,pen,book"
      ]
     },
     "execution_count": 2,
     "metadata": {},
     "output_type": "execute_result"
    }
   ],
   "source": [
    "df = pd.read_clipboard()\n",
    "df"
   ]
  },
  {
   "cell_type": "code",
   "execution_count": 17,
   "metadata": {},
   "outputs": [
    {
     "data": {
      "text/html": [
       "<div>\n",
       "<style scoped>\n",
       "    .dataframe tbody tr th:only-of-type {\n",
       "        vertical-align: middle;\n",
       "    }\n",
       "\n",
       "    .dataframe tbody tr th {\n",
       "        vertical-align: top;\n",
       "    }\n",
       "\n",
       "    .dataframe thead tr th {\n",
       "        text-align: left;\n",
       "    }\n",
       "\n",
       "    .dataframe thead tr:last-of-type th {\n",
       "        text-align: right;\n",
       "    }\n",
       "</style>\n",
       "<table border=\"1\" class=\"dataframe\">\n",
       "  <thead>\n",
       "    <tr>\n",
       "      <th></th>\n",
       "      <th colspan=\"3\" halign=\"left\">0</th>\n",
       "    </tr>\n",
       "    <tr>\n",
       "      <th>level_1</th>\n",
       "      <th>0</th>\n",
       "      <th>1</th>\n",
       "      <th>2</th>\n",
       "    </tr>\n",
       "    <tr>\n",
       "      <th>level_0</th>\n",
       "      <th></th>\n",
       "      <th></th>\n",
       "      <th></th>\n",
       "    </tr>\n",
       "  </thead>\n",
       "  <tbody>\n",
       "    <tr>\n",
       "      <th>0</th>\n",
       "      <td>pen</td>\n",
       "      <td>car</td>\n",
       "      <td>robot</td>\n",
       "    </tr>\n",
       "    <tr>\n",
       "      <th>1</th>\n",
       "      <td>lamp</td>\n",
       "      <td>jug</td>\n",
       "      <td>phone</td>\n",
       "    </tr>\n",
       "    <tr>\n",
       "      <th>2</th>\n",
       "      <td>switch</td>\n",
       "      <td>pen</td>\n",
       "      <td>book</td>\n",
       "    </tr>\n",
       "  </tbody>\n",
       "</table>\n",
       "</div>"
      ],
      "text/plain": [
       "              0            \n",
       "level_1       0    1      2\n",
       "level_0                    \n",
       "0           pen  car  robot\n",
       "1          lamp  jug  phone\n",
       "2        switch  pen   book"
      ]
     },
     "execution_count": 17,
     "metadata": {},
     "output_type": "execute_result"
    }
   ],
   "source": []
  },
  {
   "cell_type": "code",
   "execution_count": null,
   "metadata": {},
   "outputs": [],
   "source": []
  },
  {
   "cell_type": "code",
   "execution_count": 27,
   "metadata": {},
   "outputs": [],
   "source": [
    "from timeit import timeit\n",
    "import numpy as np"
   ]
  },
  {
   "cell_type": "code",
   "execution_count": 33,
   "metadata": {},
   "outputs": [
    {
     "data": {
      "text/plain": [
       "0      car,pen,robot\n",
       "1     jug,lamp,phone\n",
       "2    book,pen,switch\n",
       "Name: things, dtype: object"
      ]
     },
     "execution_count": 33,
     "metadata": {},
     "output_type": "execute_result"
    }
   ],
   "source": []
  },
  {
   "cell_type": "code",
   "execution_count": null,
   "metadata": {},
   "outputs": [],
   "source": []
  },
  {
   "cell_type": "code",
   "execution_count": null,
   "metadata": {},
   "outputs": [],
   "source": []
  },
  {
   "cell_type": "code",
   "execution_count": 40,
   "metadata": {},
   "outputs": [
    {
     "data": {
      "text/plain": [
       "1.8124373129999185"
      ]
     },
     "execution_count": 40,
     "metadata": {},
     "output_type": "execute_result"
    }
   ],
   "source": [
    "timeit(\"df.things.apply(lambda x: ','.join(sorted(x.split(','))))\", number=10000, globals=globals())"
   ]
  },
  {
   "cell_type": "code",
   "execution_count": 41,
   "metadata": {},
   "outputs": [
    {
     "data": {
      "text/plain": [
       "5.786279340999954"
      ]
     },
     "execution_count": 41,
     "metadata": {},
     "output_type": "execute_result"
    }
   ],
   "source": [
    "timeit(\"df['things'].str.split(',').map(np.sort).str.join(',')\", number=10000, globals=globals())"
   ]
  },
  {
   "cell_type": "code",
   "execution_count": 42,
   "metadata": {},
   "outputs": [
    {
     "data": {
      "text/plain": [
       "6.355722171000025"
      ]
     },
     "execution_count": 42,
     "metadata": {},
     "output_type": "execute_result"
    }
   ],
   "source": [
    "timeit(\"df.things.str.split(',').map(sorted).str.join(',')\", number=10000, globals=globals())"
   ]
  },
  {
   "cell_type": "code",
   "execution_count": null,
   "metadata": {},
   "outputs": [],
   "source": []
  },
  {
   "cell_type": "code",
   "execution_count": null,
   "metadata": {},
   "outputs": [],
   "source": []
  },
  {
   "cell_type": "code",
   "execution_count": 53,
   "metadata": {},
   "outputs": [],
   "source": [
    "real_loss = tf.losses.BinaryCrossentropy()\n",
    "fake_loss = tf.losses.BinaryCrossentropy()"
   ]
  },
  {
   "cell_type": "code",
   "execution_count": 51,
   "metadata": {},
   "outputs": [],
   "source": [
    "import tensorflow as tf\n",
    "import tensorflow.keras.backend as kb\n",
    "from tensorflow.keras import layers, Model"
   ]
  },
  {
   "cell_type": "code",
   "execution_count": 54,
   "metadata": {},
   "outputs": [],
   "source": [
    "inp = layers.Input((10,))\n",
    "x = layers.Dense(15)(inp)\n",
    "out = layers.Dense(3)(inp)\n",
    "\n",
    "model = Model(inp, out)\n",
    "model.compile(loss=[real_loss, fake_loss], loss_weights=[1,1])"
   ]
  },
  {
   "cell_type": "code",
   "execution_count": 56,
   "metadata": {},
   "outputs": [
    {
     "name": "stdout",
     "output_type": "stream",
     "text": [
      "Model: \"model_1\"\n",
      "_________________________________________________________________\n",
      "Layer (type)                 Output Shape              Param #   \n",
      "=================================================================\n",
      "input_2 (InputLayer)         [(None, 10)]              0         \n",
      "_________________________________________________________________\n",
      "dense_3 (Dense)              (None, 3)                 33        \n",
      "=================================================================\n",
      "Total params: 33\n",
      "Trainable params: 33\n",
      "Non-trainable params: 0\n",
      "_________________________________________________________________\n"
     ]
    }
   ],
   "source": [
    "model.summary()"
   ]
  },
  {
   "cell_type": "code",
   "execution_count": null,
   "metadata": {},
   "outputs": [],
   "source": []
  },
  {
   "cell_type": "code",
   "execution_count": 61,
   "metadata": {},
   "outputs": [
    {
     "ename": "RuntimeError",
     "evalue": "Settings already configured.",
     "output_type": "error",
     "traceback": [
      "\u001b[0;31m---------------------------------------------------------------------------\u001b[0m",
      "\u001b[0;31mRuntimeError\u001b[0m                              Traceback (most recent call last)",
      "\u001b[0;32m<ipython-input-61-afed7ed8e01e>\u001b[0m in \u001b[0;36m<module>\u001b[0;34m\u001b[0m\n\u001b[1;32m      1\u001b[0m \u001b[0;32mfrom\u001b[0m \u001b[0mdjango\u001b[0m\u001b[0;34m.\u001b[0m\u001b[0mtemplate\u001b[0m \u001b[0;32mimport\u001b[0m \u001b[0mTemplate\u001b[0m\u001b[0;34m,\u001b[0m \u001b[0mContext\u001b[0m\u001b[0;34m\u001b[0m\u001b[0;34m\u001b[0m\u001b[0m\n\u001b[1;32m      2\u001b[0m \u001b[0;32mfrom\u001b[0m \u001b[0mdjango\u001b[0m\u001b[0;34m.\u001b[0m\u001b[0mconf\u001b[0m \u001b[0;32mimport\u001b[0m \u001b[0msettings\u001b[0m\u001b[0;34m\u001b[0m\u001b[0;34m\u001b[0m\u001b[0m\n\u001b[0;32m----> 3\u001b[0;31m \u001b[0msettings\u001b[0m\u001b[0;34m.\u001b[0m\u001b[0mconfigure\u001b[0m\u001b[0;34m(\u001b[0m\u001b[0;34m)\u001b[0m\u001b[0;34m\u001b[0m\u001b[0;34m\u001b[0m\u001b[0m\n\u001b[0m",
      "\u001b[0;32m~/opt/anaconda3/lib/python3.8/site-packages/django/conf/__init__.py\u001b[0m in \u001b[0;36mconfigure\u001b[0;34m(self, default_settings, **options)\u001b[0m\n\u001b[1;32m    105\u001b[0m         \"\"\"\n\u001b[1;32m    106\u001b[0m         \u001b[0;32mif\u001b[0m \u001b[0mself\u001b[0m\u001b[0;34m.\u001b[0m\u001b[0m_wrapped\u001b[0m \u001b[0;32mis\u001b[0m \u001b[0;32mnot\u001b[0m \u001b[0mempty\u001b[0m\u001b[0;34m:\u001b[0m\u001b[0;34m\u001b[0m\u001b[0;34m\u001b[0m\u001b[0m\n\u001b[0;32m--> 107\u001b[0;31m             \u001b[0;32mraise\u001b[0m \u001b[0mRuntimeError\u001b[0m\u001b[0;34m(\u001b[0m\u001b[0;34m'Settings already configured.'\u001b[0m\u001b[0;34m)\u001b[0m\u001b[0;34m\u001b[0m\u001b[0;34m\u001b[0m\u001b[0m\n\u001b[0m\u001b[1;32m    108\u001b[0m         \u001b[0mholder\u001b[0m \u001b[0;34m=\u001b[0m \u001b[0mUserSettingsHolder\u001b[0m\u001b[0;34m(\u001b[0m\u001b[0mdefault_settings\u001b[0m\u001b[0;34m)\u001b[0m\u001b[0;34m\u001b[0m\u001b[0;34m\u001b[0m\u001b[0m\n\u001b[1;32m    109\u001b[0m         \u001b[0;32mfor\u001b[0m \u001b[0mname\u001b[0m\u001b[0;34m,\u001b[0m \u001b[0mvalue\u001b[0m \u001b[0;32min\u001b[0m \u001b[0moptions\u001b[0m\u001b[0;34m.\u001b[0m\u001b[0mitems\u001b[0m\u001b[0;34m(\u001b[0m\u001b[0;34m)\u001b[0m\u001b[0;34m:\u001b[0m\u001b[0;34m\u001b[0m\u001b[0;34m\u001b[0m\u001b[0m\n",
      "\u001b[0;31mRuntimeError\u001b[0m: Settings already configured."
     ]
    }
   ],
   "source": [
    "from django.template import Template, Context\n",
    "from django.conf import settings\n",
    "settings.configure()"
   ]
  },
  {
   "cell_type": "code",
   "execution_count": 60,
   "metadata": {},
   "outputs": [
    {
     "ename": "ImproperlyConfigured",
     "evalue": "No DjangoTemplates backend is configured.",
     "output_type": "error",
     "traceback": [
      "\u001b[0;31m---------------------------------------------------------------------------\u001b[0m",
      "\u001b[0;31mImproperlyConfigured\u001b[0m                      Traceback (most recent call last)",
      "\u001b[0;32m<ipython-input-60-372a102f0a4b>\u001b[0m in \u001b[0;36m<module>\u001b[0;34m\u001b[0m\n\u001b[1;32m     16\u001b[0m \"\"\"\n\u001b[1;32m     17\u001b[0m \u001b[0;34m\u001b[0m\u001b[0m\n\u001b[0;32m---> 18\u001b[0;31m \u001b[0mt\u001b[0m \u001b[0;34m=\u001b[0m \u001b[0mTemplate\u001b[0m\u001b[0;34m(\u001b[0m\u001b[0mtemplate\u001b[0m\u001b[0;34m)\u001b[0m\u001b[0;34m\u001b[0m\u001b[0;34m\u001b[0m\u001b[0m\n\u001b[0m\u001b[1;32m     19\u001b[0m c = Context({\"title\": \"title from code\",\n\u001b[1;32m     20\u001b[0m              \"mystring\":\"string from code\"})\n",
      "\u001b[0;32m~/opt/anaconda3/lib/python3.8/site-packages/django/template/base.py\u001b[0m in \u001b[0;36m__init__\u001b[0;34m(self, template_string, origin, name, engine)\u001b[0m\n\u001b[1;32m    147\u001b[0m         \u001b[0;32mif\u001b[0m \u001b[0mengine\u001b[0m \u001b[0;32mis\u001b[0m \u001b[0;32mNone\u001b[0m\u001b[0;34m:\u001b[0m\u001b[0;34m\u001b[0m\u001b[0;34m\u001b[0m\u001b[0m\n\u001b[1;32m    148\u001b[0m             \u001b[0;32mfrom\u001b[0m \u001b[0;34m.\u001b[0m\u001b[0mengine\u001b[0m \u001b[0;32mimport\u001b[0m \u001b[0mEngine\u001b[0m\u001b[0;34m\u001b[0m\u001b[0;34m\u001b[0m\u001b[0m\n\u001b[0;32m--> 149\u001b[0;31m             \u001b[0mengine\u001b[0m \u001b[0;34m=\u001b[0m \u001b[0mEngine\u001b[0m\u001b[0;34m.\u001b[0m\u001b[0mget_default\u001b[0m\u001b[0;34m(\u001b[0m\u001b[0;34m)\u001b[0m\u001b[0;34m\u001b[0m\u001b[0;34m\u001b[0m\u001b[0m\n\u001b[0m\u001b[1;32m    150\u001b[0m         \u001b[0;32mif\u001b[0m \u001b[0morigin\u001b[0m \u001b[0;32mis\u001b[0m \u001b[0;32mNone\u001b[0m\u001b[0;34m:\u001b[0m\u001b[0;34m\u001b[0m\u001b[0;34m\u001b[0m\u001b[0m\n\u001b[1;32m    151\u001b[0m             \u001b[0morigin\u001b[0m \u001b[0;34m=\u001b[0m \u001b[0mOrigin\u001b[0m\u001b[0;34m(\u001b[0m\u001b[0mUNKNOWN_SOURCE\u001b[0m\u001b[0;34m)\u001b[0m\u001b[0;34m\u001b[0m\u001b[0;34m\u001b[0m\u001b[0m\n",
      "\u001b[0;32m~/opt/anaconda3/lib/python3.8/site-packages/django/template/engine.py\u001b[0m in \u001b[0;36mget_default\u001b[0;34m()\u001b[0m\n\u001b[1;32m     77\u001b[0m             \u001b[0;32mif\u001b[0m \u001b[0misinstance\u001b[0m\u001b[0;34m(\u001b[0m\u001b[0mengine\u001b[0m\u001b[0;34m,\u001b[0m \u001b[0mDjangoTemplates\u001b[0m\u001b[0;34m)\u001b[0m\u001b[0;34m:\u001b[0m\u001b[0;34m\u001b[0m\u001b[0;34m\u001b[0m\u001b[0m\n\u001b[1;32m     78\u001b[0m                 \u001b[0;32mreturn\u001b[0m \u001b[0mengine\u001b[0m\u001b[0;34m.\u001b[0m\u001b[0mengine\u001b[0m\u001b[0;34m\u001b[0m\u001b[0;34m\u001b[0m\u001b[0m\n\u001b[0;32m---> 79\u001b[0;31m         \u001b[0;32mraise\u001b[0m \u001b[0mImproperlyConfigured\u001b[0m\u001b[0;34m(\u001b[0m\u001b[0;34m'No DjangoTemplates backend is configured.'\u001b[0m\u001b[0;34m)\u001b[0m\u001b[0;34m\u001b[0m\u001b[0;34m\u001b[0m\u001b[0m\n\u001b[0m\u001b[1;32m     80\u001b[0m \u001b[0;34m\u001b[0m\u001b[0m\n\u001b[1;32m     81\u001b[0m     \u001b[0;34m@\u001b[0m\u001b[0mcached_property\u001b[0m\u001b[0;34m\u001b[0m\u001b[0;34m\u001b[0m\u001b[0m\n",
      "\u001b[0;31mImproperlyConfigured\u001b[0m: No DjangoTemplates backend is configured."
     ]
    }
   ],
   "source": [
    " # We have to do this to use django templates standalone - see\n",
    "# http://stackoverflow.com/questions/98135/how-do-i-use-django-templates-without-the-rest-of-django\n",
    "\n",
    "# Our template. Could just as easily be stored in a separate file\n",
    "template = \"\"\"\n",
    "<html>\n",
    "<head>\n",
    "<title>Template {{ title }}</title>\n",
    "</head>\n",
    "<body>\n",
    "Body with {{ mystring }}.\n",
    "</body>\n",
    "</html>\n",
    "\"\"\"\n",
    "\n",
    "t = Template(template)\n",
    "c = Context({\"title\": \"title from code\",\n",
    "             \"mystring\":\"string from code\"})\n",
    "print(t.render(c))"
   ]
  },
  {
   "cell_type": "markdown",
   "metadata": {},
   "source": []
  },
  {
   "cell_type": "code",
   "execution_count": null,
   "metadata": {},
   "outputs": [],
   "source": []
  },
  {
   "cell_type": "code",
   "execution_count": 62,
   "metadata": {},
   "outputs": [],
   "source": [
    "import pandas as pd\n",
    "\n",
    "series = [('Stranger Things', 3, 'Millie'),\n",
    "          ('Game of Thrones', 8, 'Emilia'), \n",
    "          ('La Casa De Papel', 4, 'Sergio'),\n",
    "          ('Westworld', 3, 'Evan Rachel'), \n",
    "          ('Stranger Things', 3, 'Todd'),\n",
    "          ('La Casa De Papel', 4, 'Sergio')]\n",
    "\n",
    "# Create a DataFrame object\n",
    "df = pd.DataFrame(series, columns=['Name', 'Seasons', 'Actor'])"
   ]
  },
  {
   "cell_type": "code",
   "execution_count": null,
   "metadata": {},
   "outputs": [],
   "source": []
  },
  {
   "cell_type": "code",
   "execution_count": null,
   "metadata": {},
   "outputs": [],
   "source": [
    "Stranger Things, 3, Millie\n",
    "Stranger Things, 3, Todd"
   ]
  },
  {
   "cell_type": "code",
   "execution_count": null,
   "metadata": {},
   "outputs": [],
   "source": [
    ".explode().reset_index())"
   ]
  },
  {
   "cell_type": "code",
   "execution_count": 93,
   "metadata": {},
   "outputs": [
    {
     "data": {
      "text/plain": [
       "Name\n",
       "Game of Thrones           {Emilia}\n",
       "La Casa De Papel          {Sergio}\n",
       "Stranger Things     {Millie, Todd}\n",
       "Westworld            {Evan Rachel}\n",
       "Name: Actor, dtype: object"
      ]
     },
     "execution_count": 93,
     "metadata": {},
     "output_type": "execute_result"
    }
   ],
   "source": [
    "df.groupby(['Name'])['Actor'].apply(set)"
   ]
  },
  {
   "cell_type": "code",
   "execution_count": null,
   "metadata": {},
   "outputs": [],
   "source": []
  },
  {
   "cell_type": "code",
   "execution_count": null,
   "metadata": {},
   "outputs": [],
   "source": []
  },
  {
   "cell_type": "code",
   "execution_count": 75,
   "metadata": {},
   "outputs": [
    {
     "name": "stdout",
     "output_type": "stream",
     "text": [
      "               Name  Seasons        Actor\n",
      "1   Game of Thrones        8       Emilia\n",
      "2  La Casa De Papel        4       Sergio\n",
      "0   Stranger Things        3       Millie\n",
      "4   Stranger Things        3         Todd\n",
      "3         Westworld        3  Evan Rachel\n"
     ]
    }
   ],
   "source": [
    "print(df[~df[['Name','Actor']].duplicated(keep='first')].sort_values('Name'))"
   ]
  },
  {
   "cell_type": "code",
   "execution_count": 64,
   "metadata": {},
   "outputs": [
    {
     "data": {
      "text/html": [
       "<div>\n",
       "<style scoped>\n",
       "    .dataframe tbody tr th:only-of-type {\n",
       "        vertical-align: middle;\n",
       "    }\n",
       "\n",
       "    .dataframe tbody tr th {\n",
       "        vertical-align: top;\n",
       "    }\n",
       "\n",
       "    .dataframe thead th {\n",
       "        text-align: right;\n",
       "    }\n",
       "</style>\n",
       "<table border=\"1\" class=\"dataframe\">\n",
       "  <thead>\n",
       "    <tr style=\"text-align: right;\">\n",
       "      <th></th>\n",
       "      <th>Name</th>\n",
       "      <th>Seasons</th>\n",
       "      <th>Actor</th>\n",
       "    </tr>\n",
       "  </thead>\n",
       "  <tbody>\n",
       "    <tr>\n",
       "      <th>0</th>\n",
       "      <td>Stranger Things</td>\n",
       "      <td>3</td>\n",
       "      <td>Millie</td>\n",
       "    </tr>\n",
       "    <tr>\n",
       "      <th>1</th>\n",
       "      <td>Game of Thrones</td>\n",
       "      <td>8</td>\n",
       "      <td>Emilia</td>\n",
       "    </tr>\n",
       "    <tr>\n",
       "      <th>2</th>\n",
       "      <td>La Casa De Papel</td>\n",
       "      <td>4</td>\n",
       "      <td>Sergio</td>\n",
       "    </tr>\n",
       "    <tr>\n",
       "      <th>3</th>\n",
       "      <td>Westworld</td>\n",
       "      <td>3</td>\n",
       "      <td>Evan Rachel</td>\n",
       "    </tr>\n",
       "    <tr>\n",
       "      <th>4</th>\n",
       "      <td>Stranger Things</td>\n",
       "      <td>3</td>\n",
       "      <td>Todd</td>\n",
       "    </tr>\n",
       "    <tr>\n",
       "      <th>5</th>\n",
       "      <td>La Casa De Papel</td>\n",
       "      <td>4</td>\n",
       "      <td>Sergio</td>\n",
       "    </tr>\n",
       "  </tbody>\n",
       "</table>\n",
       "</div>"
      ],
      "text/plain": [
       "               Name  Seasons        Actor\n",
       "0   Stranger Things        3       Millie\n",
       "1   Game of Thrones        8       Emilia\n",
       "2  La Casa De Papel        4       Sergio\n",
       "3         Westworld        3  Evan Rachel\n",
       "4   Stranger Things        3         Todd\n",
       "5  La Casa De Papel        4       Sergio"
      ]
     },
     "execution_count": 64,
     "metadata": {},
     "output_type": "execute_result"
    }
   ],
   "source": []
  },
  {
   "cell_type": "code",
   "execution_count": 111,
   "metadata": {},
   "outputs": [
    {
     "name": "stdout",
     "output_type": "stream",
     "text": [
      "              Name  Seasons   Actor\n",
      "0  Stranger Things        3  Millie\n",
      "4  Stranger Things        3    Todd\n"
     ]
    }
   ],
   "source": [
    "idx = df.groupby('Name')['Actor'].transform(lambda x: len(set(x)))>1\n",
    "print(df[idx])\n",
    "\n",
    "              Name  Seasons   Actor\n",
    "0  Stranger Things        3  Millie\n",
    "4  Stranger Things        3    Todd"
   ]
  },
  {
   "cell_type": "code",
   "execution_count": 104,
   "metadata": {
    "scrolled": true
   },
   "outputs": [
    {
     "data": {
      "text/plain": [
       "array([False, False,  True, False])"
      ]
     },
     "execution_count": 104,
     "metadata": {},
     "output_type": "execute_result"
    }
   ],
   "source": [
    "conditions = df.groupby('Name')['Actor'].apply(lambda x:len(set(x))>1).values\n",
    "conditions"
   ]
  },
  {
   "cell_type": "code",
   "execution_count": null,
   "metadata": {},
   "outputs": [],
   "source": []
  },
  {
   "cell_type": "code",
   "execution_count": 133,
   "metadata": {},
   "outputs": [
    {
     "data": {
      "text/plain": [
       "defaultdict(list, {})"
      ]
     },
     "execution_count": 133,
     "metadata": {},
     "output_type": "execute_result"
    }
   ],
   "source": [
    "from collections import defaultdict\n",
    "\n",
    "n = [1,2,3,4]\n",
    "d = defaultdict(list)\n",
    "d"
   ]
  },
  {
   "cell_type": "code",
   "execution_count": 124,
   "metadata": {},
   "outputs": [
    {
     "data": {
      "text/plain": [
       "False"
      ]
     },
     "execution_count": 124,
     "metadata": {},
     "output_type": "execute_result"
    }
   ],
   "source": [
    "n = [1,2,3,4]\n",
    "d = {k:[] for k in n}\n",
    "\n",
    "d[1] is d[2]"
   ]
  },
  {
   "cell_type": "code",
   "execution_count": 126,
   "metadata": {},
   "outputs": [
    {
     "data": {
      "text/plain": [
       "{1: [777], 2: [], 3: [], 4: []}"
      ]
     },
     "execution_count": 126,
     "metadata": {},
     "output_type": "execute_result"
    }
   ],
   "source": [
    "d"
   ]
  },
  {
   "cell_type": "code",
   "execution_count": null,
   "metadata": {},
   "outputs": [],
   "source": []
  },
  {
   "cell_type": "code",
   "execution_count": null,
   "metadata": {},
   "outputs": [],
   "source": []
  },
  {
   "cell_type": "code",
   "execution_count": null,
   "metadata": {},
   "outputs": [],
   "source": [
    "            ts_code      low     high\n",
    "2021-08-01  881105.TI   1485.0  1629.0\n",
    "2021-08-01  885452.TI   2216.0  2391.0\n",
    "2021-08-01  885525.TI   7427.0  8552.0\n",
    "2021-08-01  885641.TI   621.0   671.0\n",
    "2021-08-08  881105.TI   1496.0  1623.0\n",
    "2021-08-08  885452.TI   2297.0  2406.0\n",
    "2021-08-08  885525.TI   7300.0  7868.0\n",
    "2021-08-08  885641.TI   668.0   691.0\n",
    "2021-08-15  881105.TI   1606.0  1776.0\n",
    "2021-08-15  885452.TI   2352.0  2459.0\n",
    "2021-08-15  885525.TI   7525.0  8236.0\n",
    "2021-08-15  885641.TI   685.0   719.0\n",
    "2021-08-22  881105.TI   1656.0  1804.0\n",
    "2021-08-22  885452.TI   2329.0  2415.0\n",
    "2021-08-22  885525.TI   7400.0  8270.0\n",
    "2021-08-22  885641.TI   691.0   720.0"
   ]
  },
  {
   "cell_type": "code",
   "execution_count": 134,
   "metadata": {},
   "outputs": [
    {
     "data": {
      "text/html": [
       "<div>\n",
       "<style scoped>\n",
       "    .dataframe tbody tr th:only-of-type {\n",
       "        vertical-align: middle;\n",
       "    }\n",
       "\n",
       "    .dataframe tbody tr th {\n",
       "        vertical-align: top;\n",
       "    }\n",
       "\n",
       "    .dataframe thead th {\n",
       "        text-align: right;\n",
       "    }\n",
       "</style>\n",
       "<table border=\"1\" class=\"dataframe\">\n",
       "  <thead>\n",
       "    <tr style=\"text-align: right;\">\n",
       "      <th></th>\n",
       "      <th>ts_code</th>\n",
       "      <th>low</th>\n",
       "      <th>high</th>\n",
       "    </tr>\n",
       "  </thead>\n",
       "  <tbody>\n",
       "    <tr>\n",
       "      <th>2021-08-01</th>\n",
       "      <td>881105.TI</td>\n",
       "      <td>1485.0</td>\n",
       "      <td>1629.0</td>\n",
       "    </tr>\n",
       "    <tr>\n",
       "      <th>2021-08-01</th>\n",
       "      <td>885452.TI</td>\n",
       "      <td>2216.0</td>\n",
       "      <td>2391.0</td>\n",
       "    </tr>\n",
       "    <tr>\n",
       "      <th>2021-08-01</th>\n",
       "      <td>885525.TI</td>\n",
       "      <td>7427.0</td>\n",
       "      <td>8552.0</td>\n",
       "    </tr>\n",
       "    <tr>\n",
       "      <th>2021-08-01</th>\n",
       "      <td>885641.TI</td>\n",
       "      <td>621.0</td>\n",
       "      <td>671.0</td>\n",
       "    </tr>\n",
       "    <tr>\n",
       "      <th>2021-08-08</th>\n",
       "      <td>881105.TI</td>\n",
       "      <td>1496.0</td>\n",
       "      <td>1623.0</td>\n",
       "    </tr>\n",
       "    <tr>\n",
       "      <th>2021-08-08</th>\n",
       "      <td>885452.TI</td>\n",
       "      <td>2297.0</td>\n",
       "      <td>2406.0</td>\n",
       "    </tr>\n",
       "    <tr>\n",
       "      <th>2021-08-08</th>\n",
       "      <td>885525.TI</td>\n",
       "      <td>7300.0</td>\n",
       "      <td>7868.0</td>\n",
       "    </tr>\n",
       "    <tr>\n",
       "      <th>2021-08-08</th>\n",
       "      <td>885641.TI</td>\n",
       "      <td>668.0</td>\n",
       "      <td>691.0</td>\n",
       "    </tr>\n",
       "    <tr>\n",
       "      <th>2021-08-15</th>\n",
       "      <td>881105.TI</td>\n",
       "      <td>1606.0</td>\n",
       "      <td>1776.0</td>\n",
       "    </tr>\n",
       "    <tr>\n",
       "      <th>2021-08-15</th>\n",
       "      <td>885452.TI</td>\n",
       "      <td>2352.0</td>\n",
       "      <td>2459.0</td>\n",
       "    </tr>\n",
       "    <tr>\n",
       "      <th>2021-08-15</th>\n",
       "      <td>885525.TI</td>\n",
       "      <td>7525.0</td>\n",
       "      <td>8236.0</td>\n",
       "    </tr>\n",
       "    <tr>\n",
       "      <th>2021-08-15</th>\n",
       "      <td>885641.TI</td>\n",
       "      <td>685.0</td>\n",
       "      <td>719.0</td>\n",
       "    </tr>\n",
       "    <tr>\n",
       "      <th>2021-08-22</th>\n",
       "      <td>881105.TI</td>\n",
       "      <td>1656.0</td>\n",
       "      <td>1804.0</td>\n",
       "    </tr>\n",
       "    <tr>\n",
       "      <th>2021-08-22</th>\n",
       "      <td>885452.TI</td>\n",
       "      <td>2329.0</td>\n",
       "      <td>2415.0</td>\n",
       "    </tr>\n",
       "    <tr>\n",
       "      <th>2021-08-22</th>\n",
       "      <td>885525.TI</td>\n",
       "      <td>7400.0</td>\n",
       "      <td>8270.0</td>\n",
       "    </tr>\n",
       "    <tr>\n",
       "      <th>2021-08-22</th>\n",
       "      <td>885641.TI</td>\n",
       "      <td>691.0</td>\n",
       "      <td>720.0</td>\n",
       "    </tr>\n",
       "  </tbody>\n",
       "</table>\n",
       "</div>"
      ],
      "text/plain": [
       "              ts_code     low    high\n",
       "2021-08-01  881105.TI  1485.0  1629.0\n",
       "2021-08-01  885452.TI  2216.0  2391.0\n",
       "2021-08-01  885525.TI  7427.0  8552.0\n",
       "2021-08-01  885641.TI   621.0   671.0\n",
       "2021-08-08  881105.TI  1496.0  1623.0\n",
       "2021-08-08  885452.TI  2297.0  2406.0\n",
       "2021-08-08  885525.TI  7300.0  7868.0\n",
       "2021-08-08  885641.TI   668.0   691.0\n",
       "2021-08-15  881105.TI  1606.0  1776.0\n",
       "2021-08-15  885452.TI  2352.0  2459.0\n",
       "2021-08-15  885525.TI  7525.0  8236.0\n",
       "2021-08-15  885641.TI   685.0   719.0\n",
       "2021-08-22  881105.TI  1656.0  1804.0\n",
       "2021-08-22  885452.TI  2329.0  2415.0\n",
       "2021-08-22  885525.TI  7400.0  8270.0\n",
       "2021-08-22  885641.TI   691.0   720.0"
      ]
     },
     "execution_count": 134,
     "metadata": {},
     "output_type": "execute_result"
    }
   ],
   "source": [
    "df = pd.read_clipboard()\n",
    "df"
   ]
  },
  {
   "cell_type": "code",
   "execution_count": 151,
   "metadata": {},
   "outputs": [
    {
     "data": {
      "text/plain": [
       "Index(['ts_code', 'low', 'high'], dtype='object')"
      ]
     },
     "execution_count": 151,
     "metadata": {},
     "output_type": "execute_result"
    }
   ],
   "source": [
    "df.columns"
   ]
  },
  {
   "cell_type": "code",
   "execution_count": 135,
   "metadata": {},
   "outputs": [
    {
     "data": {
      "text/plain": [
       "2021-08-01    2021-08-22\n",
       "2021-08-01    2021-08-15\n",
       "2021-08-01    2021-08-01\n",
       "2021-08-01    2021-08-22\n",
       "2021-08-08    2021-08-22\n",
       "2021-08-08    2021-08-15\n",
       "2021-08-08    2021-08-01\n",
       "2021-08-08    2021-08-22\n",
       "2021-08-15    2021-08-22\n",
       "2021-08-15    2021-08-15\n",
       "2021-08-15    2021-08-01\n",
       "2021-08-15    2021-08-22\n",
       "2021-08-22    2021-08-22\n",
       "2021-08-22    2021-08-15\n",
       "2021-08-22    2021-08-01\n",
       "2021-08-22    2021-08-22\n",
       "Name: high, dtype: object"
      ]
     },
     "execution_count": 135,
     "metadata": {},
     "output_type": "execute_result"
    }
   ],
   "source": [
    "df.groupby('ts_code')['high'].transform('idxmax')"
   ]
  },
  {
   "cell_type": "code",
   "execution_count": 164,
   "metadata": {},
   "outputs": [
    {
     "data": {
      "text/html": [
       "<div>\n",
       "<style scoped>\n",
       "    .dataframe tbody tr th:only-of-type {\n",
       "        vertical-align: middle;\n",
       "    }\n",
       "\n",
       "    .dataframe tbody tr th {\n",
       "        vertical-align: top;\n",
       "    }\n",
       "\n",
       "    .dataframe thead th {\n",
       "        text-align: right;\n",
       "    }\n",
       "</style>\n",
       "<table border=\"1\" class=\"dataframe\">\n",
       "  <thead>\n",
       "    <tr style=\"text-align: right;\">\n",
       "      <th></th>\n",
       "      <th>ts_code</th>\n",
       "      <th>low</th>\n",
       "      <th>high</th>\n",
       "    </tr>\n",
       "  </thead>\n",
       "  <tbody>\n",
       "    <tr>\n",
       "      <th>2021-08-01</th>\n",
       "      <td>885525.TI</td>\n",
       "      <td>7427.0</td>\n",
       "      <td>8552.0</td>\n",
       "    </tr>\n",
       "    <tr>\n",
       "      <th>2021-08-08</th>\n",
       "      <td>885525.TI</td>\n",
       "      <td>7300.0</td>\n",
       "      <td>7868.0</td>\n",
       "    </tr>\n",
       "    <tr>\n",
       "      <th>2021-08-15</th>\n",
       "      <td>885452.TI</td>\n",
       "      <td>2352.0</td>\n",
       "      <td>2459.0</td>\n",
       "    </tr>\n",
       "    <tr>\n",
       "      <th>2021-08-15</th>\n",
       "      <td>885525.TI</td>\n",
       "      <td>7525.0</td>\n",
       "      <td>8236.0</td>\n",
       "    </tr>\n",
       "    <tr>\n",
       "      <th>2021-08-22</th>\n",
       "      <td>881105.TI</td>\n",
       "      <td>1656.0</td>\n",
       "      <td>1804.0</td>\n",
       "    </tr>\n",
       "    <tr>\n",
       "      <th>2021-08-22</th>\n",
       "      <td>885452.TI</td>\n",
       "      <td>2329.0</td>\n",
       "      <td>2415.0</td>\n",
       "    </tr>\n",
       "    <tr>\n",
       "      <th>2021-08-22</th>\n",
       "      <td>885525.TI</td>\n",
       "      <td>7400.0</td>\n",
       "      <td>8270.0</td>\n",
       "    </tr>\n",
       "    <tr>\n",
       "      <th>2021-08-22</th>\n",
       "      <td>885641.TI</td>\n",
       "      <td>691.0</td>\n",
       "      <td>720.0</td>\n",
       "    </tr>\n",
       "  </tbody>\n",
       "</table>\n",
       "</div>"
      ],
      "text/plain": [
       "              ts_code     low    high\n",
       "2021-08-01  885525.TI  7427.0  8552.0\n",
       "2021-08-08  885525.TI  7300.0  7868.0\n",
       "2021-08-15  885452.TI  2352.0  2459.0\n",
       "2021-08-15  885525.TI  7525.0  8236.0\n",
       "2021-08-22  881105.TI  1656.0  1804.0\n",
       "2021-08-22  885452.TI  2329.0  2415.0\n",
       "2021-08-22  885525.TI  7400.0  8270.0\n",
       "2021-08-22  885641.TI   691.0   720.0"
      ]
     },
     "execution_count": 164,
     "metadata": {},
     "output_type": "execute_result"
    }
   ],
   "source": [
    "df[df.groupby('ts_code')['high'].transform(lambda x: (x.index>=x.idxmax('high')))]"
   ]
  },
  {
   "cell_type": "code",
   "execution_count": 159,
   "metadata": {},
   "outputs": [
    {
     "data": {
      "text/html": [
       "<div>\n",
       "<style scoped>\n",
       "    .dataframe tbody tr th:only-of-type {\n",
       "        vertical-align: middle;\n",
       "    }\n",
       "\n",
       "    .dataframe tbody tr th {\n",
       "        vertical-align: top;\n",
       "    }\n",
       "\n",
       "    .dataframe thead th {\n",
       "        text-align: right;\n",
       "    }\n",
       "</style>\n",
       "<table border=\"1\" class=\"dataframe\">\n",
       "  <thead>\n",
       "    <tr style=\"text-align: right;\">\n",
       "      <th></th>\n",
       "      <th>ts_code</th>\n",
       "      <th>low</th>\n",
       "      <th>high</th>\n",
       "    </tr>\n",
       "  </thead>\n",
       "  <tbody>\n",
       "    <tr>\n",
       "      <th>2021-08-01</th>\n",
       "      <td>885525.TI</td>\n",
       "      <td>7427.0</td>\n",
       "      <td>8552.0</td>\n",
       "    </tr>\n",
       "    <tr>\n",
       "      <th>2021-08-08</th>\n",
       "      <td>885525.TI</td>\n",
       "      <td>7300.0</td>\n",
       "      <td>7868.0</td>\n",
       "    </tr>\n",
       "    <tr>\n",
       "      <th>2021-08-15</th>\n",
       "      <td>885452.TI</td>\n",
       "      <td>2352.0</td>\n",
       "      <td>2459.0</td>\n",
       "    </tr>\n",
       "    <tr>\n",
       "      <th>2021-08-22</th>\n",
       "      <td>881105.TI</td>\n",
       "      <td>1656.0</td>\n",
       "      <td>1804.0</td>\n",
       "    </tr>\n",
       "    <tr>\n",
       "      <th>2021-08-22</th>\n",
       "      <td>885452.TI</td>\n",
       "      <td>2329.0</td>\n",
       "      <td>2415.0</td>\n",
       "    </tr>\n",
       "    <tr>\n",
       "      <th>2021-08-22</th>\n",
       "      <td>885641.TI</td>\n",
       "      <td>691.0</td>\n",
       "      <td>720.0</td>\n",
       "    </tr>\n",
       "  </tbody>\n",
       "</table>\n",
       "</div>"
      ],
      "text/plain": [
       "              ts_code     low    high\n",
       "2021-08-01  885525.TI  7427.0  8552.0\n",
       "2021-08-08  885525.TI  7300.0  7868.0\n",
       "2021-08-15  885452.TI  2352.0  2459.0\n",
       "2021-08-22  881105.TI  1656.0  1804.0\n",
       "2021-08-22  885452.TI  2329.0  2415.0\n",
       "2021-08-22  885641.TI   691.0   720.0"
      ]
     },
     "execution_count": 159,
     "metadata": {},
     "output_type": "execute_result"
    }
   ],
   "source": [
    "df1 = df.reset_index()\n",
    "df1 = df[df.index >= df.groupby('ts_code')['high'].transform('idxmax')]\n",
    "out = df1[df1.groupby('ts_code').cumcount()<=1]\n",
    "out"
   ]
  },
  {
   "cell_type": "code",
   "execution_count": null,
   "metadata": {},
   "outputs": [],
   "source": [
    "out\n",
    "              ts_code     low    high\n",
    "2021-08-01  885525.TI  7427.0  8552.0\n",
    "2021-08-08  885525.TI  7300.0  7868.0\n",
    "2021-08-15  885452.TI  2352.0  2459.0\n",
    "2021-08-22  881105.TI  1656.0  1804.0\n",
    "2021-08-22  885452.TI  2329.0  2415.0\n",
    "2021-08-22  885641.TI   691.0   720.0"
   ]
  },
  {
   "cell_type": "code",
   "execution_count": null,
   "metadata": {},
   "outputs": [],
   "source": []
  },
  {
   "cell_type": "code",
   "execution_count": null,
   "metadata": {},
   "outputs": [],
   "source": [
    "df.apply(df.columns.repeat, axis=1).explode()"
   ]
  },
  {
   "cell_type": "code",
   "execution_count": 165,
   "metadata": {},
   "outputs": [],
   "source": [
    "data = [{'ID': 1, 'A': 3, 'B': 1, 'C': 2, 'D': 1, 'E': 0},\n",
    "        {'ID': 2, 'A': 0, 'B': 1, 'C': 2, 'D': 5, 'E': 2},\n",
    "        {'ID': 3, 'A': 2, 'B': 2, 'C': 5, 'D': 3, 'E': 10}]\n",
    "\n",
    "df = pd.DataFrame(data)"
   ]
  },
  {
   "cell_type": "code",
   "execution_count": 167,
   "metadata": {},
   "outputs": [
    {
     "data": {
      "text/html": [
       "<div>\n",
       "<style scoped>\n",
       "    .dataframe tbody tr th:only-of-type {\n",
       "        vertical-align: middle;\n",
       "    }\n",
       "\n",
       "    .dataframe tbody tr th {\n",
       "        vertical-align: top;\n",
       "    }\n",
       "\n",
       "    .dataframe thead th {\n",
       "        text-align: right;\n",
       "    }\n",
       "</style>\n",
       "<table border=\"1\" class=\"dataframe\">\n",
       "  <thead>\n",
       "    <tr style=\"text-align: right;\">\n",
       "      <th></th>\n",
       "      <th>ID</th>\n",
       "      <th>A</th>\n",
       "      <th>B</th>\n",
       "      <th>C</th>\n",
       "      <th>D</th>\n",
       "      <th>E</th>\n",
       "    </tr>\n",
       "  </thead>\n",
       "  <tbody>\n",
       "    <tr>\n",
       "      <th>0</th>\n",
       "      <td>1</td>\n",
       "      <td>3</td>\n",
       "      <td>1</td>\n",
       "      <td>2</td>\n",
       "      <td>1</td>\n",
       "      <td>0</td>\n",
       "    </tr>\n",
       "    <tr>\n",
       "      <th>1</th>\n",
       "      <td>2</td>\n",
       "      <td>0</td>\n",
       "      <td>1</td>\n",
       "      <td>2</td>\n",
       "      <td>5</td>\n",
       "      <td>2</td>\n",
       "    </tr>\n",
       "    <tr>\n",
       "      <th>2</th>\n",
       "      <td>3</td>\n",
       "      <td>2</td>\n",
       "      <td>2</td>\n",
       "      <td>5</td>\n",
       "      <td>3</td>\n",
       "      <td>10</td>\n",
       "    </tr>\n",
       "  </tbody>\n",
       "</table>\n",
       "</div>"
      ],
      "text/plain": [
       "   ID  A  B  C  D   E\n",
       "0   1  3  1  2  1   0\n",
       "1   2  0  1  2  5   2\n",
       "2   3  2  2  5  3  10"
      ]
     },
     "execution_count": 167,
     "metadata": {},
     "output_type": "execute_result"
    }
   ],
   "source": [
    "df"
   ]
  },
  {
   "cell_type": "code",
   "execution_count": 183,
   "metadata": {},
   "outputs": [
    {
     "data": {
      "text/html": [
       "<div>\n",
       "<style scoped>\n",
       "    .dataframe tbody tr th:only-of-type {\n",
       "        vertical-align: middle;\n",
       "    }\n",
       "\n",
       "    .dataframe tbody tr th {\n",
       "        vertical-align: top;\n",
       "    }\n",
       "\n",
       "    .dataframe thead th {\n",
       "        text-align: right;\n",
       "    }\n",
       "</style>\n",
       "<table border=\"1\" class=\"dataframe\">\n",
       "  <thead>\n",
       "    <tr style=\"text-align: right;\">\n",
       "      <th></th>\n",
       "      <th>A</th>\n",
       "      <th>B</th>\n",
       "      <th>C</th>\n",
       "      <th>D</th>\n",
       "      <th>E</th>\n",
       "    </tr>\n",
       "    <tr>\n",
       "      <th>ID</th>\n",
       "      <th></th>\n",
       "      <th></th>\n",
       "      <th></th>\n",
       "      <th></th>\n",
       "      <th></th>\n",
       "    </tr>\n",
       "  </thead>\n",
       "  <tbody>\n",
       "    <tr>\n",
       "      <th>1</th>\n",
       "      <td>3</td>\n",
       "      <td>1</td>\n",
       "      <td>2</td>\n",
       "      <td>1</td>\n",
       "      <td>0</td>\n",
       "    </tr>\n",
       "    <tr>\n",
       "      <th>2</th>\n",
       "      <td>0</td>\n",
       "      <td>1</td>\n",
       "      <td>2</td>\n",
       "      <td>5</td>\n",
       "      <td>2</td>\n",
       "    </tr>\n",
       "    <tr>\n",
       "      <th>3</th>\n",
       "      <td>2</td>\n",
       "      <td>2</td>\n",
       "      <td>5</td>\n",
       "      <td>3</td>\n",
       "      <td>10</td>\n",
       "    </tr>\n",
       "  </tbody>\n",
       "</table>\n",
       "</div>"
      ],
      "text/plain": [
       "    A  B  C  D   E\n",
       "ID                \n",
       "1   3  1  2  1   0\n",
       "2   0  1  2  5   2\n",
       "3   2  2  5  3  10"
      ]
     },
     "execution_count": 183,
     "metadata": {},
     "output_type": "execute_result"
    }
   ],
   "source": [
    "df1"
   ]
  },
  {
   "cell_type": "code",
   "execution_count": 178,
   "metadata": {},
   "outputs": [
    {
     "data": {
      "text/plain": [
       "ID\n",
       "1    Index(['A', 'A', 'A', 'B', 'C', 'C', 'D'], dty...\n",
       "2    Index(['B', 'C', 'C', 'D', 'D', 'D', 'D', 'D',...\n",
       "3    Index(['A', 'A', 'B', 'B', 'C', 'C', 'C', 'C',...\n",
       "dtype: object"
      ]
     },
     "execution_count": 178,
     "metadata": {},
     "output_type": "execute_result"
    }
   ],
   "source": [
    "df1 = df.set_index('ID')\n",
    "df1.apply(df1.columns.repeat, axis=1)"
   ]
  },
  {
   "cell_type": "code",
   "execution_count": 187,
   "metadata": {},
   "outputs": [
    {
     "data": {
      "text/plain": [
       "Index(['A', 'B', 'B', 'C', 'D', 'D'], dtype='object')"
      ]
     },
     "execution_count": 187,
     "metadata": {},
     "output_type": "execute_result"
    }
   ],
   "source": [
    "df1.columns.repeat([1,2,1,2,0])"
   ]
  },
  {
   "cell_type": "code",
   "execution_count": null,
   "metadata": {},
   "outputs": [],
   "source": []
  },
  {
   "cell_type": "code",
   "execution_count": null,
   "metadata": {},
   "outputs": [],
   "source": []
  },
  {
   "cell_type": "code",
   "execution_count": null,
   "metadata": {},
   "outputs": [],
   "source": [
    "model = tf.keras.Sequential()\n",
    "\n",
    "model.add(tf.keras.layers.LSTM(128, return_sequences=True, input_shape=(1, 100)))\n",
    "\n",
    "model.add(tf.keras.layers.Dropout(0.3))\n",
    "\n",
    "model.add(tf.keras.layers.LSTM(32, return_sequences=False))\n",
    "\n",
    "model.add(tf.keras.layers.Dropout(0.3))\n",
    "\n",
    "model.add(tf.keras.layers.Dense(1, activation = 'linear'))"
   ]
  },
  {
   "cell_type": "code",
   "execution_count": 188,
   "metadata": {},
   "outputs": [],
   "source": [
    "from tensorflow.keras import layers, Model, utils"
   ]
  },
  {
   "cell_type": "code",
   "execution_count": 231,
   "metadata": {},
   "outputs": [],
   "source": [
    "inp = layers.Input((100,1))\n",
    "x = layers.MultiHeadAttention(1,2,1)(inp, inp)\n",
    "x = layers.LSTM(32, return_sequences=True)(x)"
   ]
  },
  {
   "cell_type": "code",
   "execution_count": 232,
   "metadata": {},
   "outputs": [
    {
     "name": "stdout",
     "output_type": "stream",
     "text": [
      "Model: \"model_21\"\n",
      "__________________________________________________________________________________________________\n",
      "Layer (type)                    Output Shape         Param #     Connected to                     \n",
      "==================================================================================================\n",
      "input_26 (InputLayer)           [(None, 100, 1)]     0                                            \n",
      "__________________________________________________________________________________________________\n",
      "multi_head_attention_18 (MultiH (None, 100, 1)       12          input_26[0][0]                   \n",
      "                                                                 input_26[0][0]                   \n",
      "__________________________________________________________________________________________________\n",
      "lstm_22 (LSTM)                  (None, 100, 32)      4352        multi_head_attention_18[0][0]    \n",
      "==================================================================================================\n",
      "Total params: 4,364\n",
      "Trainable params: 4,364\n",
      "Non-trainable params: 0\n",
      "__________________________________________________________________________________________________\n"
     ]
    }
   ],
   "source": [
    "model = Model(inp, x)\n",
    "model.summary()"
   ]
  },
  {
   "cell_type": "code",
   "execution_count": null,
   "metadata": {},
   "outputs": [],
   "source": []
  },
  {
   "cell_type": "code",
   "execution_count": null,
   "metadata": {},
   "outputs": [],
   "source": []
  },
  {
   "cell_type": "code",
   "execution_count": 267,
   "metadata": {},
   "outputs": [
    {
     "data": {
      "text/plain": [
       "array([[1, 5],\n",
       "       [2, 6],\n",
       "       [3, 7],\n",
       "       [4, 8]])"
      ]
     },
     "execution_count": 267,
     "metadata": {},
     "output_type": "execute_result"
    }
   ],
   "source": [
    "b"
   ]
  },
  {
   "cell_type": "code",
   "execution_count": 256,
   "metadata": {},
   "outputs": [],
   "source": []
  },
  {
   "cell_type": "code",
   "execution_count": 270,
   "metadata": {},
   "outputs": [
    {
     "name": "stdout",
     "output_type": "stream",
     "text": [
      "Reshape of original is a view: True\n",
      "Transpose sharing memory: True\n",
      "Reshape of transpose is a copy: True\n"
     ]
    }
   ],
   "source": [
    "a = np.array([[1,2,3,4],[5,6,7,8]])\n",
    "b = a.T\n",
    "\n",
    "arr1 = a.reshape((-1,1))\n",
    "print('Reshape of original is a view:', np.shares_memory(a, arr1))\n",
    "\n",
    "print('Transpose sharing memory:', np.shares_memory(a,b))\n",
    "\n",
    "arr2 = b.reshape((-1,1))\n",
    "print('Reshape of transpose is a copy:', not np.shares_memory(b, arr2))"
   ]
  },
  {
   "cell_type": "code",
   "execution_count": 272,
   "metadata": {},
   "outputs": [
    {
     "name": "stdout",
     "output_type": "stream",
     "text": [
      "[False False False]\n",
      "[ True  True  True]\n",
      "[ True  True False]\n"
     ]
    }
   ],
   "source": [
    "def func(np_array):\n",
    "    try:\n",
    "        np_array.astype(float)\n",
    "        return True\n",
    "    except:\n",
    "        return False\n",
    "\n",
    "b = np.array([[1,2,'Aff'], [4,5,8], [7,8,9]])\n",
    "print(np.apply_along_axis(np.can_cast, axis=0, arr=b, to='float', casting= 'safe'))\n",
    "print(np.apply_along_axis(np.can_cast, axis=0, arr=b, to='float', casting= 'unsafe'))\n",
    "print(np.apply_along_axis(func, axis=0, arr=b))"
   ]
  },
  {
   "cell_type": "code",
   "execution_count": 277,
   "metadata": {},
   "outputs": [
    {
     "data": {
      "text/plain": [
       "[True, True, False]"
      ]
     },
     "execution_count": 277,
     "metadata": {},
     "output_type": "execute_result"
    }
   ],
   "source": [
    "[func(i) for i in b.T]"
   ]
  },
  {
   "cell_type": "code",
   "execution_count": 285,
   "metadata": {},
   "outputs": [
    {
     "data": {
      "text/plain": [
       "[False, False, False]"
      ]
     },
     "execution_count": 285,
     "metadata": {},
     "output_type": "execute_result"
    }
   ],
   "source": [
    "[np.can_cast(i, 'float', 'same_kind') for i in b.T]"
   ]
  },
  {
   "cell_type": "code",
   "execution_count": null,
   "metadata": {},
   "outputs": [],
   "source": []
  },
  {
   "cell_type": "code",
   "execution_count": 286,
   "metadata": {},
   "outputs": [],
   "source": [
    "import numpy as np"
   ]
  },
  {
   "cell_type": "code",
   "execution_count": 331,
   "metadata": {},
   "outputs": [
    {
     "name": "stdout",
     "output_type": "stream",
     "text": [
      "Shape of output grid: (5, 5, 2)\n",
      "Note: 2 values (x,y) for each point in the expected (5,5) grid\n",
      "\n",
      "Output coordinates\n",
      "[[[ 49.99820337 -10.00279506]\n",
      "  [ 49.99910168 -10.00279506]\n",
      "  [ 50.         -10.00279506]\n",
      "  [ 50.00089832 -10.00279506]\n",
      "  [ 50.00179663 -10.00279506]]\n",
      "\n",
      " [[ 49.99820337 -10.00139753]\n",
      "  [ 49.99910168 -10.00139753]\n",
      "  [ 50.         -10.00139753]\n",
      "  [ 50.00089832 -10.00139753]\n",
      "  [ 50.00179663 -10.00139753]]\n",
      "\n",
      " [[ 49.99820337 -10.        ]\n",
      "  [ 49.99910168 -10.        ]\n",
      "  [ 50.         -10.        ]\n",
      "  [ 50.00089832 -10.        ]\n",
      "  [ 50.00179663 -10.        ]]\n",
      "\n",
      " [[ 49.99820337  -9.99860247]\n",
      "  [ 49.99910168  -9.99860247]\n",
      "  [ 50.          -9.99860247]\n",
      "  [ 50.00089832  -9.99860247]\n",
      "  [ 50.00179663  -9.99860247]]\n",
      "\n",
      " [[ 49.99820337  -9.99720494]\n",
      "  [ 49.99910168  -9.99720494]\n",
      "  [ 50.          -9.99720494]\n",
      "  [ 50.00089832  -9.99720494]\n",
      "  [ 50.00179663  -9.99720494]]]\n"
     ]
    }
   ],
   "source": [
    "def lat_long_offset(lat, lon, x, y):\n",
    "    '''\n",
    "    lat, lon : Provide lat lon coordinates\n",
    "    x, y : Provide offset of x and y on lat and long respectively\n",
    "           This needs to be in meters!\n",
    "           \n",
    "    The approximation is taken from an aviation formula from this stack exchange \n",
    "    https://gis.stackexchange.com/questions/2951/algorithm-for-offsetting-a-latitude-longitude-by-some-amount-of-meters\n",
    "    '''\n",
    "       \n",
    "    #Earth’s radius, sphere\n",
    "    R=6378137\n",
    "\n",
    "    #Coordinate offsets in radians\n",
    "    dLat = x/R\n",
    "    dLon = y/(R*np.cos(np.pi*lat/180))\n",
    "\n",
    "    #OffsetPosition, decimal degrees\n",
    "    latO = lat + dLat * 180/np.pi\n",
    "    lonO = lon + dLon * 180/np.pi\n",
    "    \n",
    "    return latO, lonO\n",
    "\n",
    "lat_long_offset_vec = np.vectorize(lat_long_offset)\n",
    "\n",
    "def get_mesh(lat, lon, dist, coors):\n",
    "    #calculate min and max range for coordinates over an axis\n",
    "    mini, maxi = -dist*coors, dist*coors\n",
    "    \n",
    "    #calculate number of points over an axis\n",
    "    n_coord = coors*2+1\n",
    "    \n",
    "    #create an axis from min to max value with required number of coordinates\n",
    "    axis = np.linspace(mini, maxi, n_coord)\n",
    "    \n",
    "    #create an \"offset_grid\" for X and Y values for both axis. \n",
    "    X, Y = np.meshgrid(axis, axis)\n",
    "\n",
    "    #calcualte offset coordinates for \"offset_grid\" in meters\n",
    "    mesh = lat_long_offset_vec(lat, lon, X, Y)\n",
    "    \n",
    "    #Transpose to get the (x,y) values for the offset_grid's shape\n",
    "    mesh_x_y_format = np.stack(mesh).transpose(1,2,0)\n",
    "    return mesh_x_y_format\n",
    "\n",
    "output = get_mesh(50, -10, 100, 2)\n",
    "\n",
    "print('Shape of output grid:', output.shape)\n",
    "print('Note: 2 values (x,y) for each point in the expected (5,5) grid')\n",
    "\n",
    "print('')\n",
    "print('Output coordinates')\n",
    "print(output)"
   ]
  },
  {
   "cell_type": "code",
   "execution_count": 323,
   "metadata": {},
   "outputs": [
    {
     "data": {
      "text/plain": [
       "(5, 5, 2)"
      ]
     },
     "execution_count": 323,
     "metadata": {},
     "output_type": "execute_result"
    }
   ],
   "source": []
  },
  {
   "cell_type": "code",
   "execution_count": 333,
   "metadata": {},
   "outputs": [
    {
     "data": {
      "text/plain": [
       "(array([[-10.,   0.,  10.],\n",
       "        [-10.,   0.,  10.],\n",
       "        [-10.,   0.,  10.]]),\n",
       " array([[-10., -10., -10.],\n",
       "        [  0.,   0.,   0.],\n",
       "        [ 10.,  10.,  10.]]))"
      ]
     },
     "execution_count": 333,
     "metadata": {},
     "output_type": "execute_result"
    }
   ],
   "source": [
    "axis = np.linspace(-10, 10, 3)\n",
    "\n",
    "\n",
    "\n",
    "mini, maxi = -dist*coors, dist*coors\n",
    "#create an \"offset_grid\" for X and Y values for both axis. \n",
    "X, Y = np.meshgrid(axis, axis)\n",
    "\n",
    "X, Y"
   ]
  },
  {
   "cell_type": "code",
   "execution_count": null,
   "metadata": {},
   "outputs": [],
   "source": []
  },
  {
   "cell_type": "code",
   "execution_count": null,
   "metadata": {},
   "outputs": [],
   "source": [
    "    #calculate min and max range for coordinates over an axis\n",
    "    mini, maxi = -dist*coors, dist*coors\n",
    "    \n",
    "    #calculate number of points over an axis\n",
    "    n_coord = coors*2+1\n",
    "    \n",
    "    #create an axis from min to max value with required number of coordinates\n",
    "    axis = np.linspace(mini, maxi, n_coord)\n",
    "    \n",
    "    #create an \"offset_grid\" for X and Y values for both axis. \n",
    "    X, Y = np.meshgrid(axis, axis)\n",
    "\n",
    "    #calcualte offset coordinates for \"offset_grid\" in meters\n",
    "    mesh = lat_long_offset_vec(lat, lon, X, Y)\n",
    "    \n",
    "    #Transpose to get the (x,y) values for the offset_grid's shape\n",
    "    mesh_x_y_format = np.stack(mesh).transpose(1,2,0)"
   ]
  },
  {
   "cell_type": "code",
   "execution_count": null,
   "metadata": {},
   "outputs": [],
   "source": [
    "def get_bounding_box(lat, lon, meters_between_coor, coors_away_from_center):\n",
    "    "
   ]
  },
  {
   "cell_type": "code",
   "execution_count": null,
   "metadata": {},
   "outputs": [],
   "source": []
  },
  {
   "cell_type": "code",
   "execution_count": 340,
   "metadata": {},
   "outputs": [
    {
     "data": {
      "text/plain": [
       "(5, 5, 2)"
      ]
     },
     "execution_count": 340,
     "metadata": {},
     "output_type": "execute_result"
    }
   ],
   "source": [
    "lat, lon = 50, -10\n",
    "dist, coors = 100, 2 #meters, num coordinates in each direction\n",
    "\n",
    "mini, maxi = -dist*coors, dist*coors\n",
    "n_coord = coors*2+1\n",
    "axis = np.linspace(mini, maxi, n_coord)\n",
    "X, Y = np.meshgrid(axis, axis)\n",
    "\n",
    "R = 6378137 #earth's radius\n",
    "\n",
    "#avation formulate for offsetting the latlong by offset matrices\n",
    "dLat = X/R\n",
    "dLon = Y/(R*np.cos(np.pi*lat/180))\n",
    "latO = lat + dLat * 180/np.pi\n",
    "lonO = lon + dLon * 180/np.pi\n",
    "\n",
    "#stack x and y latlongs and get (lat,long) format\n",
    "output = np.stack([latO, lonO]).transpose(1,2,0)\n",
    "output.shape"
   ]
  },
  {
   "cell_type": "code",
   "execution_count": 341,
   "metadata": {},
   "outputs": [
    {
     "data": {
      "text/plain": [
       "array([ 50., -10.])"
      ]
     },
     "execution_count": 341,
     "metadata": {},
     "output_type": "execute_result"
    }
   ],
   "source": []
  },
  {
   "cell_type": "code",
   "execution_count": 342,
   "metadata": {},
   "outputs": [],
   "source": [
    "import matplotlib.pyplot as plt\n",
    "\n",
    "points = output.reshape(-1,2)\n",
    "x = points[:,0]\n",
    "y = points[:,1]\n",
    "\n",
    "plt.scatter(x,y)\n",
    "plt.scatter(50,-10,color='r')"
   ]
  },
  {
   "cell_type": "code",
   "execution_count": 354,
   "metadata": {},
   "outputs": [
    {
     "data": {
      "text/plain": [
       "<matplotlib.collections.PathCollection at 0x7fe881355280>"
      ]
     },
     "execution_count": 354,
     "metadata": {},
     "output_type": "execute_result"
    },
    {
     "data": {
      "image/png": "[encoded data removed]",
      "text/plain": [
       "<Figure size 432x288 with 1 Axes>"
      ]
     },
     "metadata": {
      "needs_background": "light"
     },
     "output_type": "display_data"
    }
   ],
   "source": [
    "points = output.reshape(-1,2)\n",
    "x = points[:,0]\n",
    "y = points[:,1]\n",
    "\n",
    "plt.scatter(x,y)\n",
    "plt.scatter(50,-10,color='r')"
   ]
  },
  {
   "cell_type": "code",
   "execution_count": null,
   "metadata": {},
   "outputs": [],
   "source": []
  },
  {
   "cell_type": "code",
   "execution_count": null,
   "metadata": {},
   "outputs": [],
   "source": []
  },
  {
   "cell_type": "code",
   "execution_count": null,
   "metadata": {},
   "outputs": [],
   "source": []
  },
  {
   "cell_type": "code",
   "execution_count": 356,
   "metadata": {},
   "outputs": [
    {
     "name": "stdout",
     "output_type": "stream",
     "text": [
      "('IST', 'IST')\n",
      "(2021,10,4)   (19,36,21)\n",
      "Mon Oct 4 11:13:08 2021\n",
      "The date is 2021-10-04 19:36:21\n",
      "The date is 2021-10-04 11:13:08\n"
     ]
    }
   ],
   "source": [
    "from datetime import datetime\n",
    "import time\n",
    "\n",
    "print(time.tzname)\n",
    "\n",
    "date_time_str1 = '(2021,10,4)   (19,36,21)'\n",
    "date_time_str2 = 'Mon Oct 4 11:13:08 2021'\n",
    "\n",
    "print(date_time_str1)\n",
    "print(date_time_str2)\n",
    "\n",
    "date_time_obj = datetime.strptime(date_time_str1, '(%Y,%m,%d) (%H,%M,%S)')\n",
    "print (\"The date is\", date_time_obj)\n",
    "\n",
    "date_time_obj = datetime.strptime(date_time_str2, '%a %b %d %H:%M:%S %Y')\n",
    "print (\"The date is\", date_time_obj)"
   ]
  },
  {
   "cell_type": "code",
   "execution_count": null,
   "metadata": {},
   "outputs": [],
   "source": []
  },
  {
   "cell_type": "code",
   "execution_count": null,
   "metadata": {},
   "outputs": [],
   "source": []
  },
  {
   "cell_type": "code",
   "execution_count": null,
   "metadata": {},
   "outputs": [],
   "source": []
  },
  {
   "cell_type": "code",
   "execution_count": 372,
   "metadata": {},
   "outputs": [
    {
     "data": {
      "image/png": "[encoded data removed]",
      "text/plain": [
       "<Figure size 432x288 with 1 Axes>"
      ]
     },
     "metadata": {
      "needs_background": "light"
     },
     "output_type": "display_data"
    }
   ],
   "source": [
    "import numpy as np\n",
    "import pandas as pd\n",
    "import matplotlib.pyplot as plt\n",
    "\n",
    "arr = np.array([8,9,7,3,6,3,2,1,2,3,1,3,3,2,2,3,2,2,5,7,8,9,15,20,21])\n",
    "\n",
    "plt.plot(arr)\n",
    "plt.show()"
   ]
  },
  {
   "cell_type": "code",
   "execution_count": 375,
   "metadata": {},
   "outputs": [
    {
     "data": {
      "text/plain": [
       "[<matplotlib.lines.Line2D at 0x7fe886d16550>]"
      ]
     },
     "execution_count": 375,
     "metadata": {},
     "output_type": "execute_result"
    },
    {
     "data": {
      "image/png": "[encoded data removed]",
      "text/plain": [
       "<Figure size 432x288 with 1 Axes>"
      ]
     },
     "metadata": {
      "needs_background": "light"
     },
     "output_type": "display_data"
    }
   ],
   "source": [
    "out = np.fft.fft(arr)\n",
    "power = np.abs(out)**2\n",
    "freq = np.fft.fftfreq(arr.shape[-1])\n",
    "plt.plot(freq, power)"
   ]
  },
  {
   "cell_type": "code",
   "execution_count": 379,
   "metadata": {},
   "outputs": [
    {
     "data": {
      "text/plain": [
       "['1920x1080',\n",
       " '1600x900',\n",
       " '1280x1024',\n",
       " '1152x864',\n",
       " '1024x768',\n",
       " '800x600',\n",
       " '720x400',\n",
       " '640x480']"
      ]
     },
     "execution_count": 379,
     "metadata": {},
     "output_type": "execute_result"
    }
   ],
   "source": [
    "l = ['1152x864', '1920x1080', '1600x900', '1280x1024', '1024x768', '640x480', '720x400', '800x600']\n",
    "\n",
    "sorted(l, key=lambda x: int(x.split('x')[0])/int(x.split('x')[1]), reverse=True)\n",
    "\n",
    "sorted(l, key=lambda x: int(x.split('x')[0])*int(x.split('x')[1]), reverse=True)\n",
    "\n",
    "sorted(l, key=lambda x: (int(x.split('x')[0])**2+int(x.split('x')[1])**2)**(1/2), reverse=True)"
   ]
  },
  {
   "cell_type": "code",
   "execution_count": 377,
   "metadata": {},
   "outputs": [
    {
     "data": {
      "text/plain": [
       "['1920x1080',\n",
       " '1600x900',\n",
       " '1280x1024',\n",
       " '1152x864',\n",
       " '1024x768',\n",
       " '800x600',\n",
       " '640x480',\n",
       " '720x400']"
      ]
     },
     "execution_count": 377,
     "metadata": {},
     "output_type": "execute_result"
    }
   ],
   "source": []
  },
  {
   "cell_type": "code",
   "execution_count": 378,
   "metadata": {},
   "outputs": [
    {
     "data": {
      "text/plain": [
       "['1920x1080',\n",
       " '1600x900',\n",
       " '1280x1024',\n",
       " '1152x864',\n",
       " '1024x768',\n",
       " '800x600',\n",
       " '720x400',\n",
       " '640x480']"
      ]
     },
     "execution_count": 378,
     "metadata": {},
     "output_type": "execute_result"
    }
   ],
   "source": []
  },
  {
   "cell_type": "code",
   "execution_count": null,
   "metadata": {},
   "outputs": [],
   "source": []
  },
  {
   "cell_type": "code",
   "execution_count": null,
   "metadata": {},
   "outputs": [],
   "source": []
  },
  {
   "cell_type": "code",
   "execution_count": null,
   "metadata": {},
   "outputs": [],
   "source": []
  },
  {
   "cell_type": "code",
   "execution_count": 361,
   "metadata": {},
   "outputs": [
    {
     "data": {
      "text/plain": [
       "[<matplotlib.lines.Line2D at 0x7fe8857551c0>]"
      ]
     },
     "execution_count": 361,
     "metadata": {},
     "output_type": "execute_result"
    },
    {
     "data": {
      "image/png": "[encoded data removed]",
      "text/plain": [
       "<Figure size 432x288 with 1 Axes>"
      ]
     },
     "metadata": {
      "needs_background": "light"
     },
     "output_type": "display_data"
    }
   ],
   "source": [
    "t = np.arange(256)\n",
    "plt.plot(np.sin(t))"
   ]
  },
  {
   "cell_type": "code",
   "execution_count": null,
   "metadata": {},
   "outputs": [],
   "source": [
    "import matplotlib.pyplot as plt\n",
    "\n",
    "sp = np.fft.fft(np.sin(t))\n",
    "freq = np.fft.fftfreq(t.shape[-1])\n",
    "plt.plot(freq, sp.real, freq, sp.imag)"
   ]
  },
  {
   "cell_type": "code",
   "execution_count": null,
   "metadata": {},
   "outputs": [],
   "source": []
  },
  {
   "cell_type": "code",
   "execution_count": 387,
   "metadata": {},
   "outputs": [],
   "source": [
    "l = [[1,2,3]]"
   ]
  },
  {
   "cell_type": "code",
   "execution_count": 388,
   "metadata": {},
   "outputs": [
    {
     "name": "stdout",
     "output_type": "stream",
     "text": [
      "[]\n"
     ]
    }
   ],
   "source": [
    "for i in l:\n",
    "    print(l[1:]and[l[0]+l[-1]])"
   ]
  },
  {
   "cell_type": "code",
   "execution_count": null,
   "metadata": {},
   "outputs": [],
   "source": []
  },
  {
   "cell_type": "code",
   "execution_count": 397,
   "metadata": {},
   "outputs": [
    {
     "data": {
      "text/plain": [
       "array([[-2, -3, -4, -5],\n",
       "       [-6, -7, -8, -9]])"
      ]
     },
     "execution_count": 397,
     "metadata": {},
     "output_type": "execute_result"
    }
   ],
   "source": []
  },
  {
   "cell_type": "code",
   "execution_count": null,
   "metadata": {},
   "outputs": [],
   "source": []
  },
  {
   "cell_type": "code",
   "execution_count": 396,
   "metadata": {},
   "outputs": [
    {
     "data": {
      "text/plain": [
       "{'key1': {'key2': {'key3': 'value'}}}"
      ]
     },
     "execution_count": 396,
     "metadata": {},
     "output_type": "execute_result"
    }
   ],
   "source": [
    "d = {'key1' : {('key2','key3') : 'value'}}\n",
    "\n",
    "{k:{vk[0]:{vk[1]:vv}} for k,v in d.items() for vk, vv in v.items()}"
   ]
  },
  {
   "cell_type": "code",
   "execution_count": 402,
   "metadata": {},
   "outputs": [
    {
     "data": {
      "text/plain": [
       "array([ True,  True, False,  True])"
      ]
     },
     "execution_count": 402,
     "metadata": {},
     "output_type": "execute_result"
    }
   ],
   "source": [
    "a = np.array([0,0,1,1], dtype=bool)\n",
    "b = np.array([0,1,0,1], dtype=bool)\n",
    "\n",
    "~a|b"
   ]
  },
  {
   "cell_type": "code",
   "execution_count": 433,
   "metadata": {},
   "outputs": [],
   "source": [
    "mat = np.random.binomial(1,.5,4)\n",
    "rmat = np.array([mat,]*4) "
   ]
  },
  {
   "cell_type": "code",
   "execution_count": 439,
   "metadata": {},
   "outputs": [
    {
     "name": "stdout",
     "output_type": "stream",
     "text": [
      "[[0 0 1 1]\n",
      " [0 0 1 1]\n",
      " [0 0 1 1]\n",
      " [0 0 1 1]]\n"
     ]
    }
   ],
   "source": [
    "diag = rmat.diagonal()\n",
    "np.fill_diagonal(rmat, np.logical_not(diag))\n",
    "print(rmat)"
   ]
  },
  {
   "cell_type": "code",
   "execution_count": 434,
   "metadata": {},
   "outputs": [
    {
     "data": {
      "text/plain": [
       "array([[1, 0, 1, 1],\n",
       "       [0, 1, 1, 1],\n",
       "       [0, 0, 0, 1],\n",
       "       [0, 0, 1, 0]])"
      ]
     },
     "execution_count": 434,
     "metadata": {},
     "output_type": "execute_result"
    }
   ],
   "source": [
    "diagonal = rmat.diagonal()\n",
    "np.fill_diagonal(rmat, 1-diagonal)\n",
    "rmat"
   ]
  },
  {
   "cell_type": "code",
   "execution_count": 455,
   "metadata": {},
   "outputs": [
    {
     "ename": "TypeError",
     "evalue": "'list' object cannot be interpreted as an integer",
     "output_type": "error",
     "traceback": [
      "\u001b[0;31m---------------------------------------------------------------------------\u001b[0m",
      "\u001b[0;31mTypeError\u001b[0m                                 Traceback (most recent call last)",
      "\u001b[0;32m<ipython-input-455-ae642d327bd4>\u001b[0m in \u001b[0;36m<module>\u001b[0;34m\u001b[0m\n\u001b[0;32m----> 1\u001b[0;31m \u001b[0mnp\u001b[0m\u001b[0;34m.\u001b[0m\u001b[0meye\u001b[0m\u001b[0;34m(\u001b[0m\u001b[0mn\u001b[0m\u001b[0;34m,\u001b[0m \u001b[0mdtype\u001b[0m\u001b[0;34m=\u001b[0m\u001b[0mbool\u001b[0m\u001b[0;34m)\u001b[0m\u001b[0;34m\u001b[0m\u001b[0;34m\u001b[0m\u001b[0m\n\u001b[0m",
      "\u001b[0;32m~/opt/anaconda3/lib/python3.8/site-packages/numpy/lib/twodim_base.py\u001b[0m in \u001b[0;36meye\u001b[0;34m(N, M, k, dtype, order)\u001b[0m\n\u001b[1;32m    197\u001b[0m     \u001b[0;32mif\u001b[0m \u001b[0mM\u001b[0m \u001b[0;32mis\u001b[0m \u001b[0;32mNone\u001b[0m\u001b[0;34m:\u001b[0m\u001b[0;34m\u001b[0m\u001b[0;34m\u001b[0m\u001b[0m\n\u001b[1;32m    198\u001b[0m         \u001b[0mM\u001b[0m \u001b[0;34m=\u001b[0m \u001b[0mN\u001b[0m\u001b[0;34m\u001b[0m\u001b[0;34m\u001b[0m\u001b[0m\n\u001b[0;32m--> 199\u001b[0;31m     \u001b[0mm\u001b[0m \u001b[0;34m=\u001b[0m \u001b[0mzeros\u001b[0m\u001b[0;34m(\u001b[0m\u001b[0;34m(\u001b[0m\u001b[0mN\u001b[0m\u001b[0;34m,\u001b[0m \u001b[0mM\u001b[0m\u001b[0;34m)\u001b[0m\u001b[0;34m,\u001b[0m \u001b[0mdtype\u001b[0m\u001b[0;34m=\u001b[0m\u001b[0mdtype\u001b[0m\u001b[0;34m,\u001b[0m \u001b[0morder\u001b[0m\u001b[0;34m=\u001b[0m\u001b[0morder\u001b[0m\u001b[0;34m)\u001b[0m\u001b[0;34m\u001b[0m\u001b[0;34m\u001b[0m\u001b[0m\n\u001b[0m\u001b[1;32m    200\u001b[0m     \u001b[0;32mif\u001b[0m \u001b[0mk\u001b[0m \u001b[0;34m>=\u001b[0m \u001b[0mM\u001b[0m\u001b[0;34m:\u001b[0m\u001b[0;34m\u001b[0m\u001b[0;34m\u001b[0m\u001b[0m\n\u001b[1;32m    201\u001b[0m         \u001b[0;32mreturn\u001b[0m \u001b[0mm\u001b[0m\u001b[0;34m\u001b[0m\u001b[0;34m\u001b[0m\u001b[0m\n",
      "\u001b[0;31mTypeError\u001b[0m: 'list' object cannot be interpreted as an integer"
     ]
    }
   ],
   "source": [
    "n = rmat.shape[0]np.eye(n, dtype=bool)"
   ]
  },
  {
   "cell_type": "code",
   "execution_count": 459,
   "metadata": {},
   "outputs": [
    {
     "ename": "ValueError",
     "evalue": "operands could not be broadcast together with shapes (2,4) (4,4) (4,4) ",
     "output_type": "error",
     "traceback": [
      "\u001b[0;31m---------------------------------------------------------------------------\u001b[0m",
      "\u001b[0;31mValueError\u001b[0m                                Traceback (most recent call last)",
      "\u001b[0;32m<ipython-input-459-6b0692d9686d>\u001b[0m in \u001b[0;36m<module>\u001b[0;34m\u001b[0m\n\u001b[1;32m      1\u001b[0m \u001b[0mn\u001b[0m \u001b[0;34m=\u001b[0m \u001b[0mrmat\u001b[0m\u001b[0;34m.\u001b[0m\u001b[0mshape\u001b[0m\u001b[0;34m[\u001b[0m\u001b[0;36m0\u001b[0m\u001b[0;34m]\u001b[0m\u001b[0;34m\u001b[0m\u001b[0;34m\u001b[0m\u001b[0m\n\u001b[0;32m----> 2\u001b[0;31m \u001b[0mnp\u001b[0m\u001b[0;34m.\u001b[0m\u001b[0mwhere\u001b[0m\u001b[0;34m(\u001b[0m\u001b[0mnp\u001b[0m\u001b[0;34m.\u001b[0m\u001b[0mdiag_indices\u001b[0m\u001b[0;34m(\u001b[0m\u001b[0mn\u001b[0m\u001b[0;34m)\u001b[0m\u001b[0;34m,\u001b[0m \u001b[0mnp\u001b[0m\u001b[0;34m.\u001b[0m\u001b[0mlogical_not\u001b[0m\u001b[0;34m(\u001b[0m\u001b[0mrmat\u001b[0m\u001b[0;34m)\u001b[0m\u001b[0;34m,\u001b[0m \u001b[0mrmat\u001b[0m\u001b[0;34m)\u001b[0m\u001b[0;34m\u001b[0m\u001b[0;34m\u001b[0m\u001b[0m\n\u001b[0m",
      "\u001b[0;32m<__array_function__ internals>\u001b[0m in \u001b[0;36mwhere\u001b[0;34m(*args, **kwargs)\u001b[0m\n",
      "\u001b[0;31mValueError\u001b[0m: operands could not be broadcast together with shapes (2,4) (4,4) (4,4) "
     ]
    }
   ],
   "source": [
    "n = rmat.shape[0]\n",
    "np.where(np.eye(n, dtype=bool), np.logical_not(rmat), rmat)"
   ]
  },
  {
   "cell_type": "code",
   "execution_count": 461,
   "metadata": {},
   "outputs": [
    {
     "name": "stdout",
     "output_type": "stream",
     "text": [
      "[[1 0 1 1]\n",
      " [0 1 1 1]\n",
      " [0 0 0 1]\n",
      " [0 0 1 0]]\n",
      "\n",
      "[[0 0 1 1]\n",
      " [0 0 1 1]\n",
      " [0 0 1 1]\n",
      " [0 0 1 1]]\n"
     ]
    }
   ],
   "source": [
    "print(rmat)\n",
    "print('')\n",
    "n = rmat.shape[0]\n",
    "idx = np.diag_indices(n)\n",
    "\n",
    "rmat[idx] = np.logical_not(rmat[idx])\n",
    "print(rmat)"
   ]
  },
  {
   "cell_type": "code",
   "execution_count": null,
   "metadata": {},
   "outputs": [],
   "source": []
  },
  {
   "cell_type": "code",
   "execution_count": null,
   "metadata": {},
   "outputs": [],
   "source": []
  },
  {
   "cell_type": "code",
   "execution_count": null,
   "metadata": {},
   "outputs": [],
   "source": []
  },
  {
   "cell_type": "code",
   "execution_count": 458,
   "metadata": {},
   "outputs": [
    {
     "data": {
      "text/plain": [
       "(array([0, 1, 2, 3]), array([0, 1, 2, 3]))"
      ]
     },
     "execution_count": 458,
     "metadata": {},
     "output_type": "execute_result"
    }
   ],
   "source": []
  },
  {
   "cell_type": "code",
   "execution_count": 451,
   "metadata": {},
   "outputs": [
    {
     "name": "stdout",
     "output_type": "stream",
     "text": [
      "[[0 0 1 1]\n",
      " [0 0 1 1]\n",
      " [0 0 1 1]\n",
      " [0 0 1 1]]\n",
      "\n",
      "[[0 0 1 1]\n",
      " [0 0 1 1]\n",
      " [0 0 1 1]\n",
      " [0 0 1 1]]\n"
     ]
    }
   ],
   "source": [
    "print(rmat)\n",
    "print('')\n",
    "\n",
    "\n",
    "inverted_diag = np.logical_not(rmat[np.eye(n, dtype=bool)])\n",
    "diag = \n",
    "\n",
    "print(rmat)"
   ]
  },
  {
   "cell_type": "code",
   "execution_count": null,
   "metadata": {},
   "outputs": [],
   "source": []
  },
  {
   "cell_type": "code",
   "execution_count": null,
   "metadata": {},
   "outputs": [],
   "source": []
  },
  {
   "cell_type": "code",
   "execution_count": 449,
   "metadata": {},
   "outputs": [],
   "source": [
    "odd → 501\n",
    "even → 140\n",
    "square → 961 (=312)\n",
    "cube → 343 (=73)\n",
    "prime → 113\n",
    "composite → 999 (=37×3×3×3)"
   ]
  },
  {
   "cell_type": "code",
   "execution_count": null,
   "metadata": {},
   "outputs": [],
   "source": [
    "odd, even, square, cube, prime or composite"
   ]
  },
  {
   "cell_type": "code",
   "execution_count": null,
   "metadata": {},
   "outputs": [],
   "source": []
  },
  {
   "cell_type": "code",
   "execution_count": 475,
   "metadata": {},
   "outputs": [],
   "source": [
    "odds = [i for i in range(1000) if i%2>0 and i>100 and i<999]\n",
    "evens = [i for i in range(1000) if i%2==0 and i>100 and i<999]\n",
    "square = [i**2 for i in range(1000) if i**2>100 and i**2<999]\n",
    "cube = [i**3 for i in range(1000) if i**3>100 and i**3<999]\n",
    "prime = [x for x in range(100, 1000) if all(x % y != 0 for y in range(2, x))]\n",
    "composite = list(set(range(100,1000)).difference(set(prime)))"
   ]
  },
  {
   "cell_type": "code",
   "execution_count": null,
   "metadata": {},
   "outputs": [],
   "source": []
  },
  {
   "cell_type": "code",
   "execution_count": null,
   "metadata": {},
   "outputs": [],
   "source": [
    "def loss(output):\n",
    "    a,b,c,d,e,f = output\n",
    "    "
   ]
  },
  {
   "cell_type": "code",
   "execution_count": null,
   "metadata": {},
   "outputs": [],
   "source": []
  },
  {
   "cell_type": "code",
   "execution_count": null,
   "metadata": {},
   "outputs": [],
   "source": []
  },
  {
   "cell_type": "code",
   "execution_count": null,
   "metadata": {},
   "outputs": [],
   "source": []
  },
  {
   "cell_type": "code",
   "execution_count": null,
   "metadata": {},
   "outputs": [],
   "source": []
  },
  {
   "cell_type": "code",
   "execution_count": null,
   "metadata": {},
   "outputs": [],
   "source": []
  },
  {
   "cell_type": "code",
   "execution_count": 450,
   "metadata": {},
   "outputs": [
    {
     "data": {
      "text/plain": [
       "array([[0, 0, 1, 1],\n",
       "       [0, 0, 1, 1],\n",
       "       [0, 0, 1, 1],\n",
       "       [0, 0, 1, 1]])"
      ]
     },
     "execution_count": 450,
     "metadata": {},
     "output_type": "execute_result"
    }
   ],
   "source": []
  },
  {
   "cell_type": "code",
   "execution_count": null,
   "metadata": {},
   "outputs": [],
   "source": []
  }
 ],
 "metadata": {
  "kernelspec": {
   "display_name": "Python 3",
   "language": "python",
   "name": "python3"
  },
  "language_info": {
   "codemirror_mode": {
    "name": "ipython",
    "version": 3
   },
   "file_extension": ".py",
   "mimetype": "text/x-python",
   "name": "python",
   "nbconvert_exporter": "python",
   "pygments_lexer": "ipython3",
   "version": "3.8.3"
  }
 },
 "nbformat": 4,
 "nbformat_minor": 4
}
