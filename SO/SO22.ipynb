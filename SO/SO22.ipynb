{
 "cells": [
  {
   "cell_type": "code",
   "execution_count": null,
   "metadata": {},
   "outputs": [],
   "source": [
    "import pandas as pd\n",
    "import numpy as np"
   ]
  },
  {
   "cell_type": "code",
   "execution_count": null,
   "metadata": {},
   "outputs": [],
   "source": [
    "l = [str., float, pd.datetime.date]"
   ]
  },
  {
   "cell_type": "code",
   "execution_count": null,
   "metadata": {},
   "outputs": [],
   "source": []
  },
  {
   "cell_type": "code",
   "execution_count": null,
   "metadata": {},
   "outputs": [],
   "source": [
    "!pip install numerize"
   ]
  },
  {
   "cell_type": "code",
   "execution_count": null,
   "metadata": {},
   "outputs": [],
   "source": [
    "l=[        6,\n",
    "          23,\n",
    "         465,\n",
    "        3798,\n",
    "       43423,\n",
    "      910679,\n",
    "     8270192,\n",
    "    23890951,\n",
    "   430493245,999999999999]"
   ]
  },
  {
   "cell_type": "code",
   "execution_count": null,
   "metadata": {},
   "outputs": [],
   "source": [
    "import random"
   ]
  },
  {
   "cell_type": "code",
   "execution_count": null,
   "metadata": {},
   "outputs": [],
   "source": [
    "input='ATCTAGGAT'\n",
    "\n",
    "\n",
    "def mutate_v2(sequence, mutation_rate):\n",
    "    dna_list = list(sequence)\n",
    "    for i in range(len(sequence)):\n",
    "        r = random.random()\n",
    "        if r < mutation_rate:\n",
    "            mutation_site = random.randint(0, len(dna_list) - 1)\n",
    "            print(mutation_site)\n",
    "            dna_list[mutation_site] = random.choice(list('ATCG'))\n",
    "        return ''.join(dna_list)\n",
    "\n",
    "\n",
    "## run the function\n",
    "mutate_v2(input, 0.01)"
   ]
  },
  {
   "cell_type": "code",
   "execution_count": null,
   "metadata": {},
   "outputs": [],
   "source": [
    "input, mutate_v2(input, 0.01)"
   ]
  },
  {
   "cell_type": "code",
   "execution_count": null,
   "metadata": {},
   "outputs": [],
   "source": []
  },
  {
   "cell_type": "code",
   "execution_count": null,
   "metadata": {},
   "outputs": [],
   "source": []
  },
  {
   "cell_type": "code",
   "execution_count": null,
   "metadata": {},
   "outputs": [],
   "source": []
  },
  {
   "cell_type": "code",
   "execution_count": null,
   "metadata": {},
   "outputs": [],
   "source": [
    "a = np.array([[1,2,3,4,5],\n",
    "              [1,2,3,4,5],\n",
    "              [1,2,3,4,5],\n",
    "              [1,2,3,4,5]]).T"
   ]
  },
  {
   "cell_type": "code",
   "execution_count": null,
   "metadata": {},
   "outputs": [],
   "source": [
    "np.roll(a,(1,2),0)\n"
   ]
  },
  {
   "cell_type": "code",
   "execution_count": null,
   "metadata": {},
   "outputs": [],
   "source": [
    "a."
   ]
  },
  {
   "cell_type": "code",
   "execution_count": null,
   "metadata": {},
   "outputs": [],
   "source": [
    "a.T"
   ]
  },
  {
   "cell_type": "code",
   "execution_count": null,
   "metadata": {},
   "outputs": [],
   "source": [
    "np.roll(a, (1,0))"
   ]
  },
  {
   "cell_type": "code",
   "execution_count": null,
   "metadata": {},
   "outputs": [],
   "source": [
    "a = [1,2,3,4,5,6]\n",
    "\n",
    "arr = np.tril(np.stack([np.roll(a,i) for i in range(len(a))]).T)\n",
    "np.fill_diagonal(arr[:,3:], -1)\n",
    "arr"
   ]
  },
  {
   "cell_type": "code",
   "execution_count": null,
   "metadata": {},
   "outputs": [],
   "source": []
  },
  {
   "cell_type": "code",
   "execution_count": null,
   "metadata": {},
   "outputs": [],
   "source": []
  },
  {
   "cell_type": "code",
   "execution_count": null,
   "metadata": {},
   "outputs": [],
   "source": [
    "coeff = [1,2,3,4,5,6]\n",
    "m = 3\n",
    "\n",
    "nums = [np.roll(coeff,i) for i in range(m)] #get rolling ranges\n",
    "a = np.tril(np.stack(nums).T) #stack -> transpose -> lower triangular\n",
    "b = np.diag([-1]*m, m) #create matrix with offset diagonal\n",
    "b[:,:m] = a  #update offset matrix\n",
    "print(b)"
   ]
  },
  {
   "cell_type": "code",
   "execution_count": null,
   "metadata": {},
   "outputs": [],
   "source": [
    "a"
   ]
  },
  {
   "cell_type": "code",
   "execution_count": null,
   "metadata": {},
   "outputs": [],
   "source": [
    "a = np.tril(np.linspace([1,0,-1],[6,5,4],num=6))\n",
    "b = np.diag([-1,-1,-1], 3)\n",
    "\n",
    "\n",
    "\n",
    "b"
   ]
  },
  {
   "cell_type": "code",
   "execution_count": null,
   "metadata": {},
   "outputs": [],
   "source": [
    "b"
   ]
  },
  {
   "cell_type": "code",
   "execution_count": null,
   "metadata": {},
   "outputs": [],
   "source": []
  },
  {
   "cell_type": "code",
   "execution_count": null,
   "metadata": {},
   "outputs": [],
   "source": []
  },
  {
   "cell_type": "code",
   "execution_count": null,
   "metadata": {},
   "outputs": [],
   "source": []
  },
  {
   "cell_type": "code",
   "execution_count": null,
   "metadata": {},
   "outputs": [],
   "source": []
  },
  {
   "cell_type": "code",
   "execution_count": null,
   "metadata": {},
   "outputs": [],
   "source": []
  },
  {
   "cell_type": "code",
   "execution_count": null,
   "metadata": {},
   "outputs": [],
   "source": [
    "arr = np.zeros((6,6))\n",
    "\n",
    "np.fill_diagonal(arr[1:,:], 1)\n",
    "\n",
    "arr"
   ]
  },
  {
   "cell_type": "code",
   "execution_count": null,
   "metadata": {},
   "outputs": [],
   "source": [
    "arr"
   ]
  },
  {
   "cell_type": "code",
   "execution_count": null,
   "metadata": {},
   "outputs": [],
   "source": []
  },
  {
   "cell_type": "code",
   "execution_count": null,
   "metadata": {},
   "outputs": [],
   "source": []
  },
  {
   "cell_type": "code",
   "execution_count": null,
   "metadata": {},
   "outputs": [],
   "source": []
  },
  {
   "cell_type": "code",
   "execution_count": null,
   "metadata": {},
   "outputs": [],
   "source": [
    "mylist = []\n",
    "[mylist.extend([[(x,x)], [(x*2,x*2)]]) for x in range(1, 4)]"
   ]
  },
  {
   "cell_type": "code",
   "execution_count": null,
   "metadata": {},
   "outputs": [],
   "source": [
    "mylist"
   ]
  },
  {
   "cell_type": "code",
   "execution_count": null,
   "metadata": {},
   "outputs": [],
   "source": [
    "[[[(i,i)],[(i*2,i*2)]] for i in range(1,7)]"
   ]
  },
  {
   "cell_type": "code",
   "execution_count": null,
   "metadata": {},
   "outputs": [],
   "source": [
    "import itertools"
   ]
  },
  {
   "cell_type": "code",
   "execution_count": null,
   "metadata": {},
   "outputs": [],
   "source": [
    "[j for x in range(1, 4) for j in ([(x,x)], [(x*2,x*2)])]\n",
    "\n",
    "[[(1, 1)], [(2, 2)], [(2, 2)], [(4, 4)], [(3, 3)], [(6, 6)]]"
   ]
  },
  {
   "cell_type": "code",
   "execution_count": null,
   "metadata": {},
   "outputs": [],
   "source": []
  },
  {
   "cell_type": "code",
   "execution_count": null,
   "metadata": {},
   "outputs": [],
   "source": []
  },
  {
   "cell_type": "code",
   "execution_count": null,
   "metadata": {},
   "outputs": [],
   "source": []
  },
  {
   "cell_type": "code",
   "execution_count": 4,
   "metadata": {},
   "outputs": [],
   "source": [
    "import numpy as np"
   ]
  },
  {
   "cell_type": "code",
   "execution_count": 59,
   "metadata": {
    "scrolled": true
   },
   "outputs": [
    {
     "data": {
      "text/plain": [
       "array([[[  0, 100, 200, 300],\n",
       "        [  1, 101, 201, 301]],\n",
       "\n",
       "       [[ 10, 110, 210, 310],\n",
       "        [ 11, 111, 211, 311]],\n",
       "\n",
       "       [[ 20, 120, 220, 320],\n",
       "        [ 21, 121, 221, 321]]])"
      ]
     },
     "execution_count": 59,
     "metadata": {},
     "output_type": "execute_result"
    }
   ],
   "source": [
    "u = np.array([0, 100, 200, 300]) #hundreds\n",
    "v = np.array([0, 10, 20, 30]) #tens\n",
    "w = np.array([0, 1, 2, 3]) #units\n",
    "\n",
    "x,y,z = np.meshgrid(w,v,u)\n",
    "\n",
    "func1 = x + y + z\n",
    "func1\n",
    "        # axis 0 is 100s \n",
    "        #------------------>\n",
    "array([[[  0, 100, 200, 300],   # |  axis 1\n",
    "        [  1, 101, 201, 301],   # |  is ones\n",
    "        [  2, 102, 202, 302],   # |\n",
    "        [  3, 103, 203, 303]],  # V\n",
    "                                       # |\n",
    "       [[ 10, 110, 210, 310],          # |  \n",
    "        [ 11, 111, 211, 311],          # | Axis 2\n",
    "        [ 12, 112, 212, 312],          # |\n",
    "        [ 13, 113, 213, 313]],         # V\n",
    "\n",
    "       [[ 20, 120, 220, 320],\n",
    "        [ 21, 121, 221, 321],\n",
    "        [ 22, 122, 222, 322],\n",
    "        [ 23, 123, 223, 323]],\n",
    "\n",
    "       [[ 30, 130, 230, 330],\n",
    "        [ 31, 131, 231, 331],\n",
    "        [ 32, 132, 232, 332],\n",
    "        [ 33, 133, 233, 333]]])"
   ]
  },
  {
   "cell_type": "code",
   "execution_count": null,
   "metadata": {},
   "outputs": [],
   "source": []
  },
  {
   "cell_type": "code",
   "execution_count": null,
   "metadata": {},
   "outputs": [],
   "source": []
  },
  {
   "cell_type": "code",
   "execution_count": 100,
   "metadata": {},
   "outputs": [],
   "source": []
  },
  {
   "cell_type": "code",
   "execution_count": 108,
   "metadata": {},
   "outputs": [],
   "source": [
    "def f(a,b,l):l[a],l[b]=l[b],l[a]\n",
    "f=lambda a,b,l:l[0:a]+[l[b]]+l[a+1:b]+[l[a]]+l[b+1:]"
   ]
  },
  {
   "cell_type": "code",
   "execution_count": 115,
   "metadata": {},
   "outputs": [
    {
     "data": {
      "text/plain": [
       "[10, 8, 1, 4, 10, 3, 10, 10]"
      ]
     },
     "execution_count": 115,
     "metadata": {},
     "output_type": "execute_result"
    }
   ],
   "source": [
    "l = [3,8,1,4,10,10,10,10]\n",
    "g(0,5,l)"
   ]
  },
  {
   "cell_type": "code",
   "execution_count": 110,
   "metadata": {},
   "outputs": [
    {
     "data": {
      "text/plain": [
       "[10, 8, 1, 4, 10, 3, 10, 10]"
      ]
     },
     "execution_count": 110,
     "metadata": {},
     "output_type": "execute_result"
    }
   ],
   "source": [
    "l = [3,8,1,4,10,10,10,10]\n",
    "f(0,5,l)\n",
    "l"
   ]
  },
  {
   "cell_type": "code",
   "execution_count": 135,
   "metadata": {},
   "outputs": [
    {
     "data": {
      "text/plain": [
       "[10, 8, 1, 4, 10, 3, 10, 10]"
      ]
     },
     "execution_count": 135,
     "metadata": {},
     "output_type": "execute_result"
    }
   ],
   "source": [
    "l = [3,8,1,4,10,10,10,10]\n",
    "def f(a,b,l):l.insert(b,l.pop(a)),l.insert(a,l.pop(b-1))\n",
    "    \n",
    "f(0,5,l)\n",
    "l"
   ]
  },
  {
   "cell_type": "code",
   "execution_count": 123,
   "metadata": {},
   "outputs": [
    {
     "data": {
      "text/plain": [
       "False"
      ]
     },
     "execution_count": 123,
     "metadata": {},
     "output_type": "execute_result"
    }
   ],
   "source": [
    "1!=1"
   ]
  },
  {
   "cell_type": "code",
   "execution_count": 125,
   "metadata": {},
   "outputs": [
    {
     "data": {
      "text/plain": [
       "[10, 8, 1, 4, 10, 3, 10, 10]"
      ]
     },
     "execution_count": 125,
     "metadata": {},
     "output_type": "execute_result"
    }
   ],
   "source": [
    "l"
   ]
  },
  {
   "cell_type": "code",
   "execution_count": null,
   "metadata": {},
   "outputs": [],
   "source": []
  },
  {
   "cell_type": "code",
   "execution_count": null,
   "metadata": {},
   "outputs": [],
   "source": []
  }
 ],
 "metadata": {
  "kernelspec": {
   "display_name": "Python 3",
   "language": "python",
   "name": "python3"
  },
  "language_info": {
   "codemirror_mode": {
    "name": "ipython",
    "version": 3
   },
   "file_extension": ".py",
   "mimetype": "text/x-python",
   "name": "python",
   "nbconvert_exporter": "python",
   "pygments_lexer": "ipython3",
   "version": "3.8.3"
  }
 },
 "nbformat": 4,
 "nbformat_minor": 4
}
