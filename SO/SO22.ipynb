{
 "cells": [
  {
   "cell_type": "code",
   "execution_count": null,
   "metadata": {},
   "outputs": [],
   "source": [
    "import pandas as pd\n",
    "import numpy as np"
   ]
  },
  {
   "cell_type": "code",
   "execution_count": null,
   "metadata": {},
   "outputs": [],
   "source": [
    "l = [str., float, pd.datetime.date]"
   ]
  },
  {
   "cell_type": "code",
   "execution_count": null,
   "metadata": {},
   "outputs": [],
   "source": []
  },
  {
   "cell_type": "code",
   "execution_count": null,
   "metadata": {},
   "outputs": [],
   "source": [
    "!pip install numerize"
   ]
  },
  {
   "cell_type": "code",
   "execution_count": null,
   "metadata": {},
   "outputs": [],
   "source": [
    "l=[        6,\n",
    "          23,\n",
    "         465,\n",
    "        3798,\n",
    "       43423,\n",
    "      910679,\n",
    "     8270192,\n",
    "    23890951,\n",
    "   430493245,999999999999]"
   ]
  },
  {
   "cell_type": "code",
   "execution_count": null,
   "metadata": {},
   "outputs": [],
   "source": [
    "import random"
   ]
  },
  {
   "cell_type": "code",
   "execution_count": null,
   "metadata": {},
   "outputs": [],
   "source": [
    "input='ATCTAGGAT'\n",
    "\n",
    "\n",
    "def mutate_v2(sequence, mutation_rate):\n",
    "    dna_list = list(sequence)\n",
    "    for i in range(len(sequence)):\n",
    "        r = random.random()\n",
    "        if r < mutation_rate:\n",
    "            mutation_site = random.randint(0, len(dna_list) - 1)\n",
    "            print(mutation_site)\n",
    "            dna_list[mutation_site] = random.choice(list('ATCG'))\n",
    "        return ''.join(dna_list)\n",
    "\n",
    "\n",
    "## run the function\n",
    "mutate_v2(input, 0.01)"
   ]
  },
  {
   "cell_type": "code",
   "execution_count": null,
   "metadata": {},
   "outputs": [],
   "source": [
    "input, mutate_v2(input, 0.01)"
   ]
  },
  {
   "cell_type": "code",
   "execution_count": null,
   "metadata": {},
   "outputs": [],
   "source": []
  },
  {
   "cell_type": "code",
   "execution_count": null,
   "metadata": {},
   "outputs": [],
   "source": []
  },
  {
   "cell_type": "code",
   "execution_count": null,
   "metadata": {},
   "outputs": [],
   "source": []
  },
  {
   "cell_type": "code",
   "execution_count": null,
   "metadata": {},
   "outputs": [],
   "source": [
    "a = np.array([[1,2,3,4,5],\n",
    "              [1,2,3,4,5],\n",
    "              [1,2,3,4,5],\n",
    "              [1,2,3,4,5]]).T"
   ]
  },
  {
   "cell_type": "code",
   "execution_count": null,
   "metadata": {},
   "outputs": [],
   "source": [
    "np.roll(a,(1,2),0)\n"
   ]
  },
  {
   "cell_type": "code",
   "execution_count": null,
   "metadata": {},
   "outputs": [],
   "source": [
    "a."
   ]
  },
  {
   "cell_type": "code",
   "execution_count": null,
   "metadata": {},
   "outputs": [],
   "source": [
    "a.T"
   ]
  },
  {
   "cell_type": "code",
   "execution_count": null,
   "metadata": {},
   "outputs": [],
   "source": [
    "np.roll(a, (1,0))"
   ]
  },
  {
   "cell_type": "code",
   "execution_count": null,
   "metadata": {},
   "outputs": [],
   "source": [
    "a = [1,2,3,4,5,6]\n",
    "\n",
    "arr = np.tril(np.stack([np.roll(a,i) for i in range(len(a))]).T)\n",
    "np.fill_diagonal(arr[:,3:], -1)\n",
    "arr"
   ]
  },
  {
   "cell_type": "code",
   "execution_count": null,
   "metadata": {},
   "outputs": [],
   "source": []
  },
  {
   "cell_type": "code",
   "execution_count": null,
   "metadata": {},
   "outputs": [],
   "source": []
  },
  {
   "cell_type": "code",
   "execution_count": null,
   "metadata": {},
   "outputs": [],
   "source": [
    "coeff = [1,2,3,4,5,6]\n",
    "m = 3\n",
    "\n",
    "nums = [np.roll(coeff,i) for i in range(m)] #get rolling ranges\n",
    "a = np.tril(np.stack(nums).T) #stack -> transpose -> lower triangular\n",
    "b = np.diag([-1]*m, m) #create matrix with offset diagonal\n",
    "b[:,:m] = a  #update offset matrix\n",
    "print(b)"
   ]
  },
  {
   "cell_type": "code",
   "execution_count": null,
   "metadata": {},
   "outputs": [],
   "source": [
    "a"
   ]
  },
  {
   "cell_type": "code",
   "execution_count": null,
   "metadata": {},
   "outputs": [],
   "source": [
    "a = np.tril(np.linspace([1,0,-1],[6,5,4],num=6))\n",
    "b = np.diag([-1,-1,-1], 3)\n",
    "\n",
    "\n",
    "\n",
    "b"
   ]
  },
  {
   "cell_type": "code",
   "execution_count": null,
   "metadata": {},
   "outputs": [],
   "source": [
    "b"
   ]
  },
  {
   "cell_type": "code",
   "execution_count": null,
   "metadata": {},
   "outputs": [],
   "source": []
  },
  {
   "cell_type": "code",
   "execution_count": null,
   "metadata": {},
   "outputs": [],
   "source": []
  },
  {
   "cell_type": "code",
   "execution_count": null,
   "metadata": {},
   "outputs": [],
   "source": []
  },
  {
   "cell_type": "code",
   "execution_count": null,
   "metadata": {},
   "outputs": [],
   "source": []
  },
  {
   "cell_type": "code",
   "execution_count": null,
   "metadata": {},
   "outputs": [],
   "source": []
  },
  {
   "cell_type": "code",
   "execution_count": null,
   "metadata": {},
   "outputs": [],
   "source": [
    "arr = np.zeros((6,6))\n",
    "\n",
    "np.fill_diagonal(arr[1:,:], 1)\n",
    "\n",
    "arr"
   ]
  },
  {
   "cell_type": "code",
   "execution_count": null,
   "metadata": {},
   "outputs": [],
   "source": [
    "arr"
   ]
  },
  {
   "cell_type": "code",
   "execution_count": null,
   "metadata": {},
   "outputs": [],
   "source": []
  },
  {
   "cell_type": "code",
   "execution_count": null,
   "metadata": {},
   "outputs": [],
   "source": []
  },
  {
   "cell_type": "code",
   "execution_count": null,
   "metadata": {},
   "outputs": [],
   "source": []
  },
  {
   "cell_type": "code",
   "execution_count": null,
   "metadata": {},
   "outputs": [],
   "source": [
    "mylist = []\n",
    "[mylist.extend([[(x,x)], [(x*2,x*2)]]) for x in range(1, 4)]"
   ]
  },
  {
   "cell_type": "code",
   "execution_count": null,
   "metadata": {},
   "outputs": [],
   "source": [
    "mylist"
   ]
  },
  {
   "cell_type": "code",
   "execution_count": null,
   "metadata": {},
   "outputs": [],
   "source": [
    "[[[(i,i)],[(i*2,i*2)]] for i in range(1,7)]"
   ]
  },
  {
   "cell_type": "code",
   "execution_count": null,
   "metadata": {},
   "outputs": [],
   "source": [
    "import itertools"
   ]
  },
  {
   "cell_type": "code",
   "execution_count": null,
   "metadata": {},
   "outputs": [],
   "source": [
    "[j for x in range(1, 4) for j in ([(x,x)], [(x*2,x*2)])]\n",
    "\n",
    "[[(1, 1)], [(2, 2)], [(2, 2)], [(4, 4)], [(3, 3)], [(6, 6)]]"
   ]
  },
  {
   "cell_type": "code",
   "execution_count": null,
   "metadata": {},
   "outputs": [],
   "source": []
  },
  {
   "cell_type": "code",
   "execution_count": null,
   "metadata": {},
   "outputs": [],
   "source": []
  },
  {
   "cell_type": "code",
   "execution_count": null,
   "metadata": {},
   "outputs": [],
   "source": []
  },
  {
   "cell_type": "code",
   "execution_count": null,
   "metadata": {},
   "outputs": [],
   "source": [
    "import numpy as np"
   ]
  },
  {
   "cell_type": "code",
   "execution_count": null,
   "metadata": {
    "scrolled": true
   },
   "outputs": [],
   "source": [
    "u = np.array([0, 100, 200, 300]) #hundreds\n",
    "v = np.array([0, 10, 20, 30]) #tens\n",
    "w = np.array([0, 1, 2, 3]) #units\n",
    "\n",
    "x,y,z = np.meshgrid(w,v,u)\n",
    "\n",
    "func1 = x + y + z\n",
    "func1\n",
    "        # axis 0 is 100s \n",
    "        #------------------>\n",
    "array([[[  0, 100, 200, 300],   # |  axis 1\n",
    "        [  1, 101, 201, 301],   # |  is ones\n",
    "        [  2, 102, 202, 302],   # |\n",
    "        [  3, 103, 203, 303]],  # V\n",
    "                                       # |\n",
    "       [[ 10, 110, 210, 310],          # |  \n",
    "        [ 11, 111, 211, 311],          # | Axis 2\n",
    "        [ 12, 112, 212, 312],          # |\n",
    "        [ 13, 113, 213, 313]],         # V\n",
    "\n",
    "       [[ 20, 120, 220, 320],\n",
    "        [ 21, 121, 221, 321],\n",
    "        [ 22, 122, 222, 322],\n",
    "        [ 23, 123, 223, 323]],\n",
    "\n",
    "       [[ 30, 130, 230, 330],\n",
    "        [ 31, 131, 231, 331],\n",
    "        [ 32, 132, 232, 332],\n",
    "        [ 33, 133, 233, 333]]])"
   ]
  },
  {
   "cell_type": "code",
   "execution_count": null,
   "metadata": {},
   "outputs": [],
   "source": []
  },
  {
   "cell_type": "code",
   "execution_count": null,
   "metadata": {},
   "outputs": [],
   "source": []
  },
  {
   "cell_type": "code",
   "execution_count": null,
   "metadata": {},
   "outputs": [],
   "source": []
  },
  {
   "cell_type": "code",
   "execution_count": null,
   "metadata": {},
   "outputs": [],
   "source": [
    "def f(a,b,l):l[a],l[b]=l[b],l[a]\n",
    "f=lambda a,b,l:l[0:a]+[l[b]]+l[a+1:b]+[l[a]]+l[b+1:]"
   ]
  },
  {
   "cell_type": "code",
   "execution_count": null,
   "metadata": {},
   "outputs": [],
   "source": [
    "l = [3,8,1,4,10,10,10,10]\n",
    "g(0,5,l)"
   ]
  },
  {
   "cell_type": "code",
   "execution_count": null,
   "metadata": {},
   "outputs": [],
   "source": [
    "l = [3,8,1,4,10,10,10,10]\n",
    "f(0,5,l)\n",
    "l"
   ]
  },
  {
   "cell_type": "code",
   "execution_count": null,
   "metadata": {},
   "outputs": [],
   "source": [
    "l = [3,8,1,4,10,10,10,10]\n",
    "def f(a,b,l):l.insert(b,l.pop(a)),l.insert(a,l.pop(b-1))\n",
    "    \n",
    "f(0,5,l)\n",
    "l"
   ]
  },
  {
   "cell_type": "code",
   "execution_count": null,
   "metadata": {},
   "outputs": [],
   "source": [
    "1!=1"
   ]
  },
  {
   "cell_type": "code",
   "execution_count": null,
   "metadata": {},
   "outputs": [],
   "source": [
    "l"
   ]
  },
  {
   "cell_type": "code",
   "execution_count": null,
   "metadata": {},
   "outputs": [],
   "source": []
  },
  {
   "cell_type": "code",
   "execution_count": null,
   "metadata": {},
   "outputs": [],
   "source": [
    "d = {'he\\'s':'he is', }"
   ]
  },
  {
   "cell_type": "code",
   "execution_count": null,
   "metadata": {},
   "outputs": [],
   "source": []
  },
  {
   "cell_type": "code",
   "execution_count": null,
   "metadata": {},
   "outputs": [],
   "source": [
    "import re\n",
    "def clean_text(txt):\n",
    "  txt = txt.lower()\n",
    "  txt = re.sub(r\"i'm\", \"i am\", txt)\n",
    "  txt = re.sub(r\"he's\", \"he is\", txt)\n",
    "  txt = re.sub(r\"she's\", \"she is\", txt)\n",
    "  txt = re.sub(r\"that's\", \"that is\", txt)\n",
    "  txt = re.sub(r\"[^\\w\\s]\", \"\", txt)\n",
    "  return txt"
   ]
  },
  {
   "cell_type": "code",
   "execution_count": null,
   "metadata": {},
   "outputs": [],
   "source": [
    "txt = 'hello world, he\\'s a *$^&@ and that\\'s the truth'\n",
    "print(txt)"
   ]
  },
  {
   "cell_type": "code",
   "execution_count": null,
   "metadata": {},
   "outputs": [],
   "source": []
  },
  {
   "cell_type": "code",
   "execution_count": null,
   "metadata": {},
   "outputs": [],
   "source": [
    "''.join([i for i in  if i.isalnum==False])"
   ]
  },
  {
   "cell_type": "code",
   "execution_count": null,
   "metadata": {},
   "outputs": [],
   "source": [
    "''.join(e for e in txt.replace('\\'s', ' is') if e.isalnum() or e==' ')"
   ]
  },
  {
   "cell_type": "code",
   "execution_count": null,
   "metadata": {},
   "outputs": [],
   "source": []
  },
  {
   "cell_type": "code",
   "execution_count": null,
   "metadata": {},
   "outputs": [],
   "source": []
  },
  {
   "cell_type": "code",
   "execution_count": null,
   "metadata": {},
   "outputs": [],
   "source": []
  },
  {
   "cell_type": "code",
   "execution_count": null,
   "metadata": {},
   "outputs": [],
   "source": [
    "from xlrd import open_workbook"
   ]
  },
  {
   "cell_type": "code",
   "execution_count": null,
   "metadata": {},
   "outputs": [],
   "source": [
    "wb = open_workbook('test.xlsx', formatting_info=True)"
   ]
  },
  {
   "cell_type": "code",
   "execution_count": null,
   "metadata": {},
   "outputs": [],
   "source": [
    "theList = list(range(10))"
   ]
  },
  {
   "cell_type": "code",
   "execution_count": null,
   "metadata": {},
   "outputs": [],
   "source": [
    "n = 3"
   ]
  },
  {
   "cell_type": "code",
   "execution_count": null,
   "metadata": {},
   "outputs": [],
   "source": []
  },
  {
   "cell_type": "code",
   "execution_count": null,
   "metadata": {},
   "outputs": [],
   "source": [
    "from collections import namedtuple, Counter\n",
    "\n",
    "Foo = namedtuple('Foo', ['Group', 'A1', 'A2'])\n",
    "Counter([Foo(1, 'AAA', 3),Foo(1, 'AAA', 3),Foo(1, 'AAA', 3),Foo(1, 'AAA', 3)])"
   ]
  },
  {
   "cell_type": "code",
   "execution_count": null,
   "metadata": {},
   "outputs": [],
   "source": []
  },
  {
   "cell_type": "code",
   "execution_count": null,
   "metadata": {},
   "outputs": [],
   "source": []
  },
  {
   "cell_type": "code",
   "execution_count": null,
   "metadata": {},
   "outputs": [],
   "source": [
    "from tensorflow import keras"
   ]
  },
  {
   "cell_type": "code",
   "execution_count": null,
   "metadata": {},
   "outputs": [],
   "source": []
  },
  {
   "cell_type": "code",
   "execution_count": null,
   "metadata": {},
   "outputs": [],
   "source": []
  },
  {
   "cell_type": "code",
   "execution_count": null,
   "metadata": {},
   "outputs": [],
   "source": [
    "input_shape_1, output_1 = (12, 27), (8,)\n",
    "input_shape_2, output_2 = (3, 30), (8,)\n",
    "input_shape_3, output_3 = (3, 38), (8,)\n",
    "\n",
    "X_train = [np.random.random(input_shape_1), np.random.random(input_shape_2), np.random.random(input_shape_3)]\n",
    "y_train - "
   ]
  },
  {
   "cell_type": "code",
   "execution_count": null,
   "metadata": {},
   "outputs": [],
   "source": [
    "from tensorflow.keras import layers, Model, utils\n",
    "\n",
    "#Inputs\n",
    "m1_inp = layers.Input(input_shape_1)\n",
    "m2_inp = layers.Input(input_shape_2)\n",
    "m3_inp = layers.Input(input_shape_3)\n",
    "\n",
    "#LSTMs\n",
    "m1 = layers.LSTM(64, return_sequences=True)(m1_inp)\n",
    "m1 = layers.LSTM(64)(m1)\n",
    "\n",
    "m2 = layers.LSTM(64, return_sequences=True)(m2_inp)\n",
    "m2 = layers.LSTM(64)(m2)\n",
    "\n",
    "m3 = layers.LSTM(64, return_sequences=True)(m3_inp)\n",
    "m3 = layers.LSTM(64)(m3)\n",
    "\n",
    "#concatenate\n",
    "c = layers.Concatenate()([m1, m2, m3])\n",
    "c = layers.Dense(64, activation='relu')(c)\n",
    "c = layers.Dropout(0.3)(c)\n",
    "\n",
    "m1_out = layers.Dense(8, activation='linear')(c)\n",
    "m2_out = layers.Dense(8, activation='linear')(c)\n",
    "m3_out = layers.Dense(8, activation='linear')(c)\n",
    "\n",
    "#Model\n",
    "\n",
    "model = Model([m1_inp, m2_inp, m3_inp], [m1_out, m2_out, m3_out])\n",
    "utils.plot_model(model, show_layer_names=False, show_shapes=True)"
   ]
  },
  {
   "cell_type": "code",
   "execution_count": null,
   "metadata": {},
   "outputs": [],
   "source": []
  },
  {
   "cell_type": "code",
   "execution_count": null,
   "metadata": {},
   "outputs": [],
   "source": []
  },
  {
   "cell_type": "code",
   "execution_count": null,
   "metadata": {},
   "outputs": [],
   "source": []
  },
  {
   "cell_type": "code",
   "execution_count": null,
   "metadata": {},
   "outputs": [],
   "source": [
    "\n",
    "\n",
    "m1 = layers.LSTM(64, return_sequences=True)(m1)\n",
    "m1 = layers.LSTM(64)\n",
    "\n",
    "# model_2.add(keras.layers.LSTM(64, input_shape=input_shape_2, return_sequences=True))\n",
    "# model_2.add(keras.layers.LSTM(64))\n",
    "\n",
    "# model_3.add(keras.layers.LSTM(64, input_shape=input_shape_3, return_sequences=True))\n",
    "# model_3.add(keras.layers.LSTM(64))"
   ]
  },
  {
   "cell_type": "code",
   "execution_count": null,
   "metadata": {},
   "outputs": [],
   "source": []
  },
  {
   "cell_type": "code",
   "execution_count": null,
   "metadata": {},
   "outputs": [],
   "source": []
  },
  {
   "cell_type": "code",
   "execution_count": null,
   "metadata": {},
   "outputs": [],
   "source": []
  },
  {
   "cell_type": "code",
   "execution_count": null,
   "metadata": {},
   "outputs": [],
   "source": [
    "model_1 = keras.Sequential()\n",
    "model_2 = keras.Sequential()\n",
    "model_3 = keras.Sequential()\n",
    "\n",
    "model_1.add(keras.layers.LSTM(64, input_shape=input_shape_1, return_sequences=True))\n",
    "model_1.add(keras.layers.LSTM(64))\n",
    "\n",
    "model_2.add(keras.layers.LSTM(64, input_shape=input_shape_2, return_sequences=True))\n",
    "model_2.add(keras.layers.LSTM(64))\n",
    "\n",
    "model_3.add(keras.layers.LSTM(64, input_shape=input_shape_3, return_sequences=True))\n",
    "model_3.add(keras.layers.LSTM(64))\n",
    "\n",
    "# concat\n",
    "half_merged.add(keras.layers.Concatenate([model_1, model_2]))\n",
    "merged_model.add(keras.layers.Concatenate([half_merged, model_3]))\n",
    "\n",
    "merged_model.add(keras.layers.Dense(64, activation='relu'))\n",
    "merged_model.add(keras.layers.Dropout(0.3))\n",
    "\n",
    "merged_model.add(keras.layers.Dense(8, activation='linear'))"
   ]
  },
  {
   "cell_type": "code",
   "execution_count": null,
   "metadata": {},
   "outputs": [],
   "source": [
    "#  (783, 12, 27) (337, 3, 30) (104, 3, 38)"
   ]
  },
  {
   "cell_type": "code",
   "execution_count": null,
   "metadata": {},
   "outputs": [],
   "source": []
  },
  {
   "cell_type": "code",
   "execution_count": null,
   "metadata": {},
   "outputs": [],
   "source": [
    "\n",
    "print(input_shape_1)\n",
    "print(input_shape_2)\n",
    "print(input_shape_3)"
   ]
  },
  {
   "cell_type": "code",
   "execution_count": null,
   "metadata": {},
   "outputs": [],
   "source": []
  },
  {
   "cell_type": "code",
   "execution_count": null,
   "metadata": {},
   "outputs": [],
   "source": []
  },
  {
   "cell_type": "code",
   "execution_count": null,
   "metadata": {},
   "outputs": [],
   "source": []
  },
  {
   "cell_type": "code",
   "execution_count": null,
   "metadata": {},
   "outputs": [],
   "source": []
  },
  {
   "cell_type": "code",
   "execution_count": null,
   "metadata": {},
   "outputs": [],
   "source": [
    "a = [\n",
    "  { 'id': 12, 'score': 100 },\n",
    "  { 'id': 13, 'score': 80 },\n",
    "]\n",
    "b = [\n",
    "  { 'id': 12, 'score': 80 },\n",
    "  { 'id': 13, 'score': 82 },\n",
    "]"
   ]
  },
  {
   "cell_type": "code",
   "execution_count": null,
   "metadata": {},
   "outputs": [],
   "source": []
  },
  {
   "cell_type": "code",
   "execution_count": null,
   "metadata": {},
   "outputs": [],
   "source": [
    "import pandas as pd"
   ]
  },
  {
   "cell_type": "code",
   "execution_count": null,
   "metadata": {},
   "outputs": [],
   "source": [
    "df = pd.DataFrame({'A':[1,2,3,4,5,6,7,8,9],'B':[11,22,33,44,55,66,77,88,99]})"
   ]
  },
  {
   "cell_type": "code",
   "execution_count": null,
   "metadata": {},
   "outputs": [],
   "source": []
  },
  {
   "cell_type": "code",
   "execution_count": null,
   "metadata": {},
   "outputs": [],
   "source": []
  },
  {
   "cell_type": "code",
   "execution_count": null,
   "metadata": {},
   "outputs": [],
   "source": []
  },
  {
   "cell_type": "code",
   "execution_count": null,
   "metadata": {},
   "outputs": [],
   "source": []
  },
  {
   "cell_type": "code",
   "execution_count": null,
   "metadata": {},
   "outputs": [],
   "source": []
  },
  {
   "cell_type": "code",
   "execution_count": null,
   "metadata": {},
   "outputs": [],
   "source": []
  },
  {
   "cell_type": "code",
   "execution_count": null,
   "metadata": {},
   "outputs": [],
   "source": [
    "[window.to_list() for window in df.B.rolling(window=3)]"
   ]
  },
  {
   "cell_type": "code",
   "execution_count": null,
   "metadata": {},
   "outputs": [],
   "source": [
    "df['B'].rolling(3).apply(lambda x:list(x)[1])"
   ]
  },
  {
   "cell_type": "code",
   "execution_count": null,
   "metadata": {},
   "outputs": [],
   "source": []
  },
  {
   "cell_type": "code",
   "execution_count": null,
   "metadata": {},
   "outputs": [],
   "source": []
  },
  {
   "cell_type": "code",
   "execution_count": null,
   "metadata": {},
   "outputs": [],
   "source": [
    "import numpy as np\n",
    "\n",
    "data = np.array([1000, 2500, 1400, 1800, 900, 4200, 2200, 1900, 3500])\n",
    "\n",
    "new_data = input()\n",
    "data = np.append(data, new_data)\n",
    "data = np.sort(data)\n",
    "print(data)"
   ]
  },
  {
   "cell_type": "code",
   "execution_count": null,
   "metadata": {},
   "outputs": [],
   "source": [
    "type(data[3]), numpy.str_"
   ]
  },
  {
   "cell_type": "code",
   "execution_count": null,
   "metadata": {},
   "outputs": [],
   "source": [
    "type(data[3])"
   ]
  },
  {
   "cell_type": "code",
   "execution_count": null,
   "metadata": {},
   "outputs": [],
   "source": []
  },
  {
   "cell_type": "code",
   "execution_count": null,
   "metadata": {},
   "outputs": [],
   "source": []
  },
  {
   "cell_type": "code",
   "execution_count": null,
   "metadata": {},
   "outputs": [],
   "source": []
  },
  {
   "cell_type": "code",
   "execution_count": null,
   "metadata": {},
   "outputs": [],
   "source": [
    "class Menu:\n",
    "\n",
    "    def __init__(self,counter=0):\n",
    "        self.counter = counter\n",
    "        a_set = set()\n",
    "        self.a_set = a_set\n",
    "        \n",
    "\n",
    "    def __str__(self):\n",
    "        for element in self.a_set:\n",
    "            if element:\n",
    "                self.counter += 1\n",
    "                print(f\"{self.counter}. {element}\")\n",
    "        \n",
    "\n",
    "    def add(self,element=\"\", ):\n",
    "        self.element = element\n",
    "        self.a_set.add(element)\n",
    "        return self.a_set\n",
    "\n",
    "    def main_menu(self,):\n",
    "        return\n",
    "\n",
    "main_menu = Menu()\n",
    "main_menu.add(\"Open new account\")\n",
    "main_menu.add(\"Log into existing account\")\n",
    "main_menu.add(\"Help\")\n",
    "main_menu.add(\"Quit\")\n",
    "print(main_menu.__str__())"
   ]
  },
  {
   "cell_type": "code",
   "execution_count": null,
   "metadata": {},
   "outputs": [],
   "source": []
  },
  {
   "cell_type": "code",
   "execution_count": null,
   "metadata": {},
   "outputs": [],
   "source": [
    "comparison_list = ['Amlodipine', 'Tylenol', 'Advil']"
   ]
  },
  {
   "cell_type": "code",
   "execution_count": null,
   "metadata": {},
   "outputs": [],
   "source": [
    "test_text = [\"Amlodipine    [ Amlodpine     | 10 mg | Tablet | OD |  For 60 Days  ], Cetirizine    [ Cetirizine     | 10 mg | Tablet | OD |  For 5 Days  ]\"]*4\n",
    "df = pd.DataFrame(test_text, columns=['Prescription'])\n"
   ]
  },
  {
   "cell_type": "code",
   "execution_count": null,
   "metadata": {},
   "outputs": [],
   "source": [
    "df['Prescription'].str.split(']')"
   ]
  },
  {
   "cell_type": "code",
   "execution_count": null,
   "metadata": {},
   "outputs": [],
   "source": []
  },
  {
   "cell_type": "code",
   "execution_count": null,
   "metadata": {},
   "outputs": [],
   "source": [
    "unique_drugs = table2['Name'].str.replace('[\\(\\[].*?[\\)\\]]','',regex=True)\\\n",
    "                             .str.split(',')\\\n",
    "                             .explode()\\\n",
    "                             .str.strip()\\\n",
    "                             .unique()\n",
    "\n",
    "\n",
    "\n",
    "table2['Prescription'].str.contains('|'.join(unique_drugs))\n",
    "\n",
    "\n",
    "0    True\n",
    "1    True\n",
    "2    True\n",
    "3    True\n",
    "Name: Prescription, dtype: bool\n"
   ]
  },
  {
   "cell_type": "code",
   "execution_count": null,
   "metadata": {},
   "outputs": [],
   "source": [
    "drugs"
   ]
  },
  {
   "cell_type": "code",
   "execution_count": null,
   "metadata": {},
   "outputs": [],
   "source": [
    "table2['Prescription'].str.contains('|'.join(unique_drugs))\n",
    "\n",
    "\n",
    "0    True\n",
    "1    True\n",
    "2    True\n",
    "3    True\n",
    "Name: Prescription, dtype: bool\n"
   ]
  },
  {
   "cell_type": "code",
   "execution_count": null,
   "metadata": {},
   "outputs": [],
   "source": []
  },
  {
   "cell_type": "code",
   "execution_count": null,
   "metadata": {},
   "outputs": [],
   "source": []
  },
  {
   "cell_type": "code",
   "execution_count": null,
   "metadata": {},
   "outputs": [],
   "source": []
  },
  {
   "cell_type": "code",
   "execution_count": null,
   "metadata": {},
   "outputs": [],
   "source": []
  },
  {
   "cell_type": "code",
   "execution_count": null,
   "metadata": {},
   "outputs": [],
   "source": [
    "import re aaa\n",
    "x = \"This is a sentence. (once a day) [twice a day]\"\n",
    "re.sub(\"[\\(\\[].*?[\\)\\]]\", \"\", x)"
   ]
  },
  {
   "cell_type": "code",
   "execution_count": null,
   "metadata": {},
   "outputs": [],
   "source": []
  },
  {
   "cell_type": "code",
   "execution_count": null,
   "metadata": {},
   "outputs": [],
   "source": []
  },
  {
   "cell_type": "code",
   "execution_count": null,
   "metadata": {},
   "outputs": [],
   "source": []
  },
  {
   "cell_type": "code",
   "execution_count": null,
   "metadata": {},
   "outputs": [],
   "source": [
    "test_text.find(r'|'.join(comparison_list))"
   ]
  },
  {
   "cell_type": "code",
   "execution_count": null,
   "metadata": {},
   "outputs": [],
   "source": [
    "df['Prescription'].str.contains('|'.join(comparison_list))"
   ]
  },
  {
   "cell_type": "code",
   "execution_count": null,
   "metadata": {},
   "outputs": [],
   "source": []
  },
  {
   "cell_type": "code",
   "execution_count": null,
   "metadata": {},
   "outputs": [],
   "source": []
  },
  {
   "cell_type": "code",
   "execution_count": null,
   "metadata": {},
   "outputs": [],
   "source": [
    "import numpy as np \n",
    "\n",
    "m = int(input('Number of lines m: '))\n",
    "\n",
    "matrix = []\n",
    "for i in range(m):\n",
    "   # taking row input from the user\n",
    "   row = list(map(int, input(f'Line {i} ').split()))\n",
    "   # appending the 'row' to the 'matrix'\n",
    "   matrix.append(row)\n",
    "    \n",
    "print(matrix)"
   ]
  },
  {
   "cell_type": "code",
   "execution_count": null,
   "metadata": {},
   "outputs": [],
   "source": [
    "np.array(matrix)"
   ]
  },
  {
   "cell_type": "code",
   "execution_count": null,
   "metadata": {},
   "outputs": [],
   "source": []
  },
  {
   "cell_type": "code",
   "execution_count": null,
   "metadata": {},
   "outputs": [],
   "source": []
  },
  {
   "cell_type": "code",
   "execution_count": null,
   "metadata": {},
   "outputs": [],
   "source": []
  },
  {
   "cell_type": "code",
   "execution_count": null,
   "metadata": {},
   "outputs": [],
   "source": []
  },
  {
   "cell_type": "code",
   "execution_count": null,
   "metadata": {},
   "outputs": [],
   "source": [
    "Date\tPrescribed\n",
    "16-05-2017\tAmlodipine [ Amlodipine | 10 mg | Tablet | OD | For 60 Days ], Cetirizine [ Cetirizine | 10 mg | Tablet | OD | For 5 Days ]\n",
    "15-05-2017\tCEFUROXIME[ ZINNAT | 500MG | Tablet | BID | For 7 Days ]\n",
    "17-05-2017\tCetirizine [Cetirizine | 5 mg/5 mL | Syrup | BID | For 5 Days]"
   ]
  },
  {
   "cell_type": "code",
   "execution_count": null,
   "metadata": {},
   "outputs": [],
   "source": [
    "table1 = pd.read_clipboard()"
   ]
  },
  {
   "cell_type": "code",
   "execution_count": null,
   "metadata": {},
   "outputs": [],
   "source": [
    "table1"
   ]
  },
  {
   "cell_type": "code",
   "execution_count": null,
   "metadata": {},
   "outputs": [],
   "source": [
    "Name\tCategory\n",
    "Lisinopril (Lisinopril | 10 mg | Tablet)\tCARDIOVASCULAR AGENT\n",
    "Amlodipine (Amlodipine | 10 mg | Tablet)\tCARDIOVASCULAR AGENT\n",
    "Enoxaparin Sodium (80mg)(clexane 8000 iu | 80mg | 0)\tCARDIOVASCULAR AGENT"
   ]
  },
  {
   "cell_type": "code",
   "execution_count": null,
   "metadata": {},
   "outputs": [],
   "source": [
    "table2 = pd.read_clipboard()\n",
    "table2"
   ]
  },
  {
   "cell_type": "code",
   "execution_count": null,
   "metadata": {},
   "outputs": [],
   "source": [
    "unique_drugs = table2['Name'].str.replace('[\\(\\[].*?[\\)\\]]','',regex=True)\\\n",
    "                             .str.split(',')\\\n",
    "                             .explode()\\\n",
    "                             .str.strip()\\\n",
    "                             .unique()\n",
    "\n",
    "unique_drugs\n",
    "\n",
    "#array(['Lisinopril', 'Amlodipine', 'Enoxaparin Sodium'], dtype=object)\n",
    "\n",
    "table1['flag'] = table1['Prescribed'].str.contains('|'.join(unique_drugs))\n",
    "print(table1)\n",
    "\n",
    "         Date                                         Prescribed   flag\n",
    "0  16-05-2017  Amlodipine [ Amlodipine | 10 mg | Tablet | OD ...   True\n",
    "1  15-05-2017  CEFUROXIME[ ZINNAT | 500MG | Tablet | BID | Fo...  False\n",
    "2  17-05-2017  Cetirizine [Cetirizine | 5 mg/5 mL | Syrup | B...  False"
   ]
  },
  {
   "cell_type": "code",
   "execution_count": null,
   "metadata": {},
   "outputs": [],
   "source": []
  },
  {
   "cell_type": "code",
   "execution_count": null,
   "metadata": {},
   "outputs": [],
   "source": []
  },
  {
   "cell_type": "code",
   "execution_count": null,
   "metadata": {},
   "outputs": [],
   "source": []
  },
  {
   "cell_type": "code",
   "execution_count": null,
   "metadata": {},
   "outputs": [],
   "source": [
    "arr = [[0,1,0,0,1],\n",
    "        [0,1,0,1,1],\n",
    "        [0,1,1,1,1],\n",
    "        [0,0,0,0,1]]"
   ]
  },
  {
   "cell_type": "code",
   "execution_count": null,
   "metadata": {},
   "outputs": [],
   "source": [
    "arr = np.array(arr)"
   ]
  },
  {
   "cell_type": "code",
   "execution_count": null,
   "metadata": {},
   "outputs": [],
   "source": [
    "cols = arr[:,[1,4]]"
   ]
  },
  {
   "cell_type": "code",
   "execution_count": null,
   "metadata": {},
   "outputs": [],
   "source": [
    "cols"
   ]
  },
  {
   "cell_type": "code",
   "execution_count": null,
   "metadata": {},
   "outputs": [],
   "source": [
    "idxs = [1,4]\n",
    "cols = arr[:,idxs]"
   ]
  },
  {
   "cell_type": "code",
   "execution_count": null,
   "metadata": {},
   "outputs": [],
   "source": [
    "cols"
   ]
  },
  {
   "cell_type": "code",
   "execution_count": null,
   "metadata": {},
   "outputs": [],
   "source": []
  },
  {
   "cell_type": "code",
   "execution_count": null,
   "metadata": {},
   "outputs": [],
   "source": []
  },
  {
   "cell_type": "code",
   "execution_count": null,
   "metadata": {},
   "outputs": [],
   "source": [
    "import pandas as pd\n",
    "import numpy as np\n",
    "\n",
    "##Creating dummy data\n",
    "\n",
    "def dummy_data():\n",
    "    N = np.random.randint(10,30)\n",
    "    df = pd.DataFrame({'time_sec':list(range(N)),'heart_rate':np.random.randint(70,150,N)})\n",
    "    return df\n",
    "\n",
    "dfs = [dummy_data() for i in range(20)] #20 heart_rate datasets\n",
    "\n",
    "#Assuming dfs is the list of pandas dataframes\n",
    "\n",
    "combined = pd.concat([i.set_index('time_sec') for i in dfs], axis=1) #Set index as time and combine them\n",
    "combined.columns = ['run_'+str(i) for i in range(combined.shape[1])] #rename the columns\n",
    "combined.boxplot(figsize=(15,5))                                     #Plot"
   ]
  },
  {
   "cell_type": "code",
   "execution_count": null,
   "metadata": {},
   "outputs": [],
   "source": []
  },
  {
   "cell_type": "code",
   "execution_count": null,
   "metadata": {},
   "outputs": [],
   "source": []
  },
  {
   "cell_type": "code",
   "execution_count": null,
   "metadata": {},
   "outputs": [],
   "source": []
  },
  {
   "cell_type": "code",
   "execution_count": null,
   "metadata": {},
   "outputs": [],
   "source": []
  },
  {
   "cell_type": "code",
   "execution_count": null,
   "metadata": {},
   "outputs": [],
   "source": []
  },
  {
   "cell_type": "code",
   "execution_count": null,
   "metadata": {},
   "outputs": [],
   "source": []
  },
  {
   "cell_type": "code",
   "execution_count": 1,
   "metadata": {},
   "outputs": [],
   "source": [
    "gamma = [0.1, 0.5, 1.2, 1.8, 2.2]"
   ]
  },
  {
   "cell_type": "code",
   "execution_count": null,
   "metadata": {},
   "outputs": [],
   "source": []
  },
  {
   "cell_type": "code",
   "execution_count": 8,
   "metadata": {},
   "outputs": [],
   "source": []
  },
  {
   "cell_type": "code",
   "execution_count": 6,
   "metadata": {},
   "outputs": [],
   "source": []
  },
  {
   "cell_type": "code",
   "execution_count": 25,
   "metadata": {},
   "outputs": [
    {
     "ename": "IndexError",
     "evalue": "index 3 is out of bounds for axis 1 with size 2",
     "output_type": "error",
     "traceback": [
      "\u001b[0;31m---------------------------------------------------------------------------\u001b[0m",
      "\u001b[0;31mIndexError\u001b[0m                                Traceback (most recent call last)",
      "\u001b[0;32m<ipython-input-25-4713a1caba6b>\u001b[0m in \u001b[0;36m<module>\u001b[0;34m\u001b[0m\n\u001b[0;32m----> 1\u001b[0;31m \u001b[0maxes\u001b[0m\u001b[0;34m[\u001b[0m\u001b[0;36m2\u001b[0m\u001b[0;34m,\u001b[0m\u001b[0;36m3\u001b[0m\u001b[0;34m]\u001b[0m\u001b[0;34m\u001b[0m\u001b[0;34m\u001b[0m\u001b[0m\n\u001b[0m",
      "\u001b[0;31mIndexError\u001b[0m: index 3 is out of bounds for axis 1 with size 2"
     ]
    }
   ],
   "source": []
  },
  {
   "cell_type": "code",
   "execution_count": 3,
   "metadata": {},
   "outputs": [
    {
     "ename": "NameError",
     "evalue": "name 'cv2' is not defined",
     "output_type": "error",
     "traceback": [
      "\u001b[0;31m---------------------------------------------------------------------------\u001b[0m",
      "\u001b[0;31mNameError\u001b[0m                                 Traceback (most recent call last)",
      "\u001b[0;32m<ipython-input-3-4e5e57d3e163>\u001b[0m in \u001b[0;36m<module>\u001b[0;34m\u001b[0m\n\u001b[0;32m----> 1\u001b[0;31m \u001b[0mimg\u001b[0m \u001b[0;34m=\u001b[0m \u001b[0mcv2\u001b[0m\u001b[0;34m.\u001b[0m\u001b[0mimread\u001b[0m\u001b[0;34m(\u001b[0m\u001b[0;34m'cat1.png'\u001b[0m\u001b[0;34m)\u001b[0m\u001b[0;34m\u001b[0m\u001b[0;34m\u001b[0m\u001b[0m\n\u001b[0m\u001b[1;32m      2\u001b[0m \u001b[0mimg\u001b[0m\u001b[0;34m\u001b[0m\u001b[0;34m\u001b[0m\u001b[0m\n",
      "\u001b[0;31mNameError\u001b[0m: name 'cv2' is not defined"
     ]
    }
   ],
   "source": [
    "img = cv2.imread('cat1.png')\n",
    "img"
   ]
  },
  {
   "cell_type": "code",
   "execution_count": 27,
   "metadata": {},
   "outputs": [
    {
     "data": {
      "image/png": "[encoded data removed]",
      "text/plain": [
       "<Figure size 720x720 with 5 Axes>"
      ]
     },
     "metadata": {
      "needs_background": "light"
     },
     "output_type": "display_data"
    }
   ],
   "source": [
    "import matplotlib.pyplot as plt\n",
    "import numpy as np\n",
    "\n",
    "gamma = [0.1, 0.5, 1.2, 1.8, 2.2]\n",
    "\n",
    "cub = plt.imread('cat1.png')\n",
    "\n",
    "fig, axes = plt.subplots(3,2, figsize=(10,10))\n",
    "\n",
    "for g,ax in zip(gamma,axes.ravel()):\n",
    "    cub5 = np.array(255*(cub/255)**g,dtype='uint8')\n",
    "    ax.imshow(cub5)\n",
    "    ax.set_title('gamma:'+str(g))\n",
    "    \n",
    "fig.delaxes(axes[2,1]) #delete unused axes"
   ]
  },
  {
   "cell_type": "code",
   "execution_count": 11,
   "metadata": {},
   "outputs": [
    {
     "data": {
      "image/png": "[encoded data removed]",
      "text/plain": [
       "<Figure size 432x288 with 1 Axes>"
      ]
     },
     "metadata": {
      "needs_background": "light"
     },
     "output_type": "display_data"
    },
    {
     "data": {
      "image/png": "[encoded data removed]",
      "text/plain": [
       "<Figure size 432x288 with 1 Axes>"
      ]
     },
     "metadata": {
      "needs_background": "light"
     },
     "output_type": "display_data"
    },
    {
     "data": {
      "image/png": "[encoded data removed]",
      "text/plain": [
       "<Figure size 432x288 with 1 Axes>"
      ]
     },
     "metadata": {
      "needs_background": "light"
     },
     "output_type": "display_data"
    },
    {
     "data": {
      "image/png": "[encoded data removed]",
      "text/plain": [
       "<Figure size 432x288 with 1 Axes>"
      ]
     },
     "metadata": {
      "needs_background": "light"
     },
     "output_type": "display_data"
    },
    {
     "data": {
      "image/png": "[encoded data removed]",
      "text/plain": [
       "<Figure size 432x288 with 1 Axes>"
      ]
     },
     "metadata": {
      "needs_background": "light"
     },
     "output_type": "display_data"
    }
   ],
   "source": []
  },
  {
   "cell_type": "code",
   "execution_count": null,
   "metadata": {},
   "outputs": [],
   "source": []
  }
 ],
 "metadata": {
  "kernelspec": {
   "display_name": "Python 3",
   "language": "python",
   "name": "python3"
  },
  "language_info": {
   "codemirror_mode": {
    "name": "ipython",
    "version": 3
   },
   "file_extension": ".py",
   "mimetype": "text/x-python",
   "name": "python",
   "nbconvert_exporter": "python",
   "pygments_lexer": "ipython3",
   "version": "3.8.3"
  }
 },
 "nbformat": 4,
 "nbformat_minor": 4
}
