{
 "cells": [
  {
   "cell_type": "code",
   "execution_count": null,
   "metadata": {},
   "outputs": [],
   "source": [
    "import pandas as pd\n",
    "import numpy as np"
   ]
  },
  {
   "cell_type": "code",
   "execution_count": null,
   "metadata": {},
   "outputs": [],
   "source": [
    "df1 = pd.read_clipboard('|')"
   ]
  },
  {
   "cell_type": "code",
   "execution_count": null,
   "metadata": {},
   "outputs": [],
   "source": [
    "df2 = pd.read_clipboard('|')"
   ]
  },
  {
   "cell_type": "code",
   "execution_count": null,
   "metadata": {},
   "outputs": [],
   "source": [
    "df1"
   ]
  },
  {
   "cell_type": "code",
   "execution_count": null,
   "metadata": {},
   "outputs": [],
   "source": [
    "df2"
   ]
  },
  {
   "cell_type": "code",
   "execution_count": null,
   "metadata": {},
   "outputs": [],
   "source": [
    "df2.to_dict('list')"
   ]
  },
  {
   "cell_type": "code",
   "execution_count": null,
   "metadata": {},
   "outputs": [],
   "source": [
    "df1.merge(df2).drop_duplicates().shape == df1.drop_duplicates().shape"
   ]
  },
  {
   "cell_type": "code",
   "execution_count": null,
   "metadata": {},
   "outputs": [],
   "source": []
  },
  {
   "cell_type": "code",
   "execution_count": null,
   "metadata": {},
   "outputs": [],
   "source": []
  },
  {
   "cell_type": "code",
   "execution_count": null,
   "metadata": {},
   "outputs": [],
   "source": [
    "df1 = pd.DataFrame({'A ': [1], ' B ': [2], ' C': [3]})\n",
    "df2 = pd.DataFrame({'A ': [2, 3, 1, 5], ' B ': [5, 2, 2, 1], ' C': [5, 7, 3, 5]})\n",
    "\n",
    "(df1.merge(df2) == df1).all().all()"
   ]
  },
  {
   "cell_type": "code",
   "execution_count": null,
   "metadata": {},
   "outputs": [],
   "source": []
  },
  {
   "cell_type": "code",
   "execution_count": null,
   "metadata": {},
   "outputs": [],
   "source": []
  },
  {
   "cell_type": "code",
   "execution_count": null,
   "metadata": {},
   "outputs": [],
   "source": [
    "d = {'a': [0,1,0,1,1,1], 'b': [1,1,1,1,1,1], 'c': [0,0,0,0,0,1], 'd': [1,0,1,1,1,0]}\n",
    "dct = {'a':'top','b':'bot','c':'top','d':'bot'}\n",
    "df = pd.DataFrame(d)\n",
    "df"
   ]
  },
  {
   "cell_type": "code",
   "execution_count": null,
   "metadata": {},
   "outputs": [],
   "source": [
    "df.join(df.groupby(df.columns.map(dct), 1).sum())"
   ]
  },
  {
   "cell_type": "code",
   "execution_count": null,
   "metadata": {},
   "outputs": [],
   "source": []
  },
  {
   "cell_type": "code",
   "execution_count": null,
   "metadata": {},
   "outputs": [],
   "source": []
  },
  {
   "cell_type": "code",
   "execution_count": null,
   "metadata": {},
   "outputs": [],
   "source": [
    "n = 3\n",
    "arr = np.array([10**i for i in range(n)]) #array([  1,  10, 100])\n",
    "p[:genome.size]*genome*arr[:,None] + p[:genome.size]*~genome"
   ]
  },
  {
   "cell_type": "code",
   "execution_count": null,
   "metadata": {},
   "outputs": [],
   "source": [
    "p[:genome.size]*genome*arr[:,None]"
   ]
  },
  {
   "cell_type": "code",
   "execution_count": null,
   "metadata": {},
   "outputs": [],
   "source": [
    "p[:genome.size]*~genome"
   ]
  },
  {
   "cell_type": "code",
   "execution_count": null,
   "metadata": {},
   "outputs": [],
   "source": []
  },
  {
   "cell_type": "code",
   "execution_count": null,
   "metadata": {},
   "outputs": [],
   "source": [
    "n = (p.size//genome.size)+1\n",
    "np.repeat(genome)"
   ]
  },
  {
   "cell_type": "code",
   "execution_count": null,
   "metadata": {},
   "outputs": [],
   "source": []
  },
  {
   "cell_type": "code",
   "execution_count": null,
   "metadata": {},
   "outputs": [],
   "source": [
    "genome"
   ]
  },
  {
   "cell_type": "code",
   "execution_count": null,
   "metadata": {},
   "outputs": [],
   "source": []
  },
  {
   "cell_type": "code",
   "execution_count": null,
   "metadata": {},
   "outputs": [],
   "source": [
    "np.where(np.repeat(genome,3), p, 0)"
   ]
  },
  {
   "cell_type": "code",
   "execution_count": null,
   "metadata": {},
   "outputs": [],
   "source": [
    "np.where(np.repeat(genome,3), p, 0)"
   ]
  },
  {
   "cell_type": "code",
   "execution_count": null,
   "metadata": {},
   "outputs": [],
   "source": []
  },
  {
   "cell_type": "code",
   "execution_count": null,
   "metadata": {},
   "outputs": [],
   "source": [
    "np.tile(genome,3)[original]=p"
   ]
  },
  {
   "cell_type": "code",
   "execution_count": null,
   "metadata": {},
   "outputs": [],
   "source": [
    "p[:genome.size][genome]"
   ]
  },
  {
   "cell_type": "code",
   "execution_count": null,
   "metadata": {},
   "outputs": [],
   "source": [
    "idx = np.pad(genome, (0,p.size-genome.size), constant_values=True)\n",
    "output = np.tile(genome,3).astype(float)\n",
    "positions = np.argwhere(np.tile(genome,3))\n",
    "output[positions] = p[idx,None]\n",
    "output.reshape(-1,genome.size)"
   ]
  },
  {
   "cell_type": "code",
   "execution_count": null,
   "metadata": {},
   "outputs": [],
   "source": [
    "positions = np.repeat(genome[None,:], 3, 0)\n",
    "np.where(positions, a, 0)"
   ]
  },
  {
   "cell_type": "code",
   "execution_count": null,
   "metadata": {},
   "outputs": [],
   "source": []
  },
  {
   "cell_type": "code",
   "execution_count": null,
   "metadata": {},
   "outputs": [],
   "source": []
  },
  {
   "cell_type": "code",
   "execution_count": null,
   "metadata": {},
   "outputs": [],
   "source": []
  },
  {
   "cell_type": "code",
   "execution_count": null,
   "metadata": {},
   "outputs": [],
   "source": [
    "out"
   ]
  },
  {
   "cell_type": "code",
   "execution_count": null,
   "metadata": {},
   "outputs": [],
   "source": []
  },
  {
   "cell_type": "code",
   "execution_count": null,
   "metadata": {},
   "outputs": [],
   "source": []
  },
  {
   "cell_type": "code",
   "execution_count": null,
   "metadata": {},
   "outputs": [],
   "source": []
  },
  {
   "cell_type": "code",
   "execution_count": null,
   "metadata": {},
   "outputs": [],
   "source": []
  },
  {
   "cell_type": "code",
   "execution_count": null,
   "metadata": {},
   "outputs": [],
   "source": [
    "np.tile(genome,3)"
   ]
  },
  {
   "cell_type": "code",
   "execution_count": null,
   "metadata": {},
   "outputs": [],
   "source": []
  },
  {
   "cell_type": "code",
   "execution_count": null,
   "metadata": {},
   "outputs": [],
   "source": []
  },
  {
   "cell_type": "code",
   "execution_count": null,
   "metadata": {},
   "outputs": [],
   "source": []
  },
  {
   "cell_type": "code",
   "execution_count": null,
   "metadata": {},
   "outputs": [],
   "source": []
  },
  {
   "cell_type": "code",
   "execution_count": null,
   "metadata": {},
   "outputs": [],
   "source": []
  },
  {
   "cell_type": "code",
   "execution_count": null,
   "metadata": {},
   "outputs": [],
   "source": [
    "# original array -- for references only\n",
    "arr = np.arange(12).reshape(-1,6)\n",
    "\n",
    "# keep indexes\n",
    "keep = np.array([False,  True,  True,  False,  True,  True])\n",
    "\n",
    "# array after removing the columns\n",
    "removed_arr = arr[:,keep]\n",
    "\n",
    "# output array\n",
    "out = np.zeros((removed_arr.shape[0], len(keep)), dtype=removed_arr.dtype)\n",
    "\n",
    "# copy the values of `removed_arr` to output\n",
    "out[:, keep] = removed_arr"
   ]
  },
  {
   "cell_type": "code",
   "execution_count": null,
   "metadata": {},
   "outputs": [],
   "source": [
    "keep"
   ]
  },
  {
   "cell_type": "code",
   "execution_count": null,
   "metadata": {},
   "outputs": [],
   "source": []
  },
  {
   "cell_type": "code",
   "execution_count": null,
   "metadata": {},
   "outputs": [],
   "source": []
  },
  {
   "cell_type": "code",
   "execution_count": null,
   "metadata": {},
   "outputs": [],
   "source": []
  },
  {
   "cell_type": "code",
   "execution_count": null,
   "metadata": {},
   "outputs": [],
   "source": [
    "from treelib import Node, Tree"
   ]
  },
  {
   "cell_type": "code",
   "execution_count": null,
   "metadata": {},
   "outputs": [],
   "source": []
  },
  {
   "cell_type": "code",
   "execution_count": null,
   "metadata": {},
   "outputs": [],
   "source": []
  },
  {
   "cell_type": "code",
   "execution_count": null,
   "metadata": {},
   "outputs": [],
   "source": []
  },
  {
   "cell_type": "code",
   "execution_count": null,
   "metadata": {},
   "outputs": [],
   "source": []
  },
  {
   "cell_type": "code",
   "execution_count": null,
   "metadata": {},
   "outputs": [],
   "source": [
    "from sklearn.datasets import load_iris\n",
    "from sklearn import tree\n",
    "import matplotlib.pyplot as plt\n",
    "\n",
    "#load data\n",
    "iris = load_iris()\n",
    "\n",
    "#model training\n",
    "clf = tree.DecisionTreeClassifier(random_state=0)\n",
    "clf.fit(iris.data, iris.target)\n",
    "\n",
    "#plotting\n",
    "fig = plt.figure(figsize=(10,10))\n",
    "tree.plot_tree(clf, filled=True, impurity=False, proportion=True)\n",
    "plt.show()"
   ]
  },
  {
   "cell_type": "code",
   "execution_count": null,
   "metadata": {},
   "outputs": [],
   "source": []
  },
  {
   "cell_type": "code",
   "execution_count": null,
   "metadata": {},
   "outputs": [],
   "source": [
    "df = pd.DataFrame({'First Name':['Freddie', 'John', 'David', '', 'Joseph', ''], \n",
    "                   'Last Name':['Mercury', 'Lennon', 'Bowie','', '', 'Jovi']})\n",
    "\n",
    "df['fullname'] = df['First Name']+' '+df['Last Name']\n",
    "df['fullname'] = ['Freddie Mercury', 'John Lennon', 'David Bowie','John Doe', 'Joseph', 'Jovi']\n",
    "df"
   ]
  },
  {
   "cell_type": "code",
   "execution_count": null,
   "metadata": {},
   "outputs": [],
   "source": [
    "print(df.to_dict('list'))"
   ]
  },
  {
   "cell_type": "code",
   "execution_count": null,
   "metadata": {},
   "outputs": [],
   "source": [
    "d = {'First Name': ['Freddie', 'John', 'David', '', 'Joseph', ''], \n",
    "     'Last Name': ['Mercury', 'Lennon', 'Bowie', '', '', 'Jovi'], \n",
    "     'fullname': ['Freddie Mercury', 'John Lennon', 'David Bowie', 'John Doe', 'Joseph', 'Jovi']}\n",
    "\n",
    "df = pd.DataFrame(d)"
   ]
  },
  {
   "cell_type": "code",
   "execution_count": null,
   "metadata": {},
   "outputs": [],
   "source": []
  },
  {
   "cell_type": "code",
   "execution_count": null,
   "metadata": {},
   "outputs": [],
   "source": [
    "import ast"
   ]
  },
  {
   "cell_type": "code",
   "execution_count": null,
   "metadata": {},
   "outputs": [],
   "source": [
    "strng = \"0.000000000000000E+000, 2*2.400000000000000E-002  , 97*0.000000000000000E+000  ,\""
   ]
  },
  {
   "cell_type": "code",
   "execution_count": null,
   "metadata": {},
   "outputs": [],
   "source": [
    "out = [eval(i.strip().replace('*','*[')+']' if '*' in i else '['+i.strip()+']') for i in strng.split(',') if len(i)>0]\n",
    "                  \n",
    "                  \n",
    "print(out)               "
   ]
  },
  {
   "cell_type": "code",
   "execution_count": null,
   "metadata": {},
   "outputs": [],
   "source": [
    "a = strng.split(',')\n",
    "lst=[]\n",
    "for item in a:\n",
    "    print(\"intem=\", item)\n",
    "    i= item.split(\"*\")\n",
    "    if len(i) >1:\n",
    "        print(int(i[0])*i[1])\n",
    "        lst.append(int(i[0])*i[1])\n",
    "    else:\n",
    "        lst.append(i[0])\n",
    "print(\"================\")\n",
    "print(lst)"
   ]
  },
  {
   "cell_type": "code",
   "execution_count": null,
   "metadata": {},
   "outputs": [],
   "source": []
  },
  {
   "cell_type": "code",
   "execution_count": null,
   "metadata": {},
   "outputs": [],
   "source": [
    "df_data_4 = np.random.random((65000,3))\n",
    "\n",
    "v_data = df_data_4[:(1083*60),:].reshape((1083,60,-1))\n",
    "v_data.shape\n",
    "\n",
    "(1083, 60, 3)"
   ]
  },
  {
   "cell_type": "code",
   "execution_count": null,
   "metadata": {},
   "outputs": [],
   "source": [
    "import numpy as np\n",
    "\n",
    "df_data_4 = np.random.random((65000,3)) #<-- just replace this with your actual df_data_4\n",
    "\n",
    "v_data = df_data_4[:(1083*60),:].reshape((1083,60,-1))\n",
    "v_data.shape"
   ]
  },
  {
   "cell_type": "code",
   "execution_count": null,
   "metadata": {},
   "outputs": [],
   "source": [
    "# d looks like - \n",
    "# defaultdict(list,\n",
    "#             {'a': [0],\n",
    "#              'b': [0, 1, 2],\n",
    "#              'c': [1],\n",
    "#              'd': [2],\n",
    "#              'e': [2, 3],\n",
    "#              'g': [2],\n",
    "#              'f': [3]})"
   ]
  },
  {
   "cell_type": "code",
   "execution_count": null,
   "metadata": {},
   "outputs": [],
   "source": [
    "from collections import defaultdict\n",
    "\n",
    "\n",
    "lol = [[0,'a'], [0,'b'],\n",
    "       [1,'b'], [1,'c'],\n",
    "       [2,'d'], [2,'e'],\n",
    "       [2,'g'], [2,'b'],\n",
    "       [3,'e'], [3,'f']]\n",
    "\n",
    "\n",
    "d = defaultdict(list)\n",
    "\n",
    "for v,k in lol:\n",
    "    d[k].append(v)\n",
    "    \n",
    "[[v,k] for k,vs in d.items() for v in vs if len(vs)>1]\n",
    "\n",
    "[[0, 'b'], [1, 'b'], [2, 'b'], [2, 'e'], [3, 'e']]"
   ]
  },
  {
   "cell_type": "code",
   "execution_count": null,
   "metadata": {},
   "outputs": [],
   "source": []
  },
  {
   "cell_type": "code",
   "execution_count": null,
   "metadata": {},
   "outputs": [],
   "source": [
    "import pandas as pd\n",
    "df = pd.DataFrame(lol, columns=['val','key'])\n",
    "dups = df[df['key'].duplicated(keep=False)]\n",
    "result = list(dups.to_records(index=False))\n",
    "print(result)\n",
    "\n",
    "[(0, 'b'), (1, 'b'), (2, 'e'), (2, 'b'), (3, 'e')]"
   ]
  },
  {
   "cell_type": "code",
   "execution_count": null,
   "metadata": {},
   "outputs": [],
   "source": []
  },
  {
   "cell_type": "code",
   "execution_count": null,
   "metadata": {},
   "outputs": [],
   "source": [
    "import numpy as np\n",
    "\n",
    "lol = [[0,'a'], [0,'b'],\n",
    "       [1,'b'], [1,'c'],\n",
    "       [2,'d'], [2,'e'],\n",
    "       [2,'g'], [2,'b'],\n",
    "       [3,'e'], [3,'f']]\n",
    "\n",
    "arr = np.array(lol)\n",
    "arr"
   ]
  },
  {
   "cell_type": "code",
   "execution_count": null,
   "metadata": {},
   "outputs": [],
   "source": [
    "list(zip(uq[0][1:], splits))"
   ]
  },
  {
   "cell_type": "code",
   "execution_count": null,
   "metadata": {},
   "outputs": [],
   "source": [
    "uq = np.unique(arr[:, 1], return_index=True)\n",
    "splits = np.split(arr[:,0], uq[1][1:])\n",
    "\n",
    "[i for i in zip(uq[0])]"
   ]
  },
  {
   "cell_type": "code",
   "execution_count": null,
   "metadata": {},
   "outputs": [],
   "source": [
    "np.split(arr[:,0], np.unique(arr[:, 1], return_index=True)[1][1:])"
   ]
  },
  {
   "cell_type": "code",
   "execution_count": null,
   "metadata": {},
   "outputs": [],
   "source": [
    "import numpy as np\n",
    "\n",
    "u, c = np.unique(arr[:,1], return_counts=True)\n",
    "dup = u[c > 1]\n",
    "\n",
    "result = arr[(arr[:,1]==dup[:,None]).any(0)]\n",
    "result\n",
    "\n",
    "array([['0', 'b'],\n",
    "       ['1', 'b'],\n",
    "       ['2', 'e'],\n",
    "       ['2', 'b'],\n",
    "       ['3', 'e']], dtype='<U21')"
   ]
  },
  {
   "cell_type": "code",
   "execution_count": null,
   "metadata": {},
   "outputs": [],
   "source": [
    "dup"
   ]
  },
  {
   "cell_type": "code",
   "execution_count": null,
   "metadata": {},
   "outputs": [],
   "source": []
  },
  {
   "cell_type": "code",
   "execution_count": null,
   "metadata": {},
   "outputs": [],
   "source": [
    "lol"
   ]
  },
  {
   "cell_type": "code",
   "execution_count": null,
   "metadata": {},
   "outputs": [],
   "source": []
  },
  {
   "cell_type": "code",
   "execution_count": null,
   "metadata": {},
   "outputs": [],
   "source": []
  },
  {
   "cell_type": "code",
   "execution_count": null,
   "metadata": {},
   "outputs": [],
   "source": [
    "stack"
   ]
  },
  {
   "cell_type": "code",
   "execution_count": null,
   "metadata": {},
   "outputs": [],
   "source": [
    "stack = []\n",
    "stack.append(lol[0])\n",
    "\n",
    "for i in lol:\n",
    "    if stack[-1][1]!=i[1]:\n",
    "        stack.append(i)"
   ]
  },
  {
   "cell_type": "code",
   "execution_count": null,
   "metadata": {},
   "outputs": [],
   "source": [
    "stack"
   ]
  },
  {
   "cell_type": "code",
   "execution_count": null,
   "metadata": {},
   "outputs": [],
   "source": [
    "myDict = {\"word\" : [10],\n",
    "          \"other word\" : [16]}"
   ]
  },
  {
   "cell_type": "code",
   "execution_count": null,
   "metadata": {},
   "outputs": [],
   "source": [
    "output = {k:v[0] for k,v in myDict.items()}\n",
    "print(output)"
   ]
  },
  {
   "cell_type": "code",
   "execution_count": null,
   "metadata": {},
   "outputs": [],
   "source": [
    "for k,v in output.items():\n",
    "    print(k,v)\n",
    "    \n",
    "word 10\n",
    "other word 16"
   ]
  },
  {
   "cell_type": "code",
   "execution_count": null,
   "metadata": {},
   "outputs": [],
   "source": [
    "for k,v in myDict.items():\n",
    "    print(k,v[0])\n",
    "    \n",
    "word 10\n",
    "other word 16"
   ]
  },
  {
   "cell_type": "code",
   "execution_count": null,
   "metadata": {},
   "outputs": [],
   "source": [
    "df = pd.DataFrame({'39' : [1, np.nan, 3],\n",
    "                   '40' : [2, 4, 5],\n",
    "                   '41' : [3, 1, 4],\n",
    "                   '42' : [2, 5, 2],\n",
    "                   '43' : [1, 1, np.nan],\n",
    "                   'start' : [39, 40, 41],\n",
    "                   'end' : [41, 41, 43]})"
   ]
  },
  {
   "cell_type": "code",
   "execution_count": null,
   "metadata": {},
   "outputs": [],
   "source": [
    "df = df.set_index([\"start\", \"end\"]).stack()\n",
    "idx = df.index\n",
    "values = idx.get_level_values(2).astype(int)\n",
    "start = idx.get_level_values(0)\n",
    "end = idx.get_level_values(1)\n",
    "\n",
    "df.where((values >= start) & (values <= end)).unstack().reset_index()"
   ]
  },
  {
   "cell_type": "code",
   "execution_count": null,
   "metadata": {},
   "outputs": [],
   "source": [
    "df = df.set_index([\"start\", \"end\"]).stack()\n",
    "df"
   ]
  },
  {
   "cell_type": "code",
   "execution_count": null,
   "metadata": {},
   "outputs": [],
   "source": [
    "idx = df.index\n",
    "idx"
   ]
  },
  {
   "cell_type": "code",
   "execution_count": null,
   "metadata": {},
   "outputs": [],
   "source": [
    "values = idx.get_level_values(2).astype(int)\n",
    "values"
   ]
  },
  {
   "cell_type": "code",
   "execution_count": null,
   "metadata": {},
   "outputs": [],
   "source": [
    "start = idx.get_level_values(0)\n",
    "start"
   ]
  },
  {
   "cell_type": "code",
   "execution_count": null,
   "metadata": {},
   "outputs": [],
   "source": [
    "end = idx.get_level_values(1)\n"
   ]
  },
  {
   "cell_type": "code",
   "execution_count": null,
   "metadata": {},
   "outputs": [],
   "source": [
    "df.where((values>=start) & (values <= end)).unstack().reset_index()"
   ]
  },
  {
   "cell_type": "code",
   "execution_count": null,
   "metadata": {},
   "outputs": [],
   "source": []
  },
  {
   "cell_type": "code",
   "execution_count": null,
   "metadata": {},
   "outputs": [],
   "source": []
  },
  {
   "cell_type": "code",
   "execution_count": null,
   "metadata": {},
   "outputs": [],
   "source": [
    "df2 = pd.DataFrame({'51' : [1, np.nan, 3],\n",
    "                   '52' : [2, 4, 5],\n",
    "                   '1' : [3, 1, 4],\n",
    "                   '2' : [2, 5, 2],\n",
    "                   '3' : [1, 1, 3],\n",
    "                   'start' : [51, 52, 52],\n",
    "                   'end' : [1, 2, 1]})"
   ]
  },
  {
   "cell_type": "code",
   "execution_count": null,
   "metadata": {},
   "outputs": [],
   "source": [
    "hsh_inv"
   ]
  },
  {
   "cell_type": "code",
   "execution_count": null,
   "metadata": {},
   "outputs": [],
   "source": [
    "hsh = dict(enumerate(df2.columns))\n",
    "hsh_inv = {int(v):k for k,v in hsh.items()}\n",
    "df2 = df2.replace(hsh_inv)\n",
    "print(df2)\n",
    "df2.columns = df2.columns.to_series().map(hsh_inv)\n",
    "df2"
   ]
  },
  {
   "cell_type": "code",
   "execution_count": null,
   "metadata": {},
   "outputs": [],
   "source": [
    "df2 = df2.set_index([hsh_inv[\"start\"], hsh_inv[\"end\"]]).stack()\n",
    "idx = df2.index\n",
    "values = idx.get_level_values(2).astype(int)\n",
    "start = idx.get_level_values(0)\n",
    "end = idx.get_level_values(1)\n",
    "\n",
    "df2.where((values >= start) & (values <= end)).unstack().reset_index()"
   ]
  },
  {
   "cell_type": "code",
   "execution_count": null,
   "metadata": {},
   "outputs": [],
   "source": []
  },
  {
   "cell_type": "code",
   "execution_count": null,
   "metadata": {},
   "outputs": [],
   "source": []
  },
  {
   "cell_type": "code",
   "execution_count": null,
   "metadata": {},
   "outputs": [],
   "source": []
  },
  {
   "cell_type": "code",
   "execution_count": null,
   "metadata": {},
   "outputs": [],
   "source": [
    "n = int(input(\"Enter a number:\"))\n",
    "S = 0\n",
    "\n",
    "for j in range(1,n+1):\n",
    "    if j % 2 == 0:\n",
    "        S -= 1/j\n",
    "    else:\n",
    "        S += 1/j\n",
    "    # print(j)\n",
    "    # print(S)\n",
    "\n",
    "print(S)"
   ]
  },
  {
   "cell_type": "code",
   "execution_count": null,
   "metadata": {},
   "outputs": [],
   "source": [
    "S = 1 - 1/2 + 1/3 - 1/4 ... 1/n"
   ]
  },
  {
   "cell_type": "code",
   "execution_count": null,
   "metadata": {},
   "outputs": [],
   "source": [
    "n = int(input('Enter a number: '))\n",
    "S = sum((1/(i+1))*(-1)**i for i in range(n))\n",
    "S"
   ]
  },
  {
   "cell_type": "code",
   "execution_count": null,
   "metadata": {},
   "outputs": [],
   "source": []
  },
  {
   "cell_type": "code",
   "execution_count": null,
   "metadata": {},
   "outputs": [],
   "source": [
    "import matplotlib.pyplot as plt\n",
    "\n",
    "#In function form\n",
    "def f(n): return sum((1/(i+1))*(-1)**i for i in range(n))\n",
    "\n",
    "#Plotting\n",
    "y = [f(i+1) for i in range(100)]\n",
    "plt.plot(y)"
   ]
  },
  {
   "cell_type": "code",
   "execution_count": null,
   "metadata": {},
   "outputs": [],
   "source": []
  },
  {
   "cell_type": "code",
   "execution_count": null,
   "metadata": {},
   "outputs": [],
   "source": []
  },
  {
   "cell_type": "code",
   "execution_count": null,
   "metadata": {},
   "outputs": [],
   "source": []
  },
  {
   "cell_type": "code",
   "execution_count": null,
   "metadata": {},
   "outputs": [],
   "source": [
    "num1, op, num2 = input('enter equation: ').split(' ')\n",
    "num1, num2 = float(num1), float(num2)\n",
    "\n",
    "if op == \"+\":\n",
    "    print(num1 + num2)\n",
    "elif op == \"-\":\n",
    "    print(num1 - num2)\n",
    "elif op == \"*\":\n",
    "    print(num1 * num2)\n",
    "elif op == \"/\":\n",
    "    print(num1 / num2)\n",
    "\n",
    "else:\n",
    "    print(\" Enter a valid operator...\")\n",
    "    \n",
    "enter equation: 3 * 3\n",
    "9.0"
   ]
  },
  {
   "cell_type": "code",
   "execution_count": null,
   "metadata": {
    "scrolled": false
   },
   "outputs": [],
   "source": [
    "from ast import literal_eval\n",
    "\n",
    "eq = input('enter equation: ')\n",
    "result = literal_eval(eq)"
   ]
  },
  {
   "cell_type": "code",
   "execution_count": null,
   "metadata": {},
   "outputs": [],
   "source": []
  },
  {
   "cell_type": "code",
   "execution_count": null,
   "metadata": {},
   "outputs": [],
   "source": []
  },
  {
   "cell_type": "code",
   "execution_count": null,
   "metadata": {},
   "outputs": [],
   "source": [
    "from collections import defaultdict, Counter\n",
    "\n",
    "String = \"Today was a very a good day. Tomorrow might be a better day\"\n",
    "tokens = String.replace('.','').split()\n",
    "\n",
    "\n",
    "d = defaultdict(list)\n",
    "\n",
    "for k,v in Counter(tokens).items():\n",
    "    if k not in d[v]:\n",
    "        d[v].append(k)\n",
    "    \n",
    "output = dict(d)\n",
    "print(output)"
   ]
  },
  {
   "cell_type": "code",
   "execution_count": null,
   "metadata": {},
   "outputs": [],
   "source": []
  },
  {
   "cell_type": "code",
   "execution_count": null,
   "metadata": {},
   "outputs": [],
   "source": [
    "uq = np.unique(tokens, return_counts=True)\n",
    "list(zip(uq[0], uq[1]))\n",
    "\n",
    "[('Today', 1),\n",
    " ('Tomorrow', 1),\n",
    " ('a', 3),\n",
    " ('be', 1),\n",
    " ('better', 1),\n",
    " ('day', 2),\n",
    " ('good', 1),\n",
    " ('might', 1),\n",
    " ('very', 1),\n",
    " ('was', 1)]"
   ]
  },
  {
   "cell_type": "code",
   "execution_count": null,
   "metadata": {},
   "outputs": [],
   "source": []
  },
  {
   "cell_type": "code",
   "execution_count": null,
   "metadata": {},
   "outputs": [],
   "source": [
    "df['auc_all']"
   ]
  },
  {
   "cell_type": "code",
   "execution_count": null,
   "metadata": {},
   "outputs": [],
   "source": []
  },
  {
   "cell_type": "code",
   "execution_count": null,
   "metadata": {},
   "outputs": [],
   "source": []
  },
  {
   "cell_type": "code",
   "execution_count": null,
   "metadata": {},
   "outputs": [],
   "source": [
    "df = pd.DataFrame({'auc_all':['(0.5, 0.6)', '(0.5, 0.6)', '(0.5, 0.6)']})\n",
    "df"
   ]
  },
  {
   "cell_type": "code",
   "execution_count": null,
   "metadata": {},
   "outputs": [],
   "source": [
    "type(df['auc_all'][0])"
   ]
  },
  {
   "cell_type": "code",
   "execution_count": null,
   "metadata": {},
   "outputs": [],
   "source": [
    "def convert_str_into_tuple(self, string):\n",
    "    splitted_tuple = string.split(',')\n",
    "    value1 = float(splitted_tuple[0][1:])\n",
    "    value2 = float(splitted_tuple[1][1:-1])\n",
    "    return (value1, value2)\n",
    "\n",
    "df['auc_all'].apply(convert_str_into_tuple)"
   ]
  },
  {
   "cell_type": "code",
   "execution_count": null,
   "metadata": {},
   "outputs": [],
   "source": [
    "data = np.array([\n",
    "     [1,2,3],\n",
    "     [1,2,3],\n",
    "     [1,2,101],\n",
    "     [4,5,111],   \n",
    "     [4,5,6], \n",
    "     [4,5,6], \n",
    "     [4,5,101], \n",
    "     [4,5,112], \n",
    "     [4,5,6], \n",
    "     ])"
   ]
  },
  {
   "cell_type": "code",
   "execution_count": null,
   "metadata": {},
   "outputs": [],
   "source": [
    "idx = np.vstack([np.roll(data==101,-1,0)[:-1], np.array([False, False, False])])\n",
    "data[idx] = 10001\n",
    "\n",
    "\n",
    "array([[    1,     2,     3],\n",
    "       [    1,     2, 10001],\n",
    "       [    1,     2,   101],\n",
    "       [    4,     5,   111],\n",
    "       [    4,     5,     6],\n",
    "       [    4,     5, 10001],\n",
    "       [    4,     5,   101],\n",
    "       [    4,     5,   112],\n",
    "       [    4,     5,     6]])"
   ]
  },
  {
   "cell_type": "code",
   "execution_count": null,
   "metadata": {},
   "outputs": [],
   "source": [
    "data"
   ]
  },
  {
   "cell_type": "code",
   "execution_count": null,
   "metadata": {},
   "outputs": [],
   "source": []
  },
  {
   "cell_type": "code",
   "execution_count": null,
   "metadata": {},
   "outputs": [],
   "source": [
    "l = [('a',1,'b',2,'c',3), ('d',1,'e',2),('f',1,'g',2,'h',3,'i',4)]\n",
    "\n",
    "[tuple([item for item in sublist if not isinstance(item, int)]+[sublist[-1]]) for sublist in l]\n",
    "\n",
    "#|___________________________________________________________| |____________| \n",
    "#                            |                                       |\n",
    "#  Same as your method, iterating on n-1 items for each tuple        |\n",
    "#                                                               append last item\n",
    "#|____________________________________________________________________________________________|\n",
    "#                                           |\n",
    "#   Iterate over the list and then iterate over each sublist (tuples) with condition\n",
    "\n",
    "\n",
    "[('a', 'b', 'c', 3), ('d', 'e', 2), ('f', 'g', 'h', 'i', 4)]"
   ]
  },
  {
   "cell_type": "code",
   "execution_count": null,
   "metadata": {},
   "outputs": [],
   "source": []
  },
  {
   "cell_type": "code",
   "execution_count": null,
   "metadata": {},
   "outputs": [],
   "source": [
    "[[j for j in i][:-1]+[i[-1]] for i in l]"
   ]
  },
  {
   "cell_type": "code",
   "execution_count": null,
   "metadata": {},
   "outputs": [],
   "source": [
    "[(i,j) for i,j in l]"
   ]
  },
  {
   "cell_type": "code",
   "execution_count": null,
   "metadata": {},
   "outputs": [],
   "source": []
  },
  {
   "cell_type": "code",
   "execution_count": null,
   "metadata": {},
   "outputs": [],
   "source": []
  },
  {
   "cell_type": "code",
   "execution_count": null,
   "metadata": {},
   "outputs": [],
   "source": []
  },
  {
   "cell_type": "code",
   "execution_count": null,
   "metadata": {},
   "outputs": [],
   "source": [
    "df1 = pd.DataFrame(\n",
    "    {\n",
    "        \"column0\": [[\"xx, aa\", \"xx, aa\"]],\n",
    "        \"column1\": [[\"yy, bb\",\"yy, aa\"]],\n",
    "        \"column2\": [[\"cc, xx\", \"cc, xx\"]]})"
   ]
  },
  {
   "cell_type": "code",
   "execution_count": null,
   "metadata": {},
   "outputs": [],
   "source": [
    "flatten = lambda x: [i for j in x for i in j.split(',')]\n",
    "\n",
    "df1.applymap(flatten).apply(pd.Series.explode).unstack().reset_index()"
   ]
  },
  {
   "cell_type": "code",
   "execution_count": null,
   "metadata": {},
   "outputs": [],
   "source": [
    "df1"
   ]
  },
  {
   "cell_type": "code",
   "execution_count": null,
   "metadata": {},
   "outputs": [],
   "source": [
    "df1['column1']"
   ]
  },
  {
   "cell_type": "code",
   "execution_count": null,
   "metadata": {},
   "outputs": [],
   "source": [
    "d"
   ]
  },
  {
   "cell_type": "code",
   "execution_count": null,
   "metadata": {},
   "outputs": [],
   "source": []
  },
  {
   "cell_type": "code",
   "execution_count": null,
   "metadata": {},
   "outputs": [],
   "source": []
  },
  {
   "cell_type": "code",
   "execution_count": null,
   "metadata": {},
   "outputs": [],
   "source": [
    "df1.apply(lambda x: x.to_list(),1)"
   ]
  },
  {
   "cell_type": "code",
   "execution_count": null,
   "metadata": {},
   "outputs": [],
   "source": [
    "df1['column0'].explode()"
   ]
  },
  {
   "cell_type": "code",
   "execution_count": null,
   "metadata": {},
   "outputs": [],
   "source": []
  },
  {
   "cell_type": "code",
   "execution_count": null,
   "metadata": {},
   "outputs": [],
   "source": [
    "import numpy as np\n",
    "from scipy import stats"
   ]
  },
  {
   "cell_type": "code",
   "execution_count": null,
   "metadata": {},
   "outputs": [],
   "source": [
    "Nbank = np.array([[2, 3, 1],\n",
    "                  [1, 2, 2],\n",
    "                  [3, 2, 1],\n",
    "                  [3, 2, 1],\n",
    "                  [2, 3, 2],\n",
    "                  [2, 2, 3],\n",
    "                  [1, 1, 3],\n",
    "                  [2, 1, 1],\n",
    "                  [2, 2, 3],\n",
    "                  [1, 1, 1],\n",
    "                  [2, 1, 1],\n",
    "                  [2, 3, 1],\n",
    "                  [1, 2, 1]])\n",
    "\n",
    "modes, bins = stats.mode(Nbank,1)"
   ]
  },
  {
   "cell_type": "code",
   "execution_count": null,
   "metadata": {},
   "outputs": [],
   "source": [
    "modes.T"
   ]
  },
  {
   "cell_type": "code",
   "execution_count": null,
   "metadata": {},
   "outputs": [],
   "source": [
    "bins.T"
   ]
  },
  {
   "cell_type": "code",
   "execution_count": null,
   "metadata": {},
   "outputs": [],
   "source": [
    "np.unique(Nbank,axis=1, return_counts=True)"
   ]
  },
  {
   "cell_type": "code",
   "execution_count": null,
   "metadata": {},
   "outputs": [],
   "source": []
  },
  {
   "cell_type": "code",
   "execution_count": null,
   "metadata": {},
   "outputs": [],
   "source": [
    "df1.apply(pd.Series.explode)"
   ]
  },
  {
   "cell_type": "code",
   "execution_count": null,
   "metadata": {},
   "outputs": [],
   "source": []
  },
  {
   "cell_type": "code",
   "execution_count": null,
   "metadata": {},
   "outputs": [],
   "source": [
    "l = [1,2,3,4,5]"
   ]
  },
  {
   "cell_type": "code",
   "execution_count": null,
   "metadata": {},
   "outputs": [],
   "source": [
    "[~i for i in l]"
   ]
  },
  {
   "cell_type": "code",
   "execution_count": null,
   "metadata": {},
   "outputs": [],
   "source": [
    "[l[~i] for i in range(len(l))]"
   ]
  },
  {
   "cell_type": "code",
   "execution_count": null,
   "metadata": {},
   "outputs": [],
   "source": [
    "import numpy as np\n",
    "\n",
    "arr = np.random.random((10,10))\n",
    "\n",
    "arr.strides\n",
    "\n",
    "(80,8)"
   ]
  },
  {
   "cell_type": "code",
   "execution_count": null,
   "metadata": {},
   "outputs": [],
   "source": []
  },
  {
   "cell_type": "code",
   "execution_count": null,
   "metadata": {},
   "outputs": [],
   "source": []
  },
  {
   "cell_type": "code",
   "execution_count": null,
   "metadata": {},
   "outputs": [],
   "source": []
  },
  {
   "cell_type": "code",
   "execution_count": null,
   "metadata": {},
   "outputs": [],
   "source": [
    "# Importing required libraries\n",
    "import numpy as np\n",
    "import pandas as pd\n",
    "\n",
    "# Importing dataset\n",
    "dataset = pd.DataFrame(np.random.random((100,3)))\n",
    "X = dataset.iloc[:, 1: -1].values\n",
    "y = dataset.iloc[:, -1].values\n",
    "\n",
    "y = y.reshape(len(y), 1)\n",
    "\n",
    "# Feature Scaling\n",
    "from sklearn.preprocessing import StandardScaler\n",
    "scy = StandardScaler()\n",
    "scX = StandardScaler()\n",
    "X = scX.fit_transform(X)\n",
    "y = scy.fit_transform(y)\n",
    "\n",
    "# Training SVR model\n",
    "from sklearn.svm import SVR\n",
    "regressor = SVR(kernel = 'rbf')\n",
    "regressor.fit(X, y)\n",
    "\n",
    "# Predicting results from SCR model\n",
    "scy.inverse_transform(regressor.predict(scX.transform([[6.5]])))"
   ]
  },
  {
   "cell_type": "code",
   "execution_count": null,
   "metadata": {},
   "outputs": [],
   "source": []
  },
  {
   "cell_type": "code",
   "execution_count": null,
   "metadata": {},
   "outputs": [],
   "source": []
  },
  {
   "cell_type": "code",
   "execution_count": null,
   "metadata": {},
   "outputs": [],
   "source": []
  },
  {
   "cell_type": "code",
   "execution_count": null,
   "metadata": {},
   "outputs": [],
   "source": []
  },
  {
   "cell_type": "code",
   "execution_count": null,
   "metadata": {},
   "outputs": [],
   "source": []
  },
  {
   "cell_type": "code",
   "execution_count": null,
   "metadata": {},
   "outputs": [],
   "source": []
  },
  {
   "cell_type": "code",
   "execution_count": null,
   "metadata": {},
   "outputs": [],
   "source": [
    "from collections import Counter\n",
    "\n",
    "a = Counter({'a':[2], 'b':[10]})\n",
    "b = Counter({'a':[8], 'b':[3], 'c':[6]})\n",
    "\n",
    "s = dict(a+b)\n",
    "print(s)"
   ]
  },
  {
   "cell_type": "code",
   "execution_count": null,
   "metadata": {},
   "outputs": [],
   "source": [
    "import numpy as np"
   ]
  },
  {
   "cell_type": "code",
   "execution_count": null,
   "metadata": {},
   "outputs": [],
   "source": [
    "A = [[ 2,  0,  0,  0,  0,  0,  0], \n",
    "     [ 2,  3,  5,  0,  0,  0,  0],\n",
    "     [ 2,  3,  0,  0,  0,  0,  0],\n",
    "     [ 2,  0,  5,  7,  0,  0,  0],\n",
    "     [ 2,  0,  5,  0,  8,  0, 10],\n",
    "     [ 2,  3,  5,  0,  0,  9,  0],\n",
    "     [ 0,  0,  0,  7,  8,  9,  0],\n",
    "     [ 0,  0,  5,  7,  8,  9,  0],\n",
    "     [ 0,  0,  0,  7,  8,  9,  0],\n",
    "     [ 0,  0,  5,  0,  0,  0, 10]]\n",
    "\n",
    "A = np.array(A)    "
   ]
  },
  {
   "cell_type": "code",
   "execution_count": null,
   "metadata": {},
   "outputs": [],
   "source": [
    "A.shape"
   ]
  },
  {
   "cell_type": "code",
   "execution_count": null,
   "metadata": {},
   "outputs": [],
   "source": []
  },
  {
   "cell_type": "code",
   "execution_count": null,
   "metadata": {},
   "outputs": [],
   "source": [
    "mask = ~np.eye(A.shape[0], dtype=bool)\n",
    "((A[None,:,:] == A[:,None,:]).all(-1)&mask).any()"
   ]
  },
  {
   "cell_type": "code",
   "execution_count": null,
   "metadata": {},
   "outputs": [],
   "source": [
    "def is_dup(arr):\n",
    "    mask = ~np.eye(arr.shape[0], dtype=bool)\n",
    "    out = ((arr[None,:,:] == arr[:,None,:]).all(-1)&mask).any()\n",
    "    return out\n",
    "\n",
    "is_dup(A)\n",
    "\n",
    "is_dup(B)"
   ]
  },
  {
   "cell_type": "code",
   "execution_count": null,
   "metadata": {},
   "outputs": [],
   "source": [
    "is_dup(A)\n",
    "\n",
    "is_dup(B)"
   ]
  },
  {
   "cell_type": "code",
   "execution_count": null,
   "metadata": {
    "scrolled": false
   },
   "outputs": [],
   "source": [
    "B = [[ 2,  0,  0,  0,  0,  0,  0], \n",
    "    [ 2,  3,  5,  0,  0,  0,  0],\n",
    "    [ 2,  3,  0,  0,  0,  0,  0],\n",
    "    [ 2,  0,  5,  7,  0,  0,  0],\n",
    "    [ 2,  0,  5,  0,  8,  0, 10],\n",
    "    [ 2,  3,  5,  0,  0,  9,  0],\n",
    "    [ 0,  0,  1,  7,  8,  9,  0],\n",
    "    [ 0,  0,  5,  7,  8,  9,  0],\n",
    "    [ 0,  0,  0,  7,  8,  9,  0],\n",
    "    [ 0,  0,  5,  0,  0,  0, 10]]\n",
    "B = np.array(B)"
   ]
  },
  {
   "cell_type": "code",
   "execution_count": null,
   "metadata": {},
   "outputs": [],
   "source": [
    "mask = ~np.eye(B.shape[0], dtype=bool)\n",
    "((B[None,:,:] == B[:,None,:]).all(-1)&mask).any()"
   ]
  },
  {
   "cell_type": "code",
   "execution_count": null,
   "metadata": {},
   "outputs": [],
   "source": [
    "u, c = np.unique(A, return_counts=True)"
   ]
  },
  {
   "cell_type": "code",
   "execution_count": null,
   "metadata": {},
   "outputs": [],
   "source": [
    "A"
   ]
  },
  {
   "cell_type": "code",
   "execution_count": null,
   "metadata": {},
   "outputs": [],
   "source": [
    "[list(i) for i in A]"
   ]
  },
  {
   "cell_type": "code",
   "execution_count": null,
   "metadata": {},
   "outputs": [],
   "source": []
  },
  {
   "cell_type": "code",
   "execution_count": null,
   "metadata": {},
   "outputs": [],
   "source": [
    "def is_dup_simple(arr):\n",
    "    u, c = np.unique(arr, axis=0, return_counts=True)\n",
    "    return (c>1).any()\n",
    "\n",
    "print(is_dup_simple(A))\n",
    "print(is_dup_simple(B))"
   ]
  },
  {
   "cell_type": "code",
   "execution_count": null,
   "metadata": {},
   "outputs": [],
   "source": [
    "from collections import Counter"
   ]
  },
  {
   "cell_type": "code",
   "execution_count": null,
   "metadata": {},
   "outputs": [],
   "source": []
  },
  {
   "cell_type": "code",
   "execution_count": null,
   "metadata": {},
   "outputs": [],
   "source": []
  },
  {
   "cell_type": "code",
   "execution_count": null,
   "metadata": {},
   "outputs": [],
   "source": [
    "Counter(A).items()"
   ]
  },
  {
   "cell_type": "code",
   "execution_count": null,
   "metadata": {},
   "outputs": [],
   "source": []
  },
  {
   "cell_type": "code",
   "execution_count": null,
   "metadata": {},
   "outputs": [],
   "source": []
  },
  {
   "cell_type": "code",
   "execution_count": null,
   "metadata": {},
   "outputs": [],
   "source": []
  },
  {
   "cell_type": "code",
   "execution_count": null,
   "metadata": {},
   "outputs": [],
   "source": []
  },
  {
   "cell_type": "code",
   "execution_count": null,
   "metadata": {},
   "outputs": [],
   "source": []
  },
  {
   "cell_type": "code",
   "execution_count": null,
   "metadata": {},
   "outputs": [],
   "source": []
  },
  {
   "cell_type": "code",
   "execution_count": null,
   "metadata": {},
   "outputs": [],
   "source": []
  },
  {
   "cell_type": "code",
   "execution_count": null,
   "metadata": {},
   "outputs": [],
   "source": []
  },
  {
   "cell_type": "code",
   "execution_count": null,
   "metadata": {},
   "outputs": [],
   "source": []
  },
  {
   "cell_type": "code",
   "execution_count": 1,
   "metadata": {},
   "outputs": [],
   "source": [
    "import numpy as np\n",
    "from sklearn.model_selection import train_test_split\n",
    "\n",
    "\n",
    "import tensorflow as tf\n",
    "from tensorflow.keras import layers, utils, Model"
   ]
  },
  {
   "cell_type": "code",
   "execution_count": 2,
   "metadata": {},
   "outputs": [
    {
     "name": "stdout",
     "output_type": "stream",
     "text": [
      "(40000, 10)\n",
      "(10000, 10)\n",
      "(40000,)\n",
      "(10000,)\n"
     ]
    }
   ],
   "source": [
    "X, y = np.random.random((50000,10)), np.random.random((50000,))\n",
    "\n",
    "X_train, X_test, y_train, y_test = train_test_split(X, y, test_size=0.2)\n",
    "\n",
    "print(X_train.shape)\n",
    "print(X_test.shape)\n",
    "print(y_train.shape)\n",
    "print(y_test.shape)"
   ]
  },
  {
   "cell_type": "code",
   "execution_count": 3,
   "metadata": {},
   "outputs": [
    {
     "name": "stdout",
     "output_type": "stream",
     "text": [
      "Model: \"model\"\n",
      "_________________________________________________________________\n",
      "Layer (type)                 Output Shape              Param #   \n",
      "=================================================================\n",
      "input_1 (InputLayer)         [(None, 10)]              0         \n",
      "_________________________________________________________________\n",
      "dense (Dense)                (None, 20)                220       \n",
      "_________________________________________________________________\n",
      "dense_1 (Dense)              (None, 28)                588       \n",
      "_________________________________________________________________\n",
      "dense_2 (Dense)              (None, 32)                928       \n",
      "_________________________________________________________________\n",
      "dense_3 (Dense)              (None, 1)                 33        \n",
      "=================================================================\n",
      "Total params: 1,769\n",
      "Trainable params: 1,769\n",
      "Non-trainable params: 0\n",
      "_________________________________________________________________\n"
     ]
    }
   ],
   "source": [
    "inp = layers.Input((10,))\n",
    "x = layers.Dense(20, activation='relu')(inp)\n",
    "x = layers.Dense(28, activation='relu')(x)\n",
    "x = layers.Dense(32, activation='relu')(x)\n",
    "out = layers.Dense(1)(x)\n",
    "\n",
    "model = Model(inp, out)\n",
    "model.compile(optimizer='adam', loss='mse', metrics=['mae'])\n",
    "model.summary()"
   ]
  },
  {
   "cell_type": "code",
   "execution_count": 4,
   "metadata": {},
   "outputs": [
    {
     "data": {
      "image/png": "[encoded data removed]",
      "text/plain": [
       "<IPython.core.display.Image object>"
      ]
     },
     "execution_count": 4,
     "metadata": {},
     "output_type": "execute_result"
    }
   ],
   "source": [
    "utils.plot_model(model, show_layer_names=False, show_shapes=True)"
   ]
  },
  {
   "cell_type": "code",
   "execution_count": 5,
   "metadata": {},
   "outputs": [
    {
     "name": "stdout",
     "output_type": "stream",
     "text": [
      "Epoch 1/10\n",
      "625/625 [==============================] - 1s 965us/step - loss: 0.1041 - mae: 0.2706\n",
      "Epoch 2/10\n",
      "625/625 [==============================] - 1s 937us/step - loss: 0.0835 - mae: 0.2495\n",
      "Epoch 3/10\n",
      "625/625 [==============================] - 1s 918us/step - loss: 0.0829 - mae: 0.2490\n",
      "Epoch 4/10\n",
      "625/625 [==============================] - 1s 858us/step - loss: 0.0841 - mae: 0.2511\n",
      "Epoch 5/10\n",
      "625/625 [==============================] - 1s 2ms/step - loss: 0.0837 - mae: 0.2501\n",
      "Epoch 6/10\n",
      "625/625 [==============================] - 0s 796us/step - loss: 0.0838 - mae: 0.2506\n",
      "Epoch 7/10\n",
      "625/625 [==============================] - 1s 983us/step - loss: 0.0835 - mae: 0.2496\n",
      "Epoch 8/10\n",
      "625/625 [==============================] - 1s 1ms/step - loss: 0.0835 - mae: 0.2499\n",
      "Epoch 9/10\n",
      "625/625 [==============================] - 1s 1ms/step - loss: 0.0836 - mae: 0.2502\n",
      "Epoch 10/10\n",
      "625/625 [==============================] - 1s 963us/step - loss: 0.0831 - mae: 0.2489 0s - loss: 0.0831 - mae: 0\n"
     ]
    },
    {
     "data": {
      "text/plain": [
       "<tensorflow.python.keras.callbacks.History at 0x7f8b73932a00>"
      ]
     },
     "execution_count": 5,
     "metadata": {},
     "output_type": "execute_result"
    }
   ],
   "source": [
    "model.fit(X_train, y_train, epochs=10, batch_size=64)"
   ]
  },
  {
   "cell_type": "code",
   "execution_count": 6,
   "metadata": {},
   "outputs": [
    {
     "data": {
      "text/plain": [
       "array([[0.4867245 ],\n",
       "       [0.4824584 ],\n",
       "       [0.49265164],\n",
       "       ...,\n",
       "       [0.4737596 ],\n",
       "       [0.4925033 ],\n",
       "       [0.4698804 ]], dtype=float32)"
      ]
     },
     "execution_count": 6,
     "metadata": {},
     "output_type": "execute_result"
    }
   ],
   "source": [
    "model.predict(X_test)"
   ]
  },
  {
   "cell_type": "code",
   "execution_count": null,
   "metadata": {},
   "outputs": [],
   "source": []
  },
  {
   "cell_type": "code",
   "execution_count": null,
   "metadata": {},
   "outputs": [],
   "source": []
  }
 ],
 "metadata": {
  "kernelspec": {
   "display_name": "Python 3",
   "language": "python",
   "name": "python3"
  },
  "language_info": {
   "codemirror_mode": {
    "name": "ipython",
    "version": 3
   },
   "file_extension": ".py",
   "mimetype": "text/x-python",
   "name": "python",
   "nbconvert_exporter": "python",
   "pygments_lexer": "ipython3",
   "version": "3.8.3"
  }
 },
 "nbformat": 4,
 "nbformat_minor": 4
}
