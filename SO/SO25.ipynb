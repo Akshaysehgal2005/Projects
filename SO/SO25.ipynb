{
 "cells": [
  {
   "cell_type": "code",
   "execution_count": 1,
   "id": "b8bb2f08",
   "metadata": {},
   "outputs": [],
   "source": [
    "import pandas as pd\n",
    "import numpy as np\n",
    "import itertools\n",
    "import collections"
   ]
  },
  {
   "cell_type": "code",
   "execution_count": 2,
   "id": "099a257d",
   "metadata": {},
   "outputs": [],
   "source": [
    "a = [1,2,3,4,2,2,3,1,4,4,4]"
   ]
  },
  {
   "cell_type": "code",
   "execution_count": 4,
   "id": "dd2bf89f",
   "metadata": {},
   "outputs": [
    {
     "data": {
      "text/plain": [
       "4"
      ]
     },
     "execution_count": 4,
     "metadata": {},
     "output_type": "execute_result"
    }
   ],
   "source": [
    "max(a,key=a.count)"
   ]
  },
  {
   "cell_type": "code",
   "execution_count": 6,
   "id": "8b22b6d6",
   "metadata": {},
   "outputs": [
    {
     "ename": "TypeError",
     "evalue": "list.count() takes exactly one argument (0 given)",
     "output_type": "error",
     "traceback": [
      "\u001b[0;31m---------------------------------------------------------------------------\u001b[0m",
      "\u001b[0;31mTypeError\u001b[0m                                 Traceback (most recent call last)",
      "Input \u001b[0;32mIn [6]\u001b[0m, in \u001b[0;36m<module>\u001b[0;34m\u001b[0m\n\u001b[0;32m----> 1\u001b[0m \u001b[43ma\u001b[49m\u001b[38;5;241;43m.\u001b[39;49m\u001b[43mcount\u001b[49m\u001b[43m(\u001b[49m\u001b[43m)\u001b[49m\n",
      "\u001b[0;31mTypeError\u001b[0m: list.count() takes exactly one argument (0 given)"
     ]
    }
   ],
   "source": []
  },
  {
   "cell_type": "code",
   "execution_count": 31,
   "id": "c0b6780c",
   "metadata": {},
   "outputs": [
    {
     "data": {
      "text/plain": [
       "array([-652.04271202, -187.7504497 , -330.60055883, -226.21675167,\n",
       "       -986.81825406])"
      ]
     },
     "execution_count": 31,
     "metadata": {},
     "output_type": "execute_result"
    }
   ],
   "source": [
    "import numpy as np\n",
    "from sklearn.metrics import make_scorer\n",
    "from sklearn.linear_model import LinearRegression\n",
    "from sklearn.model_selection import cross_val_score\n",
    "\n",
    "#define custom function which returns single output as metric score\n",
    "def NMAPE(y_true, y_pred): \n",
    "    return 1 - np.mean(np.abs((y_true - y_pred) / y_true)) * 100\n",
    "\n",
    "#make scorer from custome function\n",
    "nmape_scorer = make_scorer(NMAPE)\n",
    "\n",
    "#dummy data\n",
    "X = np.random.random((1000,10))\n",
    "y = np.random.random(1000,)\n",
    "\n",
    "#cross validation score on model\n",
    "reg = LinearRegression()\n",
    "cross_val_score(reg, X, y, scoring=nmape_scorer, cv=5)"
   ]
  },
  {
   "cell_type": "code",
   "execution_count": null,
   "id": "11bc7e1d",
   "metadata": {},
   "outputs": [],
   "source": []
  },
  {
   "cell_type": "code",
   "execution_count": null,
   "id": "4241a050",
   "metadata": {},
   "outputs": [],
   "source": []
  },
  {
   "cell_type": "code",
   "execution_count": null,
   "id": "519bc3dc",
   "metadata": {},
   "outputs": [],
   "source": []
  },
  {
   "cell_type": "code",
   "execution_count": 32,
   "id": "67ccf2e9",
   "metadata": {},
   "outputs": [
    {
     "data": {
      "text/html": [
       "<div>\n",
       "<style scoped>\n",
       "    .dataframe tbody tr th:only-of-type {\n",
       "        vertical-align: middle;\n",
       "    }\n",
       "\n",
       "    .dataframe tbody tr th {\n",
       "        vertical-align: top;\n",
       "    }\n",
       "\n",
       "    .dataframe thead th {\n",
       "        text-align: right;\n",
       "    }\n",
       "</style>\n",
       "<table border=\"1\" class=\"dataframe\">\n",
       "  <thead>\n",
       "    <tr style=\"text-align: right;\">\n",
       "      <th></th>\n",
       "      <th>laureates</th>\n",
       "    </tr>\n",
       "  </thead>\n",
       "  <tbody>\n",
       "    <tr>\n",
       "      <th>0</th>\n",
       "      <td>{'id': '1', 'firstname': 'Wilhelm Conrad', 'su...</td>\n",
       "    </tr>\n",
       "    <tr>\n",
       "      <th>1</th>\n",
       "      <td>{'id': '2', 'firstname': 'Hendrik A.', 'surnam...</td>\n",
       "    </tr>\n",
       "    <tr>\n",
       "      <th>2</th>\n",
       "      <td>{'id': '3', 'firstname': 'Pieter', 'surname': ...</td>\n",
       "    </tr>\n",
       "    <tr>\n",
       "      <th>3</th>\n",
       "      <td>{'id': '4', 'firstname': 'Henri', 'surname': '...</td>\n",
       "    </tr>\n",
       "    <tr>\n",
       "      <th>4</th>\n",
       "      <td>{'id': '5', 'firstname': 'Pierre', 'surname': ...</td>\n",
       "    </tr>\n",
       "    <tr>\n",
       "      <th>...</th>\n",
       "      <td>...</td>\n",
       "    </tr>\n",
       "    <tr>\n",
       "      <th>963</th>\n",
       "      <td>{'id': '1005', 'firstname': 'Maria', 'surname'...</td>\n",
       "    </tr>\n",
       "    <tr>\n",
       "      <th>964</th>\n",
       "      <td>{'id': '1006', 'firstname': 'Dmitry', 'surname...</td>\n",
       "    </tr>\n",
       "    <tr>\n",
       "      <th>965</th>\n",
       "      <td>{'id': '1007', 'firstname': 'David', 'surname'...</td>\n",
       "    </tr>\n",
       "    <tr>\n",
       "      <th>966</th>\n",
       "      <td>{'id': '1008', 'firstname': 'Joshua', 'surname...</td>\n",
       "    </tr>\n",
       "    <tr>\n",
       "      <th>967</th>\n",
       "      <td>{'id': '1009', 'firstname': 'Guido', 'surname'...</td>\n",
       "    </tr>\n",
       "  </tbody>\n",
       "</table>\n",
       "<p>968 rows × 1 columns</p>\n",
       "</div>"
      ],
      "text/plain": [
       "                                             laureates\n",
       "0    {'id': '1', 'firstname': 'Wilhelm Conrad', 'su...\n",
       "1    {'id': '2', 'firstname': 'Hendrik A.', 'surnam...\n",
       "2    {'id': '3', 'firstname': 'Pieter', 'surname': ...\n",
       "3    {'id': '4', 'firstname': 'Henri', 'surname': '...\n",
       "4    {'id': '5', 'firstname': 'Pierre', 'surname': ...\n",
       "..                                                 ...\n",
       "963  {'id': '1005', 'firstname': 'Maria', 'surname'...\n",
       "964  {'id': '1006', 'firstname': 'Dmitry', 'surname...\n",
       "965  {'id': '1007', 'firstname': 'David', 'surname'...\n",
       "966  {'id': '1008', 'firstname': 'Joshua', 'surname...\n",
       "967  {'id': '1009', 'firstname': 'Guido', 'surname'...\n",
       "\n",
       "[968 rows x 1 columns]"
      ]
     },
     "execution_count": 32,
     "metadata": {},
     "output_type": "execute_result"
    }
   ],
   "source": [
    "j = pd.read_json(\"http://api.nobelprize.org/v1/laureate.json\")\n",
    "j"
   ]
  },
  {
   "cell_type": "code",
   "execution_count": 85,
   "id": "fcfc0345",
   "metadata": {},
   "outputs": [
    {
     "data": {
      "text/html": [
       "<div>\n",
       "<style scoped>\n",
       "    .dataframe tbody tr th:only-of-type {\n",
       "        vertical-align: middle;\n",
       "    }\n",
       "\n",
       "    .dataframe tbody tr th {\n",
       "        vertical-align: top;\n",
       "    }\n",
       "\n",
       "    .dataframe thead th {\n",
       "        text-align: right;\n",
       "    }\n",
       "</style>\n",
       "<table border=\"1\" class=\"dataframe\">\n",
       "  <thead>\n",
       "    <tr style=\"text-align: right;\">\n",
       "      <th></th>\n",
       "      <th>year</th>\n",
       "      <th>category</th>\n",
       "      <th>share</th>\n",
       "      <th>motivation</th>\n",
       "      <th>affiliations</th>\n",
       "      <th>overallMotivation</th>\n",
       "      <th>laureates.id</th>\n",
       "    </tr>\n",
       "  </thead>\n",
       "  <tbody>\n",
       "    <tr>\n",
       "      <th>0</th>\n",
       "      <td>1901</td>\n",
       "      <td>physics</td>\n",
       "      <td>1</td>\n",
       "      <td>\"in recognition of the extraordinary services ...</td>\n",
       "      <td>[{'name': 'Munich University', 'city': 'Munich...</td>\n",
       "      <td>NaN</td>\n",
       "      <td>1</td>\n",
       "    </tr>\n",
       "    <tr>\n",
       "      <th>1</th>\n",
       "      <td>1902</td>\n",
       "      <td>physics</td>\n",
       "      <td>2</td>\n",
       "      <td>\"in recognition of the extraordinary service t...</td>\n",
       "      <td>[{'name': 'Leiden University', 'city': 'Leiden...</td>\n",
       "      <td>NaN</td>\n",
       "      <td>2</td>\n",
       "    </tr>\n",
       "    <tr>\n",
       "      <th>2</th>\n",
       "      <td>1902</td>\n",
       "      <td>physics</td>\n",
       "      <td>2</td>\n",
       "      <td>\"in recognition of the extraordinary service t...</td>\n",
       "      <td>[{'name': 'Amsterdam University', 'city': 'Ams...</td>\n",
       "      <td>NaN</td>\n",
       "      <td>3</td>\n",
       "    </tr>\n",
       "    <tr>\n",
       "      <th>3</th>\n",
       "      <td>1903</td>\n",
       "      <td>physics</td>\n",
       "      <td>2</td>\n",
       "      <td>\"in recognition of the extraordinary services ...</td>\n",
       "      <td>[{'name': 'École Polytechnique', 'city': 'Pari...</td>\n",
       "      <td>NaN</td>\n",
       "      <td>4</td>\n",
       "    </tr>\n",
       "    <tr>\n",
       "      <th>4</th>\n",
       "      <td>1903</td>\n",
       "      <td>physics</td>\n",
       "      <td>4</td>\n",
       "      <td>\"in recognition of the extraordinary services ...</td>\n",
       "      <td>[{'name': 'École municipale de physique et de ...</td>\n",
       "      <td>NaN</td>\n",
       "      <td>5</td>\n",
       "    </tr>\n",
       "    <tr>\n",
       "      <th>...</th>\n",
       "      <td>...</td>\n",
       "      <td>...</td>\n",
       "      <td>...</td>\n",
       "      <td>...</td>\n",
       "      <td>...</td>\n",
       "      <td>...</td>\n",
       "      <td>...</td>\n",
       "    </tr>\n",
       "    <tr>\n",
       "      <th>970</th>\n",
       "      <td>2021</td>\n",
       "      <td>peace</td>\n",
       "      <td>2</td>\n",
       "      <td>\"for their efforts to safeguard freedom of exp...</td>\n",
       "      <td>[[]]</td>\n",
       "      <td>NaN</td>\n",
       "      <td>1005</td>\n",
       "    </tr>\n",
       "    <tr>\n",
       "      <th>971</th>\n",
       "      <td>2021</td>\n",
       "      <td>peace</td>\n",
       "      <td>2</td>\n",
       "      <td>\"for their efforts to safeguard freedom of exp...</td>\n",
       "      <td>[[]]</td>\n",
       "      <td>NaN</td>\n",
       "      <td>1006</td>\n",
       "    </tr>\n",
       "    <tr>\n",
       "      <th>972</th>\n",
       "      <td>2021</td>\n",
       "      <td>economics</td>\n",
       "      <td>2</td>\n",
       "      <td>\"for his empirical contributions to labour eco...</td>\n",
       "      <td>[{'name': 'University of California', 'city': ...</td>\n",
       "      <td>NaN</td>\n",
       "      <td>1007</td>\n",
       "    </tr>\n",
       "    <tr>\n",
       "      <th>973</th>\n",
       "      <td>2021</td>\n",
       "      <td>economics</td>\n",
       "      <td>4</td>\n",
       "      <td>\"for their methodological contributions to the...</td>\n",
       "      <td>[{'name': 'Massachusetts Institute of Technolo...</td>\n",
       "      <td>NaN</td>\n",
       "      <td>1008</td>\n",
       "    </tr>\n",
       "    <tr>\n",
       "      <th>974</th>\n",
       "      <td>2021</td>\n",
       "      <td>economics</td>\n",
       "      <td>4</td>\n",
       "      <td>\"for their methodological contributions to the...</td>\n",
       "      <td>[{'name': 'Stanford University', 'city': 'Stan...</td>\n",
       "      <td>NaN</td>\n",
       "      <td>1009</td>\n",
       "    </tr>\n",
       "  </tbody>\n",
       "</table>\n",
       "<p>975 rows × 7 columns</p>\n",
       "</div>"
      ],
      "text/plain": [
       "     year   category share                                         motivation  \\\n",
       "0    1901    physics     1  \"in recognition of the extraordinary services ...   \n",
       "1    1902    physics     2  \"in recognition of the extraordinary service t...   \n",
       "2    1902    physics     2  \"in recognition of the extraordinary service t...   \n",
       "3    1903    physics     2  \"in recognition of the extraordinary services ...   \n",
       "4    1903    physics     4  \"in recognition of the extraordinary services ...   \n",
       "..    ...        ...   ...                                                ...   \n",
       "970  2021      peace     2  \"for their efforts to safeguard freedom of exp...   \n",
       "971  2021      peace     2  \"for their efforts to safeguard freedom of exp...   \n",
       "972  2021  economics     2  \"for his empirical contributions to labour eco...   \n",
       "973  2021  economics     4  \"for their methodological contributions to the...   \n",
       "974  2021  economics     4  \"for their methodological contributions to the...   \n",
       "\n",
       "                                          affiliations overallMotivation  \\\n",
       "0    [{'name': 'Munich University', 'city': 'Munich...               NaN   \n",
       "1    [{'name': 'Leiden University', 'city': 'Leiden...               NaN   \n",
       "2    [{'name': 'Amsterdam University', 'city': 'Ams...               NaN   \n",
       "3    [{'name': 'École Polytechnique', 'city': 'Pari...               NaN   \n",
       "4    [{'name': 'École municipale de physique et de ...               NaN   \n",
       "..                                                 ...               ...   \n",
       "970                                               [[]]               NaN   \n",
       "971                                               [[]]               NaN   \n",
       "972  [{'name': 'University of California', 'city': ...               NaN   \n",
       "973  [{'name': 'Massachusetts Institute of Technolo...               NaN   \n",
       "974  [{'name': 'Stanford University', 'city': 'Stan...               NaN   \n",
       "\n",
       "    laureates.id  \n",
       "0              1  \n",
       "1              2  \n",
       "2              3  \n",
       "3              4  \n",
       "4              5  \n",
       "..           ...  \n",
       "970         1005  \n",
       "971         1006  \n",
       "972         1007  \n",
       "973         1008  \n",
       "974         1009  \n",
       "\n",
       "[975 rows x 7 columns]"
      ]
     },
     "execution_count": 85,
     "metadata": {},
     "output_type": "execute_result"
    }
   ],
   "source": [
    "df1"
   ]
  },
  {
   "cell_type": "code",
   "execution_count": 101,
   "id": "988128d7",
   "metadata": {},
   "outputs": [
    {
     "name": "stdout",
     "output_type": "stream",
     "text": [
      "Shape of data -> (975, 18)\n",
      "\n",
      "Columns -> Index(['id', 'firstname', 'surname', 'born', 'died', 'bornCountry',\n",
      "       'bornCountryCode', 'bornCity', 'diedCountry', 'diedCountryCode',\n",
      "       'diedCity', 'gender', 'year', 'category', 'share', 'motivation',\n",
      "       'affiliations', 'overallMotivation'],\n",
      "      dtype='object')\n"
     ]
    }
   ],
   "source": [
    "import json, pandas as pd, requests\n",
    "\n",
    "resp = requests.get('http://api.nobelprize.org/v1/laureate.json')\n",
    "df0 = pd.json_normalize(json.loads(resp.content),record_path = ['laureates'])\n",
    "df1 = pd.json_normalize(json.loads(resp.content),record_path = ['laureates','prizes'], meta = [['laureates','id']])\n",
    "output = pd.merge(df0, df1, left_on='id', right_on='laureates.id').drop(['prizes','laureates.id'], axis=1, inplace=False)\n",
    "print('Shape of data ->',output.shape)\n",
    "print('')\n",
    "print('Columns ->',output.columns)\n",
    "\n",
    "Shape of data -> (975, 18)\n",
    "\n",
    "Columns -> Index(['id', 'firstname', 'surname', 'born', 'died', 'bornCountry',\n",
    "       'bornCountryCode', 'bornCity', 'diedCountry', 'diedCountryCode',\n",
    "       'diedCity', 'gender', 'year', 'category', 'share', 'motivation',\n",
    "       'affiliations', 'overallMotivation'],\n",
    "      dtype='object')"
   ]
  },
  {
   "cell_type": "code",
   "execution_count": null,
   "id": "97ff23c2",
   "metadata": {},
   "outputs": [],
   "source": []
  },
  {
   "cell_type": "code",
   "execution_count": null,
   "id": "37e783d2",
   "metadata": {},
   "outputs": [],
   "source": []
  },
  {
   "cell_type": "code",
   "execution_count": null,
   "id": "bb131311",
   "metadata": {},
   "outputs": [],
   "source": []
  },
  {
   "cell_type": "code",
   "execution_count": null,
   "id": "6d8993aa",
   "metadata": {},
   "outputs": [],
   "source": []
  },
  {
   "cell_type": "code",
   "execution_count": null,
   "id": "7453b3ad",
   "metadata": {},
   "outputs": [],
   "source": [
    "Index(['id', 'firstname', 'surname', 'born', 'died', 'bornCountry',\n",
    "       'bornCountryCode', 'bornCity', 'diedCountry', 'diedCountryCode',\n",
    "       'diedCity', 'gender', 'prizes'],\n",
    "      dtype='object')"
   ]
  }
 ],
 "metadata": {
  "kernelspec": {
   "display_name": "Python 3.9",
   "language": "python",
   "name": "python3"
  },
  "language_info": {
   "codemirror_mode": {
    "name": "ipython",
    "version": 3
   },
   "file_extension": ".py",
   "mimetype": "text/x-python",
   "name": "python",
   "nbconvert_exporter": "python",
   "pygments_lexer": "ipython3",
   "version": "3.9.7"
  }
 },
 "nbformat": 4,
 "nbformat_minor": 5
}
