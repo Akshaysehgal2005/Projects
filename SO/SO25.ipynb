{
 "cells": [
  {
   "cell_type": "code",
   "execution_count": 1,
   "id": "3006dfe5",
   "metadata": {},
   "outputs": [],
   "source": [
    "import pandas as pd\n",
    "import numpy as np\n",
    "import itertools\n",
    "import collections"
   ]
  },
  {
   "cell_type": "code",
   "execution_count": 2,
   "id": "d41b66fe",
   "metadata": {},
   "outputs": [],
   "source": [
    "a = [1,2,3,4,2,2,3,1,4,4,4]"
   ]
  },
  {
   "cell_type": "code",
   "execution_count": 4,
   "id": "6ca20fc0",
   "metadata": {},
   "outputs": [
    {
     "data": {
      "text/plain": [
       "4"
      ]
     },
     "execution_count": 4,
     "metadata": {},
     "output_type": "execute_result"
    }
   ],
   "source": [
    "max(a,key=a.count)"
   ]
  },
  {
   "cell_type": "code",
   "execution_count": 6,
   "id": "a3e99964",
   "metadata": {},
   "outputs": [
    {
     "ename": "TypeError",
     "evalue": "list.count() takes exactly one argument (0 given)",
     "output_type": "error",
     "traceback": [
      "\u001b[0;31m---------------------------------------------------------------------------\u001b[0m",
      "\u001b[0;31mTypeError\u001b[0m                                 Traceback (most recent call last)",
      "Input \u001b[0;32mIn [6]\u001b[0m, in \u001b[0;36m<module>\u001b[0;34m\u001b[0m\n\u001b[0;32m----> 1\u001b[0m \u001b[43ma\u001b[49m\u001b[38;5;241;43m.\u001b[39;49m\u001b[43mcount\u001b[49m\u001b[43m(\u001b[49m\u001b[43m)\u001b[49m\n",
      "\u001b[0;31mTypeError\u001b[0m: list.count() takes exactly one argument (0 given)"
     ]
    }
   ],
   "source": []
  },
  {
   "cell_type": "code",
   "execution_count": 30,
   "id": "029a340c",
   "metadata": {},
   "outputs": [
    {
     "data": {
      "text/plain": [
       "array([-4453.67565485,  -148.201211  ,  -222.92820259,  -185.27855064,\n",
       "        -657.27927049])"
      ]
     },
     "execution_count": 30,
     "metadata": {},
     "output_type": "execute_result"
    }
   ],
   "source": [
    "import numpy as np\n",
    "from sklearn.metrics import make_scorer\n",
    "from sklearn.linear_model import LinearRegression\n",
    "from sklearn.model_selection import cross_val_score\n",
    "\n",
    "#define custom function which returns single output as metric score\n",
    "def NMAPE(y_true, y_pred): \n",
    "    return 1 - np.mean(np.abs((y_true - y_pred) / y_true)) * 100\n",
    "\n",
    "#make scorer from custome function\n",
    "nmape_scorer = make_scorer(NMAPE)\n",
    "\n",
    "#dummy data\n",
    "X = np.random.random((1000,10))\n",
    "y = np.random.random(1000,)\n",
    "\n",
    "#cross validation score on model\n",
    "reg = LinearRegression()\n",
    "cross_val_score(reg, X, y, scoring=nmape_scorer, cv=5)\n",
    "\n",
    "array([-4453.67565485,  -148.201211  ,  -222.92820259,  -185.27855064,\n",
    "        -657.27927049])"
   ]
  },
  {
   "cell_type": "code",
   "execution_count": 26,
   "id": "fdea5ee4",
   "metadata": {},
   "outputs": [
    {
     "data": {
      "text/plain": [
       "array([-0.26640576, -0.23729053, -0.24491062, -0.26058433, -0.24939438])"
      ]
     },
     "execution_count": 26,
     "metadata": {},
     "output_type": "execute_result"
    }
   ],
   "source": []
  },
  {
   "cell_type": "code",
   "execution_count": null,
   "id": "2fa0ccd7",
   "metadata": {},
   "outputs": [],
   "source": []
  }
 ],
 "metadata": {
  "kernelspec": {
   "display_name": "Python 3.9",
   "language": "python",
   "name": "python3"
  },
  "language_info": {
   "codemirror_mode": {
    "name": "ipython",
    "version": 3
   },
   "file_extension": ".py",
   "mimetype": "text/x-python",
   "name": "python",
   "nbconvert_exporter": "python",
   "pygments_lexer": "ipython3",
   "version": "3.9.7"
  }
 },
 "nbformat": 4,
 "nbformat_minor": 5
}
