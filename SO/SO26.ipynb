{
 "cells": [
  {
   "cell_type": "code",
   "execution_count": 1,
   "id": "1720d4a0",
   "metadata": {},
   "outputs": [
    {
     "ename": "ModuleNotFoundError",
     "evalue": "No module named 'pydotplus'",
     "output_type": "error",
     "traceback": [
      "\u001b[0;31m---------------------------------------------------------------------------\u001b[0m",
      "\u001b[0;31mModuleNotFoundError\u001b[0m                       Traceback (most recent call last)",
      "Input \u001b[0;32mIn [1]\u001b[0m, in \u001b[0;36m<module>\u001b[0;34m\u001b[0m\n\u001b[1;32m     15\u001b[0m sub_tree_42 \u001b[38;5;241m=\u001b[39m clf\u001b[38;5;241m.\u001b[39mestimators_[\u001b[38;5;241m42\u001b[39m, \u001b[38;5;241m0\u001b[39m]\n\u001b[1;32m     17\u001b[0m \u001b[38;5;66;03m# Visualization\u001b[39;00m\n\u001b[1;32m     18\u001b[0m \u001b[38;5;66;03m# Install graphviz: https://www.graphviz.org/download/\u001b[39;00m\n\u001b[0;32m---> 19\u001b[0m \u001b[38;5;28;01mfrom\u001b[39;00m \u001b[38;5;21;01mpydotplus\u001b[39;00m \u001b[38;5;28;01mimport\u001b[39;00m graph_from_dot_data\n\u001b[1;32m     20\u001b[0m \u001b[38;5;28;01mfrom\u001b[39;00m \u001b[38;5;21;01mIPython\u001b[39;00m\u001b[38;5;21;01m.\u001b[39;00m\u001b[38;5;21;01mdisplay\u001b[39;00m \u001b[38;5;28;01mimport\u001b[39;00m Image\n\u001b[1;32m     21\u001b[0m dot_data \u001b[38;5;241m=\u001b[39m export_graphviz(\n\u001b[1;32m     22\u001b[0m     sub_tree_42,\n\u001b[1;32m     23\u001b[0m     out_file\u001b[38;5;241m=\u001b[39m\u001b[38;5;28;01mNone\u001b[39;00m, filled\u001b[38;5;241m=\u001b[39m\u001b[38;5;28;01mTrue\u001b[39;00m, rounded\u001b[38;5;241m=\u001b[39m\u001b[38;5;28;01mTrue\u001b[39;00m,\n\u001b[1;32m     24\u001b[0m     special_characters\u001b[38;5;241m=\u001b[39m\u001b[38;5;28;01mTrue\u001b[39;00m,\n\u001b[1;32m     25\u001b[0m     proportion\u001b[38;5;241m=\u001b[39m\u001b[38;5;28;01mFalse\u001b[39;00m, impurity\u001b[38;5;241m=\u001b[39m\u001b[38;5;28;01mFalse\u001b[39;00m, \u001b[38;5;66;03m# enable them if you want\u001b[39;00m\n\u001b[1;32m     26\u001b[0m )\n",
      "\u001b[0;31mModuleNotFoundError\u001b[0m: No module named 'pydotplus'"
     ]
    }
   ],
   "source": [
    "from sklearn.ensemble import GradientBoostingClassifier\n",
    "from sklearn.tree import export_graphviz\n",
    "import numpy as np\n",
    "\n",
    "# Ficticuous data\n",
    "np.random.seed(0)\n",
    "X = np.random.normal(0,1,(1000, 3))\n",
    "y = X[:,0]+X[:,1]*X[:,2] > 0\n",
    "\n",
    "# Classifier\n",
    "clf = GradientBoostingClassifier(max_depth=3, random_state=0)\n",
    "clf.fit(X[:600], y[:600])\n",
    "\n",
    "# Get the tree number 42\n",
    "sub_tree_42 = clf.estimators_[42, 0]\n",
    "\n",
    "# Visualization\n",
    "# Install graphviz: https://www.graphviz.org/download/\n",
    "from pydotplus import graph_from_dot_data\n",
    "from IPython.display import Image\n",
    "dot_data = export_graphviz(\n",
    "    sub_tree_42,\n",
    "    out_file=None, filled=True, rounded=True,\n",
    "    special_characters=True,\n",
    "    proportion=False, impurity=False, # enable them if you want\n",
    ")\n",
    "graph = graph_from_dot_data(dot_data)\n",
    "Image(graph.create_png())"
   ]
  },
  {
   "cell_type": "code",
   "execution_count": 5,
   "id": "b442a6a9",
   "metadata": {},
   "outputs": [],
   "source": [
    "my_dict = {'david': ('18', 'Paris', '253-345-5434'), \n",
    "           'Joe': ('19', 'Dubai', '675-353-2345'), \n",
    "           'Luc': ('31', 'Istanbul', '766-673-3451')}"
   ]
  },
  {
   "cell_type": "code",
   "execution_count": 6,
   "id": "6366fb28",
   "metadata": {},
   "outputs": [],
   "source": [
    "keys = sorted(my_dict, key=str.lower)"
   ]
  },
  {
   "cell_type": "code",
   "execution_count": null,
   "id": "950cfd73",
   "metadata": {},
   "outputs": [],
   "source": []
  },
  {
   "cell_type": "code",
   "execution_count": null,
   "id": "e06641c7",
   "metadata": {},
   "outputs": [],
   "source": []
  },
  {
   "cell_type": "code",
   "execution_count": 10,
   "id": "ad212da2",
   "metadata": {},
   "outputs": [],
   "source": [
    "class MovingSum:\n",
    "    def __init__(self, window=3):\n",
    "        self.window = window\n",
    "    \n",
    "    def push(self, nums: list[int]):\n",
    "        pass\n",
    "\n",
    "    def belongs(self, total) -> bool:\n",
    "        pass"
   ]
  },
  {
   "cell_type": "code",
   "execution_count": 11,
   "id": "2a80c997",
   "metadata": {},
   "outputs": [],
   "source": [
    "l = [(1,1,0), (2,1,1), (1,1,1)]"
   ]
  },
  {
   "cell_type": "code",
   "execution_count": 13,
   "id": "f091bfc1",
   "metadata": {},
   "outputs": [],
   "source": [
    "import pandas as pd"
   ]
  },
  {
   "cell_type": "code",
   "execution_count": 42,
   "id": "6f549788",
   "metadata": {},
   "outputs": [
    {
     "data": {
      "text/html": [
       "<div>\n",
       "<style scoped>\n",
       "    .dataframe tbody tr th:only-of-type {\n",
       "        vertical-align: middle;\n",
       "    }\n",
       "\n",
       "    .dataframe tbody tr th {\n",
       "        vertical-align: top;\n",
       "    }\n",
       "\n",
       "    .dataframe thead th {\n",
       "        text-align: right;\n",
       "    }\n",
       "</style>\n",
       "<table border=\"1\" class=\"dataframe\">\n",
       "  <thead>\n",
       "    <tr style=\"text-align: right;\">\n",
       "      <th></th>\n",
       "      <th>Results</th>\n",
       "      <th>pdq_values</th>\n",
       "    </tr>\n",
       "  </thead>\n",
       "  <tbody>\n",
       "    <tr>\n",
       "      <th>0</th>\n",
       "      <td>Col1</td>\n",
       "      <td>(1, 1, 0)</td>\n",
       "    </tr>\n",
       "    <tr>\n",
       "      <th>1</th>\n",
       "      <td>Col2</td>\n",
       "      <td>(2, 1, 1)</td>\n",
       "    </tr>\n",
       "    <tr>\n",
       "      <th>2</th>\n",
       "      <td>Col3</td>\n",
       "      <td>(1, 1, 1)</td>\n",
       "    </tr>\n",
       "  </tbody>\n",
       "</table>\n",
       "</div>"
      ],
      "text/plain": [
       "  Results pdq_values\n",
       "0    Col1  (1, 1, 0)\n",
       "1    Col2  (2, 1, 1)\n",
       "2    Col3  (1, 1, 1)"
      ]
     },
     "execution_count": 42,
     "metadata": {},
     "output_type": "execute_result"
    }
   ],
   "source": [
    "#Convert the list of tuples into entries from a single column\n",
    "df = pd.DataFrame({'pdq_values':l})\n",
    "\n",
    "#Change the index by adding 1, setting column name and prepending 'Col'\n",
    "df.index = 'Col' + (df.index.set_names('Results')+1).astype(str)\n",
    "\n",
    "#Reset index to get the index as a column in the df\n",
    "df = df.reset_index()\n",
    "\n",
    "df"
   ]
  },
  {
   "cell_type": "code",
   "execution_count": 38,
   "id": "9762fdaf",
   "metadata": {},
   "outputs": [
    {
     "data": {
      "text/plain": [
       "RangeIndex(start=1, stop=4, step=1, name='Results')"
      ]
     },
     "execution_count": 38,
     "metadata": {},
     "output_type": "execute_result"
    }
   ],
   "source": []
  },
  {
   "cell_type": "code",
   "execution_count": null,
   "id": "b9721162",
   "metadata": {},
   "outputs": [],
   "source": []
  },
  {
   "cell_type": "code",
   "execution_count": null,
   "id": "fac9ec1a",
   "metadata": {},
   "outputs": [],
   "source": []
  },
  {
   "cell_type": "code",
   "execution_count": null,
   "id": "40e2a3f7",
   "metadata": {},
   "outputs": [],
   "source": []
  },
  {
   "cell_type": "code",
   "execution_count": 2,
   "id": "d4e738bc",
   "metadata": {},
   "outputs": [],
   "source": [
    "import numpy as np"
   ]
  },
  {
   "cell_type": "code",
   "execution_count": 3,
   "id": "7b734b27",
   "metadata": {},
   "outputs": [],
   "source": [
    "a = np.array([['#define', 'name_1', '(value1) /*comment 1*/'],\n",
    "              ['#define', 'name_2', '(value2) /*comment 2*/'],\n",
    "              ['#define', 'name_3', '(value3) /*comment 3*/'],\n",
    "              ['#define', 'name_4', '(value4) /*comment 4*/']])"
   ]
  },
  {
   "cell_type": "code",
   "execution_count": 4,
   "id": "d0e51ec0",
   "metadata": {},
   "outputs": [
    {
     "data": {
      "text/plain": [
       "array([['#define', 'name_1', '(value1) /*comment 1*/'],\n",
       "       ['#define', 'name_2', '(value2) /*comment 2*/'],\n",
       "       ['#define', 'name_3', '(value3) /*comment 3*/'],\n",
       "       ['#define', 'name_4', '(value4) /*comment 4*/']], dtype='<U22')"
      ]
     },
     "execution_count": 4,
     "metadata": {},
     "output_type": "execute_result"
    }
   ],
   "source": [
    "a"
   ]
  },
  {
   "cell_type": "code",
   "execution_count": 15,
   "id": "b0cd09f0",
   "metadata": {},
   "outputs": [
    {
     "data": {
      "text/plain": [
       "array([8, 8, 8, 8])"
      ]
     },
     "execution_count": 15,
     "metadata": {},
     "output_type": "execute_result"
    }
   ],
   "source": [
    "np.char.(a[:,-1],' ',)"
   ]
  },
  {
   "cell_type": "code",
   "execution_count": 18,
   "id": "8780c2df",
   "metadata": {},
   "outputs": [
    {
     "data": {
      "text/plain": [
       "array([['#define', 'name_1', '(value1)'],\n",
       "       ['#define', 'name_2', '(value2)'],\n",
       "       ['#define', 'name_3', '(value3)'],\n",
       "       ['#define', 'name_4', '(value4)']], dtype='<U22')"
      ]
     },
     "execution_count": 18,
     "metadata": {},
     "output_type": "execute_result"
    }
   ],
   "source": [
    "a = np.array([['#define', 'name_1', '(value1) /*comment 1*/'],\n",
    "              ['#define', 'name_2', '(value2) /*comment 2*/'],\n",
    "              ['#define', 'name_3', '(value3) /*comment 3*/'],\n",
    "              ['#define', 'name_4', '(value4) /*comment 4*/']])\n",
    "\n",
    "a[:,-1] = a[:,-1].astype('<U8')\n",
    "\n",
    "a"
   ]
  },
  {
   "cell_type": "code",
   "execution_count": 19,
   "id": "712b6e19",
   "metadata": {},
   "outputs": [
    {
     "data": {
      "text/plain": [
       "array([['#define', 'name_1', '(value1)'],\n",
       "       ['#define', 'name_2', '(value2)'],\n",
       "       ['#define', 'name_3', '(value3)'],\n",
       "       ['#define', 'name_4', '(value4)']], dtype='<U8')"
      ]
     },
     "execution_count": 19,
     "metadata": {},
     "output_type": "execute_result"
    }
   ],
   "source": [
    "\n",
    "a.astype('<U8')"
   ]
  },
  {
   "cell_type": "code",
   "execution_count": 27,
   "id": "3a3f51f0",
   "metadata": {},
   "outputs": [
    {
     "data": {
      "text/plain": [
       "1.2635"
      ]
     },
     "execution_count": 27,
     "metadata": {},
     "output_type": "execute_result"
    }
   ],
   "source": []
  },
  {
   "cell_type": "code",
   "execution_count": 36,
   "id": "e606865b",
   "metadata": {},
   "outputs": [
    {
     "name": "stdout",
     "output_type": "stream",
     "text": [
      "8.03\n"
     ]
    }
   ],
   "source": [
    "import math\n",
    "\n",
    "def floor_rounded(n,d):\n",
    "    return math.floor(n*10**d)/10**d\n",
    "\n",
    "\n",
    "n = 8.04\n",
    "d = 2\n",
    "\n",
    "output = floor_rounded(n,d)\n",
    "print(output)"
   ]
  },
  {
   "cell_type": "code",
   "execution_count": 46,
   "id": "3812338e",
   "metadata": {},
   "outputs": [
    {
     "data": {
      "text/plain": [
       "8.04"
      ]
     },
     "execution_count": 46,
     "metadata": {},
     "output_type": "execute_result"
    }
   ],
   "source": [
    "#EDIT: Alternate approach, based on the comment by Mark Dickinson\n",
    "\n",
    "def string_rounded(n,d):\n",
    "    i,j = str(n).split('.')\n",
    "    return float(i+'.'+j[:d])\n",
    "n = 8.04\n",
    "d = 2\n",
    "\n",
    "output = string_rounded(n,d)\n",
    "output"
   ]
  },
  {
   "cell_type": "code",
   "execution_count": null,
   "id": "43671d99",
   "metadata": {},
   "outputs": [],
   "source": []
  },
  {
   "cell_type": "code",
   "execution_count": 35,
   "id": "a542c31d",
   "metadata": {},
   "outputs": [
    {
     "data": {
      "text/plain": [
       "8.03"
      ]
     },
     "execution_count": 35,
     "metadata": {},
     "output_type": "execute_result"
    }
   ],
   "source": [
    "floor_rounded(8.04, 2)"
   ]
  },
  {
   "cell_type": "code",
   "execution_count": 45,
   "id": "2e969954",
   "metadata": {},
   "outputs": [
    {
     "data": {
      "text/plain": [
       "8.04"
      ]
     },
     "execution_count": 45,
     "metadata": {},
     "output_type": "execute_result"
    }
   ],
   "source": []
  },
  {
   "cell_type": "code",
   "execution_count": null,
   "id": "3e16e2d4",
   "metadata": {},
   "outputs": [],
   "source": []
  },
  {
   "cell_type": "code",
   "execution_count": 30,
   "id": "68f2c5f7",
   "metadata": {},
   "outputs": [
    {
     "data": {
      "text/plain": [
       "'12635'"
      ]
     },
     "execution_count": 30,
     "metadata": {},
     "output_type": "execute_result"
    }
   ],
   "source": [
    "i, j = str(n).split('.')\n",
    "i+j[:d]"
   ]
  },
  {
   "cell_type": "code",
   "execution_count": null,
   "id": "52c624ee",
   "metadata": {},
   "outputs": [],
   "source": [
    "import math\n",
    "\n",
    "def floor_rounded(n,d):\n",
    "    str()\n",
    "    \n",
    "    return math.floor(n*10**d)/10**d"
   ]
  },
  {
   "cell_type": "code",
   "execution_count": 22,
   "id": "0b677fab",
   "metadata": {},
   "outputs": [],
   "source": [
    "from selenium import webdriver\n",
    "from selenium.webdriver.common.keys import Keys\n",
    "from selenium.webdriver.common.desired_capabilities import DesiredCapabilities"
   ]
  },
  {
   "cell_type": "code",
   "execution_count": 23,
   "id": "bd3397ca",
   "metadata": {},
   "outputs": [],
   "source": [
    "chrome_options = webdriver.ChromeOptions()\n",
    "#chrome_options.set_capability('browserless:token', 'YOUR-API-TOKEN')\n",
    "chrome_options.add_argument(\"--no-sandbox\")\n",
    "chrome_options.add_argument(\"--headless\")\n",
    "chrome_options.add_argument(\"--disable-dev-shm-usage\")"
   ]
  },
  {
   "cell_type": "code",
   "execution_count": 24,
   "id": "4558bdf9",
   "metadata": {},
   "outputs": [
    {
     "name": "stderr",
     "output_type": "stream",
     "text": [
      "/var/folders/ck/dvz0vpxx7fz95ld2btkqqvzw0000gn/T/ipykernel_30737/982601418.py:1: DeprecationWarning: desired_capabilities has been deprecated, please pass in an Options object with options kwarg\n",
      "  driver = webdriver.Remote(\n"
     ]
    },
    {
     "ename": "WebDriverException",
     "evalue": "Message: unknown error: Chrome failed to start: crashed.\n  (unknown error: DevToolsActivePort file doesn't exist)\n  (The process started from chrome location /usr/bin/google-chrome is no longer running, so ChromeDriver is assuming that Chrome has crashed.)\nStacktrace:\n#0 0x0040007e4552 <unknown>\n#1 0x004000775513 <unknown>\n#2 0x004000511b51 <unknown>\n#3 0x00400053869c <unknown>\n#4 0x00400053431a <unknown>\n#5 0x00400057417b <unknown>\n#6 0x00400056bed3 <unknown>\n#7 0x00400053ee84 <unknown>\n#8 0x00400054007e <unknown>\n#9 0x0040007a8191 <unknown>\n#10 0x0040007bc4ba <unknown>\n#11 0x0040007bbf1f <unknown>\n#12 0x0040007bcbe5 <unknown>\n#13 0x0040007a95da <unknown>\n#14 0x0040007bcf23 <unknown>\n#15 0x00400079ac8f <unknown>\n#16 0x0040007d7dc8 <unknown>\n#17 0x0040007d7ee7 <unknown>\n#18 0x0040007f1f4f <unknown>\n#19 0x004002b68b43 <unknown>\n#20 0x004002bf9bb4 clone\n",
     "output_type": "error",
     "traceback": [
      "\u001b[0;31m---------------------------------------------------------------------------\u001b[0m",
      "\u001b[0;31mWebDriverException\u001b[0m                        Traceback (most recent call last)",
      "Input \u001b[0;32mIn [24]\u001b[0m, in \u001b[0;36m<cell line: 1>\u001b[0;34m()\u001b[0m\n\u001b[0;32m----> 1\u001b[0m driver \u001b[38;5;241m=\u001b[39m \u001b[43mwebdriver\u001b[49m\u001b[38;5;241;43m.\u001b[39;49m\u001b[43mRemote\u001b[49m\u001b[43m(\u001b[49m\n\u001b[1;32m      2\u001b[0m \u001b[43m  \u001b[49m\u001b[43mcommand_executor\u001b[49m\u001b[38;5;241;43m=\u001b[39;49m\u001b[38;5;124;43m'\u001b[39;49m\u001b[38;5;124;43mhttp://localhost:3000/webdriver\u001b[39;49m\u001b[38;5;124;43m'\u001b[39;49m\u001b[43m,\u001b[49m\n\u001b[1;32m      3\u001b[0m \u001b[43m  \u001b[49m\u001b[43mdesired_capabilities\u001b[49m\u001b[38;5;241;43m=\u001b[39;49m\u001b[43mchrome_options\u001b[49m\u001b[38;5;241;43m.\u001b[39;49m\u001b[43mto_capabilities\u001b[49m\u001b[43m(\u001b[49m\u001b[43m)\u001b[49m\n\u001b[1;32m      4\u001b[0m \u001b[43m)\u001b[49m\n",
      "File \u001b[0;32m/opt/homebrew/Caskroom/miniforge/base/envs/graph_env/lib/python3.10/site-packages/selenium/webdriver/remote/webdriver.py:272\u001b[0m, in \u001b[0;36mWebDriver.__init__\u001b[0;34m(self, command_executor, desired_capabilities, browser_profile, proxy, keep_alive, file_detector, options)\u001b[0m\n\u001b[1;32m    270\u001b[0m \u001b[38;5;28mself\u001b[39m\u001b[38;5;241m.\u001b[39m_authenticator_id \u001b[38;5;241m=\u001b[39m \u001b[38;5;28;01mNone\u001b[39;00m\n\u001b[1;32m    271\u001b[0m \u001b[38;5;28mself\u001b[39m\u001b[38;5;241m.\u001b[39mstart_client()\n\u001b[0;32m--> 272\u001b[0m \u001b[38;5;28;43mself\u001b[39;49m\u001b[38;5;241;43m.\u001b[39;49m\u001b[43mstart_session\u001b[49m\u001b[43m(\u001b[49m\u001b[43mcapabilities\u001b[49m\u001b[43m,\u001b[49m\u001b[43m \u001b[49m\u001b[43mbrowser_profile\u001b[49m\u001b[43m)\u001b[49m\n",
      "File \u001b[0;32m/opt/homebrew/Caskroom/miniforge/base/envs/graph_env/lib/python3.10/site-packages/selenium/webdriver/remote/webdriver.py:364\u001b[0m, in \u001b[0;36mWebDriver.start_session\u001b[0;34m(self, capabilities, browser_profile)\u001b[0m\n\u001b[1;32m    362\u001b[0m w3c_caps \u001b[38;5;241m=\u001b[39m _make_w3c_caps(capabilities)\n\u001b[1;32m    363\u001b[0m parameters \u001b[38;5;241m=\u001b[39m {\u001b[38;5;124m\"\u001b[39m\u001b[38;5;124mcapabilities\u001b[39m\u001b[38;5;124m\"\u001b[39m: w3c_caps}\n\u001b[0;32m--> 364\u001b[0m response \u001b[38;5;241m=\u001b[39m \u001b[38;5;28;43mself\u001b[39;49m\u001b[38;5;241;43m.\u001b[39;49m\u001b[43mexecute\u001b[49m\u001b[43m(\u001b[49m\u001b[43mCommand\u001b[49m\u001b[38;5;241;43m.\u001b[39;49m\u001b[43mNEW_SESSION\u001b[49m\u001b[43m,\u001b[49m\u001b[43m \u001b[49m\u001b[43mparameters\u001b[49m\u001b[43m)\u001b[49m\n\u001b[1;32m    365\u001b[0m \u001b[38;5;28;01mif\u001b[39;00m \u001b[38;5;124m'\u001b[39m\u001b[38;5;124msessionId\u001b[39m\u001b[38;5;124m'\u001b[39m \u001b[38;5;129;01mnot\u001b[39;00m \u001b[38;5;129;01min\u001b[39;00m response:\n\u001b[1;32m    366\u001b[0m     response \u001b[38;5;241m=\u001b[39m response[\u001b[38;5;124m'\u001b[39m\u001b[38;5;124mvalue\u001b[39m\u001b[38;5;124m'\u001b[39m]\n",
      "File \u001b[0;32m/opt/homebrew/Caskroom/miniforge/base/envs/graph_env/lib/python3.10/site-packages/selenium/webdriver/remote/webdriver.py:429\u001b[0m, in \u001b[0;36mWebDriver.execute\u001b[0;34m(self, driver_command, params)\u001b[0m\n\u001b[1;32m    427\u001b[0m response \u001b[38;5;241m=\u001b[39m \u001b[38;5;28mself\u001b[39m\u001b[38;5;241m.\u001b[39mcommand_executor\u001b[38;5;241m.\u001b[39mexecute(driver_command, params)\n\u001b[1;32m    428\u001b[0m \u001b[38;5;28;01mif\u001b[39;00m response:\n\u001b[0;32m--> 429\u001b[0m     \u001b[38;5;28;43mself\u001b[39;49m\u001b[38;5;241;43m.\u001b[39;49m\u001b[43merror_handler\u001b[49m\u001b[38;5;241;43m.\u001b[39;49m\u001b[43mcheck_response\u001b[49m\u001b[43m(\u001b[49m\u001b[43mresponse\u001b[49m\u001b[43m)\u001b[49m\n\u001b[1;32m    430\u001b[0m     response[\u001b[38;5;124m'\u001b[39m\u001b[38;5;124mvalue\u001b[39m\u001b[38;5;124m'\u001b[39m] \u001b[38;5;241m=\u001b[39m \u001b[38;5;28mself\u001b[39m\u001b[38;5;241m.\u001b[39m_unwrap_value(\n\u001b[1;32m    431\u001b[0m         response\u001b[38;5;241m.\u001b[39mget(\u001b[38;5;124m'\u001b[39m\u001b[38;5;124mvalue\u001b[39m\u001b[38;5;124m'\u001b[39m, \u001b[38;5;28;01mNone\u001b[39;00m))\n\u001b[1;32m    432\u001b[0m     \u001b[38;5;28;01mreturn\u001b[39;00m response\n",
      "File \u001b[0;32m/opt/homebrew/Caskroom/miniforge/base/envs/graph_env/lib/python3.10/site-packages/selenium/webdriver/remote/errorhandler.py:243\u001b[0m, in \u001b[0;36mErrorHandler.check_response\u001b[0;34m(self, response)\u001b[0m\n\u001b[1;32m    241\u001b[0m         alert_text \u001b[38;5;241m=\u001b[39m value[\u001b[38;5;124m'\u001b[39m\u001b[38;5;124malert\u001b[39m\u001b[38;5;124m'\u001b[39m]\u001b[38;5;241m.\u001b[39mget(\u001b[38;5;124m'\u001b[39m\u001b[38;5;124mtext\u001b[39m\u001b[38;5;124m'\u001b[39m)\n\u001b[1;32m    242\u001b[0m     \u001b[38;5;28;01mraise\u001b[39;00m exception_class(message, screen, stacktrace, alert_text)  \u001b[38;5;66;03m# type: ignore[call-arg]  # mypy is not smart enough here\u001b[39;00m\n\u001b[0;32m--> 243\u001b[0m \u001b[38;5;28;01mraise\u001b[39;00m exception_class(message, screen, stacktrace)\n",
      "\u001b[0;31mWebDriverException\u001b[0m: Message: unknown error: Chrome failed to start: crashed.\n  (unknown error: DevToolsActivePort file doesn't exist)\n  (The process started from chrome location /usr/bin/google-chrome is no longer running, so ChromeDriver is assuming that Chrome has crashed.)\nStacktrace:\n#0 0x0040007e4552 <unknown>\n#1 0x004000775513 <unknown>\n#2 0x004000511b51 <unknown>\n#3 0x00400053869c <unknown>\n#4 0x00400053431a <unknown>\n#5 0x00400057417b <unknown>\n#6 0x00400056bed3 <unknown>\n#7 0x00400053ee84 <unknown>\n#8 0x00400054007e <unknown>\n#9 0x0040007a8191 <unknown>\n#10 0x0040007bc4ba <unknown>\n#11 0x0040007bbf1f <unknown>\n#12 0x0040007bcbe5 <unknown>\n#13 0x0040007a95da <unknown>\n#14 0x0040007bcf23 <unknown>\n#15 0x00400079ac8f <unknown>\n#16 0x0040007d7dc8 <unknown>\n#17 0x0040007d7ee7 <unknown>\n#18 0x0040007f1f4f <unknown>\n#19 0x004002b68b43 <unknown>\n#20 0x004002bf9bb4 clone\n"
     ]
    }
   ],
   "source": [
    "driver = webdriver.Remote(\n",
    "  command_executor='http://localhost:3000/webdriver',\n",
    "  desired_capabilities=chrome_options.to_capabilities()\n",
    ")"
   ]
  },
  {
   "cell_type": "code",
   "execution_count": null,
   "id": "ad6700bc",
   "metadata": {},
   "outputs": [],
   "source": [
    "driver.get(\"https://www.example.com\")\n",
    "print(driver.title)\n",
    "driver.quit()"
   ]
  },
  {
   "cell_type": "code",
   "execution_count": 21,
   "id": "051da642",
   "metadata": {},
   "outputs": [
    {
     "name": "stdout",
     "output_type": "stream",
     "text": [
      "Protocol error (Target.setAutoAttach): Target closed.\n"
     ]
    }
   ],
   "source": [
    "import requests\n",
    "\n",
    "url = 'http://localhost:3000/content'\n",
    "payload = {\"url\": \"https://example.com/\"}\n",
    "\n",
    "\n",
    "x = requests.post(url, json = payload)\n",
    "\n",
    "print(x.text)"
   ]
  },
  {
   "cell_type": "code",
   "execution_count": 25,
   "id": "22734784",
   "metadata": {},
   "outputs": [],
   "source": [
    "import pandas as pd"
   ]
  },
  {
   "cell_type": "code",
   "execution_count": 26,
   "id": "ac967fae",
   "metadata": {},
   "outputs": [
    {
     "data": {
      "text/html": [
       "<div>\n",
       "<style scoped>\n",
       "    .dataframe tbody tr th:only-of-type {\n",
       "        vertical-align: middle;\n",
       "    }\n",
       "\n",
       "    .dataframe tbody tr th {\n",
       "        vertical-align: top;\n",
       "    }\n",
       "\n",
       "    .dataframe thead th {\n",
       "        text-align: right;\n",
       "    }\n",
       "</style>\n",
       "<table border=\"1\" class=\"dataframe\">\n",
       "  <thead>\n",
       "    <tr style=\"text-align: right;\">\n",
       "      <th></th>\n",
       "      <th>Day</th>\n",
       "      <th>Status</th>\n",
       "      <th>Channel</th>\n",
       "      <th>Count</th>\n",
       "    </tr>\n",
       "  </thead>\n",
       "  <tbody>\n",
       "    <tr>\n",
       "      <th>0</th>\n",
       "      <td>2022-11-08</td>\n",
       "      <td>Delivered</td>\n",
       "      <td>SMS</td>\n",
       "      <td>288322</td>\n",
       "    </tr>\n",
       "    <tr>\n",
       "      <th>1</th>\n",
       "      <td>2022-11-08</td>\n",
       "      <td>Clicked</td>\n",
       "      <td>SMS</td>\n",
       "      <td>1132</td>\n",
       "    </tr>\n",
       "    <tr>\n",
       "      <th>2</th>\n",
       "      <td>2022-11-13</td>\n",
       "      <td>Delivered</td>\n",
       "      <td>SMS</td>\n",
       "      <td>246203</td>\n",
       "    </tr>\n",
       "    <tr>\n",
       "      <th>3</th>\n",
       "      <td>2022-11-13</td>\n",
       "      <td>Clicked</td>\n",
       "      <td>SMS</td>\n",
       "      <td>4684</td>\n",
       "    </tr>\n",
       "    <tr>\n",
       "      <th>4</th>\n",
       "      <td>2022-11-19</td>\n",
       "      <td>Delivered</td>\n",
       "      <td>SMS</td>\n",
       "      <td>154872</td>\n",
       "    </tr>\n",
       "    <tr>\n",
       "      <th>5</th>\n",
       "      <td>2022-11-19</td>\n",
       "      <td>Clicked</td>\n",
       "      <td>SMS</td>\n",
       "      <td>1222</td>\n",
       "    </tr>\n",
       "    <tr>\n",
       "      <th>6</th>\n",
       "      <td>2022-11-20</td>\n",
       "      <td>Delivered</td>\n",
       "      <td>SMS</td>\n",
       "      <td>253716</td>\n",
       "    </tr>\n",
       "    <tr>\n",
       "      <th>7</th>\n",
       "      <td>2022-11-20</td>\n",
       "      <td>Clicked</td>\n",
       "      <td>SMS</td>\n",
       "      <td>2384</td>\n",
       "    </tr>\n",
       "  </tbody>\n",
       "</table>\n",
       "</div>"
      ],
      "text/plain": [
       "          Day     Status Channel   Count\n",
       "0  2022-11-08  Delivered     SMS  288322\n",
       "1  2022-11-08    Clicked     SMS    1132\n",
       "2  2022-11-13  Delivered     SMS  246203\n",
       "3  2022-11-13    Clicked     SMS    4684\n",
       "4  2022-11-19  Delivered     SMS  154872\n",
       "5  2022-11-19    Clicked     SMS    1222\n",
       "6  2022-11-20  Delivered     SMS  253716\n",
       "7  2022-11-20    Clicked     SMS    2384"
      ]
     },
     "execution_count": 26,
     "metadata": {},
     "output_type": "execute_result"
    }
   ],
   "source": [
    "df = pd.read_clipboard()\n",
    "df"
   ]
  },
  {
   "cell_type": "code",
   "execution_count": 37,
   "id": "682d23e9",
   "metadata": {},
   "outputs": [
    {
     "name": "stdout",
     "output_type": "stream",
     "text": [
      "Status      Clicked  Delivered\n",
      "Day                           \n",
      "2022-11-08     1132     288322\n",
      "2022-11-13     4684     246203\n",
      "2022-11-19     1222     154872\n",
      "2022-11-20     2384     253716\n"
     ]
    }
   ],
   "source": [
    "\n",
    "print(stacked_df)\n",
    "\n",
    "\n",
    "Status      Clicked  Delivered\n",
    "Day                           \n",
    "2022-11-08     1132     288322\n",
    "2022-11-13     4684     246203\n",
    "2022-11-19     1222     154872\n",
    "2022-11-20     2384     253716"
   ]
  },
  {
   "cell_type": "code",
   "execution_count": 54,
   "id": "3bd75777",
   "metadata": {},
   "outputs": [
    {
     "name": "stdout",
     "output_type": "stream",
     "text": [
      "Status         Day  Clicked  Delivered     Ratio\n",
      "0       2022-11-08     1132     288322  0.003926\n",
      "1       2022-11-13     4684     246203  0.019025\n",
      "2       2022-11-19     1222     154872  0.007890\n",
      "3       2022-11-20     2384     253716  0.009396\n"
     ]
    }
   ],
   "source": [
    "g = df.groupby(['Day','Status'])['Count'].sum().unstack() #<-- Unstack status index\n",
    "g['Ratio'] = g['Clicked']/g['Delivered']                  #<-- Divide clicked & delivered\n",
    "g = g.reset_index()                                       #<-- Reset index\n",
    "print(g)"
   ]
  },
  {
   "cell_type": "code",
   "execution_count": 55,
   "id": "df1060ef",
   "metadata": {},
   "outputs": [
    {
     "name": "stdout",
     "output_type": "stream",
     "text": [
      "Status         Day  Clicked  Delivered     Ratio\n",
      "0       2022-11-08     1132     288322  0.003926\n",
      "1       2022-11-13     4684     246203  0.019025\n",
      "2       2022-11-19     1222     154872  0.007890\n",
      "3       2022-11-20     2384     253716  0.009396\n"
     ]
    }
   ],
   "source": [
    "s = df.set_index(['Day','Status'])['Count'].unstack() #<-- Unstack status index\n",
    "s['Ratio'] = s['Clicked']/s['Delivered']              #<-- Divide clicked & delivered\n",
    "s = s.reset_index()                                   #<-- Reset index\n",
    "print(s)"
   ]
  },
  {
   "cell_type": "code",
   "execution_count": null,
   "id": "2b6e21df",
   "metadata": {},
   "outputs": [],
   "source": []
  },
  {
   "cell_type": "code",
   "execution_count": null,
   "id": "6caa878b",
   "metadata": {},
   "outputs": [],
   "source": []
  },
  {
   "cell_type": "code",
   "execution_count": null,
   "id": "7af69cfd",
   "metadata": {},
   "outputs": [],
   "source": []
  },
  {
   "cell_type": "code",
   "execution_count": 72,
   "id": "c166b951",
   "metadata": {},
   "outputs": [
    {
     "name": "stdout",
     "output_type": "stream",
     "text": [
      "2\n",
      "1\n"
     ]
    }
   ],
   "source": [
    "class Name:\n",
    "    def __init__(self, first, last):\n",
    "        self.first = first\n",
    "        self.last = last\n",
    "\n",
    "class Pet:\n",
    "    def __init__(self, name, owner):\n",
    "        self.name = name\n",
    "        self.owner = owner           #<-- This should trigger something\n",
    "        self.owner.pets.append(self) #<-- Call add_pet function from Owner class\n",
    "        \n",
    "class Owner:\n",
    "    def __init__(self, name):\n",
    "        self.name = name\n",
    "        self.pets = []\n",
    "\n",
    "\n",
    "owner_1 = Owner(Name(\"David\", \"Joyner\"))\n",
    "owner_2 = Owner(Name(\"Audrey\", \"Hepburn\"))\n",
    "\n",
    "pet_1 = Pet(Name(\"Boggle\", \"Joyner\"), owner_1)\n",
    "pet_2 = Pet(Name(\"Artemis\", \"Joyner\"), owner_1)\n",
    "pet_3 = Pet(Name(\"Pippin\", \"Hepburn\"), owner_2)\n",
    "\n",
    "print(len(owner_1.pets))\n",
    "print(len(owner_2.pets))"
   ]
  },
  {
   "cell_type": "code",
   "execution_count": 65,
   "id": "3380622e",
   "metadata": {},
   "outputs": [
    {
     "name": "stdout",
     "output_type": "stream",
     "text": [
      "{'name': <__main__.Name object at 0x145534ac0>, 'pets': []}\n",
      "{'name': <__main__.Name object at 0x145534790>, 'pets': []}\n"
     ]
    }
   ],
   "source": [
    "print(owner_1.__dict__)\n",
    "print(owner_2.__dict__)"
   ]
  },
  {
   "cell_type": "code",
   "execution_count": 68,
   "id": "64e66519",
   "metadata": {},
   "outputs": [
    {
     "name": "stdout",
     "output_type": "stream",
     "text": [
      "{'name': <__main__.Name object at 0x145535f60>, 'pets': [<__main__.Pet object at 0x145537e20>, <__main__.Pet object at 0x145536a40>]}\n",
      "{'name': <__main__.Name object at 0x145537580>, 'pets': [<__main__.Pet object at 0x145537fd0>]}\n"
     ]
    }
   ],
   "source": [
    "print(owner_1.__dict__)\n",
    "print(owner_2.__dict__)"
   ]
  },
  {
   "cell_type": "code",
   "execution_count": 74,
   "id": "544849f0",
   "metadata": {},
   "outputs": [
    {
     "name": "stdout",
     "output_type": "stream",
     "text": [
      "BEFORE DEFINING PETS\n",
      "{'name': <__main__.Name object at 0x145542590>, 'pets': []}\n",
      "{'name': <__main__.Name object at 0x145541e10>, 'pets': []}\n",
      "\n",
      "ADDING PET 1\n",
      "{'name': <__main__.Name object at 0x145542590>, 'pets': [<__main__.Pet object at 0x145543d30>]}\n",
      "{'name': <__main__.Name object at 0x145541e10>, 'pets': []}\n",
      "\n",
      "ADDING PET 2\n",
      "{'name': <__main__.Name object at 0x145542590>, 'pets': [<__main__.Pet object at 0x145543d30>, <__main__.Pet object at 0x1433aada0>]}\n",
      "{'name': <__main__.Name object at 0x145541e10>, 'pets': []}\n",
      "\n",
      "ADDING PET 3\n",
      "{'name': <__main__.Name object at 0x145542590>, 'pets': [<__main__.Pet object at 0x145543d30>, <__main__.Pet object at 0x1433aada0>]}\n",
      "{'name': <__main__.Name object at 0x145541e10>, 'pets': [<__main__.Pet object at 0x145539c00>]}\n"
     ]
    }
   ],
   "source": [
    "owner_1 = Owner(Name(\"David\", \"Joyner\"))\n",
    "owner_2 = Owner(Name(\"Audrey\", \"Hepburn\"))\n",
    "print('BEFORE DEFINING PETS')\n",
    "print(owner_1.__dict__)\n",
    "print(owner_2.__dict__)\n",
    "print('')\n",
    "\n",
    "pet_1 = Pet(Name(\"Boggle\", \"Joyner\"), owner_1)\n",
    "print('ADDING PET 1')\n",
    "print(owner_1.__dict__)\n",
    "print(owner_2.__dict__)\n",
    "print('')\n",
    "\n",
    "\n",
    "pet_2 = Pet(Name(\"Artemis\", \"Joyner\"), owner_1)\n",
    "print('ADDING PET 2')\n",
    "print(owner_1.__dict__)\n",
    "print(owner_2.__dict__)\n",
    "print('')\n",
    "\n",
    "pet_3 = Pet(Name(\"Pippin\", \"Hepburn\"), owner_2)\n",
    "print('ADDING PET 3')\n",
    "print(owner_1.__dict__)\n",
    "print(owner_2.__dict__)"
   ]
  },
  {
   "cell_type": "code",
   "execution_count": null,
   "id": "86163c14",
   "metadata": {},
   "outputs": [],
   "source": []
  },
  {
   "cell_type": "code",
   "execution_count": 78,
   "id": "194cb823",
   "metadata": {},
   "outputs": [],
   "source": [
    "fhlist = [['BzRmmzZHzVBzgVQmZ'],['efmt']]\n",
    "shlist = [['LPtqqffPqWqJmPLlL'], ['abcm']]"
   ]
  },
  {
   "cell_type": "code",
   "execution_count": 79,
   "id": "94523470",
   "metadata": {},
   "outputs": [],
   "source": [
    "found = []\n",
    "for i in range(len(fhlist)):\n",
    "    for char in fhlist[i]:\n",
    "        if char in shlist[i]:\n",
    "            found.append(char)"
   ]
  },
  {
   "cell_type": "code",
   "execution_count": 80,
   "id": "b5df5a6e",
   "metadata": {},
   "outputs": [
    {
     "data": {
      "text/plain": [
       "[]"
      ]
     },
     "execution_count": 80,
     "metadata": {},
     "output_type": "execute_result"
    }
   ],
   "source": [
    "found"
   ]
  },
  {
   "cell_type": "code",
   "execution_count": 90,
   "id": "3ab2a801",
   "metadata": {},
   "outputs": [
    {
     "data": {
      "text/plain": [
       "[['m'], ['m']]"
      ]
     },
     "execution_count": 90,
     "metadata": {},
     "output_type": "execute_result"
    }
   ],
   "source": [
    "[list(set(f[0]).intersection(s[0])) for f,s in zip(fhlist, shlist)]"
   ]
  },
  {
   "cell_type": "code",
   "execution_count": null,
   "id": "06ed6a44",
   "metadata": {},
   "outputs": [],
   "source": []
  },
  {
   "cell_type": "code",
   "execution_count": null,
   "id": "c31a642a",
   "metadata": {},
   "outputs": [],
   "source": []
  },
  {
   "cell_type": "code",
   "execution_count": 96,
   "id": "dc1c8471",
   "metadata": {},
   "outputs": [
    {
     "data": {
      "text/html": [
       "<div>\n",
       "<style scoped>\n",
       "    .dataframe tbody tr th:only-of-type {\n",
       "        vertical-align: middle;\n",
       "    }\n",
       "\n",
       "    .dataframe tbody tr th {\n",
       "        vertical-align: top;\n",
       "    }\n",
       "\n",
       "    .dataframe thead th {\n",
       "        text-align: right;\n",
       "    }\n",
       "</style>\n",
       "<table border=\"1\" class=\"dataframe\">\n",
       "  <thead>\n",
       "    <tr style=\"text-align: right;\">\n",
       "      <th></th>\n",
       "      <th>Sunday</th>\n",
       "      <th>Monday</th>\n",
       "      <th>Tuesday</th>\n",
       "      <th>Wednesday</th>\n",
       "      <th>Thursday</th>\n",
       "      <th>Friday</th>\n",
       "      <th>Saturday</th>\n",
       "    </tr>\n",
       "  </thead>\n",
       "  <tbody>\n",
       "    <tr>\n",
       "      <th>January</th>\n",
       "      <td>2021-12-26</td>\n",
       "      <td>2021-12-27</td>\n",
       "      <td>2021-12-28</td>\n",
       "      <td>2021-12-29</td>\n",
       "      <td>2021-12-30</td>\n",
       "      <td>2021-12-31</td>\n",
       "      <td>2022-01-01</td>\n",
       "    </tr>\n",
       "    <tr>\n",
       "      <th>January</th>\n",
       "      <td>2022-01-02</td>\n",
       "      <td>2022-01-03</td>\n",
       "      <td>2022-01-04</td>\n",
       "      <td>2022-01-05</td>\n",
       "      <td>2022-01-06</td>\n",
       "      <td>2022-01-07</td>\n",
       "      <td>2022-01-08</td>\n",
       "    </tr>\n",
       "    <tr>\n",
       "      <th>January</th>\n",
       "      <td>2022-01-09</td>\n",
       "      <td>2022-01-10</td>\n",
       "      <td>2022-01-11</td>\n",
       "      <td>2022-01-12</td>\n",
       "      <td>2022-01-13</td>\n",
       "      <td>2022-01-14</td>\n",
       "      <td>2022-01-15</td>\n",
       "    </tr>\n",
       "    <tr>\n",
       "      <th>January</th>\n",
       "      <td>2022-01-16</td>\n",
       "      <td>2022-01-17</td>\n",
       "      <td>2022-01-18</td>\n",
       "      <td>2022-01-19</td>\n",
       "      <td>2022-01-20</td>\n",
       "      <td>2022-01-21</td>\n",
       "      <td>2022-01-22</td>\n",
       "    </tr>\n",
       "    <tr>\n",
       "      <th>January</th>\n",
       "      <td>2022-01-23</td>\n",
       "      <td>2022-01-24</td>\n",
       "      <td>2022-01-25</td>\n",
       "      <td>2022-01-26</td>\n",
       "      <td>2022-01-27</td>\n",
       "      <td>2022-01-28</td>\n",
       "      <td>2022-01-29</td>\n",
       "    </tr>\n",
       "    <tr>\n",
       "      <th>February</th>\n",
       "      <td>2022-01-30</td>\n",
       "      <td>2022-01-31</td>\n",
       "      <td>2022-02-01</td>\n",
       "      <td>2022-02-02</td>\n",
       "      <td>2022-02-03</td>\n",
       "      <td>2022-02-04</td>\n",
       "      <td>2022-02-05</td>\n",
       "    </tr>\n",
       "    <tr>\n",
       "      <th>February</th>\n",
       "      <td>2022-02-06</td>\n",
       "      <td>2022-02-07</td>\n",
       "      <td>2022-02-08</td>\n",
       "      <td>2022-02-09</td>\n",
       "      <td>2022-02-10</td>\n",
       "      <td>2022-02-11</td>\n",
       "      <td>2022-02-12</td>\n",
       "    </tr>\n",
       "    <tr>\n",
       "      <th>February</th>\n",
       "      <td>2022-02-13</td>\n",
       "      <td>2022-02-14</td>\n",
       "      <td>2022-02-15</td>\n",
       "      <td>2022-02-16</td>\n",
       "      <td>2022-02-17</td>\n",
       "      <td>2022-02-18</td>\n",
       "      <td>2022-02-19</td>\n",
       "    </tr>\n",
       "    <tr>\n",
       "      <th>February</th>\n",
       "      <td>2022-02-20</td>\n",
       "      <td>2022-02-21</td>\n",
       "      <td>2022-02-22</td>\n",
       "      <td>2022-02-23</td>\n",
       "      <td>2022-02-24</td>\n",
       "      <td>2022-02-25</td>\n",
       "      <td>2022-02-26</td>\n",
       "    </tr>\n",
       "    <tr>\n",
       "      <th>March</th>\n",
       "      <td>2022-02-27</td>\n",
       "      <td>2022-02-28</td>\n",
       "      <td>2022-03-01</td>\n",
       "      <td>2022-03-02</td>\n",
       "      <td>2022-03-03</td>\n",
       "      <td>2022-03-04</td>\n",
       "      <td>2022-03-05</td>\n",
       "    </tr>\n",
       "    <tr>\n",
       "      <th>March</th>\n",
       "      <td>2022-03-06</td>\n",
       "      <td>2022-03-07</td>\n",
       "      <td>2022-03-08</td>\n",
       "      <td>2022-03-09</td>\n",
       "      <td>2022-03-10</td>\n",
       "      <td>2022-03-11</td>\n",
       "      <td>2022-03-12</td>\n",
       "    </tr>\n",
       "    <tr>\n",
       "      <th>March</th>\n",
       "      <td>2022-03-13</td>\n",
       "      <td>2022-03-14</td>\n",
       "      <td>2022-03-15</td>\n",
       "      <td>2022-03-16</td>\n",
       "      <td>2022-03-17</td>\n",
       "      <td>2022-03-18</td>\n",
       "      <td>2022-03-19</td>\n",
       "    </tr>\n",
       "    <tr>\n",
       "      <th>March</th>\n",
       "      <td>2022-03-20</td>\n",
       "      <td>2022-03-21</td>\n",
       "      <td>2022-03-22</td>\n",
       "      <td>2022-03-23</td>\n",
       "      <td>2022-03-24</td>\n",
       "      <td>2022-03-25</td>\n",
       "      <td>2022-03-26</td>\n",
       "    </tr>\n",
       "    <tr>\n",
       "      <th>April</th>\n",
       "      <td>2022-03-27</td>\n",
       "      <td>2022-03-28</td>\n",
       "      <td>2022-03-29</td>\n",
       "      <td>2022-03-30</td>\n",
       "      <td>2022-03-31</td>\n",
       "      <td>2022-04-01</td>\n",
       "      <td>2022-04-02</td>\n",
       "    </tr>\n",
       "    <tr>\n",
       "      <th>April</th>\n",
       "      <td>2022-04-03</td>\n",
       "      <td>2022-04-04</td>\n",
       "      <td>2022-04-05</td>\n",
       "      <td>2022-04-06</td>\n",
       "      <td>2022-04-07</td>\n",
       "      <td>2022-04-08</td>\n",
       "      <td>2022-04-09</td>\n",
       "    </tr>\n",
       "  </tbody>\n",
       "</table>\n",
       "</div>"
      ],
      "text/plain": [
       "             Sunday     Monday    Tuesday  Wednesday   Thursday     Friday  \\\n",
       "January  2021-12-26 2021-12-27 2021-12-28 2021-12-29 2021-12-30 2021-12-31   \n",
       "January  2022-01-02 2022-01-03 2022-01-04 2022-01-05 2022-01-06 2022-01-07   \n",
       "January  2022-01-09 2022-01-10 2022-01-11 2022-01-12 2022-01-13 2022-01-14   \n",
       "January  2022-01-16 2022-01-17 2022-01-18 2022-01-19 2022-01-20 2022-01-21   \n",
       "January  2022-01-23 2022-01-24 2022-01-25 2022-01-26 2022-01-27 2022-01-28   \n",
       "February 2022-01-30 2022-01-31 2022-02-01 2022-02-02 2022-02-03 2022-02-04   \n",
       "February 2022-02-06 2022-02-07 2022-02-08 2022-02-09 2022-02-10 2022-02-11   \n",
       "February 2022-02-13 2022-02-14 2022-02-15 2022-02-16 2022-02-17 2022-02-18   \n",
       "February 2022-02-20 2022-02-21 2022-02-22 2022-02-23 2022-02-24 2022-02-25   \n",
       "March    2022-02-27 2022-02-28 2022-03-01 2022-03-02 2022-03-03 2022-03-04   \n",
       "March    2022-03-06 2022-03-07 2022-03-08 2022-03-09 2022-03-10 2022-03-11   \n",
       "March    2022-03-13 2022-03-14 2022-03-15 2022-03-16 2022-03-17 2022-03-18   \n",
       "March    2022-03-20 2022-03-21 2022-03-22 2022-03-23 2022-03-24 2022-03-25   \n",
       "April    2022-03-27 2022-03-28 2022-03-29 2022-03-30 2022-03-31 2022-04-01   \n",
       "April    2022-04-03 2022-04-04 2022-04-05 2022-04-06 2022-04-07 2022-04-08   \n",
       "\n",
       "           Saturday  \n",
       "January  2022-01-01  \n",
       "January  2022-01-08  \n",
       "January  2022-01-15  \n",
       "January  2022-01-22  \n",
       "January  2022-01-29  \n",
       "February 2022-02-05  \n",
       "February 2022-02-12  \n",
       "February 2022-02-19  \n",
       "February 2022-02-26  \n",
       "March    2022-03-05  \n",
       "March    2022-03-12  \n",
       "March    2022-03-19  \n",
       "March    2022-03-26  \n",
       "April    2022-04-02  \n",
       "April    2022-04-09  "
      ]
     },
     "execution_count": 96,
     "metadata": {},
     "output_type": "execute_result"
    }
   ],
   "source": [
    "calender = pd.read_clipboard()\n",
    "calender = calender.apply(pd.to_datetime, axis=0)\n",
    "calender"
   ]
  },
  {
   "cell_type": "code",
   "execution_count": 106,
   "id": "9f78c374",
   "metadata": {},
   "outputs": [
    {
     "data": {
      "text/plain": [
       "January     False\n",
       "January     False\n",
       "January     False\n",
       "January     False\n",
       "January     False\n",
       "February    False\n",
       "February    False\n",
       "February    False\n",
       "February    False\n",
       "March       False\n",
       "March       False\n",
       "March       False\n",
       "March       False\n",
       "April       False\n",
       "April       False\n",
       "dtype: bool"
      ]
     },
     "execution_count": 106,
     "metadata": {},
     "output_type": "execute_result"
    }
   ],
   "source": [
    "conditions = calender.apply(lambda x: (x.dt.year != 2022) & (x.dt.month != 2), axis=0)\n",
    "conditions.all(1)"
   ]
  },
  {
   "cell_type": "code",
   "execution_count": null,
   "id": "451240ad",
   "metadata": {},
   "outputs": [],
   "source": []
  },
  {
   "cell_type": "code",
   "execution_count": 107,
   "id": "75b53ca9",
   "metadata": {},
   "outputs": [
    {
     "data": {
      "text/html": [
       "<div>\n",
       "<style scoped>\n",
       "    .dataframe tbody tr th:only-of-type {\n",
       "        vertical-align: middle;\n",
       "    }\n",
       "\n",
       "    .dataframe tbody tr th {\n",
       "        vertical-align: top;\n",
       "    }\n",
       "\n",
       "    .dataframe thead th {\n",
       "        text-align: right;\n",
       "    }\n",
       "</style>\n",
       "<table border=\"1\" class=\"dataframe\">\n",
       "  <thead>\n",
       "    <tr style=\"text-align: right;\">\n",
       "      <th></th>\n",
       "      <th>Sunday</th>\n",
       "      <th>Monday</th>\n",
       "      <th>Tuesday</th>\n",
       "      <th>Wednesday</th>\n",
       "      <th>Thursday</th>\n",
       "      <th>Friday</th>\n",
       "      <th>Saturday</th>\n",
       "    </tr>\n",
       "  </thead>\n",
       "  <tbody>\n",
       "    <tr>\n",
       "      <th>January</th>\n",
       "      <td>2021-12-26</td>\n",
       "      <td>2021-12-27</td>\n",
       "      <td>2021-12-28</td>\n",
       "      <td>2021-12-29</td>\n",
       "      <td>2021-12-30</td>\n",
       "      <td>2021-12-31</td>\n",
       "      <td>2022-01-01</td>\n",
       "    </tr>\n",
       "    <tr>\n",
       "      <th>January</th>\n",
       "      <td>2022-01-02</td>\n",
       "      <td>2022-01-03</td>\n",
       "      <td>2022-01-04</td>\n",
       "      <td>2022-01-05</td>\n",
       "      <td>2022-01-06</td>\n",
       "      <td>2022-01-07</td>\n",
       "      <td>2022-01-08</td>\n",
       "    </tr>\n",
       "    <tr>\n",
       "      <th>January</th>\n",
       "      <td>2022-01-09</td>\n",
       "      <td>2022-01-10</td>\n",
       "      <td>2022-01-11</td>\n",
       "      <td>2022-01-12</td>\n",
       "      <td>2022-01-13</td>\n",
       "      <td>2022-01-14</td>\n",
       "      <td>2022-01-15</td>\n",
       "    </tr>\n",
       "    <tr>\n",
       "      <th>January</th>\n",
       "      <td>2022-01-16</td>\n",
       "      <td>2022-01-17</td>\n",
       "      <td>2022-01-18</td>\n",
       "      <td>2022-01-19</td>\n",
       "      <td>2022-01-20</td>\n",
       "      <td>2022-01-21</td>\n",
       "      <td>2022-01-22</td>\n",
       "    </tr>\n",
       "    <tr>\n",
       "      <th>January</th>\n",
       "      <td>2022-01-23</td>\n",
       "      <td>2022-01-24</td>\n",
       "      <td>2022-01-25</td>\n",
       "      <td>2022-01-26</td>\n",
       "      <td>2022-01-27</td>\n",
       "      <td>2022-01-28</td>\n",
       "      <td>2022-01-29</td>\n",
       "    </tr>\n",
       "    <tr>\n",
       "      <th>February</th>\n",
       "      <td>2022-01-30</td>\n",
       "      <td>2022-01-31</td>\n",
       "      <td>2022-02-01</td>\n",
       "      <td>2022-02-02</td>\n",
       "      <td>2022-02-03</td>\n",
       "      <td>2022-02-04</td>\n",
       "      <td>2022-02-05</td>\n",
       "    </tr>\n",
       "    <tr>\n",
       "      <th>February</th>\n",
       "      <td>2022-02-06</td>\n",
       "      <td>2022-02-07</td>\n",
       "      <td>2022-02-08</td>\n",
       "      <td>2022-02-09</td>\n",
       "      <td>2022-02-10</td>\n",
       "      <td>2022-02-11</td>\n",
       "      <td>2022-02-12</td>\n",
       "    </tr>\n",
       "    <tr>\n",
       "      <th>February</th>\n",
       "      <td>2022-02-13</td>\n",
       "      <td>2022-02-14</td>\n",
       "      <td>2022-02-15</td>\n",
       "      <td>2022-02-16</td>\n",
       "      <td>2022-02-17</td>\n",
       "      <td>2022-02-18</td>\n",
       "      <td>2022-02-19</td>\n",
       "    </tr>\n",
       "    <tr>\n",
       "      <th>February</th>\n",
       "      <td>2022-02-20</td>\n",
       "      <td>2022-02-21</td>\n",
       "      <td>2022-02-22</td>\n",
       "      <td>2022-02-23</td>\n",
       "      <td>2022-02-24</td>\n",
       "      <td>2022-02-25</td>\n",
       "      <td>2022-02-26</td>\n",
       "    </tr>\n",
       "    <tr>\n",
       "      <th>March</th>\n",
       "      <td>2022-02-27</td>\n",
       "      <td>2022-02-28</td>\n",
       "      <td>2022-03-01</td>\n",
       "      <td>2022-03-02</td>\n",
       "      <td>2022-03-03</td>\n",
       "      <td>2022-03-04</td>\n",
       "      <td>2022-03-05</td>\n",
       "    </tr>\n",
       "    <tr>\n",
       "      <th>March</th>\n",
       "      <td>2022-03-06</td>\n",
       "      <td>2022-03-07</td>\n",
       "      <td>2022-03-08</td>\n",
       "      <td>2022-03-09</td>\n",
       "      <td>2022-03-10</td>\n",
       "      <td>2022-03-11</td>\n",
       "      <td>2022-03-12</td>\n",
       "    </tr>\n",
       "    <tr>\n",
       "      <th>March</th>\n",
       "      <td>2022-03-13</td>\n",
       "      <td>2022-03-14</td>\n",
       "      <td>2022-03-15</td>\n",
       "      <td>2022-03-16</td>\n",
       "      <td>2022-03-17</td>\n",
       "      <td>2022-03-18</td>\n",
       "      <td>2022-03-19</td>\n",
       "    </tr>\n",
       "    <tr>\n",
       "      <th>March</th>\n",
       "      <td>2022-03-20</td>\n",
       "      <td>2022-03-21</td>\n",
       "      <td>2022-03-22</td>\n",
       "      <td>2022-03-23</td>\n",
       "      <td>2022-03-24</td>\n",
       "      <td>2022-03-25</td>\n",
       "      <td>2022-03-26</td>\n",
       "    </tr>\n",
       "    <tr>\n",
       "      <th>April</th>\n",
       "      <td>2022-03-27</td>\n",
       "      <td>2022-03-28</td>\n",
       "      <td>2022-03-29</td>\n",
       "      <td>2022-03-30</td>\n",
       "      <td>2022-03-31</td>\n",
       "      <td>2022-04-01</td>\n",
       "      <td>2022-04-02</td>\n",
       "    </tr>\n",
       "    <tr>\n",
       "      <th>April</th>\n",
       "      <td>2022-04-03</td>\n",
       "      <td>2022-04-04</td>\n",
       "      <td>2022-04-05</td>\n",
       "      <td>2022-04-06</td>\n",
       "      <td>2022-04-07</td>\n",
       "      <td>2022-04-08</td>\n",
       "      <td>2022-04-09</td>\n",
       "    </tr>\n",
       "  </tbody>\n",
       "</table>\n",
       "</div>"
      ],
      "text/plain": [
       "              Sunday      Monday     Tuesday   Wednesday    Thursday  \\\n",
       "January   2021-12-26  2021-12-27  2021-12-28  2021-12-29  2021-12-30   \n",
       "January   2022-01-02  2022-01-03  2022-01-04  2022-01-05  2022-01-06   \n",
       "January   2022-01-09  2022-01-10  2022-01-11  2022-01-12  2022-01-13   \n",
       "January   2022-01-16  2022-01-17  2022-01-18  2022-01-19  2022-01-20   \n",
       "January   2022-01-23  2022-01-24  2022-01-25  2022-01-26  2022-01-27   \n",
       "February  2022-01-30  2022-01-31  2022-02-01  2022-02-02  2022-02-03   \n",
       "February  2022-02-06  2022-02-07  2022-02-08  2022-02-09  2022-02-10   \n",
       "February  2022-02-13  2022-02-14  2022-02-15  2022-02-16  2022-02-17   \n",
       "February  2022-02-20  2022-02-21  2022-02-22  2022-02-23  2022-02-24   \n",
       "March     2022-02-27  2022-02-28  2022-03-01  2022-03-02  2022-03-03   \n",
       "March     2022-03-06  2022-03-07  2022-03-08  2022-03-09  2022-03-10   \n",
       "March     2022-03-13  2022-03-14  2022-03-15  2022-03-16  2022-03-17   \n",
       "March     2022-03-20  2022-03-21  2022-03-22  2022-03-23  2022-03-24   \n",
       "April     2022-03-27  2022-03-28  2022-03-29  2022-03-30  2022-03-31   \n",
       "April     2022-04-03  2022-04-04  2022-04-05  2022-04-06  2022-04-07   \n",
       "\n",
       "              Friday    Saturday  \n",
       "January   2021-12-31  2022-01-01  \n",
       "January   2022-01-07  2022-01-08  \n",
       "January   2022-01-14  2022-01-15  \n",
       "January   2022-01-21  2022-01-22  \n",
       "January   2022-01-28  2022-01-29  \n",
       "February  2022-02-04  2022-02-05  \n",
       "February  2022-02-11  2022-02-12  \n",
       "February  2022-02-18  2022-02-19  \n",
       "February  2022-02-25  2022-02-26  \n",
       "March     2022-03-04  2022-03-05  \n",
       "March     2022-03-11  2022-03-12  \n",
       "March     2022-03-18  2022-03-19  \n",
       "March     2022-03-25  2022-03-26  \n",
       "April     2022-04-01  2022-04-02  \n",
       "April     2022-04-08  2022-04-09  "
      ]
     },
     "execution_count": 107,
     "metadata": {},
     "output_type": "execute_result"
    }
   ],
   "source": [
    "calender = pd.read_clipboard()\n",
    "calender"
   ]
  },
  {
   "cell_type": "code",
   "execution_count": 119,
   "id": "02b62ca2",
   "metadata": {},
   "outputs": [
    {
     "name": "stdout",
     "output_type": "stream",
     "text": [
      "              Sunday      Monday     Tuesday   Wednesday    Thursday  \\\n",
      "February  2022-01-30  2022-01-31  2022-02-01  2022-02-02  2022-02-03   \n",
      "February  2022-02-06  2022-02-07  2022-02-08  2022-02-09  2022-02-10   \n",
      "February  2022-02-13  2022-02-14  2022-02-15  2022-02-16  2022-02-17   \n",
      "February  2022-02-20  2022-02-21  2022-02-22  2022-02-23  2022-02-24   \n",
      "March     2022-02-27  2022-02-28  2022-03-01  2022-03-02  2022-03-03   \n",
      "\n",
      "              Friday    Saturday  \n",
      "February  2022-02-04  2022-02-05  \n",
      "February  2022-02-11  2022-02-12  \n",
      "February  2022-02-18  2022-02-19  \n",
      "February  2022-02-25  2022-02-26  \n",
      "March     2022-03-04  2022-03-05  \n"
     ]
    }
   ],
   "source": [
    "print(calender[calender.apply(lambda row: row.str.find('2022-02')>=0).any(1)])"
   ]
  },
  {
   "cell_type": "code",
   "execution_count": 207,
   "id": "7a6594f5",
   "metadata": {},
   "outputs": [],
   "source": [
    "sample_list_of_dicts = [\n",
    "    { 'group1': { 'item1': 'value1', 'item2': 'value2' } },\n",
    "    { 'group1': { 'item1': 'value3', 'item2': 'value4' } }\n",
    "]\n",
    "\n",
    "df = pd.json_normalize(sample_list_of_dicts)"
   ]
  },
  {
   "cell_type": "code",
   "execution_count": 208,
   "id": "5624360e",
   "metadata": {},
   "outputs": [
    {
     "data": {
      "text/plain": [
       "[{'group1': {'item1': 'value1', 'item2': 'value2'}},\n",
       " {'group1': {'item1': 'value3', 'item2': 'value4'}}]"
      ]
     },
     "execution_count": 208,
     "metadata": {},
     "output_type": "execute_result"
    }
   ],
   "source": [
    "#Expand columns to multi-index\n",
    "df.columns = df.columns.str.split('.', expand=True)\n",
    "\n",
    "#Iterate the highest level and convert records to dict\n",
    "output = [{k:j} for k in df.columns.levels[0] for j in df[k].to_dict('records')]\n",
    "output\n",
    "\n",
    "[{'group1': {'item1': 'value1', 'item2': 'value2'}},\n",
    " {'group1': {'item1': 'value3', 'item2': 'value4'}}]"
   ]
  },
  {
   "cell_type": "code",
   "execution_count": 150,
   "id": "b586aa6d",
   "metadata": {},
   "outputs": [
    {
     "data": {
      "text/plain": [
       "'{\"group1.item1\":{\"0\":\"value1\",\"1\":\"value3\"},\"group1.item2\":{\"0\":\"value2\",\"1\":\"value4\"}}'"
      ]
     },
     "execution_count": 150,
     "metadata": {},
     "output_type": "execute_result"
    }
   ],
   "source": [
    "df.to_json(orient='columns')"
   ]
  },
  {
   "cell_type": "code",
   "execution_count": 203,
   "id": "1c1e88f3",
   "metadata": {},
   "outputs": [
    {
     "ename": "AttributeError",
     "evalue": "Can only use .str accessor with Index, not MultiIndex",
     "output_type": "error",
     "traceback": [
      "\u001b[0;31m---------------------------------------------------------------------------\u001b[0m",
      "\u001b[0;31mAttributeError\u001b[0m                            Traceback (most recent call last)",
      "Input \u001b[0;32mIn [203]\u001b[0m, in \u001b[0;36m<cell line: 1>\u001b[0;34m()\u001b[0m\n\u001b[0;32m----> 1\u001b[0m df\u001b[38;5;241m.\u001b[39mcolumns \u001b[38;5;241m=\u001b[39m \u001b[43mdf\u001b[49m\u001b[38;5;241;43m.\u001b[39;49m\u001b[43mcolumns\u001b[49m\u001b[38;5;241;43m.\u001b[39;49m\u001b[43mstr\u001b[49m\u001b[38;5;241m.\u001b[39msplit(\u001b[38;5;124m'\u001b[39m\u001b[38;5;124m.\u001b[39m\u001b[38;5;124m'\u001b[39m, expand\u001b[38;5;241m=\u001b[39m\u001b[38;5;28;01mTrue\u001b[39;00m)\n\u001b[1;32m      2\u001b[0m output \u001b[38;5;241m=\u001b[39m [{k:j} \u001b[38;5;28;01mfor\u001b[39;00m k \u001b[38;5;129;01min\u001b[39;00m df\u001b[38;5;241m.\u001b[39mcolumns\u001b[38;5;241m.\u001b[39mlevels[\u001b[38;5;241m0\u001b[39m] \u001b[38;5;28;01mfor\u001b[39;00m j \u001b[38;5;129;01min\u001b[39;00m df[k]\u001b[38;5;241m.\u001b[39mto_dict(\u001b[38;5;124m'\u001b[39m\u001b[38;5;124mrecords\u001b[39m\u001b[38;5;124m'\u001b[39m)]\n\u001b[1;32m      3\u001b[0m output\n",
      "File \u001b[0;32m/opt/homebrew/Caskroom/miniforge/base/envs/graph_env/lib/python3.10/site-packages/pandas/core/accessor.py:182\u001b[0m, in \u001b[0;36mCachedAccessor.__get__\u001b[0;34m(self, obj, cls)\u001b[0m\n\u001b[1;32m    179\u001b[0m \u001b[38;5;28;01mif\u001b[39;00m obj \u001b[38;5;129;01mis\u001b[39;00m \u001b[38;5;28;01mNone\u001b[39;00m:\n\u001b[1;32m    180\u001b[0m     \u001b[38;5;66;03m# we're accessing the attribute of the class, i.e., Dataset.geo\u001b[39;00m\n\u001b[1;32m    181\u001b[0m     \u001b[38;5;28;01mreturn\u001b[39;00m \u001b[38;5;28mself\u001b[39m\u001b[38;5;241m.\u001b[39m_accessor\n\u001b[0;32m--> 182\u001b[0m accessor_obj \u001b[38;5;241m=\u001b[39m \u001b[38;5;28;43mself\u001b[39;49m\u001b[38;5;241;43m.\u001b[39;49m\u001b[43m_accessor\u001b[49m\u001b[43m(\u001b[49m\u001b[43mobj\u001b[49m\u001b[43m)\u001b[49m\n\u001b[1;32m    183\u001b[0m \u001b[38;5;66;03m# Replace the property with the accessor object. Inspired by:\u001b[39;00m\n\u001b[1;32m    184\u001b[0m \u001b[38;5;66;03m# https://www.pydanny.com/cached-property.html\u001b[39;00m\n\u001b[1;32m    185\u001b[0m \u001b[38;5;66;03m# We need to use object.__setattr__ because we overwrite __setattr__ on\u001b[39;00m\n\u001b[1;32m    186\u001b[0m \u001b[38;5;66;03m# NDFrame\u001b[39;00m\n\u001b[1;32m    187\u001b[0m \u001b[38;5;28mobject\u001b[39m\u001b[38;5;241m.\u001b[39m\u001b[38;5;21m__setattr__\u001b[39m(obj, \u001b[38;5;28mself\u001b[39m\u001b[38;5;241m.\u001b[39m_name, accessor_obj)\n",
      "File \u001b[0;32m/opt/homebrew/Caskroom/miniforge/base/envs/graph_env/lib/python3.10/site-packages/pandas/core/strings/accessor.py:177\u001b[0m, in \u001b[0;36mStringMethods.__init__\u001b[0;34m(self, data)\u001b[0m\n\u001b[1;32m    174\u001b[0m \u001b[38;5;28;01mdef\u001b[39;00m \u001b[38;5;21m__init__\u001b[39m(\u001b[38;5;28mself\u001b[39m, data):\n\u001b[1;32m    175\u001b[0m     \u001b[38;5;28;01mfrom\u001b[39;00m \u001b[38;5;21;01mpandas\u001b[39;00m\u001b[38;5;21;01m.\u001b[39;00m\u001b[38;5;21;01mcore\u001b[39;00m\u001b[38;5;21;01m.\u001b[39;00m\u001b[38;5;21;01marrays\u001b[39;00m\u001b[38;5;21;01m.\u001b[39;00m\u001b[38;5;21;01mstring_\u001b[39;00m \u001b[38;5;28;01mimport\u001b[39;00m StringDtype\n\u001b[0;32m--> 177\u001b[0m     \u001b[38;5;28mself\u001b[39m\u001b[38;5;241m.\u001b[39m_inferred_dtype \u001b[38;5;241m=\u001b[39m \u001b[38;5;28;43mself\u001b[39;49m\u001b[38;5;241;43m.\u001b[39;49m\u001b[43m_validate\u001b[49m\u001b[43m(\u001b[49m\u001b[43mdata\u001b[49m\u001b[43m)\u001b[49m\n\u001b[1;32m    178\u001b[0m     \u001b[38;5;28mself\u001b[39m\u001b[38;5;241m.\u001b[39m_is_categorical \u001b[38;5;241m=\u001b[39m is_categorical_dtype(data\u001b[38;5;241m.\u001b[39mdtype)\n\u001b[1;32m    179\u001b[0m     \u001b[38;5;28mself\u001b[39m\u001b[38;5;241m.\u001b[39m_is_string \u001b[38;5;241m=\u001b[39m \u001b[38;5;28misinstance\u001b[39m(data\u001b[38;5;241m.\u001b[39mdtype, StringDtype)\n",
      "File \u001b[0;32m/opt/homebrew/Caskroom/miniforge/base/envs/graph_env/lib/python3.10/site-packages/pandas/core/strings/accessor.py:217\u001b[0m, in \u001b[0;36mStringMethods._validate\u001b[0;34m(data)\u001b[0m\n\u001b[1;32m    195\u001b[0m \u001b[38;5;124;03m\"\"\"\u001b[39;00m\n\u001b[1;32m    196\u001b[0m \u001b[38;5;124;03mAuxiliary function for StringMethods, infers and checks dtype of data.\u001b[39;00m\n\u001b[1;32m    197\u001b[0m \n\u001b[0;32m   (...)\u001b[0m\n\u001b[1;32m    214\u001b[0m \u001b[38;5;124;03mdtype : inferred dtype of data\u001b[39;00m\n\u001b[1;32m    215\u001b[0m \u001b[38;5;124;03m\"\"\"\u001b[39;00m\n\u001b[1;32m    216\u001b[0m \u001b[38;5;28;01mif\u001b[39;00m \u001b[38;5;28misinstance\u001b[39m(data, ABCMultiIndex):\n\u001b[0;32m--> 217\u001b[0m     \u001b[38;5;28;01mraise\u001b[39;00m \u001b[38;5;167;01mAttributeError\u001b[39;00m(\n\u001b[1;32m    218\u001b[0m         \u001b[38;5;124m\"\u001b[39m\u001b[38;5;124mCan only use .str accessor with Index, not MultiIndex\u001b[39m\u001b[38;5;124m\"\u001b[39m\n\u001b[1;32m    219\u001b[0m     )\n\u001b[1;32m    221\u001b[0m \u001b[38;5;66;03m# see _libs/lib.pyx for list of inferred types\u001b[39;00m\n\u001b[1;32m    222\u001b[0m allowed_types \u001b[38;5;241m=\u001b[39m [\u001b[38;5;124m\"\u001b[39m\u001b[38;5;124mstring\u001b[39m\u001b[38;5;124m\"\u001b[39m, \u001b[38;5;124m\"\u001b[39m\u001b[38;5;124mempty\u001b[39m\u001b[38;5;124m\"\u001b[39m, \u001b[38;5;124m\"\u001b[39m\u001b[38;5;124mbytes\u001b[39m\u001b[38;5;124m\"\u001b[39m, \u001b[38;5;124m\"\u001b[39m\u001b[38;5;124mmixed\u001b[39m\u001b[38;5;124m\"\u001b[39m, \u001b[38;5;124m\"\u001b[39m\u001b[38;5;124mmixed-integer\u001b[39m\u001b[38;5;124m\"\u001b[39m]\n",
      "\u001b[0;31mAttributeError\u001b[0m: Can only use .str accessor with Index, not MultiIndex"
     ]
    }
   ],
   "source": []
  },
  {
   "cell_type": "code",
   "execution_count": 153,
   "id": "99e1cb0f",
   "metadata": {},
   "outputs": [
    {
     "data": {
      "text/html": [
       "<div>\n",
       "<style scoped>\n",
       "    .dataframe tbody tr th:only-of-type {\n",
       "        vertical-align: middle;\n",
       "    }\n",
       "\n",
       "    .dataframe tbody tr th {\n",
       "        vertical-align: top;\n",
       "    }\n",
       "\n",
       "    .dataframe thead tr th {\n",
       "        text-align: left;\n",
       "    }\n",
       "</style>\n",
       "<table border=\"1\" class=\"dataframe\">\n",
       "  <thead>\n",
       "    <tr>\n",
       "      <th></th>\n",
       "      <th colspan=\"2\" halign=\"left\">group1</th>\n",
       "    </tr>\n",
       "    <tr>\n",
       "      <th></th>\n",
       "      <th>item1</th>\n",
       "      <th>item2</th>\n",
       "    </tr>\n",
       "  </thead>\n",
       "  <tbody>\n",
       "    <tr>\n",
       "      <th>0</th>\n",
       "      <td>value1</td>\n",
       "      <td>value2</td>\n",
       "    </tr>\n",
       "    <tr>\n",
       "      <th>1</th>\n",
       "      <td>value3</td>\n",
       "      <td>value4</td>\n",
       "    </tr>\n",
       "  </tbody>\n",
       "</table>\n",
       "</div>"
      ],
      "text/plain": [
       "   group1        \n",
       "    item1   item2\n",
       "0  value1  value2\n",
       "1  value3  value4"
      ]
     },
     "execution_count": 153,
     "metadata": {},
     "output_type": "execute_result"
    }
   ],
   "source": [
    "df"
   ]
  },
  {
   "cell_type": "code",
   "execution_count": 191,
   "id": "0635b290",
   "metadata": {},
   "outputs": [
    {
     "name": "stderr",
     "output_type": "stream",
     "text": [
      "/var/folders/ck/dvz0vpxx7fz95ld2btkqqvzw0000gn/T/ipykernel_30737/699138764.py:1: FutureWarning: Using short name for 'orient' is deprecated. Only the options: ('dict', list, 'series', 'split', 'records', 'index') will be used in a future version. Use one of the above to silence this warning.\n",
      "  {k: df[k].to_dict('r') for k in df.columns.levels[0]}\n"
     ]
    },
    {
     "data": {
      "text/plain": [
       "{'group1': [{'item1': 'value1', 'item2': 'value2'},\n",
       "  {'item1': 'value3', 'item2': 'value4'}]}"
      ]
     },
     "execution_count": 191,
     "metadata": {},
     "output_type": "execute_result"
    }
   ],
   "source": [
    "{k: df[k].to_dict('r') for k in df.columns.levels[0]}"
   ]
  },
  {
   "cell_type": "code",
   "execution_count": 194,
   "id": "65dc6d5b",
   "metadata": {},
   "outputs": [
    {
     "name": "stderr",
     "output_type": "stream",
     "text": [
      "/var/folders/ck/dvz0vpxx7fz95ld2btkqqvzw0000gn/T/ipykernel_30737/1478310034.py:1: FutureWarning: Using short name for 'orient' is deprecated. Only the options: ('dict', list, 'series', 'split', 'records', 'index') will be used in a future version. Use one of the above to silence this warning.\n",
      "  [df[k].to_dict('r') for k in df.columns.levels[0]]\n"
     ]
    },
    {
     "data": {
      "text/plain": [
       "[[{'item1': 'value1', 'item2': 'value2'},\n",
       "  {'item1': 'value3', 'item2': 'value4'}]]"
      ]
     },
     "execution_count": 194,
     "metadata": {},
     "output_type": "execute_result"
    }
   ],
   "source": [
    "[df[k].to_dict('r') for k in df.columns.levels[0]]"
   ]
  },
  {
   "cell_type": "code",
   "execution_count": 202,
   "id": "1518f64c",
   "metadata": {},
   "outputs": [
    {
     "data": {
      "text/plain": [
       "[{'group1': {'item1': 'value1', 'item2': 'value2'}},\n",
       " {'group1': {'item1': 'value3', 'item2': 'value4'}}]"
      ]
     },
     "execution_count": 202,
     "metadata": {},
     "output_type": "execute_result"
    }
   ],
   "source": [
    "[{k:j} for k in df.columns.levels[0] for j in df[k].to_dict('records') ]"
   ]
  },
  {
   "cell_type": "code",
   "execution_count": null,
   "id": "b17ac85c",
   "metadata": {},
   "outputs": [],
   "source": []
  },
  {
   "cell_type": "code",
   "execution_count": null,
   "id": "2082ec49",
   "metadata": {},
   "outputs": [],
   "source": []
  },
  {
   "cell_type": "code",
   "execution_count": null,
   "id": "dc87ae36",
   "metadata": {},
   "outputs": [],
   "source": []
  },
  {
   "cell_type": "code",
   "execution_count": 209,
   "id": "97d425c4",
   "metadata": {},
   "outputs": [
    {
     "name": "stdout",
     "output_type": "stream",
     "text": [
      "/opt/homebrew/Caskroom/miniforge/base/envs/graph_env/bin/python\n"
     ]
    }
   ],
   "source": [
    "import sys\n",
    "print(sys.executable)"
   ]
  },
  {
   "cell_type": "code",
   "execution_count": 212,
   "id": "c92b1061",
   "metadata": {},
   "outputs": [],
   "source": [
    "from matplotlib.pyplot import Line2D\n",
    "\n",
    "COLOR_FCT = {\n",
    "\"a\": [\"blue\", \"Al\", \"-\"],\n",
    "\"b\": [\"orange\", \"Bv\", \"-\"],\n",
    "\"c\": [\"green\", \"Cx\", \"-\"],\n",
    "\"d\": [\"k\", \"Ds\", \"--\"],\n",
    "}\n",
    "\n",
    "legend = [Line2D([0],[0],color=COLOR_FCT[item][0],\n",
    "                 lw=2,ls=COLOR_FCT[item][2],\n",
    "                 label=COLOR_FCT[item][1],) for item in [\"a\", \"b\", \"c\"]]"
   ]
  },
  {
   "cell_type": "code",
   "execution_count": null,
   "id": "ce893795",
   "metadata": {},
   "outputs": [],
   "source": []
  },
  {
   "cell_type": "code",
   "execution_count": null,
   "id": "899fc743",
   "metadata": {},
   "outputs": [],
   "source": []
  },
  {
   "cell_type": "code",
   "execution_count": null,
   "id": "0f912f04",
   "metadata": {},
   "outputs": [],
   "source": []
  },
  {
   "cell_type": "code",
   "execution_count": 256,
   "id": "e2723c32",
   "metadata": {},
   "outputs": [
    {
     "name": "stdout",
     "output_type": "stream",
     "text": [
      "iterative\n",
      "(250, 4) (4, 9) (250, 9) (250, 9)\n",
      "(262, 4) (4, 9) (262, 9) (262, 9)\n",
      "(512, 9) 5599.511791050638\n"
     ]
    }
   ],
   "source": [
    "import numpy as np\n",
    "p, q, r, t = 2, 9, 512, 4\n",
    "# data initialization (random)\n",
    "np.random.seed(500)\n",
    "S = np.random.rand(r, q)\n",
    "A = np.random.randint(0, 3, size=(p, t, q))\n",
    "B = np.random.rand(r, t)\n",
    "categories = np.random.randint(0, p, r)\n",
    "\n",
    "print('iterative') # iterative\n",
    "for i in range(p):\n",
    "    # print(i)\n",
    "    a = A[i, :, :]\n",
    "    mask = categories == i\n",
    "    b = B[mask]\n",
    "    print(b.shape, a.shape, S[mask].shape,\n",
    "          np.matmul(b, a).shape)\n",
    "    S[mask] = np.matmul(b, a)\n",
    "print(S.shape, np.sum(np.matmul(b, a))) # # , np.sum(scores))"
   ]
  },
  {
   "cell_type": "code",
   "execution_count": null,
   "id": "27647bcf",
   "metadata": {},
   "outputs": [],
   "source": []
  },
  {
   "cell_type": "code",
   "execution_count": null,
   "id": "466af0fa",
   "metadata": {},
   "outputs": [],
   "source": []
  },
  {
   "cell_type": "code",
   "execution_count": 224,
   "id": "148bb891",
   "metadata": {},
   "outputs": [
    {
     "data": {
      "text/plain": [
       "(2, 4, 9)"
      ]
     },
     "execution_count": 224,
     "metadata": {},
     "output_type": "execute_result"
    }
   ],
   "source": [
    "A.shape"
   ]
  },
  {
   "cell_type": "code",
   "execution_count": 225,
   "id": "569efbef",
   "metadata": {},
   "outputs": [
    {
     "data": {
      "text/plain": [
       "(512, 9)"
      ]
     },
     "execution_count": 225,
     "metadata": {},
     "output_type": "execute_result"
    }
   ],
   "source": [
    "S.shape"
   ]
  },
  {
   "cell_type": "code",
   "execution_count": 226,
   "id": "4487935a",
   "metadata": {},
   "outputs": [
    {
     "data": {
      "text/plain": [
       "(512, 4)"
      ]
     },
     "execution_count": 226,
     "metadata": {},
     "output_type": "execute_result"
    }
   ],
   "source": [
    "B.shape"
   ]
  },
  {
   "cell_type": "code",
   "execution_count": 227,
   "id": "a66ecfb2",
   "metadata": {},
   "outputs": [
    {
     "data": {
      "text/plain": [
       "(512,)"
      ]
     },
     "execution_count": 227,
     "metadata": {},
     "output_type": "execute_result"
    }
   ],
   "source": [
    "categories.shape"
   ]
  },
  {
   "cell_type": "code",
   "execution_count": null,
   "id": "38c70d11",
   "metadata": {},
   "outputs": [],
   "source": [
    "np.matmul()"
   ]
  },
  {
   "cell_type": "code",
   "execution_count": null,
   "id": "911b75e8",
   "metadata": {},
   "outputs": [],
   "source": []
  },
  {
   "cell_type": "code",
   "execution_count": 241,
   "id": "c8760559",
   "metadata": {},
   "outputs": [
    {
     "data": {
      "text/plain": [
       "(2, 4, 9)"
      ]
     },
     "execution_count": 241,
     "metadata": {},
     "output_type": "execute_result"
    }
   ],
   "source": [
    "A.shape"
   ]
  },
  {
   "cell_type": "code",
   "execution_count": 250,
   "id": "b0185c6b",
   "metadata": {},
   "outputs": [
    {
     "data": {
      "text/plain": [
       "(512, 9)"
      ]
     },
     "execution_count": 250,
     "metadata": {},
     "output_type": "execute_result"
    }
   ],
   "source": [
    "S.shape"
   ]
  },
  {
   "cell_type": "code",
   "execution_count": null,
   "id": "d54571b2",
   "metadata": {},
   "outputs": [],
   "source": []
  },
  {
   "cell_type": "code",
   "execution_count": 254,
   "id": "6a9f92b7",
   "metadata": {},
   "outputs": [
    {
     "data": {
      "text/plain": [
       "(2, 262, 9)"
      ]
     },
     "execution_count": 254,
     "metadata": {},
     "output_type": "execute_result"
    }
   ],
   "source": [
    "(B[categories == i] @ A).shape"
   ]
  },
  {
   "cell_type": "code",
   "execution_count": null,
   "id": "2fe55ac4",
   "metadata": {},
   "outputs": [],
   "source": []
  },
  {
   "cell_type": "code",
   "execution_count": null,
   "id": "249020c6",
   "metadata": {},
   "outputs": [],
   "source": []
  },
  {
   "cell_type": "code",
   "execution_count": null,
   "id": "7aa027ec",
   "metadata": {},
   "outputs": [],
   "source": []
  },
  {
   "cell_type": "code",
   "execution_count": null,
   "id": "0011c46c",
   "metadata": {},
   "outputs": [],
   "source": []
  },
  {
   "cell_type": "code",
   "execution_count": 239,
   "id": "aa2183d8",
   "metadata": {},
   "outputs": [
    {
     "ename": "ValueError",
     "evalue": "matmul: Input operand 1 has a mismatch in its core dimension 0, with gufunc signature (n?,k),(k,m?)->(n?,m?) (size 262 is different from 9)",
     "output_type": "error",
     "traceback": [
      "\u001b[0;31m---------------------------------------------------------------------------\u001b[0m",
      "\u001b[0;31mValueError\u001b[0m                                Traceback (most recent call last)",
      "Input \u001b[0;32mIn [239]\u001b[0m, in \u001b[0;36m<cell line: 1>\u001b[0;34m()\u001b[0m\n\u001b[0;32m----> 1\u001b[0m \u001b[43mnp\u001b[49m\u001b[38;5;241;43m.\u001b[39;49m\u001b[43mmatmul\u001b[49m\u001b[43m(\u001b[49m\u001b[43mA\u001b[49m\u001b[43m,\u001b[49m\u001b[43mB\u001b[49m\u001b[43m[\u001b[49m\u001b[43mcategories\u001b[49m\u001b[43m \u001b[49m\u001b[38;5;241;43m==\u001b[39;49m\u001b[43m \u001b[49m\u001b[43mi\u001b[49m\u001b[43m]\u001b[49m\u001b[43m[\u001b[49m\u001b[38;5;28;43;01mNone\u001b[39;49;00m\u001b[43m,\u001b[49m\u001b[43m:\u001b[49m\u001b[43m,\u001b[49m\u001b[43m:\u001b[49m\u001b[43m]\u001b[49m\u001b[43m)\u001b[49m\n",
      "\u001b[0;31mValueError\u001b[0m: matmul: Input operand 1 has a mismatch in its core dimension 0, with gufunc signature (n?,k),(k,m?)->(n?,m?) (size 262 is different from 9)"
     ]
    }
   ],
   "source": [
    "np.matmul(A,B[categories == i][None,:,:])"
   ]
  },
  {
   "cell_type": "code",
   "execution_count": 238,
   "id": "dbeda360",
   "metadata": {},
   "outputs": [
    {
     "data": {
      "text/plain": [
       "(1, 262, 4)"
      ]
     },
     "execution_count": 238,
     "metadata": {},
     "output_type": "execute_result"
    }
   ],
   "source": []
  },
  {
   "cell_type": "code",
   "execution_count": 263,
   "id": "ef592f67",
   "metadata": {},
   "outputs": [],
   "source": [
    "array = np.array(\n",
    "        [[  1.,    1.,   82. , 177.,    0.,    0.,   -1. ],\n",
    "         [  2.,    2.,   83. , 177.,    0.,    0.,    1. ],\n",
    "         [  3.,    2.,   84. , 177.,    0.,    0.,    2. ],\n",
    "         [  4.,    2.,   85. , 177.,    0.,    0.,    2. ],\n",
    "         [  5.,    2.,   82.5, 177.,    0.,    0.,    2. ],\n",
    "         [  6.,    2.,   83.5, 177.,    0.,    0.,    3. ]])"
   ]
  },
  {
   "cell_type": "code",
   "execution_count": 264,
   "id": "8b12c2b1",
   "metadata": {},
   "outputs": [],
   "source": [
    "new_points = np.array(\n",
    "   [[  7.,    2.,   82.5, 177.,    0.,    0.,    2. ],\n",
    "    [  8.,    2.,   83.5, 177.,    0.,    0.,    4. ],\n",
    "    [  9.,    2.,   84.5, 177.,    0.,    0.,    4. ],\n",
    "    [ 10.,    2.,   84. , 177.,    0.,    0.,    4. ]])"
   ]
  },
  {
   "cell_type": "code",
   "execution_count": 285,
   "id": "bf20ad6d",
   "metadata": {},
   "outputs": [
    {
     "name": "stdout",
     "output_type": "stream",
     "text": [
      "9.77 µs ± 145 ns per loop (mean ± std. dev. of 7 runs, 100,000 loops each)\n"
     ]
    }
   ],
   "source": [
    "%%timeit\n",
    "\n",
    "cond = ~(array[:,None,2:4] == new_points[None,:,2:4]).all(-1).any(0)\n",
    "updated_array = np.vstack([array,new_points[cond]])"
   ]
  },
  {
   "cell_type": "code",
   "execution_count": 281,
   "id": "931ba4b4",
   "metadata": {},
   "outputs": [
    {
     "data": {
      "text/plain": [
       "(6, 1, 2)"
      ]
     },
     "execution_count": 281,
     "metadata": {},
     "output_type": "execute_result"
    }
   ],
   "source": [
    "array[:,None,2:4].shape"
   ]
  },
  {
   "cell_type": "code",
   "execution_count": 283,
   "id": "a3ad16ac",
   "metadata": {},
   "outputs": [
    {
     "data": {
      "text/plain": [
       "array([ True,  True, False,  True])"
      ]
     },
     "execution_count": 283,
     "metadata": {},
     "output_type": "execute_result"
    }
   ],
   "source": [
    "(array[:,None,2:4] == new_points[None,:,2:4]).all(-1).any(0)"
   ]
  },
  {
   "cell_type": "code",
   "execution_count": 286,
   "id": "de1d39ac",
   "metadata": {},
   "outputs": [
    {
     "name": "stdout",
     "output_type": "stream",
     "text": [
      "28.8 µs ± 651 ns per loop (mean ± std. dev. of 7 runs, 10,000 loops each)\n"
     ]
    }
   ],
   "source": [
    "%%timeit\n",
    "\n",
    "filtered_points = []\n",
    "for point in new_points:\n",
    "    if not np.any((array[:,2] == point[2]) & (array[:,3] == point[3])):\n",
    "        filtered_points.append(point)\n",
    "result = np.concatenate((array, filtered_points))"
   ]
  },
  {
   "cell_type": "code",
   "execution_count": 287,
   "id": "bfdd2aef",
   "metadata": {},
   "outputs": [],
   "source": [
    "magic_str = \"abra cadabra\"\n",
    "#count_chars(magic_str)\n",
    "#{'a': 5, 'b': 2, 'r': 2, 'c': 1, 'd': 1}"
   ]
  },
  {
   "cell_type": "code",
   "execution_count": 293,
   "id": "893ab3be",
   "metadata": {},
   "outputs": [
    {
     "data": {
      "text/plain": [
       "{'a': 5, 'b': 2, 'r': 2, 'c': 1, 'd': 1}"
      ]
     },
     "execution_count": 293,
     "metadata": {},
     "output_type": "execute_result"
    }
   ],
   "source": [
    "dict(Counter(magic_str.replace(' ','')))\n",
    "{'a': 5, 'b': 2, 'r': 2, 'c': 1, 'd': 1}"
   ]
  },
  {
   "cell_type": "code",
   "execution_count": 298,
   "id": "d7037d16",
   "metadata": {},
   "outputs": [
    {
     "data": {
      "text/plain": [
       "{'b': 2, 'c': 1, 'r': 2, 'd': 1, 'a': 5}"
      ]
     },
     "execution_count": 298,
     "metadata": {},
     "output_type": "execute_result"
    }
   ],
   "source": [
    "\n",
    "\n",
    "def count_chars(string):\n",
    "    stripped = string.replace(' ','')\n",
    "    return {i:stripped.count(i) for i in set(stripped)}\n",
    "\n",
    "count_chars(magic_str)"
   ]
  },
  {
   "cell_type": "code",
   "execution_count": 299,
   "id": "df48c7b8",
   "metadata": {},
   "outputs": [
    {
     "data": {
      "text/html": [
       "<div>\n",
       "<style scoped>\n",
       "    .dataframe tbody tr th:only-of-type {\n",
       "        vertical-align: middle;\n",
       "    }\n",
       "\n",
       "    .dataframe tbody tr th {\n",
       "        vertical-align: top;\n",
       "    }\n",
       "\n",
       "    .dataframe thead th {\n",
       "        text-align: right;\n",
       "    }\n",
       "</style>\n",
       "<table border=\"1\" class=\"dataframe\">\n",
       "  <thead>\n",
       "    <tr style=\"text-align: right;\">\n",
       "      <th></th>\n",
       "      <th>id</th>\n",
       "      <th>productivity</th>\n",
       "      <th>total_hours</th>\n",
       "      <th>swdev_hours</th>\n",
       "      <th>temp</th>\n",
       "      <th>pressure</th>\n",
       "      <th>humidity</th>\n",
       "      <th>fit_steps</th>\n",
       "      <th>danceability</th>\n",
       "      <th>energy</th>\n",
       "      <th>loudness</th>\n",
       "      <th>tempo</th>\n",
       "    </tr>\n",
       "  </thead>\n",
       "  <tbody>\n",
       "    <tr>\n",
       "      <th>0</th>\n",
       "      <td>1</td>\n",
       "      <td>31</td>\n",
       "      <td>13.38</td>\n",
       "      <td>2.60</td>\n",
       "      <td>9.06</td>\n",
       "      <td>1011.0</td>\n",
       "      <td>53.0</td>\n",
       "      <td>0</td>\n",
       "      <td>0.716</td>\n",
       "      <td>0.759</td>\n",
       "      <td>-7.181</td>\n",
       "      <td>105.015</td>\n",
       "    </tr>\n",
       "    <tr>\n",
       "      <th>1</th>\n",
       "      <td>2</td>\n",
       "      <td>65</td>\n",
       "      <td>11.35</td>\n",
       "      <td>5.14</td>\n",
       "      <td>6.78</td>\n",
       "      <td>1012.0</td>\n",
       "      <td>65.0</td>\n",
       "      <td>0</td>\n",
       "      <td>0.908</td>\n",
       "      <td>0.669</td>\n",
       "      <td>-2.827</td>\n",
       "      <td>112.238</td>\n",
       "    </tr>\n",
       "    <tr>\n",
       "      <th>2</th>\n",
       "      <td>3</td>\n",
       "      <td>0</td>\n",
       "      <td>0.00</td>\n",
       "      <td>0.00</td>\n",
       "      <td>0.00</td>\n",
       "      <td>0.0</td>\n",
       "      <td>0.0</td>\n",
       "      <td>0</td>\n",
       "      <td>0.000</td>\n",
       "      <td>0.000</td>\n",
       "      <td>0.000</td>\n",
       "      <td>0.000</td>\n",
       "    </tr>\n",
       "    <tr>\n",
       "      <th>3</th>\n",
       "      <td>4</td>\n",
       "      <td>56</td>\n",
       "      <td>13.57</td>\n",
       "      <td>3.85</td>\n",
       "      <td>8.87</td>\n",
       "      <td>1000.0</td>\n",
       "      <td>68.0</td>\n",
       "      <td>0</td>\n",
       "      <td>0.776</td>\n",
       "      <td>0.697</td>\n",
       "      <td>-6.594</td>\n",
       "      <td>92.548</td>\n",
       "    </tr>\n",
       "    <tr>\n",
       "      <th>4</th>\n",
       "      <td>5</td>\n",
       "      <td>43</td>\n",
       "      <td>11.71</td>\n",
       "      <td>2.12</td>\n",
       "      <td>6.22</td>\n",
       "      <td>1011.0</td>\n",
       "      <td>72.0</td>\n",
       "      <td>0</td>\n",
       "      <td>0.662</td>\n",
       "      <td>0.609</td>\n",
       "      <td>-11.422</td>\n",
       "      <td>127.934</td>\n",
       "    </tr>\n",
       "    <tr>\n",
       "      <th>5</th>\n",
       "      <td>6</td>\n",
       "      <td>64</td>\n",
       "      <td>12.52</td>\n",
       "      <td>5.05</td>\n",
       "      <td>7.54</td>\n",
       "      <td>1021.0</td>\n",
       "      <td>68.0</td>\n",
       "      <td>0</td>\n",
       "      <td>0.276</td>\n",
       "      <td>0.739</td>\n",
       "      <td>-8.851</td>\n",
       "      <td>79.800</td>\n",
       "    </tr>\n",
       "    <tr>\n",
       "      <th>6</th>\n",
       "      <td>7</td>\n",
       "      <td>41</td>\n",
       "      <td>9.67</td>\n",
       "      <td>2.28</td>\n",
       "      <td>5.41</td>\n",
       "      <td>1019.0</td>\n",
       "      <td>67.0</td>\n",
       "      <td>0</td>\n",
       "      <td>0.000</td>\n",
       "      <td>0.000</td>\n",
       "      <td>0.000</td>\n",
       "      <td>0.000</td>\n",
       "    </tr>\n",
       "    <tr>\n",
       "      <th>7</th>\n",
       "      <td>8</td>\n",
       "      <td>56</td>\n",
       "      <td>12.15</td>\n",
       "      <td>2.81</td>\n",
       "      <td>5.58</td>\n",
       "      <td>1018.0</td>\n",
       "      <td>70.0</td>\n",
       "      <td>4825</td>\n",
       "      <td>0.647</td>\n",
       "      <td>0.844</td>\n",
       "      <td>-3.756</td>\n",
       "      <td>146.967</td>\n",
       "    </tr>\n",
       "    <tr>\n",
       "      <th>8</th>\n",
       "      <td>9</td>\n",
       "      <td>44</td>\n",
       "      <td>12.37</td>\n",
       "      <td>0.03</td>\n",
       "      <td>3.79</td>\n",
       "      <td>1028.0</td>\n",
       "      <td>75.0</td>\n",
       "      <td>5350</td>\n",
       "      <td>0.000</td>\n",
       "      <td>0.000</td>\n",
       "      <td>0.000</td>\n",
       "      <td>0.000</td>\n",
       "    </tr>\n",
       "    <tr>\n",
       "      <th>9</th>\n",
       "      <td>10</td>\n",
       "      <td>45</td>\n",
       "      <td>7.70</td>\n",
       "      <td>0.01</td>\n",
       "      <td>4.29</td>\n",
       "      <td>1030.0</td>\n",
       "      <td>77.0</td>\n",
       "      <td>1597</td>\n",
       "      <td>0.399</td>\n",
       "      <td>0.761</td>\n",
       "      <td>-6.318</td>\n",
       "      <td>140.084</td>\n",
       "    </tr>\n",
       "    <tr>\n",
       "      <th>10</th>\n",
       "      <td>11</td>\n",
       "      <td>34</td>\n",
       "      <td>10.19</td>\n",
       "      <td>1.23</td>\n",
       "      <td>2.22</td>\n",
       "      <td>1029.0</td>\n",
       "      <td>53.0</td>\n",
       "      <td>2171</td>\n",
       "      <td>0.399</td>\n",
       "      <td>0.761</td>\n",
       "      <td>-6.318</td>\n",
       "      <td>140.084</td>\n",
       "    </tr>\n",
       "  </tbody>\n",
       "</table>\n",
       "</div>"
      ],
      "text/plain": [
       "    id  productivity  total_hours  swdev_hours  temp  pressure  humidity  \\\n",
       "0    1            31        13.38         2.60  9.06    1011.0      53.0   \n",
       "1    2            65        11.35         5.14  6.78    1012.0      65.0   \n",
       "2    3             0         0.00         0.00  0.00       0.0       0.0   \n",
       "3    4            56        13.57         3.85  8.87    1000.0      68.0   \n",
       "4    5            43        11.71         2.12  6.22    1011.0      72.0   \n",
       "5    6            64        12.52         5.05  7.54    1021.0      68.0   \n",
       "6    7            41         9.67         2.28  5.41    1019.0      67.0   \n",
       "7    8            56        12.15         2.81  5.58    1018.0      70.0   \n",
       "8    9            44        12.37         0.03  3.79    1028.0      75.0   \n",
       "9   10            45         7.70         0.01  4.29    1030.0      77.0   \n",
       "10  11            34        10.19         1.23  2.22    1029.0      53.0   \n",
       "\n",
       "    fit_steps  danceability  energy  loudness    tempo  \n",
       "0           0         0.716   0.759    -7.181  105.015  \n",
       "1           0         0.908   0.669    -2.827  112.238  \n",
       "2           0         0.000   0.000     0.000    0.000  \n",
       "3           0         0.776   0.697    -6.594   92.548  \n",
       "4           0         0.662   0.609   -11.422  127.934  \n",
       "5           0         0.276   0.739    -8.851   79.800  \n",
       "6           0         0.000   0.000     0.000    0.000  \n",
       "7        4825         0.647   0.844    -3.756  146.967  \n",
       "8        5350         0.000   0.000     0.000    0.000  \n",
       "9        1597         0.399   0.761    -6.318  140.084  \n",
       "10       2171         0.399   0.761    -6.318  140.084  "
      ]
     },
     "execution_count": 299,
     "metadata": {},
     "output_type": "execute_result"
    }
   ],
   "source": [
    "df = pd.read_clipboard()\n",
    "df"
   ]
  },
  {
   "cell_type": "code",
   "execution_count": 303,
   "id": "fd7ae647",
   "metadata": {},
   "outputs": [
    {
     "name": "stderr",
     "output_type": "stream",
     "text": [
      "/var/folders/ck/dvz0vpxx7fz95ld2btkqqvzw0000gn/T/ipykernel_30737/4264644966.py:1: FutureWarning: In a future version of pandas all arguments of DataFrame.drop except for the argument 'labels' will be keyword-only.\n",
      "  df.drop('id',1).corr()\n"
     ]
    },
    {
     "data": {
      "text/html": [
       "<div>\n",
       "<style scoped>\n",
       "    .dataframe tbody tr th:only-of-type {\n",
       "        vertical-align: middle;\n",
       "    }\n",
       "\n",
       "    .dataframe tbody tr th {\n",
       "        vertical-align: top;\n",
       "    }\n",
       "\n",
       "    .dataframe thead th {\n",
       "        text-align: right;\n",
       "    }\n",
       "</style>\n",
       "<table border=\"1\" class=\"dataframe\">\n",
       "  <thead>\n",
       "    <tr style=\"text-align: right;\">\n",
       "      <th></th>\n",
       "      <th>productivity</th>\n",
       "      <th>total_hours</th>\n",
       "      <th>swdev_hours</th>\n",
       "      <th>temp</th>\n",
       "      <th>pressure</th>\n",
       "      <th>humidity</th>\n",
       "      <th>fit_steps</th>\n",
       "      <th>danceability</th>\n",
       "      <th>energy</th>\n",
       "      <th>loudness</th>\n",
       "      <th>tempo</th>\n",
       "    </tr>\n",
       "  </thead>\n",
       "  <tbody>\n",
       "    <tr>\n",
       "      <th>productivity</th>\n",
       "      <td>1.000000</td>\n",
       "      <td>0.766020</td>\n",
       "      <td>0.714475</td>\n",
       "      <td>0.667112</td>\n",
       "      <td>0.784574</td>\n",
       "      <td>0.829126</td>\n",
       "      <td>0.118479</td>\n",
       "      <td>0.496831</td>\n",
       "      <td>0.516037</td>\n",
       "      <td>-0.317449</td>\n",
       "      <td>0.418411</td>\n",
       "    </tr>\n",
       "    <tr>\n",
       "      <th>total_hours</th>\n",
       "      <td>0.766020</td>\n",
       "      <td>1.000000</td>\n",
       "      <td>0.563928</td>\n",
       "      <td>0.807637</td>\n",
       "      <td>0.886274</td>\n",
       "      <td>0.796650</td>\n",
       "      <td>0.177401</td>\n",
       "      <td>0.527601</td>\n",
       "      <td>0.495739</td>\n",
       "      <td>-0.443903</td>\n",
       "      <td>0.387851</td>\n",
       "    </tr>\n",
       "    <tr>\n",
       "      <th>swdev_hours</th>\n",
       "      <td>0.714475</td>\n",
       "      <td>0.563928</td>\n",
       "      <td>1.000000</td>\n",
       "      <td>0.740489</td>\n",
       "      <td>0.386047</td>\n",
       "      <td>0.301154</td>\n",
       "      <td>-0.403649</td>\n",
       "      <td>0.591908</td>\n",
       "      <td>0.477122</td>\n",
       "      <td>-0.335910</td>\n",
       "      <td>0.280424</td>\n",
       "    </tr>\n",
       "    <tr>\n",
       "      <th>temp</th>\n",
       "      <td>0.667112</td>\n",
       "      <td>0.807637</td>\n",
       "      <td>0.740489</td>\n",
       "      <td>1.000000</td>\n",
       "      <td>0.635675</td>\n",
       "      <td>0.574322</td>\n",
       "      <td>-0.301126</td>\n",
       "      <td>0.648544</td>\n",
       "      <td>0.514252</td>\n",
       "      <td>-0.502855</td>\n",
       "      <td>0.327645</td>\n",
       "    </tr>\n",
       "    <tr>\n",
       "      <th>pressure</th>\n",
       "      <td>0.784574</td>\n",
       "      <td>0.886274</td>\n",
       "      <td>0.386047</td>\n",
       "      <td>0.635675</td>\n",
       "      <td>1.000000</td>\n",
       "      <td>0.934980</td>\n",
       "      <td>0.221949</td>\n",
       "      <td>0.414317</td>\n",
       "      <td>0.503019</td>\n",
       "      <td>-0.410004</td>\n",
       "      <td>0.481405</td>\n",
       "    </tr>\n",
       "    <tr>\n",
       "      <th>humidity</th>\n",
       "      <td>0.829126</td>\n",
       "      <td>0.796650</td>\n",
       "      <td>0.301154</td>\n",
       "      <td>0.574322</td>\n",
       "      <td>0.934980</td>\n",
       "      <td>1.000000</td>\n",
       "      <td>0.296596</td>\n",
       "      <td>0.318106</td>\n",
       "      <td>0.383585</td>\n",
       "      <td>-0.345452</td>\n",
       "      <td>0.387821</td>\n",
       "    </tr>\n",
       "    <tr>\n",
       "      <th>fit_steps</th>\n",
       "      <td>0.118479</td>\n",
       "      <td>0.177401</td>\n",
       "      <td>-0.403649</td>\n",
       "      <td>-0.301126</td>\n",
       "      <td>0.221949</td>\n",
       "      <td>0.296596</td>\n",
       "      <td>1.000000</td>\n",
       "      <td>-0.211715</td>\n",
       "      <td>-0.065461</td>\n",
       "      <td>0.326719</td>\n",
       "      <td>0.032978</td>\n",
       "    </tr>\n",
       "    <tr>\n",
       "      <th>danceability</th>\n",
       "      <td>0.496831</td>\n",
       "      <td>0.527601</td>\n",
       "      <td>0.591908</td>\n",
       "      <td>0.648544</td>\n",
       "      <td>0.414317</td>\n",
       "      <td>0.318106</td>\n",
       "      <td>-0.211715</td>\n",
       "      <td>1.000000</td>\n",
       "      <td>0.791809</td>\n",
       "      <td>-0.557127</td>\n",
       "      <td>0.773501</td>\n",
       "    </tr>\n",
       "    <tr>\n",
       "      <th>energy</th>\n",
       "      <td>0.516037</td>\n",
       "      <td>0.495739</td>\n",
       "      <td>0.477122</td>\n",
       "      <td>0.514252</td>\n",
       "      <td>0.503019</td>\n",
       "      <td>0.383585</td>\n",
       "      <td>-0.065461</td>\n",
       "      <td>0.791809</td>\n",
       "      <td>1.000000</td>\n",
       "      <td>-0.747442</td>\n",
       "      <td>0.942524</td>\n",
       "    </tr>\n",
       "    <tr>\n",
       "      <th>loudness</th>\n",
       "      <td>-0.317449</td>\n",
       "      <td>-0.443903</td>\n",
       "      <td>-0.335910</td>\n",
       "      <td>-0.502855</td>\n",
       "      <td>-0.410004</td>\n",
       "      <td>-0.345452</td>\n",
       "      <td>0.326719</td>\n",
       "      <td>-0.557127</td>\n",
       "      <td>-0.747442</td>\n",
       "      <td>1.000000</td>\n",
       "      <td>-0.705575</td>\n",
       "    </tr>\n",
       "    <tr>\n",
       "      <th>tempo</th>\n",
       "      <td>0.418411</td>\n",
       "      <td>0.387851</td>\n",
       "      <td>0.280424</td>\n",
       "      <td>0.327645</td>\n",
       "      <td>0.481405</td>\n",
       "      <td>0.387821</td>\n",
       "      <td>0.032978</td>\n",
       "      <td>0.773501</td>\n",
       "      <td>0.942524</td>\n",
       "      <td>-0.705575</td>\n",
       "      <td>1.000000</td>\n",
       "    </tr>\n",
       "  </tbody>\n",
       "</table>\n",
       "</div>"
      ],
      "text/plain": [
       "              productivity  total_hours  swdev_hours      temp  pressure  \\\n",
       "productivity      1.000000     0.766020     0.714475  0.667112  0.784574   \n",
       "total_hours       0.766020     1.000000     0.563928  0.807637  0.886274   \n",
       "swdev_hours       0.714475     0.563928     1.000000  0.740489  0.386047   \n",
       "temp              0.667112     0.807637     0.740489  1.000000  0.635675   \n",
       "pressure          0.784574     0.886274     0.386047  0.635675  1.000000   \n",
       "humidity          0.829126     0.796650     0.301154  0.574322  0.934980   \n",
       "fit_steps         0.118479     0.177401    -0.403649 -0.301126  0.221949   \n",
       "danceability      0.496831     0.527601     0.591908  0.648544  0.414317   \n",
       "energy            0.516037     0.495739     0.477122  0.514252  0.503019   \n",
       "loudness         -0.317449    -0.443903    -0.335910 -0.502855 -0.410004   \n",
       "tempo             0.418411     0.387851     0.280424  0.327645  0.481405   \n",
       "\n",
       "              humidity  fit_steps  danceability    energy  loudness     tempo  \n",
       "productivity  0.829126   0.118479      0.496831  0.516037 -0.317449  0.418411  \n",
       "total_hours   0.796650   0.177401      0.527601  0.495739 -0.443903  0.387851  \n",
       "swdev_hours   0.301154  -0.403649      0.591908  0.477122 -0.335910  0.280424  \n",
       "temp          0.574322  -0.301126      0.648544  0.514252 -0.502855  0.327645  \n",
       "pressure      0.934980   0.221949      0.414317  0.503019 -0.410004  0.481405  \n",
       "humidity      1.000000   0.296596      0.318106  0.383585 -0.345452  0.387821  \n",
       "fit_steps     0.296596   1.000000     -0.211715 -0.065461  0.326719  0.032978  \n",
       "danceability  0.318106  -0.211715      1.000000  0.791809 -0.557127  0.773501  \n",
       "energy        0.383585  -0.065461      0.791809  1.000000 -0.747442  0.942524  \n",
       "loudness     -0.345452   0.326719     -0.557127 -0.747442  1.000000 -0.705575  \n",
       "tempo         0.387821   0.032978      0.773501  0.942524 -0.705575  1.000000  "
      ]
     },
     "execution_count": 303,
     "metadata": {},
     "output_type": "execute_result"
    }
   ],
   "source": []
  },
  {
   "cell_type": "code",
   "execution_count": null,
   "id": "68f6fb7c",
   "metadata": {},
   "outputs": [],
   "source": [
    "pd.DataFrame.corr()"
   ]
  },
  {
   "cell_type": "code",
   "execution_count": null,
   "id": "725198fd",
   "metadata": {},
   "outputs": [],
   "source": []
  },
  {
   "cell_type": "code",
   "execution_count": 308,
   "id": "54113817",
   "metadata": {},
   "outputs": [
    {
     "name": "stderr",
     "output_type": "stream",
     "text": [
      "/var/folders/ck/dvz0vpxx7fz95ld2btkqqvzw0000gn/T/ipykernel_30737/1067640000.py:1: FutureWarning: In a future version of pandas all arguments of DataFrame.drop except for the argument 'labels' will be keyword-only.\n",
      "  df.drop('id',1).corr('pearson').iloc[:,0]\n"
     ]
    },
    {
     "data": {
      "text/plain": [
       "productivity    1.000000\n",
       "total_hours     0.766020\n",
       "swdev_hours     0.714475\n",
       "temp            0.667112\n",
       "pressure        0.784574\n",
       "humidity        0.829126\n",
       "fit_steps       0.118479\n",
       "danceability    0.496831\n",
       "energy          0.516037\n",
       "loudness       -0.317449\n",
       "tempo           0.418411\n",
       "Name: productivity, dtype: float64"
      ]
     },
     "execution_count": 308,
     "metadata": {},
     "output_type": "execute_result"
    }
   ],
   "source": [
    "df.drop('id',1).corr('pearson').iloc[:,0]"
   ]
  },
  {
   "cell_type": "code",
   "execution_count": 309,
   "id": "d87b3cd9",
   "metadata": {},
   "outputs": [
    {
     "data": {
      "text/plain": [
       "1"
      ]
     },
     "execution_count": 309,
     "metadata": {},
     "output_type": "execute_result"
    }
   ],
   "source": [
    "5 & 1"
   ]
  },
  {
   "cell_type": "code",
   "execution_count": 316,
   "id": "ec4786af",
   "metadata": {},
   "outputs": [
    {
     "data": {
      "text/plain": [
       "array([[ 0,  9],\n",
       "       [ 1, 10],\n",
       "       [ 2, 11],\n",
       "       [ 3, 12],\n",
       "       [ 4, 13],\n",
       "       [ 5, 14]])"
      ]
     },
     "execution_count": 316,
     "metadata": {},
     "output_type": "execute_result"
    }
   ],
   "source": [
    "# Sample symmetric input (S11, S22, S33, S12, S23, S13)\n",
    "sym_tens_in=np.array([[0,9], [1,10], [2,11], [3,12], [4,13], [5,14]])\n",
    "sym_tens_in"
   ]
  },
  {
   "cell_type": "code",
   "execution_count": 317,
   "id": "fc26d777",
   "metadata": {},
   "outputs": [
    {
     "data": {
      "text/plain": [
       "array([[[ 0,  9],\n",
       "        [ 3, 12],\n",
       "        [ 4, 13]],\n",
       "\n",
       "       [[ 3, 12],\n",
       "        [ 1, 10],\n",
       "        [ 5, 14]],\n",
       "\n",
       "       [[ 4, 13],\n",
       "        [ 5, 14],\n",
       "        [ 2, 11]]])"
      ]
     },
     "execution_count": 317,
     "metadata": {},
     "output_type": "execute_result"
    }
   ],
   "source": [
    "# Expand to full tensor\n",
    "tens_full=np.array([[sym_tens_in[0], sym_tens_in[3], sym_tens_in[4]],\n",
    "                    [sym_tens_in[3], sym_tens_in[1], sym_tens_in[5]],\n",
    "                    [sym_tens_in[4], sym_tens_in[5], sym_tens_in[2]]])\n",
    "tens_full"
   ]
  },
  {
   "cell_type": "code",
   "execution_count": 318,
   "id": "ca3d68ee",
   "metadata": {},
   "outputs": [
    {
     "data": {
      "text/plain": [
       "(3, 3, 2)"
      ]
     },
     "execution_count": 318,
     "metadata": {},
     "output_type": "execute_result"
    }
   ],
   "source": [
    "tens_full.shape"
   ]
  },
  {
   "cell_type": "code",
   "execution_count": 320,
   "id": "3786640e",
   "metadata": {},
   "outputs": [],
   "source": [
    "digits = [1,1,1,1]"
   ]
  },
  {
   "cell_type": "code",
   "execution_count": 321,
   "id": "7819fc58",
   "metadata": {},
   "outputs": [
    {
     "data": {
      "text/plain": [
       "15"
      ]
     },
     "execution_count": 321,
     "metadata": {},
     "output_type": "execute_result"
    }
   ],
   "source": [
    "sum(c << i for i, c in enumerate(digits))"
   ]
  },
  {
   "cell_type": "code",
   "execution_count": 322,
   "id": "b8bba5d9",
   "metadata": {},
   "outputs": [
    {
     "data": {
      "text/plain": [
       "[(0, 1), (1, 1), (2, 1), (3, 1)]"
      ]
     },
     "execution_count": 322,
     "metadata": {},
     "output_type": "execute_result"
    }
   ],
   "source": [
    "[(i,c) for i,c in enumerate(digits)]"
   ]
  },
  {
   "cell_type": "code",
   "execution_count": null,
   "id": "0064ec9f",
   "metadata": {},
   "outputs": [],
   "source": []
  },
  {
   "cell_type": "code",
   "execution_count": 331,
   "id": "428f89f7",
   "metadata": {},
   "outputs": [],
   "source": [
    "digits = [1,0,1,1]"
   ]
  },
  {
   "cell_type": "code",
   "execution_count": 332,
   "id": "720c987c",
   "metadata": {},
   "outputs": [
    {
     "data": {
      "text/plain": [
       "[1, 4, 8]"
      ]
     },
     "execution_count": 332,
     "metadata": {},
     "output_type": "execute_result"
    }
   ],
   "source": [
    "[c << i for i, c in enumerate(digits) if c!=0]"
   ]
  },
  {
   "cell_type": "code",
   "execution_count": null,
   "id": "e9a611d2",
   "metadata": {},
   "outputs": [],
   "source": []
  },
  {
   "cell_type": "code",
   "execution_count": null,
   "id": "0276ad1d",
   "metadata": {},
   "outputs": [],
   "source": [
    "\n",
    "# Transpose and reshape to n x 3 x 3 \n",
    "tens_full=np.transpose(tens_full, axes=(2, 0, 1))\n",
    "\n",
    "# This where the work on the full tensor will go....\n",
    "\n",
    "# Reshape for extraction of the symmetric tensor\n",
    "tens_full=np.reshape(tens_full, (2,9))\n",
    "\n",
    "# Create an array for the test ouput symmetric tensor\n",
    "sym_tens_out=np.empty((2,6), dtype=np.int32)\n",
    "\n",
    "# Extract the symmetric components\n",
    "sym_tens_out[:,0]=tens_full[:,0]\n",
    "sym_tens_out[:,1]=tens_full[:,4]\n",
    "sym_tens_out[:,2]=tens_full[:,8]\n",
    "sym_tens_out[:,3]=tens_full[:,2]\n",
    "sym_tens_out[:,4]=tens_full[:,3]\n",
    "sym_tens_out[:,5]=tens_full[:,5]\n",
    "\n",
    "# Transpose....\n",
    "sym_tens_out=np.transpose(sym_tens_out)"
   ]
  },
  {
   "cell_type": "code",
   "execution_count": null,
   "id": "89365790",
   "metadata": {},
   "outputs": [],
   "source": []
  },
  {
   "cell_type": "code",
   "execution_count": null,
   "id": "9398cef2",
   "metadata": {},
   "outputs": [],
   "source": []
  },
  {
   "cell_type": "code",
   "execution_count": 315,
   "id": "9b8d9b82",
   "metadata": {},
   "outputs": [
    {
     "data": {
      "text/plain": [
       "array([[ 0,  9],\n",
       "       [ 1, 10],\n",
       "       [ 2, 11],\n",
       "       [ 3, 12],\n",
       "       [ 4, 13],\n",
       "       [ 5, 14]])"
      ]
     },
     "execution_count": 315,
     "metadata": {},
     "output_type": "execute_result"
    }
   ],
   "source": [
    "sym_tens_in"
   ]
  },
  {
   "cell_type": "code",
   "execution_count": null,
   "id": "a0373317",
   "metadata": {},
   "outputs": [],
   "source": []
  },
  {
   "cell_type": "code",
   "execution_count": null,
   "id": "838278cb",
   "metadata": {},
   "outputs": [],
   "source": []
  },
  {
   "cell_type": "code",
   "execution_count": null,
   "id": "2ee6794f",
   "metadata": {},
   "outputs": [],
   "source": []
  },
  {
   "cell_type": "code",
   "execution_count": 311,
   "id": "58b69af6",
   "metadata": {},
   "outputs": [
    {
     "data": {
      "text/plain": [
       "array([[ 0,  9],\n",
       "       [ 1, 10],\n",
       "       [ 2, 11],\n",
       "       [ 4, 13],\n",
       "       [ 3, 12],\n",
       "       [ 5, 14]], dtype=int32)"
      ]
     },
     "execution_count": 311,
     "metadata": {},
     "output_type": "execute_result"
    }
   ],
   "source": [
    "sym_tens_out"
   ]
  },
  {
   "cell_type": "code",
   "execution_count": 313,
   "id": "98748287",
   "metadata": {},
   "outputs": [
    {
     "data": {
      "text/plain": [
       "array([[ 0,  3,  4,  3,  1,  5,  4,  5,  2],\n",
       "       [ 9, 12, 13, 12, 10, 14, 13, 14, 11]])"
      ]
     },
     "execution_count": 313,
     "metadata": {},
     "output_type": "execute_result"
    }
   ],
   "source": [
    "tens_full"
   ]
  },
  {
   "cell_type": "code",
   "execution_count": 1,
   "id": "c6ed6b36",
   "metadata": {},
   "outputs": [
    {
     "ename": "AttributeError",
     "evalue": "'DataFrame' object has no attribute 'interactive'",
     "output_type": "error",
     "traceback": [
      "\u001b[0;31m---------------------------------------------------------------------------\u001b[0m",
      "\u001b[0;31mAttributeError\u001b[0m                            Traceback (most recent call last)",
      "Input \u001b[0;32mIn [1]\u001b[0m, in \u001b[0;36m<module>\u001b[0;34m\u001b[0m\n\u001b[1;32m      9\u001b[0m index \u001b[38;5;241m=\u001b[39m pd\u001b[38;5;241m.\u001b[39mto_datetime([\u001b[38;5;124m'\u001b[39m\u001b[38;5;124m2017-06-08\u001b[39m\u001b[38;5;124m'\u001b[39m, \u001b[38;5;124m'\u001b[39m\u001b[38;5;124m2017-06-09\u001b[39m\u001b[38;5;124m'\u001b[39m, \u001b[38;5;124m'\u001b[39m\u001b[38;5;124m2017-06-10\u001b[39m\u001b[38;5;124m'\u001b[39m, \u001b[38;5;124m'\u001b[39m\u001b[38;5;124m2017-06-11\u001b[39m\u001b[38;5;124m'\u001b[39m])\n\u001b[1;32m     11\u001b[0m df \u001b[38;5;241m=\u001b[39m pd\u001b[38;5;241m.\u001b[39mDataFrame(dictionary, index\u001b[38;5;241m=\u001b[39mindex)\n\u001b[0;32m---> 13\u001b[0m dfi \u001b[38;5;241m=\u001b[39m \u001b[43mdf\u001b[49m\u001b[38;5;241;43m.\u001b[39;49m\u001b[43minteractive\u001b[49m\n",
      "File \u001b[0;32m/opt/homebrew/Caskroom/miniforge/base/lib/python3.9/site-packages/pandas/core/generic.py:5487\u001b[0m, in \u001b[0;36mNDFrame.__getattr__\u001b[0;34m(self, name)\u001b[0m\n\u001b[1;32m   5480\u001b[0m \u001b[38;5;28;01mif\u001b[39;00m (\n\u001b[1;32m   5481\u001b[0m     name \u001b[38;5;129;01mnot\u001b[39;00m \u001b[38;5;129;01min\u001b[39;00m \u001b[38;5;28mself\u001b[39m\u001b[38;5;241m.\u001b[39m_internal_names_set\n\u001b[1;32m   5482\u001b[0m     \u001b[38;5;129;01mand\u001b[39;00m name \u001b[38;5;129;01mnot\u001b[39;00m \u001b[38;5;129;01min\u001b[39;00m \u001b[38;5;28mself\u001b[39m\u001b[38;5;241m.\u001b[39m_metadata\n\u001b[1;32m   5483\u001b[0m     \u001b[38;5;129;01mand\u001b[39;00m name \u001b[38;5;129;01mnot\u001b[39;00m \u001b[38;5;129;01min\u001b[39;00m \u001b[38;5;28mself\u001b[39m\u001b[38;5;241m.\u001b[39m_accessors\n\u001b[1;32m   5484\u001b[0m     \u001b[38;5;129;01mand\u001b[39;00m \u001b[38;5;28mself\u001b[39m\u001b[38;5;241m.\u001b[39m_info_axis\u001b[38;5;241m.\u001b[39m_can_hold_identifiers_and_holds_name(name)\n\u001b[1;32m   5485\u001b[0m ):\n\u001b[1;32m   5486\u001b[0m     \u001b[38;5;28;01mreturn\u001b[39;00m \u001b[38;5;28mself\u001b[39m[name]\n\u001b[0;32m-> 5487\u001b[0m \u001b[38;5;28;01mreturn\u001b[39;00m \u001b[38;5;28;43mobject\u001b[39;49m\u001b[38;5;241;43m.\u001b[39;49m\u001b[38;5;21;43m__getattribute__\u001b[39;49m\u001b[43m(\u001b[49m\u001b[38;5;28;43mself\u001b[39;49m\u001b[43m,\u001b[49m\u001b[43m \u001b[49m\u001b[43mname\u001b[49m\u001b[43m)\u001b[49m\n",
      "\u001b[0;31mAttributeError\u001b[0m: 'DataFrame' object has no attribute 'interactive'"
     ]
    }
   ],
   "source": [
    "import pandas as pd\n",
    "import panel as pn\n",
    "\n",
    "dictionary = {'A':[12,13,14,15],\n",
    "              'B':[17,18,19,20],\n",
    "              'C':[35,36,37,38],\n",
    "              'D':[45,46,47,48]}\n",
    "\n",
    "index = pd.to_datetime(['2017-06-08', '2017-06-09', '2017-06-10', '2017-06-11'])\n",
    "\n",
    "df = pd.DataFrame(dictionary, index=index)\n",
    "\n",
    "dfi = df.interactive"
   ]
  },
  {
   "cell_type": "code",
   "execution_count": null,
   "id": "ee436b8d",
   "metadata": {},
   "outputs": [],
   "source": []
  }
 ],
 "metadata": {
  "kernelspec": {
   "display_name": "Python 3.9",
   "language": "python",
   "name": "python3"
  },
  "language_info": {
   "codemirror_mode": {
    "name": "ipython",
    "version": 3
   },
   "file_extension": ".py",
   "mimetype": "text/x-python",
   "name": "python",
   "nbconvert_exporter": "python",
   "pygments_lexer": "ipython3",
   "version": "3.9.7"
  },
  "varInspector": {
   "cols": {
    "lenName": 16,
    "lenType": 16,
    "lenVar": 40
   },
   "kernels_config": {
    "python": {
     "delete_cmd_postfix": "",
     "delete_cmd_prefix": "del ",
     "library": "var_list.py",
     "varRefreshCmd": "print(var_dic_list())"
    },
    "r": {
     "delete_cmd_postfix": ") ",
     "delete_cmd_prefix": "rm(",
     "library": "var_list.r",
     "varRefreshCmd": "cat(var_dic_list()) "
    }
   },
   "types_to_exclude": [
    "module",
    "function",
    "builtin_function_or_method",
    "instance",
    "_Feature"
   ],
   "window_display": false
  }
 },
 "nbformat": 4,
 "nbformat_minor": 5
}
