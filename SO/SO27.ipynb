{
 "cells": [
  {
   "cell_type": "code",
   "execution_count": null,
   "id": "cc20d32e",
   "metadata": {},
   "outputs": [],
   "source": [
    "from sklearn.ensemble import RandomForestRegressor\n",
    "from sklearn.ensemble import GradientBoostingRegressor\n",
    "from sklearn.model_selection import train_test_split\n",
    "from sklearn.metrics import r2_score, mean_absolute_error, mean_squared_error\n",
    "import time"
   ]
  },
  {
   "cell_type": "code",
   "execution_count": null,
   "id": "30d7b837",
   "metadata": {},
   "outputs": [],
   "source": []
  },
  {
   "cell_type": "code",
   "execution_count": null,
   "id": "dee4396b",
   "metadata": {},
   "outputs": [],
   "source": [
    "def model()"
   ]
  },
  {
   "cell_type": "code",
   "execution_count": null,
   "id": "732322c1",
   "metadata": {},
   "outputs": [],
   "source": []
  },
  {
   "cell_type": "code",
   "execution_count": null,
   "id": "ab9273c9",
   "metadata": {},
   "outputs": [],
   "source": [
    "# define regression function\n",
    "def regression1(X_train, X_test, y_train, y_test):\n",
    "    Regressor = {'Random Forest Regressor': RandomForestRegressor(n_estimators=200)}\n",
    "\n",
    "    for name, clf in Regressor.items():\n",
    "        st = time.time()\n",
    "        print(name)\n",
    "        clf.fit(X_train, y_train)\n",
    "        pred = clf.predict(X_test)\n",
    "        et = time.time()\n",
    "        print(f'R-Squared: {r2_score(y_test, pred):.9f}')\n",
    "        print(f'Mean absolute error: {mean_absolute_error(y_test, pred):.9f}')\n",
    "        print(f'Mean squared error: {mean_squared_error(y_test, pred):.9f}')\n",
    "        print('Execution time:', et - st)\n",
    "        print()\n",
    "        \n",
    "        return pred\n",
    "        \n",
    "# define regression function\n",
    "def regression2(X_train, X_test, y_train, y_test):\n",
    "    Regressor = {'Extreme Gradient Boosting Regressor': GradientBoostingRegressor(n_estimators=500)}\n",
    "\n",
    "    for name, clf in Regressor.items():\n",
    "        st = time.time()\n",
    "        print(name)\n",
    "        clf.fit(X_train, y_train)\n",
    "        pred = clf.predict(X_test)\n",
    "        et = time.time()\n",
    "        print(f'R-Squared: {r2_score(y_test, pred):.9f}')\n",
    "        print(f'Mean absolute error: {mean_absolute_error(y_test, pred):.9f}')\n",
    "        print(f'Mean squared error: {mean_squared_error(y_test, pred):.9f}')\n",
    "        print('Execution time:', et - st)\n",
    "        print()\n",
    "        \n",
    "        return pred"
   ]
  },
  {
   "cell_type": "code",
   "execution_count": null,
   "id": "999b0039",
   "metadata": {},
   "outputs": [],
   "source": [
    "X = np.random.random((500,10))\n",
    "y = np.random.random((500,))\n",
    "\n",
    "X_train_BTC, X_test_BTC, y_train_BTC, y_test_BTC = train_test_split(X, y, test_size=0.2)"
   ]
  },
  {
   "cell_type": "code",
   "execution_count": null,
   "id": "b6e086ee",
   "metadata": {},
   "outputs": [],
   "source": [
    "# Bitcoin (BTC)\n",
    "print('Bitcoin (BTC):')\n",
    "pred1 = regression1(X_train_BTC, X_test_BTC, y_train_BTC, y_test_BTC)"
   ]
  },
  {
   "cell_type": "code",
   "execution_count": null,
   "id": "5d9b9da5",
   "metadata": {},
   "outputs": [],
   "source": [
    "\n",
    "\n",
    "\n",
    "\n",
    "\n",
    "\n",
    "plt.figure(figsize=(15,8))\n",
    "(bitcoin[:0]['daily_avg']).plot(label='Historical Price')\n",
    "(bitcoin[-31:]['daily_avg']).plot(label='Predicted Price')\n",
    "\n",
    "plt.xlabel('Time')\n",
    "plt.ylabel('Price in USD')\n",
    "plt.title('Prediction with Random Forest Regressor')\n",
    "\n",
    "# Bitcoin (BTC)\n",
    "print('Bitcoin (BTC):')\n",
    "regression2(X_train_BTC, X_test_BTC, y_train_BTC, y_test_BTC)\n",
    "\n",
    "\n",
    "plt.figure(figsize=(15,8))\n",
    "(bitcoin[:0]['daily_avg']).plot(label='Historical Price')\n",
    "(bitcoin[-31:]['daily_avg']).plot(label='Predicted Price')\n",
    "\n",
    "plt.xlabel('Time')\n",
    "plt.ylabel('Price in USD')\n",
    "plt.title('Prediction with Extreme Gradient Boosting Regressor')"
   ]
  },
  {
   "cell_type": "code",
   "execution_count": null,
   "id": "d75d9758",
   "metadata": {},
   "outputs": [],
   "source": [
    "import pandas as pd"
   ]
  },
  {
   "cell_type": "code",
   "execution_count": null,
   "id": "fed6b4b6",
   "metadata": {},
   "outputs": [],
   "source": [
    "df = pd.DataFrame({\"\": [0,1,2,3,4,5,6,7,8],\n",
    "                     \"c1\": [\"abc1\", \"\", \"dfg\", \"abc1\", \"\",\"dfg\",\"ghj\",\"abc1\",\"abc1\"], \n",
    "                     \"c2\": [\"abc1\", \"abc1\", \"dfg\", \"dfg\", \"\",\"dfg\",\"\",\"ghj\",\"abc1\"], \n",
    "                     \"c3\": [\"abc1\", \"\", \"dfg\", \"dfg\", \"dfg\",\"dfg\",\"abc1\",\"ghj\",\"abc1\"]})"
   ]
  },
  {
   "cell_type": "code",
   "execution_count": null,
   "id": "d2fa8e40",
   "metadata": {},
   "outputs": [],
   "source": [
    "df"
   ]
  },
  {
   "cell_type": "code",
   "execution_count": null,
   "id": "3fed698a",
   "metadata": {},
   "outputs": [],
   "source": [
    "output = df[df.isin(['abc1', 'dfg']).any(1)]\n",
    "\n",
    "print(output)\n",
    "\n",
    "\n",
    "        c1    c2    c3\n",
    "0  0  abc1  abc1  abc1\n",
    "1  1        abc1      \n",
    "2  2   dfg   dfg   dfg\n",
    "3  3  abc1   dfg   dfg\n",
    "4  4               dfg\n",
    "5  5   dfg   dfg   dfg\n",
    "6  6   ghj        abc1\n",
    "7  7  abc1   ghj   ghj\n",
    "8  8  abc1  abc1  abc1"
   ]
  },
  {
   "cell_type": "code",
   "execution_count": null,
   "id": "1cdb3548",
   "metadata": {},
   "outputs": [],
   "source": [
    "df[(df == 'abc1').any(1)]"
   ]
  },
  {
   "cell_type": "code",
   "execution_count": null,
   "id": "881ae659",
   "metadata": {},
   "outputs": [],
   "source": [
    "output = df[df[['c1','c3']].isin(['abc1','ghj']).any(1)]\n",
    "\n",
    "print(output)\n",
    "\n",
    "        c1    c2    c3\n",
    "0  0  abc1  abc1  abc1\n",
    "3  3  abc1   dfg   dfg\n",
    "6  6   ghj        abc1\n",
    "7  7  abc1   ghj   ghj\n",
    "8  8  abc1  abc1  abc1"
   ]
  },
  {
   "cell_type": "code",
   "execution_count": null,
   "id": "9fd29b39",
   "metadata": {},
   "outputs": [],
   "source": [
    "a1 = np.array([[0],\n",
    "       [1],\n",
    "       [2],\n",
    "       [3],\n",
    "       [4]])\n",
    "b2 = np.array([[100, 101],\n",
    "       [102, 103],\n",
    "       [104, 105],\n",
    "       [106, 107],\n",
    "       [108, 109]])"
   ]
  },
  {
   "cell_type": "code",
   "execution_count": null,
   "id": "f15d12ce",
   "metadata": {},
   "outputs": [],
   "source": [
    "c1 = np.array([[[0], [100, 101]],\n",
    "       [[1], [102, 103]],\n",
    "       [[2], [104, 105]],\n",
    "       [[3], [106, 107]],\n",
    "       [[4], [108, 109]]])"
   ]
  },
  {
   "cell_type": "code",
   "execution_count": null,
   "id": "3b8c35a8",
   "metadata": {},
   "outputs": [],
   "source": [
    "a1"
   ]
  },
  {
   "cell_type": "code",
   "execution_count": null,
   "id": "de53e49c",
   "metadata": {},
   "outputs": [],
   "source": [
    "import tensorflow as tf"
   ]
  },
  {
   "cell_type": "code",
   "execution_count": null,
   "id": "b04df894",
   "metadata": {},
   "outputs": [],
   "source": []
  },
  {
   "cell_type": "code",
   "execution_count": null,
   "id": "83ab9f51",
   "metadata": {},
   "outputs": [],
   "source": [
    "tf.ragged.stack([i for i in zip(a1, b2)])"
   ]
  },
  {
   "cell_type": "code",
   "execution_count": null,
   "id": "888a2327",
   "metadata": {},
   "outputs": [],
   "source": [
    "np.array(list(zip(a1, b2)))\n",
    "\n",
    "array([[array([0]), array([100, 101])],\n",
    "       [array([1]), array([102, 103])],\n",
    "       [array([2]), array([104, 105])],\n",
    "       [array([3]), array([106, 107])],\n",
    "       [array([4]), array([108, 109])]], dtype=object)"
   ]
  },
  {
   "cell_type": "code",
   "execution_count": null,
   "id": "9cf8442a",
   "metadata": {},
   "outputs": [],
   "source": []
  },
  {
   "cell_type": "code",
   "execution_count": null,
   "id": "d0f676ae",
   "metadata": {},
   "outputs": [],
   "source": [
    "tf.ragged.constant(np.array(list(zip(a1, b2))))\n",
    "\n",
    "<tf.RaggedTensor [[[0], [100, 101]], [[1], [102, 103]], [[2], [104, 105]], [[3], [106, 107]], [[4], [108, 109]]]>"
   ]
  },
  {
   "cell_type": "code",
   "execution_count": null,
   "id": "2b665de2",
   "metadata": {},
   "outputs": [],
   "source": [
    "import pandas as pd\n",
    "#from sklearn.preprocessing import MinMaxScaler"
   ]
  },
  {
   "cell_type": "code",
   "execution_count": null,
   "id": "2fa1eac1",
   "metadata": {},
   "outputs": [],
   "source": [
    "dfTest = pd.DataFrame({'A':[14.00,90.20,90.95,96.27,91.21],\n",
    "                       'B':[103.02,107.26,110.35,114.23,114.68],\n",
    "                       'C':['big','small','big','small','small']})"
   ]
  },
  {
   "cell_type": "code",
   "execution_count": null,
   "id": "eb782a29",
   "metadata": {},
   "outputs": [],
   "source": [
    "scaler = MinMaxScaler()\n",
    "\n",
    "\n",
    "\n",
    "cols = ['A','B']\n",
    "old_shape = dfTest[cols].shape #(5,2)\n",
    "\n",
    "dfTest[cols] = scaler.fit_transform(dfTest[cols].to_numpy().reshape(-1,1)).reshape(old_shape)\n",
    "print(dfTest)\n",
    "\n",
    "          A         B      C\n",
    "0  0.000000  0.884188    big\n",
    "1  0.756853  0.926301  small\n",
    "2  0.764303  0.956992    big\n",
    "3  0.817143  0.995530  small\n",
    "4  0.766885  1.000000  small"
   ]
  },
  {
   "cell_type": "code",
   "execution_count": null,
   "id": "ab5a649a",
   "metadata": {},
   "outputs": [],
   "source": []
  },
  {
   "cell_type": "code",
   "execution_count": null,
   "id": "0fbf8dc1",
   "metadata": {},
   "outputs": [],
   "source": [
    "from sklearn.base import TransformerMixin, BaseEstimator"
   ]
  },
  {
   "cell_type": "code",
   "execution_count": null,
   "id": "29f8dbd3",
   "metadata": {},
   "outputs": [],
   "source": [
    "class GlobalMinMaxScaler(TransformerMixin, BaseEstimator):\n",
    "\n",
    "    _parameter_constraints: dict = {\n",
    "        \"feature_range\": [tuple],\n",
    "        \"copy\": [\"boolean\"],\n",
    "        \"clip\": [\"boolean\"],\n",
    "    }\n",
    "\n",
    "    def __init__(self, feature_range=(0, 1), *, copy=True, clip=False):\n",
    "        self.feature_range = feature_range\n",
    "        self.copy = copy\n",
    "        self.clip = clip\n",
    "\n",
    "\n",
    "    def fit(self, X, y=None):\n",
    "        # Reset internal state before fitting\n",
    "        return self.partial_fit(X, y)\n",
    "    \n",
    "    def partial_fit(self, X, y=None):\n",
    "        \n",
    "        self._validate_params()\n",
    "\n",
    "        feature_range = self.feature_range\n",
    "        if feature_range[0] >= feature_range[1]:\n",
    "            raise ValueError(\n",
    "                \"Minimum of desired feature range must be smaller than maximum. Got %s.\"\n",
    "                % str(feature_range)\n",
    "            )\n",
    "\n",
    "        if sparse.issparse(X):\n",
    "            raise TypeError(\n",
    "                \"MinMaxScaler does not support sparse input. \"\n",
    "                \"Consider using MaxAbsScaler instead.\"\n",
    "            )\n",
    "\n",
    "        first_pass = not hasattr(self, \"n_samples_seen_\")\n",
    "        \n",
    "        X = self._validate_data(\n",
    "            X,\n",
    "            reset=first_pass,\n",
    "            dtype=FLOAT_DTYPES,\n",
    "            force_all_finite=\"allow-nan\",\n",
    "        )\n",
    "\n",
    "        data_min = np.nanmin(X)\n",
    "        data_max = np.nanmax(X)\n",
    "\n",
    "        if first_pass:\n",
    "            self.n_samples_seen_ = X.shape[0]\n",
    "            \n",
    "        else:\n",
    "            data_min = np.minimum(self.data_min_, data_min)\n",
    "            data_max = np.maximum(self.data_max_, data_max)\n",
    "            self.n_samples_seen_ += X.shape[0]\n",
    "\n",
    "        data_range = data_max - data_min\n",
    "        self.scale_ = (feature_range[1] - feature_range[0]) / _handle_zeros_in_scale(\n",
    "            data_range, copy=True\n",
    "        )\n",
    "        self.min_ = feature_range[0] - data_min * self.scale_\n",
    "        self.data_min_ = data_min\n",
    "        self.data_max_ = data_max\n",
    "        self.data_range_ = data_range\n",
    "        return self\n",
    "\n",
    "    def transform(self, X):\n",
    "        check_is_fitted(self)\n",
    "\n",
    "        X = self._validate_data(\n",
    "            X,\n",
    "            copy=self.copy,\n",
    "            dtype=FLOAT_DTYPES,\n",
    "            force_all_finite=\"allow-nan\",\n",
    "            reset=False,\n",
    "        )\n",
    "\n",
    "        X *= self.scale_\n",
    "        X += self.min_\n",
    "        if self.clip:\n",
    "            np.clip(X, self.feature_range[0], self.feature_range[1], out=X)\n",
    "        return X\n",
    "\n",
    "    def inverse_transform(self, X):\n",
    "        check_is_fitted(self)\n",
    "\n",
    "        X = check_array(\n",
    "            X, copy=self.copy, dtype=FLOAT_DTYPES, force_all_finite=\"allow-nan\"\n",
    "        )\n",
    "\n",
    "        X -= self.min_\n",
    "        X /= self.scale_\n",
    "        return X\n",
    "\n",
    "    def _more_tags(self):\n",
    "        return {\"allow_nan\": True}"
   ]
  },
  {
   "cell_type": "code",
   "execution_count": null,
   "id": "a69a29e2",
   "metadata": {},
   "outputs": [],
   "source": [
    "s = GlobalMinMaxScaler()\n",
    "s.fit(dfTest[['A','B']])"
   ]
  },
  {
   "cell_type": "code",
   "execution_count": null,
   "id": "7152c4f7",
   "metadata": {},
   "outputs": [],
   "source": []
  },
  {
   "cell_type": "code",
   "execution_count": null,
   "id": "30e3d814",
   "metadata": {},
   "outputs": [],
   "source": [
    "#P = int(input(\"Enter starting principle please. \"))\n",
    "#n = int(input(\"Enter number of compounding periods per year. \"))\n",
    "#r = float(input(\"Enter annual interest rate. e.g. 15 for 15% \"))\n",
    "#y = int(input(\"Enter the amount of years. \"))\n",
    "\n",
    "\n",
    "P = 200000\n",
    "n = 4\n",
    "r = 7\n",
    "y = 15/12\n",
    "\n",
    "FV = P * (((1 + ((r/100.0)/n)) ** (n*y)))\n",
    "\n",
    "print (\"The final amount after\", y, \"years is\", FV)"
   ]
  },
  {
   "cell_type": "code",
   "execution_count": null,
   "id": "233fb7e6",
   "metadata": {},
   "outputs": [],
   "source": []
  },
  {
   "cell_type": "code",
   "execution_count": null,
   "id": "260e2062",
   "metadata": {},
   "outputs": [],
   "source": [
    "#old_ir = \n",
    "\n",
    "curr_ir = {'T': [0.25, 0.5 , 0.75, 1  , 1.25, 1.5, 1.75, 2, 3, 5], \n",
    "           'IR':[4.5 , 5.75, 6   , 6.5, 7   , 7  , 7   , 7, 7, 7]}\n",
    "curr_ir = pd.DataFrame(curr_ir)"
   ]
  },
  {
   "cell_type": "code",
   "execution_count": null,
   "id": "df4067ec",
   "metadata": {},
   "outputs": [],
   "source": []
  },
  {
   "cell_type": "code",
   "execution_count": null,
   "id": "6ec9e043",
   "metadata": {},
   "outputs": [],
   "source": [
    "dct_data = {'ID': {0: 'a',\n",
    "                   1: 'a',\n",
    "                   2: 'a',\n",
    "                   3: 'a',\n",
    "                   4: 'a',\n",
    "                   5: 'b',\n",
    "                   6: 'b',\n",
    "                   7: 'b',\n",
    "                   8: 'b',\n",
    "                   9: 'b'},\n",
    "            'time': {0: '2022-12-23 14:56:00',\n",
    "                     1: '2022-12-23 14:57:00',\n",
    "                     2: '2022-12-23 14:58:00',\n",
    "                     3: '2022-12-23 14:59:00',\n",
    "                     4: '2022-12-23 15:00:00',\n",
    "                     5: '2022-12-23 14:56:00',\n",
    "                     6: '2022-12-23 14:57:00',\n",
    "                     7: '2022-12-23 14:58:00',\n",
    "                     8: '2022-12-23 14:59:00',\n",
    "                     9: '2022-12-23 15:00:00'},\n",
    "            'rolling': {0: 3, 1: 3, 2: 3, 3: 3, 4: 3, 5: 2, 6: 2, 7: 2, 8: 2, 9: 2},\n",
    "            'value': {0: 19, 1: 14, 2: 14, 3: 32, 4: 16, 5: 0, 6: 6, 7: 1, 8: 4, 9: 3} }\n",
    "\n",
    "df_test = pd.DataFrame(dct_data)\n",
    "expected_column = [0+0+19, 0+19+14,19+14+14,14+14+32,14+32+16,0+0,0+6,6+1,1+4,4+3]\n",
    "df_test['expected_column'] = expected_column"
   ]
  },
  {
   "cell_type": "code",
   "execution_count": null,
   "id": "49a38240",
   "metadata": {},
   "outputs": [],
   "source": [
    "f = lambda x: x['value'].rolling(x['rolling'].unique()[0], min_periods=1).sum()\n",
    "\n",
    "\n"
   ]
  },
  {
   "cell_type": "code",
   "execution_count": null,
   "id": "1736e5c7",
   "metadata": {},
   "outputs": [],
   "source": [
    "df_test[['rolling', 'value']].apply(tuple, axis=1).rolling().apply()"
   ]
  },
  {
   "cell_type": "code",
   "execution_count": null,
   "id": "3ef3ce24",
   "metadata": {},
   "outputs": [],
   "source": [
    "int(row['rolling'])).apply(np.prod, raw=True).loc[row.name]-1"
   ]
  },
  {
   "cell_type": "code",
   "execution_count": null,
   "id": "612d2311",
   "metadata": {},
   "outputs": [],
   "source": [
    "def get_window(row, df):\n",
    "    return df.rolling(window=int(row['rolling'])).apply(sum, raw=True).loc[row.name]-1\n",
    "\n",
    "\n",
    "df_test.apply(get_window, axis=1, df=df_test)"
   ]
  },
  {
   "cell_type": "code",
   "execution_count": null,
   "id": "dec97730",
   "metadata": {},
   "outputs": [],
   "source": [
    "df.rolling"
   ]
  },
  {
   "cell_type": "code",
   "execution_count": null,
   "id": "c7afacc6",
   "metadata": {},
   "outputs": [],
   "source": []
  },
  {
   "cell_type": "code",
   "execution_count": null,
   "id": "1719d87a",
   "metadata": {},
   "outputs": [],
   "source": [
    "f = lambda row, df : df.rolling(int(row['rolling'])).sum()\n",
    "\n",
    "\n",
    "df_test.apply(f, axis=1, df=df_test)"
   ]
  },
  {
   "cell_type": "code",
   "execution_count": null,
   "id": "f5434c64",
   "metadata": {},
   "outputs": [],
   "source": []
  },
  {
   "cell_type": "code",
   "execution_count": null,
   "id": "5d8cc87a",
   "metadata": {},
   "outputs": [],
   "source": []
  },
  {
   "cell_type": "code",
   "execution_count": null,
   "id": "9fdcdaab",
   "metadata": {},
   "outputs": [],
   "source": [
    "list(zip(df_test['ID'],df_test['rolling'],df_test['value']))"
   ]
  },
  {
   "cell_type": "code",
   "execution_count": null,
   "id": "c54414b2",
   "metadata": {},
   "outputs": [],
   "source": [
    "df_test[['rolling','value']].to_numpy()"
   ]
  },
  {
   "cell_type": "code",
   "execution_count": null,
   "id": "fcbe4c15",
   "metadata": {},
   "outputs": [],
   "source": [
    "df_test['value'].to_numpy()"
   ]
  },
  {
   "cell_type": "code",
   "execution_count": null,
   "id": "beaaa91d",
   "metadata": {},
   "outputs": [],
   "source": [
    "np.convolve(df_test['rolling'].to_numpy(), df_test['value'].to_numpy())"
   ]
  },
  {
   "cell_type": "code",
   "execution_count": null,
   "id": "89ba214b",
   "metadata": {},
   "outputs": [],
   "source": []
  },
  {
   "cell_type": "code",
   "execution_count": null,
   "id": "6c0f4423",
   "metadata": {},
   "outputs": [],
   "source": [
    "from numpy.lib.stride_tricks import sliding_window_view"
   ]
  },
  {
   "cell_type": "code",
   "execution_count": null,
   "id": "3e83c014",
   "metadata": {},
   "outputs": [],
   "source": [
    "sliding_window_view()"
   ]
  },
  {
   "cell_type": "code",
   "execution_count": null,
   "id": "779e3df8",
   "metadata": {},
   "outputs": [],
   "source": [
    "inp = {'entities': [{'title': 'WarnerMedia', 'wikild': 'Q191715', 'label': 'Organization'}, \n",
    "                    {'title': 'Time (magazine)', 'wikild': 'Q43297', 'label': 'Organization'}, \n",
    "                    {'title': 'AOL', 'wikild': 'Q27585', 'label': 'Organization'}, \n",
    "                    {'title': 'Google', 'wikild': 'Q95', 'label': 'Organization'}, \n",
    "                    {'title': 'Warner Bros.', 'wikild': 'Q126399', 'label': 'Organization'}, \n",
    "                    {'title': 'U.S. Securities and Exchange Commission', 'wikild': 'Q953944', 'label': 'Organization'}\n",
    "                   ], \n",
    "       'relations': [{'source': 'Time (magazine)', 'target': 'WarnerMedia', 'type': 'owned by'}, \n",
    "                     {'source': 'WarnerMedia', 'target': 'Time (magazine)', 'type': 'subsidiary'}, \n",
    "                     {'source': 'WarnerMedia', 'target': 'Time (magazine)', 'type': 'owned by'}, \n",
    "                     {'source': 'WarnerMedia', 'target': 'U.S. Securities and Exchange Commission', 'type': 'subsidiary'}, \n",
    "                     {'source': 'U.S. Securities and Exchange Commission', 'target': 'WarnerMedia', 'type': 'subsidiary'}, \n",
    "                     {'source': 'WarnerMedia', 'target': 'AOL', 'type': 'subsidiary'}, \n",
    "                     {'source': 'AOL', 'target': 'WarnerMedia', 'type': 'subsidiary'}\n",
    "                    ]\n",
    "      }"
   ]
  },
  {
   "cell_type": "code",
   "execution_count": null,
   "id": "81a3d329",
   "metadata": {},
   "outputs": [],
   "source": [
    "out = {'entities': [{'title': 'Europe', 'wikild': 'Q46', 'label': 'Location'}, \n",
    "                    {'title': 'London', 'wikild': 'Q84', 'label': 'Organization'}, \n",
    "                    {'title': 'Federal Reserve', 'wikild': 'Q53536', 'label': 'Organization'}, \n",
    "                    {'title': 'United States', 'wikild': 'Q30', 'label': 'Organization'}, \n",
    "                    {'title': 'Federal government of the United States', 'wikild': 'Q48525', 'label': 'Organization'}, \n",
    "                    {'title': 'Bank of America', 'wikild': 'Q487907', 'label': 'Organization'}, \n",
    "                    {'title': 'Group of Seven', 'wikild': 'Q1764511', 'label': 'Organization'}, \n",
    "                    {'title': 'United States dollar', 'wikild': 'Q4917', 'label': 'Organization'}, \n",
    "                    {'title': 'New York (state)', 'wikild': 'Q1384', 'label': 'Organization'}, \n",
    "                    {'title': 'Alan Greenspan', 'wikild': 'Q193635', 'label': 'Person'}, \n",
    "                    {'title': 'Euro', 'wikild': 'Q4916', 'label': 'Organization'}, \n",
    "                    {'title': 'Germany', 'wikild': 'Q183', 'label': 'Organization'}], \n",
    "       'relations': [{'source': 'Federal Reserve', 'target': 'London', 'type': 'headquarters location'}, \n",
    "                     {'source': 'Bank of America', 'target': 'New York (state)', 'type': 'headquarters location'}, \n",
    "                     {'source': 'London', 'target': 'Federal Reserve', 'type': 'headquarters location'}, \n",
    "                     {'source': 'New York (state)', 'target': 'Bank of America', 'type': 'headquarters location'}\n",
    "                    ]\n",
    "      }"
   ]
  },
  {
   "cell_type": "code",
   "execution_count": null,
   "id": "1f6dd2c1",
   "metadata": {},
   "outputs": [],
   "source": [
    "inp = {'entities': [{'title': 'WarnerMedia', 'wikild': 'Q191715', 'label': 'Organization'}, \n",
    "                    {'title': 'Time (magazine)', 'wikild': 'Q43297', 'label': 'Organization'}, \n",
    "                    {'title': 'AOL', 'wikild': 'Q27585', 'label': 'Organization'}, \n",
    "                    {'title': 'Google', 'wikild': 'Q95', 'label': 'Organization'}, \n",
    "                    {'title': 'Warner Bros.', 'wikild': 'Q126399', 'label': 'Organization'}, \n",
    "                    {'title': 'U.S. Securities and Exchange Commission', 'wikild': 'Q953944', 'label': 'Organization'}\n",
    "                   ], \n",
    "       'relations': [{'source': 'Time (magazine)', 'target': 'WarnerMedia', 'type': 'owned by'}, \n",
    "                     {'source': 'WarnerMedia', 'target': 'Time (magazine)', 'type': 'subsidiary'}, \n",
    "                     {'source': 'WarnerMedia', 'target': 'Time (magazine)', 'type': 'owned by'}, \n",
    "                     {'source': 'WarnerMedia', 'target': 'U.S. Securities and Exchange Commission', 'type': 'subsidiary'}, \n",
    "                     {'source': 'U.S. Securities and Exchange Commission', 'target': 'WarnerMedia', 'type': 'subsidiary'}, \n",
    "                     {'source': 'WarnerMedia', 'target': 'AOL', 'type': 'subsidiary'}, \n",
    "                     {'source': 'AOL', 'target': 'WarnerMedia', 'type': 'subsidiary'}\n",
    "                    ]\n",
    "      }\n",
    "\n",
    "df = pd.DataFrame(inp['relations'])\n",
    "output = df[['source','type','target']]\n",
    "output"
   ]
  },
  {
   "cell_type": "code",
   "execution_count": null,
   "id": "320cb972",
   "metadata": {},
   "outputs": [],
   "source": []
  },
  {
   "cell_type": "code",
   "execution_count": null,
   "id": "7b56e3a8",
   "metadata": {},
   "outputs": [],
   "source": [
    "df = pd.read_clipboard()\n",
    "df"
   ]
  },
  {
   "cell_type": "code",
   "execution_count": null,
   "id": "f7a764c9",
   "metadata": {},
   "outputs": [],
   "source": [
    "x = df.iloc[0,1]\n",
    "y = \"The answer for: {} Crossword Clue.\".format(x)\n",
    "\n",
    "print(y)\n",
    "\n",
    "#'The answer for: Action done while saying \"Good dog\" Crossword Clue.'"
   ]
  },
  {
   "cell_type": "code",
   "execution_count": null,
   "id": "869cb9a9",
   "metadata": {},
   "outputs": [],
   "source": [
    "x"
   ]
  },
  {
   "cell_type": "code",
   "execution_count": null,
   "id": "69d9ff33",
   "metadata": {},
   "outputs": [],
   "source": [
    "df.iloc[0,[1]]\n",
    "\n",
    "Clue    Action done while saying \"Good dog\"\n",
    "Name: 0, dtype: object"
   ]
  },
  {
   "cell_type": "code",
   "execution_count": null,
   "id": "71f29623",
   "metadata": {},
   "outputs": [],
   "source": [
    "df.iloc[0,[1]]\n",
    "\n",
    "Clue    Action done while saying \"Good dog\"\n",
    "Name: 0, dtype: object\n",
    "\n",
    "\n",
    "df.iloc[[0],1]\n",
    "\n",
    "0    Action done while saying \"Good dog\"\n",
    "Name: Clue, dtype: object\n",
    "        \n",
    "print(df.iloc[[0],[1]])\n",
    "\n",
    "                                  Clue\n",
    "0  Action done while saying \"Good dog\"        "
   ]
  },
  {
   "cell_type": "code",
   "execution_count": null,
   "id": "d844987d",
   "metadata": {},
   "outputs": [],
   "source": [
    "print(df.iloc[[0],[1]])\n",
    "\n",
    "                                  Clue\n",
    "0  Action done while saying \"Good dog\""
   ]
  },
  {
   "cell_type": "code",
   "execution_count": null,
   "id": "707d9ea4",
   "metadata": {},
   "outputs": [],
   "source": []
  },
  {
   "cell_type": "code",
   "execution_count": null,
   "id": "9a39f1b1",
   "metadata": {},
   "outputs": [],
   "source": []
  },
  {
   "cell_type": "code",
   "execution_count": null,
   "id": "8358db7d",
   "metadata": {},
   "outputs": [],
   "source": []
  },
  {
   "cell_type": "code",
   "execution_count": null,
   "id": "f918766f",
   "metadata": {},
   "outputs": [],
   "source": []
  },
  {
   "cell_type": "code",
   "execution_count": null,
   "id": "e7c06a3b",
   "metadata": {},
   "outputs": [],
   "source": [
    "df_test['computed_columns'] = df_test.groupby('ID').apply(f,1).tolist()\n",
    "\n"
   ]
  },
  {
   "cell_type": "code",
   "execution_count": null,
   "id": "24c9d3be",
   "metadata": {},
   "outputs": [],
   "source": [
    "print(df_test)\n",
    "\n",
    "  ID                 time  rolling  value  expected_column  computed_columns\n",
    "0  a  2022-12-23 14:56:00        3     19               19              19.0\n",
    "1  a  2022-12-23 14:57:00        3     14               33              33.0\n",
    "2  a  2022-12-23 14:58:00        3     14               47              47.0\n",
    "3  a  2022-12-23 14:59:00        3     32               60              60.0\n",
    "4  a  2022-12-23 15:00:00        3     16               62              62.0\n",
    "5  b  2022-12-23 14:56:00        2      0                0               0.0\n",
    "6  b  2022-12-23 14:57:00        2      6                6               6.0\n",
    "7  b  2022-12-23 14:58:00        2      1                7               7.0\n",
    "8  b  2022-12-23 14:59:00        2      4                5               5.0\n",
    "9  b  2022-12-23 15:00:00        2      3                7               7.0"
   ]
  },
  {
   "cell_type": "code",
   "execution_count": null,
   "id": "f486080c",
   "metadata": {},
   "outputs": [],
   "source": []
  },
  {
   "cell_type": "code",
   "execution_count": null,
   "id": "da993533",
   "metadata": {},
   "outputs": [],
   "source": []
  },
  {
   "cell_type": "code",
   "execution_count": null,
   "id": "98c239bb",
   "metadata": {},
   "outputs": [],
   "source": []
  },
  {
   "cell_type": "code",
   "execution_count": null,
   "id": "c97712fe",
   "metadata": {},
   "outputs": [],
   "source": [
    "lst = [\"c1235666 Fink-Nottle, Augustus James\",\n",
    "       \"c3456765 O'Mahoney, Geoffrey\",\n",
    "       \"c8732719 De Leo, Victoria Margaret\",\n",
    "       \"c9676814 Thompson, Sabrina\",\n",
    "       \"c4418710 Heck, Kevin\",\n",
    "       \"c6888286 Callicutt, Jerome Arthur\",\n",
    "       \"c5127586 Riendeau, Kevin Gordon\",\n",
    "       \"c0671306 Jackson, Jerry Jason\",\n",
    "       \"c9629975 Perkins, Thomas\",\n",
    "       \"c7090763 Velez, Hyun\",\n",
    "       \"c6542898 Salsbury, Debra Mary Adele\",\n",
    "       \"c9510348 Molina, Arianne Brittney\",\n",
    "       \"c5374186 Sampson, Lester\",\n",
    "       \"c7644752 Monroe, Herman Cecil Bobby\",\n",
    "       \"c3503016 Martin, Barbara\",\n",
    "       \"c5329366 Rosas, Richard Joe\",\n",
    "       \"c5329841 Walker, Richard\",\n",
    "       \"c1141514 Ellison, Michael William\",\n",
    "       \"c5767766 Lacourse, Rhonda Elizabeth Ann\",\n",
    "       \"c3289570 Andre, Edna Ernestine\",\n",
    "       \"c1457928 Woodard, Anthony\",\n",
    "       \"c0031488 Kaye, Robert\"]"
   ]
  },
  {
   "cell_type": "code",
   "execution_count": null,
   "id": "33dbd7ce",
   "metadata": {},
   "outputs": [],
   "source": [
    "lst"
   ]
  },
  {
   "cell_type": "code",
   "execution_count": null,
   "id": "4c63b27b",
   "metadata": {},
   "outputs": [],
   "source": [
    "combi_col = [[0,1,2],[0,1],[0],[1,2],[0,2],[1,2,3],[2,3],[3,1]]"
   ]
  },
  {
   "cell_type": "code",
   "execution_count": null,
   "id": "028f050b",
   "metadata": {},
   "outputs": [],
   "source": [
    "[i for i in combi_col if 0 in i and len(i)>1]"
   ]
  },
  {
   "cell_type": "code",
   "execution_count": null,
   "id": "742eea4c",
   "metadata": {},
   "outputs": [],
   "source": [
    "y = np.random.random((7,12))"
   ]
  },
  {
   "cell_type": "code",
   "execution_count": null,
   "id": "f8f8c0f2",
   "metadata": {},
   "outputs": [],
   "source": [
    "y"
   ]
  },
  {
   "cell_type": "code",
   "execution_count": null,
   "id": "1fbb0c79",
   "metadata": {},
   "outputs": [],
   "source": [
    "[y[0][j]+y[1][j],y[7][j] for j in range(len(y[0]))]"
   ]
  },
  {
   "cell_type": "code",
   "execution_count": null,
   "id": "be97887a",
   "metadata": {},
   "outputs": [],
   "source": [
    "pd.read_clipboard()"
   ]
  },
  {
   "cell_type": "code",
   "execution_count": null,
   "id": "b80d4bb8",
   "metadata": {},
   "outputs": [],
   "source": [
    "df = pd.DataFrame({'song':[1,2,3,4,5],\n",
    "                   'genre':[['pop','rock'],\n",
    "                            ['rock','pop'],\n",
    "                            ['avant garde','pop'],\n",
    "                            ['rock','metal'],\n",
    "                            ['metal','calm']]})"
   ]
  },
  {
   "cell_type": "code",
   "execution_count": null,
   "id": "922e18cb",
   "metadata": {},
   "outputs": [],
   "source": [
    "df['genre'].str[0]"
   ]
  },
  {
   "cell_type": "code",
   "execution_count": null,
   "id": "1c746ac5",
   "metadata": {},
   "outputs": [],
   "source": [
    "df = pd.read_csv('/Users/akshay/Downloads/archive/artists.csv')\n",
    "df['genres'] = df['genres'].apply(literal_eval)\n",
    "df['genres'].str[0]\n",
    "\n",
    "0                        NaN\n",
    "1                        NaN\n",
    "2                        NaN\n",
    "3                        NaN\n",
    "4                        NaN\n",
    "                 ...        \n",
    "1104344                  NaN\n",
    "1104345    deep acoustic pop\n",
    "1104346                  NaN\n",
    "1104347                  NaN"
   ]
  },
  {
   "cell_type": "code",
   "execution_count": null,
   "id": "82eec726",
   "metadata": {},
   "outputs": [],
   "source": [
    "df"
   ]
  },
  {
   "cell_type": "code",
   "execution_count": null,
   "id": "3ae323da",
   "metadata": {},
   "outputs": [],
   "source": []
  },
  {
   "cell_type": "code",
   "execution_count": null,
   "id": "b3c0c031",
   "metadata": {},
   "outputs": [],
   "source": []
  },
  {
   "cell_type": "code",
   "execution_count": null,
   "id": "96021402",
   "metadata": {},
   "outputs": [],
   "source": []
  },
  {
   "cell_type": "code",
   "execution_count": null,
   "id": "0c0803e5",
   "metadata": {},
   "outputs": [],
   "source": []
  },
  {
   "cell_type": "code",
   "execution_count": null,
   "id": "2a527792",
   "metadata": {},
   "outputs": [],
   "source": []
  },
  {
   "cell_type": "code",
   "execution_count": null,
   "id": "0847d4d8",
   "metadata": {},
   "outputs": [],
   "source": [
    "from ast import literal_eval"
   ]
  },
  {
   "cell_type": "code",
   "execution_count": null,
   "id": "d651c086",
   "metadata": {},
   "outputs": [],
   "source": []
  },
  {
   "cell_type": "code",
   "execution_count": null,
   "id": "100878af",
   "metadata": {},
   "outputs": [],
   "source": []
  },
  {
   "cell_type": "code",
   "execution_count": null,
   "id": "e7ca8cfe",
   "metadata": {},
   "outputs": [],
   "source": [
    "df = pd.read_csv('/Users/akshay/Downloads/archive/artists.csv', \n",
    "                 converters={'genres': literal_eval})\n",
    "\n",
    "df['genres'].str[0]\n",
    "\n",
    "0                        NaN\n",
    "1                        NaN\n",
    "2                        NaN\n",
    "3                        NaN\n",
    "4                        NaN\n",
    "                 ...        \n",
    "1104344                  NaN\n",
    "1104345    deep acoustic pop\n",
    "1104346                  NaN\n",
    "1104347                  NaN\n",
    "1104348                  NaN"
   ]
  },
  {
   "cell_type": "code",
   "execution_count": null,
   "id": "d84ee4b4",
   "metadata": {},
   "outputs": [],
   "source": [
    "pd.DataFrame([[['Deep Acoustic Pop','Pop']]])[0].str[0].str.split().str[0]"
   ]
  },
  {
   "cell_type": "code",
   "execution_count": null,
   "id": "84237a1f",
   "metadata": {},
   "outputs": [],
   "source": [
    "df['genre'].str[0]"
   ]
  },
  {
   "cell_type": "code",
   "execution_count": null,
   "id": "0e3031a5",
   "metadata": {},
   "outputs": [],
   "source": [
    "d = {'A': [5.0, 6.20], 'B': [1.92, 3.35], 'C': [3.21, 7.0], 'D': [2.18, 9.90]}"
   ]
  },
  {
   "cell_type": "code",
   "execution_count": null,
   "id": "267aa01c",
   "metadata": {},
   "outputs": [],
   "source": [
    "x/100 * y/100 = 5.0/100 * 6.20/100"
   ]
  },
  {
   "cell_type": "code",
   "execution_count": null,
   "id": "4a57b9eb",
   "metadata": {},
   "outputs": [],
   "source": [
    "{k:(x/100) * (y/100) for k,(x,y) in d.items()}"
   ]
  },
  {
   "cell_type": "code",
   "execution_count": null,
   "id": "b6215a2c",
   "metadata": {},
   "outputs": [],
   "source": [
    "    A    B   C\n",
    "0   id1  2   10\n",
    "1   id1  3   20\n",
    "2   id2  1   30"
   ]
  },
  {
   "cell_type": "code",
   "execution_count": null,
   "id": "3d0c9cb2",
   "metadata": {},
   "outputs": [],
   "source": [
    "df = pd.read_clipboard()\n",
    "df"
   ]
  },
  {
   "cell_type": "code",
   "execution_count": null,
   "id": "86e49c49",
   "metadata": {},
   "outputs": [],
   "source": [
    "df.groupby(['A'])['B'].max()"
   ]
  },
  {
   "cell_type": "code",
   "execution_count": null,
   "id": "85109f86",
   "metadata": {},
   "outputs": [],
   "source": [
    "(df.pivot_table(index=['id','code'],\n",
    "               columns='date')\n",
    "   .stack(level=0)\n",
    "   .reindex(np.arange(4), axis=1)\n",
    "   .ffill(1)\n",
    "   .unstack(level=-1)\n",
    "   .stack(level=0)\n",
    "   .reset_index()\n",
    ")"
   ]
  },
  {
   "cell_type": "code",
   "execution_count": null,
   "id": "1878b408",
   "metadata": {},
   "outputs": [],
   "source": []
  },
  {
   "cell_type": "code",
   "execution_count": null,
   "id": "18f844c2",
   "metadata": {},
   "outputs": [],
   "source": []
  },
  {
   "cell_type": "code",
   "execution_count": null,
   "id": "a2c8ed58",
   "metadata": {},
   "outputs": [],
   "source": [
    "out = df.set_index('B') \\\n",
    "        .groupby(['A'])['C'] \\\n",
    "        .apply(lambda x: x.reindex(range(1,4), fill_value=0))\\\n",
    "        .reset_index()\n",
    "\n",
    "print(out)\n",
    "\n",
    "     A  B   C\n",
    "0  id1  1   0\n",
    "1  id1  2  10\n",
    "2  id1  3  20\n",
    "3  id2  1  30\n",
    "4  id2  2   0\n",
    "5  id2  3   0"
   ]
  },
  {
   "cell_type": "code",
   "execution_count": null,
   "id": "eaab503b",
   "metadata": {},
   "outputs": [],
   "source": [
    "l = [[\"a1\",\"a2\"],[\"b1\",\"b2\"],[\"c1\",\"c2\"]]\n",
    "\n",
    "tuple(zip(*l))\n",
    "(('a1', 'b1', 'c1'), ('a2', 'b2', 'c2'))"
   ]
  },
  {
   "cell_type": "code",
   "execution_count": null,
   "id": "ddc146d4",
   "metadata": {},
   "outputs": [],
   "source": [
    "\n",
    "\n",
    "(('a1', 'b1', 'c1'), ('a2', 'b2', 'c2'))"
   ]
  },
  {
   "cell_type": "code",
   "execution_count": null,
   "id": "da0bcd84",
   "metadata": {},
   "outputs": [],
   "source": [
    "l2 = [[\"a1\",\"a2\",\"a3\",\"an\"],[\"b1\",\"b2\",\"b3\",\"bn\"],[\"c1\",\"c2\",\"c3\",\"cn\"]]\n",
    "tuple(zip(*l2))\n",
    "\n",
    "(('a1', 'b1', 'c1'),\n",
    " ('a2', 'b2', 'c2'),\n",
    " ('a3', 'b3', 'c3'),\n",
    " ('an', 'bn', 'cn'))"
   ]
  },
  {
   "cell_type": "code",
   "execution_count": null,
   "id": "972d097f",
   "metadata": {},
   "outputs": [],
   "source": [
    "%%timeit\n",
    "\n",
    "tuple(map(tuple, l))"
   ]
  },
  {
   "cell_type": "code",
   "execution_count": null,
   "id": "43030975",
   "metadata": {},
   "outputs": [],
   "source": [
    "%%timeit\n",
    "\n",
    "tuple(zip(*l))"
   ]
  },
  {
   "cell_type": "code",
   "execution_count": null,
   "id": "a057328d",
   "metadata": {},
   "outputs": [],
   "source": [
    "%%timeit\n",
    "\n",
    "tuple(tuple(el) for el in l)"
   ]
  },
  {
   "cell_type": "code",
   "execution_count": null,
   "id": "cae8f57b",
   "metadata": {},
   "outputs": [],
   "source": [
    "import numpy as np\n",
    "\n",
    "l = [[\"a1\",\"a2\"],[\"b1\",\"b2\"],[\"c1\",\"c2\"]]\n",
    "arr = np.array(l)\n",
    "transpose = arr.T\n",
    "transpose\n",
    "\n",
    "array([['a1', 'b1', 'c1'],\n",
    "       ['a2', 'b2', 'c2']], dtype='<U2')"
   ]
  },
  {
   "cell_type": "code",
   "execution_count": null,
   "id": "b80feb91",
   "metadata": {},
   "outputs": [],
   "source": [
    "list1 = ['a','b','c']\n",
    "list2 = ['d','e','f']\n",
    "list3 = ['g','h','j']\n",
    "keys = ['key1','key2','key3']\n",
    "\n",
    "[dict(zip(keys,i)) for i in zip(list1, list2, list3)]"
   ]
  },
  {
   "cell_type": "code",
   "execution_count": null,
   "id": "0f8f235c",
   "metadata": {},
   "outputs": [],
   "source": [
    "df = pd.DataFrame(np.random.random((10,3)), columns = ['col1','col2','col3'])\n",
    "df"
   ]
  },
  {
   "cell_type": "code",
   "execution_count": null,
   "id": "24699df6",
   "metadata": {},
   "outputs": [],
   "source": [
    "import math\n",
    "import pandas as pd\n",
    "\n",
    "#Dummy dataframe\n",
    "df = pd.DataFrame(np.random.random((10,3)), \n",
    "                  columns = ['col1','col2','col3'])\n",
    "\n",
    "f = lambda x: math.trunc(100 * x) / 100\n",
    "print(df.apply(f))"
   ]
  },
  {
   "cell_type": "code",
   "execution_count": null,
   "id": "a8e8c568",
   "metadata": {},
   "outputs": [],
   "source": []
  },
  {
   "cell_type": "code",
   "execution_count": null,
   "id": "364ec6fa",
   "metadata": {},
   "outputs": [],
   "source": [
    "df.round(2)"
   ]
  },
  {
   "cell_type": "markdown",
   "id": "b6388f4b",
   "metadata": {},
   "source": [
    "https://stackoverflow.com/questions/25027122/break-the-function-after-certain-time"
   ]
  },
  {
   "cell_type": "code",
   "execution_count": null,
   "id": "be83ecc5",
   "metadata": {},
   "outputs": [],
   "source": [
    "import numpy as np"
   ]
  },
  {
   "cell_type": "code",
   "execution_count": null,
   "id": "5931d4e4",
   "metadata": {},
   "outputs": [],
   "source": [
    "import time\n",
    "import signal\n",
    "\n",
    "class TimeoutException(Exception):   # Custom exception class\n",
    "    pass\n",
    "\n",
    "\n",
    "def break_after(seconds=2):\n",
    "    def timeout_handler(signum, frame):   # Custom signal handler\n",
    "        raise TimeoutException\n",
    "    def function(function):\n",
    "        def wrapper(*args, **kwargs):\n",
    "            signal.signal(signal.SIGALRM, timeout_handler)\n",
    "            signal.alarm(seconds)\n",
    "            try:\n",
    "                res = function(*args, **kwargs)\n",
    "                signal.alarm(0)      # Clear alarm\n",
    "                return res\n",
    "            except TimeoutException:\n",
    "                print(u'Oops, timeout: %s sec reached.' % seconds, function.__name__, args, kwargs)\n",
    "            return\n",
    "        return wrapper\n",
    "    return function"
   ]
  },
  {
   "cell_type": "code",
   "execution_count": null,
   "id": "b18ee079",
   "metadata": {},
   "outputs": [],
   "source": [
    "@break_after(3)\n",
    "def some_function():\n",
    "    r = np.random.randint(1,4)\n",
    "    time.sleep(r)\n",
    "    print(f'One iteration complete, wait time {r}')"
   ]
  },
  {
   "cell_type": "code",
   "execution_count": null,
   "id": "ef4701e0",
   "metadata": {},
   "outputs": [],
   "source": [
    "for i in range(10):\n",
    "    some_function()"
   ]
  },
  {
   "cell_type": "code",
   "execution_count": null,
   "id": "2b7888f7",
   "metadata": {},
   "outputs": [],
   "source": [
    "np.random.randint(1,10)"
   ]
  },
  {
   "cell_type": "code",
   "execution_count": null,
   "id": "63d9619e",
   "metadata": {},
   "outputs": [],
   "source": [
    "class abcd():\n",
    "    def __init__(self,name):\n",
    "        self.name = name"
   ]
  },
  {
   "cell_type": "code",
   "execution_count": null,
   "id": "fd3baafd",
   "metadata": {},
   "outputs": [],
   "source": [
    "person = abcd('akshay')"
   ]
  },
  {
   "cell_type": "code",
   "execution_count": null,
   "id": "d2258b6c",
   "metadata": {},
   "outputs": [],
   "source": [
    "person.__"
   ]
  },
  {
   "cell_type": "code",
   "execution_count": null,
   "id": "fe865bd5",
   "metadata": {},
   "outputs": [],
   "source": [
    "a = ['bww', '1', '23', 'honda', '2', '55', 'ford', '11', '88', 'tesla', '15', '1', 'kia', '2', '3']\n",
    "\n",
    "b = ['ford', 'honda']\n",
    "\n",
    "result = [' '.join([i,j]) for i,j in zip(a,a[1:]) if i in b]\n",
    "result"
   ]
  },
  {
   "cell_type": "code",
   "execution_count": null,
   "id": "f52db413",
   "metadata": {},
   "outputs": [],
   "source": [
    "[' '.join([str(j),i]) for i,j in zip(a,a[1:]) if i in b]"
   ]
  },
  {
   "cell_type": "code",
   "execution_count": null,
   "id": "39b8b34f",
   "metadata": {},
   "outputs": [],
   "source": [
    "d = {\"location\": \"japan/tokyo/keiyō-industrial-zone/daikibo-factory-meiyo/section-1\"}\n",
    "l = [\"country\",\"city\",\"area\",\"factory\",\"section\"]\n",
    "\n",
    "parts = dict([i for i in zip(l,d['location'].split('/'))])\n",
    "parts"
   ]
  },
  {
   "cell_type": "code",
   "execution_count": null,
   "id": "c510ab00",
   "metadata": {},
   "outputs": [],
   "source": []
  },
  {
   "cell_type": "code",
   "execution_count": null,
   "id": "2dbe7ef5",
   "metadata": {},
   "outputs": [],
   "source": []
  },
  {
   "cell_type": "code",
   "execution_count": null,
   "id": "aaa54a2c",
   "metadata": {},
   "outputs": [],
   "source": []
  },
  {
   "cell_type": "markdown",
   "id": "99eae9a7",
   "metadata": {},
   "source": [
    "# CHATGPT CODE"
   ]
  },
  {
   "cell_type": "markdown",
   "id": "03edc661",
   "metadata": {},
   "source": [
    "Here is a python function that takes a graph and a root node as input and returns the symmetry score of the subgraphs attached to the root node:"
   ]
  },
  {
   "cell_type": "code",
   "execution_count": null,
   "id": "091c1287",
   "metadata": {},
   "outputs": [],
   "source": [
    "from collections import Counter\n",
    "\n",
    "def symmetry_score(graph, root):\n",
    "    # Dictionary to store the symmetry score of each subgraph\n",
    "    symmetry_scores = {}\n",
    "    \n",
    "    # Traverse the graph using depth-first search\n",
    "    visited = set()\n",
    "    stack = [root]\n",
    "    while stack:\n",
    "        node = stack.pop()\n",
    "        visited.add(node)\n",
    "        neighbors = graph[node]\n",
    "        # For each neighbor of the node, compute the symmetry score\n",
    "        for neighbor in neighbors:\n",
    "            if neighbor not in visited:\n",
    "                subgraph = [node, neighbor]\n",
    "                # Compute the symmetry score of the subgraph\n",
    "                symmetry_scores[frozenset(subgraph)] = compute_symmetry_score(graph, subgraph)\n",
    "                stack.append(neighbor)\n",
    "    \n",
    "    return symmetry_scores\n",
    "\n",
    "def compute_symmetry_score(graph, subgraph):\n",
    "    # Count the number of edges between the nodes in the subgraph\n",
    "    edge_count = 0\n",
    "    for node1 in subgraph:\n",
    "        for node2 in subgraph:\n",
    "            if node1 != node2 and (node1, node2) in graph.edges:\n",
    "                edge_count += 1\n",
    "    # Compute the symmetry score\n",
    "    symmetry_score = edge_count / len(subgraph)**2\n",
    "    return symmetry_score\n"
   ]
  },
  {
   "cell_type": "markdown",
   "id": "8e1a101b",
   "metadata": {},
   "source": [
    "To use this function, you would first need to represent your graph as a dictionary in the following format:"
   ]
  },
  {
   "cell_type": "code",
   "execution_count": null,
   "id": "44833cc2",
   "metadata": {},
   "outputs": [],
   "source": [
    "graph = {\n",
    "    'node1': ['node2', 'node3', 'node4'],\n",
    "    'node2': ['node1', 'node3'],\n",
    "    'node3': ['node1', 'node2', 'node4'],\n",
    "    'node4': ['node1', 'node3']\n",
    "}"
   ]
  },
  {
   "cell_type": "markdown",
   "id": "95255f57",
   "metadata": {},
   "source": [
    "The keys of the dictionary are the nodes of the graph, and the values are lists of the nodes that are connected to the key node by an edge.\n",
    "\n",
    "You can then call the symmetry_score function with the graph and the root node as arguments:"
   ]
  },
  {
   "cell_type": "code",
   "execution_count": null,
   "id": "f46980df",
   "metadata": {},
   "outputs": [],
   "source": [
    "symmetry_scores = symmetry_score(graph, 'node1')"
   ]
  },
  {
   "cell_type": "markdown",
   "id": "702bda75",
   "metadata": {},
   "source": [
    "The symmetry_scores dictionary will contain the symmetry score of each subgraph attached to the root node. The keys of the dictionary are frozensets representing the nodes in the subgraph, and the values are the symmetry scores."
   ]
  },
  {
   "cell_type": "code",
   "execution_count": null,
   "id": "842357a9",
   "metadata": {},
   "outputs": [],
   "source": []
  },
  {
   "cell_type": "code",
   "execution_count": null,
   "id": "5c8a7520",
   "metadata": {},
   "outputs": [],
   "source": []
  },
  {
   "cell_type": "code",
   "execution_count": null,
   "id": "3a869265",
   "metadata": {},
   "outputs": [],
   "source": []
  },
  {
   "cell_type": "code",
   "execution_count": null,
   "id": "6e43176f",
   "metadata": {},
   "outputs": [],
   "source": []
  },
  {
   "cell_type": "code",
   "execution_count": null,
   "id": "1fd10847",
   "metadata": {},
   "outputs": [],
   "source": [
    "f = lambda x: x.upper()\n",
    "\n",
    "f('hello world')\n",
    "\n",
    "'HELLO WORLD'"
   ]
  },
  {
   "cell_type": "code",
   "execution_count": null,
   "id": "efa55613",
   "metadata": {},
   "outputs": [],
   "source": [
    "from ast import literal_eval"
   ]
  },
  {
   "cell_type": "code",
   "execution_count": null,
   "id": "704cec1e",
   "metadata": {},
   "outputs": [],
   "source": []
  },
  {
   "cell_type": "code",
   "execution_count": null,
   "id": "167e5db5",
   "metadata": {},
   "outputs": [],
   "source": [
    "foo = lambda x: literal_eval(x)\n",
    "\n",
    "foo2 = \"x+1\""
   ]
  },
  {
   "cell_type": "code",
   "execution_count": null,
   "id": "a290d383",
   "metadata": {},
   "outputs": [],
   "source": [
    "categories = [\n",
    "        {\n",
    "            'name': 'Toys',\n",
    "            'subcategory': [{\n",
    "                'name': 'Baby Toys and Scrabbles',\n",
    "                'subcategory':  [{\n",
    "                    'name': 'Used Baby Toys and Scrabbles',\n",
    "                }]\n",
    "            }]\n",
    "        },\n",
    "      {\n",
    "        'name': 'Cars',\n",
    "        'subcategory': [{\n",
    "            'name': 'Jeep',\n",
    "            'subcategory':  [{\n",
    "                'name': 'Used jeep',\n",
    "            }]\n",
    "        }]\n",
    "    }\n",
    "    ]"
   ]
  },
  {
   "cell_type": "code",
   "execution_count": null,
   "id": "ade6b63a",
   "metadata": {},
   "outputs": [],
   "source": [
    "for category in categories:\n",
    "        print(category['name'])\n",
    "        if category['subcategory']:\n",
    "            for subcategory in category['subcategory']:\n",
    "                print(subcategory['name'])\n",
    "                if subcategory['subcategory']:\n",
    "                    for subcategory1 in subcategory['subcategory']:\n",
    "                        print(subcategory1['name'])"
   ]
  },
  {
   "cell_type": "code",
   "execution_count": null,
   "id": "70e087f0",
   "metadata": {},
   "outputs": [],
   "source": []
  },
  {
   "cell_type": "code",
   "execution_count": null,
   "id": "8eac3d37",
   "metadata": {},
   "outputs": [],
   "source": [
    "categories[0]"
   ]
  },
  {
   "cell_type": "code",
   "execution_count": null,
   "id": "91a2ddba",
   "metadata": {},
   "outputs": [],
   "source": []
  },
  {
   "cell_type": "code",
   "execution_count": null,
   "id": "0cccf842",
   "metadata": {},
   "outputs": [],
   "source": [
    "g = lambda x: x['name']\n",
    "\n",
    "f = lambda x: g(x['subcategory']) if isinstance(x, dict) else [f(i) for i in x]"
   ]
  },
  {
   "cell_type": "code",
   "execution_count": null,
   "id": "ed8b7a7b",
   "metadata": {},
   "outputs": [],
   "source": [
    "# importing package\n",
    "\n",
    "# text to be censored\n",
    "\n",
    "  \n",
    "# do censoring\n",
    "censored = profanity.censor(text)\n",
    "  \n",
    "# view output\n",
    "print(censored)"
   ]
  },
  {
   "cell_type": "code",
   "execution_count": null,
   "id": "a00c35fe",
   "metadata": {},
   "outputs": [],
   "source": [
    "from better_profanity import profanity\n",
    "\n",
    "# forbidden_words = [\"sex\", \"porn\", \"dick\", \"drug\", \"casino\", \"gambling\"]\n",
    "# profanity.add_censor_words(forbidden_words)\n",
    "\n",
    "\n",
    "text = \"Sex, pornography, and Dicky are ALL not allowed.\"\n",
    "profanity.censor(text)"
   ]
  },
  {
   "cell_type": "code",
   "execution_count": null,
   "id": "1a7cd9fa",
   "metadata": {},
   "outputs": [],
   "source": []
  },
  {
   "cell_type": "code",
   "execution_count": null,
   "id": "0736c0e8",
   "metadata": {},
   "outputs": [],
   "source": []
  },
  {
   "cell_type": "code",
   "execution_count": null,
   "id": "82d301f8",
   "metadata": {},
   "outputs": [],
   "source": [
    "forbidden_words = [\"sex\", \"porn\", \"dick\", \"drug\", \"casino\", \"gambling\"]\n",
    "\n",
    "\n",
    "def censor(token):\n",
    "    \n",
    "    for word in forbidden_words:\n",
    "        if word in token.lower():                                #<---\n",
    "            token = token.lower().replace(word, '*' * len(word)) #<---\n",
    "            print(f\"Forbidden word REMOVED: {word}\")\n",
    "    \n",
    "    return token\n",
    "\n",
    "\n",
    "#New function that operates on token level instead of complete sentence\n",
    "def censor_tokens(string):\n",
    "    string = \" \".join(string.splitlines())\n",
    "    tokens = string.split()\n",
    "    \n",
    "    return ' '.join([censor(i) for i in tokens])\n",
    "        \n",
    "    \n",
    "\n",
    "censor_tokens(\"Sex, pornography, and Dicky are ALL not allowed.\")"
   ]
  },
  {
   "cell_type": "code",
   "execution_count": null,
   "id": "aac72f80",
   "metadata": {},
   "outputs": [],
   "source": [
    "forbidden_words = [\"sex\", \"porn\", \"dick\", \"drug\", \"casino\", \"gambling\"]\n",
    "\n",
    "\n",
    "def censor(token):\n",
    "    \n",
    "    for word in forbidden_words:\n",
    "        if word in token.lower():                                #<---\n",
    "            token = token.lower().replace(word, '*' * len(word)) #<---\n",
    "            print(f\"Forbidden word REMOVED: {word}\")\n",
    "    \n",
    "    return token\n",
    "\n",
    "\n",
    "text = \"Sex, pornography, and Dicky are ALL not allowed.\"\n",
    "result = ' '.join([censor(i) for i in text.split()])             #<---\n",
    "print(result)"
   ]
  },
  {
   "cell_type": "code",
   "execution_count": null,
   "id": "5aaed055",
   "metadata": {},
   "outputs": [],
   "source": [
    "l = [989,118,345,993,118,780,118,345,993,2]"
   ]
  },
  {
   "cell_type": "code",
   "execution_count": null,
   "id": "d9711980",
   "metadata": {},
   "outputs": [],
   "source": [
    "l"
   ]
  },
  {
   "cell_type": "code",
   "execution_count": null,
   "id": "093158a6",
   "metadata": {},
   "outputs": [],
   "source": []
  },
  {
   "cell_type": "code",
   "execution_count": null,
   "id": "ba4450b0",
   "metadata": {},
   "outputs": [],
   "source": []
  },
  {
   "cell_type": "code",
   "execution_count": null,
   "id": "aa3ca425",
   "metadata": {},
   "outputs": [],
   "source": []
  },
  {
   "cell_type": "code",
   "execution_count": null,
   "id": "6fb1f015",
   "metadata": {},
   "outputs": [],
   "source": []
  },
  {
   "cell_type": "code",
   "execution_count": null,
   "id": "898c8251",
   "metadata": {},
   "outputs": [],
   "source": []
  },
  {
   "cell_type": "code",
   "execution_count": null,
   "id": "132b27ff",
   "metadata": {},
   "outputs": [],
   "source": []
  },
  {
   "cell_type": "code",
   "execution_count": null,
   "id": "a50cd777",
   "metadata": {},
   "outputs": [],
   "source": []
  },
  {
   "cell_type": "code",
   "execution_count": null,
   "id": "abed7a35",
   "metadata": {},
   "outputs": [],
   "source": []
  },
  {
   "cell_type": "code",
   "execution_count": null,
   "id": "ea283f74",
   "metadata": {},
   "outputs": [],
   "source": []
  },
  {
   "cell_type": "code",
   "execution_count": null,
   "id": "6fe7c164",
   "metadata": {},
   "outputs": [],
   "source": []
  },
  {
   "cell_type": "code",
   "execution_count": null,
   "id": "298759f3",
   "metadata": {},
   "outputs": [],
   "source": []
  },
  {
   "cell_type": "code",
   "execution_count": null,
   "id": "9999e520",
   "metadata": {},
   "outputs": [],
   "source": []
  },
  {
   "cell_type": "code",
   "execution_count": null,
   "id": "d3e5f073",
   "metadata": {},
   "outputs": [],
   "source": []
  },
  {
   "cell_type": "code",
   "execution_count": null,
   "id": "f73990f1",
   "metadata": {},
   "outputs": [],
   "source": []
  },
  {
   "cell_type": "code",
   "execution_count": null,
   "id": "5898b26f",
   "metadata": {},
   "outputs": [],
   "source": []
  },
  {
   "cell_type": "code",
   "execution_count": null,
   "id": "0bd337b0",
   "metadata": {},
   "outputs": [],
   "source": [
    "def print_subcategory(d):\n",
    "    if 'subcategory' not in d.keys():\n",
    "        break\n",
    "    else:\n",
    "        "
   ]
  },
  {
   "cell_type": "code",
   "execution_count": null,
   "id": "2071adb5",
   "metadata": {},
   "outputs": [],
   "source": []
  },
  {
   "cell_type": "code",
   "execution_count": null,
   "id": "cf317583",
   "metadata": {},
   "outputs": [],
   "source": []
  },
  {
   "cell_type": "code",
   "execution_count": null,
   "id": "9129a4e0",
   "metadata": {},
   "outputs": [],
   "source": []
  },
  {
   "cell_type": "code",
   "execution_count": null,
   "id": "abc7c32b",
   "metadata": {},
   "outputs": [],
   "source": []
  },
  {
   "cell_type": "code",
   "execution_count": null,
   "id": "b8f851ff",
   "metadata": {},
   "outputs": [],
   "source": []
  },
  {
   "cell_type": "code",
   "execution_count": null,
   "id": "cca13e4f",
   "metadata": {},
   "outputs": [],
   "source": []
  },
  {
   "cell_type": "code",
   "execution_count": null,
   "id": "513c925c",
   "metadata": {},
   "outputs": [],
   "source": [
    "import pandas as pd"
   ]
  },
  {
   "cell_type": "code",
   "execution_count": null,
   "id": "b8f87397",
   "metadata": {},
   "outputs": [],
   "source": [
    "pd.json_normalize(categories, record_path = ['subcategory'])"
   ]
  },
  {
   "cell_type": "code",
   "execution_count": null,
   "id": "8074c2bc",
   "metadata": {},
   "outputs": [],
   "source": []
  },
  {
   "cell_type": "code",
   "execution_count": null,
   "id": "f58e8b72",
   "metadata": {},
   "outputs": [],
   "source": []
  },
  {
   "cell_type": "code",
   "execution_count": null,
   "id": "4333b606",
   "metadata": {},
   "outputs": [],
   "source": []
  },
  {
   "cell_type": "code",
   "execution_count": null,
   "id": "7bc2b901",
   "metadata": {},
   "outputs": [],
   "source": [
    "# install Beautiful Soup\n",
    "!pip install beautifulsoup4\n",
    "\n",
    "# import libraries\n",
    "import requests\n",
    "from bs4 import BeautifulSoup\n",
    "\n",
    "# request the page\n",
    "page = requests.get(\"https://www.cardekho.com/newcars\")\n",
    "\n",
    "# create a BeautifulSoup object\n",
    "soup = BeautifulSoup(page.content, 'html.parser')\n",
    "\n",
    "# find all the car elements on the page\n",
    "cars = soup.find_all(class_='card')\n",
    "\n",
    "# create an empty list to store the data\n",
    "data = []\n",
    "\n",
    "# loop through the car elements and extract the data\n",
    "for car in cars:\n",
    "  name = car.find(class_='card-title').text.strip()\n",
    "  price = car.find(class_='price').text.strip()\n",
    "  data.append({'name': name, 'price': price})\n",
    "\n",
    "# print the data\n",
    "print(data)\n",
    "\n",
    "# write the data to a CSV file\n",
    "import csv\n",
    "\n",
    "with open('car_data.csv', 'w', newline='') as csvfile:\n",
    "  fieldnames = ['name', 'price']\n",
    "  writer = csv.DictWriter(csvfile, fieldnames=fieldnames)\n",
    "  writer.writeheader()\n",
    "  for car in data:\n",
    "    writer.writerow(car)\n"
   ]
  },
  {
   "cell_type": "code",
   "execution_count": null,
   "id": "fc49dd64",
   "metadata": {},
   "outputs": [],
   "source": []
  },
  {
   "cell_type": "code",
   "execution_count": null,
   "id": "db01b1b1",
   "metadata": {},
   "outputs": [],
   "source": [
    "import re"
   ]
  },
  {
   "cell_type": "code",
   "execution_count": null,
   "id": "7bd6a3da",
   "metadata": {},
   "outputs": [],
   "source": [
    "l = ['ios_g1_v1_yyyymmdd',\n",
    "'ios_g1_v1_h1_yyyymmddhhmmss',\n",
    "'ios_g1_v1_h1_YYYYMMDDHHMMSS',\n",
    "'ios_g1_v1_g1_YYYY',\n",
    "'ios_g1_v1_j1_YYYYmmdd',\n",
    "'ios_g1_v1',\n",
    "'ios_g1_v1_t1_h1',\n",
    "'ios_g1_v1_ty1_f1']"
   ]
  },
  {
   "cell_type": "code",
   "execution_count": null,
   "id": "07aeaef2",
   "metadata": {},
   "outputs": [],
   "source": [
    "[re.sub(r'Y*M*D*H*M*S*|y*m*d*h*m*s*','',i) for i in l]"
   ]
  },
  {
   "cell_type": "code",
   "execution_count": null,
   "id": "f906df7a",
   "metadata": {},
   "outputs": [],
   "source": [
    "regex_pattern = r\"_Y+M*D*H*M*S*\"\n",
    "result = [re.sub(regex_pattern,'',i, flags=re.IGNORECASE) for i in l]\n",
    "result"
   ]
  },
  {
   "cell_type": "code",
   "execution_count": null,
   "id": "b638a27f",
   "metadata": {},
   "outputs": [],
   "source": []
  },
  {
   "cell_type": "code",
   "execution_count": null,
   "id": "1616c174",
   "metadata": {},
   "outputs": [],
   "source": [
    "import pandas as pd\n",
    "dict1 = {'A': {0: 'A0', 1: 'A0', 2: 'A0', 3: 'A0', 4: 'A1', 5: 'A1', 6: 'A1', 7: 'A1', 8: 'A1', 9: 'A1'}, \n",
    "         'B': {0: 'B0', 1: 'B1', 2: 'B2', 3: 'B3', 4: 'B4', 5: 'B5', 6: 'B6', 7: 'B7', 8: 'B8', 9: 'B9'}, \n",
    "         'C': {0: 0, 1: 1, 2: 2, 3: 3, 4: 4, 5: 5, 6: 6, 7: 7, 8: 8, 9: 9}, \n",
    "         'D': {0: 10, 1: 11, 2: 12, 3: 13, 4: 14, 5: 15, 6: 16, 7: 17, 8: 18, 9: 19}, \n",
    "         'E': {0: 'E0', 1: 'E1', 2: 'E0', 3: 'E1', 4: 'E0', 5: 'E1', 6: 'E0', 7: 'E1', 8: 'E0', 9: 'E1'}}\n",
    "\n",
    "df2 = pd.DataFrame(dict1)"
   ]
  },
  {
   "cell_type": "code",
   "execution_count": null,
   "id": "716848ca",
   "metadata": {},
   "outputs": [],
   "source": [
    "t = {\n",
    "    'D': lambda x: list(x.cumsum()),\n",
    "    'C': lambda x: 4*np.sum(x)\n",
    "    }\n",
    "\n",
    "result = df2.groupby(['A','E']).agg(t).explode('D')\n",
    "result"
   ]
  },
  {
   "cell_type": "code",
   "execution_count": null,
   "id": "384f7e40",
   "metadata": {},
   "outputs": [],
   "source": [
    "result = df2.groupby(['A','E']).agg(t)\n",
    "result"
   ]
  },
  {
   "cell_type": "code",
   "execution_count": null,
   "id": "14ff775f",
   "metadata": {},
   "outputs": [],
   "source": [
    "grouper = df2.groupby(['A','E'])\n",
    "df2['C_new'] = grouper['C'].transform('sum') #<- use your lambda function here if you need\n",
    "df2['D_new'] = grouper['D'].transform('cumsum')\n",
    "print(df2)"
   ]
  },
  {
   "cell_type": "code",
   "execution_count": null,
   "id": "2cce1894",
   "metadata": {},
   "outputs": [],
   "source": [
    "df2"
   ]
  },
  {
   "cell_type": "code",
   "execution_count": null,
   "id": "7a1ff124",
   "metadata": {},
   "outputs": [],
   "source": []
  },
  {
   "cell_type": "code",
   "execution_count": null,
   "id": "e1ea0d6c",
   "metadata": {},
   "outputs": [],
   "source": [
    "df2.groupby(['A','E'])['D'].transform('sum')"
   ]
  },
  {
   "cell_type": "code",
   "execution_count": null,
   "id": "45b1e024",
   "metadata": {},
   "outputs": [],
   "source": []
  },
  {
   "cell_type": "code",
   "execution_count": null,
   "id": "fca48b47",
   "metadata": {},
   "outputs": [],
   "source": [
    "df = pd.read_clipboard(sep='|')\n",
    "df"
   ]
  },
  {
   "cell_type": "code",
   "execution_count": null,
   "id": "4e26d8b2",
   "metadata": {},
   "outputs": [],
   "source": [
    "df.to_dict('list')"
   ]
  },
  {
   "cell_type": "code",
   "execution_count": null,
   "id": "b14c0317",
   "metadata": {},
   "outputs": [],
   "source": [
    "d = {'id ': [0, 1, 2, 3, 4, 5],\n",
    "     'column1': ['z','y','x','x','z','w'],\n",
    "     'column2': ['x','y','x','x','y','w'],\n",
    "     'column3': ['x','y','x','x','x','w']\n",
    "     }\n",
    "\n",
    "df = pd.DataFrame(d)\n",
    "df"
   ]
  },
  {
   "cell_type": "code",
   "execution_count": null,
   "id": "92da73f0",
   "metadata": {},
   "outputs": [],
   "source": [
    "cond1 = ~df.column1.eq(df.column1.shift())"
   ]
  },
  {
   "cell_type": "code",
   "execution_count": null,
   "id": "71c0b9ee",
   "metadata": {},
   "outputs": [],
   "source": [
    "cond2 = df.apply(lambda x: x.column1 == x.column2 == x.column3, axis = 1)"
   ]
  },
  {
   "cell_type": "code",
   "execution_count": null,
   "id": "05a4f608",
   "metadata": {},
   "outputs": [],
   "source": [
    "cond2.astype(int).cumsum()"
   ]
  },
  {
   "cell_type": "code",
   "execution_count": null,
   "id": "49ffd40d",
   "metadata": {},
   "outputs": [],
   "source": [
    "X=[[1,2,3],[4,5,6]]\n",
    "\n",
    "X[0] = [-1*i for i in X[0]]\n",
    "X\n",
    "\n",
    "[[-1, -2, -3], [4, 5, 6]]"
   ]
  },
  {
   "cell_type": "code",
   "execution_count": null,
   "id": "565e9c6a",
   "metadata": {},
   "outputs": [],
   "source": [
    "[-x for x in X[0]]"
   ]
  },
  {
   "cell_type": "code",
   "execution_count": null,
   "id": "360755e2",
   "metadata": {},
   "outputs": [],
   "source": []
  },
  {
   "cell_type": "code",
   "execution_count": null,
   "id": "639f0153",
   "metadata": {},
   "outputs": [],
   "source": []
  },
  {
   "cell_type": "code",
   "execution_count": null,
   "id": "789486cf",
   "metadata": {},
   "outputs": [],
   "source": []
  },
  {
   "cell_type": "code",
   "execution_count": null,
   "id": "e1ea1a09",
   "metadata": {},
   "outputs": [],
   "source": []
  },
  {
   "cell_type": "code",
   "execution_count": null,
   "id": "e69a143a",
   "metadata": {},
   "outputs": [],
   "source": [
    "cond = (df['column1'] == df['column2']) & (df['column2'] == df['column3'])\n",
    "cond"
   ]
  },
  {
   "cell_type": "code",
   "execution_count": null,
   "id": "f2695f9d",
   "metadata": {},
   "outputs": [],
   "source": [
    "df.apply(lambda x: x.column1 == x.column2 == x.column3, axis = 1)"
   ]
  },
  {
   "cell_type": "code",
   "execution_count": null,
   "id": "c3a1e2fe",
   "metadata": {},
   "outputs": [],
   "source": []
  },
  {
   "cell_type": "code",
   "execution_count": null,
   "id": "622c620e",
   "metadata": {},
   "outputs": [],
   "source": []
  },
  {
   "cell_type": "code",
   "execution_count": null,
   "id": "777e4d92",
   "metadata": {},
   "outputs": [],
   "source": [
    "from xgboost import XGBClassifier\n",
    "from sklearn.datasets import load_iris\n",
    "from sklearn.model_selection import train_test_split\n",
    "\n",
    "#Load data\n",
    "data = load_iris()\n",
    "X_train, X_test, y_train, y_test = train_test_split(data['data'], \n",
    "                                                    data['target'], \n",
    "                                                    test_size=.2)\n",
    "\n",
    "#Train model\n",
    "xgb = XGBClassifier(n_estimators=5, \n",
    "                    objective='binary:logistic', \n",
    "                    colsample_bytree = 0.7)                 #<--------\n",
    "\n",
    "feature_weights = np.array([0.5, 0.3, 0.8, 0.1])            #<--------\n",
    "xgb.fit(X_train, y_train, feature_weights=feature_weights)  #<--------\n",
    "\n",
    "\n",
    "preds = xgb.predict(X_test)\n",
    "xgb.feature_importances_\n",
    "\n",
    "array([0.09477486, 0.03003547, 0.77826285, 0.09692684], dtype=float32)"
   ]
  },
  {
   "cell_type": "code",
   "execution_count": null,
   "id": "7245bc5d",
   "metadata": {},
   "outputs": [],
   "source": [
    "01876319"
   ]
  },
  {
   "cell_type": "code",
   "execution_count": null,
   "id": "744e4d20",
   "metadata": {},
   "outputs": [],
   "source": []
  },
  {
   "cell_type": "code",
   "execution_count": null,
   "id": "c52d9230",
   "metadata": {},
   "outputs": [],
   "source": [
    "def function():\n",
    "    empty_list = []\n",
    "    my_list = ['a', 'b', 'c']\n",
    "    for letter_1 in my_list: \n",
    "        for letter_2 in my_list:\n",
    "            empty_list.append(letter_1)\n",
    "            empty_list.append(letter_2)\n",
    "    return empty_list"
   ]
  },
  {
   "cell_type": "code",
   "execution_count": null,
   "id": "f7847cd6",
   "metadata": {},
   "outputs": [],
   "source": [
    "function()"
   ]
  },
  {
   "cell_type": "code",
   "execution_count": null,
   "id": "ddda1ab1",
   "metadata": {},
   "outputs": [],
   "source": [
    "import itertools\n",
    "\n",
    "my_list = ['a', 'b', 'c']\n",
    "[i for i in itertools.repeat(my_list, 2)]"
   ]
  },
  {
   "cell_type": "code",
   "execution_count": null,
   "id": "16f3b291",
   "metadata": {},
   "outputs": [],
   "source": [
    "pd = {\n",
    "    \"RP\": [\n",
    "        {\n",
    "        \"Name\": \"PD\",\n",
    "        \"Value\": \"qwe\"\n",
    "        },\n",
    "        {\n",
    "        \"Name\": \"qwe\",\n",
    "        \"Value\": \"change\"\n",
    "        }\n",
    "    ],\n",
    "    \"RFN\": [\n",
    "        \"All\"\n",
    "    ],\n",
    "    \"RIT\": [\n",
    "        {\n",
    "        \"ID\": \"All\",\n",
    "        \"IDT\": \"All\"\n",
    "        }\n",
    "    ]\n",
    "    }"
   ]
  },
  {
   "cell_type": "code",
   "execution_count": null,
   "id": "49bfdba6",
   "metadata": {},
   "outputs": [],
   "source": [
    "{k:v for k,v in pd.items()}"
   ]
  },
  {
   "cell_type": "code",
   "execution_count": null,
   "id": "16eb981b",
   "metadata": {},
   "outputs": [],
   "source": [
    "for i in pd['RP']:\n",
    "    if i['Value']=='change':\n",
    "        i['Value'] = 'Changed'\n",
    "        \n",
    "pd\n",
    "\n",
    "{'RP': [{'Name': 'PD', 'Value': 'qwe'}, {'Name': 'qwe', 'Value': 'Changed'}],\n",
    " 'RFN': ['All'],\n",
    " 'RIT': [{'ID': 'All', 'IDT': 'All'}]}"
   ]
  },
  {
   "cell_type": "code",
   "execution_count": null,
   "id": "4d5c0e57",
   "metadata": {},
   "outputs": [],
   "source": []
  },
  {
   "cell_type": "code",
   "execution_count": null,
   "id": "13d59d00",
   "metadata": {},
   "outputs": [],
   "source": []
  },
  {
   "cell_type": "code",
   "execution_count": null,
   "id": "222abf8d",
   "metadata": {},
   "outputs": [],
   "source": []
  },
  {
   "cell_type": "code",
   "execution_count": null,
   "id": "1f346a07",
   "metadata": {},
   "outputs": [],
   "source": [
    "import pandas as pd\n",
    "import numpy as np\n",
    "\n",
    "#Creating a dummy dataset with 1 column\n",
    "all_words = ['hi there ab', 'hello bc', 'hi world cd', 'de hello world', 'fg hi', 'hi greetings']\n",
    "dataset = pd.DataFrame(data=np.random.choice(all_words, (100,)), \n",
    "                                             columns=['text'])"
   ]
  },
  {
   "cell_type": "code",
   "execution_count": 3,
   "id": "e3ac3903",
   "metadata": {},
   "outputs": [
    {
     "data": {
      "text/html": [
       "<div>\n",
       "<style scoped>\n",
       "    .dataframe tbody tr th:only-of-type {\n",
       "        vertical-align: middle;\n",
       "    }\n",
       "\n",
       "    .dataframe tbody tr th {\n",
       "        vertical-align: top;\n",
       "    }\n",
       "\n",
       "    .dataframe thead th {\n",
       "        text-align: right;\n",
       "    }\n",
       "</style>\n",
       "<table border=\"1\" class=\"dataframe\">\n",
       "  <thead>\n",
       "    <tr style=\"text-align: right;\">\n",
       "      <th></th>\n",
       "      <th>id</th>\n",
       "      <th>text</th>\n",
       "    </tr>\n",
       "  </thead>\n",
       "  <tbody>\n",
       "    <tr>\n",
       "      <th>0</th>\n",
       "      <td>1x</td>\n",
       "      <td>ab cd de th sk gl wlqm dhwka oqbdm</td>\n",
       "    </tr>\n",
       "    <tr>\n",
       "      <th>1</th>\n",
       "      <td>p2</td>\n",
       "      <td>de de de lm eh nfkie qhas hof</td>\n",
       "    </tr>\n",
       "  </tbody>\n",
       "</table>\n",
       "</div>"
      ],
      "text/plain": [
       "   id                                text\n",
       "0  1x  ab cd de th sk gl wlqm dhwka oqbdm\n",
       "1  p2       de de de lm eh nfkie qhas hof"
      ]
     },
     "execution_count": 3,
     "metadata": {},
     "output_type": "execute_result"
    }
   ],
   "source": [
    "dataset = pd.read_clipboard()\n",
    "dataset"
   ]
  },
  {
   "cell_type": "code",
   "execution_count": 4,
   "id": "5fe78933",
   "metadata": {},
   "outputs": [
    {
     "data": {
      "text/plain": [
       "de    4\n",
       "ab    1\n",
       "cd    1\n",
       "dtype: int64"
      ]
     },
     "execution_count": 4,
     "metadata": {},
     "output_type": "execute_result"
    }
   ],
   "source": [
    "import pandas as pd\n",
    "\n",
    "unique_words = ['ab', 'cd', 'de', 'bc']\n",
    "counts = dataset['text'].str.split(expand=True).stack().value_counts()\n",
    "top3 = counts[counts.index.isin(unique_words)].head(3)\n",
    "top3"
   ]
  },
  {
   "cell_type": "code",
   "execution_count": 21,
   "id": "3553438f",
   "metadata": {},
   "outputs": [
    {
     "data": {
      "text/plain": [
       "de    4\n",
       "ab    1\n",
       "cd    1\n",
       "Name: 0, dtype: int64"
      ]
     },
     "execution_count": 21,
     "metadata": {},
     "output_type": "execute_result"
    }
   ],
   "source": [
    "import numpy as np\n",
    "import pandas as pd\n",
    "from sklearn.feature_extraction.text import CountVectorizer\n",
    "\n",
    "unique_words = ['ab', 'cd', 'de', 'bc']\n",
    "cnt = CountVectorizer(vocabulary=unique_words)\n",
    "mat = cnt.fit_transform(dataset['text'])\n",
    "tot = mat.sum(0)\n",
    "top3 = pd.DataFrame(tot.T, index=unique_words)[0].nlargest(3)\n",
    "top3"
   ]
  },
  {
   "cell_type": "code",
   "execution_count": 6,
   "id": "ebd8fc31",
   "metadata": {},
   "outputs": [
    {
     "data": {
      "text/plain": [
       "[('de', 4), ('ab', 1), ('cd', 1)]"
      ]
     },
     "execution_count": 6,
     "metadata": {},
     "output_type": "execute_result"
    }
   ],
   "source": [
    "from collections import Counter\n",
    "from itertools import chain\n",
    "\n",
    "counter = Counter(chain.from_iterable(map(str.split, dataset['text'].tolist())))\n",
    "filtered = Counter({word: counter.get(word,0) for word in unique_words})\n",
    "top3 = filtered.most_common(3)\n",
    "top3"
   ]
  },
  {
   "cell_type": "code",
   "execution_count": null,
   "id": "07ede476",
   "metadata": {},
   "outputs": [],
   "source": []
  },
  {
   "cell_type": "code",
   "execution_count": null,
   "id": "2a281fff",
   "metadata": {},
   "outputs": [],
   "source": []
  },
  {
   "cell_type": "code",
   "execution_count": 34,
   "id": "cb2939cd",
   "metadata": {},
   "outputs": [
    {
     "ename": "ModuleNotFoundError",
     "evalue": "No module named 'iteration_utilities'",
     "output_type": "error",
     "traceback": [
      "\u001b[0;31m---------------------------------------------------------------------------\u001b[0m",
      "\u001b[0;31mModuleNotFoundError\u001b[0m                       Traceback (most recent call last)",
      "Input \u001b[0;32mIn [34]\u001b[0m, in \u001b[0;36m<module>\u001b[0;34m\u001b[0m\n\u001b[1;32m      2\u001b[0m \u001b[38;5;28;01mimport\u001b[39;00m \u001b[38;5;21;01mfunctools\u001b[39;00m\n\u001b[1;32m      3\u001b[0m \u001b[38;5;28;01mimport\u001b[39;00m \u001b[38;5;21;01moperator\u001b[39;00m\n\u001b[0;32m----> 4\u001b[0m \u001b[38;5;28;01mimport\u001b[39;00m \u001b[38;5;21;01miteration_utilities\u001b[39;00m\n",
      "\u001b[0;31mModuleNotFoundError\u001b[0m: No module named 'iteration_utilities'"
     ]
    }
   ],
   "source": [
    "import itertools\n",
    "import functools\n",
    "import operator\n",
    "import iteration_utilities"
   ]
  },
  {
   "cell_type": "code",
   "execution_count": 25,
   "id": "ad17dc6b",
   "metadata": {},
   "outputs": [],
   "source": [
    "l = [[1,2],[3,4],[5,6]]"
   ]
  },
  {
   "cell_type": "code",
   "execution_count": 32,
   "id": "34580f0a",
   "metadata": {},
   "outputs": [
    {
     "name": "stdout",
     "output_type": "stream",
     "text": [
      "209 ns ± 1.14 ns per loop (mean ± std. dev. of 7 runs, 1,000,000 loops each)\n",
      "219 ns ± 0.714 ns per loop (mean ± std. dev. of 7 runs, 1,000,000 loops each)\n",
      "108 ns ± 0.068 ns per loop (mean ± std. dev. of 7 runs, 10,000,000 loops each)\n",
      "165 ns ± 0.617 ns per loop (mean ± std. dev. of 7 runs, 10,000,000 loops each)\n"
     ]
    }
   ],
   "source": [
    "%timeit list(itertools.chain(*l))\n",
    "%timeit [j for i in l for j in i]\n",
    "%timeit sum(l, [])\n",
    "%timeit functools.reduce(operator.iconcat, l, [])"
   ]
  },
  {
   "cell_type": "code",
   "execution_count": 42,
   "id": "15dfa9a0",
   "metadata": {},
   "outputs": [
    {
     "data": {
      "text/plain": [
       "range(0, 3)"
      ]
     },
     "execution_count": 42,
     "metadata": {},
     "output_type": "execute_result"
    }
   ],
   "source": [
    "range(int(df.shape[0]/3)+1)"
   ]
  },
  {
   "cell_type": "code",
   "execution_count": 52,
   "id": "269f6107",
   "metadata": {},
   "outputs": [
    {
     "data": {
      "text/plain": [
       "Index(['Colunm', 'A'], dtype='object')"
      ]
     },
     "execution_count": 52,
     "metadata": {},
     "output_type": "execute_result"
    }
   ],
   "source": [
    "df.columns"
   ]
  },
  {
   "cell_type": "code",
   "execution_count": null,
   "id": "df795039",
   "metadata": {},
   "outputs": [],
   "source": []
  },
  {
   "cell_type": "code",
   "execution_count": null,
   "id": "fddf90b5",
   "metadata": {},
   "outputs": [],
   "source": []
  },
  {
   "cell_type": "code",
   "execution_count": null,
   "id": "c94eafa1",
   "metadata": {},
   "outputs": [],
   "source": []
  },
  {
   "cell_type": "code",
   "execution_count": null,
   "id": "29e95a34",
   "metadata": {},
   "outputs": [],
   "source": []
  },
  {
   "cell_type": "code",
   "execution_count": null,
   "id": "9fc51d7e",
   "metadata": {},
   "outputs": [],
   "source": []
  },
  {
   "cell_type": "code",
   "execution_count": null,
   "id": "6f5fa8ee",
   "metadata": {},
   "outputs": [],
   "source": []
  },
  {
   "cell_type": "code",
   "execution_count": 65,
   "id": "79804bfd",
   "metadata": {},
   "outputs": [
    {
     "data": {
      "text/html": [
       "<div>\n",
       "<style scoped>\n",
       "    .dataframe tbody tr th:only-of-type {\n",
       "        vertical-align: middle;\n",
       "    }\n",
       "\n",
       "    .dataframe tbody tr th {\n",
       "        vertical-align: top;\n",
       "    }\n",
       "\n",
       "    .dataframe thead th {\n",
       "        text-align: right;\n",
       "    }\n",
       "</style>\n",
       "<table border=\"1\" class=\"dataframe\">\n",
       "  <thead>\n",
       "    <tr style=\"text-align: right;\">\n",
       "      <th></th>\n",
       "      <th>Colunm A</th>\n",
       "    </tr>\n",
       "  </thead>\n",
       "  <tbody>\n",
       "    <tr>\n",
       "      <th>0</th>\n",
       "      <td>Cell 1</td>\n",
       "    </tr>\n",
       "    <tr>\n",
       "      <th>1</th>\n",
       "      <td>Cell 2</td>\n",
       "    </tr>\n",
       "    <tr>\n",
       "      <th>2</th>\n",
       "      <td>Cell 3</td>\n",
       "    </tr>\n",
       "    <tr>\n",
       "      <th>3</th>\n",
       "      <td>Cell 4</td>\n",
       "    </tr>\n",
       "    <tr>\n",
       "      <th>4</th>\n",
       "      <td>Cell 5</td>\n",
       "    </tr>\n",
       "    <tr>\n",
       "      <th>5</th>\n",
       "      <td>Cell 6</td>\n",
       "    </tr>\n",
       "    <tr>\n",
       "      <th>6</th>\n",
       "      <td>Cell 7</td>\n",
       "    </tr>\n",
       "    <tr>\n",
       "      <th>7</th>\n",
       "      <td>Cell 8</td>\n",
       "    </tr>\n",
       "  </tbody>\n",
       "</table>\n",
       "</div>"
      ],
      "text/plain": [
       "  Colunm A\n",
       "0   Cell 1\n",
       "1   Cell 2\n",
       "2   Cell 3\n",
       "3   Cell 4\n",
       "4   Cell 5\n",
       "5   Cell 6\n",
       "6   Cell 7\n",
       "7   Cell 8"
      ]
     },
     "execution_count": 65,
     "metadata": {},
     "output_type": "execute_result"
    }
   ],
   "source": [
    "df1 = pd.DataFrame(df['Colunm'] +' '+ df['A'].astype(str))\n",
    "df1.columns = ['Colunm A']\n",
    "df1"
   ]
  },
  {
   "cell_type": "code",
   "execution_count": null,
   "id": "b1aef535",
   "metadata": {},
   "outputs": [],
   "source": []
  },
  {
   "cell_type": "code",
   "execution_count": null,
   "id": "f994ae26",
   "metadata": {},
   "outputs": [],
   "source": []
  },
  {
   "cell_type": "code",
   "execution_count": null,
   "id": "484f3d9a",
   "metadata": {},
   "outputs": [],
   "source": []
  },
  {
   "cell_type": "code",
   "execution_count": null,
   "id": "00914a5a",
   "metadata": {},
   "outputs": [],
   "source": []
  },
  {
   "cell_type": "code",
   "execution_count": null,
   "id": "84a971d9",
   "metadata": {},
   "outputs": [],
   "source": []
  },
  {
   "cell_type": "code",
   "execution_count": null,
   "id": "261a227b",
   "metadata": {},
   "outputs": [],
   "source": []
  },
  {
   "cell_type": "code",
   "execution_count": 72,
   "id": "515eac56",
   "metadata": {},
   "outputs": [
    {
     "data": {
      "text/plain": [
       "0    [Cell 1, Cell 2]\n",
       "1    [Cell 3, Cell 4]\n",
       "2    [Cell 5, Cell 6]\n",
       "3    [Cell 7, Cell 8]\n",
       "Name: Colunm A, dtype: object"
      ]
     },
     "execution_count": 72,
     "metadata": {},
     "output_type": "execute_result"
    }
   ],
   "source": [
    "import pandas as pd\n",
    "import numpy as np\n",
    "\n",
    "n = 2\n",
    "rows = df.shape[0]\n",
    "g = np.repeat(range(int(rows/n)+1),n)[:rows]\n",
    "df1.groupby(g)['Colunm A'].apply(list)"
   ]
  },
  {
   "cell_type": "code",
   "execution_count": 35,
   "id": "5f6ba5e9",
   "metadata": {},
   "outputs": [
    {
     "data": {
      "text/html": [
       "<div>\n",
       "<style scoped>\n",
       "    .dataframe tbody tr th:only-of-type {\n",
       "        vertical-align: middle;\n",
       "    }\n",
       "\n",
       "    .dataframe tbody tr th {\n",
       "        vertical-align: top;\n",
       "    }\n",
       "\n",
       "    .dataframe thead th {\n",
       "        text-align: right;\n",
       "    }\n",
       "</style>\n",
       "<table border=\"1\" class=\"dataframe\">\n",
       "  <thead>\n",
       "    <tr style=\"text-align: right;\">\n",
       "      <th></th>\n",
       "      <th>Colunm</th>\n",
       "      <th>A</th>\n",
       "    </tr>\n",
       "  </thead>\n",
       "  <tbody>\n",
       "    <tr>\n",
       "      <th>0</th>\n",
       "      <td>Cell</td>\n",
       "      <td>1</td>\n",
       "    </tr>\n",
       "    <tr>\n",
       "      <th>1</th>\n",
       "      <td>Cell</td>\n",
       "      <td>2</td>\n",
       "    </tr>\n",
       "    <tr>\n",
       "      <th>2</th>\n",
       "      <td>Cell</td>\n",
       "      <td>3</td>\n",
       "    </tr>\n",
       "    <tr>\n",
       "      <th>3</th>\n",
       "      <td>Cell</td>\n",
       "      <td>4</td>\n",
       "    </tr>\n",
       "    <tr>\n",
       "      <th>4</th>\n",
       "      <td>Cell</td>\n",
       "      <td>5</td>\n",
       "    </tr>\n",
       "    <tr>\n",
       "      <th>5</th>\n",
       "      <td>Cell</td>\n",
       "      <td>6</td>\n",
       "    </tr>\n",
       "    <tr>\n",
       "      <th>6</th>\n",
       "      <td>Cell</td>\n",
       "      <td>7</td>\n",
       "    </tr>\n",
       "    <tr>\n",
       "      <th>7</th>\n",
       "      <td>Cell</td>\n",
       "      <td>8</td>\n",
       "    </tr>\n",
       "  </tbody>\n",
       "</table>\n",
       "</div>"
      ],
      "text/plain": [
       "  Colunm  A\n",
       "0   Cell  1\n",
       "1   Cell  2\n",
       "2   Cell  3\n",
       "3   Cell  4\n",
       "4   Cell  5\n",
       "5   Cell  6\n",
       "6   Cell  7\n",
       "7   Cell  8"
      ]
     },
     "execution_count": 35,
     "metadata": {},
     "output_type": "execute_result"
    }
   ],
   "source": [
    "df = pd.read_clipboard()\n",
    "df"
   ]
  },
  {
   "cell_type": "code",
   "execution_count": null,
   "id": "43e4df4e",
   "metadata": {},
   "outputs": [],
   "source": [
    "n = 2\n",
    "\n",
    "[item for item in range() for i in range(n)]"
   ]
  },
  {
   "cell_type": "code",
   "execution_count": null,
   "id": "1508e3f7",
   "metadata": {},
   "outputs": [],
   "source": []
  },
  {
   "cell_type": "code",
   "execution_count": null,
   "id": "9398908d",
   "metadata": {},
   "outputs": [],
   "source": []
  },
  {
   "cell_type": "code",
   "execution_count": 76,
   "id": "7df4163c",
   "metadata": {},
   "outputs": [
    {
     "data": {
      "text/plain": [
       "nan"
      ]
     },
     "execution_count": 76,
     "metadata": {},
     "output_type": "execute_result"
    }
   ],
   "source": [
    "np.NaN + np.NaN"
   ]
  },
  {
   "cell_type": "code",
   "execution_count": null,
   "id": "5b71d15a",
   "metadata": {},
   "outputs": [],
   "source": []
  },
  {
   "cell_type": "code",
   "execution_count": null,
   "id": "25b0c5f3",
   "metadata": {},
   "outputs": [],
   "source": []
  },
  {
   "cell_type": "code",
   "execution_count": 81,
   "id": "3e868040",
   "metadata": {},
   "outputs": [
    {
     "ename": "AttributeError",
     "evalue": "'function' object has no attribute 'func_defaults'",
     "output_type": "error",
     "traceback": [
      "\u001b[0;31m---------------------------------------------------------------------------\u001b[0m",
      "\u001b[0;31mAttributeError\u001b[0m                            Traceback (most recent call last)",
      "Input \u001b[0;32mIn [81]\u001b[0m, in \u001b[0;36m<module>\u001b[0;34m\u001b[0m\n\u001b[0;32m----> 1\u001b[0m \u001b[43mpd\u001b[49m\u001b[38;5;241;43m.\u001b[39;49m\u001b[43mDataFrame\u001b[49m\u001b[38;5;241;43m.\u001b[39;49m\u001b[43msum\u001b[49m\u001b[38;5;241;43m.\u001b[39;49m\u001b[43mfunc_defaults\u001b[49m\n",
      "\u001b[0;31mAttributeError\u001b[0m: 'function' object has no attribute 'func_defaults'"
     ]
    }
   ],
   "source": []
  },
  {
   "cell_type": "code",
   "execution_count": 82,
   "id": "3f09dcd7",
   "metadata": {},
   "outputs": [
    {
     "ename": "AttributeError",
     "evalue": "'DataFrame' object has no attribute 'nansum'",
     "output_type": "error",
     "traceback": [
      "\u001b[0;31m---------------------------------------------------------------------------\u001b[0m",
      "\u001b[0;31mAttributeError\u001b[0m                            Traceback (most recent call last)",
      "Input \u001b[0;32mIn [82]\u001b[0m, in \u001b[0;36m<module>\u001b[0;34m\u001b[0m\n\u001b[1;32m      2\u001b[0m \u001b[38;5;28;01mimport\u001b[39;00m \u001b[38;5;21;01mnumpy\u001b[39;00m  \u001b[38;5;28;01mas\u001b[39;00m \u001b[38;5;21;01mnp\u001b[39;00m\n\u001b[1;32m      4\u001b[0m np\u001b[38;5;241m.\u001b[39mNaN \u001b[38;5;241m+\u001b[39m np\u001b[38;5;241m.\u001b[39mNaN\n\u001b[0;32m----> 5\u001b[0m \u001b[43mpd\u001b[49m\u001b[38;5;241;43m.\u001b[39;49m\u001b[43mDataFrame\u001b[49m\u001b[43m(\u001b[49m\u001b[43m[\u001b[49m\u001b[43mnp\u001b[49m\u001b[38;5;241;43m.\u001b[39;49m\u001b[43mNaN\u001b[49m\u001b[43m,\u001b[49m\u001b[43mnp\u001b[49m\u001b[38;5;241;43m.\u001b[39;49m\u001b[43mNaN\u001b[49m\u001b[43m]\u001b[49m\u001b[43m)\u001b[49m\u001b[38;5;241;43m.\u001b[39;49m\u001b[43mnansum\u001b[49m()\n",
      "File \u001b[0;32m/opt/homebrew/Caskroom/miniforge/base/lib/python3.9/site-packages/pandas/core/generic.py:5487\u001b[0m, in \u001b[0;36mNDFrame.__getattr__\u001b[0;34m(self, name)\u001b[0m\n\u001b[1;32m   5480\u001b[0m \u001b[38;5;28;01mif\u001b[39;00m (\n\u001b[1;32m   5481\u001b[0m     name \u001b[38;5;129;01mnot\u001b[39;00m \u001b[38;5;129;01min\u001b[39;00m \u001b[38;5;28mself\u001b[39m\u001b[38;5;241m.\u001b[39m_internal_names_set\n\u001b[1;32m   5482\u001b[0m     \u001b[38;5;129;01mand\u001b[39;00m name \u001b[38;5;129;01mnot\u001b[39;00m \u001b[38;5;129;01min\u001b[39;00m \u001b[38;5;28mself\u001b[39m\u001b[38;5;241m.\u001b[39m_metadata\n\u001b[1;32m   5483\u001b[0m     \u001b[38;5;129;01mand\u001b[39;00m name \u001b[38;5;129;01mnot\u001b[39;00m \u001b[38;5;129;01min\u001b[39;00m \u001b[38;5;28mself\u001b[39m\u001b[38;5;241m.\u001b[39m_accessors\n\u001b[1;32m   5484\u001b[0m     \u001b[38;5;129;01mand\u001b[39;00m \u001b[38;5;28mself\u001b[39m\u001b[38;5;241m.\u001b[39m_info_axis\u001b[38;5;241m.\u001b[39m_can_hold_identifiers_and_holds_name(name)\n\u001b[1;32m   5485\u001b[0m ):\n\u001b[1;32m   5486\u001b[0m     \u001b[38;5;28;01mreturn\u001b[39;00m \u001b[38;5;28mself\u001b[39m[name]\n\u001b[0;32m-> 5487\u001b[0m \u001b[38;5;28;01mreturn\u001b[39;00m \u001b[38;5;28;43mobject\u001b[39;49m\u001b[38;5;241;43m.\u001b[39;49m\u001b[38;5;21;43m__getattribute__\u001b[39;49m\u001b[43m(\u001b[49m\u001b[38;5;28;43mself\u001b[39;49m\u001b[43m,\u001b[49m\u001b[43m \u001b[49m\u001b[43mname\u001b[49m\u001b[43m)\u001b[49m\n",
      "\u001b[0;31mAttributeError\u001b[0m: 'DataFrame' object has no attribute 'nansum'"
     ]
    }
   ],
   "source": [
    "import pandas as pd\n",
    "import numpy  as np\n",
    "\n",
    "np.NaN + np.NaN\n"
   ]
  },
  {
   "cell_type": "code",
   "execution_count": 84,
   "id": "70d55368",
   "metadata": {},
   "outputs": [
    {
     "data": {
      "text/plain": [
       "0   NaN\n",
       "dtype: float64"
      ]
     },
     "execution_count": 84,
     "metadata": {},
     "output_type": "execute_result"
    }
   ],
   "source": [
    "def set_default(func, **default):\n",
    "    def inner(*args, **kwargs):\n",
    "        kwargs.update(default)        # Update function kwargs w/ decorator defaults\n",
    "        return func(*args, **kwargs)  # Call function w/ updated kwargs\n",
    "    return inner                      # Return decorated function\n",
    "\n",
    "pd.DataFrame.sum = set_default(pd.DataFrame.sum, skipna=False)\n",
    "pd.DataFrame([np.NaN,np.NaN]).sum()"
   ]
  },
  {
   "cell_type": "code",
   "execution_count": null,
   "id": "67e02bf7",
   "metadata": {},
   "outputs": [],
   "source": []
  },
  {
   "cell_type": "code",
   "execution_count": null,
   "id": "ff88e43e",
   "metadata": {},
   "outputs": [],
   "source": [
    "%timeit list(itertools.chain(*l))\n",
    "%timeit [j for i in l for j in i]\n",
    "%timeit sum(l, [])\n",
    "%timeit functools.reduce(operator.iconcat, l, [])"
   ]
  },
  {
   "cell_type": "code",
   "execution_count": null,
   "id": "c3f27c9b",
   "metadata": {},
   "outputs": [],
   "source": []
  },
  {
   "cell_type": "code",
   "execution_count": 85,
   "id": "1c2a9765",
   "metadata": {},
   "outputs": [],
   "source": [
    "from itertools import chain"
   ]
  },
  {
   "cell_type": "code",
   "execution_count": 106,
   "id": "24a392a1",
   "metadata": {},
   "outputs": [
    {
     "data": {
      "text/plain": [
       "[[1, 2], [3, 4], [11, 22], [33, 44]]"
      ]
     },
     "execution_count": 106,
     "metadata": {},
     "output_type": "execute_result"
    }
   ],
   "source": [
    "list1 = [[1,2],[3,4]]\n",
    "list2 = [[11,22],[33,44]]\n",
    "\n",
    "list(itertools.chain(list1+list2))"
   ]
  },
  {
   "cell_type": "code",
   "execution_count": 98,
   "id": "942a9ee1",
   "metadata": {},
   "outputs": [
    {
     "data": {
      "text/plain": [
       "[([1, 2], [11, 22]), ([3, 4], [33, 44])]"
      ]
     },
     "execution_count": 98,
     "metadata": {},
     "output_type": "execute_result"
    }
   ],
   "source": [
    "list(zip(list1, list2))"
   ]
  },
  {
   "cell_type": "code",
   "execution_count": null,
   "id": "cb3faa7c",
   "metadata": {},
   "outputs": [],
   "source": []
  },
  {
   "cell_type": "code",
   "execution_count": 133,
   "id": "45051995",
   "metadata": {},
   "outputs": [
    {
     "name": "stdout",
     "output_type": "stream",
     "text": [
      "813 ns ± 10.1 ns per loop (mean ± std. dev. of 7 runs, 1,000,000 loops each)\n"
     ]
    }
   ],
   "source": [
    "%timeit [j for i in zip(list1, list2) for j in zip(*i)]"
   ]
  },
  {
   "cell_type": "code",
   "execution_count": null,
   "id": "4399b73c",
   "metadata": {},
   "outputs": [],
   "source": []
  },
  {
   "cell_type": "code",
   "execution_count": 137,
   "id": "519d1c27",
   "metadata": {},
   "outputs": [
    {
     "data": {
      "text/plain": [
       "[(1, 11), (2, 22), (3, 33), (4, 44)]"
      ]
     },
     "execution_count": 137,
     "metadata": {},
     "output_type": "execute_result"
    }
   ],
   "source": [
    "list(map(tuple, np.array(list1+list2).reshape(2,-1).T))\n",
    "\n",
    "[(1, 11), (2, 22), (3, 33), (4, 44)]"
   ]
  },
  {
   "cell_type": "code",
   "execution_count": null,
   "id": "03d78085",
   "metadata": {},
   "outputs": [],
   "source": []
  },
  {
   "cell_type": "code",
   "execution_count": 143,
   "id": "7ee73fee",
   "metadata": {},
   "outputs": [
    {
     "data": {
      "text/plain": [
       "[542, 654, 745]"
      ]
     },
     "execution_count": 143,
     "metadata": {},
     "output_type": "execute_result"
    }
   ],
   "source": [
    "s = [5542, 5654, 7545]\n",
    "[int(str(i).replace('5','',1)) for i in s]"
   ]
  },
  {
   "cell_type": "code",
   "execution_count": null,
   "id": "2701a9fb",
   "metadata": {},
   "outputs": [],
   "source": [
    "str.replace()"
   ]
  },
  {
   "cell_type": "code",
   "execution_count": null,
   "id": "54260f2d",
   "metadata": {},
   "outputs": [],
   "source": []
  },
  {
   "cell_type": "code",
   "execution_count": null,
   "id": "2309ca63",
   "metadata": {},
   "outputs": [],
   "source": []
  },
  {
   "cell_type": "code",
   "execution_count": null,
   "id": "ef82e3aa",
   "metadata": {},
   "outputs": [],
   "source": []
  },
  {
   "cell_type": "code",
   "execution_count": 144,
   "id": "726ae1b8",
   "metadata": {},
   "outputs": [
    {
     "data": {
      "text/html": [
       "<div>\n",
       "<style scoped>\n",
       "    .dataframe tbody tr th:only-of-type {\n",
       "        vertical-align: middle;\n",
       "    }\n",
       "\n",
       "    .dataframe tbody tr th {\n",
       "        vertical-align: top;\n",
       "    }\n",
       "\n",
       "    .dataframe thead th {\n",
       "        text-align: right;\n",
       "    }\n",
       "</style>\n",
       "<table border=\"1\" class=\"dataframe\">\n",
       "  <thead>\n",
       "    <tr style=\"text-align: right;\">\n",
       "      <th></th>\n",
       "      <th>ID</th>\n",
       "      <th>Name</th>\n",
       "      <th>#Required</th>\n",
       "    </tr>\n",
       "  </thead>\n",
       "  <tbody>\n",
       "    <tr>\n",
       "      <th>123</th>\n",
       "      <td>New</td>\n",
       "      <td>York</td>\n",
       "      <td>5.0</td>\n",
       "    </tr>\n",
       "    <tr>\n",
       "      <th>234</th>\n",
       "      <td>Boston</td>\n",
       "      <td>6</td>\n",
       "      <td>NaN</td>\n",
       "    </tr>\n",
       "    <tr>\n",
       "      <th>345</th>\n",
       "      <td>Miami</td>\n",
       "      <td>2</td>\n",
       "      <td>NaN</td>\n",
       "    </tr>\n",
       "    <tr>\n",
       "      <th>345</th>\n",
       "      <td>Dallas</td>\n",
       "      <td>7</td>\n",
       "      <td>NaN</td>\n",
       "    </tr>\n",
       "  </tbody>\n",
       "</table>\n",
       "</div>"
      ],
      "text/plain": [
       "         ID  Name  #Required\n",
       "123     New  York        5.0\n",
       "234  Boston     6        NaN\n",
       "345   Miami     2        NaN\n",
       "345  Dallas     7        NaN"
      ]
     },
     "execution_count": 144,
     "metadata": {},
     "output_type": "execute_result"
    }
   ],
   "source": [
    "df = pd.read_clipboard()\n",
    "df"
   ]
  },
  {
   "cell_type": "code",
   "execution_count": 146,
   "id": "46a816af",
   "metadata": {},
   "outputs": [
    {
     "data": {
      "text/plain": [
       "{'ID': ['New', 'Boston', 'Miami', 'Dallas'],\n",
       " 'Name': ['York', '6', '2', '7'],\n",
       " '#Required': [5.0, nan, nan, nan]}"
      ]
     },
     "execution_count": 146,
     "metadata": {},
     "output_type": "execute_result"
    }
   ],
   "source": [
    "df.to_dict('list')"
   ]
  },
  {
   "cell_type": "code",
   "execution_count": 191,
   "id": "47706a0f",
   "metadata": {},
   "outputs": [],
   "source": [
    "df = pd.DataFrame({'ID': [123, 234, 345, 345],\n",
    "                   'Name': ['New', 'Boston', 'Miami', 'Dallas'],\n",
    "                   '#Required': [5, 10, 2, 12]})"
   ]
  },
  {
   "cell_type": "code",
   "execution_count": 193,
   "id": "6b1e2c87",
   "metadata": {},
   "outputs": [
    {
     "data": {
      "text/html": [
       "<div>\n",
       "<style scoped>\n",
       "    .dataframe tbody tr th:only-of-type {\n",
       "        vertical-align: middle;\n",
       "    }\n",
       "\n",
       "    .dataframe tbody tr th {\n",
       "        vertical-align: top;\n",
       "    }\n",
       "\n",
       "    .dataframe thead th {\n",
       "        text-align: right;\n",
       "    }\n",
       "</style>\n",
       "<table border=\"1\" class=\"dataframe\">\n",
       "  <thead>\n",
       "    <tr style=\"text-align: right;\">\n",
       "      <th></th>\n",
       "      <th>ID</th>\n",
       "      <th>Name</th>\n",
       "      <th>#Required</th>\n",
       "      <th>J01</th>\n",
       "      <th>J02</th>\n",
       "      <th>J03</th>\n",
       "      <th>J04</th>\n",
       "      <th>J05</th>\n",
       "      <th>J06</th>\n",
       "      <th>J07</th>\n",
       "    </tr>\n",
       "  </thead>\n",
       "  <tbody>\n",
       "    <tr>\n",
       "      <th>0</th>\n",
       "      <td>123</td>\n",
       "      <td>New York</td>\n",
       "      <td>5</td>\n",
       "      <td>123W001</td>\n",
       "      <td>123W002</td>\n",
       "      <td>123W003</td>\n",
       "      <td>123W004</td>\n",
       "      <td>123W005</td>\n",
       "      <td>\"blank\"</td>\n",
       "      <td>\"blank\"</td>\n",
       "    </tr>\n",
       "    <tr>\n",
       "      <th>1</th>\n",
       "      <td>234</td>\n",
       "      <td>Boston</td>\n",
       "      <td>6</td>\n",
       "      <td>234W001</td>\n",
       "      <td>234W002</td>\n",
       "      <td>234W003</td>\n",
       "      <td>234W004</td>\n",
       "      <td>234W005</td>\n",
       "      <td>234W006</td>\n",
       "      <td>\"blank\"</td>\n",
       "    </tr>\n",
       "    <tr>\n",
       "      <th>2</th>\n",
       "      <td>345</td>\n",
       "      <td>Miami</td>\n",
       "      <td>2</td>\n",
       "      <td>345W001</td>\n",
       "      <td>345W002</td>\n",
       "      <td>\"blank\"</td>\n",
       "      <td>\"blank\"</td>\n",
       "      <td>\"blank\"</td>\n",
       "      <td>\"blank\"</td>\n",
       "      <td>\"blank\"</td>\n",
       "    </tr>\n",
       "    <tr>\n",
       "      <th>3</th>\n",
       "      <td>399</td>\n",
       "      <td>Dallas</td>\n",
       "      <td>7</td>\n",
       "      <td>399W001</td>\n",
       "      <td>399W002</td>\n",
       "      <td>399W003</td>\n",
       "      <td>399W004</td>\n",
       "      <td>399W005</td>\n",
       "      <td>399W006</td>\n",
       "      <td>399W007</td>\n",
       "    </tr>\n",
       "  </tbody>\n",
       "</table>\n",
       "</div>"
      ],
      "text/plain": [
       "    ID      Name  #Required      J01      J02      J03      J04      J05  \\\n",
       "0  123  New York          5  123W001  123W002  123W003  123W004  123W005   \n",
       "1  234    Boston          6  234W001  234W002  234W003  234W004  234W005   \n",
       "2  345     Miami          2  345W001  345W002  \"blank\"  \"blank\"  \"blank\"   \n",
       "3  399    Dallas          7  399W001  399W002  399W003  399W004  399W005   \n",
       "\n",
       "       J06      J07  \n",
       "0  \"blank\"  \"blank\"  \n",
       "1  234W006  \"blank\"  \n",
       "2  \"blank\"  \"blank\"  \n",
       "3  399W006  399W007  "
      ]
     },
     "execution_count": 193,
     "metadata": {},
     "output_type": "execute_result"
    }
   ],
   "source": [
    "# Your dummy dataset\n",
    "df = pd.DataFrame({'ID': [123, 234, 345, 399],\n",
    "                   'Name': ['New York', 'Boston', 'Miami', 'Dallas'],\n",
    "                   '#Required': [5, 6, 2, 7]})\n",
    "\n",
    "# Creating list of the required values per row\n",
    "new_lists = df.apply(lambda x: [str(x['ID'])+'W'+format(i, '03d') for i in range(1,x['#Required']+1)], 1)\n",
    "\n",
    "# Converting the list to individual columns with nan values\n",
    "new_cols = new_lists.apply(pd.Series)\n",
    "\n",
    "# Creating column names\n",
    "col_names = ['J'+format(i, '02d') for i in range(1,len(new_cols.columns)+1)]\n",
    "\n",
    "# Adding new columns to original dataframe\n",
    "df[col_names] = new_cols\n",
    "\n",
    "# Replacing nan values via 'blanks'\n",
    "df = df.fillna('\"blank\"')\n",
    "\n",
    "df"
   ]
  },
  {
   "cell_type": "code",
   "execution_count": 218,
   "id": "ce56b002",
   "metadata": {},
   "outputs": [
    {
     "data": {
      "text/html": [
       "<div>\n",
       "<style scoped>\n",
       "    .dataframe tbody tr th:only-of-type {\n",
       "        vertical-align: middle;\n",
       "    }\n",
       "\n",
       "    .dataframe tbody tr th {\n",
       "        vertical-align: top;\n",
       "    }\n",
       "\n",
       "    .dataframe thead th {\n",
       "        text-align: right;\n",
       "    }\n",
       "</style>\n",
       "<table border=\"1\" class=\"dataframe\">\n",
       "  <thead>\n",
       "    <tr style=\"text-align: right;\">\n",
       "      <th></th>\n",
       "      <th>ID</th>\n",
       "      <th>Name</th>\n",
       "      <th>#Required</th>\n",
       "      <th>J01</th>\n",
       "      <th>J02</th>\n",
       "      <th>J03</th>\n",
       "      <th>J04</th>\n",
       "      <th>J05</th>\n",
       "    </tr>\n",
       "  </thead>\n",
       "  <tbody>\n",
       "    <tr>\n",
       "      <th>0</th>\n",
       "      <td>123</td>\n",
       "      <td>New York</td>\n",
       "      <td>5</td>\n",
       "      <td>123W001</td>\n",
       "      <td>123W002</td>\n",
       "      <td>123W003</td>\n",
       "      <td>123W004</td>\n",
       "      <td>123W005</td>\n",
       "    </tr>\n",
       "    <tr>\n",
       "      <th>1</th>\n",
       "      <td>34</td>\n",
       "      <td>Boston</td>\n",
       "      <td>3</td>\n",
       "      <td>034W001</td>\n",
       "      <td>034W002</td>\n",
       "      <td>034W003</td>\n",
       "      <td>\"blank\"</td>\n",
       "      <td>\"blank\"</td>\n",
       "    </tr>\n",
       "    <tr>\n",
       "      <th>2</th>\n",
       "      <td>345</td>\n",
       "      <td>Miami</td>\n",
       "      <td>2</td>\n",
       "      <td>345W001</td>\n",
       "      <td>345W002</td>\n",
       "      <td>\"blank\"</td>\n",
       "      <td>\"blank\"</td>\n",
       "      <td>\"blank\"</td>\n",
       "    </tr>\n",
       "    <tr>\n",
       "      <th>3</th>\n",
       "      <td>99</td>\n",
       "      <td>Dallas</td>\n",
       "      <td>4</td>\n",
       "      <td>099W001</td>\n",
       "      <td>099W002</td>\n",
       "      <td>099W003</td>\n",
       "      <td>099W004</td>\n",
       "      <td>\"blank\"</td>\n",
       "    </tr>\n",
       "  </tbody>\n",
       "</table>\n",
       "</div>"
      ],
      "text/plain": [
       "    ID      Name  #Required      J01      J02      J03      J04      J05\n",
       "0  123  New York          5  123W001  123W002  123W003  123W004  123W005\n",
       "1   34    Boston          3  034W001  034W002  034W003  \"blank\"  \"blank\"\n",
       "2  345     Miami          2  345W001  345W002  \"blank\"  \"blank\"  \"blank\"\n",
       "3   99    Dallas          4  099W001  099W002  099W003  099W004  \"blank\""
      ]
     },
     "execution_count": 218,
     "metadata": {},
     "output_type": "execute_result"
    }
   ],
   "source": [
    "# Sample dataframe 2 digit IDs\n",
    "df = df = pd.DataFrame({'ID': [123, 34, 345, 99],\n",
    "                   'Name': ['New York', 'Boston', 'Miami', 'Dallas'],\n",
    "                   '#Required': [5, 3, 2, 4]})\n",
    "\n",
    "new_lists = df.apply(lambda x: [format(x['ID'], '03d')+'W'+format(i, '03d') for i in range(1,x['#Required']+1)], 1)\n",
    "new_cols = new_lists.apply(pd.Series)\n",
    "col_names = ['J'+format(i, '02d') for i in range(1,len(new_cols.columns)+1)]\n",
    "df[col_names] = new_cols\n",
    "df = df.fillna('\"blank\"')\n",
    "df"
   ]
  },
  {
   "cell_type": "code",
   "execution_count": null,
   "id": "cce7ea8c",
   "metadata": {},
   "outputs": [],
   "source": []
  },
  {
   "cell_type": "code",
   "execution_count": null,
   "id": "f4db0523",
   "metadata": {},
   "outputs": [],
   "source": []
  },
  {
   "cell_type": "code",
   "execution_count": null,
   "id": "219f26a2",
   "metadata": {},
   "outputs": [],
   "source": []
  },
  {
   "cell_type": "code",
   "execution_count": null,
   "id": "01ea128b",
   "metadata": {},
   "outputs": [],
   "source": []
  },
  {
   "cell_type": "code",
   "execution_count": null,
   "id": "6a277d4a",
   "metadata": {},
   "outputs": [],
   "source": [
    "odeint()"
   ]
  },
  {
   "cell_type": "code",
   "execution_count": 201,
   "id": "a5803e2a",
   "metadata": {},
   "outputs": [
    {
     "data": {
      "text/plain": [
       "[0, 0.0, 0, 0.0]"
      ]
     },
     "execution_count": 201,
     "metadata": {},
     "output_type": "execute_result"
    }
   ],
   "source": [
    "dSdt(t, S0)"
   ]
  },
  {
   "cell_type": "code",
   "execution_count": null,
   "id": "e8dccaae",
   "metadata": {},
   "outputs": [],
   "source": [
    "odeint()"
   ]
  },
  {
   "cell_type": "code",
   "execution_count": 203,
   "id": "f4fc531e",
   "metadata": {},
   "outputs": [
    {
     "name": "stdout",
     "output_type": "stream",
     "text": [
      "[[0. 0. 0. 0.]\n",
      " [0. 0. 0. 0.]\n",
      " [0. 0. 0. 0.]\n",
      " [0. 0. 0. 0.]\n",
      " [0. 0. 0. 0.]\n",
      " [0. 0. 0. 0.]\n",
      " [0. 0. 0. 0.]\n",
      " [0. 0. 0. 0.]\n",
      " [0. 0. 0. 0.]\n",
      " [0. 0. 0. 0.]\n",
      " [0. 0. 0. 0.]\n",
      " [0. 0. 0. 0.]\n",
      " [0. 0. 0. 0.]\n",
      " [0. 0. 0. 0.]\n",
      " [0. 0. 0. 0.]\n",
      " [0. 0. 0. 0.]\n",
      " [0. 0. 0. 0.]\n",
      " [0. 0. 0. 0.]\n",
      " [0. 0. 0. 0.]\n",
      " [0. 0. 0. 0.]\n",
      " [0. 0. 0. 0.]\n",
      " [0. 0. 0. 0.]\n",
      " [0. 0. 0. 0.]\n",
      " [0. 0. 0. 0.]\n",
      " [0. 0. 0. 0.]\n",
      " [0. 0. 0. 0.]\n",
      " [0. 0. 0. 0.]\n",
      " [0. 0. 0. 0.]\n",
      " [0. 0. 0. 0.]\n",
      " [0. 0. 0. 0.]\n",
      " [0. 0. 0. 0.]\n",
      " [0. 0. 0. 0.]\n",
      " [0. 0. 0. 0.]\n",
      " [0. 0. 0. 0.]\n",
      " [0. 0. 0. 0.]\n",
      " [0. 0. 0. 0.]\n",
      " [0. 0. 0. 0.]\n",
      " [0. 0. 0. 0.]\n",
      " [0. 0. 0. 0.]\n",
      " [0. 0. 0. 0.]\n",
      " [0. 0. 0. 0.]\n",
      " [0. 0. 0. 0.]\n",
      " [0. 0. 0. 0.]\n",
      " [0. 0. 0. 0.]\n",
      " [0. 0. 0. 0.]\n",
      " [0. 0. 0. 0.]\n",
      " [0. 0. 0. 0.]\n",
      " [0. 0. 0. 0.]\n",
      " [0. 0. 0. 0.]\n",
      " [0. 0. 0. 0.]\n",
      " [0. 0. 0. 0.]\n",
      " [0. 0. 0. 0.]\n",
      " [0. 0. 0. 0.]\n",
      " [0. 0. 0. 0.]\n",
      " [0. 0. 0. 0.]\n",
      " [0. 0. 0. 0.]\n",
      " [0. 0. 0. 0.]\n",
      " [0. 0. 0. 0.]\n",
      " [0. 0. 0. 0.]\n",
      " [0. 0. 0. 0.]\n",
      " [0. 0. 0. 0.]\n",
      " [0. 0. 0. 0.]\n",
      " [0. 0. 0. 0.]\n",
      " [0. 0. 0. 0.]\n",
      " [0. 0. 0. 0.]\n",
      " [0. 0. 0. 0.]\n",
      " [0. 0. 0. 0.]\n",
      " [0. 0. 0. 0.]\n",
      " [0. 0. 0. 0.]\n",
      " [0. 0. 0. 0.]\n",
      " [0. 0. 0. 0.]\n",
      " [0. 0. 0. 0.]\n",
      " [0. 0. 0. 0.]\n",
      " [0. 0. 0. 0.]\n",
      " [0. 0. 0. 0.]\n",
      " [0. 0. 0. 0.]\n",
      " [0. 0. 0. 0.]\n",
      " [0. 0. 0. 0.]\n",
      " [0. 0. 0. 0.]\n",
      " [0. 0. 0. 0.]\n",
      " [0. 0. 0. 0.]\n",
      " [0. 0. 0. 0.]\n",
      " [0. 0. 0. 0.]\n",
      " [0. 0. 0. 0.]\n",
      " [0. 0. 0. 0.]\n",
      " [0. 0. 0. 0.]\n",
      " [0. 0. 0. 0.]\n",
      " [0. 0. 0. 0.]\n",
      " [0. 0. 0. 0.]\n",
      " [0. 0. 0. 0.]\n",
      " [0. 0. 0. 0.]\n",
      " [0. 0. 0. 0.]\n",
      " [0. 0. 0. 0.]\n",
      " [0. 0. 0. 0.]\n",
      " [0. 0. 0. 0.]\n",
      " [0. 0. 0. 0.]\n",
      " [0. 0. 0. 0.]\n",
      " [0. 0. 0. 0.]\n",
      " [0. 0. 0. 0.]\n",
      " [0. 0. 0. 0.]]\n"
     ]
    }
   ],
   "source": [
    "from scipy.integrate import odeint\n",
    "import numpy as np\n",
    "\n",
    "def dSdt(S, t):\n",
    "    x1, a, x2, b = S\n",
    "    return [a, 0.8*b - 0.8*a - 2.5*x1 + 1.5*x2, b, (8/15)*a - (8/15)*b + x1 - (27/15)*x2]\n",
    "\n",
    "S0 = np.array([0, 0, 0, 0])\n",
    "\n",
    "t = np.linspace(0, 1, 100)\n",
    "sol = odeint(dSdt, S0, t)\n",
    "print(sol)"
   ]
  },
  {
   "cell_type": "code",
   "execution_count": 204,
   "id": "cdbfc73e",
   "metadata": {},
   "outputs": [],
   "source": [
    "MenuItems = {\n",
    "\n",
    "    'Title': [0], #Text\n",
    "    '---': [1], #Separator\n",
    "\n",
    "    'MenuItem 1': [3, { #Dropdown Submenu\n",
    "\n",
    "        'SubItem 1': [2, 1000], #Submenu Items that return a value\n",
    "        '---': [1],\n",
    "        'SubItem 2': [2, 2000],\n",
    "        '---': [1],\n",
    "        'SubItem 3': [2, 3000]\n",
    "\n",
    "        }],\n",
    "\n",
    "    '---': [1],\n",
    "    'MenuItem2': [2, 4000]\n",
    "\n",
    "    }"
   ]
  },
  {
   "cell_type": "code",
   "execution_count": 205,
   "id": "e652b8ee",
   "metadata": {},
   "outputs": [
    {
     "data": {
      "text/plain": [
       "{'Title': [0],\n",
       " '---': [1],\n",
       " 'MenuItem 1': [3,\n",
       "  {'SubItem 1': [2, 1000],\n",
       "   '---': [1],\n",
       "   'SubItem 2': [2, 2000],\n",
       "   'SubItem 3': [2, 3000]}],\n",
       " 'MenuItem2': [2, 4000]}"
      ]
     },
     "execution_count": 205,
     "metadata": {},
     "output_type": "execute_result"
    }
   ],
   "source": [
    "MenuItems"
   ]
  },
  {
   "cell_type": "code",
   "execution_count": 214,
   "id": "59a0d86b",
   "metadata": {},
   "outputs": [
    {
     "name": "stderr",
     "output_type": "stream",
     "text": [
      "/opt/homebrew/Caskroom/miniforge/base/lib/python3.9/site-packages/IPython/core/interactiveshell.py:3251: FutureWarning: The warn_bad_lines argument has been deprecated and will be removed in a future version.\n",
      "\n",
      "\n",
      "  exec(code_obj, self.user_global_ns, self.user_ns)\n"
     ]
    }
   ],
   "source": [
    "read_file = pd.read_csv('cosa.txt', delimiter=\"|\", encoding='latin-1', low_memory=False, warn_bad_lines=True,header=None)\n",
    "\n",
    "\n"
   ]
  },
  {
   "cell_type": "code",
   "execution_count": 215,
   "id": "85361edb",
   "metadata": {},
   "outputs": [
    {
     "data": {
      "text/html": [
       "<div>\n",
       "<style scoped>\n",
       "    .dataframe tbody tr th:only-of-type {\n",
       "        vertical-align: middle;\n",
       "    }\n",
       "\n",
       "    .dataframe tbody tr th {\n",
       "        vertical-align: top;\n",
       "    }\n",
       "\n",
       "    .dataframe thead th {\n",
       "        text-align: right;\n",
       "    }\n",
       "</style>\n",
       "<table border=\"1\" class=\"dataframe\">\n",
       "  <thead>\n",
       "    <tr style=\"text-align: right;\">\n",
       "      <th></th>\n",
       "      <th>0</th>\n",
       "      <th>1</th>\n",
       "      <th>2</th>\n",
       "      <th>3</th>\n",
       "      <th>4</th>\n",
       "      <th>5</th>\n",
       "      <th>6</th>\n",
       "      <th>7</th>\n",
       "      <th>8</th>\n",
       "      <th>9</th>\n",
       "      <th>10</th>\n",
       "      <th>11</th>\n",
       "      <th>12</th>\n",
       "      <th>13</th>\n",
       "      <th>14</th>\n",
       "      <th>15</th>\n",
       "      <th>16</th>\n",
       "      <th>17</th>\n",
       "      <th>18</th>\n",
       "      <th>19</th>\n",
       "    </tr>\n",
       "  </thead>\n",
       "  <tbody>\n",
       "    <tr>\n",
       "      <th>0</th>\n",
       "      <td>989</td>\n",
       "      <td>d_\\[_ZU</td>\n",
       "      <td>230</td>\n",
       "      <td>1</td>\n",
       "      <td>V1</td>\n",
       "      <td>230</td>\n",
       "      <td>20.3778</td>\n",
       "      <td>0.0</td>\n",
       "      <td>0.0</td>\n",
       "      <td>0.0</td>\n",
       "      <td>0.0</td>\n",
       "      <td>0.0</td>\n",
       "      <td>2646.000</td>\n",
       "      <td>98</td>\n",
       "      <td>98</td>\n",
       "      <td>98</td>\n",
       "      <td>7</td>\n",
       "      <td>1</td>\n",
       "      <td>2022-08-01 15:00:02</td>\n",
       "      <td></td>\n",
       "    </tr>\n",
       "    <tr>\n",
       "      <th>1</th>\n",
       "      <td>1335</td>\n",
       "      <td>a\\YZXWO</td>\n",
       "      <td>230</td>\n",
       "      <td>2</td>\n",
       "      <td>A1</td>\n",
       "      <td>230</td>\n",
       "      <td>20.3778</td>\n",
       "      <td>0.0</td>\n",
       "      <td>0.0</td>\n",
       "      <td>0.0</td>\n",
       "      <td>0.0</td>\n",
       "      <td>0.0</td>\n",
       "      <td>37513.000</td>\n",
       "      <td>7</td>\n",
       "      <td>7</td>\n",
       "      <td>7</td>\n",
       "      <td>9</td>\n",
       "      <td>1</td>\n",
       "      <td>2022-08-01 14:22:01</td>\n",
       "      <td></td>\n",
       "    </tr>\n",
       "    <tr>\n",
       "      <th>2</th>\n",
       "      <td>3302</td>\n",
       "      <td>b]Z_YYQ</td>\n",
       "      <td>190</td>\n",
       "      <td>1</td>\n",
       "      <td>VF</td>\n",
       "      <td>190</td>\n",
       "      <td>20.3778</td>\n",
       "      <td>0.0</td>\n",
       "      <td>0.0</td>\n",
       "      <td>0.0</td>\n",
       "      <td>408.0</td>\n",
       "      <td>0.0</td>\n",
       "      <td>2100.000</td>\n",
       "      <td>7</td>\n",
       "      <td>7</td>\n",
       "      <td>7</td>\n",
       "      <td>1</td>\n",
       "      <td>1</td>\n",
       "      <td>2022-08-01 16:35:01</td>\n",
       "      <td></td>\n",
       "    </tr>\n",
       "    <tr>\n",
       "      <th>3</th>\n",
       "      <td>9048</td>\n",
       "      <td>d_\\_VXU</td>\n",
       "      <td>200</td>\n",
       "      <td>1</td>\n",
       "      <td>G1</td>\n",
       "      <td>240</td>\n",
       "      <td>19.9663</td>\n",
       "      <td>63.0</td>\n",
       "      <td>0.0</td>\n",
       "      <td>0.0</td>\n",
       "      <td>11.0</td>\n",
       "      <td>0.0</td>\n",
       "      <td>1.171</td>\n",
       "      <td>98</td>\n",
       "      <td>98</td>\n",
       "      <td>98</td>\n",
       "      <td>9</td>\n",
       "      <td>1</td>\n",
       "      <td>2022-08-01 14:34:02</td>\n",
       "      <td></td>\n",
       "    </tr>\n",
       "    <tr>\n",
       "      <th>4</th>\n",
       "      <td>3279</td>\n",
       "      <td>_ZWTSUK</td>\n",
       "      <td>240</td>\n",
       "      <td>1</td>\n",
       "      <td>A1</td>\n",
       "      <td>240</td>\n",
       "      <td>20.3778</td>\n",
       "      <td>0.0</td>\n",
       "      <td>0.0</td>\n",
       "      <td>0.0</td>\n",
       "      <td>24788.0</td>\n",
       "      <td>0.0</td>\n",
       "      <td>2534.989</td>\n",
       "      <td>7</td>\n",
       "      <td>7</td>\n",
       "      <td>7</td>\n",
       "      <td>9</td>\n",
       "      <td>1</td>\n",
       "      <td>2022-08-01 10:02:01</td>\n",
       "      <td></td>\n",
       "    </tr>\n",
       "  </tbody>\n",
       "</table>\n",
       "</div>"
      ],
      "text/plain": [
       "     0        1    2   3   4    5        6     7    8    9        10   11  \\\n",
       "0   989  d_\\[_ZU  230   1  V1  230  20.3778   0.0  0.0  0.0      0.0  0.0   \n",
       "1  1335  a\\YZXWO  230   2  A1  230  20.3778   0.0  0.0  0.0      0.0  0.0   \n",
       "2  3302  b]Z_YYQ  190   1  VF  190  20.3778   0.0  0.0  0.0    408.0  0.0   \n",
       "3  9048  d_\\_VXU  200   1  G1  240  19.9663  63.0  0.0  0.0     11.0  0.0   \n",
       "4  3279  _ZWTSUK  240   1  A1  240  20.3778   0.0  0.0  0.0  24788.0  0.0   \n",
       "\n",
       "          12  13  14  15  16  17                   18 19  \n",
       "0   2646.000  98  98  98   7   1  2022-08-01 15:00:02     \n",
       "1  37513.000   7   7   7   9   1  2022-08-01 14:22:01     \n",
       "2   2100.000   7   7   7   1   1  2022-08-01 16:35:01     \n",
       "3      1.171  98  98  98   9   1  2022-08-01 14:34:02     \n",
       "4   2534.989   7   7   7   9   1  2022-08-01 10:02:01     "
      ]
     },
     "execution_count": 215,
     "metadata": {},
     "output_type": "execute_result"
    }
   ],
   "source": [
    "read_file"
   ]
  },
  {
   "cell_type": "code",
   "execution_count": null,
   "id": "1b9c290c",
   "metadata": {},
   "outputs": [],
   "source": []
  },
  {
   "cell_type": "code",
   "execution_count": null,
   "id": "37334f8f",
   "metadata": {},
   "outputs": [],
   "source": []
  },
  {
   "cell_type": "code",
   "execution_count": null,
   "id": "a2dc9e32",
   "metadata": {},
   "outputs": [],
   "source": []
  },
  {
   "cell_type": "code",
   "execution_count": null,
   "id": "631631a8",
   "metadata": {},
   "outputs": [],
   "source": []
  },
  {
   "cell_type": "code",
   "execution_count": null,
   "id": "7f4111d1",
   "metadata": {},
   "outputs": [],
   "source": []
  },
  {
   "cell_type": "code",
   "execution_count": null,
   "id": "f5dc9e02",
   "metadata": {},
   "outputs": [],
   "source": []
  },
  {
   "cell_type": "code",
   "execution_count": 224,
   "id": "4b22d5bf",
   "metadata": {},
   "outputs": [],
   "source": [
    "import pandas as pd\n",
    "import numpy as np\n",
    "\n",
    "df1    = pd.DataFrame([[100,1,2,4,5,6,8],\n",
    "                       [87,1,6,20,22,23,34],\n",
    "                       [99,1,12,13,34,45,46],\n",
    "                       [64,1,10,14,29,32,33],\n",
    "                       [55,1,22,13,23,33,35],\n",
    "                       [66,1,6,7,8,9,10],\n",
    "                       [77,1,2,3,5,6,8],\n",
    "                       [811,1,2,5,6,8,10], \n",
    "                       [118,1,7,8,22,44,56]],                        \n",
    "                       columns = ['Id', 'Num1','Num2','Num3','Num4','Num5','Num6'])\n",
    "\n",
    "\n",
    "df2    = pd.DataFrame([[89,2,4,6,8,10,12],\n",
    "                       [81,2,7,25,28,33,54],\n",
    "                       [91,2,13,17,33,45,48],\n",
    "                       [66,2,20,24,25,36,38],\n",
    "                       [56,1,24,33,43,53,65],\n",
    "                       [78,3,14,15,18,19,20],\n",
    "                       [120,4,10,23,25,26,38],\n",
    "                       [59,5,22,35,36,38,40], \n",
    "                       [125,1,17,18,32,44,56]],\n",
    "                       columns = ['Id', 'Num1','Num2','Num3','Num4','Num5','Num6'])\n"
   ]
  },
  {
   "cell_type": "code",
   "execution_count": null,
   "id": "28f13eac",
   "metadata": {},
   "outputs": [],
   "source": [
    "match = pd.DataFrame([[100,89,2,4,6,8],\n",
    "       [100,81,2,],\n",
    "       [100,91,2],\n",
    "       [87,89,6],\n",
    "      [99,89,12],\n",
    "      [64,56,1,43],\n",
    "      [64,78,14],\n",
    "      [55,56,1,33],\n",
    "      [77,59,5],\n",
    "      [811,59,5],\n",
    "      [118,59,22],\n",
    "      [118,125,1,44,56]],\n",
    "      columns = ['Id','Id','Num1','Num2','Num3','Num4','Num5','Num6'])"
   ]
  },
  {
   "cell_type": "code",
   "execution_count": 225,
   "id": "fd2dc7cc",
   "metadata": {},
   "outputs": [
    {
     "data": {
      "text/html": [
       "<div>\n",
       "<style scoped>\n",
       "    .dataframe tbody tr th:only-of-type {\n",
       "        vertical-align: middle;\n",
       "    }\n",
       "\n",
       "    .dataframe tbody tr th {\n",
       "        vertical-align: top;\n",
       "    }\n",
       "\n",
       "    .dataframe thead th {\n",
       "        text-align: right;\n",
       "    }\n",
       "</style>\n",
       "<table border=\"1\" class=\"dataframe\">\n",
       "  <thead>\n",
       "    <tr style=\"text-align: right;\">\n",
       "      <th></th>\n",
       "      <th>Id</th>\n",
       "      <th>Num1</th>\n",
       "      <th>Num2</th>\n",
       "      <th>Num3</th>\n",
       "      <th>Num4</th>\n",
       "      <th>Num5</th>\n",
       "      <th>Num6</th>\n",
       "    </tr>\n",
       "  </thead>\n",
       "  <tbody>\n",
       "    <tr>\n",
       "      <th>0</th>\n",
       "      <td>100</td>\n",
       "      <td>1</td>\n",
       "      <td>2</td>\n",
       "      <td>4</td>\n",
       "      <td>5</td>\n",
       "      <td>6</td>\n",
       "      <td>8</td>\n",
       "    </tr>\n",
       "    <tr>\n",
       "      <th>1</th>\n",
       "      <td>87</td>\n",
       "      <td>1</td>\n",
       "      <td>6</td>\n",
       "      <td>20</td>\n",
       "      <td>22</td>\n",
       "      <td>23</td>\n",
       "      <td>34</td>\n",
       "    </tr>\n",
       "    <tr>\n",
       "      <th>2</th>\n",
       "      <td>99</td>\n",
       "      <td>1</td>\n",
       "      <td>12</td>\n",
       "      <td>13</td>\n",
       "      <td>34</td>\n",
       "      <td>45</td>\n",
       "      <td>46</td>\n",
       "    </tr>\n",
       "    <tr>\n",
       "      <th>3</th>\n",
       "      <td>64</td>\n",
       "      <td>1</td>\n",
       "      <td>10</td>\n",
       "      <td>14</td>\n",
       "      <td>29</td>\n",
       "      <td>32</td>\n",
       "      <td>33</td>\n",
       "    </tr>\n",
       "    <tr>\n",
       "      <th>4</th>\n",
       "      <td>55</td>\n",
       "      <td>1</td>\n",
       "      <td>22</td>\n",
       "      <td>13</td>\n",
       "      <td>23</td>\n",
       "      <td>33</td>\n",
       "      <td>35</td>\n",
       "    </tr>\n",
       "    <tr>\n",
       "      <th>5</th>\n",
       "      <td>66</td>\n",
       "      <td>1</td>\n",
       "      <td>6</td>\n",
       "      <td>7</td>\n",
       "      <td>8</td>\n",
       "      <td>9</td>\n",
       "      <td>10</td>\n",
       "    </tr>\n",
       "    <tr>\n",
       "      <th>6</th>\n",
       "      <td>77</td>\n",
       "      <td>1</td>\n",
       "      <td>2</td>\n",
       "      <td>3</td>\n",
       "      <td>5</td>\n",
       "      <td>6</td>\n",
       "      <td>8</td>\n",
       "    </tr>\n",
       "    <tr>\n",
       "      <th>7</th>\n",
       "      <td>811</td>\n",
       "      <td>1</td>\n",
       "      <td>2</td>\n",
       "      <td>5</td>\n",
       "      <td>6</td>\n",
       "      <td>8</td>\n",
       "      <td>10</td>\n",
       "    </tr>\n",
       "    <tr>\n",
       "      <th>8</th>\n",
       "      <td>118</td>\n",
       "      <td>1</td>\n",
       "      <td>7</td>\n",
       "      <td>8</td>\n",
       "      <td>22</td>\n",
       "      <td>44</td>\n",
       "      <td>56</td>\n",
       "    </tr>\n",
       "  </tbody>\n",
       "</table>\n",
       "</div>"
      ],
      "text/plain": [
       "    Id  Num1  Num2  Num3  Num4  Num5  Num6\n",
       "0  100     1     2     4     5     6     8\n",
       "1   87     1     6    20    22    23    34\n",
       "2   99     1    12    13    34    45    46\n",
       "3   64     1    10    14    29    32    33\n",
       "4   55     1    22    13    23    33    35\n",
       "5   66     1     6     7     8     9    10\n",
       "6   77     1     2     3     5     6     8\n",
       "7  811     1     2     5     6     8    10\n",
       "8  118     1     7     8    22    44    56"
      ]
     },
     "execution_count": 225,
     "metadata": {},
     "output_type": "execute_result"
    }
   ],
   "source": [
    "df1"
   ]
  },
  {
   "cell_type": "code",
   "execution_count": 226,
   "id": "49fce86b",
   "metadata": {},
   "outputs": [
    {
     "data": {
      "text/html": [
       "<div>\n",
       "<style scoped>\n",
       "    .dataframe tbody tr th:only-of-type {\n",
       "        vertical-align: middle;\n",
       "    }\n",
       "\n",
       "    .dataframe tbody tr th {\n",
       "        vertical-align: top;\n",
       "    }\n",
       "\n",
       "    .dataframe thead th {\n",
       "        text-align: right;\n",
       "    }\n",
       "</style>\n",
       "<table border=\"1\" class=\"dataframe\">\n",
       "  <thead>\n",
       "    <tr style=\"text-align: right;\">\n",
       "      <th></th>\n",
       "      <th>Id</th>\n",
       "      <th>Num1</th>\n",
       "      <th>Num2</th>\n",
       "      <th>Num3</th>\n",
       "      <th>Num4</th>\n",
       "      <th>Num5</th>\n",
       "      <th>Num6</th>\n",
       "    </tr>\n",
       "  </thead>\n",
       "  <tbody>\n",
       "    <tr>\n",
       "      <th>0</th>\n",
       "      <td>89</td>\n",
       "      <td>2</td>\n",
       "      <td>4</td>\n",
       "      <td>6</td>\n",
       "      <td>8</td>\n",
       "      <td>10</td>\n",
       "      <td>12</td>\n",
       "    </tr>\n",
       "    <tr>\n",
       "      <th>1</th>\n",
       "      <td>81</td>\n",
       "      <td>2</td>\n",
       "      <td>7</td>\n",
       "      <td>25</td>\n",
       "      <td>28</td>\n",
       "      <td>33</td>\n",
       "      <td>54</td>\n",
       "    </tr>\n",
       "    <tr>\n",
       "      <th>2</th>\n",
       "      <td>91</td>\n",
       "      <td>2</td>\n",
       "      <td>13</td>\n",
       "      <td>17</td>\n",
       "      <td>33</td>\n",
       "      <td>45</td>\n",
       "      <td>48</td>\n",
       "    </tr>\n",
       "    <tr>\n",
       "      <th>3</th>\n",
       "      <td>66</td>\n",
       "      <td>2</td>\n",
       "      <td>20</td>\n",
       "      <td>24</td>\n",
       "      <td>25</td>\n",
       "      <td>36</td>\n",
       "      <td>38</td>\n",
       "    </tr>\n",
       "    <tr>\n",
       "      <th>4</th>\n",
       "      <td>56</td>\n",
       "      <td>1</td>\n",
       "      <td>24</td>\n",
       "      <td>33</td>\n",
       "      <td>43</td>\n",
       "      <td>53</td>\n",
       "      <td>65</td>\n",
       "    </tr>\n",
       "    <tr>\n",
       "      <th>5</th>\n",
       "      <td>78</td>\n",
       "      <td>3</td>\n",
       "      <td>14</td>\n",
       "      <td>15</td>\n",
       "      <td>18</td>\n",
       "      <td>19</td>\n",
       "      <td>20</td>\n",
       "    </tr>\n",
       "    <tr>\n",
       "      <th>6</th>\n",
       "      <td>120</td>\n",
       "      <td>4</td>\n",
       "      <td>10</td>\n",
       "      <td>23</td>\n",
       "      <td>25</td>\n",
       "      <td>26</td>\n",
       "      <td>38</td>\n",
       "    </tr>\n",
       "    <tr>\n",
       "      <th>7</th>\n",
       "      <td>59</td>\n",
       "      <td>5</td>\n",
       "      <td>22</td>\n",
       "      <td>35</td>\n",
       "      <td>36</td>\n",
       "      <td>38</td>\n",
       "      <td>40</td>\n",
       "    </tr>\n",
       "    <tr>\n",
       "      <th>8</th>\n",
       "      <td>125</td>\n",
       "      <td>1</td>\n",
       "      <td>17</td>\n",
       "      <td>18</td>\n",
       "      <td>32</td>\n",
       "      <td>44</td>\n",
       "      <td>56</td>\n",
       "    </tr>\n",
       "  </tbody>\n",
       "</table>\n",
       "</div>"
      ],
      "text/plain": [
       "    Id  Num1  Num2  Num3  Num4  Num5  Num6\n",
       "0   89     2     4     6     8    10    12\n",
       "1   81     2     7    25    28    33    54\n",
       "2   91     2    13    17    33    45    48\n",
       "3   66     2    20    24    25    36    38\n",
       "4   56     1    24    33    43    53    65\n",
       "5   78     3    14    15    18    19    20\n",
       "6  120     4    10    23    25    26    38\n",
       "7   59     5    22    35    36    38    40\n",
       "8  125     1    17    18    32    44    56"
      ]
     },
     "execution_count": 226,
     "metadata": {},
     "output_type": "execute_result"
    }
   ],
   "source": [
    "df2"
   ]
  },
  {
   "cell_type": "code",
   "execution_count": 227,
   "id": "9950cfe3",
   "metadata": {},
   "outputs": [
    {
     "data": {
      "text/html": [
       "<div>\n",
       "<style scoped>\n",
       "    .dataframe tbody tr th:only-of-type {\n",
       "        vertical-align: middle;\n",
       "    }\n",
       "\n",
       "    .dataframe tbody tr th {\n",
       "        vertical-align: top;\n",
       "    }\n",
       "\n",
       "    .dataframe thead th {\n",
       "        text-align: right;\n",
       "    }\n",
       "</style>\n",
       "<table border=\"1\" class=\"dataframe\">\n",
       "  <thead>\n",
       "    <tr style=\"text-align: right;\">\n",
       "      <th></th>\n",
       "      <th>Num1</th>\n",
       "      <th>Num2</th>\n",
       "      <th>Num3</th>\n",
       "      <th>Num4</th>\n",
       "      <th>Num5</th>\n",
       "      <th>Num6</th>\n",
       "    </tr>\n",
       "    <tr>\n",
       "      <th>Id</th>\n",
       "      <th></th>\n",
       "      <th></th>\n",
       "      <th></th>\n",
       "      <th></th>\n",
       "      <th></th>\n",
       "      <th></th>\n",
       "    </tr>\n",
       "  </thead>\n",
       "  <tbody>\n",
       "    <tr>\n",
       "      <th>100</th>\n",
       "      <td>1</td>\n",
       "      <td>2</td>\n",
       "      <td>4</td>\n",
       "      <td>5</td>\n",
       "      <td>6</td>\n",
       "      <td>8</td>\n",
       "    </tr>\n",
       "    <tr>\n",
       "      <th>87</th>\n",
       "      <td>1</td>\n",
       "      <td>6</td>\n",
       "      <td>20</td>\n",
       "      <td>22</td>\n",
       "      <td>23</td>\n",
       "      <td>34</td>\n",
       "    </tr>\n",
       "    <tr>\n",
       "      <th>99</th>\n",
       "      <td>1</td>\n",
       "      <td>12</td>\n",
       "      <td>13</td>\n",
       "      <td>34</td>\n",
       "      <td>45</td>\n",
       "      <td>46</td>\n",
       "    </tr>\n",
       "    <tr>\n",
       "      <th>64</th>\n",
       "      <td>1</td>\n",
       "      <td>10</td>\n",
       "      <td>14</td>\n",
       "      <td>29</td>\n",
       "      <td>32</td>\n",
       "      <td>33</td>\n",
       "    </tr>\n",
       "    <tr>\n",
       "      <th>55</th>\n",
       "      <td>1</td>\n",
       "      <td>22</td>\n",
       "      <td>13</td>\n",
       "      <td>23</td>\n",
       "      <td>33</td>\n",
       "      <td>35</td>\n",
       "    </tr>\n",
       "    <tr>\n",
       "      <th>66</th>\n",
       "      <td>1</td>\n",
       "      <td>6</td>\n",
       "      <td>7</td>\n",
       "      <td>8</td>\n",
       "      <td>9</td>\n",
       "      <td>10</td>\n",
       "    </tr>\n",
       "    <tr>\n",
       "      <th>77</th>\n",
       "      <td>1</td>\n",
       "      <td>2</td>\n",
       "      <td>3</td>\n",
       "      <td>5</td>\n",
       "      <td>6</td>\n",
       "      <td>8</td>\n",
       "    </tr>\n",
       "    <tr>\n",
       "      <th>811</th>\n",
       "      <td>1</td>\n",
       "      <td>2</td>\n",
       "      <td>5</td>\n",
       "      <td>6</td>\n",
       "      <td>8</td>\n",
       "      <td>10</td>\n",
       "    </tr>\n",
       "    <tr>\n",
       "      <th>118</th>\n",
       "      <td>1</td>\n",
       "      <td>7</td>\n",
       "      <td>8</td>\n",
       "      <td>22</td>\n",
       "      <td>44</td>\n",
       "      <td>56</td>\n",
       "    </tr>\n",
       "  </tbody>\n",
       "</table>\n",
       "</div>"
      ],
      "text/plain": [
       "     Num1  Num2  Num3  Num4  Num5  Num6\n",
       "Id                                     \n",
       "100     1     2     4     5     6     8\n",
       "87      1     6    20    22    23    34\n",
       "99      1    12    13    34    45    46\n",
       "64      1    10    14    29    32    33\n",
       "55      1    22    13    23    33    35\n",
       "66      1     6     7     8     9    10\n",
       "77      1     2     3     5     6     8\n",
       "811     1     2     5     6     8    10\n",
       "118     1     7     8    22    44    56"
      ]
     },
     "execution_count": 227,
     "metadata": {},
     "output_type": "execute_result"
    }
   ],
   "source": [
    "df1.set_index('Id')"
   ]
  },
  {
   "cell_type": "code",
   "execution_count": 228,
   "id": "15ef424c",
   "metadata": {},
   "outputs": [
    {
     "data": {
      "text/html": [
       "<div>\n",
       "<style scoped>\n",
       "    .dataframe tbody tr th:only-of-type {\n",
       "        vertical-align: middle;\n",
       "    }\n",
       "\n",
       "    .dataframe tbody tr th {\n",
       "        vertical-align: top;\n",
       "    }\n",
       "\n",
       "    .dataframe thead th {\n",
       "        text-align: right;\n",
       "    }\n",
       "</style>\n",
       "<table border=\"1\" class=\"dataframe\">\n",
       "  <thead>\n",
       "    <tr style=\"text-align: right;\">\n",
       "      <th></th>\n",
       "      <th>Num1</th>\n",
       "      <th>Num2</th>\n",
       "      <th>Num3</th>\n",
       "      <th>Num4</th>\n",
       "      <th>Num5</th>\n",
       "      <th>Num6</th>\n",
       "    </tr>\n",
       "    <tr>\n",
       "      <th>Id</th>\n",
       "      <th></th>\n",
       "      <th></th>\n",
       "      <th></th>\n",
       "      <th></th>\n",
       "      <th></th>\n",
       "      <th></th>\n",
       "    </tr>\n",
       "  </thead>\n",
       "  <tbody>\n",
       "    <tr>\n",
       "      <th>89</th>\n",
       "      <td>2</td>\n",
       "      <td>4</td>\n",
       "      <td>6</td>\n",
       "      <td>8</td>\n",
       "      <td>10</td>\n",
       "      <td>12</td>\n",
       "    </tr>\n",
       "    <tr>\n",
       "      <th>81</th>\n",
       "      <td>2</td>\n",
       "      <td>7</td>\n",
       "      <td>25</td>\n",
       "      <td>28</td>\n",
       "      <td>33</td>\n",
       "      <td>54</td>\n",
       "    </tr>\n",
       "    <tr>\n",
       "      <th>91</th>\n",
       "      <td>2</td>\n",
       "      <td>13</td>\n",
       "      <td>17</td>\n",
       "      <td>33</td>\n",
       "      <td>45</td>\n",
       "      <td>48</td>\n",
       "    </tr>\n",
       "    <tr>\n",
       "      <th>66</th>\n",
       "      <td>2</td>\n",
       "      <td>20</td>\n",
       "      <td>24</td>\n",
       "      <td>25</td>\n",
       "      <td>36</td>\n",
       "      <td>38</td>\n",
       "    </tr>\n",
       "    <tr>\n",
       "      <th>56</th>\n",
       "      <td>1</td>\n",
       "      <td>24</td>\n",
       "      <td>33</td>\n",
       "      <td>43</td>\n",
       "      <td>53</td>\n",
       "      <td>65</td>\n",
       "    </tr>\n",
       "    <tr>\n",
       "      <th>78</th>\n",
       "      <td>3</td>\n",
       "      <td>14</td>\n",
       "      <td>15</td>\n",
       "      <td>18</td>\n",
       "      <td>19</td>\n",
       "      <td>20</td>\n",
       "    </tr>\n",
       "    <tr>\n",
       "      <th>120</th>\n",
       "      <td>4</td>\n",
       "      <td>10</td>\n",
       "      <td>23</td>\n",
       "      <td>25</td>\n",
       "      <td>26</td>\n",
       "      <td>38</td>\n",
       "    </tr>\n",
       "    <tr>\n",
       "      <th>59</th>\n",
       "      <td>5</td>\n",
       "      <td>22</td>\n",
       "      <td>35</td>\n",
       "      <td>36</td>\n",
       "      <td>38</td>\n",
       "      <td>40</td>\n",
       "    </tr>\n",
       "    <tr>\n",
       "      <th>125</th>\n",
       "      <td>1</td>\n",
       "      <td>17</td>\n",
       "      <td>18</td>\n",
       "      <td>32</td>\n",
       "      <td>44</td>\n",
       "      <td>56</td>\n",
       "    </tr>\n",
       "  </tbody>\n",
       "</table>\n",
       "</div>"
      ],
      "text/plain": [
       "     Num1  Num2  Num3  Num4  Num5  Num6\n",
       "Id                                     \n",
       "89      2     4     6     8    10    12\n",
       "81      2     7    25    28    33    54\n",
       "91      2    13    17    33    45    48\n",
       "66      2    20    24    25    36    38\n",
       "56      1    24    33    43    53    65\n",
       "78      3    14    15    18    19    20\n",
       "120     4    10    23    25    26    38\n",
       "59      5    22    35    36    38    40\n",
       "125     1    17    18    32    44    56"
      ]
     },
     "execution_count": 228,
     "metadata": {},
     "output_type": "execute_result"
    }
   ],
   "source": [
    "df2.set_index('Id')"
   ]
  },
  {
   "cell_type": "code",
   "execution_count": 235,
   "id": "3b78e105",
   "metadata": {},
   "outputs": [
    {
     "data": {
      "text/plain": [
       "Id\n",
       "100         [1, 2, 4, 5, 6, 8]\n",
       "87      [1, 6, 20, 22, 23, 34]\n",
       "99     [1, 12, 13, 34, 45, 46]\n",
       "64     [1, 10, 14, 29, 32, 33]\n",
       "55     [1, 22, 13, 23, 33, 35]\n",
       "66         [1, 6, 7, 8, 9, 10]\n",
       "77          [1, 2, 3, 5, 6, 8]\n",
       "811        [1, 2, 5, 6, 8, 10]\n",
       "118      [1, 7, 8, 22, 44, 56]\n",
       "dtype: object"
      ]
     },
     "execution_count": 235,
     "metadata": {},
     "output_type": "execute_result"
    }
   ],
   "source": [
    "df1_list"
   ]
  },
  {
   "cell_type": "code",
   "execution_count": null,
   "id": "7d0b888a",
   "metadata": {},
   "outputs": [],
   "source": []
  },
  {
   "cell_type": "code",
   "execution_count": null,
   "id": "2ec6bb69",
   "metadata": {},
   "outputs": [],
   "source": []
  },
  {
   "cell_type": "code",
   "execution_count": null,
   "id": "4e1bd8a4",
   "metadata": {},
   "outputs": [],
   "source": []
  },
  {
   "cell_type": "code",
   "execution_count": 234,
   "id": "07a36768",
   "metadata": {},
   "outputs": [],
   "source": [
    "cols = ['Num'+str(i) for i in range(1,7)]\n",
    "\n",
    "df1_list = df1.set_index('Id').apply(list,1)\n",
    "df2_list = df2.set_index('Id').apply(list,1)"
   ]
  },
  {
   "cell_type": "code",
   "execution_count": 236,
   "id": "ec60cdf0",
   "metadata": {},
   "outputs": [],
   "source": [
    "from itertools import product"
   ]
  },
  {
   "cell_type": "code",
   "execution_count": null,
   "id": "d8e88cf0",
   "metadata": {},
   "outputs": [],
   "source": []
  },
  {
   "cell_type": "code",
   "execution_count": null,
   "id": "1f18eef5",
   "metadata": {},
   "outputs": [],
   "source": []
  },
  {
   "cell_type": "code",
   "execution_count": 248,
   "id": "9fe425e1",
   "metadata": {},
   "outputs": [],
   "source": [
    "arr1 = df1.values.reshape(3,3,7)\n",
    "\n",
    "arr2 = df2.values.reshape(3,3,7)"
   ]
  },
  {
   "cell_type": "code",
   "execution_count": 252,
   "id": "d17314e8",
   "metadata": {},
   "outputs": [
    {
     "data": {
      "text/plain": [
       "array([[[100,   1,   2,   4,   5,   6,   8],\n",
       "        [ 87,   1,   6,  20,  22,  23,  34],\n",
       "        [ 99,   1,  12,  13,  34,  45,  46]],\n",
       "\n",
       "       [[ 64,   1,  10,  14,  29,  32,  33],\n",
       "        [ 55,   1,  22,  13,  23,  33,  35],\n",
       "        [ 66,   1,   6,   7,   8,   9,  10]],\n",
       "\n",
       "       [[ 77,   1,   2,   3,   5,   6,   8],\n",
       "        [811,   1,   2,   5,   6,   8,  10],\n",
       "        [118,   1,   7,   8,  22,  44,  56]]])"
      ]
     },
     "execution_count": 252,
     "metadata": {},
     "output_type": "execute_result"
    }
   ],
   "source": [
    "arr1"
   ]
  },
  {
   "cell_type": "code",
   "execution_count": 254,
   "id": "2edf4d4a",
   "metadata": {},
   "outputs": [],
   "source": [
    "ids1 = arr1[:,:,0]\n",
    "ids2 = arr2[:,:,0]"
   ]
  },
  {
   "cell_type": "code",
   "execution_count": 257,
   "id": "99812da8",
   "metadata": {},
   "outputs": [],
   "source": [
    "vals1 = arr1[:,:,1:]\n",
    "vals2 = arr2[:,:,1:]"
   ]
  },
  {
   "cell_type": "code",
   "execution_count": 258,
   "id": "7d2ab5c9",
   "metadata": {},
   "outputs": [
    {
     "data": {
      "text/plain": [
       "(3, 3, 6)"
      ]
     },
     "execution_count": 258,
     "metadata": {},
     "output_type": "execute_result"
    }
   ],
   "source": [
    "vals1.shape"
   ]
  },
  {
   "cell_type": "code",
   "execution_count": null,
   "id": "da9fb2de",
   "metadata": {},
   "outputs": [],
   "source": [
    "vals1[:,None,:,None,]"
   ]
  },
  {
   "cell_type": "code",
   "execution_count": null,
   "id": "e8598b1a",
   "metadata": {},
   "outputs": [],
   "source": []
  },
  {
   "cell_type": "code",
   "execution_count": null,
   "id": "978cecfc",
   "metadata": {},
   "outputs": [],
   "source": []
  },
  {
   "cell_type": "code",
   "execution_count": 238,
   "id": "843235dc",
   "metadata": {},
   "outputs": [
    {
     "data": {
      "text/plain": [
       "[(100, 89),\n",
       " (100, 81),\n",
       " (100, 91),\n",
       " (100, 66),\n",
       " (100, 56),\n",
       " (100, 78),\n",
       " (100, 120),\n",
       " (100, 59),\n",
       " (100, 125),\n",
       " (87, 89),\n",
       " (87, 81),\n",
       " (87, 91),\n",
       " (87, 66),\n",
       " (87, 56),\n",
       " (87, 78),\n",
       " (87, 120),\n",
       " (87, 59),\n",
       " (87, 125),\n",
       " (99, 89),\n",
       " (99, 81),\n",
       " (99, 91),\n",
       " (99, 66),\n",
       " (99, 56),\n",
       " (99, 78),\n",
       " (99, 120),\n",
       " (99, 59),\n",
       " (99, 125),\n",
       " (64, 89),\n",
       " (64, 81),\n",
       " (64, 91),\n",
       " (64, 66),\n",
       " (64, 56),\n",
       " (64, 78),\n",
       " (64, 120),\n",
       " (64, 59),\n",
       " (64, 125),\n",
       " (55, 89),\n",
       " (55, 81),\n",
       " (55, 91),\n",
       " (55, 66),\n",
       " (55, 56),\n",
       " (55, 78),\n",
       " (55, 120),\n",
       " (55, 59),\n",
       " (55, 125),\n",
       " (66, 89),\n",
       " (66, 81),\n",
       " (66, 91),\n",
       " (66, 66),\n",
       " (66, 56),\n",
       " (66, 78),\n",
       " (66, 120),\n",
       " (66, 59),\n",
       " (66, 125),\n",
       " (77, 89),\n",
       " (77, 81),\n",
       " (77, 91),\n",
       " (77, 66),\n",
       " (77, 56),\n",
       " (77, 78),\n",
       " (77, 120),\n",
       " (77, 59),\n",
       " (77, 125),\n",
       " (811, 89),\n",
       " (811, 81),\n",
       " (811, 91),\n",
       " (811, 66),\n",
       " (811, 56),\n",
       " (811, 78),\n",
       " (811, 120),\n",
       " (811, 59),\n",
       " (811, 125),\n",
       " (118, 89),\n",
       " (118, 81),\n",
       " (118, 91),\n",
       " (118, 66),\n",
       " (118, 56),\n",
       " (118, 78),\n",
       " (118, 120),\n",
       " (118, 59),\n",
       " (118, 125)]"
      ]
     },
     "execution_count": 238,
     "metadata": {},
     "output_type": "execute_result"
    }
   ],
   "source": [
    "list(product(df1_list.index, df2_list.index))"
   ]
  },
  {
   "cell_type": "code",
   "execution_count": 270,
   "id": "45636057",
   "metadata": {},
   "outputs": [
    {
     "data": {
      "text/html": [
       "<div>\n",
       "<style scoped>\n",
       "    .dataframe tbody tr th:only-of-type {\n",
       "        vertical-align: middle;\n",
       "    }\n",
       "\n",
       "    .dataframe tbody tr th {\n",
       "        vertical-align: top;\n",
       "    }\n",
       "\n",
       "    .dataframe thead th {\n",
       "        text-align: right;\n",
       "    }\n",
       "</style>\n",
       "<table border=\"1\" class=\"dataframe\">\n",
       "  <thead>\n",
       "    <tr style=\"text-align: right;\">\n",
       "      <th></th>\n",
       "      <th>distance in mm</th>\n",
       "      <th>Lithium</th>\n",
       "      <th>Calcium</th>\n",
       "    </tr>\n",
       "  </thead>\n",
       "  <tbody>\n",
       "    <tr>\n",
       "      <th>0</th>\n",
       "      <td>0.00</td>\n",
       "      <td>11</td>\n",
       "      <td>0</td>\n",
       "    </tr>\n",
       "    <tr>\n",
       "      <th>1</th>\n",
       "      <td>0.99</td>\n",
       "      <td>25</td>\n",
       "      <td>1</td>\n",
       "    </tr>\n",
       "    <tr>\n",
       "      <th>2</th>\n",
       "      <td>1.99</td>\n",
       "      <td>17</td>\n",
       "      <td>1</td>\n",
       "    </tr>\n",
       "    <tr>\n",
       "      <th>3</th>\n",
       "      <td>0.10</td>\n",
       "      <td>6</td>\n",
       "      <td>0</td>\n",
       "    </tr>\n",
       "    <tr>\n",
       "      <th>4</th>\n",
       "      <td>0.88</td>\n",
       "      <td>9</td>\n",
       "      <td>1</td>\n",
       "    </tr>\n",
       "  </tbody>\n",
       "</table>\n",
       "</div>"
      ],
      "text/plain": [
       "   distance in mm  Lithium  Calcium\n",
       "0            0.00       11        0\n",
       "1            0.99       25        1\n",
       "2            1.99       17        1\n",
       "3            0.10        6        0\n",
       "4            0.88        9        1"
      ]
     },
     "execution_count": 270,
     "metadata": {},
     "output_type": "execute_result"
    }
   ],
   "source": [
    "data"
   ]
  },
  {
   "cell_type": "code",
   "execution_count": 282,
   "id": "691d55b5",
   "metadata": {},
   "outputs": [
    {
     "data": {
      "text/plain": [
       "0           NaN\n",
       "1    (0.8, 1.2]\n",
       "2    (1.6, 2.0]\n",
       "3    (0.0, 0.4]\n",
       "4    (0.8, 1.2]\n",
       "Name: distance in mm, dtype: category\n",
       "Categories (5, interval[float64, right]): [(0.0, 0.4] < (0.4, 0.8] < (0.8, 1.2] < (1.2, 1.6] < (1.6, 2.0]]"
      ]
     },
     "execution_count": 282,
     "metadata": {},
     "output_type": "execute_result"
    }
   ],
   "source": [
    "mini = data['distance in mm'].min()\n",
    "maxi = data['distance in mm'].max()\n",
    "bins = np.arange(mini, maxi+0.4, 0.4)\n",
    "\n",
    "pd.cut(data['distance in mm'], bins)"
   ]
  },
  {
   "cell_type": "code",
   "execution_count": 295,
   "id": "cd0648d7",
   "metadata": {},
   "outputs": [
    {
     "name": "stdout",
     "output_type": "stream",
     "text": [
      "           distance in mm           Lithium            Calcium     \n",
      "                     mean       std    mean        std    mean  std\n",
      "bins                                                               \n",
      "[0.0, 0.4)          0.050  0.070711     8.5   3.535534     0.0  0.0\n",
      "[0.8, 1.2)          0.935  0.077782    17.0  11.313708     1.0  0.0\n",
      "[1.6, 2.0)          1.990       NaN    17.0        NaN     1.0  NaN\n"
     ]
    }
   ],
   "source": [
    "import pandas as pd\n",
    "\n",
    "# Create bins with +/- 0.2\n",
    "mini = data['distance in mm'].min()\n",
    "maxi = data['distance in mm'].max()\n",
    "bins = np.arange(mini, maxi+0.4, 0.4)\n",
    "\n",
    "# Cut into groups\n",
    "groups = pd.cut(data['distance in mm'], bins, right=False)\n",
    "\n",
    "# Aggregate using groupby\n",
    "aggr = {'distance in mm':['mean', 'std'], \n",
    "        'Lithium':['mean','std'], \n",
    "        'Calcium':['mean', 'std']}\n",
    "grouped = data.groupby(groups).agg(aggr)\n",
    "\n",
    "# Filter out rows with nans in first column (OPTIONAL)\n",
    "filtered = grouped[grouped[('distance in mm','mean')].notna()] #<-- Optional\n",
    "filtered.index.name = 'bins'\n",
    "\n",
    "print(filtered)\n",
    "\n",
    "           distance in mm           Lithium            Calcium     \n",
    "                     mean       std    mean        std    mean  std\n",
    "bins                                                               \n",
    "[0.0, 0.4)          0.050  0.070711     8.5   3.535534     0.0  0.0\n",
    "[0.8, 1.2)          0.935  0.077782    17.0  11.313708     1.0  0.0\n",
    "[1.6, 2.0)          1.990       NaN    17.0        NaN     1.0  NaN"
   ]
  },
  {
   "cell_type": "code",
   "execution_count": 278,
   "id": "605ed1cf",
   "metadata": {},
   "outputs": [
    {
     "data": {
      "text/plain": [
       "(Interval(0.8, 1.2, closed='right'),\n",
       "    distance in mm  Lithium  Calcium\n",
       " 1            0.99       25        1\n",
       " 4            0.88        9        1)"
      ]
     },
     "execution_count": 278,
     "metadata": {},
     "output_type": "execute_result"
    }
   ],
   "source": [
    "list(data.groupby(pd.cut(data['distance in mm'], bins)))[3]"
   ]
  },
  {
   "cell_type": "code",
   "execution_count": null,
   "id": "ea4454ea",
   "metadata": {},
   "outputs": [],
   "source": []
  },
  {
   "cell_type": "code",
   "execution_count": null,
   "id": "2f8cc121",
   "metadata": {},
   "outputs": [],
   "source": []
  },
  {
   "cell_type": "code",
   "execution_count": null,
   "id": "e610aeab",
   "metadata": {},
   "outputs": [],
   "source": []
  },
  {
   "cell_type": "code",
   "execution_count": null,
   "id": "f960e0a9",
   "metadata": {},
   "outputs": [],
   "source": []
  },
  {
   "cell_type": "code",
   "execution_count": null,
   "id": "cc1ecca7",
   "metadata": {},
   "outputs": [],
   "source": []
  },
  {
   "cell_type": "code",
   "execution_count": null,
   "id": "620cbf65",
   "metadata": {},
   "outputs": [],
   "source": []
  },
  {
   "cell_type": "code",
   "execution_count": null,
   "id": "d9855b24",
   "metadata": {},
   "outputs": [],
   "source": []
  },
  {
   "cell_type": "code",
   "execution_count": 259,
   "id": "cbb4208e",
   "metadata": {},
   "outputs": [
    {
     "data": {
      "text/html": [
       "<div>\n",
       "<style scoped>\n",
       "    .dataframe tbody tr th:only-of-type {\n",
       "        vertical-align: middle;\n",
       "    }\n",
       "\n",
       "    .dataframe tbody tr th {\n",
       "        vertical-align: top;\n",
       "    }\n",
       "\n",
       "    .dataframe thead th {\n",
       "        text-align: right;\n",
       "    }\n",
       "</style>\n",
       "<table border=\"1\" class=\"dataframe\">\n",
       "  <thead>\n",
       "    <tr style=\"text-align: right;\">\n",
       "      <th></th>\n",
       "      <th>distance in mm</th>\n",
       "      <th>Lithium</th>\n",
       "      <th>Calcium</th>\n",
       "    </tr>\n",
       "  </thead>\n",
       "  <tbody>\n",
       "    <tr>\n",
       "      <th>0</th>\n",
       "      <td>0.00</td>\n",
       "      <td>11</td>\n",
       "      <td>0</td>\n",
       "    </tr>\n",
       "    <tr>\n",
       "      <th>1</th>\n",
       "      <td>0.99</td>\n",
       "      <td>25</td>\n",
       "      <td>1</td>\n",
       "    </tr>\n",
       "    <tr>\n",
       "      <th>2</th>\n",
       "      <td>1.99</td>\n",
       "      <td>17</td>\n",
       "      <td>1</td>\n",
       "    </tr>\n",
       "    <tr>\n",
       "      <th>3</th>\n",
       "      <td>0.10</td>\n",
       "      <td>6</td>\n",
       "      <td>0</td>\n",
       "    </tr>\n",
       "    <tr>\n",
       "      <th>4</th>\n",
       "      <td>0.88</td>\n",
       "      <td>9</td>\n",
       "      <td>1</td>\n",
       "    </tr>\n",
       "  </tbody>\n",
       "</table>\n",
       "</div>"
      ],
      "text/plain": [
       "   distance in mm  Lithium  Calcium\n",
       "0            0.00       11        0\n",
       "1            0.99       25        1\n",
       "2            1.99       17        1\n",
       "3            0.10        6        0\n",
       "4            0.88        9        1"
      ]
     },
     "execution_count": 259,
     "metadata": {},
     "output_type": "execute_result"
    }
   ],
   "source": [
    "import pandas as pd\n",
    "\n",
    "matrix = [[0,11,0],[0.99,25,1],[1.99,17,1],[0.1,6,0],[0.88,9,1] ]\n",
    "\n",
    "data=pd.DataFrame(matrix,columns=['distance in mm','Lithium','Calcium'])\n",
    "data"
   ]
  },
  {
   "cell_type": "code",
   "execution_count": null,
   "id": "d0659f43",
   "metadata": {},
   "outputs": [],
   "source": []
  },
  {
   "cell_type": "code",
   "execution_count": 300,
   "id": "3e8d1f78",
   "metadata": {},
   "outputs": [
    {
     "ename": "SyntaxError",
     "evalue": "invalid syntax (3031339261.py, line 2)",
     "output_type": "error",
     "traceback": [
      "\u001b[0;36m  Input \u001b[0;32mIn [300]\u001b[0;36m\u001b[0m\n\u001b[0;31m    def some_calculation(x=None,y=None,z=None)\u001b[0m\n\u001b[0m                                              ^\u001b[0m\n\u001b[0;31mSyntaxError\u001b[0m\u001b[0;31m:\u001b[0m invalid syntax\n"
     ]
    }
   ],
   "source": [
    "#dummy function that returns (2000,1) array\n",
    "def some_calculation(x=None,y=None,z=None)\n",
    "    return np.random.random((2000,1))\n",
    "\n",
    "\n",
    "list_of_arrays = []\n",
    "\n",
    "for i in range(5):\n",
    "    array_that_I_calculate = some_calculation(x,y,z)\n",
    "    list_of_arrays.append(array_that_I_calculate)\n",
    "    \n",
    "averaged_array = np.average(list_of_arrays, axis=0)\n",
    "print(averaged_array.shape)"
   ]
  },
  {
   "cell_type": "code",
   "execution_count": 306,
   "id": "b8240873",
   "metadata": {},
   "outputs": [
    {
     "name": "stdout",
     "output_type": "stream",
     "text": [
      "(2000, 1)\n"
     ]
    }
   ],
   "source": [
    "list_of_arrays = []\n",
    "\n",
    "for i in range(5):\n",
    "    array_that_I_calculate = some_calculation(x,y,z)\n",
    "    list_of_arrays.append(array_that_I_calculate)\n",
    "    \n",
    "averaged_array = np.average(list_of_arrays, axis=0)\n",
    "print(averaged_array.shape)"
   ]
  },
  {
   "cell_type": "code",
   "execution_count": 307,
   "id": "3a8dfab8",
   "metadata": {},
   "outputs": [],
   "source": [
    "df1 = pd.DataFrame([['AA',3,'hgend',1], ['BB','frdf',7,2], ['C1',4,'asef',4], ['C2',4,'asef',4], ['C3',4,'asef',4]], columns=list(\"ABCD\"))\n",
    "df2 = pd.DataFrame([['C1',4,'asef',4], ['C2',4,'asef',4], ['C3',4,'asef',4]], columns=list(\"XYZQ\"))"
   ]
  },
  {
   "cell_type": "code",
   "execution_count": 308,
   "id": "53e39545",
   "metadata": {},
   "outputs": [
    {
     "ename": "KeyError",
     "evalue": "Index([('C1', 4, 'asef', 4), ('C2', 4, 'asef', 4), ('C3', 4, 'asef', 4)], dtype='object')",
     "output_type": "error",
     "traceback": [
      "\u001b[0;31m---------------------------------------------------------------------------\u001b[0m",
      "\u001b[0;31mKeyError\u001b[0m                                  Traceback (most recent call last)",
      "Input \u001b[0;32mIn [308]\u001b[0m, in \u001b[0;36m<module>\u001b[0;34m\u001b[0m\n\u001b[0;32m----> 1\u001b[0m \u001b[43mdf1\u001b[49m\u001b[38;5;241;43m.\u001b[39;49m\u001b[43mduplicated\u001b[49m\u001b[43m(\u001b[49m\u001b[43mdf2\u001b[49m\u001b[43m)\u001b[49m\n",
      "File \u001b[0;32m/opt/homebrew/Caskroom/miniforge/base/lib/python3.9/site-packages/pandas/core/frame.py:6197\u001b[0m, in \u001b[0;36mDataFrame.duplicated\u001b[0;34m(self, subset, keep)\u001b[0m\n\u001b[1;32m   6195\u001b[0m diff \u001b[38;5;241m=\u001b[39m Index(subset)\u001b[38;5;241m.\u001b[39mdifference(\u001b[38;5;28mself\u001b[39m\u001b[38;5;241m.\u001b[39mcolumns)\n\u001b[1;32m   6196\u001b[0m \u001b[38;5;28;01mif\u001b[39;00m \u001b[38;5;129;01mnot\u001b[39;00m diff\u001b[38;5;241m.\u001b[39mempty:\n\u001b[0;32m-> 6197\u001b[0m     \u001b[38;5;28;01mraise\u001b[39;00m \u001b[38;5;167;01mKeyError\u001b[39;00m(diff)\n\u001b[1;32m   6199\u001b[0m vals \u001b[38;5;241m=\u001b[39m (col\u001b[38;5;241m.\u001b[39mvalues \u001b[38;5;28;01mfor\u001b[39;00m name, col \u001b[38;5;129;01min\u001b[39;00m \u001b[38;5;28mself\u001b[39m\u001b[38;5;241m.\u001b[39mitems() \u001b[38;5;28;01mif\u001b[39;00m name \u001b[38;5;129;01min\u001b[39;00m subset)\n\u001b[1;32m   6200\u001b[0m labels, shape \u001b[38;5;241m=\u001b[39m \u001b[38;5;28mmap\u001b[39m(\u001b[38;5;28mlist\u001b[39m, \u001b[38;5;28mzip\u001b[39m(\u001b[38;5;241m*\u001b[39m\u001b[38;5;28mmap\u001b[39m(f, vals)))\n",
      "\u001b[0;31mKeyError\u001b[0m: Index([('C1', 4, 'asef', 4), ('C2', 4, 'asef', 4), ('C3', 4, 'asef', 4)], dtype='object')"
     ]
    }
   ],
   "source": [
    "df1.duplicated(df2)"
   ]
  },
  {
   "cell_type": "code",
   "execution_count": 310,
   "id": "22fc75d6",
   "metadata": {},
   "outputs": [
    {
     "data": {
      "text/html": [
       "<div>\n",
       "<style scoped>\n",
       "    .dataframe tbody tr th:only-of-type {\n",
       "        vertical-align: middle;\n",
       "    }\n",
       "\n",
       "    .dataframe tbody tr th {\n",
       "        vertical-align: top;\n",
       "    }\n",
       "\n",
       "    .dataframe thead th {\n",
       "        text-align: right;\n",
       "    }\n",
       "</style>\n",
       "<table border=\"1\" class=\"dataframe\">\n",
       "  <thead>\n",
       "    <tr style=\"text-align: right;\">\n",
       "      <th></th>\n",
       "      <th>A</th>\n",
       "      <th>B</th>\n",
       "      <th>C</th>\n",
       "      <th>D</th>\n",
       "    </tr>\n",
       "  </thead>\n",
       "  <tbody>\n",
       "    <tr>\n",
       "      <th>0</th>\n",
       "      <td>AA</td>\n",
       "      <td>3</td>\n",
       "      <td>hgend</td>\n",
       "      <td>1</td>\n",
       "    </tr>\n",
       "    <tr>\n",
       "      <th>1</th>\n",
       "      <td>BB</td>\n",
       "      <td>frdf</td>\n",
       "      <td>7</td>\n",
       "      <td>2</td>\n",
       "    </tr>\n",
       "    <tr>\n",
       "      <th>2</th>\n",
       "      <td>C1</td>\n",
       "      <td>4</td>\n",
       "      <td>asef</td>\n",
       "      <td>4</td>\n",
       "    </tr>\n",
       "    <tr>\n",
       "      <th>3</th>\n",
       "      <td>C2</td>\n",
       "      <td>4</td>\n",
       "      <td>asef</td>\n",
       "      <td>4</td>\n",
       "    </tr>\n",
       "    <tr>\n",
       "      <th>4</th>\n",
       "      <td>C3</td>\n",
       "      <td>4</td>\n",
       "      <td>asef</td>\n",
       "      <td>4</td>\n",
       "    </tr>\n",
       "  </tbody>\n",
       "</table>\n",
       "</div>"
      ],
      "text/plain": [
       "    A     B      C  D\n",
       "0  AA     3  hgend  1\n",
       "1  BB  frdf      7  2\n",
       "2  C1     4   asef  4\n",
       "3  C2     4   asef  4\n",
       "4  C3     4   asef  4"
      ]
     },
     "execution_count": 310,
     "metadata": {},
     "output_type": "execute_result"
    }
   ],
   "source": [
    "df1"
   ]
  },
  {
   "cell_type": "code",
   "execution_count": 314,
   "id": "c20dbd27",
   "metadata": {},
   "outputs": [
    {
     "name": "stderr",
     "output_type": "stream",
     "text": [
      "/var/folders/ck/dvz0vpxx7fz95ld2btkqqvzw0000gn/T/ipykernel_4839/846016461.py:1: FutureWarning: In a future version of pandas all arguments of DataFrame.set_axis except for the argument 'labels' will be keyword-only\n",
      "  df2.set_axis(df1.columns, 1)\n"
     ]
    },
    {
     "data": {
      "text/html": [
       "<div>\n",
       "<style scoped>\n",
       "    .dataframe tbody tr th:only-of-type {\n",
       "        vertical-align: middle;\n",
       "    }\n",
       "\n",
       "    .dataframe tbody tr th {\n",
       "        vertical-align: top;\n",
       "    }\n",
       "\n",
       "    .dataframe thead th {\n",
       "        text-align: right;\n",
       "    }\n",
       "</style>\n",
       "<table border=\"1\" class=\"dataframe\">\n",
       "  <thead>\n",
       "    <tr style=\"text-align: right;\">\n",
       "      <th></th>\n",
       "      <th>A</th>\n",
       "      <th>B</th>\n",
       "      <th>C</th>\n",
       "      <th>D</th>\n",
       "    </tr>\n",
       "  </thead>\n",
       "  <tbody>\n",
       "    <tr>\n",
       "      <th>0</th>\n",
       "      <td>C1</td>\n",
       "      <td>4</td>\n",
       "      <td>asef</td>\n",
       "      <td>4</td>\n",
       "    </tr>\n",
       "    <tr>\n",
       "      <th>1</th>\n",
       "      <td>C2</td>\n",
       "      <td>4</td>\n",
       "      <td>asef</td>\n",
       "      <td>4</td>\n",
       "    </tr>\n",
       "    <tr>\n",
       "      <th>2</th>\n",
       "      <td>C3</td>\n",
       "      <td>4</td>\n",
       "      <td>asef</td>\n",
       "      <td>4</td>\n",
       "    </tr>\n",
       "  </tbody>\n",
       "</table>\n",
       "</div>"
      ],
      "text/plain": [
       "    A  B     C  D\n",
       "0  C1  4  asef  4\n",
       "1  C2  4  asef  4\n",
       "2  C3  4  asef  4"
      ]
     },
     "execution_count": 314,
     "metadata": {},
     "output_type": "execute_result"
    }
   ],
   "source": []
  },
  {
   "cell_type": "code",
   "execution_count": null,
   "id": "6699be82",
   "metadata": {},
   "outputs": [],
   "source": [
    "df2.re"
   ]
  },
  {
   "cell_type": "code",
   "execution_count": null,
   "id": "3c3f4c55",
   "metadata": {},
   "outputs": [],
   "source": []
  },
  {
   "cell_type": "code",
   "execution_count": 323,
   "id": "a7d7180d",
   "metadata": {},
   "outputs": [
    {
     "name": "stderr",
     "output_type": "stream",
     "text": [
      "/var/folders/ck/dvz0vpxx7fz95ld2btkqqvzw0000gn/T/ipykernel_4839/1223845590.py:1: FutureWarning: In a future version of pandas all arguments of DataFrame.set_axis except for the argument 'labels' will be keyword-only\n",
      "  cond = pd.concat([df1, df2.set_axis(df1.columns, 1)]).duplicated(keep='last').iloc[:df1.shape[0]]\n"
     ]
    }
   ],
   "source": []
  },
  {
   "cell_type": "code",
   "execution_count": 328,
   "id": "33f56106",
   "metadata": {},
   "outputs": [
    {
     "data": {
      "text/html": [
       "<div>\n",
       "<style scoped>\n",
       "    .dataframe tbody tr th:only-of-type {\n",
       "        vertical-align: middle;\n",
       "    }\n",
       "\n",
       "    .dataframe tbody tr th {\n",
       "        vertical-align: top;\n",
       "    }\n",
       "\n",
       "    .dataframe thead th {\n",
       "        text-align: right;\n",
       "    }\n",
       "</style>\n",
       "<table border=\"1\" class=\"dataframe\">\n",
       "  <thead>\n",
       "    <tr style=\"text-align: right;\">\n",
       "      <th></th>\n",
       "      <th>A</th>\n",
       "      <th>B</th>\n",
       "      <th>C</th>\n",
       "      <th>D</th>\n",
       "    </tr>\n",
       "  </thead>\n",
       "  <tbody>\n",
       "    <tr>\n",
       "      <th>0</th>\n",
       "      <td>AA</td>\n",
       "      <td>3</td>\n",
       "      <td>hgend</td>\n",
       "      <td>1</td>\n",
       "    </tr>\n",
       "    <tr>\n",
       "      <th>1</th>\n",
       "      <td>BB</td>\n",
       "      <td>frdf</td>\n",
       "      <td>7</td>\n",
       "      <td>2</td>\n",
       "    </tr>\n",
       "    <tr>\n",
       "      <th>2</th>\n",
       "      <td>C1</td>\n",
       "      <td>4</td>\n",
       "      <td>asef</td>\n",
       "      <td>4</td>\n",
       "    </tr>\n",
       "    <tr>\n",
       "      <th>3</th>\n",
       "      <td>C2</td>\n",
       "      <td>4</td>\n",
       "      <td>asef</td>\n",
       "      <td>4</td>\n",
       "    </tr>\n",
       "    <tr>\n",
       "      <th>4</th>\n",
       "      <td>C3</td>\n",
       "      <td>4</td>\n",
       "      <td>asef</td>\n",
       "      <td>4</td>\n",
       "    </tr>\n",
       "  </tbody>\n",
       "</table>\n",
       "</div>"
      ],
      "text/plain": [
       "    A     B      C  D\n",
       "0  AA     3  hgend  1\n",
       "1  BB  frdf      7  2\n",
       "2  C1     4   asef  4\n",
       "3  C2     4   asef  4\n",
       "4  C3     4   asef  4"
      ]
     },
     "execution_count": 328,
     "metadata": {},
     "output_type": "execute_result"
    }
   ],
   "source": [
    "df1"
   ]
  },
  {
   "cell_type": "code",
   "execution_count": 329,
   "id": "77951c7d",
   "metadata": {},
   "outputs": [
    {
     "data": {
      "text/plain": [
       "0    False\n",
       "1    False\n",
       "2     True\n",
       "3     True\n",
       "4     True\n",
       "dtype: bool"
      ]
     },
     "execution_count": 329,
     "metadata": {},
     "output_type": "execute_result"
    }
   ],
   "source": [
    "cond"
   ]
  },
  {
   "cell_type": "code",
   "execution_count": 346,
   "id": "cba3889c",
   "metadata": {},
   "outputs": [
    {
     "name": "stderr",
     "output_type": "stream",
     "text": [
      "/var/folders/ck/dvz0vpxx7fz95ld2btkqqvzw0000gn/T/ipykernel_4839/198783059.py:1: FutureWarning: In a future version of pandas all arguments of DataFrame.set_axis except for the argument 'labels' will be keyword-only\n",
      "  cond = pd.concat([df1, df2.set_axis(df1.columns, 1)]).duplicated(keep='last')[:df1.shape[0]]\n"
     ]
    },
    {
     "data": {
      "text/html": [
       "<style type=\"text/css\">\n",
       "#T_d5a74_row2_col0, #T_d5a74_row2_col1, #T_d5a74_row2_col2, #T_d5a74_row2_col3, #T_d5a74_row3_col0, #T_d5a74_row3_col1, #T_d5a74_row3_col2, #T_d5a74_row3_col3, #T_d5a74_row4_col0, #T_d5a74_row4_col1, #T_d5a74_row4_col2, #T_d5a74_row4_col3 {\n",
       "  background-color: yellow;\n",
       "}\n",
       "</style>\n",
       "<table id=\"T_d5a74_\">\n",
       "  <thead>\n",
       "    <tr>\n",
       "      <th class=\"blank level0\" >&nbsp;</th>\n",
       "      <th class=\"col_heading level0 col0\" >A</th>\n",
       "      <th class=\"col_heading level0 col1\" >B</th>\n",
       "      <th class=\"col_heading level0 col2\" >C</th>\n",
       "      <th class=\"col_heading level0 col3\" >D</th>\n",
       "    </tr>\n",
       "  </thead>\n",
       "  <tbody>\n",
       "    <tr>\n",
       "      <th id=\"T_d5a74_level0_row0\" class=\"row_heading level0 row0\" >0</th>\n",
       "      <td id=\"T_d5a74_row0_col0\" class=\"data row0 col0\" >AA</td>\n",
       "      <td id=\"T_d5a74_row0_col1\" class=\"data row0 col1\" >3</td>\n",
       "      <td id=\"T_d5a74_row0_col2\" class=\"data row0 col2\" >hgend</td>\n",
       "      <td id=\"T_d5a74_row0_col3\" class=\"data row0 col3\" >1</td>\n",
       "    </tr>\n",
       "    <tr>\n",
       "      <th id=\"T_d5a74_level0_row1\" class=\"row_heading level0 row1\" >1</th>\n",
       "      <td id=\"T_d5a74_row1_col0\" class=\"data row1 col0\" >BB</td>\n",
       "      <td id=\"T_d5a74_row1_col1\" class=\"data row1 col1\" >frdf</td>\n",
       "      <td id=\"T_d5a74_row1_col2\" class=\"data row1 col2\" >7</td>\n",
       "      <td id=\"T_d5a74_row1_col3\" class=\"data row1 col3\" >2</td>\n",
       "    </tr>\n",
       "    <tr>\n",
       "      <th id=\"T_d5a74_level0_row2\" class=\"row_heading level0 row2\" >2</th>\n",
       "      <td id=\"T_d5a74_row2_col0\" class=\"data row2 col0\" >C1</td>\n",
       "      <td id=\"T_d5a74_row2_col1\" class=\"data row2 col1\" >4</td>\n",
       "      <td id=\"T_d5a74_row2_col2\" class=\"data row2 col2\" >asef</td>\n",
       "      <td id=\"T_d5a74_row2_col3\" class=\"data row2 col3\" >4</td>\n",
       "    </tr>\n",
       "    <tr>\n",
       "      <th id=\"T_d5a74_level0_row3\" class=\"row_heading level0 row3\" >3</th>\n",
       "      <td id=\"T_d5a74_row3_col0\" class=\"data row3 col0\" >C2</td>\n",
       "      <td id=\"T_d5a74_row3_col1\" class=\"data row3 col1\" >4</td>\n",
       "      <td id=\"T_d5a74_row3_col2\" class=\"data row3 col2\" >asef</td>\n",
       "      <td id=\"T_d5a74_row3_col3\" class=\"data row3 col3\" >4</td>\n",
       "    </tr>\n",
       "    <tr>\n",
       "      <th id=\"T_d5a74_level0_row4\" class=\"row_heading level0 row4\" >4</th>\n",
       "      <td id=\"T_d5a74_row4_col0\" class=\"data row4 col0\" >C3</td>\n",
       "      <td id=\"T_d5a74_row4_col1\" class=\"data row4 col1\" >4</td>\n",
       "      <td id=\"T_d5a74_row4_col2\" class=\"data row4 col2\" >asef</td>\n",
       "      <td id=\"T_d5a74_row4_col3\" class=\"data row4 col3\" >4</td>\n",
       "    </tr>\n",
       "  </tbody>\n",
       "</table>\n"
      ],
      "text/plain": [
       "<pandas.io.formats.style.Styler at 0x284b10460>"
      ]
     },
     "execution_count": 346,
     "metadata": {},
     "output_type": "execute_result"
    }
   ],
   "source": [
    "# Find duplicate rows\n",
    "cond = pd.concat([df1, df2.set_axis(df1.columns, 1)]).duplicated(keep='last')[:df1.shape[0]]\n",
    "\n",
    "# Highlighting function\n",
    "f = lambda x: cond.map({True: 'background-color: yellow', False: ''}).tolist()\n",
    "df1.style.apply(f)"
   ]
  },
  {
   "cell_type": "code",
   "execution_count": 343,
   "id": "4f906455",
   "metadata": {},
   "outputs": [
    {
     "data": {
      "text/html": [
       "<style type=\"text/css\">\n",
       "#T_5bfc1_row2_col0, #T_5bfc1_row2_col1, #T_5bfc1_row2_col2, #T_5bfc1_row2_col3, #T_5bfc1_row3_col0, #T_5bfc1_row3_col1, #T_5bfc1_row3_col2, #T_5bfc1_row3_col3, #T_5bfc1_row4_col0, #T_5bfc1_row4_col1, #T_5bfc1_row4_col2, #T_5bfc1_row4_col3 {\n",
       "  background-color: yellow;\n",
       "}\n",
       "</style>\n",
       "<table id=\"T_5bfc1_\">\n",
       "  <thead>\n",
       "    <tr>\n",
       "      <th class=\"blank level0\" >&nbsp;</th>\n",
       "      <th class=\"col_heading level0 col0\" >A</th>\n",
       "      <th class=\"col_heading level0 col1\" >B</th>\n",
       "      <th class=\"col_heading level0 col2\" >C</th>\n",
       "      <th class=\"col_heading level0 col3\" >D</th>\n",
       "    </tr>\n",
       "  </thead>\n",
       "  <tbody>\n",
       "    <tr>\n",
       "      <th id=\"T_5bfc1_level0_row0\" class=\"row_heading level0 row0\" >0</th>\n",
       "      <td id=\"T_5bfc1_row0_col0\" class=\"data row0 col0\" >AA</td>\n",
       "      <td id=\"T_5bfc1_row0_col1\" class=\"data row0 col1\" >3</td>\n",
       "      <td id=\"T_5bfc1_row0_col2\" class=\"data row0 col2\" >hgend</td>\n",
       "      <td id=\"T_5bfc1_row0_col3\" class=\"data row0 col3\" >1</td>\n",
       "    </tr>\n",
       "    <tr>\n",
       "      <th id=\"T_5bfc1_level0_row1\" class=\"row_heading level0 row1\" >1</th>\n",
       "      <td id=\"T_5bfc1_row1_col0\" class=\"data row1 col0\" >BB</td>\n",
       "      <td id=\"T_5bfc1_row1_col1\" class=\"data row1 col1\" >frdf</td>\n",
       "      <td id=\"T_5bfc1_row1_col2\" class=\"data row1 col2\" >7</td>\n",
       "      <td id=\"T_5bfc1_row1_col3\" class=\"data row1 col3\" >2</td>\n",
       "    </tr>\n",
       "    <tr>\n",
       "      <th id=\"T_5bfc1_level0_row2\" class=\"row_heading level0 row2\" >2</th>\n",
       "      <td id=\"T_5bfc1_row2_col0\" class=\"data row2 col0\" >C1</td>\n",
       "      <td id=\"T_5bfc1_row2_col1\" class=\"data row2 col1\" >4</td>\n",
       "      <td id=\"T_5bfc1_row2_col2\" class=\"data row2 col2\" >asef</td>\n",
       "      <td id=\"T_5bfc1_row2_col3\" class=\"data row2 col3\" >4</td>\n",
       "    </tr>\n",
       "    <tr>\n",
       "      <th id=\"T_5bfc1_level0_row3\" class=\"row_heading level0 row3\" >3</th>\n",
       "      <td id=\"T_5bfc1_row3_col0\" class=\"data row3 col0\" >C2</td>\n",
       "      <td id=\"T_5bfc1_row3_col1\" class=\"data row3 col1\" >4</td>\n",
       "      <td id=\"T_5bfc1_row3_col2\" class=\"data row3 col2\" >asef</td>\n",
       "      <td id=\"T_5bfc1_row3_col3\" class=\"data row3 col3\" >4</td>\n",
       "    </tr>\n",
       "    <tr>\n",
       "      <th id=\"T_5bfc1_level0_row4\" class=\"row_heading level0 row4\" >4</th>\n",
       "      <td id=\"T_5bfc1_row4_col0\" class=\"data row4 col0\" >C3</td>\n",
       "      <td id=\"T_5bfc1_row4_col1\" class=\"data row4 col1\" >4</td>\n",
       "      <td id=\"T_5bfc1_row4_col2\" class=\"data row4 col2\" >asef</td>\n",
       "      <td id=\"T_5bfc1_row4_col3\" class=\"data row4 col3\" >4</td>\n",
       "    </tr>\n",
       "  </tbody>\n",
       "</table>\n"
      ],
      "text/plain": [
       "<pandas.io.formats.style.Styler at 0x2851451c0>"
      ]
     },
     "execution_count": 343,
     "metadata": {},
     "output_type": "execute_result"
    }
   ],
   "source": []
  },
  {
   "cell_type": "code",
   "execution_count": null,
   "id": "03a74955",
   "metadata": {},
   "outputs": [],
   "source": []
  },
  {
   "cell_type": "code",
   "execution_count": null,
   "id": "6cb8e3b9",
   "metadata": {},
   "outputs": [],
   "source": []
  },
  {
   "cell_type": "code",
   "execution_count": null,
   "id": "100d4fb5",
   "metadata": {},
   "outputs": [],
   "source": []
  },
  {
   "cell_type": "code",
   "execution_count": 347,
   "id": "2d897e09",
   "metadata": {},
   "outputs": [],
   "source": [
    "df = pd.DataFrame({'one':[['a', 'b', 'c'], ['d', 'e', 'f'], ['h', 'i', 'j']], \n",
    "                   'two':[['b', 'c', 'd'], ['f', 'g', 'h',], ['l', 'm', 'n']]})"
   ]
  },
  {
   "cell_type": "code",
   "execution_count": 356,
   "id": "39ec411b",
   "metadata": {},
   "outputs": [
    {
     "data": {
      "text/plain": [
       "(3, 3)"
      ]
     },
     "execution_count": 356,
     "metadata": {},
     "output_type": "execute_result"
    }
   ],
   "source": [
    "arr1.shape"
   ]
  },
  {
   "cell_type": "code",
   "execution_count": 365,
   "id": "b1954a3c",
   "metadata": {},
   "outputs": [
    {
     "name": "stdout",
     "output_type": "stream",
     "text": [
      "         one        two overlap\n",
      "0  [a, b, c]  [b, c, d]  [b, c]\n",
      "1  [d, e, f]  [f, g, h]     [f]\n",
      "2  [h, i, j]  [l, m, n]      []\n"
     ]
    }
   ],
   "source": [
    "df['overlap'] = df.apply(lambda x: list(set(x['one']).intersection(x['two'])),1)\n",
    "print(df)\n",
    "\n",
    "         one        two overlap\n",
    "0  [a, b, c]  [b, c, d]  [b, c]\n",
    "1  [d, e, f]  [f, g, h]     [f]\n",
    "2  [h, i, j]  [l, m, n]      []"
   ]
  },
  {
   "cell_type": "code",
   "execution_count": 380,
   "id": "385398a4",
   "metadata": {},
   "outputs": [
    {
     "data": {
      "text/plain": [
       "array([[ True,  True, False],\n",
       "       [ True, False, False],\n",
       "       [False, False, False]])"
      ]
     },
     "execution_count": 380,
     "metadata": {},
     "output_type": "execute_result"
    }
   ],
   "source": [
    "a = df['one'].apply(pd.Series).values\n",
    "b = df['two'].apply(pd.Series).values\n",
    "\n",
    "m = (a[:,None]==b[:,:,None]).any(2)\n",
    "m"
   ]
  },
  {
   "cell_type": "code",
   "execution_count": null,
   "id": "ad80da05",
   "metadata": {},
   "outputs": [],
   "source": []
  },
  {
   "cell_type": "code",
   "execution_count": null,
   "id": "e365c81b",
   "metadata": {},
   "outputs": [],
   "source": [
    "np.intersect1d([1, 3, 4, 3], [3, 1, 2, 1])"
   ]
  },
  {
   "cell_type": "code",
   "execution_count": 384,
   "id": "51d33f38",
   "metadata": {},
   "outputs": [
    {
     "data": {
      "text/plain": [
       "array([], shape=(0, 3), dtype=object)"
      ]
     },
     "execution_count": 384,
     "metadata": {},
     "output_type": "execute_result"
    }
   ],
   "source": [
    "m = (a[:, None] == b).all(-1).any(1)\n",
    "a[m]"
   ]
  },
  {
   "cell_type": "code",
   "execution_count": 385,
   "id": "3edee6e4",
   "metadata": {},
   "outputs": [
    {
     "data": {
      "text/plain": [
       "array([ True, False,  True])"
      ]
     },
     "execution_count": 385,
     "metadata": {},
     "output_type": "execute_result"
    }
   ],
   "source": [
    "A = np.array([[1,4],[2,5],[3,6]])\n",
    "B = np.array([[1,4],[3,6],[7,8]])\n",
    "\n",
    "m = (A[:, None] == B).all(-1).any(1)\n",
    "m"
   ]
  },
  {
   "cell_type": "code",
   "execution_count": 416,
   "id": "1bdb62d0",
   "metadata": {},
   "outputs": [
    {
     "name": "stdout",
     "output_type": "stream",
     "text": [
      "         one        two overlap\n",
      "0  [a, b, c]  [b, c, d]  [b, c]\n",
      "1  [d, e, f]  [f, g, h]     [f]\n",
      "2  [h, i, j]  [l, m, n]      []\n"
     ]
    }
   ],
   "source": [
    "import numpy as np\n",
    "import pandas as pd\n",
    "\n",
    "df['overlap'] = pd.Series(map(np.intersect1d, df['one'], df['two']))\n",
    "print(df)\n",
    "\n",
    "         one        two overlap\n",
    "0  [a, b, c]  [b, c, d]  [b, c]\n",
    "1  [d, e, f]  [f, g, h]     [f]\n",
    "2  [h, i, j]  [l, m, n]      []"
   ]
  },
  {
   "cell_type": "code",
   "execution_count": 414,
   "id": "a8c5f217",
   "metadata": {},
   "outputs": [
    {
     "data": {
      "text/plain": [
       "0    [b, c]\n",
       "1       [f]\n",
       "2        []\n",
       "dtype: object"
      ]
     },
     "execution_count": 414,
     "metadata": {},
     "output_type": "execute_result"
    }
   ],
   "source": [
    "pd.Series(map(np.intersect1d, df['one'], df['two']))"
   ]
  },
  {
   "cell_type": "code",
   "execution_count": 406,
   "id": "a81b67d8",
   "metadata": {},
   "outputs": [
    {
     "data": {
      "text/plain": [
       "(array(['b', 'c', 'd', 'f', 'h'], dtype=object),\n",
       " array([1, 2, 3, 5, 6]),\n",
       " array([0, 1, 2, 3, 5]))"
      ]
     },
     "execution_count": 406,
     "metadata": {},
     "output_type": "execute_result"
    }
   ],
   "source": [
    "np.intersect1d(a, b, return_indices=True)"
   ]
  },
  {
   "cell_type": "code",
   "execution_count": null,
   "id": "0405de11",
   "metadata": {},
   "outputs": [],
   "source": []
  },
  {
   "cell_type": "code",
   "execution_count": null,
   "id": "4232ce1c",
   "metadata": {},
   "outputs": [],
   "source": []
  },
  {
   "cell_type": "code",
   "execution_count": null,
   "id": "ac371bbb",
   "metadata": {},
   "outputs": [],
   "source": []
  },
  {
   "cell_type": "code",
   "execution_count": null,
   "id": "a37b6d5f",
   "metadata": {},
   "outputs": [],
   "source": []
  },
  {
   "cell_type": "code",
   "execution_count": null,
   "id": "a8a22611",
   "metadata": {},
   "outputs": [],
   "source": []
  },
  {
   "cell_type": "code",
   "execution_count": null,
   "id": "5ba365b7",
   "metadata": {},
   "outputs": [],
   "source": []
  },
  {
   "cell_type": "code",
   "execution_count": null,
   "id": "8faa08b6",
   "metadata": {},
   "outputs": [],
   "source": [
    "out = np.where(m.any(1),b[np.arange(len(a)),m.argmax(1)],np.nan)\n",
    "out"
   ]
  },
  {
   "cell_type": "code",
   "execution_count": null,
   "id": "93bbfd39",
   "metadata": {},
   "outputs": [],
   "source": []
  },
  {
   "cell_type": "code",
   "execution_count": 445,
   "id": "ddfc242c",
   "metadata": {
    "scrolled": true
   },
   "outputs": [
    {
     "data": {
      "text/plain": [
       "array([[0.76898424, 0.77166774, 0.52469212, 0.976486  ],\n",
       "       [0.21104957, 0.03597084, 0.13271511, 0.06342121]])"
      ]
     },
     "execution_count": 445,
     "metadata": {},
     "output_type": "execute_result"
    }
   ],
   "source": [
    "import numpy as np\n",
    "np.random.random((2,4))"
   ]
  },
  {
   "cell_type": "code",
   "execution_count": null,
   "id": "89c804da",
   "metadata": {},
   "outputs": [],
   "source": []
  },
  {
   "cell_type": "code",
   "execution_count": null,
   "id": "a505e0b8",
   "metadata": {},
   "outputs": [],
   "source": []
  },
  {
   "cell_type": "code",
   "execution_count": null,
   "id": "ed541252",
   "metadata": {},
   "outputs": [],
   "source": []
  },
  {
   "cell_type": "code",
   "execution_count": null,
   "id": "4b275f49",
   "metadata": {},
   "outputs": [],
   "source": []
  },
  {
   "cell_type": "code",
   "execution_count": 447,
   "id": "5bd971dd",
   "metadata": {},
   "outputs": [
    {
     "name": "stdout",
     "output_type": "stream",
     "text": [
      "         0         1         2         3         4         5         6         7         8   \\\n",
      "0  0.969958  0.627820  0.830311  0.097933  0.297586  0.624310  0.753116  0.871052  0.862708   \n",
      "1  0.917357  0.193918  0.966963  0.240242  0.945186  0.212718  0.103083  0.207649  0.174223   \n",
      "\n",
      "         9         10  \n",
      "0  0.017701  0.980789  \n",
      "1  0.796839  0.658440  \n"
     ]
    }
   ],
   "source": [
    "import pandas as pd\n",
    "pd.set_option('display.width', 100)\n",
    "print(pd.DataFrame(np.random.random((2,11))))"
   ]
  },
  {
   "cell_type": "code",
   "execution_count": null,
   "id": "69d138c8",
   "metadata": {},
   "outputs": [],
   "source": []
  },
  {
   "cell_type": "code",
   "execution_count": 457,
   "id": "1c3549a9",
   "metadata": {},
   "outputs": [
    {
     "data": {
      "text/plain": [
       "array([[0.76816849, 0.89453825, 0.31379829, 0.16372578, 0.59139646, 0.5293134 , 0.87582577, 0.01807269, 0.15632107, 0.64082118, 0.84272782, 0.20527387, 0.95688511, 0.29221011, 0.92584706],\n",
       "       [0.87554943, 0.13440883, 0.42018516, 0.08397934, 0.2021513 , 0.86912281, 0.13257725, 0.83341726, 0.26048378, 0.6186133 , 0.03408303, 0.37090058, 0.33371408, 0.48386358, 0.79427791]])"
      ]
     },
     "execution_count": 457,
     "metadata": {},
     "output_type": "execute_result"
    }
   ],
   "source": [
    "import numpy as np\n",
    "np.set_printoptions(edgeitems=3, linewidth=200)\n",
    "\n",
    "np.random.random((2,15))"
   ]
  },
  {
   "cell_type": "code",
   "execution_count": 430,
   "id": "8069c163",
   "metadata": {},
   "outputs": [
    {
     "name": "stdout",
     "output_type": "stream",
     "text": [
      "         0         1         2         3   \\\n",
      "0  0.967314  0.895063  0.459547  0.104886   \n",
      "1  0.126397  0.401745  0.471453  0.517496   \n",
      "\n",
      "         4         5         6         7   \\\n",
      "0  0.376242  0.515248  0.877521  0.780756   \n",
      "1  0.550515  0.206067  0.075123  0.402062   \n",
      "\n",
      "         8         9         10  \n",
      "0  0.636945  0.119288  0.269895  \n",
      "1  0.271131  0.206324  0.976653  \n"
     ]
    }
   ],
   "source": [
    "import numpy as np\n",
    "np.set_printoptions(edgeitems=10, linewidth=400)\n",
    "import pandas as pd\n",
    "pd.set_option('display.width', 50)\n",
    "\n",
    "print(pd.DataFrame(np.random.random((2,11))))"
   ]
  },
  {
   "cell_type": "code",
   "execution_count": null,
   "id": "6049d753",
   "metadata": {},
   "outputs": [],
   "source": []
  },
  {
   "cell_type": "code",
   "execution_count": null,
   "id": "a3d066cc",
   "metadata": {},
   "outputs": [],
   "source": []
  },
  {
   "cell_type": "code",
   "execution_count": 370,
   "id": "33432d44",
   "metadata": {},
   "outputs": [
    {
     "data": {
      "text/plain": [
       "0    [b, c]\n",
       "1       [f]\n",
       "2        []\n",
       "dtype: object"
      ]
     },
     "execution_count": 370,
     "metadata": {},
     "output_type": "execute_result"
    }
   ],
   "source": [
    "df.apply(lambda x: list(set(x['one']) & set(x['two'])),1)"
   ]
  },
  {
   "cell_type": "code",
   "execution_count": 417,
   "id": "8adaf893",
   "metadata": {},
   "outputs": [
    {
     "name": "stdout",
     "output_type": "stream",
     "text": [
      "6.99 µs ± 17.3 ns per loop (mean ± std. dev. of 7 runs, 100,000 loops each)\n",
      "167 µs ± 830 ns per loop (mean ± std. dev. of 7 runs, 10,000 loops each)\n",
      "166 µs ± 338 ns per loop (mean ± std. dev. of 7 runs, 10,000 loops each)\n",
      "84.1 µs ± 270 ns per loop (mean ± std. dev. of 7 runs, 10,000 loops each)\n"
     ]
    }
   ],
   "source": [
    "%timeit [list(set(a)&set(b)) for a,b in zip(df['one'], df['two'])]        #list comprehension\n",
    "%timeit df.apply(lambda x: list(set(x['one']).intersection(x['two'])),1)  #apply 1\n",
    "%timeit df.apply(lambda x: list(set(x['one']) & set(x['two'])),1)         #apply 2\n",
    "%timeit pd.Series(map(np.intersect1d, df['one'], df['two']))              #numpy intersect1d\n",
    "\n",
    "6.99 µs ± 17.3 ns per loop (mean ± std. dev. of 7 runs, 100,000 loops each)\n",
    "167 µs ± 830 ns per loop (mean ± std. dev. of 7 runs, 10,000 loops each)\n",
    "166 µs ± 338 ns per loop (mean ± std. dev. of 7 runs, 10,000 loops each)\n",
    "84.1 µs ± 270 ns per loop (mean ± std. dev. of 7 runs, 10,000 loops each)"
   ]
  },
  {
   "cell_type": "code",
   "execution_count": 372,
   "id": "3e8d669a",
   "metadata": {},
   "outputs": [],
   "source": [
    "import pandas as pd\n",
    "\n",
    "# Importing reduce function\n",
    "from functools import reduce"
   ]
  },
  {
   "cell_type": "code",
   "execution_count": null,
   "id": "974afc46",
   "metadata": {},
   "outputs": [],
   "source": []
  },
  {
   "cell_type": "code",
   "execution_count": null,
   "id": "a81ba5a8",
   "metadata": {},
   "outputs": [],
   "source": []
  },
  {
   "cell_type": "code",
   "execution_count": null,
   "id": "5d42bad9",
   "metadata": {},
   "outputs": [],
   "source": []
  },
  {
   "cell_type": "code",
   "execution_count": 373,
   "id": "6b2f2c77",
   "metadata": {},
   "outputs": [
    {
     "ename": "TypeError",
     "evalue": "unhashable type: 'list'",
     "output_type": "error",
     "traceback": [
      "\u001b[0;31m---------------------------------------------------------------------------\u001b[0m",
      "\u001b[0;31mTypeError\u001b[0m                                 Traceback (most recent call last)",
      "Input \u001b[0;32mIn [373]\u001b[0m, in \u001b[0;36m<module>\u001b[0;34m\u001b[0m\n\u001b[0;32m----> 1\u001b[0m \u001b[38;5;28mlist\u001b[39m(\u001b[43mreduce\u001b[49m\u001b[43m(\u001b[49m\u001b[38;5;28;43mset\u001b[39;49m\u001b[38;5;241;43m.\u001b[39;49m\u001b[43mintersection\u001b[49m\u001b[43m,\u001b[49m\u001b[43m \u001b[49m\u001b[38;5;28;43mmap\u001b[39;49m\u001b[43m(\u001b[49m\u001b[38;5;28;43mset\u001b[39;49m\u001b[43m,\u001b[49m\u001b[43m \u001b[49m\u001b[43m[\u001b[49m\u001b[43mdf\u001b[49m\u001b[43m[\u001b[49m\u001b[38;5;124;43m'\u001b[39;49m\u001b[38;5;124;43mone\u001b[39;49m\u001b[38;5;124;43m'\u001b[39;49m\u001b[43m]\u001b[49m\u001b[43m,\u001b[49m\u001b[43m \u001b[49m\u001b[43mdf\u001b[49m\u001b[43m[\u001b[49m\u001b[38;5;124;43m'\u001b[39;49m\u001b[38;5;124;43mtwo\u001b[39;49m\u001b[38;5;124;43m'\u001b[39;49m\u001b[43m]\u001b[49m\u001b[43m]\u001b[49m\u001b[43m)\u001b[49m\u001b[43m)\u001b[49m)\n",
      "\u001b[0;31mTypeError\u001b[0m: unhashable type: 'list'"
     ]
    }
   ],
   "source": [
    "list(reduce(set.intersection, map(set, [df['one'], df['two']])))"
   ]
  },
  {
   "cell_type": "code",
   "execution_count": 375,
   "id": "6bd64da7",
   "metadata": {},
   "outputs": [
    {
     "data": {
      "text/plain": [
       "[{'Black', 'Blues', 'Red', 'Yellow'},\n",
       " {'Brown', 'Green', 'Purple', 'Red'},\n",
       " {'Orange', 'Pink', 'Red', 'White'}]"
      ]
     },
     "execution_count": 375,
     "metadata": {},
     "output_type": "execute_result"
    }
   ],
   "source": [
    "list(map(set, [df1.A, df2.A, df3.A]))"
   ]
  },
  {
   "cell_type": "code",
   "execution_count": null,
   "id": "a72c7412",
   "metadata": {},
   "outputs": [],
   "source": []
  },
  {
   "cell_type": "code",
   "execution_count": null,
   "id": "71a41148",
   "metadata": {},
   "outputs": [],
   "source": []
  },
  {
   "cell_type": "code",
   "execution_count": null,
   "id": "81090759",
   "metadata": {},
   "outputs": [],
   "source": []
  },
  {
   "cell_type": "code",
   "execution_count": 374,
   "id": "239687b3",
   "metadata": {},
   "outputs": [
    {
     "name": "stdout",
     "output_type": "stream",
     "text": [
      "DataFrame 1:\n",
      "         A\n",
      "0     Red\n",
      "1   Blues\n",
      "2  Yellow\n",
      "3   Black \n",
      "\n",
      "DataFrame 2:\n",
      "         A\n",
      "0     Red\n",
      "1  Purple\n",
      "2   Brown\n",
      "3   Green \n",
      "\n",
      "DataFrame 3:\n",
      "         A\n",
      "0    Pink\n",
      "1   White\n",
      "2  Orange\n",
      "3     Red \n",
      "\n",
      "Common element:\n",
      " ['Red']\n"
     ]
    }
   ],
   "source": [
    "import pandas as pd\n",
    "\n",
    "# Importing reduce function\n",
    "from functools import reduce\n",
    "\n",
    "# Creating  DataFrames\n",
    "df1 = pd.DataFrame({'A':['Red','Blues','Yellow','Black']})\n",
    "df2 = pd.DataFrame({'A':['Red','Purple','Brown','Green']})\n",
    "df3 = pd.DataFrame({'A':['Pink','White','Orange','Red']})\n",
    "\n",
    "# Display all the DataFrames\n",
    "print(\"DataFrame 1:\\n\",df1,\"\\n\")\n",
    "print(\"DataFrame 2:\\n\",df2,\"\\n\")\n",
    "print(\"DataFrame 3:\\n\",df3,\"\\n\")\n",
    "\n",
    "# Finding a common element\n",
    "result = list(reduce(set.intersection, map(set, [df1.A, df2.A, df3.A])))\n",
    "\n",
    "# Display Result\n",
    "print(\"Common element:\\n\",result)"
   ]
  },
  {
   "cell_type": "code",
   "execution_count": null,
   "id": "28954c68",
   "metadata": {},
   "outputs": [],
   "source": []
  },
  {
   "cell_type": "code",
   "execution_count": null,
   "id": "dfc8bb48",
   "metadata": {},
   "outputs": [],
   "source": []
  },
  {
   "cell_type": "code",
   "execution_count": null,
   "id": "b9292c93",
   "metadata": {},
   "outputs": [],
   "source": []
  },
  {
   "cell_type": "code",
   "execution_count": null,
   "id": "2f759643",
   "metadata": {},
   "outputs": [],
   "source": []
  },
  {
   "cell_type": "code",
   "execution_count": null,
   "id": "0a808415",
   "metadata": {},
   "outputs": [],
   "source": [
    "league_df\n",
    "player      | team\n",
    "messi       | ['barca']\n",
    "lewandowski | ['dortmund', 'bayern', 'barca']"
   ]
  },
  {
   "cell_type": "code",
   "execution_count": null,
   "id": "9fe37df7",
   "metadata": {},
   "outputs": [],
   "source": []
  },
  {
   "cell_type": "code",
   "execution_count": 498,
   "id": "cb2ce913",
   "metadata": {},
   "outputs": [],
   "source": [
    "league_df = pd.DataFrame({'player':['messi', \n",
    "                                    'lewandowski'], \n",
    "                          \n",
    "                          'league':[np.array(['barca']), \n",
    "                                  np.array(['dortmund', 'bayern', 'barca'])]})"
   ]
  },
  {
   "cell_type": "code",
   "execution_count": 500,
   "id": "1f1d7e61",
   "metadata": {},
   "outputs": [
    {
     "name": "stdout",
     "output_type": "stream",
     "text": [
      "  player        league\n",
      "0  messi  [barca, psg]\n"
     ]
    },
    {
     "name": "stderr",
     "output_type": "stream",
     "text": [
      "/var/folders/ck/dvz0vpxx7fz95ld2btkqqvzw0000gn/T/ipykernel_4839/781270623.py:3: SettingWithCopyWarning: \n",
      "A value is trying to be set on a copy of a slice from a DataFrame.\n",
      "Try using .loc[row_indexer,col_indexer] = value instead\n",
      "\n",
      "See the caveats in the documentation: https://pandas.pydata.org/pandas-docs/stable/user_guide/indexing.html#returning-a-view-versus-a-copy\n",
      "  filtered_df['league'] = filtered_df['league'].apply(lambda x: list(x)+[team])\n"
     ]
    }
   ],
   "source": [
    "def filter_by_player(df, players, team):\n",
    "    filtered_df = df[df['player'].isin(players)]\n",
    "    filtered_df['league'] = filtered_df['league'].apply(lambda x: list(x)+[team])\n",
    "    return filtered_df\n",
    "\n",
    "new_df = filter_by_player(league_df, ['messi'], 'psg')\n",
    "print(new_df)\n",
    "print(type(league_df.iloc[0,1]))\n",
    "print(type(new_df.iloc[0,1]))\n",
    "\n",
    "  player        league\n",
    "0  messi  [barca, psg]\n",
    "\n",
    "\n",
    "\n",
    "\n",
    "<class 'numpy.ndarray'>\n",
    "<class 'list'>"
   ]
  },
  {
   "cell_type": "code",
   "execution_count": 501,
   "id": "cbc48cc9",
   "metadata": {},
   "outputs": [
    {
     "name": "stdout",
     "output_type": "stream",
     "text": [
      "<class 'numpy.ndarray'>\n",
      "<class 'list'>\n"
     ]
    }
   ],
   "source": [
    "print(type(league_df.iloc[0,1]))\n",
    "print(type(new_df.iloc[0,1]))\n",
    "\n",
    "<class 'numpy.ndarray'>\n",
    "<class 'list'>"
   ]
  },
  {
   "cell_type": "code",
   "execution_count": null,
   "id": "38149b2f",
   "metadata": {},
   "outputs": [],
   "source": []
  },
  {
   "cell_type": "code",
   "execution_count": null,
   "id": "4a377ea9",
   "metadata": {},
   "outputs": [],
   "source": []
  },
  {
   "cell_type": "markdown",
   "id": "b998e1d6",
   "metadata": {},
   "source": [
    "I have an $I$-indexed array $V = (V_i)_{i \\in I}$ of (column) vectors $V_i$, which I want to multiply pointwise (along $i \\in I$) by a matrix $M$. So I'm looking for a \"vectorized\" operation, wherein the individual operation is a multiplication of a matrix with a vector; that is\n",
    "\n",
    "$W = (M V_i)_{i \\in I}$\n",
    "\n",
    "Is there a numpy way to do this?\n",
    "\n",
    "numpy.dot unfortunately assumes that $V$ is a matrix, instead of an $I$-indexed family of vectors, which obviously fails."
   ]
  },
  {
   "cell_type": "code",
   "execution_count": 535,
   "id": "4a9e6b9c",
   "metadata": {},
   "outputs": [
    {
     "data": {
      "text/plain": [
       "array([[[1, 1, 1],\n",
       "        [0, 0, 0],\n",
       "        [1, 1, 1]],\n",
       "\n",
       "       [[2, 2, 2],\n",
       "        [0, 0, 0],\n",
       "        [2, 2, 2]],\n",
       "\n",
       "       [[3, 3, 3],\n",
       "        [0, 0, 0],\n",
       "        [3, 3, 3]],\n",
       "\n",
       "       [[4, 4, 4],\n",
       "        [0, 0, 0],\n",
       "        [4, 4, 4]]])"
      ]
     },
     "execution_count": 535,
     "metadata": {},
     "output_type": "execute_result"
    }
   ],
   "source": [
    "M = np.array([[1,1,1],\n",
    "              [0,0,0],\n",
    "              [1,1,1]])    #3,3 matrix M\n",
    "\n",
    "V = np.array([[1,2,3,4],\n",
    "              [1,2,3,4],\n",
    "              [1,2,3,4]])  #4 column vectors\n",
    "\n",
    "\n",
    "M * V.T[:,None,:]\n",
    "\n",
    "array([[[1, 1, 1],\n",
    "        [0, 0, 0],\n",
    "        [1, 1, 1]],\n",
    "\n",
    "       [[2, 2, 2],\n",
    "        [0, 0, 0],\n",
    "        [2, 2, 2]],\n",
    "\n",
    "       [[3, 3, 3],\n",
    "        [0, 0, 0],\n",
    "        [3, 3, 3]],\n",
    "\n",
    "       [[4, 4, 4],\n",
    "        [0, 0, 0],\n",
    "        [4, 4, 4]]])"
   ]
  },
  {
   "cell_type": "code",
   "execution_count": null,
   "id": "48e5071c",
   "metadata": {},
   "outputs": [],
   "source": [
    "1, 3 , 3,  1\n",
    "\n",
    "4 , 1,  3\n",
    "\n"
   ]
  },
  {
   "cell_type": "code",
   "execution_count": 532,
   "id": "44244dca",
   "metadata": {},
   "outputs": [
    {
     "data": {
      "text/plain": [
       "array([[1, 1, 1],\n",
       "       [2, 2, 2],\n",
       "       [3, 3, 3],\n",
       "       [4, 4, 4]])"
      ]
     },
     "execution_count": 532,
     "metadata": {},
     "output_type": "execute_result"
    }
   ],
   "source": []
  },
  {
   "cell_type": "code",
   "execution_count": null,
   "id": "69ec5c7c",
   "metadata": {},
   "outputs": [],
   "source": []
  },
  {
   "cell_type": "code",
   "execution_count": null,
   "id": "7ff78aa4",
   "metadata": {},
   "outputs": [],
   "source": []
  },
  {
   "cell_type": "code",
   "execution_count": null,
   "id": "ad41b59c",
   "metadata": {},
   "outputs": [],
   "source": []
  },
  {
   "cell_type": "code",
   "execution_count": null,
   "id": "647c9779",
   "metadata": {},
   "outputs": [],
   "source": []
  },
  {
   "cell_type": "code",
   "execution_count": null,
   "id": "eda91a12",
   "metadata": {},
   "outputs": [],
   "source": []
  },
  {
   "cell_type": "code",
   "execution_count": 507,
   "id": "86438b4f",
   "metadata": {},
   "outputs": [
    {
     "data": {
      "text/plain": [
       "(2, 3)"
      ]
     },
     "execution_count": 507,
     "metadata": {},
     "output_type": "execute_result"
    }
   ],
   "source": [
    "M.shape"
   ]
  },
  {
   "cell_type": "code",
   "execution_count": 509,
   "id": "b0064e24",
   "metadata": {},
   "outputs": [
    {
     "data": {
      "text/plain": [
       "(3,)"
      ]
     },
     "execution_count": 509,
     "metadata": {},
     "output_type": "execute_result"
    }
   ],
   "source": [
    "V[0].shape"
   ]
  },
  {
   "cell_type": "code",
   "execution_count": 519,
   "id": "fde35694",
   "metadata": {},
   "outputs": [
    {
     "data": {
      "text/plain": [
       "array([ 6, 12])"
      ]
     },
     "execution_count": 519,
     "metadata": {},
     "output_type": "execute_result"
    }
   ],
   "source": [
    "np.dot(M, V[:,0])"
   ]
  },
  {
   "cell_type": "code",
   "execution_count": null,
   "id": "f3d84a6b",
   "metadata": {},
   "outputs": [],
   "source": []
  },
  {
   "cell_type": "code",
   "execution_count": null,
   "id": "ef784571",
   "metadata": {},
   "outputs": [],
   "source": []
  },
  {
   "cell_type": "code",
   "execution_count": 536,
   "id": "1ff57ad5",
   "metadata": {},
   "outputs": [
    {
     "data": {
      "text/html": [
       "<div>\n",
       "<style scoped>\n",
       "    .dataframe tbody tr th:only-of-type {\n",
       "        vertical-align: middle;\n",
       "    }\n",
       "\n",
       "    .dataframe tbody tr th {\n",
       "        vertical-align: top;\n",
       "    }\n",
       "\n",
       "    .dataframe thead th {\n",
       "        text-align: right;\n",
       "    }\n",
       "</style>\n",
       "<table border=\"1\" class=\"dataframe\">\n",
       "  <thead>\n",
       "    <tr style=\"text-align: right;\">\n",
       "      <th></th>\n",
       "      <th>Column1</th>\n",
       "      <th>|</th>\n",
       "      <th>Column2</th>\n",
       "    </tr>\n",
       "  </thead>\n",
       "  <tbody>\n",
       "    <tr>\n",
       "      <th>0</th>\n",
       "      <td>James,</td>\n",
       "      <td>movie</td>\n",
       "      <td>1</td>\n",
       "    </tr>\n",
       "    <tr>\n",
       "      <th>1</th>\n",
       "      <td>James,</td>\n",
       "      <td>movie</td>\n",
       "      <td>2</td>\n",
       "    </tr>\n",
       "    <tr>\n",
       "      <th>2</th>\n",
       "      <td>James,</td>\n",
       "      <td>movie</td>\n",
       "      <td>3</td>\n",
       "    </tr>\n",
       "  </tbody>\n",
       "</table>\n",
       "</div>"
      ],
      "text/plain": [
       "  Column1      |  Column2\n",
       "0  James,  movie        1\n",
       "1  James,  movie        2\n",
       "2  James,  movie        3"
      ]
     },
     "execution_count": 536,
     "metadata": {},
     "output_type": "execute_result"
    }
   ],
   "source": [
    "pd.read_clipboard()"
   ]
  },
  {
   "cell_type": "code",
   "execution_count": 543,
   "id": "ec93c4a6",
   "metadata": {},
   "outputs": [
    {
     "name": "stdout",
     "output_type": "stream",
     "text": [
      "  Column1 Column2\n",
      "0   James  movie1\n",
      "1   James  movie2\n",
      "2   James  movie3\n",
      "3     Bob  movie4\n",
      "4     Bob  movie5\n",
      "5     Bob  movie6\n"
     ]
    }
   ],
   "source": [
    "current_df = pd.DataFrame({'Column1':['James','James','James','Bob','Bob','Bob'],\n",
    "                           'Column2':['movie1','movie2','movie3','movie4','movie5','movie6']})\n",
    "\n",
    "print(current_df)\n",
    "\n",
    "  Column1 Column2\n",
    "0   James  movie1\n",
    "1   James  movie2\n",
    "2   James  movie3\n",
    "3     Bob  movie4\n",
    "4     Bob  movie5\n",
    "5     Bob  movie6"
   ]
  },
  {
   "cell_type": "code",
   "execution_count": 542,
   "id": "f03da633",
   "metadata": {},
   "outputs": [
    {
     "name": "stdout",
     "output_type": "stream",
     "text": [
      "  Column1                   Column2\n",
      "0     Bob  [movie4, movie5, movie6]\n",
      "1   James  [movie1, movie2, movie3]\n"
     ]
    }
   ],
   "source": [
    "fixed_df = current_df.groupby('Column1')['Column2'].apply(list).reset_index()\n",
    "print(fixed_df)\n",
    "\n",
    "  Column1                   Column2\n",
    "0     Bob  [movie4, movie5, movie6]\n",
    "1   James  [movie1, movie2, movie3]"
   ]
  },
  {
   "cell_type": "code",
   "execution_count": null,
   "id": "daa79614",
   "metadata": {},
   "outputs": [],
   "source": []
  },
  {
   "cell_type": "code",
   "execution_count": null,
   "id": "81ed0a5b",
   "metadata": {},
   "outputs": [],
   "source": []
  },
  {
   "cell_type": "code",
   "execution_count": 544,
   "id": "4046ae81",
   "metadata": {},
   "outputs": [],
   "source": []
  },
  {
   "cell_type": "code",
   "execution_count": 572,
   "id": "89d16926",
   "metadata": {},
   "outputs": [
    {
     "data": {
      "text/plain": [
       "True"
      ]
     },
     "execution_count": 572,
     "metadata": {},
     "output_type": "execute_result"
    }
   ],
   "source": [
    "M = np.random.random((2,2))\n",
    "V = np.random.random((5,2))\n",
    "\n",
    "W = np.stack([np.dot(M, V[i]) for i in range(5)])\n",
    "\n",
    "\n",
    "solution = (M@V.T).T\n",
    "\n",
    "np.allclose(W, solution)"
   ]
  },
  {
   "cell_type": "code",
   "execution_count": 573,
   "id": "697e4308",
   "metadata": {},
   "outputs": [
    {
     "data": {
      "text/plain": [
       "array([[0.22076353, 0.10195415],\n",
       "       [1.00357324, 0.39531675],\n",
       "       [0.81416458, 0.42143742],\n",
       "       [0.64151815, 0.29378988],\n",
       "       [0.55489795, 0.22265987]])"
      ]
     },
     "execution_count": 573,
     "metadata": {},
     "output_type": "execute_result"
    }
   ],
   "source": [
    "W"
   ]
  },
  {
   "cell_type": "code",
   "execution_count": 574,
   "id": "4704f469",
   "metadata": {},
   "outputs": [
    {
     "data": {
      "text/plain": [
       "array([[0.22076353, 0.10195415],\n",
       "       [1.00357324, 0.39531675],\n",
       "       [0.81416458, 0.42143742],\n",
       "       [0.64151815, 0.29378988],\n",
       "       [0.55489795, 0.22265987]])"
      ]
     },
     "execution_count": 574,
     "metadata": {},
     "output_type": "execute_result"
    }
   ],
   "source": [
    "solution"
   ]
  },
  {
   "cell_type": "code",
   "execution_count": 575,
   "id": "edd385d2",
   "metadata": {},
   "outputs": [
    {
     "data": {
      "text/plain": [
       "True"
      ]
     },
     "execution_count": 575,
     "metadata": {},
     "output_type": "execute_result"
    }
   ],
   "source": [
    "np.allclose(W, solution)"
   ]
  },
  {
   "cell_type": "code",
   "execution_count": 580,
   "id": "700ad8a9",
   "metadata": {},
   "outputs": [
    {
     "data": {
      "text/plain": [
       "array([[0.22076353, 0.10195415],\n",
       "       [1.00357324, 0.39531675],\n",
       "       [0.81416458, 0.42143742],\n",
       "       [0.64151815, 0.29378988],\n",
       "       [0.55489795, 0.22265987]])"
      ]
     },
     "execution_count": 580,
     "metadata": {},
     "output_type": "execute_result"
    }
   ],
   "source": [
    "(M@V.T).T"
   ]
  },
  {
   "cell_type": "code",
   "execution_count": 582,
   "id": "76b567c1",
   "metadata": {},
   "outputs": [
    {
     "data": {
      "text/html": [
       "<div>\n",
       "<style scoped>\n",
       "    .dataframe tbody tr th:only-of-type {\n",
       "        vertical-align: middle;\n",
       "    }\n",
       "\n",
       "    .dataframe tbody tr th {\n",
       "        vertical-align: top;\n",
       "    }\n",
       "\n",
       "    .dataframe thead th {\n",
       "        text-align: right;\n",
       "    }\n",
       "</style>\n",
       "<table border=\"1\" class=\"dataframe\">\n",
       "  <thead>\n",
       "    <tr style=\"text-align: right;\">\n",
       "      <th></th>\n",
       "      <th>Account</th>\n",
       "      <th>Amount</th>\n",
       "    </tr>\n",
       "  </thead>\n",
       "  <tbody>\n",
       "    <tr>\n",
       "      <th>0</th>\n",
       "      <td>BD001ABC...</td>\n",
       "      <td>180.00</td>\n",
       "    </tr>\n",
       "    <tr>\n",
       "      <th>1</th>\n",
       "      <td>ACC011XY...</td>\n",
       "      <td>120.00</td>\n",
       "    </tr>\n",
       "    <tr>\n",
       "      <th>2</th>\n",
       "      <td>ACC011XY...</td>\n",
       "      <td>444.00</td>\n",
       "    </tr>\n",
       "    <tr>\n",
       "      <th>3</th>\n",
       "      <td>012ABC1A...</td>\n",
       "      <td>190.00</td>\n",
       "    </tr>\n",
       "    <tr>\n",
       "      <th>4</th>\n",
       "      <td>012ABC1A...</td>\n",
       "      <td>50.00</td>\n",
       "    </tr>\n",
       "    <tr>\n",
       "      <th>5</th>\n",
       "      <td>012ABC1A...</td>\n",
       "      <td>110.00</td>\n",
       "    </tr>\n",
       "    <tr>\n",
       "      <th>6</th>\n",
       "      <td>012ABC1A...</td>\n",
       "      <td>400.00</td>\n",
       "    </tr>\n",
       "    <tr>\n",
       "      <th>7</th>\n",
       "      <td>XY123AYT...</td>\n",
       "      <td>0.49</td>\n",
       "    </tr>\n",
       "  </tbody>\n",
       "</table>\n",
       "</div>"
      ],
      "text/plain": [
       "       Account  Amount\n",
       "0  BD001ABC...  180.00\n",
       "1  ACC011XY...  120.00\n",
       "2  ACC011XY...  444.00\n",
       "3  012ABC1A...  190.00\n",
       "4  012ABC1A...   50.00\n",
       "5  012ABC1A...  110.00\n",
       "6  012ABC1A...  400.00\n",
       "7  XY123AYT...    0.49"
      ]
     },
     "execution_count": 582,
     "metadata": {},
     "output_type": "execute_result"
    }
   ],
   "source": [
    "df = pd.read_clipboard()\n",
    "df"
   ]
  },
  {
   "cell_type": "code",
   "execution_count": 592,
   "id": "5741509a",
   "metadata": {},
   "outputs": [
    {
     "name": "stdout",
     "output_type": "stream",
     "text": [
      "       Account           count     sum\n",
      "0  012ABC1A...  4 Transactions  750.00\n",
      "1  ACC011XY...  2 Transactions  564.00\n",
      "2  BD001ABC...  1 Transactions  180.00\n",
      "3  XY123AYT...  1 Transactions    0.49\n"
     ]
    }
   ],
   "source": [
    "result = df.groupby('Account')['Amount'].agg(['count','sum']).reset_index()\n",
    "result['count'] = result['count'].astype(str) + ' Transactions'\n",
    "print(result)\n",
    "\n",
    "       Account           count     sum\n",
    "0  012ABC1A...  4 Transactions  750.00\n",
    "1  ACC011XY...  2 Transactions  564.00\n",
    "2  BD001ABC...  1 Transactions  180.00\n",
    "3  XY123AYT...  1 Transactions    0.49"
   ]
  },
  {
   "cell_type": "code",
   "execution_count": 594,
   "id": "21a08432",
   "metadata": {},
   "outputs": [
    {
     "name": "stdout",
     "output_type": "stream",
     "text": [
      "       Account                         list  count     sum\n",
      "0  012ABC1A...  [190.0, 50.0, 110.0, 400.0]      4  750.00\n",
      "1  ACC011XY...               [120.0, 444.0]      2  564.00\n",
      "2  BD001ABC...                      [180.0]      1  180.00\n",
      "3  XY123AYT...                       [0.49]      1    0.49\n"
     ]
    }
   ],
   "source": [
    "print(df.groupby('Account')['Amount'].agg([list,'count','sum']).reset_index())\n",
    "\n",
    "       Account                         list  count     sum\n",
    "0  012ABC1A...  [190.0, 50.0, 110.0, 400.0]      4  750.00\n",
    "1  ACC011XY...               [120.0, 444.0]      2  564.00\n",
    "2  BD001ABC...                      [180.0]      1  180.00\n",
    "3  XY123AYT...                       [0.49]      1    0.49"
   ]
  },
  {
   "cell_type": "code",
   "execution_count": null,
   "id": "1bd848cc",
   "metadata": {},
   "outputs": [],
   "source": []
  },
  {
   "cell_type": "code",
   "execution_count": null,
   "id": "ccf197b9",
   "metadata": {},
   "outputs": [],
   "source": []
  },
  {
   "cell_type": "code",
   "execution_count": null,
   "id": "0f6f043b",
   "metadata": {},
   "outputs": [],
   "source": []
  },
  {
   "cell_type": "code",
   "execution_count": 595,
   "id": "8afa946a",
   "metadata": {},
   "outputs": [],
   "source": [
    "# Calculate GPA\n",
    "input('Name =')\n",
    "int(input('Student ID ='))\n",
    "input('Major =')\n",
    "\n",
    "total_credit = int(input('Input your credits semester system ='))\n",
    "\n",
    "asessment_data= {\n",
    "    'A' : 4,\n",
    "    'AB':3.5,\n",
    "    'B':3,\n",
    "    'BC':2.5,\n",
    "    'C':2,\n",
    "    'D':1,\n",
    "    'E': 0\n",
    "}\n",
    "\n",
    "course_grade_data= []\n",
    "credit_semester_data = []\n",
    "for i in range(total_credit): \n",
    "    i+=1\n",
    "    print('Please enter course grades',i,'= ')\n",
    "    course_grade_data.append((input()))\n",
    "\n",
    "    print('Enter the number of credits for the course',i,'=')\n",
    "    credit_semester_data.append(int(input()))"
   ]
  },
  {
   "cell_type": "code",
   "execution_count": null,
   "id": "bf4c85dd",
   "metadata": {},
   "outputs": [],
   "source": []
  },
  {
   "cell_type": "code",
   "execution_count": null,
   "id": "b23289f5",
   "metadata": {},
   "outputs": [],
   "source": []
  },
  {
   "cell_type": "code",
   "execution_count": null,
   "id": "292b9353",
   "metadata": {},
   "outputs": [],
   "source": []
  },
  {
   "cell_type": "code",
   "execution_count": 39,
   "id": "e3406206",
   "metadata": {},
   "outputs": [
    {
     "name": "stdout",
     "output_type": "stream",
     "text": [
      "['Which of the following products have you used', 'Provide a rating to the product', 'Will you purchase the product again']\n",
      "['Please select a product you have used', 'Please give a rating to the product', 'Will you buy the product again']\n"
     ]
    }
   ],
   "source": [
    "from scipy import spatial\n",
    "import gensim.downloader as api\n",
    "\n",
    "model = api.load(\"glove-wiki-gigaword-50\")\n",
    "#choose from multiple models https://github.com/RaRe-Technologies/gensim-data\n",
    "\n",
    "def get_vector(s):\n",
    "    s1 = [i.lower() for i in s.split()]\n",
    "    v1 = np.sum(np.array([model[i] for i in s1]), axis=0)\n",
    "    return v1\n",
    "\n",
    "l1 =[\"Which of the following products have you used\",\n",
    "     \"Provide a rating to the product\", \n",
    "     \"Will you purchase the product again\"]\n",
    "\n",
    "l2 =[\"Please give a rating to the product\",\n",
    "     \"Will you buy the product again\",\n",
    "     \"Please select a product you have used\"]\n",
    "\n",
    "embeddings1 = np.array([get_vector(i) for i in l1])\n",
    "embeddings2 = np.array([get_vector(i) for i in l2])\n",
    "\n",
    "similarity = (1 - spatial.distance.cdist(embeddings1, embeddings2, 'cosine')).argmax(axis=1)\n",
    "sorted_l2 = [l2[i] for i in similarity]\n",
    "\n",
    "print(l1)\n",
    "print(sorted_l2)"
   ]
  },
  {
   "cell_type": "code",
   "execution_count": null,
   "id": "e6372e01",
   "metadata": {},
   "outputs": [],
   "source": []
  },
  {
   "cell_type": "code",
   "execution_count": null,
   "id": "5090702d",
   "metadata": {},
   "outputs": [],
   "source": []
  },
  {
   "cell_type": "code",
   "execution_count": null,
   "id": "eb8dc86c",
   "metadata": {},
   "outputs": [],
   "source": []
  },
  {
   "cell_type": "code",
   "execution_count": 1,
   "id": "48317d05",
   "metadata": {},
   "outputs": [],
   "source": []
  },
  {
   "cell_type": "code",
   "execution_count": 5,
   "id": "b224d331",
   "metadata": {},
   "outputs": [],
   "source": [
    "import pandas as pd"
   ]
  },
  {
   "cell_type": "code",
   "execution_count": null,
   "id": "e77f4084",
   "metadata": {},
   "outputs": [],
   "source": []
  },
  {
   "cell_type": "code",
   "execution_count": null,
   "id": "364c8635",
   "metadata": {},
   "outputs": [],
   "source": []
  },
  {
   "cell_type": "code",
   "execution_count": 6,
   "id": "c6d17f43",
   "metadata": {},
   "outputs": [
    {
     "data": {
      "text/html": [
       "<div>\n",
       "<style scoped>\n",
       "    .dataframe tbody tr th:only-of-type {\n",
       "        vertical-align: middle;\n",
       "    }\n",
       "\n",
       "    .dataframe tbody tr th {\n",
       "        vertical-align: top;\n",
       "    }\n",
       "\n",
       "    .dataframe thead th {\n",
       "        text-align: right;\n",
       "    }\n",
       "</style>\n",
       "<table border=\"1\" class=\"dataframe\">\n",
       "  <thead>\n",
       "    <tr style=\"text-align: right;\">\n",
       "      <th></th>\n",
       "      <th>0</th>\n",
       "      <th>1</th>\n",
       "      <th>2</th>\n",
       "      <th>3</th>\n",
       "      <th>4</th>\n",
       "      <th>5</th>\n",
       "      <th>6</th>\n",
       "      <th>7</th>\n",
       "    </tr>\n",
       "  </thead>\n",
       "  <tbody>\n",
       "    <tr>\n",
       "      <th>0</th>\n",
       "      <td>282</td>\n",
       "      <td>804</td>\n",
       "      <td>1209</td>\n",
       "      <td>1558</td>\n",
       "      <td>1368</td>\n",
       "      <td>1208</td>\n",
       "      <td>594</td>\n",
       "      <td>224</td>\n",
       "    </tr>\n",
       "    <tr>\n",
       "      <th>1</th>\n",
       "      <td>273</td>\n",
       "      <td>902</td>\n",
       "      <td>1355</td>\n",
       "      <td>1647</td>\n",
       "      <td>1501</td>\n",
       "      <td>1424</td>\n",
       "      <td>678</td>\n",
       "      <td>186</td>\n",
       "    </tr>\n",
       "    <tr>\n",
       "      <th>2</th>\n",
       "      <td>229</td>\n",
       "      <td>626</td>\n",
       "      <td>865</td>\n",
       "      <td>1275</td>\n",
       "      <td>1134</td>\n",
       "      <td>959</td>\n",
       "      <td>446</td>\n",
       "      <td>138</td>\n",
       "    </tr>\n",
       "    <tr>\n",
       "      <th>3</th>\n",
       "      <td>227</td>\n",
       "      <td>596</td>\n",
       "      <td>764</td>\n",
       "      <td>879</td>\n",
       "      <td>715</td>\n",
       "      <td>610</td>\n",
       "      <td>264</td>\n",
       "      <td>67</td>\n",
       "    </tr>\n",
       "    <tr>\n",
       "      <th>4</th>\n",
       "      <td>218</td>\n",
       "      <td>620</td>\n",
       "      <td>996</td>\n",
       "      <td>1150</td>\n",
       "      <td>1008</td>\n",
       "      <td>1001</td>\n",
       "      <td>450</td>\n",
       "      <td>156</td>\n",
       "    </tr>\n",
       "    <tr>\n",
       "      <th>5</th>\n",
       "      <td>217</td>\n",
       "      <td>568</td>\n",
       "      <td>915</td>\n",
       "      <td>1207</td>\n",
       "      <td>1092</td>\n",
       "      <td>981</td>\n",
       "      <td>479</td>\n",
       "      <td>132</td>\n",
       "    </tr>\n",
       "    <tr>\n",
       "      <th>6</th>\n",
       "      <td>184</td>\n",
       "      <td>392</td>\n",
       "      <td>0</td>\n",
       "      <td>0</td>\n",
       "      <td>0</td>\n",
       "      <td>0</td>\n",
       "      <td>0</td>\n",
       "      <td>0</td>\n",
       "    </tr>\n",
       "    <tr>\n",
       "      <th>7</th>\n",
       "      <td>168</td>\n",
       "      <td>604</td>\n",
       "      <td>901</td>\n",
       "      <td>1014</td>\n",
       "      <td>808</td>\n",
       "      <td>750</td>\n",
       "      <td>349</td>\n",
       "      <td>73</td>\n",
       "    </tr>\n",
       "    <tr>\n",
       "      <th>8</th>\n",
       "      <td>168</td>\n",
       "      <td>0</td>\n",
       "      <td>454</td>\n",
       "      <td>539</td>\n",
       "      <td>513</td>\n",
       "      <td>0</td>\n",
       "      <td>225</td>\n",
       "      <td>65</td>\n",
       "    </tr>\n",
       "    <tr>\n",
       "      <th>9</th>\n",
       "      <td>0</td>\n",
       "      <td>376</td>\n",
       "      <td>663</td>\n",
       "      <td>834</td>\n",
       "      <td>734</td>\n",
       "      <td>870</td>\n",
       "      <td>408</td>\n",
       "      <td>130</td>\n",
       "    </tr>\n",
       "    <tr>\n",
       "      <th>10</th>\n",
       "      <td>0</td>\n",
       "      <td>0</td>\n",
       "      <td>0</td>\n",
       "      <td>0</td>\n",
       "      <td>0</td>\n",
       "      <td>481</td>\n",
       "      <td>0</td>\n",
       "      <td>84</td>\n",
       "    </tr>\n",
       "  </tbody>\n",
       "</table>\n",
       "</div>"
      ],
      "text/plain": [
       "      0    1     2     3     4     5    6    7\n",
       "0   282  804  1209  1558  1368  1208  594  224\n",
       "1   273  902  1355  1647  1501  1424  678  186\n",
       "2   229  626   865  1275  1134   959  446  138\n",
       "3   227  596   764   879   715   610  264   67\n",
       "4   218  620   996  1150  1008  1001  450  156\n",
       "5   217  568   915  1207  1092   981  479  132\n",
       "6   184  392     0     0     0     0    0    0\n",
       "7   168  604   901  1014   808   750  349   73\n",
       "8   168    0   454   539   513     0  225   65\n",
       "9     0  376   663   834   734   870  408  130\n",
       "10    0    0     0     0     0   481    0   84"
      ]
     },
     "execution_count": 6,
     "metadata": {},
     "output_type": "execute_result"
    }
   ],
   "source": []
  },
  {
   "cell_type": "code",
   "execution_count": 7,
   "id": "a27a7ef5",
   "metadata": {},
   "outputs": [],
   "source": [
    "php = np.array([282, 804, 1209, 1558, 1368, 1208, 594, 224])\n",
    "js = np.array([273, 902, 1355, 1647, 1501, 1424, 678, 186])\n",
    "html = np.array([229, 626, 865, 1275, 1134, 959, 446, 138])\n",
    "html5 = np.array([227, 596, 764, 879, 715, 610, 264, 67])\n",
    "my_sql = np.array([218, 620, 996, 1150, 1008, 1001, 450, 156])\n",
    "css = np.array([217, 568, 915, 1207, 1092, 981, 479, 132 ])\n",
    "css3 = np.array([203, 535, 548, 704, 567, 487, 218, 0])\n",
    "php5 = np.array([184, 392, 0, 0, 0, 0, 0, 0 ])\n",
    "jquery = np.array([168, 604, 901, 1014, 808, 750, 349, 73 ])\n",
    "c1_bitrix = np.array([168, 0, 454, 539, 513, 0, 225, 65 ])\n",
    "git = np.array([0, 376, 663, 834, 734, 870, 408, 130 ])\n",
    "oop = np.array([0, 0, 0, 0, 0, 481, 0, 84 ])\n",
    "\n",
    "legends = ['php', 'js', 'html', 'html5', 'my_sql', 'css', 'php5', 'jquery', 'c1_bitrix', 'git', 'oop']"
   ]
  },
  {
   "cell_type": "code",
   "execution_count": null,
   "id": "86c5b3b3",
   "metadata": {},
   "outputs": [],
   "source": []
  },
  {
   "cell_type": "code",
   "execution_count": 21,
   "id": "51521d09",
   "metadata": {},
   "outputs": [
    {
     "data": {
      "text/plain": [
       "2014"
      ]
     },
     "execution_count": 21,
     "metadata": {},
     "output_type": "execute_result"
    }
   ],
   "source": [
    "2022-8"
   ]
  },
  {
   "cell_type": "code",
   "execution_count": 36,
   "id": "62d930f8",
   "metadata": {
    "scrolled": false
   },
   "outputs": [
    {
     "data": {
      "image/png": "[encoded data removed]",
      "text/plain": [
       "<Figure size 504x720 with 1 Axes>"
      ]
     },
     "metadata": {
      "needs_background": "light"
     },
     "output_type": "display_data"
    }
   ],
   "source": [
    "import matplotlib.pyplot as plt\n",
    "\n",
    "php = np.array([282, 804, 1209, 1558, 1368, 1208, 594, 224])\n",
    "js = np.array([273, 902, 1355, 1647, 1501, 1424, 678, 186])\n",
    "html = np.array([229, 626, 865, 1275, 1134, 959, 446, 138])\n",
    "html5 = np.array([227, 596, 764, 879, 715, 610, 264, 67])\n",
    "my_sql = np.array([218, 620, 996, 1150, 1008, 1001, 450, 156])\n",
    "css = np.array([217, 568, 915, 1207, 1092, 981, 479, 132 ])\n",
    "css3 = np.array([203, 535, 548, 704, 567, 487, 218, 0])\n",
    "php5 = np.array([184, 392, 0, 0, 0, 0, 0, 0 ])\n",
    "jquery = np.array([168, 604, 901, 1014, 808, 750, 349, 73 ])\n",
    "c1_bitrix = np.array([168, 0, 454, 539, 513, 0, 225, 65 ])\n",
    "git = np.array([0, 376, 663, 834, 734, 870, 408, 130 ])\n",
    "oop = np.array([0, 0, 0, 0, 0, 481, 0, 84 ])\n",
    "\n",
    "legends = ['php', 'js', 'html', 'html5', 'my_sql', 'css', 'php5', 'jquery', 'c1_bitrix', 'git', 'oop']\n",
    "years = [str(i) for i in range(2015,2023)]\n",
    "\n",
    "fig = plt.figure(figsize=(7,10))\n",
    "\n",
    "for i in legends:\n",
    "    plt.plot(eval(i))\n",
    "\n",
    "plt.legend(legends, loc='upper left')\n",
    "plt.xticks(range(len(years)), years, size='small')\n",
    "plt.show()"
   ]
  },
  {
   "cell_type": "code",
   "execution_count": 38,
   "id": "e6f3b796",
   "metadata": {},
   "outputs": [],
   "source": [
    "import matplotlib"
   ]
  },
  {
   "cell_type": "code",
   "execution_count": 39,
   "id": "987e34a6",
   "metadata": {},
   "outputs": [
    {
     "data": {
      "text/plain": [
       "'3.5.1'"
      ]
     },
     "execution_count": 39,
     "metadata": {},
     "output_type": "execute_result"
    }
   ],
   "source": [
    "matplotlib.__version__"
   ]
  },
  {
   "cell_type": "code",
   "execution_count": 43,
   "id": "190b704a",
   "metadata": {},
   "outputs": [
    {
     "data": {
      "text/plain": [
       "{'0': [(1, 2)], '1': [(2, 3)], '2': [(4, 5)], '3': [(8, 12)]}"
      ]
     },
     "execution_count": 43,
     "metadata": {},
     "output_type": "execute_result"
    }
   ],
   "source": [
    "my_list = [(1,2),(2,3),(4,5),(8,12)]\n",
    "{str(i):[t] for i,t in enumerate(my_list)}\n",
    "{'0': [(1, 2)], '1': [(2, 3)], '2': [(4, 5)], '3': [(8, 12)]}"
   ]
  },
  {
   "cell_type": "code",
   "execution_count": null,
   "id": "9db52d33",
   "metadata": {},
   "outputs": [],
   "source": []
  },
  {
   "cell_type": "code",
   "execution_count": null,
   "id": "a87f6655",
   "metadata": {},
   "outputs": [],
   "source": []
  },
  {
   "cell_type": "code",
   "execution_count": null,
   "id": "eaf80cd6",
   "metadata": {},
   "outputs": [],
   "source": []
  },
  {
   "cell_type": "code",
   "execution_count": 45,
   "id": "bff403f9",
   "metadata": {},
   "outputs": [
    {
     "data": {
      "text/plain": [
       "matrix([[0, 1, 1, 1, 0, 0, 1, 0, 1],\n",
       "        [0, 2, 0, 1, 0, 1, 1, 0, 1],\n",
       "        [1, 0, 0, 1, 1, 0, 1, 1, 1],\n",
       "        [0, 1, 1, 1, 0, 0, 1, 0, 1]])"
      ]
     },
     "execution_count": 45,
     "metadata": {},
     "output_type": "execute_result"
    }
   ],
   "source": [
    "from sklearn.feature_extraction.text import CountVectorizer\n",
    "\n",
    "\n",
    "corpus = [\n",
    "     'This is the first document.',\n",
    "     'This document is the second document.',\n",
    "     'And this is the third one.',\n",
    "     'Is this the first document?']\n",
    "\n",
    "cnt = CountVectorizer()\n",
    "sparse = cnt.fit_transform(corpus)\n",
    "sparse.todense()\n",
    "\n",
    "matrix([[0, 1, 1, 1, 0, 0, 1, 0, 1],\n",
    "        [0, 2, 0, 1, 0, 1, 1, 0, 1],\n",
    "        [1, 0, 0, 1, 1, 0, 1, 1, 1],\n",
    "        [0, 1, 1, 1, 0, 0, 1, 0, 1]])"
   ]
  },
  {
   "cell_type": "code",
   "execution_count": 49,
   "id": "f20633f1",
   "metadata": {},
   "outputs": [
    {
     "data": {
      "text/plain": [
       "{'this': 8,\n",
       " 'is': 3,\n",
       " 'the': 6,\n",
       " 'first': 2,\n",
       " 'document': 1,\n",
       " 'second': 5,\n",
       " 'and': 0,\n",
       " 'third': 7,\n",
       " 'one': 4}"
      ]
     },
     "execution_count": 49,
     "metadata": {},
     "output_type": "execute_result"
    }
   ],
   "source": [
    "cnt.vocabulary_"
   ]
  },
  {
   "cell_type": "code",
   "execution_count": 50,
   "id": "6886c068",
   "metadata": {},
   "outputs": [
    {
     "data": {
      "text/plain": [
       "[('and', 0),\n",
       " ('document', 1),\n",
       " ('first', 2),\n",
       " ('is', 3),\n",
       " ('one', 4),\n",
       " ('second', 5),\n",
       " ('the', 6),\n",
       " ('third', 7),\n",
       " ('this', 8)]"
      ]
     },
     "execution_count": 50,
     "metadata": {},
     "output_type": "execute_result"
    }
   ],
   "source": []
  },
  {
   "cell_type": "code",
   "execution_count": 53,
   "id": "60f8c3e7",
   "metadata": {},
   "outputs": [
    {
     "data": {
      "text/html": [
       "<div>\n",
       "<style scoped>\n",
       "    .dataframe tbody tr th:only-of-type {\n",
       "        vertical-align: middle;\n",
       "    }\n",
       "\n",
       "    .dataframe tbody tr th {\n",
       "        vertical-align: top;\n",
       "    }\n",
       "\n",
       "    .dataframe thead th {\n",
       "        text-align: right;\n",
       "    }\n",
       "</style>\n",
       "<table border=\"1\" class=\"dataframe\">\n",
       "  <thead>\n",
       "    <tr style=\"text-align: right;\">\n",
       "      <th></th>\n",
       "      <th>(and, 0)</th>\n",
       "      <th>(document, 1)</th>\n",
       "      <th>(first, 2)</th>\n",
       "      <th>(is, 3)</th>\n",
       "      <th>(one, 4)</th>\n",
       "      <th>(second, 5)</th>\n",
       "      <th>(the, 6)</th>\n",
       "      <th>(third, 7)</th>\n",
       "      <th>(this, 8)</th>\n",
       "    </tr>\n",
       "  </thead>\n",
       "  <tbody>\n",
       "    <tr>\n",
       "      <th>This is the first document.</th>\n",
       "      <td>0</td>\n",
       "      <td>1</td>\n",
       "      <td>1</td>\n",
       "      <td>1</td>\n",
       "      <td>0</td>\n",
       "      <td>0</td>\n",
       "      <td>1</td>\n",
       "      <td>0</td>\n",
       "      <td>1</td>\n",
       "    </tr>\n",
       "    <tr>\n",
       "      <th>This document is the second document.</th>\n",
       "      <td>0</td>\n",
       "      <td>2</td>\n",
       "      <td>0</td>\n",
       "      <td>1</td>\n",
       "      <td>0</td>\n",
       "      <td>1</td>\n",
       "      <td>1</td>\n",
       "      <td>0</td>\n",
       "      <td>1</td>\n",
       "    </tr>\n",
       "    <tr>\n",
       "      <th>And this is the third one.</th>\n",
       "      <td>1</td>\n",
       "      <td>0</td>\n",
       "      <td>0</td>\n",
       "      <td>1</td>\n",
       "      <td>1</td>\n",
       "      <td>0</td>\n",
       "      <td>1</td>\n",
       "      <td>1</td>\n",
       "      <td>1</td>\n",
       "    </tr>\n",
       "    <tr>\n",
       "      <th>Is this the first document?</th>\n",
       "      <td>0</td>\n",
       "      <td>1</td>\n",
       "      <td>1</td>\n",
       "      <td>1</td>\n",
       "      <td>0</td>\n",
       "      <td>0</td>\n",
       "      <td>1</td>\n",
       "      <td>0</td>\n",
       "      <td>1</td>\n",
       "    </tr>\n",
       "  </tbody>\n",
       "</table>\n",
       "</div>"
      ],
      "text/plain": [
       "                                       (and, 0)  (document, 1)  (first, 2)  \\\n",
       "This is the first document.                   0              1           1   \n",
       "This document is the second document.         0              2           0   \n",
       "And this is the third one.                    1              0           0   \n",
       "Is this the first document?                   0              1           1   \n",
       "\n",
       "                                       (is, 3)  (one, 4)  (second, 5)  \\\n",
       "This is the first document.                  1         0            0   \n",
       "This document is the second document.        1         0            1   \n",
       "And this is the third one.                   1         1            0   \n",
       "Is this the first document?                  1         0            0   \n",
       "\n",
       "                                       (the, 6)  (third, 7)  (this, 8)  \n",
       "This is the first document.                   1           0          1  \n",
       "This document is the second document.         1           0          1  \n",
       "And this is the third one.                    1           1          1  \n",
       "Is this the first document?                   1           0          1  "
      ]
     },
     "execution_count": 53,
     "metadata": {},
     "output_type": "execute_result"
    }
   ],
   "source": [
    "output = pd.DataFrame(sparse.todense(), \n",
    "                      index=corpus, \n",
    "                      columns=sorted(cnt.vocabulary_.items(), \n",
    "                                     key=lambda x: x[1]))\n",
    "output"
   ]
  },
  {
   "cell_type": "code",
   "execution_count": 106,
   "id": "8d2dea55",
   "metadata": {},
   "outputs": [
    {
     "data": {
      "text/html": [
       "<div>\n",
       "<style scoped>\n",
       "    .dataframe tbody tr th:only-of-type {\n",
       "        vertical-align: middle;\n",
       "    }\n",
       "\n",
       "    .dataframe tbody tr th {\n",
       "        vertical-align: top;\n",
       "    }\n",
       "\n",
       "    .dataframe thead th {\n",
       "        text-align: right;\n",
       "    }\n",
       "</style>\n",
       "<table border=\"1\" class=\"dataframe\">\n",
       "  <thead>\n",
       "    <tr style=\"text-align: right;\">\n",
       "      <th></th>\n",
       "      <th>this</th>\n",
       "      <th>is</th>\n",
       "      <th>the</th>\n",
       "      <th>first</th>\n",
       "      <th>document</th>\n",
       "      <th>second</th>\n",
       "      <th>and</th>\n",
       "      <th>third</th>\n",
       "      <th>one</th>\n",
       "    </tr>\n",
       "  </thead>\n",
       "  <tbody>\n",
       "    <tr>\n",
       "      <th>This is the first document.</th>\n",
       "      <td>1</td>\n",
       "      <td>1</td>\n",
       "      <td>1</td>\n",
       "      <td>1</td>\n",
       "      <td>1</td>\n",
       "      <td>0</td>\n",
       "      <td>0</td>\n",
       "      <td>0</td>\n",
       "      <td>0</td>\n",
       "    </tr>\n",
       "    <tr>\n",
       "      <th>This document is the second document.</th>\n",
       "      <td>1</td>\n",
       "      <td>1</td>\n",
       "      <td>1</td>\n",
       "      <td>0</td>\n",
       "      <td>2</td>\n",
       "      <td>1</td>\n",
       "      <td>0</td>\n",
       "      <td>0</td>\n",
       "      <td>0</td>\n",
       "    </tr>\n",
       "    <tr>\n",
       "      <th>And this is the third one.</th>\n",
       "      <td>1</td>\n",
       "      <td>1</td>\n",
       "      <td>1</td>\n",
       "      <td>0</td>\n",
       "      <td>0</td>\n",
       "      <td>0</td>\n",
       "      <td>1</td>\n",
       "      <td>1</td>\n",
       "      <td>1</td>\n",
       "    </tr>\n",
       "    <tr>\n",
       "      <th>Is this the first document?</th>\n",
       "      <td>1</td>\n",
       "      <td>1</td>\n",
       "      <td>1</td>\n",
       "      <td>1</td>\n",
       "      <td>1</td>\n",
       "      <td>0</td>\n",
       "      <td>0</td>\n",
       "      <td>0</td>\n",
       "      <td>0</td>\n",
       "    </tr>\n",
       "  </tbody>\n",
       "</table>\n",
       "</div>"
      ],
      "text/plain": [
       "                                       this  is  the  first  document  second  \\\n",
       "This is the first document.               1   1    1      1         1       0   \n",
       "This document is the second document.     1   1    1      0         2       1   \n",
       "And this is the third one.                1   1    1      0         0       0   \n",
       "Is this the first document?               1   1    1      1         1       0   \n",
       "\n",
       "                                       and  third  one  \n",
       "This is the first document.              0      0    0  \n",
       "This document is the second document.    0      0    0  \n",
       "And this is the third one.               1      1    1  \n",
       "Is this the first document?              0      0    0  "
      ]
     },
     "execution_count": 106,
     "metadata": {},
     "output_type": "execute_result"
    }
   ],
   "source": [
    "from collections import Counter\n",
    "\n",
    "cleans = lambda x: \"\".join(filter(str.isalnum, x.lower()))         #function to remove non alpha characters\n",
    "tokens = [[clean(j) for j in i.split()] for i in corpus]           #clean and convert sentences to tokens\n",
    "counts = map(Counter, tokens)                                      #get count of tokens for each sentence\n",
    "result = pd.DataFrame(counts, index=corpus).fillna(0).astype(int)  #save as dataframe\n",
    "result"
   ]
  },
  {
   "cell_type": "code",
   "execution_count": 89,
   "id": "3422702f",
   "metadata": {},
   "outputs": [
    {
     "data": {
      "text/plain": [
       "[Counter({'this': 1, 'is': 1, 'the': 1, 'first': 1, 'document': 1}),\n",
       " Counter({'this': 1, 'document': 2, 'is': 1, 'the': 1, 'second': 1}),\n",
       " Counter({'and': 1, 'this': 1, 'is': 1, 'the': 1, 'third': 1, 'one': 1}),\n",
       " Counter({'is': 1, 'this': 1, 'the': 1, 'first': 1, 'document': 1})]"
      ]
     },
     "execution_count": 89,
     "metadata": {},
     "output_type": "execute_result"
    }
   ],
   "source": []
  },
  {
   "cell_type": "code",
   "execution_count": 103,
   "id": "17d375d2",
   "metadata": {},
   "outputs": [],
   "source": []
  },
  {
   "cell_type": "code",
   "execution_count": 104,
   "id": "565d591e",
   "metadata": {},
   "outputs": [
    {
     "data": {
      "text/plain": [
       "[['this', 'is', 'the', 'first', 'document'],\n",
       " ['this', 'document', 'is', 'the', 'second', 'document'],\n",
       " ['and', 'this', 'is', 'the', 'third', 'one'],\n",
       " ['is', 'this', 'the', 'first', 'document']]"
      ]
     },
     "execution_count": 104,
     "metadata": {},
     "output_type": "execute_result"
    }
   ],
   "source": [
    "clean = lambda x: \"\".join(filter(str.isalnum, x.lower()))\n",
    "[[clean(j) for j in i.split()] for i in corpus]"
   ]
  },
  {
   "cell_type": "code",
   "execution_count": null,
   "id": "9ba1f922",
   "metadata": {},
   "outputs": [],
   "source": []
  },
  {
   "cell_type": "code",
   "execution_count": null,
   "id": "b514f1e8",
   "metadata": {},
   "outputs": [],
   "source": []
  },
  {
   "cell_type": "code",
   "execution_count": null,
   "id": "d63a591f",
   "metadata": {},
   "outputs": [],
   "source": []
  },
  {
   "cell_type": "code",
   "execution_count": 108,
   "id": "29b9fa04",
   "metadata": {},
   "outputs": [
    {
     "data": {
      "text/plain": [
       "col1  col2\n",
       "1     a       2\n",
       "2     b       4\n",
       "3     c       0\n",
       "4     d       1\n",
       "5     e       0\n",
       "dtype: int64"
      ]
     },
     "execution_count": 108,
     "metadata": {},
     "output_type": "execute_result"
    }
   ],
   "source": [
    "import pandas as pd\n",
    "import numpy as np\n",
    "import random\n",
    "\n",
    "repeating_times = 4\n",
    "df = pd.DataFrame({\"col1\": [1, 2, 3, 4, 5]*repeating_times,\n",
    "                   \"col2\": ['a', 'b', 'c', 'd', 'e']*repeating_times,\n",
    "                   \"true\": ['P', 'P', 'N', 'P', 'N']*repeating_times,\n",
    "                   \"pred\": random.choices([\"P\", \"N\"], k=5*repeating_times)})\n",
    "\n",
    "grps = df.groupby(by=[\"col1\", \"col2\"])\n",
    "true_pos = grps.apply(lambda gr: np.sum(gr[gr['pred'] == 'P'][\"true\"] == 'P'))\n",
    "true_pos"
   ]
  },
  {
   "cell_type": "code",
   "execution_count": null,
   "id": "713c19fe",
   "metadata": {},
   "outputs": [],
   "source": []
  },
  {
   "cell_type": "code",
   "execution_count": null,
   "id": "a9f66459",
   "metadata": {},
   "outputs": [],
   "source": []
  },
  {
   "cell_type": "code",
   "execution_count": null,
   "id": "7521eb17",
   "metadata": {},
   "outputs": [],
   "source": []
  },
  {
   "cell_type": "code",
   "execution_count": null,
   "id": "f6445d4a",
   "metadata": {},
   "outputs": [],
   "source": [
    "######### FUNCTION 1 ###########\n",
    "\n",
    "from sklearn.feature_extraction.text import CountVectorizer\n",
    "\n",
    "def bag_of_words(corpus):\n",
    "    cnt = CountVectorizer()\n",
    "    sparse = cnt.fit_transform(corpus)\n",
    "    return sparse.todense()\n",
    "\n",
    "bag_of_words(corpus)\n",
    "\n",
    "\n",
    "######### FUNCTION 2 ###########\n",
    "\n",
    "from collections import Counter\n",
    "\n",
    "def bag_of_words(corpus):\n",
    "    cleans = lambda x: \"\".join(filter(str.isalnum, x.lower()))         #function to remove non alpha characters\n",
    "    tokens = [[clean(j) for j in i.split()] for i in corpus]           #clean and convert sentences to tokens\n",
    "    counts = map(Counter, tokens)                                      #get count of tokens for each sentence\n",
    "    result = pd.DataFrame(counts, index=corpus).fillna(0).astype(int)  #save as dataframe\n",
    "    return result\n",
    "\n",
    "bag_of_words(corpus)"
   ]
  },
  {
   "cell_type": "code",
   "execution_count": null,
   "id": "1b481a23",
   "metadata": {},
   "outputs": [],
   "source": []
  },
  {
   "cell_type": "code",
   "execution_count": null,
   "id": "a3442816",
   "metadata": {},
   "outputs": [],
   "source": []
  },
  {
   "cell_type": "code",
   "execution_count": 110,
   "id": "eba12a21",
   "metadata": {},
   "outputs": [
    {
     "data": {
      "text/plain": [
       "{'Months': ['2023-01', '2022-12', '2022-11', '2022-10'],\n",
       " '2022-10': [10.0, 2.0, nan, 12.0],\n",
       " '2022-11': [nan, 14.0, 11.0, nan],\n",
       " '2022-12': [12.0, 14.0, nan, nan],\n",
       " '2023-01': [13.0, nan, nan, nan],\n",
       " '…': ['…', '…', '…', None]}"
      ]
     },
     "execution_count": 110,
     "metadata": {},
     "output_type": "execute_result"
    }
   ],
   "source": [
    "df = pd.read_clipboard()\n",
    "df.to_dict('list')"
   ]
  },
  {
   "cell_type": "code",
   "execution_count": 112,
   "id": "a44b433a",
   "metadata": {},
   "outputs": [],
   "source": [
    "import numpy as np"
   ]
  },
  {
   "cell_type": "code",
   "execution_count": 166,
   "id": "b9092dec",
   "metadata": {},
   "outputs": [],
   "source": [
    "df = pd.DataFrame({'Months': ['2023-01', '2022-12', '2022-11', '2022-10'],\n",
    "                   '2022-10': [10.0, 2.0, np.nan, 12.0],\n",
    "                   '2022-11': [np.nan, 14.0, 11.0, np.nan],\n",
    "                   '2022-12': [12.0, 14.0, np.nan, np.nan],\n",
    "                   '2023-01': [13.0, np.nan, np.nan, np.nan]})"
   ]
  },
  {
   "cell_type": "code",
   "execution_count": 167,
   "id": "ff6238aa",
   "metadata": {},
   "outputs": [
    {
     "data": {
      "text/html": [
       "<div>\n",
       "<style scoped>\n",
       "    .dataframe tbody tr th:only-of-type {\n",
       "        vertical-align: middle;\n",
       "    }\n",
       "\n",
       "    .dataframe tbody tr th {\n",
       "        vertical-align: top;\n",
       "    }\n",
       "\n",
       "    .dataframe thead th {\n",
       "        text-align: right;\n",
       "    }\n",
       "</style>\n",
       "<table border=\"1\" class=\"dataframe\">\n",
       "  <thead>\n",
       "    <tr style=\"text-align: right;\">\n",
       "      <th></th>\n",
       "      <th>Months</th>\n",
       "      <th>2022-10</th>\n",
       "      <th>2022-11</th>\n",
       "      <th>2022-12</th>\n",
       "      <th>2023-01</th>\n",
       "    </tr>\n",
       "  </thead>\n",
       "  <tbody>\n",
       "    <tr>\n",
       "      <th>0</th>\n",
       "      <td>2023-01</td>\n",
       "      <td>10.0</td>\n",
       "      <td>NaN</td>\n",
       "      <td>12.0</td>\n",
       "      <td>13.0</td>\n",
       "    </tr>\n",
       "    <tr>\n",
       "      <th>1</th>\n",
       "      <td>2022-12</td>\n",
       "      <td>2.0</td>\n",
       "      <td>14.0</td>\n",
       "      <td>14.0</td>\n",
       "      <td>NaN</td>\n",
       "    </tr>\n",
       "    <tr>\n",
       "      <th>2</th>\n",
       "      <td>2022-11</td>\n",
       "      <td>NaN</td>\n",
       "      <td>11.0</td>\n",
       "      <td>NaN</td>\n",
       "      <td>NaN</td>\n",
       "    </tr>\n",
       "    <tr>\n",
       "      <th>3</th>\n",
       "      <td>2022-10</td>\n",
       "      <td>12.0</td>\n",
       "      <td>NaN</td>\n",
       "      <td>NaN</td>\n",
       "      <td>NaN</td>\n",
       "    </tr>\n",
       "  </tbody>\n",
       "</table>\n",
       "</div>"
      ],
      "text/plain": [
       "    Months  2022-10  2022-11  2022-12  2023-01\n",
       "0  2023-01     10.0      NaN     12.0     13.0\n",
       "1  2022-12      2.0     14.0     14.0      NaN\n",
       "2  2022-11      NaN     11.0      NaN      NaN\n",
       "3  2022-10     12.0      NaN      NaN      NaN"
      ]
     },
     "execution_count": 167,
     "metadata": {},
     "output_type": "execute_result"
    }
   ],
   "source": [
    "df"
   ]
  },
  {
   "cell_type": "code",
   "execution_count": 169,
   "id": "77b4285a",
   "metadata": {},
   "outputs": [
    {
     "data": {
      "text/plain": [
       "array([[10., nan, 12., 13.],\n",
       "       [ 2., 14., 14., nan],\n",
       "       [nan, 11., nan, nan],\n",
       "       [12., nan, nan, nan]])"
      ]
     },
     "execution_count": 169,
     "metadata": {},
     "output_type": "execute_result"
    }
   ],
   "source": [
    "vals = df.set_index('Months').values\n",
    "vals"
   ]
  },
  {
   "cell_type": "code",
   "execution_count": 174,
   "id": "bef7bdd6",
   "metadata": {},
   "outputs": [],
   "source": [
    "rot = np.rot90(vals)\n",
    "idx = np.tril_indices(vals.shape[0])\n",
    "tri = rot[idx]\n",
    "nan = np.isnan(tri)\n",
    "get = tri[nan]\n",
    "get = 0"
   ]
  },
  {
   "cell_type": "code",
   "execution_count": 176,
   "id": "db2b76f1",
   "metadata": {},
   "outputs": [
    {
     "data": {
      "text/plain": [
       "array([[13., nan, nan, nan],\n",
       "       [12., 14., nan, nan],\n",
       "       [nan, 14., 11., nan],\n",
       "       [10.,  2., nan, 12.]])"
      ]
     },
     "execution_count": 176,
     "metadata": {},
     "output_type": "execute_result"
    }
   ],
   "source": [
    "rot"
   ]
  },
  {
   "cell_type": "code",
   "execution_count": null,
   "id": "aac6cead",
   "metadata": {},
   "outputs": [],
   "source": []
  },
  {
   "cell_type": "code",
   "execution_count": 142,
   "id": "132a1f3f",
   "metadata": {},
   "outputs": [
    {
     "data": {
      "text/plain": [
       "array([[10., nan, 12., 13.],\n",
       "       [ 2., 14., 14., nan],\n",
       "       [ 0., 11., nan, nan],\n",
       "       [ 0.,  0., nan, nan]])"
      ]
     },
     "execution_count": 142,
     "metadata": {},
     "output_type": "execute_result"
    }
   ],
   "source": [
    "np.triu(vals)"
   ]
  },
  {
   "cell_type": "code",
   "execution_count": 177,
   "id": "e1dfc36a",
   "metadata": {},
   "outputs": [
    {
     "name": "stderr",
     "output_type": "stream",
     "text": [
      "/var/folders/ck/dvz0vpxx7fz95ld2btkqqvzw0000gn/T/ipykernel_9969/2738748561.py:1: FutureWarning: In a future version of pandas all arguments of DataFrame.bfill will be keyword-only\n",
      "  df.bfill(1)\n"
     ]
    },
    {
     "data": {
      "text/html": [
       "<div>\n",
       "<style scoped>\n",
       "    .dataframe tbody tr th:only-of-type {\n",
       "        vertical-align: middle;\n",
       "    }\n",
       "\n",
       "    .dataframe tbody tr th {\n",
       "        vertical-align: top;\n",
       "    }\n",
       "\n",
       "    .dataframe thead th {\n",
       "        text-align: right;\n",
       "    }\n",
       "</style>\n",
       "<table border=\"1\" class=\"dataframe\">\n",
       "  <thead>\n",
       "    <tr style=\"text-align: right;\">\n",
       "      <th></th>\n",
       "      <th>Months</th>\n",
       "      <th>2022-10</th>\n",
       "      <th>2022-11</th>\n",
       "      <th>2022-12</th>\n",
       "      <th>2023-01</th>\n",
       "    </tr>\n",
       "  </thead>\n",
       "  <tbody>\n",
       "    <tr>\n",
       "      <th>0</th>\n",
       "      <td>2023-01</td>\n",
       "      <td>10.0</td>\n",
       "      <td>12.0</td>\n",
       "      <td>12.0</td>\n",
       "      <td>13.0</td>\n",
       "    </tr>\n",
       "    <tr>\n",
       "      <th>1</th>\n",
       "      <td>2022-12</td>\n",
       "      <td>2.0</td>\n",
       "      <td>14.0</td>\n",
       "      <td>14.0</td>\n",
       "      <td>NaN</td>\n",
       "    </tr>\n",
       "    <tr>\n",
       "      <th>2</th>\n",
       "      <td>2022-11</td>\n",
       "      <td>11.0</td>\n",
       "      <td>11.0</td>\n",
       "      <td>NaN</td>\n",
       "      <td>NaN</td>\n",
       "    </tr>\n",
       "    <tr>\n",
       "      <th>3</th>\n",
       "      <td>2022-10</td>\n",
       "      <td>12.0</td>\n",
       "      <td>NaN</td>\n",
       "      <td>NaN</td>\n",
       "      <td>NaN</td>\n",
       "    </tr>\n",
       "  </tbody>\n",
       "</table>\n",
       "</div>"
      ],
      "text/plain": [
       "    Months 2022-10 2022-11 2022-12 2023-01\n",
       "0  2023-01    10.0    12.0    12.0    13.0\n",
       "1  2022-12     2.0    14.0    14.0     NaN\n",
       "2  2022-11    11.0    11.0     NaN     NaN\n",
       "3  2022-10    12.0     NaN     NaN     NaN"
      ]
     },
     "execution_count": 177,
     "metadata": {},
     "output_type": "execute_result"
    }
   ],
   "source": [
    "df.bfill(1)"
   ]
  },
  {
   "cell_type": "code",
   "execution_count": null,
   "id": "24dc5b38",
   "metadata": {},
   "outputs": [],
   "source": []
  },
  {
   "cell_type": "code",
   "execution_count": null,
   "id": "20afc196",
   "metadata": {},
   "outputs": [],
   "source": []
  },
  {
   "cell_type": "code",
   "execution_count": 178,
   "id": "658765ee",
   "metadata": {},
   "outputs": [
    {
     "ename": "ParserError",
     "evalue": "Expected 1 fields in line 5, saw 8. Error could possibly be due to quotes being ignored when a multi-char delimiter is used.",
     "output_type": "error",
     "traceback": [
      "\u001b[0;31m---------------------------------------------------------------------------\u001b[0m",
      "\u001b[0;31mParserError\u001b[0m                               Traceback (most recent call last)",
      "Input \u001b[0;32mIn [178]\u001b[0m, in \u001b[0;36m<module>\u001b[0;34m\u001b[0m\n\u001b[0;32m----> 1\u001b[0m df \u001b[38;5;241m=\u001b[39m \u001b[43mpd\u001b[49m\u001b[38;5;241;43m.\u001b[39;49m\u001b[43mread_clipboard\u001b[49m\u001b[43m(\u001b[49m\u001b[43m)\u001b[49m\n\u001b[1;32m      2\u001b[0m df\n",
      "File \u001b[0;32m/opt/homebrew/Caskroom/miniforge/base/lib/python3.9/site-packages/pandas/io/clipboards.py:83\u001b[0m, in \u001b[0;36mread_clipboard\u001b[0;34m(sep, **kwargs)\u001b[0m\n\u001b[1;32m     78\u001b[0m \u001b[38;5;28;01melif\u001b[39;00m \u001b[38;5;28mlen\u001b[39m(sep) \u001b[38;5;241m>\u001b[39m \u001b[38;5;241m1\u001b[39m \u001b[38;5;129;01mand\u001b[39;00m kwargs\u001b[38;5;241m.\u001b[39mget(\u001b[38;5;124m\"\u001b[39m\u001b[38;5;124mengine\u001b[39m\u001b[38;5;124m\"\u001b[39m) \u001b[38;5;241m==\u001b[39m \u001b[38;5;124m\"\u001b[39m\u001b[38;5;124mc\u001b[39m\u001b[38;5;124m\"\u001b[39m:\n\u001b[1;32m     79\u001b[0m     warnings\u001b[38;5;241m.\u001b[39mwarn(\n\u001b[1;32m     80\u001b[0m         \u001b[38;5;124m\"\u001b[39m\u001b[38;5;124mread_clipboard with regex separator does not work properly with c engine\u001b[39m\u001b[38;5;124m\"\u001b[39m\n\u001b[1;32m     81\u001b[0m     )\n\u001b[0;32m---> 83\u001b[0m \u001b[38;5;28;01mreturn\u001b[39;00m \u001b[43mread_csv\u001b[49m\u001b[43m(\u001b[49m\u001b[43mStringIO\u001b[49m\u001b[43m(\u001b[49m\u001b[43mtext\u001b[49m\u001b[43m)\u001b[49m\u001b[43m,\u001b[49m\u001b[43m \u001b[49m\u001b[43msep\u001b[49m\u001b[38;5;241;43m=\u001b[39;49m\u001b[43msep\u001b[49m\u001b[43m,\u001b[49m\u001b[43m \u001b[49m\u001b[38;5;241;43m*\u001b[39;49m\u001b[38;5;241;43m*\u001b[39;49m\u001b[43mkwargs\u001b[49m\u001b[43m)\u001b[49m\n",
      "File \u001b[0;32m/opt/homebrew/Caskroom/miniforge/base/lib/python3.9/site-packages/pandas/util/_decorators.py:311\u001b[0m, in \u001b[0;36mdeprecate_nonkeyword_arguments.<locals>.decorate.<locals>.wrapper\u001b[0;34m(*args, **kwargs)\u001b[0m\n\u001b[1;32m    305\u001b[0m \u001b[38;5;28;01mif\u001b[39;00m \u001b[38;5;28mlen\u001b[39m(args) \u001b[38;5;241m>\u001b[39m num_allow_args:\n\u001b[1;32m    306\u001b[0m     warnings\u001b[38;5;241m.\u001b[39mwarn(\n\u001b[1;32m    307\u001b[0m         msg\u001b[38;5;241m.\u001b[39mformat(arguments\u001b[38;5;241m=\u001b[39marguments),\n\u001b[1;32m    308\u001b[0m         \u001b[38;5;167;01mFutureWarning\u001b[39;00m,\n\u001b[1;32m    309\u001b[0m         stacklevel\u001b[38;5;241m=\u001b[39mstacklevel,\n\u001b[1;32m    310\u001b[0m     )\n\u001b[0;32m--> 311\u001b[0m \u001b[38;5;28;01mreturn\u001b[39;00m \u001b[43mfunc\u001b[49m\u001b[43m(\u001b[49m\u001b[38;5;241;43m*\u001b[39;49m\u001b[43margs\u001b[49m\u001b[43m,\u001b[49m\u001b[43m \u001b[49m\u001b[38;5;241;43m*\u001b[39;49m\u001b[38;5;241;43m*\u001b[39;49m\u001b[43mkwargs\u001b[49m\u001b[43m)\u001b[49m\n",
      "File \u001b[0;32m/opt/homebrew/Caskroom/miniforge/base/lib/python3.9/site-packages/pandas/io/parsers/readers.py:586\u001b[0m, in \u001b[0;36mread_csv\u001b[0;34m(filepath_or_buffer, sep, delimiter, header, names, index_col, usecols, squeeze, prefix, mangle_dupe_cols, dtype, engine, converters, true_values, false_values, skipinitialspace, skiprows, skipfooter, nrows, na_values, keep_default_na, na_filter, verbose, skip_blank_lines, parse_dates, infer_datetime_format, keep_date_col, date_parser, dayfirst, cache_dates, iterator, chunksize, compression, thousands, decimal, lineterminator, quotechar, quoting, doublequote, escapechar, comment, encoding, encoding_errors, dialect, error_bad_lines, warn_bad_lines, on_bad_lines, delim_whitespace, low_memory, memory_map, float_precision, storage_options)\u001b[0m\n\u001b[1;32m    571\u001b[0m kwds_defaults \u001b[38;5;241m=\u001b[39m _refine_defaults_read(\n\u001b[1;32m    572\u001b[0m     dialect,\n\u001b[1;32m    573\u001b[0m     delimiter,\n\u001b[0;32m   (...)\u001b[0m\n\u001b[1;32m    582\u001b[0m     defaults\u001b[38;5;241m=\u001b[39m{\u001b[38;5;124m\"\u001b[39m\u001b[38;5;124mdelimiter\u001b[39m\u001b[38;5;124m\"\u001b[39m: \u001b[38;5;124m\"\u001b[39m\u001b[38;5;124m,\u001b[39m\u001b[38;5;124m\"\u001b[39m},\n\u001b[1;32m    583\u001b[0m )\n\u001b[1;32m    584\u001b[0m kwds\u001b[38;5;241m.\u001b[39mupdate(kwds_defaults)\n\u001b[0;32m--> 586\u001b[0m \u001b[38;5;28;01mreturn\u001b[39;00m \u001b[43m_read\u001b[49m\u001b[43m(\u001b[49m\u001b[43mfilepath_or_buffer\u001b[49m\u001b[43m,\u001b[49m\u001b[43m \u001b[49m\u001b[43mkwds\u001b[49m\u001b[43m)\u001b[49m\n",
      "File \u001b[0;32m/opt/homebrew/Caskroom/miniforge/base/lib/python3.9/site-packages/pandas/io/parsers/readers.py:488\u001b[0m, in \u001b[0;36m_read\u001b[0;34m(filepath_or_buffer, kwds)\u001b[0m\n\u001b[1;32m    485\u001b[0m     \u001b[38;5;28;01mreturn\u001b[39;00m parser\n\u001b[1;32m    487\u001b[0m \u001b[38;5;28;01mwith\u001b[39;00m parser:\n\u001b[0;32m--> 488\u001b[0m     \u001b[38;5;28;01mreturn\u001b[39;00m \u001b[43mparser\u001b[49m\u001b[38;5;241;43m.\u001b[39;49m\u001b[43mread\u001b[49m\u001b[43m(\u001b[49m\u001b[43mnrows\u001b[49m\u001b[43m)\u001b[49m\n",
      "File \u001b[0;32m/opt/homebrew/Caskroom/miniforge/base/lib/python3.9/site-packages/pandas/io/parsers/readers.py:1047\u001b[0m, in \u001b[0;36mTextFileReader.read\u001b[0;34m(self, nrows)\u001b[0m\n\u001b[1;32m   1045\u001b[0m \u001b[38;5;28;01mdef\u001b[39;00m \u001b[38;5;21mread\u001b[39m(\u001b[38;5;28mself\u001b[39m, nrows\u001b[38;5;241m=\u001b[39m\u001b[38;5;28;01mNone\u001b[39;00m):\n\u001b[1;32m   1046\u001b[0m     nrows \u001b[38;5;241m=\u001b[39m validate_integer(\u001b[38;5;124m\"\u001b[39m\u001b[38;5;124mnrows\u001b[39m\u001b[38;5;124m\"\u001b[39m, nrows)\n\u001b[0;32m-> 1047\u001b[0m     index, columns, col_dict \u001b[38;5;241m=\u001b[39m \u001b[38;5;28;43mself\u001b[39;49m\u001b[38;5;241;43m.\u001b[39;49m\u001b[43m_engine\u001b[49m\u001b[38;5;241;43m.\u001b[39;49m\u001b[43mread\u001b[49m\u001b[43m(\u001b[49m\u001b[43mnrows\u001b[49m\u001b[43m)\u001b[49m\n\u001b[1;32m   1049\u001b[0m     \u001b[38;5;28;01mif\u001b[39;00m index \u001b[38;5;129;01mis\u001b[39;00m \u001b[38;5;28;01mNone\u001b[39;00m:\n\u001b[1;32m   1050\u001b[0m         \u001b[38;5;28;01mif\u001b[39;00m col_dict:\n\u001b[1;32m   1051\u001b[0m             \u001b[38;5;66;03m# Any column is actually fine:\u001b[39;00m\n",
      "File \u001b[0;32m/opt/homebrew/Caskroom/miniforge/base/lib/python3.9/site-packages/pandas/io/parsers/python_parser.py:278\u001b[0m, in \u001b[0;36mPythonParser.read\u001b[0;34m(self, rows)\u001b[0m\n\u001b[1;32m    275\u001b[0m     indexnamerow \u001b[38;5;241m=\u001b[39m content[\u001b[38;5;241m0\u001b[39m]\n\u001b[1;32m    276\u001b[0m     content \u001b[38;5;241m=\u001b[39m content[\u001b[38;5;241m1\u001b[39m:]\n\u001b[0;32m--> 278\u001b[0m alldata \u001b[38;5;241m=\u001b[39m \u001b[38;5;28;43mself\u001b[39;49m\u001b[38;5;241;43m.\u001b[39;49m\u001b[43m_rows_to_cols\u001b[49m\u001b[43m(\u001b[49m\u001b[43mcontent\u001b[49m\u001b[43m)\u001b[49m\n\u001b[1;32m    279\u001b[0m data, columns \u001b[38;5;241m=\u001b[39m \u001b[38;5;28mself\u001b[39m\u001b[38;5;241m.\u001b[39m_exclude_implicit_index(alldata)\n\u001b[1;32m    281\u001b[0m columns, data \u001b[38;5;241m=\u001b[39m \u001b[38;5;28mself\u001b[39m\u001b[38;5;241m.\u001b[39m_do_date_conversions(columns, data)\n",
      "File \u001b[0;32m/opt/homebrew/Caskroom/miniforge/base/lib/python3.9/site-packages/pandas/io/parsers/python_parser.py:981\u001b[0m, in \u001b[0;36mPythonParser._rows_to_cols\u001b[0;34m(self, content)\u001b[0m\n\u001b[1;32m    975\u001b[0m             reason \u001b[38;5;241m=\u001b[39m (\n\u001b[1;32m    976\u001b[0m                 \u001b[38;5;124m\"\u001b[39m\u001b[38;5;124mError could possibly be due to quotes being \u001b[39m\u001b[38;5;124m\"\u001b[39m\n\u001b[1;32m    977\u001b[0m                 \u001b[38;5;124m\"\u001b[39m\u001b[38;5;124mignored when a multi-char delimiter is used.\u001b[39m\u001b[38;5;124m\"\u001b[39m\n\u001b[1;32m    978\u001b[0m             )\n\u001b[1;32m    979\u001b[0m             msg \u001b[38;5;241m+\u001b[39m\u001b[38;5;241m=\u001b[39m \u001b[38;5;124m\"\u001b[39m\u001b[38;5;124m. \u001b[39m\u001b[38;5;124m\"\u001b[39m \u001b[38;5;241m+\u001b[39m reason\n\u001b[0;32m--> 981\u001b[0m         \u001b[38;5;28;43mself\u001b[39;49m\u001b[38;5;241;43m.\u001b[39;49m\u001b[43m_alert_malformed\u001b[49m\u001b[43m(\u001b[49m\u001b[43mmsg\u001b[49m\u001b[43m,\u001b[49m\u001b[43m \u001b[49m\u001b[43mrow_num\u001b[49m\u001b[43m \u001b[49m\u001b[38;5;241;43m+\u001b[39;49m\u001b[43m \u001b[49m\u001b[38;5;241;43m1\u001b[39;49m\u001b[43m)\u001b[49m\n\u001b[1;32m    983\u001b[0m \u001b[38;5;66;03m# see gh-13320\u001b[39;00m\n\u001b[1;32m    984\u001b[0m zipped_content \u001b[38;5;241m=\u001b[39m \u001b[38;5;28mlist\u001b[39m(lib\u001b[38;5;241m.\u001b[39mto_object_array(content, min_width\u001b[38;5;241m=\u001b[39mcol_len)\u001b[38;5;241m.\u001b[39mT)\n",
      "File \u001b[0;32m/opt/homebrew/Caskroom/miniforge/base/lib/python3.9/site-packages/pandas/io/parsers/python_parser.py:722\u001b[0m, in \u001b[0;36mPythonParser._alert_malformed\u001b[0;34m(self, msg, row_num)\u001b[0m\n\u001b[1;32m    707\u001b[0m \u001b[38;5;124;03m\"\"\"\u001b[39;00m\n\u001b[1;32m    708\u001b[0m \u001b[38;5;124;03mAlert a user about a malformed row, depending on value of\u001b[39;00m\n\u001b[1;32m    709\u001b[0m \u001b[38;5;124;03m`self.on_bad_lines` enum.\u001b[39;00m\n\u001b[0;32m   (...)\u001b[0m\n\u001b[1;32m    719\u001b[0m \u001b[38;5;124;03m          even though we 0-index internally.\u001b[39;00m\n\u001b[1;32m    720\u001b[0m \u001b[38;5;124;03m\"\"\"\u001b[39;00m\n\u001b[1;32m    721\u001b[0m \u001b[38;5;28;01mif\u001b[39;00m \u001b[38;5;28mself\u001b[39m\u001b[38;5;241m.\u001b[39mon_bad_lines \u001b[38;5;241m==\u001b[39m \u001b[38;5;28mself\u001b[39m\u001b[38;5;241m.\u001b[39mBadLineHandleMethod\u001b[38;5;241m.\u001b[39mERROR:\n\u001b[0;32m--> 722\u001b[0m     \u001b[38;5;28;01mraise\u001b[39;00m ParserError(msg)\n\u001b[1;32m    723\u001b[0m \u001b[38;5;28;01melif\u001b[39;00m \u001b[38;5;28mself\u001b[39m\u001b[38;5;241m.\u001b[39mon_bad_lines \u001b[38;5;241m==\u001b[39m \u001b[38;5;28mself\u001b[39m\u001b[38;5;241m.\u001b[39mBadLineHandleMethod\u001b[38;5;241m.\u001b[39mWARN:\n\u001b[1;32m    724\u001b[0m     base \u001b[38;5;241m=\u001b[39m \u001b[38;5;124mf\u001b[39m\u001b[38;5;124m\"\u001b[39m\u001b[38;5;124mSkipping line \u001b[39m\u001b[38;5;132;01m{\u001b[39;00mrow_num\u001b[38;5;132;01m}\u001b[39;00m\u001b[38;5;124m: \u001b[39m\u001b[38;5;124m\"\u001b[39m\n",
      "\u001b[0;31mParserError\u001b[0m: Expected 1 fields in line 5, saw 8. Error could possibly be due to quotes being ignored when a multi-char delimiter is used."
     ]
    }
   ],
   "source": [
    "df = pd.read_clipboard()\n",
    "df"
   ]
  },
  {
   "cell_type": "code",
   "execution_count": 220,
   "id": "2a167454",
   "metadata": {},
   "outputs": [
    {
     "data": {
      "text/plain": [
       "{'level_0': [1, 2, 3, 4, 5],\n",
       " 'level_1': ['Stem', 'Option1', 'Option2', 'Option3', 'Option4'],\n",
       " 'level_2': ['I', 'Yes', 'No', 'Maybe', 'ok'],\n",
       " 'options': ['am', None, None, None, None],\n",
       " 'text': ['good', None, None, None, None]}"
      ]
     },
     "execution_count": 220,
     "metadata": {},
     "output_type": "execute_result"
    }
   ],
   "source": [
    "df = pd.read_clipboard()\n",
    "df.reset_index().to_dict('list')"
   ]
  },
  {
   "cell_type": "code",
   "execution_count": null,
   "id": "4f10bb2e",
   "metadata": {},
   "outputs": [],
   "source": []
  },
  {
   "cell_type": "code",
   "execution_count": null,
   "id": "fc2f186d",
   "metadata": {},
   "outputs": [],
   "source": []
  },
  {
   "cell_type": "code",
   "execution_count": null,
   "id": "988c3960",
   "metadata": {},
   "outputs": [],
   "source": []
  },
  {
   "cell_type": "code",
   "execution_count": null,
   "id": "9966d297",
   "metadata": {},
   "outputs": [],
   "source": []
  },
  {
   "cell_type": "code",
   "execution_count": null,
   "id": "b0b8b880",
   "metadata": {},
   "outputs": [],
   "source": []
  },
  {
   "cell_type": "code",
   "execution_count": 238,
   "id": "1b984888",
   "metadata": {},
   "outputs": [
    {
     "name": "stdout",
     "output_type": "stream",
     "text": [
      "   Stems           All_4_options_Appended\n",
      "0  Stem1  [I am good, Yes, No, Maybe, ok]\n",
      "1  Stem2     [Not great, No, No, Yes, No]\n"
     ]
    }
   ],
   "source": [
    "d = {\n",
    "  'options': ['Stem', 'Option1', 'Option2', 'Option3', 'Option4', 'Stem', 'Option1', 'Option2', 'Option3', 'Option4' ],\n",
    "  'text': ['I am good', 'Yes', 'No', 'Maybe', 'ok', 'Not great', 'No', 'No', 'Yes', 'No',]\n",
    " }\n",
    "df = pd.DataFrame(d)\n",
    "\n",
    "\n",
    "s = 'Stem'\n",
    "g = df['options'].eq(s).cumsum()\n",
    "o = df.groupby(g)['text'].apply(list)\n",
    "o = o.reset_index()\n",
    "o['options'] = s + o['options'].astype(str)\n",
    "o.columns = ['Stems','All_4_options_Appended']\n",
    "print(o)"
   ]
  },
  {
   "cell_type": "code",
   "execution_count": 226,
   "id": "e3eea4f6",
   "metadata": {},
   "outputs": [
    {
     "data": {
      "text/html": [
       "<div>\n",
       "<style scoped>\n",
       "    .dataframe tbody tr th:only-of-type {\n",
       "        vertical-align: middle;\n",
       "    }\n",
       "\n",
       "    .dataframe tbody tr th {\n",
       "        vertical-align: top;\n",
       "    }\n",
       "\n",
       "    .dataframe thead th {\n",
       "        text-align: right;\n",
       "    }\n",
       "</style>\n",
       "<table border=\"1\" class=\"dataframe\">\n",
       "  <thead>\n",
       "    <tr style=\"text-align: right;\">\n",
       "      <th></th>\n",
       "      <th>options</th>\n",
       "      <th>text</th>\n",
       "    </tr>\n",
       "  </thead>\n",
       "  <tbody>\n",
       "    <tr>\n",
       "      <th>0</th>\n",
       "      <td>Stem</td>\n",
       "      <td>It's the beginning of the quarter, and you're</td>\n",
       "    </tr>\n",
       "    <tr>\n",
       "      <th>1</th>\n",
       "      <td>option1</td>\n",
       "      <td>Describe the most expensive option first, and</td>\n",
       "    </tr>\n",
       "    <tr>\n",
       "      <th>2</th>\n",
       "      <td>option2</td>\n",
       "      <td>Describe the least expensive option first</td>\n",
       "    </tr>\n",
       "    <tr>\n",
       "      <th>3</th>\n",
       "      <td>option3</td>\n",
       "      <td>Describe the mid-range option first, and then</td>\n",
       "    </tr>\n",
       "    <tr>\n",
       "      <th>4</th>\n",
       "      <td>option4</td>\n",
       "      <td>Ask your manager which option he is most inter</td>\n",
       "    </tr>\n",
       "    <tr>\n",
       "      <th>5</th>\n",
       "      <td>Stem</td>\n",
       "      <td>It's the beginning of the quarter, and you're</td>\n",
       "    </tr>\n",
       "    <tr>\n",
       "      <th>6</th>\n",
       "      <td>option1</td>\n",
       "      <td>Describe the most expensive option first, and</td>\n",
       "    </tr>\n",
       "    <tr>\n",
       "      <th>7</th>\n",
       "      <td>option2</td>\n",
       "      <td>Describe the least expensive option first</td>\n",
       "    </tr>\n",
       "    <tr>\n",
       "      <th>8</th>\n",
       "      <td>option3</td>\n",
       "      <td>Describe the mid-range option first, and then</td>\n",
       "    </tr>\n",
       "    <tr>\n",
       "      <th>9</th>\n",
       "      <td>option4</td>\n",
       "      <td>Ask your boss which option he is most interes</td>\n",
       "    </tr>\n",
       "  </tbody>\n",
       "</table>\n",
       "</div>"
      ],
      "text/plain": [
       "   options                                            text\n",
       "0     Stem   It's the beginning of the quarter, and you're\n",
       "1  option1   Describe the most expensive option first, and\n",
       "2  option2       Describe the least expensive option first\n",
       "3  option3   Describe the mid-range option first, and then\n",
       "4  option4  Ask your manager which option he is most inter\n",
       "5     Stem   It's the beginning of the quarter, and you're\n",
       "6  option1   Describe the most expensive option first, and\n",
       "7  option2       Describe the least expensive option first\n",
       "8  option3   Describe the mid-range option first, and then\n",
       "9  option4   Ask your boss which option he is most interes"
      ]
     },
     "execution_count": 226,
     "metadata": {},
     "output_type": "execute_result"
    }
   ],
   "source": [
    "d = {\"options\":['Stem','option1','option2','option3','option4','Stem','option1','option2','option3','option4'],\n",
    "     'text':[\"It's the beginning of the quarter, and you're\",\n",
    "            \"Describe the most expensive option first, and\",\n",
    "            \"Describe the least expensive option first\",\n",
    "            \"Describe the mid-range option first, and then\",\n",
    "            \"Ask your manager which option he is most inter\",\n",
    "            \"It's the beginning of the quarter, and you're\",\n",
    "            \"Describe the most expensive option first, and\",\n",
    "            \"Describe the least expensive option first\",\n",
    "            \"Describe the mid-range option first, and then\",\n",
    "            \"Ask your boss which option he is most interes\"]}\n",
    "df = pd.DataFrame(d)\n",
    "df"
   ]
  },
  {
   "cell_type": "code",
   "execution_count": 227,
   "id": "bfb1f998",
   "metadata": {},
   "outputs": [
    {
     "data": {
      "text/html": [
       "<div>\n",
       "<style scoped>\n",
       "    .dataframe tbody tr th:only-of-type {\n",
       "        vertical-align: middle;\n",
       "    }\n",
       "\n",
       "    .dataframe tbody tr th {\n",
       "        vertical-align: top;\n",
       "    }\n",
       "\n",
       "    .dataframe thead th {\n",
       "        text-align: right;\n",
       "    }\n",
       "</style>\n",
       "<table border=\"1\" class=\"dataframe\">\n",
       "  <thead>\n",
       "    <tr style=\"text-align: right;\">\n",
       "      <th></th>\n",
       "      <th>options</th>\n",
       "      <th>text</th>\n",
       "    </tr>\n",
       "  </thead>\n",
       "  <tbody>\n",
       "    <tr>\n",
       "      <th>0</th>\n",
       "      <td>Stem</td>\n",
       "      <td>It's the beginning of the quarter, and you're</td>\n",
       "    </tr>\n",
       "    <tr>\n",
       "      <th>1</th>\n",
       "      <td>option1</td>\n",
       "      <td>Describe the most expensive option first, and</td>\n",
       "    </tr>\n",
       "    <tr>\n",
       "      <th>2</th>\n",
       "      <td>option2</td>\n",
       "      <td>Describe the least expensive option first</td>\n",
       "    </tr>\n",
       "    <tr>\n",
       "      <th>3</th>\n",
       "      <td>option3</td>\n",
       "      <td>Describe the mid-range option first, and then</td>\n",
       "    </tr>\n",
       "    <tr>\n",
       "      <th>4</th>\n",
       "      <td>option4</td>\n",
       "      <td>Ask your manager which option he is most inter</td>\n",
       "    </tr>\n",
       "    <tr>\n",
       "      <th>...</th>\n",
       "      <td>...</td>\n",
       "      <td>...</td>\n",
       "    </tr>\n",
       "    <tr>\n",
       "      <th>5</th>\n",
       "      <td>Stem</td>\n",
       "      <td>It's the beginning of the quarter, and you're</td>\n",
       "    </tr>\n",
       "    <tr>\n",
       "      <th>6</th>\n",
       "      <td>option1</td>\n",
       "      <td>Describe the most expensive option first, and</td>\n",
       "    </tr>\n",
       "    <tr>\n",
       "      <th>7</th>\n",
       "      <td>option2</td>\n",
       "      <td>Describe the least expensive option first</td>\n",
       "    </tr>\n",
       "    <tr>\n",
       "      <th>8</th>\n",
       "      <td>option3</td>\n",
       "      <td>Describe the mid-range option first, and then</td>\n",
       "    </tr>\n",
       "    <tr>\n",
       "      <th>9</th>\n",
       "      <td>option4</td>\n",
       "      <td>Ask your boss which option he is most interes</td>\n",
       "    </tr>\n",
       "  </tbody>\n",
       "</table>\n",
       "<p>50000 rows × 2 columns</p>\n",
       "</div>"
      ],
      "text/plain": [
       "    options                                            text\n",
       "0      Stem   It's the beginning of the quarter, and you're\n",
       "1   option1   Describe the most expensive option first, and\n",
       "2   option2       Describe the least expensive option first\n",
       "3   option3   Describe the mid-range option first, and then\n",
       "4   option4  Ask your manager which option he is most inter\n",
       "..      ...                                             ...\n",
       "5      Stem   It's the beginning of the quarter, and you're\n",
       "6   option1   Describe the most expensive option first, and\n",
       "7   option2       Describe the least expensive option first\n",
       "8   option3   Describe the mid-range option first, and then\n",
       "9   option4   Ask your boss which option he is most interes\n",
       "\n",
       "[50000 rows x 2 columns]"
      ]
     },
     "execution_count": 227,
     "metadata": {},
     "output_type": "execute_result"
    }
   ],
   "source": []
  },
  {
   "cell_type": "code",
   "execution_count": null,
   "id": "c1abf282",
   "metadata": {},
   "outputs": [],
   "source": []
  },
  {
   "cell_type": "code",
   "execution_count": null,
   "id": "36cc0ac4",
   "metadata": {},
   "outputs": [],
   "source": []
  },
  {
   "cell_type": "code",
   "execution_count": null,
   "id": "d5ff4bcd",
   "metadata": {},
   "outputs": [],
   "source": []
  },
  {
   "cell_type": "code",
   "execution_count": null,
   "id": "bb853407",
   "metadata": {},
   "outputs": [],
   "source": []
  },
  {
   "cell_type": "code",
   "execution_count": null,
   "id": "de3ae6d5",
   "metadata": {},
   "outputs": [],
   "source": []
  },
  {
   "cell_type": "code",
   "execution_count": 229,
   "id": "5fc4640c",
   "metadata": {},
   "outputs": [],
   "source": [
    "df_large = pd.concat([df]*5000)"
   ]
  },
  {
   "cell_type": "code",
   "execution_count": 235,
   "id": "3685f526",
   "metadata": {},
   "outputs": [
    {
     "data": {
      "text/html": [
       "<div>\n",
       "<style scoped>\n",
       "    .dataframe tbody tr th:only-of-type {\n",
       "        vertical-align: middle;\n",
       "    }\n",
       "\n",
       "    .dataframe tbody tr th {\n",
       "        vertical-align: top;\n",
       "    }\n",
       "\n",
       "    .dataframe thead th {\n",
       "        text-align: right;\n",
       "    }\n",
       "</style>\n",
       "<table border=\"1\" class=\"dataframe\">\n",
       "  <thead>\n",
       "    <tr style=\"text-align: right;\">\n",
       "      <th></th>\n",
       "      <th>Stems</th>\n",
       "      <th>All_4_options_Appended</th>\n",
       "    </tr>\n",
       "  </thead>\n",
       "  <tbody>\n",
       "    <tr>\n",
       "      <th>0</th>\n",
       "      <td>Stem1</td>\n",
       "      <td>[It's the beginning of the quarter, and you're...</td>\n",
       "    </tr>\n",
       "    <tr>\n",
       "      <th>1</th>\n",
       "      <td>Stem2</td>\n",
       "      <td>[It's the beginning of the quarter, and you're...</td>\n",
       "    </tr>\n",
       "  </tbody>\n",
       "</table>\n",
       "</div>"
      ],
      "text/plain": [
       "   Stems                             All_4_options_Appended\n",
       "0  Stem1  [It's the beginning of the quarter, and you're...\n",
       "1  Stem2  [It's the beginning of the quarter, and you're..."
      ]
     },
     "execution_count": 235,
     "metadata": {},
     "output_type": "execute_result"
    }
   ],
   "source": [
    "s = 'Stem'\n",
    "g = df['options'].eq(s).cumsum()\n",
    "o = df.groupby(g)['text'].apply(list)\n",
    "o = o.reset_index()\n",
    "o['options'] = s + o['options'].astype(str)\n",
    "o.columns = ['Stems','All_4_options_Appended']\n",
    "o"
   ]
  },
  {
   "cell_type": "code",
   "execution_count": 233,
   "id": "63ea3be0",
   "metadata": {},
   "outputs": [
    {
     "name": "stdout",
     "output_type": "stream",
     "text": [
      "80.6 ms ± 380 µs per loop (mean ± std. dev. of 7 runs, 10 loops each)\n"
     ]
    }
   ],
   "source": [
    "%%timeit\n",
    "\n",
    "m = df_large['options'].eq('Stem')\n",
    "\n",
    "out = (df_large.groupby(m.cumsum().astype(str).radd('Stem'))\n",
    "         .agg(All_4_Options_Appended=('text', ';'.join))\n",
    "         .rename_axis('Stems').reset_index()\n",
    "       )\n",
    "\n",
    "out"
   ]
  },
  {
   "cell_type": "code",
   "execution_count": null,
   "id": "04552e18",
   "metadata": {},
   "outputs": [],
   "source": []
  },
  {
   "cell_type": "code",
   "execution_count": null,
   "id": "bffa17b0",
   "metadata": {},
   "outputs": [],
   "source": []
  },
  {
   "cell_type": "code",
   "execution_count": null,
   "id": "0ea0bfb2",
   "metadata": {},
   "outputs": [],
   "source": []
  },
  {
   "cell_type": "code",
   "execution_count": null,
   "id": "e827faa9",
   "metadata": {},
   "outputs": [],
   "source": []
  },
  {
   "cell_type": "code",
   "execution_count": 242,
   "id": "15fcaedf",
   "metadata": {},
   "outputs": [
    {
     "data": {
      "text/plain": [
       "{'index': [], '[100,': []}"
      ]
     },
     "execution_count": 242,
     "metadata": {},
     "output_type": "execute_result"
    }
   ],
   "source": [
    "df = pd.read_clipboard()\n",
    "df.reset_index().to_dict('list')"
   ]
  },
  {
   "cell_type": "code",
   "execution_count": null,
   "id": "a5a024ab",
   "metadata": {},
   "outputs": [],
   "source": [
    "{'level_0': {0: 0, 1: 1, 2: 2, 3: 3},\n",
    " 'level_1': {0: '[100,', 1: '[100,', 2: '[300,', 3: '[100,'},\n",
    " 'level_2': {0: '200,', 1: '200,', 2: '500]', 3: '100]'},\n",
    " 'column_of_lists': {0: '[100,200,300]', 1: [100,300,'200]', 2: '300', 3: '200'},\n",
    " 'scalar_col': {0: 100.0, 1: 200.0, 2: nan, 3: nan}}"
   ]
  },
  {
   "cell_type": "code",
   "execution_count": null,
   "id": "9dcaf86c",
   "metadata": {},
   "outputs": [],
   "source": []
  },
  {
   "cell_type": "code",
   "execution_count": null,
   "id": "fcc47d47",
   "metadata": {},
   "outputs": [],
   "source": [
    "    column_of_lists   scalar_col\n",
    "0   [100, 200, 300]       100\n",
    "1   [100, 200, 200]       200\n",
    "2   [300, 500]            300\n",
    "3   [100, 100]            200"
   ]
  },
  {
   "cell_type": "code",
   "execution_count": 245,
   "id": "715cb8a4",
   "metadata": {},
   "outputs": [
    {
     "data": {
      "text/html": [
       "<div>\n",
       "<style scoped>\n",
       "    .dataframe tbody tr th:only-of-type {\n",
       "        vertical-align: middle;\n",
       "    }\n",
       "\n",
       "    .dataframe tbody tr th {\n",
       "        vertical-align: top;\n",
       "    }\n",
       "\n",
       "    .dataframe thead th {\n",
       "        text-align: right;\n",
       "    }\n",
       "</style>\n",
       "<table border=\"1\" class=\"dataframe\">\n",
       "  <thead>\n",
       "    <tr style=\"text-align: right;\">\n",
       "      <th></th>\n",
       "      <th>column_of_lists</th>\n",
       "      <th>scalar_col</th>\n",
       "    </tr>\n",
       "  </thead>\n",
       "  <tbody>\n",
       "    <tr>\n",
       "      <th>0</th>\n",
       "      <td>[100, 200, 300]</td>\n",
       "      <td>100</td>\n",
       "    </tr>\n",
       "    <tr>\n",
       "      <th>1</th>\n",
       "      <td>[100, 200, 200]</td>\n",
       "      <td>200</td>\n",
       "    </tr>\n",
       "    <tr>\n",
       "      <th>2</th>\n",
       "      <td>[300, 500]</td>\n",
       "      <td>300</td>\n",
       "    </tr>\n",
       "    <tr>\n",
       "      <th>3</th>\n",
       "      <td>[100, 100]</td>\n",
       "      <td>200</td>\n",
       "    </tr>\n",
       "  </tbody>\n",
       "</table>\n",
       "</div>"
      ],
      "text/plain": [
       "   column_of_lists  scalar_col\n",
       "0  [100, 200, 300]         100\n",
       "1  [100, 200, 200]         200\n",
       "2       [300, 500]         300\n",
       "3       [100, 100]         200"
      ]
     },
     "execution_count": 245,
     "metadata": {},
     "output_type": "execute_result"
    }
   ],
   "source": [
    "d = {'column_of_lists':[[100, 200, 300],\n",
    "                        [100, 200, 200],\n",
    "                        [300, 500],\n",
    "                        [100, 100]],\n",
    "     'scalar_col':[100,200,300,200]}\n",
    "df = pd.DataFrame(d)\n",
    "df"
   ]
  },
  {
   "cell_type": "code",
   "execution_count": 247,
   "id": "d05d5305",
   "metadata": {},
   "outputs": [],
   "source": [
    "from collections import Counter"
   ]
  },
  {
   "cell_type": "code",
   "execution_count": 274,
   "id": "4b7500a8",
   "metadata": {},
   "outputs": [],
   "source": [
    "df = pd.concat([df] * 10000, ignore_index=True)"
   ]
  },
  {
   "cell_type": "code",
   "execution_count": 275,
   "id": "7431cedf",
   "metadata": {},
   "outputs": [
    {
     "name": "stdout",
     "output_type": "stream",
     "text": [
      "294 ms ± 5.53 ms per loop (mean ± std. dev. of 7 runs, 1 loop each)\n",
      "14.9 ms ± 96.1 µs per loop (mean ± std. dev. of 7 runs, 100 loops each)\n",
      "1.04 s ± 5.87 ms per loop (mean ± std. dev. of 7 runs, 1 loop each)\n"
     ]
    }
   ],
   "source": [
    "%timeit df[\"new1\"] = df.apply(lambda x: x[\"column_of_lists\"].count(x[\"scalar_col\"]), axis=1)\n",
    "\n",
    "%timeit df['new2'] = [x.count(y) for x,y in zip(df['column_of_lists'], df['scalar_col'])]\n",
    "\n",
    "%timeit df['new3'] = [Counter(j['column_of_lists']).get(j['scalar_col'],0) for i,j in df.iterrows()]"
   ]
  },
  {
   "cell_type": "code",
   "execution_count": null,
   "id": "f83fcb14",
   "metadata": {},
   "outputs": [],
   "source": [
    "perfplot.show()"
   ]
  },
  {
   "cell_type": "code",
   "execution_count": 281,
   "id": "85a9d41b",
   "metadata": {},
   "outputs": [],
   "source": [
    "import perfplot"
   ]
  },
  {
   "cell_type": "code",
   "execution_count": 285,
   "id": "4af88b57",
   "metadata": {},
   "outputs": [
    {
     "data": {
      "text/plain": [
       "[0, 100, 200, 300, 400, 500, 600, 700, 800, 900, 1000]"
      ]
     },
     "execution_count": 285,
     "metadata": {},
     "output_type": "execute_result"
    }
   ],
   "source": []
  },
  {
   "cell_type": "code",
   "execution_count": null,
   "id": "2a249601",
   "metadata": {},
   "outputs": [],
   "source": []
  },
  {
   "cell_type": "code",
   "execution_count": null,
   "id": "29b25f5a",
   "metadata": {},
   "outputs": [],
   "source": []
  },
  {
   "cell_type": "code",
   "execution_count": 286,
   "id": "26d8eef5",
   "metadata": {},
   "outputs": [
    {
     "data": {
      "text/plain": [
       "0        1\n",
       "1        2\n",
       "2        1\n",
       "3        0\n",
       "4        1\n",
       "        ..\n",
       "39995    0\n",
       "39996    1\n",
       "39997    2\n",
       "39998    1\n",
       "39999    0\n",
       "Length: 40000, dtype: int64"
      ]
     },
     "execution_count": 286,
     "metadata": {},
     "output_type": "execute_result"
    }
   ],
   "source": [
    "apply_count = lambda df: df.apply(lambda x: x[\"column_of_lists\"].count(x[\"scalar_col\"]), axis=1)\n",
    "apply_count(df)"
   ]
  },
  {
   "cell_type": "code",
   "execution_count": 296,
   "id": "d800bfd0",
   "metadata": {},
   "outputs": [
    {
     "data": {
      "text/html": [
       "<div>\n",
       "<style scoped>\n",
       "    .dataframe tbody tr th:only-of-type {\n",
       "        vertical-align: middle;\n",
       "    }\n",
       "\n",
       "    .dataframe tbody tr th {\n",
       "        vertical-align: top;\n",
       "    }\n",
       "\n",
       "    .dataframe thead th {\n",
       "        text-align: right;\n",
       "    }\n",
       "</style>\n",
       "<table border=\"1\" class=\"dataframe\">\n",
       "  <thead>\n",
       "    <tr style=\"text-align: right;\">\n",
       "      <th></th>\n",
       "      <th>column_of_lists</th>\n",
       "      <th>scalar_col</th>\n",
       "    </tr>\n",
       "  </thead>\n",
       "  <tbody>\n",
       "    <tr>\n",
       "      <th>0</th>\n",
       "      <td>[100, 200, 300]</td>\n",
       "      <td>100</td>\n",
       "    </tr>\n",
       "    <tr>\n",
       "      <th>1</th>\n",
       "      <td>[100, 200, 200]</td>\n",
       "      <td>200</td>\n",
       "    </tr>\n",
       "    <tr>\n",
       "      <th>2</th>\n",
       "      <td>[300, 500]</td>\n",
       "      <td>300</td>\n",
       "    </tr>\n",
       "    <tr>\n",
       "      <th>3</th>\n",
       "      <td>[100, 100]</td>\n",
       "      <td>200</td>\n",
       "    </tr>\n",
       "    <tr>\n",
       "      <th>4</th>\n",
       "      <td>[100, 200, 300]</td>\n",
       "      <td>100</td>\n",
       "    </tr>\n",
       "    <tr>\n",
       "      <th>5</th>\n",
       "      <td>[100, 200, 200]</td>\n",
       "      <td>200</td>\n",
       "    </tr>\n",
       "    <tr>\n",
       "      <th>6</th>\n",
       "      <td>[300, 500]</td>\n",
       "      <td>300</td>\n",
       "    </tr>\n",
       "    <tr>\n",
       "      <th>7</th>\n",
       "      <td>[100, 100]</td>\n",
       "      <td>200</td>\n",
       "    </tr>\n",
       "  </tbody>\n",
       "</table>\n",
       "</div>"
      ],
      "text/plain": [
       "   column_of_lists  scalar_col\n",
       "0  [100, 200, 300]         100\n",
       "1  [100, 200, 200]         200\n",
       "2       [300, 500]         300\n",
       "3       [100, 100]         200\n",
       "4  [100, 200, 300]         100\n",
       "5  [100, 200, 200]         200\n",
       "6       [300, 500]         300\n",
       "7       [100, 100]         200"
      ]
     },
     "execution_count": 296,
     "metadata": {},
     "output_type": "execute_result"
    }
   ],
   "source": [
    "d = lambda n: pd.concat([df]*n, ignore_index=True)\n",
    "d(2)"
   ]
  },
  {
   "cell_type": "code",
   "execution_count": null,
   "id": "83b65f6e",
   "metadata": {},
   "outputs": [],
   "source": []
  },
  {
   "cell_type": "code",
   "execution_count": 299,
   "id": "06dd3bb4",
   "metadata": {},
   "outputs": [
    {
     "data": {
      "application/vnd.jupyter.widget-view+json": {
       "model_id": "2eafca1eaa174fcebd8b749f0ac72463",
       "version_major": 2,
       "version_minor": 0
      },
      "text/plain": [
       "Output()"
      ]
     },
     "metadata": {},
     "output_type": "display_data"
    },
    {
     "data": {
      "text/html": [
       "<pre style=\"white-space:pre;overflow-x:auto;line-height:normal;font-family:Menlo,'DejaVu Sans Mono',consolas,'Courier New',monospace\"></pre>\n"
      ],
      "text/plain": []
     },
     "metadata": {},
     "output_type": "display_data"
    },
    {
     "data": {
      "text/html": [
       "<pre style=\"white-space:pre;overflow-x:auto;line-height:normal;font-family:Menlo,'DejaVu Sans Mono',consolas,'Courier New',monospace\">\n",
       "</pre>\n"
      ],
      "text/plain": [
       "\n"
      ]
     },
     "metadata": {},
     "output_type": "display_data"
    },
    {
     "data": {
      "image/png": "[encoded data removed]",
      "text/plain": [
       "<Figure size 432x288 with 1 Axes>"
      ]
     },
     "metadata": {
      "needs_background": "dark"
     },
     "output_type": "display_data"
    }
   ],
   "source": [
    "import pandas as pd\n",
    "import perfplot\n",
    "from collections import Counter\n",
    "\n",
    "####################################\n",
    "## DATA ##\n",
    "d = {'column_of_lists':[[100, 200, 300],\n",
    "                        [100, 200, 200],\n",
    "                        [300, 500],\n",
    "                        [100, 100]],\n",
    "     'scalar_col':[100,200,300,200]}\n",
    "df = pd.DataFrame(d)\n",
    "\n",
    "#####################################\n",
    "## METHODS ##\n",
    "\n",
    "apply_count = lambda df: df.apply(lambda x: x[\"column_of_lists\"].count(x[\"scalar_col\"]), axis=1)\n",
    "list_comp = lambda df: [x.count(y) for x,y in zip(df['column_of_lists'], df['scalar_col'])]\n",
    "counter_list = lambda df: [Counter(j['column_of_lists']).get(j['scalar_col'],0) for i,j in df.iterrows()]\n",
    "def explode_groupby(df):\n",
    "    x = df.explode('column_of_lists')\n",
    "    return x.column_of_lists.eq(x.scalar_col).groupby(x.index).sum()\n",
    "\n",
    "#####################################\n",
    "## BENCHMARKS ##\n",
    "\n",
    "perfplot.show(\n",
    "    setup = lambda n: pd.concat([df]*n, ignore_index=True),\n",
    "    kernels = [apply_count, list_comp, counter_list, explode_groupby],\n",
    "    labels = [\"apply_count\", \"list_comp\", \"counter_list\", \"explode_groupby\"],\n",
    "    n_range= [k*100 for k in range(1,5)],\n",
    "    xlabel=\"len(df)\"\n",
    ")"
   ]
  },
  {
   "cell_type": "code",
   "execution_count": null,
   "id": "ca471f0a",
   "metadata": {},
   "outputs": [],
   "source": []
  },
  {
   "cell_type": "code",
   "execution_count": null,
   "id": "58126a8c",
   "metadata": {},
   "outputs": [],
   "source": []
  },
  {
   "cell_type": "code",
   "execution_count": null,
   "id": "460e9e04",
   "metadata": {},
   "outputs": [],
   "source": []
  },
  {
   "cell_type": "code",
   "execution_count": null,
   "id": "db557e1c",
   "metadata": {},
   "outputs": [],
   "source": []
  },
  {
   "cell_type": "code",
   "execution_count": null,
   "id": "7628f6da",
   "metadata": {},
   "outputs": [],
   "source": []
  },
  {
   "cell_type": "code",
   "execution_count": null,
   "id": "7a63c6fc",
   "metadata": {},
   "outputs": [],
   "source": []
  },
  {
   "cell_type": "code",
   "execution_count": null,
   "id": "e3635e65",
   "metadata": {},
   "outputs": [],
   "source": []
  },
  {
   "cell_type": "code",
   "execution_count": null,
   "id": "b9f9b988",
   "metadata": {},
   "outputs": [],
   "source": []
  },
  {
   "cell_type": "code",
   "execution_count": null,
   "id": "c3133776",
   "metadata": {},
   "outputs": [],
   "source": []
  },
  {
   "cell_type": "code",
   "execution_count": 279,
   "id": "f00c6570",
   "metadata": {
    "scrolled": true
   },
   "outputs": [
    {
     "name": "stdout",
     "output_type": "stream",
     "text": [
      "26.9 ms ± 828 µs per loop (mean ± std. dev. of 7 runs, 10 loops each)\n"
     ]
    }
   ],
   "source": [
    "%%timeit\n",
    "\n",
    "x = df.explode('column_of_lists')\n",
    "df['new4'] = x.column_of_lists.eq(x.scalar_col).groupby(x.index).sum()"
   ]
  },
  {
   "cell_type": "code",
   "execution_count": 277,
   "id": "ea108e53",
   "metadata": {},
   "outputs": [
    {
     "data": {
      "text/html": [
       "<div>\n",
       "<style scoped>\n",
       "    .dataframe tbody tr th:only-of-type {\n",
       "        vertical-align: middle;\n",
       "    }\n",
       "\n",
       "    .dataframe tbody tr th {\n",
       "        vertical-align: top;\n",
       "    }\n",
       "\n",
       "    .dataframe thead th {\n",
       "        text-align: right;\n",
       "    }\n",
       "</style>\n",
       "<table border=\"1\" class=\"dataframe\">\n",
       "  <thead>\n",
       "    <tr style=\"text-align: right;\">\n",
       "      <th></th>\n",
       "      <th>column_of_lists</th>\n",
       "      <th>scalar_col</th>\n",
       "      <th>new3</th>\n",
       "      <th>new1</th>\n",
       "      <th>new2</th>\n",
       "      <th>counts</th>\n",
       "    </tr>\n",
       "  </thead>\n",
       "  <tbody>\n",
       "    <tr>\n",
       "      <th>0</th>\n",
       "      <td>[100, 200, 300]</td>\n",
       "      <td>100</td>\n",
       "      <td>1</td>\n",
       "      <td>1</td>\n",
       "      <td>1</td>\n",
       "      <td>1</td>\n",
       "    </tr>\n",
       "    <tr>\n",
       "      <th>1</th>\n",
       "      <td>[100, 200, 200]</td>\n",
       "      <td>200</td>\n",
       "      <td>2</td>\n",
       "      <td>2</td>\n",
       "      <td>2</td>\n",
       "      <td>2</td>\n",
       "    </tr>\n",
       "    <tr>\n",
       "      <th>2</th>\n",
       "      <td>[300, 500]</td>\n",
       "      <td>300</td>\n",
       "      <td>1</td>\n",
       "      <td>1</td>\n",
       "      <td>1</td>\n",
       "      <td>1</td>\n",
       "    </tr>\n",
       "    <tr>\n",
       "      <th>3</th>\n",
       "      <td>[100, 100]</td>\n",
       "      <td>200</td>\n",
       "      <td>0</td>\n",
       "      <td>0</td>\n",
       "      <td>0</td>\n",
       "      <td>0</td>\n",
       "    </tr>\n",
       "    <tr>\n",
       "      <th>4</th>\n",
       "      <td>[100, 200, 300]</td>\n",
       "      <td>100</td>\n",
       "      <td>1</td>\n",
       "      <td>1</td>\n",
       "      <td>1</td>\n",
       "      <td>1</td>\n",
       "    </tr>\n",
       "    <tr>\n",
       "      <th>...</th>\n",
       "      <td>...</td>\n",
       "      <td>...</td>\n",
       "      <td>...</td>\n",
       "      <td>...</td>\n",
       "      <td>...</td>\n",
       "      <td>...</td>\n",
       "    </tr>\n",
       "    <tr>\n",
       "      <th>39995</th>\n",
       "      <td>[100, 100]</td>\n",
       "      <td>200</td>\n",
       "      <td>0</td>\n",
       "      <td>0</td>\n",
       "      <td>0</td>\n",
       "      <td>0</td>\n",
       "    </tr>\n",
       "    <tr>\n",
       "      <th>39996</th>\n",
       "      <td>[100, 200, 300]</td>\n",
       "      <td>100</td>\n",
       "      <td>1</td>\n",
       "      <td>1</td>\n",
       "      <td>1</td>\n",
       "      <td>1</td>\n",
       "    </tr>\n",
       "    <tr>\n",
       "      <th>39997</th>\n",
       "      <td>[100, 200, 200]</td>\n",
       "      <td>200</td>\n",
       "      <td>2</td>\n",
       "      <td>2</td>\n",
       "      <td>2</td>\n",
       "      <td>2</td>\n",
       "    </tr>\n",
       "    <tr>\n",
       "      <th>39998</th>\n",
       "      <td>[300, 500]</td>\n",
       "      <td>300</td>\n",
       "      <td>1</td>\n",
       "      <td>1</td>\n",
       "      <td>1</td>\n",
       "      <td>1</td>\n",
       "    </tr>\n",
       "    <tr>\n",
       "      <th>39999</th>\n",
       "      <td>[100, 100]</td>\n",
       "      <td>200</td>\n",
       "      <td>0</td>\n",
       "      <td>0</td>\n",
       "      <td>0</td>\n",
       "      <td>0</td>\n",
       "    </tr>\n",
       "  </tbody>\n",
       "</table>\n",
       "<p>40000 rows × 6 columns</p>\n",
       "</div>"
      ],
      "text/plain": [
       "       column_of_lists  scalar_col  new3  new1  new2  counts\n",
       "0      [100, 200, 300]         100     1     1     1       1\n",
       "1      [100, 200, 200]         200     2     2     2       2\n",
       "2           [300, 500]         300     1     1     1       1\n",
       "3           [100, 100]         200     0     0     0       0\n",
       "4      [100, 200, 300]         100     1     1     1       1\n",
       "...                ...         ...   ...   ...   ...     ...\n",
       "39995       [100, 100]         200     0     0     0       0\n",
       "39996  [100, 200, 300]         100     1     1     1       1\n",
       "39997  [100, 200, 200]         200     2     2     2       2\n",
       "39998       [300, 500]         300     1     1     1       1\n",
       "39999       [100, 100]         200     0     0     0       0\n",
       "\n",
       "[40000 rows x 6 columns]"
      ]
     },
     "execution_count": 277,
     "metadata": {},
     "output_type": "execute_result"
    }
   ],
   "source": [
    "df"
   ]
  },
  {
   "cell_type": "code",
   "execution_count": null,
   "id": "755c7434",
   "metadata": {},
   "outputs": [],
   "source": [
    "[[1, 2, 3], \n",
    " [1, 2, 6], \n",
    " [1, 5, 3], \n",
    " [1, 5, 6], \n",
    " [4, 2, 3], \n",
    " [4, 2, 6], \n",
    " [4, 5, 3], \n",
    " [4, 5, 6]]"
   ]
  },
  {
   "cell_type": "code",
   "execution_count": 303,
   "id": "5759d6b2",
   "metadata": {},
   "outputs": [],
   "source": [
    "from itertools import product"
   ]
  },
  {
   "cell_type": "code",
   "execution_count": null,
   "id": "bf2921ac",
   "metadata": {},
   "outputs": [],
   "source": [
    "lst = [[1, 2, 3], [4, 5, 6]]\n",
    "ist(product(*(zip(*lst))))"
   ]
  },
  {
   "cell_type": "code",
   "execution_count": 305,
   "id": "efb0d1a3",
   "metadata": {},
   "outputs": [
    {
     "data": {
      "text/plain": [
       "[(1, 2, 3),\n",
       " (1, 2, 6),\n",
       " (1, 5, 3),\n",
       " (1, 5, 6),\n",
       " (4, 2, 3),\n",
       " (4, 2, 6),\n",
       " (4, 5, 3),\n",
       " (4, 5, 6)]"
      ]
     },
     "execution_count": 305,
     "metadata": {},
     "output_type": "execute_result"
    }
   ],
   "source": []
  },
  {
   "cell_type": "code",
   "execution_count": 312,
   "id": "57ed43a3",
   "metadata": {},
   "outputs": [],
   "source": [
    "lst = [[1, 2, 3], \n",
    "       [4, 5, 6]]"
   ]
  },
  {
   "cell_type": "code",
   "execution_count": 415,
   "id": "ad9aaa5e",
   "metadata": {},
   "outputs": [
    {
     "data": {
      "text/plain": [
       "[(1, 2, 3),\n",
       " (1, 2, 6),\n",
       " (1, 5, 3),\n",
       " (1, 5, 6),\n",
       " (4, 2, 3),\n",
       " (4, 2, 6),\n",
       " (4, 5, 3),\n",
       " (4, 5, 6)]"
      ]
     },
     "execution_count": 415,
     "metadata": {},
     "output_type": "execute_result"
    }
   ],
   "source": [
    "list(product(*list(zip(*arr))))"
   ]
  },
  {
   "cell_type": "code",
   "execution_count": 431,
   "id": "b6c6523c",
   "metadata": {},
   "outputs": [
    {
     "data": {
      "text/plain": [
       "array([[2, 1, 3],\n",
       "       [5, 4, 6]])"
      ]
     },
     "execution_count": 431,
     "metadata": {},
     "output_type": "execute_result"
    }
   ],
   "source": [
    "arr = np.array(lst)[:,[1,0,2]]\n",
    "arr"
   ]
  },
  {
   "cell_type": "code",
   "execution_count": 434,
   "id": "8e9ac1e4",
   "metadata": {},
   "outputs": [
    {
     "data": {
      "text/plain": [
       "array([[1, 2, 3],\n",
       "       [1, 2, 6],\n",
       "       [4, 2, 3],\n",
       "       [4, 2, 6],\n",
       "       [1, 5, 3],\n",
       "       [1, 5, 6],\n",
       "       [4, 5, 3],\n",
       "       [4, 5, 6]])"
      ]
     },
     "execution_count": 434,
     "metadata": {},
     "output_type": "execute_result"
    }
   ],
   "source": [
    "import numpy as np\n",
    "\n",
    "arr = np.array(lst)\n",
    "np.stack(np.meshgrid(*arr.T),-1).reshape(-1,3)\n",
    "\n",
    "array([[1, 2, 3],\n",
    "       [1, 2, 6],\n",
    "       [4, 2, 3],\n",
    "       [4, 2, 6],\n",
    "       [1, 5, 3],\n",
    "       [1, 5, 6],\n",
    "       [4, 5, 3],\n",
    "       [4, 5, 6]])"
   ]
  },
  {
   "cell_type": "code",
   "execution_count": null,
   "id": "11425d85",
   "metadata": {},
   "outputs": [],
   "source": []
  },
  {
   "cell_type": "code",
   "execution_count": 435,
   "id": "6a414844",
   "metadata": {},
   "outputs": [
    {
     "data": {
      "text/plain": [
       "array([[1, 2, 3],\n",
       "       [1, 2, 6],\n",
       "       [1, 5, 3],\n",
       "       [1, 5, 6],\n",
       "       [4, 2, 3],\n",
       "       [4, 2, 6],\n",
       "       [4, 5, 3],\n",
       "       [4, 5, 6]])"
      ]
     },
     "execution_count": 435,
     "metadata": {},
     "output_type": "execute_result"
    }
   ],
   "source": [
    "import numpy as np\n",
    "\n",
    "order = [1,0,2]\n",
    "arr = np.array(lst)[:,order]\n",
    "np.stack(np.meshgrid(*arr.T),-1).reshape(-1,3)[:,order]\n",
    "\n",
    "array([[1, 2, 3],\n",
    "       [1, 2, 6],\n",
    "       [1, 5, 3],\n",
    "       [1, 5, 6],\n",
    "       [4, 2, 3],\n",
    "       [4, 2, 6],\n",
    "       [4, 5, 3],\n",
    "       [4, 5, 6]])"
   ]
  },
  {
   "cell_type": "code",
   "execution_count": 416,
   "id": "2a54ae2d",
   "metadata": {},
   "outputs": [
    {
     "data": {
      "text/plain": [
       "array([[1, 2, 3],\n",
       "       [1, 5, 3],\n",
       "       [1, 2, 6],\n",
       "       [1, 5, 6],\n",
       "       [4, 2, 3],\n",
       "       [4, 5, 3],\n",
       "       [4, 2, 6],\n",
       "       [4, 5, 6]])"
      ]
     },
     "execution_count": 416,
     "metadata": {},
     "output_type": "execute_result"
    }
   ],
   "source": []
  },
  {
   "cell_type": "code",
   "execution_count": null,
   "id": "66bf8e3a",
   "metadata": {},
   "outputs": [],
   "source": []
  },
  {
   "cell_type": "code",
   "execution_count": null,
   "id": "f9eb15af",
   "metadata": {},
   "outputs": [],
   "source": []
  },
  {
   "cell_type": "code",
   "execution_count": null,
   "id": "7af35812",
   "metadata": {},
   "outputs": [],
   "source": []
  },
  {
   "cell_type": "code",
   "execution_count": null,
   "id": "e587519d",
   "metadata": {},
   "outputs": [],
   "source": []
  },
  {
   "cell_type": "code",
   "execution_count": null,
   "id": "a0a5575a",
   "metadata": {},
   "outputs": [],
   "source": []
  },
  {
   "cell_type": "code",
   "execution_count": null,
   "id": "632710dc",
   "metadata": {},
   "outputs": [],
   "source": []
  },
  {
   "cell_type": "code",
   "execution_count": 345,
   "id": "ac85e02c",
   "metadata": {},
   "outputs": [
    {
     "ename": "AttributeError",
     "evalue": "'list' object has no attribute 'T'",
     "output_type": "error",
     "traceback": [
      "\u001b[0;31m---------------------------------------------------------------------------\u001b[0m",
      "\u001b[0;31mAttributeError\u001b[0m                            Traceback (most recent call last)",
      "Input \u001b[0;32mIn [345]\u001b[0m, in \u001b[0;36m<module>\u001b[0;34m\u001b[0m\n\u001b[0;32m----> 1\u001b[0m np\u001b[38;5;241m.\u001b[39mstack(\u001b[43mnp\u001b[49m\u001b[38;5;241;43m.\u001b[39;49m\u001b[43mmeshgrid\u001b[49m\u001b[43m(\u001b[49m\u001b[38;5;241;43m*\u001b[39;49m\u001b[43marr\u001b[49m\u001b[38;5;241;43m.\u001b[39;49m\u001b[43mT\u001b[49m\u001b[43m)\u001b[49m\u001b[38;5;241;43m.\u001b[39;49m\u001b[43mT\u001b[49m,\u001b[38;5;241m-\u001b[39m\u001b[38;5;241m1\u001b[39m)\u001b[38;5;241m.\u001b[39mreshape(\u001b[38;5;241m-\u001b[39m\u001b[38;5;241m1\u001b[39m,\u001b[38;5;241m3\u001b[39m)\n",
      "\u001b[0;31mAttributeError\u001b[0m: 'list' object has no attribute 'T'"
     ]
    }
   ],
   "source": [
    "np.stack(np.meshgrid(*arr.T).T,-1).reshape(-1,3)"
   ]
  },
  {
   "cell_type": "code",
   "execution_count": 381,
   "id": "0b3a832e",
   "metadata": {},
   "outputs": [
    {
     "data": {
      "text/plain": [
       "array([[3, 6],\n",
       "       [2, 5],\n",
       "       [1, 4]])"
      ]
     },
     "execution_count": 381,
     "metadata": {},
     "output_type": "execute_result"
    }
   ],
   "source": []
  },
  {
   "cell_type": "code",
   "execution_count": 410,
   "id": "72116797",
   "metadata": {},
   "outputs": [
    {
     "data": {
      "text/plain": [
       "array([[1, 4],\n",
       "       [2, 5],\n",
       "       [3, 6]])"
      ]
     },
     "execution_count": 410,
     "metadata": {},
     "output_type": "execute_result"
    }
   ],
   "source": [
    "arr.T"
   ]
  },
  {
   "cell_type": "code",
   "execution_count": 411,
   "id": "4405341e",
   "metadata": {},
   "outputs": [
    {
     "data": {
      "text/plain": [
       "array([[3, 6],\n",
       "       [2, 5],\n",
       "       [1, 4]])"
      ]
     },
     "execution_count": 411,
     "metadata": {},
     "output_type": "execute_result"
    }
   ],
   "source": [
    "np.fliplr(arr).T"
   ]
  },
  {
   "cell_type": "code",
   "execution_count": 414,
   "id": "7354ad40",
   "metadata": {},
   "outputs": [
    {
     "data": {
      "text/plain": [
       "array([[1, 2, 3],\n",
       "       [1, 5, 3],\n",
       "       [1, 2, 6],\n",
       "       [1, 5, 6],\n",
       "       [4, 2, 3],\n",
       "       [4, 5, 3],\n",
       "       [4, 2, 6],\n",
       "       [4, 5, 6]])"
      ]
     },
     "execution_count": 414,
     "metadata": {},
     "output_type": "execute_result"
    }
   ],
   "source": []
  },
  {
   "cell_type": "code",
   "execution_count": null,
   "id": "d418eca0",
   "metadata": {},
   "outputs": [],
   "source": []
  },
  {
   "cell_type": "code",
   "execution_count": null,
   "id": "5b13a96e",
   "metadata": {},
   "outputs": [],
   "source": []
  },
  {
   "cell_type": "code",
   "execution_count": null,
   "id": "18b1c3c1",
   "metadata": {},
   "outputs": [],
   "source": []
  },
  {
   "cell_type": "code",
   "execution_count": 386,
   "id": "24c84a92",
   "metadata": {},
   "outputs": [
    {
     "data": {
      "text/plain": [
       "[array([[[1, 1],\n",
       "         [4, 4]],\n",
       " \n",
       "        [[1, 1],\n",
       "         [4, 4]]]),\n",
       " array([[[2, 2],\n",
       "         [2, 2]],\n",
       " \n",
       "        [[5, 5],\n",
       "         [5, 5]]]),\n",
       " array([[[3, 6],\n",
       "         [3, 6]],\n",
       " \n",
       "        [[3, 6],\n",
       "         [3, 6]]])]"
      ]
     },
     "execution_count": 386,
     "metadata": {},
     "output_type": "execute_result"
    }
   ],
   "source": [
    "np.meshgrid(*arr.T)"
   ]
  },
  {
   "cell_type": "code",
   "execution_count": null,
   "id": "d2a53d5c",
   "metadata": {},
   "outputs": [],
   "source": []
  },
  {
   "cell_type": "code",
   "execution_count": 300,
   "id": "800312c4",
   "metadata": {},
   "outputs": [
    {
     "data": {
      "text/plain": [
       "array([[1, 2, 3],\n",
       "       [4, 5, 6]])"
      ]
     },
     "execution_count": 300,
     "metadata": {},
     "output_type": "execute_result"
    }
   ],
   "source": [
    "arr = np.array([[1, 2, 3], [4, 5, 6]])\n",
    "arr"
   ]
  },
  {
   "cell_type": "code",
   "execution_count": null,
   "id": "0911e1d2",
   "metadata": {},
   "outputs": [],
   "source": []
  },
  {
   "cell_type": "code",
   "execution_count": null,
   "id": "cfb58ad7",
   "metadata": {},
   "outputs": [],
   "source": []
  },
  {
   "cell_type": "code",
   "execution_count": 436,
   "id": "e6641f86",
   "metadata": {},
   "outputs": [],
   "source": [
    "df=pd.DataFrame({'person':['Sebastian','Sebastian','Sebastian', 'Maria', 'Maria', 'Maria', 'Achim','Achim','Achim'],'item':['house','garden','sink','sink','gold','house','stone','gold','wood']})"
   ]
  },
  {
   "cell_type": "code",
   "execution_count": 437,
   "id": "c53c44a6",
   "metadata": {},
   "outputs": [
    {
     "data": {
      "text/html": [
       "<div>\n",
       "<style scoped>\n",
       "    .dataframe tbody tr th:only-of-type {\n",
       "        vertical-align: middle;\n",
       "    }\n",
       "\n",
       "    .dataframe tbody tr th {\n",
       "        vertical-align: top;\n",
       "    }\n",
       "\n",
       "    .dataframe thead th {\n",
       "        text-align: right;\n",
       "    }\n",
       "</style>\n",
       "<table border=\"1\" class=\"dataframe\">\n",
       "  <thead>\n",
       "    <tr style=\"text-align: right;\">\n",
       "      <th></th>\n",
       "      <th>person</th>\n",
       "      <th>item</th>\n",
       "    </tr>\n",
       "  </thead>\n",
       "  <tbody>\n",
       "    <tr>\n",
       "      <th>0</th>\n",
       "      <td>Sebastian</td>\n",
       "      <td>house</td>\n",
       "    </tr>\n",
       "    <tr>\n",
       "      <th>1</th>\n",
       "      <td>Sebastian</td>\n",
       "      <td>garden</td>\n",
       "    </tr>\n",
       "    <tr>\n",
       "      <th>2</th>\n",
       "      <td>Sebastian</td>\n",
       "      <td>sink</td>\n",
       "    </tr>\n",
       "    <tr>\n",
       "      <th>3</th>\n",
       "      <td>Maria</td>\n",
       "      <td>sink</td>\n",
       "    </tr>\n",
       "    <tr>\n",
       "      <th>4</th>\n",
       "      <td>Maria</td>\n",
       "      <td>gold</td>\n",
       "    </tr>\n",
       "    <tr>\n",
       "      <th>5</th>\n",
       "      <td>Maria</td>\n",
       "      <td>house</td>\n",
       "    </tr>\n",
       "    <tr>\n",
       "      <th>6</th>\n",
       "      <td>Achim</td>\n",
       "      <td>stone</td>\n",
       "    </tr>\n",
       "    <tr>\n",
       "      <th>7</th>\n",
       "      <td>Achim</td>\n",
       "      <td>gold</td>\n",
       "    </tr>\n",
       "    <tr>\n",
       "      <th>8</th>\n",
       "      <td>Achim</td>\n",
       "      <td>wood</td>\n",
       "    </tr>\n",
       "  </tbody>\n",
       "</table>\n",
       "</div>"
      ],
      "text/plain": [
       "      person    item\n",
       "0  Sebastian   house\n",
       "1  Sebastian  garden\n",
       "2  Sebastian    sink\n",
       "3      Maria    sink\n",
       "4      Maria    gold\n",
       "5      Maria   house\n",
       "6      Achim   stone\n",
       "7      Achim    gold\n",
       "8      Achim    wood"
      ]
     },
     "execution_count": 437,
     "metadata": {},
     "output_type": "execute_result"
    }
   ],
   "source": [
    "df"
   ]
  },
  {
   "cell_type": "code",
   "execution_count": 614,
   "id": "55b3a4c5",
   "metadata": {
    "scrolled": true
   },
   "outputs": [
    {
     "name": "stdout",
     "output_type": "stream",
     "text": [
      "905 µs ± 12.3 µs per loop (mean ± std. dev. of 7 runs, 1,000 loops each)\n"
     ]
    }
   ],
   "source": [
    "%%timeit\n",
    "\n",
    "forbidden_item = 'gold'\n",
    "pivot = pd.get_dummies(df.set_index('person')['item']).groupby(level=0).max()\n",
    "result = pivot[pivot[forbidden_item]==0].index.tolist()\n",
    "\n"
   ]
  },
  {
   "cell_type": "code",
   "execution_count": 615,
   "id": "b5f39198",
   "metadata": {},
   "outputs": [
    {
     "name": "stdout",
     "output_type": "stream",
     "text": [
      "607 µs ± 1.97 µs per loop (mean ± std. dev. of 7 runs, 1,000 loops each)\n"
     ]
    }
   ],
   "source": [
    "%%timeit\n",
    "\n",
    "no_gold = df.groupby('person').apply(lambda x: (x['item'].ne('gold')).all())\n",
    "persons_no_gold = no_gold[no_gold].index.values"
   ]
  },
  {
   "cell_type": "code",
   "execution_count": null,
   "id": "4dd9719a",
   "metadata": {},
   "outputs": [],
   "source": []
  },
  {
   "cell_type": "code",
   "execution_count": 492,
   "id": "d7628663",
   "metadata": {},
   "outputs": [],
   "source": [
    "import functools\n",
    "import operator"
   ]
  },
  {
   "cell_type": "code",
   "execution_count": 498,
   "id": "3eda8234",
   "metadata": {
    "scrolled": true
   },
   "outputs": [],
   "source": [
    "l= [['/files/d2624a57c0de7129c5895ce13a34eddc'], \n",
    "    '/files/2f7d4fed1654fca61cef30a167b3b558', \n",
    "    '/files/71ee92e09c65bf3b2c90ae9a905873db']"
   ]
  },
  {
   "cell_type": "code",
   "execution_count": 503,
   "id": "a7f43b9f",
   "metadata": {},
   "outputs": [
    {
     "data": {
      "text/plain": [
       "['/files/d2624a57c0de7129c5895ce13a34eddc',\n",
       " '/files/2f7d4fed1654fca61cef30a167b3b558',\n",
       " '/files/71ee92e09c65bf3b2c90ae9a905873db']"
      ]
     },
     "execution_count": 503,
     "metadata": {},
     "output_type": "execute_result"
    }
   ],
   "source": [
    "from collections.abc import Iterable\n",
    "\n",
    "def flatten(xs):\n",
    "    for x in xs:\n",
    "        if isinstance(x, Iterable) and not isinstance(x, (str, bytes)):\n",
    "            yield from flatten(x)\n",
    "        else:\n",
    "            yield x\n",
    "            \n",
    "list(flatten(l))"
   ]
  },
  {
   "cell_type": "code",
   "execution_count": null,
   "id": "8a26ce43",
   "metadata": {},
   "outputs": [],
   "source": []
  },
  {
   "cell_type": "code",
   "execution_count": null,
   "id": "f9f8d65b",
   "metadata": {},
   "outputs": [],
   "source": []
  },
  {
   "cell_type": "code",
   "execution_count": 548,
   "id": "1e6f4a9c",
   "metadata": {},
   "outputs": [
    {
     "data": {
      "text/plain": [
       "array([[ 2,  1, -1, -1, -1],\n",
       "       [ 1,  4,  3, -1, -1],\n",
       "       [ 3,  1,  0, -1, -1]])"
      ]
     },
     "execution_count": 548,
     "metadata": {},
     "output_type": "execute_result"
    }
   ],
   "source": [
    "A = np.array([[ 2 ,1, -1, -1, -1],\n",
    "              [ 1 ,4,  3, -1, -1],\n",
    "              [ 3 ,1,  0, -1, -1]])\n",
    "A"
   ]
  },
  {
   "cell_type": "code",
   "execution_count": 547,
   "id": "9a8f1017",
   "metadata": {},
   "outputs": [
    {
     "data": {
      "text/plain": [
       "array([[0.7 , 0.4 , 1.5 , 2.  , 4.4 ],\n",
       "       [0.8 , 4.  , 0.3 , 0.11, 0.53],\n",
       "       [0.6 , 7.4 , 0.22, 0.71, 0.06]])"
      ]
     },
     "execution_count": 547,
     "metadata": {},
     "output_type": "execute_result"
    }
   ],
   "source": [
    "B = np.array([[ 0.7 ,0.4, 1.5  , 2.0  ,4.4 ],\n",
    "              [ 0.8 ,4.0,  0.3 , 0.11 ,0.53],\n",
    "              [ 0.6 ,7.4,  0.22, 0.71 ,0.06]])\n",
    "B"
   ]
  },
  {
   "cell_type": "code",
   "execution_count": 558,
   "id": "7743dea3",
   "metadata": {},
   "outputs": [
    {
     "data": {
      "text/plain": [
       "array([[0.7 , 0.4 , 0.  , 0.  , 0.  ],\n",
       "       [0.8 , 4.  , 0.3 , 0.  , 0.  ],\n",
       "       [0.6 , 7.4 , 0.22, 0.  , 0.  ]])"
      ]
     },
     "execution_count": 558,
     "metadata": {},
     "output_type": "execute_result"
    }
   ],
   "source": [
    "np.where(A==-1,0,B)"
   ]
  },
  {
   "cell_type": "code",
   "execution_count": 556,
   "id": "6baaa2c3",
   "metadata": {},
   "outputs": [
    {
     "data": {
      "text/plain": [
       "array([[ 2,  1, -1, -1, -1],\n",
       "       [ 1,  4,  3, -1, -1],\n",
       "       [ 3,  1,  0, -1, -1]])"
      ]
     },
     "execution_count": 556,
     "metadata": {},
     "output_type": "execute_result"
    }
   ],
   "source": [
    "A"
   ]
  },
  {
   "cell_type": "code",
   "execution_count": null,
   "id": "97e938b0",
   "metadata": {},
   "outputs": [],
   "source": []
  },
  {
   "cell_type": "code",
   "execution_count": 563,
   "id": "03f0a2e9",
   "metadata": {},
   "outputs": [
    {
     "data": {
      "text/plain": [
       "array([[0, 0, 0, 0, 0],\n",
       "       [1, 1, 1, 1, 1],\n",
       "       [2, 2, 2, 2, 2]])"
      ]
     },
     "execution_count": 563,
     "metadata": {},
     "output_type": "execute_result"
    }
   ],
   "source": []
  },
  {
   "cell_type": "code",
   "execution_count": null,
   "id": "8bc781d1",
   "metadata": {},
   "outputs": [],
   "source": []
  },
  {
   "cell_type": "code",
   "execution_count": 561,
   "id": "08e6aea5",
   "metadata": {},
   "outputs": [
    {
     "data": {
      "text/plain": [
       "array([[ True,  True, False, False, False],\n",
       "       [ True,  True,  True, False, False],\n",
       "       [ True,  True,  True, False, False]])"
      ]
     },
     "execution_count": 561,
     "metadata": {},
     "output_type": "execute_result"
    }
   ],
   "source": [
    "mask = A!=-1\n",
    "mask"
   ]
  },
  {
   "cell_type": "code",
   "execution_count": 611,
   "id": "9c5eb8a8",
   "metadata": {},
   "outputs": [
    {
     "data": {
      "text/plain": [
       "array([[0, 2],\n",
       "       [1, 1],\n",
       "       [2, 3],\n",
       "       [0, 1],\n",
       "       [1, 4],\n",
       "       [2, 1],\n",
       "       [1, 3],\n",
       "       [2, 0]])"
      ]
     },
     "execution_count": 611,
     "metadata": {},
     "output_type": "execute_result"
    }
   ],
   "source": [
    "idx = np.stack([np.indices(A.shape)[0], A]).transpose(2,1,0).reshape(-1,2)\n",
    "idx = idx[~(idx==-1).any(1)]\n",
    "idx"
   ]
  },
  {
   "cell_type": "code",
   "execution_count": 612,
   "id": "8bb78f88",
   "metadata": {},
   "outputs": [
    {
     "ename": "ValueError",
     "evalue": "Cross index must be 1 dimensional",
     "output_type": "error",
     "traceback": [
      "\u001b[0;31m---------------------------------------------------------------------------\u001b[0m",
      "\u001b[0;31mValueError\u001b[0m                                Traceback (most recent call last)",
      "Input \u001b[0;32mIn [612]\u001b[0m, in \u001b[0;36m<module>\u001b[0;34m\u001b[0m\n\u001b[0;32m----> 1\u001b[0m B[\u001b[43mnp\u001b[49m\u001b[38;5;241;43m.\u001b[39;49m\u001b[43mix_\u001b[49m\u001b[43m(\u001b[49m\u001b[43midx\u001b[49m\u001b[43m)\u001b[49m]\n",
      "File \u001b[0;32m<__array_function__ internals>:180\u001b[0m, in \u001b[0;36mix_\u001b[0;34m(*args, **kwargs)\u001b[0m\n",
      "File \u001b[0;32m/opt/homebrew/Caskroom/miniforge/base/lib/python3.9/site-packages/numpy/lib/index_tricks.py:102\u001b[0m, in \u001b[0;36mix_\u001b[0;34m(*args)\u001b[0m\n\u001b[1;32m    100\u001b[0m         new \u001b[38;5;241m=\u001b[39m new\u001b[38;5;241m.\u001b[39mastype(_nx\u001b[38;5;241m.\u001b[39mintp)\n\u001b[1;32m    101\u001b[0m \u001b[38;5;28;01mif\u001b[39;00m new\u001b[38;5;241m.\u001b[39mndim \u001b[38;5;241m!=\u001b[39m \u001b[38;5;241m1\u001b[39m:\n\u001b[0;32m--> 102\u001b[0m     \u001b[38;5;28;01mraise\u001b[39;00m \u001b[38;5;167;01mValueError\u001b[39;00m(\u001b[38;5;124m\"\u001b[39m\u001b[38;5;124mCross index must be 1 dimensional\u001b[39m\u001b[38;5;124m\"\u001b[39m)\n\u001b[1;32m    103\u001b[0m \u001b[38;5;28;01mif\u001b[39;00m issubdtype(new\u001b[38;5;241m.\u001b[39mdtype, _nx\u001b[38;5;241m.\u001b[39mbool_):\n\u001b[1;32m    104\u001b[0m     new, \u001b[38;5;241m=\u001b[39m new\u001b[38;5;241m.\u001b[39mnonzero()\n",
      "\u001b[0;31mValueError\u001b[0m: Cross index must be 1 dimensional"
     ]
    }
   ],
   "source": [
    "B[np.ix_(idx[0],idx[1])]"
   ]
  },
  {
   "cell_type": "code",
   "execution_count": null,
   "id": "95e60207",
   "metadata": {},
   "outputs": [],
   "source": []
  },
  {
   "cell_type": "code",
   "execution_count": 622,
   "id": "2cc9ec90",
   "metadata": {},
   "outputs": [
    {
     "data": {
      "text/plain": [
       "['0x10326e930', '0x10326e950', '0x10326e970']"
      ]
     },
     "execution_count": 622,
     "metadata": {},
     "output_type": "execute_result"
    }
   ],
   "source": [
    "a = [1,2,3]\n",
    "\n",
    "hex(id(a))\n",
    "\n",
    "'0x1778bff00'\n",
    "\n",
    "[hex(id(i)) for i in a]\n",
    "\n",
    "['0x10326e930', '0x10326e950', '0x10326e970']"
   ]
  },
  {
   "cell_type": "code",
   "execution_count": 623,
   "id": "1774aae8",
   "metadata": {},
   "outputs": [
    {
     "data": {
      "text/plain": [
       "['0x10326e930', '0x10326e950', '0x10326e970', '0x1778bff00']"
      ]
     },
     "execution_count": 623,
     "metadata": {},
     "output_type": "execute_result"
    }
   ],
   "source": [
    "b = [1,2,3,a]\n",
    "\n",
    "[hex(id(i)) for i in b]\n",
    "\n",
    "['0x10326e930', '0x10326e950', '0x10326e970', '0x1778bff00']"
   ]
  },
  {
   "cell_type": "code",
   "execution_count": 625,
   "id": "386c1e48",
   "metadata": {},
   "outputs": [],
   "source": [
    "b = [1,2,3,b]\n",
    "\n"
   ]
  },
  {
   "cell_type": "code",
   "execution_count": 627,
   "id": "b07351a8",
   "metadata": {},
   "outputs": [
    {
     "data": {
      "text/plain": [
       "'0x1590ad480'"
      ]
     },
     "execution_count": 627,
     "metadata": {},
     "output_type": "execute_result"
    }
   ],
   "source": []
  },
  {
   "cell_type": "code",
   "execution_count": 626,
   "id": "80c442dd",
   "metadata": {},
   "outputs": [
    {
     "data": {
      "text/plain": [
       "['0x10326e930', '0x10326e950', '0x10326e970', '0x17789f380']"
      ]
     },
     "execution_count": 626,
     "metadata": {},
     "output_type": "execute_result"
    }
   ],
   "source": [
    "b = [1,2,3,b]\n",
    "\n",
    "hex(id(b)) #'0x1590ad480'\n",
    "[hex(id(i)) for i in b]\n",
    "\n",
    "['0x10326e930', '0x10326e950', '0x10326e970', '0x17789f380']"
   ]
  },
  {
   "cell_type": "code",
   "execution_count": null,
   "id": "ffa60e7a",
   "metadata": {},
   "outputs": [],
   "source": []
  },
  {
   "cell_type": "code",
   "execution_count": 648,
   "id": "4008ae2d",
   "metadata": {},
   "outputs": [],
   "source": [
    "def f():\n",
    "    a = [1,2,3]"
   ]
  },
  {
   "cell_type": "code",
   "execution_count": 649,
   "id": "c3f0e85d",
   "metadata": {},
   "outputs": [
    {
     "name": "stdout",
     "output_type": "stream",
     "text": [
      "  2           0 BUILD_LIST               0\n",
      "              2 LOAD_CONST               1 ((1, 2, 3))\n",
      "              4 LIST_EXTEND              1\n",
      "              6 STORE_FAST               0 (a)\n",
      "              8 LOAD_CONST               0 (None)\n",
      "             10 RETURN_VALUE\n"
     ]
    }
   ],
   "source": [
    "import dis\n",
    "dis.dis(f)"
   ]
  },
  {
   "cell_type": "code",
   "execution_count": null,
   "id": "35fd8491",
   "metadata": {},
   "outputs": [],
   "source": []
  },
  {
   "cell_type": "code",
   "execution_count": null,
   "id": "020eddbf",
   "metadata": {},
   "outputs": [],
   "source": []
  },
  {
   "cell_type": "code",
   "execution_count": null,
   "id": "7ed772f2",
   "metadata": {},
   "outputs": [],
   "source": []
  },
  {
   "cell_type": "code",
   "execution_count": 650,
   "id": "2ce509bd",
   "metadata": {},
   "outputs": [
    {
     "data": {
      "text/html": [
       "<div>\n",
       "<style scoped>\n",
       "    .dataframe tbody tr th:only-of-type {\n",
       "        vertical-align: middle;\n",
       "    }\n",
       "\n",
       "    .dataframe tbody tr th {\n",
       "        vertical-align: top;\n",
       "    }\n",
       "\n",
       "    .dataframe thead th {\n",
       "        text-align: right;\n",
       "    }\n",
       "</style>\n",
       "<table border=\"1\" class=\"dataframe\">\n",
       "  <thead>\n",
       "    <tr style=\"text-align: right;\">\n",
       "      <th></th>\n",
       "      <th></th>\n",
       "      <th>0</th>\n",
       "      <th>1</th>\n",
       "      <th>2</th>\n",
       "      <th>3</th>\n",
       "    </tr>\n",
       "    <tr>\n",
       "      <th>index1</th>\n",
       "      <th>index2</th>\n",
       "      <th></th>\n",
       "      <th></th>\n",
       "      <th></th>\n",
       "      <th></th>\n",
       "    </tr>\n",
       "  </thead>\n",
       "  <tbody>\n",
       "    <tr>\n",
       "      <th rowspan=\"2\" valign=\"top\">bar</th>\n",
       "      <th>one</th>\n",
       "      <td>0.763661</td>\n",
       "      <td>-1.959814</td>\n",
       "      <td>-0.971977</td>\n",
       "      <td>-0.883897</td>\n",
       "    </tr>\n",
       "    <tr>\n",
       "      <th>two</th>\n",
       "      <td>1.238006</td>\n",
       "      <td>-0.978168</td>\n",
       "      <td>1.217761</td>\n",
       "      <td>0.920181</td>\n",
       "    </tr>\n",
       "    <tr>\n",
       "      <th rowspan=\"2\" valign=\"top\">baz</th>\n",
       "      <th>one</th>\n",
       "      <td>-0.266530</td>\n",
       "      <td>-0.958332</td>\n",
       "      <td>0.181648</td>\n",
       "      <td>-0.200252</td>\n",
       "    </tr>\n",
       "    <tr>\n",
       "      <th>two</th>\n",
       "      <td>-1.127552</td>\n",
       "      <td>0.462176</td>\n",
       "      <td>-0.349608</td>\n",
       "      <td>-1.245938</td>\n",
       "    </tr>\n",
       "    <tr>\n",
       "      <th rowspan=\"2\" valign=\"top\">foo</th>\n",
       "      <th>one</th>\n",
       "      <td>0.915507</td>\n",
       "      <td>0.122886</td>\n",
       "      <td>-0.204025</td>\n",
       "      <td>-1.448784</td>\n",
       "    </tr>\n",
       "    <tr>\n",
       "      <th>two</th>\n",
       "      <td>1.555195</td>\n",
       "      <td>-0.771137</td>\n",
       "      <td>-0.302535</td>\n",
       "      <td>0.523817</td>\n",
       "    </tr>\n",
       "    <tr>\n",
       "      <th rowspan=\"2\" valign=\"top\">qux</th>\n",
       "      <th>one</th>\n",
       "      <td>0.979383</td>\n",
       "      <td>1.564706</td>\n",
       "      <td>0.088528</td>\n",
       "      <td>-0.599288</td>\n",
       "    </tr>\n",
       "    <tr>\n",
       "      <th>two</th>\n",
       "      <td>-0.025379</td>\n",
       "      <td>-2.202081</td>\n",
       "      <td>-0.457303</td>\n",
       "      <td>-0.027301</td>\n",
       "    </tr>\n",
       "  </tbody>\n",
       "</table>\n",
       "</div>"
      ],
      "text/plain": [
       "                      0         1         2         3\n",
       "index1 index2                                        \n",
       "bar    one     0.763661 -1.959814 -0.971977 -0.883897\n",
       "       two     1.238006 -0.978168  1.217761  0.920181\n",
       "baz    one    -0.266530 -0.958332  0.181648 -0.200252\n",
       "       two    -1.127552  0.462176 -0.349608 -1.245938\n",
       "foo    one     0.915507  0.122886 -0.204025 -1.448784\n",
       "       two     1.555195 -0.771137 -0.302535  0.523817\n",
       "qux    one     0.979383  1.564706  0.088528 -0.599288\n",
       "       two    -0.025379 -2.202081 -0.457303 -0.027301"
      ]
     },
     "execution_count": 650,
     "metadata": {},
     "output_type": "execute_result"
    }
   ],
   "source": [
    "import numpy as np\n",
    "arrays = [\n",
    "    np.array([\"bar\", \"bar\", \"baz\", \"baz\", \"foo\", \"foo\", \"qux\", \"qux\"]),\n",
    "    np.array([\"one\", \"two\", \"one\", \"two\", \"one\", \"two\", \"one\", \"two\"]),\n",
    "]\n",
    "s = pd.Series(np.random.randn(8), index=arrays)\n",
    "df = pd.DataFrame(np.random.randn(8, 4), index=arrays)\n",
    "df.index.names = ['index1', 'index2']\n",
    "df"
   ]
  },
  {
   "cell_type": "code",
   "execution_count": null,
   "id": "0ed3c5e6",
   "metadata": {},
   "outputs": [],
   "source": []
  }
 ],
 "metadata": {
  "kernelspec": {
   "display_name": "Python 3.9",
   "language": "python",
   "name": "python3"
  },
  "language_info": {
   "codemirror_mode": {
    "name": "ipython",
    "version": 3
   },
   "file_extension": ".py",
   "mimetype": "text/x-python",
   "name": "python",
   "nbconvert_exporter": "python",
   "pygments_lexer": "ipython3",
   "version": "3.9.7"
  },
  "varInspector": {
   "cols": {
    "lenName": 16,
    "lenType": 16,
    "lenVar": 40
   },
   "kernels_config": {
    "python": {
     "delete_cmd_postfix": "",
     "delete_cmd_prefix": "del ",
     "library": "var_list.py",
     "varRefreshCmd": "print(var_dic_list())"
    },
    "r": {
     "delete_cmd_postfix": ") ",
     "delete_cmd_prefix": "rm(",
     "library": "var_list.r",
     "varRefreshCmd": "cat(var_dic_list()) "
    }
   },
   "types_to_exclude": [
    "module",
    "function",
    "builtin_function_or_method",
    "instance",
    "_Feature"
   ],
   "window_display": false
  }
 },
 "nbformat": 4,
 "nbformat_minor": 5
}
