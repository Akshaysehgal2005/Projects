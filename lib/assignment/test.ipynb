{
 "cells": [
  {
   "cell_type": "code",
   "execution_count": null,
   "id": "a88e7cee",
   "metadata": {},
   "outputs": [],
   "source": [
    "import sys\n",
    "package_path = \"/Users/akshay/Library/CloudStorage/GoogleDrive-akshaysehgal2005@gmail.com/My Drive/1. Projects/Data Science/Public/lib\"\n",
    "sys.path.insert(0, package_path)\n",
    "from package import *"
   ]
  },
  {
   "cell_type": "code",
   "execution_count": 12,
   "id": "7d1745fe",
   "metadata": {},
   "outputs": [
    {
     "ename": "ImportError",
     "evalue": "attempted relative import with no known parent package",
     "output_type": "error",
     "traceback": [
      "\u001b[0;31m---------------------------------------------------------------------------\u001b[0m",
      "\u001b[0;31mImportError\u001b[0m                               Traceback (most recent call last)",
      "Input \u001b[0;32mIn [12]\u001b[0m, in \u001b[0;36m<module>\u001b[0;34m\u001b[0m\n\u001b[0;32m----> 1\u001b[0m \u001b[38;5;28;01mfrom\u001b[39;00m \u001b[38;5;21;01m.\u001b[39;00m\u001b[38;5;21;01m.\u001b[39;00m\u001b[38;5;21;01mModule\u001b[39;00m\u001b[38;5;21;01m.\u001b[39;00m\u001b[38;5;21;01mmodule\u001b[39;00m \u001b[38;5;28;01mimport\u001b[39;00m \u001b[38;5;241m*\u001b[39m\n",
      "\u001b[0;31mImportError\u001b[0m: attempted relative import with no known parent package"
     ]
    }
   ],
   "source": [
    "from ..Module.module import *"
   ]
  },
  {
   "cell_type": "code",
   "execution_count": 14,
   "id": "a6e51871",
   "metadata": {},
   "outputs": [
    {
     "name": "stdout",
     "output_type": "stream",
     "text": [
      "In module products sys.path[0], __package__ == /Users/akshay/Library/CloudStorage/GoogleDrive-akshaysehgal2005@gmail.com/My Drive/1. Projects/Data Science/Public/lib/assignment None\n"
     ]
    }
   ],
   "source": [
    "import sys    \n",
    "print(\"In module products sys.path[0], __package__ ==\", sys.path[0], __package__)"
   ]
  },
  {
   "cell_type": "code",
   "execution_count": null,
   "id": "2b9e9009",
   "metadata": {},
   "outputs": [],
   "source": []
  },
  {
   "cell_type": "code",
   "execution_count": 16,
   "id": "df532086",
   "metadata": {},
   "outputs": [],
   "source": [
    "import dis"
   ]
  },
  {
   "cell_type": "code",
   "execution_count": 19,
   "id": "e06caed0",
   "metadata": {},
   "outputs": [],
   "source": [
    "class car():\n",
    "    def __init__(self, name, color):\n",
    "        self.name = name\n",
    "        self.color = color\n",
    "        \n",
    "    def get_mileage(self, miles, gallons):\n",
    "        self.mileage = miles/gallons\n",
    "        return self.mileage\n",
    "    \n",
    "\n",
    "def create_object(car):\n",
    "    a = car('maruti','white')\n",
    "    mil = a.get_mileage(1000,30)\n",
    "    return a, mil"
   ]
  },
  {
   "cell_type": "code",
   "execution_count": 26,
   "id": "1d17c712",
   "metadata": {},
   "outputs": [
    {
     "name": "stdout",
     "output_type": "stream",
     "text": [
      " 12           0 LOAD_FAST                0 (car)\n",
      "              2 LOAD_CONST               1 ('maruti')\n",
      "              4 LOAD_CONST               2 ('white')\n",
      "              6 CALL_FUNCTION            2\n",
      "              8 STORE_FAST               1 (a)\n",
      "\n",
      " 13          10 LOAD_FAST                1 (a)\n",
      "             12 LOAD_METHOD              0 (get_mileage)\n",
      "             14 LOAD_CONST               3 (1000)\n",
      "             16 LOAD_CONST               4 (30)\n",
      "             18 CALL_METHOD              2\n",
      "             20 STORE_FAST               2 (mil)\n",
      "\n",
      " 14          22 LOAD_FAST                1 (a)\n",
      "             24 LOAD_FAST                2 (mil)\n",
      "             26 BUILD_TUPLE              2\n",
      "             28 RETURN_VALUE\n"
     ]
    }
   ],
   "source": [
    "dis.dis(create_object)"
   ]
  },
  {
   "cell_type": "code",
   "execution_count": 25,
   "id": "f91c0a01",
   "metadata": {},
   "outputs": [
    {
     "name": "stdout",
     "output_type": "stream",
     "text": [
      "Disassembly of __init__:\n",
      "  3           0 LOAD_FAST                1 (name)\n",
      "              2 LOAD_FAST                0 (self)\n",
      "              4 STORE_ATTR               0 (name)\n",
      "\n",
      "  4           6 LOAD_FAST                2 (color)\n",
      "              8 LOAD_FAST                0 (self)\n",
      "             10 STORE_ATTR               1 (color)\n",
      "             12 LOAD_CONST               0 (None)\n",
      "             14 RETURN_VALUE\n",
      "\n",
      "Disassembly of get_mileage:\n",
      "  7           0 LOAD_FAST                1 (miles)\n",
      "              2 LOAD_FAST                2 (gallons)\n",
      "              4 BINARY_TRUE_DIVIDE\n",
      "              6 LOAD_FAST                0 (self)\n",
      "              8 STORE_ATTR               0 (mileage)\n",
      "\n",
      "  8          10 LOAD_FAST                0 (self)\n",
      "             12 LOAD_ATTR                0 (mileage)\n",
      "             14 RETURN_VALUE\n",
      "\n"
     ]
    }
   ],
   "source": [
    "dis.dis(car)"
   ]
  },
  {
   "cell_type": "code",
   "execution_count": null,
   "id": "905a04d7",
   "metadata": {},
   "outputs": [],
   "source": []
  },
  {
   "cell_type": "code",
   "execution_count": null,
   "id": "9352c5f4",
   "metadata": {},
   "outputs": [],
   "source": [
    "setattr()"
   ]
  },
  {
   "cell_type": "code",
   "execution_count": null,
   "id": "8e2603d0",
   "metadata": {},
   "outputs": [],
   "source": []
  },
  {
   "cell_type": "code",
   "execution_count": 59,
   "id": "12a9219a",
   "metadata": {},
   "outputs": [
    {
     "data": {
      "text/plain": [
       "{'model': 'unet',\n",
       " 'encoder_name': 'resnet18',\n",
       " 'encoder_weights': 'imagenet',\n",
       " 'in_channels': 3,\n",
       " 'num_classes': 10,\n",
       " 'loss': 'jaccard',\n",
       " 'ignore_index': 0,\n",
       " 'learning_rate': 10000.0,\n",
       " 'learning_rate_schedule_patience': 10,\n",
       " 'ignore_zeros': True}"
      ]
     },
     "execution_count": 59,
     "metadata": {},
     "output_type": "execute_result"
    }
   ],
   "source": [
    "class trainer():\n",
    "    \n",
    "    def __init__(self, model=\"unet\", encoder_name=\"resnet18\", encoder_weights=\"imagenet\",\n",
    "              in_channels=3, num_classes=1, loss=\"jaccard\",\n",
    "              ignore_index=0, learning_rate=1e4, learning_rate_schedule_patience=10,\n",
    "              ignore_zeros=True):\n",
    "        \n",
    "        # Loop through params and setattr\n",
    "        for k,v in locals().items():\n",
    "            if k!='self':\n",
    "                setattr(self, k, v)\n",
    "                \n",
    "                \n",
    "trainer(num_classes=10).__dict__"
   ]
  },
  {
   "cell_type": "code",
   "execution_count": null,
   "id": "13cd7123",
   "metadata": {},
   "outputs": [],
   "source": []
  },
  {
   "cell_type": "code",
   "execution_count": null,
   "id": "74514aa9",
   "metadata": {},
   "outputs": [],
   "source": []
  },
  {
   "cell_type": "code",
   "execution_count": null,
   "id": "83a9e2c8",
   "metadata": {},
   "outputs": [],
   "source": []
  },
  {
   "cell_type": "code",
   "execution_count": null,
   "id": "18c5cdd1",
   "metadata": {},
   "outputs": [],
   "source": []
  },
  {
   "cell_type": "code",
   "execution_count": null,
   "id": "389df043",
   "metadata": {},
   "outputs": [],
   "source": []
  },
  {
   "cell_type": "code",
   "execution_count": null,
   "id": "28d7f031",
   "metadata": {},
   "outputs": [],
   "source": []
  },
  {
   "cell_type": "code",
   "execution_count": 60,
   "id": "d4fdfe57",
   "metadata": {},
   "outputs": [],
   "source": [
    "def bubbleSort(arr: list):\n",
    "    for _ in range(len(arr)-1):\n",
    "        stop = False\n",
    "        for i in range(len(arr)-1):\n",
    "            if arr[i] > arr[i+1]:\n",
    "                arr[i], arr[i+1] = arr[i+1], arr[i]\n",
    "                stop = True\n",
    "        if not stop:\n",
    "            return arr\n",
    "    return arr    \n",
    "\n",
    "def insertionSort(arr: list):\n",
    "    for i in range(1, len(arr)):\n",
    "        anchor = arr[i]\n",
    "        j = i - 1\n",
    "        while j >= 0 and anchor < arr[j]:\n",
    "            arr[j+1] = arr[j]\n",
    "            j -= 1\n",
    "        arr[j+1] = anchor\n",
    "    return arr\n",
    "\n",
    "def mergeSort(original: list):\n",
    "    if len(original) <= 1:\n",
    "        return original\n",
    "    def mergeSortHelper(arr1: list, arr2: list, original: list):\n",
    "        i = j = k = 0\n",
    "        while i < len(arr1) and j < len(arr2):\n",
    "            if arr1[i] > arr2[j]:\n",
    "                original[k] = arr2[j]\n",
    "                j += 1\n",
    "            else:\n",
    "                original[k] = arr1[i]\n",
    "                i += 1\n",
    "            k += 1\n",
    "        while i < len(arr1):\n",
    "            original[k] = arr1[i]\n",
    "            i += 1\n",
    "            k += 1\n",
    "        while j < len(arr2):\n",
    "            original[k] = arr2[j]\n",
    "            j += 1\n",
    "            k += 1\n",
    "        return original\n",
    "    arr1 = original[:len(original)//2]\n",
    "    arr2 = original[len(original)//2:]\n",
    "    if len(arr1) == 1 and len(arr2) == 1:\n",
    "        return mergeSortHelper(arr1, arr2, original)\n",
    "    return mergeSortHelper(mergeSort(arr1), mergeSort(arr2), original)\n",
    "\n",
    "def quickSort(arr: list):\n",
    "    if len(arr) <= 1:\n",
    "        return arr\n",
    "    pivot, i = arr[-1], 0\n",
    "    pivot_ndx = arr.index(pivot)\n",
    "    while i < pivot_ndx:\n",
    "        while pivot < arr[i]:\n",
    "            pivot_ndx = arr.index(pivot)\n",
    "            arr[i], arr[pivot_ndx], arr[pivot_ndx-1] = arr[pivot_ndx-1], arr[i], pivot\n",
    "        i += 1\n",
    "    return quickSort(arr[:arr.index(pivot)])+[pivot]+quickSort(arr[arr.index(pivot)+1:])"
   ]
  },
  {
   "cell_type": "code",
   "execution_count": null,
   "id": "733f0d25",
   "metadata": {},
   "outputs": [],
   "source": []
  },
  {
   "cell_type": "code",
   "execution_count": 71,
   "id": "543fdb08",
   "metadata": {},
   "outputs": [
    {
     "data": {
      "application/vnd.jupyter.widget-view+json": {
       "model_id": "3b56765ca2ac437ca31c14aa5dd120a6",
       "version_major": 2,
       "version_minor": 0
      },
      "text/plain": [
       "Output()"
      ]
     },
     "metadata": {},
     "output_type": "display_data"
    },
    {
     "data": {
      "text/html": [
       "<pre style=\"white-space:pre;overflow-x:auto;line-height:normal;font-family:Menlo,'DejaVu Sans Mono',consolas,'Courier New',monospace\"></pre>\n"
      ],
      "text/plain": []
     },
     "metadata": {},
     "output_type": "display_data"
    },
    {
     "data": {
      "text/html": [
       "<pre style=\"white-space:pre;overflow-x:auto;line-height:normal;font-family:Menlo,'DejaVu Sans Mono',consolas,'Courier New',monospace\">\n",
       "</pre>\n"
      ],
      "text/plain": [
       "\n"
      ]
     },
     "metadata": {},
     "output_type": "display_data"
    },
    {
     "data": {
      "image/png": "[encoded data removed]",
      "text/plain": [
       "<Figure size 432x288 with 1 Axes>"
      ]
     },
     "metadata": {
      "needs_background": "dark"
     },
     "output_type": "display_data"
    }
   ],
   "source": [
    "import perfplot\n",
    "import numpy as np\n",
    "\n",
    "perfplot.show(\n",
    "    setup = lambda n: np.random.randint(0,1000,(n,)).tolist(),\n",
    "    kernels = [bubbleSort, insertionSort, mergeSort, quickSort],\n",
    "    labels = [\"bubbleSort\", \"insertionSort\", \"mergeSort\", \"quickSort\"],\n",
    "    n_range= [k*10 for k in range(1,50)],\n",
    "    xlabel=\"n\"\n",
    ")"
   ]
  },
  {
   "cell_type": "code",
   "execution_count": 74,
   "id": "336438d8",
   "metadata": {},
   "outputs": [
    {
     "data": {
      "text/plain": [
       "[100,\n",
       " 200,\n",
       " 300,\n",
       " 400,\n",
       " 500,\n",
       " 600,\n",
       " 700,\n",
       " 800,\n",
       " 900,\n",
       " 1000,\n",
       " 1100,\n",
       " 1200,\n",
       " 1300,\n",
       " 1400,\n",
       " 1500,\n",
       " 1600,\n",
       " 1700,\n",
       " 1800,\n",
       " 1900,\n",
       " 2000,\n",
       " 2100,\n",
       " 2200,\n",
       " 2300,\n",
       " 2400,\n",
       " 2500,\n",
       " 2600,\n",
       " 2700,\n",
       " 2800,\n",
       " 2900,\n",
       " 3000,\n",
       " 3100,\n",
       " 3200,\n",
       " 3300,\n",
       " 3400,\n",
       " 3500,\n",
       " 3600,\n",
       " 3700,\n",
       " 3800,\n",
       " 3900,\n",
       " 4000,\n",
       " 4100,\n",
       " 4200,\n",
       " 4300,\n",
       " 4400,\n",
       " 4500,\n",
       " 4600,\n",
       " 4700,\n",
       " 4800,\n",
       " 4900]"
      ]
     },
     "execution_count": 74,
     "metadata": {},
     "output_type": "execute_result"
    }
   ],
   "source": [
    "[k*100 for k in range(1,50)]\n",
    "\n",
    "length = [100, 200, ..., 4800, 4900]"
   ]
  },
  {
   "cell_type": "code",
   "execution_count": 72,
   "id": "30669402",
   "metadata": {},
   "outputs": [
    {
     "data": {
      "text/plain": [
       "[10,\n",
       " 20,\n",
       " 30,\n",
       " 40,\n",
       " 50,\n",
       " 60,\n",
       " 70,\n",
       " 80,\n",
       " 90,\n",
       " 100,\n",
       " 110,\n",
       " 120,\n",
       " 130,\n",
       " 140,\n",
       " 150,\n",
       " 160,\n",
       " 170,\n",
       " 180,\n",
       " 190,\n",
       " 200,\n",
       " 210,\n",
       " 220,\n",
       " 230,\n",
       " 240,\n",
       " 250,\n",
       " 260,\n",
       " 270,\n",
       " 280,\n",
       " 290,\n",
       " 300,\n",
       " 310,\n",
       " 320,\n",
       " 330,\n",
       " 340,\n",
       " 350,\n",
       " 360,\n",
       " 370,\n",
       " 380,\n",
       " 390,\n",
       " 400,\n",
       " 410,\n",
       " 420,\n",
       " 430,\n",
       " 440,\n",
       " 450,\n",
       " 460,\n",
       " 470,\n",
       " 480,\n",
       " 490]"
      ]
     },
     "execution_count": 72,
     "metadata": {},
     "output_type": "execute_result"
    }
   ],
   "source": [
    "[k*10 for k in range(1,50)]\n",
    "\n",
    "length = [10, 20, ..., 480, 490]"
   ]
  },
  {
   "cell_type": "code",
   "execution_count": null,
   "id": "fa2dd69c",
   "metadata": {},
   "outputs": [],
   "source": []
  }
 ],
 "metadata": {
  "kernelspec": {
   "display_name": "Python 3.9",
   "language": "python",
   "name": "python3"
  },
  "language_info": {
   "codemirror_mode": {
    "name": "ipython",
    "version": 3
   },
   "file_extension": ".py",
   "mimetype": "text/x-python",
   "name": "python",
   "nbconvert_exporter": "python",
   "pygments_lexer": "ipython3",
   "version": "3.9.7"
  },
  "varInspector": {
   "cols": {
    "lenName": 16,
    "lenType": 16,
    "lenVar": 40
   },
   "kernels_config": {
    "python": {
     "delete_cmd_postfix": "",
     "delete_cmd_prefix": "del ",
     "library": "var_list.py",
     "varRefreshCmd": "print(var_dic_list())"
    },
    "r": {
     "delete_cmd_postfix": ") ",
     "delete_cmd_prefix": "rm(",
     "library": "var_list.r",
     "varRefreshCmd": "cat(var_dic_list()) "
    }
   },
   "types_to_exclude": [
    "module",
    "function",
    "builtin_function_or_method",
    "instance",
    "_Feature"
   ],
   "window_display": false
  }
 },
 "nbformat": 4,
 "nbformat_minor": 5
}
